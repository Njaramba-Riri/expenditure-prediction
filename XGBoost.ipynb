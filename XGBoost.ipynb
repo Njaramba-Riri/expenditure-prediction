{
 "cells": [
  {
   "cell_type": "code",
   "execution_count": 1,
   "id": "17057796-513e-4e1c-8cfa-3b7d30e7ed91",
   "metadata": {},
   "outputs": [],
   "source": [
    "import xgboost as xgb\n",
    "from sklearn.utils.class_weight import compute_class_weight\n",
    "from sklearn.model_selection import train_test_split, StratifiedKFold\n",
    "from sklearn.preprocessing import LabelEncoder\n",
    "from sklearn.metrics import classification_report, f1_score, recall_score, precision_score, confusion_matrix\n",
    "from pipelines import preprocessor, preprocessor2"
   ]
  },
  {
   "cell_type": "code",
   "execution_count": 7,
   "id": "f827fed1-771b-4e5e-ac8e-66545008a39f",
   "metadata": {},
   "outputs": [
    {
     "data": {
      "application/javascript": [
       "\n",
       "        if (window._pyforest_update_imports_cell) { window._pyforest_update_imports_cell('import pandas as pd'); }\n",
       "    "
      ],
      "text/plain": [
       "<IPython.core.display.Javascript object>"
      ]
     },
     "metadata": {},
     "output_type": "display_data"
    },
    {
     "data": {
      "text/plain": [
       "(18506, 21)"
      ]
     },
     "execution_count": 7,
     "metadata": {},
     "output_type": "execute_result"
    }
   ],
   "source": [
    "train=pd.read_csv('Datasets/train.csv')\n",
    "train.shape"
   ]
  },
  {
   "cell_type": "code",
   "execution_count": 8,
   "id": "64b2e949-3c9f-4ba6-a428-6925f0426ef0",
   "metadata": {},
   "outputs": [
    {
     "data": {
      "text/plain": [
       "array([[0., 0., 1., ..., 6., 0., 0.],\n",
       "       [0., 1., 0., ..., 1., 9., 7.],\n",
       "       [0., 0., 0., ..., 1., 8., 7.],\n",
       "       ...,\n",
       "       [0., 1., 0., ..., 1., 8., 7.],\n",
       "       [0., 1., 0., ..., 1., 3., 4.],\n",
       "       [0., 1., 0., ..., 6., 9., 0.]])"
      ]
     },
     "execution_count": 8,
     "metadata": {},
     "output_type": "execute_result"
    }
   ],
   "source": [
    "X=preprocessor2(train)\n",
    "X"
   ]
  },
  {
   "cell_type": "code",
   "execution_count": 9,
   "id": "57fef921-d454-46ba-9bac-f65a3ac3b269",
   "metadata": {},
   "outputs": [
    {
     "data": {
      "text/plain": [
       "(18506, 35)"
      ]
     },
     "execution_count": 9,
     "metadata": {},
     "output_type": "execute_result"
    }
   ],
   "source": [
    "\n",
    "X.shape"
   ]
  },
  {
   "cell_type": "code",
   "execution_count": 23,
   "id": "9fb563ca-4188-474c-8669-1f4a18bbef70",
   "metadata": {},
   "outputs": [
    {
     "data": {
      "text/plain": [
       "(18506,)"
      ]
     },
     "execution_count": 23,
     "metadata": {},
     "output_type": "execute_result"
    }
   ],
   "source": [
    "y= train.iloc[:, -1]\n",
    "y.shape"
   ]
  },
  {
   "cell_type": "code",
   "execution_count": 24,
   "id": "0230dbb4-bdea-45f1-ae35-91cb76f230b1",
   "metadata": {},
   "outputs": [
    {
     "data": {
      "text/plain": [
       "array([0, 0, 1, ..., 1, 1, 3])"
      ]
     },
     "execution_count": 24,
     "metadata": {},
     "output_type": "execute_result"
    }
   ],
   "source": [
    "le=LabelEncoder()\n",
    "y=le.fit_transform(y)\n",
    "y"
   ]
  },
  {
   "cell_type": "code",
   "execution_count": 26,
   "id": "4a986254-07bb-4ca9-a9d0-94bcdae56bfb",
   "metadata": {},
   "outputs": [
    {
     "data": {
      "text/plain": [
       "['High Cost',\n",
       " 'Higher Cost',\n",
       " 'Highest Cost',\n",
       " 'Low Cost',\n",
       " 'Lower Cost',\n",
       " 'Normal Cost']"
      ]
     },
     "execution_count": 26,
     "metadata": {},
     "output_type": "execute_result"
    }
   ],
   "source": [
    "list(le.classes_)"
   ]
  },
  {
   "cell_type": "code",
   "execution_count": 27,
   "id": "cf09c92b-f453-42d1-b342-20751940379e",
   "metadata": {},
   "outputs": [
    {
     "data": {
      "text/plain": [
       "array(['High Cost', 'High Cost', 'Higher Cost', ..., 'Higher Cost',\n",
       "       'Higher Cost', 'Low Cost'], dtype=object)"
      ]
     },
     "execution_count": 27,
     "metadata": {},
     "output_type": "execute_result"
    }
   ],
   "source": [
    "z=le.inverse_transform(y)\n",
    "z"
   ]
  },
  {
   "cell_type": "code",
   "execution_count": null,
   "id": "80326cd0-fc6d-4832-baf7-15d99e8398b3",
   "metadata": {},
   "outputs": [],
   "source": [
    "X_train, X_test, y_train, y_test=train_test_split(X, y, shuffle=True, )"
   ]
  },
  {
   "cell_type": "code",
   "execution_count": null,
   "id": "072ab336-e605-40a8-9950-b7b30e60807a",
   "metadata": {},
   "outputs": [],
   "source": [
    "xgb=XGBClassifier(n_extimators=200.\n",
    "                 max_depth=8,\n",
    "                 learning_rate=1.0)\n"
   ]
  }
 ],
 "metadata": {
  "kernelspec": {
   "display_name": "Python 3 (ipykernel)",
   "language": "python",
   "name": "python3"
  },
  "language_info": {
   "codemirror_mode": {
    "name": "ipython",
    "version": 3
   },
   "file_extension": ".py",
   "mimetype": "text/x-python",
   "name": "python",
   "nbconvert_exporter": "python",
   "pygments_lexer": "ipython3",
   "version": "3.9.16"
  }
 },
 "nbformat": 4,
 "nbformat_minor": 5
}
