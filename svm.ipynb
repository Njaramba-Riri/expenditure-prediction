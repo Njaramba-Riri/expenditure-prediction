{
 "cells": [
  {
   "cell_type": "code",
   "execution_count": 9,
   "id": "9a311142-98ec-4bab-9991-940dda5f7778",
   "metadata": {},
   "outputs": [],
   "source": [
    "from sklearn.model_selection import train_test_split, StratifiedKFold\n",
    "from sklearn.preprocessing import LabelEncoder\n",
    "from sklearn.metrics import classification_report, f1_score, recall_score, precision_score, confusion_matrix\n",
    "\n",
    "from sklearn.svm import SVC \n",
    "from pipelines import preprocessor, preprocessor2\n",
    "from preprocess import extra_features, separate"
   ]
  },
  {
   "cell_type": "code",
   "execution_count": 2,
   "id": "546ebb09-107e-4c7e-8224-6757d727f847",
   "metadata": {},
   "outputs": [
    {
     "data": {
      "application/javascript": [
       "\n",
       "        if (window._pyforest_update_imports_cell) { window._pyforest_update_imports_cell('import pandas as pd'); }\n",
       "    "
      ],
      "text/plain": [
       "<IPython.core.display.Javascript object>"
      ]
     },
     "metadata": {},
     "output_type": "display_data"
    },
    {
     "data": {
      "text/html": [
       "<div>\n",
       "<style scoped>\n",
       "    .dataframe tbody tr th:only-of-type {\n",
       "        vertical-align: middle;\n",
       "    }\n",
       "\n",
       "    .dataframe tbody tr th {\n",
       "        vertical-align: top;\n",
       "    }\n",
       "\n",
       "    .dataframe thead th {\n",
       "        text-align: right;\n",
       "    }\n",
       "</style>\n",
       "<table border=\"1\" class=\"dataframe\">\n",
       "  <thead>\n",
       "    <tr style=\"text-align: right;\">\n",
       "      <th></th>\n",
       "      <th>Tour_ID</th>\n",
       "      <th>country</th>\n",
       "      <th>age_group</th>\n",
       "      <th>travel_with</th>\n",
       "      <th>total_female</th>\n",
       "      <th>total_male</th>\n",
       "      <th>purpose</th>\n",
       "      <th>main_activity</th>\n",
       "      <th>info_source</th>\n",
       "      <th>tour_arrangement</th>\n",
       "      <th>...</th>\n",
       "      <th>package_accomodation</th>\n",
       "      <th>package_food</th>\n",
       "      <th>package_transport_tz</th>\n",
       "      <th>package_sightseeing</th>\n",
       "      <th>package_guided_tour</th>\n",
       "      <th>package_insurance</th>\n",
       "      <th>night_mainland</th>\n",
       "      <th>night_zanzibar</th>\n",
       "      <th>first_trip_tz</th>\n",
       "      <th>cost_category</th>\n",
       "    </tr>\n",
       "  </thead>\n",
       "  <tbody>\n",
       "    <tr>\n",
       "      <th>0</th>\n",
       "      <td>tour_id1hffseyw</td>\n",
       "      <td>ITALY</td>\n",
       "      <td>45-64</td>\n",
       "      <td>With Children</td>\n",
       "      <td>0.0</td>\n",
       "      <td>2.0</td>\n",
       "      <td>Visiting Friends and Relatives</td>\n",
       "      <td>Beach Tourism</td>\n",
       "      <td>Friends, relatives</td>\n",
       "      <td>Package Tour</td>\n",
       "      <td>...</td>\n",
       "      <td>Yes</td>\n",
       "      <td>Yes</td>\n",
       "      <td>Yes</td>\n",
       "      <td>No</td>\n",
       "      <td>No</td>\n",
       "      <td>No</td>\n",
       "      <td>0</td>\n",
       "      <td>7</td>\n",
       "      <td>Yes</td>\n",
       "      <td>High Cost</td>\n",
       "    </tr>\n",
       "    <tr>\n",
       "      <th>1</th>\n",
       "      <td>tour_idnacd7zag</td>\n",
       "      <td>UNITED KINGDOM</td>\n",
       "      <td>25-44</td>\n",
       "      <td>With Spouse</td>\n",
       "      <td>1.0</td>\n",
       "      <td>1.0</td>\n",
       "      <td>Leisure and Holidays</td>\n",
       "      <td>Wildlife Tourism</td>\n",
       "      <td>Travel agent, tour operator</td>\n",
       "      <td>Package Tour</td>\n",
       "      <td>...</td>\n",
       "      <td>Yes</td>\n",
       "      <td>Yes</td>\n",
       "      <td>Yes</td>\n",
       "      <td>No</td>\n",
       "      <td>No</td>\n",
       "      <td>No</td>\n",
       "      <td>0</td>\n",
       "      <td>7</td>\n",
       "      <td>Yes</td>\n",
       "      <td>High Cost</td>\n",
       "    </tr>\n",
       "  </tbody>\n",
       "</table>\n",
       "<p>2 rows × 21 columns</p>\n",
       "</div>"
      ],
      "text/plain": [
       "           Tour_ID         country age_group    travel_with  total_female  \\\n",
       "0  tour_id1hffseyw           ITALY     45-64  With Children           0.0   \n",
       "1  tour_idnacd7zag  UNITED KINGDOM     25-44    With Spouse           1.0   \n",
       "\n",
       "   total_male                         purpose     main_activity  \\\n",
       "0         2.0  Visiting Friends and Relatives     Beach Tourism   \n",
       "1         1.0            Leisure and Holidays  Wildlife Tourism   \n",
       "\n",
       "                   info_source tour_arrangement  ... package_accomodation  \\\n",
       "0           Friends, relatives     Package Tour  ...                  Yes   \n",
       "1  Travel agent, tour operator     Package Tour  ...                  Yes   \n",
       "\n",
       "  package_food package_transport_tz package_sightseeing package_guided_tour  \\\n",
       "0          Yes                  Yes                  No                  No   \n",
       "1          Yes                  Yes                  No                  No   \n",
       "\n",
       "  package_insurance night_mainland  night_zanzibar  first_trip_tz  \\\n",
       "0                No              0               7            Yes   \n",
       "1                No              0               7            Yes   \n",
       "\n",
       "  cost_category  \n",
       "0     High Cost  \n",
       "1     High Cost  \n",
       "\n",
       "[2 rows x 21 columns]"
      ]
     },
     "execution_count": 2,
     "metadata": {},
     "output_type": "execute_result"
    }
   ],
   "source": [
    "train=pd.read_csv('Datasets/train.csv')\n",
    "train.head(2)"
   ]
  },
  {
   "cell_type": "code",
   "execution_count": 3,
   "id": "563d8c46-cea5-4066-adbe-9299cf4b2b1f",
   "metadata": {},
   "outputs": [
    {
     "name": "stdout",
     "output_type": "stream",
     "text": [
      "Target Column: ['cost_category']\n",
      "\n",
      "Numerical Columns: ['night_mainland', 'night_zanzibar']\n",
      "\n",
      "Categorical Columns: ['age_group', 'travel_with', 'tour_arrangement', 'package_transport_int', 'package_accomodation', 'package_food', 'package_transport_tz', 'package_sightseeing', 'package_guided_tour', 'package_insurance', 'first_trip_tz']\n",
      "\n",
      "Text Columns: ['country', 'purpose', 'main_activity', 'info_source']\n"
     ]
    }
   ],
   "source": [
    "separate(train)"
   ]
  },
  {
   "cell_type": "code",
   "execution_count": 4,
   "id": "df034f1a-39c6-4527-89bf-2d249838a586",
   "metadata": {},
   "outputs": [],
   "source": [
    "X=preprocessor2(train)"
   ]
  },
  {
   "cell_type": "code",
   "execution_count": 5,
   "id": "17b3e8e5-61f2-42e1-97f0-e0cea26a2168",
   "metadata": {},
   "outputs": [
    {
     "data": {
      "text/plain": [
       "(18506, 34)"
      ]
     },
     "execution_count": 5,
     "metadata": {},
     "output_type": "execute_result"
    }
   ],
   "source": [
    "X.shape"
   ]
  },
  {
   "cell_type": "code",
   "execution_count": 11,
   "id": "8b3cee8a-431b-48ca-8771-d251be04bb75",
   "metadata": {},
   "outputs": [
    {
     "data": {
      "text/plain": [
       "array([0, 0, 1, ..., 1, 1, 3])"
      ]
     },
     "execution_count": 11,
     "metadata": {},
     "output_type": "execute_result"
    }
   ],
   "source": [
    "y=train['cost_category']\n",
    "\n",
    "le=LabelEncoder()\n",
    "y=le.fit_transform(y)\n",
    "y"
   ]
  },
  {
   "cell_type": "code",
   "execution_count": 12,
   "id": "6a51d7c0-aba4-47e9-8071-26bfc47e871d",
   "metadata": {},
   "outputs": [],
   "source": [
    "X_train,X_test,y_train,y_test=train_test_split(X, y, shuffle=True, random_state=1)"
   ]
  },
  {
   "cell_type": "code",
   "execution_count": 23,
   "id": "46111357-ee0a-4c32-994b-7ee911ec8a9c",
   "metadata": {},
   "outputs": [],
   "source": [
    "kfold=StratifiedKFold(n_splits=10, shuffle=True, random_state=1)\n",
    "\n",
    "for fold, (train_idx,val_idx) in enumerate(kfold.split(X,y)):\n",
    "        X_train, X_val= X[train_idx], X[val_idx]\n",
    "        y_train, y_val=y[train_idx], y[val_idx]"
   ]
  },
  {
   "cell_type": "code",
   "execution_count": null,
   "id": "6936972e-654b-44b1-b367-5cc7e8cf1e72",
   "metadata": {},
   "outputs": [],
   "source": [
    "cl=SVC(gamma=\"auto\", kernel='linear')\n",
    "cl.fit(X_train, y_train)"
   ]
  },
  {
   "cell_type": "code",
   "execution_count": null,
   "id": "0dd0c115-a944-4b94-9519-6d00e9cd23f6",
   "metadata": {},
   "outputs": [],
   "source": [
    "y_pred=cl.predict(X_val)"
   ]
  },
  {
   "cell_type": "code",
   "execution_count": null,
   "id": "738e78cf-0e68-4953-8981-5b14de19bc83",
   "metadata": {},
   "outputs": [],
   "source": [
    "print(classification_report(y_val, y_pred, target_names=le.classes_))"
   ]
  },
  {
   "cell_type": "code",
   "execution_count": 22,
   "id": "744be7cc-8830-4cd0-98df-165648df9ae5",
   "metadata": {},
   "outputs": [
    {
     "ename": "AttributeError",
     "evalue": "'StratifiedKFold' object has no attribute 'fit'",
     "output_type": "error",
     "traceback": [
      "\u001b[1;31m---------------------------------------------------------------------------\u001b[0m",
      "\u001b[1;31mAttributeError\u001b[0m                            Traceback (most recent call last)",
      "\u001b[1;32m~\\AppData\\Local\\Temp\\ipykernel_7252\\2235951863.py\u001b[0m in \u001b[0;36m<module>\u001b[1;34m\u001b[0m\n\u001b[1;32m----> 1\u001b[1;33m \u001b[0mscores\u001b[0m\u001b[1;33m.\u001b[0m\u001b[0mfit\u001b[0m\u001b[1;33m(\u001b[0m\u001b[0mcl\u001b[0m\u001b[1;33m,\u001b[0m \u001b[0mX_train\u001b[0m\u001b[1;33m,\u001b[0m \u001b[0my_train\u001b[0m\u001b[1;33m)\u001b[0m\u001b[1;33m\u001b[0m\u001b[1;33m\u001b[0m\u001b[0m\n\u001b[0m",
      "\u001b[1;31mAttributeError\u001b[0m: 'StratifiedKFold' object has no attribute 'fit'"
     ]
    }
   ],
   "source": [
    "scores.fit(cl, X_train, y_train)"
   ]
  },
  {
   "cell_type": "code",
   "execution_count": null,
   "id": "80244dc9-1f05-4e44-9f6d-c74eaffc96a6",
   "metadata": {},
   "outputs": [],
   "source": []
  }
 ],
 "metadata": {
  "kernelspec": {
   "display_name": "Python 3 (ipykernel)",
   "language": "python",
   "name": "python3"
  },
  "language_info": {
   "codemirror_mode": {
    "name": "ipython",
    "version": 3
   },
   "file_extension": ".py",
   "mimetype": "text/x-python",
   "name": "python",
   "nbconvert_exporter": "python",
   "pygments_lexer": "ipython3",
   "version": "3.9.16"
  }
 },
 "nbformat": 4,
 "nbformat_minor": 5
}
