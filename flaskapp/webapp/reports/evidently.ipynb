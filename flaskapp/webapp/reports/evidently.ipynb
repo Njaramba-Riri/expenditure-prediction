{
 "cells": [
  {
   "cell_type": "code",
   "execution_count": 2,
   "id": "8c13f2f5",
   "metadata": {},
   "outputs": [],
   "source": [
    "import datetime\n",
    "\n",
    "import pandas as pd\n",
    "\n",
    "import plotly.express as px\n",
    "from sklearn import datasets\n",
    "\n",
    "from evidently.metrics import ColumnDriftMetric\n",
    "from evidently.metrics import ColumnSummaryMetric\n",
    "from evidently.metrics import DatasetDriftMetric\n",
    "from evidently.metrics import DatasetMissingValuesMetric\n",
    "from evidently.report import Report\n",
    "from evidently.test_preset import DataDriftTestPreset\n",
    "from evidently.test_suite import TestSuite\n",
    "from evidently import ui\n",
    "from evidently.ui.dashboards import CounterAgg\n",
    "from evidently.ui.dashboards import DashboardPanelCounter\n",
    "from evidently.ui.dashboards import DashboardPanelPlot\n",
    "from evidently.ui.dashboards import PanelValue\n",
    "from evidently.ui.dashboards import PlotType\n",
    "from evidently.ui.dashboards import ReportFilter\n",
    "from evidently.ui.remote import RemoteWorkspace\n",
    "from evidently.ui.workspace import Workspace\n",
    "from evidently.ui.workspace import WorkspaceBase\n"
   ]
  },
  {
   "cell_type": "code",
   "execution_count": 3,
   "id": "0890d9aa",
   "metadata": {},
   "outputs": [],
   "source": [
    "expend = pd.read_csv(\"/home/riri/Desktop/expenditure/Datasets/Train.csv\")\n",
    "expend.drop(\"Tour_ID\", axis=1, inplace=True)\n",
    "expend_ref = expend[~expend.cost_category.isin([\"Higher Cost\", \"Lower Cost\", \"Highest Cost\"])]\n",
    "expend_cur = expend[expend.cost_category.isin([\"Higher Cost\", \"Lower Cost\", \"Highest Cost\"])]"
   ]
  },
  {
   "cell_type": "code",
   "execution_count": 4,
   "id": "4911ab60",
   "metadata": {},
   "outputs": [
    {
     "ename": "ValueError",
     "evalue": "Mime type rendering requires nbformat>=4.2.0 but it is not installed",
     "output_type": "error",
     "traceback": [
      "\u001b[0;31m---------------------------------------------------------------------------\u001b[0m",
      "\u001b[0;31mValueError\u001b[0m                                Traceback (most recent call last)",
      "Cell \u001b[0;32mIn[4], line 3\u001b[0m\n\u001b[1;32m      1\u001b[0m fig \u001b[38;5;241m=\u001b[39m px\u001b[38;5;241m.\u001b[39mline(expend_ref, x\u001b[38;5;241m=\u001b[39m\u001b[38;5;124m'\u001b[39m\u001b[38;5;124mtotal_male\u001b[39m\u001b[38;5;124m'\u001b[39m, y\u001b[38;5;241m=\u001b[39m[\u001b[38;5;124m'\u001b[39m\u001b[38;5;124mtotal_female\u001b[39m\u001b[38;5;124m'\u001b[39m, \u001b[38;5;124m'\u001b[39m\u001b[38;5;124mnight_mainland\u001b[39m\u001b[38;5;124m'\u001b[39m, \u001b[38;5;124m'\u001b[39m\u001b[38;5;124mnight_zanzibar\u001b[39m\u001b[38;5;124m'\u001b[39m])\n\u001b[1;32m      2\u001b[0m fig\u001b[38;5;241m.\u001b[39mupdate_xaxes(rangeslider_visible\u001b[38;5;241m=\u001b[39m\u001b[38;5;28;01mTrue\u001b[39;00m)\n\u001b[0;32m----> 3\u001b[0m \u001b[43mfig\u001b[49m\u001b[38;5;241;43m.\u001b[39;49m\u001b[43mshow\u001b[49m\u001b[43m(\u001b[49m\u001b[43m)\u001b[49m\n",
      "File \u001b[0;32m~/Desktop/expenditure/venv/lib/python3.10/site-packages/plotly/basedatatypes.py:3410\u001b[0m, in \u001b[0;36mBaseFigure.show\u001b[0;34m(self, *args, **kwargs)\u001b[0m\n\u001b[1;32m   3377\u001b[0m \u001b[38;5;250m\u001b[39m\u001b[38;5;124;03m\"\"\"\u001b[39;00m\n\u001b[1;32m   3378\u001b[0m \u001b[38;5;124;03mShow a figure using either the default renderer(s) or the renderer(s)\u001b[39;00m\n\u001b[1;32m   3379\u001b[0m \u001b[38;5;124;03mspecified by the renderer argument\u001b[39;00m\n\u001b[0;32m   (...)\u001b[0m\n\u001b[1;32m   3406\u001b[0m \u001b[38;5;124;03mNone\u001b[39;00m\n\u001b[1;32m   3407\u001b[0m \u001b[38;5;124;03m\"\"\"\u001b[39;00m\n\u001b[1;32m   3408\u001b[0m \u001b[38;5;28;01mimport\u001b[39;00m \u001b[38;5;21;01mplotly\u001b[39;00m\u001b[38;5;21;01m.\u001b[39;00m\u001b[38;5;21;01mio\u001b[39;00m \u001b[38;5;28;01mas\u001b[39;00m \u001b[38;5;21;01mpio\u001b[39;00m\n\u001b[0;32m-> 3410\u001b[0m \u001b[38;5;28;01mreturn\u001b[39;00m \u001b[43mpio\u001b[49m\u001b[38;5;241;43m.\u001b[39;49m\u001b[43mshow\u001b[49m\u001b[43m(\u001b[49m\u001b[38;5;28;43mself\u001b[39;49m\u001b[43m,\u001b[49m\u001b[43m \u001b[49m\u001b[38;5;241;43m*\u001b[39;49m\u001b[43margs\u001b[49m\u001b[43m,\u001b[49m\u001b[43m \u001b[49m\u001b[38;5;241;43m*\u001b[39;49m\u001b[38;5;241;43m*\u001b[39;49m\u001b[43mkwargs\u001b[49m\u001b[43m)\u001b[49m\n",
      "File \u001b[0;32m~/Desktop/expenditure/venv/lib/python3.10/site-packages/plotly/io/_renderers.py:394\u001b[0m, in \u001b[0;36mshow\u001b[0;34m(fig, renderer, validate, **kwargs)\u001b[0m\n\u001b[1;32m    389\u001b[0m         \u001b[38;5;28;01mraise\u001b[39;00m \u001b[38;5;167;01mValueError\u001b[39;00m(\n\u001b[1;32m    390\u001b[0m             \u001b[38;5;124m\"\u001b[39m\u001b[38;5;124mMime type rendering requires ipython but it is not installed\u001b[39m\u001b[38;5;124m\"\u001b[39m\n\u001b[1;32m    391\u001b[0m         )\n\u001b[1;32m    393\u001b[0m     \u001b[38;5;28;01mif\u001b[39;00m \u001b[38;5;129;01mnot\u001b[39;00m nbformat \u001b[38;5;129;01mor\u001b[39;00m Version(nbformat\u001b[38;5;241m.\u001b[39m__version__) \u001b[38;5;241m<\u001b[39m Version(\u001b[38;5;124m\"\u001b[39m\u001b[38;5;124m4.2.0\u001b[39m\u001b[38;5;124m\"\u001b[39m):\n\u001b[0;32m--> 394\u001b[0m         \u001b[38;5;28;01mraise\u001b[39;00m \u001b[38;5;167;01mValueError\u001b[39;00m(\n\u001b[1;32m    395\u001b[0m             \u001b[38;5;124m\"\u001b[39m\u001b[38;5;124mMime type rendering requires nbformat>=4.2.0 but it is not installed\u001b[39m\u001b[38;5;124m\"\u001b[39m\n\u001b[1;32m    396\u001b[0m         )\n\u001b[1;32m    398\u001b[0m     ipython_display\u001b[38;5;241m.\u001b[39mdisplay(bundle, raw\u001b[38;5;241m=\u001b[39m\u001b[38;5;28;01mTrue\u001b[39;00m)\n\u001b[1;32m    400\u001b[0m \u001b[38;5;66;03m# external renderers\u001b[39;00m\n",
      "\u001b[0;31mValueError\u001b[0m: Mime type rendering requires nbformat>=4.2.0 but it is not installed"
     ]
    }
   ],
   "source": [
    "fig = px.line(expend_ref, x='total_male', y=['total_female', 'night_mainland', 'night_zanzibar'])\n",
    "fig.update_xaxes(rangeslider_visible=True)\n",
    "fig.show()"
   ]
  },
  {
   "cell_type": "code",
   "execution_count": 5,
   "id": "69488d7e",
   "metadata": {},
   "outputs": [
    {
     "ename": "ValueError",
     "evalue": "Mime type rendering requires nbformat>=4.2.0 but it is not installed",
     "output_type": "error",
     "traceback": [
      "\u001b[0;31m---------------------------------------------------------------------------\u001b[0m",
      "\u001b[0;31mValueError\u001b[0m                                Traceback (most recent call last)",
      "Cell \u001b[0;32mIn[5], line 3\u001b[0m\n\u001b[1;32m      1\u001b[0m fig \u001b[38;5;241m=\u001b[39m px\u001b[38;5;241m.\u001b[39mdensity_mapbox(expend_ref, \u001b[38;5;124m'\u001b[39m\u001b[38;5;124mnight_mainland\u001b[39m\u001b[38;5;124m'\u001b[39m, \u001b[38;5;124m'\u001b[39m\u001b[38;5;124mtotal_male\u001b[39m\u001b[38;5;124m'\u001b[39m)\n\u001b[1;32m      2\u001b[0m fig\u001b[38;5;241m.\u001b[39mupdate_xaxes(rangeslider_visible\u001b[38;5;241m=\u001b[39m\u001b[38;5;28;01mTrue\u001b[39;00m)\n\u001b[0;32m----> 3\u001b[0m \u001b[43mfig\u001b[49m\u001b[38;5;241;43m.\u001b[39;49m\u001b[43mshow\u001b[49m\u001b[43m(\u001b[49m\u001b[43m)\u001b[49m\n",
      "File \u001b[0;32m~/Desktop/expenditure/venv/lib/python3.10/site-packages/plotly/basedatatypes.py:3410\u001b[0m, in \u001b[0;36mBaseFigure.show\u001b[0;34m(self, *args, **kwargs)\u001b[0m\n\u001b[1;32m   3377\u001b[0m \u001b[38;5;250m\u001b[39m\u001b[38;5;124;03m\"\"\"\u001b[39;00m\n\u001b[1;32m   3378\u001b[0m \u001b[38;5;124;03mShow a figure using either the default renderer(s) or the renderer(s)\u001b[39;00m\n\u001b[1;32m   3379\u001b[0m \u001b[38;5;124;03mspecified by the renderer argument\u001b[39;00m\n\u001b[0;32m   (...)\u001b[0m\n\u001b[1;32m   3406\u001b[0m \u001b[38;5;124;03mNone\u001b[39;00m\n\u001b[1;32m   3407\u001b[0m \u001b[38;5;124;03m\"\"\"\u001b[39;00m\n\u001b[1;32m   3408\u001b[0m \u001b[38;5;28;01mimport\u001b[39;00m \u001b[38;5;21;01mplotly\u001b[39;00m\u001b[38;5;21;01m.\u001b[39;00m\u001b[38;5;21;01mio\u001b[39;00m \u001b[38;5;28;01mas\u001b[39;00m \u001b[38;5;21;01mpio\u001b[39;00m\n\u001b[0;32m-> 3410\u001b[0m \u001b[38;5;28;01mreturn\u001b[39;00m \u001b[43mpio\u001b[49m\u001b[38;5;241;43m.\u001b[39;49m\u001b[43mshow\u001b[49m\u001b[43m(\u001b[49m\u001b[38;5;28;43mself\u001b[39;49m\u001b[43m,\u001b[49m\u001b[43m \u001b[49m\u001b[38;5;241;43m*\u001b[39;49m\u001b[43margs\u001b[49m\u001b[43m,\u001b[49m\u001b[43m \u001b[49m\u001b[38;5;241;43m*\u001b[39;49m\u001b[38;5;241;43m*\u001b[39;49m\u001b[43mkwargs\u001b[49m\u001b[43m)\u001b[49m\n",
      "File \u001b[0;32m~/Desktop/expenditure/venv/lib/python3.10/site-packages/plotly/io/_renderers.py:394\u001b[0m, in \u001b[0;36mshow\u001b[0;34m(fig, renderer, validate, **kwargs)\u001b[0m\n\u001b[1;32m    389\u001b[0m         \u001b[38;5;28;01mraise\u001b[39;00m \u001b[38;5;167;01mValueError\u001b[39;00m(\n\u001b[1;32m    390\u001b[0m             \u001b[38;5;124m\"\u001b[39m\u001b[38;5;124mMime type rendering requires ipython but it is not installed\u001b[39m\u001b[38;5;124m\"\u001b[39m\n\u001b[1;32m    391\u001b[0m         )\n\u001b[1;32m    393\u001b[0m     \u001b[38;5;28;01mif\u001b[39;00m \u001b[38;5;129;01mnot\u001b[39;00m nbformat \u001b[38;5;129;01mor\u001b[39;00m Version(nbformat\u001b[38;5;241m.\u001b[39m__version__) \u001b[38;5;241m<\u001b[39m Version(\u001b[38;5;124m\"\u001b[39m\u001b[38;5;124m4.2.0\u001b[39m\u001b[38;5;124m\"\u001b[39m):\n\u001b[0;32m--> 394\u001b[0m         \u001b[38;5;28;01mraise\u001b[39;00m \u001b[38;5;167;01mValueError\u001b[39;00m(\n\u001b[1;32m    395\u001b[0m             \u001b[38;5;124m\"\u001b[39m\u001b[38;5;124mMime type rendering requires nbformat>=4.2.0 but it is not installed\u001b[39m\u001b[38;5;124m\"\u001b[39m\n\u001b[1;32m    396\u001b[0m         )\n\u001b[1;32m    398\u001b[0m     ipython_display\u001b[38;5;241m.\u001b[39mdisplay(bundle, raw\u001b[38;5;241m=\u001b[39m\u001b[38;5;28;01mTrue\u001b[39;00m)\n\u001b[1;32m    400\u001b[0m \u001b[38;5;66;03m# external renderers\u001b[39;00m\n",
      "\u001b[0;31mValueError\u001b[0m: Mime type rendering requires nbformat>=4.2.0 but it is not installed"
     ]
    }
   ],
   "source": [
    "fig = px.density_mapbox(expend_ref, 'night_mainland', 'total_male')\n",
    "fig.update_xaxes(rangeslider_visible=True)\n",
    "fig.show()"
   ]
  },
  {
   "cell_type": "code",
   "execution_count": 6,
   "id": "ebdd4900",
   "metadata": {},
   "outputs": [
    {
     "data": {
      "text/plain": [
       "((10715, 20), (7791, 20))"
      ]
     },
     "execution_count": 6,
     "metadata": {},
     "output_type": "execute_result"
    }
   ],
   "source": [
    "expend_ref.shape, expend_cur.shape"
   ]
  },
  {
   "cell_type": "code",
   "execution_count": 7,
   "id": "b954b7ba",
   "metadata": {},
   "outputs": [],
   "source": [
    "WORKSPACE = \"expenditure\"\n",
    "\n",
    "YOUR_PROJECT_NAME = \"Tourist Expenditure Prediction\"\n",
    "YOUR_PROJECT_DESCRIPTION = \"Leveraging the power of ML to uncover the underlying patterns that influence tourist spending.\""
   ]
  },
  {
   "cell_type": "code",
   "execution_count": 8,
   "id": "8c5104b6",
   "metadata": {},
   "outputs": [],
   "source": [
    "def create_report(i: int):\n",
    "    data_drift_report = Report(\n",
    "        metrics=[\n",
    "            DatasetDriftMetric(),\n",
    "            DatasetMissingValuesMetric(),\n",
    "            ColumnDriftMetric(column_name=\"total_male\", stattest=\"wasserstein\"),\n",
    "            ColumnSummaryMetric(column_name=\"total_male\"),\n",
    "            ColumnDriftMetric(column_name=\"purpose\", stattest=\"wasserstein\"),\n",
    "            ColumnSummaryMetric(column_name=\"purpose\"),\n",
    "        ],\n",
    "        timestamp=datetime.datetime.now() + datetime.timedelta(days=i),\n",
    "    )\n",
    "\n",
    "    data_drift_report.run(reference_data=expend_ref, current_data=expend_cur.iloc[100 * i : 100 * (i + 1), :])\n",
    "    return data_drift_report"
   ]
  },
  {
   "cell_type": "code",
   "execution_count": 9,
   "id": "fd1f213f",
   "metadata": {},
   "outputs": [],
   "source": [
    "def create_test_suite(i: int):\n",
    "    data_drift_test_suite = TestSuite(\n",
    "        tests=[DataDriftTestPreset()],\n",
    "        timestamp=datetime.datetime.now() + datetime.timedelta(days=i),\n",
    "    )\n",
    "\n",
    "    data_drift_test_suite.run(reference_data=expend_ref, current_data=expend_cur.iloc[100 * i : 100 * (i + 1), :])\n",
    "    return data_drift_test_suite"
   ]
  },
  {
   "cell_type": "code",
   "execution_count": 10,
   "id": "f51a8641",
   "metadata": {},
   "outputs": [],
   "source": [
    "def create_project(workspace: WorkspaceBase):\n",
    "    project = workspace.create_project(YOUR_PROJECT_NAME)\n",
    "    project.description = YOUR_PROJECT_DESCRIPTION\n",
    "    project.dashboard.add_panel(\n",
    "        DashboardPanelCounter(\n",
    "            filter=ReportFilter(metadata_values={}, tag_values=[]),\n",
    "            agg=CounterAgg.NONE,\n",
    "            title=\"Tourist Spending Category\",\n",
    "        )\n",
    "    )\n",
    "    project.dashboard.add_panel(\n",
    "        DashboardPanelCounter(\n",
    "            title=\"Model Calls\",\n",
    "            filter=ReportFilter(metadata_values={}, tag_values=[]),\n",
    "            value=PanelValue(\n",
    "                metric_id=\"DatasetMissingValuesMetric\",\n",
    "                field_path=DatasetMissingValuesMetric.fields.current.number_of_rows,\n",
    "                legend=\"count\",\n",
    "            ),\n",
    "            text=\"count\",\n",
    "            agg=CounterAgg.SUM,\n",
    "            size=1,\n",
    "        )\n",
    "    )\n",
    "    project.dashboard.add_panel(\n",
    "        DashboardPanelCounter(\n",
    "            title=\"Share of Drifted Features\",\n",
    "            filter=ReportFilter(metadata_values={}, tag_values=[]),\n",
    "            value=PanelValue(\n",
    "                metric_id=\"DatasetDriftMetric\",\n",
    "                field_path=\"share_of_drifted_columns\",\n",
    "                legend=\"share\",\n",
    "            ),\n",
    "            text=\"share\",\n",
    "            agg=CounterAgg.LAST,\n",
    "            size=1,\n",
    "        )\n",
    "    )\n",
    "    project.dashboard.add_panel(\n",
    "        DashboardPanelPlot(\n",
    "            title=\"Dataset Quality\",\n",
    "            filter=ReportFilter(metadata_values={}, tag_values=[]),\n",
    "            values=[\n",
    "                PanelValue(metric_id=\"DatasetDriftMetric\", field_path=\"share_of_drifted_columns\", legend=\"Drift Share\"),\n",
    "                PanelValue(\n",
    "                    metric_id=\"DatasetMissingValuesMetric\",\n",
    "                    field_path=DatasetMissingValuesMetric.fields.current.share_of_missing_values,\n",
    "                    legend=\"Missing Values Share\",\n",
    "                ),\n",
    "            ],\n",
    "            plot_type=PlotType.LINE,\n",
    "        )\n",
    "    )\n",
    "    project.dashboard.add_panel(\n",
    "        DashboardPanelPlot(\n",
    "            title=\"total_male: Wasserstein drift distance\",\n",
    "            filter=ReportFilter(metadata_values={}, tag_values=[]),\n",
    "            values=[\n",
    "                PanelValue(\n",
    "                    metric_id=\"ColumnDriftMetric\",\n",
    "                    metric_args={\"column_name.name\": \"total_male\"},\n",
    "                    field_path=ColumnDriftMetric.fields.drift_score,\n",
    "                    legend=\"Drift Score\",\n",
    "                ),\n",
    "            ],\n",
    "            plot_type=PlotType.BAR,\n",
    "            size=1,\n",
    "        )\n",
    "    )\n",
    "    project.dashboard.add_panel(\n",
    "        DashboardPanelPlot(\n",
    "            title=\"purpose: Wasserstein drift distance\",\n",
    "            filter=ReportFilter(metadata_values={}, tag_values=[]),\n",
    "            values=[\n",
    "                PanelValue(\n",
    "                    metric_id=\"ColumnDriftMetric\",\n",
    "                    metric_args={\"column_name.name\": \"purpose\"},\n",
    "                    field_path=ColumnDriftMetric.fields.drift_score,\n",
    "                    legend=\"Drift Score\",\n",
    "                ),\n",
    "            ],\n",
    "            plot_type=PlotType.BAR,\n",
    "            size=1,\n",
    "        )\n",
    "    )\n",
    "    project.save()\n",
    "    return project.show_dashboard()"
   ]
  },
  {
   "cell_type": "code",
   "execution_count": 12,
   "id": "5771c338",
   "metadata": {},
   "outputs": [
    {
     "ename": "AttributeError",
     "evalue": "'str' object has no attribute 'create_project'",
     "output_type": "error",
     "traceback": [
      "\u001b[0;31m---------------------------------------------------------------------------\u001b[0m",
      "\u001b[0;31mAttributeError\u001b[0m                            Traceback (most recent call last)",
      "Cell \u001b[0;32mIn[12], line 1\u001b[0m\n\u001b[0;32m----> 1\u001b[0m \u001b[43mcreate_project\u001b[49m\u001b[43m(\u001b[49m\u001b[43mworkspace\u001b[49m\u001b[38;5;241;43m=\u001b[39;49m\u001b[43mWORKSPACE\u001b[49m\u001b[43m)\u001b[49m\n",
      "Cell \u001b[0;32mIn[10], line 2\u001b[0m, in \u001b[0;36mcreate_project\u001b[0;34m(workspace)\u001b[0m\n\u001b[1;32m      1\u001b[0m \u001b[38;5;28;01mdef\u001b[39;00m \u001b[38;5;21mcreate_project\u001b[39m(workspace: WorkspaceBase):\n\u001b[0;32m----> 2\u001b[0m     project \u001b[38;5;241m=\u001b[39m \u001b[43mworkspace\u001b[49m\u001b[38;5;241;43m.\u001b[39;49m\u001b[43mcreate_project\u001b[49m(YOUR_PROJECT_NAME)\n\u001b[1;32m      3\u001b[0m     project\u001b[38;5;241m.\u001b[39mdescription \u001b[38;5;241m=\u001b[39m YOUR_PROJECT_DESCRIPTION\n\u001b[1;32m      4\u001b[0m     project\u001b[38;5;241m.\u001b[39mdashboard\u001b[38;5;241m.\u001b[39madd_panel(\n\u001b[1;32m      5\u001b[0m         DashboardPanelCounter(\n\u001b[1;32m      6\u001b[0m             \u001b[38;5;28mfilter\u001b[39m\u001b[38;5;241m=\u001b[39mReportFilter(metadata_values\u001b[38;5;241m=\u001b[39m{}, tag_values\u001b[38;5;241m=\u001b[39m[]),\n\u001b[0;32m   (...)\u001b[0m\n\u001b[1;32m      9\u001b[0m         )\n\u001b[1;32m     10\u001b[0m     )\n",
      "\u001b[0;31mAttributeError\u001b[0m: 'str' object has no attribute 'create_project'"
     ]
    }
   ],
   "source": [
    "create_project(workspace=WORKSPACE)"
   ]
  },
  {
   "cell_type": "code",
   "execution_count": 13,
   "id": "49932cdc",
   "metadata": {},
   "outputs": [],
   "source": [
    "def create_demo_project(workspace: str):\n",
    "    ws = Workspace.create(workspace)\n",
    "    project = create_project(ws)\n",
    "\n",
    "    for i in range(0, 5):\n",
    "        report = create_report(i=i)\n",
    "        ws.add_report(project.id, report)\n",
    "\n",
    "        test_suite = create_test_suite(i=i)\n",
    "        ws.add_test_suite(project.id, test_suite)"
   ]
  },
  {
   "cell_type": "code",
   "execution_count": 14,
   "id": "a96e77e3",
   "metadata": {},
   "outputs": [
    {
     "ename": "AttributeError",
     "evalue": "'HTML' object has no attribute 'id'",
     "output_type": "error",
     "traceback": [
      "\u001b[0;31m---------------------------------------------------------------------------\u001b[0m",
      "\u001b[0;31mAttributeError\u001b[0m                            Traceback (most recent call last)",
      "Cell \u001b[0;32mIn[14], line 2\u001b[0m\n\u001b[1;32m      1\u001b[0m \u001b[38;5;28;01mif\u001b[39;00m \u001b[38;5;18m__name__\u001b[39m \u001b[38;5;241m==\u001b[39m \u001b[38;5;124m\"\u001b[39m\u001b[38;5;124m__main__\u001b[39m\u001b[38;5;124m\"\u001b[39m:\n\u001b[0;32m----> 2\u001b[0m     \u001b[43mcreate_demo_project\u001b[49m\u001b[43m(\u001b[49m\u001b[43mWORKSPACE\u001b[49m\u001b[43m)\u001b[49m\n",
      "Cell \u001b[0;32mIn[13], line 7\u001b[0m, in \u001b[0;36mcreate_demo_project\u001b[0;34m(workspace)\u001b[0m\n\u001b[1;32m      5\u001b[0m \u001b[38;5;28;01mfor\u001b[39;00m i \u001b[38;5;129;01min\u001b[39;00m \u001b[38;5;28mrange\u001b[39m(\u001b[38;5;241m0\u001b[39m, \u001b[38;5;241m5\u001b[39m):\n\u001b[1;32m      6\u001b[0m     report \u001b[38;5;241m=\u001b[39m create_report(i\u001b[38;5;241m=\u001b[39mi)\n\u001b[0;32m----> 7\u001b[0m     ws\u001b[38;5;241m.\u001b[39madd_report(\u001b[43mproject\u001b[49m\u001b[38;5;241;43m.\u001b[39;49m\u001b[43mid\u001b[49m, report)\n\u001b[1;32m      9\u001b[0m     test_suite \u001b[38;5;241m=\u001b[39m create_test_suite(i\u001b[38;5;241m=\u001b[39mi)\n\u001b[1;32m     10\u001b[0m     ws\u001b[38;5;241m.\u001b[39madd_test_suite(project\u001b[38;5;241m.\u001b[39mid, test_suite)\n",
      "\u001b[0;31mAttributeError\u001b[0m: 'HTML' object has no attribute 'id'"
     ]
    }
   ],
   "source": [
    "if __name__ == \"__main__\":\n",
    "    create_demo_project(WORKSPACE)"
   ]
  },
  {
   "cell_type": "code",
   "execution_count": null,
   "id": "cf6095be",
   "metadata": {},
   "outputs": [],
   "source": []
  }
 ],
 "metadata": {
  "kernelspec": {
   "display_name": "Python 3 (ipykernel)",
   "language": "python",
   "name": "python3"
  },
  "language_info": {
   "codemirror_mode": {
    "name": "ipython",
    "version": 3
   },
   "file_extension": ".py",
   "mimetype": "text/x-python",
   "name": "python",
   "nbconvert_exporter": "python",
   "pygments_lexer": "ipython3",
   "version": "3.10.12"
  }
 },
 "nbformat": 4,
 "nbformat_minor": 5
}
