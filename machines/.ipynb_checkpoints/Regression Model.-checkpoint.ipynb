{
 "cells": [
  {
   "cell_type": "code",
   "execution_count": null,
   "id": "b1476755",
   "metadata": {},
   "outputs": [],
   "source": [
    "import os\n",
    "import pickle\n",
    "\n",
    "import warnings\n",
    "warnings.filterwarnings(\"ignore\")\n",
    "warnings.simplefilter(\"ignore\")\n",
    "\n",
    "import numpy as np\n",
    "import pandas as pd\n",
    "import seaborn as sns\n",
    "\n",
    "from sklearn.preprocessing import LabelEncoder, OneHotEncoder, PolynomialFeatures\n",
    "from sklearn.metrics import mean_absolute_error, mean_squared_error, r2_score\n",
    "from sklearn.model_selection import train_test_split, StratifiedKFold\n",
    "from sklearn.ensemble import RandomForestRegressor\n",
    "from sklearn.linear_model import Lasso, Ridge, LogisticRegression\n",
    "\n",
    "from catboost import CatBoostRegressor\n",
    "from lightgbm import LGBMRegressor"
   ]
  },
  {
   "cell_type": "code",
   "execution_count": null,
   "id": "08c538b3",
   "metadata": {},
   "outputs": [],
   "source": [
    "train = pd.read_csv(\"./Datasets/Train (1).csv\")\n",
    "test = pd.read_csv(\"./Datasets/Test (1).csv\")"
   ]
  },
  {
   "cell_type": "code",
   "execution_count": null,
   "id": "aa42a2f6",
   "metadata": {},
   "outputs": [],
   "source": [
    "test['total_cost'] = -1\n",
    "full = pd.concat(objs=[train, test], axis=0)\n",
    "full.drop(columns=['ID', 'payment_mode', 'most_impressing'], axis=1, inplace=True)\n",
    "full.tail()"
   ]
  },
  {
   "cell_type": "code",
   "execution_count": null,
   "id": "77092f83",
   "metadata": {},
   "outputs": [],
   "source": [
    "full['country'] = full['country'].replace({'SWIZERLAND': 'SWITZERLAND',\n",
    "                                          'UAE': 'UNITED ARAB EMIRATES',\n",
    "                                          'BURGARIA': 'BULGARIA',\n",
    "                                          'UKRAIN': 'UKRAINE',\n",
    "                                          'TRINIDAD TOBACCO': 'TRINIDAD AND TOBAGO',\n",
    "                                          'COMORO': 'COMOROS',\n",
    "                                          'COSTARICA': 'COSTA RICA',\n",
    "                                          'PHILIPINES': 'PHILIPPINES',\n",
    "                                          'DJIBOUT': 'DJIBOUTI',\n",
    "                                          'MORROCO': 'MOROCCO', \n",
    "                                          'SOMALI': 'SOMALIA', \n",
    "                                          'SAUD ARABIA': 'SAUDI ARABIA'})"
   ]
  },
  {
   "cell_type": "code",
   "execution_count": null,
   "id": "1b9c8740",
   "metadata": {},
   "outputs": [],
   "source": [
    "full.head()"
   ]
  },
  {
   "cell_type": "code",
   "execution_count": null,
   "id": "545664fb",
   "metadata": {},
   "outputs": [],
   "source": [
    "countries = pd.read_csv(\"./Datasets/all.csv\")\n",
    "countries.drop(columns=['alpha-2', 'alpha-3', 'country-code', 'iso_3166-2', 'intermediate-region', 'region-code',\n",
    "                        'sub-region-code', 'intermediate-region-code'], axis=1, inplace=True)\n",
    "countries.rename({'name':'country'}, axis=1, inplace=True)\n",
    "countries.country = countries['country'].str.title()\n",
    "countries.head()"
   ]
  },
  {
   "cell_type": "code",
   "execution_count": null,
   "id": "007cad0d",
   "metadata": {},
   "outputs": [],
   "source": [
    "full['country'] = full['country'].str.title()\n",
    "full['country'].isin(countries['country']).sum()"
   ]
  },
  {
   "cell_type": "code",
   "execution_count": null,
   "id": "bc67b819",
   "metadata": {},
   "outputs": [],
   "source": [
    "full = full.merge(countries, how='left')\n",
    "full.head()"
   ]
  },
  {
   "cell_type": "code",
   "execution_count": null,
   "id": "98ddb2bc",
   "metadata": {},
   "outputs": [],
   "source": [
    "train = full[full['total_cost'] != -1]\n",
    "test = full[full['total_cost'] == -1]"
   ]
  },
  {
   "cell_type": "code",
   "execution_count": null,
   "id": "5d15b08f",
   "metadata": {},
   "outputs": [],
   "source": [
    "cat = []\n",
    "for col in train.select_dtypes('object', 'category'):\n",
    "    cat.append(col)"
   ]
  },
  {
   "cell_type": "code",
   "execution_count": null,
   "id": "54794a84",
   "metadata": {},
   "outputs": [],
   "source": [
    "for col in train.select_dtypes('object', 'category'):\n",
    "    train.loc[\n",
    "        train['country'].value_counts()[train['country']].values < 10, \"country\"\n",
    "    ] = \"RARE\"\n",
    "    \n",
    "    train.loc[:, col] = train[col].fillna(\"None\").astype(str)"
   ]
  },
  {
   "cell_type": "code",
   "execution_count": null,
   "id": "2bb5a92b",
   "metadata": {},
   "outputs": [],
   "source": [
    "for col in train.select_dtypes('int', 'float'):\n",
    "    train.loc[:, col] = train[col].fillna(train[col].median)"
   ]
  },
  {
   "cell_type": "code",
   "execution_count": null,
   "id": "174d1a0e",
   "metadata": {},
   "outputs": [],
   "source": [
    "X = train.drop(['total_cost'], axis=1)\n",
    "y = train['total_cost']"
   ]
  },
  {
   "cell_type": "code",
   "execution_count": null,
   "id": "07620d0f",
   "metadata": {},
   "outputs": [],
   "source": [
    "for col in cat:\n",
    "    X[col] = X[col].astype('category')"
   ]
  },
  {
   "cell_type": "code",
   "execution_count": null,
   "id": "4d88c9ac",
   "metadata": {},
   "outputs": [],
   "source": [
    "X_train, X_test, y_train, y_test = train_test_split( X, y,\n",
    "                                                   test_size=0.25, random_state=142)"
   ]
  },
  {
   "cell_type": "markdown",
   "id": "3029aa3c",
   "metadata": {},
   "source": [
    "### CatBoost."
   ]
  },
  {
   "cell_type": "code",
   "execution_count": 16,
   "id": "77fb9bcf",
   "metadata": {},
   "outputs": [],
   "source": [
    "CatBoostRegressor??"
   ]
  },
  {
   "cell_type": "code",
   "execution_count": 17,
   "id": "d32b3d5e",
   "metadata": {},
   "outputs": [
    {
     "data": {
      "text/plain": [
       "<catboost.core.CatBoostRegressor at 0x20eeb99aee0>"
      ]
     },
     "execution_count": 17,
     "metadata": {},
     "output_type": "execute_result"
    }
   ],
   "source": [
    "model = CatBoostRegressor(iterations=1000,\n",
    "                          learning_rate=0.01, max_depth=7,\n",
    "                          cat_features=cat,\n",
    "                          loss_function='RMSE',\n",
    "                          subsample=0.617,\n",
    "                          reg_lambda=10.0,\n",
    "                          logging_level='Silent')\n",
    "model.fit(X_train, y_train)"
   ]
  },
  {
   "cell_type": "code",
   "execution_count": 18,
   "id": "377bb0d4",
   "metadata": {},
   "outputs": [
    {
     "data": {
      "text/plain": [
       "0.406404329358955"
      ]
     },
     "execution_count": 18,
     "metadata": {},
     "output_type": "execute_result"
    }
   ],
   "source": [
    "model.score(X_test, y_test)"
   ]
  },
  {
   "cell_type": "code",
   "execution_count": 19,
   "id": "41e7efc1",
   "metadata": {},
   "outputs": [
    {
     "data": {
      "text/plain": [
       "0.4930906843048848"
      ]
     },
     "execution_count": 19,
     "metadata": {},
     "output_type": "execute_result"
    }
   ],
   "source": [
    "model.score(X_train, y_train)"
   ]
  },
  {
   "cell_type": "code",
   "execution_count": 20,
   "id": "8b08f019",
   "metadata": {},
   "outputs": [],
   "source": [
    "y_pred = model.predict(X_test)"
   ]
  },
  {
   "cell_type": "code",
   "execution_count": 21,
   "id": "1e5d2a6f",
   "metadata": {},
   "outputs": [
    {
     "data": {
      "text/plain": [
       "94668996665461.64"
      ]
     },
     "execution_count": 21,
     "metadata": {},
     "output_type": "execute_result"
    }
   ],
   "source": [
    "import math\n",
    "\n",
    "mse = mean_squared_error(y_test, y_pred)\n",
    "mse"
   ]
  },
  {
   "cell_type": "code",
   "execution_count": 22,
   "id": "92212d65",
   "metadata": {},
   "outputs": [
    {
     "data": {
      "text/plain": [
       "9729799.415479315"
      ]
     },
     "execution_count": 22,
     "metadata": {},
     "output_type": "execute_result"
    }
   ],
   "source": [
    "rmse = math.sqrt(mse)\n",
    "rmse"
   ]
  },
  {
   "cell_type": "code",
   "execution_count": 23,
   "id": "03b41e7c",
   "metadata": {},
   "outputs": [],
   "source": [
    "y_train_pred = model.predict(X_train)\n",
    "y_test_pred = model.predict(X_test)"
   ]
  },
  {
   "cell_type": "code",
   "execution_count": 24,
   "id": "af4b4357",
   "metadata": {},
   "outputs": [
    {
     "data": {
      "text/plain": [
       "74029168394078.8"
      ]
     },
     "execution_count": 24,
     "metadata": {},
     "output_type": "execute_result"
    }
   ],
   "source": [
    "mse = mean_squared_error(y_train, y_train_pred)\n",
    "mse"
   ]
  },
  {
   "cell_type": "code",
   "execution_count": 25,
   "id": "00d1b334",
   "metadata": {},
   "outputs": [
    {
     "data": {
      "text/plain": [
       "94668996665461.64"
      ]
     },
     "execution_count": 25,
     "metadata": {},
     "output_type": "execute_result"
    }
   ],
   "source": [
    "mse = mean_squared_error(y_test, y_test_pred)\n",
    "mse"
   ]
  },
  {
   "cell_type": "code",
   "execution_count": 26,
   "id": "8f95d2e8",
   "metadata": {},
   "outputs": [
    {
     "name": "stdout",
     "output_type": "stream",
     "text": [
      "R^2 train: 0.493, test: 0.406\n"
     ]
    }
   ],
   "source": [
    "print('R^2 train: %.3f, test: %.3f' % \n",
    "      (r2_score(y_train, y_train_pred), \n",
    "       r2_score(y_test, y_test_pred)))"
   ]
  },
  {
   "cell_type": "code",
   "execution_count": 27,
   "id": "b8392120",
   "metadata": {},
   "outputs": [
    {
     "data": {
      "application/javascript": [
       "\n",
       "        if (window._pyforest_update_imports_cell) { window._pyforest_update_imports_cell('import matplotlib.pyplot as plt'); }\n",
       "    "
      ],
      "text/plain": [
       "<IPython.core.display.Javascript object>"
      ]
     },
     "metadata": {},
     "output_type": "display_data"
    },
    {
     "data": {
      "application/javascript": [
       "\n",
       "        if (window._pyforest_update_imports_cell) { window._pyforest_update_imports_cell('import matplotlib.pyplot as plt'); }\n",
       "    "
      ],
      "text/plain": [
       "<IPython.core.display.Javascript object>"
      ]
     },
     "metadata": {},
     "output_type": "display_data"
    },
    {
     "data": {
      "application/javascript": [
       "\n",
       "        if (window._pyforest_update_imports_cell) { window._pyforest_update_imports_cell('import matplotlib.pyplot as plt'); }\n",
       "    "
      ],
      "text/plain": [
       "<IPython.core.display.Javascript object>"
      ]
     },
     "metadata": {},
     "output_type": "display_data"
    },
    {
     "data": {
      "application/javascript": [
       "\n",
       "        if (window._pyforest_update_imports_cell) { window._pyforest_update_imports_cell('import matplotlib.pyplot as plt'); }\n",
       "    "
      ],
      "text/plain": [
       "<IPython.core.display.Javascript object>"
      ]
     },
     "metadata": {},
     "output_type": "display_data"
    },
    {
     "data": {
      "application/javascript": [
       "\n",
       "        if (window._pyforest_update_imports_cell) { window._pyforest_update_imports_cell('import matplotlib.pyplot as plt'); }\n",
       "    "
      ],
      "text/plain": [
       "<IPython.core.display.Javascript object>"
      ]
     },
     "metadata": {},
     "output_type": "display_data"
    },
    {
     "data": {
      "application/javascript": [
       "\n",
       "        if (window._pyforest_update_imports_cell) { window._pyforest_update_imports_cell('import matplotlib.pyplot as plt'); }\n",
       "    "
      ],
      "text/plain": [
       "<IPython.core.display.Javascript object>"
      ]
     },
     "metadata": {},
     "output_type": "display_data"
    },
    {
     "data": {
      "application/javascript": [
       "\n",
       "        if (window._pyforest_update_imports_cell) { window._pyforest_update_imports_cell('import matplotlib.pyplot as plt'); }\n",
       "    "
      ],
      "text/plain": [
       "<IPython.core.display.Javascript object>"
      ]
     },
     "metadata": {},
     "output_type": "display_data"
    },
    {
     "data": {
      "application/javascript": [
       "\n",
       "        if (window._pyforest_update_imports_cell) { window._pyforest_update_imports_cell('import matplotlib.pyplot as plt'); }\n",
       "    "
      ],
      "text/plain": [
       "<IPython.core.display.Javascript object>"
      ]
     },
     "metadata": {},
     "output_type": "display_data"
    },
    {
     "data": {
      "image/png": "[encoded data removed]",
      "text/plain": [
       "<Figure size 640x480 with 1 Axes>"
      ]
     },
     "metadata": {},
     "output_type": "display_data"
    }
   ],
   "source": [
    "plt.scatter(y_train_pred, y_train_pred - y_train, \n",
    "               c='steelblue', marker='o', edgecolor='white', \n",
    "               label='Training data')\n",
    "\n",
    "plt.scatter(y_test_pred, y_test_pred - y_test, \n",
    "            c='limegreen', marker='s', edgecolor='white', \n",
    "            label='Test data')\n",
    "\n",
    "plt.xlabel('Predicted values')\n",
    "plt.ylabel('Residuals')\n",
    "plt.legend(loc='upper left')\n",
    "plt.hlines(y=0, xmin=-1e7, xmax=6e7, color='black', lw=2)\n",
    "plt.xlim([-1e7, 6e7])\n",
    "plt.show()"
   ]
  },
  {
   "cell_type": "markdown",
   "id": "22e95b3c",
   "metadata": {},
   "source": [
    "### XGBoost."
   ]
  },
  {
   "cell_type": "code",
   "execution_count": 28,
   "id": "4a8a69b7",
   "metadata": {},
   "outputs": [
    {
     "data": {
      "application/javascript": [
       "\n",
       "        if (window._pyforest_update_imports_cell) { window._pyforest_update_imports_cell('import matplotlib.pyplot as plt\\nimport xgboost as xgb'); }\n",
       "    "
      ],
      "text/plain": [
       "<IPython.core.display.Javascript object>"
      ]
     },
     "metadata": {},
     "output_type": "display_data"
    },
    {
     "data": {
      "application/javascript": [
       "\n",
       "        if (window._pyforest_update_imports_cell) { window._pyforest_update_imports_cell('import matplotlib.pyplot as plt\\nimport xgboost as xgb'); }\n",
       "    "
      ],
      "text/plain": [
       "<IPython.core.display.Javascript object>"
      ]
     },
     "metadata": {},
     "output_type": "display_data"
    }
   ],
   "source": [
    "import xgboost\n",
    "\n",
    "d_train = xgb.DMatrix(X_train, y_train, enable_categorical=True)\n",
    "d_test = xgb.DMatrix(X_test, y_test, enable_categorical=True)"
   ]
  },
  {
   "cell_type": "code",
   "execution_count": 29,
   "id": "95d71e9e",
   "metadata": {},
   "outputs": [
    {
     "data": {
      "application/javascript": [
       "\n",
       "        if (window._pyforest_update_imports_cell) { window._pyforest_update_imports_cell('import matplotlib.pyplot as plt\\nimport xgboost as xgb'); }\n",
       "    "
      ],
      "text/plain": [
       "<IPython.core.display.Javascript object>"
      ]
     },
     "metadata": {},
     "output_type": "display_data"
    },
    {
     "name": "stdout",
     "output_type": "stream",
     "text": [
      "[0]\tvalidation-rmse:12718764.38558\ttrain-rmse:11978045.32708\n",
      "[1000]\tvalidation-rmse:11871932.68193\ttrain-rmse:1231146.62174\n",
      "[2000]\tvalidation-rmse:11901300.90701\ttrain-rmse:1220777.35878\n",
      "[3000]\tvalidation-rmse:11904064.05508\ttrain-rmse:1220494.91254\n",
      "[4000]\tvalidation-rmse:11904590.61375\ttrain-rmse:1220476.50646\n",
      "[5000]\tvalidation-rmse:11904797.95945\ttrain-rmse:1220475.21177\n",
      "[5520]\tvalidation-rmse:11904816.25281\ttrain-rmse:1220475.12261\n"
     ]
    }
   ],
   "source": [
    "params = {\n",
    "    \"objective\": \"reg:squarederror\",\n",
    "    \"tree_method\":'hist'\n",
    "}\n",
    "\n",
    "model = xgb.train(params=params,\n",
    "                 dtrain=d_train, \n",
    "                 num_boost_round=10000,\n",
    "                 evals=[(d_test, \"validation\"), (d_train, \"train\")],\n",
    "                 verbose_eval=1000, \n",
    "                 early_stopping_rounds=50,\n",
    "                 )"
   ]
  },
  {
   "cell_type": "code",
   "execution_count": 30,
   "id": "8d300b76",
   "metadata": {},
   "outputs": [
    {
     "data": {
      "text/plain": [
       "141724649685617.9"
      ]
     },
     "execution_count": 30,
     "metadata": {},
     "output_type": "execute_result"
    }
   ],
   "source": [
    "y_pred = model.predict(d_test)\n",
    "\n",
    "mse = mean_squared_error(y_pred, y_test)\n",
    "mse"
   ]
  },
  {
   "cell_type": "code",
   "execution_count": 31,
   "id": "4ed041db",
   "metadata": {
    "scrolled": true
   },
   "outputs": [
    {
     "data": {
      "text/plain": [
       "11904816.239052912"
      ]
     },
     "execution_count": 31,
     "metadata": {},
     "output_type": "execute_result"
    }
   ],
   "source": [
    "rmse = math.sqrt(mse)\n",
    "rmse"
   ]
  },
  {
   "cell_type": "code",
   "execution_count": 32,
   "id": "1dcd9868",
   "metadata": {},
   "outputs": [
    {
     "data": {
      "application/javascript": [
       "\n",
       "        if (window._pyforest_update_imports_cell) { window._pyforest_update_imports_cell('import matplotlib.pyplot as plt\\nimport xgboost as xgb'); }\n",
       "    "
      ],
      "text/plain": [
       "<IPython.core.display.Javascript object>"
      ]
     },
     "metadata": {},
     "output_type": "display_data"
    },
    {
     "name": "stdout",
     "output_type": "stream",
     "text": [
      "[0]\ttrain-rmse:11959235.90781+78795.15839\ttest-rmse:12225949.17524+840594.43924\n",
      "[54]\ttrain-rmse:3875476.80121+118317.25650\ttest-rmse:10206350.89725+750603.57558\n"
     ]
    }
   ],
   "source": [
    "cross_val = xgb.cv(params=params,\n",
    "                  dtrain=d_train, \n",
    "                  num_boost_round=20000,\n",
    "                  nfold=10,\n",
    "                  verbose_eval=1000, \n",
    "                  early_stopping_rounds=50\n",
    "                  )"
   ]
  },
  {
   "cell_type": "code",
   "execution_count": 33,
   "id": "d1f982b0",
   "metadata": {},
   "outputs": [
    {
     "data": {
      "text/html": [
       "<div>\n",
       "<style scoped>\n",
       "    .dataframe tbody tr th:only-of-type {\n",
       "        vertical-align: middle;\n",
       "    }\n",
       "\n",
       "    .dataframe tbody tr th {\n",
       "        vertical-align: top;\n",
       "    }\n",
       "\n",
       "    .dataframe thead th {\n",
       "        text-align: right;\n",
       "    }\n",
       "</style>\n",
       "<table border=\"1\" class=\"dataframe\">\n",
       "  <thead>\n",
       "    <tr style=\"text-align: right;\">\n",
       "      <th></th>\n",
       "      <th>train-rmse-mean</th>\n",
       "      <th>train-rmse-std</th>\n",
       "      <th>test-rmse-mean</th>\n",
       "      <th>test-rmse-std</th>\n",
       "    </tr>\n",
       "  </thead>\n",
       "  <tbody>\n",
       "    <tr>\n",
       "      <th>0</th>\n",
       "      <td>1.195924e+07</td>\n",
       "      <td>78795.158391</td>\n",
       "      <td>1.222595e+07</td>\n",
       "      <td>840594.439242</td>\n",
       "    </tr>\n",
       "    <tr>\n",
       "      <th>1</th>\n",
       "      <td>1.033392e+07</td>\n",
       "      <td>61780.348842</td>\n",
       "      <td>1.093419e+07</td>\n",
       "      <td>811765.523327</td>\n",
       "    </tr>\n",
       "    <tr>\n",
       "      <th>2</th>\n",
       "      <td>9.238281e+06</td>\n",
       "      <td>65580.380572</td>\n",
       "      <td>1.021102e+07</td>\n",
       "      <td>785654.520765</td>\n",
       "    </tr>\n",
       "    <tr>\n",
       "      <th>3</th>\n",
       "      <td>8.500461e+06</td>\n",
       "      <td>65014.730053</td>\n",
       "      <td>9.872249e+06</td>\n",
       "      <td>804759.016779</td>\n",
       "    </tr>\n",
       "    <tr>\n",
       "      <th>4</th>\n",
       "      <td>7.976974e+06</td>\n",
       "      <td>78692.860303</td>\n",
       "      <td>9.668571e+06</td>\n",
       "      <td>758294.815781</td>\n",
       "    </tr>\n",
       "  </tbody>\n",
       "</table>\n",
       "</div>"
      ],
      "text/plain": [
       "   train-rmse-mean  train-rmse-std  test-rmse-mean  test-rmse-std\n",
       "0     1.195924e+07    78795.158391    1.222595e+07  840594.439242\n",
       "1     1.033392e+07    61780.348842    1.093419e+07  811765.523327\n",
       "2     9.238281e+06    65580.380572    1.021102e+07  785654.520765\n",
       "3     8.500461e+06    65014.730053    9.872249e+06  804759.016779\n",
       "4     7.976974e+06    78692.860303    9.668571e+06  758294.815781"
      ]
     },
     "execution_count": 33,
     "metadata": {},
     "output_type": "execute_result"
    }
   ],
   "source": [
    "cross_val.head()"
   ]
  },
  {
   "cell_type": "code",
   "execution_count": 34,
   "id": "ca3b6ec1",
   "metadata": {},
   "outputs": [
    {
     "data": {
      "text/plain": [
       "9619474.392768215"
      ]
     },
     "execution_count": 34,
     "metadata": {},
     "output_type": "execute_result"
    }
   ],
   "source": [
    "cross_val['test-rmse-mean'].min()"
   ]
  },
  {
   "cell_type": "code",
   "execution_count": 35,
   "id": "387708f0",
   "metadata": {},
   "outputs": [
    {
     "name": "stdout",
     "output_type": "stream",
     "text": [
      "R^2 train: 0.990, test: 0.111\n"
     ]
    }
   ],
   "source": [
    "y_train_pred = model.predict(d_train)\n",
    "y_test_pred = model.predict(d_test)\n",
    "\n",
    "print('R^2 train: %.3f, test: %.3f' % \n",
    "      (r2_score(y_train, y_train_pred), \n",
    "       r2_score(y_test, y_test_pred)))"
   ]
  },
  {
   "cell_type": "code",
   "execution_count": 36,
   "id": "93cc51a1",
   "metadata": {},
   "outputs": [
    {
     "data": {
      "application/javascript": [
       "\n",
       "        if (window._pyforest_update_imports_cell) { window._pyforest_update_imports_cell('import matplotlib.pyplot as plt\\nimport xgboost as xgb'); }\n",
       "    "
      ],
      "text/plain": [
       "<IPython.core.display.Javascript object>"
      ]
     },
     "metadata": {},
     "output_type": "display_data"
    },
    {
     "data": {
      "application/javascript": [
       "\n",
       "        if (window._pyforest_update_imports_cell) { window._pyforest_update_imports_cell('import matplotlib.pyplot as plt\\nimport xgboost as xgb'); }\n",
       "    "
      ],
      "text/plain": [
       "<IPython.core.display.Javascript object>"
      ]
     },
     "metadata": {},
     "output_type": "display_data"
    },
    {
     "data": {
      "application/javascript": [
       "\n",
       "        if (window._pyforest_update_imports_cell) { window._pyforest_update_imports_cell('import matplotlib.pyplot as plt\\nimport xgboost as xgb'); }\n",
       "    "
      ],
      "text/plain": [
       "<IPython.core.display.Javascript object>"
      ]
     },
     "metadata": {},
     "output_type": "display_data"
    },
    {
     "data": {
      "application/javascript": [
       "\n",
       "        if (window._pyforest_update_imports_cell) { window._pyforest_update_imports_cell('import matplotlib.pyplot as plt\\nimport xgboost as xgb'); }\n",
       "    "
      ],
      "text/plain": [
       "<IPython.core.display.Javascript object>"
      ]
     },
     "metadata": {},
     "output_type": "display_data"
    },
    {
     "data": {
      "application/javascript": [
       "\n",
       "        if (window._pyforest_update_imports_cell) { window._pyforest_update_imports_cell('import matplotlib.pyplot as plt\\nimport xgboost as xgb'); }\n",
       "    "
      ],
      "text/plain": [
       "<IPython.core.display.Javascript object>"
      ]
     },
     "metadata": {},
     "output_type": "display_data"
    },
    {
     "data": {
      "application/javascript": [
       "\n",
       "        if (window._pyforest_update_imports_cell) { window._pyforest_update_imports_cell('import matplotlib.pyplot as plt\\nimport xgboost as xgb'); }\n",
       "    "
      ],
      "text/plain": [
       "<IPython.core.display.Javascript object>"
      ]
     },
     "metadata": {},
     "output_type": "display_data"
    },
    {
     "data": {
      "application/javascript": [
       "\n",
       "        if (window._pyforest_update_imports_cell) { window._pyforest_update_imports_cell('import matplotlib.pyplot as plt\\nimport xgboost as xgb'); }\n",
       "    "
      ],
      "text/plain": [
       "<IPython.core.display.Javascript object>"
      ]
     },
     "metadata": {},
     "output_type": "display_data"
    },
    {
     "data": {
      "application/javascript": [
       "\n",
       "        if (window._pyforest_update_imports_cell) { window._pyforest_update_imports_cell('import matplotlib.pyplot as plt\\nimport xgboost as xgb'); }\n",
       "    "
      ],
      "text/plain": [
       "<IPython.core.display.Javascript object>"
      ]
     },
     "metadata": {},
     "output_type": "display_data"
    },
    {
     "data": {
      "image/png": "[encoded data removed]",
      "text/plain": [
       "<Figure size 640x480 with 1 Axes>"
      ]
     },
     "metadata": {},
     "output_type": "display_data"
    }
   ],
   "source": [
    "plt.scatter(y_train_pred, y_train_pred - y_train, \n",
    "               c='steelblue', marker='o', edgecolor='white', \n",
    "               label='Training data')\n",
    "\n",
    "plt.scatter(y_test_pred, y_test_pred - y_test, \n",
    "            c='limegreen', marker='s', edgecolor='white', \n",
    "            label='Test data')\n",
    "\n",
    "plt.xlabel('Predicted values')\n",
    "plt.ylabel('Residuals')\n",
    "plt.legend(loc='upper left')\n",
    "plt.hlines(y=0, xmin=-2e7, xmax=11e7, color='black', lw=2)\n",
    "plt.xlim([-2e7, 11e7])\n",
    "plt.show()"
   ]
  },
  {
   "cell_type": "markdown",
   "id": "3d2e8ed5",
   "metadata": {},
   "source": [
    "### Part 2"
   ]
  },
  {
   "cell_type": "code",
   "execution_count": 37,
   "id": "3250de55",
   "metadata": {},
   "outputs": [
    {
     "data": {
      "text/plain": [
       "(4809, 21)"
      ]
     },
     "execution_count": 37,
     "metadata": {},
     "output_type": "execute_result"
    }
   ],
   "source": [
    "X.shape"
   ]
  },
  {
   "cell_type": "code",
   "execution_count": 38,
   "id": "dfe63ef2",
   "metadata": {},
   "outputs": [],
   "source": [
    "from sklearn.pipeline import make_pipeline, Pipeline\n",
    "from sklearn.preprocessing import OneHotEncoder, OrdinalEncoder, StandardScaler\n",
    "from sklearn.impute import SimpleImputer\n",
    "\n",
    "for col in X.columns:\n",
    "    if X[col].dtype == 'category':\n",
    "        if X[col].nunique() <= 10:\n",
    "            pipe = Pipeline(steps=[\n",
    "                (\"encoder\", OneHotEncoder(sparse_output=False)),\n",
    "                (\"imputer\", SimpleImputer(strategy='median')),\n",
    "                (\"poly\", PolynomialFeatures(3))\n",
    "            ])\n",
    "            pipe.fit_transform(X[col][:, np.newaxis]).flatten()\n",
    "        else:\n",
    "            pipe = Pipeline(steps=[\n",
    "                (\"onehot\",OrdinalEncoder())\n",
    "            ])\n",
    "            pipe.fit_transform(X[col][:, np.newaxis]).flatten()\n",
    "    else:\n",
    "        pipe = Pipeline(steps=[\n",
    "            (\"imputer\", SimpleImputer(strategy='median')),\n",
    "            (\"scaler\", StandardScaler())\n",
    "        ])\n",
    "        pipe.fit_transform(X[col][:, np.newaxis]).flatten()\n",
    "\n",
    "pipe.set_output(transform='pandas')\n",
    "xx = pipe.fit_transform(X)"
   ]
  },
  {
   "cell_type": "code",
   "execution_count": 39,
   "id": "299dbd28",
   "metadata": {},
   "outputs": [
    {
     "data": {
      "text/plain": [
       "(4809, 21)"
      ]
     },
     "execution_count": 39,
     "metadata": {},
     "output_type": "execute_result"
    }
   ],
   "source": [
    "xx.shape"
   ]
  },
  {
   "cell_type": "code",
   "execution_count": 40,
   "id": "73cc4ae7",
   "metadata": {
    "scrolled": true
   },
   "outputs": [
    {
     "data": {
      "text/html": [
       "<div>\n",
       "<style scoped>\n",
       "    .dataframe tbody tr th:only-of-type {\n",
       "        vertical-align: middle;\n",
       "    }\n",
       "\n",
       "    .dataframe tbody tr th {\n",
       "        vertical-align: top;\n",
       "    }\n",
       "\n",
       "    .dataframe thead th {\n",
       "        text-align: right;\n",
       "    }\n",
       "</style>\n",
       "<table border=\"1\" class=\"dataframe\">\n",
       "  <thead>\n",
       "    <tr style=\"text-align: right;\">\n",
       "      <th></th>\n",
       "      <th>country</th>\n",
       "      <th>age_group</th>\n",
       "      <th>travel_with</th>\n",
       "      <th>total_female</th>\n",
       "      <th>total_male</th>\n",
       "      <th>purpose</th>\n",
       "      <th>main_activity</th>\n",
       "      <th>info_source</th>\n",
       "      <th>tour_arrangement</th>\n",
       "      <th>package_transport_int</th>\n",
       "      <th>...</th>\n",
       "      <th>package_food</th>\n",
       "      <th>package_transport_tz</th>\n",
       "      <th>package_sightseeing</th>\n",
       "      <th>package_guided_tour</th>\n",
       "      <th>package_insurance</th>\n",
       "      <th>night_mainland</th>\n",
       "      <th>night_zanzibar</th>\n",
       "      <th>first_trip_tz</th>\n",
       "      <th>region</th>\n",
       "      <th>sub-region</th>\n",
       "    </tr>\n",
       "  </thead>\n",
       "  <tbody>\n",
       "    <tr>\n",
       "      <th>0</th>\n",
       "      <td>34.0</td>\n",
       "      <td>2.0</td>\n",
       "      <td>2.0</td>\n",
       "      <td>1.0</td>\n",
       "      <td>1.0</td>\n",
       "      <td>1.0</td>\n",
       "      <td>7.0</td>\n",
       "      <td>0.0</td>\n",
       "      <td>0.0</td>\n",
       "      <td>0.0</td>\n",
       "      <td>...</td>\n",
       "      <td>0.0</td>\n",
       "      <td>0.0</td>\n",
       "      <td>0.0</td>\n",
       "      <td>0.0</td>\n",
       "      <td>0.0</td>\n",
       "      <td>12.0</td>\n",
       "      <td>0.0</td>\n",
       "      <td>0.0</td>\n",
       "      <td>3.0</td>\n",
       "      <td>13.0</td>\n",
       "    </tr>\n",
       "    <tr>\n",
       "      <th>1</th>\n",
       "      <td>37.0</td>\n",
       "      <td>1.0</td>\n",
       "      <td>3.0</td>\n",
       "      <td>1.0</td>\n",
       "      <td>0.0</td>\n",
       "      <td>1.0</td>\n",
       "      <td>3.0</td>\n",
       "      <td>7.0</td>\n",
       "      <td>0.0</td>\n",
       "      <td>0.0</td>\n",
       "      <td>...</td>\n",
       "      <td>0.0</td>\n",
       "      <td>0.0</td>\n",
       "      <td>0.0</td>\n",
       "      <td>0.0</td>\n",
       "      <td>0.0</td>\n",
       "      <td>13.0</td>\n",
       "      <td>7.0</td>\n",
       "      <td>1.0</td>\n",
       "      <td>3.0</td>\n",
       "      <td>7.0</td>\n",
       "    </tr>\n",
       "    <tr>\n",
       "      <th>2</th>\n",
       "      <td>37.0</td>\n",
       "      <td>1.0</td>\n",
       "      <td>0.0</td>\n",
       "      <td>0.0</td>\n",
       "      <td>1.0</td>\n",
       "      <td>5.0</td>\n",
       "      <td>3.0</td>\n",
       "      <td>0.0</td>\n",
       "      <td>0.0</td>\n",
       "      <td>0.0</td>\n",
       "      <td>...</td>\n",
       "      <td>0.0</td>\n",
       "      <td>0.0</td>\n",
       "      <td>0.0</td>\n",
       "      <td>0.0</td>\n",
       "      <td>0.0</td>\n",
       "      <td>1.0</td>\n",
       "      <td>27.0</td>\n",
       "      <td>0.0</td>\n",
       "      <td>3.0</td>\n",
       "      <td>7.0</td>\n",
       "    </tr>\n",
       "    <tr>\n",
       "      <th>3</th>\n",
       "      <td>37.0</td>\n",
       "      <td>1.0</td>\n",
       "      <td>4.0</td>\n",
       "      <td>1.0</td>\n",
       "      <td>1.0</td>\n",
       "      <td>1.0</td>\n",
       "      <td>7.0</td>\n",
       "      <td>5.0</td>\n",
       "      <td>1.0</td>\n",
       "      <td>0.0</td>\n",
       "      <td>...</td>\n",
       "      <td>1.0</td>\n",
       "      <td>1.0</td>\n",
       "      <td>1.0</td>\n",
       "      <td>1.0</td>\n",
       "      <td>0.0</td>\n",
       "      <td>10.0</td>\n",
       "      <td>0.0</td>\n",
       "      <td>1.0</td>\n",
       "      <td>3.0</td>\n",
       "      <td>7.0</td>\n",
       "    </tr>\n",
       "    <tr>\n",
       "      <th>4</th>\n",
       "      <td>6.0</td>\n",
       "      <td>0.0</td>\n",
       "      <td>3.0</td>\n",
       "      <td>1.0</td>\n",
       "      <td>0.0</td>\n",
       "      <td>1.0</td>\n",
       "      <td>7.0</td>\n",
       "      <td>5.0</td>\n",
       "      <td>0.0</td>\n",
       "      <td>0.0</td>\n",
       "      <td>...</td>\n",
       "      <td>0.0</td>\n",
       "      <td>0.0</td>\n",
       "      <td>0.0</td>\n",
       "      <td>0.0</td>\n",
       "      <td>0.0</td>\n",
       "      <td>7.0</td>\n",
       "      <td>4.0</td>\n",
       "      <td>1.0</td>\n",
       "      <td>2.0</td>\n",
       "      <td>1.0</td>\n",
       "    </tr>\n",
       "  </tbody>\n",
       "</table>\n",
       "<p>5 rows × 21 columns</p>\n",
       "</div>"
      ],
      "text/plain": [
       "   country  age_group  travel_with  total_female  total_male  purpose  \\\n",
       "0     34.0        2.0          2.0           1.0         1.0      1.0   \n",
       "1     37.0        1.0          3.0           1.0         0.0      1.0   \n",
       "2     37.0        1.0          0.0           0.0         1.0      5.0   \n",
       "3     37.0        1.0          4.0           1.0         1.0      1.0   \n",
       "4      6.0        0.0          3.0           1.0         0.0      1.0   \n",
       "\n",
       "   main_activity  info_source  tour_arrangement  package_transport_int  ...  \\\n",
       "0            7.0          0.0               0.0                    0.0  ...   \n",
       "1            3.0          7.0               0.0                    0.0  ...   \n",
       "2            3.0          0.0               0.0                    0.0  ...   \n",
       "3            7.0          5.0               1.0                    0.0  ...   \n",
       "4            7.0          5.0               0.0                    0.0  ...   \n",
       "\n",
       "   package_food  package_transport_tz  package_sightseeing  \\\n",
       "0           0.0                   0.0                  0.0   \n",
       "1           0.0                   0.0                  0.0   \n",
       "2           0.0                   0.0                  0.0   \n",
       "3           1.0                   1.0                  1.0   \n",
       "4           0.0                   0.0                  0.0   \n",
       "\n",
       "   package_guided_tour  package_insurance  night_mainland  night_zanzibar  \\\n",
       "0                  0.0                0.0            12.0             0.0   \n",
       "1                  0.0                0.0            13.0             7.0   \n",
       "2                  0.0                0.0             1.0            27.0   \n",
       "3                  1.0                0.0            10.0             0.0   \n",
       "4                  0.0                0.0             7.0             4.0   \n",
       "\n",
       "   first_trip_tz  region  sub-region  \n",
       "0            0.0     3.0        13.0  \n",
       "1            1.0     3.0         7.0  \n",
       "2            0.0     3.0         7.0  \n",
       "3            1.0     3.0         7.0  \n",
       "4            1.0     2.0         1.0  \n",
       "\n",
       "[5 rows x 21 columns]"
      ]
     },
     "execution_count": 40,
     "metadata": {},
     "output_type": "execute_result"
    }
   ],
   "source": [
    "xx.head()"
   ]
  },
  {
   "cell_type": "code",
   "execution_count": 41,
   "id": "82721178",
   "metadata": {},
   "outputs": [],
   "source": [
    "X_train, X_test, y_train, y_test = train_test_split(xx, y,\n",
    "                                                   test_size=0.3, random_state=142)"
   ]
  },
  {
   "cell_type": "markdown",
   "id": "babfb79f",
   "metadata": {},
   "source": [
    "### Random Forest"
   ]
  },
  {
   "cell_type": "code",
   "execution_count": 42,
   "id": "ec617273",
   "metadata": {
    "collapsed": true
   },
   "outputs": [
    {
     "ename": "ValueError",
     "evalue": "Input X contains NaN.\nRandomForestRegressor does not accept missing values encoded as NaN natively. For supervised learning, you might want to consider sklearn.ensemble.HistGradientBoostingClassifier and Regressor which accept missing values encoded as NaNs natively. Alternatively, it is possible to preprocess the data, for instance by using an imputer transformer in a pipeline or drop samples with missing values. See https://scikit-learn.org/stable/modules/impute.html You can find a list of all estimators that handle NaN values at the following page: https://scikit-learn.org/stable/modules/impute.html#estimators-that-handle-nan-values",
     "output_type": "error",
     "traceback": [
      "\u001b[1;31m---------------------------------------------------------------------------\u001b[0m",
      "\u001b[1;31mValueError\u001b[0m                                Traceback (most recent call last)",
      "\u001b[1;32m~\\AppData\\Local\\Temp\\ipykernel_7864\\2144201298.py\u001b[0m in \u001b[0;36m<module>\u001b[1;34m\u001b[0m\n\u001b[0;32m      4\u001b[0m                            \u001b[0mn_jobs\u001b[0m\u001b[1;33m=\u001b[0m\u001b[1;33m-\u001b[0m\u001b[1;36m1\u001b[0m\u001b[1;33m,\u001b[0m\u001b[1;33m\u001b[0m\u001b[1;33m\u001b[0m\u001b[0m\n\u001b[0;32m      5\u001b[0m                            random_state=142)\n\u001b[1;32m----> 6\u001b[1;33m \u001b[0mrf\u001b[0m\u001b[1;33m.\u001b[0m\u001b[0mfit\u001b[0m\u001b[1;33m(\u001b[0m\u001b[0mX_train\u001b[0m\u001b[1;33m,\u001b[0m \u001b[0my_train\u001b[0m\u001b[1;33m)\u001b[0m\u001b[1;33m\u001b[0m\u001b[1;33m\u001b[0m\u001b[0m\n\u001b[0m",
      "\u001b[1;32m~\\anaconda3\\lib\\site-packages\\sklearn\\ensemble\\_forest.py\u001b[0m in \u001b[0;36mfit\u001b[1;34m(self, X, y, sample_weight)\u001b[0m\n\u001b[0;32m    343\u001b[0m         \u001b[1;32mif\u001b[0m \u001b[0missparse\u001b[0m\u001b[1;33m(\u001b[0m\u001b[0my\u001b[0m\u001b[1;33m)\u001b[0m\u001b[1;33m:\u001b[0m\u001b[1;33m\u001b[0m\u001b[1;33m\u001b[0m\u001b[0m\n\u001b[0;32m    344\u001b[0m             \u001b[1;32mraise\u001b[0m \u001b[0mValueError\u001b[0m\u001b[1;33m(\u001b[0m\u001b[1;34m\"sparse multilabel-indicator for y is not supported.\"\u001b[0m\u001b[1;33m)\u001b[0m\u001b[1;33m\u001b[0m\u001b[1;33m\u001b[0m\u001b[0m\n\u001b[1;32m--> 345\u001b[1;33m         X, y = self._validate_data(\n\u001b[0m\u001b[0;32m    346\u001b[0m             \u001b[0mX\u001b[0m\u001b[1;33m,\u001b[0m \u001b[0my\u001b[0m\u001b[1;33m,\u001b[0m \u001b[0mmulti_output\u001b[0m\u001b[1;33m=\u001b[0m\u001b[1;32mTrue\u001b[0m\u001b[1;33m,\u001b[0m \u001b[0maccept_sparse\u001b[0m\u001b[1;33m=\u001b[0m\u001b[1;34m\"csc\"\u001b[0m\u001b[1;33m,\u001b[0m \u001b[0mdtype\u001b[0m\u001b[1;33m=\u001b[0m\u001b[0mDTYPE\u001b[0m\u001b[1;33m\u001b[0m\u001b[1;33m\u001b[0m\u001b[0m\n\u001b[0;32m    347\u001b[0m         )\n",
      "\u001b[1;32m~\\anaconda3\\lib\\site-packages\\sklearn\\base.py\u001b[0m in \u001b[0;36m_validate_data\u001b[1;34m(self, X, y, reset, validate_separately, **check_params)\u001b[0m\n\u001b[0;32m    582\u001b[0m                 \u001b[0my\u001b[0m \u001b[1;33m=\u001b[0m \u001b[0mcheck_array\u001b[0m\u001b[1;33m(\u001b[0m\u001b[0my\u001b[0m\u001b[1;33m,\u001b[0m \u001b[0minput_name\u001b[0m\u001b[1;33m=\u001b[0m\u001b[1;34m\"y\"\u001b[0m\u001b[1;33m,\u001b[0m \u001b[1;33m**\u001b[0m\u001b[0mcheck_y_params\u001b[0m\u001b[1;33m)\u001b[0m\u001b[1;33m\u001b[0m\u001b[1;33m\u001b[0m\u001b[0m\n\u001b[0;32m    583\u001b[0m             \u001b[1;32melse\u001b[0m\u001b[1;33m:\u001b[0m\u001b[1;33m\u001b[0m\u001b[1;33m\u001b[0m\u001b[0m\n\u001b[1;32m--> 584\u001b[1;33m                 \u001b[0mX\u001b[0m\u001b[1;33m,\u001b[0m \u001b[0my\u001b[0m \u001b[1;33m=\u001b[0m \u001b[0mcheck_X_y\u001b[0m\u001b[1;33m(\u001b[0m\u001b[0mX\u001b[0m\u001b[1;33m,\u001b[0m \u001b[0my\u001b[0m\u001b[1;33m,\u001b[0m \u001b[1;33m**\u001b[0m\u001b[0mcheck_params\u001b[0m\u001b[1;33m)\u001b[0m\u001b[1;33m\u001b[0m\u001b[1;33m\u001b[0m\u001b[0m\n\u001b[0m\u001b[0;32m    585\u001b[0m             \u001b[0mout\u001b[0m \u001b[1;33m=\u001b[0m \u001b[0mX\u001b[0m\u001b[1;33m,\u001b[0m \u001b[0my\u001b[0m\u001b[1;33m\u001b[0m\u001b[1;33m\u001b[0m\u001b[0m\n\u001b[0;32m    586\u001b[0m \u001b[1;33m\u001b[0m\u001b[0m\n",
      "\u001b[1;32m~\\anaconda3\\lib\\site-packages\\sklearn\\utils\\validation.py\u001b[0m in \u001b[0;36mcheck_X_y\u001b[1;34m(X, y, accept_sparse, accept_large_sparse, dtype, order, copy, force_all_finite, ensure_2d, allow_nd, multi_output, ensure_min_samples, ensure_min_features, y_numeric, estimator)\u001b[0m\n\u001b[0;32m   1104\u001b[0m         )\n\u001b[0;32m   1105\u001b[0m \u001b[1;33m\u001b[0m\u001b[0m\n\u001b[1;32m-> 1106\u001b[1;33m     X = check_array(\n\u001b[0m\u001b[0;32m   1107\u001b[0m         \u001b[0mX\u001b[0m\u001b[1;33m,\u001b[0m\u001b[1;33m\u001b[0m\u001b[1;33m\u001b[0m\u001b[0m\n\u001b[0;32m   1108\u001b[0m         \u001b[0maccept_sparse\u001b[0m\u001b[1;33m=\u001b[0m\u001b[0maccept_sparse\u001b[0m\u001b[1;33m,\u001b[0m\u001b[1;33m\u001b[0m\u001b[1;33m\u001b[0m\u001b[0m\n",
      "\u001b[1;32m~\\anaconda3\\lib\\site-packages\\sklearn\\utils\\validation.py\u001b[0m in \u001b[0;36mcheck_array\u001b[1;34m(array, accept_sparse, accept_large_sparse, dtype, order, copy, force_all_finite, ensure_2d, allow_nd, ensure_min_samples, ensure_min_features, estimator, input_name)\u001b[0m\n\u001b[0;32m    919\u001b[0m \u001b[1;33m\u001b[0m\u001b[0m\n\u001b[0;32m    920\u001b[0m         \u001b[1;32mif\u001b[0m \u001b[0mforce_all_finite\u001b[0m\u001b[1;33m:\u001b[0m\u001b[1;33m\u001b[0m\u001b[1;33m\u001b[0m\u001b[0m\n\u001b[1;32m--> 921\u001b[1;33m             _assert_all_finite(\n\u001b[0m\u001b[0;32m    922\u001b[0m                 \u001b[0marray\u001b[0m\u001b[1;33m,\u001b[0m\u001b[1;33m\u001b[0m\u001b[1;33m\u001b[0m\u001b[0m\n\u001b[0;32m    923\u001b[0m                 \u001b[0minput_name\u001b[0m\u001b[1;33m=\u001b[0m\u001b[0minput_name\u001b[0m\u001b[1;33m,\u001b[0m\u001b[1;33m\u001b[0m\u001b[1;33m\u001b[0m\u001b[0m\n",
      "\u001b[1;32m~\\anaconda3\\lib\\site-packages\\sklearn\\utils\\validation.py\u001b[0m in \u001b[0;36m_assert_all_finite\u001b[1;34m(X, allow_nan, msg_dtype, estimator_name, input_name)\u001b[0m\n\u001b[0;32m    159\u001b[0m                 \u001b[1;34m\"#estimators-that-handle-nan-values\"\u001b[0m\u001b[1;33m\u001b[0m\u001b[1;33m\u001b[0m\u001b[0m\n\u001b[0;32m    160\u001b[0m             )\n\u001b[1;32m--> 161\u001b[1;33m         \u001b[1;32mraise\u001b[0m \u001b[0mValueError\u001b[0m\u001b[1;33m(\u001b[0m\u001b[0mmsg_err\u001b[0m\u001b[1;33m)\u001b[0m\u001b[1;33m\u001b[0m\u001b[1;33m\u001b[0m\u001b[0m\n\u001b[0m\u001b[0;32m    162\u001b[0m \u001b[1;33m\u001b[0m\u001b[0m\n\u001b[0;32m    163\u001b[0m \u001b[1;33m\u001b[0m\u001b[0m\n",
      "\u001b[1;31mValueError\u001b[0m: Input X contains NaN.\nRandomForestRegressor does not accept missing values encoded as NaN natively. For supervised learning, you might want to consider sklearn.ensemble.HistGradientBoostingClassifier and Regressor which accept missing values encoded as NaNs natively. Alternatively, it is possible to preprocess the data, for instance by using an imputer transformer in a pipeline or drop samples with missing values. See https://scikit-learn.org/stable/modules/impute.html You can find a list of all estimators that handle NaN values at the following page: https://scikit-learn.org/stable/modules/impute.html#estimators-that-handle-nan-values"
     ]
    }
   ],
   "source": [
    "rf = RandomForestRegressor(n_estimators=500,\n",
    "                           max_depth=5,\n",
    "                           criterion='squared_error',\n",
    "                           n_jobs=-1,\n",
    "                           random_state=142)\n",
    "rf.fit(X_train, y_train)"
   ]
  },
  {
   "cell_type": "code",
   "execution_count": null,
   "id": "288111ef",
   "metadata": {},
   "outputs": [],
   "source": [
    "y_pred = rf.predict(X_test)\n",
    "mse = mean_squared_error(y_test, y_pred)\n",
    "mse"
   ]
  },
  {
   "cell_type": "code",
   "execution_count": null,
   "id": "43ef3a50",
   "metadata": {},
   "outputs": [],
   "source": [
    "rmse = math.sqrt(mse)\n",
    "rmse"
   ]
  },
  {
   "cell_type": "code",
   "execution_count": null,
   "id": "93fa9f6f",
   "metadata": {},
   "outputs": [],
   "source": [
    "y_train_pred = rf.predict(X_train)\n",
    "y_test_pred = rf.predict(X_test)\n",
    "\n",
    "print('R^2 train: %.3f, test: %.3f' % \n",
    "      (r2_score(y_train, y_train_pred), \n",
    "       r2_score(y_test, y_test_pred)))"
   ]
  },
  {
   "cell_type": "code",
   "execution_count": null,
   "id": "54c9412e",
   "metadata": {},
   "outputs": [],
   "source": [
    "plt.scatter(y_train_pred, y_train_pred - y_train, \n",
    "               c='steelblue', marker='o', edgecolor='white', \n",
    "               label='Training data')\n",
    "\n",
    "plt.scatter(y_test_pred, y_test_pred - y_test, \n",
    "            c='limegreen', marker='s', edgecolor='white', \n",
    "            label='Test data')\n",
    "\n",
    "plt.xlabel('Predicted values')\n",
    "plt.ylabel('Residuals')\n",
    "plt.legend(loc='upper left')\n",
    "plt.hlines(y=0, xmin=-1e7, xmax=5e7, color='black', lw=2)\n",
    "plt.xlim([-1e7, 5e7])\n",
    "plt.show()"
   ]
  },
  {
   "cell_type": "code",
   "execution_count": null,
   "id": "740dc335",
   "metadata": {},
   "outputs": [],
   "source": [
    "f_importances = pd.Series(rf.feature_importances_, index=xx.columns)\n",
    "f_importances = np.argsort(f_importances)\n",
    "f_importances"
   ]
  },
  {
   "cell_type": "code",
   "execution_count": null,
   "id": "143aa8c2",
   "metadata": {},
   "outputs": [],
   "source": [
    "col_names = xx.columns\n",
    "f_importances = pd.Series(rf.feature_importances_, index=col_names)\n",
    "#idxs = np.argsort(importances)\n",
    "plt.title('Feature Importances')\n",
    "f_importances.nlargest(20).plot(kind='barh').invert_yaxis();\n",
    "#plt.barh(X_train.shape[1], importances[idxs], align='center')\n",
    "#plt.yticks(range(len(idxs)), [col_names[i] for i in idxs])\n",
    "plt.xlabel('Random Forest Feature Importance')\n",
    "plt.show()"
   ]
  },
  {
   "cell_type": "code",
   "execution_count": null,
   "id": "fdd21ac3",
   "metadata": {},
   "outputs": [],
   "source": [
    "from sklearn.inspection import permutation_importance\n",
    "#import shap\n",
    "\n",
    "perm_imp = permutation_importance(rf, X_test, y_test)\n",
    "sorted_imp = perm_imp.importances_mean.argsort()\n",
    "sorted_imp[:20]"
   ]
  },
  {
   "cell_type": "code",
   "execution_count": null,
   "id": "cef72184",
   "metadata": {},
   "outputs": [],
   "source": [
    "sorted_imp = sorted_imp[:20]\n",
    "sorted_imp"
   ]
  },
  {
   "cell_type": "code",
   "execution_count": null,
   "id": "121c547b",
   "metadata": {},
   "outputs": [],
   "source": [
    "plt.barh(perm_imp.importances_mean[sorted_imp])"
   ]
  },
  {
   "cell_type": "markdown",
   "id": "e7c5f7c6",
   "metadata": {},
   "source": [
    "### XGBOOST"
   ]
  },
  {
   "cell_type": "code",
   "execution_count": null,
   "id": "24eddeef",
   "metadata": {},
   "outputs": [],
   "source": [
    "xgb.XGBRegressor??"
   ]
  },
  {
   "cell_type": "code",
   "execution_count": null,
   "id": "67428f9d",
   "metadata": {},
   "outputs": [],
   "source": [
    "from xgboost import XGBRegressor\n",
    "\n",
    "#gblinear, dart,\n",
    "xgb = XGBRegressor(n_estimators=1000, max_depth=8,\n",
    "                      grow_policy=\"depthwise\", learning_rate=0.1,\n",
    "                      booster=\"gbtree\", gamma=0.1,\n",
    "                      subsample=0.367, reg_lambda=10.0,\n",
    "                      importance_type=\"weight\", random_state=142)"
   ]
  },
  {
   "cell_type": "code",
   "execution_count": null,
   "id": "48152088",
   "metadata": {},
   "outputs": [],
   "source": [
    "xgb.fit(X_train, y_train)"
   ]
  },
  {
   "cell_type": "code",
   "execution_count": null,
   "id": "ddbee5ab",
   "metadata": {},
   "outputs": [],
   "source": [
    "y_pred = xgb.predict(X_test)\n",
    "mse = mean_squared_error(y_test, y_pred)\n",
    "mse"
   ]
  },
  {
   "cell_type": "code",
   "execution_count": null,
   "id": "49373bc4",
   "metadata": {},
   "outputs": [],
   "source": [
    "rmse = math.sqrt(mse)\n",
    "rmse"
   ]
  },
  {
   "cell_type": "code",
   "execution_count": null,
   "id": "c6e9d910",
   "metadata": {},
   "outputs": [],
   "source": [
    "y_train_pred = xgb.predict(X_train)\n",
    "y_test_pred = xgb.predict(X_test)\n",
    "\n",
    "print('R^2 train: %.3f, test: %.3f' % \n",
    "      (r2_score(y_train, y_train_pred), \n",
    "       r2_score(y_test, y_test_pred)))"
   ]
  },
  {
   "cell_type": "code",
   "execution_count": null,
   "id": "f0905fc8",
   "metadata": {},
   "outputs": [],
   "source": [
    "plt.scatter(y_train_pred, y_train_pred - y_train, \n",
    "               c='steelblue', marker='o', edgecolor='white', \n",
    "               label='Training data')\n",
    "\n",
    "plt.scatter(y_test_pred, y_test_pred - y_test, \n",
    "            c='limegreen', marker='s', edgecolor='white', \n",
    "            label='Test data')\n",
    "\n",
    "plt.xlabel('Predicted values')\n",
    "plt.ylabel('Residuals')\n",
    "plt.legend(loc='upper left')\n",
    "plt.hlines(y=0, xmin=-1e7, xmax=5e7, color='black', lw=2)\n",
    "plt.xlim([-1e7, 5e7])\n",
    "plt.show()"
   ]
  },
  {
   "cell_type": "markdown",
   "id": "edca258c",
   "metadata": {},
   "source": [
    "### LGBM"
   ]
  },
  {
   "cell_type": "code",
   "execution_count": null,
   "id": "8484390d",
   "metadata": {},
   "outputs": [],
   "source": [
    "lgb = LGBMRegressor(n_estimators=1000,\n",
    "                    boosting_type='gbdt',\n",
    "                    objective='regression',\n",
    "                    learning_rate=0.01,\n",
    "                    reg_lambda=10.0,\n",
    "                    subsample=0.645,\n",
    "                    num_leaves=16, \n",
    "                    max_depth=8, \n",
    "                    random_state=142)"
   ]
  },
  {
   "cell_type": "code",
   "execution_count": null,
   "id": "f748c233",
   "metadata": {},
   "outputs": [],
   "source": [
    "lgb.fit(X_train, y_train)"
   ]
  },
  {
   "cell_type": "code",
   "execution_count": null,
   "id": "430a2b83",
   "metadata": {},
   "outputs": [],
   "source": [
    "y_pred = lgb.predict(X_test)\n",
    "mse = mean_squared_error(y_test, y_pred)\n",
    "mse"
   ]
  },
  {
   "cell_type": "code",
   "execution_count": null,
   "id": "86bd1e17",
   "metadata": {},
   "outputs": [],
   "source": [
    "rmse = math.sqrt(mse)\n",
    "rmse"
   ]
  },
  {
   "cell_type": "code",
   "execution_count": null,
   "id": "7a42aeb8",
   "metadata": {},
   "outputs": [],
   "source": [
    "y_train_pred = lgb.predict(X_train)\n",
    "y_test_pred = lgb.predict(X_test)\n",
    "\n",
    "print('R^2 train: %.3f, test: %.3f' % \n",
    "      (r2_score(y_train, y_train_pred), \n",
    "       r2_score(y_test, y_test_pred)))"
   ]
  },
  {
   "cell_type": "code",
   "execution_count": null,
   "id": "657fab37",
   "metadata": {},
   "outputs": [],
   "source": [
    "plt.scatter(y_train_pred, y_train_pred - y_train, \n",
    "               c='steelblue', marker='o', edgecolor='white', \n",
    "               label='Training data')\n",
    "\n",
    "plt.scatter(y_test_pred, y_test_pred - y_test, \n",
    "            c='limegreen', marker='s', edgecolor='white', \n",
    "            label='Test data')\n",
    "\n",
    "plt.xlabel('Predicted values')\n",
    "plt.ylabel('Residuals')\n",
    "plt.legend(loc='upper left')\n",
    "plt.hlines(y=0, xmin=-1e7, xmax=5e7, color='black', lw=2)\n",
    "plt.xlim([-1e7, 5e7])\n",
    "plt.show()"
   ]
  },
  {
   "cell_type": "code",
   "execution_count": null,
   "id": "724bc7ca",
   "metadata": {},
   "outputs": [],
   "source": [
    "col_names = train.columns"
   ]
  },
  {
   "cell_type": "code",
   "execution_count": null,
   "id": "9f7d4cb2",
   "metadata": {},
   "outputs": [],
   "source": [
    "importances = pd.Series(lgb.feature_importances_, xx.columns)\n",
    "idxs = np.argsort(importances)\n",
    "plt.title('Feature Importances')\n",
    "importances.nlargest(20).plot(kind='barh').invert_yaxis();\n",
    "#plt.barh(range(len(idxs)), importances[idxs], align='center')\n",
    "plt.yticks(range(len(idxs)), [col_names[i] for i in idxs])\n",
    "plt.xlabel('Random Forest Feature Importance')\n",
    "plt.show()"
   ]
  },
  {
   "cell_type": "code",
   "execution_count": null,
   "id": "0dadc424",
   "metadata": {},
   "outputs": [],
   "source": [
    "test.head()"
   ]
  },
  {
   "cell_type": "code",
   "execution_count": null,
   "id": "05866a93",
   "metadata": {
    "scrolled": true
   },
   "outputs": [],
   "source": [
    "test.drop(columns=['total_cost'], axis=1, inplace=True)\n",
    "test[90:105]"
   ]
  },
  {
   "cell_type": "code",
   "execution_count": null,
   "id": "075c7e4d",
   "metadata": {},
   "outputs": [],
   "source": [
    "cat = test.select_dtypes(exclude=np.number).columns.tolist()\n",
    "\n",
    "for col in cat:\n",
    "    test[col] = test[col].astype('category')"
   ]
  },
  {
   "cell_type": "code",
   "execution_count": null,
   "id": "66b77b39",
   "metadata": {},
   "outputs": [],
   "source": [
    "model.predict(xgb.DMatrix(test[90:105], enable_categorical=True))"
   ]
  },
  {
   "cell_type": "code",
   "execution_count": null,
   "id": "902cc471",
   "metadata": {},
   "outputs": [],
   "source": []
  }
 ],
 "metadata": {
  "kernelspec": {
   "display_name": "Python 3 (ipykernel)",
   "language": "python",
   "name": "python3"
  },
  "language_info": {
   "codemirror_mode": {
    "name": "ipython",
    "version": 3
   },
   "file_extension": ".py",
   "mimetype": "text/x-python",
   "name": "python",
   "nbconvert_exporter": "python",
   "pygments_lexer": "ipython3",
   "version": "3.9.16"
  }
 },
 "nbformat": 4,
 "nbformat_minor": 5
}
