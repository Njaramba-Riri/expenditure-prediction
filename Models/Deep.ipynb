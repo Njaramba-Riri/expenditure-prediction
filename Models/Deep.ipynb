{
 "cells": [
  {
   "cell_type": "code",
   "execution_count": 1,
   "id": "ee2af61c-6ef6-4370-9772-ebe366d92a71",
   "metadata": {},
   "outputs": [],
   "source": [
    "import tensorflow as tf \n",
    "from tensorflow.keras import Sequential\n",
    "from tensorflow.keras.layers import Dense, Dropout\n",
    "from sklearn.metrics import classification_report, confusion_matrix, accuracy_score\n",
    "from sklearn.model_selection import train_test_split, StratifiedKFold\n",
    "from scipy.stats import chi2_contingency \n",
    "from pipelines import preprocessor, preprocessor2\n",
    "from preprocess import extra_features, separate\n",
    "import pickle\n",
    "import joblib"
   ]
  },
  {
   "cell_type": "code",
   "execution_count": 2,
   "id": "960a4f49-7a36-40f7-af40-1c1ef86053ad",
   "metadata": {},
   "outputs": [
    {
     "data": {
      "application/javascript": [
       "\n",
       "        if (window._pyforest_update_imports_cell) { window._pyforest_update_imports_cell('import pandas as pd'); }\n",
       "    "
      ],
      "text/plain": [
       "<IPython.core.display.Javascript object>"
      ]
     },
     "metadata": {},
     "output_type": "display_data"
    },
    {
     "name": "stdout",
     "output_type": "stream",
     "text": [
      "Target Column: ['cost_category']\n",
      "\n",
      "Numerical Columns: ['night_mainland', 'night_zanzibar', 'total_nights']\n",
      "\n",
      "Categorical Columns: ['age_group', 'travel_with', 'tour_arrangement', 'package_transport_int', 'package_accomodation', 'package_food', 'package_transport_tz', 'package_sightseeing', 'package_guided_tour', 'package_insurance', 'first_trip_tz', 'trip_length', 'group_size']\n",
      "\n",
      "Text Columns: ['country', 'purpose', 'main_activity', 'info_source']\n"
     ]
    }
   ],
   "source": [
    "train= pd.read_csv(\"Datasets/train.csv\")\n",
    "train=extra_features(train)\n",
    "separate(train)"
   ]
  },
  {
   "cell_type": "code",
   "execution_count": 3,
   "id": "9777921a-626e-49a9-be08-2235b9be778d",
   "metadata": {},
   "outputs": [],
   "source": [
    "X=train.drop('cost_category', axis=1)\n",
    "y=train['cost_category']"
   ]
  },
  {
   "cell_type": "code",
   "execution_count": 4,
   "id": "9c2b4d58-16b0-41af-83a2-34487b4ef00b",
   "metadata": {},
   "outputs": [
    {
     "data": {
      "text/plain": [
       "(18506, 23)"
      ]
     },
     "execution_count": 4,
     "metadata": {},
     "output_type": "execute_result"
    }
   ],
   "source": [
    "X.shape"
   ]
  },
  {
   "cell_type": "code",
   "execution_count": 5,
   "id": "bb38ec4d-8fa2-4af5-8959-81ec736265c2",
   "metadata": {},
   "outputs": [
    {
     "data": {
      "text/html": [
       "<div>\n",
       "<style scoped>\n",
       "    .dataframe tbody tr th:only-of-type {\n",
       "        vertical-align: middle;\n",
       "    }\n",
       "\n",
       "    .dataframe tbody tr th {\n",
       "        vertical-align: top;\n",
       "    }\n",
       "\n",
       "    .dataframe thead th {\n",
       "        text-align: right;\n",
       "    }\n",
       "</style>\n",
       "<table border=\"1\" class=\"dataframe\">\n",
       "  <thead>\n",
       "    <tr style=\"text-align: right;\">\n",
       "      <th></th>\n",
       "      <th>country</th>\n",
       "      <th>age_group</th>\n",
       "      <th>travel_with</th>\n",
       "      <th>total_female</th>\n",
       "      <th>total_male</th>\n",
       "      <th>purpose</th>\n",
       "      <th>main_activity</th>\n",
       "      <th>info_source</th>\n",
       "      <th>tour_arrangement</th>\n",
       "      <th>package_transport_int</th>\n",
       "      <th>...</th>\n",
       "      <th>package_sightseeing</th>\n",
       "      <th>package_guided_tour</th>\n",
       "      <th>package_insurance</th>\n",
       "      <th>night_mainland</th>\n",
       "      <th>night_zanzibar</th>\n",
       "      <th>first_trip_tz</th>\n",
       "      <th>total_nights</th>\n",
       "      <th>trip_length</th>\n",
       "      <th>total_people</th>\n",
       "      <th>group_size</th>\n",
       "    </tr>\n",
       "    <tr>\n",
       "      <th>Tour_ID</th>\n",
       "      <th></th>\n",
       "      <th></th>\n",
       "      <th></th>\n",
       "      <th></th>\n",
       "      <th></th>\n",
       "      <th></th>\n",
       "      <th></th>\n",
       "      <th></th>\n",
       "      <th></th>\n",
       "      <th></th>\n",
       "      <th></th>\n",
       "      <th></th>\n",
       "      <th></th>\n",
       "      <th></th>\n",
       "      <th></th>\n",
       "      <th></th>\n",
       "      <th></th>\n",
       "      <th></th>\n",
       "      <th></th>\n",
       "      <th></th>\n",
       "      <th></th>\n",
       "    </tr>\n",
       "  </thead>\n",
       "  <tbody>\n",
       "    <tr>\n",
       "      <th>tour_id1hffseyw</th>\n",
       "      <td>ITALY</td>\n",
       "      <td>45-64</td>\n",
       "      <td>With Children</td>\n",
       "      <td>0.0</td>\n",
       "      <td>2.0</td>\n",
       "      <td>Visiting Friends and Relatives</td>\n",
       "      <td>Beach Tourism</td>\n",
       "      <td>Friends, relatives</td>\n",
       "      <td>Package Tour</td>\n",
       "      <td>Yes</td>\n",
       "      <td>...</td>\n",
       "      <td>No</td>\n",
       "      <td>No</td>\n",
       "      <td>No</td>\n",
       "      <td>0</td>\n",
       "      <td>7</td>\n",
       "      <td>Yes</td>\n",
       "      <td>7</td>\n",
       "      <td>Normal</td>\n",
       "      <td>2.0</td>\n",
       "      <td>small</td>\n",
       "    </tr>\n",
       "    <tr>\n",
       "      <th>tour_idnacd7zag</th>\n",
       "      <td>UNITED KINGDOM</td>\n",
       "      <td>25-44</td>\n",
       "      <td>With Spouse</td>\n",
       "      <td>1.0</td>\n",
       "      <td>1.0</td>\n",
       "      <td>Leisure and Holidays</td>\n",
       "      <td>Wildlife Tourism</td>\n",
       "      <td>Travel agent, tour operator</td>\n",
       "      <td>Package Tour</td>\n",
       "      <td>Yes</td>\n",
       "      <td>...</td>\n",
       "      <td>No</td>\n",
       "      <td>No</td>\n",
       "      <td>No</td>\n",
       "      <td>0</td>\n",
       "      <td>7</td>\n",
       "      <td>Yes</td>\n",
       "      <td>7</td>\n",
       "      <td>Normal</td>\n",
       "      <td>2.0</td>\n",
       "      <td>small</td>\n",
       "    </tr>\n",
       "  </tbody>\n",
       "</table>\n",
       "<p>2 rows × 23 columns</p>\n",
       "</div>"
      ],
      "text/plain": [
       "                        country age_group    travel_with  total_female  \\\n",
       "Tour_ID                                                                  \n",
       "tour_id1hffseyw           ITALY     45-64  With Children           0.0   \n",
       "tour_idnacd7zag  UNITED KINGDOM     25-44    With Spouse           1.0   \n",
       "\n",
       "                 total_male                         purpose     main_activity  \\\n",
       "Tour_ID                                                                         \n",
       "tour_id1hffseyw         2.0  Visiting Friends and Relatives     Beach Tourism   \n",
       "tour_idnacd7zag         1.0            Leisure and Holidays  Wildlife Tourism   \n",
       "\n",
       "                                 info_source tour_arrangement  \\\n",
       "Tour_ID                                                         \n",
       "tour_id1hffseyw           Friends, relatives     Package Tour   \n",
       "tour_idnacd7zag  Travel agent, tour operator     Package Tour   \n",
       "\n",
       "                package_transport_int  ... package_sightseeing  \\\n",
       "Tour_ID                                ...                       \n",
       "tour_id1hffseyw                   Yes  ...                  No   \n",
       "tour_idnacd7zag                   Yes  ...                  No   \n",
       "\n",
       "                package_guided_tour package_insurance night_mainland  \\\n",
       "Tour_ID                                                                \n",
       "tour_id1hffseyw                  No                No              0   \n",
       "tour_idnacd7zag                  No                No              0   \n",
       "\n",
       "                night_zanzibar first_trip_tz  total_nights  trip_length  \\\n",
       "Tour_ID                                                                   \n",
       "tour_id1hffseyw              7           Yes             7       Normal   \n",
       "tour_idnacd7zag              7           Yes             7       Normal   \n",
       "\n",
       "                total_people  group_size  \n",
       "Tour_ID                                   \n",
       "tour_id1hffseyw          2.0       small  \n",
       "tour_idnacd7zag          2.0       small  \n",
       "\n",
       "[2 rows x 23 columns]"
      ]
     },
     "execution_count": 5,
     "metadata": {},
     "output_type": "execute_result"
    }
   ],
   "source": [
    "X.head(2)"
   ]
  },
  {
   "cell_type": "code",
   "execution_count": 6,
   "id": "919bc0b2-a23b-4479-b548-f827aeab32bf",
   "metadata": {},
   "outputs": [
    {
     "data": {
      "application/javascript": [
       "\n",
       "        if (window._pyforest_update_imports_cell) { window._pyforest_update_imports_cell('import pandas as pd'); }\n",
       "    "
      ],
      "text/plain": [
       "<IPython.core.display.Javascript object>"
      ]
     },
     "metadata": {},
     "output_type": "display_data"
    },
    {
     "name": "stdout",
     "output_type": "stream",
     "text": [
      "Column: country\n",
      "Chi_Test: 9779.033678192025\n",
      "P_Value: 0.0\n",
      "*************\n"
     ]
    },
    {
     "data": {
      "application/javascript": [
       "\n",
       "        if (window._pyforest_update_imports_cell) { window._pyforest_update_imports_cell('import pandas as pd'); }\n",
       "    "
      ],
      "text/plain": [
       "<IPython.core.display.Javascript object>"
      ]
     },
     "metadata": {},
     "output_type": "display_data"
    },
    {
     "name": "stdout",
     "output_type": "stream",
     "text": [
      "Column: age_group\n",
      "Chi_Test: 1803.196457648891\n",
      "P_Value: 0.0\n",
      "*************\n"
     ]
    },
    {
     "data": {
      "application/javascript": [
       "\n",
       "        if (window._pyforest_update_imports_cell) { window._pyforest_update_imports_cell('import pandas as pd'); }\n",
       "    "
      ],
      "text/plain": [
       "<IPython.core.display.Javascript object>"
      ]
     },
     "metadata": {},
     "output_type": "display_data"
    },
    {
     "name": "stdout",
     "output_type": "stream",
     "text": [
      "Column: travel_with\n",
      "Chi_Test: 4358.8256594511395\n",
      "P_Value: 0.0\n",
      "*************\n"
     ]
    },
    {
     "data": {
      "application/javascript": [
       "\n",
       "        if (window._pyforest_update_imports_cell) { window._pyforest_update_imports_cell('import pandas as pd'); }\n",
       "    "
      ],
      "text/plain": [
       "<IPython.core.display.Javascript object>"
      ]
     },
     "metadata": {},
     "output_type": "display_data"
    },
    {
     "name": "stdout",
     "output_type": "stream",
     "text": [
      "Column: total_female\n",
      "Chi_Test: 3730.647692424969\n",
      "P_Value: 0.0\n",
      "*************\n"
     ]
    },
    {
     "data": {
      "application/javascript": [
       "\n",
       "        if (window._pyforest_update_imports_cell) { window._pyforest_update_imports_cell('import pandas as pd'); }\n",
       "    "
      ],
      "text/plain": [
       "<IPython.core.display.Javascript object>"
      ]
     },
     "metadata": {},
     "output_type": "display_data"
    },
    {
     "name": "stdout",
     "output_type": "stream",
     "text": [
      "Column: total_male\n",
      "Chi_Test: 1402.6656478001087\n",
      "P_Value: 3.290821934232691e-220\n",
      "*************\n"
     ]
    },
    {
     "data": {
      "application/javascript": [
       "\n",
       "        if (window._pyforest_update_imports_cell) { window._pyforest_update_imports_cell('import pandas as pd'); }\n",
       "    "
      ],
      "text/plain": [
       "<IPython.core.display.Javascript object>"
      ]
     },
     "metadata": {},
     "output_type": "display_data"
    },
    {
     "name": "stdout",
     "output_type": "stream",
     "text": [
      "Column: purpose\n",
      "Chi_Test: 6975.312873617305\n",
      "P_Value: 0.0\n",
      "*************\n"
     ]
    },
    {
     "data": {
      "application/javascript": [
       "\n",
       "        if (window._pyforest_update_imports_cell) { window._pyforest_update_imports_cell('import pandas as pd'); }\n",
       "    "
      ],
      "text/plain": [
       "<IPython.core.display.Javascript object>"
      ]
     },
     "metadata": {},
     "output_type": "display_data"
    },
    {
     "name": "stdout",
     "output_type": "stream",
     "text": [
      "Column: main_activity\n",
      "Chi_Test: 3606.50524881434\n",
      "P_Value: 0.0\n",
      "*************\n"
     ]
    },
    {
     "data": {
      "application/javascript": [
       "\n",
       "        if (window._pyforest_update_imports_cell) { window._pyforest_update_imports_cell('import pandas as pd'); }\n",
       "    "
      ],
      "text/plain": [
       "<IPython.core.display.Javascript object>"
      ]
     },
     "metadata": {},
     "output_type": "display_data"
    },
    {
     "name": "stdout",
     "output_type": "stream",
     "text": [
      "Column: info_source\n",
      "Chi_Test: 4166.3943611855575\n",
      "P_Value: 0.0\n",
      "*************\n"
     ]
    },
    {
     "data": {
      "application/javascript": [
       "\n",
       "        if (window._pyforest_update_imports_cell) { window._pyforest_update_imports_cell('import pandas as pd'); }\n",
       "    "
      ],
      "text/plain": [
       "<IPython.core.display.Javascript object>"
      ]
     },
     "metadata": {},
     "output_type": "display_data"
    },
    {
     "name": "stdout",
     "output_type": "stream",
     "text": [
      "Column: tour_arrangement\n",
      "Chi_Test: 8331.284428771029\n",
      "P_Value: 0.0\n",
      "*************\n"
     ]
    },
    {
     "data": {
      "application/javascript": [
       "\n",
       "        if (window._pyforest_update_imports_cell) { window._pyforest_update_imports_cell('import pandas as pd'); }\n",
       "    "
      ],
      "text/plain": [
       "<IPython.core.display.Javascript object>"
      ]
     },
     "metadata": {},
     "output_type": "display_data"
    },
    {
     "name": "stdout",
     "output_type": "stream",
     "text": [
      "Column: package_transport_int\n",
      "Chi_Test: 5414.9841247089\n",
      "P_Value: 0.0\n",
      "*************\n"
     ]
    },
    {
     "data": {
      "application/javascript": [
       "\n",
       "        if (window._pyforest_update_imports_cell) { window._pyforest_update_imports_cell('import pandas as pd'); }\n",
       "    "
      ],
      "text/plain": [
       "<IPython.core.display.Javascript object>"
      ]
     },
     "metadata": {},
     "output_type": "display_data"
    },
    {
     "name": "stdout",
     "output_type": "stream",
     "text": [
      "Column: package_accomodation\n",
      "Chi_Test: 7883.608233888307\n",
      "P_Value: 0.0\n",
      "*************\n"
     ]
    },
    {
     "data": {
      "application/javascript": [
       "\n",
       "        if (window._pyforest_update_imports_cell) { window._pyforest_update_imports_cell('import pandas as pd'); }\n",
       "    "
      ],
      "text/plain": [
       "<IPython.core.display.Javascript object>"
      ]
     },
     "metadata": {},
     "output_type": "display_data"
    },
    {
     "name": "stdout",
     "output_type": "stream",
     "text": [
      "Column: package_food\n",
      "Chi_Test: 7146.769578021885\n",
      "P_Value: 0.0\n",
      "*************\n"
     ]
    },
    {
     "data": {
      "application/javascript": [
       "\n",
       "        if (window._pyforest_update_imports_cell) { window._pyforest_update_imports_cell('import pandas as pd'); }\n",
       "    "
      ],
      "text/plain": [
       "<IPython.core.display.Javascript object>"
      ]
     },
     "metadata": {},
     "output_type": "display_data"
    },
    {
     "name": "stdout",
     "output_type": "stream",
     "text": [
      "Column: package_transport_tz\n",
      "Chi_Test: 6346.490489845604\n",
      "P_Value: 0.0\n",
      "*************\n"
     ]
    },
    {
     "data": {
      "application/javascript": [
       "\n",
       "        if (window._pyforest_update_imports_cell) { window._pyforest_update_imports_cell('import pandas as pd'); }\n",
       "    "
      ],
      "text/plain": [
       "<IPython.core.display.Javascript object>"
      ]
     },
     "metadata": {},
     "output_type": "display_data"
    },
    {
     "name": "stdout",
     "output_type": "stream",
     "text": [
      "Column: package_sightseeing\n",
      "Chi_Test: 4501.574863783683\n",
      "P_Value: 0.0\n",
      "*************\n"
     ]
    },
    {
     "data": {
      "application/javascript": [
       "\n",
       "        if (window._pyforest_update_imports_cell) { window._pyforest_update_imports_cell('import pandas as pd'); }\n",
       "    "
      ],
      "text/plain": [
       "<IPython.core.display.Javascript object>"
      ]
     },
     "metadata": {},
     "output_type": "display_data"
    },
    {
     "name": "stdout",
     "output_type": "stream",
     "text": [
      "Column: package_guided_tour\n",
      "Chi_Test: 4873.499054202309\n",
      "P_Value: 0.0\n",
      "*************\n"
     ]
    },
    {
     "data": {
      "application/javascript": [
       "\n",
       "        if (window._pyforest_update_imports_cell) { window._pyforest_update_imports_cell('import pandas as pd'); }\n",
       "    "
      ],
      "text/plain": [
       "<IPython.core.display.Javascript object>"
      ]
     },
     "metadata": {},
     "output_type": "display_data"
    },
    {
     "name": "stdout",
     "output_type": "stream",
     "text": [
      "Column: package_insurance\n",
      "Chi_Test: 2067.872038967938\n",
      "P_Value: 0.0\n",
      "*************\n"
     ]
    },
    {
     "data": {
      "application/javascript": [
       "\n",
       "        if (window._pyforest_update_imports_cell) { window._pyforest_update_imports_cell('import pandas as pd'); }\n",
       "    "
      ],
      "text/plain": [
       "<IPython.core.display.Javascript object>"
      ]
     },
     "metadata": {},
     "output_type": "display_data"
    },
    {
     "name": "stdout",
     "output_type": "stream",
     "text": [
      "Column: night_mainland\n",
      "Chi_Test: 5614.015301227679\n",
      "P_Value: 0.0\n",
      "*************\n"
     ]
    },
    {
     "data": {
      "application/javascript": [
       "\n",
       "        if (window._pyforest_update_imports_cell) { window._pyforest_update_imports_cell('import pandas as pd'); }\n",
       "    "
      ],
      "text/plain": [
       "<IPython.core.display.Javascript object>"
      ]
     },
     "metadata": {},
     "output_type": "display_data"
    },
    {
     "name": "stdout",
     "output_type": "stream",
     "text": [
      "Column: night_zanzibar\n",
      "Chi_Test: 2652.1882265219597\n",
      "P_Value: 0.0\n",
      "*************\n"
     ]
    },
    {
     "data": {
      "application/javascript": [
       "\n",
       "        if (window._pyforest_update_imports_cell) { window._pyforest_update_imports_cell('import pandas as pd'); }\n",
       "    "
      ],
      "text/plain": [
       "<IPython.core.display.Javascript object>"
      ]
     },
     "metadata": {},
     "output_type": "display_data"
    },
    {
     "name": "stdout",
     "output_type": "stream",
     "text": [
      "Column: first_trip_tz\n",
      "Chi_Test: 2229.180451768042\n",
      "P_Value: 0.0\n",
      "*************\n"
     ]
    },
    {
     "data": {
      "application/javascript": [
       "\n",
       "        if (window._pyforest_update_imports_cell) { window._pyforest_update_imports_cell('import pandas as pd'); }\n",
       "    "
      ],
      "text/plain": [
       "<IPython.core.display.Javascript object>"
      ]
     },
     "metadata": {},
     "output_type": "display_data"
    },
    {
     "name": "stdout",
     "output_type": "stream",
     "text": [
      "Column: total_nights\n",
      "Chi_Test: 6523.200295117052\n",
      "P_Value: 0.0\n",
      "*************\n"
     ]
    },
    {
     "data": {
      "application/javascript": [
       "\n",
       "        if (window._pyforest_update_imports_cell) { window._pyforest_update_imports_cell('import pandas as pd'); }\n",
       "    "
      ],
      "text/plain": [
       "<IPython.core.display.Javascript object>"
      ]
     },
     "metadata": {},
     "output_type": "display_data"
    },
    {
     "name": "stdout",
     "output_type": "stream",
     "text": [
      "Column: trip_length\n",
      "Chi_Test: 402.40609235137765\n",
      "P_Value: 2.159271242364782e-76\n",
      "*************\n"
     ]
    },
    {
     "data": {
      "application/javascript": [
       "\n",
       "        if (window._pyforest_update_imports_cell) { window._pyforest_update_imports_cell('import pandas as pd'); }\n",
       "    "
      ],
      "text/plain": [
       "<IPython.core.display.Javascript object>"
      ]
     },
     "metadata": {},
     "output_type": "display_data"
    },
    {
     "name": "stdout",
     "output_type": "stream",
     "text": [
      "Column: total_people\n",
      "Chi_Test: 5188.487023293924\n",
      "P_Value: 0.0\n",
      "*************\n"
     ]
    },
    {
     "data": {
      "application/javascript": [
       "\n",
       "        if (window._pyforest_update_imports_cell) { window._pyforest_update_imports_cell('import pandas as pd'); }\n",
       "    "
      ],
      "text/plain": [
       "<IPython.core.display.Javascript object>"
      ]
     },
     "metadata": {},
     "output_type": "display_data"
    },
    {
     "name": "stdout",
     "output_type": "stream",
     "text": [
      "Column: group_size\n",
      "Chi_Test: 686.1389145094461\n",
      "P_Value: 1.6709403090257822e-136\n",
      "*************\n"
     ]
    }
   ],
   "source": [
    "col_drop=[]\n",
    "\n",
    "for col in X.columns:\n",
    "    \n",
    "    ct=pd.crosstab(y, X[col])\n",
    "    chi2, P, _ , _ = chi2_contingency(ct)\n",
    "    \n",
    "    if P >= 0.05:\n",
    "        col_drop.append(col)\n",
    "    elif chi2 <= 1500:\n",
    "            col_drop.append(col)\n",
    "        \n",
    "    print(f\"Column: {col}\\nChi_Test: {chi2}\\nP_Value: {P}\\n*************\")"
   ]
  },
  {
   "cell_type": "code",
   "execution_count": 7,
   "id": "5a483353-af8c-4cf1-b14a-bdba963144bc",
   "metadata": {},
   "outputs": [
    {
     "data": {
      "text/plain": [
       "['total_male', 'trip_length', 'group_size']"
      ]
     },
     "execution_count": 7,
     "metadata": {},
     "output_type": "execute_result"
    }
   ],
   "source": [
    "col_drop"
   ]
  },
  {
   "cell_type": "code",
   "execution_count": 8,
   "id": "1d60d37e-a4eb-4f7f-bd40-c16f5e90deb8",
   "metadata": {},
   "outputs": [
    {
     "data": {
      "text/plain": [
       "(18506, 20)"
      ]
     },
     "execution_count": 8,
     "metadata": {},
     "output_type": "execute_result"
    }
   ],
   "source": [
    "X.drop(columns=col_drop, inplace=True)\n",
    "X.shape"
   ]
  },
  {
   "cell_type": "code",
   "execution_count": 9,
   "id": "dc60c97d-5e90-4ecb-8f31-049ca5a38442",
   "metadata": {},
   "outputs": [
    {
     "data": {
      "text/plain": [
       "array([[0., 0., 1., ..., 0., 0., 0.],\n",
       "       [0., 1., 0., ..., 0., 0., 0.],\n",
       "       [0., 0., 0., ..., 0., 0., 0.],\n",
       "       ...,\n",
       "       [0., 1., 0., ..., 0., 0., 0.],\n",
       "       [0., 1., 0., ..., 0., 0., 0.],\n",
       "       [0., 1., 0., ..., 0., 0., 0.]])"
      ]
     },
     "execution_count": 9,
     "metadata": {},
     "output_type": "execute_result"
    }
   ],
   "source": [
    "X= preprocessor(X)\n",
    "X"
   ]
  },
  {
   "cell_type": "code",
   "execution_count": 10,
   "id": "559fa5eb-a604-43dd-8319-c2fc626844c2",
   "metadata": {},
   "outputs": [
    {
     "data": {
      "text/plain": [
       "{'High Cost': 0,\n",
       " 'Higher Cost': 1,\n",
       " 'Highest Cost': 2,\n",
       " 'Low Cost': 3,\n",
       " 'Lower Cost': 4,\n",
       " 'Normal Cost': 5}"
      ]
     },
     "execution_count": 10,
     "metadata": {},
     "output_type": "execute_result"
    }
   ],
   "source": [
    "from sklearn.preprocessing import LabelEncoder\n",
    "\n",
    "le=LabelEncoder()\n",
    "y=le.fit_transform(y)\n",
    "mapping= dict(zip(le.classes_, le.transform(le.classes_)))\n",
    "mapping"
   ]
  },
  {
   "cell_type": "code",
   "execution_count": 11,
   "id": "4d5f389b-35e3-4a60-a8b7-d384f09ebca9",
   "metadata": {},
   "outputs": [
    {
     "name": "stdout",
     "output_type": "stream",
     "text": [
      "X_train: (14804, 187)\n",
      "X_test: (3702, 187)\n",
      "y_train: (14804,)\n",
      "y_test: (3702,)\n"
     ]
    }
   ],
   "source": [
    "X_train, X_test, y_train, y_test= train_test_split(X, y, test_size=0.2, shuffle=True, stratify= y, random_state=1)\n",
    "\n",
    "print(f\"X_train: {X_train.shape}\\nX_test: {X_test.shape}\\ny_train: {y_train.shape}\\ny_test: {y_test.shape}\")"
   ]
  },
  {
   "cell_type": "code",
   "execution_count": 12,
   "id": "e343e075-a008-41c2-b9ab-cc17ccc20d52",
   "metadata": {},
   "outputs": [
    {
     "name": "stdout",
     "output_type": "stream",
     "text": [
      "Model: \"sequential\"\n",
      "_________________________________________________________________\n",
      " Layer (type)                Output Shape              Param #   \n",
      "=================================================================\n",
      " dense (Dense)               (None, 32)                6016      \n",
      "                                                                 \n",
      " dropout (Dropout)           (None, 32)                0         \n",
      "                                                                 \n",
      " dense_1 (Dense)             (None, 32)                1056      \n",
      "                                                                 \n",
      " dropout_1 (Dropout)         (None, 32)                0         \n",
      "                                                                 \n",
      " dense_2 (Dense)             (None, 64)                2112      \n",
      "                                                                 \n",
      " dropout_2 (Dropout)         (None, 64)                0         \n",
      "                                                                 \n",
      " dense_3 (Dense)             (None, 128)               8320      \n",
      "                                                                 \n",
      " dropout_3 (Dropout)         (None, 128)               0         \n",
      "                                                                 \n",
      " dense_4 (Dense)             (None, 512)               66048     \n",
      "                                                                 \n",
      " dropout_4 (Dropout)         (None, 512)               0         \n",
      "                                                                 \n",
      " dense_5 (Dense)             (None, 1024)              525312    \n",
      "                                                                 \n",
      " dropout_5 (Dropout)         (None, 1024)              0         \n",
      "                                                                 \n",
      " dense_6 (Dense)             (None, 1024)              1049600   \n",
      "                                                                 \n",
      " dropout_6 (Dropout)         (None, 1024)              0         \n",
      "                                                                 \n",
      " dense_7 (Dense)             (None, 6)                 6150      \n",
      "                                                                 \n",
      "=================================================================\n",
      "Total params: 1,664,614\n",
      "Trainable params: 1,664,614\n",
      "Non-trainable params: 0\n",
      "_________________________________________________________________\n"
     ]
    }
   ],
   "source": [
    "n_features= X.shape[1]\n",
    "num_classes= len(le.classes_)\n",
    "\n",
    "model= Sequential()\n",
    "model.add(Dense(32, input_dim=n_features, activation='relu'))\n",
    "model.add(Dropout(0.2))\n",
    "model.add(Dense(32, activation='relu'))\n",
    "model.add(Dropout(0.2))\n",
    "model.add(Dense(64, activation='relu'))\n",
    "model.add(Dropout(0.2))\n",
    "model.add(Dense(128, activation='relu'))\n",
    "model.add(Dropout(0.2))\n",
    "model.add(Dense(512, activation='relu'))\n",
    "model.add(Dropout(0.2))\n",
    "model.add(Dense(1024, activation='relu'))\n",
    "model.add(Dropout(0.2))\n",
    "model.add(Dense(1024, activation='relu'))\n",
    "model.add(Dropout(0.2))\n",
    "model.add(Dense(num_classes, activation='softmax'))\n",
    "\n",
    "epochs=30\n",
    "learning_rate= 0.01\n",
    "model.compile(loss = 'sparse_categorical_crossentropy', optimizer='adam', metrics=['accuracy'])\n",
    "model.summary()"
   ]
  },
  {
   "cell_type": "code",
   "execution_count": 13,
   "id": "488fd184-5bd9-4e32-9945-6f3b1a4ef53d",
   "metadata": {},
   "outputs": [
    {
     "name": "stdout",
     "output_type": "stream",
     "text": [
      "Epoch 1/30\n",
      "232/232 [==============================] - 37s 49ms/step - loss: 1.3337 - accuracy: 0.4457\n",
      "Epoch 2/30\n",
      "232/232 [==============================] - 8s 36ms/step - loss: 1.2089 - accuracy: 0.5036\n",
      "Epoch 3/30\n",
      "232/232 [==============================] - 8s 35ms/step - loss: 1.1755 - accuracy: 0.5378\n",
      "Epoch 4/30\n",
      "232/232 [==============================] - 10s 42ms/step - loss: 1.1639 - accuracy: 0.5419\n",
      "Epoch 5/30\n",
      "232/232 [==============================] - 9s 39ms/step - loss: 1.1497 - accuracy: 0.5525\n",
      "Epoch 6/30\n",
      "232/232 [==============================] - 7s 32ms/step - loss: 1.1411 - accuracy: 0.5546\n",
      "Epoch 7/30\n",
      "232/232 [==============================] - 8s 36ms/step - loss: 1.1318 - accuracy: 0.5597\n",
      "Epoch 8/30\n",
      "232/232 [==============================] - 17s 75ms/step - loss: 1.1324 - accuracy: 0.5588\n",
      "Epoch 9/30\n",
      "232/232 [==============================] - 10s 42ms/step - loss: 1.1246 - accuracy: 0.5663\n",
      "Epoch 10/30\n",
      "232/232 [==============================] - 9s 39ms/step - loss: 1.1171 - accuracy: 0.5661\n",
      "Epoch 11/30\n",
      "232/232 [==============================] - 8s 36ms/step - loss: 1.1156 - accuracy: 0.5684\n",
      "Epoch 12/30\n",
      "232/232 [==============================] - 8s 35ms/step - loss: 1.1106 - accuracy: 0.5737\n",
      "Epoch 13/30\n",
      "232/232 [==============================] - 9s 38ms/step - loss: 1.1057 - accuracy: 0.5742\n",
      "Epoch 14/30\n",
      "232/232 [==============================] - 8s 36ms/step - loss: 1.1039 - accuracy: 0.5792\n",
      "Epoch 15/30\n",
      "232/232 [==============================] - 9s 38ms/step - loss: 1.1019 - accuracy: 0.5769\n",
      "Epoch 16/30\n",
      "232/232 [==============================] - 8s 36ms/step - loss: 1.0977 - accuracy: 0.5787\n",
      "Epoch 17/30\n",
      "232/232 [==============================] - 8s 36ms/step - loss: 1.0937 - accuracy: 0.5792\n",
      "Epoch 18/30\n",
      "232/232 [==============================] - 8s 35ms/step - loss: 1.0953 - accuracy: 0.5818\n",
      "Epoch 19/30\n",
      "232/232 [==============================] - 9s 38ms/step - loss: 1.0899 - accuracy: 0.5813\n",
      "Epoch 20/30\n",
      "232/232 [==============================] - 9s 38ms/step - loss: 1.0901 - accuracy: 0.5838\n",
      "Epoch 21/30\n",
      "232/232 [==============================] - 8s 37ms/step - loss: 1.0874 - accuracy: 0.5868\n",
      "Epoch 22/30\n",
      "232/232 [==============================] - 10s 44ms/step - loss: 1.0825 - accuracy: 0.5871\n",
      "Epoch 23/30\n",
      "232/232 [==============================] - 9s 41ms/step - loss: 1.0840 - accuracy: 0.5849\n",
      "Epoch 24/30\n",
      "232/232 [==============================] - 11s 49ms/step - loss: 1.0794 - accuracy: 0.5828\n",
      "Epoch 25/30\n",
      "232/232 [==============================] - 9s 39ms/step - loss: 1.0790 - accuracy: 0.5834\n",
      "Epoch 26/30\n",
      "232/232 [==============================] - 9s 39ms/step - loss: 1.0763 - accuracy: 0.5879\n",
      "Epoch 27/30\n",
      "232/232 [==============================] - 10s 41ms/step - loss: 1.0749 - accuracy: 0.5915\n",
      "Epoch 28/30\n",
      "232/232 [==============================] - 9s 40ms/step - loss: 1.0716 - accuracy: 0.5916\n",
      "Epoch 29/30\n",
      "232/232 [==============================] - 8s 36ms/step - loss: 1.0710 - accuracy: 0.5919\n",
      "Epoch 30/30\n",
      "232/232 [==============================] - 8s 37ms/step - loss: 1.0688 - accuracy: 0.5908\n"
     ]
    },
    {
     "data": {
      "text/plain": [
       "<keras.callbacks.History at 0x19afc5b2280>"
      ]
     },
     "execution_count": 13,
     "metadata": {},
     "output_type": "execute_result"
    }
   ],
   "source": [
    "model.fit(X_train, y_train, epochs= epochs, batch_size=64, verbose=1)"
   ]
  },
  {
   "cell_type": "code",
   "execution_count": 14,
   "id": "70288c79-c442-4ceb-a325-6d2e96635f21",
   "metadata": {},
   "outputs": [
    {
     "name": "stdout",
     "output_type": "stream",
     "text": [
      "116/116 [==============================] - 2s 11ms/step - loss: 1.1371 - accuracy: 0.5559\n",
      "Accuracy Score: 0.5559157133102417\n",
      "Loss: 1.1371111869812012\n"
     ]
    }
   ],
   "source": [
    "loss, accuracy= model.evaluate(X_test, y_test, verbose=1)\n",
    "print(f\"Accuracy Score: {accuracy }\\nLoss: {loss}\")"
   ]
  },
  {
   "cell_type": "code",
   "execution_count": 15,
   "id": "6b0f37e3-fedd-4052-98e1-fb8c7962ddbc",
   "metadata": {},
   "outputs": [],
   "source": [
    "folds= StratifiedKFold(n_splits=10, shuffle=True, random_state=42 )\n",
    "\n",
    "for fold, (train_idx, val_idx) in enumerate (folds.split(X,y)):\n",
    "    X_train, X_test = X[train_idx], X[val_idx]\n",
    "    y_train, y_test = y[train_idx], y[val_idx]"
   ]
  },
  {
   "cell_type": "code",
   "execution_count": 16,
   "id": "73102f81-4634-4d1d-a509-68116b7bca81",
   "metadata": {},
   "outputs": [
    {
     "name": "stdout",
     "output_type": "stream",
     "text": [
      "Epoch 1/30\n",
      "261/261 [==============================] - 10s 36ms/step - loss: 1.0868 - accuracy: 0.5815\n",
      "Epoch 2/30\n",
      "261/261 [==============================] - 10s 39ms/step - loss: 1.0805 - accuracy: 0.5862\n",
      "Epoch 3/30\n",
      "261/261 [==============================] - 10s 37ms/step - loss: 1.0784 - accuracy: 0.5875\n",
      "Epoch 4/30\n",
      "261/261 [==============================] - 10s 40ms/step - loss: 1.0803 - accuracy: 0.5860\n",
      "Epoch 5/30\n",
      "261/261 [==============================] - 10s 38ms/step - loss: 1.0753 - accuracy: 0.5896\n",
      "Epoch 6/30\n",
      "261/261 [==============================] - 10s 38ms/step - loss: 1.0762 - accuracy: 0.5873\n",
      "Epoch 7/30\n",
      "261/261 [==============================] - 10s 36ms/step - loss: 1.0732 - accuracy: 0.5889\n",
      "Epoch 8/30\n",
      "261/261 [==============================] - 9s 36ms/step - loss: 1.0745 - accuracy: 0.5881\n",
      "Epoch 9/30\n",
      "261/261 [==============================] - 9s 35ms/step - loss: 1.0760 - accuracy: 0.5875\n",
      "Epoch 10/30\n",
      "261/261 [==============================] - 9s 36ms/step - loss: 1.0716 - accuracy: 0.5901\n",
      "Epoch 11/30\n",
      "261/261 [==============================] - 9s 35ms/step - loss: 1.0722 - accuracy: 0.5928\n",
      "Epoch 12/30\n",
      "261/261 [==============================] - 10s 38ms/step - loss: 1.0723 - accuracy: 0.5899\n",
      "Epoch 13/30\n",
      "261/261 [==============================] - 10s 40ms/step - loss: 1.0666 - accuracy: 0.5902\n",
      "Epoch 14/30\n",
      "261/261 [==============================] - 10s 40ms/step - loss: 1.0684 - accuracy: 0.5916\n",
      "Epoch 15/30\n",
      "261/261 [==============================] - 11s 43ms/step - loss: 1.0678 - accuracy: 0.5872\n",
      "Epoch 16/30\n",
      "261/261 [==============================] - 10s 40ms/step - loss: 1.0670 - accuracy: 0.5890\n",
      "Epoch 17/30\n",
      "261/261 [==============================] - 10s 39ms/step - loss: 1.0608 - accuracy: 0.5948\n",
      "Epoch 18/30\n",
      "261/261 [==============================] - 10s 40ms/step - loss: 1.0615 - accuracy: 0.5909\n",
      "Epoch 19/30\n",
      "261/261 [==============================] - 10s 38ms/step - loss: 1.0617 - accuracy: 0.5959\n",
      "Epoch 20/30\n",
      "261/261 [==============================] - 10s 38ms/step - loss: 1.0610 - accuracy: 0.5934\n",
      "Epoch 21/30\n",
      "261/261 [==============================] - 10s 38ms/step - loss: 1.0583 - accuracy: 0.5918\n",
      "Epoch 22/30\n",
      "261/261 [==============================] - 10s 39ms/step - loss: 1.0579 - accuracy: 0.5964\n",
      "Epoch 23/30\n",
      "261/261 [==============================] - 12s 46ms/step - loss: 1.0582 - accuracy: 0.5975\n",
      "Epoch 24/30\n",
      "261/261 [==============================] - 11s 42ms/step - loss: 1.0574 - accuracy: 0.5946\n",
      "Epoch 25/30\n",
      "261/261 [==============================] - 10s 40ms/step - loss: 1.0562 - accuracy: 0.5983\n",
      "Epoch 26/30\n",
      "261/261 [==============================] - 10s 38ms/step - loss: 1.0542 - accuracy: 0.5948\n",
      "Epoch 27/30\n",
      "261/261 [==============================] - 10s 38ms/step - loss: 1.0544 - accuracy: 0.5979\n",
      "Epoch 28/30\n",
      "261/261 [==============================] - 10s 38ms/step - loss: 1.0509 - accuracy: 0.5978\n",
      "Epoch 29/30\n",
      "261/261 [==============================] - 10s 37ms/step - loss: 1.0557 - accuracy: 0.5968\n",
      "Epoch 30/30\n",
      "261/261 [==============================] - 10s 37ms/step - loss: 1.0530 - accuracy: 0.5970\n"
     ]
    },
    {
     "data": {
      "text/plain": [
       "<keras.callbacks.History at 0x19afff07910>"
      ]
     },
     "execution_count": 16,
     "metadata": {},
     "output_type": "execute_result"
    }
   ],
   "source": [
    "model.fit(X_train, y_train, epochs=epochs, batch_size=64, verbose=1)"
   ]
  },
  {
   "cell_type": "code",
   "execution_count": 17,
   "id": "e4090cb7-7541-4b74-9911-a5da7e95ee06",
   "metadata": {},
   "outputs": [
    {
     "name": "stdout",
     "output_type": "stream",
     "text": [
      "58/58 [==============================] - 1s 10ms/step - loss: 1.0932 - accuracy: 0.5768\n",
      "Accuracy Score: 0.5767567753791809\n",
      "Loss: 1.0932362079620361\n"
     ]
    }
   ],
   "source": [
    "loss, accuracy = model.evaluate(X_test, y_test, verbose=1)\n",
    "print(f\"Accuracy Score: {accuracy }\\nLoss: {loss}\")"
   ]
  },
  {
   "cell_type": "code",
   "execution_count": null,
   "id": "a87c8332-db9e-47c0-8fc7-c654a7512a97",
   "metadata": {},
   "outputs": [],
   "source": []
  }
 ],
 "metadata": {
  "kernelspec": {
   "display_name": "Python 3 (ipykernel)",
   "language": "python",
   "name": "python3"
  },
  "language_info": {
   "codemirror_mode": {
    "name": "ipython",
    "version": 3
   },
   "file_extension": ".py",
   "mimetype": "text/x-python",
   "name": "python",
   "nbconvert_exporter": "python",
   "pygments_lexer": "ipython3",
   "version": "3.9.16"
  }
 },
 "nbformat": 4,
 "nbformat_minor": 5
}
