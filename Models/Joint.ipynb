{
 "cells": [
  {
   "cell_type": "code",
   "execution_count": 3,
   "id": "d8e2d706-97b1-4d8c-9667-ad02ce855beb",
   "metadata": {},
   "outputs": [],
   "source": [
    "%matplotlib inline\n",
    "import matplotlib as plt\n",
    "import seaborn as sns\n",
    "import pandas as pd\n",
    "import numpy as np    \n",
    "\n",
    "from sklearn.neighbors import KNeighborsClassifier\n",
    "from lightgbm import  LGBMClassifier\n",
    "from sklearn.ensemble import RandomForestClassifier\n",
    "from sklearn.svm import SVC\n",
    "from xgboost import XGBClassifier\n",
    "from sklearn.tree import DecisionTreeClassifier\n",
    "from sklearn.preprocessing import LabelEncoder\n",
    "from sklearn.model_selection import train_test_split, StratifiedKFold, cross_val_score\n",
    "from sklearn.metrics import classification_report, confusion_matrix, f1_score, precision_score, recall_score\n",
    "from sklearn.pipeline import make_pipeline\n",
    "from scipy.stats import chi2_contingency \n",
    "\n",
    "from preprocess import separate, extra_features\n",
    "from pipelines import preprocessor, preprocessor2"
   ]
  },
  {
   "cell_type": "code",
   "execution_count": 39,
   "id": "05488166-b7fc-4b28-91b2-eb3929864ec4",
   "metadata": {},
   "outputs": [],
   "source": [
    "def chi(data):\n",
    "    col_drop=[]\n",
    "    \n",
    "    for col in data.columns:\n",
    "        \n",
    "        ct=pd.crosstab(y, data[col])\n",
    "        chi2, p, _, _ =chi2_contingency(ct)\n",
    "        \n",
    "        if p >= 0.05:\n",
    "            col_drop.append(col)\n",
    "        elif chi2 <= 3000:\n",
    "            col_drop.append(col)\n",
    "            \n",
    "    return col_drop"
   ]
  },
  {
   "cell_type": "code",
   "execution_count": 48,
   "id": "a1e4ef67-f4ce-4657-8ab6-a7fb7803eefd",
   "metadata": {},
   "outputs": [
    {
     "name": "stdout",
     "output_type": "stream",
     "text": [
      "X: (18506, 16)\n",
      "y: (18506,)\n"
     ]
    }
   ],
   "source": [
    "train= pd.read_csv(\"Datasets\\Train.csv\") \n",
    "train=extra_features(train)\n",
    "X=train.drop('cost_category', axis=1)\n",
    "y=train['cost_category']\n",
    "col_drop=chi(train)\n",
    "X.drop(columns=col_drop, inplace=True)\n",
    "print(f\"X: {X.shape}\\ny: {y.shape}\")"
   ]
  },
  {
   "cell_type": "code",
   "execution_count": 49,
   "id": "5770f14d-9488-449b-9a42-1ffd4f89eee9",
   "metadata": {},
   "outputs": [
    {
     "name": "stdout",
     "output_type": "stream",
     "text": [
      "X1: (18506, 177)\n",
      "X2: (18506, 25)\n"
     ]
    }
   ],
   "source": [
    "X1=preprocessor(X)\n",
    "X2=preprocessor2(X)\n",
    "print(f\"X1: {X1.shape}\\nX2: {X2.shape}\")"
   ]
  },
  {
   "cell_type": "code",
   "execution_count": 50,
   "id": "2f4dcfb7-793a-4d25-9b8d-96b34e98297c",
   "metadata": {},
   "outputs": [
    {
     "data": {
      "text/plain": [
       "(18506,)"
      ]
     },
     "execution_count": 50,
     "metadata": {},
     "output_type": "execute_result"
    }
   ],
   "source": [
    "le=LabelEncoder()\n",
    "y=le.fit_transform(y)\n",
    "y.shape"
   ]
  },
  {
   "cell_type": "code",
   "execution_count": 51,
   "id": "8153de59-127c-4e44-9e1b-46607c23336b",
   "metadata": {},
   "outputs": [],
   "source": [
    "models= {\n",
    "    \"KNN\": KNeighborsClassifier(n_neighbors=5, weights=\"uniform\", algorithm=\"auto\"),\n",
    "    \"SVM\": SVC(gamma='auto', kernel='rbf', C= 1000),\n",
    "    \"GBM\": LGBMClassifier(n_estimators=600, learning_rate=0.01),\n",
    "    \"XGB\": XGBClassifier(n_estimators=600, learning_rate=0.01),\n",
    "    \"Forest\": RandomForestClassifier(max_depth=8),\n",
    "    \"Tree\": DecisionTreeClassifier(max_depth=8),\n",
    "}\n",
    "\n",
    "\n",
    "samples={\n",
    "    \"X1\": X1,\n",
    "    \"X2\": X2,\n",
    "}"
   ]
  },
  {
   "cell_type": "code",
   "execution_count": 60,
   "id": "4ef491b6-cd58-42f3-9462-3f5663eb476d",
   "metadata": {},
   "outputs": [],
   "source": [
    "kfolds=StratifiedKFold(n_splits=10,shuffle=True)\n",
    "\n",
    "def strat(modell, sample, y, kfold):\n",
    "    results= {\"Fold_{}\".format(fold): [] for fold in range(10)}\n",
    "    \n",
    "    results['model_name']=modell+\"_\"+sample\n",
    "    \n",
    "    model=models[modell]\n",
    "    X= samples[sample]\n",
    "    \n",
    "    for fold, (train_idx, val_idx) in enumerate(kfolds.split(X,y)):\n",
    "        X_train, X_test=X[train_idx], X[val_idx]\n",
    "        y_train, y_test=y[train_idx], y[val_idx]\n",
    "    \n",
    "        model.fit(X_train, y_train)\n",
    "    \n",
    "        y_pred=model.predict(X_test)\n",
    "        \n",
    "        \n",
    "        F1_Score=f1_score(y_pred, y_test, average='weighted')\n",
    "        results[\"Fold_{}\".format(fold)].append(F1_Score)\n",
    "        \n",
    "    df= pd.DataFrame(results)\n",
    "    df['mean']=df.mean(axis=1)    \n",
    "    \n",
    "        \n",
    "    return df"
   ]
  },
  {
   "cell_type": "code",
   "execution_count": null,
   "id": "d1c31c12-28d9-420f-a570-a98823219ca8",
   "metadata": {},
   "outputs": [
    {
     "name": "stderr",
     "output_type": "stream",
     "text": [
      "C:\\Users\\User\\AppData\\Local\\Temp\\ipykernel_6048\\269129797.py:24: FutureWarning: Dropping of nuisance columns in DataFrame reductions (with 'numeric_only=None') is deprecated; in a future version this will raise TypeError.  Select only valid columns before calling the reduction.\n",
      "  df['mean']=df.mean(axis=1)\n"
     ]
    },
    {
     "name": "stdout",
     "output_type": "stream",
     "text": [
      "Model: KNN_X1......\n",
      "\n"
     ]
    },
    {
     "name": "stderr",
     "output_type": "stream",
     "text": [
      "C:\\Users\\User\\AppData\\Local\\Temp\\ipykernel_6048\\269129797.py:24: FutureWarning: Dropping of nuisance columns in DataFrame reductions (with 'numeric_only=None') is deprecated; in a future version this will raise TypeError.  Select only valid columns before calling the reduction.\n",
      "  df['mean']=df.mean(axis=1)\n"
     ]
    },
    {
     "name": "stdout",
     "output_type": "stream",
     "text": [
      "Model: KNN_X2......\n",
      "\n"
     ]
    },
    {
     "name": "stderr",
     "output_type": "stream",
     "text": [
      "C:\\Users\\User\\AppData\\Local\\Temp\\ipykernel_6048\\269129797.py:24: FutureWarning: Dropping of nuisance columns in DataFrame reductions (with 'numeric_only=None') is deprecated; in a future version this will raise TypeError.  Select only valid columns before calling the reduction.\n",
      "  df['mean']=df.mean(axis=1)\n"
     ]
    },
    {
     "name": "stdout",
     "output_type": "stream",
     "text": [
      "Model: SVM_X1......\n",
      "\n"
     ]
    },
    {
     "name": "stderr",
     "output_type": "stream",
     "text": [
      "C:\\Users\\User\\AppData\\Local\\Temp\\ipykernel_6048\\269129797.py:24: FutureWarning: Dropping of nuisance columns in DataFrame reductions (with 'numeric_only=None') is deprecated; in a future version this will raise TypeError.  Select only valid columns before calling the reduction.\n",
      "  df['mean']=df.mean(axis=1)\n"
     ]
    },
    {
     "name": "stdout",
     "output_type": "stream",
     "text": [
      "Model: SVM_X2......\n",
      "\n"
     ]
    },
    {
     "name": "stderr",
     "output_type": "stream",
     "text": [
      "C:\\Users\\User\\AppData\\Local\\Temp\\ipykernel_6048\\269129797.py:24: FutureWarning: Dropping of nuisance columns in DataFrame reductions (with 'numeric_only=None') is deprecated; in a future version this will raise TypeError.  Select only valid columns before calling the reduction.\n",
      "  df['mean']=df.mean(axis=1)\n"
     ]
    },
    {
     "name": "stdout",
     "output_type": "stream",
     "text": [
      "Model: GBM_X1......\n",
      "\n"
     ]
    },
    {
     "name": "stderr",
     "output_type": "stream",
     "text": [
      "C:\\Users\\User\\AppData\\Local\\Temp\\ipykernel_6048\\269129797.py:24: FutureWarning: Dropping of nuisance columns in DataFrame reductions (with 'numeric_only=None') is deprecated; in a future version this will raise TypeError.  Select only valid columns before calling the reduction.\n",
      "  df['mean']=df.mean(axis=1)\n"
     ]
    },
    {
     "name": "stdout",
     "output_type": "stream",
     "text": [
      "Model: GBM_X2......\n",
      "\n"
     ]
    },
    {
     "name": "stderr",
     "output_type": "stream",
     "text": [
      "C:\\Users\\User\\AppData\\Local\\Temp\\ipykernel_6048\\269129797.py:24: FutureWarning: Dropping of nuisance columns in DataFrame reductions (with 'numeric_only=None') is deprecated; in a future version this will raise TypeError.  Select only valid columns before calling the reduction.\n",
      "  df['mean']=df.mean(axis=1)\n"
     ]
    },
    {
     "name": "stdout",
     "output_type": "stream",
     "text": [
      "Model: XGB_X1......\n",
      "\n"
     ]
    }
   ],
   "source": [
    "all_models=[]\n",
    "\n",
    "for model in models:\n",
    "    for X in samples:\n",
    "        all_models.append(strat(model, X, y, kfolds))\n",
    "        print(f\"Model: {model}_{X}......\\n\")"
   ]
  },
  {
   "cell_type": "code",
   "execution_count": null,
   "id": "4acbfd90-3322-41d5-b3bd-8441b120c754",
   "metadata": {},
   "outputs": [],
   "source": []
  }
 ],
 "metadata": {
  "kernelspec": {
   "display_name": "Python 3 (ipykernel)",
   "language": "python",
   "name": "python3"
  },
  "language_info": {
   "codemirror_mode": {
    "name": "ipython",
    "version": 3
   },
   "file_extension": ".py",
   "mimetype": "text/x-python",
   "name": "python",
   "nbconvert_exporter": "python",
   "pygments_lexer": "ipython3",
   "version": "3.9.16"
  }
 },
 "nbformat": 4,
 "nbformat_minor": 5
}
