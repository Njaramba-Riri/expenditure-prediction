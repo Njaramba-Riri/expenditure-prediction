{
 "cells": [
  {
   "cell_type": "code",
   "execution_count": null,
   "id": "8a9c759d-af0e-4668-b56d-a9de4e5db315",
   "metadata": {},
   "outputs": [],
   "source": [
    "%matplotlib inline\n",
    "import matplotlib.pyplot as plt\n",
    "import seaborn as sns\n",
    "import pandas as np\n",
    "import numpy as np\n",
    "\n",
    "from scipy.stats import chi2_contingency \n",
    "from sklearn.preprocessing import LabelEncoder, OrdinalEncoder, OneHotEncoder\n"
   ]
  },
  {
   "cell_type": "code",
   "execution_count": null,
   "id": "961203c4-acfa-41ce-8648-de248143bc65",
   "metadata": {},
   "outputs": [],
   "source": [
    "train=pd.read_csv('Datasets/Train.csv')\n",
    "test=pd.read_csv('datasets/test.csv')"
   ]
  },
  {
   "cell_type": "code",
   "execution_count": null,
   "id": "8ee85a93-570d-4517-b277-d47234e9ca93",
   "metadata": {},
   "outputs": [],
   "source": [
    "print(train.shape, test.shape)"
   ]
  },
  {
   "cell_type": "code",
   "execution_count": null,
   "id": "e977c4e4-c6ce-4928-9e37-588e1df3af28",
   "metadata": {},
   "outputs": [],
   "source": [
    "train.head(2)"
   ]
  },
  {
   "cell_type": "code",
   "execution_count": null,
   "id": "08120e69-4252-49e8-b5bf-fa67ef0e263a",
   "metadata": {},
   "outputs": [],
   "source": [
    "test.head(2)"
   ]
  },
  {
   "cell_type": "code",
   "execution_count": null,
   "id": "81c284ca-ea67-4dd5-9ebc-bcf7508a2120",
   "metadata": {},
   "outputs": [],
   "source": [
    "train.duplicated().sum()"
   ]
  },
  {
   "cell_type": "code",
   "execution_count": null,
   "id": "db6980e2-2c9b-4521-a584-838852c59e40",
   "metadata": {},
   "outputs": [],
   "source": [
    "test.duplicated().sum()"
   ]
  },
  {
   "cell_type": "code",
   "execution_count": null,
   "id": "867f8f5b-9b86-45af-b771-cfd9ae3b76bc",
   "metadata": {},
   "outputs": [],
   "source": [
    "full=pd.concat(objs=[train, test], axis=0)\n",
    "full.shape"
   ]
  },
  {
   "cell_type": "code",
   "execution_count": null,
   "id": "ae252eaa-d861-440d-b983-516163c1d472",
   "metadata": {},
   "outputs": [],
   "source": [
    "full.duplicated().sum()"
   ]
  },
  {
   "cell_type": "code",
   "execution_count": null,
   "id": "3de5774f-2f5b-4a8d-9736-4e8f129c93f1",
   "metadata": {},
   "outputs": [],
   "source": [
    "full.info()"
   ]
  },
  {
   "cell_type": "code",
   "execution_count": null,
   "id": "b9b3fdc7-5ce0-43b3-b680-9e0b0455a5f8",
   "metadata": {},
   "outputs": [],
   "source": [
    "cat=[c for c in full.select_dtypes ('object').columns]\n",
    "num= [c for c in full.select_dtypes('int64', 'float64').columns]"
   ]
  },
  {
   "cell_type": "code",
   "execution_count": null,
   "id": "d589a9f3-2272-4cdc-b5a2-a994342fe522",
   "metadata": {},
   "outputs": [],
   "source": [
    "full.isna().sum()"
   ]
  },
  {
   "cell_type": "code",
   "execution_count": null,
   "id": "1c4c6188-b2e4-44ad-8f21-2db5fb5465b1",
   "metadata": {},
   "outputs": [],
   "source": [
    "full.describe().T"
   ]
  },
  {
   "cell_type": "code",
   "execution_count": null,
   "id": "b2fe31d3-c14d-4c21-bd21-5dcc8f0f4517",
   "metadata": {},
   "outputs": [],
   "source": [
    "full.isna().sum()"
   ]
  },
  {
   "cell_type": "code",
   "execution_count": null,
   "id": "538c32b4-8ea4-48d6-a653-c4a1bee83102",
   "metadata": {},
   "outputs": [],
   "source": [
    "full=pd.concat(objs=[train, test], axis=0)"
   ]
  },
  {
   "cell_type": "code",
   "execution_count": null,
   "id": "e705ec37-4e2e-458b-ad39-ec823275b7f3",
   "metadata": {},
   "outputs": [],
   "source": [
    "from sklearn.impute import SimpleImputer\n",
    "from sklearn.pipeline import make_pipeline\n",
    "\n",
    "def fillna(X, inplace=None):\n",
    "    for col in X.columns:\n",
    "        if col != 'cost_category' and X[col].isna().any():\n",
    "            if X[col].dtype == 'object':\n",
    "                strategy = 'most_frequent'\n",
    "                pipe = make_pipeline(SimpleImputer(strategy=strategy))\n",
    "            else:\n",
    "                strategy= 'median'\n",
    "                pipe = make_pipeline(SimpleImputer(strategy=strategy ))\n",
    "            X[col] = pipe.fit_transform(X[[col]])\n",
    "            \n",
    "            if not inplace:\n",
    "                return print(\"DataFrame not updated.\")\n",
    "            else:\n",
    "                print(f\"Missing Values in '{col}' column have been filled with the {strategy} value.\")\n",
    "                \n",
    "    if inplace:\n",
    "        return None"
   ]
  },
  {
   "cell_type": "code",
   "execution_count": null,
   "id": "a70e8c0c-7ce5-4ea2-b6e2-62da89b87542",
   "metadata": {},
   "outputs": [],
   "source": [
    "fillna(full, inplace=True)"
   ]
  },
  {
   "cell_type": "code",
   "execution_count": null,
   "id": "01c7ebfa-d6dc-405b-9bd2-2841d5425c90",
   "metadata": {},
   "outputs": [],
   "source": [
    "full.isnull().sum()"
   ]
  },
  {
   "cell_type": "code",
   "execution_count": null,
   "id": "ea16cc0e-d537-44d6-b67a-b6676a5d9fa4",
   "metadata": {},
   "outputs": [],
   "source": [
    "for col in full.select_dtypes('object'):\n",
    "    print(col, len(full[col].unique()))"
   ]
  },
  {
   "cell_type": "code",
   "execution_count": null,
   "id": "5bce2f50-c7cb-4079-9ec7-80d0d8f4a30e",
   "metadata": {},
   "outputs": [],
   "source": [
    "def cat_unique(dataset):\n",
    "    for col in dataset.select_dtypes('object'):\n",
    "        if dataset[col].nunique() > 10:\n",
    "            print(f\"\\nColumn: {col}\\nTotal Sum of Unique Values:  {dataset[col].nunique()}\")\n",
    "        else:\n",
    "            print(f\"\\nColumn: {col}\\nUnique Values: {dataset[col].unique()}\")"
   ]
  },
  {
   "cell_type": "code",
   "execution_count": null,
   "id": "08a79b9d-c2d5-442e-8412-eea3be844f36",
   "metadata": {},
   "outputs": [],
   "source": [
    "cat_unique(full)"
   ]
  },
  {
   "cell_type": "code",
   "execution_count": null,
   "id": "51e2f287-b4ea-48f1-967c-ce163ba02f5a",
   "metadata": {},
   "outputs": [],
   "source": [
    "full['main_activity'].replace({'Widlife Tourism':'Wildlife Tourism'}, inplace=True)"
   ]
  },
  {
   "cell_type": "code",
   "execution_count": null,
   "id": "f64ea319-4875-42c1-8ffb-236cbfbb8dc8",
   "metadata": {},
   "outputs": [],
   "source": [
    "full.main_activity.value_counts()"
   ]
  },
  {
   "cell_type": "code",
   "execution_count": null,
   "id": "050a2670-a0db-42dc-b39f-f470088a3f69",
   "metadata": {},
   "outputs": [],
   "source": [
    "cat_unique(full)"
   ]
  },
  {
   "cell_type": "code",
   "execution_count": null,
   "id": "bca78f26-a529-4654-b12d-fccb271bd7db",
   "metadata": {},
   "outputs": [],
   "source": [
    "full.main_activity.nunique()"
   ]
  },
  {
   "cell_type": "code",
   "execution_count": null,
   "id": "b685deb3-aef8-4520-a7b9-b4e06916a4e1",
   "metadata": {},
   "outputs": [],
   "source": [
    "def chi_test(X, y):\n",
    "    \n",
    "    col_drop= []\n",
    "    not_drop= []\n",
    "    undecided=[]\n",
    "    \n",
    "    for col in X.columns:\n",
    "        ct=pd.crosstab(y, X[col])\n",
    "        chi2, p, dof, expected = chi2_contingency(ct)\n",
    "        \n",
    "        if p >= 0.05 or chi2 <= 2000:\n",
    "            col_drop.append(col)\n",
    "        elif p <0.05 and  chi2 >= 5000:\n",
    "            not_drop.append(col)\n",
    "        elif p < 0.05 and 2000 < chi2 < 5000:\n",
    "            undecided.append(col)\n",
    "        \n",
    "        print(f\"Column: {col}\\nChi Test: {chi2}\\nP_Value: {p}\\nDOF: {dof}\\n------------\")\n",
    "    return print(f\"\\n\\nSUMMARY: \\nLittle or No correlation Columns: {col_drop}\\n\\nStrong Correlation Columns: {not_drop}\\n\\nCorrelation not so strong columns: {undecided}\")"
   ]
  },
  {
   "cell_type": "code",
   "execution_count": null,
   "id": "5ef6d61d-2c07-4346-8c01-f9c292fa8b00",
   "metadata": {},
   "outputs": [],
   "source": [
    "X=full.drop('cost_category', axis=1)\n",
    "y=full['cost_category']"
   ]
  },
  {
   "cell_type": "code",
   "execution_count": null,
   "id": "7078df74-7a25-40b1-b204-b747e02d1803",
   "metadata": {
    "tags": []
   },
   "outputs": [],
   "source": [
    "chi_test(X, y)"
   ]
  },
  {
   "cell_type": "code",
   "execution_count": null,
   "id": "227c17f4-d00f-46e6-8be6-ec2c52ddc134",
   "metadata": {},
   "outputs": [],
   "source": [
    "sns.boxplot(x='tour_arrangement', y='night_zanzibar', data=full);"
   ]
  },
  {
   "cell_type": "code",
   "execution_count": null,
   "id": "e16f22f0-187b-4328-9aa3-26f94039df79",
   "metadata": {},
   "outputs": [],
   "source": [
    "full.quantile(0.75)"
   ]
  },
  {
   "cell_type": "code",
   "execution_count": null,
   "id": "c98b1bf3-3609-457a-93d0-6e904e8f43d7",
   "metadata": {},
   "outputs": [],
   "source": [
    "X.total_male.value_counts(), X.total_female.value_counts()"
   ]
  },
  {
   "cell_type": "code",
   "execution_count": null,
   "id": "9a14f760-00d3-4913-b58e-363b1ad8d15d",
   "metadata": {},
   "outputs": [],
   "source": []
  }
 ],
 "metadata": {
  "kernelspec": {
   "display_name": "Python 3 (ipykernel)",
   "language": "python",
   "name": "python3"
  },
  "language_info": {
   "codemirror_mode": {
    "name": "ipython",
    "version": 3
   },
   "file_extension": ".py",
   "mimetype": "text/x-python",
   "name": "python",
   "nbconvert_exporter": "python",
   "pygments_lexer": "ipython3",
   "version": "3.9.16"
  }
 },
 "nbformat": 4,
 "nbformat_minor": 5
}
