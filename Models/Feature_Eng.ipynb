{
 "cells": [
  {
   "cell_type": "code",
   "execution_count": 1,
   "id": "8a9c759d-af0e-4668-b56d-a9de4e5db315",
   "metadata": {},
   "outputs": [],
   "source": [
    "%matplotlib inline\n",
    "import matplotlib.pyplot as plt\n",
    "import seaborn as sns\n",
    "import pandas as np\n",
    "import numpy as np\n",
    "\n",
    "from scipy.stats import chi2_contingency \n",
    "from sklearn.preprocessing import LabelEncoder, OrdinalEncoder, OneHotEncoder\n"
   ]
  },
  {
   "cell_type": "code",
   "execution_count": 82,
   "id": "961203c4-acfa-41ce-8648-de248143bc65",
   "metadata": {},
   "outputs": [
    {
     "data": {
      "application/javascript": [
       "\n",
       "        if (window._pyforest_update_imports_cell) { window._pyforest_update_imports_cell('import pandas as pd'); }\n",
       "    "
      ],
      "text/plain": [
       "<IPython.core.display.Javascript object>"
      ]
     },
     "metadata": {},
     "output_type": "display_data"
    },
    {
     "data": {
      "application/javascript": [
       "\n",
       "        if (window._pyforest_update_imports_cell) { window._pyforest_update_imports_cell('import pandas as pd'); }\n",
       "    "
      ],
      "text/plain": [
       "<IPython.core.display.Javascript object>"
      ]
     },
     "metadata": {},
     "output_type": "display_data"
    }
   ],
   "source": [
    "train=pd.read_csv('Datasets/Train.csv')\n",
    "test=pd.read_csv('datasets/test.csv')"
   ]
  },
  {
   "cell_type": "code",
   "execution_count": 9,
   "id": "8ee85a93-570d-4517-b277-d47234e9ca93",
   "metadata": {},
   "outputs": [
    {
     "name": "stdout",
     "output_type": "stream",
     "text": [
      "(18506, 21) (6169, 20)\n"
     ]
    }
   ],
   "source": [
    "print(train.shape, test.shape)"
   ]
  },
  {
   "cell_type": "code",
   "execution_count": 12,
   "id": "e977c4e4-c6ce-4928-9e37-588e1df3af28",
   "metadata": {},
   "outputs": [
    {
     "data": {
      "text/html": [
       "<div>\n",
       "<style scoped>\n",
       "    .dataframe tbody tr th:only-of-type {\n",
       "        vertical-align: middle;\n",
       "    }\n",
       "\n",
       "    .dataframe tbody tr th {\n",
       "        vertical-align: top;\n",
       "    }\n",
       "\n",
       "    .dataframe thead th {\n",
       "        text-align: right;\n",
       "    }\n",
       "</style>\n",
       "<table border=\"1\" class=\"dataframe\">\n",
       "  <thead>\n",
       "    <tr style=\"text-align: right;\">\n",
       "      <th></th>\n",
       "      <th>Tour_ID</th>\n",
       "      <th>country</th>\n",
       "      <th>age_group</th>\n",
       "      <th>travel_with</th>\n",
       "      <th>total_female</th>\n",
       "      <th>total_male</th>\n",
       "      <th>purpose</th>\n",
       "      <th>main_activity</th>\n",
       "      <th>info_source</th>\n",
       "      <th>tour_arrangement</th>\n",
       "      <th>...</th>\n",
       "      <th>package_accomodation</th>\n",
       "      <th>package_food</th>\n",
       "      <th>package_transport_tz</th>\n",
       "      <th>package_sightseeing</th>\n",
       "      <th>package_guided_tour</th>\n",
       "      <th>package_insurance</th>\n",
       "      <th>night_mainland</th>\n",
       "      <th>night_zanzibar</th>\n",
       "      <th>first_trip_tz</th>\n",
       "      <th>cost_category</th>\n",
       "    </tr>\n",
       "  </thead>\n",
       "  <tbody>\n",
       "    <tr>\n",
       "      <th>0</th>\n",
       "      <td>tour_id1hffseyw</td>\n",
       "      <td>ITALY</td>\n",
       "      <td>45-64</td>\n",
       "      <td>With Children</td>\n",
       "      <td>0.0</td>\n",
       "      <td>2.0</td>\n",
       "      <td>Visiting Friends and Relatives</td>\n",
       "      <td>Beach Tourism</td>\n",
       "      <td>Friends, relatives</td>\n",
       "      <td>Package Tour</td>\n",
       "      <td>...</td>\n",
       "      <td>Yes</td>\n",
       "      <td>Yes</td>\n",
       "      <td>Yes</td>\n",
       "      <td>No</td>\n",
       "      <td>No</td>\n",
       "      <td>No</td>\n",
       "      <td>0</td>\n",
       "      <td>7</td>\n",
       "      <td>Yes</td>\n",
       "      <td>High Cost</td>\n",
       "    </tr>\n",
       "    <tr>\n",
       "      <th>1</th>\n",
       "      <td>tour_idnacd7zag</td>\n",
       "      <td>UNITED KINGDOM</td>\n",
       "      <td>25-44</td>\n",
       "      <td>With Spouse</td>\n",
       "      <td>1.0</td>\n",
       "      <td>1.0</td>\n",
       "      <td>Leisure and Holidays</td>\n",
       "      <td>Wildlife Tourism</td>\n",
       "      <td>Travel agent, tour operator</td>\n",
       "      <td>Package Tour</td>\n",
       "      <td>...</td>\n",
       "      <td>Yes</td>\n",
       "      <td>Yes</td>\n",
       "      <td>Yes</td>\n",
       "      <td>No</td>\n",
       "      <td>No</td>\n",
       "      <td>No</td>\n",
       "      <td>0</td>\n",
       "      <td>7</td>\n",
       "      <td>Yes</td>\n",
       "      <td>High Cost</td>\n",
       "    </tr>\n",
       "  </tbody>\n",
       "</table>\n",
       "<p>2 rows × 21 columns</p>\n",
       "</div>"
      ],
      "text/plain": [
       "           Tour_ID         country age_group    travel_with  total_female  \\\n",
       "0  tour_id1hffseyw           ITALY     45-64  With Children           0.0   \n",
       "1  tour_idnacd7zag  UNITED KINGDOM     25-44    With Spouse           1.0   \n",
       "\n",
       "   total_male                         purpose     main_activity  \\\n",
       "0         2.0  Visiting Friends and Relatives     Beach Tourism   \n",
       "1         1.0            Leisure and Holidays  Wildlife Tourism   \n",
       "\n",
       "                   info_source tour_arrangement  ... package_accomodation  \\\n",
       "0           Friends, relatives     Package Tour  ...                  Yes   \n",
       "1  Travel agent, tour operator     Package Tour  ...                  Yes   \n",
       "\n",
       "  package_food package_transport_tz package_sightseeing package_guided_tour  \\\n",
       "0          Yes                  Yes                  No                  No   \n",
       "1          Yes                  Yes                  No                  No   \n",
       "\n",
       "  package_insurance night_mainland  night_zanzibar  first_trip_tz  \\\n",
       "0                No              0               7            Yes   \n",
       "1                No              0               7            Yes   \n",
       "\n",
       "  cost_category  \n",
       "0     High Cost  \n",
       "1     High Cost  \n",
       "\n",
       "[2 rows x 21 columns]"
      ]
     },
     "execution_count": 12,
     "metadata": {},
     "output_type": "execute_result"
    }
   ],
   "source": [
    "train.head(2)"
   ]
  },
  {
   "cell_type": "code",
   "execution_count": 13,
   "id": "08120e69-4252-49e8-b5bf-fa67ef0e263a",
   "metadata": {},
   "outputs": [
    {
     "data": {
      "text/html": [
       "<div>\n",
       "<style scoped>\n",
       "    .dataframe tbody tr th:only-of-type {\n",
       "        vertical-align: middle;\n",
       "    }\n",
       "\n",
       "    .dataframe tbody tr th {\n",
       "        vertical-align: top;\n",
       "    }\n",
       "\n",
       "    .dataframe thead th {\n",
       "        text-align: right;\n",
       "    }\n",
       "</style>\n",
       "<table border=\"1\" class=\"dataframe\">\n",
       "  <thead>\n",
       "    <tr style=\"text-align: right;\">\n",
       "      <th></th>\n",
       "      <th>Tour_ID</th>\n",
       "      <th>country</th>\n",
       "      <th>age_group</th>\n",
       "      <th>travel_with</th>\n",
       "      <th>total_female</th>\n",
       "      <th>total_male</th>\n",
       "      <th>purpose</th>\n",
       "      <th>main_activity</th>\n",
       "      <th>info_source</th>\n",
       "      <th>tour_arrangement</th>\n",
       "      <th>package_transport_int</th>\n",
       "      <th>package_accomodation</th>\n",
       "      <th>package_food</th>\n",
       "      <th>package_transport_tz</th>\n",
       "      <th>package_sightseeing</th>\n",
       "      <th>package_guided_tour</th>\n",
       "      <th>package_insurance</th>\n",
       "      <th>night_mainland</th>\n",
       "      <th>night_zanzibar</th>\n",
       "      <th>first_trip_tz</th>\n",
       "    </tr>\n",
       "  </thead>\n",
       "  <tbody>\n",
       "    <tr>\n",
       "      <th>0</th>\n",
       "      <td>tour_idynufedne</td>\n",
       "      <td>KOREA</td>\n",
       "      <td>25-44</td>\n",
       "      <td>Alone</td>\n",
       "      <td>0.0</td>\n",
       "      <td>1.0</td>\n",
       "      <td>Leisure and Holidays</td>\n",
       "      <td>Widlife Tourism</td>\n",
       "      <td>Others</td>\n",
       "      <td>Independent</td>\n",
       "      <td>No</td>\n",
       "      <td>No</td>\n",
       "      <td>No</td>\n",
       "      <td>No</td>\n",
       "      <td>No</td>\n",
       "      <td>No</td>\n",
       "      <td>No</td>\n",
       "      <td>7</td>\n",
       "      <td>4</td>\n",
       "      <td>Yes</td>\n",
       "    </tr>\n",
       "    <tr>\n",
       "      <th>1</th>\n",
       "      <td>tour_id9r3y5moe</td>\n",
       "      <td>UNITED KINGDOM</td>\n",
       "      <td>45-64</td>\n",
       "      <td>With Children</td>\n",
       "      <td>1.0</td>\n",
       "      <td>1.0</td>\n",
       "      <td>Leisure and Holidays</td>\n",
       "      <td>Conference Tourism</td>\n",
       "      <td>Travel agent, tour operator</td>\n",
       "      <td>Package Tour</td>\n",
       "      <td>Yes</td>\n",
       "      <td>Yes</td>\n",
       "      <td>Yes</td>\n",
       "      <td>Yes</td>\n",
       "      <td>Yes</td>\n",
       "      <td>Yes</td>\n",
       "      <td>Yes</td>\n",
       "      <td>7</td>\n",
       "      <td>0</td>\n",
       "      <td>Yes</td>\n",
       "    </tr>\n",
       "  </tbody>\n",
       "</table>\n",
       "</div>"
      ],
      "text/plain": [
       "           Tour_ID         country age_group    travel_with  total_female  \\\n",
       "0  tour_idynufedne           KOREA     25-44          Alone           0.0   \n",
       "1  tour_id9r3y5moe  UNITED KINGDOM     45-64  With Children           1.0   \n",
       "\n",
       "   total_male               purpose       main_activity  \\\n",
       "0         1.0  Leisure and Holidays     Widlife Tourism   \n",
       "1         1.0  Leisure and Holidays  Conference Tourism   \n",
       "\n",
       "                   info_source tour_arrangement package_transport_int  \\\n",
       "0                       Others      Independent                    No   \n",
       "1  Travel agent, tour operator     Package Tour                   Yes   \n",
       "\n",
       "  package_accomodation package_food package_transport_tz package_sightseeing  \\\n",
       "0                   No           No                   No                  No   \n",
       "1                  Yes          Yes                  Yes                 Yes   \n",
       "\n",
       "  package_guided_tour package_insurance  night_mainland  night_zanzibar  \\\n",
       "0                  No                No               7               4   \n",
       "1                 Yes               Yes               7               0   \n",
       "\n",
       "  first_trip_tz  \n",
       "0           Yes  \n",
       "1           Yes  "
      ]
     },
     "execution_count": 13,
     "metadata": {},
     "output_type": "execute_result"
    }
   ],
   "source": [
    "test.head(2)"
   ]
  },
  {
   "cell_type": "code",
   "execution_count": 15,
   "id": "81c284ca-ea67-4dd5-9ebc-bcf7508a2120",
   "metadata": {},
   "outputs": [
    {
     "data": {
      "text/plain": [
       "0"
      ]
     },
     "execution_count": 15,
     "metadata": {},
     "output_type": "execute_result"
    }
   ],
   "source": [
    "train.duplicated().sum()"
   ]
  },
  {
   "cell_type": "code",
   "execution_count": 16,
   "id": "db6980e2-2c9b-4521-a584-838852c59e40",
   "metadata": {},
   "outputs": [
    {
     "data": {
      "text/plain": [
       "0"
      ]
     },
     "execution_count": 16,
     "metadata": {},
     "output_type": "execute_result"
    }
   ],
   "source": [
    "test.duplicated().sum()"
   ]
  },
  {
   "cell_type": "code",
   "execution_count": 107,
   "id": "867f8f5b-9b86-45af-b771-cfd9ae3b76bc",
   "metadata": {},
   "outputs": [
    {
     "data": {
      "application/javascript": [
       "\n",
       "        if (window._pyforest_update_imports_cell) { window._pyforest_update_imports_cell('import pandas as pd'); }\n",
       "    "
      ],
      "text/plain": [
       "<IPython.core.display.Javascript object>"
      ]
     },
     "metadata": {},
     "output_type": "display_data"
    },
    {
     "data": {
      "text/plain": [
       "(24675, 21)"
      ]
     },
     "execution_count": 107,
     "metadata": {},
     "output_type": "execute_result"
    }
   ],
   "source": [
    "full=pd.concat(objs=[train, test], axis=0)\n",
    "full.shape"
   ]
  },
  {
   "cell_type": "code",
   "execution_count": 19,
   "id": "ae252eaa-d861-440d-b983-516163c1d472",
   "metadata": {},
   "outputs": [
    {
     "data": {
      "text/plain": [
       "0"
      ]
     },
     "execution_count": 19,
     "metadata": {},
     "output_type": "execute_result"
    }
   ],
   "source": [
    "full.duplicated().sum()"
   ]
  },
  {
   "cell_type": "code",
   "execution_count": 20,
   "id": "3de5774f-2f5b-4a8d-9736-4e8f129c93f1",
   "metadata": {},
   "outputs": [
    {
     "name": "stdout",
     "output_type": "stream",
     "text": [
      "<class 'pandas.core.frame.DataFrame'>\n",
      "Int64Index: 24675 entries, 0 to 6168\n",
      "Data columns (total 21 columns):\n",
      " #   Column                 Non-Null Count  Dtype  \n",
      "---  ------                 --------------  -----  \n",
      " 0   Tour_ID                24675 non-null  object \n",
      " 1   country                24675 non-null  object \n",
      " 2   age_group              24675 non-null  object \n",
      " 3   travel_with            23239 non-null  object \n",
      " 4   total_female           24671 non-null  float64\n",
      " 5   total_male             24668 non-null  float64\n",
      " 6   purpose                24675 non-null  object \n",
      " 7   main_activity          24675 non-null  object \n",
      " 8   info_source            24675 non-null  object \n",
      " 9   tour_arrangement       24675 non-null  object \n",
      " 10  package_transport_int  24675 non-null  object \n",
      " 11  package_accomodation   24675 non-null  object \n",
      " 12  package_food           24675 non-null  object \n",
      " 13  package_transport_tz   24675 non-null  object \n",
      " 14  package_sightseeing    24675 non-null  object \n",
      " 15  package_guided_tour    24675 non-null  object \n",
      " 16  package_insurance      24675 non-null  object \n",
      " 17  night_mainland         24675 non-null  int64  \n",
      " 18  night_zanzibar         24675 non-null  int64  \n",
      " 19  first_trip_tz          24675 non-null  object \n",
      " 20  cost_category          18506 non-null  object \n",
      "dtypes: float64(2), int64(2), object(17)\n",
      "memory usage: 4.1+ MB\n"
     ]
    }
   ],
   "source": [
    "full.info()"
   ]
  },
  {
   "cell_type": "code",
   "execution_count": 58,
   "id": "b9b3fdc7-5ce0-43b3-b680-9e0b0455a5f8",
   "metadata": {},
   "outputs": [],
   "source": [
    "cat=[c for c in full.select_dtypes ('object').columns]\n",
    "num= [c for c in full.select_dtypes('int64', 'float64').columns]"
   ]
  },
  {
   "cell_type": "code",
   "execution_count": 84,
   "id": "d589a9f3-2272-4cdc-b5a2-a994342fe522",
   "metadata": {},
   "outputs": [
    {
     "data": {
      "text/plain": [
       "Tour_ID                     0\n",
       "country                     0\n",
       "age_group                   0\n",
       "travel_with              1436\n",
       "total_female                4\n",
       "total_male                  7\n",
       "purpose                     0\n",
       "main_activity               0\n",
       "info_source                 0\n",
       "tour_arrangement            0\n",
       "package_transport_int       0\n",
       "package_accomodation        0\n",
       "package_food                0\n",
       "package_transport_tz        0\n",
       "package_sightseeing         0\n",
       "package_guided_tour         0\n",
       "package_insurance           0\n",
       "night_mainland              0\n",
       "night_zanzibar              0\n",
       "first_trip_tz               0\n",
       "cost_category            6169\n",
       "dtype: int64"
      ]
     },
     "execution_count": 84,
     "metadata": {},
     "output_type": "execute_result"
    }
   ],
   "source": [
    "full.isna().sum()"
   ]
  },
  {
   "cell_type": "code",
   "execution_count": 60,
   "id": "1c4c6188-b2e4-44ad-8f21-2db5fb5465b1",
   "metadata": {},
   "outputs": [
    {
     "data": {
      "text/html": [
       "<div>\n",
       "<style scoped>\n",
       "    .dataframe tbody tr th:only-of-type {\n",
       "        vertical-align: middle;\n",
       "    }\n",
       "\n",
       "    .dataframe tbody tr th {\n",
       "        vertical-align: top;\n",
       "    }\n",
       "\n",
       "    .dataframe thead th {\n",
       "        text-align: right;\n",
       "    }\n",
       "</style>\n",
       "<table border=\"1\" class=\"dataframe\">\n",
       "  <thead>\n",
       "    <tr style=\"text-align: right;\">\n",
       "      <th></th>\n",
       "      <th>count</th>\n",
       "      <th>mean</th>\n",
       "      <th>std</th>\n",
       "      <th>min</th>\n",
       "      <th>25%</th>\n",
       "      <th>50%</th>\n",
       "      <th>75%</th>\n",
       "      <th>max</th>\n",
       "    </tr>\n",
       "  </thead>\n",
       "  <tbody>\n",
       "    <tr>\n",
       "      <th>total_female</th>\n",
       "      <td>24671.0</td>\n",
       "      <td>0.932796</td>\n",
       "      <td>1.205086</td>\n",
       "      <td>0.0</td>\n",
       "      <td>0.0</td>\n",
       "      <td>1.0</td>\n",
       "      <td>1.0</td>\n",
       "      <td>49.0</td>\n",
       "    </tr>\n",
       "    <tr>\n",
       "      <th>total_male</th>\n",
       "      <td>24668.0</td>\n",
       "      <td>1.003446</td>\n",
       "      <td>1.270691</td>\n",
       "      <td>0.0</td>\n",
       "      <td>1.0</td>\n",
       "      <td>1.0</td>\n",
       "      <td>1.0</td>\n",
       "      <td>90.0</td>\n",
       "    </tr>\n",
       "    <tr>\n",
       "      <th>night_mainland</th>\n",
       "      <td>24675.0</td>\n",
       "      <td>9.184113</td>\n",
       "      <td>14.719152</td>\n",
       "      <td>0.0</td>\n",
       "      <td>3.0</td>\n",
       "      <td>6.0</td>\n",
       "      <td>11.0</td>\n",
       "      <td>664.0</td>\n",
       "    </tr>\n",
       "    <tr>\n",
       "      <th>night_zanzibar</th>\n",
       "      <td>24675.0</td>\n",
       "      <td>2.516596</td>\n",
       "      <td>5.323307</td>\n",
       "      <td>0.0</td>\n",
       "      <td>0.0</td>\n",
       "      <td>0.0</td>\n",
       "      <td>4.0</td>\n",
       "      <td>240.0</td>\n",
       "    </tr>\n",
       "  </tbody>\n",
       "</table>\n",
       "</div>"
      ],
      "text/plain": [
       "                  count      mean        std  min  25%  50%   75%    max\n",
       "total_female    24671.0  0.932796   1.205086  0.0  0.0  1.0   1.0   49.0\n",
       "total_male      24668.0  1.003446   1.270691  0.0  1.0  1.0   1.0   90.0\n",
       "night_mainland  24675.0  9.184113  14.719152  0.0  3.0  6.0  11.0  664.0\n",
       "night_zanzibar  24675.0  2.516596   5.323307  0.0  0.0  0.0   4.0  240.0"
      ]
     },
     "execution_count": 60,
     "metadata": {},
     "output_type": "execute_result"
    }
   ],
   "source": [
    "full.describe().T"
   ]
  },
  {
   "cell_type": "code",
   "execution_count": 103,
   "id": "b2fe31d3-c14d-4c21-bd21-5dcc8f0f4517",
   "metadata": {},
   "outputs": [
    {
     "data": {
      "text/plain": [
       "Tour_ID                     0\n",
       "country                     0\n",
       "age_group                   0\n",
       "travel_with              1436\n",
       "total_female                4\n",
       "total_male                  7\n",
       "purpose                     0\n",
       "main_activity               0\n",
       "info_source                 0\n",
       "tour_arrangement            0\n",
       "package_transport_int       0\n",
       "package_accomodation        0\n",
       "package_food                0\n",
       "package_transport_tz        0\n",
       "package_sightseeing         0\n",
       "package_guided_tour         0\n",
       "package_insurance           0\n",
       "night_mainland              0\n",
       "night_zanzibar              0\n",
       "first_trip_tz               0\n",
       "cost_category            6169\n",
       "dtype: int64"
      ]
     },
     "execution_count": 103,
     "metadata": {},
     "output_type": "execute_result"
    }
   ],
   "source": [
    "full.isna().sum()"
   ]
  },
  {
   "cell_type": "code",
   "execution_count": 145,
   "id": "538c32b4-8ea4-48d6-a653-c4a1bee83102",
   "metadata": {},
   "outputs": [
    {
     "data": {
      "application/javascript": [
       "\n",
       "        if (window._pyforest_update_imports_cell) { window._pyforest_update_imports_cell('import pandas as pd'); }\n",
       "    "
      ],
      "text/plain": [
       "<IPython.core.display.Javascript object>"
      ]
     },
     "metadata": {},
     "output_type": "display_data"
    }
   ],
   "source": [
    "full=pd.concat(objs=[train, test], axis=0)"
   ]
  },
  {
   "cell_type": "code",
   "execution_count": 146,
   "id": "e705ec37-4e2e-458b-ad39-ec823275b7f3",
   "metadata": {},
   "outputs": [],
   "source": [
    "from sklearn.impute import SimpleImputer\n",
    "from sklearn.pipeline import make_pipeline\n",
    "\n",
    "def fillna(X, inplace=None):\n",
    "    for col in X.columns:\n",
    "        if col != 'cost_category' and X[col].isna().any():\n",
    "            if X[col].dtype == 'object':\n",
    "                strategy = 'most_frequent'\n",
    "                pipe = make_pipeline(SimpleImputer(strategy=strategy))\n",
    "            else:\n",
    "                strategy= 'median'\n",
    "                pipe = make_pipeline(SimpleImputer(strategy=strategy ))\n",
    "            X[col] = pipe.fit_transform(X[[col]])\n",
    "            \n",
    "            if not inplace:\n",
    "                return print(\"DataFrame not updated.\")\n",
    "            else:\n",
    "                print(f\"Missing Values in '{col}' column have been filled with the {strategy} value.\")\n",
    "                \n",
    "    if inplace:\n",
    "        return None"
   ]
  },
  {
   "cell_type": "code",
   "execution_count": 148,
   "id": "a70e8c0c-7ce5-4ea2-b6e2-62da89b87542",
   "metadata": {},
   "outputs": [
    {
     "name": "stdout",
     "output_type": "stream",
     "text": [
      "Missing Values in 'total_female' column have been filled with the median value.\n",
      "Missing Values in 'total_male' column have been filled with the median value.\n"
     ]
    }
   ],
   "source": [
    "fillna(full, inplace=True)"
   ]
  },
  {
   "cell_type": "code",
   "execution_count": 149,
   "id": "01c7ebfa-d6dc-405b-9bd2-2841d5425c90",
   "metadata": {},
   "outputs": [
    {
     "data": {
      "text/plain": [
       "Tour_ID                     0\n",
       "country                     0\n",
       "age_group                   0\n",
       "travel_with                 0\n",
       "total_female                0\n",
       "total_male                  0\n",
       "purpose                     0\n",
       "main_activity               0\n",
       "info_source                 0\n",
       "tour_arrangement            0\n",
       "package_transport_int       0\n",
       "package_accomodation        0\n",
       "package_food                0\n",
       "package_transport_tz        0\n",
       "package_sightseeing         0\n",
       "package_guided_tour         0\n",
       "package_insurance           0\n",
       "night_mainland              0\n",
       "night_zanzibar              0\n",
       "first_trip_tz               0\n",
       "cost_category            6169\n",
       "dtype: int64"
      ]
     },
     "execution_count": 149,
     "metadata": {},
     "output_type": "execute_result"
    }
   ],
   "source": [
    "full.isnull().sum()"
   ]
  },
  {
   "cell_type": "code",
   "execution_count": 151,
   "id": "ea16cc0e-d537-44d6-b67a-b6676a5d9fa4",
   "metadata": {},
   "outputs": [
    {
     "name": "stdout",
     "output_type": "stream",
     "text": [
      "Tour_ID 24675\n",
      "country 141\n",
      "age_group 5\n",
      "travel_with 5\n",
      "purpose 8\n",
      "main_activity 10\n",
      "info_source 8\n",
      "tour_arrangement 2\n",
      "package_transport_int 2\n",
      "package_accomodation 2\n",
      "package_food 2\n",
      "package_transport_tz 2\n",
      "package_sightseeing 2\n",
      "package_guided_tour 2\n",
      "package_insurance 2\n",
      "first_trip_tz 2\n",
      "cost_category 7\n"
     ]
    }
   ],
   "source": [
    "for col in full.select_dtypes('object'):\n",
    "    print(col, len(full[col].unique()))"
   ]
  },
  {
   "cell_type": "code",
   "execution_count": 167,
   "id": "b685deb3-aef8-4520-a7b9-b4e06916a4e1",
   "metadata": {},
   "outputs": [],
   "source": [
    "def chi_test(data, target):\n",
    "    for col in data.columns:\n",
    "        ct=pd.crosstab(target, data[col])\n",
    "        chi2, p, dof, expected = chi2_contingency(ct)\n",
    "        \n",
    "    print(f\"{col}\\nChi Test: {chi2}\\nP_Value: {p}\\nDOF: {dof}\\n------------\")"
   ]
  },
  {
   "cell_type": "code",
   "execution_count": 168,
   "id": "5ef6d61d-2c07-4346-8c01-f9c292fa8b00",
   "metadata": {},
   "outputs": [],
   "source": [
    "X=full.drop('cost_category', axis=1)\n",
    "y=full['cost_category']"
   ]
  },
  {
   "cell_type": "code",
   "execution_count": 169,
   "id": "7078df74-7a25-40b1-b204-b747e02d1803",
   "metadata": {
    "tags": []
   },
   "outputs": [
    {
     "data": {
      "application/javascript": [
       "\n",
       "        if (window._pyforest_update_imports_cell) { window._pyforest_update_imports_cell('import pandas as pd'); }\n",
       "    "
      ],
      "text/plain": [
       "<IPython.core.display.Javascript object>"
      ]
     },
     "metadata": {},
     "output_type": "display_data"
    },
    {
     "data": {
      "application/javascript": [
       "\n",
       "        if (window._pyforest_update_imports_cell) { window._pyforest_update_imports_cell('import pandas as pd'); }\n",
       "    "
      ],
      "text/plain": [
       "<IPython.core.display.Javascript object>"
      ]
     },
     "metadata": {},
     "output_type": "display_data"
    },
    {
     "data": {
      "application/javascript": [
       "\n",
       "        if (window._pyforest_update_imports_cell) { window._pyforest_update_imports_cell('import pandas as pd'); }\n",
       "    "
      ],
      "text/plain": [
       "<IPython.core.display.Javascript object>"
      ]
     },
     "metadata": {},
     "output_type": "display_data"
    },
    {
     "data": {
      "application/javascript": [
       "\n",
       "        if (window._pyforest_update_imports_cell) { window._pyforest_update_imports_cell('import pandas as pd'); }\n",
       "    "
      ],
      "text/plain": [
       "<IPython.core.display.Javascript object>"
      ]
     },
     "metadata": {},
     "output_type": "display_data"
    },
    {
     "data": {
      "application/javascript": [
       "\n",
       "        if (window._pyforest_update_imports_cell) { window._pyforest_update_imports_cell('import pandas as pd'); }\n",
       "    "
      ],
      "text/plain": [
       "<IPython.core.display.Javascript object>"
      ]
     },
     "metadata": {},
     "output_type": "display_data"
    },
    {
     "data": {
      "application/javascript": [
       "\n",
       "        if (window._pyforest_update_imports_cell) { window._pyforest_update_imports_cell('import pandas as pd'); }\n",
       "    "
      ],
      "text/plain": [
       "<IPython.core.display.Javascript object>"
      ]
     },
     "metadata": {},
     "output_type": "display_data"
    },
    {
     "data": {
      "application/javascript": [
       "\n",
       "        if (window._pyforest_update_imports_cell) { window._pyforest_update_imports_cell('import pandas as pd'); }\n",
       "    "
      ],
      "text/plain": [
       "<IPython.core.display.Javascript object>"
      ]
     },
     "metadata": {},
     "output_type": "display_data"
    },
    {
     "data": {
      "application/javascript": [
       "\n",
       "        if (window._pyforest_update_imports_cell) { window._pyforest_update_imports_cell('import pandas as pd'); }\n",
       "    "
      ],
      "text/plain": [
       "<IPython.core.display.Javascript object>"
      ]
     },
     "metadata": {},
     "output_type": "display_data"
    },
    {
     "data": {
      "application/javascript": [
       "\n",
       "        if (window._pyforest_update_imports_cell) { window._pyforest_update_imports_cell('import pandas as pd'); }\n",
       "    "
      ],
      "text/plain": [
       "<IPython.core.display.Javascript object>"
      ]
     },
     "metadata": {},
     "output_type": "display_data"
    },
    {
     "data": {
      "application/javascript": [
       "\n",
       "        if (window._pyforest_update_imports_cell) { window._pyforest_update_imports_cell('import pandas as pd'); }\n",
       "    "
      ],
      "text/plain": [
       "<IPython.core.display.Javascript object>"
      ]
     },
     "metadata": {},
     "output_type": "display_data"
    },
    {
     "data": {
      "application/javascript": [
       "\n",
       "        if (window._pyforest_update_imports_cell) { window._pyforest_update_imports_cell('import pandas as pd'); }\n",
       "    "
      ],
      "text/plain": [
       "<IPython.core.display.Javascript object>"
      ]
     },
     "metadata": {},
     "output_type": "display_data"
    },
    {
     "data": {
      "application/javascript": [
       "\n",
       "        if (window._pyforest_update_imports_cell) { window._pyforest_update_imports_cell('import pandas as pd'); }\n",
       "    "
      ],
      "text/plain": [
       "<IPython.core.display.Javascript object>"
      ]
     },
     "metadata": {},
     "output_type": "display_data"
    },
    {
     "data": {
      "application/javascript": [
       "\n",
       "        if (window._pyforest_update_imports_cell) { window._pyforest_update_imports_cell('import pandas as pd'); }\n",
       "    "
      ],
      "text/plain": [
       "<IPython.core.display.Javascript object>"
      ]
     },
     "metadata": {},
     "output_type": "display_data"
    },
    {
     "data": {
      "application/javascript": [
       "\n",
       "        if (window._pyforest_update_imports_cell) { window._pyforest_update_imports_cell('import pandas as pd'); }\n",
       "    "
      ],
      "text/plain": [
       "<IPython.core.display.Javascript object>"
      ]
     },
     "metadata": {},
     "output_type": "display_data"
    },
    {
     "data": {
      "application/javascript": [
       "\n",
       "        if (window._pyforest_update_imports_cell) { window._pyforest_update_imports_cell('import pandas as pd'); }\n",
       "    "
      ],
      "text/plain": [
       "<IPython.core.display.Javascript object>"
      ]
     },
     "metadata": {},
     "output_type": "display_data"
    },
    {
     "data": {
      "application/javascript": [
       "\n",
       "        if (window._pyforest_update_imports_cell) { window._pyforest_update_imports_cell('import pandas as pd'); }\n",
       "    "
      ],
      "text/plain": [
       "<IPython.core.display.Javascript object>"
      ]
     },
     "metadata": {},
     "output_type": "display_data"
    },
    {
     "data": {
      "application/javascript": [
       "\n",
       "        if (window._pyforest_update_imports_cell) { window._pyforest_update_imports_cell('import pandas as pd'); }\n",
       "    "
      ],
      "text/plain": [
       "<IPython.core.display.Javascript object>"
      ]
     },
     "metadata": {},
     "output_type": "display_data"
    },
    {
     "data": {
      "application/javascript": [
       "\n",
       "        if (window._pyforest_update_imports_cell) { window._pyforest_update_imports_cell('import pandas as pd'); }\n",
       "    "
      ],
      "text/plain": [
       "<IPython.core.display.Javascript object>"
      ]
     },
     "metadata": {},
     "output_type": "display_data"
    },
    {
     "data": {
      "application/javascript": [
       "\n",
       "        if (window._pyforest_update_imports_cell) { window._pyforest_update_imports_cell('import pandas as pd'); }\n",
       "    "
      ],
      "text/plain": [
       "<IPython.core.display.Javascript object>"
      ]
     },
     "metadata": {},
     "output_type": "display_data"
    },
    {
     "data": {
      "application/javascript": [
       "\n",
       "        if (window._pyforest_update_imports_cell) { window._pyforest_update_imports_cell('import pandas as pd'); }\n",
       "    "
      ],
      "text/plain": [
       "<IPython.core.display.Javascript object>"
      ]
     },
     "metadata": {},
     "output_type": "display_data"
    },
    {
     "name": "stdout",
     "output_type": "stream",
     "text": [
      "first_trip_tz\n",
      "Chi Test: .2f 2229.180451768042\n",
      "P_Value: 0.0\n",
      "DOF: 5\n",
      "------------\n"
     ]
    }
   ],
   "source": [
    "chi_test(X, y)"
   ]
  },
  {
   "cell_type": "code",
   "execution_count": 170,
   "id": "1ea1fe24-79c7-4298-9265-efbbfccc6af8",
   "metadata": {},
   "outputs": [],
   "source": [
    "def trial(data, target):\n",
    "    for col in data.columns:\n",
    "        ct=pd.crosstab(target, data[col])\n",
    "        sns.heatmap(ct)"
   ]
  },
  {
   "cell_type": "code",
   "execution_count": 171,
   "id": "e77c15aa-c8bf-4c46-9a81-d6fb29b42cd3",
   "metadata": {},
   "outputs": [
    {
     "data": {
      "application/javascript": [
       "\n",
       "        if (window._pyforest_update_imports_cell) { window._pyforest_update_imports_cell('import pandas as pd'); }\n",
       "    "
      ],
      "text/plain": [
       "<IPython.core.display.Javascript object>"
      ]
     },
     "metadata": {},
     "output_type": "display_data"
    },
    {
     "data": {
      "application/javascript": [
       "\n",
       "        if (window._pyforest_update_imports_cell) { window._pyforest_update_imports_cell('import pandas as pd'); }\n",
       "    "
      ],
      "text/plain": [
       "<IPython.core.display.Javascript object>"
      ]
     },
     "metadata": {},
     "output_type": "display_data"
    },
    {
     "data": {
      "application/javascript": [
       "\n",
       "        if (window._pyforest_update_imports_cell) { window._pyforest_update_imports_cell('import pandas as pd'); }\n",
       "    "
      ],
      "text/plain": [
       "<IPython.core.display.Javascript object>"
      ]
     },
     "metadata": {},
     "output_type": "display_data"
    },
    {
     "data": {
      "application/javascript": [
       "\n",
       "        if (window._pyforest_update_imports_cell) { window._pyforest_update_imports_cell('import pandas as pd'); }\n",
       "    "
      ],
      "text/plain": [
       "<IPython.core.display.Javascript object>"
      ]
     },
     "metadata": {},
     "output_type": "display_data"
    },
    {
     "data": {
      "application/javascript": [
       "\n",
       "        if (window._pyforest_update_imports_cell) { window._pyforest_update_imports_cell('import pandas as pd'); }\n",
       "    "
      ],
      "text/plain": [
       "<IPython.core.display.Javascript object>"
      ]
     },
     "metadata": {},
     "output_type": "display_data"
    },
    {
     "data": {
      "application/javascript": [
       "\n",
       "        if (window._pyforest_update_imports_cell) { window._pyforest_update_imports_cell('import pandas as pd'); }\n",
       "    "
      ],
      "text/plain": [
       "<IPython.core.display.Javascript object>"
      ]
     },
     "metadata": {},
     "output_type": "display_data"
    },
    {
     "data": {
      "application/javascript": [
       "\n",
       "        if (window._pyforest_update_imports_cell) { window._pyforest_update_imports_cell('import pandas as pd'); }\n",
       "    "
      ],
      "text/plain": [
       "<IPython.core.display.Javascript object>"
      ]
     },
     "metadata": {},
     "output_type": "display_data"
    },
    {
     "data": {
      "application/javascript": [
       "\n",
       "        if (window._pyforest_update_imports_cell) { window._pyforest_update_imports_cell('import pandas as pd'); }\n",
       "    "
      ],
      "text/plain": [
       "<IPython.core.display.Javascript object>"
      ]
     },
     "metadata": {},
     "output_type": "display_data"
    },
    {
     "data": {
      "application/javascript": [
       "\n",
       "        if (window._pyforest_update_imports_cell) { window._pyforest_update_imports_cell('import pandas as pd'); }\n",
       "    "
      ],
      "text/plain": [
       "<IPython.core.display.Javascript object>"
      ]
     },
     "metadata": {},
     "output_type": "display_data"
    },
    {
     "data": {
      "application/javascript": [
       "\n",
       "        if (window._pyforest_update_imports_cell) { window._pyforest_update_imports_cell('import pandas as pd'); }\n",
       "    "
      ],
      "text/plain": [
       "<IPython.core.display.Javascript object>"
      ]
     },
     "metadata": {},
     "output_type": "display_data"
    },
    {
     "data": {
      "application/javascript": [
       "\n",
       "        if (window._pyforest_update_imports_cell) { window._pyforest_update_imports_cell('import pandas as pd'); }\n",
       "    "
      ],
      "text/plain": [
       "<IPython.core.display.Javascript object>"
      ]
     },
     "metadata": {},
     "output_type": "display_data"
    },
    {
     "data": {
      "application/javascript": [
       "\n",
       "        if (window._pyforest_update_imports_cell) { window._pyforest_update_imports_cell('import pandas as pd'); }\n",
       "    "
      ],
      "text/plain": [
       "<IPython.core.display.Javascript object>"
      ]
     },
     "metadata": {},
     "output_type": "display_data"
    },
    {
     "data": {
      "application/javascript": [
       "\n",
       "        if (window._pyforest_update_imports_cell) { window._pyforest_update_imports_cell('import pandas as pd'); }\n",
       "    "
      ],
      "text/plain": [
       "<IPython.core.display.Javascript object>"
      ]
     },
     "metadata": {},
     "output_type": "display_data"
    },
    {
     "data": {
      "application/javascript": [
       "\n",
       "        if (window._pyforest_update_imports_cell) { window._pyforest_update_imports_cell('import pandas as pd'); }\n",
       "    "
      ],
      "text/plain": [
       "<IPython.core.display.Javascript object>"
      ]
     },
     "metadata": {},
     "output_type": "display_data"
    },
    {
     "data": {
      "application/javascript": [
       "\n",
       "        if (window._pyforest_update_imports_cell) { window._pyforest_update_imports_cell('import pandas as pd'); }\n",
       "    "
      ],
      "text/plain": [
       "<IPython.core.display.Javascript object>"
      ]
     },
     "metadata": {},
     "output_type": "display_data"
    },
    {
     "data": {
      "application/javascript": [
       "\n",
       "        if (window._pyforest_update_imports_cell) { window._pyforest_update_imports_cell('import pandas as pd'); }\n",
       "    "
      ],
      "text/plain": [
       "<IPython.core.display.Javascript object>"
      ]
     },
     "metadata": {},
     "output_type": "display_data"
    },
    {
     "data": {
      "application/javascript": [
       "\n",
       "        if (window._pyforest_update_imports_cell) { window._pyforest_update_imports_cell('import pandas as pd'); }\n",
       "    "
      ],
      "text/plain": [
       "<IPython.core.display.Javascript object>"
      ]
     },
     "metadata": {},
     "output_type": "display_data"
    },
    {
     "data": {
      "application/javascript": [
       "\n",
       "        if (window._pyforest_update_imports_cell) { window._pyforest_update_imports_cell('import pandas as pd'); }\n",
       "    "
      ],
      "text/plain": [
       "<IPython.core.display.Javascript object>"
      ]
     },
     "metadata": {},
     "output_type": "display_data"
    },
    {
     "data": {
      "application/javascript": [
       "\n",
       "        if (window._pyforest_update_imports_cell) { window._pyforest_update_imports_cell('import pandas as pd'); }\n",
       "    "
      ],
      "text/plain": [
       "<IPython.core.display.Javascript object>"
      ]
     },
     "metadata": {},
     "output_type": "display_data"
    },
    {
     "data": {
      "application/javascript": [
       "\n",
       "        if (window._pyforest_update_imports_cell) { window._pyforest_update_imports_cell('import pandas as pd'); }\n",
       "    "
      ],
      "text/plain": [
       "<IPython.core.display.Javascript object>"
      ]
     },
     "metadata": {},
     "output_type": "display_data"
    },
    {
     "data": {
      "image/png": "[encoded data removed]",
      "text/plain": [
       "<Figure size 640x480 with 21 Axes>"
      ]
     },
     "metadata": {},
     "output_type": "display_data"
    }
   ],
   "source": [
    "trial(X, y)"
   ]
  },
  {
   "cell_type": "code",
   "execution_count": null,
   "id": "c98b1bf3-3609-457a-93d0-6e904e8f43d7",
   "metadata": {},
   "outputs": [],
   "source": []
  }
 ],
 "metadata": {
  "kernelspec": {
   "display_name": "Python 3 (ipykernel)",
   "language": "python",
   "name": "python3"
  },
  "language_info": {
   "codemirror_mode": {
    "name": "ipython",
    "version": 3
   },
   "file_extension": ".py",
   "mimetype": "text/x-python",
   "name": "python",
   "nbconvert_exporter": "python",
   "pygments_lexer": "ipython3",
   "version": "3.9.16"
  }
 },
 "nbformat": 4,
 "nbformat_minor": 5
}
