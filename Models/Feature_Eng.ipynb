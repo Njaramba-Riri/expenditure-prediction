{
 "cells": [
  {
   "cell_type": "code",
   "execution_count": 1,
   "id": "8a9c759d-af0e-4668-b56d-a9de4e5db315",
   "metadata": {},
   "outputs": [],
   "source": [
    "%matplotlib inline\n",
    "import matplotlib.pyplot as plt\n",
    "import seaborn as sns\n",
    "import pandas as np\n",
    "import numpy as np\n",
    "\n",
    "from scipy.stats import chi2_contingency \n",
    "from sklearn.preprocessing import LabelEncoder, OrdinalEncoder, OneHotEncoder\n"
   ]
  },
  {
   "cell_type": "code",
   "execution_count": 2,
   "id": "961203c4-acfa-41ce-8648-de248143bc65",
   "metadata": {},
   "outputs": [
    {
     "data": {
      "application/javascript": [
       "\n",
       "        if (window._pyforest_update_imports_cell) { window._pyforest_update_imports_cell('import pandas as pd'); }\n",
       "    "
      ],
      "text/plain": [
       "<IPython.core.display.Javascript object>"
      ]
     },
     "metadata": {},
     "output_type": "display_data"
    },
    {
     "data": {
      "application/javascript": [
       "\n",
       "        if (window._pyforest_update_imports_cell) { window._pyforest_update_imports_cell('import pandas as pd'); }\n",
       "    "
      ],
      "text/plain": [
       "<IPython.core.display.Javascript object>"
      ]
     },
     "metadata": {},
     "output_type": "display_data"
    }
   ],
   "source": [
    "train=pd.read_csv('Datasets/Train.csv')\n",
    "test=pd.read_csv('datasets/test.csv')"
   ]
  },
  {
   "cell_type": "code",
   "execution_count": 3,
   "id": "8ee85a93-570d-4517-b277-d47234e9ca93",
   "metadata": {},
   "outputs": [
    {
     "name": "stdout",
     "output_type": "stream",
     "text": [
      "(18506, 21) (6169, 20)\n"
     ]
    }
   ],
   "source": [
    "print(train.shape, test.shape)"
   ]
  },
  {
   "cell_type": "code",
   "execution_count": 4,
   "id": "e977c4e4-c6ce-4928-9e37-588e1df3af28",
   "metadata": {},
   "outputs": [
    {
     "data": {
      "text/html": [
       "<div>\n",
       "<style scoped>\n",
       "    .dataframe tbody tr th:only-of-type {\n",
       "        vertical-align: middle;\n",
       "    }\n",
       "\n",
       "    .dataframe tbody tr th {\n",
       "        vertical-align: top;\n",
       "    }\n",
       "\n",
       "    .dataframe thead th {\n",
       "        text-align: right;\n",
       "    }\n",
       "</style>\n",
       "<table border=\"1\" class=\"dataframe\">\n",
       "  <thead>\n",
       "    <tr style=\"text-align: right;\">\n",
       "      <th></th>\n",
       "      <th>Tour_ID</th>\n",
       "      <th>country</th>\n",
       "      <th>age_group</th>\n",
       "      <th>travel_with</th>\n",
       "      <th>total_female</th>\n",
       "      <th>total_male</th>\n",
       "      <th>purpose</th>\n",
       "      <th>main_activity</th>\n",
       "      <th>info_source</th>\n",
       "      <th>tour_arrangement</th>\n",
       "      <th>...</th>\n",
       "      <th>package_accomodation</th>\n",
       "      <th>package_food</th>\n",
       "      <th>package_transport_tz</th>\n",
       "      <th>package_sightseeing</th>\n",
       "      <th>package_guided_tour</th>\n",
       "      <th>package_insurance</th>\n",
       "      <th>night_mainland</th>\n",
       "      <th>night_zanzibar</th>\n",
       "      <th>first_trip_tz</th>\n",
       "      <th>cost_category</th>\n",
       "    </tr>\n",
       "  </thead>\n",
       "  <tbody>\n",
       "    <tr>\n",
       "      <th>0</th>\n",
       "      <td>tour_id1hffseyw</td>\n",
       "      <td>ITALY</td>\n",
       "      <td>45-64</td>\n",
       "      <td>With Children</td>\n",
       "      <td>0.0</td>\n",
       "      <td>2.0</td>\n",
       "      <td>Visiting Friends and Relatives</td>\n",
       "      <td>Beach Tourism</td>\n",
       "      <td>Friends, relatives</td>\n",
       "      <td>Package Tour</td>\n",
       "      <td>...</td>\n",
       "      <td>Yes</td>\n",
       "      <td>Yes</td>\n",
       "      <td>Yes</td>\n",
       "      <td>No</td>\n",
       "      <td>No</td>\n",
       "      <td>No</td>\n",
       "      <td>0</td>\n",
       "      <td>7</td>\n",
       "      <td>Yes</td>\n",
       "      <td>High Cost</td>\n",
       "    </tr>\n",
       "    <tr>\n",
       "      <th>1</th>\n",
       "      <td>tour_idnacd7zag</td>\n",
       "      <td>UNITED KINGDOM</td>\n",
       "      <td>25-44</td>\n",
       "      <td>With Spouse</td>\n",
       "      <td>1.0</td>\n",
       "      <td>1.0</td>\n",
       "      <td>Leisure and Holidays</td>\n",
       "      <td>Wildlife Tourism</td>\n",
       "      <td>Travel agent, tour operator</td>\n",
       "      <td>Package Tour</td>\n",
       "      <td>...</td>\n",
       "      <td>Yes</td>\n",
       "      <td>Yes</td>\n",
       "      <td>Yes</td>\n",
       "      <td>No</td>\n",
       "      <td>No</td>\n",
       "      <td>No</td>\n",
       "      <td>0</td>\n",
       "      <td>7</td>\n",
       "      <td>Yes</td>\n",
       "      <td>High Cost</td>\n",
       "    </tr>\n",
       "  </tbody>\n",
       "</table>\n",
       "<p>2 rows × 21 columns</p>\n",
       "</div>"
      ],
      "text/plain": [
       "           Tour_ID         country age_group    travel_with  total_female  \\\n",
       "0  tour_id1hffseyw           ITALY     45-64  With Children           0.0   \n",
       "1  tour_idnacd7zag  UNITED KINGDOM     25-44    With Spouse           1.0   \n",
       "\n",
       "   total_male                         purpose     main_activity  \\\n",
       "0         2.0  Visiting Friends and Relatives     Beach Tourism   \n",
       "1         1.0            Leisure and Holidays  Wildlife Tourism   \n",
       "\n",
       "                   info_source tour_arrangement  ... package_accomodation  \\\n",
       "0           Friends, relatives     Package Tour  ...                  Yes   \n",
       "1  Travel agent, tour operator     Package Tour  ...                  Yes   \n",
       "\n",
       "  package_food package_transport_tz package_sightseeing package_guided_tour  \\\n",
       "0          Yes                  Yes                  No                  No   \n",
       "1          Yes                  Yes                  No                  No   \n",
       "\n",
       "  package_insurance night_mainland  night_zanzibar  first_trip_tz  \\\n",
       "0                No              0               7            Yes   \n",
       "1                No              0               7            Yes   \n",
       "\n",
       "  cost_category  \n",
       "0     High Cost  \n",
       "1     High Cost  \n",
       "\n",
       "[2 rows x 21 columns]"
      ]
     },
     "execution_count": 4,
     "metadata": {},
     "output_type": "execute_result"
    }
   ],
   "source": [
    "train.head(2)"
   ]
  },
  {
   "cell_type": "code",
   "execution_count": 5,
   "id": "08120e69-4252-49e8-b5bf-fa67ef0e263a",
   "metadata": {},
   "outputs": [
    {
     "data": {
      "text/html": [
       "<div>\n",
       "<style scoped>\n",
       "    .dataframe tbody tr th:only-of-type {\n",
       "        vertical-align: middle;\n",
       "    }\n",
       "\n",
       "    .dataframe tbody tr th {\n",
       "        vertical-align: top;\n",
       "    }\n",
       "\n",
       "    .dataframe thead th {\n",
       "        text-align: right;\n",
       "    }\n",
       "</style>\n",
       "<table border=\"1\" class=\"dataframe\">\n",
       "  <thead>\n",
       "    <tr style=\"text-align: right;\">\n",
       "      <th></th>\n",
       "      <th>Tour_ID</th>\n",
       "      <th>country</th>\n",
       "      <th>age_group</th>\n",
       "      <th>travel_with</th>\n",
       "      <th>total_female</th>\n",
       "      <th>total_male</th>\n",
       "      <th>purpose</th>\n",
       "      <th>main_activity</th>\n",
       "      <th>info_source</th>\n",
       "      <th>tour_arrangement</th>\n",
       "      <th>package_transport_int</th>\n",
       "      <th>package_accomodation</th>\n",
       "      <th>package_food</th>\n",
       "      <th>package_transport_tz</th>\n",
       "      <th>package_sightseeing</th>\n",
       "      <th>package_guided_tour</th>\n",
       "      <th>package_insurance</th>\n",
       "      <th>night_mainland</th>\n",
       "      <th>night_zanzibar</th>\n",
       "      <th>first_trip_tz</th>\n",
       "    </tr>\n",
       "  </thead>\n",
       "  <tbody>\n",
       "    <tr>\n",
       "      <th>0</th>\n",
       "      <td>tour_idynufedne</td>\n",
       "      <td>KOREA</td>\n",
       "      <td>25-44</td>\n",
       "      <td>Alone</td>\n",
       "      <td>0.0</td>\n",
       "      <td>1.0</td>\n",
       "      <td>Leisure and Holidays</td>\n",
       "      <td>Widlife Tourism</td>\n",
       "      <td>Others</td>\n",
       "      <td>Independent</td>\n",
       "      <td>No</td>\n",
       "      <td>No</td>\n",
       "      <td>No</td>\n",
       "      <td>No</td>\n",
       "      <td>No</td>\n",
       "      <td>No</td>\n",
       "      <td>No</td>\n",
       "      <td>7</td>\n",
       "      <td>4</td>\n",
       "      <td>Yes</td>\n",
       "    </tr>\n",
       "    <tr>\n",
       "      <th>1</th>\n",
       "      <td>tour_id9r3y5moe</td>\n",
       "      <td>UNITED KINGDOM</td>\n",
       "      <td>45-64</td>\n",
       "      <td>With Children</td>\n",
       "      <td>1.0</td>\n",
       "      <td>1.0</td>\n",
       "      <td>Leisure and Holidays</td>\n",
       "      <td>Conference Tourism</td>\n",
       "      <td>Travel agent, tour operator</td>\n",
       "      <td>Package Tour</td>\n",
       "      <td>Yes</td>\n",
       "      <td>Yes</td>\n",
       "      <td>Yes</td>\n",
       "      <td>Yes</td>\n",
       "      <td>Yes</td>\n",
       "      <td>Yes</td>\n",
       "      <td>Yes</td>\n",
       "      <td>7</td>\n",
       "      <td>0</td>\n",
       "      <td>Yes</td>\n",
       "    </tr>\n",
       "  </tbody>\n",
       "</table>\n",
       "</div>"
      ],
      "text/plain": [
       "           Tour_ID         country age_group    travel_with  total_female  \\\n",
       "0  tour_idynufedne           KOREA     25-44          Alone           0.0   \n",
       "1  tour_id9r3y5moe  UNITED KINGDOM     45-64  With Children           1.0   \n",
       "\n",
       "   total_male               purpose       main_activity  \\\n",
       "0         1.0  Leisure and Holidays     Widlife Tourism   \n",
       "1         1.0  Leisure and Holidays  Conference Tourism   \n",
       "\n",
       "                   info_source tour_arrangement package_transport_int  \\\n",
       "0                       Others      Independent                    No   \n",
       "1  Travel agent, tour operator     Package Tour                   Yes   \n",
       "\n",
       "  package_accomodation package_food package_transport_tz package_sightseeing  \\\n",
       "0                   No           No                   No                  No   \n",
       "1                  Yes          Yes                  Yes                 Yes   \n",
       "\n",
       "  package_guided_tour package_insurance  night_mainland  night_zanzibar  \\\n",
       "0                  No                No               7               4   \n",
       "1                 Yes               Yes               7               0   \n",
       "\n",
       "  first_trip_tz  \n",
       "0           Yes  \n",
       "1           Yes  "
      ]
     },
     "execution_count": 5,
     "metadata": {},
     "output_type": "execute_result"
    }
   ],
   "source": [
    "test.head(2)"
   ]
  },
  {
   "cell_type": "code",
   "execution_count": 6,
   "id": "81c284ca-ea67-4dd5-9ebc-bcf7508a2120",
   "metadata": {},
   "outputs": [
    {
     "data": {
      "text/plain": [
       "0"
      ]
     },
     "execution_count": 6,
     "metadata": {},
     "output_type": "execute_result"
    }
   ],
   "source": [
    "train.duplicated().sum()"
   ]
  },
  {
   "cell_type": "code",
   "execution_count": 7,
   "id": "db6980e2-2c9b-4521-a584-838852c59e40",
   "metadata": {},
   "outputs": [
    {
     "data": {
      "text/plain": [
       "0"
      ]
     },
     "execution_count": 7,
     "metadata": {},
     "output_type": "execute_result"
    }
   ],
   "source": [
    "test.duplicated().sum()"
   ]
  },
  {
   "cell_type": "code",
   "execution_count": 8,
   "id": "867f8f5b-9b86-45af-b771-cfd9ae3b76bc",
   "metadata": {},
   "outputs": [
    {
     "data": {
      "application/javascript": [
       "\n",
       "        if (window._pyforest_update_imports_cell) { window._pyforest_update_imports_cell('import pandas as pd'); }\n",
       "    "
      ],
      "text/plain": [
       "<IPython.core.display.Javascript object>"
      ]
     },
     "metadata": {},
     "output_type": "display_data"
    },
    {
     "data": {
      "text/plain": [
       "(24675, 21)"
      ]
     },
     "execution_count": 8,
     "metadata": {},
     "output_type": "execute_result"
    }
   ],
   "source": [
    "full=pd.concat(objs=[train, test], axis=0)\n",
    "full.shape"
   ]
  },
  {
   "cell_type": "code",
   "execution_count": 9,
   "id": "ae252eaa-d861-440d-b983-516163c1d472",
   "metadata": {},
   "outputs": [
    {
     "data": {
      "text/plain": [
       "0"
      ]
     },
     "execution_count": 9,
     "metadata": {},
     "output_type": "execute_result"
    }
   ],
   "source": [
    "full.duplicated().sum()"
   ]
  },
  {
   "cell_type": "code",
   "execution_count": 10,
   "id": "3de5774f-2f5b-4a8d-9736-4e8f129c93f1",
   "metadata": {},
   "outputs": [
    {
     "name": "stdout",
     "output_type": "stream",
     "text": [
      "<class 'pandas.core.frame.DataFrame'>\n",
      "Int64Index: 24675 entries, 0 to 6168\n",
      "Data columns (total 21 columns):\n",
      " #   Column                 Non-Null Count  Dtype  \n",
      "---  ------                 --------------  -----  \n",
      " 0   Tour_ID                24675 non-null  object \n",
      " 1   country                24675 non-null  object \n",
      " 2   age_group              24675 non-null  object \n",
      " 3   travel_with            23239 non-null  object \n",
      " 4   total_female           24671 non-null  float64\n",
      " 5   total_male             24668 non-null  float64\n",
      " 6   purpose                24675 non-null  object \n",
      " 7   main_activity          24675 non-null  object \n",
      " 8   info_source            24675 non-null  object \n",
      " 9   tour_arrangement       24675 non-null  object \n",
      " 10  package_transport_int  24675 non-null  object \n",
      " 11  package_accomodation   24675 non-null  object \n",
      " 12  package_food           24675 non-null  object \n",
      " 13  package_transport_tz   24675 non-null  object \n",
      " 14  package_sightseeing    24675 non-null  object \n",
      " 15  package_guided_tour    24675 non-null  object \n",
      " 16  package_insurance      24675 non-null  object \n",
      " 17  night_mainland         24675 non-null  int64  \n",
      " 18  night_zanzibar         24675 non-null  int64  \n",
      " 19  first_trip_tz          24675 non-null  object \n",
      " 20  cost_category          18506 non-null  object \n",
      "dtypes: float64(2), int64(2), object(17)\n",
      "memory usage: 4.1+ MB\n"
     ]
    }
   ],
   "source": [
    "full.info()"
   ]
  },
  {
   "cell_type": "code",
   "execution_count": 11,
   "id": "b9b3fdc7-5ce0-43b3-b680-9e0b0455a5f8",
   "metadata": {},
   "outputs": [],
   "source": [
    "cat=[c for c in full.select_dtypes ('object').columns]\n",
    "num= [c for c in full.select_dtypes('int64', 'float64').columns]"
   ]
  },
  {
   "cell_type": "code",
   "execution_count": 12,
   "id": "d589a9f3-2272-4cdc-b5a2-a994342fe522",
   "metadata": {},
   "outputs": [
    {
     "data": {
      "text/plain": [
       "Tour_ID                     0\n",
       "country                     0\n",
       "age_group                   0\n",
       "travel_with              1436\n",
       "total_female                4\n",
       "total_male                  7\n",
       "purpose                     0\n",
       "main_activity               0\n",
       "info_source                 0\n",
       "tour_arrangement            0\n",
       "package_transport_int       0\n",
       "package_accomodation        0\n",
       "package_food                0\n",
       "package_transport_tz        0\n",
       "package_sightseeing         0\n",
       "package_guided_tour         0\n",
       "package_insurance           0\n",
       "night_mainland              0\n",
       "night_zanzibar              0\n",
       "first_trip_tz               0\n",
       "cost_category            6169\n",
       "dtype: int64"
      ]
     },
     "execution_count": 12,
     "metadata": {},
     "output_type": "execute_result"
    }
   ],
   "source": [
    "full.isna().sum()"
   ]
  },
  {
   "cell_type": "code",
   "execution_count": 13,
   "id": "1c4c6188-b2e4-44ad-8f21-2db5fb5465b1",
   "metadata": {},
   "outputs": [
    {
     "data": {
      "text/html": [
       "<div>\n",
       "<style scoped>\n",
       "    .dataframe tbody tr th:only-of-type {\n",
       "        vertical-align: middle;\n",
       "    }\n",
       "\n",
       "    .dataframe tbody tr th {\n",
       "        vertical-align: top;\n",
       "    }\n",
       "\n",
       "    .dataframe thead th {\n",
       "        text-align: right;\n",
       "    }\n",
       "</style>\n",
       "<table border=\"1\" class=\"dataframe\">\n",
       "  <thead>\n",
       "    <tr style=\"text-align: right;\">\n",
       "      <th></th>\n",
       "      <th>count</th>\n",
       "      <th>mean</th>\n",
       "      <th>std</th>\n",
       "      <th>min</th>\n",
       "      <th>25%</th>\n",
       "      <th>50%</th>\n",
       "      <th>75%</th>\n",
       "      <th>max</th>\n",
       "    </tr>\n",
       "  </thead>\n",
       "  <tbody>\n",
       "    <tr>\n",
       "      <th>total_female</th>\n",
       "      <td>24671.0</td>\n",
       "      <td>0.932796</td>\n",
       "      <td>1.205086</td>\n",
       "      <td>0.0</td>\n",
       "      <td>0.0</td>\n",
       "      <td>1.0</td>\n",
       "      <td>1.0</td>\n",
       "      <td>49.0</td>\n",
       "    </tr>\n",
       "    <tr>\n",
       "      <th>total_male</th>\n",
       "      <td>24668.0</td>\n",
       "      <td>1.003446</td>\n",
       "      <td>1.270691</td>\n",
       "      <td>0.0</td>\n",
       "      <td>1.0</td>\n",
       "      <td>1.0</td>\n",
       "      <td>1.0</td>\n",
       "      <td>90.0</td>\n",
       "    </tr>\n",
       "    <tr>\n",
       "      <th>night_mainland</th>\n",
       "      <td>24675.0</td>\n",
       "      <td>9.184113</td>\n",
       "      <td>14.719152</td>\n",
       "      <td>0.0</td>\n",
       "      <td>3.0</td>\n",
       "      <td>6.0</td>\n",
       "      <td>11.0</td>\n",
       "      <td>664.0</td>\n",
       "    </tr>\n",
       "    <tr>\n",
       "      <th>night_zanzibar</th>\n",
       "      <td>24675.0</td>\n",
       "      <td>2.516596</td>\n",
       "      <td>5.323307</td>\n",
       "      <td>0.0</td>\n",
       "      <td>0.0</td>\n",
       "      <td>0.0</td>\n",
       "      <td>4.0</td>\n",
       "      <td>240.0</td>\n",
       "    </tr>\n",
       "  </tbody>\n",
       "</table>\n",
       "</div>"
      ],
      "text/plain": [
       "                  count      mean        std  min  25%  50%   75%    max\n",
       "total_female    24671.0  0.932796   1.205086  0.0  0.0  1.0   1.0   49.0\n",
       "total_male      24668.0  1.003446   1.270691  0.0  1.0  1.0   1.0   90.0\n",
       "night_mainland  24675.0  9.184113  14.719152  0.0  3.0  6.0  11.0  664.0\n",
       "night_zanzibar  24675.0  2.516596   5.323307  0.0  0.0  0.0   4.0  240.0"
      ]
     },
     "execution_count": 13,
     "metadata": {},
     "output_type": "execute_result"
    }
   ],
   "source": [
    "full.describe().T"
   ]
  },
  {
   "cell_type": "code",
   "execution_count": 14,
   "id": "b2fe31d3-c14d-4c21-bd21-5dcc8f0f4517",
   "metadata": {},
   "outputs": [
    {
     "data": {
      "text/plain": [
       "Tour_ID                     0\n",
       "country                     0\n",
       "age_group                   0\n",
       "travel_with              1436\n",
       "total_female                4\n",
       "total_male                  7\n",
       "purpose                     0\n",
       "main_activity               0\n",
       "info_source                 0\n",
       "tour_arrangement            0\n",
       "package_transport_int       0\n",
       "package_accomodation        0\n",
       "package_food                0\n",
       "package_transport_tz        0\n",
       "package_sightseeing         0\n",
       "package_guided_tour         0\n",
       "package_insurance           0\n",
       "night_mainland              0\n",
       "night_zanzibar              0\n",
       "first_trip_tz               0\n",
       "cost_category            6169\n",
       "dtype: int64"
      ]
     },
     "execution_count": 14,
     "metadata": {},
     "output_type": "execute_result"
    }
   ],
   "source": [
    "full.isna().sum()"
   ]
  },
  {
   "cell_type": "code",
   "execution_count": 124,
   "id": "538c32b4-8ea4-48d6-a653-c4a1bee83102",
   "metadata": {},
   "outputs": [
    {
     "data": {
      "application/javascript": [
       "\n",
       "        if (window._pyforest_update_imports_cell) { window._pyforest_update_imports_cell('import pandas as pd'); }\n",
       "    "
      ],
      "text/plain": [
       "<IPython.core.display.Javascript object>"
      ]
     },
     "metadata": {},
     "output_type": "display_data"
    }
   ],
   "source": [
    "full=pd.concat(objs=[train, test], axis=0)"
   ]
  },
  {
   "cell_type": "code",
   "execution_count": 125,
   "id": "e705ec37-4e2e-458b-ad39-ec823275b7f3",
   "metadata": {},
   "outputs": [],
   "source": [
    "from sklearn.impute import SimpleImputer\n",
    "from sklearn.pipeline import make_pipeline\n",
    "\n",
    "def fillna(X, inplace=None):\n",
    "    for col in X.columns:\n",
    "        if col != 'cost_category' and X[col].isna().any():\n",
    "            if X[col].dtype == 'object':\n",
    "                strategy = 'most_frequent'\n",
    "                pipe = make_pipeline(SimpleImputer(strategy=strategy))\n",
    "            else:\n",
    "                strategy= 'median'\n",
    "                pipe = make_pipeline(SimpleImputer(strategy=strategy ))\n",
    "            X[col] = pipe.fit_transform(X[[col]])\n",
    "            \n",
    "            if not inplace:\n",
    "                return print(\"DataFrame not updated.\")\n",
    "            else:\n",
    "                print(f\"Missing Values in '{col}' column have been filled with the {strategy} value.\")\n",
    "                \n",
    "    if inplace:\n",
    "        return None"
   ]
  },
  {
   "cell_type": "code",
   "execution_count": 103,
   "id": "a70e8c0c-7ce5-4ea2-b6e2-62da89b87542",
   "metadata": {},
   "outputs": [
    {
     "name": "stdout",
     "output_type": "stream",
     "text": [
      "Missing Values in 'travel_with' column have been filled with the most_frequent value.\n",
      "Missing Values in 'total_female' column have been filled with the median value.\n",
      "Missing Values in 'total_male' column have been filled with the median value.\n"
     ]
    }
   ],
   "source": [
    "fillna(full, inplace=True)"
   ]
  },
  {
   "cell_type": "code",
   "execution_count": 18,
   "id": "01c7ebfa-d6dc-405b-9bd2-2841d5425c90",
   "metadata": {},
   "outputs": [
    {
     "data": {
      "text/plain": [
       "Tour_ID                     0\n",
       "country                     0\n",
       "age_group                   0\n",
       "travel_with                 0\n",
       "total_female                0\n",
       "total_male                  0\n",
       "purpose                     0\n",
       "main_activity               0\n",
       "info_source                 0\n",
       "tour_arrangement            0\n",
       "package_transport_int       0\n",
       "package_accomodation        0\n",
       "package_food                0\n",
       "package_transport_tz        0\n",
       "package_sightseeing         0\n",
       "package_guided_tour         0\n",
       "package_insurance           0\n",
       "night_mainland              0\n",
       "night_zanzibar              0\n",
       "first_trip_tz               0\n",
       "cost_category            6169\n",
       "dtype: int64"
      ]
     },
     "execution_count": 18,
     "metadata": {},
     "output_type": "execute_result"
    }
   ],
   "source": [
    "full.isnull().sum()"
   ]
  },
  {
   "cell_type": "code",
   "execution_count": 19,
   "id": "ea16cc0e-d537-44d6-b67a-b6676a5d9fa4",
   "metadata": {},
   "outputs": [
    {
     "name": "stdout",
     "output_type": "stream",
     "text": [
      "Tour_ID 24675\n",
      "country 141\n",
      "age_group 5\n",
      "travel_with 5\n",
      "purpose 8\n",
      "main_activity 10\n",
      "info_source 8\n",
      "tour_arrangement 2\n",
      "package_transport_int 2\n",
      "package_accomodation 2\n",
      "package_food 2\n",
      "package_transport_tz 2\n",
      "package_sightseeing 2\n",
      "package_guided_tour 2\n",
      "package_insurance 2\n",
      "first_trip_tz 2\n",
      "cost_category 7\n"
     ]
    }
   ],
   "source": [
    "for col in full.select_dtypes('object'):\n",
    "    print(col, len(full[col].unique()))"
   ]
  },
  {
   "cell_type": "code",
   "execution_count": 20,
   "id": "5bce2f50-c7cb-4079-9ec7-80d0d8f4a30e",
   "metadata": {},
   "outputs": [],
   "source": [
    "def cat_unique(dataset):\n",
    "    for col in dataset.select_dtypes('object'):\n",
    "        if dataset[col].nunique() > 10:\n",
    "            print(f\"\\nColumn: {col}\\nTotal number of Unique Values:  {dataset[col].nunique()}\")\n",
    "        else:\n",
    "            print(f\"\\nColumn: {col}\\nUnique Values: {dataset[col].unique()}\")"
   ]
  },
  {
   "cell_type": "code",
   "execution_count": 21,
   "id": "08a79b9d-c2d5-442e-8412-eea3be844f36",
   "metadata": {},
   "outputs": [
    {
     "name": "stdout",
     "output_type": "stream",
     "text": [
      "\n",
      "Column: Tour_ID\n",
      "Total Sum of Unique Values:  24675\n",
      "\n",
      "Column: country\n",
      "Total Sum of Unique Values:  141\n",
      "\n",
      "Column: age_group\n",
      "Unique Values: ['45-64' '25-44' '65+' '18-24' '<18']\n",
      "\n",
      "Column: travel_with\n",
      "Unique Values: ['With Children' 'With Spouse' 'With Spouse and Children' 'Alone'\n",
      " 'With Other Friends/Relatives']\n",
      "\n",
      "Column: purpose\n",
      "Unique Values: ['Visiting Friends and Relatives' 'Leisure and Holidays' 'Business'\n",
      " 'Scientific and Academic' 'Meetings and Conference' 'Volunteering'\n",
      " 'Other' 'Medical']\n",
      "\n",
      "Column: main_activity\n",
      "Unique Values: ['Beach Tourism' 'Wildlife Tourism' 'Widlife Tourism' 'Cultural Tourism'\n",
      " 'Bird Tourism' 'Hunting Tourism' 'Conference Tourism' 'Mountain Climbing'\n",
      " 'Business' 'Diving and Sport Fishing']\n",
      "\n",
      "Column: info_source\n",
      "Unique Values: ['Friends, relatives' 'Travel agent, tour operator' 'Radio, TV, Web'\n",
      " 'Newspaper, magazines, brochures' 'Others' 'Tanzania Mission Abroad'\n",
      " 'Inflight magazines' 'Trade fair']\n",
      "\n",
      "Column: tour_arrangement\n",
      "Unique Values: ['Package Tour' 'Independent']\n",
      "\n",
      "Column: package_transport_int\n",
      "Unique Values: ['Yes' 'No']\n",
      "\n",
      "Column: package_accomodation\n",
      "Unique Values: ['Yes' 'No']\n",
      "\n",
      "Column: package_food\n",
      "Unique Values: ['Yes' 'No']\n",
      "\n",
      "Column: package_transport_tz\n",
      "Unique Values: ['Yes' 'No']\n",
      "\n",
      "Column: package_sightseeing\n",
      "Unique Values: ['No' 'Yes']\n",
      "\n",
      "Column: package_guided_tour\n",
      "Unique Values: ['No' 'Yes']\n",
      "\n",
      "Column: package_insurance\n",
      "Unique Values: ['No' 'Yes']\n",
      "\n",
      "Column: first_trip_tz\n",
      "Unique Values: ['Yes' 'No']\n",
      "\n",
      "Column: cost_category\n",
      "Unique Values: ['High Cost' 'Higher Cost' 'Lower Cost' 'Normal Cost' 'Low Cost'\n",
      " 'Highest Cost' nan]\n"
     ]
    }
   ],
   "source": [
    "cat_unique(full)"
   ]
  },
  {
   "cell_type": "code",
   "execution_count": 22,
   "id": "51e2f287-b4ea-48f1-967c-ce163ba02f5a",
   "metadata": {},
   "outputs": [],
   "source": [
    "full['main_activity'].replace({'Widlife Tourism':'Wildlife Tourism'}, inplace=True)"
   ]
  },
  {
   "cell_type": "code",
   "execution_count": 23,
   "id": "f64ea319-4875-42c1-8ffb-236cbfbb8dc8",
   "metadata": {},
   "outputs": [
    {
     "data": {
      "text/plain": [
       "Wildlife Tourism            11050\n",
       "Beach Tourism                5604\n",
       "Conference Tourism           2532\n",
       "Hunting Tourism              2235\n",
       "Cultural Tourism             1939\n",
       "Mountain Climbing             727\n",
       "Business                      370\n",
       "Bird Tourism                  178\n",
       "Diving and Sport Fishing       40\n",
       "Name: main_activity, dtype: int64"
      ]
     },
     "execution_count": 23,
     "metadata": {},
     "output_type": "execute_result"
    }
   ],
   "source": [
    "full.main_activity.value_counts()"
   ]
  },
  {
   "cell_type": "code",
   "execution_count": 26,
   "id": "b685deb3-aef8-4520-a7b9-b4e06916a4e1",
   "metadata": {},
   "outputs": [],
   "source": [
    "def chi_test(X, y):\n",
    "    \n",
    "    col_drop= []\n",
    "    not_drop= []\n",
    "    undecided=[]\n",
    "    \n",
    "    for col in X.columns:\n",
    "        ct=pd.crosstab(y, X[col])\n",
    "        chi2, p, dof, expected = chi2_contingency(ct)\n",
    "        \n",
    "        if p >= 0.05 or chi2 <= 2000:\n",
    "            col_drop.append(col)\n",
    "        elif p <0.05 and  chi2 >= 5000:\n",
    "            not_drop.append(col)\n",
    "        elif p < 0.05 and 2000 < chi2 < 5000:\n",
    "            undecided.append(col)\n",
    "        \n",
    "        print(f\"Column: {col}\\nChi Test: {chi2}\\nP_Value: {p}\\nDOF: {dof}\\n------------\")\n",
    "    return print(f\"\\n\\nSUMMARY: \\nLittle or No correlation Columns: {col_drop}\\n\\nStrong Correlation Columns: {not_drop}\\n\\nCorrelation not so strong columns: {undecided}\")"
   ]
  },
  {
   "cell_type": "code",
   "execution_count": 27,
   "id": "5ef6d61d-2c07-4346-8c01-f9c292fa8b00",
   "metadata": {},
   "outputs": [],
   "source": [
    "X=full.drop('cost_category', axis=1)\n",
    "y=full['cost_category']"
   ]
  },
  {
   "cell_type": "code",
   "execution_count": 28,
   "id": "7078df74-7a25-40b1-b204-b747e02d1803",
   "metadata": {
    "tags": []
   },
   "outputs": [
    {
     "data": {
      "application/javascript": [
       "\n",
       "        if (window._pyforest_update_imports_cell) { window._pyforest_update_imports_cell('import pandas as pd'); }\n",
       "    "
      ],
      "text/plain": [
       "<IPython.core.display.Javascript object>"
      ]
     },
     "metadata": {},
     "output_type": "display_data"
    },
    {
     "name": "stdout",
     "output_type": "stream",
     "text": [
      "Column: Tour_ID\n",
      "Chi Test: 92530.0\n",
      "P_Value: 0.4947449902995666\n",
      "DOF: 92525\n",
      "------------\n"
     ]
    },
    {
     "data": {
      "application/javascript": [
       "\n",
       "        if (window._pyforest_update_imports_cell) { window._pyforest_update_imports_cell('import pandas as pd'); }\n",
       "    "
      ],
      "text/plain": [
       "<IPython.core.display.Javascript object>"
      ]
     },
     "metadata": {},
     "output_type": "display_data"
    },
    {
     "name": "stdout",
     "output_type": "stream",
     "text": [
      "Column: country\n",
      "Chi Test: 9779.033678192025\n",
      "P_Value: 0.0\n",
      "DOF: 650\n",
      "------------\n"
     ]
    },
    {
     "data": {
      "application/javascript": [
       "\n",
       "        if (window._pyforest_update_imports_cell) { window._pyforest_update_imports_cell('import pandas as pd'); }\n",
       "    "
      ],
      "text/plain": [
       "<IPython.core.display.Javascript object>"
      ]
     },
     "metadata": {},
     "output_type": "display_data"
    },
    {
     "name": "stdout",
     "output_type": "stream",
     "text": [
      "Column: age_group\n",
      "Chi Test: 1803.196457648891\n",
      "P_Value: 0.0\n",
      "DOF: 20\n",
      "------------\n"
     ]
    },
    {
     "data": {
      "application/javascript": [
       "\n",
       "        if (window._pyforest_update_imports_cell) { window._pyforest_update_imports_cell('import pandas as pd'); }\n",
       "    "
      ],
      "text/plain": [
       "<IPython.core.display.Javascript object>"
      ]
     },
     "metadata": {},
     "output_type": "display_data"
    },
    {
     "name": "stdout",
     "output_type": "stream",
     "text": [
      "Column: travel_with\n",
      "Chi Test: 4750.174328498706\n",
      "P_Value: 0.0\n",
      "DOF: 20\n",
      "------------\n"
     ]
    },
    {
     "data": {
      "application/javascript": [
       "\n",
       "        if (window._pyforest_update_imports_cell) { window._pyforest_update_imports_cell('import pandas as pd'); }\n",
       "    "
      ],
      "text/plain": [
       "<IPython.core.display.Javascript object>"
      ]
     },
     "metadata": {},
     "output_type": "display_data"
    },
    {
     "name": "stdout",
     "output_type": "stream",
     "text": [
      "Column: total_female\n",
      "Chi Test: 3730.2094106443064\n",
      "P_Value: 0.0\n",
      "DOF: 115\n",
      "------------\n"
     ]
    },
    {
     "data": {
      "application/javascript": [
       "\n",
       "        if (window._pyforest_update_imports_cell) { window._pyforest_update_imports_cell('import pandas as pd'); }\n",
       "    "
      ],
      "text/plain": [
       "<IPython.core.display.Javascript object>"
      ]
     },
     "metadata": {},
     "output_type": "display_data"
    },
    {
     "name": "stdout",
     "output_type": "stream",
     "text": [
      "Column: total_male\n",
      "Chi Test: 1398.489543210294\n",
      "P_Value: 2.2443121745916526e-219\n",
      "DOF: 115\n",
      "------------\n"
     ]
    },
    {
     "data": {
      "application/javascript": [
       "\n",
       "        if (window._pyforest_update_imports_cell) { window._pyforest_update_imports_cell('import pandas as pd'); }\n",
       "    "
      ],
      "text/plain": [
       "<IPython.core.display.Javascript object>"
      ]
     },
     "metadata": {},
     "output_type": "display_data"
    },
    {
     "name": "stdout",
     "output_type": "stream",
     "text": [
      "Column: purpose\n",
      "Chi Test: 6975.312873617305\n",
      "P_Value: 0.0\n",
      "DOF: 35\n",
      "------------\n"
     ]
    },
    {
     "data": {
      "application/javascript": [
       "\n",
       "        if (window._pyforest_update_imports_cell) { window._pyforest_update_imports_cell('import pandas as pd'); }\n",
       "    "
      ],
      "text/plain": [
       "<IPython.core.display.Javascript object>"
      ]
     },
     "metadata": {},
     "output_type": "display_data"
    },
    {
     "name": "stdout",
     "output_type": "stream",
     "text": [
      "Column: main_activity\n",
      "Chi Test: 3606.50524881434\n",
      "P_Value: 0.0\n",
      "DOF: 40\n",
      "------------\n"
     ]
    },
    {
     "data": {
      "application/javascript": [
       "\n",
       "        if (window._pyforest_update_imports_cell) { window._pyforest_update_imports_cell('import pandas as pd'); }\n",
       "    "
      ],
      "text/plain": [
       "<IPython.core.display.Javascript object>"
      ]
     },
     "metadata": {},
     "output_type": "display_data"
    },
    {
     "name": "stdout",
     "output_type": "stream",
     "text": [
      "Column: info_source\n",
      "Chi Test: 4166.3943611855575\n",
      "P_Value: 0.0\n",
      "DOF: 35\n",
      "------------\n"
     ]
    },
    {
     "data": {
      "application/javascript": [
       "\n",
       "        if (window._pyforest_update_imports_cell) { window._pyforest_update_imports_cell('import pandas as pd'); }\n",
       "    "
      ],
      "text/plain": [
       "<IPython.core.display.Javascript object>"
      ]
     },
     "metadata": {},
     "output_type": "display_data"
    },
    {
     "name": "stdout",
     "output_type": "stream",
     "text": [
      "Column: tour_arrangement\n",
      "Chi Test: 8331.284428771029\n",
      "P_Value: 0.0\n",
      "DOF: 5\n",
      "------------\n"
     ]
    },
    {
     "data": {
      "application/javascript": [
       "\n",
       "        if (window._pyforest_update_imports_cell) { window._pyforest_update_imports_cell('import pandas as pd'); }\n",
       "    "
      ],
      "text/plain": [
       "<IPython.core.display.Javascript object>"
      ]
     },
     "metadata": {},
     "output_type": "display_data"
    },
    {
     "name": "stdout",
     "output_type": "stream",
     "text": [
      "Column: package_transport_int\n",
      "Chi Test: 5414.9841247089\n",
      "P_Value: 0.0\n",
      "DOF: 5\n",
      "------------\n"
     ]
    },
    {
     "data": {
      "application/javascript": [
       "\n",
       "        if (window._pyforest_update_imports_cell) { window._pyforest_update_imports_cell('import pandas as pd'); }\n",
       "    "
      ],
      "text/plain": [
       "<IPython.core.display.Javascript object>"
      ]
     },
     "metadata": {},
     "output_type": "display_data"
    },
    {
     "name": "stdout",
     "output_type": "stream",
     "text": [
      "Column: package_accomodation\n",
      "Chi Test: 7883.608233888307\n",
      "P_Value: 0.0\n",
      "DOF: 5\n",
      "------------\n"
     ]
    },
    {
     "data": {
      "application/javascript": [
       "\n",
       "        if (window._pyforest_update_imports_cell) { window._pyforest_update_imports_cell('import pandas as pd'); }\n",
       "    "
      ],
      "text/plain": [
       "<IPython.core.display.Javascript object>"
      ]
     },
     "metadata": {},
     "output_type": "display_data"
    },
    {
     "name": "stdout",
     "output_type": "stream",
     "text": [
      "Column: package_food\n",
      "Chi Test: 7146.769578021885\n",
      "P_Value: 0.0\n",
      "DOF: 5\n",
      "------------\n"
     ]
    },
    {
     "data": {
      "application/javascript": [
       "\n",
       "        if (window._pyforest_update_imports_cell) { window._pyforest_update_imports_cell('import pandas as pd'); }\n",
       "    "
      ],
      "text/plain": [
       "<IPython.core.display.Javascript object>"
      ]
     },
     "metadata": {},
     "output_type": "display_data"
    },
    {
     "name": "stdout",
     "output_type": "stream",
     "text": [
      "Column: package_transport_tz\n",
      "Chi Test: 6346.490489845604\n",
      "P_Value: 0.0\n",
      "DOF: 5\n",
      "------------\n"
     ]
    },
    {
     "data": {
      "application/javascript": [
       "\n",
       "        if (window._pyforest_update_imports_cell) { window._pyforest_update_imports_cell('import pandas as pd'); }\n",
       "    "
      ],
      "text/plain": [
       "<IPython.core.display.Javascript object>"
      ]
     },
     "metadata": {},
     "output_type": "display_data"
    },
    {
     "name": "stdout",
     "output_type": "stream",
     "text": [
      "Column: package_sightseeing\n",
      "Chi Test: 4501.574863783683\n",
      "P_Value: 0.0\n",
      "DOF: 5\n",
      "------------\n"
     ]
    },
    {
     "data": {
      "application/javascript": [
       "\n",
       "        if (window._pyforest_update_imports_cell) { window._pyforest_update_imports_cell('import pandas as pd'); }\n",
       "    "
      ],
      "text/plain": [
       "<IPython.core.display.Javascript object>"
      ]
     },
     "metadata": {},
     "output_type": "display_data"
    },
    {
     "name": "stdout",
     "output_type": "stream",
     "text": [
      "Column: package_guided_tour\n",
      "Chi Test: 4873.499054202309\n",
      "P_Value: 0.0\n",
      "DOF: 5\n",
      "------------\n"
     ]
    },
    {
     "data": {
      "application/javascript": [
       "\n",
       "        if (window._pyforest_update_imports_cell) { window._pyforest_update_imports_cell('import pandas as pd'); }\n",
       "    "
      ],
      "text/plain": [
       "<IPython.core.display.Javascript object>"
      ]
     },
     "metadata": {},
     "output_type": "display_data"
    },
    {
     "name": "stdout",
     "output_type": "stream",
     "text": [
      "Column: package_insurance\n",
      "Chi Test: 2067.872038967938\n",
      "P_Value: 0.0\n",
      "DOF: 5\n",
      "------------\n"
     ]
    },
    {
     "data": {
      "application/javascript": [
       "\n",
       "        if (window._pyforest_update_imports_cell) { window._pyforest_update_imports_cell('import pandas as pd'); }\n",
       "    "
      ],
      "text/plain": [
       "<IPython.core.display.Javascript object>"
      ]
     },
     "metadata": {},
     "output_type": "display_data"
    },
    {
     "name": "stdout",
     "output_type": "stream",
     "text": [
      "Column: night_mainland\n",
      "Chi Test: 5614.015301227679\n",
      "P_Value: 0.0\n",
      "DOF: 545\n",
      "------------\n"
     ]
    },
    {
     "data": {
      "application/javascript": [
       "\n",
       "        if (window._pyforest_update_imports_cell) { window._pyforest_update_imports_cell('import pandas as pd'); }\n",
       "    "
      ],
      "text/plain": [
       "<IPython.core.display.Javascript object>"
      ]
     },
     "metadata": {},
     "output_type": "display_data"
    },
    {
     "name": "stdout",
     "output_type": "stream",
     "text": [
      "Column: night_zanzibar\n",
      "Chi Test: 2652.1882265219597\n",
      "P_Value: 0.0\n",
      "DOF: 295\n",
      "------------\n"
     ]
    },
    {
     "data": {
      "application/javascript": [
       "\n",
       "        if (window._pyforest_update_imports_cell) { window._pyforest_update_imports_cell('import pandas as pd'); }\n",
       "    "
      ],
      "text/plain": [
       "<IPython.core.display.Javascript object>"
      ]
     },
     "metadata": {},
     "output_type": "display_data"
    },
    {
     "name": "stdout",
     "output_type": "stream",
     "text": [
      "Column: first_trip_tz\n",
      "Chi Test: 2229.180451768042\n",
      "P_Value: 0.0\n",
      "DOF: 5\n",
      "------------\n",
      "\n",
      "\n",
      "SUMMARY: \n",
      "Little or No correlation Columns: ['Tour_ID', 'age_group', 'total_male']\n",
      "\n",
      "Strong Correlation Columns: ['country', 'purpose', 'tour_arrangement', 'package_transport_int', 'package_accomodation', 'package_food', 'package_transport_tz', 'night_mainland']\n",
      "\n",
      "Correlation not so strong columns: ['travel_with', 'total_female', 'main_activity', 'info_source', 'package_sightseeing', 'package_guided_tour', 'package_insurance', 'night_zanzibar', 'first_trip_tz']\n"
     ]
    }
   ],
   "source": [
    "chi_test(X, y)"
   ]
  },
  {
   "cell_type": "code",
   "execution_count": 38,
   "id": "227c17f4-d00f-46e6-8be6-ec2c52ddc134",
   "metadata": {},
   "outputs": [
    {
     "data": {
      "image/png": "[encoded data removed]",
      "text/plain": [
       "<Figure size 640x480 with 1 Axes>"
      ]
     },
     "metadata": {},
     "output_type": "display_data"
    }
   ],
   "source": [
    "sns.boxplot(x='tour_arrangement', y='night_mainland', data=full);"
   ]
  },
  {
   "cell_type": "code",
   "execution_count": 30,
   "id": "c3614438-3ab2-413a-9757-8bb77854d08c",
   "metadata": {},
   "outputs": [
    {
     "data": {
      "image/png": "[encoded data removed]",
      "text/plain": [
       "<Figure size 500x500 with 1 Axes>"
      ]
     },
     "metadata": {},
     "output_type": "display_data"
    }
   ],
   "source": [
    "sns.displot(full['night_mainland'], bins=300, kde=True);"
   ]
  },
  {
   "cell_type": "code",
   "execution_count": 138,
   "id": "16c052aa-f093-4818-b873-b8824fb300a8",
   "metadata": {},
   "outputs": [],
   "source": [
    "def check_outliers(data, factor=5, strategy='mean', inplace=True):\n",
    "    for col in data.select_dtypes(include=['int64', 'float64']).columns:\n",
    "        lower_qtl = data[col].quantile(0.25)\n",
    "        upper_qtl=data[col].quantile(0.75)\n",
    "        iqr=(upper_qtl-lower_qtl)\n",
    "        u_bound= upper_qtl + factor * iqr\n",
    "        l_bound= lower_qtl - factor * iqr\n",
    "        \n",
    "        outliers=[]\n",
    "        for x in data[col]:\n",
    "            if ((x > u_bound) or (x  < l_bound)):\n",
    "                outliers.append(x)\n",
    "                \n",
    "        if strategy == 'mean':\n",
    "            replacement = data[col].mean()\n",
    "        elif strategy == 'median':\n",
    "            replacement = data[col].median()\n",
    "        elif strategy == 'mode':\n",
    "            replacement = data[col].mode()[0]\n",
    "            \n",
    "        for idx in outliers:\n",
    "            data.loc[idx,col]=replacement \n",
    "        \n",
    "        print(f\"\\n\\nColumn: {col}\\nLower_Bound: {l_bound}\\nUpper_Bound: {u_bound}\\nOutliers: {outliers}\")\n",
    "    \n",
    "    print(f\"Outliers Succesfully replaced with {strategy}.\")\n",
    "    return data"
   ]
  },
  {
   "cell_type": "code",
   "execution_count": 139,
   "id": "68ae2f74-f6a7-4038-9e61-394a3f479581",
   "metadata": {},
   "outputs": [
    {
     "name": "stdout",
     "output_type": "stream",
     "text": [
      "\n",
      "\n",
      "Column: total_female\n",
      "Lower_Bound: -1.0\n",
      "Upper_Bound: 2.0\n",
      "Outliers: [4.0, 4.0, 3.0, 3.0, 49.0, 4.0, 5.0, 3.0, 3.0, 3.0, 3.0, 4.0, 3.0, 4.0, 4.0, 3.0, 5.0, 6.0, 5.0, 5.0, 4.0, 5.0, 3.0, 3.0, 7.0, 3.0, 4.0, 10.0, 5.0, 3.0, 3.0, 4.0, 13.0, 3.0, 4.0, 3.0, 5.0, 3.0, 4.0, 3.0, 6.0, 4.0, 3.0, 3.0, 4.0, 6.0, 3.0, 3.0, 14.0, 8.0, 3.0, 3.0, 3.0, 4.0, 4.0, 3.0, 3.0, 3.0, 3.0, 3.0, 3.0, 3.0, 3.0, 5.0, 4.0, 4.0, 6.0, 3.0, 3.0, 3.0, 4.0, 3.0, 4.0, 4.0, 4.0, 3.0, 4.0, 15.0, 3.0, 4.0, 4.0, 3.0, 4.0, 3.0, 3.0, 3.0, 6.0, 4.0, 3.0, 3.0, 3.0, 3.0, 10.0, 3.0, 4.0, 3.0, 7.0, 13.0, 6.0, 5.0, 6.0, 4.0, 3.0, 3.0, 10.0, 3.0, 3.0, 3.0, 10.0, 3.0, 5.0, 3.0, 3.0, 5.0, 3.0, 3.0, 4.0, 3.0, 5.0, 6.0, 3.0, 4.0, 3.0, 3.0, 3.0, 3.0, 4.0, 3.0, 3.0, 3.0, 3.0, 3.0, 3.0, 20.0, 6.0, 3.0, 3.0, 3.0, 7.0, 4.0, 4.0, 3.0, 8.0, 3.0, 17.0, 3.0, 3.0, 5.0, 5.0, 3.0, 3.0, 3.0, 5.0, 5.0, 3.0, 3.0, 3.0, 6.0, 3.0, 5.0, 3.0, 3.0, 3.0, 3.0, 14.0, 10.0, 4.0, 3.0, 3.0, 7.0, 10.0, 6.0, 5.0, 6.0, 3.0, 4.0, 3.0, 6.0, 4.0, 3.0, 3.0, 4.0, 3.0, 3.0, 3.0, 5.0, 3.0, 5.0, 3.0, 3.0, 4.0, 3.0, 3.0, 4.0, 3.0, 4.0, 5.0, 3.0, 3.0, 3.0, 3.0, 4.0, 6.0, 14.0, 3.0, 3.0, 3.0, 6.0, 3.0, 4.0, 4.0, 11.0, 5.0, 5.0, 3.0, 3.0, 4.0, 3.0, 3.0, 3.0, 3.0, 3.0, 6.0, 3.0, 4.0, 6.0, 3.0, 3.0, 4.0, 5.0, 8.0, 12.0, 3.0, 4.0, 3.0, 6.0, 6.0, 6.0, 6.0, 3.0, 3.0, 3.0, 3.0, 3.0, 4.0, 11.0, 3.0, 4.0, 6.0, 5.0, 3.0, 12.0, 6.0, 8.0, 3.0, 3.0, 3.0, 3.0, 3.0, 3.0, 3.0, 3.0, 4.0, 3.0, 3.0, 3.0, 3.0, 3.0, 3.0, 3.0, 4.0, 3.0, 3.0, 3.0, 3.0, 3.0, 4.0, 3.0, 3.0, 3.0, 4.0, 4.0, 5.0, 4.0, 4.0, 3.0, 6.0, 3.0, 24.0, 6.0, 7.0, 4.0, 4.0, 3.0, 4.0, 6.0, 9.0, 3.0, 3.0, 3.0, 3.0, 3.0, 3.0, 12.0, 10.0, 3.0, 6.0, 3.0, 4.0, 6.0, 5.0, 3.0, 5.0, 3.0, 3.0, 4.0, 5.0, 4.0, 14.0, 6.0, 3.0, 3.0, 3.0, 4.0, 3.0, 3.0, 6.0, 3.0, 6.0, 3.0, 4.0, 3.0, 3.0, 3.0, 4.0, 3.0, 3.0, 3.0, 3.0, 4.0, 3.0, 3.0, 3.0, 3.0, 3.0, 4.0, 3.0, 3.0, 3.0, 3.0, 3.0, 4.0, 5.0, 4.0, 9.0, 3.0, 3.0, 3.0, 3.0, 5.0, 3.0, 10.0, 11.0, 3.0, 4.0, 3.0, 4.0, 3.0, 4.0, 4.0, 3.0, 3.0, 4.0, 3.0, 3.0, 5.0, 22.0, 3.0, 3.0, 3.0, 3.0, 4.0, 7.0, 3.0, 3.0, 4.0, 3.0, 7.0, 3.0, 3.0, 3.0, 3.0, 7.0, 12.0, 3.0, 11.0, 3.0, 5.0, 3.0, 7.0, 3.0, 3.0, 3.0, 6.0, 3.0, 10.0, 4.0, 3.0, 3.0, 3.0, 3.0, 5.0, 3.0, 4.0, 4.0, 3.0, 3.0, 4.0, 5.0, 5.0, 4.0, 6.0, 3.0, 3.0, 3.0, 4.0, 3.0, 4.0, 5.0, 3.0, 3.0, 3.0, 3.0, 3.0, 12.0, 6.0, 3.0, 3.0, 3.0, 6.0, 4.0, 4.0, 3.0, 3.0, 5.0, 3.0, 3.0, 3.0, 3.0, 3.0, 3.0, 3.0, 3.0, 8.0, 6.0, 3.0, 3.0, 3.0, 4.0, 8.0, 3.0, 3.0, 4.0, 3.0, 3.0, 3.0, 4.0, 3.0, 3.0, 3.0, 3.0, 4.0, 8.0, 6.0, 3.0, 5.0, 8.0, 26.0, 5.0, 3.0, 5.0, 4.0, 3.0, 3.0, 6.0, 3.0, 3.0, 4.0, 5.0, 4.0, 3.0, 4.0, 7.0, 4.0, 3.0, 3.0, 3.0, 3.0, 8.0, 3.0, 3.0, 11.0, 3.0, 4.0, 3.0, 4.0, 4.0, 10.0, 4.0, 3.0, 4.0, 5.0, 3.0, 3.0, 5.0, 3.0, 4.0, 3.0, 5.0, 4.0, 3.0, 6.0, 3.0, 5.0, 11.0, 4.0, 8.0, 7.0, 8.0, 3.0, 3.0, 4.0, 4.0, 5.0, 3.0, 3.0, 4.0, 3.0, 3.0, 3.0, 3.0, 3.0, 14.0, 8.0, 3.0, 3.0, 9.0, 19.0, 3.0, 5.0, 3.0, 5.0, 3.0, 4.0, 4.0, 3.0, 4.0, 3.0, 12.0, 3.0, 3.0, 3.0, 4.0, 3.0, 6.0, 3.0, 3.0, 7.0, 4.0, 3.0, 4.0, 3.0, 3.0, 3.0, 3.0, 4.0, 3.0, 3.0, 4.0, 4.0, 4.0, 3.0, 3.0, 3.0, 3.0, 6.0, 4.0, 5.0, 3.0, 3.0, 4.0, 3.0, 3.0, 4.0, 3.0, 3.0, 3.0, 3.0, 5.0, 23.0, 5.0, 3.0, 5.0, 4.0, 3.0, 3.0, 4.0, 3.0, 4.0, 3.0, 3.0, 4.0, 3.0, 3.0, 5.0, 6.0, 3.0, 9.0, 3.0, 3.0, 5.0, 4.0, 9.0, 13.0, 3.0, 3.0, 4.0, 3.0, 3.0, 4.0, 7.0, 3.0, 4.0, 4.0, 3.0, 3.0, 5.0, 3.0, 4.0, 6.0, 3.0, 7.0, 3.0, 10.0, 4.0, 3.0, 3.0, 3.0, 12.0, 3.0, 3.0, 3.0, 4.0, 3.0, 3.0, 3.0, 4.0, 3.0, 9.0, 3.0, 5.0, 3.0, 4.0, 3.0, 3.0, 3.0, 4.0, 5.0, 3.0, 5.0, 4.0, 5.0, 5.0, 6.0, 3.0, 3.0, 4.0, 3.0, 6.0, 3.0, 4.0, 4.0, 6.0, 3.0, 3.0, 3.0, 3.0, 3.0, 8.0, 8.0, 4.0, 4.0, 6.0, 3.0, 4.0, 11.0, 5.0, 3.0, 3.0, 3.0, 4.0, 3.0, 4.0, 4.0, 3.0, 4.0, 4.0, 5.0, 6.0, 8.0, 3.0, 4.0, 3.0, 3.0, 5.0, 3.0, 3.0, 5.0, 6.0, 3.0, 10.0, 3.0, 3.0, 5.0, 3.0, 3.0, 3.0, 3.0, 4.0, 3.0, 6.0, 3.0, 4.0, 3.0, 4.0, 3.0, 4.0, 3.0, 3.0, 3.0, 4.0, 4.0, 3.0, 4.0, 4.0, 4.0, 3.0, 3.0, 5.0, 3.0, 3.0, 4.0, 4.0, 3.0, 4.0, 3.0, 4.0, 5.0, 3.0, 4.0, 3.0, 5.0, 3.0, 3.0, 3.0, 3.0, 6.0, 3.0, 5.0, 4.0, 4.0, 3.0, 4.0, 3.0, 6.0, 15.0, 4.0, 3.0, 4.0, 3.0, 6.0, 3.0, 5.0, 4.0, 3.0, 4.0, 4.0, 8.0, 3.0, 9.0, 5.0, 3.0, 3.0, 3.0, 4.0, 4.0, 5.0, 4.0, 3.0, 3.0, 3.0, 3.0, 4.0, 4.0, 4.0, 15.0, 5.0, 3.0, 5.0, 11.0, 4.0, 10.0, 3.0, 3.0, 3.0, 4.0, 3.0, 4.0, 6.0, 3.0, 4.0, 3.0, 4.0, 7.0, 5.0, 3.0, 14.0, 3.0, 5.0, 3.0, 3.0, 3.0, 3.0, 3.0, 7.0, 3.0, 5.0, 3.0, 3.0, 3.0, 4.0, 3.0, 3.0, 3.0, 3.0, 3.0, 3.0, 3.0, 5.0, 3.0, 3.0, 5.0, 12.0, 3.0, 4.0, 3.0, 4.0, 7.0, 6.0, 5.0, 5.0, 3.0, 8.0, 4.0, 3.0, 3.0, 6.0, 3.0, 3.0, 6.0, 4.0, 4.0, 3.0, 3.0, 3.0, 6.0, 3.0, 5.0, 3.0, 3.0, 4.0, 4.0, 3.0, 3.0, 4.0, 3.0, 3.0, 5.0, 3.0, 3.0, 3.0, 3.0, 3.0, 3.0, 3.0, 4.0, 3.0, 3.0, 4.0, 5.0, 3.0, 7.0, 5.0, 4.0, 3.0, 3.0, 4.0, 3.0, 3.0, 3.0, 11.0, 3.0, 6.0, 3.0, 9.0, 3.0, 6.0, 3.0, 3.0, 3.0, 3.0, 3.0, 3.0, 5.0, 3.0, 4.0, 5.0, 3.0, 4.0, 3.0, 4.0, 3.0, 4.0, 5.0, 3.0, 3.0, 3.0, 24.0, 3.0, 3.0, 3.0, 3.0, 3.0, 3.0, 4.0, 3.0, 4.0, 4.0, 3.0, 3.0, 3.0, 4.0, 4.0, 3.0, 3.0, 4.0, 4.0, 3.0, 3.0, 4.0, 4.0, 6.0, 4.0, 6.0, 3.0, 3.0, 5.0, 3.0, 3.0, 3.0, 3.0, 7.0, 4.0, 5.0, 6.0, 4.0, 4.0, 15.0, 8.0, 3.0, 5.0, 5.0, 3.0, 3.0, 3.0, 3.0, 3.0, 4.0, 5.0, 3.0, 3.0, 3.0, 4.0, 4.0, 24.0, 3.0, 4.0, 3.0, 3.0, 3.0, 3.0, 3.0, 3.0, 3.0, 3.0, 3.0, 3.0, 3.0, 3.0, 3.0, 4.0, 3.0, 3.0, 3.0, 3.0, 3.0, 3.0, 3.0, 4.0, 4.0, 3.0, 3.0, 4.0, 3.0, 10.0, 3.0, 3.0, 3.0, 4.0, 3.0, 15.0, 7.0, 6.0, 3.0, 3.0, 3.0, 3.0, 7.0, 3.0, 3.0, 3.0, 6.0, 3.0, 3.0, 4.0, 4.0, 3.0, 4.0, 3.0, 3.0, 4.0, 7.0, 3.0, 3.0, 10.0, 3.0, 4.0, 3.0, 3.0, 3.0, 3.0, 5.0, 3.0, 8.0, 3.0, 3.0, 3.0, 4.0, 4.0, 4.0, 3.0, 3.0, 3.0, 3.0, 3.0, 3.0, 30.0, 5.0, 4.0, 3.0, 3.0, 3.0, 3.0, 3.0, 7.0, 3.0, 3.0, 3.0, 3.0, 4.0, 3.0, 3.0, 3.0, 3.0, 6.0, 4.0, 3.0, 5.0, 3.0, 5.0, 4.0, 3.0, 4.0, 3.0, 3.0, 3.0, 3.0, 3.0, 4.0, 3.0, 3.0, 13.0, 4.0, 6.0, 3.0, 4.0, 4.0, 3.0, 11.0, 3.0, 4.0, 3.0, 3.0, 5.0, 3.0, 6.0, 3.0, 3.0, 3.0, 4.0, 5.0, 4.0, 4.0, 3.0, 3.0, 4.0, 3.0, 3.0, 6.0, 3.0, 3.0, 4.0, 3.0, 3.0, 6.0, 8.0, 3.0, 4.0, 12.0, 3.0, 3.0, 5.0, 4.0, 4.0, 3.0, 3.0, 4.0, 3.0, 3.0, 3.0, 4.0, 6.0, 5.0, 3.0, 3.0, 7.0, 3.0, 3.0, 3.0, 5.0, 3.0, 3.0, 13.0, 3.0, 4.0, 8.0, 6.0, 4.0, 4.0, 3.0, 3.0, 3.0, 4.0, 4.0, 3.0, 3.0, 3.0, 3.0, 3.0, 3.0, 3.0, 14.0, 3.0, 5.0, 3.0, 3.0, 15.0, 6.0, 4.0, 3.0, 5.0, 4.0, 7.0, 3.0, 4.0, 4.0, 3.0, 4.0, 5.0, 7.0, 3.0, 4.0, 3.0, 4.0, 4.0, 3.0, 3.0, 6.0, 3.0, 3.0, 3.0, 3.0, 3.0, 4.0, 3.0, 5.0, 3.0, 5.0, 4.0, 5.0, 3.0, 4.0, 4.0, 4.0, 3.0, 4.0, 3.0, 3.0, 7.0, 3.0, 20.0, 3.0, 4.0, 4.0, 3.0, 4.0, 3.0, 3.0, 3.0, 5.0, 3.0, 3.0, 3.0, 3.0, 3.0, 9.0, 3.0, 5.0, 3.0, 3.0, 7.0, 3.0, 3.0]\n",
      "\n",
      "\n",
      "Column: total_male\n",
      "Lower_Bound: 1.0\n",
      "Upper_Bound: 1.0\n",
      "Outliers: [1.003202529592995, 1.003202529592995, 1.003202529592995, 1.003202529592995, 1.003202529592995, 1.003202529592995, 1.003202529592995, 1.003202529592995, 1.003202529592995, 1.003202529592995, 1.003202529592995, 1.003202529592995, 1.003202529592995, 1.003202529592995, 1.003202529592995, 1.003202529592995, 1.003202529592995, 1.003202529592995, 0.0, 0.0, 1.003202529592995, 1.003202529592995, 1.003202529592995, 2.0, 8.0, 2.0, 1.003202529592995, 1.003202529592995, 0.0, 0.0, 0.0, 0.0, 0.0, 0.0, 1.003202529592995, 2.0, 2.0, 2.0, 2.0, 2.0, 2.0, 0.0, 0.0, 4.0, 5.0, 2.0, 1.003202529592995, 0.0, 0.0, 3.0, 44.0, 0.0, 3.0, 0.0, 0.0, 0.0, 2.0, 0.0, 0.0, 0.0, 0.0, 0.0, 2.0, 0.0, 0.0, 2.0, 3.0, 7.0, 0.0, 0.0, 5.0, 2.0, 0.0, 0.0, 0.0, 0.0, 0.0, 0.0, 2.0, 0.0, 0.0, 4.0, 0.0, 0.0, 0.0, 0.0, 2.0, 0.0, 0.0, 0.0, 0.0, 0.0, 0.0, 0.0, 0.0, 2.0, 2.0, 2.0, 0.0, 0.0, 2.0, 0.0, 2.0, 0.0, 0.0, 0.0, 3.0, 0.0, 0.0, 3.0, 0.0, 2.0, 2.0, 0.0, 0.0, 0.0, 2.0, 0.0, 2.0, 0.0, 2.0, 2.0, 0.0, 0.0, 0.0, 0.0, 2.0, 0.0, 0.0, 2.0, 0.0, 3.0, 2.0, 0.0, 2.0, 2.0, 0.0, 0.0, 3.0, 0.0, 0.0, 5.0, 2.0, 0.0, 2.0, 0.0, 2.0, 2.0, 2.0, 2.0, 3.0, 2.0, 0.0, 3.0, 0.0, 3.0, 2.0, 0.0, 0.0, 0.0, 2.0, 0.0, 6.0, 2.0, 0.0, 0.0, 3.0, 0.0, 0.0, 0.0, 0.0, 0.0, 2.0, 6.0, 0.0, 0.0, 0.0, 5.0, 0.0, 0.0, 0.0, 0.0, 0.0, 0.0, 2.0, 2.0, 3.0, 0.0, 0.0, 0.0, 0.0, 0.0, 3.0, 0.0, 4.0, 0.0, 0.0, 2.0, 0.0, 0.0, 4.0, 0.0, 3.0, 2.0, 2.0, 0.0, 0.0, 0.0, 0.0, 5.0, 0.0, 0.0, 0.0, 0.0, 0.0, 7.0, 0.0, 3.0, 0.0, 0.0, 0.0, 0.0, 0.0, 2.0, 0.0, 0.0, 0.0, 0.0, 2.0, 0.0, 0.0, 2.0, 0.0, 0.0, 0.0, 0.0, 0.0, 0.0, 3.0, 2.0, 0.0, 6.0, 3.0, 0.0, 0.0, 6.0, 0.0, 4.0, 0.0, 0.0, 0.0, 0.0, 0.0, 5.0, 0.0, 0.0, 0.0, 5.0, 0.0, 0.0, 2.0, 0.0, 0.0, 0.0, 0.0, 0.0, 0.0, 0.0, 0.0, 3.0, 3.0, 2.0, 2.0, 14.0, 0.0, 0.0, 3.0, 0.0, 0.0, 2.0, 0.0, 0.0, 2.0, 0.0, 0.0, 4.0, 3.0, 0.0, 0.0, 7.0, 0.0, 0.0, 0.0, 0.0, 3.0, 3.0, 0.0, 0.0, 0.0, 0.0, 0.0, 0.0, 2.0, 2.0, 2.0, 0.0, 0.0, 0.0, 0.0, 0.0, 0.0, 0.0, 0.0, 0.0, 2.0, 6.0, 0.0, 0.0, 0.0, 2.0, 0.0, 0.0, 6.0, 2.0, 3.0, 0.0, 0.0, 0.0, 0.0, 0.0, 0.0, 0.0, 2.0, 2.0, 0.0, 4.0, 2.0, 0.0, 0.0, 0.0, 0.0, 0.0, 0.0, 0.0, 2.0, 0.0, 2.0, 2.0, 0.0, 0.0, 4.0, 0.0, 2.0, 4.0, 5.0, 0.0, 0.0, 0.0, 0.0, 2.0, 10.0, 0.0, 0.0, 2.0, 0.0, 0.0, 0.0, 2.0, 4.0, 0.0, 2.0, 0.0, 0.0, 0.0, 3.0, 0.0, 0.0, 0.0, 3.0, 3.0, 2.0, 0.0, 3.0, 0.0, 0.0, 0.0, 2.0, 2.0, 0.0, 2.0, 0.0, 3.0, 0.0, 2.0, 3.0, 0.0, 0.0, 0.0, 3.0, 0.0, 0.0, 0.0, 0.0, 0.0, 0.0, 2.0, 0.0, 0.0, 0.0, 2.0, 0.0, 0.0, 0.0, 0.0, 0.0, 0.0, 2.0, 0.0, 2.0, 0.0, 3.0, 0.0, 0.0, 0.0, 2.0, 0.0, 0.0, 0.0, 0.0, 0.0, 0.0, 0.0, 0.0, 0.0, 0.0, 2.0, 2.0, 0.0, 0.0, 0.0, 0.0, 0.0, 0.0, 0.0, 0.0, 2.0, 0.0, 2.0, 2.0, 0.0, 0.0, 0.0, 2.0, 7.0, 3.0, 0.0, 0.0, 0.0, 2.0, 0.0, 0.0, 0.0, 2.0, 0.0, 0.0, 0.0, 2.0, 0.0, 0.0, 2.0, 0.0, 0.0, 0.0, 0.0, 0.0, 0.0, 2.0, 2.0, 2.0, 2.0, 2.0, 0.0, 0.0, 2.0, 0.0, 0.0, 4.0, 0.0, 0.0, 0.0, 2.0, 0.0, 0.0, 0.0, 0.0, 3.0, 2.0, 0.0, 0.0, 4.0, 0.0, 0.0, 0.0, 2.0, 4.0, 2.0, 0.0, 0.0, 2.0, 0.0, 0.0, 0.0, 2.0, 0.0, 2.0, 0.0, 2.0, 0.0, 0.0, 0.0, 0.0, 0.0, 0.0, 0.0, 0.0, 0.0, 0.0, 0.0, 0.0, 2.0, 0.0, 12.0, 0.0, 3.0, 0.0, 0.0, 0.0, 2.0, 0.0, 0.0, 0.0, 0.0, 0.0, 0.0, 0.0, 0.0, 0.0, 2.0, 2.0, 0.0, 2.0, 0.0, 2.0, 2.0, 0.0, 0.0, 0.0, 0.0, 0.0, 0.0, 0.0, 2.0, 2.0, 0.0, 0.0, 0.0, 0.0, 0.0, 0.0, 2.0, 0.0, 0.0, 0.0, 0.0, 2.0, 2.0, 0.0, 0.0, 0.0, 2.0, 0.0, 6.0, 3.0, 0.0, 2.0, 0.0, 0.0, 0.0, 0.0, 2.0, 0.0, 0.0, 2.0, 0.0, 0.0, 3.0, 0.0, 0.0, 0.0, 0.0, 0.0, 2.0, 2.0, 0.0, 2.0, 2.0, 0.0, 0.0, 4.0, 0.0, 0.0, 2.0, 0.0, 0.0, 0.0, 0.0, 0.0, 0.0, 0.0, 0.0, 0.0, 0.0, 2.0, 2.0, 0.0, 4.0, 0.0, 2.0, 0.0, 3.0, 2.0, 0.0, 0.0, 2.0, 0.0, 0.0, 0.0, 3.0, 0.0, 0.0, 0.0, 0.0, 0.0, 2.0, 0.0, 0.0, 0.0, 2.0, 2.0, 3.0, 0.0, 2.0, 15.0, 0.0, 0.0, 0.0, 2.0, 6.0, 2.0, 0.0, 0.0, 2.0, 4.0, 3.0, 0.0, 0.0, 2.0, 0.0, 0.0, 4.0, 0.0, 0.0, 0.0, 2.0, 0.0, 0.0, 0.0, 2.0, 0.0, 3.0, 0.0, 4.0, 0.0, 3.0, 0.0, 0.0, 0.0, 0.0, 2.0, 3.0, 0.0, 0.0, 0.0, 0.0, 2.0, 0.0, 0.0, 0.0, 2.0, 3.0, 3.0, 0.0, 0.0, 2.0, 4.0, 0.0, 0.0, 0.0, 0.0, 2.0, 0.0, 0.0, 2.0, 2.0, 0.0, 0.0, 0.0, 0.0, 2.0, 7.0, 0.0, 2.0, 0.0, 0.0, 2.0, 0.0, 0.0, 0.0, 0.0, 0.0, 2.0, 0.0, 2.0, 0.0, 0.0, 0.0, 3.0, 3.0, 0.0, 0.0, 0.0, 0.0, 2.0, 0.0, 0.0, 2.0, 0.0, 0.0, 0.0, 0.0, 0.0, 0.0, 0.0, 2.0, 0.0, 0.0, 0.0, 0.0, 0.0, 2.0, 2.0, 2.0, 0.0, 0.0, 0.0, 0.0, 4.0, 0.0, 0.0, 3.0, 8.0, 0.0, 3.0, 0.0, 2.0, 2.0, 0.0, 0.0, 0.0, 0.0, 0.0, 0.0, 0.0, 0.0, 0.0, 0.0, 0.0, 0.0, 0.0, 0.0, 5.0, 2.0, 3.0, 0.0, 0.0, 0.0, 0.0, 0.0, 0.0, 2.0, 0.0, 3.0, 0.0, 0.0, 24.0, 5.0, 2.0, 3.0, 3.0, 0.0, 0.0, 0.0, 0.0, 0.0, 0.0, 2.0, 0.0, 0.0, 0.0, 2.0, 2.0, 0.0, 0.0, 0.0, 0.0, 2.0, 0.0, 0.0, 0.0, 0.0, 2.0, 2.0, 0.0, 0.0, 2.0, 2.0, 0.0, 2.0, 0.0, 2.0, 2.0, 0.0, 2.0, 0.0, 3.0, 0.0, 2.0, 6.0, 0.0, 0.0, 2.0, 0.0, 2.0, 4.0, 0.0, 0.0, 0.0, 0.0, 2.0, 0.0, 3.0, 0.0, 2.0, 0.0, 0.0, 0.0, 2.0, 0.0, 0.0, 0.0, 0.0, 0.0, 0.0, 0.0, 0.0, 0.0, 0.0, 3.0, 0.0, 2.0, 0.0, 0.0, 0.0, 0.0, 0.0, 2.0, 2.0, 2.0, 2.0, 6.0, 2.0, 0.0, 0.0, 0.0, 0.0, 0.0, 0.0, 2.0, 0.0, 2.0, 0.0, 2.0, 2.0, 0.0, 2.0, 0.0, 0.0, 0.0, 0.0, 2.0, 0.0, 0.0, 3.0, 0.0, 0.0, 0.0, 2.0, 0.0, 2.0, 0.0, 4.0, 2.0, 0.0, 0.0, 2.0, 0.0, 0.0, 0.0, 2.0, 0.0, 0.0, 0.0, 2.0, 0.0, 0.0, 0.0, 0.0, 0.0, 10.0, 0.0, 0.0, 2.0, 0.0, 0.0, 2.0, 0.0, 2.0, 2.0, 0.0, 0.0, 0.0, 6.0, 2.0, 0.0, 0.0, 2.0, 0.0, 0.0, 0.0, 0.0, 0.0, 2.0, 2.0, 0.0, 2.0, 0.0, 2.0, 4.0, 6.0, 0.0, 0.0, 0.0, 2.0, 3.0, 0.0, 0.0, 3.0, 0.0, 3.0, 2.0, 0.0, 2.0, 0.0, 0.0, 0.0, 0.0, 3.0, 3.0, 0.0, 2.0, 2.0, 0.0, 2.0, 0.0, 2.0, 0.0, 0.0, 0.0, 0.0, 0.0, 2.0, 0.0, 0.0, 0.0, 0.0, 0.0, 0.0, 2.0, 0.0, 0.0, 0.0, 0.0, 0.0, 2.0, 2.0, 0.0, 0.0, 0.0, 0.0, 3.0, 3.0, 0.0, 2.0, 3.0, 2.0, 0.0, 0.0, 0.0, 0.0, 0.0, 4.0, 2.0, 0.0, 0.0, 0.0, 0.0, 0.0, 0.0, 0.0, 2.0, 0.0, 0.0, 0.0, 2.0, 0.0, 2.0, 10.0, 0.0, 0.0, 0.0, 0.0, 0.0, 0.0, 0.0, 2.0, 0.0, 0.0, 2.0, 0.0, 0.0, 2.0, 2.0, 5.0, 0.0, 0.0, 5.0, 0.0, 0.0, 0.0, 3.0, 0.0, 0.0, 0.0, 0.0, 2.0, 3.0, 2.0, 0.0, 0.0, 0.0, 2.0, 0.0, 0.0, 0.0, 0.0, 2.0, 0.0, 0.0, 2.0, 0.0, 2.0, 2.0, 0.0, 2.0, 3.0, 0.0, 0.0, 0.0, 3.0, 0.0, 0.0, 0.0, 0.0, 2.0, 0.0, 0.0, 2.0, 2.0, 0.0, 0.0, 0.0, 2.0, 0.0, 2.0, 0.0, 0.0, 0.0, 0.0, 2.0, 2.0, 3.0, 0.0, 2.0, 0.0, 2.0, 2.0, 0.0, 4.0, 2.0, 0.0, 3.0, 0.0, 0.0, 0.0, 0.0, 2.0, 3.0, 3.0, 0.0, 0.0, 2.0, 0.0, 6.0, 0.0, 0.0, 0.0, 2.0, 0.0, 0.0, 0.0, 0.0, 0.0, 0.0, 2.0, 2.0, 0.0, 3.0, 0.0, 2.0, 0.0, 0.0, 0.0, 0.0, 0.0, 2.0, 0.0, 0.0, 0.0, 0.0, 2.0, 2.0, 2.0, 0.0, 3.0, 0.0, 2.0, 2.0, 0.0, 2.0, 0.0, 0.0, 0.0, 3.0, 0.0, 0.0, 0.0, 2.0, 0.0, 0.0, 2.0, 0.0, 2.0, 0.0, 2.0, 0.0, 0.0, 3.0, 2.0, 0.0, 0.0, 0.0, 0.0, 2.0, 0.0, 0.0, 2.0, 0.0, 0.0, 0.0, 0.0, 2.0, 0.0, 0.0, 0.0, 7.0, 3.0, 3.0, 0.0, 0.0, 2.0, 0.0, 2.0, 0.0, 0.0, 0.0, 2.0, 0.0, 0.0, 2.0, 0.0, 0.0, 2.0, 0.0, 0.0, 0.0, 0.0, 0.0, 2.0, 2.0, 0.0, 2.0, 0.0, 2.0, 0.0, 3.0, 3.0, 0.0, 2.0, 0.0, 4.0, 3.0, 5.0, 2.0, 0.0, 3.0, 0.0, 2.0, 0.0, 2.0, 0.0, 0.0, 2.0, 0.0, 3.0, 0.0, 2.0, 2.0, 0.0, 0.0, 2.0, 0.0, 0.0, 0.0, 0.0, 2.0, 0.0, 0.0, 2.0, 0.0, 0.0, 4.0, 3.0, 0.0, 4.0, 0.0, 0.0, 0.0, 0.0, 0.0, 2.0, 2.0, 0.0, 0.0, 0.0, 2.0, 0.0, 0.0, 2.0, 3.0, 0.0, 2.0, 0.0, 0.0, 0.0, 0.0, 2.0, 0.0, 3.0, 0.0, 0.0, 0.0, 0.0, 0.0, 0.0, 0.0, 0.0, 2.0, 0.0, 2.0, 2.0, 0.0, 2.0, 0.0, 2.0, 5.0, 3.0, 3.0, 2.0, 0.0, 0.0, 0.0, 0.0, 0.0, 0.0, 0.0, 0.0, 0.0, 0.0, 2.0, 2.0, 2.0, 0.0, 0.0, 0.0, 0.0, 0.0, 0.0, 0.0, 3.0, 0.0, 4.0, 0.0, 0.0, 0.0, 3.0, 0.0, 2.0, 2.0, 2.0, 0.0, 0.0, 0.0, 2.0, 0.0, 3.0, 0.0, 2.0, 0.0, 2.0, 2.0, 2.0, 2.0, 2.0, 0.0, 0.0, 0.0, 0.0, 0.0, 0.0, 4.0, 0.0, 0.0, 3.0, 0.0, 0.0, 0.0, 0.0, 0.0, 3.0, 0.0, 0.0, 2.0, 2.0, 0.0, 3.0, 0.0, 0.0, 2.0, 0.0, 0.0, 0.0, 2.0, 0.0, 0.0, 2.0, 3.0, 0.0, 2.0, 0.0, 3.0, 0.0, 0.0, 0.0, 0.0, 0.0, 0.0, 0.0, 0.0, 0.0, 0.0, 0.0, 6.0, 2.0, 2.0, 0.0, 0.0, 0.0, 2.0, 0.0, 3.0, 0.0, 2.0, 0.0, 2.0, 4.0, 0.0, 0.0, 2.0, 0.0, 0.0, 2.0, 3.0, 3.0, 0.0, 0.0, 0.0, 0.0, 4.0, 0.0, 0.0, 0.0, 0.0, 0.0, 0.0, 0.0, 0.0, 2.0, 0.0, 0.0, 0.0, 2.0, 0.0, 0.0, 0.0, 0.0, 0.0, 0.0, 2.0, 0.0, 3.0, 0.0, 0.0, 0.0, 2.0, 0.0, 0.0, 0.0, 0.0, 0.0, 2.0, 0.0, 0.0, 0.0, 2.0, 0.0, 0.0, 0.0, 2.0, 0.0, 0.0, 4.0, 2.0, 0.0, 2.0, 2.0, 0.0, 5.0, 0.0, 0.0, 0.0, 0.0, 0.0, 2.0, 0.0, 0.0, 2.0, 4.0, 3.0, 4.0, 0.0, 2.0, 2.0, 3.0, 0.0, 0.0, 0.0, 6.0, 2.0, 0.0, 0.0, 0.0, 0.0, 0.0, 0.0, 0.0, 0.0, 3.0, 0.0, 2.0, 0.0, 0.0, 0.0, 0.0, 0.0, 0.0, 0.0, 0.0, 0.0, 0.0, 0.0, 2.0, 2.0, 0.0, 2.0, 0.0, 0.0, 6.0, 2.0, 3.0, 0.0, 0.0, 0.0, 0.0, 3.0, 2.0, 0.0, 0.0, 2.0, 3.0, 0.0, 2.0, 0.0, 2.0, 0.0, 3.0, 0.0, 0.0, 0.0, 2.0, 0.0, 0.0, 5.0, 0.0, 0.0, 0.0, 0.0, 2.0, 2.0, 0.0, 2.0, 4.0, 2.0, 0.0, 0.0, 0.0, 4.0, 0.0, 0.0, 0.0, 0.0, 0.0, 5.0, 0.0, 0.0, 0.0, 2.0, 0.0, 3.0, 0.0, 0.0, 2.0, 0.0, 0.0, 0.0, 2.0, 2.0, 2.0, 0.0, 0.0, 4.0, 0.0, 0.0, 0.0, 2.0, 0.0, 2.0, 0.0, 0.0, 4.0, 0.0, 5.0, 10.0, 0.0, 0.0, 2.0, 2.0, 0.0, 3.0, 3.0, 0.0, 0.0, 2.0, 0.0, 4.0, 0.0, 3.0, 2.0, 0.0, 4.0, 0.0, 0.0, 0.0, 0.0, 0.0, 0.0, 0.0, 0.0, 0.0, 0.0, 2.0, 0.0, 2.0, 3.0, 0.0, 2.0, 3.0, 0.0, 0.0, 0.0, 0.0, 0.0, 0.0, 0.0, 4.0, 0.0, 0.0, 2.0, 2.0, 0.0, 2.0, 3.0, 0.0, 3.0, 2.0, 0.0, 0.0, 0.0, 0.0, 0.0, 0.0, 0.0, 2.0, 2.0, 0.0, 0.0, 0.0, 5.0, 2.0, 3.0, 0.0, 0.0, 2.0, 3.0, 0.0, 0.0, 0.0, 0.0, 0.0, 2.0, 0.0, 0.0, 0.0, 0.0, 0.0, 2.0, 11.0, 0.0, 0.0, 6.0, 0.0, 0.0, 3.0, 0.0, 0.0, 2.0, 0.0, 2.0, 3.0, 3.0, 0.0, 0.0, 0.0, 0.0, 0.0, 0.0, 0.0, 0.0, 0.0, 0.0, 2.0, 0.0, 0.0, 0.0, 0.0, 0.0, 0.0, 0.0, 0.0, 2.0, 3.0, 0.0, 0.0, 3.0, 0.0, 4.0, 0.0, 3.0, 0.0, 0.0, 0.0, 0.0, 0.0, 2.0, 0.0, 5.0, 0.0, 0.0, 0.0, 3.0, 3.0, 0.0, 0.0, 0.0, 0.0, 0.0, 0.0, 2.0, 0.0, 2.0, 9.0, 0.0, 3.0, 2.0, 0.0, 2.0, 3.0, 3.0, 2.0, 2.0, 0.0, 0.0, 0.0, 4.0, 0.0, 0.0, 2.0, 0.0, 0.0, 5.0, 2.0, 2.0, 3.0, 0.0, 0.0, 7.0, 0.0, 2.0, 0.0, 2.0, 2.0, 2.0, 0.0, 2.0, 0.0, 2.0, 2.0, 0.0, 4.0, 2.0, 0.0, 3.0, 0.0, 2.0, 0.0, 0.0, 2.0, 0.0, 0.0, 2.0, 3.0, 0.0, 2.0, 0.0, 0.0, 0.0, 0.0, 0.0, 2.0, 2.0, 3.0, 0.0, 2.0, 0.0, 0.0, 0.0, 0.0, 0.0, 0.0, 4.0, 2.0, 0.0, 2.0, 0.0, 0.0, 0.0, 0.0, 2.0, 0.0, 2.0, 0.0, 0.0, 4.0, 0.0, 2.0, 0.0, 0.0, 3.0, 0.0, 2.0, 0.0, 0.0, 0.0, 4.0, 0.0, 2.0, 0.0, 0.0, 0.0, 0.0, 0.0, 0.0, 0.0, 0.0, 0.0, 0.0, 0.0, 0.0, 0.0, 0.0, 2.0, 2.0, 0.0, 0.0, 2.0, 4.0, 0.0, 2.0, 0.0, 0.0, 4.0, 3.0, 0.0, 0.0, 2.0, 0.0, 0.0, 0.0, 0.0, 0.0, 0.0, 2.0, 0.0, 0.0, 0.0, 0.0, 2.0, 0.0, 0.0, 3.0, 0.0, 0.0, 0.0, 0.0, 0.0, 0.0, 0.0, 0.0, 2.0, 0.0, 0.0, 0.0, 3.0, 0.0, 0.0, 2.0, 0.0, 2.0, 2.0, 0.0, 2.0, 2.0, 0.0, 0.0, 0.0, 2.0, 2.0, 4.0, 0.0, 3.0, 2.0, 0.0, 0.0, 3.0, 0.0, 0.0, 2.0, 0.0, 2.0, 0.0, 2.0, 0.0, 0.0, 2.0, 0.0, 0.0, 0.0, 0.0, 0.0, 2.0, 0.0, 0.0, 0.0, 0.0, 0.0, 0.0, 0.0, 0.0, 0.0, 2.0, 0.0, 0.0, 0.0, 2.0, 0.0, 0.0, 0.0, 0.0, 2.0, 0.0, 0.0, 3.0, 0.0, 0.0, 0.0, 2.0, 0.0, 3.0, 0.0, 0.0, 3.0, 0.0, 3.0, 3.0, 0.0, 0.0, 3.0, 3.0, 2.0, 0.0, 0.0, 0.0, 7.0, 0.0, 0.0, 2.0, 0.0, 0.0, 0.0, 0.0, 2.0, 0.0, 0.0, 0.0, 0.0, 0.0, 0.0, 0.0, 0.0, 2.0, 0.0, 0.0, 0.0, 0.0, 0.0, 2.0, 0.0, 0.0, 0.0, 0.0, 0.0, 3.0, 0.0, 4.0, 0.0, 0.0, 2.0, 0.0, 0.0, 0.0, 2.0, 0.0, 0.0, 0.0, 0.0, 0.0, 0.0, 0.0, 2.0, 2.0, 0.0, 0.0, 0.0, 0.0, 2.0, 0.0, 2.0, 0.0, 4.0, 2.0, 0.0, 0.0, 0.0, 2.0, 0.0, 0.0, 3.0, 0.0, 0.0, 2.0, 0.0, 0.0, 0.0, 0.0, 2.0, 3.0, 0.0, 0.0, 3.0, 2.0, 0.0, 0.0, 4.0, 0.0, 2.0, 0.0, 0.0, 2.0, 2.0, 0.0, 0.0, 0.0, 0.0, 0.0, 0.0, 2.0, 0.0, 0.0, 2.0, 0.0, 0.0, 2.0, 0.0, 0.0, 0.0, 2.0, 0.0, 58.0, 2.0, 2.0, 0.0, 2.0, 0.0, 2.0, 0.0, 0.0, 2.0, 0.0, 0.0, 6.0, 6.0, 0.0, 0.0, 0.0, 0.0, 0.0, 0.0, 0.0, 2.0, 0.0, 3.0, 0.0, 0.0, 4.0, 0.0, 0.0, 2.0, 0.0, 2.0, 0.0, 0.0, 0.0, 0.0, 2.0, 0.0, 0.0, 0.0, 0.0, 0.0, 2.0, 0.0, 0.0, 0.0, 0.0, 0.0, 0.0, 2.0, 0.0, 0.0, 3.0, 0.0, 0.0, 0.0, 0.0, 3.0, 0.0, 0.0, 3.0, 0.0, 0.0, 3.0, 2.0, 0.0, 2.0, 0.0, 2.0, 0.0, 0.0, 0.0, 0.0, 3.0, 0.0, 0.0, 3.0, 0.0, 2.0, 0.0, 2.0, 2.0, 0.0, 2.0, 2.0, 3.0, 0.0, 0.0, 8.0, 0.0, 2.0, 0.0, 0.0, 0.0, 0.0, 0.0, 0.0, 0.0, 2.0, 0.0, 2.0, 3.0, 0.0, 0.0, 0.0, 3.0, 2.0, 0.0, 0.0, 0.0, 3.0, 0.0, 0.0, 0.0, 0.0, 0.0, 0.0, 0.0, 0.0, 0.0, 7.0, 0.0, 0.0, 0.0, 0.0, 0.0, 2.0, 2.0, 0.0, 11.0, 2.0, 0.0, 2.0, 2.0, 0.0, 4.0, 0.0, 2.0, 0.0, 0.0, 0.0, 0.0, 0.0, 0.0, 0.0, 2.0, 3.0, 0.0, 0.0, 2.0, 0.0, 0.0, 0.0, 6.0, 4.0, 0.0, 0.0, 0.0, 0.0, 4.0, 2.0, 2.0, 0.0, 0.0, 0.0, 0.0, 4.0, 0.0, 0.0, 0.0, 2.0, 3.0, 0.0, 0.0, 2.0, 0.0, 0.0, 0.0, 0.0, 4.0, 0.0, 0.0, 3.0, 0.0, 2.0, 0.0, 0.0, 0.0, 0.0, 4.0, 0.0, 13.0, 3.0, 0.0, 0.0, 0.0, 0.0, 2.0, 0.0, 3.0, 0.0, 0.0, 0.0, 0.0, 3.0, 2.0, 0.0, 0.0, 2.0, 0.0, 0.0, 0.0, 0.0, 0.0, 2.0, 0.0, 2.0, 0.0, 2.0, 2.0, 2.0, 0.0, 0.0, 0.0, 0.0, 0.0, 0.0, 0.0, 2.0, 2.0, 0.0, 0.0, 2.0, 5.0, 2.0, 2.0, 3.0, 3.0, 0.0, 0.0, 0.0, 0.0, 2.0, 0.0, 2.0, 0.0, 2.0, 0.0, 0.0, 0.0, 3.0, 0.0, 2.0, 0.0, 4.0, 0.0, 2.0, 0.0, 0.0, 2.0, 0.0, 2.0, 0.0, 2.0, 2.0, 0.0, 0.0, 0.0, 8.0, 0.0, 0.0, 2.0, 2.0, 0.0, 3.0, 0.0, 3.0, 2.0, 0.0, 0.0, 2.0, 0.0, 0.0, 2.0, 2.0, 2.0, 0.0, 0.0, 0.0, 0.0, 0.0, 0.0, 2.0, 0.0, 0.0, 2.0, 0.0, 2.0, 0.0, 0.0, 0.0, 0.0, 0.0, 0.0, 0.0, 0.0, 2.0, 0.0, 2.0, 3.0, 4.0, 0.0, 0.0, 0.0, 2.0, 0.0, 3.0, 0.0, 3.0, 0.0, 2.0, 0.0, 0.0, 0.0, 0.0, 0.0, 5.0, 2.0, 0.0, 0.0, 0.0, 0.0, 0.0, 2.0, 0.0, 0.0, 2.0, 0.0, 3.0, 0.0, 3.0, 0.0, 0.0, 0.0, 0.0, 0.0, 0.0, 2.0, 6.0, 0.0, 0.0, 0.0, 0.0, 2.0, 0.0, 0.0, 3.0, 0.0, 0.0, 0.0, 3.0, 0.0, 2.0, 0.0, 0.0, 2.0, 0.0, 2.0, 6.0, 0.0, 0.0, 0.0, 0.0, 0.0, 0.0, 2.0, 0.0, 2.0, 2.0, 0.0, 0.0, 0.0, 2.0, 0.0, 4.0, 0.0, 0.0, 2.0, 0.0, 0.0, 0.0, 2.0, 0.0, 2.0, 2.0, 7.0, 0.0, 0.0, 0.0, 3.0, 0.0, 2.0, 0.0, 0.0, 0.0, 0.0, 0.0, 3.0, 3.0, 0.0, 0.0, 0.0, 0.0, 2.0, 0.0, 0.0, 2.0, 3.0, 0.0, 0.0, 0.0, 0.0, 0.0, 3.0, 0.0, 4.0, 0.0, 0.0, 3.0, 0.0, 2.0, 3.0, 0.0, 0.0, 0.0, 0.0, 0.0, 2.0, 0.0, 0.0, 0.0, 0.0, 0.0, 0.0, 3.0, 0.0, 2.0, 3.0, 0.0, 0.0, 0.0, 0.0, 0.0, 0.0, 0.0, 0.0, 0.0, 0.0, 0.0, 0.0, 0.0, 0.0, 3.0, 3.0, 0.0, 0.0, 0.0, 0.0, 0.0, 0.0, 0.0, 2.0, 2.0, 2.0, 0.0, 0.0, 3.0, 0.0, 2.0, 0.0, 2.0, 2.0, 4.0, 0.0, 0.0, 3.0, 2.0, 0.0, 2.0, 0.0, 0.0, 0.0, 3.0, 0.0, 0.0, 0.0, 0.0, 0.0, 3.0, 2.0, 3.0, 2.0, 0.0, 0.0, 0.0, 0.0, 0.0, 0.0, 0.0, 2.0, 0.0, 0.0, 2.0, 0.0, 0.0, 0.0, 2.0, 0.0, 2.0, 0.0, 0.0, 0.0, 0.0, 0.0, 4.0, 2.0, 0.0, 2.0, 0.0, 2.0, 2.0, 0.0, 0.0, 3.0, 0.0, 0.0, 0.0, 2.0, 0.0, 0.0, 0.0, 6.0, 0.0, 3.0, 0.0, 0.0, 2.0, 0.0, 0.0, 0.0, 0.0, 0.0, 3.0, 2.0, 2.0, 0.0, 0.0, 2.0, 0.0, 0.0, 0.0, 0.0, 3.0, 0.0, 0.0, 0.0, 0.0, 2.0, 0.0, 0.0, 0.0, 3.0, 0.0, 2.0, 2.0, 0.0, 2.0, 0.0, 2.0, 0.0, 2.0, 0.0, 2.0, 0.0, 3.0, 0.0, 0.0, 0.0, 0.0, 0.0, 0.0, 0.0, 5.0, 0.0, 0.0, 3.0, 0.0, 2.0, 0.0, 0.0, 2.0, 0.0, 2.0, 0.0, 3.0, 0.0, 0.0, 2.0, 0.0, 2.0, 0.0, 2.0, 0.0, 0.0, 5.0, 0.0, 0.0, 0.0, 0.0, 3.0, 0.0, 0.0, 2.0, 0.0, 2.0, 0.0, 0.0, 2.0, 2.0, 2.0, 0.0, 0.0, 0.0, 0.0, 0.0, 0.0, 3.0, 3.0, 0.0, 0.0, 3.0, 0.0, 3.0, 0.0, 0.0, 3.0, 0.0, 3.0, 2.0, 0.0, 0.0, 2.0, 2.0, 0.0, 0.0, 0.0, 0.0, 0.0, 2.0, 0.0, 0.0, 0.0, 0.0, 0.0, 0.0, 3.0, 0.0, 3.0, 0.0, 2.0, 0.0, 0.0, 0.0, 2.0, 0.0, 2.0, 3.0, 0.0, 0.0, 0.0, 4.0, 0.0, 3.0, 0.0, 0.0, 0.0, 3.0, 0.0, 5.0, 2.0, 0.0, 0.0, 6.0, 0.0, 0.0, 2.0, 0.0, 0.0, 0.0, 0.0, 2.0, 2.0, 2.0, 0.0, 0.0, 0.0, 4.0, 0.0, 0.0, 0.0, 2.0, 0.0, 0.0, 2.0, 0.0, 0.0, 0.0, 2.0, 2.0, 3.0, 7.0, 0.0, 0.0, 0.0, 4.0, 0.0, 4.0, 0.0, 2.0, 2.0, 0.0, 0.0, 2.0, 3.0, 3.0, 0.0, 2.0, 5.0, 2.0, 0.0, 3.0, 0.0, 0.0, 3.0, 0.0, 2.0, 0.0, 3.0, 0.0, 0.0, 0.0, 0.0, 0.0, 2.0, 0.0, 0.0, 0.0, 0.0, 0.0, 0.0, 0.0, 2.0, 3.0, 3.0, 0.0, 2.0, 0.0, 2.0, 0.0, 3.0, 0.0, 0.0, 3.0, 0.0, 0.0, 3.0, 2.0, 4.0, 0.0, 0.0, 0.0, 0.0, 0.0, 0.0, 0.0, 2.0, 0.0, 0.0, 0.0, 0.0, 0.0, 2.0, 0.0, 2.0, 0.0, 0.0, 3.0, 2.0, 2.0, 0.0, 2.0, 2.0, 0.0, 2.0, 0.0, 0.0, 2.0, 2.0, 5.0, 0.0, 2.0, 2.0, 0.0, 0.0, 0.0, 0.0, 3.0, 0.0, 0.0, 0.0, 0.0, 0.0, 0.0, 2.0, 0.0, 2.0, 0.0, 0.0, 0.0, 0.0, 0.0, 0.0, 0.0, 6.0, 3.0, 4.0, 0.0, 0.0, 0.0, 3.0, 0.0, 0.0, 3.0, 0.0, 0.0, 2.0, 0.0, 0.0, 0.0, 0.0, 0.0, 0.0, 2.0, 2.0, 0.0, 3.0, 0.0, 2.0, 0.0, 0.0, 2.0, 2.0, 2.0, 0.0, 2.0, 2.0, 0.0, 0.0, 3.0, 0.0, 0.0, 3.0, 2.0, 0.0, 2.0, 40.0, 4.0, 0.0, 0.0, 0.0, 2.0, 0.0, 2.0, 2.0, 0.0, 2.0, 4.0, 0.0, 0.0, 0.0, 2.0, 0.0, 2.0, 0.0, 0.0, 0.0, 0.0, 0.0, 2.0, 0.0, 0.0, 0.0, 2.0, 2.0, 0.0, 2.0, 2.0, 3.0, 2.0, 0.0, 0.0, 0.0, 4.0, 3.0, 0.0, 2.0, 0.0, 2.0, 2.0, 0.0, 0.0, 2.0, 0.0, 5.0, 0.0, 2.0, 2.0, 0.0, 0.0, 0.0, 0.0, 0.0, 0.0, 4.0, 0.0, 2.0, 2.0, 0.0, 0.0, 0.0, 3.0, 0.0, 0.0, 0.0, 2.0, 3.0, 2.0, 2.0, 0.0, 0.0, 3.0, 3.0, 2.0, 0.0, 2.0, 0.0, 4.0, 0.0, 2.0, 0.0, 0.0, 0.0, 0.0, 0.0, 2.0, 0.0, 0.0, 0.0, 0.0, 2.0, 0.0, 0.0, 2.0, 0.0, 2.0, 3.0, 3.0, 2.0, 0.0, 2.0, 2.0, 0.0, 0.0, 0.0, 2.0, 2.0, 0.0, 0.0, 0.0, 3.0, 0.0, 3.0, 0.0, 4.0, 0.0, 0.0, 0.0, 0.0, 0.0, 0.0, 0.0, 2.0, 3.0, 7.0, 0.0, 0.0, 0.0, 2.0, 5.0, 0.0, 3.0, 3.0, 0.0, 0.0, 6.0, 4.0, 2.0, 2.0, 0.0, 0.0, 0.0, 0.0, 2.0, 0.0, 0.0, 0.0, 0.0, 0.0, 0.0, 2.0, 0.0, 0.0, 6.0, 2.0, 2.0, 2.0, 0.0, 0.0, 0.0, 2.0, 2.0, 0.0, 0.0, 0.0, 0.0, 2.0, 0.0, 7.0, 0.0, 0.0, 0.0, 0.0, 0.0, 2.0, 0.0, 4.0, 0.0, 2.0, 2.0, 0.0, 2.0, 2.0, 0.0, 0.0, 0.0, 0.0, 0.0, 0.0, 0.0, 2.0, 0.0, 0.0, 0.0, 2.0, 0.0, 0.0, 0.0, 0.0, 0.0, 0.0, 0.0, 0.0, 0.0, 0.0, 2.0, 0.0, 2.0, 2.0, 0.0, 0.0, 0.0, 0.0, 0.0, 0.0, 0.0, 4.0, 3.0, 0.0, 0.0, 0.0, 2.0, 0.0, 2.0, 0.0, 0.0, 0.0, 0.0, 2.0, 0.0, 0.0, 0.0, 2.0, 0.0, 0.0, 0.0, 0.0, 2.0, 0.0, 0.0, 2.0, 2.0, 0.0, 0.0, 0.0, 0.0, 8.0, 0.0, 0.0, 0.0, 0.0, 0.0, 0.0, 2.0, 2.0, 2.0, 0.0, 0.0, 0.0, 0.0, 0.0, 2.0, 2.0, 4.0, 2.0, 0.0, 0.0, 0.0, 3.0, 0.0, 0.0, 2.0, 0.0, 2.0, 0.0, 0.0, 2.0, 2.0, 0.0, 0.0, 0.0, 0.0, 3.0, 2.0, 0.0, 23.0, 0.0, 0.0, 0.0, 2.0, 0.0, 0.0, 2.0, 4.0, 5.0, 0.0, 0.0, 0.0, 3.0, 0.0, 2.0, 0.0, 0.0, 2.0, 2.0, 0.0, 5.0, 3.0, 0.0, 2.0, 2.0, 0.0, 0.0, 0.0, 0.0, 3.0, 0.0, 0.0, 4.0, 4.0, 0.0, 0.0, 5.0, 0.0, 0.0, 2.0, 2.0, 0.0, 0.0, 0.0, 2.0, 0.0, 0.0, 2.0, 0.0, 0.0, 0.0, 0.0, 2.0, 2.0, 3.0, 2.0, 0.0, 0.0, 0.0, 2.0, 0.0, 2.0, 0.0, 2.0, 0.0, 4.0, 4.0, 0.0, 0.0, 2.0, 0.0, 0.0, 0.0, 0.0, 2.0, 2.0, 0.0, 0.0, 2.0, 0.0, 0.0, 0.0, 0.0, 0.0, 0.0, 5.0, 2.0, 0.0, 2.0, 2.0, 4.0, 0.0, 0.0, 0.0, 2.0, 0.0, 0.0, 0.0, 2.0, 4.0, 0.0, 0.0, 0.0, 0.0, 2.0, 0.0, 0.0, 0.0, 0.0, 0.0, 0.0, 0.0, 2.0, 3.0, 0.0, 0.0, 2.0, 0.0, 9.0, 0.0, 0.0, 2.0, 2.0, 3.0, 0.0, 3.0, 2.0, 0.0, 0.0, 2.0, 0.0, 0.0, 2.0, 0.0, 0.0, 4.0, 0.0, 0.0, 0.0, 0.0, 0.0, 0.0, 0.0, 20.0, 0.0, 0.0, 0.0, 0.0, 0.0, 2.0, 0.0, 0.0, 0.0, 2.0, 3.0, 0.0, 0.0, 2.0, 0.0, 0.0, 3.0, 2.0, 3.0, 0.0, 0.0, 0.0, 2.0, 0.0, 3.0, 0.0, 13.0, 0.0, 0.0, 0.0, 0.0, 0.0, 2.0, 0.0, 0.0, 0.0, 4.0, 2.0, 0.0, 0.0, 0.0, 0.0, 0.0, 0.0, 0.0, 2.0, 0.0, 0.0, 0.0, 0.0, 5.0, 2.0, 0.0, 0.0, 0.0, 0.0, 0.0, 4.0, 0.0, 0.0, 0.0, 3.0, 0.0, 0.0, 0.0, 0.0, 0.0, 0.0, 2.0, 5.0, 0.0, 7.0, 2.0, 3.0, 3.0, 0.0, 0.0, 2.0, 2.0, 2.0, 2.0, 0.0, 0.0, 2.0, 0.0, 0.0, 0.0, 0.0, 0.0, 0.0, 0.0, 0.0, 2.0, 0.0, 2.0, 0.0, 0.0, 3.0, 2.0, 2.0, 0.0, 0.0, 7.0, 3.0, 0.0, 0.0, 0.0, 2.0, 0.0, 3.0, 2.0, 5.0, 0.0, 0.0, 2.0, 2.0, 0.0, 0.0, 2.0, 0.0, 2.0, 0.0, 0.0, 0.0, 0.0, 3.0, 2.0, 0.0, 0.0, 0.0, 0.0, 0.0, 2.0, 6.0, 0.0, 2.0, 0.0, 0.0, 0.0, 0.0, 0.0, 2.0, 0.0, 0.0, 0.0, 0.0, 0.0, 3.0, 0.0, 0.0, 0.0, 0.0, 2.0, 0.0, 2.0, 2.0, 0.0, 0.0, 2.0, 0.0, 0.0, 0.0, 2.0, 0.0, 0.0, 3.0, 0.0, 0.0, 0.0, 2.0, 0.0, 0.0, 0.0, 3.0, 2.0, 0.0, 2.0, 0.0, 2.0, 0.0, 0.0, 0.0, 0.0, 0.0, 0.0, 0.0, 0.0, 0.0, 8.0, 0.0, 0.0, 0.0, 2.0, 2.0, 0.0, 0.0, 2.0, 0.0, 2.0, 0.0, 0.0, 2.0, 0.0, 0.0, 0.0, 0.0, 0.0, 0.0, 0.0, 2.0, 4.0, 0.0, 0.0, 0.0, 2.0, 0.0, 0.0, 2.0, 0.0, 3.0, 0.0, 0.0, 0.0, 0.0, 0.0, 0.0, 4.0, 0.0, 2.0, 0.0, 2.0, 0.0, 2.0, 0.0, 0.0, 0.0, 2.0, 0.0, 0.0, 0.0, 0.0, 0.0, 0.0, 0.0, 0.0, 0.0, 0.0, 0.0, 0.0, 0.0, 2.0, 0.0, 3.0, 0.0, 0.0, 0.0, 2.0, 0.0, 2.0, 5.0, 0.0, 0.0, 0.0, 4.0, 2.0, 2.0, 10.0, 2.0, 0.0, 0.0, 2.0, 0.0, 0.0, 3.0, 0.0, 0.0, 0.0, 0.0, 0.0, 2.0, 0.0, 0.0, 2.0, 0.0, 2.0, 0.0, 0.0, 0.0, 0.0, 0.0, 3.0, 0.0, 0.0, 0.0, 2.0, 2.0, 0.0, 6.0, 0.0, 0.0, 0.0, 0.0, 0.0, 3.0, 6.0, 0.0, 2.0, 0.0, 0.0, 0.0, 0.0, 2.0, 3.0, 2.0, 0.0, 3.0, 0.0, 2.0, 0.0, 0.0, 5.0, 0.0, 0.0, 0.0, 9.0, 0.0, 0.0, 0.0, 0.0, 0.0, 0.0, 0.0, 2.0, 0.0, 0.0, 8.0, 2.0, 5.0, 2.0, 2.0, 3.0, 0.0, 0.0, 0.0, 0.0, 2.0, 0.0, 0.0, 0.0, 2.0, 0.0, 0.0, 0.0, 3.0, 0.0, 3.0, 2.0, 0.0, 0.0, 2.0, 2.0, 0.0, 0.0, 0.0, 2.0, 2.0, 0.0, 0.0, 0.0, 0.0, 0.0, 5.0, 0.0, 0.0, 0.0, 0.0, 0.0, 0.0, 0.0, 8.0, 0.0, 0.0, 0.0, 2.0, 0.0, 0.0, 0.0, 3.0, 0.0, 0.0, 0.0, 0.0, 2.0, 0.0, 0.0, 0.0, 0.0, 0.0, 2.0, 0.0, 3.0, 0.0, 0.0, 0.0, 2.0, 0.0, 0.0, 0.0, 6.0, 0.0, 0.0, 0.0, 0.0, 3.0, 3.0, 2.0, 0.0, 2.0, 0.0, 0.0, 0.0, 0.0, 2.0, 0.0, 0.0, 0.0, 0.0, 2.0, 0.0, 0.0, 0.0, 2.0, 0.0, 0.0, 0.0, 0.0, 2.0, 0.0, 0.0, 0.0, 2.0, 0.0, 0.0, 6.0, 0.0, 0.0, 0.0, 3.0, 0.0, 0.0, 3.0, 2.0, 0.0, 0.0, 0.0, 0.0, 3.0, 0.0, 0.0, 2.0, 2.0, 2.0, 2.0, 2.0, 0.0, 0.0, 0.0, 0.0, 2.0, 3.0, 0.0, 0.0, 3.0, 2.0, 0.0, 0.0, 0.0, 0.0, 3.0, 0.0, 0.0, 2.0, 0.0, 0.0, 0.0, 0.0, 0.0, 0.0, 2.0, 7.0, 3.0, 0.0, 2.0, 0.0, 2.0, 0.0, 0.0, 0.0, 0.0, 3.0, 2.0, 17.0, 2.0, 2.0, 0.0, 25.0, 0.0, 2.0, 0.0, 0.0, 2.0, 0.0, 0.0, 0.0, 0.0, 0.0, 0.0, 0.0, 0.0, 0.0, 4.0, 0.0, 2.0, 0.0, 2.0, 0.0, 0.0, 2.0, 0.0, 0.0, 0.0, 2.0, 2.0, 2.0, 2.0, 3.0, 0.0, 2.0, 2.0, 2.0, 2.0, 0.0, 0.0, 0.0, 0.0, 3.0, 0.0, 0.0, 0.0, 0.0, 2.0, 0.0, 0.0, 0.0, 3.0, 0.0, 0.0, 0.0, 0.0, 0.0, 3.0, 0.0, 2.0, 2.0, 0.0, 2.0, 0.0, 2.0, 0.0, 6.0, 0.0, 4.0, 2.0, 3.0, 0.0, 3.0, 2.0, 0.0, 3.0, 0.0, 0.0, 0.0, 0.0, 2.0, 0.0, 0.0, 0.0, 0.0, 3.0, 2.0, 3.0, 0.0, 0.0, 0.0, 0.0, 2.0, 0.0, 0.0, 0.0, 2.0, 0.0, 2.0, 0.0, 2.0, 2.0, 0.0, 0.0, 2.0, 3.0, 4.0, 3.0, 2.0, 0.0, 0.0, 0.0, 2.0, 2.0, 0.0, 3.0, 0.0, 0.0, 0.0, 2.0, 2.0, 0.0, 0.0, 3.0, 3.0, 0.0, 0.0, 2.0, 2.0, 3.0, 0.0, 2.0, 0.0, 0.0, 2.0, 3.0, 2.0, 0.0, 0.0, 0.0, 0.0, 0.0, 0.0, 0.0, 0.0, 0.0, 0.0, 0.0, 0.0, 2.0, 2.0, 4.0, 0.0, 0.0, 0.0, 0.0, 3.0, 0.0, 0.0, 0.0, 0.0, 2.0, 2.0, 0.0, 0.0, 0.0, 0.0, 0.0, 2.0, 0.0, 0.0, 2.0, 0.0, 4.0, 0.0, 0.0, 0.0, 0.0, 2.0, 0.0, 0.0, 2.0, 0.0, 0.0, 0.0, 0.0, 2.0, 0.0, 4.0, 3.0, 0.0, 0.0, 0.0, 4.0, 6.0, 0.0, 0.0, 2.0, 0.0, 0.0, 0.0, 2.0, 0.0, 2.0, 2.0, 0.0, 2.0, 0.0, 0.0, 0.0, 3.0, 0.0, 0.0, 0.0, 0.0, 0.0, 0.0, 0.0, 2.0, 0.0, 2.0, 3.0, 0.0, 2.0, 2.0, 2.0, 2.0, 0.0, 2.0, 0.0, 2.0, 0.0, 0.0, 0.0, 0.0, 0.0, 0.0, 0.0, 0.0, 0.0, 2.0, 0.0, 0.0, 0.0, 3.0, 0.0, 0.0, 0.0, 0.0, 0.0, 0.0, 0.0, 2.0, 2.0, 2.0, 0.0, 0.0, 0.0, 0.0, 0.0, 0.0, 2.0, 2.0, 3.0, 0.0, 0.0, 2.0, 0.0, 0.0, 3.0, 0.0, 0.0, 0.0, 2.0, 3.0, 0.0, 0.0, 0.0, 2.0, 0.0, 2.0, 2.0, 0.0, 0.0, 0.0, 0.0, 0.0, 2.0, 3.0, 0.0, 0.0, 0.0, 0.0, 0.0, 0.0, 0.0, 2.0, 0.0, 2.0, 2.0, 2.0, 0.0, 2.0, 0.0, 2.0, 0.0, 0.0, 0.0, 2.0, 3.0, 0.0, 0.0, 0.0, 2.0, 3.0, 0.0, 0.0, 2.0, 2.0, 0.0, 2.0, 0.0, 0.0, 0.0, 3.0, 0.0, 2.0, 2.0, 3.0, 0.0, 0.0, 0.0, 0.0, 3.0, 2.0, 0.0, 0.0, 0.0, 0.0, 0.0, 0.0, 0.0, 0.0, 3.0, 2.0, 3.0, 0.0, 2.0, 2.0, 3.0, 0.0, 0.0, 0.0, 0.0, 2.0, 0.0, 0.0, 0.0, 3.0, 0.0, 0.0, 0.0, 0.0, 0.0, 0.0, 0.0, 0.0, 5.0, 2.0, 2.0, 2.0, 0.0, 0.0, 3.0, 0.0, 9.0, 2.0, 2.0, 0.0, 0.0, 2.0, 0.0, 0.0, 0.0, 4.0, 4.0, 3.0, 0.0, 0.0, 3.0, 0.0, 3.0, 0.0, 0.0, 0.0, 2.0, 3.0, 0.0, 0.0, 0.0, 3.0, 0.0, 2.0, 0.0, 0.0, 2.0, 0.0, 0.0, 0.0, 0.0, 0.0, 0.0, 0.0, 0.0, 0.0, 2.0, 2.0, 0.0, 2.0, 0.0, 3.0, 0.0, 0.0, 2.0, 0.0, 0.0, 4.0, 2.0, 0.0, 2.0, 2.0, 0.0, 2.0, 6.0, 0.0, 2.0, 0.0, 0.0, 0.0, 2.0, 0.0, 0.0, 3.0, 0.0, 0.0, 0.0, 0.0, 0.0, 0.0, 0.0, 0.0, 0.0, 2.0, 2.0, 0.0, 3.0, 0.0, 2.0, 0.0, 2.0, 0.0, 2.0, 0.0, 0.0, 2.0, 2.0, 0.0, 0.0, 2.0, 0.0, 0.0, 0.0, 2.0, 6.0, 0.0, 2.0, 2.0, 0.0, 0.0, 0.0, 0.0, 6.0, 2.0, 2.0, 2.0, 0.0, 2.0, 0.0, 2.0, 0.0, 4.0, 2.0, 0.0, 0.0, 4.0, 0.0, 0.0, 0.0, 2.0, 0.0, 0.0, 0.0, 0.0, 2.0, 3.0, 0.0, 3.0, 0.0, 0.0, 2.0, 0.0, 2.0, 0.0, 2.0, 0.0, 0.0, 0.0, 3.0, 0.0, 2.0, 0.0, 0.0, 2.0, 0.0, 0.0, 0.0, 0.0, 0.0, 3.0, 0.0, 0.0, 0.0, 2.0, 0.0, 2.0, 0.0, 0.0, 0.0, 0.0, 0.0, 12.0, 0.0, 0.0, 2.0, 2.0, 12.0, 0.0, 0.0, 0.0, 0.0, 0.0, 3.0, 0.0, 0.0, 2.0, 2.0, 0.0, 0.0, 0.0, 0.0, 0.0, 2.0, 0.0, 0.0, 0.0, 3.0, 0.0, 2.0, 0.0, 0.0, 0.0, 0.0, 0.0, 0.0, 0.0, 0.0, 0.0, 3.0, 0.0, 2.0, 0.0, 4.0, 0.0, 0.0, 2.0, 2.0, 2.0, 0.0, 2.0, 2.0, 2.0, 0.0, 0.0, 0.0, 5.0, 0.0, 2.0, 0.0, 3.0, 0.0, 2.0, 2.0, 0.0, 0.0, 2.0, 0.0, 0.0, 0.0, 3.0, 2.0, 0.0, 0.0, 0.0, 0.0, 3.0, 2.0, 5.0, 0.0, 0.0, 0.0, 0.0, 2.0, 0.0, 3.0, 0.0, 0.0, 0.0, 0.0, 0.0, 3.0, 0.0, 0.0, 2.0, 2.0, 0.0, 0.0, 0.0, 5.0, 0.0, 0.0, 0.0, 5.0, 0.0, 0.0, 2.0, 4.0, 0.0, 2.0, 0.0, 0.0, 2.0, 3.0, 0.0, 2.0, 0.0, 0.0, 2.0, 0.0, 8.0, 0.0, 0.0, 0.0, 0.0, 2.0, 0.0, 3.0, 2.0, 0.0, 0.0, 0.0, 0.0, 3.0, 0.0, 2.0, 3.0, 0.0, 0.0, 2.0, 0.0, 2.0, 2.0, 3.0, 2.0, 0.0, 2.0, 2.0, 0.0, 0.0, 0.0, 0.0, 0.0, 0.0, 0.0, 0.0, 0.0, 2.0, 0.0, 0.0, 0.0, 2.0, 0.0, 0.0, 0.0, 2.0, 0.0, 0.0, 0.0, 0.0, 0.0, 0.0, 7.0, 0.0, 0.0, 2.0, 0.0, 0.0, 5.0, 2.0, 0.0, 0.0, 3.0, 0.0, 0.0, 2.0, 2.0, 10.0, 2.0, 0.0, 3.0, 0.0, 0.0, 0.0, 0.0, 0.0, 0.0, 2.0, 0.0, 0.0, 0.0, 0.0, 0.0, 0.0, 0.0, 0.0, 0.0, 0.0, 0.0, 3.0, 0.0, 0.0, 2.0, 7.0, 0.0, 2.0, 0.0, 2.0, 0.0, 0.0, 0.0, 0.0, 0.0, 2.0, 2.0, 4.0, 0.0, 3.0, 2.0, 0.0, 0.0, 2.0, 2.0, 2.0, 0.0, 2.0, 0.0, 0.0, 2.0, 0.0, 0.0, 3.0, 2.0, 2.0, 0.0, 0.0, 0.0, 2.0, 0.0, 0.0, 2.0, 0.0, 0.0, 0.0, 0.0, 2.0, 0.0, 0.0, 3.0, 0.0, 0.0, 2.0, 0.0, 0.0, 0.0, 2.0, 3.0, 2.0, 0.0, 0.0, 2.0, 3.0, 2.0, 0.0, 0.0, 0.0, 4.0, 0.0, 0.0, 0.0, 0.0, 0.0, 0.0, 0.0, 0.0, 2.0, 3.0, 0.0, 0.0, 0.0, 0.0, 0.0, 3.0, 0.0, 2.0, 0.0, 0.0, 0.0, 0.0, 0.0, 2.0, 0.0, 0.0, 3.0, 0.0, 0.0, 2.0, 0.0, 2.0, 0.0, 0.0, 2.0, 0.0, 0.0, 2.0, 5.0, 2.0, 3.0, 0.0, 0.0, 2.0, 0.0, 0.0, 0.0, 2.0, 0.0, 0.0, 0.0, 0.0, 0.0, 2.0, 0.0, 0.0, 0.0, 3.0, 0.0, 0.0, 0.0, 0.0, 5.0, 0.0, 2.0, 2.0, 0.0, 2.0, 2.0, 0.0, 0.0, 2.0, 0.0, 0.0, 0.0, 0.0, 2.0, 3.0, 0.0, 0.0, 0.0, 0.0, 2.0, 3.0, 0.0, 0.0, 2.0, 0.0, 0.0, 2.0, 0.0, 0.0, 0.0, 0.0, 0.0, 6.0, 0.0, 0.0, 0.0, 0.0, 0.0, 0.0, 0.0, 0.0, 0.0, 0.0, 2.0, 0.0, 0.0, 0.0, 2.0, 0.0, 4.0, 0.0, 0.0, 0.0, 2.0, 0.0, 0.0, 0.0, 0.0, 0.0, 2.0, 3.0, 0.0, 0.0, 0.0, 4.0, 2.0, 0.0, 0.0, 4.0, 0.0, 2.0, 2.0, 2.0, 0.0, 0.0, 0.0, 3.0, 0.0, 0.0, 0.0, 2.0, 0.0, 0.0, 0.0, 4.0, 5.0, 0.0, 3.0, 4.0, 3.0, 0.0, 0.0, 0.0, 0.0, 3.0, 0.0, 0.0, 0.0, 0.0, 3.0, 0.0, 0.0, 0.0, 0.0, 2.0, 0.0, 0.0, 0.0, 2.0, 0.0, 4.0, 2.0, 2.0, 3.0, 2.0, 0.0, 0.0, 0.0, 4.0, 3.0, 2.0, 0.0, 0.0, 0.0, 0.0, 0.0, 0.0, 0.0, 0.0, 2.0, 0.0, 6.0, 2.0, 2.0, 2.0, 2.0, 0.0, 2.0, 2.0, 0.0, 0.0, 2.0, 3.0, 2.0, 10.0, 0.0, 0.0, 0.0, 0.0, 0.0, 0.0, 0.0, 0.0, 0.0, 0.0, 2.0, 0.0, 0.0, 0.0, 0.0, 2.0, 0.0, 0.0, 0.0, 0.0, 2.0, 0.0, 0.0, 3.0, 3.0, 0.0, 5.0, 6.0, 2.0, 2.0, 5.0, 2.0, 0.0, 3.0, 3.0, 0.0, 0.0, 0.0, 2.0, 0.0, 2.0, 0.0, 0.0, 0.0, 2.0, 0.0, 2.0, 0.0, 0.0, 3.0, 3.0, 0.0, 0.0, 0.0, 0.0, 3.0, 6.0, 0.0, 2.0, 0.0, 0.0, 2.0, 0.0, 0.0, 0.0, 0.0, 0.0, 10.0, 0.0, 0.0, 0.0, 0.0, 0.0, 2.0, 2.0, 3.0, 0.0, 2.0, 3.0, 0.0, 2.0, 0.0, 2.0, 3.0, 2.0, 0.0, 2.0, 0.0, 0.0, 2.0, 0.0, 2.0, 0.0, 0.0, 0.0, 0.0, 0.0, 0.0, 0.0, 0.0, 0.0, 0.0, 0.0, 0.0, 0.0, 2.0, 2.0, 2.0, 0.0, 3.0, 0.0, 2.0, 3.0, 0.0, 0.0, 0.0, 0.0, 0.0, 0.0, 0.0, 0.0, 0.0, 0.0, 4.0, 0.0, 0.0, 2.0, 0.0, 0.0, 0.0, 2.0, 2.0, 0.0, 0.0, 2.0, 0.0, 0.0, 0.0, 0.0, 0.0, 2.0, 0.0, 0.0, 0.0, 0.0, 0.0, 3.0, 0.0, 0.0, 2.0, 0.0, 0.0, 0.0, 0.0, 11.0, 2.0, 0.0, 0.0, 2.0, 2.0, 3.0, 3.0, 3.0, 3.0, 3.0, 2.0, 0.0, 2.0, 0.0, 2.0, 0.0, 0.0, 0.0, 2.0, 3.0, 0.0, 0.0, 2.0, 0.0, 0.0, 3.0, 0.0, 0.0, 0.0, 0.0, 2.0, 0.0, 0.0, 2.0, 0.0, 2.0, 0.0, 0.0, 0.0, 6.0, 0.0, 3.0, 2.0, 3.0, 2.0, 2.0, 0.0, 3.0, 0.0, 0.0, 0.0, 2.0, 0.0, 0.0, 0.0, 0.0, 0.0, 0.0, 0.0, 0.0, 0.0, 3.0, 0.0, 0.0, 0.0, 0.0, 2.0, 0.0, 0.0, 0.0, 4.0, 2.0, 0.0, 0.0, 2.0, 2.0, 2.0, 0.0, 0.0, 0.0, 0.0, 0.0, 2.0, 2.0, 0.0, 0.0, 0.0, 0.0, 0.0, 0.0, 0.0, 3.0, 2.0, 0.0, 3.0, 0.0, 0.0, 0.0, 4.0, 0.0, 0.0, 4.0, 0.0, 0.0, 0.0, 0.0, 2.0, 0.0, 3.0, 0.0, 2.0, 0.0, 0.0, 2.0, 2.0, 0.0, 0.0, 0.0, 0.0, 0.0, 0.0, 2.0, 0.0, 0.0, 7.0, 0.0, 0.0, 0.0, 0.0, 0.0, 0.0, 0.0, 0.0, 0.0, 0.0, 0.0, 0.0, 0.0, 0.0, 0.0, 0.0, 0.0, 2.0, 0.0, 0.0, 0.0, 0.0, 0.0, 3.0, 0.0, 0.0, 0.0, 0.0, 0.0, 0.0, 0.0, 2.0, 2.0, 2.0, 0.0, 2.0, 0.0, 0.0, 2.0, 0.0, 4.0, 0.0, 2.0, 0.0, 0.0, 2.0, 2.0, 0.0, 2.0, 0.0, 0.0, 0.0, 0.0, 0.0, 0.0, 0.0, 0.0, 0.0, 0.0, 2.0, 2.0, 3.0, 0.0, 0.0, 0.0, 0.0, 0.0, 2.0, 0.0, 0.0, 10.0, 4.0, 0.0, 3.0, 0.0, 2.0, 3.0, 3.0, 2.0, 0.0, 2.0, 0.0, 0.0, 0.0, 0.0, 0.0, 3.0, 0.0, 0.0, 3.0, 0.0, 4.0, 4.0, 0.0, 3.0, 0.0, 0.0, 0.0, 0.0, 2.0, 2.0, 0.0, 0.0, 2.0, 0.0, 0.0, 0.0, 3.0, 3.0, 0.0, 0.0, 0.0, 0.0, 0.0, 2.0, 2.0, 0.0, 0.0, 0.0, 6.0, 2.0, 0.0, 0.0, 0.0, 0.0, 2.0, 0.0, 0.0, 0.0, 0.0, 0.0, 0.0, 0.0, 0.0, 0.0, 0.0, 0.0, 2.0, 0.0, 0.0, 0.0, 0.0, 3.0, 0.0, 0.0, 0.0, 0.0, 0.0, 0.0, 0.0, 0.0, 5.0, 2.0, 0.0, 0.0, 0.0, 0.0, 3.0, 4.0, 7.0, 3.0, 0.0, 2.0, 15.0, 2.0, 0.0, 0.0, 0.0, 0.0, 0.0, 0.0, 0.0, 4.0, 0.0, 0.0, 2.0, 2.0, 0.0, 0.0, 2.0, 0.0, 9.0, 2.0, 0.0, 2.0, 2.0, 3.0, 0.0, 0.0, 0.0, 6.0, 2.0, 3.0, 3.0, 0.0, 0.0, 0.0, 0.0, 2.0, 0.0, 0.0, 0.0, 3.0, 0.0, 0.0, 2.0, 0.0, 0.0, 0.0, 0.0, 0.0, 0.0, 3.0, 0.0, 0.0, 0.0, 4.0, 0.0, 0.0, 0.0, 0.0, 2.0, 0.0, 2.0, 0.0, 0.0, 0.0, 2.0, 2.0, 7.0, 2.0, 2.0, 3.0, 2.0, 0.0, 0.0, 0.0, 0.0, 0.0, 0.0, 2.0, 0.0, 0.0, 2.0, 4.0, 0.0, 2.0, 2.0, 0.0, 0.0, 2.0, 0.0, 2.0, 2.0, 0.0, 3.0, 2.0, 0.0, 0.0, 0.0, 0.0, 0.0, 0.0, 3.0, 0.0, 0.0, 0.0, 2.0, 0.0, 0.0, 0.0, 7.0, 3.0, 0.0, 0.0, 0.0, 0.0, 0.0, 0.0, 0.0, 0.0, 2.0, 0.0, 0.0, 0.0, 3.0, 0.0, 0.0, 0.0, 0.0, 0.0, 0.0, 0.0, 0.0, 0.0, 3.0, 4.0, 0.0, 0.0, 4.0, 2.0, 0.0, 0.0, 0.0, 0.0, 2.0, 3.0, 0.0, 0.0, 3.0, 0.0, 2.0, 0.0, 0.0, 0.0, 2.0, 2.0, 0.0, 0.0, 0.0, 0.0, 0.0, 2.0, 3.0, 0.0, 0.0, 0.0, 2.0, 0.0, 0.0, 2.0, 0.0, 4.0, 3.0, 0.0, 5.0, 0.0, 2.0, 0.0, 0.0, 0.0, 0.0, 0.0, 0.0, 0.0, 0.0, 0.0, 2.0, 6.0, 0.0, 0.0, 0.0, 0.0, 0.0, 2.0, 0.0, 0.0, 0.0, 0.0, 0.0, 3.0, 15.0, 5.0, 0.0, 2.0, 0.0, 0.0, 0.0, 0.0, 0.0, 0.0, 0.0, 0.0, 0.0, 2.0, 0.0, 0.0, 0.0, 0.0, 0.0, 2.0, 0.0, 0.0, 0.0, 0.0, 2.0, 0.0, 2.0, 0.0, 2.0, 0.0, 0.0, 0.0, 0.0, 5.0, 0.0, 0.0, 0.0, 0.0, 0.0, 0.0, 0.0, 0.0, 0.0, 2.0, 2.0, 0.0, 0.0, 0.0, 0.0, 6.0, 2.0, 0.0, 0.0, 0.0, 0.0, 0.0, 0.0, 13.0, 0.0, 0.0, 2.0, 0.0, 0.0, 2.0, 2.0, 0.0, 2.0, 3.0, 2.0, 0.0, 2.0, 0.0, 2.0, 0.0, 0.0, 0.0, 0.0, 0.0, 0.0, 3.0, 2.0, 3.0, 0.0, 0.0, 0.0, 2.0, 0.0, 0.0, 0.0, 0.0, 0.0, 4.0, 3.0, 0.0, 2.0, 0.0, 0.0, 0.0, 0.0, 0.0, 0.0, 0.0, 0.0, 2.0, 0.0, 0.0, 0.0, 0.0, 0.0, 2.0, 2.0, 0.0, 2.0, 0.0, 0.0, 0.0, 0.0, 0.0, 2.0, 0.0, 2.0, 0.0, 2.0, 0.0, 0.0, 2.0, 0.0, 0.0, 3.0, 2.0, 0.0, 0.0, 0.0, 2.0, 0.0, 0.0, 0.0, 0.0, 2.0, 0.0, 0.0, 2.0, 0.0, 0.0, 2.0, 2.0, 3.0, 2.0, 0.0, 0.0, 2.0, 2.0, 0.0, 0.0, 0.0, 0.0, 0.0, 9.0, 0.0, 0.0, 0.0, 0.0, 0.0, 0.0, 3.0, 0.0, 0.0, 0.0, 0.0, 0.0, 3.0, 0.0, 0.0, 0.0, 0.0, 0.0, 0.0, 2.0, 2.0, 0.0, 0.0, 0.0, 0.0, 0.0, 0.0, 0.0, 0.0, 0.0, 2.0, 3.0, 2.0, 0.0, 0.0, 2.0, 0.0, 0.0, 2.0, 0.0, 2.0, 0.0, 0.0, 2.0, 2.0, 0.0, 2.0, 0.0, 0.0, 2.0, 2.0, 0.0, 0.0, 2.0, 2.0, 0.0, 0.0, 0.0, 2.0, 0.0, 0.0, 0.0, 3.0, 0.0, 5.0, 2.0, 2.0, 2.0, 0.0, 2.0, 2.0, 0.0, 0.0, 0.0, 0.0, 3.0, 3.0, 5.0, 0.0, 0.0, 0.0, 0.0, 2.0, 0.0, 0.0, 3.0, 4.0, 0.0, 0.0, 0.0, 0.0, 0.0, 0.0, 2.0, 0.0, 6.0, 0.0, 0.0, 0.0, 3.0, 2.0, 0.0, 0.0, 0.0, 0.0, 0.0, 0.0, 0.0, 0.0, 0.0, 0.0, 4.0, 0.0, 0.0, 0.0, 5.0, 0.0, 0.0, 0.0, 0.0, 0.0, 0.0, 2.0, 3.0, 0.0, 0.0, 3.0, 0.0, 0.0, 0.0, 3.0, 0.0, 0.0, 0.0, 0.0, 0.0, 3.0, 2.0, 2.0, 0.0, 0.0, 2.0, 0.0, 0.0, 0.0, 0.0, 2.0, 0.0, 9.0, 2.0, 0.0, 2.0, 0.0, 2.0, 0.0, 2.0, 0.0, 0.0, 0.0, 2.0, 3.0, 0.0, 0.0, 0.0, 0.0, 0.0, 0.0, 6.0, 0.0, 0.0, 0.0, 0.0, 0.0, 2.0, 2.0, 0.0, 2.0, 0.0, 0.0, 0.0, 0.0, 3.0, 3.0, 2.0, 0.0, 0.0, 0.0, 0.0, 0.0, 2.0, 2.0, 0.0, 0.0, 2.0, 3.0, 2.0, 0.0, 0.0, 2.0, 0.0, 0.0, 0.0, 2.0, 0.0, 0.0, 0.0, 0.0, 3.0, 3.0, 2.0, 0.0, 0.0, 0.0, 0.0, 0.0, 0.0, 2.0, 0.0, 0.0, 2.0, 3.0, 0.0, 0.0, 0.0, 3.0, 0.0, 0.0, 0.0, 2.0, 0.0, 0.0, 2.0, 0.0, 2.0, 0.0, 0.0, 0.0, 2.0, 3.0, 0.0, 0.0, 0.0, 17.0, 0.0, 0.0, 0.0, 2.0, 0.0, 0.0, 2.0, 4.0, 0.0, 0.0, 0.0, 0.0, 0.0, 2.0, 2.0, 0.0, 3.0, 0.0, 2.0, 0.0, 0.0, 2.0, 2.0, 0.0, 0.0, 0.0, 0.0, 2.0, 0.0, 0.0, 0.0, 0.0, 2.0, 0.0, 0.0, 0.0, 4.0, 4.0, 2.0, 0.0, 3.0, 2.0, 0.0, 5.0, 3.0, 2.0, 0.0, 3.0, 0.0, 0.0, 0.0, 0.0, 0.0, 0.0, 0.0, 0.0, 2.0, 0.0, 2.0, 0.0, 0.0, 4.0, 0.0, 0.0, 0.0, 0.0, 2.0, 0.0, 2.0, 0.0, 0.0, 2.0, 3.0, 0.0, 0.0, 0.0, 0.0, 0.0, 0.0, 2.0, 2.0, 0.0, 2.0, 0.0, 0.0, 2.0, 0.0, 0.0, 2.0, 2.0, 0.0, 2.0, 0.0, 0.0, 2.0, 0.0, 0.0, 0.0, 0.0, 2.0, 0.0, 3.0, 0.0, 0.0, 3.0, 0.0, 2.0, 2.0, 0.0, 0.0, 3.0, 0.0, 0.0, 0.0, 0.0, 0.0, 0.0, 0.0, 3.0, 0.0, 0.0, 3.0, 0.0, 0.0, 2.0, 0.0, 0.0, 0.0, 0.0, 0.0, 0.0, 0.0, 2.0, 0.0, 2.0, 2.0, 0.0, 2.0, 0.0, 0.0, 2.0, 0.0, 0.0, 0.0, 8.0, 3.0, 2.0, 0.0, 0.0, 0.0, 2.0, 0.0, 0.0, 0.0, 0.0, 3.0, 2.0, 0.0, 0.0, 0.0, 2.0, 2.0, 0.0, 2.0, 2.0, 2.0, 4.0, 0.0, 0.0, 0.0, 2.0, 6.0, 3.0, 2.0, 4.0, 2.0, 0.0, 0.0, 0.0, 0.0, 0.0, 0.0, 0.0, 2.0, 0.0, 0.0, 0.0, 0.0, 0.0, 0.0, 0.0, 5.0, 2.0, 0.0, 0.0, 2.0, 0.0, 0.0, 2.0, 0.0, 0.0, 0.0, 0.0, 0.0, 5.0, 2.0, 0.0, 0.0, 0.0, 2.0, 6.0, 0.0, 0.0, 0.0, 0.0, 0.0, 2.0, 0.0, 0.0, 0.0, 2.0, 0.0, 0.0, 0.0, 0.0, 0.0, 0.0, 2.0, 2.0, 0.0, 0.0, 2.0, 0.0, 0.0, 3.0, 0.0, 2.0, 0.0, 7.0, 0.0, 2.0, 2.0, 2.0, 0.0, 0.0, 0.0, 0.0, 0.0, 0.0, 2.0, 0.0, 6.0, 0.0, 0.0, 0.0, 0.0, 0.0, 0.0, 0.0, 3.0, 2.0, 0.0, 0.0, 3.0, 2.0, 0.0, 3.0, 0.0, 0.0, 0.0, 0.0, 2.0, 0.0, 0.0, 2.0, 2.0, 0.0, 0.0, 2.0, 2.0, 0.0, 2.0, 0.0, 2.0, 0.0, 0.0, 0.0, 0.0, 2.0, 0.0, 0.0, 4.0, 2.0, 0.0, 0.0, 0.0, 0.0, 0.0, 0.0, 0.0, 0.0, 0.0, 0.0, 0.0, 0.0, 2.0, 3.0, 0.0, 2.0, 5.0, 0.0, 0.0, 0.0, 0.0, 0.0, 0.0, 0.0, 0.0, 8.0, 0.0, 0.0, 0.0, 2.0, 0.0, 0.0, 2.0, 2.0, 0.0, 0.0, 2.0, 0.0, 2.0, 2.0, 0.0, 0.0, 0.0, 0.0, 0.0, 0.0, 0.0, 2.0, 2.0, 2.0, 2.0, 0.0, 0.0, 0.0, 0.0, 0.0, 0.0, 3.0, 2.0, 3.0, 2.0, 0.0, 2.0, 0.0, 0.0, 2.0, 5.0, 0.0, 2.0, 0.0, 2.0, 0.0, 0.0, 0.0, 0.0, 0.0, 2.0, 0.0, 0.0, 0.0, 0.0, 0.0, 2.0, 0.0, 0.0, 2.0, 0.0, 0.0, 2.0, 0.0, 2.0, 2.0, 2.0, 0.0, 0.0, 0.0, 0.0, 0.0, 0.0, 0.0, 0.0, 0.0, 0.0, 0.0, 0.0, 0.0, 0.0, 0.0, 0.0, 0.0, 2.0, 0.0, 2.0, 0.0, 0.0, 2.0, 0.0, 0.0, 0.0, 0.0, 0.0, 2.0, 2.0, 2.0, 0.0, 0.0, 0.0, 2.0, 3.0, 0.0, 2.0, 0.0, 3.0, 0.0, 13.0, 2.0, 0.0, 4.0, 0.0, 3.0, 3.0, 3.0, 0.0, 0.0, 2.0, 0.0, 2.0, 0.0, 2.0, 9.0, 0.0, 2.0, 0.0, 2.0, 2.0, 3.0, 2.0, 6.0, 0.0, 2.0, 3.0, 3.0, 3.0, 3.0, 0.0, 0.0, 0.0, 0.0, 0.0, 2.0, 6.0, 3.0, 0.0, 0.0, 0.0, 0.0, 0.0, 0.0, 0.0, 0.0, 0.0, 0.0, 3.0, 3.0, 0.0, 0.0, 0.0, 0.0, 2.0, 2.0, 2.0, 0.0, 0.0, 0.0, 0.0, 0.0, 0.0, 0.0, 0.0, 0.0, 0.0, 0.0, 0.0, 0.0, 0.0, 2.0, 0.0, 2.0, 0.0, 0.0, 2.0, 2.0, 0.0, 2.0, 0.0, 0.0, 0.0, 0.0, 0.0, 0.0, 0.0, 3.0, 0.0, 2.0, 0.0, 2.0, 2.0, 0.0, 0.0, 2.0, 0.0, 0.0, 0.0, 0.0, 0.0, 0.0, 0.0, 0.0, 2.0, 0.0, 2.0, 0.0, 2.0, 0.0, 2.0, 0.0, 4.0, 2.0, 5.0, 0.0, 2.0, 0.0, 0.0, 0.0, 0.0, 2.0, 0.0, 0.0, 0.0, 0.0, 0.0, 3.0, 3.0, 3.0, 0.0, 0.0, 0.0, 0.0, 0.0, 0.0, 0.0, 0.0, 0.0, 0.0, 0.0, 2.0, 0.0, 0.0, 0.0, 0.0, 5.0, 3.0, 2.0, 0.0, 6.0, 0.0, 0.0, 0.0, 2.0, 2.0, 3.0, 0.0, 3.0, 0.0, 3.0, 0.0, 0.0, 0.0, 2.0, 0.0, 2.0, 0.0, 0.0, 2.0, 0.0, 0.0, 2.0, 0.0, 0.0, 0.0, 0.0, 2.0, 2.0, 2.0, 2.0, 2.0, 0.0, 2.0, 0.0, 0.0, 2.0, 0.0, 0.0, 0.0, 0.0, 2.0, 0.0, 0.0, 0.0, 2.0, 0.0, 0.0, 2.0, 0.0, 2.0, 0.0, 0.0, 0.0, 0.0, 4.0, 2.0, 2.0, 0.0, 0.0, 0.0, 0.0, 0.0, 2.0, 3.0, 0.0, 4.0, 0.0, 0.0, 2.0, 0.0, 0.0, 2.0, 0.0, 2.0, 2.0, 2.0, 0.0, 0.0, 2.0, 0.0, 2.0, 2.0, 0.0, 2.0, 2.0, 0.0, 0.0, 0.0, 0.0, 2.0, 2.0, 0.0, 0.0, 5.0, 2.0, 0.0, 2.0, 0.0, 0.0, 0.0, 3.0, 3.0, 0.0, 0.0, 0.0, 2.0, 6.0, 0.0, 0.0, 0.0, 0.0, 4.0, 0.0, 2.0, 2.0, 0.0, 0.0, 9.0, 0.0, 3.0, 0.0, 3.0, 3.0, 3.0, 0.0, 0.0, 0.0, 2.0, 0.0, 0.0, 0.0, 0.0, 2.0, 2.0, 2.0, 0.0, 2.0, 3.0, 0.0, 0.0, 0.0, 0.0, 0.0, 0.0, 0.0, 0.0, 2.0, 0.0, 0.0, 0.0, 1.003202529592995, 1.003202529592995, 1.003202529592995, 1.003202529592995, 1.003202529592995, 1.003202529592995, 1.003202529592995, 1.003202529592995, 1.003202529592995, 1.003202529592995, 1.003202529592995, 1.003202529592995, 1.003202529592995, 1.003202529592995, 1.003202529592995, 1.003202529592995, 1.003202529592995, 1.003202529592995, 0.0, 1.003202529592995, 1.003202529592995, 1.003202529592995, 0.0, 0.0, 2.0, 0.0, 0.0, 0.0, 2.0, 1.003202529592995, 0.0, 1.003202529592995, 0.0, 0.0, 2.0, 2.0, 0.0, 2.0, 2.0, 0.0, 1.003202529592995, 0.0, 0.0, 0.0, 0.0, 0.0, 0.0, 0.0, 2.0, 1.003202529592995, 2.0, 0.0, 3.0, 0.0, 0.0, 0.0, 0.0, 2.0, 4.0, 2.0, 0.0, 0.0, 2.0, 4.0, 0.0, 0.0, 0.0, 0.0, 0.0, 2.0, 2.0, 0.0, 0.0, 0.0, 0.0, 0.0, 3.0, 0.0, 4.0, 3.0, 0.0, 0.0, 0.0, 0.0, 0.0, 2.0, 3.0, 5.0, 0.0, 0.0, 0.0, 2.0, 2.0, 0.0, 2.0, 2.0, 0.0, 0.0, 0.0, 0.0, 0.0, 2.0, 0.0, 0.0, 0.0, 0.0, 3.0, 2.0, 2.0, 8.0, 2.0, 0.0, 0.0, 0.0, 0.0, 0.0, 0.0, 0.0, 2.0, 0.0, 0.0, 2.0, 0.0, 0.0, 2.0, 0.0, 0.0, 0.0, 2.0, 0.0, 0.0, 0.0, 0.0, 0.0, 2.0, 2.0, 2.0, 0.0, 2.0, 0.0, 0.0, 0.0, 2.0, 0.0, 0.0, 0.0, 0.0, 0.0, 0.0, 0.0, 0.0, 0.0, 0.0, 0.0, 3.0, 0.0, 0.0, 2.0, 2.0, 0.0, 0.0, 0.0, 12.0, 0.0, 2.0, 2.0, 0.0, 0.0, 0.0, 2.0, 2.0, 0.0, 2.0, 0.0, 2.0, 2.0, 0.0, 3.0, 0.0, 0.0, 2.0, 2.0, 0.0, 0.0, 0.0, 2.0, 0.0, 2.0, 2.0, 0.0, 0.0, 0.0, 2.0, 2.0, 2.0, 2.0, 0.0, 0.0, 0.0, 0.0, 3.0, 3.0, 5.0, 2.0, 0.0, 2.0, 0.0, 0.0, 0.0, 0.0, 0.0, 2.0, 4.0, 0.0, 0.0, 0.0, 2.0, 0.0, 0.0, 3.0, 0.0, 3.0, 2.0, 3.0, 0.0, 0.0, 0.0, 0.0, 2.0, 0.0, 0.0, 0.0, 2.0, 2.0, 4.0, 3.0, 2.0, 0.0, 0.0, 6.0, 0.0, 0.0, 0.0, 3.0, 0.0, 0.0, 0.0, 0.0, 0.0, 0.0, 0.0, 0.0, 0.0, 4.0, 0.0, 2.0, 3.0, 2.0, 0.0, 2.0, 2.0, 15.0, 0.0, 0.0, 0.0, 0.0, 2.0, 0.0, 2.0, 0.0, 0.0, 0.0, 6.0, 0.0, 0.0, 3.0, 0.0, 2.0, 0.0, 2.0, 4.0, 0.0, 0.0, 0.0, 0.0, 2.0, 3.0, 0.0, 0.0, 3.0, 0.0, 3.0, 2.0, 0.0, 0.0, 0.0, 0.0, 0.0, 0.0, 8.0, 2.0, 0.0, 3.0, 0.0, 0.0, 0.0, 0.0, 2.0, 0.0, 0.0, 0.0, 0.0, 2.0, 2.0, 0.0, 0.0, 0.0, 2.0, 0.0, 2.0, 0.0, 3.0, 0.0, 2.0, 0.0, 2.0, 2.0, 0.0, 2.0, 2.0, 2.0, 2.0, 2.0, 2.0, 0.0, 0.0, 0.0, 0.0, 0.0, 0.0, 2.0, 2.0, 0.0, 0.0, 3.0, 0.0, 2.0, 0.0, 0.0, 0.0, 2.0, 0.0, 0.0, 0.0, 4.0, 0.0, 0.0, 0.0, 0.0, 4.0, 2.0, 6.0, 0.0, 2.0, 0.0, 0.0, 0.0, 2.0, 0.0, 0.0, 2.0, 0.0, 0.0, 0.0, 0.0, 0.0, 2.0, 0.0, 0.0, 0.0, 0.0, 0.0, 0.0, 2.0, 0.0, 0.0, 0.0, 3.0, 0.0, 0.0, 5.0, 0.0, 0.0, 0.0, 3.0, 6.0, 0.0, 0.0, 0.0, 0.0, 0.0, 0.0, 0.0, 0.0, 0.0, 0.0, 0.0, 0.0, 2.0, 0.0, 2.0, 0.0, 0.0, 0.0, 4.0, 2.0, 15.0, 4.0, 0.0, 5.0, 0.0, 2.0, 0.0, 0.0, 0.0, 0.0, 0.0, 5.0, 3.0, 0.0, 0.0, 0.0, 0.0, 0.0, 0.0, 2.0, 0.0, 0.0, 2.0, 0.0, 0.0, 3.0, 0.0, 0.0, 2.0, 2.0, 0.0, 2.0, 0.0, 0.0, 2.0, 0.0, 2.0, 0.0, 0.0, 2.0, 0.0, 2.0, 0.0, 0.0, 2.0, 3.0, 0.0, 2.0, 0.0, 0.0, 2.0, 2.0, 2.0, 0.0, 0.0, 4.0, 0.0, 3.0, 0.0, 0.0, 3.0, 0.0, 0.0, 0.0, 0.0, 0.0, 0.0, 2.0, 0.0, 0.0, 2.0, 0.0, 0.0, 0.0, 0.0, 0.0, 0.0, 2.0, 0.0, 0.0, 2.0, 0.0, 2.0, 2.0, 2.0, 0.0, 0.0, 0.0, 0.0, 0.0, 0.0, 3.0, 0.0, 3.0, 0.0, 4.0, 2.0, 2.0, 0.0, 0.0, 0.0, 0.0, 3.0, 0.0, 2.0, 0.0, 8.0, 2.0, 0.0, 0.0, 0.0, 0.0, 0.0, 0.0, 0.0, 0.0, 0.0, 2.0, 0.0, 0.0, 0.0, 0.0, 2.0, 0.0, 0.0, 0.0, 0.0, 0.0, 0.0, 2.0, 0.0, 0.0, 3.0, 2.0, 0.0, 0.0, 0.0, 0.0, 0.0, 0.0, 0.0, 0.0, 0.0, 2.0, 0.0, 2.0, 0.0, 0.0, 0.0, 0.0, 0.0, 0.0, 0.0, 0.0, 2.0, 0.0, 4.0, 0.0, 2.0, 2.0, 11.0, 0.0, 2.0, 0.0, 0.0, 0.0, 2.0, 0.0, 0.0, 0.0, 0.0, 0.0, 0.0, 0.0, 6.0, 3.0, 0.0, 2.0, 0.0, 0.0, 0.0, 0.0, 10.0, 0.0, 3.0, 2.0, 0.0, 10.0, 0.0, 0.0, 0.0, 0.0, 0.0, 3.0, 6.0, 0.0, 2.0, 0.0, 2.0, 0.0, 0.0, 5.0, 0.0, 0.0, 0.0, 3.0, 0.0, 2.0, 2.0, 0.0, 0.0, 0.0, 0.0, 2.0, 3.0, 2.0, 0.0, 0.0, 2.0, 3.0, 2.0, 0.0, 2.0, 0.0, 0.0, 0.0, 0.0, 2.0, 3.0, 0.0, 0.0, 0.0, 2.0, 0.0, 0.0, 4.0, 0.0, 0.0, 0.0, 0.0, 0.0, 0.0, 9.0, 0.0, 0.0, 0.0, 2.0, 5.0, 2.0, 0.0, 0.0, 5.0, 2.0, 0.0, 0.0, 0.0, 0.0, 0.0, 0.0, 0.0, 0.0, 8.0, 0.0, 2.0, 0.0, 0.0, 0.0, 0.0, 0.0, 3.0, 3.0, 2.0, 0.0, 2.0, 0.0, 0.0, 0.0, 2.0, 0.0, 0.0, 0.0, 0.0, 0.0, 7.0, 0.0, 2.0, 0.0, 0.0, 2.0, 2.0, 2.0, 0.0, 0.0, 2.0, 2.0, 0.0, 2.0, 0.0, 0.0, 0.0, 0.0, 0.0, 2.0, 3.0, 2.0, 2.0, 0.0, 2.0, 0.0, 3.0, 0.0, 0.0, 0.0, 2.0, 0.0, 0.0, 0.0, 0.0, 0.0, 2.0, 2.0, 0.0, 0.0, 0.0, 0.0, 2.0, 3.0, 0.0, 0.0, 3.0, 0.0, 0.0, 0.0, 4.0, 0.0, 3.0, 0.0, 0.0, 0.0, 3.0, 2.0, 2.0, 2.0, 3.0, 0.0, 2.0, 0.0, 2.0, 0.0, 0.0, 0.0, 2.0, 2.0, 0.0, 0.0, 2.0, 0.0, 0.0, 0.0, 3.0, 0.0, 0.0, 2.0, 0.0, 2.0, 0.0, 4.0, 0.0, 0.0, 2.0, 0.0, 0.0, 0.0, 0.0, 2.0, 0.0, 2.0, 0.0, 0.0, 2.0, 0.0, 0.0, 4.0, 0.0, 2.0, 2.0, 0.0, 0.0, 2.0, 3.0, 3.0, 0.0, 0.0, 0.0, 0.0, 0.0, 0.0, 0.0, 5.0, 3.0, 0.0, 2.0, 0.0, 2.0, 0.0, 0.0, 0.0, 2.0, 2.0, 0.0, 0.0, 2.0, 0.0, 0.0, 2.0, 3.0, 0.0, 0.0, 0.0, 0.0, 0.0, 0.0, 0.0, 0.0, 0.0, 2.0, 0.0, 0.0, 0.0, 0.0, 0.0, 0.0, 0.0, 0.0, 0.0, 5.0, 0.0, 0.0, 0.0, 2.0, 0.0, 0.0, 3.0, 2.0, 0.0, 3.0, 0.0, 0.0, 2.0, 2.0, 0.0, 2.0, 0.0, 0.0, 0.0, 0.0, 0.0, 0.0, 0.0, 0.0, 2.0, 0.0, 0.0, 10.0, 2.0, 0.0, 0.0, 0.0, 0.0, 7.0, 4.0, 0.0, 4.0, 3.0, 0.0, 90.0, 6.0, 0.0, 3.0, 3.0, 3.0, 0.0, 0.0, 2.0, 0.0, 0.0, 4.0, 0.0, 0.0, 0.0, 0.0, 0.0, 3.0, 0.0, 2.0, 0.0, 3.0, 0.0, 0.0, 0.0, 0.0, 0.0, 0.0, 0.0, 0.0, 0.0, 0.0, 2.0, 0.0, 0.0, 0.0, 0.0, 0.0, 0.0, 0.0, 0.0, 4.0, 2.0, 0.0, 0.0, 2.0, 2.0, 0.0, 0.0, 0.0, 0.0, 0.0, 2.0, 0.0, 3.0, 3.0, 0.0, 0.0, 0.0, 4.0, 2.0, 0.0, 2.0, 0.0, 0.0, 0.0, 0.0, 0.0, 2.0, 5.0, 0.0, 0.0, 0.0, 0.0, 0.0, 0.0, 0.0, 2.0, 0.0, 0.0, 0.0, 0.0, 0.0, 0.0, 0.0, 2.0, 0.0, 2.0, 0.0, 3.0, 0.0, 12.0, 3.0, 0.0, 0.0, 0.0, 0.0, 0.0, 0.0, 0.0, 0.0, 0.0, 2.0, 3.0, 0.0, 0.0, 2.0, 0.0, 0.0, 2.0, 0.0, 0.0, 2.0, 2.0, 0.0, 3.0, 2.0, 0.0, 0.0, 0.0, 0.0, 0.0, 0.0, 2.0, 0.0, 0.0, 0.0, 3.0, 0.0, 0.0, 0.0, 0.0, 0.0, 2.0, 0.0, 2.0, 2.0, 0.0, 2.0, 0.0, 0.0, 2.0, 0.0, 0.0, 2.0, 0.0, 0.0, 0.0, 4.0, 0.0, 2.0, 0.0, 0.0, 0.0, 2.0, 0.0, 0.0, 0.0, 6.0, 0.0, 0.0, 5.0, 4.0, 3.0, 0.0, 2.0, 2.0, 2.0, 3.0, 0.0, 2.0, 0.0, 0.0, 0.0, 0.0, 0.0, 0.0, 0.0, 0.0, 0.0, 0.0, 0.0, 0.0, 2.0, 0.0, 2.0, 0.0, 0.0, 2.0, 2.0, 2.0, 3.0, 0.0, 0.0, 0.0, 0.0, 3.0, 0.0, 0.0, 0.0, 0.0, 0.0, 0.0, 0.0, 2.0, 0.0, 0.0, 2.0, 0.0, 0.0, 0.0, 4.0, 0.0, 2.0, 3.0, 2.0, 0.0, 2.0, 0.0, 2.0, 2.0, 2.0, 0.0, 2.0, 2.0, 2.0, 0.0, 0.0, 2.0, 0.0, 4.0, 0.0, 2.0, 0.0, 0.0, 2.0, 0.0, 2.0, 0.0, 0.0, 0.0, 0.0, 0.0, 3.0, 2.0, 0.0, 2.0, 0.0, 2.0, 0.0, 2.0, 0.0, 0.0, 0.0, 2.0, 0.0, 2.0, 2.0, 0.0, 2.0, 0.0, 2.0, 2.0, 0.0, 3.0, 0.0, 0.0, 0.0, 2.0, 0.0, 0.0, 2.0, 0.0, 2.0, 2.0, 2.0, 0.0, 0.0, 0.0, 0.0, 0.0, 2.0, 2.0, 0.0, 0.0, 2.0, 4.0, 0.0, 2.0, 0.0, 0.0, 4.0, 0.0, 2.0, 0.0, 0.0, 0.0, 0.0, 0.0, 0.0, 0.0, 5.0, 2.0, 2.0, 0.0, 0.0, 0.0, 0.0, 0.0, 0.0, 0.0, 0.0, 2.0, 0.0, 2.0, 2.0, 0.0, 0.0, 14.0, 0.0, 0.0, 0.0, 5.0, 0.0, 0.0, 4.0, 2.0, 0.0, 0.0, 0.0, 0.0, 0.0, 0.0, 0.0, 2.0, 4.0, 2.0, 0.0, 2.0, 0.0, 2.0, 2.0, 0.0, 0.0, 0.0, 0.0, 0.0, 0.0, 0.0, 0.0, 2.0, 0.0, 0.0, 0.0, 2.0, 2.0, 0.0, 0.0, 0.0, 0.0, 3.0, 3.0, 3.0, 0.0, 0.0, 0.0, 0.0, 0.0, 2.0, 0.0, 0.0, 0.0, 2.0, 0.0, 0.0, 0.0, 3.0, 5.0, 0.0, 2.0, 0.0, 0.0, 0.0, 0.0, 0.0, 2.0, 2.0, 2.0, 0.0, 6.0, 0.0, 2.0, 0.0, 2.0, 2.0, 0.0, 2.0, 0.0, 0.0, 0.0, 0.0, 3.0, 0.0, 0.0, 0.0, 2.0, 0.0, 0.0, 2.0, 3.0, 0.0, 2.0, 0.0, 0.0, 0.0, 0.0, 0.0, 0.0, 0.0, 2.0, 0.0, 0.0, 0.0, 0.0, 4.0, 0.0, 0.0, 0.0, 7.0, 0.0, 0.0, 0.0, 2.0, 2.0, 0.0, 2.0, 0.0, 0.0, 2.0, 0.0, 0.0, 0.0, 0.0, 0.0, 7.0, 0.0, 2.0, 0.0, 0.0, 2.0, 0.0, 0.0, 2.0, 2.0, 0.0, 0.0, 2.0, 0.0, 7.0, 0.0, 2.0, 0.0, 0.0, 9.0, 3.0, 2.0, 0.0, 2.0, 0.0, 2.0, 2.0, 0.0, 0.0, 0.0, 0.0, 0.0, 0.0, 0.0, 0.0, 0.0, 0.0, 0.0, 0.0, 0.0, 0.0, 3.0, 0.0, 0.0, 0.0, 0.0, 0.0, 2.0, 0.0, 3.0, 0.0, 2.0, 0.0, 2.0, 2.0, 2.0, 0.0, 0.0, 0.0, 2.0, 0.0, 0.0, 0.0, 0.0, 5.0, 0.0, 0.0, 2.0, 0.0, 0.0, 0.0, 0.0, 2.0, 3.0, 0.0, 0.0, 0.0, 4.0, 3.0, 0.0, 0.0, 0.0, 2.0, 3.0, 10.0, 0.0, 2.0, 0.0, 2.0, 0.0, 0.0, 0.0, 0.0, 2.0, 0.0, 0.0, 0.0, 2.0, 0.0, 0.0, 0.0, 0.0, 0.0, 2.0, 0.0, 0.0, 0.0, 0.0, 0.0, 0.0, 2.0, 0.0, 0.0, 0.0, 0.0, 0.0, 0.0, 0.0, 0.0, 8.0, 0.0, 3.0, 0.0, 2.0, 0.0, 2.0, 0.0, 0.0, 2.0, 2.0, 2.0, 5.0, 2.0, 0.0, 2.0, 0.0, 0.0, 0.0, 2.0, 0.0, 0.0, 0.0, 0.0, 0.0, 2.0, 0.0, 2.0, 0.0, 0.0, 0.0, 2.0, 2.0, 5.0, 0.0, 0.0, 2.0, 2.0, 0.0, 0.0, 0.0, 0.0, 0.0, 0.0, 0.0, 0.0, 0.0, 2.0, 2.0, 2.0, 0.0, 2.0, 0.0, 0.0, 0.0, 0.0, 0.0, 0.0, 0.0, 3.0, 2.0, 0.0, 0.0, 3.0, 0.0, 2.0, 2.0, 2.0, 2.0, 3.0, 0.0, 4.0, 0.0, 6.0, 0.0, 0.0, 0.0, 0.0, 2.0, 2.0, 0.0, 0.0, 0.0, 2.0, 2.0, 2.0, 0.0, 0.0, 3.0, 0.0, 0.0, 0.0, 0.0, 2.0, 2.0, 0.0, 2.0, 0.0, 2.0, 2.0, 0.0, 3.0, 0.0, 3.0, 0.0, 0.0, 2.0, 0.0, 3.0, 0.0, 0.0, 0.0, 0.0, 0.0, 5.0, 0.0, 0.0, 2.0, 0.0, 0.0, 0.0, 0.0, 0.0, 0.0, 0.0, 0.0, 2.0, 2.0, 0.0, 0.0, 2.0, 0.0, 0.0, 0.0, 2.0, 0.0, 0.0, 0.0, 0.0, 0.0, 0.0, 2.0, 0.0, 0.0, 2.0, 0.0, 0.0, 2.0, 0.0, 3.0, 0.0, 0.0, 2.0, 2.0, 2.0, 0.0, 0.0, 0.0, 2.0, 0.0, 0.0, 0.0, 0.0, 0.0, 0.0, 0.0, 0.0, 2.0, 2.0, 0.0, 0.0, 0.0, 2.0, 0.0, 0.0, 0.0, 0.0, 2.0, 3.0, 0.0, 2.0, 2.0, 0.0, 0.0, 2.0, 9.0, 2.0, 0.0, 0.0, 0.0, 2.0, 0.0, 2.0, 0.0, 7.0, 0.0, 0.0, 0.0, 0.0, 2.0, 0.0, 2.0, 0.0, 0.0, 2.0, 0.0, 0.0, 3.0, 0.0, 0.0, 0.0, 0.0, 0.0, 2.0, 0.0, 0.0, 0.0, 0.0, 2.0, 2.0, 0.0, 3.0, 0.0, 3.0, 2.0, 0.0, 2.0, 2.0, 0.0, 0.0, 0.0, 0.0, 2.0, 0.0, 0.0, 0.0, 0.0, 0.0, 0.0, 0.0, 0.0, 0.0, 0.0, 3.0, 0.0, 2.0, 0.0, 4.0, 2.0, 4.0, 0.0, 0.0, 2.0, 2.0, 0.0, 3.0, 2.0, 3.0, 0.0, 0.0, 0.0, 0.0, 3.0, 0.0, 0.0, 0.0, 0.0, 2.0, 0.0, 0.0, 0.0, 0.0, 0.0, 0.0, 0.0, 4.0, 0.0, 2.0, 0.0, 13.0, 0.0, 0.0, 0.0, 0.0, 0.0, 0.0, 0.0, 2.0, 0.0, 0.0, 0.0, 2.0, 2.0, 0.0, 0.0, 0.0, 0.0, 6.0, 2.0, 3.0, 0.0, 0.0, 3.0, 0.0, 0.0, 0.0, 0.0, 2.0, 0.0, 0.0, 3.0, 2.0, 5.0, 0.0, 0.0, 2.0, 8.0, 0.0, 0.0, 0.0, 0.0, 0.0, 2.0, 0.0, 2.0, 2.0, 0.0, 0.0, 0.0, 3.0, 2.0, 0.0, 3.0, 0.0, 0.0, 0.0, 0.0, 2.0, 2.0, 0.0, 0.0, 2.0, 5.0, 0.0, 0.0, 0.0, 2.0, 0.0, 2.0, 0.0, 3.0, 0.0, 0.0, 3.0, 2.0, 2.0, 0.0, 0.0, 0.0, 2.0, 3.0, 0.0, 0.0, 0.0, 0.0, 0.0, 0.0, 0.0, 0.0, 2.0, 0.0, 0.0, 2.0, 3.0, 2.0, 3.0, 9.0, 0.0, 2.0, 0.0, 2.0, 2.0, 3.0, 7.0, 0.0, 2.0, 0.0, 0.0, 0.0, 0.0, 2.0, 4.0, 0.0, 0.0, 0.0, 2.0, 0.0, 0.0, 2.0, 2.0, 0.0, 0.0, 0.0, 0.0, 2.0, 2.0, 0.0, 0.0, 2.0, 3.0, 0.0, 2.0, 0.0, 0.0, 0.0, 2.0, 0.0, 0.0, 2.0, 2.0, 0.0, 0.0, 2.0, 0.0, 0.0, 0.0, 0.0, 0.0, 0.0, 0.0, 0.0, 2.0, 2.0, 0.0, 0.0, 0.0, 2.0, 5.0, 0.0, 0.0, 0.0, 0.0, 2.0, 0.0, 2.0, 6.0, 0.0, 0.0, 0.0, 0.0, 2.0, 0.0, 2.0, 2.0, 0.0, 3.0, 3.0, 0.0, 3.0, 0.0, 0.0, 0.0, 0.0, 18.0, 2.0, 0.0, 0.0, 2.0, 0.0, 0.0, 0.0, 5.0, 5.0, 0.0, 3.0, 2.0, 2.0, 0.0, 0.0, 0.0, 2.0, 0.0, 2.0, 0.0, 2.0, 0.0, 2.0, 2.0, 0.0, 0.0, 2.0, 0.0, 0.0, 0.0, 0.0, 0.0, 0.0, 0.0, 0.0, 0.0, 2.0, 0.0, 0.0, 0.0, 2.0, 0.0, 2.0, 2.0, 3.0, 0.0, 0.0, 0.0, 2.0, 2.0, 2.0, 0.0, 0.0, 2.0, 2.0, 3.0, 0.0, 0.0, 2.0, 6.0, 0.0, 0.0, 0.0, 0.0, 0.0, 0.0, 0.0, 5.0, 0.0, 2.0, 2.0, 0.0, 0.0, 2.0, 0.0, 3.0, 0.0, 0.0, 3.0, 3.0, 0.0, 0.0, 2.0, 2.0, 5.0, 0.0, 2.0, 0.0, 2.0, 0.0, 2.0, 0.0, 0.0, 0.0, 2.0, 0.0, 0.0, 0.0, 2.0, 0.0, 0.0, 0.0, 2.0, 0.0, 3.0, 3.0, 3.0, 0.0, 2.0, 0.0, 2.0, 0.0, 0.0, 0.0, 0.0, 2.0, 3.0, 0.0, 3.0, 14.0, 0.0, 2.0, 0.0, 2.0, 0.0, 7.0, 0.0, 3.0, 2.0, 0.0, 0.0, 0.0, 2.0, 0.0, 0.0, 0.0, 0.0, 2.0, 3.0, 0.0, 5.0, 0.0, 2.0, 3.0, 2.0, 0.0, 3.0, 0.0, 0.0, 0.0, 3.0, 0.0, 3.0, 2.0, 0.0, 2.0, 0.0, 2.0, 0.0, 0.0, 2.0, 0.0, 2.0, 2.0, 0.0, 0.0, 0.0, 0.0, 0.0, 0.0, 2.0, 0.0, 2.0, 3.0, 3.0, 0.0, 0.0, 2.0, 0.0, 4.0, 3.0, 0.0, 2.0, 2.0, 0.0, 2.0, 0.0, 0.0, 4.0, 3.0, 2.0, 2.0, 0.0, 2.0, 0.0, 0.0, 0.0, 2.0, 0.0, 2.0, 0.0, 3.0, 0.0, 4.0, 3.0, 0.0, 0.0, 0.0, 3.0, 2.0, 2.0, 2.0, 0.0, 0.0, 0.0, 2.0, 2.0, 0.0, 0.0, 0.0, 2.0, 0.0, 0.0, 3.0, 0.0, 2.0, 2.0, 0.0, 0.0, 0.0, 2.0, 0.0, 2.0, 0.0, 2.0, 0.0, 0.0, 0.0, 0.0, 0.0, 2.0, 2.0, 2.0, 3.0, 0.0, 0.0, 2.0, 0.0, 0.0, 0.0, 0.0, 0.0, 2.0, 2.0, 0.0, 0.0, 0.0, 0.0, 10.0, 0.0, 0.0, 2.0, 0.0, 4.0, 2.0, 0.0, 0.0, 0.0, 0.0, 3.0, 0.0, 0.0, 0.0, 0.0, 0.0, 0.0, 2.0, 0.0, 0.0, 2.0, 4.0, 0.0, 4.0, 0.0, 0.0, 0.0, 0.0, 0.0, 0.0, 0.0, 2.0, 2.0, 2.0, 0.0, 2.0, 3.0, 0.0, 0.0, 0.0, 0.0, 2.0, 0.0, 2.0, 0.0, 0.0, 5.0, 0.0]\n",
      "\n",
      "\n",
      "Column: night_mainland\n",
      "Lower_Bound: -5.0\n",
      "Upper_Bound: 19.0\n",
      "Outliers: [60.0, 20.0, 100.0, 60.0, 42.0, 20.0, 30.0, 20.0, 30.0, 30.0, 35.0, 44.0, 40.0, 60.0, 23.0, 25.0, 45.0, 50.0, 26.0, 21.0, 20.0, 60.0, 20.0, 30.0, 42.0, 35.0, 56.0, 20.0, 45.0, 30.0, 22.0, 33.0, 25.0, 23.0, 30.0, 30.0, 90.0, 45.0, 30.0, 30.0, 28.0, 35.0, 20.0, 120.0, 24.0, 25.0, 21.0, 28.0, 56.0, 63.0, 24.0, 21.0, 22.0, 20.0, 24.0, 20.0, 27.0, 248.0, 31.0, 70.0, 25.0, 75.0, 30.0, 30.0, 90.0, 62.0, 60.0, 30.0, 24.0, 25.0, 86.0, 30.0, 36.0, 34.0, 35.0, 42.0, 20.0, 30.0, 22.0, 90.0, 30.0, 30.0, 38.0, 40.0, 21.0, 90.0, 90.0, 40.0, 54.0, 29.0, 29.0, 30.0, 25.0, 21.0, 25.0, 35.0, 27.0, 45.0, 29.0, 60.0, 24.0, 20.0, 20.0, 28.0, 77.0, 48.0, 30.0, 30.0, 32.0, 21.0, 30.0, 30.0, 30.0, 20.0, 40.0, 25.0, 31.0, 21.0, 21.0, 27.0, 27.0, 40.0, 28.0, 30.0, 42.0, 30.0, 22.0, 49.0, 120.0, 60.0, 23.0, 30.0, 30.0, 22.0, 30.0, 23.0, 180.0, 20.0, 23.0, 28.0, 21.0, 300.0, 27.0, 22.0, 43.0, 39.0, 21.0, 20.0, 54.0, 120.0, 21.0, 30.0, 83.0, 29.0, 21.0, 26.0, 30.0, 21.0, 20.0, 90.0, 20.0, 42.0, 21.0, 181.0, 21.0, 60.0, 30.0, 58.0, 90.0, 29.0, 68.0, 60.0, 35.0, 28.0, 30.0, 28.0, 21.0, 20.0, 35.0, 21.0, 88.0, 60.0, 23.0, 45.0, 48.0, 21.0, 21.0, 20.0, 30.0, 23.0, 288.0, 45.0, 21.0, 25.0, 22.0, 50.0, 28.0, 23.0, 55.0, 21.0, 30.0, 21.0, 21.0, 21.0, 21.0, 25.0, 25.0, 30.0, 24.0, 37.0, 23.0, 30.0, 30.0, 20.0, 90.0, 30.0, 23.0, 24.0, 30.0, 30.0, 60.0, 23.0, 30.0, 21.0, 32.0, 30.0, 45.0, 35.0, 60.0, 60.0, 47.0, 45.0, 90.0, 118.0, 40.0, 30.0, 22.0, 92.0, 42.0, 21.0, 20.0, 30.0, 69.0, 70.0, 25.0, 21.0, 36.0, 20.0, 44.0, 25.0, 25.0, 21.0, 28.0, 21.0, 33.0, 21.0, 45.0, 20.0, 50.0, 279.0, 300.0, 30.0, 30.0, 23.0, 90.0, 24.0, 30.0, 30.0, 22.0, 27.0, 37.0, 37.0, 20.0, 60.0, 22.0, 30.0, 70.0, 55.0, 30.0, 23.0, 24.0, 52.0, 21.0, 28.0, 70.0, 85.0, 62.0, 37.0, 60.0, 45.0, 28.0, 22.0, 21.0, 20.0, 52.0, 29.0, 46.0, 80.0, 20.0, 60.0, 30.0, 35.0, 44.0, 20.0, 21.0, 21.0, 22.0, 44.0, 45.0, 30.0, 30.0, 32.0, 20.0, 49.0, 39.0, 21.0, 49.0, 28.0, 70.0, 22.0, 30.0, 54.0, 21.0, 25.0, 20.0, 90.0, 50.0, 21.0, 24.0, 30.0, 35.0, 28.0, 30.0, 29.0, 56.0, 29.0, 30.0, 46.0, 20.0, 45.0, 56.0, 122.0, 60.0, 34.0, 62.0, 36.0, 60.0, 30.0, 365.0, 30.0, 55.0, 23.0, 21.0, 70.0, 87.0, 50.0, 20.0, 20.0, 21.0, 20.0, 240.0, 60.0, 61.0, 35.0, 60.0, 21.0, 29.0, 25.0, 210.0, 39.0, 30.0, 21.0, 26.0, 56.0, 69.0, 24.0, 30.0, 180.0, 22.0, 20.0, 35.0, 21.0, 30.0, 20.0, 30.0, 30.0, 47.0, 50.0, 30.0, 20.0, 48.0, 20.0, 30.0, 42.0, 25.0, 30.0, 55.0, 39.0, 60.0, 90.0, 60.0, 33.0, 42.0, 20.0, 27.0, 44.0, 30.0, 60.0, 27.0, 30.0, 60.0, 20.0, 32.0, 29.0, 26.0, 60.0, 30.0, 68.0, 45.0, 33.0, 47.0, 24.0, 57.0, 21.0, 70.0, 49.0, 20.0, 20.0, 57.0, 22.0, 24.0, 42.0, 63.0, 60.0, 45.0, 66.0, 30.0, 60.0, 24.0, 90.0, 87.0, 30.0, 23.0, 29.0, 25.0, 20.0, 32.0, 21.0, 37.0, 30.0, 27.0, 60.0, 20.0, 47.0, 20.0, 20.0, 30.0, 93.0, 20.0, 60.0, 26.0, 180.0, 22.0, 29.0, 30.0, 20.0, 20.0, 35.0, 42.0, 21.0, 30.0, 20.0, 90.0, 34.0, 30.0, 36.0, 30.0, 26.0, 20.0, 29.0, 21.0, 21.0, 21.0, 34.0, 43.0, 56.0, 21.0, 42.0, 50.0, 104.0, 26.0, 20.0, 27.0, 86.0, 20.0, 24.0, 20.0, 45.0, 43.0, 29.0, 21.0, 54.0, 21.0, 40.0, 20.0, 21.0, 70.0, 20.0, 23.0, 20.0, 20.0, 30.0, 49.0, 42.0, 30.0, 21.0, 24.0, 22.0, 20.0, 20.0, 26.0, 60.0, 25.0, 60.0, 76.0, 90.0, 30.0, 60.0, 30.0, 30.0, 21.0, 40.0, 27.0, 39.0, 30.0, 24.0, 30.0, 30.0, 80.0, 26.0, 21.0, 27.0, 42.0, 30.0, 26.0, 21.0, 30.0, 20.0, 33.0, 60.0, 90.0, 35.0, 20.0, 26.0, 50.0, 20.0, 40.0, 20.0, 30.0, 42.0, 60.0, 43.0, 33.0, 20.0, 60.0, 60.0, 30.0, 90.0, 61.0, 30.0, 27.0, 55.0, 21.0, 30.0, 90.0, 79.0, 63.0, 21.0, 27.0, 20.0, 48.0, 36.0, 30.0, 21.0, 22.0, 25.0, 21.0, 20.0, 20.0, 20.0, 22.0, 20.0, 25.0, 25.0, 90.0, 22.0, 25.0, 24.0, 21.0, 27.0, 21.0, 90.0, 35.0, 24.0, 70.0, 28.0, 60.0, 30.0, 24.0, 20.0, 66.0, 21.0, 30.0, 80.0, 27.0, 23.0, 24.0, 20.0, 23.0, 32.0, 33.0, 28.0, 90.0, 20.0, 23.0, 21.0, 90.0, 45.0, 21.0, 37.0, 21.0, 80.0, 30.0, 22.0, 34.0, 60.0, 28.0, 50.0, 30.0, 30.0, 45.0, 20.0, 21.0, 24.0, 30.0, 26.0, 60.0, 54.0, 28.0, 47.0, 20.0, 180.0, 90.0, 21.0, 21.0, 22.0, 35.0, 21.0, 45.0, 50.0, 20.0, 26.0, 24.0, 20.0, 35.0, 46.0, 35.0, 90.0, 21.0, 65.0, 30.0, 25.0, 89.0, 27.0, 22.0, 150.0, 32.0, 25.0, 160.0, 25.0, 20.0, 90.0, 20.0, 20.0, 27.0, 20.0, 45.0, 60.0, 28.0, 45.0, 23.0, 31.0, 35.0, 60.0, 90.0, 33.0, 32.0, 90.0, 39.0, 30.0, 30.0, 29.0, 24.0, 42.0, 30.0, 21.0, 37.0, 30.0, 43.0, 28.0, 20.0, 21.0, 20.0, 20.0, 20.0, 25.0, 54.0, 20.0, 30.0, 20.0, 32.0, 21.0, 44.0, 42.0, 30.0, 20.0, 20.0, 30.0, 29.0, 56.0, 22.0, 60.0, 27.0, 40.0, 30.0, 24.0, 60.0, 60.0, 41.0, 90.0, 20.0, 90.0, 57.0, 60.0, 23.0, 20.0, 39.0, 21.0, 30.0, 30.0, 74.0, 30.0, 23.0, 48.0, 31.0, 35.0, 21.0, 20.0, 21.0, 34.0, 23.0, 21.0, 40.0, 30.0, 30.0, 34.0, 30.0, 30.0, 30.0, 21.0, 24.0, 43.0, 24.0, 20.0, 21.0, 31.0, 47.0, 30.0, 30.0, 31.0, 25.0, 20.0, 24.0, 75.0, 25.0, 48.0, 24.0, 90.0, 30.0, 90.0, 24.0, 20.0, 53.0, 22.0, 21.0, 21.0, 60.0, 30.0, 48.0, 38.0, 26.0, 21.0, 42.0, 90.0, 20.0, 25.0, 31.0, 40.0, 40.0, 21.0, 35.0, 27.0, 126.0, 60.0, 20.0, 20.0, 60.0, 60.0, 21.0, 26.0, 31.0, 45.0, 30.0, 27.0, 60.0, 30.0, 60.0, 42.0, 32.0, 20.0, 29.0, 20.0, 20.0, 20.0, 21.0, 21.0, 60.0, 31.0, 42.0, 56.0, 64.0, 45.0, 40.0, 35.0, 32.0, 35.0, 60.0, 46.0, 50.0, 30.0, 23.0, 33.0, 26.0, 20.0, 20.0, 28.0, 21.0, 28.0, 26.0, 60.0, 150.0, 42.0, 36.0, 26.0, 30.0, 63.0, 62.0, 40.0, 31.0, 48.0, 21.0, 30.0, 24.0, 51.0, 90.0, 20.0, 90.0, 20.0, 71.0, 30.0, 22.0, 40.0, 30.0, 30.0, 40.0, 23.0, 63.0, 22.0, 22.0, 30.0, 28.0, 28.0, 30.0, 30.0, 34.0, 90.0, 30.0, 21.0, 21.0, 50.0, 21.0, 30.0, 30.0, 150.0, 37.0, 90.0, 30.0, 21.0, 32.0, 42.0, 24.0, 29.0, 30.0, 30.0, 33.0, 60.0, 42.0, 26.0, 30.0, 60.0, 29.0, 20.0, 26.0, 26.0, 30.0, 40.0, 22.0, 20.0, 20.0, 21.0, 25.0, 23.0, 25.0, 20.0, 30.0, 20.0, 34.0, 20.0, 20.0, 60.0, 39.0, 21.0, 21.0, 27.0, 20.0, 30.0, 25.0, 63.0, 35.0, 42.0, 21.0, 20.0, 28.0, 30.0, 25.0, 56.0, 30.0, 90.0, 90.0, 20.0, 20.0, 35.0, 23.0, 30.0, 30.0, 28.0, 24.0, 21.0, 31.0, 30.0, 33.0, 48.0, 20.0, 30.0, 30.0, 70.0, 30.0, 20.0, 28.0, 30.0, 31.0, 56.0, 182.0, 90.0, 21.0, 28.0, 90.0, 28.0, 21.0, 90.0, 28.0, 50.0, 25.0, 21.0, 30.0, 36.0, 20.0, 28.0, 28.0, 21.0, 43.0, 30.0, 20.0, 26.0, 20.0, 24.0, 88.0, 60.0, 22.0, 20.0, 28.0, 20.0, 21.0, 29.0, 21.0, 27.0, 80.0, 37.0, 30.0, 45.0, 26.0, 60.0, 20.0, 20.0, 21.0, 25.0, 28.0, 30.0, 42.0, 33.0, 38.0, 20.0, 21.0, 130.0, 20.0, 21.0, 20.0, 23.0, 30.0, 21.0, 45.0, 55.0, 33.0, 30.0, 34.0, 45.0, 30.0, 25.0, 30.0, 27.0, 30.0, 21.0, 23.0, 35.0, 24.0, 20.0, 68.0, 65.0, 31.0, 26.0, 63.0, 21.0, 30.0, 24.0, 37.0, 30.0, 36.0, 27.0, 50.0, 45.0, 66.0, 180.0, 27.0, 27.0, 21.0, 49.0, 20.0, 40.0, 30.0, 23.0, 30.0, 90.0, 25.0, 30.0, 80.0, 21.0, 82.0, 31.0, 30.0, 25.0, 63.0, 20.0, 63.0, 80.0, 42.0, 21.0, 84.0, 30.0, 40.0, 23.0, 50.0, 27.0, 46.0, 36.0, 21.0, 60.0, 20.0, 23.0, 20.0, 27.0, 20.0, 22.0, 40.0, 21.0, 21.0, 29.0, 20.0, 25.0, 46.0, 20.0, 54.0, 38.0, 30.0, 22.0, 23.0, 42.0, 30.0, 86.0, 60.0, 65.0, 90.0, 20.0, 27.0, 20.0, 21.0, 100.0, 20.0, 25.0, 40.0, 25.0, 60.0, 21.0, 120.0, 21.0, 21.0, 21.0, 20.0, 23.0, 22.0, 40.0, 30.0, 20.0, 32.0, 364.0, 25.0, 20.0, 30.0, 51.0, 42.0, 29.0, 30.0, 60.0, 28.0, 21.0, 54.0, 25.0, 25.0, 27.0, 30.0, 40.0, 20.0, 35.0, 21.0, 56.0, 21.0, 30.0, 20.0, 85.0, 21.0, 20.0, 35.0, 20.0, 68.0, 21.0, 34.0, 20.0, 21.0, 35.0, 21.0, 30.0, 90.0, 21.0, 30.0, 40.0, 28.0, 21.0, 24.0, 30.0, 49.0, 22.0, 39.0, 24.0, 20.0, 22.0, 23.0, 42.0, 60.0, 22.0, 25.0, 90.0, 25.0, 32.0, 64.0, 21.0, 39.0, 150.0, 20.0, 20.0, 21.0, 26.0, 28.0, 90.0, 55.0, 22.0, 20.0, 23.0, 43.0, 20.0, 40.0, 32.0, 30.0, 42.0, 28.0, 63.0, 23.0, 30.0, 35.0, 59.0, 32.0, 60.0, 70.0, 25.0, 45.0, 25.0, 26.0, 20.0, 21.0, 20.0, 49.0, 30.0, 42.0, 90.0, 60.0, 364.0, 21.0, 90.0, 33.0, 30.0, 60.0, 20.0, 21.0, 44.0, 94.0, 70.0, 90.0, 22.0, 22.0, 20.0, 80.0, 39.0, 45.0, 45.0, 24.0, 21.0, 20.0, 48.0, 28.0, 33.0, 20.0, 20.0, 23.0, 20.0, 50.0, 30.0, 42.0, 21.0, 21.0, 21.0, 65.0, 90.0, 40.0, 55.0, 30.0, 38.0, 20.0, 22.0, 40.0, 45.0, 30.0, 30.0, 50.0, 44.0, 50.0, 42.0, 55.0, 30.0, 20.0, 21.0, 20.0, 32.0, 23.0, 85.0, 26.0, 30.0, 56.0, 26.0, 20.0, 23.0, 30.0, 30.0, 22.0, 28.0, 30.0, 47.0, 27.0, 21.0, 21.0, 21.0, 28.0, 20.0, 29.0, 25.0, 26.0, 54.0, 30.0, 33.0, 21.0, 27.0, 59.0, 59.0, 21.0, 34.0, 21.0, 60.0, 48.0, 20.0, 20.0, 43.0, 60.0, 30.0, 20.0, 30.0, 25.0, 21.0, 23.0, 28.0, 24.0, 22.0, 49.0, 22.0, 55.0, 30.0, 25.0, 21.0, 26.0, 30.0, 28.0, 20.0, 36.0, 50.0, 42.0, 26.0, 90.0, 32.0, 22.0, 29.0, 26.0, 60.0, 58.0, 58.0, 50.0, 60.0, 68.0, 29.0, 20.0, 41.0, 31.0, 20.0, 30.0, 36.0, 30.0, 20.0, 50.0, 34.0, 21.0, 27.0, 26.0, 21.0, 23.0, 90.0, 60.0, 75.0, 60.0, 68.0, 27.0, 30.0, 33.0, 36.0, 35.0, 28.0, 88.0, 53.0, 25.0, 24.0, 60.0, 30.0, 20.0, 30.0, 23.0, 21.0, 150.0, 39.0, 24.0, 50.0, 20.0, 20.0, 47.0, 21.0, 42.0, 30.0, 30.0, 20.0, 28.0, 21.0, 25.0, 21.0, 24.0, 20.0, 20.0, 27.0, 90.0, 26.0, 20.0, 22.0, 30.0, 21.0, 20.0, 20.0, 25.0, 20.0, 20.0, 27.0, 30.0, 60.0, 60.0, 20.0, 90.0, 50.0, 29.0, 21.0, 90.0, 20.0, 60.0, 20.0, 90.0, 30.0, 48.0, 21.0, 39.0, 28.0, 40.0, 30.0, 42.0, 45.0, 28.0, 30.0, 21.0, 21.0, 26.0, 21.0, 41.0, 38.0, 60.0, 36.0, 62.0, 20.0, 90.0, 20.0, 75.0, 21.0, 42.0, 20.0, 60.0, 41.0, 24.0, 30.0, 20.0, 21.0, 23.0, 60.0, 21.0, 33.0, 20.0, 29.0, 21.0, 25.0, 42.0, 30.0, 35.0, 21.0, 21.0, 58.0, 24.0, 70.0, 26.0, 32.0, 30.0, 20.0, 21.0, 30.0, 60.0, 33.0, 29.0, 23.0, 35.0, 20.0, 29.0, 61.0, 23.0, 288.0, 40.0, 20.0, 30.0, 30.0, 35.0, 20.0, 20.0, 21.0, 23.0, 70.0, 31.0, 26.0, 30.0, 20.0, 29.0, 54.0, 22.0, 20.0, 21.0, 20.0, 25.0, 32.0, 22.0, 30.0, 70.0, 90.0, 90.0, 70.0, 45.0, 64.0, 34.0, 42.0, 20.0, 40.0, 31.0, 23.0, 22.0, 69.0, 23.0, 30.0, 20.0, 70.0, 37.0, 32.0, 20.0, 21.0, 30.0, 110.0, 20.0, 53.0, 43.0, 34.0, 20.0, 42.0, 60.0, 20.0, 23.0, 20.0, 34.0, 56.0, 35.0, 29.0, 62.0, 43.0, 30.0, 29.0, 61.0, 26.0, 60.0, 46.0, 20.0, 30.0, 28.0, 35.0, 37.0, 43.0, 30.0, 40.0, 21.0, 42.0, 21.0, 33.0, 23.0, 53.0, 48.0, 22.0, 40.0, 36.0, 22.0, 365.0, 31.0, 30.0, 23.0, 20.0, 22.0, 23.0, 91.0, 25.0, 23.0, 21.0, 26.0, 23.0, 24.0, 22.0, 20.0, 30.0, 52.0, 23.0, 24.0, 30.0, 28.0, 130.0, 42.0, 22.0, 30.0, 36.0, 70.0, 64.0, 50.0, 21.0, 20.0, 26.0, 41.0, 21.0, 31.0, 90.0, 65.0, 21.0, 21.0, 22.0, 23.0, 60.0, 83.0, 33.0, 35.0, 23.0, 32.0, 30.0, 60.0, 60.0, 44.0, 32.0, 42.0, 22.0, 20.0, 21.0, 46.0, 140.0, 44.0, 40.0, 32.0, 27.0, 34.0, 24.0, 69.0, 27.0, 59.0, 24.0, 33.0, 24.0, 20.0, 26.0, 23.0, 21.0, 55.0, 21.0, 90.0, 70.0, 30.0, 60.0, 37.0, 23.0, 28.0, 21.0, 30.0, 90.0, 99.0, 23.0, 23.0, 20.0, 100.0, 35.0, 58.0, 24.0, 55.0, 24.0, 50.0, 33.0, 79.0, 61.0, 30.0, 22.0, 81.0, 22.0, 30.0, 89.0, 21.0, 60.0, 21.0, 22.0, 21.0, 45.0, 33.0, 24.0, 20.0, 28.0, 28.0, 24.0, 40.0, 45.0, 24.0, 60.0, 60.0, 50.0, 21.0, 35.0, 40.0, 21.0, 21.0, 30.0, 38.0, 20.0, 25.0, 22.0, 29.0, 90.0, 21.0, 23.0, 21.0, 25.0, 49.0, 70.0, 20.0, 26.0, 21.0, 40.0, 366.0, 38.0, 30.0, 31.0, 31.0, 70.0, 21.0, 21.0, 21.0, 70.0, 20.0, 21.0, 50.0, 60.0, 30.0, 21.0, 30.0, 47.0, 21.0, 24.0, 21.0, 20.0, 20.0, 55.0, 23.0, 20.0, 21.0, 48.0, 20.0, 20.0, 20.0, 58.0, 26.0, 60.0, 31.0, 42.0, 60.0, 45.0, 38.0, 60.0, 30.0, 22.0, 65.0, 60.0, 26.0, 30.0, 145.0, 52.0, 21.0, 37.0, 35.0, 20.0, 70.0, 90.0, 45.0, 20.0, 180.0, 30.0, 45.0, 92.0, 20.0, 26.0, 42.0, 20.0, 35.0, 59.0, 28.0, 60.0, 30.0, 21.0, 61.0, 21.0, 49.0, 21.0, 30.0, 35.0, 40.0, 20.0, 39.0, 28.0, 30.0, 21.0, 30.0, 29.0, 20.0, 21.0, 122.0, 70.0, 35.0, 37.0, 25.0, 150.0, 24.0, 20.0, 21.0, 24.0, 20.0, 79.0, 26.0, 35.0, 54.0, 30.0, 36.0, 21.0, 60.0, 45.0, 30.0, 30.0, 30.0, 20.0, 50.0, 56.0, 46.0, 35.0, 22.0, 34.0, 23.0, 21.0, 39.0, 21.0, 21.0, 30.0, 21.0, 31.0, 60.0, 42.0, 30.0, 42.0, 24.0, 20.0, 45.0, 180.0, 34.0, 27.0, 39.0, 20.0, 28.0, 27.0, 24.0, 21.0, 28.0, 21.0, 20.0, 40.0, 22.0, 60.0, 23.0, 24.0, 24.0, 100.0, 180.0, 42.0, 22.0, 21.0, 60.0, 40.0, 26.0, 22.0, 20.0, 28.0, 72.0, 28.0, 30.0, 21.0, 31.0, 270.0, 60.0, 25.0, 21.0, 30.0, 60.0, 23.0, 29.0, 28.0, 65.0, 20.0, 60.0, 21.0, 20.0, 23.0, 20.0, 42.0, 27.0, 56.0, 20.0, 21.0, 53.0, 25.0, 21.0, 30.0, 92.0, 25.0, 30.0, 25.0, 45.0, 28.0, 42.0, 34.0, 20.0, 32.0, 20.0, 150.0, 31.0, 40.0, 37.0, 60.0, 25.0, 25.0, 64.0, 25.0, 29.0, 21.0, 20.0, 29.0, 35.0, 38.0, 57.0, 20.0, 25.0, 37.0, 22.0, 20.0, 33.0, 90.0, 20.0, 21.0, 40.0, 142.0, 20.0, 93.0, 42.0, 21.0, 49.0, 21.0, 25.0, 45.0, 30.0, 55.0, 35.0, 56.0, 30.0, 30.0, 24.0, 22.0, 180.0, 37.0, 26.0, 90.0, 22.0, 22.0, 23.0, 40.0, 30.0, 30.0, 120.0, 30.0, 20.0, 30.0, 26.0, 29.0, 60.0, 55.0, 24.0, 45.0, 45.0, 51.0, 60.0, 56.0, 30.0, 22.0, 25.0, 27.0, 30.0, 60.0, 20.0, 28.0, 62.0, 70.0, 29.0, 30.0, 40.0, 24.0, 23.0, 28.0, 30.0, 21.0, 42.0, 45.0, 29.0, 21.0, 26.0, 27.0, 23.0, 23.0, 42.0, 56.0, 22.0, 37.0, 20.0, 21.0, 33.0, 60.0, 20.0, 45.0, 37.0, 20.0, 35.0, 28.0, 20.0, 36.0, 90.0, 86.0, 20.0, 30.0, 42.0, 20.0, 20.0, 30.0, 25.0, 86.0, 20.0, 61.0, 30.0, 28.0, 180.0, 40.0, 50.0, 30.0, 30.0, 21.0, 55.0, 24.0, 30.0, 35.0, 31.0, 664.0, 20.0, 40.0, 88.0, 25.0, 42.0, 30.0, 81.0, 40.0, 26.0, 32.0, 120.0, 70.0, 30.0, 120.0, 23.0, 24.0, 30.0, 90.0, 30.0, 21.0, 20.0, 20.0, 30.0, 39.0, 20.0, 21.0, 70.0, 20.0, 25.0, 22.0, 25.0, 60.0, 42.0, 20.0, 24.0, 61.0, 21.0, 60.0, 60.0, 21.0, 22.0, 30.0, 23.0, 24.0, 28.0, 20.0, 24.0, 60.0, 60.0, 22.0, 20.0, 45.0, 40.0, 30.0, 25.0, 20.0, 20.0, 21.0, 42.0, 31.0, 26.0, 60.0, 60.0, 21.0]\n",
      "\n",
      "\n",
      "Column: night_zanzibar\n",
      "Lower_Bound: -4.0\n",
      "Upper_Bound: 8.0\n",
      "Outliers: [10.0, 11.0, 15.0, 11.0, 10.0, 35.0, 10.0, 14.0, 12.0, 44.0, 16.0, 9.0, 120.0, 14.0, 11.0, 10.0, 19.0, 9.0, 20.0, 19.0, 21.0, 14.0, 108.0, 9.0, 20.0, 9.0, 10.0, 9.0, 12.0, 13.0, 14.0, 14.0, 10.0, 11.0, 12.0, 14.0, 70.0, 10.0, 9.0, 9.0, 14.0, 11.0, 9.0, 14.0, 10.0, 10.0, 25.0, 14.0, 12.0, 13.0, 13.0, 10.0, 9.0, 13.0, 15.0, 14.0, 10.0, 12.0, 14.0, 13.0, 9.0, 10.0, 10.0, 9.0, 41.0, 22.0, 13.0, 35.0, 11.0, 10.0, 10.0, 19.0, 9.0, 15.0, 9.0, 14.0, 10.0, 15.0, 10.0, 15.0, 10.0, 15.0, 14.0, 10.0, 9.0, 10.0, 11.0, 14.0, 12.0, 12.0, 12.0, 12.0, 15.0, 10.0, 30.0, 10.0, 9.0, 11.0, 15.0, 9.0, 11.0, 30.0, 14.0, 9.0, 11.0, 9.0, 12.0, 10.0, 13.0, 14.0, 14.0, 14.0, 16.0, 90.0, 14.0, 22.0, 13.0, 10.0, 14.0, 11.0, 10.0, 10.0, 10.0, 12.0, 10.0, 10.0, 15.0, 14.0, 9.0, 9.0, 9.0, 10.0, 14.0, 14.0, 11.0, 17.0, 9.0, 11.0, 30.0, 10.0, 23.0, 20.0, 10.0, 13.0, 13.0, 30.0, 10.0, 10.0, 9.0, 14.0, 28.0, 12.0, 10.0, 15.0, 20.0, 11.0, 14.0, 15.0, 14.0, 9.0, 13.0, 14.0, 10.0, 10.0, 12.0, 9.0, 9.0, 12.0, 10.0, 14.0, 10.0, 14.0, 14.0, 10.0, 10.0, 10.0, 21.0, 9.0, 14.0, 28.0, 60.0, 12.0, 12.0, 14.0, 12.0, 14.0, 15.0, 17.0, 20.0, 11.0, 14.0, 10.0, 14.0, 10.0, 10.0, 17.0, 25.0, 11.0, 13.0, 13.0, 12.0, 10.0, 10.0, 21.0, 14.0, 10.0, 10.0, 13.0, 16.0, 11.0, 14.0, 21.0, 9.0, 9.0, 12.0, 9.0, 9.0, 11.0, 11.0, 13.0, 10.0, 10.0, 15.0, 15.0, 10.0, 12.0, 10.0, 13.0, 14.0, 14.0, 13.0, 14.0, 10.0, 9.0, 9.0, 12.0, 13.0, 9.0, 17.0, 14.0, 13.0, 10.0, 20.0, 100.0, 10.0, 10.0, 10.0, 11.0, 14.0, 14.0, 14.0, 10.0, 14.0, 21.0, 14.0, 14.0, 10.0, 10.0, 10.0, 15.0, 10.0, 15.0, 28.0, 12.0, 12.0, 18.0, 14.0, 21.0, 20.0, 9.0, 14.0, 14.0, 10.0, 9.0, 21.0, 20.0, 23.0, 13.0, 45.0, 10.0, 11.0, 14.0, 14.0, 51.0, 10.0, 9.0, 10.0, 12.0, 14.0, 9.0, 14.0, 15.0, 14.0, 12.0, 9.0, 17.0, 10.0, 13.0, 9.0, 13.0, 64.0, 15.0, 10.0, 14.0, 9.0, 13.0, 14.0, 13.0, 12.0, 39.0, 14.0, 10.0, 9.0, 61.0, 10.0, 9.0, 10.0, 14.0, 9.0, 10.0, 28.0, 12.0, 10.0, 60.0, 10.0, 14.0, 10.0, 14.0, 10.0, 9.0, 14.0, 14.0, 13.0, 10.0, 11.0, 9.0, 12.0, 9.0, 15.0, 10.0, 9.0, 15.0, 10.0, 15.0, 14.0, 14.0, 14.0, 12.0, 14.0, 20.0, 10.0, 9.0, 21.0, 60.0, 14.0, 12.0, 11.0, 15.0, 12.0, 10.0, 13.0, 10.0, 9.0, 9.0, 12.0, 10.0, 21.0, 22.0, 13.0, 14.0, 14.0, 11.0, 10.0, 14.0, 28.0, 14.0, 10.0, 14.0, 20.0, 10.0, 10.0, 9.0, 11.0, 12.0, 14.0, 11.0, 19.0, 11.0, 9.0, 11.0, 10.0, 9.0, 15.0, 9.0, 14.0, 17.0, 13.0, 11.0, 10.0, 14.0, 12.0, 13.0, 10.0, 12.0, 14.0, 13.0, 14.0, 14.0, 90.0, 14.0, 33.0, 12.0, 17.0, 10.0, 15.0, 22.0, 14.0, 9.0, 9.0, 10.0, 9.0, 21.0, 55.0, 13.0, 14.0, 10.0, 20.0, 9.0, 14.0, 9.0, 12.0, 9.0, 10.0, 10.0, 14.0, 11.0, 9.0, 14.0, 10.0, 15.0, 11.0, 12.0, 10.0, 20.0, 9.0, 9.0, 9.0, 12.0, 12.0, 14.0, 14.0, 16.0, 10.0, 10.0, 12.0, 17.0, 12.0, 13.0, 10.0, 9.0, 9.0, 9.0, 14.0, 15.0, 11.0, 14.0, 12.0, 10.0, 14.0, 16.0, 11.0, 9.0, 42.0, 10.0, 10.0, 10.0, 9.0, 11.0, 9.0, 9.0, 30.0, 20.0, 14.0, 26.0, 9.0, 11.0, 9.0, 9.0, 15.0, 30.0, 14.0, 10.0, 15.0, 11.0, 10.0, 9.0, 10.0, 19.0, 10.0, 25.0, 20.0, 12.0, 10.0, 30.0, 14.0, 14.0, 20.0, 14.0, 21.0, 10.0, 23.0, 23.0, 15.0, 10.0, 14.0, 9.0, 20.0, 14.0, 15.0, 10.0, 17.0, 9.0, 22.0, 14.0, 10.0, 21.0, 9.0, 13.0, 9.0, 20.0, 15.0, 14.0, 10.0, 10.0, 9.0, 10.0, 11.0, 9.0, 10.0, 11.0, 9.0, 10.0, 35.0, 12.0, 16.0, 14.0, 11.0, 9.0, 10.0, 9.0, 21.0, 18.0, 14.0, 16.0, 17.0, 18.0, 14.0, 11.0, 17.0, 11.0, 15.0, 10.0, 16.0, 10.0, 16.0, 9.0, 9.0, 12.0, 11.0, 15.0, 60.0, 11.0, 21.0, 14.0, 15.0, 16.0, 9.0, 13.0, 9.0, 35.0, 10.0, 9.0, 34.0, 10.0, 21.0, 11.0, 14.0, 41.0, 11.0, 10.0, 15.0, 9.0, 14.0, 14.0, 10.0, 10.0, 10.0, 9.0, 15.0, 30.0, 15.0, 10.0, 15.0, 9.0, 9.0, 10.0, 19.0, 14.0, 12.0, 10.0, 14.0, 18.0, 12.0, 10.0, 12.0, 9.0, 14.0, 14.0, 10.0, 20.0, 14.0, 23.0, 11.0, 10.0, 50.0, 13.0, 11.0, 14.0, 16.0, 9.0, 48.0, 11.0, 9.0, 14.0, 20.0, 14.0, 11.0, 14.0, 14.0, 28.0, 12.0, 9.0, 10.0, 14.0, 12.0, 10.0, 10.0, 10.0, 10.0, 9.0, 60.0, 19.0, 30.0, 9.0, 20.0, 14.0, 9.0, 9.0, 9.0, 13.0, 10.0, 9.0, 9.0, 13.0, 17.0, 35.0, 14.0, 14.0, 18.0, 10.0, 25.0, 12.0, 14.0, 14.0, 13.0, 12.0, 10.0, 10.0, 35.0, 14.0, 9.0, 14.0, 15.0, 10.0, 10.0, 10.0, 10.0, 20.0, 14.0, 9.0, 15.0, 9.0, 107.0, 10.0, 10.0, 10.0, 10.0, 40.0, 9.0, 17.0, 15.0, 10.0, 14.0, 75.0, 10.0, 15.0, 11.0, 10.0, 14.0, 11.0, 17.0, 15.0, 10.0, 9.0, 17.0, 9.0, 10.0, 14.0, 14.0, 14.0, 11.0, 21.0, 14.0, 9.0, 10.0, 17.0, 10.0, 14.0, 27.0, 15.0, 12.0, 14.0, 18.0, 21.0, 10.0, 11.0, 14.0, 13.0, 10.0, 9.0, 14.0, 9.0, 13.0, 9.0, 10.0, 13.0, 14.0, 10.0, 10.0, 19.0, 10.0, 9.0, 14.0, 10.0, 9.0, 14.0, 10.0, 28.0, 13.0, 14.0, 27.0, 10.0, 10.0, 11.0, 18.0, 10.0, 14.0, 16.0, 10.0, 10.0, 12.0, 12.0, 10.0, 9.0, 11.0, 15.0, 14.0, 87.0, 20.0, 13.0, 14.0, 9.0, 14.0, 11.0, 10.0, 19.0, 14.0, 9.0, 9.0, 14.0, 14.0, 10.0, 10.0, 20.0, 14.0, 20.0, 15.0, 9.0, 13.0, 14.0, 12.0, 12.0, 14.0, 21.0, 14.0, 14.0, 14.0, 11.0, 13.0, 120.0, 12.0, 9.0, 16.0, 14.0, 21.0, 14.0, 9.0, 11.0, 14.0, 80.0, 21.0, 20.0, 9.0, 10.0, 12.0, 10.0, 9.0, 9.0, 9.0, 15.0, 14.0, 10.0, 12.0, 17.0, 9.0, 10.0, 13.0, 14.0, 13.0, 15.0, 28.0, 14.0, 11.0, 10.0, 12.0, 42.0, 30.0, 21.0, 10.0, 16.0, 20.0, 9.0, 12.0, 10.0, 13.0, 15.0, 14.0, 14.0, 10.0, 17.0, 9.0, 23.0, 10.0, 16.0, 18.0, 9.0, 19.0, 13.0, 11.0, 10.0, 30.0, 9.0, 10.0, 14.0, 14.0, 21.0, 10.0, 12.0, 14.0, 12.0, 43.0, 14.0, 12.0, 11.0, 17.0, 10.0, 14.0, 10.0, 12.0, 13.0, 12.0, 240.0, 15.0, 9.0, 14.0, 15.0, 51.0, 12.0, 20.0, 14.0, 15.0, 15.0, 12.0, 12.0, 33.0, 14.0, 12.0, 10.0, 9.0, 9.0, 11.0, 11.0, 14.0, 9.0, 15.0, 9.0, 19.0, 14.0, 12.0, 9.0, 10.0, 46.0, 11.0, 14.0, 21.0, 15.0, 10.0, 14.0, 10.0, 10.0, 20.0, 14.0, 10.0, 14.0, 9.0, 10.0, 14.0, 14.0, 13.0, 14.0, 9.0, 11.0, 11.0, 14.0, 22.0, 17.0, 14.0, 11.0, 11.0, 9.0, 14.0, 21.0, 27.0, 21.0, 13.0, 12.0, 14.0, 9.0, 10.0, 10.0, 10.0, 10.0, 14.0, 10.0, 14.0, 14.0, 10.0, 11.0, 11.0, 13.0, 10.0, 14.0, 19.0, 9.0, 10.0, 10.0, 20.0, 33.0, 9.0, 10.0, 10.0, 14.0, 9.0, 10.0, 9.0, 10.0, 22.0, 13.0, 32.0, 14.0, 9.0, 17.0, 10.0, 11.0, 14.0, 14.0, 9.0, 14.0, 13.0, 14.0, 14.0, 14.0, 10.0, 13.0, 20.0, 9.0, 10.0, 44.0, 13.0, 13.0, 31.0, 12.0, 14.0, 9.0, 9.0, 10.0, 10.0, 13.0, 12.0, 39.0, 15.0, 12.0, 17.0, 12.0, 10.0, 9.0, 11.0, 15.0, 10.0, 14.0, 12.0, 12.0, 13.0, 15.0, 9.0, 15.0, 10.0, 14.0, 10.0, 10.0, 10.0, 11.0, 9.0, 10.0, 14.0, 30.0, 9.0, 9.0, 12.0, 10.0, 30.0, 9.0, 16.0, 10.0, 14.0, 15.0, 60.0, 14.0, 10.0, 19.0, 14.0, 14.0, 10.0, 10.0, 14.0, 14.0, 22.0, 9.0, 17.0, 14.0, 9.0, 12.0, 9.0, 17.0, 10.0, 14.0, 11.0, 14.0, 16.0, 41.0, 14.0, 10.0, 10.0, 11.0, 10.0, 15.0, 16.0, 12.0, 20.0, 10.0, 11.0, 11.0, 10.0, 10.0, 9.0, 10.0, 10.0, 15.0, 21.0, 10.0, 90.0, 14.0, 15.0, 12.0, 9.0, 14.0, 40.0, 13.0, 10.0, 10.0, 10.0, 14.0, 10.0, 14.0, 9.0, 10.0, 20.0, 16.0, 14.0, 9.0, 14.0, 27.0, 9.0, 9.0, 10.0, 11.0, 9.0, 9.0, 86.0, 14.0, 14.0, 13.0, 12.0, 15.0, 10.0, 20.0, 9.0, 18.0, 90.0, 14.0, 41.0, 10.0, 10.0, 18.0, 11.0, 17.0, 14.0, 10.0, 15.0, 9.0, 30.0, 9.0, 10.0, 11.0, 9.0, 23.0, 10.0, 14.0, 10.0, 21.0, 11.0, 10.0, 11.0, 14.0, 10.0, 14.0, 9.0, 9.0, 13.0, 13.0, 15.0, 9.0, 13.0, 10.0, 14.0, 10.0, 13.0, 14.0, 14.0, 9.0, 60.0, 9.0, 25.0, 9.0, 21.0, 15.0, 12.0, 14.0, 14.0, 10.0, 10.0, 35.0, 14.0, 9.0, 11.0, 12.0, 9.0, 14.0, 14.0, 9.0, 14.0, 16.0, 10.0, 21.0, 9.0, 21.0, 9.0, 10.0, 10.0, 10.0, 9.0, 14.0, 43.0, 12.0, 21.0, 9.0, 10.0, 9.0, 10.0, 11.0, 11.0, 18.0, 14.0, 10.0, 14.0, 11.0, 13.0, 14.0, 14.0, 15.0, 11.0, 10.0, 11.0, 10.0, 14.0, 50.0, 10.0, 19.0, 13.0, 10.0, 9.0, 10.0, 14.0, 9.0, 11.0, 15.0, 9.0, 24.0, 19.0, 10.0, 21.0, 11.0, 15.0, 13.0, 12.0, 16.0, 11.0, 14.0, 12.0, 13.0, 14.0, 21.0, 10.0, 18.0, 10.0, 9.0, 60.0, 9.0, 14.0, 30.0, 13.0, 14.0, 10.0, 9.0, 11.0, 14.0, 9.0, 9.0, 13.0, 9.0, 10.0, 22.0, 20.0, 14.0, 12.0, 13.0, 13.0, 9.0, 9.0, 14.0, 20.0, 15.0, 60.0, 14.0, 9.0, 11.0, 18.0, 9.0, 9.0, 10.0, 20.0, 9.0, 10.0, 10.0, 15.0, 12.0, 10.0, 9.0, 13.0, 15.0, 14.0, 10.0, 9.0, 14.0, 10.0, 23.0, 9.0, 10.0, 27.0, 10.0, 21.0, 10.0, 14.0, 10.0, 14.0, 13.0, 14.0, 11.0, 14.0, 9.0, 14.0, 11.0, 14.0, 14.0, 10.0, 11.0, 10.0, 9.0, 14.0, 15.0, 24.0, 9.0, 21.0, 10.0, 18.0, 16.0, 12.0, 11.0, 19.0, 9.0, 20.0, 14.0, 10.0, 12.0, 13.0, 12.0, 17.0, 11.0, 9.0, 90.0, 19.0, 40.0, 25.0, 14.0, 10.0, 21.0, 14.0, 9.0, 9.0, 11.0, 14.0, 14.0, 10.0, 12.0, 15.0, 10.0, 10.0, 14.0, 10.0, 10.0, 13.0, 10.0, 14.0, 14.0, 15.0, 17.0, 14.0, 10.0, 9.0, 10.0, 10.0, 28.0, 15.0, 22.0, 14.0, 10.0, 10.0, 20.0, 27.0, 9.0, 11.0, 15.0, 10.0, 32.0, 9.0, 12.0, 9.0, 17.0, 14.0, 9.0, 15.0, 11.0, 15.0, 14.0, 11.0, 13.0, 13.0, 42.0, 12.0, 15.0, 40.0, 12.0, 14.0, 10.0, 9.0, 10.0, 10.0, 10.0, 10.0, 11.0, 43.0, 16.0, 9.0, 10.0, 22.0, 14.0, 60.0, 10.0, 14.0, 20.0, 9.0, 13.0, 11.0, 35.0, 10.0, 10.0, 12.0, 14.0, 12.0, 10.0, 11.0, 13.0, 19.0, 11.0, 12.0, 35.0, 14.0, 14.0, 12.0, 14.0, 10.0, 11.0, 13.0, 10.0, 11.0, 14.0, 10.0, 56.0, 90.0, 26.0, 14.0, 10.0, 14.0, 14.0, 91.0, 30.0, 15.0, 14.0, 10.0, 9.0, 20.0, 14.0, 10.0, 45.0, 11.0, 10.0, 15.0, 12.0, 14.0, 11.0, 14.0, 11.0, 9.0, 30.0, 10.0, 174.0, 12.0, 14.0, 9.0, 14.0, 12.0, 9.0, 14.0, 11.0, 11.0, 14.0, 10.0, 15.0, 23.0, 9.0, 14.0, 10.0, 41.0, 9.0, 14.0, 9.0, 14.0, 17.0, 9.0, 14.0, 12.0, 12.0, 11.0, 47.0, 9.0, 13.0, 10.0, 9.0, 10.0, 12.0, 9.0, 11.0, 12.0, 13.0, 11.0, 9.0, 12.0, 50.0, 28.0, 11.0, 10.0, 9.0, 20.0, 10.0, 9.0, 14.0, 9.0, 10.0, 20.0, 21.0, 10.0, 16.0, 14.0, 16.0]\n",
      "Outliers Succesfully replaced with mean.\n",
      "Wall time: 3.66 s\n"
     ]
    },
    {
     "data": {
      "text/html": [
       "<div>\n",
       "<style scoped>\n",
       "    .dataframe tbody tr th:only-of-type {\n",
       "        vertical-align: middle;\n",
       "    }\n",
       "\n",
       "    .dataframe tbody tr th {\n",
       "        vertical-align: top;\n",
       "    }\n",
       "\n",
       "    .dataframe thead th {\n",
       "        text-align: right;\n",
       "    }\n",
       "</style>\n",
       "<table border=\"1\" class=\"dataframe\">\n",
       "  <thead>\n",
       "    <tr style=\"text-align: right;\">\n",
       "      <th></th>\n",
       "      <th>Tour_ID</th>\n",
       "      <th>country</th>\n",
       "      <th>age_group</th>\n",
       "      <th>travel_with</th>\n",
       "      <th>total_female</th>\n",
       "      <th>total_male</th>\n",
       "      <th>purpose</th>\n",
       "      <th>main_activity</th>\n",
       "      <th>info_source</th>\n",
       "      <th>tour_arrangement</th>\n",
       "      <th>...</th>\n",
       "      <th>package_accomodation</th>\n",
       "      <th>package_food</th>\n",
       "      <th>package_transport_tz</th>\n",
       "      <th>package_sightseeing</th>\n",
       "      <th>package_guided_tour</th>\n",
       "      <th>package_insurance</th>\n",
       "      <th>night_mainland</th>\n",
       "      <th>night_zanzibar</th>\n",
       "      <th>first_trip_tz</th>\n",
       "      <th>cost_category</th>\n",
       "    </tr>\n",
       "  </thead>\n",
       "  <tbody>\n",
       "    <tr>\n",
       "      <th>0.000000</th>\n",
       "      <td>tour_id1hffseyw</td>\n",
       "      <td>ITALY</td>\n",
       "      <td>45-64</td>\n",
       "      <td>With Children</td>\n",
       "      <td>0.000000</td>\n",
       "      <td>1.003209</td>\n",
       "      <td>Visiting Friends and Relatives</td>\n",
       "      <td>Beach Tourism</td>\n",
       "      <td>Friends, relatives</td>\n",
       "      <td>Package Tour</td>\n",
       "      <td>...</td>\n",
       "      <td>Yes</td>\n",
       "      <td>Yes</td>\n",
       "      <td>Yes</td>\n",
       "      <td>No</td>\n",
       "      <td>No</td>\n",
       "      <td>No</td>\n",
       "      <td>0.0</td>\n",
       "      <td>7.0</td>\n",
       "      <td>Yes</td>\n",
       "      <td>High Cost</td>\n",
       "    </tr>\n",
       "    <tr>\n",
       "      <th>1.000000</th>\n",
       "      <td>tour_idnacd7zag</td>\n",
       "      <td>UNITED KINGDOM</td>\n",
       "      <td>25-44</td>\n",
       "      <td>With Spouse</td>\n",
       "      <td>1.000000</td>\n",
       "      <td>1.000000</td>\n",
       "      <td>Leisure and Holidays</td>\n",
       "      <td>Wildlife Tourism</td>\n",
       "      <td>Travel agent, tour operator</td>\n",
       "      <td>Package Tour</td>\n",
       "      <td>...</td>\n",
       "      <td>Yes</td>\n",
       "      <td>Yes</td>\n",
       "      <td>Yes</td>\n",
       "      <td>No</td>\n",
       "      <td>No</td>\n",
       "      <td>No</td>\n",
       "      <td>0.0</td>\n",
       "      <td>7.0</td>\n",
       "      <td>Yes</td>\n",
       "      <td>High Cost</td>\n",
       "    </tr>\n",
       "    <tr>\n",
       "      <th>2.000000</th>\n",
       "      <td>tour_id62vz7e71</td>\n",
       "      <td>UNITED STATES OF AMERICA</td>\n",
       "      <td>65+</td>\n",
       "      <td>With Spouse</td>\n",
       "      <td>1.000000</td>\n",
       "      <td>1.003209</td>\n",
       "      <td>Leisure and Holidays</td>\n",
       "      <td>Widlife Tourism</td>\n",
       "      <td>Travel agent, tour operator</td>\n",
       "      <td>Package Tour</td>\n",
       "      <td>...</td>\n",
       "      <td>Yes</td>\n",
       "      <td>Yes</td>\n",
       "      <td>Yes</td>\n",
       "      <td>Yes</td>\n",
       "      <td>Yes</td>\n",
       "      <td>No</td>\n",
       "      <td>6.0</td>\n",
       "      <td>6.0</td>\n",
       "      <td>Yes</td>\n",
       "      <td>Higher Cost</td>\n",
       "    </tr>\n",
       "    <tr>\n",
       "      <th>3.000000</th>\n",
       "      <td>tour_idrc76tzix</td>\n",
       "      <td>RWANDA</td>\n",
       "      <td>25-44</td>\n",
       "      <td>With Spouse and Children</td>\n",
       "      <td>0.933122</td>\n",
       "      <td>1.003209</td>\n",
       "      <td>Leisure and Holidays</td>\n",
       "      <td>Beach Tourism</td>\n",
       "      <td>Radio, TV, Web</td>\n",
       "      <td>Independent</td>\n",
       "      <td>...</td>\n",
       "      <td>No</td>\n",
       "      <td>No</td>\n",
       "      <td>No</td>\n",
       "      <td>No</td>\n",
       "      <td>No</td>\n",
       "      <td>No</td>\n",
       "      <td>3.0</td>\n",
       "      <td>0.0</td>\n",
       "      <td>No</td>\n",
       "      <td>Lower Cost</td>\n",
       "    </tr>\n",
       "    <tr>\n",
       "      <th>4.000000</th>\n",
       "      <td>tour_idn723m0n9</td>\n",
       "      <td>UNITED STATES OF AMERICA</td>\n",
       "      <td>45-64</td>\n",
       "      <td>Alone</td>\n",
       "      <td>0.933122</td>\n",
       "      <td>1.003209</td>\n",
       "      <td>Leisure and Holidays</td>\n",
       "      <td>Widlife Tourism</td>\n",
       "      <td>Travel agent, tour operator</td>\n",
       "      <td>Package Tour</td>\n",
       "      <td>...</td>\n",
       "      <td>Yes</td>\n",
       "      <td>Yes</td>\n",
       "      <td>Yes</td>\n",
       "      <td>No</td>\n",
       "      <td>Yes</td>\n",
       "      <td>Yes</td>\n",
       "      <td>7.0</td>\n",
       "      <td>0.0</td>\n",
       "      <td>Yes</td>\n",
       "      <td>Higher Cost</td>\n",
       "    </tr>\n",
       "    <tr>\n",
       "      <th>...</th>\n",
       "      <td>...</td>\n",
       "      <td>...</td>\n",
       "      <td>...</td>\n",
       "      <td>...</td>\n",
       "      <td>...</td>\n",
       "      <td>...</td>\n",
       "      <td>...</td>\n",
       "      <td>...</td>\n",
       "      <td>...</td>\n",
       "      <td>...</td>\n",
       "      <td>...</td>\n",
       "      <td>...</td>\n",
       "      <td>...</td>\n",
       "      <td>...</td>\n",
       "      <td>...</td>\n",
       "      <td>...</td>\n",
       "      <td>...</td>\n",
       "      <td>...</td>\n",
       "      <td>...</td>\n",
       "      <td>...</td>\n",
       "      <td>...</td>\n",
       "    </tr>\n",
       "    <tr>\n",
       "      <th>6165.000000</th>\n",
       "      <td>tour_idlenv2rio</td>\n",
       "      <td>DRC</td>\n",
       "      <td>25-44</td>\n",
       "      <td>Alone</td>\n",
       "      <td>0.000000</td>\n",
       "      <td>1.000000</td>\n",
       "      <td>Visiting Friends and Relatives</td>\n",
       "      <td>Hunting Tourism</td>\n",
       "      <td>Friends, relatives</td>\n",
       "      <td>Independent</td>\n",
       "      <td>...</td>\n",
       "      <td>No</td>\n",
       "      <td>No</td>\n",
       "      <td>No</td>\n",
       "      <td>No</td>\n",
       "      <td>No</td>\n",
       "      <td>No</td>\n",
       "      <td>60.0</td>\n",
       "      <td>0.0</td>\n",
       "      <td>Yes</td>\n",
       "      <td>NaN</td>\n",
       "    </tr>\n",
       "    <tr>\n",
       "      <th>6166.000000</th>\n",
       "      <td>tour_id7wwqrs0p</td>\n",
       "      <td>CANADA</td>\n",
       "      <td>25-44</td>\n",
       "      <td>Alone</td>\n",
       "      <td>0.000000</td>\n",
       "      <td>1.000000</td>\n",
       "      <td>Leisure and Holidays</td>\n",
       "      <td>Beach Tourism</td>\n",
       "      <td>Friends, relatives</td>\n",
       "      <td>Package Tour</td>\n",
       "      <td>...</td>\n",
       "      <td>Yes</td>\n",
       "      <td>Yes</td>\n",
       "      <td>Yes</td>\n",
       "      <td>No</td>\n",
       "      <td>No</td>\n",
       "      <td>No</td>\n",
       "      <td>5.0</td>\n",
       "      <td>0.0</td>\n",
       "      <td>No</td>\n",
       "      <td>NaN</td>\n",
       "    </tr>\n",
       "    <tr>\n",
       "      <th>6167.000000</th>\n",
       "      <td>tour_idx80vbw5a</td>\n",
       "      <td>CANADA</td>\n",
       "      <td>18-24</td>\n",
       "      <td>Alone</td>\n",
       "      <td>1.000000</td>\n",
       "      <td>0.000000</td>\n",
       "      <td>Visiting Friends and Relatives</td>\n",
       "      <td>Wildlife Tourism</td>\n",
       "      <td>Friends, relatives</td>\n",
       "      <td>Independent</td>\n",
       "      <td>...</td>\n",
       "      <td>No</td>\n",
       "      <td>No</td>\n",
       "      <td>No</td>\n",
       "      <td>No</td>\n",
       "      <td>No</td>\n",
       "      <td>No</td>\n",
       "      <td>21.0</td>\n",
       "      <td>0.0</td>\n",
       "      <td>No</td>\n",
       "      <td>NaN</td>\n",
       "    </tr>\n",
       "    <tr>\n",
       "      <th>6168.000000</th>\n",
       "      <td>tour_id8fkkwytb</td>\n",
       "      <td>KENYA</td>\n",
       "      <td>45-64</td>\n",
       "      <td>NaN</td>\n",
       "      <td>0.000000</td>\n",
       "      <td>1.000000</td>\n",
       "      <td>Meetings and Conference</td>\n",
       "      <td>Wildlife Tourism</td>\n",
       "      <td>Friends, relatives</td>\n",
       "      <td>Independent</td>\n",
       "      <td>...</td>\n",
       "      <td>No</td>\n",
       "      <td>No</td>\n",
       "      <td>No</td>\n",
       "      <td>No</td>\n",
       "      <td>No</td>\n",
       "      <td>No</td>\n",
       "      <td>4.0</td>\n",
       "      <td>0.0</td>\n",
       "      <td>Yes</td>\n",
       "      <td>NaN</td>\n",
       "    </tr>\n",
       "    <tr>\n",
       "      <th>1.003203</th>\n",
       "      <td>NaN</td>\n",
       "      <td>NaN</td>\n",
       "      <td>NaN</td>\n",
       "      <td>NaN</td>\n",
       "      <td>NaN</td>\n",
       "      <td>1.003209</td>\n",
       "      <td>NaN</td>\n",
       "      <td>NaN</td>\n",
       "      <td>NaN</td>\n",
       "      <td>NaN</td>\n",
       "      <td>...</td>\n",
       "      <td>NaN</td>\n",
       "      <td>NaN</td>\n",
       "      <td>NaN</td>\n",
       "      <td>NaN</td>\n",
       "      <td>NaN</td>\n",
       "      <td>NaN</td>\n",
       "      <td>NaN</td>\n",
       "      <td>NaN</td>\n",
       "      <td>NaN</td>\n",
       "      <td>NaN</td>\n",
       "    </tr>\n",
       "  </tbody>\n",
       "</table>\n",
       "<p>24676 rows × 21 columns</p>\n",
       "</div>"
      ],
      "text/plain": [
       "                     Tour_ID                   country age_group  \\\n",
       "0.000000     tour_id1hffseyw                     ITALY     45-64   \n",
       "1.000000     tour_idnacd7zag            UNITED KINGDOM     25-44   \n",
       "2.000000     tour_id62vz7e71  UNITED STATES OF AMERICA       65+   \n",
       "3.000000     tour_idrc76tzix                    RWANDA     25-44   \n",
       "4.000000     tour_idn723m0n9  UNITED STATES OF AMERICA     45-64   \n",
       "...                      ...                       ...       ...   \n",
       "6165.000000  tour_idlenv2rio                       DRC     25-44   \n",
       "6166.000000  tour_id7wwqrs0p                    CANADA     25-44   \n",
       "6167.000000  tour_idx80vbw5a                    CANADA     18-24   \n",
       "6168.000000  tour_id8fkkwytb                     KENYA     45-64   \n",
       "1.003203                 NaN                       NaN       NaN   \n",
       "\n",
       "                          travel_with  total_female  total_male  \\\n",
       "0.000000                With Children      0.000000    1.003209   \n",
       "1.000000                  With Spouse      1.000000    1.000000   \n",
       "2.000000                  With Spouse      1.000000    1.003209   \n",
       "3.000000     With Spouse and Children      0.933122    1.003209   \n",
       "4.000000                        Alone      0.933122    1.003209   \n",
       "...                               ...           ...         ...   \n",
       "6165.000000                     Alone      0.000000    1.000000   \n",
       "6166.000000                     Alone      0.000000    1.000000   \n",
       "6167.000000                     Alone      1.000000    0.000000   \n",
       "6168.000000                       NaN      0.000000    1.000000   \n",
       "1.003203                          NaN           NaN    1.003209   \n",
       "\n",
       "                                    purpose     main_activity  \\\n",
       "0.000000     Visiting Friends and Relatives     Beach Tourism   \n",
       "1.000000               Leisure and Holidays  Wildlife Tourism   \n",
       "2.000000               Leisure and Holidays   Widlife Tourism   \n",
       "3.000000               Leisure and Holidays     Beach Tourism   \n",
       "4.000000               Leisure and Holidays   Widlife Tourism   \n",
       "...                                     ...               ...   \n",
       "6165.000000  Visiting Friends and Relatives   Hunting Tourism   \n",
       "6166.000000            Leisure and Holidays     Beach Tourism   \n",
       "6167.000000  Visiting Friends and Relatives  Wildlife Tourism   \n",
       "6168.000000         Meetings and Conference  Wildlife Tourism   \n",
       "1.003203                                NaN               NaN   \n",
       "\n",
       "                             info_source tour_arrangement  ...  \\\n",
       "0.000000              Friends, relatives     Package Tour  ...   \n",
       "1.000000     Travel agent, tour operator     Package Tour  ...   \n",
       "2.000000     Travel agent, tour operator     Package Tour  ...   \n",
       "3.000000                  Radio, TV, Web      Independent  ...   \n",
       "4.000000     Travel agent, tour operator     Package Tour  ...   \n",
       "...                                  ...              ...  ...   \n",
       "6165.000000           Friends, relatives      Independent  ...   \n",
       "6166.000000           Friends, relatives     Package Tour  ...   \n",
       "6167.000000           Friends, relatives      Independent  ...   \n",
       "6168.000000           Friends, relatives      Independent  ...   \n",
       "1.003203                             NaN              NaN  ...   \n",
       "\n",
       "            package_accomodation package_food package_transport_tz  \\\n",
       "0.000000                     Yes          Yes                  Yes   \n",
       "1.000000                     Yes          Yes                  Yes   \n",
       "2.000000                     Yes          Yes                  Yes   \n",
       "3.000000                      No           No                   No   \n",
       "4.000000                     Yes          Yes                  Yes   \n",
       "...                          ...          ...                  ...   \n",
       "6165.000000                   No           No                   No   \n",
       "6166.000000                  Yes          Yes                  Yes   \n",
       "6167.000000                   No           No                   No   \n",
       "6168.000000                   No           No                   No   \n",
       "1.003203                     NaN          NaN                  NaN   \n",
       "\n",
       "            package_sightseeing package_guided_tour package_insurance  \\\n",
       "0.000000                     No                  No                No   \n",
       "1.000000                     No                  No                No   \n",
       "2.000000                    Yes                 Yes                No   \n",
       "3.000000                     No                  No                No   \n",
       "4.000000                     No                 Yes               Yes   \n",
       "...                         ...                 ...               ...   \n",
       "6165.000000                  No                  No                No   \n",
       "6166.000000                  No                  No                No   \n",
       "6167.000000                  No                  No                No   \n",
       "6168.000000                  No                  No                No   \n",
       "1.003203                    NaN                 NaN               NaN   \n",
       "\n",
       "            night_mainland  night_zanzibar  first_trip_tz cost_category  \n",
       "0.000000               0.0             7.0            Yes     High Cost  \n",
       "1.000000               0.0             7.0            Yes     High Cost  \n",
       "2.000000               6.0             6.0            Yes   Higher Cost  \n",
       "3.000000               3.0             0.0             No    Lower Cost  \n",
       "4.000000               7.0             0.0            Yes   Higher Cost  \n",
       "...                    ...             ...            ...           ...  \n",
       "6165.000000           60.0             0.0            Yes           NaN  \n",
       "6166.000000            5.0             0.0             No           NaN  \n",
       "6167.000000           21.0             0.0             No           NaN  \n",
       "6168.000000            4.0             0.0            Yes           NaN  \n",
       "1.003203               NaN             NaN            NaN           NaN  \n",
       "\n",
       "[24676 rows x 21 columns]"
      ]
     },
     "execution_count": 139,
     "metadata": {},
     "output_type": "execute_result"
    }
   ],
   "source": [
    "%%time\n",
    "\n",
    "check_outliers(full,factor=1, strategy='mean', inplace=True)"
   ]
  },
  {
   "cell_type": "code",
   "execution_count": 140,
   "id": "eaa9de69-c8ba-4950-8a57-192be4c81704",
   "metadata": {},
   "outputs": [
    {
     "data": {
      "text/html": [
       "<div>\n",
       "<style scoped>\n",
       "    .dataframe tbody tr th:only-of-type {\n",
       "        vertical-align: middle;\n",
       "    }\n",
       "\n",
       "    .dataframe tbody tr th {\n",
       "        vertical-align: top;\n",
       "    }\n",
       "\n",
       "    .dataframe thead th {\n",
       "        text-align: right;\n",
       "    }\n",
       "</style>\n",
       "<table border=\"1\" class=\"dataframe\">\n",
       "  <thead>\n",
       "    <tr style=\"text-align: right;\">\n",
       "      <th></th>\n",
       "      <th>count</th>\n",
       "      <th>mean</th>\n",
       "      <th>std</th>\n",
       "      <th>min</th>\n",
       "      <th>25%</th>\n",
       "      <th>50%</th>\n",
       "      <th>75%</th>\n",
       "      <th>max</th>\n",
       "    </tr>\n",
       "  </thead>\n",
       "  <tbody>\n",
       "    <tr>\n",
       "      <th>total_female</th>\n",
       "      <td>24671.0</td>\n",
       "      <td>0.933122</td>\n",
       "      <td>1.204451</td>\n",
       "      <td>0.0</td>\n",
       "      <td>0.0</td>\n",
       "      <td>1.0</td>\n",
       "      <td>1.0</td>\n",
       "      <td>49.0</td>\n",
       "    </tr>\n",
       "    <tr>\n",
       "      <th>total_male</th>\n",
       "      <td>24669.0</td>\n",
       "      <td>1.003209</td>\n",
       "      <td>1.269740</td>\n",
       "      <td>0.0</td>\n",
       "      <td>1.0</td>\n",
       "      <td>1.0</td>\n",
       "      <td>1.0</td>\n",
       "      <td>90.0</td>\n",
       "    </tr>\n",
       "    <tr>\n",
       "      <th>night_mainland</th>\n",
       "      <td>24675.0</td>\n",
       "      <td>9.183942</td>\n",
       "      <td>14.681085</td>\n",
       "      <td>0.0</td>\n",
       "      <td>3.0</td>\n",
       "      <td>6.0</td>\n",
       "      <td>11.0</td>\n",
       "      <td>664.0</td>\n",
       "    </tr>\n",
       "    <tr>\n",
       "      <th>night_zanzibar</th>\n",
       "      <td>24675.0</td>\n",
       "      <td>2.515531</td>\n",
       "      <td>5.317033</td>\n",
       "      <td>0.0</td>\n",
       "      <td>0.0</td>\n",
       "      <td>0.0</td>\n",
       "      <td>4.0</td>\n",
       "      <td>240.0</td>\n",
       "    </tr>\n",
       "  </tbody>\n",
       "</table>\n",
       "</div>"
      ],
      "text/plain": [
       "                  count      mean        std  min  25%  50%   75%    max\n",
       "total_female    24671.0  0.933122   1.204451  0.0  0.0  1.0   1.0   49.0\n",
       "total_male      24669.0  1.003209   1.269740  0.0  1.0  1.0   1.0   90.0\n",
       "night_mainland  24675.0  9.183942  14.681085  0.0  3.0  6.0  11.0  664.0\n",
       "night_zanzibar  24675.0  2.515531   5.317033  0.0  0.0  0.0   4.0  240.0"
      ]
     },
     "execution_count": 140,
     "metadata": {},
     "output_type": "execute_result"
    }
   ],
   "source": [
    "full.describe().T"
   ]
  },
  {
   "cell_type": "code",
   "execution_count": 137,
   "id": "baad2d25-8dff-4739-9265-4205805e286a",
   "metadata": {},
   "outputs": [
    {
     "data": {
      "image/png": "[encoded data removed]",
      "text/plain": [
       "<Figure size 640x480 with 1 Axes>"
      ]
     },
     "metadata": {},
     "output_type": "display_data"
    }
   ],
   "source": [
    "sns.boxplot(data=full);"
   ]
  },
  {
   "cell_type": "code",
   "execution_count": 33,
   "id": "e16f22f0-187b-4328-9aa3-26f94039df79",
   "metadata": {},
   "outputs": [
    {
     "data": {
      "text/plain": [
       "total_female       1.0\n",
       "total_male         1.0\n",
       "night_mainland    11.0\n",
       "night_zanzibar     4.0\n",
       "Name: 0.75, dtype: float64"
      ]
     },
     "execution_count": 33,
     "metadata": {},
     "output_type": "execute_result"
    }
   ],
   "source": [
    "full.quantile(0.75)"
   ]
  },
  {
   "cell_type": "code",
   "execution_count": 34,
   "id": "cee58dcd-d991-4d6f-9454-c6d3158365d1",
   "metadata": {},
   "outputs": [
    {
     "data": {
      "text/plain": [
       "Tour_ID                   object\n",
       "country                   object\n",
       "age_group                 object\n",
       "travel_with               object\n",
       "total_female             float64\n",
       "total_male               float64\n",
       "purpose                   object\n",
       "main_activity             object\n",
       "info_source               object\n",
       "tour_arrangement          object\n",
       "package_transport_int     object\n",
       "package_accomodation      object\n",
       "package_food              object\n",
       "package_transport_tz      object\n",
       "package_sightseeing       object\n",
       "package_guided_tour       object\n",
       "package_insurance         object\n",
       "night_mainland             int64\n",
       "night_zanzibar             int64\n",
       "first_trip_tz             object\n",
       "cost_category             object\n",
       "dtype: object"
      ]
     },
     "execution_count": 34,
     "metadata": {},
     "output_type": "execute_result"
    }
   ],
   "source": [
    "full.dtypes"
   ]
  },
  {
   "cell_type": "code",
   "execution_count": 35,
   "id": "c98b1bf3-3609-457a-93d0-6e904e8f43d7",
   "metadata": {},
   "outputs": [
    {
     "data": {
      "text/plain": [
       "0     15431\n",
       "7      2043\n",
       "4      1357\n",
       "3      1241\n",
       "5      1087\n",
       "      ...  \n",
       "56        1\n",
       "31        1\n",
       "86        1\n",
       "80        1\n",
       "47        1\n",
       "Name: night_zanzibar, Length: 65, dtype: int64"
      ]
     },
     "execution_count": 35,
     "metadata": {},
     "output_type": "execute_result"
    }
   ],
   "source": [
    "X.night_zanzibar.value_counts().sort_values(ascending=False)"
   ]
  },
  {
   "cell_type": "code",
   "execution_count": null,
   "id": "98cf67f5-05eb-4180-b24b-73535958cdfa",
   "metadata": {},
   "outputs": [],
   "source": []
  }
 ],
 "metadata": {
  "kernelspec": {
   "display_name": "Python 3 (ipykernel)",
   "language": "python",
   "name": "python3"
  },
  "language_info": {
   "codemirror_mode": {
    "name": "ipython",
    "version": 3
   },
   "file_extension": ".py",
   "mimetype": "text/x-python",
   "name": "python",
   "nbconvert_exporter": "python",
   "pygments_lexer": "ipython3",
   "version": "3.9.16"
  }
 },
 "nbformat": 4,
 "nbformat_minor": 5
}
