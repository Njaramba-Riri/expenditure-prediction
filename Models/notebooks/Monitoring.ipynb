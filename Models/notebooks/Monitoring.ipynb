{
 "cells": [
  {
   "cell_type": "code",
   "execution_count": 3,
   "id": "d0e605c7",
   "metadata": {},
   "outputs": [],
   "source": [
    "import datetime \n",
    "\n",
    "from sklearn import datasets\n",
    "\n",
    "from evidently.metrics import ColumnDriftMetric, ColumnSummaryMetric\n",
    "from evidently.metrics import DatasetDriftMetric, DatasetMissingValuesMetric\n",
    "from evidently.report import Report \n",
    "from evidently.test_preset import DataDriftTestPreset\n",
    "from evidently.test_suite import TestSuite\n",
    "from evidently.ui.dashboards import CounterAgg, DashboardPanelCounter\n",
    "from evidently.ui.dashboards import DashboardPanelPlot, PanelValue\n",
    "from evidently.ui.dashboards import PlotType, ReportFilter\n",
    "from evidently.ui.remote import RemoteWorkspace\n",
    "from evidently.ui.workspace import Workspace, WorkspaceBase"
   ]
  },
  {
   "cell_type": "code",
   "execution_count": 4,
   "id": "18eda931",
   "metadata": {},
   "outputs": [
    {
     "name": "stderr",
     "output_type": "stream",
     "text": [
      "C:\\Users\\User\\anaconda3\\lib\\site-packages\\sklearn\\datasets\\_openml.py:968: FutureWarning: The default value of `parser` will change from `'liac-arff'` to `'auto'` in 1.4. You can set `parser='auto'` to silence this warning. Therefore, an `ImportError` will be raised from 1.4 if the dataset is dense and pandas is not installed. Note that the pandas parser may return different data types. See the Notes Section in fetch_openml's API doc for details.\n",
      "  warn(\n"
     ]
    }
   ],
   "source": [
    "adult_data = datasets.fetch_openml(name=\"adult\", version=2, as_frame=\"auto\")\n",
    "adult = adult_data.frame"
   ]
  },
  {
   "cell_type": "code",
   "execution_count": 6,
   "id": "aee6f41b",
   "metadata": {},
   "outputs": [],
   "source": [
    "adult_ref = adult[~adult.education.isin([\"Some-college\", \"HS-grad\", \"Bachelors\"])]\n",
    "adult_cur = adult[adult.education.isin([\"Some-college\", \"HS-grad\", \"Bachelors\"])]"
   ]
  },
  {
   "cell_type": "code",
   "execution_count": 12,
   "id": "52ecee33",
   "metadata": {},
   "outputs": [],
   "source": [
    "WORKSPACE = \"Monitoring\"\n",
    "\n",
    "PROJECT_NAME = \"Evidently Monitoring\"\n",
    "PROJECT_DESCRIPTION = \"This is my first evidently monittoring hands on tutorial.\""
   ]
  },
  {
   "cell_type": "code",
   "execution_count": 13,
   "id": "5b86e48b",
   "metadata": {},
   "outputs": [],
   "source": [
    "def create_report(i: int):\n",
    "    data_drift_report = Report(\n",
    "        metrics=[\n",
    "            DatasetDriftMetric(),\n",
    "            DatasetMissingValuesMetric(),\n",
    "            ColumnDriftMetric(column_name=\"age\", stattest=\"wasserstein\"),\n",
    "            ColumnSummaryMetric(column_name=\"age\"),\n",
    "            ColumnDriftMetric(column_name=\"education-num\", stattest=\"wasserstein\"),\n",
    "            ColumnSummaryMetric(column_name=\"education-num\"),\n",
    "        ],\n",
    "        timestamp=datetime.datetime.now() + datetime.timedelta(days=i),\n",
    "    )\n",
    "    \n",
    "    data_drift_report.run(reference_data=adult_ref, current_data=adult_cur.iloc[100 * i : 100 * (i + 1), :])\n",
    "    return data_drift_report"
   ]
  },
  {
   "cell_type": "code",
   "execution_count": 24,
   "id": "1a17f4ba",
   "metadata": {},
   "outputs": [],
   "source": [
    "def create_project(workspace: WorkspaceBase):\n",
    "    project = workspace.create_project(PROJECT_NAME)\n",
    "    project.description = PROJECT_DESCRIPTION\n",
    "    \n",
    "    project.dashboard.add_panel(\n",
    "        DashboardPanelCounter(\n",
    "            title=\"Model Calls\",\n",
    "            filter=ReportFilter(metadata_values={}, tag_values=[]),\n",
    "            value=PanelValue(\n",
    "                metric_id=\"DatasetMissingValuesMetric\",\n",
    "                field_path=DatasetMissingValuesMetric.fields.current.number_of_rows,\n",
    "                legend=\"count\",\n",
    "            ),\n",
    "            text=\"count\",\n",
    "            agg=CounterAgg.SUM,\n",
    "            size=2,\n",
    "        )\n",
    "    )\n",
    "    project.save()\n",
    "    return project"
   ]
  },
  {
   "cell_type": "code",
   "execution_count": 25,
   "id": "881a2b8e",
   "metadata": {},
   "outputs": [],
   "source": [
    "def create_monitoring_project(workspace: str):\n",
    "    ws  =Workspace.create(workspace)\n",
    "    project = create_project(ws)\n",
    "    \n",
    "    for i in range(0, 5):\n",
    "        report = create_report(i=i)\n",
    "        ws.add_report(project.id, report)\n",
    "        \n",
    "        #test_suite = create_test_suite(i=i)\n",
    "        #ws.add_test_suite(project.id, test_suite)\n",
    "        \n",
    "if __name__==\"__main__\":\n",
    "    create_monitoring_project(\"New Workspace\")"
   ]
  },
  {
   "cell_type": "code",
   "execution_count": null,
   "id": "503a867e",
   "metadata": {},
   "outputs": [],
   "source": []
  }
 ],
 "metadata": {
  "kernelspec": {
   "display_name": "Python 3 (ipykernel)",
   "language": "python",
   "name": "python3"
  },
  "language_info": {
   "codemirror_mode": {
    "name": "ipython",
    "version": 3
   },
   "file_extension": ".py",
   "mimetype": "text/x-python",
   "name": "python",
   "nbconvert_exporter": "python",
   "pygments_lexer": "ipython3",
   "version": "3.9.16"
  }
 },
 "nbformat": 4,
 "nbformat_minor": 5
}
