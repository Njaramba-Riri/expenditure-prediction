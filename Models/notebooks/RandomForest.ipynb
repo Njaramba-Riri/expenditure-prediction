{
 "cells": [
  {
   "cell_type": "code",
   "execution_count": 1,
   "id": "2753747b-ca53-409d-a53d-2b59c7ccdc2d",
   "metadata": {},
   "outputs": [],
   "source": [
    "from sklearn.ensemble import RandomForestClassifier\n",
    "from sklearn.model_selection import StratifiedKFold, cross_val_score, train_test_split\n",
    "from sklearn.metrics import classification_report, confusion_matrix, precision_score, recall_score, precision_recall_curve\n",
    "from sklearn.preprocessing import LabelEncoder\n",
    "\n",
    "from scipy.stats import chi2_contingency \n",
    "#from preprocess import extra_features, separate\n",
    "from pipelines import pipe, pipe2"
   ]
  },
  {
   "cell_type": "code",
   "execution_count": 3,
   "id": "675d8b2b-74f9-4358-a8ea-35287ec2ec0e",
   "metadata": {},
   "outputs": [
    {
     "data": {
      "application/javascript": [
       "\n",
       "        if (window._pyforest_update_imports_cell) { window._pyforest_update_imports_cell('import pandas as pd'); }\n",
       "    "
      ],
      "text/plain": [
       "<IPython.core.display.Javascript object>"
      ]
     },
     "metadata": {},
     "output_type": "display_data"
    }
   ],
   "source": [
    "train=pd.read_csv(\"../datasets/new_train.csv\")\n",
    "#train=extra_features(train)\n",
    "#separate(train)"
   ]
  },
  {
   "cell_type": "code",
   "execution_count": 4,
   "id": "b5991aea",
   "metadata": {},
   "outputs": [],
   "source": [
    "#drop = []\n",
    "#for col in train.columns:\n",
    " #   if col not in ['total_nights', 'purpose', 'main_activity', 'tour_arrangement','travel_with', 'package_guided_tour']:\n",
    " #       drop.append(col)\n",
    "#drop"
   ]
  },
  {
   "cell_type": "code",
   "execution_count": 5,
   "id": "21c2883a-b280-42ca-b53e-d96ea4a93972",
   "metadata": {},
   "outputs": [
    {
     "data": {
      "text/plain": [
       "(18506, 32)"
      ]
     },
     "execution_count": 5,
     "metadata": {},
     "output_type": "execute_result"
    }
   ],
   "source": [
    "X= train.drop(['cost_category', 'Tour_ID'], axis=1)\n",
    "X.shape"
   ]
  },
  {
   "cell_type": "code",
   "execution_count": 6,
   "id": "e18b9e04-1b11-4edb-976c-38d48c2ea89f",
   "metadata": {},
   "outputs": [],
   "source": [
    "y=train['cost_category']"
   ]
  },
  {
   "cell_type": "code",
   "execution_count": 7,
   "id": "e142aa29-0978-473e-8f63-be1751eaedd5",
   "metadata": {},
   "outputs": [
    {
     "data": {
      "application/javascript": [
       "\n",
       "        if (window._pyforest_update_imports_cell) { window._pyforest_update_imports_cell('import pandas as pd'); }\n",
       "    "
      ],
      "text/plain": [
       "<IPython.core.display.Javascript object>"
      ]
     },
     "metadata": {},
     "output_type": "display_data"
    },
    {
     "name": "stdout",
     "output_type": "stream",
     "text": [
      "Column: Unnamed: 0\n",
      "Chi_Test: 92530.00000000003\n",
      "P_Value: 0.4947449902995396\n",
      "Degree: 92525\n",
      "*************\n"
     ]
    },
    {
     "data": {
      "application/javascript": [
       "\n",
       "        if (window._pyforest_update_imports_cell) { window._pyforest_update_imports_cell('import pandas as pd'); }\n",
       "    "
      ],
      "text/plain": [
       "<IPython.core.display.Javascript object>"
      ]
     },
     "metadata": {},
     "output_type": "display_data"
    },
    {
     "name": "stdout",
     "output_type": "stream",
     "text": [
      "Column: country\n",
      "Chi_Test: 9401.22969371141\n",
      "P_Value: 0.0\n",
      "Degree: 300\n",
      "*************\n"
     ]
    },
    {
     "data": {
      "application/javascript": [
       "\n",
       "        if (window._pyforest_update_imports_cell) { window._pyforest_update_imports_cell('import pandas as pd'); }\n",
       "    "
      ],
      "text/plain": [
       "<IPython.core.display.Javascript object>"
      ]
     },
     "metadata": {},
     "output_type": "display_data"
    },
    {
     "name": "stdout",
     "output_type": "stream",
     "text": [
      "Column: age_group\n",
      "Chi_Test: 1803.196457648891\n",
      "P_Value: 0.0\n",
      "Degree: 20\n",
      "*************\n"
     ]
    },
    {
     "data": {
      "application/javascript": [
       "\n",
       "        if (window._pyforest_update_imports_cell) { window._pyforest_update_imports_cell('import pandas as pd'); }\n",
       "    "
      ],
      "text/plain": [
       "<IPython.core.display.Javascript object>"
      ]
     },
     "metadata": {},
     "output_type": "display_data"
    },
    {
     "name": "stdout",
     "output_type": "stream",
     "text": [
      "Column: travel_with\n",
      "Chi_Test: 4825.77958768553\n",
      "P_Value: 0.0\n",
      "Degree: 25\n",
      "*************\n"
     ]
    },
    {
     "data": {
      "application/javascript": [
       "\n",
       "        if (window._pyforest_update_imports_cell) { window._pyforest_update_imports_cell('import pandas as pd'); }\n",
       "    "
      ],
      "text/plain": [
       "<IPython.core.display.Javascript object>"
      ]
     },
     "metadata": {},
     "output_type": "display_data"
    },
    {
     "name": "stdout",
     "output_type": "stream",
     "text": [
      "Column: total_female\n",
      "Chi_Test: 3135.1341596685616\n",
      "P_Value: 0.0\n",
      "Degree: 15\n",
      "*************\n"
     ]
    },
    {
     "data": {
      "application/javascript": [
       "\n",
       "        if (window._pyforest_update_imports_cell) { window._pyforest_update_imports_cell('import pandas as pd'); }\n",
       "    "
      ],
      "text/plain": [
       "<IPython.core.display.Javascript object>"
      ]
     },
     "metadata": {},
     "output_type": "display_data"
    },
    {
     "name": "stdout",
     "output_type": "stream",
     "text": [
      "Column: total_male\n",
      "Chi_Test: 804.2466108839939\n",
      "P_Value: 1.775590677605355e-157\n",
      "Degree: 20\n",
      "*************\n"
     ]
    },
    {
     "data": {
      "application/javascript": [
       "\n",
       "        if (window._pyforest_update_imports_cell) { window._pyforest_update_imports_cell('import pandas as pd'); }\n",
       "    "
      ],
      "text/plain": [
       "<IPython.core.display.Javascript object>"
      ]
     },
     "metadata": {},
     "output_type": "display_data"
    },
    {
     "name": "stdout",
     "output_type": "stream",
     "text": [
      "Column: purpose\n",
      "Chi_Test: 6975.312873617305\n",
      "P_Value: 0.0\n",
      "Degree: 35\n",
      "*************\n"
     ]
    },
    {
     "data": {
      "application/javascript": [
       "\n",
       "        if (window._pyforest_update_imports_cell) { window._pyforest_update_imports_cell('import pandas as pd'); }\n",
       "    "
      ],
      "text/plain": [
       "<IPython.core.display.Javascript object>"
      ]
     },
     "metadata": {},
     "output_type": "display_data"
    },
    {
     "name": "stdout",
     "output_type": "stream",
     "text": [
      "Column: main_activity\n",
      "Chi_Test: 3606.50524881434\n",
      "P_Value: 0.0\n",
      "Degree: 40\n",
      "*************\n"
     ]
    },
    {
     "data": {
      "application/javascript": [
       "\n",
       "        if (window._pyforest_update_imports_cell) { window._pyforest_update_imports_cell('import pandas as pd'); }\n",
       "    "
      ],
      "text/plain": [
       "<IPython.core.display.Javascript object>"
      ]
     },
     "metadata": {},
     "output_type": "display_data"
    },
    {
     "name": "stdout",
     "output_type": "stream",
     "text": [
      "Column: info_source\n",
      "Chi_Test: 4166.3943611855575\n",
      "P_Value: 0.0\n",
      "Degree: 35\n",
      "*************\n"
     ]
    },
    {
     "data": {
      "application/javascript": [
       "\n",
       "        if (window._pyforest_update_imports_cell) { window._pyforest_update_imports_cell('import pandas as pd'); }\n",
       "    "
      ],
      "text/plain": [
       "<IPython.core.display.Javascript object>"
      ]
     },
     "metadata": {},
     "output_type": "display_data"
    },
    {
     "name": "stdout",
     "output_type": "stream",
     "text": [
      "Column: tour_arrangement\n",
      "Chi_Test: 8331.284428771029\n",
      "P_Value: 0.0\n",
      "Degree: 5\n",
      "*************\n"
     ]
    },
    {
     "data": {
      "application/javascript": [
       "\n",
       "        if (window._pyforest_update_imports_cell) { window._pyforest_update_imports_cell('import pandas as pd'); }\n",
       "    "
      ],
      "text/plain": [
       "<IPython.core.display.Javascript object>"
      ]
     },
     "metadata": {},
     "output_type": "display_data"
    },
    {
     "name": "stdout",
     "output_type": "stream",
     "text": [
      "Column: package_transport_int\n",
      "Chi_Test: 5414.9841247089\n",
      "P_Value: 0.0\n",
      "Degree: 5\n",
      "*************\n"
     ]
    },
    {
     "data": {
      "application/javascript": [
       "\n",
       "        if (window._pyforest_update_imports_cell) { window._pyforest_update_imports_cell('import pandas as pd'); }\n",
       "    "
      ],
      "text/plain": [
       "<IPython.core.display.Javascript object>"
      ]
     },
     "metadata": {},
     "output_type": "display_data"
    },
    {
     "name": "stdout",
     "output_type": "stream",
     "text": [
      "Column: package_accomodation\n",
      "Chi_Test: 7883.608233888307\n",
      "P_Value: 0.0\n",
      "Degree: 5\n",
      "*************\n"
     ]
    },
    {
     "data": {
      "application/javascript": [
       "\n",
       "        if (window._pyforest_update_imports_cell) { window._pyforest_update_imports_cell('import pandas as pd'); }\n",
       "    "
      ],
      "text/plain": [
       "<IPython.core.display.Javascript object>"
      ]
     },
     "metadata": {},
     "output_type": "display_data"
    },
    {
     "name": "stdout",
     "output_type": "stream",
     "text": [
      "Column: package_food\n",
      "Chi_Test: 7146.769578021885\n",
      "P_Value: 0.0\n",
      "Degree: 5\n",
      "*************\n"
     ]
    },
    {
     "data": {
      "application/javascript": [
       "\n",
       "        if (window._pyforest_update_imports_cell) { window._pyforest_update_imports_cell('import pandas as pd'); }\n",
       "    "
      ],
      "text/plain": [
       "<IPython.core.display.Javascript object>"
      ]
     },
     "metadata": {},
     "output_type": "display_data"
    },
    {
     "name": "stdout",
     "output_type": "stream",
     "text": [
      "Column: package_transport_tz\n",
      "Chi_Test: 6346.490489845604\n",
      "P_Value: 0.0\n",
      "Degree: 5\n",
      "*************\n"
     ]
    },
    {
     "data": {
      "application/javascript": [
       "\n",
       "        if (window._pyforest_update_imports_cell) { window._pyforest_update_imports_cell('import pandas as pd'); }\n",
       "    "
      ],
      "text/plain": [
       "<IPython.core.display.Javascript object>"
      ]
     },
     "metadata": {},
     "output_type": "display_data"
    },
    {
     "name": "stdout",
     "output_type": "stream",
     "text": [
      "Column: package_sightseeing\n",
      "Chi_Test: 4501.574863783683\n",
      "P_Value: 0.0\n",
      "Degree: 5\n",
      "*************\n"
     ]
    },
    {
     "data": {
      "application/javascript": [
       "\n",
       "        if (window._pyforest_update_imports_cell) { window._pyforest_update_imports_cell('import pandas as pd'); }\n",
       "    "
      ],
      "text/plain": [
       "<IPython.core.display.Javascript object>"
      ]
     },
     "metadata": {},
     "output_type": "display_data"
    },
    {
     "name": "stdout",
     "output_type": "stream",
     "text": [
      "Column: package_guided_tour\n",
      "Chi_Test: 4873.499054202309\n",
      "P_Value: 0.0\n",
      "Degree: 5\n",
      "*************\n"
     ]
    },
    {
     "data": {
      "application/javascript": [
       "\n",
       "        if (window._pyforest_update_imports_cell) { window._pyforest_update_imports_cell('import pandas as pd'); }\n",
       "    "
      ],
      "text/plain": [
       "<IPython.core.display.Javascript object>"
      ]
     },
     "metadata": {},
     "output_type": "display_data"
    },
    {
     "name": "stdout",
     "output_type": "stream",
     "text": [
      "Column: package_insurance\n",
      "Chi_Test: 2067.872038967938\n",
      "P_Value: 0.0\n",
      "Degree: 5\n",
      "*************\n"
     ]
    },
    {
     "data": {
      "application/javascript": [
       "\n",
       "        if (window._pyforest_update_imports_cell) { window._pyforest_update_imports_cell('import pandas as pd'); }\n",
       "    "
      ],
      "text/plain": [
       "<IPython.core.display.Javascript object>"
      ]
     },
     "metadata": {},
     "output_type": "display_data"
    },
    {
     "name": "stdout",
     "output_type": "stream",
     "text": [
      "Column: night_mainland\n",
      "Chi_Test: 4993.574894809394\n",
      "P_Value: 0.0\n",
      "Degree: 115\n",
      "*************\n"
     ]
    },
    {
     "data": {
      "application/javascript": [
       "\n",
       "        if (window._pyforest_update_imports_cell) { window._pyforest_update_imports_cell('import pandas as pd'); }\n",
       "    "
      ],
      "text/plain": [
       "<IPython.core.display.Javascript object>"
      ]
     },
     "metadata": {},
     "output_type": "display_data"
    },
    {
     "name": "stdout",
     "output_type": "stream",
     "text": [
      "Column: night_zanzibar\n",
      "Chi_Test: 1902.0419921017688\n",
      "P_Value: 0.0\n",
      "Degree: 40\n",
      "*************\n"
     ]
    },
    {
     "data": {
      "application/javascript": [
       "\n",
       "        if (window._pyforest_update_imports_cell) { window._pyforest_update_imports_cell('import pandas as pd'); }\n",
       "    "
      ],
      "text/plain": [
       "<IPython.core.display.Javascript object>"
      ]
     },
     "metadata": {},
     "output_type": "display_data"
    },
    {
     "name": "stdout",
     "output_type": "stream",
     "text": [
      "Column: first_trip_tz\n",
      "Chi_Test: 2229.180451768042\n",
      "P_Value: 0.0\n",
      "Degree: 5\n",
      "*************\n"
     ]
    },
    {
     "data": {
      "application/javascript": [
       "\n",
       "        if (window._pyforest_update_imports_cell) { window._pyforest_update_imports_cell('import pandas as pd'); }\n",
       "    "
      ],
      "text/plain": [
       "<IPython.core.display.Javascript object>"
      ]
     },
     "metadata": {},
     "output_type": "display_data"
    },
    {
     "name": "stdout",
     "output_type": "stream",
     "text": [
      "Column: total_nights\n",
      "Chi_Test: 5637.712498230133\n",
      "P_Value: 0.0\n",
      "Degree: 150\n",
      "*************\n"
     ]
    },
    {
     "data": {
      "application/javascript": [
       "\n",
       "        if (window._pyforest_update_imports_cell) { window._pyforest_update_imports_cell('import pandas as pd'); }\n",
       "    "
      ],
      "text/plain": [
       "<IPython.core.display.Javascript object>"
      ]
     },
     "metadata": {},
     "output_type": "display_data"
    },
    {
     "name": "stdout",
     "output_type": "stream",
     "text": [
      "Column: tour_duration\n",
      "Chi_Test: 5637.712498230133\n",
      "P_Value: 0.0\n",
      "Degree: 150\n",
      "*************\n"
     ]
    },
    {
     "data": {
      "application/javascript": [
       "\n",
       "        if (window._pyforest_update_imports_cell) { window._pyforest_update_imports_cell('import pandas as pd'); }\n",
       "    "
      ],
      "text/plain": [
       "<IPython.core.display.Javascript object>"
      ]
     },
     "metadata": {},
     "output_type": "display_data"
    },
    {
     "name": "stdout",
     "output_type": "stream",
     "text": [
      "Column: total_people\n",
      "Chi_Test: 4481.239154927408\n",
      "P_Value: 0.0\n",
      "Degree: 35\n",
      "*************\n"
     ]
    },
    {
     "data": {
      "application/javascript": [
       "\n",
       "        if (window._pyforest_update_imports_cell) { window._pyforest_update_imports_cell('import pandas as pd'); }\n",
       "    "
      ],
      "text/plain": [
       "<IPython.core.display.Javascript object>"
      ]
     },
     "metadata": {},
     "output_type": "display_data"
    },
    {
     "name": "stdout",
     "output_type": "stream",
     "text": [
      "Column: av_tmale_per_tp\n",
      "Chi_Test: 4481.239154927408\n",
      "P_Value: 0.0\n",
      "Degree: 35\n",
      "*************\n"
     ]
    },
    {
     "data": {
      "application/javascript": [
       "\n",
       "        if (window._pyforest_update_imports_cell) { window._pyforest_update_imports_cell('import pandas as pd'); }\n",
       "    "
      ],
      "text/plain": [
       "<IPython.core.display.Javascript object>"
      ]
     },
     "metadata": {},
     "output_type": "display_data"
    },
    {
     "name": "stdout",
     "output_type": "stream",
     "text": [
      "Column: av_tfemale_per_tp\n",
      "Chi_Test: 4481.239154927408\n",
      "P_Value: 0.0\n",
      "Degree: 35\n",
      "*************\n"
     ]
    },
    {
     "data": {
      "application/javascript": [
       "\n",
       "        if (window._pyforest_update_imports_cell) { window._pyforest_update_imports_cell('import pandas as pd'); }\n",
       "    "
      ],
      "text/plain": [
       "<IPython.core.display.Javascript object>"
      ]
     },
     "metadata": {},
     "output_type": "display_data"
    },
    {
     "name": "stdout",
     "output_type": "stream",
     "text": [
      "Column: av_tp_per_purpose\n",
      "Chi_Test: 6975.312873617304\n",
      "P_Value: 0.0\n",
      "Degree: 35\n",
      "*************\n"
     ]
    },
    {
     "data": {
      "application/javascript": [
       "\n",
       "        if (window._pyforest_update_imports_cell) { window._pyforest_update_imports_cell('import pandas as pd'); }\n",
       "    "
      ],
      "text/plain": [
       "<IPython.core.display.Javascript object>"
      ]
     },
     "metadata": {},
     "output_type": "display_data"
    },
    {
     "name": "stdout",
     "output_type": "stream",
     "text": [
      "Column: info_source & purpose\n",
      "Chi_Test: 8490.143341971068\n",
      "P_Value: 0.0\n",
      "Degree: 245\n",
      "*************\n"
     ]
    },
    {
     "data": {
      "application/javascript": [
       "\n",
       "        if (window._pyforest_update_imports_cell) { window._pyforest_update_imports_cell('import pandas as pd'); }\n",
       "    "
      ],
      "text/plain": [
       "<IPython.core.display.Javascript object>"
      ]
     },
     "metadata": {},
     "output_type": "display_data"
    },
    {
     "name": "stdout",
     "output_type": "stream",
     "text": [
      "Column: mean_age_density_per_country\n",
      "Chi_Test: 9673.65915401822\n",
      "P_Value: 0.0\n",
      "Degree: 525\n",
      "*************\n"
     ]
    },
    {
     "data": {
      "application/javascript": [
       "\n",
       "        if (window._pyforest_update_imports_cell) { window._pyforest_update_imports_cell('import pandas as pd'); }\n",
       "    "
      ],
      "text/plain": [
       "<IPython.core.display.Javascript object>"
      ]
     },
     "metadata": {},
     "output_type": "display_data"
    },
    {
     "name": "stdout",
     "output_type": "stream",
     "text": [
      "Column: mean_age_density_per_main_activity\n",
      "Chi_Test: 3606.50524881434\n",
      "P_Value: 0.0\n",
      "Degree: 40\n",
      "*************\n"
     ]
    },
    {
     "data": {
      "application/javascript": [
       "\n",
       "        if (window._pyforest_update_imports_cell) { window._pyforest_update_imports_cell('import pandas as pd'); }\n",
       "    "
      ],
      "text/plain": [
       "<IPython.core.display.Javascript object>"
      ]
     },
     "metadata": {},
     "output_type": "display_data"
    },
    {
     "name": "stdout",
     "output_type": "stream",
     "text": [
      "Column: mean_age_density_per_info\n",
      "Chi_Test: 4166.3943611855575\n",
      "P_Value: 0.0\n",
      "Degree: 35\n",
      "*************\n"
     ]
    },
    {
     "data": {
      "application/javascript": [
       "\n",
       "        if (window._pyforest_update_imports_cell) { window._pyforest_update_imports_cell('import pandas as pd'); }\n",
       "    "
      ],
      "text/plain": [
       "<IPython.core.display.Javascript object>"
      ]
     },
     "metadata": {},
     "output_type": "display_data"
    },
    {
     "name": "stdout",
     "output_type": "stream",
     "text": [
      "Column: dominant_gender\n",
      "Chi_Test: 3035.429767588673\n",
      "P_Value: 0.0\n",
      "Degree: 10\n",
      "*************\n"
     ]
    },
    {
     "data": {
      "application/javascript": [
       "\n",
       "        if (window._pyforest_update_imports_cell) { window._pyforest_update_imports_cell('import pandas as pd'); }\n",
       "    "
      ],
      "text/plain": [
       "<IPython.core.display.Javascript object>"
      ]
     },
     "metadata": {},
     "output_type": "display_data"
    },
    {
     "name": "stdout",
     "output_type": "stream",
     "text": [
      "Column: av_stay_per_gender\n",
      "Chi_Test: 3035.4297675886723\n",
      "P_Value: 0.0\n",
      "Degree: 10\n",
      "*************\n"
     ]
    }
   ],
   "source": [
    "col_drop=[]\n",
    "\n",
    "for col in X.columns:\n",
    "    \n",
    "    ct=pd.crosstab(y, X[col])\n",
    "    chi2, P, dof , _ = chi2_contingency(ct)\n",
    "    \n",
    "    if P >= 0.05:\n",
    "        col_drop.append(col)\n",
    "    elif chi2 <= 1000:\n",
    "            col_drop.append(col)\n",
    "        \n",
    "    print(f\"Column: {col}\\nChi_Test: {chi2}\\nP_Value: {P}\\nDegree: {dof}\\n*************\")"
   ]
  },
  {
   "cell_type": "code",
   "execution_count": 8,
   "id": "7478277d-f019-4236-8e39-73322c206344",
   "metadata": {},
   "outputs": [
    {
     "data": {
      "text/plain": [
       "['Unnamed: 0', 'total_male']"
      ]
     },
     "execution_count": 8,
     "metadata": {},
     "output_type": "execute_result"
    }
   ],
   "source": [
    "col_drop"
   ]
  },
  {
   "cell_type": "code",
   "execution_count": 10,
   "id": "d31a59b2",
   "metadata": {},
   "outputs": [
    {
     "data": {
      "text/html": [
       "<div>\n",
       "<style scoped>\n",
       "    .dataframe tbody tr th:only-of-type {\n",
       "        vertical-align: middle;\n",
       "    }\n",
       "\n",
       "    .dataframe tbody tr th {\n",
       "        vertical-align: top;\n",
       "    }\n",
       "\n",
       "    .dataframe thead th {\n",
       "        text-align: right;\n",
       "    }\n",
       "</style>\n",
       "<table border=\"1\" class=\"dataframe\">\n",
       "  <thead>\n",
       "    <tr style=\"text-align: right;\">\n",
       "      <th></th>\n",
       "      <th>Unnamed: 0</th>\n",
       "      <th>age_group</th>\n",
       "      <th>total_female</th>\n",
       "      <th>total_male</th>\n",
       "      <th>night_mainland</th>\n",
       "      <th>night_zanzibar</th>\n",
       "      <th>total_nights</th>\n",
       "      <th>tour_duration</th>\n",
       "      <th>total_people</th>\n",
       "      <th>av_tmale_per_tp</th>\n",
       "      <th>av_tfemale_per_tp</th>\n",
       "      <th>av_tp_per_purpose</th>\n",
       "      <th>info_source &amp; purpose</th>\n",
       "      <th>mean_age_density_per_country</th>\n",
       "      <th>mean_age_density_per_main_activity</th>\n",
       "      <th>mean_age_density_per_info</th>\n",
       "      <th>av_stay_per_gender</th>\n",
       "    </tr>\n",
       "  </thead>\n",
       "  <tbody>\n",
       "    <tr>\n",
       "      <th>Unnamed: 0</th>\n",
       "      <td>100.000000</td>\n",
       "      <td>-0.217652</td>\n",
       "      <td>-0.981625</td>\n",
       "      <td>-0.563961</td>\n",
       "      <td>1.183625</td>\n",
       "      <td>0.260364</td>\n",
       "      <td>1.265310</td>\n",
       "      <td>1.265310</td>\n",
       "      <td>-1.115307</td>\n",
       "      <td>-1.024259</td>\n",
       "      <td>-1.174988</td>\n",
       "      <td>-0.007573</td>\n",
       "      <td>-0.507743</td>\n",
       "      <td>-1.084440</td>\n",
       "      <td>0.419684</td>\n",
       "      <td>-0.270853</td>\n",
       "      <td>-0.761313</td>\n",
       "    </tr>\n",
       "    <tr>\n",
       "      <th>age_group</th>\n",
       "      <td>-0.217652</td>\n",
       "      <td>100.000000</td>\n",
       "      <td>8.409811</td>\n",
       "      <td>0.729800</td>\n",
       "      <td>13.830332</td>\n",
       "      <td>-7.957662</td>\n",
       "      <td>9.447035</td>\n",
       "      <td>9.447035</td>\n",
       "      <td>6.614993</td>\n",
       "      <td>5.549499</td>\n",
       "      <td>7.476387</td>\n",
       "      <td>16.053674</td>\n",
       "      <td>17.496871</td>\n",
       "      <td>31.716640</td>\n",
       "      <td>19.541545</td>\n",
       "      <td>15.771007</td>\n",
       "      <td>10.521324</td>\n",
       "    </tr>\n",
       "    <tr>\n",
       "      <th>total_female</th>\n",
       "      <td>-0.981625</td>\n",
       "      <td>8.409811</td>\n",
       "      <td>100.000000</td>\n",
       "      <td>-3.707936</td>\n",
       "      <td>4.811092</td>\n",
       "      <td>24.015107</td>\n",
       "      <td>16.282994</td>\n",
       "      <td>16.282994</td>\n",
       "      <td>69.780012</td>\n",
       "      <td>66.952961</td>\n",
       "      <td>70.743155</td>\n",
       "      <td>36.955085</td>\n",
       "      <td>26.979974</td>\n",
       "      <td>18.012428</td>\n",
       "      <td>6.765221</td>\n",
       "      <td>19.622937</td>\n",
       "      <td>70.065051</td>\n",
       "    </tr>\n",
       "    <tr>\n",
       "      <th>total_male</th>\n",
       "      <td>-0.563961</td>\n",
       "      <td>0.729800</td>\n",
       "      <td>-3.707936</td>\n",
       "      <td>100.000000</td>\n",
       "      <td>-3.384140</td>\n",
       "      <td>7.882583</td>\n",
       "      <td>0.568595</td>\n",
       "      <td>0.568595</td>\n",
       "      <td>68.992597</td>\n",
       "      <td>69.988201</td>\n",
       "      <td>66.284384</td>\n",
       "      <td>7.798315</td>\n",
       "      <td>7.963056</td>\n",
       "      <td>-6.229813</td>\n",
       "      <td>1.723720</td>\n",
       "      <td>6.334085</td>\n",
       "      <td>-38.076974</td>\n",
       "    </tr>\n",
       "    <tr>\n",
       "      <th>night_mainland</th>\n",
       "      <td>1.183625</td>\n",
       "      <td>13.830332</td>\n",
       "      <td>4.811092</td>\n",
       "      <td>-3.384140</td>\n",
       "      <td>100.000000</td>\n",
       "      <td>-17.286378</td>\n",
       "      <td>87.838776</td>\n",
       "      <td>87.838776</td>\n",
       "      <td>1.059347</td>\n",
       "      <td>1.701097</td>\n",
       "      <td>0.412829</td>\n",
       "      <td>12.813799</td>\n",
       "      <td>6.998298</td>\n",
       "      <td>31.331043</td>\n",
       "      <td>26.543350</td>\n",
       "      <td>3.588157</td>\n",
       "      <td>3.155008</td>\n",
       "    </tr>\n",
       "    <tr>\n",
       "      <th>night_zanzibar</th>\n",
       "      <td>0.260364</td>\n",
       "      <td>-7.957662</td>\n",
       "      <td>24.015107</td>\n",
       "      <td>7.882583</td>\n",
       "      <td>-17.286378</td>\n",
       "      <td>100.000000</td>\n",
       "      <td>31.891210</td>\n",
       "      <td>31.891210</td>\n",
       "      <td>23.046137</td>\n",
       "      <td>19.690056</td>\n",
       "      <td>25.703385</td>\n",
       "      <td>33.340812</td>\n",
       "      <td>20.674372</td>\n",
       "      <td>-1.566558</td>\n",
       "      <td>-12.446340</td>\n",
       "      <td>14.999834</td>\n",
       "      <td>24.914074</td>\n",
       "    </tr>\n",
       "    <tr>\n",
       "      <th>total_nights</th>\n",
       "      <td>1.265310</td>\n",
       "      <td>9.447035</td>\n",
       "      <td>16.282994</td>\n",
       "      <td>0.568595</td>\n",
       "      <td>87.838776</td>\n",
       "      <td>31.891210</td>\n",
       "      <td>100.000000</td>\n",
       "      <td>100.000000</td>\n",
       "      <td>12.202605</td>\n",
       "      <td>11.191590</td>\n",
       "      <td>12.869919</td>\n",
       "      <td>28.509098</td>\n",
       "      <td>16.766574</td>\n",
       "      <td>29.388762</td>\n",
       "      <td>19.502250</td>\n",
       "      <td>10.731504</td>\n",
       "      <td>15.125621</td>\n",
       "    </tr>\n",
       "    <tr>\n",
       "      <th>tour_duration</th>\n",
       "      <td>1.265310</td>\n",
       "      <td>9.447035</td>\n",
       "      <td>16.282994</td>\n",
       "      <td>0.568595</td>\n",
       "      <td>87.838776</td>\n",
       "      <td>31.891210</td>\n",
       "      <td>100.000000</td>\n",
       "      <td>100.000000</td>\n",
       "      <td>12.202605</td>\n",
       "      <td>11.191590</td>\n",
       "      <td>12.869919</td>\n",
       "      <td>28.509098</td>\n",
       "      <td>16.766574</td>\n",
       "      <td>29.388762</td>\n",
       "      <td>19.502250</td>\n",
       "      <td>10.731504</td>\n",
       "      <td>15.125621</td>\n",
       "    </tr>\n",
       "    <tr>\n",
       "      <th>total_people</th>\n",
       "      <td>-1.115307</td>\n",
       "      <td>6.614993</td>\n",
       "      <td>69.780012</td>\n",
       "      <td>68.992597</td>\n",
       "      <td>1.059347</td>\n",
       "      <td>23.046137</td>\n",
       "      <td>12.202605</td>\n",
       "      <td>12.202605</td>\n",
       "      <td>100.000000</td>\n",
       "      <td>98.665781</td>\n",
       "      <td>98.756472</td>\n",
       "      <td>32.359172</td>\n",
       "      <td>25.251504</td>\n",
       "      <td>8.582368</td>\n",
       "      <td>6.136115</td>\n",
       "      <td>18.754605</td>\n",
       "      <td>23.460566</td>\n",
       "    </tr>\n",
       "    <tr>\n",
       "      <th>av_tmale_per_tp</th>\n",
       "      <td>-1.024259</td>\n",
       "      <td>5.549499</td>\n",
       "      <td>66.952961</td>\n",
       "      <td>69.988201</td>\n",
       "      <td>1.701097</td>\n",
       "      <td>19.690056</td>\n",
       "      <td>11.191590</td>\n",
       "      <td>11.191590</td>\n",
       "      <td>98.665781</td>\n",
       "      <td>100.000000</td>\n",
       "      <td>94.879294</td>\n",
       "      <td>27.839737</td>\n",
       "      <td>21.827021</td>\n",
       "      <td>6.756386</td>\n",
       "      <td>5.737721</td>\n",
       "      <td>16.206983</td>\n",
       "      <td>15.870905</td>\n",
       "    </tr>\n",
       "    <tr>\n",
       "      <th>av_tfemale_per_tp</th>\n",
       "      <td>-1.174988</td>\n",
       "      <td>7.476387</td>\n",
       "      <td>70.743155</td>\n",
       "      <td>66.284384</td>\n",
       "      <td>0.412829</td>\n",
       "      <td>25.703385</td>\n",
       "      <td>12.869919</td>\n",
       "      <td>12.869919</td>\n",
       "      <td>98.756472</td>\n",
       "      <td>94.879294</td>\n",
       "      <td>100.000000</td>\n",
       "      <td>35.903998</td>\n",
       "      <td>27.918964</td>\n",
       "      <td>10.128305</td>\n",
       "      <td>6.365458</td>\n",
       "      <td>20.739832</td>\n",
       "      <td>30.195415</td>\n",
       "    </tr>\n",
       "    <tr>\n",
       "      <th>av_tp_per_purpose</th>\n",
       "      <td>-0.007573</td>\n",
       "      <td>16.053674</td>\n",
       "      <td>36.955085</td>\n",
       "      <td>7.798315</td>\n",
       "      <td>12.813799</td>\n",
       "      <td>33.340812</td>\n",
       "      <td>28.509098</td>\n",
       "      <td>28.509098</td>\n",
       "      <td>32.359172</td>\n",
       "      <td>27.839737</td>\n",
       "      <td>35.903998</td>\n",
       "      <td>100.000000</td>\n",
       "      <td>65.164217</td>\n",
       "      <td>36.196441</td>\n",
       "      <td>13.649037</td>\n",
       "      <td>40.856608</td>\n",
       "      <td>39.178238</td>\n",
       "    </tr>\n",
       "    <tr>\n",
       "      <th>info_source &amp; purpose</th>\n",
       "      <td>-0.507743</td>\n",
       "      <td>17.496871</td>\n",
       "      <td>26.979974</td>\n",
       "      <td>7.963056</td>\n",
       "      <td>6.998298</td>\n",
       "      <td>20.674372</td>\n",
       "      <td>16.766574</td>\n",
       "      <td>16.766574</td>\n",
       "      <td>25.251504</td>\n",
       "      <td>21.827021</td>\n",
       "      <td>27.918964</td>\n",
       "      <td>65.164217</td>\n",
       "      <td>100.000000</td>\n",
       "      <td>26.598476</td>\n",
       "      <td>21.016678</td>\n",
       "      <td>81.932161</td>\n",
       "      <td>29.312305</td>\n",
       "    </tr>\n",
       "    <tr>\n",
       "      <th>mean_age_density_per_country</th>\n",
       "      <td>-1.084440</td>\n",
       "      <td>31.716640</td>\n",
       "      <td>18.012428</td>\n",
       "      <td>-6.229813</td>\n",
       "      <td>31.331043</td>\n",
       "      <td>-1.566558</td>\n",
       "      <td>29.388762</td>\n",
       "      <td>29.388762</td>\n",
       "      <td>8.582368</td>\n",
       "      <td>6.756386</td>\n",
       "      <td>10.128305</td>\n",
       "      <td>36.196441</td>\n",
       "      <td>26.598476</td>\n",
       "      <td>100.000000</td>\n",
       "      <td>26.161163</td>\n",
       "      <td>20.544903</td>\n",
       "      <td>22.420355</td>\n",
       "    </tr>\n",
       "    <tr>\n",
       "      <th>mean_age_density_per_main_activity</th>\n",
       "      <td>0.419684</td>\n",
       "      <td>19.541545</td>\n",
       "      <td>6.765221</td>\n",
       "      <td>1.723720</td>\n",
       "      <td>26.543350</td>\n",
       "      <td>-12.446340</td>\n",
       "      <td>19.502250</td>\n",
       "      <td>19.502250</td>\n",
       "      <td>6.136115</td>\n",
       "      <td>5.737721</td>\n",
       "      <td>6.365458</td>\n",
       "      <td>13.649037</td>\n",
       "      <td>21.016678</td>\n",
       "      <td>26.161163</td>\n",
       "      <td>100.000000</td>\n",
       "      <td>20.817597</td>\n",
       "      <td>7.442866</td>\n",
       "    </tr>\n",
       "    <tr>\n",
       "      <th>mean_age_density_per_info</th>\n",
       "      <td>-0.270853</td>\n",
       "      <td>15.771007</td>\n",
       "      <td>19.622937</td>\n",
       "      <td>6.334085</td>\n",
       "      <td>3.588157</td>\n",
       "      <td>14.999834</td>\n",
       "      <td>10.731504</td>\n",
       "      <td>10.731504</td>\n",
       "      <td>18.754605</td>\n",
       "      <td>16.206983</td>\n",
       "      <td>20.739832</td>\n",
       "      <td>40.856608</td>\n",
       "      <td>81.932161</td>\n",
       "      <td>20.544903</td>\n",
       "      <td>20.817597</td>\n",
       "      <td>100.000000</td>\n",
       "      <td>21.902219</td>\n",
       "    </tr>\n",
       "    <tr>\n",
       "      <th>av_stay_per_gender</th>\n",
       "      <td>-0.761313</td>\n",
       "      <td>10.521324</td>\n",
       "      <td>70.065051</td>\n",
       "      <td>-38.076974</td>\n",
       "      <td>3.155008</td>\n",
       "      <td>24.914074</td>\n",
       "      <td>15.125621</td>\n",
       "      <td>15.125621</td>\n",
       "      <td>23.460566</td>\n",
       "      <td>15.870905</td>\n",
       "      <td>30.195415</td>\n",
       "      <td>39.178238</td>\n",
       "      <td>29.312305</td>\n",
       "      <td>22.420355</td>\n",
       "      <td>7.442866</td>\n",
       "      <td>21.902219</td>\n",
       "      <td>100.000000</td>\n",
       "    </tr>\n",
       "  </tbody>\n",
       "</table>\n",
       "</div>"
      ],
      "text/plain": [
       "                                    Unnamed: 0   age_group  total_female  \\\n",
       "Unnamed: 0                          100.000000   -0.217652     -0.981625   \n",
       "age_group                            -0.217652  100.000000      8.409811   \n",
       "total_female                         -0.981625    8.409811    100.000000   \n",
       "total_male                           -0.563961    0.729800     -3.707936   \n",
       "night_mainland                        1.183625   13.830332      4.811092   \n",
       "night_zanzibar                        0.260364   -7.957662     24.015107   \n",
       "total_nights                          1.265310    9.447035     16.282994   \n",
       "tour_duration                         1.265310    9.447035     16.282994   \n",
       "total_people                         -1.115307    6.614993     69.780012   \n",
       "av_tmale_per_tp                      -1.024259    5.549499     66.952961   \n",
       "av_tfemale_per_tp                    -1.174988    7.476387     70.743155   \n",
       "av_tp_per_purpose                    -0.007573   16.053674     36.955085   \n",
       "info_source & purpose                -0.507743   17.496871     26.979974   \n",
       "mean_age_density_per_country         -1.084440   31.716640     18.012428   \n",
       "mean_age_density_per_main_activity    0.419684   19.541545      6.765221   \n",
       "mean_age_density_per_info            -0.270853   15.771007     19.622937   \n",
       "av_stay_per_gender                   -0.761313   10.521324     70.065051   \n",
       "\n",
       "                                    total_male  night_mainland  \\\n",
       "Unnamed: 0                           -0.563961        1.183625   \n",
       "age_group                             0.729800       13.830332   \n",
       "total_female                         -3.707936        4.811092   \n",
       "total_male                          100.000000       -3.384140   \n",
       "night_mainland                       -3.384140      100.000000   \n",
       "night_zanzibar                        7.882583      -17.286378   \n",
       "total_nights                          0.568595       87.838776   \n",
       "tour_duration                         0.568595       87.838776   \n",
       "total_people                         68.992597        1.059347   \n",
       "av_tmale_per_tp                      69.988201        1.701097   \n",
       "av_tfemale_per_tp                    66.284384        0.412829   \n",
       "av_tp_per_purpose                     7.798315       12.813799   \n",
       "info_source & purpose                 7.963056        6.998298   \n",
       "mean_age_density_per_country         -6.229813       31.331043   \n",
       "mean_age_density_per_main_activity    1.723720       26.543350   \n",
       "mean_age_density_per_info             6.334085        3.588157   \n",
       "av_stay_per_gender                  -38.076974        3.155008   \n",
       "\n",
       "                                    night_zanzibar  total_nights  \\\n",
       "Unnamed: 0                                0.260364      1.265310   \n",
       "age_group                                -7.957662      9.447035   \n",
       "total_female                             24.015107     16.282994   \n",
       "total_male                                7.882583      0.568595   \n",
       "night_mainland                          -17.286378     87.838776   \n",
       "night_zanzibar                          100.000000     31.891210   \n",
       "total_nights                             31.891210    100.000000   \n",
       "tour_duration                            31.891210    100.000000   \n",
       "total_people                             23.046137     12.202605   \n",
       "av_tmale_per_tp                          19.690056     11.191590   \n",
       "av_tfemale_per_tp                        25.703385     12.869919   \n",
       "av_tp_per_purpose                        33.340812     28.509098   \n",
       "info_source & purpose                    20.674372     16.766574   \n",
       "mean_age_density_per_country             -1.566558     29.388762   \n",
       "mean_age_density_per_main_activity      -12.446340     19.502250   \n",
       "mean_age_density_per_info                14.999834     10.731504   \n",
       "av_stay_per_gender                       24.914074     15.125621   \n",
       "\n",
       "                                    tour_duration  total_people  \\\n",
       "Unnamed: 0                               1.265310     -1.115307   \n",
       "age_group                                9.447035      6.614993   \n",
       "total_female                            16.282994     69.780012   \n",
       "total_male                               0.568595     68.992597   \n",
       "night_mainland                          87.838776      1.059347   \n",
       "night_zanzibar                          31.891210     23.046137   \n",
       "total_nights                           100.000000     12.202605   \n",
       "tour_duration                          100.000000     12.202605   \n",
       "total_people                            12.202605    100.000000   \n",
       "av_tmale_per_tp                         11.191590     98.665781   \n",
       "av_tfemale_per_tp                       12.869919     98.756472   \n",
       "av_tp_per_purpose                       28.509098     32.359172   \n",
       "info_source & purpose                   16.766574     25.251504   \n",
       "mean_age_density_per_country            29.388762      8.582368   \n",
       "mean_age_density_per_main_activity      19.502250      6.136115   \n",
       "mean_age_density_per_info               10.731504     18.754605   \n",
       "av_stay_per_gender                      15.125621     23.460566   \n",
       "\n",
       "                                    av_tmale_per_tp  av_tfemale_per_tp  \\\n",
       "Unnamed: 0                                -1.024259          -1.174988   \n",
       "age_group                                  5.549499           7.476387   \n",
       "total_female                              66.952961          70.743155   \n",
       "total_male                                69.988201          66.284384   \n",
       "night_mainland                             1.701097           0.412829   \n",
       "night_zanzibar                            19.690056          25.703385   \n",
       "total_nights                              11.191590          12.869919   \n",
       "tour_duration                             11.191590          12.869919   \n",
       "total_people                              98.665781          98.756472   \n",
       "av_tmale_per_tp                          100.000000          94.879294   \n",
       "av_tfemale_per_tp                         94.879294         100.000000   \n",
       "av_tp_per_purpose                         27.839737          35.903998   \n",
       "info_source & purpose                     21.827021          27.918964   \n",
       "mean_age_density_per_country               6.756386          10.128305   \n",
       "mean_age_density_per_main_activity         5.737721           6.365458   \n",
       "mean_age_density_per_info                 16.206983          20.739832   \n",
       "av_stay_per_gender                        15.870905          30.195415   \n",
       "\n",
       "                                    av_tp_per_purpose  info_source & purpose  \\\n",
       "Unnamed: 0                                  -0.007573              -0.507743   \n",
       "age_group                                   16.053674              17.496871   \n",
       "total_female                                36.955085              26.979974   \n",
       "total_male                                   7.798315               7.963056   \n",
       "night_mainland                              12.813799               6.998298   \n",
       "night_zanzibar                              33.340812              20.674372   \n",
       "total_nights                                28.509098              16.766574   \n",
       "tour_duration                               28.509098              16.766574   \n",
       "total_people                                32.359172              25.251504   \n",
       "av_tmale_per_tp                             27.839737              21.827021   \n",
       "av_tfemale_per_tp                           35.903998              27.918964   \n",
       "av_tp_per_purpose                          100.000000              65.164217   \n",
       "info_source & purpose                       65.164217             100.000000   \n",
       "mean_age_density_per_country                36.196441              26.598476   \n",
       "mean_age_density_per_main_activity          13.649037              21.016678   \n",
       "mean_age_density_per_info                   40.856608              81.932161   \n",
       "av_stay_per_gender                          39.178238              29.312305   \n",
       "\n",
       "                                    mean_age_density_per_country  \\\n",
       "Unnamed: 0                                             -1.084440   \n",
       "age_group                                              31.716640   \n",
       "total_female                                           18.012428   \n",
       "total_male                                             -6.229813   \n",
       "night_mainland                                         31.331043   \n",
       "night_zanzibar                                         -1.566558   \n",
       "total_nights                                           29.388762   \n",
       "tour_duration                                          29.388762   \n",
       "total_people                                            8.582368   \n",
       "av_tmale_per_tp                                         6.756386   \n",
       "av_tfemale_per_tp                                      10.128305   \n",
       "av_tp_per_purpose                                      36.196441   \n",
       "info_source & purpose                                  26.598476   \n",
       "mean_age_density_per_country                          100.000000   \n",
       "mean_age_density_per_main_activity                     26.161163   \n",
       "mean_age_density_per_info                              20.544903   \n",
       "av_stay_per_gender                                     22.420355   \n",
       "\n",
       "                                    mean_age_density_per_main_activity  \\\n",
       "Unnamed: 0                                                    0.419684   \n",
       "age_group                                                    19.541545   \n",
       "total_female                                                  6.765221   \n",
       "total_male                                                    1.723720   \n",
       "night_mainland                                               26.543350   \n",
       "night_zanzibar                                              -12.446340   \n",
       "total_nights                                                 19.502250   \n",
       "tour_duration                                                19.502250   \n",
       "total_people                                                  6.136115   \n",
       "av_tmale_per_tp                                               5.737721   \n",
       "av_tfemale_per_tp                                             6.365458   \n",
       "av_tp_per_purpose                                            13.649037   \n",
       "info_source & purpose                                        21.016678   \n",
       "mean_age_density_per_country                                 26.161163   \n",
       "mean_age_density_per_main_activity                          100.000000   \n",
       "mean_age_density_per_info                                    20.817597   \n",
       "av_stay_per_gender                                            7.442866   \n",
       "\n",
       "                                    mean_age_density_per_info  \\\n",
       "Unnamed: 0                                          -0.270853   \n",
       "age_group                                           15.771007   \n",
       "total_female                                        19.622937   \n",
       "total_male                                           6.334085   \n",
       "night_mainland                                       3.588157   \n",
       "night_zanzibar                                      14.999834   \n",
       "total_nights                                        10.731504   \n",
       "tour_duration                                       10.731504   \n",
       "total_people                                        18.754605   \n",
       "av_tmale_per_tp                                     16.206983   \n",
       "av_tfemale_per_tp                                   20.739832   \n",
       "av_tp_per_purpose                                   40.856608   \n",
       "info_source & purpose                               81.932161   \n",
       "mean_age_density_per_country                        20.544903   \n",
       "mean_age_density_per_main_activity                  20.817597   \n",
       "mean_age_density_per_info                          100.000000   \n",
       "av_stay_per_gender                                  21.902219   \n",
       "\n",
       "                                    av_stay_per_gender  \n",
       "Unnamed: 0                                   -0.761313  \n",
       "age_group                                    10.521324  \n",
       "total_female                                 70.065051  \n",
       "total_male                                  -38.076974  \n",
       "night_mainland                                3.155008  \n",
       "night_zanzibar                               24.914074  \n",
       "total_nights                                 15.125621  \n",
       "tour_duration                                15.125621  \n",
       "total_people                                 23.460566  \n",
       "av_tmale_per_tp                              15.870905  \n",
       "av_tfemale_per_tp                            30.195415  \n",
       "av_tp_per_purpose                            39.178238  \n",
       "info_source & purpose                        29.312305  \n",
       "mean_age_density_per_country                 22.420355  \n",
       "mean_age_density_per_main_activity            7.442866  \n",
       "mean_age_density_per_info                    21.902219  \n",
       "av_stay_per_gender                          100.000000  "
      ]
     },
     "execution_count": 10,
     "metadata": {},
     "output_type": "execute_result"
    }
   ],
   "source": [
    "#X.loc[:, 'age_group_sqrt'] = X.age_group.apply(np.sqrt)\n",
    "X.corr().T*100"
   ]
  },
  {
   "cell_type": "code",
   "execution_count": 12,
   "id": "cd629a22-7a98-4c0b-82b3-751658c880be",
   "metadata": {},
   "outputs": [],
   "source": [
    "#X.drop(columns= col_drop, inplace=True)\n",
    "#from preprocess import separate\n",
    "from sklearn.pipeline import Pipeline, FeatureUnion, make_pipeline\n",
    "from sklearn.impute import SimpleImputer, KNNImputer\n",
    "from sklearn.preprocessing import StandardScaler, OneHotEncoder, MinMaxScaler, OrdinalEncoder, RobustScaler\n",
    "from sklearn.compose import ColumnTransformer\n",
    "from sklearn.feature_extraction.text import CountVectorizer, TfidfVectorizer, HashingVectorizer\n",
    "from sklearn.feature_extraction import DictVectorizer\n",
    "import pandas as pd\n",
    "\n",
    "cat=[]\n",
    "text=[]\n",
    "for col in X.select_dtypes(['object', 'category']).columns:\n",
    "    if col not in ['cost_category']:\n",
    "        num_values=len(X[col].unique())\n",
    "\n",
    "        if num_values<=20:\n",
    "            cat.append(col)\n",
    "        else:\n",
    "            text.append(col)\n",
    "num= [col for col in X.select_dtypes('int','float').columns]\n",
    "\n",
    "num_pipeline=Pipeline([\n",
    "    (\"imputer\", KNNImputer(n_neighbors=3)),\n",
    "    (\"scaler\", StandardScaler()),\n",
    "])\n",
    "\n",
    "cat_pipeline=Pipeline([\n",
    "    (\"imputer\", SimpleImputer(strategy='most_frequent')),\n",
    "    (\"encoder\", OneHotEncoder(sparse_output=False)),\n",
    "])\n",
    "\n",
    "text_pipeline=Pipeline([\n",
    "    (\"vectorizer\",OneHotEncoder(sparse_output=False)),\n",
    "])\n",
    "\n",
    "pipe = ColumnTransformer([\n",
    "    (\"cat\", cat_pipeline, cat),\n",
    "    (\"num\", num_pipeline, num),\n",
    "    (\"text\", text_pipeline, text),\n",
    "])\n",
    "\n",
    "\n"
   ]
  },
  {
   "cell_type": "code",
   "execution_count": 13,
   "id": "5fd032ef-815f-4cdf-b995-7a5f9ca5a4d2",
   "metadata": {},
   "outputs": [
    {
     "data": {
      "text/plain": [
       "(18506, 77)"
      ]
     },
     "execution_count": 13,
     "metadata": {},
     "output_type": "execute_result"
    }
   ],
   "source": [
    "X=pipe2(X)\n",
    "X.shape"
   ]
  },
  {
   "cell_type": "code",
   "execution_count": 14,
   "id": "037eba47-8792-4377-964b-b8c435a710ba",
   "metadata": {},
   "outputs": [],
   "source": [
    "le=LabelEncoder()\n",
    "y=le.fit_transform(y)"
   ]
  },
  {
   "cell_type": "code",
   "execution_count": 36,
   "id": "80932258-f3cd-44b5-ae9d-1e26f371f479",
   "metadata": {},
   "outputs": [
    {
     "name": "stdout",
     "output_type": "stream",
     "text": [
      "X_train: (14804, 77)\n",
      "X_test: (3702, 77)\n",
      "y_train: (14804,)\n",
      "y_test: (3702,)\n"
     ]
    }
   ],
   "source": [
    "X_train, X_test, y_train, y_test= train_test_split(X, y, test_size=0.2, stratify=y, random_state=1)\n",
    "\n",
    "print(f\"X_train: {X_train.shape}\\nX_test: {X_test.shape}\\ny_train: {y_train.shape}\\ny_test: {y_test.shape}\")"
   ]
  },
  {
   "cell_type": "code",
   "execution_count": 16,
   "id": "d8d3c6c4",
   "metadata": {},
   "outputs": [
    {
     "data": {
      "text/plain": [
       "array([[-0.00796989,  2.08707419, -1.53474561, ..., -0.02941654,\n",
       "        -0.20047159, -0.17826851],\n",
       "       [ 1.06080381, -0.43594552,  0.92023714, ..., -0.02941654,\n",
       "        -0.20047159, -0.17826851],\n",
       "       [ 1.06080381, -0.43594552,  0.92023714, ..., -0.02941654,\n",
       "        -0.20047159, -0.17826851],\n",
       "       ...,\n",
       "       [ 1.59519066, -0.43594552,  0.92023714, ..., -0.02941654,\n",
       "        -0.20047159, -0.17826851],\n",
       "       [ 1.06080381, -0.43594552, -0.61412708, ..., -0.02941654,\n",
       "        -0.20047159, -0.17826851],\n",
       "       [ 1.59519066,  2.08707419,  0.92023714, ..., -0.02941654,\n",
       "        -0.20047159, -0.17826851]])"
      ]
     },
     "execution_count": 16,
     "metadata": {},
     "output_type": "execute_result"
    }
   ],
   "source": [
    "X"
   ]
  },
  {
   "cell_type": "code",
   "execution_count": 30,
   "id": "af61321b-7c37-40d3-bc1e-fb6154d11fcf",
   "metadata": {},
   "outputs": [],
   "source": [
    "from sklearn.discriminant_analysis import LinearDiscriminantAnalysis as LDA\n",
    "\n",
    "estimators = list(range(100, 500, 50))\n",
    "oob_score = []\n",
    "\n",
    "lda = LDA()\n",
    "#lda.fit(X_train, y_train)\n",
    "#X_test = lda.transform(X_test)\n",
    "for i in estimators:\n",
    "    rf=RandomForestClassifier(n_estimators= i,\n",
    "                          criterion = 'gini',\n",
    "                          n_jobs=1,\n",
    "                          max_depth= 4,\n",
    "                          oob_score=True,\n",
    "                          random_state=1)\n",
    "\n",
    "    rf.fit(X_train, y_train)\n",
    "    oob_score.append(rf.oob_score_)"
   ]
  },
  {
   "cell_type": "code",
   "execution_count": 31,
   "id": "1717ee65",
   "metadata": {},
   "outputs": [
    {
     "data": {
      "text/plain": [
       "[0.48507160226965684,\n",
       " 0.4813563901648203,\n",
       " 0.4810861929208322,\n",
       " 0.4837206160497163,\n",
       " 0.48216698189678464,\n",
       " 0.4823020805187787,\n",
       " 0.48068089705485006,\n",
       " 0.4811537422318292]"
      ]
     },
     "execution_count": 31,
     "metadata": {},
     "output_type": "execute_result"
    }
   ],
   "source": [
    "oob_score"
   ]
  },
  {
   "cell_type": "code",
   "execution_count": 32,
   "id": "92e227c9",
   "metadata": {},
   "outputs": [
    {
     "data": {
      "application/javascript": [
       "\n",
       "        if (window._pyforest_update_imports_cell) { window._pyforest_update_imports_cell('import pandas as pd\\nimport matplotlib.pyplot as plt'); }\n",
       "    "
      ],
      "text/plain": [
       "<IPython.core.display.Javascript object>"
      ]
     },
     "metadata": {},
     "output_type": "display_data"
    },
    {
     "data": {
      "application/javascript": [
       "\n",
       "        if (window._pyforest_update_imports_cell) { window._pyforest_update_imports_cell('import pandas as pd\\nimport matplotlib.pyplot as plt'); }\n",
       "    "
      ],
      "text/plain": [
       "<IPython.core.display.Javascript object>"
      ]
     },
     "metadata": {},
     "output_type": "display_data"
    },
    {
     "data": {
      "text/plain": [
       "Text(0, 0.5, 'Error rate.')"
      ]
     },
     "execution_count": 32,
     "metadata": {},
     "output_type": "execute_result"
    },
    {
     "data": {
      "image/png": "[encoded data removed]",
      "text/plain": [
       "<Figure size 640x480 with 1 Axes>"
      ]
     },
     "metadata": {},
     "output_type": "display_data"
    }
   ],
   "source": [
    "error = pd.DataFrame({'estimator':estimators,\n",
    "                     'error': oob_score})\n",
    "error.plot(x='estimator', y='error')\n",
    "plt.xlabel('No of Trees.')\n",
    "plt.ylabel('Error rate.')"
   ]
  },
  {
   "cell_type": "code",
   "execution_count": 37,
   "id": "f7521573",
   "metadata": {},
   "outputs": [
    {
     "data": {
      "text/plain": [
       "(3702, 77)"
      ]
     },
     "execution_count": 37,
     "metadata": {},
     "output_type": "execute_result"
    }
   ],
   "source": [
    "X_test.shape"
   ]
  },
  {
   "cell_type": "code",
   "execution_count": 38,
   "id": "5a264a6b",
   "metadata": {},
   "outputs": [
    {
     "name": "stdout",
     "output_type": "stream",
     "text": [
      "              precision    recall  f1-score   support\n",
      "\n",
      "   High Cost       0.07      0.53      0.12        92\n",
      " Higher Cost       0.88      0.50      0.64      1720\n",
      "Highest Cost       0.00      0.00      0.00         0\n",
      "    Low Cost       0.00      0.00      0.00         0\n",
      "  Lower Cost       0.14      0.82      0.24        87\n",
      " Normal Cost       0.75      0.46      0.57      1803\n",
      "\n",
      "    accuracy                           0.49      3702\n",
      "   macro avg       0.31      0.38      0.26      3702\n",
      "weighted avg       0.78      0.49      0.58      3702\n",
      "\n"
     ]
    }
   ],
   "source": [
    "y_pred=rf.predict(X_test)\n",
    "\n",
    "print(classification_report(y_pred, y_test, zero_division=0, target_names=le.classes_))"
   ]
  },
  {
   "cell_type": "code",
   "execution_count": 109,
   "id": "18206a6a",
   "metadata": {},
   "outputs": [],
   "source": [
    "#np.random.permutation(xt.columns.values)"
   ]
  },
  {
   "cell_type": "code",
   "execution_count": null,
   "id": "4d860d11",
   "metadata": {},
   "outputs": [],
   "source": []
  },
  {
   "cell_type": "code",
   "execution_count": 39,
   "id": "317d8fe1",
   "metadata": {
    "collapsed": true
   },
   "outputs": [
    {
     "ename": "AttributeError",
     "evalue": "'ColumnTransformer' object has no attribute 'transformers_'",
     "output_type": "error",
     "traceback": [
      "\u001b[1;31m---------------------------------------------------------------------------\u001b[0m",
      "\u001b[1;31mAttributeError\u001b[0m                            Traceback (most recent call last)",
      "\u001b[1;32m~\\AppData\\Local\\Temp\\ipykernel_11628\\1586818393.py\u001b[0m in \u001b[0;36m<module>\u001b[1;34m\u001b[0m\n\u001b[0;32m      1\u001b[0m \u001b[1;31m#text = pipe.transformers_[2][1].get_feature_names_out().tolist()\u001b[0m\u001b[1;33m\u001b[0m\u001b[1;33m\u001b[0m\u001b[0m\n\u001b[1;32m----> 2\u001b[1;33m \u001b[0mcat\u001b[0m \u001b[1;33m=\u001b[0m \u001b[0mpipe\u001b[0m\u001b[1;33m.\u001b[0m\u001b[0mtransformers_\u001b[0m\u001b[1;33m[\u001b[0m\u001b[1;36m1\u001b[0m\u001b[1;33m]\u001b[0m\u001b[1;33m[\u001b[0m\u001b[1;36m1\u001b[0m\u001b[1;33m]\u001b[0m\u001b[1;33m.\u001b[0m\u001b[0mget_feature_names_out\u001b[0m\u001b[1;33m(\u001b[0m\u001b[1;33m)\u001b[0m\u001b[1;33m.\u001b[0m\u001b[0mtolist\u001b[0m\u001b[1;33m(\u001b[0m\u001b[1;33m)\u001b[0m\u001b[1;33m\u001b[0m\u001b[1;33m\u001b[0m\u001b[0m\n\u001b[0m\u001b[0;32m      3\u001b[0m \u001b[0mnum\u001b[0m \u001b[1;33m=\u001b[0m \u001b[0mpipe\u001b[0m\u001b[1;33m.\u001b[0m\u001b[0mtransformers_\u001b[0m\u001b[1;33m[\u001b[0m\u001b[1;36m0\u001b[0m\u001b[1;33m]\u001b[0m\u001b[1;33m[\u001b[0m\u001b[1;36m1\u001b[0m\u001b[1;33m]\u001b[0m\u001b[1;33m.\u001b[0m\u001b[0mget_feature_names_out\u001b[0m\u001b[1;33m(\u001b[0m\u001b[1;33m)\u001b[0m\u001b[1;33m.\u001b[0m\u001b[0mtolist\u001b[0m\u001b[1;33m(\u001b[0m\u001b[1;33m)\u001b[0m\u001b[1;33m\u001b[0m\u001b[1;33m\u001b[0m\u001b[0m\n\u001b[0;32m      4\u001b[0m \u001b[0mcolumns\u001b[0m \u001b[1;33m=\u001b[0m  \u001b[0mcat\u001b[0m \u001b[1;33m+\u001b[0m\u001b[0mnum\u001b[0m\u001b[1;33m\u001b[0m\u001b[1;33m\u001b[0m\u001b[0m\n",
      "\u001b[1;31mAttributeError\u001b[0m: 'ColumnTransformer' object has no attribute 'transformers_'"
     ]
    }
   ],
   "source": [
    "#text = pipe.transformers_[2][1].get_feature_names_out().tolist()\n",
    "cat = pipe.transformers_[1][1].get_feature_names_out().tolist()\n",
    "num = pipe.transformers_[0][1].get_feature_names_out().tolist()\n",
    "columns =  cat +num"
   ]
  },
  {
   "cell_type": "code",
   "execution_count": 111,
   "id": "667a2a9e",
   "metadata": {},
   "outputs": [
    {
     "data": {
      "text/html": [
       "<div>\n",
       "<style scoped>\n",
       "    .dataframe tbody tr th:only-of-type {\n",
       "        vertical-align: middle;\n",
       "    }\n",
       "\n",
       "    .dataframe tbody tr th {\n",
       "        vertical-align: top;\n",
       "    }\n",
       "\n",
       "    .dataframe thead th {\n",
       "        text-align: right;\n",
       "    }\n",
       "</style>\n",
       "<table border=\"1\" class=\"dataframe\">\n",
       "  <thead>\n",
       "    <tr style=\"text-align: right;\">\n",
       "      <th></th>\n",
       "      <th>total_nights</th>\n",
       "      <th>travel_with_Alone</th>\n",
       "      <th>travel_with_With Children</th>\n",
       "      <th>travel_with_With Other Friends/Relatives</th>\n",
       "      <th>travel_with_With Spouse</th>\n",
       "      <th>travel_with_With Spouse and Children</th>\n",
       "      <th>purpose_Business</th>\n",
       "      <th>purpose_Leisure and Holidays</th>\n",
       "      <th>purpose_Medical</th>\n",
       "      <th>purpose_Meetings and Conference</th>\n",
       "      <th>...</th>\n",
       "      <th>main_activity_Conference Tourism</th>\n",
       "      <th>main_activity_Cultural Tourism</th>\n",
       "      <th>main_activity_Diving and Sport Fishing</th>\n",
       "      <th>main_activity_Hunting Tourism</th>\n",
       "      <th>main_activity_Mountain Climbing</th>\n",
       "      <th>main_activity_Wildlife Tourism</th>\n",
       "      <th>tour_arrangement_Independent</th>\n",
       "      <th>tour_arrangement_Package Tour</th>\n",
       "      <th>package_guided_tour_No</th>\n",
       "      <th>package_guided_tour_Yes</th>\n",
       "    </tr>\n",
       "  </thead>\n",
       "  <tbody>\n",
       "    <tr>\n",
       "      <th>0</th>\n",
       "      <td>0.0</td>\n",
       "      <td>0.0</td>\n",
       "      <td>0.0</td>\n",
       "      <td>1.0</td>\n",
       "      <td>0.0</td>\n",
       "      <td>0.0</td>\n",
       "      <td>1.0</td>\n",
       "      <td>0.0</td>\n",
       "      <td>0.0</td>\n",
       "      <td>0.0</td>\n",
       "      <td>...</td>\n",
       "      <td>0.0</td>\n",
       "      <td>0.0</td>\n",
       "      <td>0.0</td>\n",
       "      <td>0.0</td>\n",
       "      <td>1.0</td>\n",
       "      <td>0.0</td>\n",
       "      <td>1.0</td>\n",
       "      <td>0.0</td>\n",
       "      <td>1.0</td>\n",
       "      <td>-0.591880</td>\n",
       "    </tr>\n",
       "    <tr>\n",
       "      <th>1</th>\n",
       "      <td>1.0</td>\n",
       "      <td>0.0</td>\n",
       "      <td>0.0</td>\n",
       "      <td>0.0</td>\n",
       "      <td>0.0</td>\n",
       "      <td>1.0</td>\n",
       "      <td>0.0</td>\n",
       "      <td>0.0</td>\n",
       "      <td>0.0</td>\n",
       "      <td>0.0</td>\n",
       "      <td>...</td>\n",
       "      <td>0.0</td>\n",
       "      <td>0.0</td>\n",
       "      <td>1.0</td>\n",
       "      <td>0.0</td>\n",
       "      <td>0.0</td>\n",
       "      <td>1.0</td>\n",
       "      <td>0.0</td>\n",
       "      <td>1.0</td>\n",
       "      <td>0.0</td>\n",
       "      <td>0.230643</td>\n",
       "    </tr>\n",
       "    <tr>\n",
       "      <th>2</th>\n",
       "      <td>0.0</td>\n",
       "      <td>0.0</td>\n",
       "      <td>0.0</td>\n",
       "      <td>1.0</td>\n",
       "      <td>0.0</td>\n",
       "      <td>0.0</td>\n",
       "      <td>1.0</td>\n",
       "      <td>0.0</td>\n",
       "      <td>0.0</td>\n",
       "      <td>0.0</td>\n",
       "      <td>...</td>\n",
       "      <td>0.0</td>\n",
       "      <td>0.0</td>\n",
       "      <td>0.0</td>\n",
       "      <td>0.0</td>\n",
       "      <td>1.0</td>\n",
       "      <td>0.0</td>\n",
       "      <td>1.0</td>\n",
       "      <td>0.0</td>\n",
       "      <td>1.0</td>\n",
       "      <td>0.162099</td>\n",
       "    </tr>\n",
       "    <tr>\n",
       "      <th>3</th>\n",
       "      <td>1.0</td>\n",
       "      <td>0.0</td>\n",
       "      <td>0.0</td>\n",
       "      <td>0.0</td>\n",
       "      <td>0.0</td>\n",
       "      <td>1.0</td>\n",
       "      <td>0.0</td>\n",
       "      <td>0.0</td>\n",
       "      <td>0.0</td>\n",
       "      <td>0.0</td>\n",
       "      <td>...</td>\n",
       "      <td>0.0</td>\n",
       "      <td>0.0</td>\n",
       "      <td>0.0</td>\n",
       "      <td>0.0</td>\n",
       "      <td>0.0</td>\n",
       "      <td>1.0</td>\n",
       "      <td>0.0</td>\n",
       "      <td>1.0</td>\n",
       "      <td>0.0</td>\n",
       "      <td>-0.523336</td>\n",
       "    </tr>\n",
       "    <tr>\n",
       "      <th>4</th>\n",
       "      <td>0.0</td>\n",
       "      <td>0.0</td>\n",
       "      <td>0.0</td>\n",
       "      <td>1.0</td>\n",
       "      <td>0.0</td>\n",
       "      <td>0.0</td>\n",
       "      <td>1.0</td>\n",
       "      <td>0.0</td>\n",
       "      <td>0.0</td>\n",
       "      <td>0.0</td>\n",
       "      <td>...</td>\n",
       "      <td>0.0</td>\n",
       "      <td>0.0</td>\n",
       "      <td>0.0</td>\n",
       "      <td>0.0</td>\n",
       "      <td>1.0</td>\n",
       "      <td>0.0</td>\n",
       "      <td>1.0</td>\n",
       "      <td>0.0</td>\n",
       "      <td>1.0</td>\n",
       "      <td>-0.454793</td>\n",
       "    </tr>\n",
       "    <tr>\n",
       "      <th>...</th>\n",
       "      <td>...</td>\n",
       "      <td>...</td>\n",
       "      <td>...</td>\n",
       "      <td>...</td>\n",
       "      <td>...</td>\n",
       "      <td>...</td>\n",
       "      <td>...</td>\n",
       "      <td>...</td>\n",
       "      <td>...</td>\n",
       "      <td>...</td>\n",
       "      <td>...</td>\n",
       "      <td>...</td>\n",
       "      <td>...</td>\n",
       "      <td>...</td>\n",
       "      <td>...</td>\n",
       "      <td>...</td>\n",
       "      <td>...</td>\n",
       "      <td>...</td>\n",
       "      <td>...</td>\n",
       "      <td>...</td>\n",
       "      <td>...</td>\n",
       "    </tr>\n",
       "    <tr>\n",
       "      <th>3697</th>\n",
       "      <td>1.0</td>\n",
       "      <td>0.0</td>\n",
       "      <td>0.0</td>\n",
       "      <td>0.0</td>\n",
       "      <td>0.0</td>\n",
       "      <td>0.0</td>\n",
       "      <td>0.0</td>\n",
       "      <td>0.0</td>\n",
       "      <td>0.0</td>\n",
       "      <td>0.0</td>\n",
       "      <td>...</td>\n",
       "      <td>0.0</td>\n",
       "      <td>0.0</td>\n",
       "      <td>0.0</td>\n",
       "      <td>0.0</td>\n",
       "      <td>0.0</td>\n",
       "      <td>1.0</td>\n",
       "      <td>0.0</td>\n",
       "      <td>1.0</td>\n",
       "      <td>0.0</td>\n",
       "      <td>-0.386249</td>\n",
       "    </tr>\n",
       "    <tr>\n",
       "      <th>3698</th>\n",
       "      <td>1.0</td>\n",
       "      <td>0.0</td>\n",
       "      <td>0.0</td>\n",
       "      <td>0.0</td>\n",
       "      <td>0.0</td>\n",
       "      <td>0.0</td>\n",
       "      <td>0.0</td>\n",
       "      <td>0.0</td>\n",
       "      <td>1.0</td>\n",
       "      <td>0.0</td>\n",
       "      <td>...</td>\n",
       "      <td>0.0</td>\n",
       "      <td>0.0</td>\n",
       "      <td>0.0</td>\n",
       "      <td>1.0</td>\n",
       "      <td>0.0</td>\n",
       "      <td>1.0</td>\n",
       "      <td>0.0</td>\n",
       "      <td>1.0</td>\n",
       "      <td>0.0</td>\n",
       "      <td>-0.386249</td>\n",
       "    </tr>\n",
       "    <tr>\n",
       "      <th>3699</th>\n",
       "      <td>1.0</td>\n",
       "      <td>0.0</td>\n",
       "      <td>0.0</td>\n",
       "      <td>0.0</td>\n",
       "      <td>0.0</td>\n",
       "      <td>0.0</td>\n",
       "      <td>0.0</td>\n",
       "      <td>0.0</td>\n",
       "      <td>0.0</td>\n",
       "      <td>0.0</td>\n",
       "      <td>...</td>\n",
       "      <td>0.0</td>\n",
       "      <td>0.0</td>\n",
       "      <td>1.0</td>\n",
       "      <td>0.0</td>\n",
       "      <td>0.0</td>\n",
       "      <td>1.0</td>\n",
       "      <td>0.0</td>\n",
       "      <td>1.0</td>\n",
       "      <td>0.0</td>\n",
       "      <td>-0.523336</td>\n",
       "    </tr>\n",
       "    <tr>\n",
       "      <th>3700</th>\n",
       "      <td>0.0</td>\n",
       "      <td>0.0</td>\n",
       "      <td>0.0</td>\n",
       "      <td>1.0</td>\n",
       "      <td>0.0</td>\n",
       "      <td>0.0</td>\n",
       "      <td>1.0</td>\n",
       "      <td>0.0</td>\n",
       "      <td>0.0</td>\n",
       "      <td>0.0</td>\n",
       "      <td>...</td>\n",
       "      <td>0.0</td>\n",
       "      <td>0.0</td>\n",
       "      <td>0.0</td>\n",
       "      <td>0.0</td>\n",
       "      <td>0.0</td>\n",
       "      <td>0.0</td>\n",
       "      <td>1.0</td>\n",
       "      <td>1.0</td>\n",
       "      <td>0.0</td>\n",
       "      <td>-0.317706</td>\n",
       "    </tr>\n",
       "    <tr>\n",
       "      <th>3701</th>\n",
       "      <td>0.0</td>\n",
       "      <td>0.0</td>\n",
       "      <td>0.0</td>\n",
       "      <td>1.0</td>\n",
       "      <td>0.0</td>\n",
       "      <td>0.0</td>\n",
       "      <td>1.0</td>\n",
       "      <td>0.0</td>\n",
       "      <td>0.0</td>\n",
       "      <td>0.0</td>\n",
       "      <td>...</td>\n",
       "      <td>0.0</td>\n",
       "      <td>0.0</td>\n",
       "      <td>0.0</td>\n",
       "      <td>0.0</td>\n",
       "      <td>1.0</td>\n",
       "      <td>0.0</td>\n",
       "      <td>1.0</td>\n",
       "      <td>0.0</td>\n",
       "      <td>1.0</td>\n",
       "      <td>-0.249162</td>\n",
       "    </tr>\n",
       "  </tbody>\n",
       "</table>\n",
       "<p>3702 rows × 27 columns</p>\n",
       "</div>"
      ],
      "text/plain": [
       "      total_nights  travel_with_Alone  travel_with_With Children  \\\n",
       "0              0.0                0.0                        0.0   \n",
       "1              1.0                0.0                        0.0   \n",
       "2              0.0                0.0                        0.0   \n",
       "3              1.0                0.0                        0.0   \n",
       "4              0.0                0.0                        0.0   \n",
       "...            ...                ...                        ...   \n",
       "3697           1.0                0.0                        0.0   \n",
       "3698           1.0                0.0                        0.0   \n",
       "3699           1.0                0.0                        0.0   \n",
       "3700           0.0                0.0                        0.0   \n",
       "3701           0.0                0.0                        0.0   \n",
       "\n",
       "      travel_with_With Other Friends/Relatives  travel_with_With Spouse  \\\n",
       "0                                          1.0                      0.0   \n",
       "1                                          0.0                      0.0   \n",
       "2                                          1.0                      0.0   \n",
       "3                                          0.0                      0.0   \n",
       "4                                          1.0                      0.0   \n",
       "...                                        ...                      ...   \n",
       "3697                                       0.0                      0.0   \n",
       "3698                                       0.0                      0.0   \n",
       "3699                                       0.0                      0.0   \n",
       "3700                                       1.0                      0.0   \n",
       "3701                                       1.0                      0.0   \n",
       "\n",
       "      travel_with_With Spouse and Children  purpose_Business  \\\n",
       "0                                      0.0               1.0   \n",
       "1                                      1.0               0.0   \n",
       "2                                      0.0               1.0   \n",
       "3                                      1.0               0.0   \n",
       "4                                      0.0               1.0   \n",
       "...                                    ...               ...   \n",
       "3697                                   0.0               0.0   \n",
       "3698                                   0.0               0.0   \n",
       "3699                                   0.0               0.0   \n",
       "3700                                   0.0               1.0   \n",
       "3701                                   0.0               1.0   \n",
       "\n",
       "      purpose_Leisure and Holidays  purpose_Medical  \\\n",
       "0                              0.0              0.0   \n",
       "1                              0.0              0.0   \n",
       "2                              0.0              0.0   \n",
       "3                              0.0              0.0   \n",
       "4                              0.0              0.0   \n",
       "...                            ...              ...   \n",
       "3697                           0.0              0.0   \n",
       "3698                           0.0              1.0   \n",
       "3699                           0.0              0.0   \n",
       "3700                           0.0              0.0   \n",
       "3701                           0.0              0.0   \n",
       "\n",
       "      purpose_Meetings and Conference  ...  main_activity_Conference Tourism  \\\n",
       "0                                 0.0  ...                               0.0   \n",
       "1                                 0.0  ...                               0.0   \n",
       "2                                 0.0  ...                               0.0   \n",
       "3                                 0.0  ...                               0.0   \n",
       "4                                 0.0  ...                               0.0   \n",
       "...                               ...  ...                               ...   \n",
       "3697                              0.0  ...                               0.0   \n",
       "3698                              0.0  ...                               0.0   \n",
       "3699                              0.0  ...                               0.0   \n",
       "3700                              0.0  ...                               0.0   \n",
       "3701                              0.0  ...                               0.0   \n",
       "\n",
       "      main_activity_Cultural Tourism  main_activity_Diving and Sport Fishing  \\\n",
       "0                                0.0                                     0.0   \n",
       "1                                0.0                                     1.0   \n",
       "2                                0.0                                     0.0   \n",
       "3                                0.0                                     0.0   \n",
       "4                                0.0                                     0.0   \n",
       "...                              ...                                     ...   \n",
       "3697                             0.0                                     0.0   \n",
       "3698                             0.0                                     0.0   \n",
       "3699                             0.0                                     1.0   \n",
       "3700                             0.0                                     0.0   \n",
       "3701                             0.0                                     0.0   \n",
       "\n",
       "      main_activity_Hunting Tourism  main_activity_Mountain Climbing  \\\n",
       "0                               0.0                              1.0   \n",
       "1                               0.0                              0.0   \n",
       "2                               0.0                              1.0   \n",
       "3                               0.0                              0.0   \n",
       "4                               0.0                              1.0   \n",
       "...                             ...                              ...   \n",
       "3697                            0.0                              0.0   \n",
       "3698                            1.0                              0.0   \n",
       "3699                            0.0                              0.0   \n",
       "3700                            0.0                              0.0   \n",
       "3701                            0.0                              1.0   \n",
       "\n",
       "      main_activity_Wildlife Tourism  tour_arrangement_Independent  \\\n",
       "0                                0.0                           1.0   \n",
       "1                                1.0                           0.0   \n",
       "2                                0.0                           1.0   \n",
       "3                                1.0                           0.0   \n",
       "4                                0.0                           1.0   \n",
       "...                              ...                           ...   \n",
       "3697                             1.0                           0.0   \n",
       "3698                             1.0                           0.0   \n",
       "3699                             1.0                           0.0   \n",
       "3700                             0.0                           1.0   \n",
       "3701                             0.0                           1.0   \n",
       "\n",
       "      tour_arrangement_Package Tour  package_guided_tour_No  \\\n",
       "0                               0.0                     1.0   \n",
       "1                               1.0                     0.0   \n",
       "2                               0.0                     1.0   \n",
       "3                               1.0                     0.0   \n",
       "4                               0.0                     1.0   \n",
       "...                             ...                     ...   \n",
       "3697                            1.0                     0.0   \n",
       "3698                            1.0                     0.0   \n",
       "3699                            1.0                     0.0   \n",
       "3700                            1.0                     0.0   \n",
       "3701                            0.0                     1.0   \n",
       "\n",
       "      package_guided_tour_Yes  \n",
       "0                   -0.591880  \n",
       "1                    0.230643  \n",
       "2                    0.162099  \n",
       "3                   -0.523336  \n",
       "4                   -0.454793  \n",
       "...                       ...  \n",
       "3697                -0.386249  \n",
       "3698                -0.386249  \n",
       "3699                -0.523336  \n",
       "3700                -0.317706  \n",
       "3701                -0.249162  \n",
       "\n",
       "[3702 rows x 27 columns]"
      ]
     },
     "execution_count": 111,
     "metadata": {},
     "output_type": "execute_result"
    }
   ],
   "source": [
    "x_test = pd.DataFrame(X_test, columns=columns)\n",
    "x_test"
   ]
  },
  {
   "cell_type": "code",
   "execution_count": 40,
   "id": "bc02c359",
   "metadata": {
    "jupyter": {
     "outputs_hidden": true
    }
   },
   "outputs": [
    {
     "ename": "NameError",
     "evalue": "name 'xt' is not defined",
     "output_type": "error",
     "traceback": [
      "\u001b[1;31m---------------------------------------------------------------------------\u001b[0m",
      "\u001b[1;31mNameError\u001b[0m                                 Traceback (most recent call last)",
      "\u001b[1;32m~\\AppData\\Local\\Temp\\ipykernel_11628\\53012880.py\u001b[0m in \u001b[0;36m<module>\u001b[1;34m\u001b[0m\n\u001b[0;32m      4\u001b[0m     \u001b[0mrf\u001b[0m\u001b[1;33m.\u001b[0m\u001b[0mfit\u001b[0m\u001b[1;33m(\u001b[0m\u001b[0mX_train\u001b[0m\u001b[1;33m,\u001b[0m \u001b[0my_train\u001b[0m\u001b[1;33m)\u001b[0m\u001b[1;33m\u001b[0m\u001b[1;33m\u001b[0m\u001b[0m\n\u001b[0;32m      5\u001b[0m     \u001b[0maccuracy\u001b[0m \u001b[1;33m=\u001b[0m \u001b[0maccuracy_score\u001b[0m\u001b[1;33m(\u001b[0m\u001b[0my_test\u001b[0m\u001b[1;33m,\u001b[0m \u001b[0my_pred\u001b[0m\u001b[1;33m)\u001b[0m\u001b[1;33m\u001b[0m\u001b[1;33m\u001b[0m\u001b[0m\n\u001b[1;32m----> 6\u001b[1;33m     \u001b[1;32mfor\u001b[0m \u001b[0mc\u001b[0m \u001b[1;32min\u001b[0m \u001b[0mxt\u001b[0m\u001b[1;33m.\u001b[0m\u001b[0mcolumns\u001b[0m\u001b[1;33m:\u001b[0m\u001b[1;33m\u001b[0m\u001b[1;33m\u001b[0m\u001b[0m\n\u001b[0m\u001b[0;32m      7\u001b[0m         \u001b[0mX_t\u001b[0m \u001b[1;33m=\u001b[0m \u001b[0mx_test\u001b[0m\u001b[1;33m.\u001b[0m\u001b[0mcopy\u001b[0m\u001b[1;33m(\u001b[0m\u001b[1;33m)\u001b[0m\u001b[1;33m\u001b[0m\u001b[1;33m\u001b[0m\u001b[0m\n\u001b[0;32m      8\u001b[0m         \u001b[0mX_t\u001b[0m\u001b[1;33m.\u001b[0m\u001b[0mcolumns\u001b[0m \u001b[1;33m=\u001b[0m \u001b[0mnp\u001b[0m\u001b[1;33m.\u001b[0m\u001b[0mrandom\u001b[0m\u001b[1;33m.\u001b[0m\u001b[0mpermutation\u001b[0m\u001b[1;33m(\u001b[0m\u001b[0mX_t\u001b[0m\u001b[1;33m.\u001b[0m\u001b[0mcolumns\u001b[0m\u001b[1;33m.\u001b[0m\u001b[0mvalues\u001b[0m\u001b[1;33m)\u001b[0m\u001b[1;33m\u001b[0m\u001b[1;33m\u001b[0m\u001b[0m\n",
      "\u001b[1;31mNameError\u001b[0m: name 'xt' is not defined"
     ]
    }
   ],
   "source": [
    "from sklearn.metrics import accuracy_score, roc_auc_score\n",
    "scores = []\n",
    "for _ in range(3):\n",
    "    preds = rf.predict_proba(X_test)\n",
    "    accuracy = roc_auc_score(y_test, preds)\n",
    "    \n",
    "    \n",
    "    for c in .columns:\n",
    "        X_t = x_test.copy()\n",
    "        X_t.columns = np.random.permutation(X_t.columns.values)\n",
    "        shuffled_acc = accuracy_score(y_test, rf.predict(X_test))\n",
    "        scores.append(accuracy - shuffled_acc/accuracy)"
   ]
  },
  {
   "cell_type": "code",
   "execution_count": 112,
   "id": "0269aab7",
   "metadata": {},
   "outputs": [
    {
     "data": {
      "text/plain": [
       "array(['travel_with', 'purpose', 'main_activity', 'tour_arrangement',\n",
       "       'package_guided_tour'], dtype=object)"
      ]
     },
     "execution_count": 112,
     "metadata": {},
     "output_type": "execute_result"
    }
   ],
   "source": [
    "pipe.transformers_[0][1][0].get_feature_names_out()"
   ]
  },
  {
   "cell_type": "code",
   "execution_count": 113,
   "id": "d2f30b22",
   "metadata": {},
   "outputs": [
    {
     "data": {
      "application/javascript": [
       "\n",
       "        if (window._pyforest_update_imports_cell) { window._pyforest_update_imports_cell('import matplotlib.pyplot as plt\\nimport pandas as pd\\nimport numpy as np'); }\n",
       "    "
      ],
      "text/plain": [
       "<IPython.core.display.Javascript object>"
      ]
     },
     "metadata": {},
     "output_type": "display_data"
    },
    {
     "data": {
      "text/plain": [
       "array([26, 23, 22,  6,  0, 24, 25, 21,  3,  4,  5, 11, 13, 19, 16,  2, 17,\n",
       "        8,  9, 12,  1, 10, 20, 15, 14, 18,  7], dtype=int64)"
      ]
     },
     "execution_count": 113,
     "metadata": {},
     "output_type": "execute_result"
    }
   ],
   "source": [
    "imp = np.argsort(rf.feature_importances_)[::-1]\n",
    "imp"
   ]
  },
  {
   "cell_type": "code",
   "execution_count": 114,
   "id": "aefccba8",
   "metadata": {},
   "outputs": [
    {
     "data": {
      "image/png": "[encoded data removed]",
      "text/plain": [
       "<Figure size 640x480 with 1 Axes>"
      ]
     },
     "metadata": {},
     "output_type": "display_data"
    }
   ],
   "source": [
    "f_importances = pd.Series(rf.feature_importances_, index=columns)\n",
    "f_importances.nlargest(20).plot(kind='barh').invert_yaxis();"
   ]
  },
  {
   "cell_type": "code",
   "execution_count": 116,
   "id": "da502191",
   "metadata": {},
   "outputs": [
    {
     "data": {
      "text/plain": [
       "array([20,  7, 15,  5, 14, 12, 10, 18, 17,  1,  9, 13, 16,  2,  8, 11,  4,\n",
       "       19, 24,  3, 21, 25,  6,  0, 22, 23, 26], dtype=int64)"
      ]
     },
     "execution_count": 116,
     "metadata": {},
     "output_type": "execute_result"
    }
   ],
   "source": [
    "from sklearn.inspection import permutation_importance\n",
    "#import shap\n",
    "\n",
    "perm_imp = permutation_importance(rf, X_test, y_test)\n",
    "sorted_imp = perm_imp.importances_mean.argsort()\n",
    "sorted_imp"
   ]
  },
  {
   "cell_type": "code",
   "execution_count": null,
   "id": "5a2bd2d7",
   "metadata": {},
   "outputs": [],
   "source": []
  },
  {
   "cell_type": "code",
   "execution_count": 121,
   "id": "2e732a39",
   "metadata": {},
   "outputs": [
    {
     "data": {
      "application/javascript": [
       "\n",
       "        if (window._pyforest_update_imports_cell) { window._pyforest_update_imports_cell('import matplotlib.pyplot as plt\\nimport pandas as pd\\nimport numpy as np'); }\n",
       "    "
      ],
      "text/plain": [
       "<IPython.core.display.Javascript object>"
      ]
     },
     "metadata": {},
     "output_type": "display_data"
    },
    {
     "data": {
      "text/plain": [
       "<BarContainer object of 27 artists>"
      ]
     },
     "execution_count": 121,
     "metadata": {},
     "output_type": "execute_result"
    },
    {
     "data": {
      "image/png": "[encoded data removed]",
      "text/plain": [
       "<Figure size 640x480 with 1 Axes>"
      ]
     },
     "metadata": {},
     "output_type": "display_data"
    }
   ],
   "source": [
    "plt.barh(columns, perm_imp.importances_mean[sorted_imp])"
   ]
  },
  {
   "cell_type": "code",
   "execution_count": 123,
   "id": "58719be3",
   "metadata": {},
   "outputs": [
    {
     "data": {
      "application/javascript": [
       "\n",
       "        if (window._pyforest_update_imports_cell) { window._pyforest_update_imports_cell('import matplotlib.pyplot as plt\\nimport pandas as pd\\nimport numpy as np'); }\n",
       "    "
      ],
      "text/plain": [
       "<IPython.core.display.Javascript object>"
      ]
     },
     "metadata": {},
     "output_type": "display_data"
    },
    {
     "name": "stdout",
     "output_type": "stream",
     "text": [
      " 1) package_guided_tour_Yes        0.168798\n",
      " 2) tour_arrangement_Independent   0.164386\n",
      " 3) main_activity_Wildlife Tourism 0.153312\n",
      " 4) purpose_Business               0.101944\n",
      " 5) total_nights                   0.092914\n",
      " 6) tour_arrangement_Package Tour  0.058336\n",
      " 7) package_guided_tour_No         0.052804\n",
      " 8) main_activity_Mountain Climbing 0.038617\n",
      " 9) travel_with_With Other Friends/Relatives 0.031056\n",
      "10) travel_with_With Spouse        0.017328\n",
      "11) travel_with_With Spouse and Children 0.016494\n",
      "12) purpose_Scientific and Academic 0.015389\n",
      "13) purpose_Volunteering           0.015138\n",
      "14) main_activity_Diving and Sport Fishing 0.011128\n",
      "15) main_activity_Business         0.011086\n",
      "16) travel_with_With Children      0.010636\n",
      "17) main_activity_Conference Tourism 0.008013\n",
      "18) purpose_Medical                0.007216\n",
      "19) purpose_Meetings and Conference 0.007166\n",
      "20) purpose_Visiting Friends and Relatives 0.004342\n",
      "21) travel_with_Alone              0.004342\n",
      "22) purpose_Other                  0.002760\n",
      "23) main_activity_Hunting Tourism  0.002382\n",
      "24) main_activity_Bird Tourism     0.001613\n",
      "25) main_activity_Beach Tourism    0.001442\n",
      "26) main_activity_Cultural Tourism 0.000995\n",
      "27) purpose_Leisure and Holidays   0.000363\n"
     ]
    },
    {
     "data": {
      "application/javascript": [
       "\n",
       "        if (window._pyforest_update_imports_cell) { window._pyforest_update_imports_cell('import matplotlib.pyplot as plt\\nimport pandas as pd\\nimport numpy as np'); }\n",
       "    "
      ],
      "text/plain": [
       "<IPython.core.display.Javascript object>"
      ]
     },
     "metadata": {},
     "output_type": "display_data"
    },
    {
     "data": {
      "application/javascript": [
       "\n",
       "        if (window._pyforest_update_imports_cell) { window._pyforest_update_imports_cell('import matplotlib.pyplot as plt\\nimport pandas as pd\\nimport numpy as np'); }\n",
       "    "
      ],
      "text/plain": [
       "<IPython.core.display.Javascript object>"
      ]
     },
     "metadata": {},
     "output_type": "display_data"
    },
    {
     "data": {
      "application/javascript": [
       "\n",
       "        if (window._pyforest_update_imports_cell) { window._pyforest_update_imports_cell('import matplotlib.pyplot as plt\\nimport pandas as pd\\nimport numpy as np'); }\n",
       "    "
      ],
      "text/plain": [
       "<IPython.core.display.Javascript object>"
      ]
     },
     "metadata": {},
     "output_type": "display_data"
    },
    {
     "ename": "TypeError",
     "evalue": "only integer scalar arrays can be converted to a scalar index",
     "output_type": "error",
     "traceback": [
      "\u001b[1;31m---------------------------------------------------------------------------\u001b[0m",
      "\u001b[1;31mTypeError\u001b[0m                                 Traceback (most recent call last)",
      "\u001b[1;32m~\\AppData\\Local\\Temp\\ipykernel_13512\\2266369752.py\u001b[0m in \u001b[0;36m<module>\u001b[1;34m\u001b[0m\n\u001b[0;32m     15\u001b[0m            align='center')\n\u001b[0;32m     16\u001b[0m plt.xticks(range(X_train.shape[1]),\n\u001b[1;32m---> 17\u001b[1;33m           feat_labels[indices], rotation=90)\n\u001b[0m\u001b[0;32m     18\u001b[0m \u001b[0mplt\u001b[0m\u001b[1;33m.\u001b[0m\u001b[0mxlim\u001b[0m\u001b[1;33m(\u001b[0m\u001b[1;33m[\u001b[0m\u001b[1;33m-\u001b[0m\u001b[1;36m1\u001b[0m\u001b[1;33m,\u001b[0m \u001b[0mX_train\u001b[0m\u001b[1;33m.\u001b[0m\u001b[0mshape\u001b[0m\u001b[1;33m[\u001b[0m\u001b[1;36m1\u001b[0m\u001b[1;33m]\u001b[0m\u001b[1;33m]\u001b[0m\u001b[1;33m)\u001b[0m\u001b[1;33m\u001b[0m\u001b[1;33m\u001b[0m\u001b[0m\n\u001b[0;32m     19\u001b[0m \u001b[1;33m\u001b[0m\u001b[0m\n",
      "\u001b[1;31mTypeError\u001b[0m: only integer scalar arrays can be converted to a scalar index"
     ]
    },
    {
     "data": {
      "image/png": "[encoded data removed]",
      "text/plain": [
       "<Figure size 640x480 with 1 Axes>"
      ]
     },
     "metadata": {},
     "output_type": "display_data"
    }
   ],
   "source": [
    "importances = rf.feature_importances_\n",
    "\n",
    "feat_labels = columns\n",
    "indices = np.argsort(importances)[::-1]\n",
    "\n",
    "\n",
    "for f in range(X_train.shape[1]):\n",
    "    print(\"%2d) %-*s %f\" % (f + 1, 30,\n",
    "                            feat_labels[indices[f]],\n",
    "                            importances[indices[f]]))\n",
    "    \n",
    "plt.title('Feature Importance')\n",
    "plt.bar(range(X_train.shape[1]),\n",
    "           importances[indices],\n",
    "           align='center')\n",
    "plt.xticks(range(X_train.shape[1]),\n",
    "          feat_labels[indices], rotation=90)\n",
    "plt.xlim([-1, X_train.shape[1]])\n",
    "\n",
    "plt.tight_layout()\n",
    "plt.show();"
   ]
  },
  {
   "cell_type": "code",
   "execution_count": 60,
   "id": "829a4bb4",
   "metadata": {},
   "outputs": [
    {
     "name": "stdout",
     "output_type": "stream",
     "text": [
      "0.02573781011849245 age_group_18-24\n",
      "0.02330020765718791 age_group_25-44\n",
      "0.02639651919292158 age_group_45-64\n",
      "0.029411357502308725 age_group_65+\n",
      "0.0027135563323146357 age_group_<18\n",
      "0.05254280174443006 purpose_Business\n",
      "0.1336925871824696 purpose_Leisure and Holidays\n",
      "0.0005131279252922581 purpose_Medical\n",
      "0.016178126287332346 purpose_Meetings and Conference\n",
      "0.012771569856468483 purpose_Other\n",
      "0.004337977270676546 purpose_Scientific and Academic\n",
      "0.033621343151698825 purpose_Visiting Friends and Relatives\n",
      "0.00787582736812354 purpose_Volunteering\n",
      "0.018155612197611772 main_activity_Beach Tourism\n",
      "0.002045815337975389 main_activity_Bird Tourism\n",
      "0.0019076084348366104 main_activity_Business\n",
      "0.011648575651786145 main_activity_Conference Tourism\n",
      "0.010954754335191153 main_activity_Cultural Tourism\n",
      "0.0009738797576208409 main_activity_Diving and Sport Fishing\n",
      "0.025208760619034105 main_activity_Hunting Tourism\n",
      "0.004141358781440387 main_activity_Mountain Climbing\n",
      "0.062424658212492774 main_activity_Wildlife Tourism\n",
      "0.2551723033628982 tour_arrangement_Independent\n",
      "0.23827386171939563 tour_arrangement_Package Tour\n"
     ]
    }
   ],
   "source": [
    "importances = rf.feature_importances_\n",
    "indices = columns\n",
    "\n",
    "for i, idx in zip(importances, indices):\n",
    "    print(i, idx)"
   ]
  },
  {
   "cell_type": "code",
   "execution_count": 54,
   "id": "6e5ba789",
   "metadata": {
    "scrolled": true
   },
   "outputs": [
    {
     "data": {
      "text/html": [
       "<div>\n",
       "<style scoped>\n",
       "    .dataframe tbody tr th:only-of-type {\n",
       "        vertical-align: middle;\n",
       "    }\n",
       "\n",
       "    .dataframe tbody tr th {\n",
       "        vertical-align: top;\n",
       "    }\n",
       "\n",
       "    .dataframe thead th {\n",
       "        text-align: right;\n",
       "    }\n",
       "</style>\n",
       "<table border=\"1\" class=\"dataframe\">\n",
       "  <thead>\n",
       "    <tr style=\"text-align: right;\">\n",
       "      <th></th>\n",
       "      <th>score</th>\n",
       "    </tr>\n",
       "  </thead>\n",
       "  <tbody>\n",
       "    <tr>\n",
       "      <th>152</th>\n",
       "      <td>0.000000</td>\n",
       "    </tr>\n",
       "    <tr>\n",
       "      <th>96</th>\n",
       "      <td>0.000000</td>\n",
       "    </tr>\n",
       "    <tr>\n",
       "      <th>120</th>\n",
       "      <td>0.000000</td>\n",
       "    </tr>\n",
       "    <tr>\n",
       "      <th>122</th>\n",
       "      <td>0.000000</td>\n",
       "    </tr>\n",
       "    <tr>\n",
       "      <th>126</th>\n",
       "      <td>0.000000</td>\n",
       "    </tr>\n",
       "    <tr>\n",
       "      <th>...</th>\n",
       "      <td>...</td>\n",
       "    </tr>\n",
       "    <tr>\n",
       "      <th>40</th>\n",
       "      <td>0.047894</td>\n",
       "    </tr>\n",
       "    <tr>\n",
       "      <th>5</th>\n",
       "      <td>0.050713</td>\n",
       "    </tr>\n",
       "    <tr>\n",
       "      <th>63</th>\n",
       "      <td>0.059587</td>\n",
       "    </tr>\n",
       "    <tr>\n",
       "      <th>39</th>\n",
       "      <td>0.060290</td>\n",
       "    </tr>\n",
       "    <tr>\n",
       "      <th>36</th>\n",
       "      <td>0.069440</td>\n",
       "    </tr>\n",
       "  </tbody>\n",
       "</table>\n",
       "<p>195 rows × 1 columns</p>\n",
       "</div>"
      ],
      "text/plain": [
       "        score\n",
       "152  0.000000\n",
       "96   0.000000\n",
       "120  0.000000\n",
       "122  0.000000\n",
       "126  0.000000\n",
       "..        ...\n",
       "40   0.047894\n",
       "5    0.050713\n",
       "63   0.059587\n",
       "39   0.060290\n",
       "36   0.069440\n",
       "\n",
       "[195 rows x 1 columns]"
      ]
     },
     "execution_count": 54,
     "metadata": {},
     "output_type": "execute_result"
    }
   ],
   "source": [
    "data"
   ]
  },
  {
   "cell_type": "code",
   "execution_count": null,
   "id": "f95d7d3a",
   "metadata": {},
   "outputs": [],
   "source": []
  }
 ],
 "metadata": {
  "kernelspec": {
   "display_name": "Python 3 (ipykernel)",
   "language": "python",
   "name": "python3"
  },
  "language_info": {
   "codemirror_mode": {
    "name": "ipython",
    "version": 3
   },
   "file_extension": ".py",
   "mimetype": "text/x-python",
   "name": "python",
   "nbconvert_exporter": "python",
   "pygments_lexer": "ipython3",
   "version": "3.9.16"
  }
 },
 "nbformat": 4,
 "nbformat_minor": 5
}
