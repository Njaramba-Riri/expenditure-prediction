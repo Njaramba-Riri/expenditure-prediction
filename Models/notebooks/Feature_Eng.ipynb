{
 "cells": [
  {
   "cell_type": "code",
   "execution_count": 1,
   "id": "8a9c759d-af0e-4668-b56d-a9de4e5db315",
   "metadata": {},
   "outputs": [],
   "source": [
    "%matplotlib inline\n",
    "import matplotlib.pyplot as plt\n",
    "import seaborn as sns\n",
    "import pandas as pd\n",
    "import numpy as np\n",
    "\n",
    "import warnings\n",
    "warnings.filterwarnings(\"ignore\")\n",
    "\n",
    "import itertools\n",
    "from scipy.stats import chi2_contingency \n",
    "from scipy.stats.mstats import winsorize\n",
    "from scipy.sparse import csr_matrix\n",
    "\n",
    "from sklearn.compose import ColumnTransformer\n",
    "from sklearn.preprocessing import MinMaxScaler, StandardScaler, RobustScaler\n",
    "from sklearn.decomposition  import TruncatedSVD\n",
    "from sklearn.impute import SimpleImputer\n",
    "from sklearn.pipeline import make_pipeline, Pipeline\n",
    "from sklearn.preprocessing import LabelEncoder, OrdinalEncoder, OneHotEncoder\n",
    "from sklearn.utils import resample\n",
    "from sklearn.model_selection import StratifiedKFold, GridSearchCV, train_test_split, cross_val_score\n",
    "from sklearn.feature_extraction.text import  HashingVectorizer\n",
    "from sklearn.linear_model import LogisticRegression, SGDClassifier\n",
    "from sklearn.ensemble import RandomForestClassifier\n",
    "from sklearn.neighbors import KNeighborsClassifier\n",
    "from sklearn.svm import LinearSVC, SVC \n",
    "from sklearn.naive_bayes import GaussianNB, MultinomialNB\n",
    "from sklearn.discriminant_analysis import LinearDiscriminantAnalysis as LDA\n",
    "from sklearn.metrics import classification_report, confusion_matrix, roc_auc_score\n",
    "\n",
    "import xgboost\n",
    "from xgboost import XGBClassifier\n",
    "\n",
    "#from decision import plot_decision_regions\n",
    "#from pipelines import extra_features"
   ]
  },
  {
   "cell_type": "code",
   "execution_count": 2,
   "id": "961203c4-acfa-41ce-8648-de248143bc65",
   "metadata": {},
   "outputs": [],
   "source": [
    "train=pd.read_csv('../Datasets/Train.csv')\n",
    "test=pd.read_csv('../datasets/test.csv')"
   ]
  },
  {
   "cell_type": "code",
   "execution_count": 3,
   "id": "8ee85a93-570d-4517-b277-d47234e9ca93",
   "metadata": {},
   "outputs": [
    {
     "name": "stdout",
     "output_type": "stream",
     "text": [
      "(18506, 21) (6169, 20)\n"
     ]
    }
   ],
   "source": [
    "print(train.shape, test.shape)"
   ]
  },
  {
   "cell_type": "code",
   "execution_count": 4,
   "id": "e977c4e4-c6ce-4928-9e37-588e1df3af28",
   "metadata": {
    "scrolled": true
   },
   "outputs": [
    {
     "data": {
      "text/html": [
       "<div>\n",
       "<style scoped>\n",
       "    .dataframe tbody tr th:only-of-type {\n",
       "        vertical-align: middle;\n",
       "    }\n",
       "\n",
       "    .dataframe tbody tr th {\n",
       "        vertical-align: top;\n",
       "    }\n",
       "\n",
       "    .dataframe thead th {\n",
       "        text-align: right;\n",
       "    }\n",
       "</style>\n",
       "<table border=\"1\" class=\"dataframe\">\n",
       "  <thead>\n",
       "    <tr style=\"text-align: right;\">\n",
       "      <th></th>\n",
       "      <th>Tour_ID</th>\n",
       "      <th>country</th>\n",
       "      <th>age_group</th>\n",
       "      <th>travel_with</th>\n",
       "      <th>total_female</th>\n",
       "      <th>total_male</th>\n",
       "      <th>purpose</th>\n",
       "      <th>main_activity</th>\n",
       "      <th>info_source</th>\n",
       "      <th>tour_arrangement</th>\n",
       "      <th>...</th>\n",
       "      <th>package_accomodation</th>\n",
       "      <th>package_food</th>\n",
       "      <th>package_transport_tz</th>\n",
       "      <th>package_sightseeing</th>\n",
       "      <th>package_guided_tour</th>\n",
       "      <th>package_insurance</th>\n",
       "      <th>night_mainland</th>\n",
       "      <th>night_zanzibar</th>\n",
       "      <th>first_trip_tz</th>\n",
       "      <th>cost_category</th>\n",
       "    </tr>\n",
       "  </thead>\n",
       "  <tbody>\n",
       "    <tr>\n",
       "      <th>0</th>\n",
       "      <td>tour_id1hffseyw</td>\n",
       "      <td>ITALY</td>\n",
       "      <td>45-64</td>\n",
       "      <td>With Children</td>\n",
       "      <td>0.0</td>\n",
       "      <td>2.0</td>\n",
       "      <td>Visiting Friends and Relatives</td>\n",
       "      <td>Beach Tourism</td>\n",
       "      <td>Friends, relatives</td>\n",
       "      <td>Package Tour</td>\n",
       "      <td>...</td>\n",
       "      <td>Yes</td>\n",
       "      <td>Yes</td>\n",
       "      <td>Yes</td>\n",
       "      <td>No</td>\n",
       "      <td>No</td>\n",
       "      <td>No</td>\n",
       "      <td>0</td>\n",
       "      <td>7</td>\n",
       "      <td>Yes</td>\n",
       "      <td>High Cost</td>\n",
       "    </tr>\n",
       "    <tr>\n",
       "      <th>1</th>\n",
       "      <td>tour_idnacd7zag</td>\n",
       "      <td>UNITED KINGDOM</td>\n",
       "      <td>25-44</td>\n",
       "      <td>With Spouse</td>\n",
       "      <td>1.0</td>\n",
       "      <td>1.0</td>\n",
       "      <td>Leisure and Holidays</td>\n",
       "      <td>Wildlife Tourism</td>\n",
       "      <td>Travel agent, tour operator</td>\n",
       "      <td>Package Tour</td>\n",
       "      <td>...</td>\n",
       "      <td>Yes</td>\n",
       "      <td>Yes</td>\n",
       "      <td>Yes</td>\n",
       "      <td>No</td>\n",
       "      <td>No</td>\n",
       "      <td>No</td>\n",
       "      <td>0</td>\n",
       "      <td>7</td>\n",
       "      <td>Yes</td>\n",
       "      <td>High Cost</td>\n",
       "    </tr>\n",
       "  </tbody>\n",
       "</table>\n",
       "<p>2 rows × 21 columns</p>\n",
       "</div>"
      ],
      "text/plain": [
       "           Tour_ID         country age_group    travel_with  total_female  \\\n",
       "0  tour_id1hffseyw           ITALY     45-64  With Children           0.0   \n",
       "1  tour_idnacd7zag  UNITED KINGDOM     25-44    With Spouse           1.0   \n",
       "\n",
       "   total_male                         purpose     main_activity  \\\n",
       "0         2.0  Visiting Friends and Relatives     Beach Tourism   \n",
       "1         1.0            Leisure and Holidays  Wildlife Tourism   \n",
       "\n",
       "                   info_source tour_arrangement  ... package_accomodation  \\\n",
       "0           Friends, relatives     Package Tour  ...                  Yes   \n",
       "1  Travel agent, tour operator     Package Tour  ...                  Yes   \n",
       "\n",
       "  package_food package_transport_tz package_sightseeing package_guided_tour  \\\n",
       "0          Yes                  Yes                  No                  No   \n",
       "1          Yes                  Yes                  No                  No   \n",
       "\n",
       "  package_insurance night_mainland  night_zanzibar  first_trip_tz  \\\n",
       "0                No              0               7            Yes   \n",
       "1                No              0               7            Yes   \n",
       "\n",
       "  cost_category  \n",
       "0     High Cost  \n",
       "1     High Cost  \n",
       "\n",
       "[2 rows x 21 columns]"
      ]
     },
     "execution_count": 4,
     "metadata": {},
     "output_type": "execute_result"
    }
   ],
   "source": [
    "train.head(2)"
   ]
  },
  {
   "cell_type": "code",
   "execution_count": 5,
   "id": "fca35c7a",
   "metadata": {},
   "outputs": [
    {
     "data": {
      "text/html": [
       "<div>\n",
       "<style scoped>\n",
       "    .dataframe tbody tr th:only-of-type {\n",
       "        vertical-align: middle;\n",
       "    }\n",
       "\n",
       "    .dataframe tbody tr th {\n",
       "        vertical-align: top;\n",
       "    }\n",
       "\n",
       "    .dataframe thead th {\n",
       "        text-align: right;\n",
       "    }\n",
       "</style>\n",
       "<table border=\"1\" class=\"dataframe\">\n",
       "  <thead>\n",
       "    <tr style=\"text-align: right;\">\n",
       "      <th></th>\n",
       "      <th>Tour_ID</th>\n",
       "      <th>country</th>\n",
       "      <th>age_group</th>\n",
       "      <th>travel_with</th>\n",
       "      <th>total_female</th>\n",
       "      <th>total_male</th>\n",
       "      <th>purpose</th>\n",
       "      <th>main_activity</th>\n",
       "      <th>info_source</th>\n",
       "      <th>tour_arrangement</th>\n",
       "      <th>...</th>\n",
       "      <th>package_accomodation</th>\n",
       "      <th>package_food</th>\n",
       "      <th>package_transport_tz</th>\n",
       "      <th>package_sightseeing</th>\n",
       "      <th>package_guided_tour</th>\n",
       "      <th>package_insurance</th>\n",
       "      <th>night_mainland</th>\n",
       "      <th>night_zanzibar</th>\n",
       "      <th>first_trip_tz</th>\n",
       "      <th>cost_category</th>\n",
       "    </tr>\n",
       "  </thead>\n",
       "  <tbody>\n",
       "    <tr>\n",
       "      <th>6167</th>\n",
       "      <td>tour_idx80vbw5a</td>\n",
       "      <td>CANADA</td>\n",
       "      <td>18-24</td>\n",
       "      <td>Alone</td>\n",
       "      <td>1.0</td>\n",
       "      <td>0.0</td>\n",
       "      <td>Visiting Friends and Relatives</td>\n",
       "      <td>Wildlife Tourism</td>\n",
       "      <td>Friends, relatives</td>\n",
       "      <td>Independent</td>\n",
       "      <td>...</td>\n",
       "      <td>No</td>\n",
       "      <td>No</td>\n",
       "      <td>No</td>\n",
       "      <td>No</td>\n",
       "      <td>No</td>\n",
       "      <td>No</td>\n",
       "      <td>21</td>\n",
       "      <td>0</td>\n",
       "      <td>No</td>\n",
       "      <td>-1</td>\n",
       "    </tr>\n",
       "    <tr>\n",
       "      <th>6168</th>\n",
       "      <td>tour_id8fkkwytb</td>\n",
       "      <td>KENYA</td>\n",
       "      <td>45-64</td>\n",
       "      <td>NaN</td>\n",
       "      <td>0.0</td>\n",
       "      <td>1.0</td>\n",
       "      <td>Meetings and Conference</td>\n",
       "      <td>Wildlife Tourism</td>\n",
       "      <td>Friends, relatives</td>\n",
       "      <td>Independent</td>\n",
       "      <td>...</td>\n",
       "      <td>No</td>\n",
       "      <td>No</td>\n",
       "      <td>No</td>\n",
       "      <td>No</td>\n",
       "      <td>No</td>\n",
       "      <td>No</td>\n",
       "      <td>4</td>\n",
       "      <td>0</td>\n",
       "      <td>Yes</td>\n",
       "      <td>-1</td>\n",
       "    </tr>\n",
       "  </tbody>\n",
       "</table>\n",
       "<p>2 rows × 21 columns</p>\n",
       "</div>"
      ],
      "text/plain": [
       "              Tour_ID country age_group travel_with  total_female  total_male  \\\n",
       "6167  tour_idx80vbw5a  CANADA     18-24       Alone           1.0         0.0   \n",
       "6168  tour_id8fkkwytb   KENYA     45-64         NaN           0.0         1.0   \n",
       "\n",
       "                             purpose     main_activity         info_source  \\\n",
       "6167  Visiting Friends and Relatives  Wildlife Tourism  Friends, relatives   \n",
       "6168         Meetings and Conference  Wildlife Tourism  Friends, relatives   \n",
       "\n",
       "     tour_arrangement  ... package_accomodation package_food  \\\n",
       "6167      Independent  ...                   No           No   \n",
       "6168      Independent  ...                   No           No   \n",
       "\n",
       "     package_transport_tz package_sightseeing package_guided_tour  \\\n",
       "6167                   No                  No                  No   \n",
       "6168                   No                  No                  No   \n",
       "\n",
       "     package_insurance night_mainland  night_zanzibar  first_trip_tz  \\\n",
       "6167                No             21               0             No   \n",
       "6168                No              4               0            Yes   \n",
       "\n",
       "     cost_category  \n",
       "6167            -1  \n",
       "6168            -1  \n",
       "\n",
       "[2 rows x 21 columns]"
      ]
     },
     "execution_count": 5,
     "metadata": {},
     "output_type": "execute_result"
    }
   ],
   "source": [
    "test.loc[:, \"cost_category\"] = -1\n",
    "test.tail(2)"
   ]
  },
  {
   "cell_type": "code",
   "execution_count": 6,
   "id": "8980c592",
   "metadata": {},
   "outputs": [
    {
     "data": {
      "text/plain": [
       "0"
      ]
     },
     "execution_count": 6,
     "metadata": {},
     "output_type": "execute_result"
    }
   ],
   "source": [
    "#Checking if there's conflicting Tourist Ids in both datasets.\n",
    "train['Tour_ID'].isin(test['Tour_ID']).sum()"
   ]
  },
  {
   "cell_type": "code",
   "execution_count": 7,
   "id": "1e3e0636",
   "metadata": {
    "scrolled": false
   },
   "outputs": [],
   "source": [
    "df = pd.concat(objs=[train, test], axis=0).reset_index(drop=True)\n",
    "df['main_activity'].replace({\"Widlife Tourism\": \"Wildlife Tourism\"}, inplace=True)\n",
    "df['age_group'].replace({'<18':'1-17', '65+':'65-84'}, inplace=True)\n",
    "#df.set_index('Tour_ID', inplace=True)\n",
    "df.drop_duplicates(keep='first', inplace=True)"
   ]
  },
  {
   "cell_type": "code",
   "execution_count": 8,
   "id": "3b58478b",
   "metadata": {},
   "outputs": [],
   "source": [
    "for col in df.select_dtypes(np.number):\n",
    "    if col != ('total_male'):\n",
    "        quartiles = np.percentile(df[col].fillna(df[col].median()), [25, 50, 75])\n",
    "        mu = quartiles[1]\n",
    "        sig = 0.74 * (quartiles[2] - quartiles[0])\n",
    "        df.loc[:, col] = df.query(f'({col}.values > @mu - 3 * @sig) & ({col}.values < @mu + 3 * @sig)')\n",
    "    else:\n",
    "        df.loc[:, col] = df.query(f'({col}.values > @mu - 5 * @sig) & ({col}.values < @mu + 5 * @sig)')  \n",
    "\n",
    "    df.loc[:, col] = df[col].fillna(df[col].median())"
   ]
  },
  {
   "cell_type": "code",
   "execution_count": 9,
   "id": "512d3c51",
   "metadata": {
    "scrolled": true
   },
   "outputs": [],
   "source": [
    "for age in df['age_group'].unique():\n",
    "    freq = df.groupby(['age_group'])['Tour_ID'].count()\n",
    "    l = np.array([0.5, 17.5, 24.5, 44.5, 64.5])\n",
    "    u = np.array([17.5, 24.5, 44.5, 64.5, 84.5])\n",
    "    c_interval = (u - l)\n",
    "    fd = dict(freq / c_interval)\n",
    "\n",
    "df['age_group'] =  df['age_group'].map(fd) "
   ]
  },
  {
   "cell_type": "code",
   "execution_count": 10,
   "id": "72de3ab7",
   "metadata": {},
   "outputs": [],
   "source": [
    "mean = np.sum(df['age_group']) / len(df['age_group'])\n",
    "df['age_group'] = mean - df['age_group'].values"
   ]
  },
  {
   "cell_type": "code",
   "execution_count": 11,
   "id": "adacf937",
   "metadata": {
    "scrolled": true
   },
   "outputs": [
    {
     "data": {
      "text/plain": [
       "Index(['Tour_ID', 'country', 'age_group', 'travel_with', 'total_female',\n",
       "       'total_male', 'purpose', 'main_activity', 'info_source',\n",
       "       'tour_arrangement', 'package_transport_int', 'package_accomodation',\n",
       "       'package_food', 'package_transport_tz', 'package_sightseeing',\n",
       "       'package_guided_tour', 'package_insurance', 'night_mainland',\n",
       "       'night_zanzibar', 'first_trip_tz', 'cost_category'],\n",
       "      dtype='object')"
      ]
     },
     "execution_count": 11,
     "metadata": {},
     "output_type": "execute_result"
    }
   ],
   "source": [
    "df.columns"
   ]
  },
  {
   "cell_type": "code",
   "execution_count": 12,
   "id": "fd8e16c0",
   "metadata": {},
   "outputs": [],
   "source": [
    "df.eval('total_nights = night_mainland + night_zanzibar', inplace=True) \n",
    "\n",
    "#Length of stay on weekly basis\n",
    "df['tour_duration'] = df['total_nights'].copy()\n",
    "df['tour_duration'] /= 7\n",
    "\n",
    "df.eval('total_people = total_male + total_female', inplace=True)\n",
    "df['av_tmale_per_tp'] = df.groupby('total_people')['total_male'].transform('mean')\n",
    "df['av_tfemale_per_tp'] = df.groupby(['total_people'])['total_female'].transform('mean')\n",
    "df['av_tp_per_purpose'] = df.groupby(['purpose'])['total_people'].transform('mean')\n",
    "df['info_source & purpose'] = df.groupby(['info_source', 'purpose'])['Tour_ID'].transform('count')\n",
    "df['mean_age_density_per_country'] = df.groupby('country')['age_group'].transform('mean')\n",
    "df['mean_age_density_per_main_activity'] = df.groupby('main_activity')['age_group'].transform('mean')\n",
    "df['mean_age_density_per_info'] = df.groupby(['info_source'])['age_group'].transform('mean')\n",
    "\n",
    "gender = []\n",
    "for g in df[['total_people']]:\n",
    "    result = df['total_male'].values - df['total_female'].values\n",
    "    for i in result:\n",
    "        if i > 0:\n",
    "            gender.append('Male')\n",
    "        elif i < 0:\n",
    "            gender.append('Female')\n",
    "        else:\n",
    "            gender.append('Equal')\n",
    "            \n",
    "df['dominant_gender'] = gender\n",
    "df['av_stay_per_gender'] = df.groupby(['dominant_gender'])['tour_duration'].transform('mean')"
   ]
  },
  {
   "cell_type": "code",
   "execution_count": 13,
   "id": "f79d2e81",
   "metadata": {},
   "outputs": [
    {
     "data": {
      "text/plain": [
       "0        1.018429\n",
       "1        1.261611\n",
       "2        1.261611\n",
       "3        1.230981\n",
       "4        1.018429\n",
       "           ...   \n",
       "24670    1.018429\n",
       "24671    1.018429\n",
       "24672    1.018429\n",
       "24673    1.230981\n",
       "24674    1.018429\n",
       "Name: tour_duration, Length: 24675, dtype: float64"
      ]
     },
     "execution_count": 13,
     "metadata": {},
     "output_type": "execute_result"
    }
   ],
   "source": [
    "df.groupby(['dominant_gender'])['tour_duration'].transform('mean')#.plot(kind='hist')"
   ]
  },
  {
   "cell_type": "code",
   "execution_count": 14,
   "id": "c3a2745e",
   "metadata": {},
   "outputs": [
    {
     "data": {
      "image/png": "[encoded data removed]",
      "text/plain": [
       "<Figure size 640x480 with 1 Axes>"
      ]
     },
     "metadata": {},
     "output_type": "display_data"
    }
   ],
   "source": [
    "sns.boxplot(data=df)\n",
    "plt.xticks(rotation=90);"
   ]
  },
  {
   "cell_type": "code",
   "execution_count": 15,
   "id": "399703c5",
   "metadata": {},
   "outputs": [
    {
     "data": {
      "image/png": "[encoded data removed]",
      "text/plain": [
       "<Figure size 640x480 with 1 Axes>"
      ]
     },
     "metadata": {},
     "output_type": "display_data"
    }
   ],
   "source": [
    "sns.histplot(df['age_group'], kde=True)\n",
    "plt.xlabel('Age Density');"
   ]
  },
  {
   "cell_type": "code",
   "execution_count": 16,
   "id": "4fbd65d3",
   "metadata": {},
   "outputs": [
    {
     "data": {
      "text/html": [
       "<div>\n",
       "<style scoped>\n",
       "    .dataframe tbody tr th:only-of-type {\n",
       "        vertical-align: middle;\n",
       "    }\n",
       "\n",
       "    .dataframe tbody tr th {\n",
       "        vertical-align: top;\n",
       "    }\n",
       "\n",
       "    .dataframe thead tr th {\n",
       "        text-align: left;\n",
       "    }\n",
       "\n",
       "    .dataframe thead tr:last-of-type th {\n",
       "        text-align: right;\n",
       "    }\n",
       "</style>\n",
       "<table border=\"1\" class=\"dataframe\">\n",
       "  <thead>\n",
       "    <tr>\n",
       "      <th>dominant_gender</th>\n",
       "      <th colspan=\"2\" halign=\"left\">Equal</th>\n",
       "      <th colspan=\"2\" halign=\"left\">Female</th>\n",
       "      <th colspan=\"2\" halign=\"left\">Male</th>\n",
       "    </tr>\n",
       "    <tr>\n",
       "      <th>tour_arrangement</th>\n",
       "      <th>Independent</th>\n",
       "      <th>Package Tour</th>\n",
       "      <th>Independent</th>\n",
       "      <th>Package Tour</th>\n",
       "      <th>Independent</th>\n",
       "      <th>Package Tour</th>\n",
       "    </tr>\n",
       "    <tr>\n",
       "      <th>age_group</th>\n",
       "      <th></th>\n",
       "      <th></th>\n",
       "      <th></th>\n",
       "      <th></th>\n",
       "      <th></th>\n",
       "      <th></th>\n",
       "    </tr>\n",
       "  </thead>\n",
       "  <tbody>\n",
       "    <tr>\n",
       "      <th>-134.474965</th>\n",
       "      <td>1382</td>\n",
       "      <td>2585</td>\n",
       "      <td>1859</td>\n",
       "      <td>1235</td>\n",
       "      <td>3748</td>\n",
       "      <td>1259</td>\n",
       "    </tr>\n",
       "    <tr>\n",
       "      <th>47.353607</th>\n",
       "      <td>296</td>\n",
       "      <td>310</td>\n",
       "      <td>829</td>\n",
       "      <td>485</td>\n",
       "      <td>681</td>\n",
       "      <td>350</td>\n",
       "    </tr>\n",
       "    <tr>\n",
       "      <th>91.175035</th>\n",
       "      <td>645</td>\n",
       "      <td>2348</td>\n",
       "      <td>708</td>\n",
       "      <td>1059</td>\n",
       "      <td>1722</td>\n",
       "      <td>1073</td>\n",
       "    </tr>\n",
       "    <tr>\n",
       "      <th>371.575035</th>\n",
       "      <td>150</td>\n",
       "      <td>911</td>\n",
       "      <td>83</td>\n",
       "      <td>375</td>\n",
       "      <td>178</td>\n",
       "      <td>250</td>\n",
       "    </tr>\n",
       "    <tr>\n",
       "      <th>459.866212</th>\n",
       "      <td>11</td>\n",
       "      <td>27</td>\n",
       "      <td>34</td>\n",
       "      <td>33</td>\n",
       "      <td>25</td>\n",
       "      <td>24</td>\n",
       "    </tr>\n",
       "  </tbody>\n",
       "</table>\n",
       "</div>"
      ],
      "text/plain": [
       "dominant_gender        Equal                   Female               \\\n",
       "tour_arrangement Independent Package Tour Independent Package Tour   \n",
       "age_group                                                            \n",
       "-134.474965             1382         2585        1859         1235   \n",
       " 47.353607               296          310         829          485   \n",
       " 91.175035               645         2348         708         1059   \n",
       " 371.575035              150          911          83          375   \n",
       " 459.866212               11           27          34           33   \n",
       "\n",
       "dominant_gender         Male               \n",
       "tour_arrangement Independent Package Tour  \n",
       "age_group                                  \n",
       "-134.474965             3748         1259  \n",
       " 47.353607               681          350  \n",
       " 91.175035              1722         1073  \n",
       " 371.575035              178          250  \n",
       " 459.866212               25           24  "
      ]
     },
     "execution_count": 16,
     "metadata": {},
     "output_type": "execute_result"
    }
   ],
   "source": [
    "df.pivot_table('purpose', index='age_group', columns=['dominant_gender', 'tour_arrangement'], fill_value=0,\n",
    "              aggfunc='count')#.apply(lambda x: np.mean(x))"
   ]
  },
  {
   "cell_type": "code",
   "execution_count": 17,
   "id": "a9ddc420",
   "metadata": {
    "scrolled": true
   },
   "outputs": [
    {
     "data": {
      "text/plain": [
       "age_group\n",
       "-134.474965    4022.666667\n",
       " 47.353607      983.666667\n",
       " 91.175035     2518.333333\n",
       " 371.575035     649.000000\n",
       " 459.866212      51.333333\n",
       "dtype: float64"
      ]
     },
     "execution_count": 17,
     "metadata": {},
     "output_type": "execute_result"
    }
   ],
   "source": [
    "df.pivot_table('purpose', index='dominant_gender', columns='age_group',\n",
    "              aggfunc='count').apply(lambda x: np.mean(x))"
   ]
  },
  {
   "cell_type": "code",
   "execution_count": 18,
   "id": "2c47d933",
   "metadata": {},
   "outputs": [
    {
     "data": {
      "text/plain": [
       "1.3456940222897669"
      ]
     },
     "execution_count": 18,
     "metadata": {},
     "output_type": "execute_result"
    }
   ],
   "source": [
    "np.sum(df['total_male'].values ** 2) / len(df['total_male'])"
   ]
  },
  {
   "cell_type": "code",
   "execution_count": 19,
   "id": "34b6e702",
   "metadata": {},
   "outputs": [
    {
     "data": {
      "text/plain": [
       "array([4., 1., 1., ..., 1., 0., 1.])"
      ]
     },
     "execution_count": 19,
     "metadata": {},
     "output_type": "execute_result"
    }
   ],
   "source": [
    "df['total_male'].values ** 2"
   ]
  },
  {
   "cell_type": "code",
   "execution_count": 20,
   "id": "07a0b743",
   "metadata": {
    "scrolled": false
   },
   "outputs": [
    {
     "data": {
      "text/plain": [
       "Male      0.377305\n",
       "Equal     0.351165\n",
       "Female    0.271530\n",
       "Name: dominant_gender, dtype: float64"
      ]
     },
     "execution_count": 20,
     "metadata": {},
     "output_type": "execute_result"
    }
   ],
   "source": [
    "df.dominant_gender.value_counts() / len(df['dominant_gender'])"
   ]
  },
  {
   "cell_type": "code",
   "execution_count": 21,
   "id": "ec0acdc5",
   "metadata": {},
   "outputs": [],
   "source": [
    "#train['age_category'] = train['age_group'].replace({'<18': 'young','18-24': 'young','25-44': 'middle_aged','45-64' : 'old','65+':'grands'})\n",
    "\n",
    "#labels = ['three', 'five', 'week', 'ten', 'fortnight', 'month', 'year']\n",
    "#bins = [0, 3, 5, 7, 10, 14, 21,  371]\n",
    "#train['duration'] = pd.cut(train['total_nights'], bins=bins, labels=labels)\n",
    "\n",
    "#labels = ['normal', 'minimal', 'nomini', 'big', 'grande']\n",
    "#bins = [0, 1, 2, 3, 5, 93]\n",
    "#df['travel_group_size'] = pd.cut(df['total_people'], bins=bins, labels=labels)"
   ]
  },
  {
   "cell_type": "code",
   "execution_count": 22,
   "id": "1124ea4f",
   "metadata": {
    "scrolled": true
   },
   "outputs": [],
   "source": [
    "num_features = [col for col in df.select_dtypes(np.number)]\n",
    "for f in num_features:\n",
    "    #df[\"log_{}\".format(f)] = (df[f] - df[f].min() + 1).transform(np.log)\n",
    "    df.loc[:, f] = df[f].fillna(df[f].median())\n",
    "\n",
    "\n",
    "cat_features = [] \n",
    "for x in df.select_dtypes('object', 'category'):\n",
    "    df.loc[\n",
    "        df['country'].value_counts()[df['country']].values < 20, \"country\"\n",
    "    ] = \"RARE\"\n",
    "    \n",
    "\n",
    "    if x not in ('cost_category'):\n",
    "        df.loc[:, x] = df[x].fillna(\"None\").astype(str)\n",
    "        cat_features.append(x)\n",
    "\n",
    "        \n",
    "com_features = []\n",
    "combinations = list(itertools.combinations(com_features  , 2))\n",
    "for f1, f2 in combinations:\n",
    "    df.loc[:, f1 + \"_\" + f2 ] = df[f1].astype(str) + \"_\" + df[f2].astype(str) \n",
    "    cat_features.append(f1 + \"_\" + f2) \n"
   ]
  },
  {
   "cell_type": "code",
   "execution_count": 23,
   "id": "8e08217f",
   "metadata": {},
   "outputs": [
    {
     "data": {
      "text/plain": [
       "(16, 16)"
      ]
     },
     "execution_count": 23,
     "metadata": {},
     "output_type": "execute_result"
    }
   ],
   "source": [
    "len(num_features), len(cat_features)"
   ]
  },
  {
   "cell_type": "code",
   "execution_count": 24,
   "id": "b3f4a897",
   "metadata": {},
   "outputs": [
    {
     "data": {
      "text/html": [
       "<div>\n",
       "<style scoped>\n",
       "    .dataframe tbody tr th:only-of-type {\n",
       "        vertical-align: middle;\n",
       "    }\n",
       "\n",
       "    .dataframe tbody tr th {\n",
       "        vertical-align: top;\n",
       "    }\n",
       "\n",
       "    .dataframe thead th {\n",
       "        text-align: right;\n",
       "    }\n",
       "</style>\n",
       "<table border=\"1\" class=\"dataframe\">\n",
       "  <thead>\n",
       "    <tr style=\"text-align: right;\">\n",
       "      <th></th>\n",
       "      <th>Tour_ID</th>\n",
       "      <th>country</th>\n",
       "      <th>age_group</th>\n",
       "      <th>travel_with</th>\n",
       "      <th>total_female</th>\n",
       "      <th>total_male</th>\n",
       "      <th>purpose</th>\n",
       "      <th>main_activity</th>\n",
       "      <th>info_source</th>\n",
       "      <th>tour_arrangement</th>\n",
       "      <th>...</th>\n",
       "      <th>total_people</th>\n",
       "      <th>av_tmale_per_tp</th>\n",
       "      <th>av_tfemale_per_tp</th>\n",
       "      <th>av_tp_per_purpose</th>\n",
       "      <th>info_source &amp; purpose</th>\n",
       "      <th>mean_age_density_per_country</th>\n",
       "      <th>mean_age_density_per_main_activity</th>\n",
       "      <th>mean_age_density_per_info</th>\n",
       "      <th>dominant_gender</th>\n",
       "      <th>av_stay_per_gender</th>\n",
       "    </tr>\n",
       "  </thead>\n",
       "  <tbody>\n",
       "    <tr>\n",
       "      <th>0</th>\n",
       "      <td>tour_id1hffseyw</td>\n",
       "      <td>ITALY</td>\n",
       "      <td>91.175035</td>\n",
       "      <td>With Children</td>\n",
       "      <td>0.0</td>\n",
       "      <td>2.0</td>\n",
       "      <td>Visiting Friends and Relatives</td>\n",
       "      <td>Beach Tourism</td>\n",
       "      <td>Friends, relatives</td>\n",
       "      <td>Package Tour</td>\n",
       "      <td>...</td>\n",
       "      <td>2.0</td>\n",
       "      <td>0.977557</td>\n",
       "      <td>1.022443</td>\n",
       "      <td>1.518014</td>\n",
       "      <td>2457</td>\n",
       "      <td>-26.764593</td>\n",
       "      <td>-38.739830</td>\n",
       "      <td>-22.918575</td>\n",
       "      <td>Male</td>\n",
       "      <td>1.018429</td>\n",
       "    </tr>\n",
       "    <tr>\n",
       "      <th>1</th>\n",
       "      <td>tour_idnacd7zag</td>\n",
       "      <td>UNITED KINGDOM</td>\n",
       "      <td>-134.474965</td>\n",
       "      <td>With Spouse</td>\n",
       "      <td>1.0</td>\n",
       "      <td>1.0</td>\n",
       "      <td>Leisure and Holidays</td>\n",
       "      <td>Wildlife Tourism</td>\n",
       "      <td>Travel agent, tour operator</td>\n",
       "      <td>Package Tour</td>\n",
       "      <td>...</td>\n",
       "      <td>2.0</td>\n",
       "      <td>0.977557</td>\n",
       "      <td>1.022443</td>\n",
       "      <td>1.972947</td>\n",
       "      <td>9409</td>\n",
       "      <td>2.348333</td>\n",
       "      <td>31.766373</td>\n",
       "      <td>28.312866</td>\n",
       "      <td>Equal</td>\n",
       "      <td>1.261611</td>\n",
       "    </tr>\n",
       "    <tr>\n",
       "      <th>2</th>\n",
       "      <td>tour_id62vz7e71</td>\n",
       "      <td>UNITED STATES OF AMERICA</td>\n",
       "      <td>371.575035</td>\n",
       "      <td>With Spouse</td>\n",
       "      <td>1.0</td>\n",
       "      <td>1.0</td>\n",
       "      <td>Leisure and Holidays</td>\n",
       "      <td>Wildlife Tourism</td>\n",
       "      <td>Travel agent, tour operator</td>\n",
       "      <td>Package Tour</td>\n",
       "      <td>...</td>\n",
       "      <td>2.0</td>\n",
       "      <td>0.977557</td>\n",
       "      <td>1.022443</td>\n",
       "      <td>1.972947</td>\n",
       "      <td>9409</td>\n",
       "      <td>86.640775</td>\n",
       "      <td>31.766373</td>\n",
       "      <td>28.312866</td>\n",
       "      <td>Equal</td>\n",
       "      <td>1.261611</td>\n",
       "    </tr>\n",
       "    <tr>\n",
       "      <th>3</th>\n",
       "      <td>tour_idrc76tzix</td>\n",
       "      <td>RWANDA</td>\n",
       "      <td>-134.474965</td>\n",
       "      <td>With Spouse and Children</td>\n",
       "      <td>3.0</td>\n",
       "      <td>1.0</td>\n",
       "      <td>Leisure and Holidays</td>\n",
       "      <td>Beach Tourism</td>\n",
       "      <td>Radio, TV, Web</td>\n",
       "      <td>Independent</td>\n",
       "      <td>...</td>\n",
       "      <td>4.0</td>\n",
       "      <td>2.074730</td>\n",
       "      <td>1.925270</td>\n",
       "      <td>1.972947</td>\n",
       "      <td>1092</td>\n",
       "      <td>-34.481939</td>\n",
       "      <td>-38.739830</td>\n",
       "      <td>-33.001695</td>\n",
       "      <td>Female</td>\n",
       "      <td>1.230981</td>\n",
       "    </tr>\n",
       "    <tr>\n",
       "      <th>4</th>\n",
       "      <td>tour_idn723m0n9</td>\n",
       "      <td>UNITED STATES OF AMERICA</td>\n",
       "      <td>91.175035</td>\n",
       "      <td>Alone</td>\n",
       "      <td>0.0</td>\n",
       "      <td>1.0</td>\n",
       "      <td>Leisure and Holidays</td>\n",
       "      <td>Wildlife Tourism</td>\n",
       "      <td>Travel agent, tour operator</td>\n",
       "      <td>Package Tour</td>\n",
       "      <td>...</td>\n",
       "      <td>1.0</td>\n",
       "      <td>0.611608</td>\n",
       "      <td>0.388392</td>\n",
       "      <td>1.972947</td>\n",
       "      <td>9409</td>\n",
       "      <td>86.640775</td>\n",
       "      <td>31.766373</td>\n",
       "      <td>28.312866</td>\n",
       "      <td>Male</td>\n",
       "      <td>1.018429</td>\n",
       "    </tr>\n",
       "  </tbody>\n",
       "</table>\n",
       "<p>5 rows × 33 columns</p>\n",
       "</div>"
      ],
      "text/plain": [
       "           Tour_ID                   country   age_group  \\\n",
       "0  tour_id1hffseyw                     ITALY   91.175035   \n",
       "1  tour_idnacd7zag            UNITED KINGDOM -134.474965   \n",
       "2  tour_id62vz7e71  UNITED STATES OF AMERICA  371.575035   \n",
       "3  tour_idrc76tzix                    RWANDA -134.474965   \n",
       "4  tour_idn723m0n9  UNITED STATES OF AMERICA   91.175035   \n",
       "\n",
       "                travel_with  total_female  total_male  \\\n",
       "0             With Children           0.0         2.0   \n",
       "1               With Spouse           1.0         1.0   \n",
       "2               With Spouse           1.0         1.0   \n",
       "3  With Spouse and Children           3.0         1.0   \n",
       "4                     Alone           0.0         1.0   \n",
       "\n",
       "                          purpose     main_activity  \\\n",
       "0  Visiting Friends and Relatives     Beach Tourism   \n",
       "1            Leisure and Holidays  Wildlife Tourism   \n",
       "2            Leisure and Holidays  Wildlife Tourism   \n",
       "3            Leisure and Holidays     Beach Tourism   \n",
       "4            Leisure and Holidays  Wildlife Tourism   \n",
       "\n",
       "                   info_source tour_arrangement  ... total_people  \\\n",
       "0           Friends, relatives     Package Tour  ...          2.0   \n",
       "1  Travel agent, tour operator     Package Tour  ...          2.0   \n",
       "2  Travel agent, tour operator     Package Tour  ...          2.0   \n",
       "3               Radio, TV, Web      Independent  ...          4.0   \n",
       "4  Travel agent, tour operator     Package Tour  ...          1.0   \n",
       "\n",
       "  av_tmale_per_tp av_tfemale_per_tp av_tp_per_purpose info_source & purpose  \\\n",
       "0        0.977557          1.022443          1.518014                  2457   \n",
       "1        0.977557          1.022443          1.972947                  9409   \n",
       "2        0.977557          1.022443          1.972947                  9409   \n",
       "3        2.074730          1.925270          1.972947                  1092   \n",
       "4        0.611608          0.388392          1.972947                  9409   \n",
       "\n",
       "  mean_age_density_per_country mean_age_density_per_main_activity  \\\n",
       "0                   -26.764593                         -38.739830   \n",
       "1                     2.348333                          31.766373   \n",
       "2                    86.640775                          31.766373   \n",
       "3                   -34.481939                         -38.739830   \n",
       "4                    86.640775                          31.766373   \n",
       "\n",
       "   mean_age_density_per_info  dominant_gender av_stay_per_gender  \n",
       "0                 -22.918575             Male           1.018429  \n",
       "1                  28.312866            Equal           1.261611  \n",
       "2                  28.312866            Equal           1.261611  \n",
       "3                 -33.001695           Female           1.230981  \n",
       "4                  28.312866             Male           1.018429  \n",
       "\n",
       "[5 rows x 33 columns]"
      ]
     },
     "execution_count": 24,
     "metadata": {},
     "output_type": "execute_result"
    }
   ],
   "source": [
    "df.head()"
   ]
  },
  {
   "cell_type": "code",
   "execution_count": 25,
   "id": "c356980a",
   "metadata": {},
   "outputs": [],
   "source": [
    "def chi_test(X, y):\n",
    "    col_drop= []\n",
    "    not_drop= []\n",
    "    undecided=[]\n",
    "    \n",
    "    for col in X.columns:\n",
    "        ct=pd.crosstab(y, X[col])\n",
    "        chi2, p, dof, expected = chi2_contingency(ct)\n",
    "        \n",
    "        if p >= 0.05 or chi2 <= 2000:\n",
    "            col_drop.append(col)\n",
    "        elif p < 0.05 and  chi2 >= 5000:\n",
    "            not_drop.append(col)\n",
    "        else:\n",
    "            undecided.append(col)\n",
    "        \n",
    "        print(f\"------------------------\\nColumn: {col}\\nChi Test: {chi2}\\nP_Value: {p}\\nDOF: {dof}\\n------------------------\")\n",
    "    print(f\"\\n\\nSUMMARY: \\nLittle or No correlation Columns: {col_drop}\\n\\nCorrelation not so strong columns: {undecided}\\n\\nStrong Correlation Columns: {not_drop}\")"
   ]
  },
  {
   "cell_type": "code",
   "execution_count": 26,
   "id": "734656f7",
   "metadata": {},
   "outputs": [],
   "source": [
    "train = df[df.cost_category != -1].reset_index(drop=True)\n",
    "test = df[df.cost_category == -1].reset_index(drop=True)"
   ]
  },
  {
   "cell_type": "code",
   "execution_count": 27,
   "id": "c2af5b34",
   "metadata": {},
   "outputs": [],
   "source": [
    "test.to_csv('new_test.csv')"
   ]
  },
  {
   "cell_type": "code",
   "execution_count": 30,
   "id": "fb8e33b2",
   "metadata": {},
   "outputs": [
    {
     "name": "stdout",
     "output_type": "stream",
     "text": [
      "------------------------\n",
      "Column: Tour_ID\n",
      "Chi Test: 92530.0\n",
      "P_Value: 0.4947449902995666\n",
      "DOF: 92525\n",
      "------------------------\n",
      "------------------------\n",
      "Column: country\n",
      "Chi Test: 9401.22969371141\n",
      "P_Value: 0.0\n",
      "DOF: 300\n",
      "------------------------\n",
      "------------------------\n",
      "Column: age_group\n",
      "Chi Test: 1803.196457648891\n",
      "P_Value: 0.0\n",
      "DOF: 20\n",
      "------------------------\n",
      "------------------------\n",
      "Column: travel_with\n",
      "Chi Test: 4825.77958768553\n",
      "P_Value: 0.0\n",
      "DOF: 25\n",
      "------------------------\n",
      "------------------------\n",
      "Column: total_female\n",
      "Chi Test: 3135.1341596685616\n",
      "P_Value: 0.0\n",
      "DOF: 15\n",
      "------------------------\n",
      "------------------------\n",
      "Column: total_male\n",
      "Chi Test: 804.2466108839939\n",
      "P_Value: 1.775590677605355e-157\n",
      "DOF: 20\n",
      "------------------------\n",
      "------------------------\n",
      "Column: purpose\n",
      "Chi Test: 6975.312873617305\n",
      "P_Value: 0.0\n",
      "DOF: 35\n",
      "------------------------\n",
      "------------------------\n",
      "Column: main_activity\n",
      "Chi Test: 3606.50524881434\n",
      "P_Value: 0.0\n",
      "DOF: 40\n",
      "------------------------\n",
      "------------------------\n",
      "Column: info_source\n",
      "Chi Test: 4166.3943611855575\n",
      "P_Value: 0.0\n",
      "DOF: 35\n",
      "------------------------\n",
      "------------------------\n",
      "Column: tour_arrangement\n",
      "Chi Test: 8331.284428771029\n",
      "P_Value: 0.0\n",
      "DOF: 5\n",
      "------------------------\n",
      "------------------------\n",
      "Column: package_transport_int\n",
      "Chi Test: 5414.9841247089\n",
      "P_Value: 0.0\n",
      "DOF: 5\n",
      "------------------------\n",
      "------------------------\n",
      "Column: package_accomodation\n",
      "Chi Test: 7883.608233888307\n",
      "P_Value: 0.0\n",
      "DOF: 5\n",
      "------------------------\n",
      "------------------------\n",
      "Column: package_food\n",
      "Chi Test: 7146.769578021885\n",
      "P_Value: 0.0\n",
      "DOF: 5\n",
      "------------------------\n",
      "------------------------\n",
      "Column: package_transport_tz\n",
      "Chi Test: 6346.490489845604\n",
      "P_Value: 0.0\n",
      "DOF: 5\n",
      "------------------------\n",
      "------------------------\n",
      "Column: package_sightseeing\n",
      "Chi Test: 4501.574863783683\n",
      "P_Value: 0.0\n",
      "DOF: 5\n",
      "------------------------\n",
      "------------------------\n",
      "Column: package_guided_tour\n",
      "Chi Test: 4873.499054202309\n",
      "P_Value: 0.0\n",
      "DOF: 5\n",
      "------------------------\n",
      "------------------------\n",
      "Column: package_insurance\n",
      "Chi Test: 2067.872038967938\n",
      "P_Value: 0.0\n",
      "DOF: 5\n",
      "------------------------\n",
      "------------------------\n",
      "Column: night_mainland\n",
      "Chi Test: 4993.574894809394\n",
      "P_Value: 0.0\n",
      "DOF: 115\n",
      "------------------------\n",
      "------------------------\n",
      "Column: night_zanzibar\n",
      "Chi Test: 1902.0419921017688\n",
      "P_Value: 0.0\n",
      "DOF: 40\n",
      "------------------------\n",
      "------------------------\n",
      "Column: first_trip_tz\n",
      "Chi Test: 2229.180451768042\n",
      "P_Value: 0.0\n",
      "DOF: 5\n",
      "------------------------\n",
      "------------------------\n",
      "Column: total_nights\n",
      "Chi Test: 5637.712498230133\n",
      "P_Value: 0.0\n",
      "DOF: 150\n",
      "------------------------\n",
      "------------------------\n",
      "Column: tour_duration\n",
      "Chi Test: 5637.712498230133\n",
      "P_Value: 0.0\n",
      "DOF: 150\n",
      "------------------------\n",
      "------------------------\n",
      "Column: total_people\n",
      "Chi Test: 4481.239154927408\n",
      "P_Value: 0.0\n",
      "DOF: 35\n",
      "------------------------\n",
      "------------------------\n",
      "Column: av_tmale_per_tp\n",
      "Chi Test: 4481.239154927408\n",
      "P_Value: 0.0\n",
      "DOF: 35\n",
      "------------------------\n",
      "------------------------\n",
      "Column: av_tfemale_per_tp\n",
      "Chi Test: 4481.239154927408\n",
      "P_Value: 0.0\n",
      "DOF: 35\n",
      "------------------------\n",
      "------------------------\n",
      "Column: av_tp_per_purpose\n",
      "Chi Test: 6975.312873617304\n",
      "P_Value: 0.0\n",
      "DOF: 35\n",
      "------------------------\n",
      "------------------------\n",
      "Column: info_source & purpose\n",
      "Chi Test: 8490.143341971068\n",
      "P_Value: 0.0\n",
      "DOF: 245\n",
      "------------------------\n",
      "------------------------\n",
      "Column: mean_age_density_per_country\n",
      "Chi Test: 9673.65915401822\n",
      "P_Value: 0.0\n",
      "DOF: 525\n",
      "------------------------\n",
      "------------------------\n",
      "Column: mean_age_density_per_main_activity\n",
      "Chi Test: 3606.50524881434\n",
      "P_Value: 0.0\n",
      "DOF: 40\n",
      "------------------------\n",
      "------------------------\n",
      "Column: mean_age_density_per_info\n",
      "Chi Test: 4166.3943611855575\n",
      "P_Value: 0.0\n",
      "DOF: 35\n",
      "------------------------\n",
      "------------------------\n",
      "Column: dominant_gender\n",
      "Chi Test: 3035.429767588673\n",
      "P_Value: 0.0\n",
      "DOF: 10\n",
      "------------------------\n",
      "------------------------\n",
      "Column: av_stay_per_gender\n",
      "Chi Test: 3035.4297675886723\n",
      "P_Value: 0.0\n",
      "DOF: 10\n",
      "------------------------\n",
      "\n",
      "\n",
      "SUMMARY: \n",
      "Little or No correlation Columns: ['Tour_ID', 'age_group', 'total_male', 'night_zanzibar']\n",
      "\n",
      "Correlation not so strong columns: ['travel_with', 'total_female', 'main_activity', 'info_source', 'package_sightseeing', 'package_guided_tour', 'package_insurance', 'night_mainland', 'first_trip_tz', 'total_people', 'av_tmale_per_tp', 'av_tfemale_per_tp', 'mean_age_density_per_main_activity', 'mean_age_density_per_info', 'dominant_gender', 'av_stay_per_gender']\n",
      "\n",
      "Strong Correlation Columns: ['country', 'purpose', 'tour_arrangement', 'package_transport_int', 'package_accomodation', 'package_food', 'package_transport_tz', 'total_nights', 'tour_duration', 'av_tp_per_purpose', 'info_source & purpose', 'mean_age_density_per_country']\n"
     ]
    }
   ],
   "source": [
    "X =train.drop([ 'cost_category'], axis=1)\n",
    "y = train['cost_category']\n",
    "\n",
    "chi_test(X, y)"
   ]
  },
  {
   "cell_type": "code",
   "execution_count": 31,
   "id": "06e4790f",
   "metadata": {
    "scrolled": true
   },
   "outputs": [
    {
     "name": "stdout",
     "output_type": "stream",
     "text": [
      "Tour_ID 18506\n",
      "country 61\n",
      "age_group 5\n",
      "travel_with 6\n",
      "total_female 4\n",
      "total_male 5\n",
      "purpose 8\n",
      "main_activity 9\n",
      "info_source 8\n",
      "tour_arrangement 2\n",
      "package_transport_int 2\n",
      "package_accomodation 2\n",
      "package_food 2\n",
      "package_transport_tz 2\n",
      "package_sightseeing 2\n",
      "package_guided_tour 2\n",
      "package_insurance 2\n",
      "night_mainland 24\n",
      "night_zanzibar 9\n",
      "first_trip_tz 2\n",
      "total_nights 31\n",
      "tour_duration 31\n",
      "total_people 8\n",
      "av_tmale_per_tp 8\n",
      "av_tfemale_per_tp 8\n",
      "av_tp_per_purpose 8\n",
      "info_source & purpose 50\n",
      "mean_age_density_per_country 106\n",
      "mean_age_density_per_main_activity 9\n",
      "mean_age_density_per_info 8\n",
      "dominant_gender 3\n",
      "av_stay_per_gender 3\n"
     ]
    }
   ],
   "source": [
    "#checking total number of unique values in each column. \n",
    "def check_unique(df):\n",
    "    for col in df:\n",
    "        print(col, len(df[col].unique()))\n",
    "\n",
    "check_unique(X)"
   ]
  },
  {
   "cell_type": "code",
   "execution_count": 32,
   "id": "94946c3d",
   "metadata": {
    "scrolled": true
   },
   "outputs": [
    {
     "name": "stdout",
     "output_type": "stream",
     "text": [
      "\n",
      "Column: Tour_ID\n",
      "Total number of Unique Values:  18506\n",
      "\n",
      "Column: country\n",
      "Total number of Unique Values:  61\n",
      "\n",
      "Column: travel_with\n",
      "Unique Values: 6\n",
      " ['With Children' 'With Spouse' 'With Spouse and Children' 'Alone' 'None'\n",
      " 'With Other Friends/Relatives']\n",
      "\n",
      "Column: purpose\n",
      "Unique Values: 8\n",
      " ['Visiting Friends and Relatives' 'Leisure and Holidays' 'Business'\n",
      " 'Scientific and Academic' 'Meetings and Conference' 'Volunteering'\n",
      " 'Other' 'Medical']\n",
      "\n",
      "Column: main_activity\n",
      "Unique Values: 9\n",
      " ['Beach Tourism' 'Wildlife Tourism' 'Cultural Tourism' 'Bird Tourism'\n",
      " 'Hunting Tourism' 'Conference Tourism' 'Mountain Climbing' 'Business'\n",
      " 'Diving and Sport Fishing']\n",
      "\n",
      "Column: info_source\n",
      "Unique Values: 8\n",
      " ['Friends, relatives' 'Travel agent, tour operator' 'Radio, TV, Web'\n",
      " 'Newspaper, magazines, brochures' 'Others' 'Tanzania Mission Abroad'\n",
      " 'Inflight magazines' 'Trade fair']\n",
      "\n",
      "Column: tour_arrangement\n",
      "Unique Values: 2\n",
      " ['Package Tour' 'Independent']\n",
      "\n",
      "Column: package_transport_int\n",
      "Unique Values: 2\n",
      " ['Yes' 'No']\n",
      "\n",
      "Column: package_accomodation\n",
      "Unique Values: 2\n",
      " ['Yes' 'No']\n",
      "\n",
      "Column: package_food\n",
      "Unique Values: 2\n",
      " ['Yes' 'No']\n",
      "\n",
      "Column: package_transport_tz\n",
      "Unique Values: 2\n",
      " ['Yes' 'No']\n",
      "\n",
      "Column: package_sightseeing\n",
      "Unique Values: 2\n",
      " ['No' 'Yes']\n",
      "\n",
      "Column: package_guided_tour\n",
      "Unique Values: 2\n",
      " ['No' 'Yes']\n",
      "\n",
      "Column: package_insurance\n",
      "Unique Values: 2\n",
      " ['No' 'Yes']\n",
      "\n",
      "Column: first_trip_tz\n",
      "Unique Values: 2\n",
      " ['Yes' 'No']\n",
      "\n",
      "Column: dominant_gender\n",
      "Unique Values: 3\n",
      " ['Male' 'Equal' 'Female']\n"
     ]
    }
   ],
   "source": [
    "#Checking and printing number of unique values in each categorical column\n",
    "def cat_unique(df):\n",
    "    for col in df.select_dtypes('object', 'category'):\n",
    "        if df[col].nunique() > 20:\n",
    "            print(f\"\\nColumn: {col}\\nTotal number of Unique Values:  {df[col].nunique()}\")\n",
    "        else:\n",
    "            print(f\"\\nColumn: {col}\\nUnique Values: {df[col].nunique()}\\n {df[col].unique()}\")\n",
    "            \n",
    "cat_unique(X)"
   ]
  },
  {
   "cell_type": "code",
   "execution_count": 33,
   "id": "ab14c4be",
   "metadata": {},
   "outputs": [
    {
     "name": "stdout",
     "output_type": "stream",
     "text": [
      "Tour_ID :\n",
      "              index  Total Count\n",
      "0  tour_id1hffseyw            1\n",
      "1  tour_idmewz05ax            1\n",
      "2  tour_id1r5sg681            1\n",
      "3  tour_idadk8knjo            1\n",
      "4  tour_id8lpsjwla            1\n",
      "5  tour_id0diqveca            1\n",
      "6  tour_idfxt5l5d6            1\n",
      "7  tour_idvxxrdp86            1\n",
      "8  tour_id34b1jmya            1\n",
      "9  tour_id97bpz9xl            1\n",
      "country :\n",
      "                       index  Total Count\n",
      "0  UNITED STATES OF AMERICA         2846\n",
      "1            UNITED KINGDOM         2120\n",
      "2                     ITALY         1625\n",
      "3                    FRANCE         1064\n",
      "4                   GERMANY          969\n",
      "5              SOUTH AFRICA          811\n",
      "6                     KENYA          781\n",
      "7                    ZAMBIA          715\n",
      "8                 AUSTRALIA          704\n",
      "9                    CANADA          571\n",
      "--------------------------------------------------------------------------\n",
      "travel_with\n",
      "                          index  Total Count\n",
      "0                         Alone         7590\n",
      "1                   With Spouse         4842\n",
      "2  With Other Friends/Relatives         3268\n",
      "3      With Spouse and Children         1193\n",
      "4                          None         1075\n",
      "5                 With Children          538\n",
      "--------------------------------------------------------------------------\n",
      "--------------------------------------------------------------------------\n",
      "purpose\n",
      "                            index  Total Count\n",
      "0            Leisure and Holidays        11755\n",
      "1  Visiting Friends and Relatives         2304\n",
      "2                        Business         2297\n",
      "3         Meetings and Conference         1179\n",
      "4                    Volunteering          438\n",
      "5                           Other          326\n",
      "6         Scientific and Academic          198\n",
      "7                         Medical            9\n",
      "--------------------------------------------------------------------------\n",
      "--------------------------------------------------------------------------\n",
      "main_activity\n",
      "                      index  Total Count\n",
      "0          Wildlife Tourism         8271\n",
      "1             Beach Tourism         4172\n",
      "2        Conference Tourism         1920\n",
      "3           Hunting Tourism         1712\n",
      "4          Cultural Tourism         1444\n",
      "5         Mountain Climbing          529\n",
      "6                  Business          280\n",
      "7              Bird Tourism          144\n",
      "8  Diving and Sport Fishing           34\n",
      "--------------------------------------------------------------------------\n",
      "--------------------------------------------------------------------------\n",
      "info_source\n",
      "                             index  Total Count\n",
      "0      Travel agent, tour operator         8005\n",
      "1               Friends, relatives         6077\n",
      "2                           Others         1368\n",
      "3  Newspaper, magazines, brochures         1301\n",
      "4                   Radio, TV, Web         1223\n",
      "5                       Trade fair          243\n",
      "6          Tanzania Mission Abroad          197\n",
      "7               Inflight magazines           92\n",
      "--------------------------------------------------------------------------\n",
      "--------------------------------------------------------------------------\n",
      "tour_arrangement\n",
      "          index  Total Count\n",
      "0  Package Tour         9295\n",
      "1   Independent         9211\n",
      "--------------------------------------------------------------------------\n",
      "--------------------------------------------------------------------------\n",
      "package_transport_int\n",
      "  index  Total Count\n",
      "0    No        12238\n",
      "1   Yes         6268\n",
      "--------------------------------------------------------------------------\n",
      "--------------------------------------------------------------------------\n",
      "package_accomodation\n",
      "  index  Total Count\n",
      "0    No         9541\n",
      "1   Yes         8965\n",
      "--------------------------------------------------------------------------\n",
      "--------------------------------------------------------------------------\n",
      "package_food\n",
      "  index  Total Count\n",
      "0    No        10143\n",
      "1   Yes         8363\n",
      "--------------------------------------------------------------------------\n",
      "--------------------------------------------------------------------------\n",
      "package_transport_tz\n",
      "  index  Total Count\n",
      "0    No        10873\n",
      "1   Yes         7633\n",
      "--------------------------------------------------------------------------\n",
      "--------------------------------------------------------------------------\n",
      "package_sightseeing\n",
      "  index  Total Count\n",
      "0    No        12786\n",
      "1   Yes         5720\n",
      "--------------------------------------------------------------------------\n",
      "--------------------------------------------------------------------------\n",
      "package_guided_tour\n",
      "  index  Total Count\n",
      "0    No        12447\n",
      "1   Yes         6059\n",
      "--------------------------------------------------------------------------\n",
      "--------------------------------------------------------------------------\n",
      "package_insurance\n",
      "  index  Total Count\n",
      "0    No        15809\n",
      "1   Yes         2697\n",
      "--------------------------------------------------------------------------\n",
      "--------------------------------------------------------------------------\n",
      "first_trip_tz\n",
      "  index  Total Count\n",
      "0   Yes        12737\n",
      "1    No         5769\n",
      "--------------------------------------------------------------------------\n",
      "--------------------------------------------------------------------------\n",
      "dominant_gender\n",
      "    index  Total Count\n",
      "0    Male         6976\n",
      "1   Equal         6491\n",
      "2  Female         5039\n",
      "--------------------------------------------------------------------------\n"
     ]
    }
   ],
   "source": [
    "def showDetails(df):\n",
    "    for col in df.select_dtypes('object', 'category') :\n",
    "        if df[col].nunique() >= 20:\n",
    "            print(f\"{col} :\\n {df[col].value_counts().reset_index(name= 'Total Count')[:10]}\")\n",
    "        else: \n",
    "            print('--------------------------------------------------------------------------')\n",
    "            print(col)# + '& Cost Category')\n",
    "            print(df[col].value_counts().reset_index(name=\"Total Count\"))\n",
    "            #tempDict = dict(df[col][df['cost_category'] == 'High Cost'].value_counts())\n",
    "            #for i in tempDict.keys():\n",
    "            #       tempDict[i] = ((tempDict[i]/len(df[df[col] == i]))*100).round(2)\n",
    "            #print(tempDict)\n",
    "            print('--------------------------------------------------------------------------')\n",
    "\n",
    "showDetails(X)"
   ]
  },
  {
   "cell_type": "code",
   "execution_count": 34,
   "id": "3e6ae902",
   "metadata": {},
   "outputs": [],
   "source": [
    "cat_features = [\n",
    "    x for x in df.select_dtypes('object') if x not in ('Tour_ID', 'cost_category')\n",
    "]\n",
    "\n",
    "num_features = [n for n in df.select_dtypes(np.number)]\n",
    "\n",
    "features = num_features + cat_features"
   ]
  },
  {
   "cell_type": "code",
   "execution_count": 35,
   "id": "ad7d87e7",
   "metadata": {},
   "outputs": [],
   "source": [
    "col_drop= []\n",
    "not_drop= []\n",
    "undecided=[]\n",
    "\n",
    "for col in train.columns:\n",
    "    ct=pd.crosstab(train['cost_category'], train[col])\n",
    "    chi2, p, dof, expected = chi2_contingency(ct)\n",
    "\n",
    "    if p >= 0.05 or chi2 <= 2000:\n",
    "        col_drop.append(col)\n",
    "    elif p < 0.05 and  chi2 >= 3000:\n",
    "        not_drop.append(col)\n",
    "    else:\n",
    "        undecided.append(col)"
   ]
  },
  {
   "cell_type": "code",
   "execution_count": 36,
   "id": "fc91eef9",
   "metadata": {
    "scrolled": true
   },
   "outputs": [
    {
     "data": {
      "text/plain": [
       "(['Tour_ID', 'age_group', 'total_male', 'night_zanzibar'],\n",
       " ['package_insurance', 'first_trip_tz'])"
      ]
     },
     "execution_count": 36,
     "metadata": {},
     "output_type": "execute_result"
    }
   ],
   "source": [
    "col_drop, undecided"
   ]
  },
  {
   "cell_type": "code",
   "execution_count": 37,
   "id": "1c5bbdd6",
   "metadata": {},
   "outputs": [],
   "source": [
    "drop = col_drop + undecided\n",
    "X = train.drop(drop + ['cost_category'], axis=1)\n",
    "#X = X.sample(frac=1)\n",
    "y = train['cost_category']"
   ]
  },
  {
   "cell_type": "code",
   "execution_count": 38,
   "id": "99e5ec84",
   "metadata": {},
   "outputs": [],
   "source": [
    "mapping_age = {'0-17':1,\n",
    "          '18-24':2 ,\n",
    "          '25-44':3 ,\n",
    "          '45-64':4,\n",
    "          '65-100':5}\n",
    "\n",
    "#X['age_group'] = X['age_group'].map(mapping_age).astype(np.float64)\n",
    "\n",
    "le = LabelEncoder()\n",
    "y = le.fit_transform(y)"
   ]
  },
  {
   "cell_type": "code",
   "execution_count": 39,
   "id": "ce056c4d",
   "metadata": {},
   "outputs": [],
   "source": [
    "cat_features = [\n",
    "    x for x in X.select_dtypes('object') if x not in ('cost_category')\n",
    "]\n",
    "\n",
    "num_features = [n for n in X.select_dtypes(np.number)]\n",
    "\n",
    "features = num_features + cat_features\n",
    "\n",
    "\n",
    "num_pipeline = Pipeline([\n",
    "    (\"imputer\", SimpleImputer(strategy='median')),\n",
    "    (\"scaler\", StandardScaler()),\n",
    "])\n",
    "\n",
    "cat_pipeline = Pipeline([\n",
    "    (\"imputer\", SimpleImputer(strategy='most_frequent')),\n",
    "    ('ohe', OneHotEncoder(sparse_output=False))\n",
    "])\n",
    "\n",
    "pipe = ColumnTransformer([\n",
    "    (\"numerical\", num_pipeline, num_features),\n",
    "    (\"cat\", cat_pipeline, cat_features)\n",
    "])\n",
    "\n",
    "tra = Pipeline([\n",
    "    (\"pipe\", pipe),\n",
    "    (\"scaler\", StandardScaler())\n",
    "\n",
    "    #(\"svd\", TruncatedSVD()))\n",
    "])\n",
    "\n",
    "X = tra.fit_transform(X)"
   ]
  },
  {
   "cell_type": "code",
   "execution_count": 40,
   "id": "80b6a5bc",
   "metadata": {},
   "outputs": [],
   "source": [
    "X_train, X_test, y_train, y_test = train_test_split(X, y,\n",
    "                                                    test_size=0.3, stratify=y,\n",
    "                                                   random_state=123)"
   ]
  },
  {
   "cell_type": "code",
   "execution_count": 41,
   "id": "cdeddf71",
   "metadata": {
    "scrolled": true
   },
   "outputs": [
    {
     "data": {
      "text/plain": [
       "(12954, 122)"
      ]
     },
     "execution_count": 41,
     "metadata": {},
     "output_type": "execute_result"
    }
   ],
   "source": [
    "X_train.shape"
   ]
  },
  {
   "cell_type": "code",
   "execution_count": 42,
   "id": "13dbd95f",
   "metadata": {},
   "outputs": [],
   "source": [
    "fold = StratifiedKFold(n_splits=10, shuffle=True)\n",
    "\n",
    "def run(clf):\n",
    "    scores = []\n",
    "    for f, (train_idx, valid_idx) in enumerate (fold.split(X, y)):\n",
    "        X_train, X_test = X[train_idx], X[valid_idx]\n",
    "        y_train, y_test = y[train_idx], y[valid_idx]\n",
    "\n",
    "        model = clf\n",
    "\n",
    "        model.fit(X_train, y_train)\n",
    "\n",
    "        preds = model.predict_proba(X_test)\n",
    "\n",
    "        auc = roc_auc_score(y_test, preds, multi_class='ovo')\n",
    "        scores.append(auc)\n",
    "\n",
    "        print(\"Fold%2d: AUC = %.4f \" %(f+1, auc))\n",
    "\n",
    "    print(\"\\nScore: %.4f (+/- %.4f) \" % (np.mean(scores), np.std(scores)))"
   ]
  },
  {
   "cell_type": "code",
   "execution_count": 43,
   "id": "da1289b2",
   "metadata": {},
   "outputs": [
    {
     "name": "stdout",
     "output_type": "stream",
     "text": [
      "Fold 1: AUC = 0.6650 \n",
      "Fold 2: AUC = 0.6633 \n",
      "Fold 3: AUC = 0.6689 \n",
      "Fold 4: AUC = 0.6476 \n",
      "Fold 5: AUC = 0.6569 \n",
      "Fold 6: AUC = 0.6468 \n",
      "Fold 7: AUC = 0.6676 \n",
      "Fold 8: AUC = 0.6508 \n",
      "Fold 9: AUC = 0.6458 \n",
      "Fold10: AUC = 0.6675 \n",
      "\n",
      "Score: 0.6580 (+/- 0.0090) \n"
     ]
    }
   ],
   "source": [
    "from sklearn.naive_bayes import GaussianNB, MultinomialNB\n",
    "\n",
    "nb = GaussianNB()\n",
    "run(nb)"
   ]
  },
  {
   "cell_type": "code",
   "execution_count": 44,
   "id": "14c18ffb",
   "metadata": {},
   "outputs": [
    {
     "name": "stdout",
     "output_type": "stream",
     "text": [
      "              precision    recall  f1-score   support\n",
      "\n",
      "   High Cost       0.42      0.02      0.05      1103\n",
      " Higher Cost       0.47      0.01      0.02      1460\n",
      "Highest Cost       0.03      0.97      0.05       108\n",
      "    Low Cost       0.14      0.03      0.05       470\n",
      "  Lower Cost       0.45      0.69      0.55       770\n",
      " Normal Cost       0.45      0.01      0.02      1641\n",
      "\n",
      "    accuracy                           0.13      5552\n",
      "   macro avg       0.33      0.29      0.12      5552\n",
      "weighted avg       0.41      0.13      0.10      5552\n",
      "\n"
     ]
    }
   ],
   "source": [
    "nb.fit(X_train, y_train)\n",
    "\n",
    "y_pred = nb.predict(X_test)\n",
    "\n",
    "print(classification_report(y_test, y_pred, target_names=le.classes_))"
   ]
  },
  {
   "cell_type": "code",
   "execution_count": 45,
   "id": "fc7e95ec",
   "metadata": {},
   "outputs": [
    {
     "name": "stdout",
     "output_type": "stream",
     "text": [
      "Fold 1: AUC = 0.8172 \n",
      "Fold 2: AUC = 0.8274 \n",
      "Fold 3: AUC = 0.8235 \n",
      "Fold 4: AUC = 0.8216 \n",
      "Fold 5: AUC = 0.8185 \n",
      "Fold 6: AUC = 0.8334 \n",
      "Fold 7: AUC = 0.8359 \n",
      "Fold 8: AUC = 0.8286 \n",
      "Fold 9: AUC = 0.8254 \n",
      "Fold10: AUC = 0.8334 \n",
      "\n",
      "Score: 0.8265 (+/- 0.0061) \n"
     ]
    }
   ],
   "source": [
    "lr = LogisticRegression(penalty='l2', C=0.1,\n",
    "                        solver='lbfgs', multi_class='ovr',\n",
    "                        max_iter=10000)\n",
    "                        \n",
    "run(lr)"
   ]
  },
  {
   "cell_type": "code",
   "execution_count": 46,
   "id": "0d12afc5",
   "metadata": {
    "scrolled": true
   },
   "outputs": [
    {
     "data": {
      "text/plain": [
       "0.5493515850144092"
      ]
     },
     "execution_count": 46,
     "metadata": {},
     "output_type": "execute_result"
    }
   ],
   "source": [
    "lr.fit(X_train, y_train)\n",
    "lr.score(X_test, y_test)"
   ]
  },
  {
   "cell_type": "code",
   "execution_count": 47,
   "id": "6f49a973",
   "metadata": {},
   "outputs": [
    {
     "data": {
      "text/plain": [
       "0.5645360506407288"
      ]
     },
     "execution_count": 47,
     "metadata": {},
     "output_type": "execute_result"
    }
   ],
   "source": [
    "lr.score(X_train, y_train)"
   ]
  },
  {
   "cell_type": "code",
   "execution_count": 48,
   "id": "58c296a1",
   "metadata": {},
   "outputs": [
    {
     "name": "stdout",
     "output_type": "stream",
     "text": [
      "              precision    recall  f1-score   support\n",
      "\n",
      "           0       0.47      0.30      0.37      1103\n",
      "           1       0.60      0.77      0.68      1460\n",
      "           2       0.14      0.01      0.02       108\n",
      "           3       0.12      0.00      0.00       470\n",
      "           4       0.57      0.62      0.59       770\n",
      "           5       0.52      0.68      0.59      1641\n",
      "\n",
      "    accuracy                           0.55      5552\n",
      "   macro avg       0.41      0.40      0.37      5552\n",
      "weighted avg       0.50      0.55      0.51      5552\n",
      "\n"
     ]
    }
   ],
   "source": [
    "y_pred = lr.predict(X_test)\n",
    "\n",
    "print(classification_report(y_test, y_pred))"
   ]
  },
  {
   "cell_type": "code",
   "execution_count": 49,
   "id": "896ba021",
   "metadata": {},
   "outputs": [
    {
     "data": {
      "text/plain": [
       "0.5081589155564811"
      ]
     },
     "execution_count": 49,
     "metadata": {},
     "output_type": "execute_result"
    }
   ],
   "source": [
    "from sklearn.metrics import precision_score, recall_score, f1_score\n",
    "f1_score(y_test, y_pred, average='weighted')"
   ]
  },
  {
   "cell_type": "code",
   "execution_count": 50,
   "id": "39337019",
   "metadata": {},
   "outputs": [
    {
     "name": "stdout",
     "output_type": "stream",
     "text": [
      "Fold 1: AUC = 0.8257 \n",
      "Fold 2: AUC = 0.8237 \n",
      "Fold 3: AUC = 0.8262 \n",
      "Fold 4: AUC = 0.8316 \n",
      "Fold 5: AUC = 0.8268 \n",
      "Fold 6: AUC = 0.8306 \n",
      "Fold 7: AUC = 0.8240 \n",
      "Fold 8: AUC = 0.8253 \n",
      "Fold 9: AUC = 0.8327 \n",
      "Fold10: AUC = 0.8280 \n",
      "\n",
      "Score: 0.8275 (+/- 0.0030) \n"
     ]
    }
   ],
   "source": [
    "forest = RandomForestClassifier(n_estimators=300,\n",
    "                                criterion='gini', \n",
    "                                random_state=123,\n",
    "                                max_depth=6,\n",
    "                                 n_jobs=-1)\n",
    "\n",
    "run(forest)"
   ]
  },
  {
   "cell_type": "code",
   "execution_count": 51,
   "id": "33959930",
   "metadata": {},
   "outputs": [
    {
     "data": {
      "text/plain": [
       "0.5671829971181557"
      ]
     },
     "execution_count": 51,
     "metadata": {},
     "output_type": "execute_result"
    }
   ],
   "source": [
    "forest.score(X_test, y_test)"
   ]
  },
  {
   "cell_type": "code",
   "execution_count": 52,
   "id": "2154ae34",
   "metadata": {},
   "outputs": [
    {
     "data": {
      "text/plain": [
       "0.5669291338582677"
      ]
     },
     "execution_count": 52,
     "metadata": {},
     "output_type": "execute_result"
    }
   ],
   "source": [
    "forest.score(X_train, y_train)"
   ]
  },
  {
   "cell_type": "code",
   "execution_count": 53,
   "id": "2d28d057",
   "metadata": {},
   "outputs": [],
   "source": [
    "forest.fit(X_train, y_train)\n",
    "y_pred = forest.predict(X_test)"
   ]
  },
  {
   "cell_type": "code",
   "execution_count": 54,
   "id": "aeff7ad7",
   "metadata": {},
   "outputs": [
    {
     "data": {
      "text/plain": [
       "0.8377667990603372"
      ]
     },
     "execution_count": 54,
     "metadata": {},
     "output_type": "execute_result"
    }
   ],
   "source": [
    "predictions = forest.predict_proba(X_test)\n",
    "roc_auc_score(y_test, predictions, multi_class='ovr')"
   ]
  },
  {
   "cell_type": "code",
   "execution_count": 55,
   "id": "b7de20af",
   "metadata": {},
   "outputs": [
    {
     "name": "stdout",
     "output_type": "stream",
     "text": [
      "              precision    recall  f1-score   support\n",
      "\n",
      "   High Cost       0.52      0.32      0.40      1103\n",
      " Higher Cost       0.63      0.79      0.70      1460\n",
      "Highest Cost       0.00      0.00      0.00       108\n",
      "    Low Cost       0.00      0.00      0.00       470\n",
      "  Lower Cost       0.56      0.53      0.55       770\n",
      " Normal Cost       0.51      0.71      0.60      1641\n",
      "\n",
      "    accuracy                           0.56      5552\n",
      "   macro avg       0.37      0.39      0.37      5552\n",
      "weighted avg       0.50      0.56      0.51      5552\n",
      "\n"
     ]
    }
   ],
   "source": [
    "print(classification_report(y_test, y_pred, target_names=le.classes_))"
   ]
  },
  {
   "cell_type": "code",
   "execution_count": 56,
   "id": "ccf33083",
   "metadata": {
    "scrolled": false
   },
   "outputs": [
    {
     "data": {
      "text/plain": [
       "<Axes: >"
      ]
     },
     "execution_count": 56,
     "metadata": {},
     "output_type": "execute_result"
    },
    {
     "data": {
      "image/png": "[encoded data removed]",
      "text/plain": [
       "<Figure size 640x480 with 2 Axes>"
      ]
     },
     "metadata": {},
     "output_type": "display_data"
    }
   ],
   "source": [
    "cm = confusion_matrix(y_test, y_pred)\n",
    "sns.heatmap(cm, square=True, annot=True, fmt='d',\n",
    "           xticklabels=le.classes_,\n",
    "           yticklabels=le.classes_)"
   ]
  },
  {
   "cell_type": "code",
   "execution_count": 57,
   "id": "1d90c1c0",
   "metadata": {},
   "outputs": [
    {
     "name": "stdout",
     "output_type": "stream",
     "text": [
      "Fold 1: AUC = 0.8112 \n",
      "Fold 2: AUC = 0.8055 \n",
      "Fold 3: AUC = 0.7926 \n",
      "Fold 4: AUC = 0.8035 \n",
      "Fold 5: AUC = 0.8107 \n",
      "Fold 6: AUC = 0.8098 \n",
      "Fold 7: AUC = 0.8186 \n",
      "Fold 8: AUC = 0.8027 \n",
      "Fold 9: AUC = 0.8078 \n",
      "Fold10: AUC = 0.7943 \n",
      "\n",
      "Score: 0.8057 (+/- 0.0075) \n"
     ]
    }
   ],
   "source": [
    "gr = SGDClassifier(loss='log_loss',\n",
    "                   eta0=0.1,\n",
    "                   learning_rate='optimal',\n",
    "                  )\n",
    "\n",
    "run(gr)"
   ]
  },
  {
   "cell_type": "code",
   "execution_count": 58,
   "id": "aa83d29f",
   "metadata": {},
   "outputs": [
    {
     "data": {
      "text/plain": [
       "0.8116871150121446"
      ]
     },
     "execution_count": 58,
     "metadata": {},
     "output_type": "execute_result"
    }
   ],
   "source": [
    "gr.fit(X_train, y_train)\n",
    "predss = gr.predict_proba(X_test)\n",
    "roc_auc_score(y_test, predss, multi_class='ovr')"
   ]
  },
  {
   "cell_type": "code",
   "execution_count": 59,
   "id": "7f88bceb",
   "metadata": {
    "scrolled": true
   },
   "outputs": [
    {
     "data": {
      "text/plain": [
       "0.5315201729106628"
      ]
     },
     "execution_count": 59,
     "metadata": {},
     "output_type": "execute_result"
    }
   ],
   "source": [
    "gr.score(X_test, y_test)"
   ]
  },
  {
   "cell_type": "code",
   "execution_count": 60,
   "id": "770db3ec",
   "metadata": {},
   "outputs": [
    {
     "data": {
      "text/plain": [
       "0.5318048479234213"
      ]
     },
     "execution_count": 60,
     "metadata": {},
     "output_type": "execute_result"
    }
   ],
   "source": [
    "gr.score(X_train, y_train)"
   ]
  },
  {
   "cell_type": "code",
   "execution_count": 61,
   "id": "3c797860",
   "metadata": {
    "scrolled": true
   },
   "outputs": [
    {
     "name": "stdout",
     "output_type": "stream",
     "text": [
      "              precision    recall  f1-score   support\n",
      "\n",
      "   High Cost       0.47      0.25      0.33      1103\n",
      " Higher Cost       0.59      0.79      0.67      1460\n",
      "Highest Cost       0.20      0.03      0.05       108\n",
      "    Low Cost       0.27      0.17      0.21       470\n",
      "  Lower Cost       0.62      0.48      0.54       770\n",
      " Normal Cost       0.51      0.65      0.57      1641\n",
      "\n",
      "    accuracy                           0.53      5552\n",
      "   macro avg       0.44      0.40      0.40      5552\n",
      "weighted avg       0.51      0.53      0.51      5552\n",
      "\n"
     ]
    }
   ],
   "source": [
    "print(classification_report(y_test, gr.predict(X_test), target_names=le.classes_))"
   ]
  },
  {
   "cell_type": "code",
   "execution_count": 62,
   "id": "d66f6103",
   "metadata": {},
   "outputs": [
    {
     "name": "stdout",
     "output_type": "stream",
     "text": [
      "              precision    recall  f1-score   support\n",
      "\n",
      "   High Cost       0.46      0.32      0.38      1103\n",
      " Higher Cost       0.61      0.69      0.65      1460\n",
      "Highest Cost       0.10      0.29      0.15       108\n",
      "    Low Cost       0.21      0.09      0.12       470\n",
      "  Lower Cost       0.52      0.64      0.58       770\n",
      " Normal Cost       0.55      0.55      0.55      1641\n",
      "\n",
      "    accuracy                           0.51      5552\n",
      "   macro avg       0.41      0.43      0.40      5552\n",
      "weighted avg       0.50      0.51      0.50      5552\n",
      "\n"
     ]
    }
   ],
   "source": [
    "lsv = LinearSVC(penalty='l2', loss='squared_hinge', C=0.1, class_weight='balanced',\n",
    "          multi_class='ovr', random_state=123)\n",
    "\n",
    "lsv.fit(X_train, y_train)\n",
    "y_pred = lsv.predict(X_test)\n",
    "print(classification_report(y_test, y_pred, target_names=le.classes_))"
   ]
  },
  {
   "cell_type": "code",
   "execution_count": 64,
   "id": "59a47fa0",
   "metadata": {},
   "outputs": [
    {
     "name": "stdout",
     "output_type": "stream",
     "text": [
      "Fold 1: AUC = 0.8483 \n",
      "Fold 2: AUC = 0.8416 \n",
      "Fold 3: AUC = 0.8332 \n",
      "Fold 4: AUC = 0.8509 \n",
      "Fold 5: AUC = 0.8330 \n",
      "Fold 6: AUC = 0.8369 \n",
      "Fold 7: AUC = 0.8372 \n",
      "Fold 8: AUC = 0.8475 \n",
      "Fold 9: AUC = 0.8314 \n",
      "Fold10: AUC = 0.8389 \n",
      "\n",
      "Score: 0.8399 (+/- 0.0066) \n"
     ]
    }
   ],
   "source": [
    "from catboost import CatBoostClassifier\n",
    "\n",
    "cat = CatBoostClassifier(iterations=100,\n",
    "                         learning_rate=0.1,\n",
    "                         max_depth=8,\n",
    "                         logging_level='Silent',\n",
    "                         random_state=123)\n",
    "run(cat)"
   ]
  },
  {
   "cell_type": "code",
   "execution_count": 65,
   "id": "836747b3",
   "metadata": {},
   "outputs": [
    {
     "name": "stdout",
     "output_type": "stream",
     "text": [
      "              precision    recall  f1-score   support\n",
      "\n",
      "   High Cost       0.52      0.34      0.41      1103\n",
      " Higher Cost       0.64      0.77      0.70      1460\n",
      "Highest Cost       0.00      0.00      0.00       108\n",
      "    Low Cost       0.26      0.02      0.04       470\n",
      "  Lower Cost       0.57      0.63      0.60       770\n",
      " Normal Cost       0.53      0.71      0.61      1641\n",
      "\n",
      "    accuracy                           0.57      5552\n",
      "   macro avg       0.42      0.41      0.39      5552\n",
      "weighted avg       0.53      0.57      0.53      5552\n",
      "\n"
     ]
    }
   ],
   "source": [
    "cat.fit(X_train, y_train)\n",
    "\n",
    "y_pred = cat.predict(X_test)\n",
    "print(classification_report(y_test, y_pred, target_names=le.classes_))"
   ]
  },
  {
   "cell_type": "code",
   "execution_count": 70,
   "id": "28d58047",
   "metadata": {},
   "outputs": [
    {
     "name": "stdout",
     "output_type": "stream",
     "text": [
      "0.8478779593687337\n"
     ]
    }
   ],
   "source": [
    "preds = cat.predict_proba(X_test)\n",
    "print(roc_auc_score(y_test, preds, multi_class='ovr'))"
   ]
  },
  {
   "cell_type": "code",
   "execution_count": 71,
   "id": "330759b0",
   "metadata": {},
   "outputs": [
    {
     "data": {
      "text/plain": [
       "<Axes: >"
      ]
     },
     "execution_count": 71,
     "metadata": {},
     "output_type": "execute_result"
    },
    {
     "data": {
      "image/png": "[encoded data removed]",
      "text/plain": [
       "<Figure size 640x480 with 1 Axes>"
      ]
     },
     "metadata": {},
     "output_type": "display_data"
    }
   ],
   "source": [
    "cm = confusion_matrix(y_test, y_pred)\n",
    "\n",
    "sns.heatmap(cm, annot=True, fmt='d', cbar=False,\n",
    "           xticklabels=le.classes_,\n",
    "           yticklabels=le.classes_)"
   ]
  },
  {
   "cell_type": "code",
   "execution_count": 72,
   "id": "d8a23f7a",
   "metadata": {},
   "outputs": [
    {
     "name": "stdout",
     "output_type": "stream",
     "text": [
      "Fold 1: AUC = 0.8351 \n",
      "Fold 2: AUC = 0.8277 \n",
      "Fold 3: AUC = 0.8338 \n",
      "Fold 4: AUC = 0.8224 \n",
      "Fold 5: AUC = 0.8224 \n",
      "Fold 6: AUC = 0.8246 \n",
      "Fold 7: AUC = 0.8296 \n",
      "Fold 8: AUC = 0.8220 \n",
      "Fold 9: AUC = 0.8211 \n",
      "Fold10: AUC = 0.8322 \n",
      "\n",
      "Score: 0.8271 (+/- 0.0050) \n"
     ]
    }
   ],
   "source": [
    "xgb  = XGBClassifier(n_estimators=200,\n",
    "                    max_depth=8, n_jobs=-1)\n",
    "\n",
    "run(xgb)"
   ]
  },
  {
   "cell_type": "code",
   "execution_count": 78,
   "id": "cebf1849",
   "metadata": {},
   "outputs": [
    {
     "data": {
      "text/plain": [
       "0.9721017835224798"
      ]
     },
     "execution_count": 78,
     "metadata": {},
     "output_type": "execute_result"
    }
   ],
   "source": [
    "#xgb.fit(X_train, y_train)\n",
    "predss = xgb.predict_proba(X_test)\n",
    "roc_auc_score(y_test, predss, multi_class='ovr')"
   ]
  },
  {
   "cell_type": "code",
   "execution_count": 79,
   "id": "9162c4e3",
   "metadata": {},
   "outputs": [
    {
     "data": {
      "text/plain": [
       "0.8335734870317003"
      ]
     },
     "execution_count": 79,
     "metadata": {},
     "output_type": "execute_result"
    }
   ],
   "source": [
    "xgb.score(X_test, y_test)"
   ]
  },
  {
   "cell_type": "code",
   "execution_count": 80,
   "id": "b6cf1332",
   "metadata": {},
   "outputs": [
    {
     "data": {
      "text/plain": [
       "0.8349544542226339"
      ]
     },
     "execution_count": 80,
     "metadata": {},
     "output_type": "execute_result"
    }
   ],
   "source": [
    "xgb.score(X_train, y_train)"
   ]
  },
  {
   "cell_type": "code",
   "execution_count": 84,
   "id": "4e8a20cd",
   "metadata": {},
   "outputs": [
    {
     "name": "stdout",
     "output_type": "stream",
     "text": [
      "              precision    recall  f1-score   support\n",
      "\n",
      "   High Cost       0.86      0.76      0.81      1103\n",
      " Higher Cost       0.84      0.93      0.88      1460\n",
      "Highest Cost       0.82      0.73      0.77       108\n",
      "    Low Cost       0.84      0.61      0.71       470\n",
      "  Lower Cost       0.80      0.86      0.83       770\n",
      " Normal Cost       0.82      0.86      0.84      1641\n",
      "\n",
      "    accuracy                           0.83      5552\n",
      "   macro avg       0.83      0.79      0.81      5552\n",
      "weighted avg       0.83      0.83      0.83      5552\n",
      "\n"
     ]
    }
   ],
   "source": [
    "print(classification_report(y_test, xgb.predict(X_test), target_names=le.classes_))"
   ]
  },
  {
   "cell_type": "code",
   "execution_count": 83,
   "id": "a2c52450",
   "metadata": {},
   "outputs": [
    {
     "data": {
      "image/png": "[encoded data removed]",
      "text/plain": [
       "<Figure size 640x480 with 2 Axes>"
      ]
     },
     "metadata": {},
     "output_type": "display_data"
    }
   ],
   "source": [
    "cm = confusion_matrix(y_test, xgb.predict(X_test))\n",
    "sns.heatmap(cm, square=True, annot=True, fmt='d',\n",
    "           xticklabels=le.classes_,\n",
    "           yticklabels=le.classes_);"
   ]
  },
  {
   "cell_type": "code",
   "execution_count": 85,
   "id": "8efd5158",
   "metadata": {},
   "outputs": [],
   "source": [
    "train.to_csv('train.csv')"
   ]
  },
  {
   "cell_type": "code",
   "execution_count": 87,
   "id": "29c8ab83",
   "metadata": {},
   "outputs": [
    {
     "name": "stdout",
     "output_type": "stream",
     "text": [
      "Fitting 2 folds for each of 63 candidates, totalling 126 fits\n"
     ]
    },
    {
     "data": {
      "text/html": [
       "<style>#sk-container-id-1 {color: black;background-color: white;}#sk-container-id-1 pre{padding: 0;}#sk-container-id-1 div.sk-toggleable {background-color: white;}#sk-container-id-1 label.sk-toggleable__label {cursor: pointer;display: block;width: 100%;margin-bottom: 0;padding: 0.3em;box-sizing: border-box;text-align: center;}#sk-container-id-1 label.sk-toggleable__label-arrow:before {content: \"▸\";float: left;margin-right: 0.25em;color: #696969;}#sk-container-id-1 label.sk-toggleable__label-arrow:hover:before {color: black;}#sk-container-id-1 div.sk-estimator:hover label.sk-toggleable__label-arrow:before {color: black;}#sk-container-id-1 div.sk-toggleable__content {max-height: 0;max-width: 0;overflow: hidden;text-align: left;background-color: #f0f8ff;}#sk-container-id-1 div.sk-toggleable__content pre {margin: 0.2em;color: black;border-radius: 0.25em;background-color: #f0f8ff;}#sk-container-id-1 input.sk-toggleable__control:checked~div.sk-toggleable__content {max-height: 200px;max-width: 100%;overflow: auto;}#sk-container-id-1 input.sk-toggleable__control:checked~label.sk-toggleable__label-arrow:before {content: \"▾\";}#sk-container-id-1 div.sk-estimator input.sk-toggleable__control:checked~label.sk-toggleable__label {background-color: #d4ebff;}#sk-container-id-1 div.sk-label input.sk-toggleable__control:checked~label.sk-toggleable__label {background-color: #d4ebff;}#sk-container-id-1 input.sk-hidden--visually {border: 0;clip: rect(1px 1px 1px 1px);clip: rect(1px, 1px, 1px, 1px);height: 1px;margin: -1px;overflow: hidden;padding: 0;position: absolute;width: 1px;}#sk-container-id-1 div.sk-estimator {font-family: monospace;background-color: #f0f8ff;border: 1px dotted black;border-radius: 0.25em;box-sizing: border-box;margin-bottom: 0.5em;}#sk-container-id-1 div.sk-estimator:hover {background-color: #d4ebff;}#sk-container-id-1 div.sk-parallel-item::after {content: \"\";width: 100%;border-bottom: 1px solid gray;flex-grow: 1;}#sk-container-id-1 div.sk-label:hover label.sk-toggleable__label {background-color: #d4ebff;}#sk-container-id-1 div.sk-serial::before {content: \"\";position: absolute;border-left: 1px solid gray;box-sizing: border-box;top: 0;bottom: 0;left: 50%;z-index: 0;}#sk-container-id-1 div.sk-serial {display: flex;flex-direction: column;align-items: center;background-color: white;padding-right: 0.2em;padding-left: 0.2em;position: relative;}#sk-container-id-1 div.sk-item {position: relative;z-index: 1;}#sk-container-id-1 div.sk-parallel {display: flex;align-items: stretch;justify-content: center;background-color: white;position: relative;}#sk-container-id-1 div.sk-item::before, #sk-container-id-1 div.sk-parallel-item::before {content: \"\";position: absolute;border-left: 1px solid gray;box-sizing: border-box;top: 0;bottom: 0;left: 50%;z-index: -1;}#sk-container-id-1 div.sk-parallel-item {display: flex;flex-direction: column;z-index: 1;position: relative;background-color: white;}#sk-container-id-1 div.sk-parallel-item:first-child::after {align-self: flex-end;width: 50%;}#sk-container-id-1 div.sk-parallel-item:last-child::after {align-self: flex-start;width: 50%;}#sk-container-id-1 div.sk-parallel-item:only-child::after {width: 0;}#sk-container-id-1 div.sk-dashed-wrapped {border: 1px dashed gray;margin: 0 0.4em 0.5em 0.4em;box-sizing: border-box;padding-bottom: 0.4em;background-color: white;}#sk-container-id-1 div.sk-label label {font-family: monospace;font-weight: bold;display: inline-block;line-height: 1.2em;}#sk-container-id-1 div.sk-label-container {text-align: center;}#sk-container-id-1 div.sk-container {/* jupyter's `normalize.less` sets `[hidden] { display: none; }` but bootstrap.min.css set `[hidden] { display: none !important; }` so we also need the `!important` here to be able to override the default hidden behavior on the sphinx rendered scikit-learn.org. See: https://github.com/scikit-learn/scikit-learn/issues/21755 */display: inline-block !important;position: relative;}#sk-container-id-1 div.sk-text-repr-fallback {display: none;}</style><div id=\"sk-container-id-1\" class=\"sk-top-container\"><div class=\"sk-text-repr-fallback\"><pre>GridSearchCV(cv=2,\n",
       "             estimator=&lt;catboost.core.CatBoostClassifier object at 0x0000020BE3DA7220&gt;,\n",
       "             n_jobs=-1,\n",
       "             param_grid=[{&#x27;iterations&#x27;: [150, 200, 300],\n",
       "                          &#x27;learning_rate&#x27;: [0.01, 0.1, 1],\n",
       "                          &#x27;logging_level&#x27;: [&#x27;Silent&#x27;],\n",
       "                          &#x27;max_depth&#x27;: [1, 2, 3, 4, 5, 6, 7]}],\n",
       "             scoring=&#x27;roc_auc_ovr&#x27;, verbose=1)</pre><b>In a Jupyter environment, please rerun this cell to show the HTML representation or trust the notebook. <br />On GitHub, the HTML representation is unable to render, please try loading this page with nbviewer.org.</b></div><div class=\"sk-container\" hidden><div class=\"sk-item sk-dashed-wrapped\"><div class=\"sk-label-container\"><div class=\"sk-label sk-toggleable\"><input class=\"sk-toggleable__control sk-hidden--visually\" id=\"sk-estimator-id-1\" type=\"checkbox\" ><label for=\"sk-estimator-id-1\" class=\"sk-toggleable__label sk-toggleable__label-arrow\">GridSearchCV</label><div class=\"sk-toggleable__content\"><pre>GridSearchCV(cv=2,\n",
       "             estimator=&lt;catboost.core.CatBoostClassifier object at 0x0000020BE3DA7220&gt;,\n",
       "             n_jobs=-1,\n",
       "             param_grid=[{&#x27;iterations&#x27;: [150, 200, 300],\n",
       "                          &#x27;learning_rate&#x27;: [0.01, 0.1, 1],\n",
       "                          &#x27;logging_level&#x27;: [&#x27;Silent&#x27;],\n",
       "                          &#x27;max_depth&#x27;: [1, 2, 3, 4, 5, 6, 7]}],\n",
       "             scoring=&#x27;roc_auc_ovr&#x27;, verbose=1)</pre></div></div></div><div class=\"sk-parallel\"><div class=\"sk-parallel-item\"><div class=\"sk-item\"><div class=\"sk-label-container\"><div class=\"sk-label sk-toggleable\"><input class=\"sk-toggleable__control sk-hidden--visually\" id=\"sk-estimator-id-2\" type=\"checkbox\" ><label for=\"sk-estimator-id-2\" class=\"sk-toggleable__label sk-toggleable__label-arrow\">estimator: CatBoostClassifier</label><div class=\"sk-toggleable__content\"><pre>&lt;catboost.core.CatBoostClassifier object at 0x0000020BE3DA7220&gt;</pre></div></div></div><div class=\"sk-serial\"><div class=\"sk-item\"><div class=\"sk-estimator sk-toggleable\"><input class=\"sk-toggleable__control sk-hidden--visually\" id=\"sk-estimator-id-3\" type=\"checkbox\" ><label for=\"sk-estimator-id-3\" class=\"sk-toggleable__label sk-toggleable__label-arrow\">CatBoostClassifier</label><div class=\"sk-toggleable__content\"><pre>&lt;catboost.core.CatBoostClassifier object at 0x0000020BE3DA7220&gt;</pre></div></div></div></div></div></div></div></div></div></div>"
      ],
      "text/plain": [
       "GridSearchCV(cv=2,\n",
       "             estimator=<catboost.core.CatBoostClassifier object at 0x0000020BE3DA7220>,\n",
       "             n_jobs=-1,\n",
       "             param_grid=[{'iterations': [150, 200, 300],\n",
       "                          'learning_rate': [0.01, 0.1, 1],\n",
       "                          'logging_level': ['Silent'],\n",
       "                          'max_depth': [1, 2, 3, 4, 5, 6, 7]}],\n",
       "             scoring='roc_auc_ovr', verbose=1)"
      ]
     },
     "execution_count": 87,
     "metadata": {},
     "output_type": "execute_result"
    }
   ],
   "source": [
    "from sklearn.metrics import make_scorer\n",
    "scorer = make_scorer(roc_auc_score, \n",
    "                     greater_is_better=True, needs_proba=True)\n",
    "\n",
    "gs = GridSearchCV(estimator=cat,\n",
    "                 param_grid=[{\n",
    "                     \"iterations\":[150, 200, 300],\n",
    "                     \"max_depth\":[1, 2, 3, 4, 5, 6, 7],\n",
    "                     \"learning_rate\": [0.01, 0.1, 1],\n",
    "                     \"logging_level\": ['Silent'],\n",
    "                 }],\n",
    "                 cv=2, scoring='roc_auc_ovr', n_jobs=-1, verbose=1)\n",
    "\n",
    "gs.fit(X_train, y_train)"
   ]
  },
  {
   "cell_type": "code",
   "execution_count": 88,
   "id": "bda0c9b4",
   "metadata": {},
   "outputs": [
    {
     "name": "stdout",
     "output_type": "stream",
     "text": [
      "Fitting 2 folds for each of 63 candidates, totalling 126 fits\n",
      "Fitting 2 folds for each of 63 candidates, totalling 126 fits\n",
      "Fitting 2 folds for each of 63 candidates, totalling 126 fits\n",
      "Fitting 2 folds for each of 63 candidates, totalling 126 fits\n",
      "Fitting 2 folds for each of 63 candidates, totalling 126 fits\n",
      "AUC Score: 0.841 (+/- 0.009)\n"
     ]
    }
   ],
   "source": [
    "scores = cross_val_score(gs, X_train, y_train,\n",
    "                       cv=5, scoring='roc_auc_ovr')\n",
    "\n",
    "print(\"AUC Score: %.3f (+/- %.3f)\" % (np.mean(scores),\n",
    "                                     np.std(scores)))"
   ]
  },
  {
   "cell_type": "code",
   "execution_count": 89,
   "id": "547fda11",
   "metadata": {},
   "outputs": [
    {
     "data": {
      "text/plain": [
       "{'iterations': 300,\n",
       " 'learning_rate': 0.1,\n",
       " 'logging_level': 'Silent',\n",
       " 'max_depth': 4}"
      ]
     },
     "execution_count": 89,
     "metadata": {},
     "output_type": "execute_result"
    }
   ],
   "source": [
    "gs.best_params_"
   ]
  },
  {
   "cell_type": "code",
   "execution_count": 91,
   "id": "a69a56f1",
   "metadata": {},
   "outputs": [
    {
     "data": {
      "text/plain": [
       "0.8380971444758205"
      ]
     },
     "execution_count": 91,
     "metadata": {},
     "output_type": "execute_result"
    }
   ],
   "source": [
    "gs.best_score_"
   ]
  },
  {
   "cell_type": "code",
   "execution_count": null,
   "id": "ffd2682e",
   "metadata": {},
   "outputs": [],
   "source": [
    "def model_selection(classifier): \n",
    "    gs = GridSearchCV(estimator=classifier,\n",
    "                 param_grid=[{\n",
    "                     \"n_estimators\":[ 200, 300, None],\n",
    "                     \"max_depth\":[1, 2, 3,\n",
    "                                  4, 7, None],\n",
    "                     \"criterion\":['gini', 'entropy', 'log_loss']\n",
    "                 }],\n",
    "                 cv=2, scoring='roc_auc', n_jobs=-1, verbose=1)\n",
    "\n",
    "    gs.fit(X_train, y_train)\n",
    "    \n",
    "    scores = cross_val_score(gs, X_train, y_train,\n",
    "                       cv=5, scoring='roc_auc')\n",
    "\n",
    "    print('AUC Score: %.3f (+/- %.3f' % (np.mean(scores),\n",
    "                                         np.std(scores)))"
   ]
  },
  {
   "cell_type": "code",
   "execution_count": null,
   "id": "03ce09e2",
   "metadata": {
    "scrolled": false
   },
   "outputs": [],
   "source": [
    "model_selection(forest)"
   ]
  },
  {
   "cell_type": "code",
   "execution_count": null,
   "id": "904e331a",
   "metadata": {},
   "outputs": [],
   "source": [
    "model_selection(xgb)"
   ]
  },
  {
   "cell_type": "code",
   "execution_count": null,
   "id": "51e82df7",
   "metadata": {
    "scrolled": false
   },
   "outputs": [],
   "source": [
    "importances = forest.feature_importances_\n",
    "imp = np.argsort(importances)\n",
    "imp"
   ]
  },
  {
   "cell_type": "code",
   "execution_count": null,
   "id": "16050029-ee5a-47e6-81ef-cbd8628bcb92",
   "metadata": {
    "collapsed": true,
    "jupyter": {
     "outputs_hidden": true
    },
    "tags": []
   },
   "outputs": [],
   "source": [
    "from sklearn.feature_extraction.text import HashingVectorizer\n",
    "for x in df.select_dtypes('object'):\n",
    "    if x not in ['Tour_ID']:\n",
    "        if df[x].nunique() >= 30:\n",
    "            vect = HashingVectorizer(n_features = 2**8,\n",
    "                                     encoding='iso-8859-1',\n",
    "                                     decode_error=\"ignore\",\n",
    "                                     lowercase=False,\n",
    "                                     binary=True)\n",
    "\n",
    "            xx = vect.fit_transform(df[x])\n",
    "            xx = pd.DataFrame(xx.toarray()).assign(x = df[x].values)\n",
    "            display(xx)"
   ]
  },
  {
   "cell_type": "code",
   "execution_count": null,
   "id": "9ea5f07d",
   "metadata": {
    "scrolled": true
   },
   "outputs": [],
   "source": [
    "train['total_male'].values != train['total_female'].values"
   ]
  },
  {
   "cell_type": "code",
   "execution_count": null,
   "id": "b35ee017",
   "metadata": {
    "collapsed": true,
    "jupyter": {
     "outputs_hidden": true
    },
    "tags": []
   },
   "outputs": [],
   "source": [
    "g = []\n",
    "for col in train.columns:\n",
    "    if (train['total_male'].values > train['total_female'].values) == True:\n",
    "        g.append('M')\n",
    "    else:\n",
    "        g.append('F')"
   ]
  },
  {
   "cell_type": "code",
   "execution_count": null,
   "id": "ba8d52b7-ceba-4d59-9223-590faf1f40ee",
   "metadata": {},
   "outputs": [],
   "source": [
    "train['total_people']=train['total_male'] + train['total_female']\n",
    "train['total_nights']=train['night_zanzibar']+train['night_mainland']\n",
    "train['average_stay']= (train['total_people'] / train['total_nights']).round(2)\n",
    "train['age_category'] = train['age_group'].replace({'0-18': 'young',\n",
    "                                                   '18-24': 'young',\n",
    "                                                   '25-44': 'middle_aged',\n",
    "                                                   '45-64' : 'old',\n",
    "                                                   '65-100':'grands'})\n",
    "\n",
    "labels = ['three', 'five', 'week', 'ten', 'fortnight', 'month', 'year']\n",
    "bins = [0, 3, 5, 7, 10, 14, 21,  371]\n",
    "train['stay_length'] = pd.cut(train['total_nights'], bins=bins, labels=labels)\n",
    "\n",
    "labels = ['normal', 'minimal', 'nomini', 'big', 'grande']\n",
    "bins = [0, 1, 2, 3, 5, 93]\n",
    "train['travel_group'] = pd.cut(train['total_people'], bins=bins, labels=labels)\n",
    "\n",
    "#train['']"
   ]
  },
  {
   "cell_type": "code",
   "execution_count": 237,
   "id": "16c052aa-f093-4818-b873-b8824fb300a8",
   "metadata": {},
   "outputs": [],
   "source": [
    "def check_outliers(data, factor:int, strategy='median', inplace=True):\n",
    "    for col in data.select_dtypes(include=['int', 'float']).columns:\n",
    "        lower_qtl = data[col].quantile(0.25)\n",
    "        upper_qtl=data[col].quantile(0.75)\n",
    "        iqr=(upper_qtl-lower_qtl)\n",
    "        u_bound= upper_qtl + factor * iqr\n",
    "        l_bound= lower_qtl - factor * iqr\n",
    "        \n",
    "        outliers=[] \n",
    "        for x in data[col]:\n",
    "            if ((x > u_bound) or (x  < l_bound)):\n",
    "                outliers.append(x)\n",
    "                \n",
    "        if strategy == 'mean':\n",
    "            replacement = data[col].mean()\n",
    "        elif strategy == 'median':\n",
    "            replacement = data[col].median()\n",
    "        elif strategy == 'mode':\n",
    "            replacement = data[col].mode()[0]\n",
    "            \n",
    "        for idx in outliers:\n",
    "            data.loc[idx,col]=replacement\n",
    "        \n",
    "        print(f\"\\n\\nColumn: {col}\\nLower_Bound: {l_bound}\\nUpper_Bound: {u_bound}\\nOutliers: {outliers}\")\n",
    "    \n",
    "    print(f\"\\n\\n\\nOutliers Succesfully replaced with {strategy}.\")"
   ]
  },
  {
   "cell_type": "code",
   "execution_count": 239,
   "id": "68ae2f74-f6a7-4038-9e61-394a3f479581",
   "metadata": {
    "jupyter": {
     "outputs_hidden": true
    },
    "tags": []
   },
   "outputs": [
    {
     "name": "stdout",
     "output_type": "stream",
     "text": [
      "\n",
      "\n",
      "Column: total_female\n",
      "Lower_Bound: -3.0\n",
      "Upper_Bound: 4.0\n",
      "Outliers: []\n",
      "\n",
      "\n",
      "Column: total_male\n",
      "Lower_Bound: 1.0\n",
      "Upper_Bound: 1.0\n",
      "Outliers: [2.0, 0.0, 0.0, 0.0, 0.0, 0.0, 0.0, 2.0, 2.0, 0.0, 0.0, 0.0, 0.0, 0.0, 0.0, 2.0, 2.0, 2.0, 2.0, 2.0, 2.0, 0.0, 0.0, 4.0, 2.0, 0.0, 0.0, 3.0, 0.0, 3.0, 0.0, 0.0, 0.0, 2.0, 0.0, 0.0, 0.0, 0.0, 0.0, 2.0, 0.0, 0.0, 2.0, 3.0, 0.0, 0.0, 2.0, 0.0, 0.0, 0.0, 0.0, 0.0, 0.0, 2.0, 0.0, 0.0, 4.0, 0.0, 0.0, 0.0, 0.0, 2.0, 0.0, 0.0, 0.0, 0.0, 0.0, 0.0, 0.0, 0.0, 2.0, 2.0, 2.0, 0.0, 0.0, 2.0, 0.0, 2.0, 0.0, 0.0, 0.0, 3.0, 0.0, 0.0, 3.0, 0.0, 2.0, 2.0, 0.0, 0.0, 0.0, 2.0, 0.0, 2.0, 0.0, 2.0, 2.0, 0.0, 0.0, 0.0, 0.0, 2.0, 0.0, 0.0, 2.0, 0.0, 3.0, 2.0, 0.0, 2.0, 2.0, 0.0, 0.0, 3.0, 0.0, 0.0, 2.0, 0.0, 2.0, 0.0, 2.0, 2.0, 2.0, 2.0, 3.0, 2.0, 0.0, 3.0, 0.0, 3.0, 2.0, 0.0, 0.0, 0.0, 2.0, 0.0, 2.0, 0.0, 0.0, 3.0, 0.0, 0.0, 0.0, 0.0, 0.0, 2.0, 0.0, 0.0, 0.0, 0.0, 0.0, 0.0, 0.0, 0.0, 0.0, 2.0, 2.0, 3.0, 0.0, 0.0, 0.0, 0.0, 0.0, 3.0, 0.0, 4.0, 0.0, 0.0, 2.0, 0.0, 0.0, 4.0, 0.0, 3.0, 2.0, 2.0, 0.0, 0.0, 0.0, 0.0, 0.0, 0.0, 0.0, 0.0, 0.0, 0.0, 3.0, 0.0, 0.0, 0.0, 0.0, 0.0, 2.0, 0.0, 0.0, 0.0, 0.0, 2.0, 0.0, 0.0, 2.0, 0.0, 0.0, 0.0, 0.0, 0.0, 0.0, 3.0, 2.0, 0.0, 3.0, 0.0, 0.0, 0.0, 4.0, 0.0, 0.0, 0.0, 0.0, 0.0, 0.0, 0.0, 0.0, 0.0, 0.0, 2.0, 0.0, 0.0, 0.0, 0.0, 0.0, 0.0, 0.0, 0.0, 3.0, 3.0, 2.0, 2.0, 0.0, 0.0, 3.0, 0.0, 0.0, 2.0, 0.0, 0.0, 2.0, 0.0, 0.0, 4.0, 3.0, 0.0, 0.0, 0.0, 0.0, 0.0, 0.0, 3.0, 3.0, 0.0, 0.0, 0.0, 0.0, 0.0, 0.0, 2.0, 2.0, 2.0, 0.0, 0.0, 0.0, 0.0, 0.0, 0.0, 0.0, 0.0, 0.0, 2.0, 0.0, 0.0, 0.0, 2.0, 0.0, 0.0, 2.0, 3.0, 0.0, 0.0, 0.0, 0.0, 0.0, 0.0, 0.0, 2.0, 2.0, 0.0, 4.0, 2.0, 0.0, 0.0, 0.0, 0.0, 0.0, 0.0, 0.0, 2.0, 0.0, 2.0, 2.0, 0.0, 0.0, 4.0, 0.0, 2.0, 4.0, 0.0, 0.0, 0.0, 0.0, 2.0, 0.0, 0.0, 2.0, 0.0, 0.0, 0.0, 2.0, 4.0, 0.0, 2.0, 0.0, 0.0, 0.0, 3.0, 0.0, 0.0, 0.0, 3.0, 3.0, 2.0, 0.0, 3.0, 0.0, 0.0, 0.0, 2.0, 2.0, 0.0, 2.0, 0.0, 3.0, 0.0, 2.0, 3.0, 0.0, 0.0, 0.0, 3.0, 0.0, 0.0, 0.0, 0.0, 0.0, 0.0, 2.0, 0.0, 0.0, 0.0, 2.0, 0.0, 0.0, 0.0, 0.0, 0.0, 0.0, 2.0, 0.0, 2.0, 0.0, 3.0, 0.0, 0.0, 0.0, 2.0, 0.0, 0.0, 0.0, 0.0, 0.0, 0.0, 0.0, 0.0, 0.0, 0.0, 2.0, 2.0, 0.0, 0.0, 0.0, 0.0, 0.0, 0.0, 0.0, 0.0, 2.0, 0.0, 2.0, 2.0, 0.0, 0.0, 0.0, 2.0, 3.0, 0.0, 0.0, 0.0, 2.0, 0.0, 0.0, 0.0, 2.0, 0.0, 0.0, 0.0, 2.0, 0.0, 0.0, 2.0, 0.0, 0.0, 0.0, 0.0, 0.0, 0.0, 2.0, 2.0, 2.0, 2.0, 2.0, 0.0, 0.0, 2.0, 0.0, 0.0, 4.0, 0.0, 0.0, 0.0, 2.0, 0.0, 0.0, 0.0, 0.0, 3.0, 2.0, 0.0, 0.0, 4.0, 0.0, 0.0, 0.0, 2.0, 4.0, 2.0, 0.0, 0.0, 2.0, 0.0, 0.0, 0.0, 2.0, 0.0, 2.0, 0.0, 2.0, 0.0, 0.0, 0.0, 0.0, 0.0, 0.0, 0.0, 0.0, 0.0, 0.0, 0.0, 0.0, 2.0, 0.0, 0.0, 3.0, 0.0, 0.0, 0.0, 2.0, 0.0, 0.0, 0.0, 0.0, 0.0, 0.0, 0.0, 0.0, 0.0, 2.0, 2.0, 0.0, 2.0, 0.0, 2.0, 2.0, 0.0, 0.0, 0.0, 0.0, 0.0, 0.0, 0.0, 2.0, 2.0, 0.0, 0.0, 0.0, 0.0, 0.0, 0.0, 2.0, 0.0, 0.0, 0.0, 0.0, 2.0, 2.0, 0.0, 0.0, 0.0, 2.0, 0.0, 3.0, 0.0, 2.0, 0.0, 0.0, 0.0, 0.0, 2.0, 0.0, 0.0, 2.0, 0.0, 0.0, 3.0, 0.0, 0.0, 0.0, 0.0, 0.0, 2.0, 2.0, 0.0, 2.0, 2.0, 0.0, 0.0, 4.0, 0.0, 0.0, 2.0, 0.0, 0.0, 0.0, 0.0, 0.0, 0.0, 0.0, 0.0, 0.0, 0.0, 2.0, 2.0, 0.0, 4.0, 0.0, 2.0, 0.0, 3.0, 2.0, 0.0, 0.0, 2.0, 0.0, 0.0, 0.0, 3.0, 0.0, 0.0, 0.0, 0.0, 0.0, 2.0, 0.0, 0.0, 0.0, 2.0, 2.0, 3.0, 0.0, 2.0, 0.0, 0.0, 0.0, 2.0, 2.0, 0.0, 0.0, 2.0, 4.0, 3.0, 0.0, 0.0, 2.0, 0.0, 0.0, 4.0, 0.0, 0.0, 0.0, 2.0, 0.0, 0.0, 0.0, 2.0, 0.0, 3.0, 0.0, 4.0, 0.0, 3.0, 0.0, 0.0, 0.0, 0.0, 2.0, 3.0, 0.0, 0.0, 0.0, 0.0, 2.0, 0.0, 0.0, 0.0, 2.0, 3.0, 3.0, 0.0, 0.0, 2.0, 4.0, 0.0, 0.0, 0.0, 0.0, 2.0, 0.0, 0.0, 2.0, 2.0, 0.0, 0.0, 0.0, 0.0, 2.0, 0.0, 2.0, 0.0, 0.0, 2.0, 0.0, 0.0, 0.0, 0.0, 0.0, 2.0, 0.0, 2.0, 0.0, 0.0, 0.0, 3.0, 3.0, 0.0, 0.0, 0.0, 0.0, 2.0, 0.0, 0.0, 2.0, 0.0, 0.0, 0.0, 0.0, 0.0, 0.0, 0.0, 2.0, 0.0, 0.0, 0.0, 0.0, 0.0, 2.0, 2.0, 2.0, 0.0, 0.0, 0.0, 0.0, 4.0, 0.0, 0.0, 3.0, 0.0, 3.0, 0.0, 2.0, 2.0, 0.0, 0.0, 0.0, 0.0, 0.0, 0.0, 0.0, 0.0, 0.0, 0.0, 0.0, 0.0, 0.0, 0.0, 2.0, 3.0, 0.0, 0.0, 0.0, 0.0, 0.0, 0.0, 2.0, 0.0, 3.0, 0.0, 0.0, 2.0, 3.0, 3.0, 0.0, 0.0, 0.0, 0.0, 0.0, 0.0, 2.0, 0.0, 0.0, 0.0, 2.0, 2.0, 0.0, 0.0, 0.0, 0.0, 2.0, 0.0, 0.0, 0.0, 0.0, 2.0, 2.0, 0.0, 0.0, 2.0, 2.0, 0.0, 2.0, 0.0, 2.0, 2.0, 0.0, 2.0, 0.0, 3.0, 0.0, 2.0, 0.0, 0.0, 2.0, 0.0, 2.0, 4.0, 0.0, 0.0, 0.0, 0.0, 2.0, 0.0, 3.0, 0.0, 2.0, 0.0, 0.0, 0.0, 2.0, 0.0, 0.0, 0.0, 0.0, 0.0, 0.0, 0.0, 0.0, 0.0, 0.0, 3.0, 0.0, 2.0, 0.0, 0.0, 0.0, 0.0, 0.0, 2.0, 2.0, 2.0, 2.0, 2.0, 0.0, 0.0, 0.0, 0.0, 0.0, 0.0, 2.0, 0.0, 2.0, 0.0, 2.0, 2.0, 0.0, 2.0, 0.0, 0.0, 0.0, 2.0, 0.0, 0.0, 3.0, 0.0, 0.0, 0.0, 2.0, 0.0, 2.0, 0.0, 4.0, 2.0, 0.0, 0.0, 2.0, 0.0, 0.0, 0.0, 2.0, 0.0, 0.0, 0.0, 2.0, 0.0, 0.0, 0.0, 0.0, 0.0, 0.0, 0.0, 2.0, 0.0, 0.0, 2.0, 0.0, 2.0, 2.0, 0.0, 0.0, 0.0, 2.0, 0.0, 0.0, 2.0, 0.0, 0.0, 0.0, 0.0, 0.0, 2.0, 2.0, 0.0, 2.0, 0.0, 2.0, 4.0, 0.0, 0.0, 0.0, 2.0, 3.0, 0.0, 0.0, 3.0, 0.0, 3.0, 2.0, 0.0, 2.0, 0.0, 0.0, 0.0, 0.0, 3.0, 3.0, 0.0, 2.0, 2.0, 0.0, 2.0, 0.0, 2.0, 0.0, 0.0, 0.0, 0.0, 0.0, 2.0, 0.0, 0.0, 0.0, 0.0, 0.0, 0.0, 2.0, 0.0, 0.0, 0.0, 0.0, 0.0, 2.0, 2.0, 0.0, 0.0, 0.0, 0.0, 3.0, 3.0, 0.0, 2.0, 3.0, 2.0, 0.0, 0.0, 0.0, 0.0, 0.0, 4.0, 2.0, 0.0, 0.0, 0.0, 0.0, 0.0, 0.0, 0.0, 2.0, 0.0, 0.0, 0.0, 2.0, 0.0, 2.0, 0.0, 0.0, 0.0, 0.0, 0.0, 0.0, 0.0, 2.0, 0.0, 0.0, 2.0, 0.0, 0.0, 2.0, 2.0, 0.0, 0.0, 0.0, 0.0, 0.0, 3.0, 0.0, 0.0, 0.0, 0.0, 2.0, 3.0, 2.0, 0.0, 0.0, 0.0, 2.0, 0.0, 0.0, 0.0, 0.0, 2.0, 0.0, 2.0, 0.0, 2.0, 2.0, 0.0, 2.0, 3.0, 0.0, 0.0, 0.0, 3.0, 0.0, 0.0, 0.0, 0.0, 2.0, 0.0, 0.0, 2.0, 2.0, 0.0, 0.0, 0.0, 2.0, 0.0, 2.0, 0.0, 0.0, 0.0, 0.0, 2.0, 2.0, 3.0, 0.0, 2.0, 0.0, 2.0, 2.0, 0.0, 4.0, 2.0, 0.0, 3.0, 0.0, 0.0, 0.0, 0.0, 2.0, 3.0, 3.0, 0.0, 0.0, 2.0, 0.0, 0.0, 0.0, 0.0, 2.0, 0.0, 0.0, 0.0, 0.0, 0.0, 0.0, 2.0, 2.0, 0.0, 3.0, 0.0, 2.0, 0.0, 0.0, 0.0, 0.0, 0.0, 2.0, 0.0, 0.0, 0.0, 0.0, 2.0, 2.0, 2.0, 0.0, 3.0, 0.0, 2.0, 2.0, 0.0, 2.0, 0.0, 0.0, 0.0, 3.0, 0.0, 0.0, 0.0, 2.0, 0.0, 0.0, 2.0, 0.0, 2.0, 0.0, 2.0, 0.0, 0.0, 3.0, 2.0, 0.0, 0.0, 0.0, 0.0, 2.0, 0.0, 0.0, 2.0, 0.0, 0.0, 0.0, 0.0, 2.0, 0.0, 0.0, 0.0, 3.0, 3.0, 0.0, 0.0, 2.0, 0.0, 2.0, 0.0, 0.0, 0.0, 2.0, 0.0, 0.0, 2.0, 0.0, 0.0, 2.0, 0.0, 0.0, 0.0, 0.0, 0.0, 2.0, 2.0, 0.0, 2.0, 2.0, 0.0, 3.0, 3.0, 0.0, 2.0, 0.0, 4.0, 3.0, 2.0, 0.0, 3.0, 0.0, 2.0, 0.0, 2.0, 0.0, 0.0, 2.0, 0.0, 3.0, 0.0, 2.0, 2.0, 0.0, 0.0, 2.0, 0.0, 0.0, 0.0, 0.0, 2.0, 0.0, 0.0, 2.0, 0.0, 0.0, 4.0, 3.0, 0.0, 4.0, 0.0, 0.0, 0.0, 0.0, 0.0, 2.0, 2.0, 0.0, 0.0, 0.0, 2.0, 0.0, 0.0, 2.0, 3.0, 0.0, 2.0, 0.0, 0.0, 0.0, 0.0, 2.0, 0.0, 3.0, 0.0, 0.0, 0.0, 0.0, 0.0, 0.0, 0.0, 0.0, 2.0, 0.0, 2.0, 2.0, 0.0, 2.0, 0.0, 2.0, 3.0, 3.0, 2.0, 0.0, 0.0, 0.0, 0.0, 0.0, 0.0, 0.0, 0.0, 0.0, 0.0, 2.0, 2.0, 2.0, 0.0, 0.0, 0.0, 0.0, 0.0, 0.0, 0.0, 3.0, 0.0, 4.0, 0.0, 0.0, 0.0, 3.0, 0.0, 2.0, 2.0, 2.0, 0.0, 0.0, 0.0, 2.0, 0.0, 3.0, 0.0, 2.0, 0.0, 2.0, 2.0, 2.0, 2.0, 2.0, 0.0, 0.0, 0.0, 0.0, 0.0, 0.0, 4.0, 0.0, 0.0, 3.0, 0.0, 0.0, 0.0, 0.0, 0.0, 3.0, 0.0, 0.0, 2.0, 2.0, 0.0, 3.0, 0.0, 0.0, 2.0, 0.0, 0.0, 0.0, 2.0, 0.0, 0.0, 2.0, 3.0, 0.0, 2.0, 0.0, 3.0, 0.0, 0.0, 0.0, 0.0, 0.0, 0.0, 0.0, 0.0, 0.0, 0.0, 0.0, 2.0, 2.0, 0.0, 0.0, 0.0, 2.0, 0.0, 3.0, 0.0, 2.0, 0.0, 2.0, 4.0, 0.0, 0.0, 2.0, 0.0, 0.0, 2.0, 3.0, 3.0, 0.0, 0.0, 0.0, 0.0, 4.0, 0.0, 0.0, 0.0, 0.0, 0.0, 0.0, 0.0, 0.0, 2.0, 0.0, 0.0, 0.0, 2.0, 0.0, 0.0, 0.0, 0.0, 0.0, 2.0, 0.0, 3.0, 0.0, 0.0, 0.0, 2.0, 0.0, 0.0, 0.0, 0.0, 0.0, 2.0, 0.0, 0.0, 0.0, 2.0, 0.0, 0.0, 0.0, 2.0, 0.0, 0.0, 4.0, 2.0, 0.0, 2.0, 2.0, 0.0, 0.0, 0.0, 0.0, 0.0, 0.0, 2.0, 0.0, 0.0, 2.0, 4.0, 3.0, 4.0, 0.0, 2.0, 2.0, 3.0, 0.0, 0.0, 0.0, 2.0, 0.0, 0.0, 0.0, 0.0, 0.0, 0.0, 0.0, 3.0, 0.0, 2.0, 0.0, 0.0, 0.0, 0.0, 0.0, 0.0, 0.0, 0.0, 0.0, 0.0, 0.0, 2.0, 2.0, 0.0, 2.0, 0.0, 0.0, 2.0, 3.0, 0.0, 0.0, 0.0, 0.0, 3.0, 2.0, 0.0, 0.0, 2.0, 3.0, 0.0, 2.0, 0.0, 2.0, 0.0, 3.0, 0.0, 0.0, 0.0, 2.0, 0.0, 0.0, 0.0, 0.0, 0.0, 0.0, 2.0, 2.0, 0.0, 2.0, 4.0, 2.0, 0.0, 0.0, 4.0, 0.0, 0.0, 0.0, 0.0, 0.0, 0.0, 0.0, 0.0, 2.0, 0.0, 3.0, 0.0, 0.0, 2.0, 0.0, 0.0, 0.0, 2.0, 2.0, 2.0, 0.0, 0.0, 4.0, 0.0, 0.0, 0.0, 2.0, 0.0, 2.0, 0.0, 0.0, 4.0, 0.0, 0.0, 0.0, 2.0, 2.0, 0.0, 3.0, 3.0, 0.0, 0.0, 2.0, 0.0, 4.0, 0.0, 3.0, 2.0, 0.0, 4.0, 0.0, 0.0, 0.0, 0.0, 0.0, 0.0, 0.0, 0.0, 0.0, 2.0, 0.0, 2.0, 3.0, 0.0, 2.0, 3.0, 0.0, 0.0, 0.0, 0.0, 0.0, 0.0, 0.0, 4.0, 0.0, 0.0, 2.0, 2.0, 0.0, 2.0, 3.0, 0.0, 3.0, 2.0, 0.0, 0.0, 0.0, 0.0, 0.0, 0.0, 0.0, 2.0, 2.0, 0.0, 0.0, 0.0, 2.0, 3.0, 0.0, 0.0, 2.0, 3.0, 0.0, 0.0, 0.0, 0.0, 0.0, 2.0, 0.0, 0.0, 0.0, 0.0, 0.0, 2.0, 0.0, 0.0, 0.0, 0.0, 3.0, 0.0, 0.0, 2.0, 0.0, 2.0, 3.0, 3.0, 0.0, 0.0, 0.0, 0.0, 0.0, 0.0, 0.0, 0.0, 0.0, 0.0, 2.0, 0.0, 0.0, 0.0, 0.0, 0.0, 0.0, 0.0, 0.0, 2.0, 3.0, 0.0, 0.0, 3.0, 0.0, 4.0, 0.0, 3.0, 0.0, 0.0, 0.0, 0.0, 0.0, 2.0, 0.0, 0.0, 0.0, 0.0, 3.0, 3.0, 0.0, 0.0, 0.0, 0.0, 0.0, 0.0, 2.0, 0.0, 2.0, 0.0, 3.0, 2.0, 0.0, 2.0, 3.0, 3.0, 2.0, 2.0, 0.0, 0.0, 0.0, 4.0, 0.0, 0.0, 2.0, 0.0, 0.0, 2.0, 2.0, 3.0, 0.0, 0.0, 0.0, 2.0, 0.0, 2.0, 2.0, 2.0, 0.0, 2.0, 0.0, 2.0, 2.0, 0.0, 4.0, 2.0, 0.0, 3.0, 0.0, 2.0, 0.0, 0.0, 2.0, 0.0, 0.0, 2.0, 3.0, 0.0, 2.0, 0.0, 0.0, 0.0, 0.0, 0.0, 2.0, 2.0, 3.0, 0.0, 2.0, 0.0, 0.0, 0.0, 0.0, 0.0, 0.0, 4.0, 2.0, 0.0, 2.0, 0.0, 0.0, 0.0, 0.0, 2.0, 0.0, 2.0, 0.0, 0.0, 4.0, 0.0, 2.0, 0.0, 0.0, 3.0, 0.0, 2.0, 0.0, 0.0, 0.0, 4.0, 0.0, 2.0, 0.0, 0.0, 0.0, 0.0, 0.0, 0.0, 0.0, 0.0, 0.0, 0.0, 0.0, 0.0, 0.0, 0.0, 2.0, 2.0, 0.0, 0.0, 2.0, 4.0, 0.0, 2.0, 0.0, 0.0, 4.0, 3.0, 0.0, 0.0, 2.0, 0.0, 0.0, 0.0, 0.0, 0.0, 0.0, 2.0, 0.0, 0.0, 0.0, 0.0, 2.0, 0.0, 0.0, 3.0, 0.0, 0.0, 0.0, 0.0, 0.0, 0.0, 0.0, 0.0, 2.0, 0.0, 0.0, 0.0, 3.0, 0.0, 0.0, 2.0, 0.0, 2.0, 2.0, 0.0, 2.0, 2.0, 0.0, 0.0, 0.0, 2.0, 2.0, 4.0, 0.0, 3.0, 2.0, 0.0, 0.0, 3.0, 0.0, 0.0, 2.0, 0.0, 2.0, 0.0, 2.0, 0.0, 0.0, 2.0, 0.0, 0.0, 0.0, 0.0, 2.0, 0.0, 0.0, 0.0, 0.0, 0.0, 0.0, 0.0, 0.0, 0.0, 2.0, 0.0, 0.0, 0.0, 2.0, 0.0, 0.0, 0.0, 0.0, 2.0, 0.0, 0.0, 3.0, 0.0, 0.0, 0.0, 2.0, 0.0, 3.0, 0.0, 0.0, 3.0, 0.0, 3.0, 3.0, 0.0, 0.0, 3.0, 3.0, 2.0, 0.0, 0.0, 0.0, 0.0, 0.0, 2.0, 0.0, 0.0, 0.0, 0.0, 2.0, 0.0, 0.0, 0.0, 0.0, 0.0, 0.0, 0.0, 0.0, 2.0, 0.0, 0.0, 0.0, 0.0, 0.0, 2.0, 0.0, 0.0, 0.0, 0.0, 0.0, 3.0, 0.0, 4.0, 0.0, 0.0, 2.0, 0.0, 0.0, 0.0, 2.0, 0.0, 0.0, 0.0, 0.0, 0.0, 0.0, 2.0, 2.0, 0.0, 0.0, 0.0, 2.0, 0.0, 2.0, 0.0, 4.0, 2.0, 0.0, 0.0, 0.0, 2.0, 0.0, 0.0, 3.0, 0.0, 0.0, 2.0, 0.0, 0.0, 0.0, 0.0, 2.0, 3.0, 0.0, 3.0, 2.0, 0.0, 0.0, 4.0, 0.0, 2.0, 0.0, 0.0, 2.0, 2.0, 0.0, 0.0, 0.0, 0.0, 0.0, 0.0, 2.0, 0.0, 0.0, 2.0, 0.0, 0.0, 2.0, 0.0, 0.0, 0.0, 2.0, 0.0, 2.0, 2.0, 0.0, 2.0, 0.0, 2.0, 0.0, 0.0, 2.0, 0.0, 0.0, 0.0, 0.0, 0.0, 0.0, 0.0, 0.0, 0.0, 2.0, 0.0, 3.0, 0.0, 0.0, 4.0, 0.0, 0.0, 2.0, 0.0, 2.0, 0.0, 0.0, 0.0, 0.0, 2.0, 0.0, 0.0, 0.0, 0.0, 0.0, 2.0, 0.0, 0.0, 0.0, 0.0, 0.0, 0.0, 2.0, 0.0, 0.0, 3.0, 0.0, 0.0, 0.0, 0.0, 3.0, 0.0, 0.0, 3.0, 0.0, 3.0, 2.0, 0.0, 2.0, 0.0, 2.0, 0.0, 0.0, 0.0, 0.0, 3.0, 0.0, 0.0, 3.0, 0.0, 2.0, 0.0, 2.0, 2.0, 0.0, 2.0, 2.0, 3.0, 0.0, 0.0, 0.0, 2.0, 0.0, 0.0, 0.0, 0.0, 0.0, 0.0, 2.0, 0.0, 2.0, 3.0, 0.0, 0.0, 0.0, 3.0, 2.0, 0.0, 0.0, 0.0, 3.0, 0.0, 0.0, 0.0, 0.0, 0.0, 0.0, 0.0, 0.0, 0.0, 0.0, 0.0, 0.0, 0.0, 0.0, 2.0, 2.0, 0.0, 2.0, 0.0, 2.0, 2.0, 0.0, 4.0, 0.0, 2.0, 0.0, 0.0, 0.0, 0.0, 0.0, 0.0, 0.0, 2.0, 3.0, 0.0, 0.0, 2.0, 0.0, 0.0, 0.0, 4.0, 0.0, 0.0, 0.0, 0.0, 4.0, 2.0, 2.0, 0.0, 0.0, 0.0, 0.0, 4.0, 0.0, 0.0, 0.0, 2.0, 3.0, 0.0, 0.0, 2.0, 0.0, 0.0, 0.0, 0.0, 4.0, 0.0, 0.0, 3.0, 0.0, 2.0, 0.0, 0.0, 0.0, 4.0, 0.0, 3.0, 0.0, 0.0, 0.0, 0.0, 2.0, 0.0, 3.0, 0.0, 0.0, 0.0, 0.0, 3.0, 2.0, 0.0, 0.0, 2.0, 0.0, 0.0, 0.0, 0.0, 0.0, 2.0, 0.0, 2.0, 0.0, 2.0, 2.0, 2.0, 0.0, 0.0, 0.0, 0.0, 0.0, 0.0, 0.0, 2.0, 2.0, 0.0, 0.0, 2.0, 2.0, 2.0, 3.0, 3.0, 0.0, 0.0, 0.0, 0.0, 2.0, 0.0, 2.0, 0.0, 2.0, 0.0, 0.0, 0.0, 3.0, 0.0, 2.0, 0.0, 4.0, 0.0, 2.0, 0.0, 0.0, 2.0, 0.0, 2.0, 0.0, 2.0, 2.0, 0.0, 0.0, 0.0, 0.0, 0.0, 2.0, 2.0, 0.0, 3.0, 0.0, 3.0, 2.0, 0.0, 0.0, 2.0, 0.0, 0.0, 2.0, 2.0, 2.0, 0.0, 0.0, 0.0, 0.0, 0.0, 0.0, 2.0, 0.0, 0.0, 2.0, 0.0, 2.0, 0.0, 0.0, 0.0, 0.0, 0.0, 0.0, 0.0, 0.0, 2.0, 0.0, 2.0, 3.0, 4.0, 0.0, 0.0, 0.0, 2.0, 0.0, 3.0, 0.0, 3.0, 0.0, 2.0, 0.0, 0.0, 0.0, 0.0, 0.0, 2.0, 0.0, 0.0, 0.0, 0.0, 2.0, 0.0, 0.0, 2.0, 0.0, 3.0, 0.0, 3.0, 0.0, 0.0, 0.0, 0.0, 0.0, 0.0, 2.0, 0.0, 0.0, 0.0, 0.0, 2.0, 0.0, 0.0, 3.0, 0.0, 0.0, 0.0, 3.0, 0.0, 2.0, 0.0, 0.0, 2.0, 0.0, 2.0, 0.0, 0.0, 0.0, 0.0, 0.0, 0.0, 2.0, 0.0, 2.0, 2.0, 0.0, 0.0, 0.0, 2.0, 0.0, 4.0, 0.0, 0.0, 2.0, 0.0, 0.0, 0.0, 2.0, 0.0, 2.0, 2.0, 0.0, 0.0, 0.0, 3.0, 0.0, 2.0, 0.0, 0.0, 0.0, 0.0, 0.0, 3.0, 3.0, 0.0, 0.0, 0.0, 0.0, 2.0, 0.0, 0.0, 2.0, 3.0, 0.0, 0.0, 0.0, 0.0, 0.0, 3.0, 0.0, 4.0, 0.0, 0.0, 3.0, 0.0, 2.0, 3.0, 0.0, 0.0, 0.0, 0.0, 0.0, 2.0, 0.0, 0.0, 0.0, 0.0, 0.0, 0.0, 3.0, 0.0, 2.0, 3.0, 0.0, 0.0, 0.0, 0.0, 0.0, 0.0, 0.0, 0.0, 0.0, 0.0, 0.0, 0.0, 0.0, 0.0, 3.0, 3.0, 0.0, 0.0, 0.0, 0.0, 0.0, 0.0, 0.0, 2.0, 2.0, 2.0, 0.0, 0.0, 3.0, 0.0, 2.0, 0.0, 2.0, 2.0, 4.0, 0.0, 0.0, 3.0, 2.0, 0.0, 2.0, 0.0, 0.0, 0.0, 3.0, 0.0, 0.0, 0.0, 0.0, 0.0, 3.0, 2.0, 3.0, 2.0, 0.0, 0.0, 0.0, 0.0, 0.0, 0.0, 0.0, 2.0, 0.0, 0.0, 2.0, 0.0, 0.0, 0.0, 2.0, 0.0, 2.0, 0.0, 0.0, 0.0, 0.0, 0.0, 4.0, 2.0, 0.0, 2.0, 0.0, 2.0, 2.0, 0.0, 0.0, 3.0, 0.0, 0.0, 0.0, 2.0, 0.0, 0.0, 0.0, 0.0, 3.0, 0.0, 0.0, 2.0, 0.0, 0.0, 0.0, 0.0, 0.0, 3.0, 2.0, 2.0, 0.0, 0.0, 2.0, 0.0, 0.0, 0.0, 0.0, 3.0, 0.0, 0.0, 0.0, 0.0, 2.0, 0.0, 0.0, 0.0, 3.0, 0.0, 2.0, 2.0, 0.0, 2.0, 0.0, 2.0, 0.0, 2.0, 0.0, 2.0, 0.0, 3.0, 0.0, 0.0, 0.0, 0.0, 0.0, 0.0, 0.0, 0.0, 0.0, 3.0, 0.0, 2.0, 0.0, 0.0, 2.0, 0.0, 2.0, 3.0, 0.0, 0.0, 2.0, 0.0, 2.0, 0.0, 2.0, 0.0, 0.0, 0.0, 0.0, 0.0, 0.0, 3.0, 0.0, 0.0, 2.0, 0.0, 2.0, 0.0, 0.0, 2.0, 2.0, 2.0, 0.0, 0.0, 0.0, 0.0, 0.0, 3.0, 3.0, 0.0, 0.0, 3.0, 0.0, 3.0, 0.0, 0.0, 3.0, 0.0, 3.0, 2.0, 0.0, 0.0, 2.0, 2.0, 0.0, 0.0, 0.0, 0.0, 0.0, 2.0, 0.0, 0.0, 0.0, 0.0, 0.0, 0.0, 3.0, 0.0, 3.0, 0.0, 2.0, 0.0, 0.0, 0.0, 2.0, 0.0, 2.0, 3.0, 0.0, 0.0, 0.0, 4.0, 0.0, 3.0, 0.0, 0.0, 0.0, 3.0, 0.0, 2.0, 0.0, 0.0, 0.0, 0.0, 2.0, 0.0, 0.0, 0.0, 0.0, 2.0, 2.0, 2.0, 0.0, 0.0, 0.0, 4.0, 0.0, 0.0, 0.0, 2.0, 0.0, 0.0, 2.0, 0.0, 0.0, 0.0, 2.0, 2.0, 3.0, 0.0, 0.0, 0.0, 4.0, 0.0, 4.0, 0.0, 2.0, 2.0, 0.0, 0.0, 2.0, 3.0, 3.0, 0.0, 2.0, 2.0, 0.0, 3.0, 0.0, 0.0, 3.0, 0.0, 2.0, 0.0, 3.0, 0.0, 0.0, 0.0, 0.0, 0.0, 2.0, 0.0, 0.0, 0.0, 0.0, 0.0, 0.0, 0.0, 2.0, 3.0, 3.0, 0.0, 2.0, 0.0, 2.0, 0.0, 3.0, 0.0, 0.0, 3.0, 0.0, 3.0, 2.0, 4.0, 0.0, 0.0, 0.0, 0.0, 0.0, 0.0, 0.0, 2.0, 0.0, 0.0, 0.0, 0.0, 0.0, 2.0, 0.0, 2.0, 0.0, 0.0, 3.0, 2.0, 2.0, 0.0, 2.0, 2.0, 0.0, 2.0, 0.0, 0.0, 2.0, 2.0, 0.0, 2.0, 2.0, 0.0, 0.0, 0.0, 0.0, 3.0, 0.0, 0.0, 0.0, 0.0, 0.0, 0.0, 2.0, 0.0, 2.0, 0.0, 0.0, 0.0, 0.0, 0.0, 0.0, 0.0, 3.0, 4.0, 0.0, 0.0, 0.0, 3.0, 0.0, 0.0, 3.0, 0.0, 0.0, 2.0, 0.0, 0.0, 0.0, 0.0, 0.0, 0.0, 2.0, 2.0, 0.0, 3.0, 0.0, 2.0, 0.0, 0.0, 2.0, 2.0, 2.0, 0.0, 2.0, 2.0, 0.0, 0.0, 3.0, 0.0, 3.0, 2.0, 0.0, 2.0, 4.0, 0.0, 0.0, 0.0, 2.0, 0.0, 2.0, 2.0, 0.0, 2.0, 4.0, 0.0, 0.0, 0.0, 2.0, 0.0, 2.0, 0.0, 0.0, 0.0, 0.0, 0.0, 2.0, 0.0, 0.0, 0.0, 2.0, 2.0, 0.0, 2.0, 2.0, 3.0, 2.0, 0.0, 0.0, 0.0, 4.0, 3.0, 0.0, 2.0, 0.0, 2.0, 2.0, 0.0, 0.0, 2.0, 0.0, 0.0, 2.0, 2.0, 0.0, 0.0, 0.0, 0.0, 0.0, 0.0, 4.0, 0.0, 2.0, 2.0, 0.0, 0.0, 0.0, 3.0, 0.0, 0.0, 0.0, 2.0, 3.0, 2.0, 2.0, 0.0, 0.0, 3.0, 3.0, 2.0, 0.0, 2.0, 0.0, 4.0, 0.0, 2.0, 0.0, 0.0, 0.0, 0.0, 0.0, 2.0, 0.0, 0.0, 0.0, 0.0, 2.0, 0.0, 0.0, 2.0, 0.0, 2.0, 3.0, 3.0, 2.0, 0.0, 2.0, 2.0, 0.0, 0.0, 0.0, 2.0, 2.0, 0.0, 0.0, 0.0, 3.0, 0.0, 3.0, 0.0, 4.0, 0.0, 0.0, 0.0, 0.0, 0.0, 0.0, 0.0, 2.0, 3.0, 0.0, 0.0, 0.0, 2.0, 0.0, 3.0, 3.0, 0.0, 0.0, 4.0, 2.0, 2.0, 0.0, 0.0, 0.0, 0.0, 2.0, 0.0, 0.0, 0.0, 0.0, 0.0, 2.0, 0.0, 0.0, 2.0, 2.0, 2.0, 0.0, 0.0, 0.0, 2.0, 2.0, 0.0, 0.0, 0.0, 0.0, 2.0, 0.0, 0.0, 0.0, 0.0, 0.0, 0.0, 2.0, 0.0, 4.0, 0.0, 2.0, 2.0, 0.0, 2.0, 2.0, 0.0, 0.0, 0.0, 0.0, 0.0, 0.0, 0.0, 2.0, 0.0, 0.0, 0.0, 2.0, 0.0, 0.0, 0.0, 0.0, 0.0, 0.0, 0.0, 0.0, 2.0, 0.0, 2.0, 0.0, 0.0, 0.0, 0.0, 0.0, 0.0, 0.0, 4.0, 3.0, 0.0, 0.0, 0.0, 2.0, 0.0, 2.0, 0.0, 0.0, 0.0, 0.0, 2.0, 0.0, 0.0, 0.0, 2.0, 0.0, 0.0, 0.0, 0.0, 2.0, 0.0, 0.0, 2.0, 0.0, 0.0, 0.0, 0.0, 0.0, 0.0, 0.0, 0.0, 0.0, 0.0, 2.0, 2.0, 2.0, 0.0, 0.0, 0.0, 0.0, 0.0, 2.0, 2.0, 4.0, 2.0, 0.0, 0.0, 0.0, 3.0, 0.0, 0.0, 2.0, 0.0, 2.0, 0.0, 0.0, 2.0, 2.0, 0.0, 0.0, 0.0, 0.0, 3.0, 2.0, 0.0, 0.0, 0.0, 0.0, 2.0, 0.0, 0.0, 2.0, 4.0, 0.0, 0.0, 3.0, 0.0, 2.0, 0.0, 0.0, 2.0, 2.0, 0.0, 3.0, 0.0, 2.0, 2.0, 0.0, 0.0, 0.0, 0.0, 3.0, 0.0, 0.0, 4.0, 4.0, 0.0, 0.0, 0.0, 0.0, 2.0, 2.0, 0.0, 0.0, 2.0, 0.0, 0.0, 2.0, 0.0, 0.0, 0.0, 2.0, 2.0, 3.0, 2.0, 0.0, 0.0, 0.0, 2.0, 0.0, 2.0, 0.0, 2.0, 0.0, 4.0, 4.0, 0.0, 0.0, 2.0, 0.0, 0.0, 0.0, 0.0, 2.0, 2.0, 0.0, 0.0, 2.0, 0.0, 0.0, 0.0, 0.0, 0.0, 0.0, 2.0, 0.0, 2.0, 2.0, 4.0, 0.0, 0.0, 0.0, 2.0, 0.0, 0.0, 0.0, 2.0, 4.0, 0.0, 0.0, 0.0, 0.0, 2.0, 0.0, 0.0, 0.0, 0.0, 0.0, 0.0, 2.0, 3.0, 0.0, 0.0, 2.0, 0.0, 0.0, 0.0, 2.0, 2.0, 3.0, 0.0, 3.0, 2.0, 0.0, 0.0, 2.0, 0.0, 0.0, 2.0, 0.0, 0.0, 4.0, 0.0, 0.0, 0.0, 0.0, 0.0, 0.0, 0.0, 0.0, 0.0, 0.0, 0.0, 0.0, 2.0, 0.0, 0.0, 0.0, 2.0, 3.0, 0.0, 0.0, 2.0, 0.0, 0.0, 3.0, 2.0, 3.0, 0.0, 0.0, 0.0, 2.0, 0.0, 3.0, 0.0, 0.0, 0.0, 0.0, 0.0, 0.0, 2.0, 0.0, 0.0, 0.0, 4.0, 2.0, 0.0, 0.0, 0.0, 0.0, 0.0, 0.0, 0.0, 2.0, 0.0, 0.0, 0.0, 0.0, 2.0, 0.0, 0.0, 0.0, 0.0, 0.0, 4.0, 0.0, 0.0, 0.0, 3.0, 0.0, 0.0, 0.0, 0.0, 0.0, 0.0, 2.0, 0.0, 2.0, 3.0, 3.0, 0.0, 0.0, 2.0, 2.0, 2.0, 2.0, 0.0, 2.0, 0.0, 0.0, 0.0, 0.0, 0.0, 0.0, 0.0, 0.0, 2.0, 0.0, 2.0, 0.0, 0.0, 3.0, 2.0, 2.0, 0.0, 0.0, 3.0, 0.0, 0.0, 0.0, 2.0, 0.0, 3.0, 2.0, 0.0, 0.0, 2.0, 2.0, 0.0, 0.0, 2.0, 0.0, 2.0, 0.0, 0.0, 0.0, 0.0, 3.0, 2.0, 0.0, 0.0, 0.0, 0.0, 2.0, 0.0, 2.0, 0.0, 0.0, 0.0, 0.0, 0.0, 2.0, 0.0, 0.0, 0.0, 0.0, 0.0, 3.0, 0.0, 0.0, 0.0, 0.0, 2.0, 0.0, 2.0, 2.0, 0.0, 0.0, 2.0, 0.0, 0.0, 0.0, 2.0, 0.0, 0.0, 3.0, 0.0, 0.0, 0.0, 2.0, 0.0, 0.0, 0.0, 3.0, 2.0, 0.0, 2.0, 0.0, 2.0, 0.0, 0.0, 0.0, 0.0, 0.0, 0.0, 0.0, 0.0, 0.0, 0.0, 0.0, 0.0, 2.0, 2.0, 0.0, 0.0, 2.0, 0.0, 2.0, 0.0, 0.0, 2.0, 0.0, 0.0, 0.0, 0.0, 0.0, 0.0, 0.0, 2.0, 4.0, 0.0, 0.0, 0.0, 2.0, 0.0, 0.0, 2.0, 0.0, 3.0, 0.0, 0.0, 0.0, 0.0, 4.0, 2.0, 0.0, 2.0, 0.0, 2.0, 0.0, 0.0, 0.0, 2.0, 0.0, 0.0, 0.0, 0.0, 0.0, 0.0, 0.0, 0.0, 0.0, 0.0, 0.0, 0.0, 0.0, 2.0, 0.0, 3.0, 0.0, 0.0, 0.0, 2.0, 0.0, 2.0, 0.0, 0.0, 0.0, 4.0, 2.0, 2.0, 2.0, 0.0, 0.0, 2.0, 0.0, 0.0, 3.0, 0.0, 0.0, 0.0, 0.0, 0.0, 2.0, 0.0, 0.0, 2.0, 0.0, 2.0, 0.0, 0.0, 0.0, 0.0, 0.0, 3.0, 0.0, 0.0, 0.0, 2.0, 2.0, 0.0, 0.0, 0.0, 0.0, 0.0, 0.0, 3.0, 0.0, 2.0, 0.0, 0.0, 0.0, 0.0, 2.0, 3.0, 2.0, 0.0, 3.0, 2.0, 0.0, 0.0, 0.0, 0.0, 0.0, 0.0, 0.0, 0.0, 0.0, 0.0, 0.0, 2.0, 0.0, 0.0, 2.0, 2.0, 2.0, 3.0, 0.0, 0.0, 0.0, 0.0, 2.0, 0.0, 0.0, 0.0, 2.0, 0.0, 0.0, 0.0, 3.0, 0.0, 3.0, 2.0, 0.0, 0.0, 2.0, 2.0, 0.0, 0.0, 0.0, 2.0, 2.0, 0.0, 0.0, 0.0, 0.0, 0.0, 0.0, 0.0, 0.0, 0.0, 0.0, 0.0, 0.0, 0.0, 0.0, 0.0, 2.0, 0.0, 0.0, 0.0, 3.0, 0.0, 0.0, 0.0, 0.0, 2.0, 0.0, 0.0, 0.0, 0.0, 2.0, 0.0, 3.0, 0.0, 0.0, 0.0, 2.0, 0.0, 0.0, 0.0, 0.0, 0.0, 0.0, 0.0, 3.0, 3.0, 2.0, 0.0, 2.0, 0.0, 0.0, 0.0, 2.0, 0.0, 0.0, 0.0, 0.0, 2.0, 0.0, 0.0, 0.0, 2.0, 0.0, 0.0, 0.0, 0.0, 2.0, 0.0, 0.0, 0.0, 2.0, 0.0, 0.0, 0.0, 0.0, 0.0, 3.0, 0.0, 0.0, 3.0, 2.0, 0.0, 0.0, 0.0, 0.0, 3.0, 0.0, 0.0, 2.0, 2.0, 2.0, 2.0, 2.0, 0.0, 0.0, 0.0, 0.0, 2.0, 3.0, 0.0, 0.0, 3.0, 2.0, 0.0, 0.0, 0.0, 0.0, 3.0, 0.0, 0.0, 2.0, 0.0, 0.0, 0.0, 0.0, 0.0, 0.0, 2.0, 3.0, 0.0, 2.0, 0.0, 2.0, 0.0, 0.0, 0.0, 0.0, 3.0, 2.0, 2.0, 2.0, 0.0, 0.0, 2.0, 0.0, 0.0, 2.0, 0.0, 0.0, 0.0, 0.0, 0.0, 0.0, 0.0, 0.0, 0.0, 4.0, 0.0, 2.0, 0.0, 2.0, 0.0, 0.0, 2.0, 0.0, 0.0, 0.0, 2.0, 2.0, 2.0, 2.0, 3.0, 0.0, 2.0, 2.0, 2.0, 2.0, 0.0, 0.0, 0.0, 0.0, 3.0, 0.0, 0.0, 0.0, 0.0, 2.0, 0.0, 0.0, 0.0, 3.0, 0.0, 0.0, 0.0, 0.0, 0.0, 3.0, 0.0, 2.0, 2.0, 0.0, 2.0, 0.0, 2.0, 0.0, 0.0, 4.0, 2.0, 3.0, 0.0, 3.0, 2.0, 0.0, 3.0, 0.0, 0.0, 0.0, 0.0, 2.0, 0.0, 0.0, 0.0, 0.0, 3.0, 2.0, 3.0, 0.0, 0.0, 0.0, 2.0, 0.0, 0.0, 0.0, 2.0, 0.0, 0.0, 2.0, 2.0, 0.0, 0.0, 2.0, 3.0, 4.0, 3.0, 2.0, 0.0, 0.0, 0.0, 2.0, 2.0, 0.0, 3.0, 0.0, 0.0, 0.0, 2.0, 2.0, 0.0, 0.0, 3.0, 3.0, 0.0, 2.0, 2.0, 3.0, 0.0, 2.0, 0.0, 0.0, 2.0, 3.0, 2.0, 0.0, 0.0, 0.0, 0.0, 0.0, 0.0, 0.0, 0.0, 0.0, 0.0, 0.0, 0.0, 2.0, 2.0, 4.0, 0.0, 0.0, 0.0, 0.0, 3.0, 0.0, 0.0, 0.0, 0.0, 2.0, 2.0, 0.0, 0.0, 0.0, 0.0, 0.0, 2.0, 0.0, 0.0, 2.0, 0.0, 4.0, 0.0, 0.0, 0.0, 0.0, 2.0, 0.0, 0.0, 2.0, 0.0, 0.0, 0.0, 2.0, 0.0, 4.0, 3.0, 0.0, 0.0, 0.0, 4.0, 0.0, 2.0, 0.0, 0.0, 2.0, 0.0, 2.0, 2.0, 0.0, 0.0, 0.0, 0.0, 3.0, 0.0, 0.0, 0.0, 0.0, 0.0, 0.0, 0.0, 2.0, 0.0, 2.0, 3.0, 0.0, 2.0, 2.0, 2.0, 2.0, 0.0, 2.0, 0.0, 2.0, 0.0, 0.0, 0.0, 0.0, 0.0, 0.0, 0.0, 0.0, 2.0, 0.0, 0.0, 0.0, 3.0, 0.0, 0.0, 0.0, 0.0, 0.0, 0.0, 2.0, 2.0, 2.0, 0.0, 0.0, 0.0, 0.0, 0.0, 0.0, 2.0, 2.0, 0.0, 0.0, 2.0, 0.0, 0.0, 3.0, 0.0, 0.0, 0.0, 2.0, 3.0, 0.0, 0.0, 0.0, 2.0, 0.0, 2.0, 2.0, 0.0, 0.0, 0.0, 0.0, 0.0, 2.0, 3.0, 0.0, 0.0, 0.0, 0.0, 0.0, 0.0, 0.0, 2.0, 0.0, 2.0, 2.0, 0.0, 2.0, 0.0, 2.0, 0.0, 0.0, 0.0, 2.0, 3.0, 0.0, 0.0, 2.0, 3.0, 0.0, 0.0, 2.0, 2.0, 0.0, 2.0, 0.0, 0.0, 0.0, 3.0, 0.0, 2.0, 2.0, 3.0, 0.0, 0.0, 0.0, 0.0, 3.0, 2.0, 0.0, 0.0, 0.0, 0.0, 0.0, 0.0, 0.0, 3.0, 2.0, 3.0, 0.0, 2.0, 2.0, 3.0, 0.0, 0.0, 0.0, 0.0, 2.0, 0.0, 0.0, 3.0, 0.0, 0.0, 0.0, 0.0, 0.0, 0.0, 0.0, 0.0, 2.0, 2.0, 2.0, 0.0, 0.0, 3.0, 0.0, 2.0, 2.0, 0.0, 0.0, 2.0, 0.0, 0.0, 0.0, 4.0, 4.0, 3.0, 0.0, 0.0, 3.0, 0.0, 3.0, 0.0, 0.0, 0.0, 2.0, 3.0, 0.0, 0.0, 0.0, 3.0, 0.0, 2.0, 0.0, 0.0, 2.0, 0.0, 0.0, 0.0, 0.0, 0.0, 0.0, 0.0, 0.0, 0.0, 2.0, 2.0, 0.0, 2.0, 0.0, 3.0, 0.0, 0.0, 2.0, 0.0, 0.0, 4.0, 2.0, 0.0, 2.0, 2.0, 0.0, 2.0, 0.0, 2.0, 0.0, 0.0, 0.0, 2.0, 0.0, 0.0, 3.0, 0.0, 0.0, 0.0, 0.0, 0.0, 0.0, 0.0, 0.0, 0.0, 2.0, 2.0, 0.0, 3.0, 0.0, 2.0, 0.0, 2.0, 0.0, 0.0, 0.0, 2.0, 2.0, 0.0, 0.0, 2.0, 0.0, 0.0, 0.0, 2.0, 0.0, 2.0, 0.0, 0.0, 0.0, 0.0, 2.0, 2.0, 2.0, 0.0, 2.0, 2.0, 0.0, 4.0, 2.0, 0.0, 0.0, 4.0, 0.0, 0.0, 0.0, 2.0, 0.0, 0.0, 0.0, 2.0, 3.0, 0.0, 3.0, 0.0, 0.0, 2.0, 0.0, 2.0, 2.0, 0.0, 0.0, 0.0, 3.0, 0.0, 2.0, 0.0, 0.0, 2.0, 0.0, 0.0, 0.0, 0.0, 0.0, 3.0, 0.0, 0.0, 0.0, 2.0, 0.0, 2.0, 0.0, 0.0, 0.0, 0.0, 0.0, 0.0, 0.0, 2.0, 0.0, 0.0, 0.0, 0.0, 0.0, 3.0, 0.0, 0.0, 2.0, 2.0, 0.0, 0.0, 0.0, 0.0, 0.0, 2.0, 0.0, 0.0, 0.0, 3.0, 0.0, 2.0, 0.0, 0.0, 0.0, 0.0, 0.0, 0.0, 0.0, 0.0, 0.0, 3.0, 0.0, 2.0, 0.0, 4.0, 0.0, 0.0, 2.0, 2.0, 2.0, 0.0, 2.0, 2.0, 2.0, 0.0, 0.0, 0.0, 0.0, 2.0, 0.0, 3.0, 0.0, 2.0, 2.0, 0.0, 2.0, 0.0, 0.0, 0.0, 3.0, 2.0, 0.0, 0.0, 0.0, 0.0, 3.0, 2.0, 0.0, 0.0, 0.0, 0.0, 2.0, 0.0, 3.0, 0.0, 0.0, 0.0, 0.0, 0.0, 0.0, 0.0, 2.0, 2.0, 0.0, 0.0, 0.0, 0.0, 0.0, 0.0, 0.0, 0.0, 2.0, 4.0, 0.0, 2.0, 0.0, 0.0, 2.0, 3.0, 0.0, 2.0, 0.0, 0.0, 2.0, 0.0, 0.0, 0.0, 0.0, 0.0, 2.0, 0.0, 3.0, 2.0, 0.0, 0.0, 0.0, 3.0, 2.0, 3.0, 0.0, 0.0, 2.0, 0.0, 2.0, 2.0, 3.0, 2.0, 0.0, 2.0, 2.0, 0.0, 0.0, 0.0, 0.0, 0.0, 0.0, 0.0, 0.0, 0.0, 2.0, 0.0, 0.0, 0.0, 2.0, 0.0, 0.0, 0.0, 2.0, 0.0, 0.0, 0.0, 0.0, 0.0, 0.0, 0.0, 0.0, 2.0, 0.0, 0.0, 2.0, 0.0, 0.0, 3.0, 0.0, 0.0, 2.0, 2.0, 2.0, 0.0, 3.0, 0.0, 0.0, 0.0, 0.0, 2.0, 0.0, 0.0, 0.0, 0.0, 0.0, 0.0, 0.0, 0.0, 0.0, 0.0, 0.0, 3.0, 0.0, 0.0, 2.0, 0.0, 2.0, 0.0, 2.0, 0.0, 0.0, 0.0, 0.0, 0.0, 2.0, 2.0, 4.0, 0.0, 3.0, 2.0, 0.0, 0.0, 2.0, 2.0, 2.0, 0.0, 2.0, 0.0, 0.0, 2.0, 0.0, 0.0, 3.0, 2.0, 2.0, 0.0, 0.0, 0.0, 2.0, 0.0, 0.0, 2.0, 0.0, 0.0, 0.0, 0.0, 2.0, 0.0, 0.0, 3.0, 0.0, 0.0, 2.0, 0.0, 0.0, 0.0, 2.0, 3.0, 2.0, 0.0, 0.0, 2.0, 3.0, 2.0, 0.0, 0.0, 0.0, 4.0, 0.0, 0.0, 0.0, 0.0, 0.0, 0.0, 0.0, 0.0, 2.0, 3.0, 0.0, 0.0, 0.0, 0.0, 0.0, 3.0, 0.0, 2.0, 0.0, 0.0, 0.0, 0.0, 0.0, 2.0, 0.0, 0.0, 3.0, 0.0, 0.0, 2.0, 0.0, 2.0, 0.0, 0.0, 2.0, 0.0, 0.0, 2.0, 2.0, 3.0, 0.0, 0.0, 2.0, 0.0, 0.0, 0.0, 2.0, 0.0, 0.0, 0.0, 0.0, 0.0, 2.0, 0.0, 0.0, 0.0, 3.0, 0.0, 0.0, 0.0, 0.0, 2.0, 2.0, 0.0, 2.0, 2.0, 0.0, 2.0, 0.0, 0.0, 0.0, 0.0, 2.0, 3.0, 0.0, 0.0, 2.0, 3.0, 0.0, 0.0, 2.0, 0.0, 0.0, 2.0, 0.0, 0.0, 0.0, 0.0, 0.0, 0.0, 0.0, 0.0, 0.0, 0.0, 0.0, 0.0, 0.0, 0.0, 2.0, 0.0, 0.0, 0.0, 2.0, 0.0, 4.0, 0.0, 0.0, 0.0, 2.0, 0.0, 0.0, 0.0, 0.0, 0.0, 2.0, 3.0, 0.0, 0.0, 0.0, 4.0, 2.0, 0.0, 0.0, 4.0, 0.0, 2.0, 2.0, 2.0, 0.0, 0.0, 0.0, 3.0, 0.0, 0.0, 2.0, 0.0, 0.0, 0.0, 4.0, 0.0, 3.0, 4.0, 3.0, 0.0, 0.0, 0.0, 0.0, 3.0, 0.0, 0.0, 0.0, 0.0, 3.0, 0.0, 0.0, 0.0, 0.0, 2.0, 0.0, 0.0, 0.0, 2.0, 0.0, 4.0, 2.0, 2.0, 3.0, 2.0, 0.0, 0.0, 0.0, 4.0, 3.0, 2.0, 0.0, 0.0, 0.0, 0.0, 0.0, 0.0, 0.0, 2.0, 0.0, 2.0, 2.0, 2.0, 2.0, 0.0, 2.0, 2.0, 0.0, 0.0, 2.0, 3.0, 2.0, 0.0, 0.0, 0.0, 0.0, 0.0, 0.0, 0.0, 0.0, 0.0, 0.0, 2.0, 0.0, 0.0, 0.0, 0.0, 2.0, 0.0, 0.0, 0.0, 0.0, 2.0, 0.0, 0.0, 3.0, 3.0, 0.0, 2.0, 2.0, 2.0, 0.0, 3.0, 3.0, 0.0, 0.0, 0.0, 2.0, 0.0, 2.0, 0.0, 0.0, 0.0, 2.0, 0.0, 2.0, 0.0, 0.0, 3.0, 3.0, 0.0, 0.0, 0.0, 3.0, 0.0, 2.0, 0.0, 0.0, 2.0, 0.0, 0.0, 0.0, 0.0, 0.0, 0.0, 0.0, 0.0, 0.0, 2.0, 2.0, 3.0, 0.0, 2.0, 3.0, 0.0, 2.0, 0.0, 2.0, 3.0, 2.0, 0.0, 2.0, 0.0, 0.0, 2.0, 0.0, 2.0, 0.0, 0.0, 0.0, 0.0, 0.0, 0.0, 0.0, 0.0, 0.0, 0.0, 0.0, 0.0, 2.0, 2.0, 2.0, 0.0, 3.0, 0.0, 2.0, 3.0, 0.0, 0.0, 0.0, 0.0, 0.0, 0.0, 0.0, 0.0, 0.0, 0.0, 4.0, 0.0, 0.0, 2.0, 0.0, 0.0, 0.0, 2.0, 2.0, 0.0, 0.0, 2.0, 0.0, 0.0, 0.0, 0.0, 0.0, 2.0, 0.0, 0.0, 0.0, 0.0, 0.0, 3.0, 0.0, 0.0, 2.0, 0.0, 0.0, 0.0, 0.0, 2.0, 0.0, 0.0, 2.0, 2.0, 3.0, 3.0, 3.0, 3.0, 3.0, 2.0, 0.0, 2.0, 0.0, 2.0, 0.0, 0.0, 0.0, 2.0, 3.0, 0.0, 2.0, 0.0, 0.0, 3.0, 0.0, 0.0, 0.0, 0.0, 2.0, 0.0, 0.0, 2.0, 0.0, 2.0, 0.0, 0.0, 0.0, 0.0, 3.0, 2.0, 3.0, 2.0, 2.0, 0.0, 3.0, 0.0, 0.0, 0.0, 2.0, 0.0, 0.0, 0.0, 0.0, 0.0, 0.0, 0.0, 0.0, 0.0, 3.0, 0.0, 0.0, 0.0, 0.0, 2.0, 0.0, 0.0, 0.0, 4.0, 2.0, 0.0, 0.0, 2.0, 2.0, 2.0, 0.0, 0.0, 0.0, 0.0, 0.0, 2.0, 2.0, 0.0, 0.0, 0.0, 0.0, 0.0, 0.0, 0.0, 3.0, 2.0, 0.0, 3.0, 0.0, 0.0, 0.0, 4.0, 0.0, 0.0, 4.0, 0.0, 0.0, 0.0, 2.0, 3.0, 0.0, 2.0, 0.0, 0.0, 2.0, 2.0, 0.0, 0.0, 0.0, 0.0, 0.0, 0.0, 2.0, 0.0, 0.0, 0.0, 0.0, 0.0, 0.0, 0.0, 0.0, 0.0, 0.0, 0.0, 0.0, 0.0, 0.0, 0.0, 0.0, 0.0, 0.0, 0.0, 2.0, 0.0, 0.0, 0.0, 0.0, 0.0, 3.0, 0.0, 0.0, 0.0, 0.0, 0.0, 0.0, 0.0, 2.0, 2.0, 2.0, 0.0, 2.0, 0.0, 0.0, 2.0, 0.0, 4.0, 0.0, 2.0, 0.0, 0.0, 2.0, 2.0, 0.0, 2.0, 0.0, 0.0, 0.0, 0.0, 0.0, 0.0, 0.0, 0.0, 0.0, 0.0, 2.0, 2.0, 3.0, 0.0, 0.0, 0.0, 0.0, 0.0, 2.0, 0.0, 0.0, 4.0, 0.0, 3.0, 0.0, 2.0, 3.0, 3.0, 2.0, 0.0, 2.0, 0.0, 0.0, 0.0, 0.0, 0.0, 0.0, 0.0, 3.0, 0.0, 4.0, 4.0, 0.0, 3.0, 0.0, 0.0, 0.0, 0.0, 2.0, 2.0, 0.0, 0.0, 2.0, 0.0, 0.0, 0.0, 3.0, 3.0, 0.0, 0.0, 0.0, 0.0, 0.0, 2.0, 2.0, 0.0, 0.0, 0.0, 2.0, 0.0, 0.0, 0.0, 0.0, 2.0, 0.0, 0.0, 0.0, 0.0, 0.0, 0.0, 0.0, 0.0, 0.0, 2.0, 0.0, 0.0, 0.0, 0.0, 3.0, 0.0, 0.0, 0.0, 0.0, 0.0, 0.0, 0.0, 0.0, 2.0, 0.0, 0.0, 0.0, 3.0, 4.0, 3.0, 0.0, 2.0, 2.0, 0.0, 0.0, 0.0, 0.0, 0.0, 0.0, 4.0, 0.0, 0.0, 2.0, 2.0, 0.0, 0.0, 2.0, 0.0, 2.0, 0.0, 2.0, 2.0, 3.0, 0.0, 0.0, 2.0, 3.0, 3.0, 0.0, 0.0, 0.0, 0.0, 2.0, 0.0, 0.0, 0.0, 3.0, 0.0, 0.0, 2.0, 0.0, 0.0, 0.0, 0.0, 0.0, 0.0, 3.0, 0.0, 0.0, 0.0, 4.0, 0.0, 0.0, 0.0, 0.0, 2.0, 0.0, 2.0, 0.0, 0.0, 0.0, 2.0, 2.0, 2.0, 2.0, 3.0, 2.0, 0.0, 0.0, 0.0, 0.0, 0.0, 0.0, 2.0, 0.0, 0.0, 2.0, 4.0, 0.0, 2.0, 2.0, 0.0, 0.0, 2.0, 0.0, 2.0, 2.0, 0.0, 3.0, 2.0, 0.0, 0.0, 0.0, 0.0, 0.0, 0.0, 3.0, 0.0, 0.0, 0.0, 2.0, 0.0, 0.0, 0.0, 3.0, 0.0, 0.0, 0.0, 0.0, 0.0, 0.0, 0.0, 0.0, 2.0, 0.0, 0.0, 3.0, 0.0, 0.0, 0.0, 0.0, 0.0, 0.0, 0.0, 0.0, 0.0, 3.0, 4.0, 0.0, 0.0, 4.0, 2.0, 0.0, 0.0, 0.0, 0.0, 2.0, 3.0, 0.0, 3.0, 0.0, 2.0, 0.0, 0.0, 0.0, 2.0, 2.0, 0.0, 0.0, 0.0, 0.0, 2.0, 3.0, 0.0, 0.0, 2.0, 0.0, 0.0, 2.0, 0.0, 4.0, 3.0, 0.0, 0.0, 2.0, 0.0, 0.0, 0.0, 0.0, 0.0, 0.0, 0.0, 0.0, 0.0, 2.0, 0.0, 0.0, 0.0, 0.0, 0.0, 2.0, 0.0, 0.0, 0.0, 0.0, 0.0, 3.0, 0.0, 2.0, 0.0, 0.0, 0.0, 0.0, 0.0, 0.0, 0.0, 0.0, 0.0, 2.0, 0.0, 0.0, 0.0, 0.0, 0.0, 2.0, 0.0, 0.0, 0.0, 0.0, 2.0, 0.0, 2.0, 0.0, 2.0, 0.0, 0.0, 0.0, 0.0, 0.0, 0.0, 0.0, 0.0, 0.0, 0.0, 0.0, 0.0, 0.0, 2.0, 2.0, 0.0, 0.0, 0.0, 0.0, 2.0, 0.0, 0.0, 0.0, 0.0, 0.0, 0.0, 0.0, 0.0, 2.0, 0.0, 0.0, 2.0, 2.0, 0.0, 2.0, 3.0, 2.0, 0.0, 2.0, 0.0, 2.0, 0.0, 0.0, 0.0, 0.0, 0.0, 0.0, 3.0, 2.0, 3.0, 0.0, 0.0, 0.0, 2.0, 0.0, 0.0, 0.0, 0.0, 0.0, 4.0, 3.0, 0.0, 2.0, 0.0, 0.0, 0.0, 0.0, 0.0, 0.0, 0.0, 2.0, 0.0, 0.0, 0.0, 0.0, 0.0, 2.0, 2.0, 0.0, 2.0, 0.0, 0.0, 0.0, 0.0, 0.0, 2.0, 0.0, 2.0, 0.0, 2.0, 0.0, 2.0, 0.0, 0.0, 3.0, 2.0, 0.0, 0.0, 0.0, 2.0, 0.0, 0.0, 0.0, 0.0, 2.0, 0.0, 0.0, 2.0, 0.0, 0.0, 2.0, 2.0, 3.0, 2.0, 0.0, 0.0, 2.0, 2.0, 0.0, 0.0, 0.0, 0.0, 0.0, 0.0, 0.0, 0.0, 0.0, 0.0, 0.0, 3.0, 0.0, 0.0, 0.0, 0.0, 0.0, 3.0, 0.0, 0.0, 0.0, 0.0, 0.0, 2.0, 2.0, 0.0, 0.0, 0.0, 0.0, 0.0, 0.0, 0.0, 2.0, 3.0, 2.0, 0.0, 0.0, 2.0, 0.0, 0.0, 2.0, 0.0, 2.0, 0.0, 0.0, 2.0, 2.0, 0.0, 2.0, 0.0, 0.0, 2.0, 2.0, 0.0, 0.0, 2.0, 0.0, 0.0, 0.0, 2.0, 0.0, 0.0, 0.0, 3.0, 0.0, 2.0, 2.0, 2.0, 0.0, 2.0, 2.0, 0.0, 0.0, 0.0, 3.0, 3.0, 0.0, 0.0, 0.0, 0.0, 2.0, 0.0, 0.0, 3.0, 4.0, 0.0, 0.0, 0.0, 0.0, 0.0, 0.0, 2.0, 0.0, 0.0, 0.0, 0.0, 3.0, 2.0, 0.0, 0.0, 0.0, 0.0, 0.0, 0.0, 0.0, 0.0, 0.0, 0.0, 4.0, 0.0, 0.0, 0.0, 0.0, 0.0, 0.0, 0.0, 0.0, 2.0, 3.0, 0.0, 3.0, 0.0, 0.0, 3.0, 0.0, 0.0, 0.0, 0.0, 3.0, 2.0, 2.0, 0.0, 0.0, 2.0, 0.0, 0.0, 0.0, 2.0, 0.0, 2.0, 0.0, 2.0, 0.0, 2.0, 0.0, 2.0, 0.0, 0.0, 0.0, 2.0, 3.0, 0.0, 0.0, 0.0, 0.0, 0.0, 0.0, 0.0, 0.0, 0.0, 0.0, 0.0, 2.0, 2.0, 0.0, 2.0, 0.0, 0.0, 0.0, 0.0, 3.0, 3.0, 2.0, 0.0, 0.0, 0.0, 0.0, 0.0, 2.0, 2.0, 0.0, 0.0, 2.0, 3.0, 2.0, 0.0, 0.0, 2.0, 0.0, 0.0, 0.0, 2.0, 0.0, 0.0, 0.0, 0.0, 3.0, 2.0, 0.0, 0.0, 0.0, 0.0, 0.0, 0.0, 2.0, 0.0, 0.0, 2.0, 3.0, 0.0, 0.0, 0.0, 3.0, 0.0, 0.0, 0.0, 2.0, 0.0, 2.0, 0.0, 2.0, 0.0, 0.0, 0.0, 2.0, 3.0, 0.0, 0.0, 0.0, 0.0, 0.0, 2.0, 0.0, 0.0, 2.0, 4.0, 0.0, 0.0, 0.0, 2.0, 2.0, 0.0, 3.0, 0.0, 2.0, 0.0, 0.0, 2.0, 2.0, 0.0, 0.0, 0.0, 0.0, 2.0, 0.0, 0.0, 0.0, 0.0, 2.0, 0.0, 0.0, 0.0, 4.0, 4.0, 2.0, 0.0, 3.0, 2.0, 0.0, 3.0, 2.0, 0.0, 3.0, 0.0, 0.0, 0.0, 0.0, 0.0, 0.0, 0.0, 2.0, 0.0, 2.0, 0.0, 0.0, 4.0, 0.0, 0.0, 0.0, 0.0, 2.0, 0.0, 2.0, 0.0, 0.0, 2.0, 3.0, 0.0, 0.0, 0.0, 0.0, 0.0, 0.0, 2.0, 2.0, 2.0, 0.0, 0.0, 2.0, 0.0, 0.0, 2.0, 2.0, 0.0, 2.0, 0.0, 0.0, 2.0, 0.0, 0.0, 0.0, 0.0, 2.0, 0.0, 0.0, 0.0, 3.0, 0.0, 2.0, 2.0, 0.0, 3.0, 0.0, 0.0, 0.0, 0.0, 0.0, 0.0, 0.0, 3.0, 0.0, 0.0, 3.0, 0.0, 0.0, 2.0, 0.0, 0.0, 0.0, 0.0, 0.0, 0.0, 0.0, 2.0, 2.0, 0.0, 2.0, 0.0, 0.0, 2.0, 0.0, 0.0, 0.0, 3.0, 2.0, 0.0, 0.0, 0.0, 2.0, 0.0, 0.0, 0.0, 0.0, 3.0, 2.0, 0.0, 0.0, 0.0, 2.0, 2.0, 0.0, 2.0, 2.0, 2.0, 4.0, 0.0, 0.0, 0.0, 2.0, 3.0, 2.0, 4.0, 2.0, 0.0, 0.0, 0.0, 0.0, 0.0, 0.0, 0.0, 2.0, 0.0, 0.0, 0.0, 0.0, 0.0, 0.0, 2.0, 0.0, 0.0, 2.0, 0.0, 0.0, 2.0, 0.0, 0.0, 0.0, 0.0, 2.0, 0.0, 0.0, 0.0, 2.0, 0.0, 0.0, 0.0, 0.0, 2.0, 0.0, 0.0, 2.0, 0.0, 0.0, 0.0, 0.0, 2.0, 0.0, 0.0, 2.0, 0.0, 0.0, 3.0, 0.0, 2.0, 0.0, 0.0, 2.0, 2.0, 2.0, 0.0, 0.0, 0.0, 0.0, 0.0, 0.0, 2.0, 0.0, 0.0, 0.0, 0.0, 0.0, 0.0, 0.0, 3.0, 2.0, 0.0, 0.0, 3.0, 2.0, 0.0, 3.0, 0.0, 0.0, 0.0, 0.0, 2.0, 0.0, 0.0, 2.0, 2.0, 0.0, 0.0, 2.0, 2.0, 0.0, 2.0, 0.0, 2.0, 0.0, 0.0, 0.0, 0.0, 2.0, 0.0, 0.0, 4.0, 2.0, 0.0, 0.0, 0.0, 0.0, 0.0, 0.0, 0.0, 0.0, 0.0, 0.0, 0.0, 0.0, 2.0, 0.0, 2.0, 0.0, 0.0, 0.0, 0.0, 0.0, 0.0, 0.0, 0.0, 0.0, 0.0, 0.0, 2.0, 0.0, 0.0, 2.0, 2.0, 0.0, 0.0, 2.0, 0.0, 2.0, 2.0, 0.0, 0.0, 0.0, 0.0, 0.0, 0.0, 0.0, 2.0, 2.0, 2.0, 2.0, 0.0, 0.0, 0.0, 0.0, 0.0, 0.0, 3.0, 2.0, 3.0, 2.0, 0.0, 2.0, 0.0, 0.0, 2.0, 0.0, 2.0, 0.0, 2.0, 0.0, 0.0, 0.0, 0.0, 0.0, 2.0, 0.0, 0.0, 0.0, 0.0, 0.0, 2.0, 0.0, 0.0, 2.0, 0.0, 0.0, 2.0, 0.0, 2.0, 2.0, 2.0, 0.0, 0.0, 0.0, 0.0, 0.0, 0.0, 0.0, 0.0, 0.0, 0.0, 0.0, 0.0, 0.0, 0.0, 0.0, 0.0, 2.0, 0.0, 2.0, 0.0, 0.0, 2.0, 0.0, 0.0, 0.0, 0.0, 2.0, 2.0, 2.0, 0.0, 0.0, 0.0, 2.0, 3.0, 2.0, 0.0, 3.0, 0.0, 2.0, 0.0, 4.0, 0.0, 3.0, 3.0, 3.0, 0.0, 2.0, 2.0, 0.0, 2.0, 0.0, 2.0, 0.0, 2.0, 2.0, 3.0, 2.0, 0.0, 3.0, 3.0, 3.0, 3.0, 0.0, 0.0, 0.0, 0.0, 0.0, 2.0, 3.0, 0.0, 0.0, 0.0, 0.0, 0.0, 0.0, 0.0, 0.0, 0.0, 0.0, 3.0, 3.0, 0.0, 0.0, 0.0, 0.0, 2.0, 2.0, 2.0, 0.0, 0.0, 0.0, 0.0, 0.0, 0.0, 0.0, 0.0, 0.0, 0.0, 0.0, 0.0, 0.0, 0.0, 2.0, 0.0, 2.0, 0.0, 0.0, 2.0, 2.0, 0.0, 2.0, 0.0, 0.0, 0.0, 0.0, 0.0, 0.0, 3.0, 0.0, 2.0, 0.0, 2.0, 2.0, 0.0, 0.0, 2.0, 0.0, 0.0, 0.0, 0.0, 0.0, 0.0, 0.0, 2.0, 0.0, 2.0, 0.0, 2.0, 0.0, 2.0, 0.0, 4.0, 2.0, 0.0, 2.0, 0.0, 0.0, 0.0, 0.0, 2.0, 0.0, 0.0, 0.0, 0.0, 0.0, 3.0, 3.0, 3.0, 0.0, 0.0, 0.0, 0.0, 0.0, 0.0, 0.0, 0.0, 0.0, 0.0, 2.0, 0.0, 0.0, 0.0, 2.0, 0.0, 0.0, 0.0, 0.0, 2.0, 2.0, 3.0, 3.0, 0.0, 3.0, 0.0, 0.0, 2.0, 0.0, 2.0, 0.0, 0.0, 2.0, 0.0, 0.0, 2.0, 0.0, 0.0, 0.0, 0.0, 2.0, 2.0, 2.0, 2.0, 2.0, 0.0, 2.0, 0.0, 0.0, 2.0, 0.0, 0.0, 0.0, 0.0, 2.0, 0.0, 0.0, 2.0, 0.0, 0.0, 2.0, 2.0, 0.0, 0.0, 0.0, 0.0, 4.0, 2.0, 2.0, 0.0, 0.0, 0.0, 0.0, 2.0, 3.0, 0.0, 4.0, 0.0, 0.0, 2.0, 0.0, 0.0, 2.0, 0.0, 2.0, 2.0, 2.0, 0.0, 0.0, 2.0, 0.0, 2.0, 2.0, 0.0, 2.0, 2.0, 0.0, 0.0, 0.0, 0.0, 2.0, 2.0, 0.0, 0.0, 2.0, 0.0, 2.0, 0.0, 0.0, 0.0, 3.0, 3.0, 0.0, 0.0, 0.0, 0.0, 0.0, 0.0, 4.0, 0.0, 2.0, 2.0, 0.0, 0.0, 3.0, 0.0, 3.0, 3.0, 3.0, 0.0, 0.0, 2.0, 0.0, 0.0, 0.0, 0.0, 2.0, 2.0, 2.0, 0.0, 2.0, 3.0, 0.0, 0.0, 0.0, 0.0, 0.0, 0.0, 0.0, 0.0, 2.0, 0.0, 0.0, 0.0, 2.0, 2.0, 0.0, 0.0, 0.0, 0.0, 2.0, 0.0, 0.0, 0.0, 2.0, 0.0, 2.0, 0.0, 0.0, 2.0, 2.0, 0.0, 2.0, 2.0, 0.0, 0.0, 0.0, 0.0, 0.0, 0.0, 0.0, 0.0, 2.0, 2.0, 0.0, 3.0, 0.0, 0.0, 0.0, 0.0, 2.0, 4.0, 2.0, 0.0, 0.0, 2.0, 4.0, 0.0, 0.0, 0.0, 0.0, 0.0, 2.0, 2.0, 0.0, 0.0, 0.0, 0.0, 0.0, 3.0, 0.0, 4.0, 3.0, 0.0, 0.0, 0.0, 0.0, 0.0, 2.0, 3.0, 0.0, 0.0, 0.0, 2.0, 2.0, 0.0, 2.0, 2.0, 0.0, 0.0, 0.0, 0.0, 0.0, 2.0, 0.0, 0.0, 0.0, 0.0, 3.0, 2.0, 2.0, 2.0, 0.0, 0.0, 0.0, 0.0, 0.0, 0.0, 0.0, 2.0, 0.0, 0.0, 2.0, 0.0, 0.0, 2.0, 0.0, 0.0, 0.0, 2.0, 0.0, 0.0, 0.0, 0.0, 0.0, 2.0, 2.0, 2.0, 0.0, 2.0, 0.0, 0.0, 0.0, 2.0, 0.0, 0.0, 0.0, 0.0, 0.0, 0.0, 0.0, 0.0, 0.0, 0.0, 0.0, 3.0, 0.0, 0.0, 2.0, 2.0, 0.0, 0.0, 0.0, 0.0, 2.0, 2.0, 0.0, 0.0, 0.0, 2.0, 2.0, 0.0, 2.0, 0.0, 2.0, 2.0, 0.0, 3.0, 0.0, 0.0, 2.0, 2.0, 0.0, 0.0, 0.0, 2.0, 0.0, 2.0, 2.0, 0.0, 0.0, 0.0, 2.0, 2.0, 2.0, 2.0, 0.0, 0.0, 0.0, 0.0, 3.0, 3.0, 2.0, 0.0, 2.0, 0.0, 0.0, 0.0, 0.0, 0.0, 2.0, 4.0, 0.0, 0.0, 0.0, 2.0, 0.0, 0.0, 3.0, 0.0, 3.0, 2.0, 3.0, 0.0, 0.0, 0.0, 0.0, 2.0, 0.0, 0.0, 0.0, 2.0, 2.0, 4.0, 3.0, 2.0, 0.0, 0.0, 0.0, 0.0, 0.0, 3.0, 0.0, 0.0, 0.0, 0.0, 0.0, 0.0, 0.0, 0.0, 0.0, 4.0, 0.0, 2.0, 3.0, 2.0, 0.0, 2.0, 2.0, 0.0, 0.0, 0.0, 0.0, 2.0, 0.0, 2.0, 0.0, 0.0, 0.0, 0.0, 0.0, 3.0, 0.0, 2.0, 0.0, 2.0, 4.0, 0.0, 0.0, 0.0, 0.0, 2.0, 3.0, 0.0, 0.0, 3.0, 0.0, 3.0, 2.0, 0.0, 0.0, 0.0, 0.0, 0.0, 0.0, 2.0, 0.0, 3.0, 0.0, 0.0, 0.0, 0.0, 2.0, 0.0, 0.0, 0.0, 0.0, 2.0, 2.0, 0.0, 0.0, 0.0, 2.0, 0.0, 2.0, 0.0, 3.0, 0.0, 2.0, 0.0, 2.0, 2.0, 0.0, 2.0, 2.0, 2.0, 2.0, 2.0, 2.0, 0.0, 0.0, 0.0, 0.0, 0.0, 0.0, 2.0, 2.0, 0.0, 0.0, 3.0, 0.0, 2.0, 0.0, 0.0, 0.0, 2.0, 0.0, 0.0, 0.0, 4.0, 0.0, 0.0, 0.0, 0.0, 4.0, 2.0, 0.0, 2.0, 0.0, 0.0, 0.0, 2.0, 0.0, 0.0, 2.0, 0.0, 0.0, 0.0, 0.0, 0.0, 2.0, 0.0, 0.0, 0.0, 0.0, 0.0, 0.0, 2.0, 0.0, 0.0, 0.0, 3.0, 0.0, 0.0, 0.0, 0.0, 0.0, 3.0, 0.0, 0.0, 0.0, 0.0, 0.0, 0.0, 0.0, 0.0, 0.0, 0.0, 0.0, 0.0, 2.0, 0.0, 2.0, 0.0, 0.0, 0.0, 4.0, 2.0, 4.0, 0.0, 0.0, 2.0, 0.0, 0.0, 0.0, 0.0, 0.0, 3.0, 0.0, 0.0, 0.0, 0.0, 0.0, 0.0, 2.0, 0.0, 0.0, 2.0, 0.0, 0.0, 3.0, 0.0, 0.0, 2.0, 2.0, 0.0, 2.0, 0.0, 0.0, 2.0, 0.0, 2.0, 0.0, 0.0, 2.0, 0.0, 2.0, 0.0, 0.0, 2.0, 3.0, 0.0, 2.0, 0.0, 0.0, 2.0, 2.0, 2.0, 0.0, 0.0, 4.0, 0.0, 3.0, 0.0, 0.0, 3.0, 0.0, 0.0, 0.0, 0.0, 0.0, 0.0, 2.0, 0.0, 0.0, 2.0, 0.0, 0.0, 0.0, 0.0, 0.0, 0.0, 2.0, 0.0, 0.0, 2.0, 0.0, 2.0, 2.0, 2.0, 0.0, 0.0, 0.0, 0.0, 0.0, 0.0, 3.0, 0.0, 3.0, 0.0, 4.0, 2.0, 2.0, 0.0, 0.0, 0.0, 0.0, 3.0, 0.0, 2.0, 0.0, 2.0, 0.0, 0.0, 0.0, 0.0, 0.0, 0.0, 0.0, 0.0, 0.0, 2.0, 0.0, 0.0, 0.0, 0.0, 2.0, 0.0, 0.0, 0.0, 0.0, 0.0, 0.0, 2.0, 0.0, 0.0, 3.0, 2.0, 0.0, 0.0, 0.0, 0.0, 0.0, 0.0, 0.0, 0.0, 0.0, 2.0, 0.0, 2.0, 0.0, 0.0, 0.0, 0.0, 0.0, 0.0, 0.0, 0.0, 2.0, 0.0, 4.0, 0.0, 2.0, 2.0, 0.0, 2.0, 0.0, 0.0, 0.0, 2.0, 0.0, 0.0, 0.0, 0.0, 0.0, 0.0, 0.0, 3.0, 0.0, 2.0, 0.0, 0.0, 0.0, 0.0, 0.0, 3.0, 2.0, 0.0, 0.0, 0.0, 0.0, 0.0, 0.0, 3.0, 0.0, 2.0, 0.0, 2.0, 0.0, 0.0, 0.0, 0.0, 0.0, 3.0, 0.0, 2.0, 2.0, 0.0, 0.0, 0.0, 0.0, 2.0, 3.0, 2.0, 0.0, 0.0, 2.0, 3.0, 2.0, 0.0, 2.0, 0.0, 0.0, 0.0, 0.0, 2.0, 3.0, 0.0, 0.0, 0.0, 2.0, 0.0, 0.0, 4.0, 0.0, 0.0, 0.0, 0.0, 0.0, 0.0, 0.0, 0.0, 0.0, 2.0, 2.0, 0.0, 0.0, 2.0, 0.0, 0.0, 0.0, 0.0, 0.0, 0.0, 0.0, 0.0, 0.0, 2.0, 0.0, 0.0, 0.0, 0.0, 0.0, 3.0, 3.0, 2.0, 0.0, 2.0, 0.0, 0.0, 0.0, 2.0, 0.0, 0.0, 0.0, 0.0, 0.0, 0.0, 2.0, 0.0, 0.0, 2.0, 2.0, 2.0, 0.0, 0.0, 2.0, 2.0, 0.0, 2.0, 0.0, 0.0, 0.0, 0.0, 0.0, 2.0, 3.0, 2.0, 2.0, 0.0, 2.0, 0.0, 3.0, 0.0, 0.0, 0.0, 2.0, 0.0, 0.0, 0.0, 0.0, 0.0, 2.0, 2.0, 0.0, 0.0, 0.0, 0.0, 2.0, 3.0, 0.0, 0.0, 3.0, 0.0, 0.0, 0.0, 4.0, 0.0, 3.0, 0.0, 0.0, 0.0, 3.0, 2.0, 2.0, 2.0, 3.0, 0.0, 2.0, 0.0, 2.0, 0.0, 0.0, 0.0, 2.0, 2.0, 0.0, 0.0, 2.0, 0.0, 0.0, 0.0, 3.0, 0.0, 0.0, 2.0, 0.0, 2.0, 4.0, 0.0, 0.0, 2.0, 0.0, 0.0, 0.0, 0.0, 2.0, 0.0, 2.0, 0.0, 0.0, 2.0, 0.0, 0.0, 4.0, 0.0, 2.0, 2.0, 0.0, 0.0, 2.0, 3.0, 3.0, 0.0, 0.0, 0.0, 0.0, 0.0, 0.0, 0.0, 3.0, 0.0, 2.0, 0.0, 2.0, 0.0, 0.0, 0.0, 2.0, 2.0, 0.0, 0.0, 2.0, 0.0, 0.0, 2.0, 3.0, 0.0, 0.0, 0.0, 0.0, 0.0, 0.0, 0.0, 0.0, 0.0, 2.0, 0.0, 0.0, 0.0, 0.0, 0.0, 0.0, 0.0, 0.0, 0.0, 0.0, 0.0, 0.0, 2.0, 0.0, 0.0, 3.0, 2.0, 0.0, 3.0, 0.0, 0.0, 2.0, 2.0, 0.0, 2.0, 0.0, 0.0, 0.0, 0.0, 0.0, 0.0, 0.0, 0.0, 2.0, 0.0, 0.0, 2.0, 0.0, 0.0, 0.0, 0.0, 4.0, 0.0, 4.0, 3.0, 0.0, 0.0, 3.0, 3.0, 3.0, 0.0, 0.0, 2.0, 0.0, 0.0, 4.0, 0.0, 0.0, 0.0, 0.0, 0.0, 3.0, 0.0, 2.0, 0.0, 3.0, 0.0, 0.0, 0.0, 0.0, 0.0, 0.0, 0.0, 0.0, 0.0, 0.0, 2.0, 0.0, 0.0, 0.0, 0.0, 0.0, 0.0, 0.0, 0.0, 4.0, 2.0, 0.0, 0.0, 2.0, 2.0, 0.0, 0.0, 0.0, 0.0, 0.0, 2.0, 0.0, 3.0, 3.0, 0.0, 0.0, 0.0, 4.0, 2.0, 0.0, 2.0, 0.0, 0.0, 0.0, 0.0, 0.0, 2.0, 0.0, 0.0, 0.0, 0.0, 0.0, 0.0, 0.0, 2.0, 0.0, 0.0, 0.0, 0.0, 0.0, 0.0, 0.0, 2.0, 0.0, 2.0, 0.0, 3.0, 0.0, 3.0, 0.0, 0.0, 0.0, 0.0, 0.0, 0.0, 0.0, 0.0, 0.0, 2.0, 3.0, 0.0, 0.0, 2.0, 0.0, 0.0, 2.0, 0.0, 0.0, 2.0, 2.0, 0.0, 3.0, 2.0, 0.0, 0.0, 0.0, 0.0, 0.0, 0.0, 2.0, 0.0, 0.0, 0.0, 3.0, 0.0, 0.0, 0.0, 0.0, 0.0, 2.0, 0.0, 2.0, 2.0, 0.0, 2.0, 0.0, 0.0, 2.0, 0.0, 0.0, 2.0, 0.0, 0.0, 0.0, 4.0, 0.0, 2.0, 0.0, 0.0, 0.0, 2.0, 0.0, 0.0, 0.0, 0.0, 0.0, 4.0, 3.0, 0.0, 2.0, 2.0, 2.0, 3.0, 0.0, 2.0, 0.0, 0.0, 0.0, 0.0, 0.0, 0.0, 0.0, 0.0, 0.0, 0.0, 0.0, 0.0, 2.0, 0.0, 2.0, 0.0, 0.0, 2.0, 2.0, 2.0, 3.0, 0.0, 0.0, 0.0, 0.0, 3.0, 0.0, 0.0, 0.0, 0.0, 0.0, 0.0, 0.0, 2.0, 0.0, 0.0, 2.0, 0.0, 0.0, 0.0, 4.0, 0.0, 2.0, 3.0, 2.0, 0.0, 2.0, 0.0, 2.0, 2.0, 2.0, 0.0, 2.0, 2.0, 2.0, 0.0, 0.0, 2.0, 0.0, 4.0, 0.0, 2.0, 0.0, 0.0, 2.0, 0.0, 2.0, 0.0, 0.0, 0.0, 0.0, 0.0, 3.0, 2.0, 0.0, 2.0, 0.0, 2.0, 0.0, 2.0, 0.0, 0.0, 0.0, 2.0, 0.0, 2.0, 2.0, 0.0, 2.0, 0.0, 2.0, 2.0, 0.0, 3.0, 0.0, 0.0, 0.0, 2.0, 0.0, 0.0, 2.0, 0.0, 2.0, 2.0, 2.0, 0.0, 0.0, 0.0, 0.0, 0.0, 2.0, 2.0, 0.0, 0.0, 2.0, 4.0, 0.0, 2.0, 0.0, 0.0, 4.0, 0.0, 2.0, 0.0, 0.0, 0.0, 0.0, 0.0, 0.0, 0.0, 2.0, 2.0, 0.0, 0.0, 0.0, 0.0, 0.0, 0.0, 0.0, 0.0, 2.0, 0.0, 2.0, 2.0, 0.0, 0.0, 0.0, 0.0, 0.0, 0.0, 0.0, 4.0, 2.0, 0.0, 0.0, 0.0, 0.0, 0.0, 0.0, 2.0, 4.0, 2.0, 0.0, 2.0, 0.0, 2.0, 2.0, 0.0, 0.0, 0.0, 0.0, 0.0, 0.0, 0.0, 2.0, 0.0, 0.0, 0.0, 2.0, 2.0, 0.0, 0.0, 0.0, 0.0, 3.0, 3.0, 3.0, 0.0, 0.0, 0.0, 0.0, 0.0, 2.0, 0.0, 0.0, 0.0, 2.0, 0.0, 0.0, 0.0, 3.0, 0.0, 2.0, 0.0, 0.0, 0.0, 0.0, 0.0, 2.0, 2.0, 2.0, 0.0, 0.0, 2.0, 0.0, 2.0, 2.0, 0.0, 2.0, 0.0, 0.0, 0.0, 3.0, 0.0, 0.0, 0.0, 2.0, 0.0, 0.0, 2.0, 3.0, 0.0, 2.0, 0.0, 0.0, 0.0, 0.0, 0.0, 0.0, 0.0, 2.0, 0.0, 0.0, 0.0, 4.0, 0.0, 0.0, 0.0, 0.0, 0.0, 2.0, 2.0, 0.0, 2.0, 0.0, 0.0, 2.0, 0.0, 0.0, 0.0, 0.0, 0.0, 0.0, 2.0, 0.0, 0.0, 2.0, 0.0, 0.0, 2.0, 2.0, 0.0, 0.0, 2.0, 0.0, 0.0, 2.0, 0.0, 0.0, 3.0, 2.0, 0.0, 2.0, 0.0, 2.0, 2.0, 0.0, 0.0, 0.0, 0.0, 0.0, 0.0, 0.0, 0.0, 0.0, 0.0, 0.0, 0.0, 0.0, 0.0, 3.0, 0.0, 0.0, 0.0, 0.0, 0.0, 2.0, 0.0, 3.0, 0.0, 2.0, 0.0, 2.0, 2.0, 2.0, 0.0, 0.0, 0.0, 2.0, 0.0, 0.0, 0.0, 0.0, 0.0, 0.0, 2.0, 0.0, 0.0, 0.0, 2.0, 3.0, 0.0, 0.0, 0.0, 4.0, 3.0, 0.0, 0.0, 0.0, 2.0, 3.0, 0.0, 2.0, 0.0, 2.0, 0.0, 0.0, 0.0, 0.0, 2.0, 0.0, 0.0, 0.0, 2.0, 0.0, 0.0, 0.0, 0.0, 0.0, 2.0, 0.0, 0.0, 0.0, 0.0, 0.0, 0.0, 2.0, 0.0, 0.0, 0.0, 0.0, 0.0, 0.0, 0.0, 0.0, 0.0, 3.0, 0.0, 2.0, 0.0, 2.0, 0.0, 0.0, 2.0, 2.0, 2.0, 2.0, 0.0, 2.0, 0.0, 0.0, 0.0, 2.0, 0.0, 0.0, 0.0, 0.0, 0.0, 2.0, 0.0, 2.0, 0.0, 0.0, 0.0, 2.0, 2.0, 0.0, 0.0, 2.0, 2.0, 0.0, 0.0, 0.0, 0.0, 0.0, 0.0, 0.0, 0.0, 0.0, 2.0, 2.0, 2.0, 0.0, 2.0, 0.0, 0.0, 0.0, 0.0, 0.0, 0.0, 0.0, 3.0, 2.0, 0.0, 0.0, 3.0, 0.0, 2.0, 2.0, 2.0, 2.0, 3.0, 0.0, 4.0, 0.0, 0.0, 0.0, 0.0, 0.0, 2.0, 2.0, 0.0, 0.0, 0.0, 2.0, 2.0, 2.0, 0.0, 0.0, 3.0, 0.0, 0.0, 0.0, 0.0, 2.0, 2.0, 0.0, 2.0, 0.0, 2.0, 2.0, 0.0, 3.0, 0.0, 3.0, 0.0, 2.0, 0.0, 3.0, 0.0, 0.0, 0.0, 0.0, 0.0, 0.0, 0.0, 2.0, 0.0, 0.0, 0.0, 0.0, 0.0, 0.0, 0.0, 0.0, 2.0, 2.0, 0.0, 0.0, 2.0, 0.0, 0.0, 0.0, 2.0, 0.0, 0.0, 0.0, 0.0, 0.0, 0.0, 2.0, 0.0, 0.0, 2.0, 0.0, 0.0, 2.0, 0.0, 3.0, 0.0, 0.0, 2.0, 2.0, 2.0, 0.0, 0.0, 0.0, 2.0, 0.0, 0.0, 0.0, 0.0, 0.0, 0.0, 0.0, 0.0, 2.0, 2.0, 0.0, 0.0, 0.0, 2.0, 0.0, 0.0, 0.0, 0.0, 2.0, 3.0, 0.0, 2.0, 2.0, 0.0, 0.0, 2.0, 2.0, 0.0, 0.0, 0.0, 2.0, 0.0, 2.0, 0.0, 0.0, 0.0, 0.0, 0.0, 2.0, 0.0, 2.0, 0.0, 0.0, 2.0, 0.0, 0.0, 3.0, 0.0, 0.0, 0.0, 0.0, 0.0, 2.0, 0.0, 0.0, 0.0, 0.0, 2.0, 2.0, 0.0, 3.0, 0.0, 3.0, 2.0, 0.0, 2.0, 2.0, 0.0, 0.0, 0.0, 0.0, 2.0, 0.0, 0.0, 0.0, 0.0, 0.0, 0.0, 0.0, 0.0, 0.0, 0.0, 3.0, 0.0, 2.0, 0.0, 4.0, 2.0, 4.0, 0.0, 0.0, 2.0, 2.0, 0.0, 3.0, 2.0, 3.0, 0.0, 0.0, 0.0, 0.0, 3.0, 0.0, 0.0, 0.0, 0.0, 2.0, 0.0, 0.0, 0.0, 0.0, 0.0, 0.0, 0.0, 4.0, 0.0, 2.0, 0.0, 0.0, 0.0, 0.0, 0.0, 0.0, 0.0, 0.0, 2.0, 0.0, 0.0, 2.0, 2.0, 0.0, 0.0, 0.0, 2.0, 3.0, 0.0, 0.0, 3.0, 0.0, 0.0, 0.0, 0.0, 2.0, 0.0, 0.0, 3.0, 2.0, 0.0, 0.0, 2.0, 0.0, 0.0, 0.0, 0.0, 0.0, 2.0, 0.0, 2.0, 2.0, 0.0, 0.0, 0.0, 3.0, 2.0, 0.0, 3.0, 0.0, 0.0, 0.0, 0.0, 2.0, 2.0, 0.0, 0.0, 2.0, 0.0, 0.0, 0.0, 2.0, 0.0, 2.0, 0.0, 3.0, 0.0, 0.0, 3.0, 2.0, 2.0, 0.0, 0.0, 0.0, 2.0, 3.0, 0.0, 0.0, 0.0, 0.0, 0.0, 0.0, 0.0, 2.0, 0.0, 0.0, 2.0, 3.0, 2.0, 3.0, 0.0, 2.0, 0.0, 2.0, 2.0, 3.0, 0.0, 2.0, 0.0, 0.0, 0.0, 0.0, 2.0, 4.0, 0.0, 0.0, 0.0, 2.0, 0.0, 2.0, 2.0, 0.0, 0.0, 0.0, 0.0, 2.0, 2.0, 0.0, 2.0, 3.0, 0.0, 2.0, 0.0, 0.0, 0.0, 2.0, 0.0, 0.0, 2.0, 2.0, 0.0, 0.0, 2.0, 0.0, 0.0, 0.0, 0.0, 0.0, 0.0, 0.0, 0.0, 2.0, 2.0, 0.0, 0.0, 0.0, 2.0, 0.0, 0.0, 0.0, 2.0, 0.0, 2.0, 0.0, 0.0, 0.0, 0.0, 2.0, 2.0, 2.0, 0.0, 3.0, 3.0, 0.0, 3.0, 0.0, 0.0, 0.0, 0.0, 2.0, 0.0, 0.0, 2.0, 0.0, 0.0, 0.0, 0.0, 3.0, 2.0, 2.0, 0.0, 0.0, 0.0, 2.0, 0.0, 2.0, 0.0, 2.0, 0.0, 2.0, 2.0, 0.0, 0.0, 2.0, 0.0, 0.0, 0.0, 0.0, 0.0, 0.0, 0.0, 0.0, 0.0, 2.0, 0.0, 0.0, 0.0, 2.0, 0.0, 2.0, 2.0, 3.0, 0.0, 0.0, 0.0, 2.0, 2.0, 2.0, 0.0, 0.0, 2.0, 2.0, 3.0, 0.0, 0.0, 2.0, 0.0, 0.0, 0.0, 0.0, 0.0, 0.0, 0.0, 2.0, 2.0, 0.0, 0.0, 2.0, 0.0, 3.0, 0.0, 0.0, 3.0, 3.0, 0.0, 0.0, 2.0, 2.0, 0.0, 2.0, 0.0, 2.0, 0.0, 2.0, 0.0, 0.0, 0.0, 2.0, 0.0, 0.0, 0.0, 2.0, 0.0, 0.0, 0.0, 2.0, 0.0, 3.0, 3.0, 3.0, 0.0, 2.0, 0.0, 2.0, 0.0, 0.0, 0.0, 0.0, 2.0, 3.0, 0.0, 3.0, 0.0, 2.0, 0.0, 2.0, 0.0, 0.0, 3.0, 2.0, 0.0, 0.0, 2.0, 0.0, 0.0, 0.0, 0.0, 2.0, 3.0, 0.0, 0.0, 3.0, 2.0, 0.0, 3.0, 0.0, 0.0, 0.0, 3.0, 0.0, 3.0, 2.0, 0.0, 2.0, 0.0, 2.0, 0.0, 0.0, 2.0, 0.0, 2.0, 2.0, 0.0, 0.0, 0.0, 0.0, 0.0, 0.0, 2.0, 0.0, 2.0, 3.0, 3.0, 0.0, 0.0, 2.0, 0.0, 4.0, 3.0, 0.0, 2.0, 2.0, 0.0, 2.0, 0.0, 0.0, 4.0, 3.0, 2.0, 2.0, 0.0, 2.0, 0.0, 0.0, 2.0, 0.0, 2.0, 0.0, 3.0, 0.0, 4.0, 3.0, 0.0, 0.0, 0.0, 3.0, 2.0, 2.0, 2.0, 0.0, 0.0, 0.0, 2.0, 2.0, 0.0, 0.0, 0.0, 2.0, 0.0, 0.0, 3.0, 0.0, 2.0, 2.0, 0.0, 0.0, 0.0, 2.0, 0.0, 2.0, 0.0, 2.0, 0.0, 0.0, 0.0, 0.0, 2.0, 2.0, 2.0, 3.0, 0.0, 0.0, 2.0, 0.0, 0.0, 0.0, 0.0, 0.0, 2.0, 2.0, 0.0, 0.0, 0.0, 0.0, 0.0, 0.0, 2.0, 0.0, 4.0, 2.0, 0.0, 0.0, 0.0, 0.0, 3.0, 0.0, 0.0, 0.0, 0.0, 0.0, 0.0, 2.0, 0.0, 0.0, 2.0, 4.0, 0.0, 4.0, 0.0, 0.0, 0.0, 0.0, 0.0, 0.0, 0.0, 2.0, 2.0, 2.0, 0.0, 2.0, 3.0, 0.0, 0.0, 0.0, 0.0, 2.0, 0.0, 2.0, 0.0, 0.0, 0.0]\n",
      "\n",
      "\n",
      "Column: night_mainland\n",
      "Lower_Bound: -18.0\n",
      "Upper_Bound: 31.0\n",
      "Outliers: []\n",
      "\n",
      "\n",
      "Column: night_zanzibar\n",
      "Lower_Bound: -9.0\n",
      "Upper_Bound: 12.0\n",
      "Outliers: []\n",
      "\n",
      "\n",
      "Column: total_nights\n",
      "Lower_Bound: -13.0\n",
      "Upper_Bound: 29.0\n",
      "Outliers: [31.0, 30.0, 30.0, 30.0, 30.0, 30.0, 31.0, 30.0, 30.0, 30.0, 31.0, 30.0, 30.0, 31.0, 30.0, 30.0, 30.0]\n",
      "\n",
      "\n",
      "Column: tour_duration\n",
      "Lower_Bound: -0.03561643835616439\n",
      "Upper_Bound: 0.07945205479452055\n",
      "Outliers: [0.08493150684931507, 0.0821917808219178, 0.0821917808219178, 0.0821917808219178, 0.0821917808219178, 0.0821917808219178, 0.08493150684931507, 0.0821917808219178, 0.0821917808219178, 0.0821917808219178, 0.08493150684931507, 0.0821917808219178, 0.0821917808219178, 0.08493150684931507, 0.0821917808219178, 0.0821917808219178, 0.0821917808219178]\n",
      "\n",
      "\n",
      "Column: total_people\n",
      "Lower_Bound: -2.0\n",
      "Upper_Bound: 5.0\n",
      "Outliers: [7.0, 6.0, 6.0, 6.0, 7.0, 6.0, 6.0, 7.0, 6.0, 6.0, 6.0, 6.0, 6.0, 6.0, 7.0, 6.0, 6.0, 6.0, 6.0, 6.0, 6.0, 6.0, 6.0, 6.0, 7.0, 7.0, 6.0, 6.0, 6.0, 6.0, 6.0, 6.0, 6.0, 6.0, 6.0, 6.0, 6.0, 7.0, 6.0, 7.0, 6.0, 6.0, 6.0, 6.0, 6.0, 6.0, 6.0, 6.0, 6.0, 6.0, 6.0, 6.0, 6.0, 7.0, 6.0, 6.0, 6.0, 6.0, 6.0, 7.0, 6.0, 6.0, 6.0, 6.0, 6.0, 6.0, 6.0, 6.0, 7.0, 6.0, 6.0, 6.0, 6.0, 6.0, 6.0, 6.0, 6.0, 6.0, 6.0, 7.0, 7.0, 6.0, 6.0, 6.0, 6.0, 6.0, 6.0, 6.0, 6.0, 6.0, 6.0, 6.0, 6.0, 7.0, 6.0, 6.0, 6.0, 6.0, 6.0, 6.0, 7.0, 6.0, 7.0, 6.0, 6.0, 6.0, 6.0, 6.0, 6.0, 6.0, 6.0, 6.0, 6.0, 6.0, 6.0, 6.0, 6.0, 6.0, 7.0, 6.0, 6.0, 6.0, 6.0, 6.0, 6.0, 6.0, 6.0, 7.0, 6.0, 7.0, 6.0, 6.0, 6.0, 6.0, 7.0, 6.0, 6.0, 6.0, 6.0, 6.0, 6.0, 6.0, 6.0, 6.0, 6.0, 6.0, 6.0, 7.0, 6.0]\n",
      "\n",
      "\n",
      "Column: av_tp_per_agroup\n",
      "Lower_Bound: -0.9384330184478933\n",
      "Upper_Bound: 4.469809059966037\n",
      "Outliers: []\n"
     ]
    },
    {
     "name": "stdout",
     "output_type": "stream",
     "text": [
      "\n",
      "\n",
      "Column: average_stay_per_person\n",
      "Lower_Bound: -0.43000000000000005\n",
      "Upper_Bound: 0.9000000000000001\n",
      "Outliers: [1.33, 1.0, 1.0, 1.0, 1.0, 1.0, 2.0, 1.4, 1.0, 1.0, 1.0, 1.0, 1.0, 1.0, 1.33, 1.0, 1.0, 1.5, 2.0, 1.0, 1.0, 2.0, 1.0, 1.0, 1.0, 1.0, 1.0, 1.0, 1.0, 1.25, 2.0, 1.0, 1.0, 1.0, 1.0, 1.0, 1.0, 1.0, 1.0, 1.0, 1.0, 1.0, 2.0, 1.0, 2.0, 1.0, 1.0, 1.0, 1.0, 1.0, 1.0, 2.0, 1.0, 1.0, 2.0, 1.0, 1.0, 1.0, 1.0, 1.0, 2.0, 1.0, 1.0, 1.0, 1.0, 1.5, 1.0, 1.0, 1.0, 2.0, 2.0, 1.0, 1.0, 1.0, 1.0, 1.0, 1.0, 1.0, 1.0, 4.0, 1.0, 1.0, 1.33, 1.0, 1.0, 1.5, 1.0, 2.0, 1.0, 1.0, 1.0, 1.0, 1.5, 2.0, 1.0, 1.0, 1.33, 1.0, 1.0, 1.0, 1.0, 1.0, 1.0, 1.33, 1.0, 1.0, 1.0, 1.0, 1.0, 1.0, 1.0, 1.33, 1.0, 2.0, 1.0, 1.0, 1.0, 1.0, 2.0, 1.0, 1.5, 1.0, 1.0, 1.0, 1.0, 1.0, 1.0, 1.0, 2.0, 2.0, 1.5, 1.0, 2.0, 1.0, 1.0, 1.0, 1.5, 1.0, 1.0, 1.33, 1.0, 1.0, 1.0, 1.0, 1.0, 1.0, 1.0, 1.0, 1.0, 1.0, 1.0, 1.0, 1.0, 1.5, 1.0, 1.0, 1.0, 1.0, 2.0, 1.0, 1.0, 1.0, 1.5, 1.0, 1.2, 1.67, 1.0, 1.5, 1.0, 1.0, 1.0, 1.0, 1.0, 1.0, 1.33, 1.67, 1.0, 1.0, 1.0, 1.0, 1.0, 1.0, 4.0, 1.0, 2.0, 1.0, 1.0, 1.0, 1.5, 1.75, 1.0, 1.0, 1.0, 2.5, 1.0, 3.0, 1.0, 3.0, 1.0, 1.0, 1.0, 1.33, 1.0, 1.67, 1.0, 1.5, 1.0, 1.5, 1.0, 1.0, 1.0, 1.0, 1.0, 1.0, 1.0, 1.0, 1.0, 1.0, 1.0, 1.0, 2.0, 1.0, 2.0, 2.0, 1.0, 1.0, 1.0, 1.0, 1.0, 1.0, 1.2, 1.0, 1.0, 1.0, 1.0, 1.0, 2.5, 1.0, 1.0, 1.0, 1.0, 1.0, 1.0, 1.0, 1.0, 2.0, 1.0, 1.0, 1.0, 1.0, 1.0, 1.0, 1.0, 1.0, 1.0, 1.0, 1.0, 1.0, 1.0, 1.0, 1.0, 1.0, 1.0, 1.0, 1.0, 1.0, 1.0, 1.0, 1.0, 1.0, 1.0, 1.0, 1.0, 1.0, 1.0, 1.0, 1.0, 1.0, 1.0, 1.0, 1.0, 1.0, 1.0, 1.0, 1.0, 1.0, 2.0, 1.33, 2.0, 1.0, 2.0, 1.0, 1.0, 1.0, 1.0, 1.0, 1.0, 1.0, 1.0, 1.5, 2.0, 1.0, 1.0, 1.0, 1.0, 1.0, 1.0, 1.0, 1.0, 2.0, 1.0, 1.0, 1.0, 2.0, 1.0, 1.0, 1.0, 2.0, 1.0, 1.0, 1.0, 1.33, 3.0, 1.0, 1.0, 1.0, 1.0, 2.0, 1.0, 1.0, 1.0, 1.0, 2.0, 1.67, 1.5, 2.0, 1.0, 1.0, 1.0, 2.0, 1.0, 1.0, 1.5, 1.0, 1.0, 1.0, 1.0, 2.0, 1.0, 2.5, 1.0, 1.0, 1.0, 1.5, 2.0, 1.0, 1.0, 1.33, 1.0, 2.0, 1.0, 1.0, 1.0, 1.0, 1.0, 1.0, 1.33, 1.0, 1.0, 1.0, 1.0, 1.0, 1.0, 1.0, 1.5, 1.0, 1.0, 1.0, 1.0, 1.0, 1.0, 1.0, 1.0, 1.0, 1.5, 2.0, 2.0, 1.0, 1.0, 1.0, 2.0, 1.0, 1.0, 1.0, 1.0, 2.0, 1.0, 1.0, 1.33, 1.0, 1.0, 1.0, 1.0, 1.0, 1.0, 1.33, 1.0, 1.33, 1.0, 1.0, 1.0, 1.0, 1.0, 1.0, 1.0, 1.0, 2.0, 1.0, 1.0, 1.0, 1.0, 1.0, 1.0, 1.0, 1.0, 1.0, 2.0, 1.0, 1.33, 1.0, 1.0, 1.0, 2.0, 1.0, 1.0, 1.0, 1.0, 1.0, 2.0, 1.0, 3.0, 1.5, 1.25, 1.0, 1.0, 1.0, 1.0, 1.0, 1.0, 2.0, 1.0, 1.0, 1.0, 1.0, 1.0, 1.5, 3.0, 1.25, 1.0, 1.0, 1.0, 1.0, 1.0, 1.0, 1.5, 1.0, 1.0, 1.2, 1.0, 1.0, 1.5, 1.0, 3.0, 1.33, 1.0, 1.0, 2.0, 2.0, 2.0, 1.0, 1.0, 1.0, 1.0, 1.0, 2.0, 1.0, 1.0, 4.0, 1.0, 2.0, 2.0, 1.0, 1.5, 1.0, 1.0, 1.0, 1.0, 1.0, 1.0, 1.0, 1.0, 1.0, 1.0, 1.0, 1.0, 1.0, 1.0, 1.0, 1.0, 2.0, 1.0, 1.0, 1.0, 1.0, 1.0, 1.0, 1.0, 1.0, 1.0, 2.0, 1.0, 1.0, 1.0, 1.0, 1.0, 1.0, 1.0, 1.0, 1.5, 1.0, 1.0, 1.0, 1.0, 1.0, 1.0, 1.0, 1.0, 1.0, 1.33, 1.33, 1.0, 1.0, 1.5, 1.2, 1.0, 1.0, 2.0, 3.0, 2.0, 1.0, 1.33, 1.0, 1.0, 1.0, 2.0, 1.0, 1.0, 1.0, 1.33, 1.0, 1.0, 1.0, 1.0, 1.0, 1.0, 1.0, 1.0, 1.0, 1.5, 1.25, 1.0, 1.0, 1.0, 4.0, 2.0, 1.0, 1.0, 2.0, 1.5, 1.0, 1.0, 1.0, 1.0, 1.0, 2.0, 2.5, 2.0, 1.0, 1.5, 1.0, 1.0, 1.0, 1.0, 2.0, 1.0, 1.0, 1.0, 1.67, 1.0, 3.0, 1.0, 2.0, 1.0, 1.0, 1.0, 1.0, 1.0, 1.0, 1.0, 2.0, 1.0, 1.0, 1.0, 1.0, 1.0, 1.0, 1.0, 1.0, 2.33, 1.0, 1.0, 1.0, 4.0, 1.25, 2.0, 1.5, 1.5, 1.0, 1.0, 1.0, 1.0, 1.0, 1.0, 1.0, 1.0, 1.0, 1.0, 1.0, 1.67, 1.0, 1.0, 1.0, 1.0, 2.0, 1.0, 2.0, 2.0, 2.0, 1.0, 1.0, 1.0, 1.0, 1.0, 1.0, 1.0, 3.0, 1.0, 4.0, 1.0, 1.0, 1.0, 1.0, 1.0, 1.0, 1.0, 1.0, 1.0, 1.0, 1.0, 1.0, 1.0, 1.0, 1.0, 1.0, 1.5, 1.0, 1.0, 1.0, 1.0, 1.0, 1.33, 1.0, 4.0, 1.0, 1.0, 1.0, 1.0, 1.0, 1.0, 1.0, 1.0, 1.0, 2.0, 1.0, 1.5, 1.5, 1.0, 1.0, 2.0, 1.0, 1.0, 1.0, 1.0, 1.0, 1.0, 1.0, 1.0, 1.0, 1.0, 2.0, 1.0, 1.0, 1.0, 1.0, 1.0, 1.0, 1.5, 1.0, 1.0, 1.0, 1.0, 1.0, 1.0, 2.0, 1.0, 1.0, 1.0, 1.0, 1.0, 1.0, 2.0, 1.0, 1.0, 1.0, 1.0, 2.0, 1.0, 1.0, 1.75, 1.0, 1.0, 1.0, 1.0, 1.0, 2.0, 1.0, 1.0, 4.0, 1.0, 2.0, 1.0, 1.0, 1.0, 1.0, 1.0, 1.0, 1.25, 1.0, 1.0, 1.0, 1.0, 1.0, 1.33, 1.0, 1.0, 1.0, 1.0, 1.0, 1.0, 2.0, 1.0, 1.0, 1.0, 1.0, 1.0, 1.0, 1.0, 1.0, 1.0, 4.0, 1.0, 1.0, 1.0, 2.0, 1.0, 1.0, 1.0, 1.0, 2.0, 1.0, 2.0, 1.0, 1.0, 1.0, 1.0, 1.0, 1.0, 1.0, 2.0, 1.5, 2.0, 1.0, 3.0, 1.0, 1.0, 1.0, 1.0, 1.0, 3.0, 1.0, 2.0, 1.0, 1.0, 1.0, 1.0, 1.0, 1.0, 1.0, 1.0, 1.0, 1.5, 1.0, 1.0, 1.0, 1.2, 1.5, 1.0, 1.0, 1.0, 2.0, 4.0, 1.0, 1.0, 1.0, 1.0, 1.0, 2.0, 1.0, 1.0, 1.0, 1.0, 1.0, 1.0, 1.0, 1.5, 2.5, 1.33, 2.0, 1.0, 1.0, 1.0, 1.0, 1.0, 1.0, 2.0, 1.0, 1.0, 3.0, 1.0, 1.0, 1.0, 1.0, 1.0, 1.0, 1.0, 1.0, 1.0, 2.0, 1.0, 2.0, 1.0, 2.0, 1.0, 1.0, 1.0, 1.0, 1.0, 1.25, 1.0, 4.0, 1.0, 1.0, 1.0, 3.0, 1.0, 1.33, 1.0, 1.0, 1.33, 1.0, 2.0, 1.0, 1.5, 3.0, 1.0, 1.0, 1.0, 1.0, 1.0, 1.33, 1.0, 1.0, 1.0, 1.0, 1.0, 1.0, 1.5, 1.5, 1.0, 1.0, 1.0, 1.0, 1.0, 1.0, 1.0, 1.5, 1.67, 1.0, 1.33, 1.0, 1.0, 1.0, 2.0, 1.0, 1.0, 1.0, 1.0, 1.0, 1.0, 1.0, 1.0, 1.0, 1.0, 1.0, 1.0, 1.0, 1.0, 4.0, 1.0, 1.33, 1.0, 1.0, 1.0, 1.0, 1.0, 1.0, 1.0, 1.33, 1.0, 1.0, 1.0, 1.33, 1.0, 1.0, 1.0, 1.0, 1.0, 1.0, 1.0, 1.0, 1.5, 3.0, 1.0, 1.0, 1.0, 1.0, 1.0, 1.0, 1.0, 2.0, 2.0, 1.0, 1.0, 1.0, 1.0, 1.0, 1.5, 1.0, 1.0, 1.25, 1.0, 1.0, 1.0, 1.0, 2.0, 1.0, 1.0, 2.0, 2.0, 1.0, 1.0, 1.0, 1.0, 1.0, 1.0, 1.0, 1.0, 1.0, 1.0, 1.0, 1.0, 1.0, 1.0, 1.5, 1.0, 1.0, 3.0, 1.0, 1.0, 1.0, 1.0, 1.25, 2.0, 1.0, 1.0, 1.0, 1.0, 1.0, 1.0, 1.0, 1.0, 1.0, 1.0, 1.0, 1.0, 1.0, 1.0, 1.0, 2.0, 1.0, 2.0, 1.0, 1.0, 1.0, 1.5, 1.0, 2.0, 1.0, 1.0, 2.0, 2.0, 1.0, 1.0, 1.0, 1.0, 1.0, 4.0, 1.0, 1.0, 2.0, 1.0, 1.0, 1.5, 1.5, 2.0, 1.0, 2.0, 1.0, 2.0, 1.0, 1.0, 1.0, 1.0, 1.0, 1.0, 2.0, 1.0, 1.0, 1.0, 1.0, 1.2, 1.0, 1.0, 1.0, 1.0, 1.0, 1.0, 2.0, 1.0, 1.0, 1.0, 1.0, 1.0, 1.0, 1.0, 1.0, 1.0, 1.0, 2.0, 1.5, 1.0, 1.0, 2.0, 1.0, 1.0, 1.0, 1.0, 1.0, 2.0, 1.33, 1.0, 1.0, 1.5, 1.0, 2.0, 1.0, 1.0, 1.0, 1.0, 1.0, 1.0, 1.0, 1.0, 1.33, 2.0, 1.0, 1.0, 1.0, 1.0, 1.0, 1.0, 1.0, 1.0, 1.0, 1.0, 2.0, 1.0, 1.0, 1.0, 1.0, 1.0, 1.0, 1.0, 2.0, 2.0, 1.0, 1.0, 1.0, 3.0, 1.0, 1.0, 1.0, 2.0, 1.0, 1.0, 2.0, 2.0]\n",
      "\n",
      "\n",
      "\n",
      "Outliers Succesfully replaced with median.\n",
      "Wall time: 1.46 s\n"
     ]
    }
   ],
   "source": [
    "%%time\n",
    "check_outliers(df,factor=3, strategy='median', inplace=True)"
   ]
  },
  {
   "cell_type": "code",
   "execution_count": null,
   "id": "47fc6f6a",
   "metadata": {},
   "outputs": [],
   "source": [
    "mapping = {'0-17':1,\n",
    "          '18-24':2 ,\n",
    "          '25-44':3 ,\n",
    "          '45-64':4,\n",
    "          '65-100':5}\n",
    "\n",
    "df['age_group'] = df['age_group'].map(mapping).astype(np.float64)\n",
    "df.head()"
   ]
  },
  {
   "cell_type": "code",
   "execution_count": null,
   "id": "f100661e",
   "metadata": {},
   "outputs": [],
   "source": [
    "obs_vars = df.groupby('main_activity').mean().var()[0]\n",
    "print(\"Observed mean: \", df.groupby('main_activity').mean().values.ravel())"
   ]
  },
  {
   "cell_type": "code",
   "execution_count": null,
   "id": "6d0eaef9",
   "metadata": {},
   "outputs": [],
   "source": [
    "print(\"Observed Variance: \", obs_vars)"
   ]
  },
  {
   "cell_type": "code",
   "execution_count": null,
   "id": "b198826e",
   "metadata": {
    "collapsed": true,
    "jupyter": {
     "outputs_hidden": true
    },
    "tags": []
   },
   "outputs": [],
   "source": [
    "def perm_test(df):\n",
    "    df = train.copy()\n",
    "    df['total_people'] = np.random.permutation(df['total_male'].values)\n",
    "    \n",
    "    return df.groupby('main_activity').mean().var()[0]\n",
    "\n",
    "perm_variance = [perm_test(df) for _ in range(3000)]\n",
    "print('Pr(Prob)', np.mean([var > obs_vars for var in perm_variance]))"
   ]
  },
  {
   "cell_type": "code",
   "execution_count": null,
   "id": "05caade5-7ace-41fc-b902-ed5507afee49",
   "metadata": {},
   "outputs": [],
   "source": [
    "df.to_csv('new.csv')"
   ]
  },
  {
   "cell_type": "code",
   "execution_count": null,
   "id": "88728207-54eb-40b3-82c3-a7263363665b",
   "metadata": {},
   "outputs": [],
   "source": []
  }
 ],
 "metadata": {
  "kernelspec": {
   "display_name": "Python 3 (ipykernel)",
   "language": "python",
   "name": "python3"
  },
  "language_info": {
   "codemirror_mode": {
    "name": "ipython",
    "version": 3
   },
   "file_extension": ".py",
   "mimetype": "text/x-python",
   "name": "python",
   "nbconvert_exporter": "python",
   "pygments_lexer": "ipython3",
   "version": "3.9.16"
  }
 },
 "nbformat": 4,
 "nbformat_minor": 5
}
