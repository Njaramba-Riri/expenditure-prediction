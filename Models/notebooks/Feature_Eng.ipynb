{
 "cells": [
  {
   "cell_type": "code",
   "execution_count": 124,
   "id": "8a9c759d-af0e-4668-b56d-a9de4e5db315",
   "metadata": {},
   "outputs": [],
   "source": [
    "%matplotlib inline\n",
    "import matplotlib.pyplot as plt\n",
    "import seaborn as sns\n",
    "import pandas as pd\n",
    "import numpy as np\n",
    "\n",
    "import warnings\n",
    "warnings.filterwarnings(\"ignore\")\n",
    "\n",
    "import itertools\n",
    "from scipy.stats import chi2_contingency \n",
    "from scipy.stats.mstats import winsorize\n",
    "from scipy.sparse import csr_matrix\n",
    "\n",
    "from sklearn.compose import ColumnTransformer\n",
    "from sklearn.preprocessing import MinMaxScaler, StandardScaler, RobustScaler\n",
    "from sklearn.decomposition  import TruncatedSVD\n",
    "from sklearn.impute import SimpleImputer\n",
    "from sklearn.pipeline import make_pipeline, Pipeline\n",
    "from sklearn.preprocessing import LabelEncoder, OrdinalEncoder, OneHotEncoder\n",
    "from sklearn.utils import resample\n",
    "from sklearn.model_selection import StratifiedKFold, GridSearchCV, train_test_split, cross_val_score\n",
    "from sklearn.feature_extraction.text import  HashingVectorizer\n",
    "from sklearn.linear_model import LogisticRegression, SGDClassifier\n",
    "from sklearn.ensemble import RandomForestClassifier\n",
    "from sklearn.neighbors import KNeighborsClassifier\n",
    "from sklearn.svm import LinearSVC, SVC \n",
    "from sklearn.naive_bayes import GaussianNB, MultinomialNB\n",
    "from sklearn.discriminant_analysis import LinearDiscriminantAnalysis as LDA\n",
    "from sklearn.metrics import classification_report, confusion_matrix, roc_auc_score\n",
    "\n",
    "import xgboost\n",
    "from xgboost import XGBClassifier\n",
    "\n",
    "#from decision import plot_decision_regions\n",
    "#from pipelines import extra_features"
   ]
  },
  {
   "cell_type": "code",
   "execution_count": 210,
   "id": "961203c4-acfa-41ce-8648-de248143bc65",
   "metadata": {},
   "outputs": [],
   "source": [
    "train=pd.read_csv('../Datasets/Train.csv')\n",
    "test=pd.read_csv('../datasets/test.csv')"
   ]
  },
  {
   "cell_type": "code",
   "execution_count": 211,
   "id": "8ee85a93-570d-4517-b277-d47234e9ca93",
   "metadata": {},
   "outputs": [
    {
     "name": "stdout",
     "output_type": "stream",
     "text": [
      "(18506, 21) (6169, 20)\n"
     ]
    }
   ],
   "source": [
    "print(train.shape, test.shape)"
   ]
  },
  {
   "cell_type": "code",
   "execution_count": 212,
   "id": "e977c4e4-c6ce-4928-9e37-588e1df3af28",
   "metadata": {
    "scrolled": true
   },
   "outputs": [
    {
     "data": {
      "text/html": [
       "<div>\n",
       "<style scoped>\n",
       "    .dataframe tbody tr th:only-of-type {\n",
       "        vertical-align: middle;\n",
       "    }\n",
       "\n",
       "    .dataframe tbody tr th {\n",
       "        vertical-align: top;\n",
       "    }\n",
       "\n",
       "    .dataframe thead th {\n",
       "        text-align: right;\n",
       "    }\n",
       "</style>\n",
       "<table border=\"1\" class=\"dataframe\">\n",
       "  <thead>\n",
       "    <tr style=\"text-align: right;\">\n",
       "      <th></th>\n",
       "      <th>Tour_ID</th>\n",
       "      <th>country</th>\n",
       "      <th>age_group</th>\n",
       "      <th>travel_with</th>\n",
       "      <th>total_female</th>\n",
       "      <th>total_male</th>\n",
       "      <th>purpose</th>\n",
       "      <th>main_activity</th>\n",
       "      <th>info_source</th>\n",
       "      <th>tour_arrangement</th>\n",
       "      <th>...</th>\n",
       "      <th>package_accomodation</th>\n",
       "      <th>package_food</th>\n",
       "      <th>package_transport_tz</th>\n",
       "      <th>package_sightseeing</th>\n",
       "      <th>package_guided_tour</th>\n",
       "      <th>package_insurance</th>\n",
       "      <th>night_mainland</th>\n",
       "      <th>night_zanzibar</th>\n",
       "      <th>first_trip_tz</th>\n",
       "      <th>cost_category</th>\n",
       "    </tr>\n",
       "  </thead>\n",
       "  <tbody>\n",
       "    <tr>\n",
       "      <th>0</th>\n",
       "      <td>tour_id1hffseyw</td>\n",
       "      <td>ITALY</td>\n",
       "      <td>45-64</td>\n",
       "      <td>With Children</td>\n",
       "      <td>0.0</td>\n",
       "      <td>2.0</td>\n",
       "      <td>Visiting Friends and Relatives</td>\n",
       "      <td>Beach Tourism</td>\n",
       "      <td>Friends, relatives</td>\n",
       "      <td>Package Tour</td>\n",
       "      <td>...</td>\n",
       "      <td>Yes</td>\n",
       "      <td>Yes</td>\n",
       "      <td>Yes</td>\n",
       "      <td>No</td>\n",
       "      <td>No</td>\n",
       "      <td>No</td>\n",
       "      <td>0</td>\n",
       "      <td>7</td>\n",
       "      <td>Yes</td>\n",
       "      <td>High Cost</td>\n",
       "    </tr>\n",
       "    <tr>\n",
       "      <th>1</th>\n",
       "      <td>tour_idnacd7zag</td>\n",
       "      <td>UNITED KINGDOM</td>\n",
       "      <td>25-44</td>\n",
       "      <td>With Spouse</td>\n",
       "      <td>1.0</td>\n",
       "      <td>1.0</td>\n",
       "      <td>Leisure and Holidays</td>\n",
       "      <td>Wildlife Tourism</td>\n",
       "      <td>Travel agent, tour operator</td>\n",
       "      <td>Package Tour</td>\n",
       "      <td>...</td>\n",
       "      <td>Yes</td>\n",
       "      <td>Yes</td>\n",
       "      <td>Yes</td>\n",
       "      <td>No</td>\n",
       "      <td>No</td>\n",
       "      <td>No</td>\n",
       "      <td>0</td>\n",
       "      <td>7</td>\n",
       "      <td>Yes</td>\n",
       "      <td>High Cost</td>\n",
       "    </tr>\n",
       "  </tbody>\n",
       "</table>\n",
       "<p>2 rows × 21 columns</p>\n",
       "</div>"
      ],
      "text/plain": [
       "           Tour_ID         country age_group    travel_with  total_female  \\\n",
       "0  tour_id1hffseyw           ITALY     45-64  With Children           0.0   \n",
       "1  tour_idnacd7zag  UNITED KINGDOM     25-44    With Spouse           1.0   \n",
       "\n",
       "   total_male                         purpose     main_activity  \\\n",
       "0         2.0  Visiting Friends and Relatives     Beach Tourism   \n",
       "1         1.0            Leisure and Holidays  Wildlife Tourism   \n",
       "\n",
       "                   info_source tour_arrangement  ... package_accomodation  \\\n",
       "0           Friends, relatives     Package Tour  ...                  Yes   \n",
       "1  Travel agent, tour operator     Package Tour  ...                  Yes   \n",
       "\n",
       "  package_food package_transport_tz package_sightseeing package_guided_tour  \\\n",
       "0          Yes                  Yes                  No                  No   \n",
       "1          Yes                  Yes                  No                  No   \n",
       "\n",
       "  package_insurance night_mainland  night_zanzibar  first_trip_tz  \\\n",
       "0                No              0               7            Yes   \n",
       "1                No              0               7            Yes   \n",
       "\n",
       "  cost_category  \n",
       "0     High Cost  \n",
       "1     High Cost  \n",
       "\n",
       "[2 rows x 21 columns]"
      ]
     },
     "execution_count": 212,
     "metadata": {},
     "output_type": "execute_result"
    }
   ],
   "source": [
    "train.head(2)"
   ]
  },
  {
   "cell_type": "code",
   "execution_count": 213,
   "id": "fca35c7a",
   "metadata": {},
   "outputs": [
    {
     "data": {
      "text/html": [
       "<div>\n",
       "<style scoped>\n",
       "    .dataframe tbody tr th:only-of-type {\n",
       "        vertical-align: middle;\n",
       "    }\n",
       "\n",
       "    .dataframe tbody tr th {\n",
       "        vertical-align: top;\n",
       "    }\n",
       "\n",
       "    .dataframe thead th {\n",
       "        text-align: right;\n",
       "    }\n",
       "</style>\n",
       "<table border=\"1\" class=\"dataframe\">\n",
       "  <thead>\n",
       "    <tr style=\"text-align: right;\">\n",
       "      <th></th>\n",
       "      <th>Tour_ID</th>\n",
       "      <th>country</th>\n",
       "      <th>age_group</th>\n",
       "      <th>travel_with</th>\n",
       "      <th>total_female</th>\n",
       "      <th>total_male</th>\n",
       "      <th>purpose</th>\n",
       "      <th>main_activity</th>\n",
       "      <th>info_source</th>\n",
       "      <th>tour_arrangement</th>\n",
       "      <th>...</th>\n",
       "      <th>package_accomodation</th>\n",
       "      <th>package_food</th>\n",
       "      <th>package_transport_tz</th>\n",
       "      <th>package_sightseeing</th>\n",
       "      <th>package_guided_tour</th>\n",
       "      <th>package_insurance</th>\n",
       "      <th>night_mainland</th>\n",
       "      <th>night_zanzibar</th>\n",
       "      <th>first_trip_tz</th>\n",
       "      <th>cost_category</th>\n",
       "    </tr>\n",
       "  </thead>\n",
       "  <tbody>\n",
       "    <tr>\n",
       "      <th>6167</th>\n",
       "      <td>tour_idx80vbw5a</td>\n",
       "      <td>CANADA</td>\n",
       "      <td>18-24</td>\n",
       "      <td>Alone</td>\n",
       "      <td>1.0</td>\n",
       "      <td>0.0</td>\n",
       "      <td>Visiting Friends and Relatives</td>\n",
       "      <td>Wildlife Tourism</td>\n",
       "      <td>Friends, relatives</td>\n",
       "      <td>Independent</td>\n",
       "      <td>...</td>\n",
       "      <td>No</td>\n",
       "      <td>No</td>\n",
       "      <td>No</td>\n",
       "      <td>No</td>\n",
       "      <td>No</td>\n",
       "      <td>No</td>\n",
       "      <td>21</td>\n",
       "      <td>0</td>\n",
       "      <td>No</td>\n",
       "      <td>-1</td>\n",
       "    </tr>\n",
       "    <tr>\n",
       "      <th>6168</th>\n",
       "      <td>tour_id8fkkwytb</td>\n",
       "      <td>KENYA</td>\n",
       "      <td>45-64</td>\n",
       "      <td>NaN</td>\n",
       "      <td>0.0</td>\n",
       "      <td>1.0</td>\n",
       "      <td>Meetings and Conference</td>\n",
       "      <td>Wildlife Tourism</td>\n",
       "      <td>Friends, relatives</td>\n",
       "      <td>Independent</td>\n",
       "      <td>...</td>\n",
       "      <td>No</td>\n",
       "      <td>No</td>\n",
       "      <td>No</td>\n",
       "      <td>No</td>\n",
       "      <td>No</td>\n",
       "      <td>No</td>\n",
       "      <td>4</td>\n",
       "      <td>0</td>\n",
       "      <td>Yes</td>\n",
       "      <td>-1</td>\n",
       "    </tr>\n",
       "  </tbody>\n",
       "</table>\n",
       "<p>2 rows × 21 columns</p>\n",
       "</div>"
      ],
      "text/plain": [
       "              Tour_ID country age_group travel_with  total_female  total_male  \\\n",
       "6167  tour_idx80vbw5a  CANADA     18-24       Alone           1.0         0.0   \n",
       "6168  tour_id8fkkwytb   KENYA     45-64         NaN           0.0         1.0   \n",
       "\n",
       "                             purpose     main_activity         info_source  \\\n",
       "6167  Visiting Friends and Relatives  Wildlife Tourism  Friends, relatives   \n",
       "6168         Meetings and Conference  Wildlife Tourism  Friends, relatives   \n",
       "\n",
       "     tour_arrangement  ... package_accomodation package_food  \\\n",
       "6167      Independent  ...                   No           No   \n",
       "6168      Independent  ...                   No           No   \n",
       "\n",
       "     package_transport_tz package_sightseeing package_guided_tour  \\\n",
       "6167                   No                  No                  No   \n",
       "6168                   No                  No                  No   \n",
       "\n",
       "     package_insurance night_mainland  night_zanzibar  first_trip_tz  \\\n",
       "6167                No             21               0             No   \n",
       "6168                No              4               0            Yes   \n",
       "\n",
       "     cost_category  \n",
       "6167            -1  \n",
       "6168            -1  \n",
       "\n",
       "[2 rows x 21 columns]"
      ]
     },
     "execution_count": 213,
     "metadata": {},
     "output_type": "execute_result"
    }
   ],
   "source": [
    "test.loc[:, \"cost_category\"] = -1\n",
    "test.tail(2)"
   ]
  },
  {
   "cell_type": "code",
   "execution_count": 214,
   "id": "4521e644",
   "metadata": {},
   "outputs": [
    {
     "data": {
      "text/plain": [
       "array(['ITALY', 'UNITED KINGDOM', 'UNITED STATES OF AMERICA', 'RWANDA',\n",
       "       'FRANCE', 'SWITZERLAND', 'NIGERIA', 'AUSTRALIA', 'SPAIN',\n",
       "       'DENMARK', 'BELGIUM', 'ZAMBIA', 'NETHERLANDS', 'CANADA', 'INDIA',\n",
       "       'NORWAY', 'ZIMBABWE', 'MORROCO', 'CHINA', 'GERMANY',\n",
       "       'SOUTH AFRICA', 'JAPAN', 'UNITED ARAB EMIRATES', 'RUSSIA', 'KENYA',\n",
       "       'GREECE', 'POLAND', 'AUSTRIA', 'MALAYSIA', 'CZECH REPUBLIC',\n",
       "       'KOREA', 'DRC', 'CYPRUS', 'KUWAIT', 'BRAZIL', 'CHILE', 'BULGARIA',\n",
       "       'ISRAEL', 'NEW ZEALAND', 'UGANDA', 'IRELAND', 'SWEDEN', 'QATAR',\n",
       "       'CONGO', 'BURUNDI', 'FINLAND', 'GHANA', 'OMAN', 'LEBANON',\n",
       "       'LUXEMBOURG', 'IVORY COAST', 'NAMIBIA', 'ROMANIA', 'THAILAND',\n",
       "       'SUDAN', 'SINGAPORE', 'PORTUGAL', 'MALAWI', 'MALTA', 'EGYPT',\n",
       "       'PAKISTAN', 'TANZANIA', 'ARGENTINA', 'SRI LANKA', 'BOTSWANA',\n",
       "       'VIETNAM', 'BERMUDA', 'TAIWAN', 'SENEGAL', 'AFGHANISTAN',\n",
       "       'COLOMBIA', 'JAMAICA', 'BAHRAIN', 'COSTA RICA', 'COMOROS',\n",
       "       'URUGUAY', 'SAUDI ARABIA', 'ETHIOPIA', 'PHILIPPINES', 'ARMENIA',\n",
       "       'SCOTLAND', 'MEXICO', 'MADAGASCAR', 'SERBIA', 'SLOVAKIA', 'IRAN',\n",
       "       'SWAZILAND', 'PERU', 'LITHUANIA', 'ALGERIA', 'SEYCHELLES',\n",
       "       'MOZAMBIQUE', 'UKRAINE', 'NEPAL', 'CROATIA', 'SOMALIA', 'LIBERIA',\n",
       "       'MAURITIUS', 'GAMBIA', 'ECUADOR', 'LATVIA', 'MACEDONIA', 'LESOTHO',\n",
       "       'HUNGARY', 'ICELAND', 'VENEZUELA', 'ANGOLA', 'SLOVENIA',\n",
       "       'CAPE VERDE', 'CAMEROON', 'TRINIDAD AND TOBAGO',\n",
       "       'PAPUA NEW GUINEA', 'TURKEY', 'INDONESIA', 'ESTONIA', 'BOSNIA',\n",
       "       'YEMEN', 'NIGER', 'ERITREA', 'GEORGIA', 'BANGLADESH', 'BARBADOS',\n",
       "       'TUNISIA', 'DJIBOUTI', 'DOMINICA', 'CAMBODIA', 'MONTENEGRO',\n",
       "       'JORDAN'], dtype=object)"
      ]
     },
     "execution_count": 214,
     "metadata": {},
     "output_type": "execute_result"
    }
   ],
   "source": [
    "train['country'].replace({'UAE': \"UNITED ARAB EMIRATES\",\n",
    "                          'SWIZERLAND': 'SWITZERLAND',\n",
    "                          'MALT': 'MALTA',\n",
    "                          'COSTARICA': 'COSTA RICA',\n",
    "                          'COMORO': 'COMOROS',\n",
    "                          'SAUD ARABIA': 'SAUDI ARABIA',\n",
    "                          'PHILIPINES': 'PHILIPPINES',\n",
    "                          'ECUADO': 'ECUADOR',\n",
    "                          'UKRAIN':'UKRAINE',\n",
    "                          'SOMALI':'SOMALIA',\n",
    "                          'TRINIDAD TOBACCO': 'TRINIDAD AND TOBAGO',\n",
    "                          'MONECASQUE': 'MOZAMBIQUE',\n",
    "                          'DJIBOUT': 'DJIBOUTI',\n",
    "                          'BURGARIA': 'BULGARIA',\n",
    "                          'United Kingdom of Great Britain and Northern Ireland': 'UNITED KINGDOM'\n",
    "                                }, inplace=True)\n",
    "\n",
    "train['country'].unique()"
   ]
  },
  {
   "cell_type": "code",
   "execution_count": 215,
   "id": "8980c592",
   "metadata": {},
   "outputs": [
    {
     "data": {
      "text/plain": [
       "0"
      ]
     },
     "execution_count": 215,
     "metadata": {},
     "output_type": "execute_result"
    }
   ],
   "source": [
    "#Checking if there's conflicting Tourist Ids in both datasets.\n",
    "train['Tour_ID'].isin(test['Tour_ID']).sum()"
   ]
  },
  {
   "cell_type": "code",
   "execution_count": 216,
   "id": "1e3e0636",
   "metadata": {
    "scrolled": false
   },
   "outputs": [],
   "source": [
    "df = pd.concat(objs=[train, test], axis=0).reset_index(drop=True)\n",
    "df['main_activity'].replace({\"Widlife Tourism\": \"Wildlife Tourism\"}, inplace=True)\n",
    "df['age_group'].replace({'<18':'1-17', '65+':'65-84'}, inplace=True)\n",
    "#df.set_index('Tour_ID', inplace=True)\n",
    "df.drop_duplicates(keep='first', inplace=True)"
   ]
  },
  {
   "cell_type": "code",
   "execution_count": 217,
   "id": "3b58478b",
   "metadata": {},
   "outputs": [],
   "source": [
    "for col in df.select_dtypes(np.number):\n",
    "    if col != ('total_male'):\n",
    "        quartiles = np.percentile(df[col].fillna(df[col].median()), [25, 50, 75])\n",
    "        mu = quartiles[1]\n",
    "        sig = 0.74 * (quartiles[2] - quartiles[0])\n",
    "        df.loc[:, col] = df.query(f'({col}.values > @mu - 3 * @sig) & ({col}.values < @mu + 3 * @sig)')\n",
    "    else:\n",
    "        df.loc[:, col] = df.query(f'({col}.values > @mu - 5 * @sig) & ({col}.values < @mu + 5 * @sig)')  \n",
    "\n",
    "    df.loc[:, col] = df[col].fillna(df[col].median())"
   ]
  },
  {
   "cell_type": "code",
   "execution_count": 218,
   "id": "dfd46146",
   "metadata": {},
   "outputs": [
    {
     "data": {
      "text/plain": [
       "array(['ITALY', 'UNITED KINGDOM', 'UNITED STATES OF AMERICA', ...,\n",
       "       'CANADA', 'CANADA', 'KENYA'], dtype=object)"
      ]
     },
     "execution_count": 218,
     "metadata": {},
     "output_type": "execute_result"
    }
   ],
   "source": [
    "df.country.values"
   ]
  },
  {
   "cell_type": "code",
   "execution_count": 223,
   "id": "08865d99",
   "metadata": {},
   "outputs": [
    {
     "data": {
      "text/html": [
       "<div>\n",
       "<style scoped>\n",
       "    .dataframe tbody tr th:only-of-type {\n",
       "        vertical-align: middle;\n",
       "    }\n",
       "\n",
       "    .dataframe tbody tr th {\n",
       "        vertical-align: top;\n",
       "    }\n",
       "\n",
       "    .dataframe thead th {\n",
       "        text-align: right;\n",
       "    }\n",
       "</style>\n",
       "<table border=\"1\" class=\"dataframe\">\n",
       "  <thead>\n",
       "    <tr style=\"text-align: right;\">\n",
       "      <th></th>\n",
       "      <th>country</th>\n",
       "      <th>region</th>\n",
       "      <th>sub-region</th>\n",
       "    </tr>\n",
       "  </thead>\n",
       "  <tbody>\n",
       "    <tr>\n",
       "      <th>0</th>\n",
       "      <td>Afghanistan</td>\n",
       "      <td>Asia</td>\n",
       "      <td>Southern Asia</td>\n",
       "    </tr>\n",
       "    <tr>\n",
       "      <th>1</th>\n",
       "      <td>Åland Islands</td>\n",
       "      <td>Europe</td>\n",
       "      <td>Northern Europe</td>\n",
       "    </tr>\n",
       "    <tr>\n",
       "      <th>2</th>\n",
       "      <td>Albania</td>\n",
       "      <td>Europe</td>\n",
       "      <td>Southern Europe</td>\n",
       "    </tr>\n",
       "    <tr>\n",
       "      <th>3</th>\n",
       "      <td>Algeria</td>\n",
       "      <td>Africa</td>\n",
       "      <td>Northern Africa</td>\n",
       "    </tr>\n",
       "    <tr>\n",
       "      <th>4</th>\n",
       "      <td>American Samoa</td>\n",
       "      <td>Oceania</td>\n",
       "      <td>Polynesia</td>\n",
       "    </tr>\n",
       "  </tbody>\n",
       "</table>\n",
       "</div>"
      ],
      "text/plain": [
       "          country   region       sub-region\n",
       "0     Afghanistan     Asia    Southern Asia\n",
       "1   Åland Islands   Europe  Northern Europe\n",
       "2         Albania   Europe  Southern Europe\n",
       "3         Algeria   Africa  Northern Africa\n",
       "4  American Samoa  Oceania        Polynesia"
      ]
     },
     "execution_count": 223,
     "metadata": {},
     "output_type": "execute_result"
    }
   ],
   "source": [
    "countries = pd.read_csv(\"../Datasets/all.csv\")\n",
    "countries.drop(columns=['alpha-2', 'alpha-3', 'country-code', 'iso_3166-2', 'intermediate-region', 'region-code',\n",
    "                        'sub-region-code', 'intermediate-region-code'], axis=1, inplace=True)\n",
    "countries.rename({'name':'country'}, axis=1, inplace=True)\n",
    "countries.country = countries['country'].str.title()\n",
    "countries.head()"
   ]
  },
  {
   "cell_type": "code",
   "execution_count": 224,
   "id": "befb8487",
   "metadata": {},
   "outputs": [],
   "source": [
    "df['country'] = df['country'].str.title()"
   ]
  },
  {
   "cell_type": "code",
   "execution_count": 225,
   "id": "d13685c3",
   "metadata": {},
   "outputs": [
    {
     "data": {
      "text/plain": [
       "array(['Italy', 'United Kingdom', 'United States Of America', ...,\n",
       "       'Canada', 'Canada', 'Kenya'], dtype=object)"
      ]
     },
     "execution_count": 225,
     "metadata": {},
     "output_type": "execute_result"
    }
   ],
   "source": [
    "df.country.values"
   ]
  },
  {
   "cell_type": "code",
   "execution_count": 226,
   "id": "3543d03f",
   "metadata": {},
   "outputs": [],
   "source": [
    "for country in countries:\n",
    "    if countries['country'].isin(df['country']).all():\n",
    "        print(country)"
   ]
  },
  {
   "cell_type": "code",
   "execution_count": 227,
   "id": "c9487790",
   "metadata": {},
   "outputs": [
    {
     "data": {
      "text/plain": [
       "126"
      ]
     },
     "execution_count": 227,
     "metadata": {},
     "output_type": "execute_result"
    }
   ],
   "source": [
    "countries['country'].isin(df['country']).sum()"
   ]
  },
  {
   "cell_type": "code",
   "execution_count": 228,
   "id": "b8b9d45a",
   "metadata": {
    "scrolled": true
   },
   "outputs": [
    {
     "data": {
      "text/html": [
       "<div>\n",
       "<style scoped>\n",
       "    .dataframe tbody tr th:only-of-type {\n",
       "        vertical-align: middle;\n",
       "    }\n",
       "\n",
       "    .dataframe tbody tr th {\n",
       "        vertical-align: top;\n",
       "    }\n",
       "\n",
       "    .dataframe thead th {\n",
       "        text-align: right;\n",
       "    }\n",
       "</style>\n",
       "<table border=\"1\" class=\"dataframe\">\n",
       "  <thead>\n",
       "    <tr style=\"text-align: right;\">\n",
       "      <th></th>\n",
       "      <th>Tour_ID</th>\n",
       "      <th>country</th>\n",
       "      <th>age_group</th>\n",
       "      <th>travel_with</th>\n",
       "      <th>total_female</th>\n",
       "      <th>total_male</th>\n",
       "      <th>purpose</th>\n",
       "      <th>main_activity</th>\n",
       "      <th>info_source</th>\n",
       "      <th>tour_arrangement</th>\n",
       "      <th>...</th>\n",
       "      <th>package_transport_tz</th>\n",
       "      <th>package_sightseeing</th>\n",
       "      <th>package_guided_tour</th>\n",
       "      <th>package_insurance</th>\n",
       "      <th>night_mainland</th>\n",
       "      <th>night_zanzibar</th>\n",
       "      <th>first_trip_tz</th>\n",
       "      <th>cost_category</th>\n",
       "      <th>region</th>\n",
       "      <th>sub-region</th>\n",
       "    </tr>\n",
       "  </thead>\n",
       "  <tbody>\n",
       "    <tr>\n",
       "      <th>0</th>\n",
       "      <td>tour_id1hffseyw</td>\n",
       "      <td>Italy</td>\n",
       "      <td>45-64</td>\n",
       "      <td>With Children</td>\n",
       "      <td>0.0</td>\n",
       "      <td>2.0</td>\n",
       "      <td>Visiting Friends and Relatives</td>\n",
       "      <td>Beach Tourism</td>\n",
       "      <td>Friends, relatives</td>\n",
       "      <td>Package Tour</td>\n",
       "      <td>...</td>\n",
       "      <td>Yes</td>\n",
       "      <td>No</td>\n",
       "      <td>No</td>\n",
       "      <td>No</td>\n",
       "      <td>0.0</td>\n",
       "      <td>7.0</td>\n",
       "      <td>Yes</td>\n",
       "      <td>High Cost</td>\n",
       "      <td>Europe</td>\n",
       "      <td>Southern Europe</td>\n",
       "    </tr>\n",
       "    <tr>\n",
       "      <th>1</th>\n",
       "      <td>tour_idnacd7zag</td>\n",
       "      <td>United Kingdom</td>\n",
       "      <td>25-44</td>\n",
       "      <td>With Spouse</td>\n",
       "      <td>1.0</td>\n",
       "      <td>1.0</td>\n",
       "      <td>Leisure and Holidays</td>\n",
       "      <td>Wildlife Tourism</td>\n",
       "      <td>Travel agent, tour operator</td>\n",
       "      <td>Package Tour</td>\n",
       "      <td>...</td>\n",
       "      <td>Yes</td>\n",
       "      <td>No</td>\n",
       "      <td>No</td>\n",
       "      <td>No</td>\n",
       "      <td>0.0</td>\n",
       "      <td>7.0</td>\n",
       "      <td>Yes</td>\n",
       "      <td>High Cost</td>\n",
       "      <td>Europe</td>\n",
       "      <td>Northern Europe</td>\n",
       "    </tr>\n",
       "    <tr>\n",
       "      <th>2</th>\n",
       "      <td>tour_id62vz7e71</td>\n",
       "      <td>United States Of America</td>\n",
       "      <td>65-84</td>\n",
       "      <td>With Spouse</td>\n",
       "      <td>1.0</td>\n",
       "      <td>1.0</td>\n",
       "      <td>Leisure and Holidays</td>\n",
       "      <td>Wildlife Tourism</td>\n",
       "      <td>Travel agent, tour operator</td>\n",
       "      <td>Package Tour</td>\n",
       "      <td>...</td>\n",
       "      <td>Yes</td>\n",
       "      <td>Yes</td>\n",
       "      <td>Yes</td>\n",
       "      <td>No</td>\n",
       "      <td>6.0</td>\n",
       "      <td>6.0</td>\n",
       "      <td>Yes</td>\n",
       "      <td>Higher Cost</td>\n",
       "      <td>Americas</td>\n",
       "      <td>Northern America</td>\n",
       "    </tr>\n",
       "    <tr>\n",
       "      <th>3</th>\n",
       "      <td>tour_idrc76tzix</td>\n",
       "      <td>Rwanda</td>\n",
       "      <td>25-44</td>\n",
       "      <td>With Spouse and Children</td>\n",
       "      <td>3.0</td>\n",
       "      <td>1.0</td>\n",
       "      <td>Leisure and Holidays</td>\n",
       "      <td>Beach Tourism</td>\n",
       "      <td>Radio, TV, Web</td>\n",
       "      <td>Independent</td>\n",
       "      <td>...</td>\n",
       "      <td>No</td>\n",
       "      <td>No</td>\n",
       "      <td>No</td>\n",
       "      <td>No</td>\n",
       "      <td>3.0</td>\n",
       "      <td>0.0</td>\n",
       "      <td>No</td>\n",
       "      <td>Lower Cost</td>\n",
       "      <td>Africa</td>\n",
       "      <td>Sub-Saharan Africa</td>\n",
       "    </tr>\n",
       "    <tr>\n",
       "      <th>4</th>\n",
       "      <td>tour_idn723m0n9</td>\n",
       "      <td>United States Of America</td>\n",
       "      <td>45-64</td>\n",
       "      <td>Alone</td>\n",
       "      <td>0.0</td>\n",
       "      <td>1.0</td>\n",
       "      <td>Leisure and Holidays</td>\n",
       "      <td>Wildlife Tourism</td>\n",
       "      <td>Travel agent, tour operator</td>\n",
       "      <td>Package Tour</td>\n",
       "      <td>...</td>\n",
       "      <td>Yes</td>\n",
       "      <td>No</td>\n",
       "      <td>Yes</td>\n",
       "      <td>Yes</td>\n",
       "      <td>7.0</td>\n",
       "      <td>0.0</td>\n",
       "      <td>Yes</td>\n",
       "      <td>Higher Cost</td>\n",
       "      <td>Americas</td>\n",
       "      <td>Northern America</td>\n",
       "    </tr>\n",
       "  </tbody>\n",
       "</table>\n",
       "<p>5 rows × 23 columns</p>\n",
       "</div>"
      ],
      "text/plain": [
       "           Tour_ID                   country age_group  \\\n",
       "0  tour_id1hffseyw                     Italy     45-64   \n",
       "1  tour_idnacd7zag            United Kingdom     25-44   \n",
       "2  tour_id62vz7e71  United States Of America     65-84   \n",
       "3  tour_idrc76tzix                    Rwanda     25-44   \n",
       "4  tour_idn723m0n9  United States Of America     45-64   \n",
       "\n",
       "                travel_with  total_female  total_male  \\\n",
       "0             With Children           0.0         2.0   \n",
       "1               With Spouse           1.0         1.0   \n",
       "2               With Spouse           1.0         1.0   \n",
       "3  With Spouse and Children           3.0         1.0   \n",
       "4                     Alone           0.0         1.0   \n",
       "\n",
       "                          purpose     main_activity  \\\n",
       "0  Visiting Friends and Relatives     Beach Tourism   \n",
       "1            Leisure and Holidays  Wildlife Tourism   \n",
       "2            Leisure and Holidays  Wildlife Tourism   \n",
       "3            Leisure and Holidays     Beach Tourism   \n",
       "4            Leisure and Holidays  Wildlife Tourism   \n",
       "\n",
       "                   info_source tour_arrangement  ... package_transport_tz  \\\n",
       "0           Friends, relatives     Package Tour  ...                  Yes   \n",
       "1  Travel agent, tour operator     Package Tour  ...                  Yes   \n",
       "2  Travel agent, tour operator     Package Tour  ...                  Yes   \n",
       "3               Radio, TV, Web      Independent  ...                   No   \n",
       "4  Travel agent, tour operator     Package Tour  ...                  Yes   \n",
       "\n",
       "  package_sightseeing package_guided_tour package_insurance night_mainland  \\\n",
       "0                  No                  No                No            0.0   \n",
       "1                  No                  No                No            0.0   \n",
       "2                 Yes                 Yes                No            6.0   \n",
       "3                  No                  No                No            3.0   \n",
       "4                  No                 Yes               Yes            7.0   \n",
       "\n",
       "  night_zanzibar first_trip_tz  cost_category    region          sub-region  \n",
       "0            7.0           Yes      High Cost    Europe     Southern Europe  \n",
       "1            7.0           Yes      High Cost    Europe     Northern Europe  \n",
       "2            6.0           Yes    Higher Cost  Americas    Northern America  \n",
       "3            0.0            No     Lower Cost    Africa  Sub-Saharan Africa  \n",
       "4            0.0           Yes    Higher Cost  Americas    Northern America  \n",
       "\n",
       "[5 rows x 23 columns]"
      ]
     },
     "execution_count": 228,
     "metadata": {},
     "output_type": "execute_result"
    }
   ],
   "source": [
    "concat = df.merge(countries, how='left')\n",
    "concat.head()"
   ]
  },
  {
   "cell_type": "code",
   "execution_count": 229,
   "id": "77fa877a",
   "metadata": {},
   "outputs": [
    {
     "data": {
      "text/html": [
       "<div>\n",
       "<style scoped>\n",
       "    .dataframe tbody tr th:only-of-type {\n",
       "        vertical-align: middle;\n",
       "    }\n",
       "\n",
       "    .dataframe tbody tr th {\n",
       "        vertical-align: top;\n",
       "    }\n",
       "\n",
       "    .dataframe thead th {\n",
       "        text-align: right;\n",
       "    }\n",
       "</style>\n",
       "<table border=\"1\" class=\"dataframe\">\n",
       "  <thead>\n",
       "    <tr style=\"text-align: right;\">\n",
       "      <th></th>\n",
       "      <th>Tour_ID</th>\n",
       "      <th>country</th>\n",
       "      <th>age_group</th>\n",
       "      <th>travel_with</th>\n",
       "      <th>total_female</th>\n",
       "      <th>total_male</th>\n",
       "      <th>purpose</th>\n",
       "      <th>main_activity</th>\n",
       "      <th>info_source</th>\n",
       "      <th>tour_arrangement</th>\n",
       "      <th>...</th>\n",
       "      <th>package_transport_tz</th>\n",
       "      <th>package_sightseeing</th>\n",
       "      <th>package_guided_tour</th>\n",
       "      <th>package_insurance</th>\n",
       "      <th>night_mainland</th>\n",
       "      <th>night_zanzibar</th>\n",
       "      <th>first_trip_tz</th>\n",
       "      <th>cost_category</th>\n",
       "      <th>region</th>\n",
       "      <th>sub-region</th>\n",
       "    </tr>\n",
       "  </thead>\n",
       "  <tbody>\n",
       "    <tr>\n",
       "      <th>24670</th>\n",
       "      <td>tour_id2deyfjhq</td>\n",
       "      <td>Zimbabwe</td>\n",
       "      <td>25-44</td>\n",
       "      <td>Alone</td>\n",
       "      <td>0.0</td>\n",
       "      <td>1.0</td>\n",
       "      <td>Business</td>\n",
       "      <td>Wildlife Tourism</td>\n",
       "      <td>Friends, relatives</td>\n",
       "      <td>Independent</td>\n",
       "      <td>...</td>\n",
       "      <td>No</td>\n",
       "      <td>No</td>\n",
       "      <td>No</td>\n",
       "      <td>No</td>\n",
       "      <td>2.0</td>\n",
       "      <td>0.0</td>\n",
       "      <td>No</td>\n",
       "      <td>-1</td>\n",
       "      <td>Africa</td>\n",
       "      <td>Sub-Saharan Africa</td>\n",
       "    </tr>\n",
       "    <tr>\n",
       "      <th>24671</th>\n",
       "      <td>tour_idlenv2rio</td>\n",
       "      <td>Drc</td>\n",
       "      <td>25-44</td>\n",
       "      <td>Alone</td>\n",
       "      <td>0.0</td>\n",
       "      <td>1.0</td>\n",
       "      <td>Visiting Friends and Relatives</td>\n",
       "      <td>Hunting Tourism</td>\n",
       "      <td>Friends, relatives</td>\n",
       "      <td>Independent</td>\n",
       "      <td>...</td>\n",
       "      <td>No</td>\n",
       "      <td>No</td>\n",
       "      <td>No</td>\n",
       "      <td>No</td>\n",
       "      <td>6.0</td>\n",
       "      <td>0.0</td>\n",
       "      <td>Yes</td>\n",
       "      <td>-1</td>\n",
       "      <td>NaN</td>\n",
       "      <td>NaN</td>\n",
       "    </tr>\n",
       "    <tr>\n",
       "      <th>24672</th>\n",
       "      <td>tour_id7wwqrs0p</td>\n",
       "      <td>Canada</td>\n",
       "      <td>25-44</td>\n",
       "      <td>Alone</td>\n",
       "      <td>0.0</td>\n",
       "      <td>1.0</td>\n",
       "      <td>Leisure and Holidays</td>\n",
       "      <td>Beach Tourism</td>\n",
       "      <td>Friends, relatives</td>\n",
       "      <td>Package Tour</td>\n",
       "      <td>...</td>\n",
       "      <td>Yes</td>\n",
       "      <td>No</td>\n",
       "      <td>No</td>\n",
       "      <td>No</td>\n",
       "      <td>5.0</td>\n",
       "      <td>0.0</td>\n",
       "      <td>No</td>\n",
       "      <td>-1</td>\n",
       "      <td>Americas</td>\n",
       "      <td>Northern America</td>\n",
       "    </tr>\n",
       "    <tr>\n",
       "      <th>24673</th>\n",
       "      <td>tour_idx80vbw5a</td>\n",
       "      <td>Canada</td>\n",
       "      <td>18-24</td>\n",
       "      <td>Alone</td>\n",
       "      <td>1.0</td>\n",
       "      <td>0.0</td>\n",
       "      <td>Visiting Friends and Relatives</td>\n",
       "      <td>Wildlife Tourism</td>\n",
       "      <td>Friends, relatives</td>\n",
       "      <td>Independent</td>\n",
       "      <td>...</td>\n",
       "      <td>No</td>\n",
       "      <td>No</td>\n",
       "      <td>No</td>\n",
       "      <td>No</td>\n",
       "      <td>21.0</td>\n",
       "      <td>0.0</td>\n",
       "      <td>No</td>\n",
       "      <td>-1</td>\n",
       "      <td>Americas</td>\n",
       "      <td>Northern America</td>\n",
       "    </tr>\n",
       "    <tr>\n",
       "      <th>24674</th>\n",
       "      <td>tour_id8fkkwytb</td>\n",
       "      <td>Kenya</td>\n",
       "      <td>45-64</td>\n",
       "      <td>NaN</td>\n",
       "      <td>0.0</td>\n",
       "      <td>1.0</td>\n",
       "      <td>Meetings and Conference</td>\n",
       "      <td>Wildlife Tourism</td>\n",
       "      <td>Friends, relatives</td>\n",
       "      <td>Independent</td>\n",
       "      <td>...</td>\n",
       "      <td>No</td>\n",
       "      <td>No</td>\n",
       "      <td>No</td>\n",
       "      <td>No</td>\n",
       "      <td>4.0</td>\n",
       "      <td>0.0</td>\n",
       "      <td>Yes</td>\n",
       "      <td>-1</td>\n",
       "      <td>Africa</td>\n",
       "      <td>Sub-Saharan Africa</td>\n",
       "    </tr>\n",
       "  </tbody>\n",
       "</table>\n",
       "<p>5 rows × 23 columns</p>\n",
       "</div>"
      ],
      "text/plain": [
       "               Tour_ID   country age_group travel_with  total_female  \\\n",
       "24670  tour_id2deyfjhq  Zimbabwe     25-44       Alone           0.0   \n",
       "24671  tour_idlenv2rio       Drc     25-44       Alone           0.0   \n",
       "24672  tour_id7wwqrs0p    Canada     25-44       Alone           0.0   \n",
       "24673  tour_idx80vbw5a    Canada     18-24       Alone           1.0   \n",
       "24674  tour_id8fkkwytb     Kenya     45-64         NaN           0.0   \n",
       "\n",
       "       total_male                         purpose     main_activity  \\\n",
       "24670         1.0                        Business  Wildlife Tourism   \n",
       "24671         1.0  Visiting Friends and Relatives   Hunting Tourism   \n",
       "24672         1.0            Leisure and Holidays     Beach Tourism   \n",
       "24673         0.0  Visiting Friends and Relatives  Wildlife Tourism   \n",
       "24674         1.0         Meetings and Conference  Wildlife Tourism   \n",
       "\n",
       "              info_source tour_arrangement  ... package_transport_tz  \\\n",
       "24670  Friends, relatives      Independent  ...                   No   \n",
       "24671  Friends, relatives      Independent  ...                   No   \n",
       "24672  Friends, relatives     Package Tour  ...                  Yes   \n",
       "24673  Friends, relatives      Independent  ...                   No   \n",
       "24674  Friends, relatives      Independent  ...                   No   \n",
       "\n",
       "      package_sightseeing package_guided_tour package_insurance  \\\n",
       "24670                  No                  No                No   \n",
       "24671                  No                  No                No   \n",
       "24672                  No                  No                No   \n",
       "24673                  No                  No                No   \n",
       "24674                  No                  No                No   \n",
       "\n",
       "      night_mainland night_zanzibar first_trip_tz  cost_category    region  \\\n",
       "24670            2.0            0.0            No             -1    Africa   \n",
       "24671            6.0            0.0           Yes             -1       NaN   \n",
       "24672            5.0            0.0            No             -1  Americas   \n",
       "24673           21.0            0.0            No             -1  Americas   \n",
       "24674            4.0            0.0           Yes             -1    Africa   \n",
       "\n",
       "               sub-region  \n",
       "24670  Sub-Saharan Africa  \n",
       "24671                 NaN  \n",
       "24672    Northern America  \n",
       "24673    Northern America  \n",
       "24674  Sub-Saharan Africa  \n",
       "\n",
       "[5 rows x 23 columns]"
      ]
     },
     "execution_count": 229,
     "metadata": {},
     "output_type": "execute_result"
    }
   ],
   "source": [
    "concat.tail()"
   ]
  },
  {
   "cell_type": "code",
   "execution_count": 230,
   "id": "4a799eba",
   "metadata": {},
   "outputs": [
    {
     "data": {
      "text/plain": [
       "((24675, 23), (24675, 21), (249, 3))"
      ]
     },
     "execution_count": 230,
     "metadata": {},
     "output_type": "execute_result"
    }
   ],
   "source": [
    "concat.shape, df.shape, countries.shape"
   ]
  },
  {
   "cell_type": "code",
   "execution_count": 231,
   "id": "a3a2e6a0",
   "metadata": {},
   "outputs": [
    {
     "data": {
      "text/plain": [
       "Europe      11004\n",
       "Africa       5455\n",
       "Americas     4752\n",
       "Asia         1917\n",
       "Oceania      1048\n",
       "Name: region, dtype: int64"
      ]
     },
     "execution_count": 231,
     "metadata": {},
     "output_type": "execute_result"
    }
   ],
   "source": [
    "concat.region.value_counts()"
   ]
  },
  {
   "cell_type": "code",
   "execution_count": 232,
   "id": "8495640d",
   "metadata": {},
   "outputs": [
    {
     "data": {
      "text/plain": [
       "Sub-Saharan Africa                 5400\n",
       "Northern America                   4567\n",
       "Western Europe                     3982\n",
       "Northern Europe                    3843\n",
       "Southern Europe                    2933\n",
       "Australia and New Zealand          1044\n",
       "Southern Asia                       598\n",
       "Eastern Asia                        574\n",
       "Western Asia                        565\n",
       "Eastern Europe                      246\n",
       "Latin America and the Caribbean     185\n",
       "South-eastern Asia                  179\n",
       "Northern Africa                      55\n",
       "Melanesia                             4\n",
       "Central Asia                          1\n",
       "Name: sub-region, dtype: int64"
      ]
     },
     "execution_count": 232,
     "metadata": {},
     "output_type": "execute_result"
    }
   ],
   "source": [
    "concat['sub-region'].value_counts()"
   ]
  },
  {
   "cell_type": "code",
   "execution_count": 233,
   "id": "61b63062",
   "metadata": {},
   "outputs": [],
   "source": [
    "df = concat"
   ]
  },
  {
   "cell_type": "code",
   "execution_count": 56,
   "id": "512d3c51",
   "metadata": {
    "scrolled": true
   },
   "outputs": [],
   "source": [
    "for age in df['age_group'].unique():\n",
    "    freq = df.groupby(['age_group'])['Tour_ID'].count()\n",
    "    l = np.array([0.5, 17.5, 24.5, 44.5, 64.5])\n",
    "    u = np.array([17.5, 24.5, 44.5, 64.5, 84.5])\n",
    "    c_interval = (u - l)\n",
    "    fd = dict(freq / c_interval)\n",
    "\n",
    "df['age_group'] =  df['age_group'].map(fd) "
   ]
  },
  {
   "cell_type": "code",
   "execution_count": 57,
   "id": "72de3ab7",
   "metadata": {},
   "outputs": [],
   "source": [
    "mean = np.sum(df['age_group']) / len(df['age_group'])\n",
    "df['age_group'] = mean - df['age_group'].values"
   ]
  },
  {
   "cell_type": "code",
   "execution_count": 154,
   "id": "adacf937",
   "metadata": {
    "scrolled": true
   },
   "outputs": [
    {
     "data": {
      "text/plain": [
       "Index(['Tour_ID', 'country', 'age_group', 'travel_with', 'total_female',\n",
       "       'total_male', 'purpose', 'main_activity', 'info_source',\n",
       "       'tour_arrangement', 'package_transport_int', 'package_accomodation',\n",
       "       'package_food', 'package_transport_tz', 'package_sightseeing',\n",
       "       'package_guided_tour', 'package_insurance', 'night_mainland',\n",
       "       'night_zanzibar', 'first_trip_tz', 'cost_category', 'region',\n",
       "       'sub-region'],\n",
       "      dtype='object')"
      ]
     },
     "execution_count": 154,
     "metadata": {},
     "output_type": "execute_result"
    }
   ],
   "source": [
    "df.columns"
   ]
  },
  {
   "cell_type": "code",
   "execution_count": 59,
   "id": "fd8e16c0",
   "metadata": {},
   "outputs": [],
   "source": [
    "df.eval('total_nights = night_mainland + night_zanzibar', inplace=True) \n",
    "\n",
    "#Length of stay on weekly basis\n",
    "df['tour_duration'] = df['total_nights'].copy()\n",
    "df['tour_duration'] /= 7\n",
    "\n",
    "df.eval('total_people = total_male + total_female', inplace=True)\n",
    "df['av_tmale_per_tp'] = df.groupby('total_people')['total_male'].transform('mean')\n",
    "df['av_tfemale_per_tp'] = df.groupby(['total_people'])['total_female'].transform('mean')\n",
    "df['av_tp_per_purpose'] = df.groupby(['purpose'])['total_people'].transform('mean')\n",
    "df['info_source & purpose'] = df.groupby(['info_source', 'purpose'])['Tour_ID'].transform('count')\n",
    "df['mean_age_density_per_country'] = df.groupby('country')['age_group'].transform('mean')\n",
    "df['mean_age_density_per_main_activity'] = df.groupby('main_activity')['age_group'].transform('mean')\n",
    "df['mean_age_density_per_info'] = df.groupby(['info_source'])['age_group'].transform('mean')\n",
    "\n",
    "gender = []\n",
    "for g in df[['total_people']]:\n",
    "    result = df['total_male'].values - df['total_female'].values\n",
    "    for i in result:\n",
    "        if i > 0:\n",
    "            gender.append('Male')\n",
    "        elif i < 0:\n",
    "            gender.append('Female')\n",
    "        else:\n",
    "            gender.append('Equal')\n",
    "            \n",
    "df['dominant_gender'] = gender\n",
    "df['av_stay_per_gender'] = df.groupby(['dominant_gender'])['tour_duration'].transform('mean')"
   ]
  },
  {
   "cell_type": "code",
   "execution_count": 60,
   "id": "f79d2e81",
   "metadata": {},
   "outputs": [
    {
     "data": {
      "text/plain": [
       "0        0.977688\n",
       "1        1.243591\n",
       "2        1.243591\n",
       "3        1.243591\n",
       "4        1.194846\n",
       "           ...   \n",
       "20647    0.977688\n",
       "20648    0.977688\n",
       "20649    0.977688\n",
       "20650    1.243591\n",
       "20651    1.194846\n",
       "Name: tour_duration, Length: 20652, dtype: float64"
      ]
     },
     "execution_count": 60,
     "metadata": {},
     "output_type": "execute_result"
    }
   ],
   "source": [
    "df.groupby(['dominant_gender'])['tour_duration'].transform('mean')#.plot(kind='hist')"
   ]
  },
  {
   "cell_type": "code",
   "execution_count": 234,
   "id": "c3a2745e",
   "metadata": {},
   "outputs": [
    {
     "data": {
      "image/png": "[encoded data removed]",
      "text/plain": [
       "<Figure size 640x480 with 1 Axes>"
      ]
     },
     "metadata": {},
     "output_type": "display_data"
    }
   ],
   "source": [
    "sns.boxplot(data=df)\n",
    "plt.xticks(rotation=90);"
   ]
  },
  {
   "cell_type": "code",
   "execution_count": 235,
   "id": "399703c5",
   "metadata": {},
   "outputs": [
    {
     "data": {
      "image/png": "[encoded data removed]",
      "text/plain": [
       "<Figure size 640x480 with 1 Axes>"
      ]
     },
     "metadata": {},
     "output_type": "display_data"
    }
   ],
   "source": [
    "sns.histplot(df['age_group'], kde=True)\n",
    "plt.xlabel('Age Density');"
   ]
  },
  {
   "cell_type": "code",
   "execution_count": 236,
   "id": "4fbd65d3",
   "metadata": {},
   "outputs": [
    {
     "data": {
      "text/html": [
       "<div>\n",
       "<style scoped>\n",
       "    .dataframe tbody tr th:only-of-type {\n",
       "        vertical-align: middle;\n",
       "    }\n",
       "\n",
       "    .dataframe tbody tr th {\n",
       "        vertical-align: top;\n",
       "    }\n",
       "\n",
       "    .dataframe thead tr th {\n",
       "        text-align: left;\n",
       "    }\n",
       "\n",
       "    .dataframe thead tr:last-of-type th {\n",
       "        text-align: right;\n",
       "    }\n",
       "</style>\n",
       "<table border=\"1\" class=\"dataframe\">\n",
       "  <thead>\n",
       "    <tr>\n",
       "      <th>region</th>\n",
       "      <th colspan=\"2\" halign=\"left\">Africa</th>\n",
       "      <th colspan=\"2\" halign=\"left\">Americas</th>\n",
       "      <th colspan=\"2\" halign=\"left\">Asia</th>\n",
       "      <th colspan=\"2\" halign=\"left\">Europe</th>\n",
       "      <th colspan=\"2\" halign=\"left\">Oceania</th>\n",
       "    </tr>\n",
       "    <tr>\n",
       "      <th>tour_arrangement</th>\n",
       "      <th>Independent</th>\n",
       "      <th>Package Tour</th>\n",
       "      <th>Independent</th>\n",
       "      <th>Package Tour</th>\n",
       "      <th>Independent</th>\n",
       "      <th>Package Tour</th>\n",
       "      <th>Independent</th>\n",
       "      <th>Package Tour</th>\n",
       "      <th>Independent</th>\n",
       "      <th>Package Tour</th>\n",
       "    </tr>\n",
       "    <tr>\n",
       "      <th>age_group</th>\n",
       "      <th></th>\n",
       "      <th></th>\n",
       "      <th></th>\n",
       "      <th></th>\n",
       "      <th></th>\n",
       "      <th></th>\n",
       "      <th></th>\n",
       "      <th></th>\n",
       "      <th></th>\n",
       "      <th></th>\n",
       "    </tr>\n",
       "  </thead>\n",
       "  <tbody>\n",
       "    <tr>\n",
       "      <th>1-17</th>\n",
       "      <td>21</td>\n",
       "      <td>2</td>\n",
       "      <td>10</td>\n",
       "      <td>16</td>\n",
       "      <td>3</td>\n",
       "      <td>1</td>\n",
       "      <td>35</td>\n",
       "      <td>63</td>\n",
       "      <td>0</td>\n",
       "      <td>1</td>\n",
       "    </tr>\n",
       "    <tr>\n",
       "      <th>18-24</th>\n",
       "      <td>469</td>\n",
       "      <td>44</td>\n",
       "      <td>212</td>\n",
       "      <td>148</td>\n",
       "      <td>169</td>\n",
       "      <td>59</td>\n",
       "      <td>815</td>\n",
       "      <td>816</td>\n",
       "      <td>50</td>\n",
       "      <td>66</td>\n",
       "    </tr>\n",
       "    <tr>\n",
       "      <th>25-44</th>\n",
       "      <td>3098</td>\n",
       "      <td>432</td>\n",
       "      <td>733</td>\n",
       "      <td>879</td>\n",
       "      <td>758</td>\n",
       "      <td>330</td>\n",
       "      <td>2103</td>\n",
       "      <td>3092</td>\n",
       "      <td>120</td>\n",
       "      <td>259</td>\n",
       "    </tr>\n",
       "    <tr>\n",
       "      <th>45-64</th>\n",
       "      <td>1018</td>\n",
       "      <td>275</td>\n",
       "      <td>486</td>\n",
       "      <td>1230</td>\n",
       "      <td>297</td>\n",
       "      <td>220</td>\n",
       "      <td>1132</td>\n",
       "      <td>2397</td>\n",
       "      <td>82</td>\n",
       "      <td>304</td>\n",
       "    </tr>\n",
       "    <tr>\n",
       "      <th>65-84</th>\n",
       "      <td>71</td>\n",
       "      <td>25</td>\n",
       "      <td>110</td>\n",
       "      <td>928</td>\n",
       "      <td>22</td>\n",
       "      <td>58</td>\n",
       "      <td>179</td>\n",
       "      <td>372</td>\n",
       "      <td>22</td>\n",
       "      <td>144</td>\n",
       "    </tr>\n",
       "  </tbody>\n",
       "</table>\n",
       "</div>"
      ],
      "text/plain": [
       "region                Africa                 Americas               \\\n",
       "tour_arrangement Independent Package Tour Independent Package Tour   \n",
       "age_group                                                            \n",
       "1-17                      21            2          10           16   \n",
       "18-24                    469           44         212          148   \n",
       "25-44                   3098          432         733          879   \n",
       "45-64                   1018          275         486         1230   \n",
       "65-84                     71           25         110          928   \n",
       "\n",
       "region                  Asia                   Europe               \\\n",
       "tour_arrangement Independent Package Tour Independent Package Tour   \n",
       "age_group                                                            \n",
       "1-17                       3            1          35           63   \n",
       "18-24                    169           59         815          816   \n",
       "25-44                    758          330        2103         3092   \n",
       "45-64                    297          220        1132         2397   \n",
       "65-84                     22           58         179          372   \n",
       "\n",
       "region               Oceania               \n",
       "tour_arrangement Independent Package Tour  \n",
       "age_group                                  \n",
       "1-17                       0            1  \n",
       "18-24                     50           66  \n",
       "25-44                    120          259  \n",
       "45-64                     82          304  \n",
       "65-84                     22          144  "
      ]
     },
     "execution_count": 236,
     "metadata": {},
     "output_type": "execute_result"
    }
   ],
   "source": [
    "df.pivot_table('purpose', index='age_group', columns=['region', 'tour_arrangement'], fill_value=0,\n",
    "              aggfunc='count')#.apply(lambda x: np.mean(x))"
   ]
  },
  {
   "cell_type": "code",
   "execution_count": 237,
   "id": "a9ddc420",
   "metadata": {
    "scrolled": true
   },
   "outputs": [
    {
     "data": {
      "text/plain": [
       "age_group\n",
       "1-17       30.4\n",
       "18-24     569.6\n",
       "25-44    2360.8\n",
       "45-64    1488.2\n",
       "65-84     386.2\n",
       "dtype: float64"
      ]
     },
     "execution_count": 237,
     "metadata": {},
     "output_type": "execute_result"
    }
   ],
   "source": [
    "df.pivot_table('purpose', index='region', columns='age_group',\n",
    "              aggfunc='count').apply(lambda x: np.mean(x))"
   ]
  },
  {
   "cell_type": "code",
   "execution_count": 165,
   "id": "2c47d933",
   "metadata": {},
   "outputs": [
    {
     "data": {
      "text/plain": [
       "1.3456940222897669"
      ]
     },
     "execution_count": 165,
     "metadata": {},
     "output_type": "execute_result"
    }
   ],
   "source": [
    "np.sum(df['total_male'].values ** 2) / len(df['total_male'])"
   ]
  },
  {
   "cell_type": "code",
   "execution_count": 166,
   "id": "34b6e702",
   "metadata": {},
   "outputs": [
    {
     "data": {
      "text/plain": [
       "array([4., 1., 1., ..., 1., 0., 1.])"
      ]
     },
     "execution_count": 166,
     "metadata": {},
     "output_type": "execute_result"
    }
   ],
   "source": [
    "df['total_male'].values ** 2"
   ]
  },
  {
   "cell_type": "code",
   "execution_count": 68,
   "id": "07a0b743",
   "metadata": {
    "scrolled": false
   },
   "outputs": [
    {
     "data": {
      "text/plain": [
       "Male      0.378850\n",
       "Equal     0.359965\n",
       "Female    0.261185\n",
       "Name: dominant_gender, dtype: float64"
      ]
     },
     "execution_count": 68,
     "metadata": {},
     "output_type": "execute_result"
    }
   ],
   "source": [
    "df.dominant_gender.value_counts() / len(df['dominant_gender'])"
   ]
  },
  {
   "cell_type": "code",
   "execution_count": 21,
   "id": "ec0acdc5",
   "metadata": {},
   "outputs": [],
   "source": [
    "#train['age_category'] = train['age_group'].replace({'<18': 'young','18-24': 'young','25-44': 'middle_aged','45-64' : 'old','65+':'grands'})\n",
    "\n",
    "#labels = ['three', 'five', 'week', 'ten', 'fortnight', 'month', 'year']\n",
    "#bins = [0, 3, 5, 7, 10, 14, 21,  371]\n",
    "#train['duration'] = pd.cut(train['total_nights'], bins=bins, labels=labels)\n",
    "\n",
    "#labels = ['normal', 'minimal', 'nomini', 'big', 'grande']\n",
    "#bins = [0, 1, 2, 3, 5, 93]\n",
    "#df['travel_group_size'] = pd.cut(df['total_people'], bins=bins, labels=labels)"
   ]
  },
  {
   "cell_type": "code",
   "execution_count": 176,
   "id": "1124ea4f",
   "metadata": {
    "scrolled": true
   },
   "outputs": [],
   "source": [
    "num_features = [col for col in df.select_dtypes(np.number)]\n",
    "for f in num_features:\n",
    "    #df[\"log_{}\".format(f)] = (df[f] - df[f].min() + 1).transform(np.log)\n",
    "    df.loc[:, f] = df[f].fillna(df[f].median())\n",
    "\n",
    "\n",
    "cat_features = [] \n",
    "for x in df.select_dtypes('object', 'category'):\n",
    "    df.loc[\n",
    "        df['country'].value_counts()[df['country']].values < 20, \"country\"\n",
    "    ] = \"RARE\"\n",
    "    \n",
    "\n",
    "    if x not in ('cost_category'):\n",
    "        df.loc[:, x] = df[x].fillna(\"None\").astype(str)\n",
    "        cat_features.append(x)\n",
    "\n",
    "        \n",
    "com_features = []\n",
    "combinations = list(itertools.combinations(com_features  , 2))\n",
    "for f1, f2 in combinations:\n",
    "    df.loc[:, f1 + \"_\" + f2 ] = df[f1].astype(str) + \"_\" + df[f2].astype(str) \n",
    "    cat_features.append(f1 + \"_\" + f2) \n"
   ]
  },
  {
   "cell_type": "code",
   "execution_count": 238,
   "id": "8e08217f",
   "metadata": {},
   "outputs": [
    {
     "data": {
      "text/plain": [
       "(3, 18)"
      ]
     },
     "execution_count": 238,
     "metadata": {},
     "output_type": "execute_result"
    }
   ],
   "source": [
    "len(num_features), len(cat_features)"
   ]
  },
  {
   "cell_type": "code",
   "execution_count": 240,
   "id": "b3f4a897",
   "metadata": {},
   "outputs": [
    {
     "data": {
      "text/html": [
       "<div>\n",
       "<style scoped>\n",
       "    .dataframe tbody tr th:only-of-type {\n",
       "        vertical-align: middle;\n",
       "    }\n",
       "\n",
       "    .dataframe tbody tr th {\n",
       "        vertical-align: top;\n",
       "    }\n",
       "\n",
       "    .dataframe thead th {\n",
       "        text-align: right;\n",
       "    }\n",
       "</style>\n",
       "<table border=\"1\" class=\"dataframe\">\n",
       "  <thead>\n",
       "    <tr style=\"text-align: right;\">\n",
       "      <th></th>\n",
       "      <th>Tour_ID</th>\n",
       "      <th>country</th>\n",
       "      <th>age_group</th>\n",
       "      <th>travel_with</th>\n",
       "      <th>total_female</th>\n",
       "      <th>total_male</th>\n",
       "      <th>purpose</th>\n",
       "      <th>main_activity</th>\n",
       "      <th>info_source</th>\n",
       "      <th>tour_arrangement</th>\n",
       "      <th>...</th>\n",
       "      <th>package_transport_tz</th>\n",
       "      <th>package_sightseeing</th>\n",
       "      <th>package_guided_tour</th>\n",
       "      <th>package_insurance</th>\n",
       "      <th>night_mainland</th>\n",
       "      <th>night_zanzibar</th>\n",
       "      <th>first_trip_tz</th>\n",
       "      <th>cost_category</th>\n",
       "      <th>region</th>\n",
       "      <th>sub-region</th>\n",
       "    </tr>\n",
       "  </thead>\n",
       "  <tbody>\n",
       "    <tr>\n",
       "      <th>0</th>\n",
       "      <td>tour_id1hffseyw</td>\n",
       "      <td>Italy</td>\n",
       "      <td>45-64</td>\n",
       "      <td>With Children</td>\n",
       "      <td>0.0</td>\n",
       "      <td>2.0</td>\n",
       "      <td>Visiting Friends and Relatives</td>\n",
       "      <td>Beach Tourism</td>\n",
       "      <td>Friends, relatives</td>\n",
       "      <td>Package Tour</td>\n",
       "      <td>...</td>\n",
       "      <td>Yes</td>\n",
       "      <td>No</td>\n",
       "      <td>No</td>\n",
       "      <td>No</td>\n",
       "      <td>0.0</td>\n",
       "      <td>7.0</td>\n",
       "      <td>Yes</td>\n",
       "      <td>High Cost</td>\n",
       "      <td>Europe</td>\n",
       "      <td>Southern Europe</td>\n",
       "    </tr>\n",
       "    <tr>\n",
       "      <th>1</th>\n",
       "      <td>tour_idnacd7zag</td>\n",
       "      <td>United Kingdom</td>\n",
       "      <td>25-44</td>\n",
       "      <td>With Spouse</td>\n",
       "      <td>1.0</td>\n",
       "      <td>1.0</td>\n",
       "      <td>Leisure and Holidays</td>\n",
       "      <td>Wildlife Tourism</td>\n",
       "      <td>Travel agent, tour operator</td>\n",
       "      <td>Package Tour</td>\n",
       "      <td>...</td>\n",
       "      <td>Yes</td>\n",
       "      <td>No</td>\n",
       "      <td>No</td>\n",
       "      <td>No</td>\n",
       "      <td>0.0</td>\n",
       "      <td>7.0</td>\n",
       "      <td>Yes</td>\n",
       "      <td>High Cost</td>\n",
       "      <td>Europe</td>\n",
       "      <td>Northern Europe</td>\n",
       "    </tr>\n",
       "    <tr>\n",
       "      <th>2</th>\n",
       "      <td>tour_id62vz7e71</td>\n",
       "      <td>United States Of America</td>\n",
       "      <td>65-84</td>\n",
       "      <td>With Spouse</td>\n",
       "      <td>1.0</td>\n",
       "      <td>1.0</td>\n",
       "      <td>Leisure and Holidays</td>\n",
       "      <td>Wildlife Tourism</td>\n",
       "      <td>Travel agent, tour operator</td>\n",
       "      <td>Package Tour</td>\n",
       "      <td>...</td>\n",
       "      <td>Yes</td>\n",
       "      <td>Yes</td>\n",
       "      <td>Yes</td>\n",
       "      <td>No</td>\n",
       "      <td>6.0</td>\n",
       "      <td>6.0</td>\n",
       "      <td>Yes</td>\n",
       "      <td>Higher Cost</td>\n",
       "      <td>Americas</td>\n",
       "      <td>Northern America</td>\n",
       "    </tr>\n",
       "    <tr>\n",
       "      <th>3</th>\n",
       "      <td>tour_idrc76tzix</td>\n",
       "      <td>Rwanda</td>\n",
       "      <td>25-44</td>\n",
       "      <td>With Spouse and Children</td>\n",
       "      <td>3.0</td>\n",
       "      <td>1.0</td>\n",
       "      <td>Leisure and Holidays</td>\n",
       "      <td>Beach Tourism</td>\n",
       "      <td>Radio, TV, Web</td>\n",
       "      <td>Independent</td>\n",
       "      <td>...</td>\n",
       "      <td>No</td>\n",
       "      <td>No</td>\n",
       "      <td>No</td>\n",
       "      <td>No</td>\n",
       "      <td>3.0</td>\n",
       "      <td>0.0</td>\n",
       "      <td>No</td>\n",
       "      <td>Lower Cost</td>\n",
       "      <td>Africa</td>\n",
       "      <td>Sub-Saharan Africa</td>\n",
       "    </tr>\n",
       "    <tr>\n",
       "      <th>4</th>\n",
       "      <td>tour_idn723m0n9</td>\n",
       "      <td>United States Of America</td>\n",
       "      <td>45-64</td>\n",
       "      <td>Alone</td>\n",
       "      <td>0.0</td>\n",
       "      <td>1.0</td>\n",
       "      <td>Leisure and Holidays</td>\n",
       "      <td>Wildlife Tourism</td>\n",
       "      <td>Travel agent, tour operator</td>\n",
       "      <td>Package Tour</td>\n",
       "      <td>...</td>\n",
       "      <td>Yes</td>\n",
       "      <td>No</td>\n",
       "      <td>Yes</td>\n",
       "      <td>Yes</td>\n",
       "      <td>7.0</td>\n",
       "      <td>0.0</td>\n",
       "      <td>Yes</td>\n",
       "      <td>Higher Cost</td>\n",
       "      <td>Americas</td>\n",
       "      <td>Northern America</td>\n",
       "    </tr>\n",
       "  </tbody>\n",
       "</table>\n",
       "<p>5 rows × 23 columns</p>\n",
       "</div>"
      ],
      "text/plain": [
       "           Tour_ID                   country age_group  \\\n",
       "0  tour_id1hffseyw                     Italy     45-64   \n",
       "1  tour_idnacd7zag            United Kingdom     25-44   \n",
       "2  tour_id62vz7e71  United States Of America     65-84   \n",
       "3  tour_idrc76tzix                    Rwanda     25-44   \n",
       "4  tour_idn723m0n9  United States Of America     45-64   \n",
       "\n",
       "                travel_with  total_female  total_male  \\\n",
       "0             With Children           0.0         2.0   \n",
       "1               With Spouse           1.0         1.0   \n",
       "2               With Spouse           1.0         1.0   \n",
       "3  With Spouse and Children           3.0         1.0   \n",
       "4                     Alone           0.0         1.0   \n",
       "\n",
       "                          purpose     main_activity  \\\n",
       "0  Visiting Friends and Relatives     Beach Tourism   \n",
       "1            Leisure and Holidays  Wildlife Tourism   \n",
       "2            Leisure and Holidays  Wildlife Tourism   \n",
       "3            Leisure and Holidays     Beach Tourism   \n",
       "4            Leisure and Holidays  Wildlife Tourism   \n",
       "\n",
       "                   info_source tour_arrangement  ... package_transport_tz  \\\n",
       "0           Friends, relatives     Package Tour  ...                  Yes   \n",
       "1  Travel agent, tour operator     Package Tour  ...                  Yes   \n",
       "2  Travel agent, tour operator     Package Tour  ...                  Yes   \n",
       "3               Radio, TV, Web      Independent  ...                   No   \n",
       "4  Travel agent, tour operator     Package Tour  ...                  Yes   \n",
       "\n",
       "  package_sightseeing package_guided_tour package_insurance night_mainland  \\\n",
       "0                  No                  No                No            0.0   \n",
       "1                  No                  No                No            0.0   \n",
       "2                 Yes                 Yes                No            6.0   \n",
       "3                  No                  No                No            3.0   \n",
       "4                  No                 Yes               Yes            7.0   \n",
       "\n",
       "  night_zanzibar first_trip_tz  cost_category    region          sub-region  \n",
       "0            7.0           Yes      High Cost    Europe     Southern Europe  \n",
       "1            7.0           Yes      High Cost    Europe     Northern Europe  \n",
       "2            6.0           Yes    Higher Cost  Americas    Northern America  \n",
       "3            0.0            No     Lower Cost    Africa  Sub-Saharan Africa  \n",
       "4            0.0           Yes    Higher Cost  Americas    Northern America  \n",
       "\n",
       "[5 rows x 23 columns]"
      ]
     },
     "execution_count": 240,
     "metadata": {},
     "output_type": "execute_result"
    }
   ],
   "source": [
    "df.head()"
   ]
  },
  {
   "cell_type": "code",
   "execution_count": 244,
   "id": "c356980a",
   "metadata": {},
   "outputs": [],
   "source": [
    "def chi_test(X, y):\n",
    "    col_drop= []\n",
    "    not_drop= []\n",
    "    undecided=[]\n",
    "    \n",
    "    for col in X.columns:\n",
    "        ct=pd.crosstab(y, X[col])\n",
    "        chi2, p, dof, expected = chi2_contingency(ct)\n",
    "        \n",
    "        if p >= 0.05 or chi2 <= 2000:\n",
    "            col_drop.append(col)\n",
    "        elif p < 0.05 and  chi2 >= 5000:\n",
    "            not_drop.append(col)\n",
    "        else:\n",
    "            undecided.append(col)\n",
    "        \n",
    "        print(f\"------------------------\\nColumn: {col}\\nChi Test: {chi2}\\nP_Value: {p}\\nDOF: {dof}\\n------------------------\")\n",
    "    print(f\"\\n\\nSUMMARY: \\nLittle or No correlation Columns: {col_drop}\\n\\nCorrelation not so strong columns: {undecided}\\n\\nStrong Correlation Columns: {not_drop}\")"
   ]
  },
  {
   "cell_type": "code",
   "execution_count": 247,
   "id": "734656f7",
   "metadata": {},
   "outputs": [],
   "source": [
    "train = df[df.cost_category != -1].reset_index(drop=True)\n",
    "test = df[df.cost_category == -1].reset_index(drop=True)\n",
    "test.drop('cost_category', axis=1, inplace=True)"
   ]
  },
  {
   "cell_type": "code",
   "execution_count": 251,
   "id": "c2af5b34",
   "metadata": {},
   "outputs": [],
   "source": [
    "test.to_csv('../Datasets/new_test.csv')"
   ]
  },
  {
   "cell_type": "code",
   "execution_count": 252,
   "id": "fb8e33b2",
   "metadata": {},
   "outputs": [
    {
     "name": "stdout",
     "output_type": "stream",
     "text": [
      "------------------------\n",
      "Column: country\n",
      "Chi Test: 9766.31671609103\n",
      "P_Value: 0.0\n",
      "DOF: 635\n",
      "------------------------\n",
      "------------------------\n",
      "Column: age_group\n",
      "Chi Test: 1803.1964576488913\n",
      "P_Value: 0.0\n",
      "DOF: 20\n",
      "------------------------\n",
      "------------------------\n",
      "Column: travel_with\n",
      "Chi Test: 4358.8256594511395\n",
      "P_Value: 0.0\n",
      "DOF: 20\n",
      "------------------------\n",
      "------------------------\n",
      "Column: total_female\n",
      "Chi Test: 3135.1341596685616\n",
      "P_Value: 0.0\n",
      "DOF: 15\n",
      "------------------------\n",
      "------------------------\n",
      "Column: total_male\n",
      "Chi Test: 804.2466108839939\n",
      "P_Value: 1.775590677605355e-157\n",
      "DOF: 20\n",
      "------------------------\n",
      "------------------------\n",
      "Column: purpose\n",
      "Chi Test: 6975.312873617305\n",
      "P_Value: 0.0\n",
      "DOF: 35\n",
      "------------------------\n",
      "------------------------\n",
      "Column: main_activity\n",
      "Chi Test: 3606.50524881434\n",
      "P_Value: 0.0\n",
      "DOF: 40\n",
      "------------------------\n",
      "------------------------\n",
      "Column: info_source\n",
      "Chi Test: 4166.3943611855575\n",
      "P_Value: 0.0\n",
      "DOF: 35\n",
      "------------------------\n",
      "------------------------\n",
      "Column: tour_arrangement\n",
      "Chi Test: 8331.284428771029\n",
      "P_Value: 0.0\n",
      "DOF: 5\n",
      "------------------------\n",
      "------------------------\n",
      "Column: package_transport_int\n",
      "Chi Test: 5414.9841247089\n",
      "P_Value: 0.0\n",
      "DOF: 5\n",
      "------------------------\n",
      "------------------------\n",
      "Column: package_accomodation\n",
      "Chi Test: 7883.608233888307\n",
      "P_Value: 0.0\n",
      "DOF: 5\n",
      "------------------------\n",
      "------------------------\n",
      "Column: package_food\n",
      "Chi Test: 7146.769578021885\n",
      "P_Value: 0.0\n",
      "DOF: 5\n",
      "------------------------\n",
      "------------------------\n",
      "Column: package_transport_tz\n",
      "Chi Test: 6346.490489845604\n",
      "P_Value: 0.0\n",
      "DOF: 5\n",
      "------------------------\n",
      "------------------------\n",
      "Column: package_sightseeing\n",
      "Chi Test: 4501.574863783683\n",
      "P_Value: 0.0\n",
      "DOF: 5\n",
      "------------------------\n",
      "------------------------\n",
      "Column: package_guided_tour\n",
      "Chi Test: 4873.499054202309\n",
      "P_Value: 0.0\n",
      "DOF: 5\n",
      "------------------------\n",
      "------------------------\n",
      "Column: package_insurance\n",
      "Chi Test: 2067.872038967938\n",
      "P_Value: 0.0\n",
      "DOF: 5\n",
      "------------------------\n",
      "------------------------\n",
      "Column: night_mainland\n",
      "Chi Test: 4993.574894809394\n",
      "P_Value: 0.0\n",
      "DOF: 115\n",
      "------------------------\n",
      "------------------------\n",
      "Column: night_zanzibar\n",
      "Chi Test: 1902.0419921017688\n",
      "P_Value: 0.0\n",
      "DOF: 40\n",
      "------------------------\n",
      "------------------------\n",
      "Column: first_trip_tz\n",
      "Chi Test: 2229.180451768042\n",
      "P_Value: 0.0\n",
      "DOF: 5\n",
      "------------------------\n",
      "------------------------\n",
      "Column: region\n",
      "Chi Test: 6004.087342770501\n",
      "P_Value: 0.0\n",
      "DOF: 20\n",
      "------------------------\n",
      "------------------------\n",
      "Column: sub-region\n",
      "Chi Test: 6747.789087574956\n",
      "P_Value: 0.0\n",
      "DOF: 65\n",
      "------------------------\n",
      "\n",
      "\n",
      "SUMMARY: \n",
      "Little or No correlation Columns: ['age_group', 'total_male', 'night_zanzibar']\n",
      "\n",
      "Correlation not so strong columns: ['travel_with', 'total_female', 'main_activity', 'info_source', 'package_sightseeing', 'package_guided_tour', 'package_insurance', 'night_mainland', 'first_trip_tz']\n",
      "\n",
      "Strong Correlation Columns: ['country', 'purpose', 'tour_arrangement', 'package_transport_int', 'package_accomodation', 'package_food', 'package_transport_tz', 'region', 'sub-region']\n"
     ]
    }
   ],
   "source": [
    "X =train.drop([ 'cost_category', 'Tour_ID'], axis=1)\n",
    "y = train['cost_category']\n",
    "\n",
    "chi_test(X, y)"
   ]
  },
  {
   "cell_type": "code",
   "execution_count": 253,
   "id": "06e4790f",
   "metadata": {
    "scrolled": true
   },
   "outputs": [
    {
     "name": "stdout",
     "output_type": "stream",
     "text": [
      "country 128\n",
      "age_group 5\n",
      "travel_with 6\n",
      "total_female 4\n",
      "total_male 5\n",
      "purpose 8\n",
      "main_activity 9\n",
      "info_source 8\n",
      "tour_arrangement 2\n",
      "package_transport_int 2\n",
      "package_accomodation 2\n",
      "package_food 2\n",
      "package_transport_tz 2\n",
      "package_sightseeing 2\n",
      "package_guided_tour 2\n",
      "package_insurance 2\n",
      "night_mainland 24\n",
      "night_zanzibar 9\n",
      "first_trip_tz 2\n",
      "region 6\n",
      "sub-region 15\n"
     ]
    }
   ],
   "source": [
    "#checking total number of unique values in each column. \n",
    "def check_unique(df):\n",
    "    for col in df:\n",
    "        print(col, len(df[col].unique()))\n",
    "\n",
    "check_unique(X)"
   ]
  },
  {
   "cell_type": "code",
   "execution_count": 254,
   "id": "94946c3d",
   "metadata": {
    "scrolled": true
   },
   "outputs": [
    {
     "name": "stdout",
     "output_type": "stream",
     "text": [
      "\n",
      "Column: country\n",
      "Total number of Unique Values:  128\n",
      "\n",
      "Column: age_group\n",
      "Unique Values: 5\n",
      " ['45-64' '25-44' '65-84' '18-24' '1-17']\n",
      "\n",
      "Column: travel_with\n",
      "Unique Values: 5\n",
      " ['With Children' 'With Spouse' 'With Spouse and Children' 'Alone' nan\n",
      " 'With Other Friends/Relatives']\n",
      "\n",
      "Column: purpose\n",
      "Unique Values: 8\n",
      " ['Visiting Friends and Relatives' 'Leisure and Holidays' 'Business'\n",
      " 'Scientific and Academic' 'Meetings and Conference' 'Volunteering'\n",
      " 'Other' 'Medical']\n",
      "\n",
      "Column: main_activity\n",
      "Unique Values: 9\n",
      " ['Beach Tourism' 'Wildlife Tourism' 'Cultural Tourism' 'Bird Tourism'\n",
      " 'Hunting Tourism' 'Conference Tourism' 'Mountain Climbing' 'Business'\n",
      " 'Diving and Sport Fishing']\n",
      "\n",
      "Column: info_source\n",
      "Unique Values: 8\n",
      " ['Friends, relatives' 'Travel agent, tour operator' 'Radio, TV, Web'\n",
      " 'Newspaper, magazines, brochures' 'Others' 'Tanzania Mission Abroad'\n",
      " 'Inflight magazines' 'Trade fair']\n",
      "\n",
      "Column: tour_arrangement\n",
      "Unique Values: 2\n",
      " ['Package Tour' 'Independent']\n",
      "\n",
      "Column: package_transport_int\n",
      "Unique Values: 2\n",
      " ['Yes' 'No']\n",
      "\n",
      "Column: package_accomodation\n",
      "Unique Values: 2\n",
      " ['Yes' 'No']\n",
      "\n",
      "Column: package_food\n",
      "Unique Values: 2\n",
      " ['Yes' 'No']\n",
      "\n",
      "Column: package_transport_tz\n",
      "Unique Values: 2\n",
      " ['Yes' 'No']\n",
      "\n",
      "Column: package_sightseeing\n",
      "Unique Values: 2\n",
      " ['No' 'Yes']\n",
      "\n",
      "Column: package_guided_tour\n",
      "Unique Values: 2\n",
      " ['No' 'Yes']\n",
      "\n",
      "Column: package_insurance\n",
      "Unique Values: 2\n",
      " ['No' 'Yes']\n",
      "\n",
      "Column: first_trip_tz\n",
      "Unique Values: 2\n",
      " ['Yes' 'No']\n",
      "\n",
      "Column: region\n",
      "Unique Values: 5\n",
      " ['Europe' 'Americas' 'Africa' 'Oceania' 'Asia' nan]\n",
      "\n",
      "Column: sub-region\n",
      "Unique Values: 14\n",
      " ['Southern Europe' 'Northern Europe' 'Northern America'\n",
      " 'Sub-Saharan Africa' 'Western Europe' 'Australia and New Zealand'\n",
      " 'Southern Asia' nan 'Eastern Asia' 'Western Asia' 'Eastern Europe'\n",
      " 'South-eastern Asia' 'Latin America and the Caribbean' 'Northern Africa'\n",
      " 'Melanesia']\n"
     ]
    }
   ],
   "source": [
    "#Checking and printing number of unique values in each categorical column\n",
    "def cat_unique(df):\n",
    "    for col in df.select_dtypes('object', 'category'):\n",
    "        if df[col].nunique() > 20:\n",
    "            print(f\"\\nColumn: {col}\\nTotal number of Unique Values:  {df[col].nunique()}\")\n",
    "        else:\n",
    "            print(f\"\\nColumn: {col}\\nUnique Values: {df[col].nunique()}\\n {df[col].unique()}\")\n",
    "            \n",
    "cat_unique(X)"
   ]
  },
  {
   "cell_type": "code",
   "execution_count": 255,
   "id": "ab14c4be",
   "metadata": {},
   "outputs": [
    {
     "name": "stdout",
     "output_type": "stream",
     "text": [
      "country :\n",
      "                       index  Total Count\n",
      "0  United States Of America         2846\n",
      "1            United Kingdom         2120\n",
      "2                     Italy         1625\n",
      "3                    France         1064\n",
      "4                   Germany          969\n",
      "5              South Africa          811\n",
      "6                     Kenya          781\n",
      "7                    Zambia          715\n",
      "8                 Australia          704\n",
      "9                    Canada          571\n",
      "--------------------------------------------------------------------------\n",
      "age_group\n",
      "   index  Total Count\n",
      "0  25-44         9047\n",
      "1  45-64         5648\n",
      "2  18-24         2222\n",
      "3  65-84         1467\n",
      "4   1-17          122\n",
      "--------------------------------------------------------------------------\n",
      "--------------------------------------------------------------------------\n",
      "travel_with\n",
      "                          index  Total Count\n",
      "0                         Alone         7590\n",
      "1                   With Spouse         4842\n",
      "2  With Other Friends/Relatives         3268\n",
      "3      With Spouse and Children         1193\n",
      "4                 With Children          538\n",
      "--------------------------------------------------------------------------\n",
      "--------------------------------------------------------------------------\n",
      "purpose\n",
      "                            index  Total Count\n",
      "0            Leisure and Holidays        11755\n",
      "1  Visiting Friends and Relatives         2304\n",
      "2                        Business         2297\n",
      "3         Meetings and Conference         1179\n",
      "4                    Volunteering          438\n",
      "5                           Other          326\n",
      "6         Scientific and Academic          198\n",
      "7                         Medical            9\n",
      "--------------------------------------------------------------------------\n",
      "--------------------------------------------------------------------------\n",
      "main_activity\n",
      "                      index  Total Count\n",
      "0          Wildlife Tourism         8271\n",
      "1             Beach Tourism         4172\n",
      "2        Conference Tourism         1920\n",
      "3           Hunting Tourism         1712\n",
      "4          Cultural Tourism         1444\n",
      "5         Mountain Climbing          529\n",
      "6                  Business          280\n",
      "7              Bird Tourism          144\n",
      "8  Diving and Sport Fishing           34\n",
      "--------------------------------------------------------------------------\n",
      "--------------------------------------------------------------------------\n",
      "info_source\n",
      "                             index  Total Count\n",
      "0      Travel agent, tour operator         8005\n",
      "1               Friends, relatives         6077\n",
      "2                           Others         1368\n",
      "3  Newspaper, magazines, brochures         1301\n",
      "4                   Radio, TV, Web         1223\n",
      "5                       Trade fair          243\n",
      "6          Tanzania Mission Abroad          197\n",
      "7               Inflight magazines           92\n",
      "--------------------------------------------------------------------------\n",
      "--------------------------------------------------------------------------\n",
      "tour_arrangement\n",
      "          index  Total Count\n",
      "0  Package Tour         9295\n",
      "1   Independent         9211\n",
      "--------------------------------------------------------------------------\n",
      "--------------------------------------------------------------------------\n",
      "package_transport_int\n",
      "  index  Total Count\n",
      "0    No        12238\n",
      "1   Yes         6268\n",
      "--------------------------------------------------------------------------\n",
      "--------------------------------------------------------------------------\n",
      "package_accomodation\n",
      "  index  Total Count\n",
      "0    No         9541\n",
      "1   Yes         8965\n",
      "--------------------------------------------------------------------------\n",
      "--------------------------------------------------------------------------\n",
      "package_food\n",
      "  index  Total Count\n",
      "0    No        10143\n",
      "1   Yes         8363\n",
      "--------------------------------------------------------------------------\n",
      "--------------------------------------------------------------------------\n",
      "package_transport_tz\n",
      "  index  Total Count\n",
      "0    No        10873\n",
      "1   Yes         7633\n",
      "--------------------------------------------------------------------------\n",
      "--------------------------------------------------------------------------\n",
      "package_sightseeing\n",
      "  index  Total Count\n",
      "0    No        12786\n",
      "1   Yes         5720\n",
      "--------------------------------------------------------------------------\n",
      "--------------------------------------------------------------------------\n",
      "package_guided_tour\n",
      "  index  Total Count\n",
      "0    No        12447\n",
      "1   Yes         6059\n",
      "--------------------------------------------------------------------------\n",
      "--------------------------------------------------------------------------\n",
      "package_insurance\n",
      "  index  Total Count\n",
      "0    No        15809\n",
      "1   Yes         2697\n",
      "--------------------------------------------------------------------------\n",
      "--------------------------------------------------------------------------\n",
      "first_trip_tz\n",
      "  index  Total Count\n",
      "0   Yes        12737\n",
      "1    No         5769\n",
      "--------------------------------------------------------------------------\n",
      "--------------------------------------------------------------------------\n",
      "region\n",
      "      index  Total Count\n",
      "0    Europe         8332\n",
      "1    Africa         4103\n",
      "2  Americas         3571\n",
      "3      Asia         1486\n",
      "4   Oceania          788\n",
      "--------------------------------------------------------------------------\n",
      "--------------------------------------------------------------------------\n",
      "sub-region\n",
      "                              index  Total Count\n",
      "0                Sub-Saharan Africa         4066\n",
      "1                  Northern America         3422\n",
      "2                    Western Europe         3070\n",
      "3                   Northern Europe         2884\n",
      "4                   Southern Europe         2191\n",
      "5         Australia and New Zealand          786\n",
      "6                      Western Asia          486\n",
      "7                     Southern Asia          454\n",
      "8                      Eastern Asia          419\n",
      "9                    Eastern Europe          187\n",
      "10  Latin America and the Caribbean          149\n",
      "11               South-eastern Asia          127\n",
      "12                  Northern Africa           37\n",
      "13                        Melanesia            2\n",
      "--------------------------------------------------------------------------\n"
     ]
    }
   ],
   "source": [
    "def showDetails(df):\n",
    "    for col in df.select_dtypes('object', 'category') :\n",
    "        if df[col].nunique() >= 20:\n",
    "            print(f\"{col} :\\n {df[col].value_counts().reset_index(name= 'Total Count')[:10]}\")\n",
    "        else: \n",
    "            print('--------------------------------------------------------------------------')\n",
    "            print(col)# + '& Cost Category')\n",
    "            print(df[col].value_counts().reset_index(name=\"Total Count\"))\n",
    "            #tempDict = dict(df[col][df['cost_category'] == 'High Cost'].value_counts())\n",
    "            #for i in tempDict.keys():\n",
    "            #       tempDict[i] = ((tempDict[i]/len(df[df[col] == i]))*100).round(2)\n",
    "            #print(tempDict)\n",
    "            print('--------------------------------------------------------------------------')\n",
    "\n",
    "showDetails(X)"
   ]
  },
  {
   "cell_type": "code",
   "execution_count": 34,
   "id": "3e6ae902",
   "metadata": {},
   "outputs": [],
   "source": [
    "cat_features = [\n",
    "    x for x in df.select_dtypes('object') if x not in ('Tour_ID', 'cost_category')\n",
    "]\n",
    "\n",
    "num_features = [n for n in df.select_dtypes(np.number)]\n",
    "\n",
    "features = num_features + cat_features"
   ]
  },
  {
   "cell_type": "code",
   "execution_count": 256,
   "id": "ad7d87e7",
   "metadata": {},
   "outputs": [],
   "source": [
    "col_drop= []\n",
    "not_drop= []\n",
    "undecided=[]\n",
    "\n",
    "for col in train.columns:\n",
    "    ct=pd.crosstab(train['cost_category'], train[col])\n",
    "    chi2, p, dof, expected = chi2_contingency(ct)\n",
    "\n",
    "    if p >= 0.05 or chi2 <= 2000:\n",
    "        col_drop.append(col)\n",
    "    elif p < 0.05 and  chi2 >= 3000:\n",
    "        not_drop.append(col)\n",
    "    else:\n",
    "        undecided.append(col)"
   ]
  },
  {
   "cell_type": "code",
   "execution_count": 257,
   "id": "fc91eef9",
   "metadata": {
    "scrolled": true
   },
   "outputs": [
    {
     "data": {
      "text/plain": [
       "(['Tour_ID', 'age_group', 'total_male', 'night_zanzibar'],\n",
       " ['package_insurance', 'first_trip_tz'])"
      ]
     },
     "execution_count": 257,
     "metadata": {},
     "output_type": "execute_result"
    }
   ],
   "source": [
    "col_drop, undecided"
   ]
  },
  {
   "cell_type": "code",
   "execution_count": 258,
   "id": "1c5bbdd6",
   "metadata": {},
   "outputs": [],
   "source": [
    "drop = col_drop + undecided\n",
    "X = train.drop(columns=['Tour_ID', 'cost_category'], axis=1)\n",
    "#X = X.sample(frac=1)\n",
    "y = train['cost_category']"
   ]
  },
  {
   "cell_type": "code",
   "execution_count": 259,
   "id": "99e5ec84",
   "metadata": {},
   "outputs": [],
   "source": [
    "mapping_age = {'0-17':1,\n",
    "          '18-24':2 ,\n",
    "          '25-44':3 ,\n",
    "          '45-64':4,\n",
    "          '65-100':5}\n",
    "\n",
    "#X['age_group'] = X['age_group'].map(mapping_age).astype(np.float64)\n",
    "\n",
    "le = LabelEncoder()\n",
    "y = le.fit_transform(y)"
   ]
  },
  {
   "cell_type": "code",
   "execution_count": 260,
   "id": "ce056c4d",
   "metadata": {},
   "outputs": [],
   "source": [
    "cat_features = [\n",
    "    x for x in X.select_dtypes('object') if x not in ('cost_category')\n",
    "]\n",
    "\n",
    "num_features = [n for n in X.select_dtypes(np.number)]\n",
    "\n",
    "features = num_features + cat_features\n",
    "\n",
    "\n",
    "num_pipeline = Pipeline([\n",
    "    (\"imputer\", SimpleImputer(strategy='median')),\n",
    "    (\"scaler\", StandardScaler()),\n",
    "])\n",
    "\n",
    "cat_pipeline = Pipeline([\n",
    "    (\"imputer\", SimpleImputer(strategy='most_frequent')),\n",
    "    ('ohe', OneHotEncoder(sparse_output=False))\n",
    "])\n",
    "\n",
    "pipe = ColumnTransformer([\n",
    "    (\"numerical\", num_pipeline, num_features),\n",
    "    (\"cat\", cat_pipeline, cat_features)\n",
    "])\n",
    "\n",
    "tra = Pipeline([\n",
    "    (\"pipe\", pipe),\n",
    "    (\"scaler\", StandardScaler())\n",
    "\n",
    "    #(\"svd\", TruncatedSVD()))\n",
    "])\n",
    "\n",
    "X = tra.fit_transform(X)"
   ]
  },
  {
   "cell_type": "code",
   "execution_count": 261,
   "id": "80b6a5bc",
   "metadata": {},
   "outputs": [],
   "source": [
    "X_train, X_test, y_train, y_test = train_test_split(X, y,\n",
    "                                                    test_size=0.3, stratify=y,\n",
    "                                                   random_state=123)"
   ]
  },
  {
   "cell_type": "code",
   "execution_count": 262,
   "id": "cdeddf71",
   "metadata": {
    "scrolled": true
   },
   "outputs": [
    {
     "data": {
      "text/plain": [
       "(12954, 204)"
      ]
     },
     "execution_count": 262,
     "metadata": {},
     "output_type": "execute_result"
    }
   ],
   "source": [
    "X_train.shape"
   ]
  },
  {
   "cell_type": "code",
   "execution_count": 263,
   "id": "13dbd95f",
   "metadata": {},
   "outputs": [],
   "source": [
    "fold = StratifiedKFold(n_splits=10, shuffle=True)\n",
    "\n",
    "def run(clf):\n",
    "    scores = []\n",
    "    for f, (train_idx, valid_idx) in enumerate (fold.split(X, y)):\n",
    "        X_train, X_test = X[train_idx], X[valid_idx]\n",
    "        y_train, y_test = y[train_idx], y[valid_idx]\n",
    "        \n",
    "        clf.fit(X_train, y_train)\n",
    "\n",
    "        preds = clf.predict_proba(X_test)\n",
    "\n",
    "        auc = roc_auc_score(y_test, preds, multi_class='ovr')\n",
    "        scores.append(auc)\n",
    "\n",
    "        print(\"Fold%2d: AUC = %.4f \" %(f+1, auc))\n",
    "\n",
    "    print(\"\\nScore: %.4f (+/- %.4f) \" % (np.mean(scores), np.std(scores)))"
   ]
  },
  {
   "cell_type": "code",
   "execution_count": 264,
   "id": "da1289b2",
   "metadata": {},
   "outputs": [
    {
     "name": "stdout",
     "output_type": "stream",
     "text": [
      "Fold 1: AUC = 0.6051 \n",
      "Fold 2: AUC = 0.5929 \n",
      "Fold 3: AUC = 0.6023 \n",
      "Fold 4: AUC = 0.6014 \n",
      "Fold 5: AUC = 0.5925 \n",
      "Fold 6: AUC = 0.5929 \n",
      "Fold 7: AUC = 0.5892 \n",
      "Fold 8: AUC = 0.5938 \n",
      "Fold 9: AUC = 0.6030 \n",
      "Fold10: AUC = 0.6103 \n",
      "\n",
      "Score: 0.5983 (+/- 0.0066) \n"
     ]
    }
   ],
   "source": [
    "from sklearn.naive_bayes import GaussianNB, MultinomialNB\n",
    "\n",
    "nb = GaussianNB()\n",
    "run(nb)"
   ]
  },
  {
   "cell_type": "code",
   "execution_count": 265,
   "id": "14c18ffb",
   "metadata": {},
   "outputs": [
    {
     "name": "stdout",
     "output_type": "stream",
     "text": [
      "              precision    recall  f1-score   support\n",
      "\n",
      "   High Cost       0.35      0.02      0.04      1103\n",
      " Higher Cost       0.35      0.01      0.02      1460\n",
      "Highest Cost       0.02      0.95      0.05       108\n",
      "    Low Cost       0.12      0.07      0.09       470\n",
      "  Lower Cost       0.54      0.57      0.55       770\n",
      " Normal Cost       0.46      0.00      0.01      1641\n",
      "\n",
      "    accuracy                           0.11      5552\n",
      "   macro avg       0.31      0.27      0.13      5552\n",
      "weighted avg       0.38      0.11      0.10      5552\n",
      "\n"
     ]
    }
   ],
   "source": [
    "nb.fit(X_train, y_train)\n",
    "\n",
    "y_pred = nb.predict(X_test)\n",
    "\n",
    "print(classification_report(y_test, y_pred, target_names=le.classes_))"
   ]
  },
  {
   "cell_type": "code",
   "execution_count": 266,
   "id": "fc7e95ec",
   "metadata": {},
   "outputs": [
    {
     "name": "stdout",
     "output_type": "stream",
     "text": [
      "Fold 1: AUC = 0.8167 \n",
      "Fold 2: AUC = 0.8296 \n",
      "Fold 3: AUC = 0.8234 \n",
      "Fold 4: AUC = 0.8274 \n",
      "Fold 5: AUC = 0.8276 \n",
      "Fold 6: AUC = 0.8371 \n",
      "Fold 7: AUC = 0.8124 \n",
      "Fold 8: AUC = 0.8214 \n",
      "Fold 9: AUC = 0.8320 \n",
      "Fold10: AUC = 0.8386 \n",
      "\n",
      "Score: 0.8266 (+/- 0.0080) \n"
     ]
    }
   ],
   "source": [
    "lr = LogisticRegression(penalty='l2', C=0.1,\n",
    "                        solver='lbfgs', multi_class='ovr',\n",
    "                        max_iter=10000)\n",
    "                        \n",
    "run(lr)"
   ]
  },
  {
   "cell_type": "code",
   "execution_count": 267,
   "id": "0d12afc5",
   "metadata": {
    "scrolled": true
   },
   "outputs": [
    {
     "data": {
      "text/plain": [
       "0.5455691642651297"
      ]
     },
     "execution_count": 267,
     "metadata": {},
     "output_type": "execute_result"
    }
   ],
   "source": [
    "lr.fit(X_train, y_train)\n",
    "lr.score(X_test, y_test)"
   ]
  },
  {
   "cell_type": "code",
   "execution_count": 268,
   "id": "6f49a973",
   "metadata": {},
   "outputs": [
    {
     "data": {
      "text/plain": [
       "0.5694766095414544"
      ]
     },
     "execution_count": 268,
     "metadata": {},
     "output_type": "execute_result"
    }
   ],
   "source": [
    "lr.score(X_train, y_train)"
   ]
  },
  {
   "cell_type": "code",
   "execution_count": 269,
   "id": "58c296a1",
   "metadata": {},
   "outputs": [
    {
     "name": "stdout",
     "output_type": "stream",
     "text": [
      "              precision    recall  f1-score   support\n",
      "\n",
      "           0       0.46      0.30      0.36      1103\n",
      "           1       0.60      0.77      0.68      1460\n",
      "           2       0.25      0.02      0.03       108\n",
      "           3       0.18      0.01      0.01       470\n",
      "           4       0.56      0.62      0.59       770\n",
      "           5       0.52      0.67      0.59      1641\n",
      "\n",
      "    accuracy                           0.55      5552\n",
      "   macro avg       0.43      0.40      0.38      5552\n",
      "weighted avg       0.50      0.55      0.51      5552\n",
      "\n"
     ]
    }
   ],
   "source": [
    "y_pred = lr.predict(X_test)\n",
    "\n",
    "print(classification_report(y_test, y_pred))"
   ]
  },
  {
   "cell_type": "code",
   "execution_count": 270,
   "id": "896ba021",
   "metadata": {},
   "outputs": [
    {
     "data": {
      "text/plain": [
       "0.5058606622591526"
      ]
     },
     "execution_count": 270,
     "metadata": {},
     "output_type": "execute_result"
    }
   ],
   "source": [
    "from sklearn.metrics import precision_score, recall_score, f1_score\n",
    "f1_score(y_test, y_pred, average='weighted')"
   ]
  },
  {
   "cell_type": "code",
   "execution_count": 271,
   "id": "39337019",
   "metadata": {},
   "outputs": [
    {
     "name": "stdout",
     "output_type": "stream",
     "text": [
      "Fold 1: AUC = 0.8360 \n",
      "Fold 2: AUC = 0.8269 \n",
      "Fold 3: AUC = 0.8367 \n",
      "Fold 4: AUC = 0.8281 \n",
      "Fold 5: AUC = 0.8158 \n",
      "Fold 6: AUC = 0.8333 \n",
      "Fold 7: AUC = 0.8247 \n",
      "Fold 8: AUC = 0.8368 \n",
      "Fold 9: AUC = 0.8361 \n",
      "Fold10: AUC = 0.8283 \n",
      "\n",
      "Score: 0.8303 (+/- 0.0065) \n"
     ]
    }
   ],
   "source": [
    "forest = RandomForestClassifier(n_estimators=300,\n",
    "                                criterion='gini', \n",
    "                                random_state=123,\n",
    "                                max_depth=6,\n",
    "                                 n_jobs=-1)\n",
    "\n",
    "run(forest)"
   ]
  },
  {
   "cell_type": "code",
   "execution_count": 272,
   "id": "33959930",
   "metadata": {},
   "outputs": [
    {
     "data": {
      "text/plain": [
       "0.5522334293948127"
      ]
     },
     "execution_count": 272,
     "metadata": {},
     "output_type": "execute_result"
    }
   ],
   "source": [
    "forest.score(X_test, y_test)"
   ]
  },
  {
   "cell_type": "code",
   "execution_count": 273,
   "id": "2154ae34",
   "metadata": {},
   "outputs": [
    {
     "data": {
      "text/plain": [
       "0.5521846533889146"
      ]
     },
     "execution_count": 273,
     "metadata": {},
     "output_type": "execute_result"
    }
   ],
   "source": [
    "forest.score(X_train, y_train)"
   ]
  },
  {
   "cell_type": "code",
   "execution_count": 274,
   "id": "2d28d057",
   "metadata": {},
   "outputs": [],
   "source": [
    "forest.fit(X_train, y_train)\n",
    "y_pred = forest.predict(X_test)"
   ]
  },
  {
   "cell_type": "code",
   "execution_count": 275,
   "id": "aeff7ad7",
   "metadata": {},
   "outputs": [
    {
     "data": {
      "text/plain": [
       "0.8340313287716471"
      ]
     },
     "execution_count": 275,
     "metadata": {},
     "output_type": "execute_result"
    }
   ],
   "source": [
    "predictions = forest.predict_proba(X_test)\n",
    "roc_auc_score(y_test, predictions, multi_class='ovr')"
   ]
  },
  {
   "cell_type": "code",
   "execution_count": 276,
   "id": "b7de20af",
   "metadata": {},
   "outputs": [
    {
     "name": "stdout",
     "output_type": "stream",
     "text": [
      "              precision    recall  f1-score   support\n",
      "\n",
      "   High Cost       0.51      0.23      0.32      1103\n",
      " Higher Cost       0.57      0.84      0.68      1460\n",
      "Highest Cost       0.00      0.00      0.00       108\n",
      "    Low Cost       0.00      0.00      0.00       470\n",
      "  Lower Cost       0.54      0.66      0.60       770\n",
      " Normal Cost       0.54      0.64      0.59      1641\n",
      "\n",
      "    accuracy                           0.55      5552\n",
      "   macro avg       0.36      0.40      0.36      5552\n",
      "weighted avg       0.49      0.55      0.50      5552\n",
      "\n"
     ]
    }
   ],
   "source": [
    "print(classification_report(y_test, y_pred, target_names=le.classes_))"
   ]
  },
  {
   "cell_type": "code",
   "execution_count": 277,
   "id": "ccf33083",
   "metadata": {
    "scrolled": false
   },
   "outputs": [
    {
     "data": {
      "text/plain": [
       "<Axes: >"
      ]
     },
     "execution_count": 277,
     "metadata": {},
     "output_type": "execute_result"
    },
    {
     "data": {
      "image/png": "[encoded data removed]",
      "text/plain": [
       "<Figure size 640x480 with 2 Axes>"
      ]
     },
     "metadata": {},
     "output_type": "display_data"
    }
   ],
   "source": [
    "cm = confusion_matrix(y_test, y_pred)\n",
    "sns.heatmap(cm, square=True, annot=True, fmt='d',\n",
    "           xticklabels=le.classes_,\n",
    "           yticklabels=le.classes_)"
   ]
  },
  {
   "cell_type": "code",
   "execution_count": 278,
   "id": "1d90c1c0",
   "metadata": {},
   "outputs": [
    {
     "name": "stdout",
     "output_type": "stream",
     "text": [
      "Fold 1: AUC = 0.8005 \n",
      "Fold 2: AUC = 0.8018 \n",
      "Fold 3: AUC = 0.7872 \n",
      "Fold 4: AUC = 0.8060 \n",
      "Fold 5: AUC = 0.7906 \n",
      "Fold 6: AUC = 0.7965 \n",
      "Fold 7: AUC = 0.7852 \n",
      "Fold 8: AUC = 0.7872 \n",
      "Fold 9: AUC = 0.7893 \n",
      "Fold10: AUC = 0.7989 \n",
      "\n",
      "Score: 0.7943 (+/- 0.0069) \n"
     ]
    }
   ],
   "source": [
    "gr = SGDClassifier(loss='log_loss',\n",
    "                   eta0=0.1,\n",
    "                   learning_rate='optimal',\n",
    "                  )\n",
    "\n",
    "run(gr)"
   ]
  },
  {
   "cell_type": "code",
   "execution_count": 279,
   "id": "aa83d29f",
   "metadata": {},
   "outputs": [
    {
     "data": {
      "text/plain": [
       "0.7984405641718383"
      ]
     },
     "execution_count": 279,
     "metadata": {},
     "output_type": "execute_result"
    }
   ],
   "source": [
    "gr.fit(X_train, y_train)\n",
    "predss = gr.predict_proba(X_test)\n",
    "roc_auc_score(y_test, predss, multi_class='ovr')"
   ]
  },
  {
   "cell_type": "code",
   "execution_count": 280,
   "id": "7f88bceb",
   "metadata": {
    "scrolled": true
   },
   "outputs": [
    {
     "data": {
      "text/plain": [
       "0.524135446685879"
      ]
     },
     "execution_count": 280,
     "metadata": {},
     "output_type": "execute_result"
    }
   ],
   "source": [
    "gr.score(X_test, y_test)"
   ]
  },
  {
   "cell_type": "code",
   "execution_count": 281,
   "id": "770db3ec",
   "metadata": {},
   "outputs": [
    {
     "data": {
      "text/plain": [
       "0.5304925119654161"
      ]
     },
     "execution_count": 281,
     "metadata": {},
     "output_type": "execute_result"
    }
   ],
   "source": [
    "gr.score(X_train, y_train)"
   ]
  },
  {
   "cell_type": "code",
   "execution_count": 282,
   "id": "3c797860",
   "metadata": {
    "scrolled": true
   },
   "outputs": [
    {
     "name": "stdout",
     "output_type": "stream",
     "text": [
      "              precision    recall  f1-score   support\n",
      "\n",
      "   High Cost       0.46      0.29      0.36      1103\n",
      " Higher Cost       0.60      0.76      0.67      1460\n",
      "Highest Cost       0.10      0.02      0.03       108\n",
      "    Low Cost       0.24      0.12      0.16       470\n",
      "  Lower Cost       0.60      0.44      0.51       770\n",
      " Normal Cost       0.50      0.66      0.57      1641\n",
      "\n",
      "    accuracy                           0.52      5552\n",
      "   macro avg       0.42      0.38      0.38      5552\n",
      "weighted avg       0.50      0.52      0.50      5552\n",
      "\n"
     ]
    }
   ],
   "source": [
    "print(classification_report(y_test, gr.predict(X_test), target_names=le.classes_))"
   ]
  },
  {
   "cell_type": "code",
   "execution_count": 283,
   "id": "d66f6103",
   "metadata": {},
   "outputs": [
    {
     "name": "stdout",
     "output_type": "stream",
     "text": [
      "              precision    recall  f1-score   support\n",
      "\n",
      "   High Cost       0.46      0.32      0.38      1103\n",
      " Higher Cost       0.61      0.70      0.65      1460\n",
      "Highest Cost       0.10      0.29      0.15       108\n",
      "    Low Cost       0.20      0.07      0.11       470\n",
      "  Lower Cost       0.52      0.65      0.58       770\n",
      " Normal Cost       0.54      0.56      0.55      1641\n",
      "\n",
      "    accuracy                           0.51      5552\n",
      "   macro avg       0.41      0.43      0.40      5552\n",
      "weighted avg       0.50      0.51      0.50      5552\n",
      "\n"
     ]
    }
   ],
   "source": [
    "lsv = LinearSVC(penalty='l2', loss='squared_hinge', C=0.1, class_weight='balanced',\n",
    "          multi_class='ovr', random_state=123)\n",
    "\n",
    "lsv.fit(X_train, y_train)\n",
    "y_pred = lsv.predict(X_test)\n",
    "print(classification_report(y_test, y_pred, target_names=le.classes_))"
   ]
  },
  {
   "cell_type": "code",
   "execution_count": 289,
   "id": "59a47fa0",
   "metadata": {},
   "outputs": [
    {
     "name": "stdout",
     "output_type": "stream",
     "text": [
      "Fold 1: AUC = 0.8458 \n",
      "Fold 2: AUC = 0.8474 \n",
      "Fold 3: AUC = 0.8428 \n",
      "Fold 4: AUC = 0.8509 \n",
      "Fold 5: AUC = 0.8455 \n",
      "Fold 6: AUC = 0.8596 \n",
      "Fold 7: AUC = 0.8464 \n",
      "Fold 8: AUC = 0.8554 \n",
      "Fold 9: AUC = 0.8516 \n",
      "Fold10: AUC = 0.8435 \n",
      "\n",
      "Score: 0.8489 (+/- 0.0051) \n"
     ]
    }
   ],
   "source": [
    "from catboost import CatBoostClassifier\n",
    "\n",
    "cat = CatBoostClassifier(iterations=600,\n",
    "                         learning_rate=0.1,\n",
    "                         max_depth=4,\n",
    "                         logging_level='Silent',\n",
    "                         random_state=123)\n",
    "run(cat)"
   ]
  },
  {
   "cell_type": "code",
   "execution_count": 290,
   "id": "836747b3",
   "metadata": {},
   "outputs": [
    {
     "name": "stdout",
     "output_type": "stream",
     "text": [
      "              precision    recall  f1-score   support\n",
      "\n",
      "   High Cost       0.53      0.35      0.42      1103\n",
      " Higher Cost       0.64      0.77      0.70      1460\n",
      "Highest Cost       0.38      0.05      0.08       108\n",
      "    Low Cost       0.40      0.02      0.03       470\n",
      "  Lower Cost       0.59      0.66      0.62       770\n",
      " Normal Cost       0.54      0.71      0.61      1641\n",
      "\n",
      "    accuracy                           0.58      5552\n",
      "   macro avg       0.51      0.43      0.41      5552\n",
      "weighted avg       0.56      0.58      0.54      5552\n",
      "\n"
     ]
    }
   ],
   "source": [
    "cat.fit(X_train, y_train)\n",
    "\n",
    "y_pred = cat.predict(X_test)\n",
    "print(classification_report(y_test, y_pred, target_names=le.classes_))"
   ]
  },
  {
   "cell_type": "code",
   "execution_count": 291,
   "id": "28d58047",
   "metadata": {},
   "outputs": [
    {
     "name": "stdout",
     "output_type": "stream",
     "text": [
      "0.8525554583394831\n"
     ]
    }
   ],
   "source": [
    "preds = cat.predict_proba(X_test)\n",
    "print(roc_auc_score(y_test, preds, multi_class='ovr'))"
   ]
  },
  {
   "cell_type": "code",
   "execution_count": 292,
   "id": "330759b0",
   "metadata": {},
   "outputs": [
    {
     "data": {
      "text/plain": [
       "<Axes: >"
      ]
     },
     "execution_count": 292,
     "metadata": {},
     "output_type": "execute_result"
    },
    {
     "data": {
      "image/png": "[encoded data removed]",
      "text/plain": [
       "<Figure size 640x480 with 1 Axes>"
      ]
     },
     "metadata": {},
     "output_type": "display_data"
    }
   ],
   "source": [
    "cm = confusion_matrix(y_test, y_pred)\n",
    "\n",
    "sns.heatmap(cm, annot=True, fmt='d', cbar=False,\n",
    "           xticklabels=le.classes_,\n",
    "           yticklabels=le.classes_)"
   ]
  },
  {
   "cell_type": "code",
   "execution_count": 293,
   "id": "d8a23f7a",
   "metadata": {},
   "outputs": [
    {
     "name": "stdout",
     "output_type": "stream",
     "text": [
      "Fold 1: AUC = 0.8289 \n",
      "Fold 2: AUC = 0.8335 \n",
      "Fold 3: AUC = 0.8263 \n",
      "Fold 4: AUC = 0.8392 \n",
      "Fold 5: AUC = 0.8296 \n",
      "Fold 6: AUC = 0.8267 \n",
      "Fold 7: AUC = 0.8273 \n",
      "Fold 8: AUC = 0.8391 \n",
      "Fold 9: AUC = 0.8222 \n",
      "Fold10: AUC = 0.8389 \n",
      "\n",
      "Score: 0.8312 (+/- 0.0058) \n"
     ]
    }
   ],
   "source": [
    "xgb  = XGBClassifier(n_estimators=200,\n",
    "                    max_depth=8, n_jobs=-1)\n",
    "\n",
    "run(xgb)"
   ]
  },
  {
   "cell_type": "code",
   "execution_count": 294,
   "id": "cebf1849",
   "metadata": {},
   "outputs": [
    {
     "data": {
      "text/plain": [
       "0.9709872062360043"
      ]
     },
     "execution_count": 294,
     "metadata": {},
     "output_type": "execute_result"
    }
   ],
   "source": [
    "#xgb.fit(X_train, y_train)\n",
    "predss = xgb.predict_proba(X_test)\n",
    "roc_auc_score(y_test, predss, multi_class='ovr')"
   ]
  },
  {
   "cell_type": "code",
   "execution_count": 295,
   "id": "9162c4e3",
   "metadata": {},
   "outputs": [
    {
     "data": {
      "text/plain": [
       "0.8296109510086456"
      ]
     },
     "execution_count": 295,
     "metadata": {},
     "output_type": "execute_result"
    }
   ],
   "source": [
    "xgb.score(X_test, y_test)"
   ]
  },
  {
   "cell_type": "code",
   "execution_count": 296,
   "id": "b6cf1332",
   "metadata": {},
   "outputs": [
    {
     "data": {
      "text/plain": [
       "0.825845298749421"
      ]
     },
     "execution_count": 296,
     "metadata": {},
     "output_type": "execute_result"
    }
   ],
   "source": [
    "xgb.score(X_train, y_train)"
   ]
  },
  {
   "cell_type": "code",
   "execution_count": 297,
   "id": "4e8a20cd",
   "metadata": {},
   "outputs": [
    {
     "name": "stdout",
     "output_type": "stream",
     "text": [
      "              precision    recall  f1-score   support\n",
      "\n",
      "   High Cost       0.85      0.73      0.79      1103\n",
      " Higher Cost       0.84      0.93      0.88      1460\n",
      "Highest Cost       0.91      0.77      0.83       108\n",
      "    Low Cost       0.89      0.61      0.73       470\n",
      "  Lower Cost       0.79      0.88      0.83       770\n",
      " Normal Cost       0.82      0.85      0.83      1641\n",
      "\n",
      "    accuracy                           0.83      5552\n",
      "   macro avg       0.85      0.80      0.82      5552\n",
      "weighted avg       0.83      0.83      0.83      5552\n",
      "\n"
     ]
    }
   ],
   "source": [
    "print(classification_report(y_test, xgb.predict(X_test), target_names=le.classes_))"
   ]
  },
  {
   "cell_type": "code",
   "execution_count": 298,
   "id": "a2c52450",
   "metadata": {},
   "outputs": [
    {
     "data": {
      "image/png": "[encoded data removed]",
      "text/plain": [
       "<Figure size 640x480 with 2 Axes>"
      ]
     },
     "metadata": {},
     "output_type": "display_data"
    }
   ],
   "source": [
    "cm = confusion_matrix(y_test, xgb.predict(X_test))\n",
    "sns.heatmap(cm, square=True, annot=True, fmt='d',\n",
    "           xticklabels=le.classes_,\n",
    "           yticklabels=le.classes_);"
   ]
  },
  {
   "cell_type": "code",
   "execution_count": 314,
   "id": "7bd0311e",
   "metadata": {},
   "outputs": [],
   "source": [
    "X = train.drop(columns=['Tour_ID', 'cost_category'], axis=1)\n",
    "y = train['cost_category']"
   ]
  },
  {
   "cell_type": "code",
   "execution_count": 315,
   "id": "4d59f1dd",
   "metadata": {},
   "outputs": [],
   "source": [
    "categorical = []\n",
    "for col in X.select_dtypes(['object', 'category']):\n",
    "    X.loc[:, col] = X[col].fillna(\"None\").astype(str)\n",
    "    categorical.append(col)"
   ]
  },
  {
   "cell_type": "code",
   "execution_count": 316,
   "id": "ebdc8c73",
   "metadata": {
    "scrolled": true
   },
   "outputs": [],
   "source": [
    "for col in X.select_dtypes(['object', 'category']):\n",
    "    X[col] = X[col].astype('category')"
   ]
  },
  {
   "cell_type": "code",
   "execution_count": 317,
   "id": "513fd548",
   "metadata": {},
   "outputs": [],
   "source": [
    "X_train, X_test, y_train, y_test = train_test_split(X, y, test_size=0.2, random_state=142)"
   ]
  },
  {
   "cell_type": "code",
   "execution_count": 324,
   "id": "724c7ada",
   "metadata": {},
   "outputs": [],
   "source": [
    "cat = CatBoostClassifier(iterations=300,\n",
    "                         learning_rate=0.1, \n",
    "                         max_depth=5, logging_level='Silent',\n",
    "                         cat_features=categorical,\n",
    "                         random_state=142)"
   ]
  },
  {
   "cell_type": "code",
   "execution_count": 319,
   "id": "10c6a79e",
   "metadata": {},
   "outputs": [
    {
     "data": {
      "text/plain": [
       "<catboost.core.CatBoostClassifier at 0x298e9f70d00>"
      ]
     },
     "execution_count": 319,
     "metadata": {},
     "output_type": "execute_result"
    }
   ],
   "source": [
    "cat.fit(X_train, y_train)"
   ]
  },
  {
   "cell_type": "code",
   "execution_count": 320,
   "id": "2ba701f6",
   "metadata": {},
   "outputs": [
    {
     "name": "stdout",
     "output_type": "stream",
     "text": [
      "              precision    recall  f1-score   support\n",
      "\n",
      "   High Cost       0.53      0.37      0.44       697\n",
      " Higher Cost       0.65      0.79      0.71       961\n",
      "Highest Cost       0.00      0.00      0.00        78\n",
      "    Low Cost       0.12      0.00      0.01       323\n",
      "  Lower Cost       0.61      0.62      0.61       550\n",
      " Normal Cost       0.53      0.71      0.61      1093\n",
      "\n",
      "    accuracy                           0.58      3702\n",
      "   macro avg       0.41      0.42      0.40      3702\n",
      "weighted avg       0.53      0.58      0.54      3702\n",
      "\n"
     ]
    }
   ],
   "source": [
    "y_pred = cat.predict(X_test)\n",
    "print(classification_report(y_test, y_pred))"
   ]
  },
  {
   "cell_type": "code",
   "execution_count": 325,
   "id": "bd6f6c7c",
   "metadata": {},
   "outputs": [
    {
     "name": "stdout",
     "output_type": "stream",
     "text": [
      "ROC AUC: 0.844 (+/- 0.007)\n"
     ]
    }
   ],
   "source": [
    "scores = cross_val_score(cat,\n",
    "                         X_train, y_train,\n",
    "                         cv=10,\n",
    "                         scoring='roc_auc_ovr')\n",
    "\n",
    "\n",
    "print(\"ROC AUC: %.3f (+/- %.3f)\" % (scores.mean(), \n",
    "                                    scores.std()))"
   ]
  },
  {
   "cell_type": "code",
   "execution_count": 370,
   "id": "6a4e0b58",
   "metadata": {},
   "outputs": [
    {
     "data": {
      "text/plain": [
       "array(None, dtype=object)"
      ]
     },
     "execution_count": 370,
     "metadata": {},
     "output_type": "execute_result"
    }
   ],
   "source": [
    "cat.feature_importances_"
   ]
  },
  {
   "cell_type": "code",
   "execution_count": 118,
   "id": "8efd5158",
   "metadata": {},
   "outputs": [],
   "source": [
    "train.to_csv('train.csv')"
   ]
  },
  {
   "cell_type": "code",
   "execution_count": 119,
   "id": "29c8ab83",
   "metadata": {},
   "outputs": [
    {
     "name": "stdout",
     "output_type": "stream",
     "text": [
      "Fitting 2 folds for each of 63 candidates, totalling 126 fits\n"
     ]
    },
    {
     "data": {
      "text/html": [
       "<style>#sk-container-id-1 {color: black;background-color: white;}#sk-container-id-1 pre{padding: 0;}#sk-container-id-1 div.sk-toggleable {background-color: white;}#sk-container-id-1 label.sk-toggleable__label {cursor: pointer;display: block;width: 100%;margin-bottom: 0;padding: 0.3em;box-sizing: border-box;text-align: center;}#sk-container-id-1 label.sk-toggleable__label-arrow:before {content: \"▸\";float: left;margin-right: 0.25em;color: #696969;}#sk-container-id-1 label.sk-toggleable__label-arrow:hover:before {color: black;}#sk-container-id-1 div.sk-estimator:hover label.sk-toggleable__label-arrow:before {color: black;}#sk-container-id-1 div.sk-toggleable__content {max-height: 0;max-width: 0;overflow: hidden;text-align: left;background-color: #f0f8ff;}#sk-container-id-1 div.sk-toggleable__content pre {margin: 0.2em;color: black;border-radius: 0.25em;background-color: #f0f8ff;}#sk-container-id-1 input.sk-toggleable__control:checked~div.sk-toggleable__content {max-height: 200px;max-width: 100%;overflow: auto;}#sk-container-id-1 input.sk-toggleable__control:checked~label.sk-toggleable__label-arrow:before {content: \"▾\";}#sk-container-id-1 div.sk-estimator input.sk-toggleable__control:checked~label.sk-toggleable__label {background-color: #d4ebff;}#sk-container-id-1 div.sk-label input.sk-toggleable__control:checked~label.sk-toggleable__label {background-color: #d4ebff;}#sk-container-id-1 input.sk-hidden--visually {border: 0;clip: rect(1px 1px 1px 1px);clip: rect(1px, 1px, 1px, 1px);height: 1px;margin: -1px;overflow: hidden;padding: 0;position: absolute;width: 1px;}#sk-container-id-1 div.sk-estimator {font-family: monospace;background-color: #f0f8ff;border: 1px dotted black;border-radius: 0.25em;box-sizing: border-box;margin-bottom: 0.5em;}#sk-container-id-1 div.sk-estimator:hover {background-color: #d4ebff;}#sk-container-id-1 div.sk-parallel-item::after {content: \"\";width: 100%;border-bottom: 1px solid gray;flex-grow: 1;}#sk-container-id-1 div.sk-label:hover label.sk-toggleable__label {background-color: #d4ebff;}#sk-container-id-1 div.sk-serial::before {content: \"\";position: absolute;border-left: 1px solid gray;box-sizing: border-box;top: 0;bottom: 0;left: 50%;z-index: 0;}#sk-container-id-1 div.sk-serial {display: flex;flex-direction: column;align-items: center;background-color: white;padding-right: 0.2em;padding-left: 0.2em;position: relative;}#sk-container-id-1 div.sk-item {position: relative;z-index: 1;}#sk-container-id-1 div.sk-parallel {display: flex;align-items: stretch;justify-content: center;background-color: white;position: relative;}#sk-container-id-1 div.sk-item::before, #sk-container-id-1 div.sk-parallel-item::before {content: \"\";position: absolute;border-left: 1px solid gray;box-sizing: border-box;top: 0;bottom: 0;left: 50%;z-index: -1;}#sk-container-id-1 div.sk-parallel-item {display: flex;flex-direction: column;z-index: 1;position: relative;background-color: white;}#sk-container-id-1 div.sk-parallel-item:first-child::after {align-self: flex-end;width: 50%;}#sk-container-id-1 div.sk-parallel-item:last-child::after {align-self: flex-start;width: 50%;}#sk-container-id-1 div.sk-parallel-item:only-child::after {width: 0;}#sk-container-id-1 div.sk-dashed-wrapped {border: 1px dashed gray;margin: 0 0.4em 0.5em 0.4em;box-sizing: border-box;padding-bottom: 0.4em;background-color: white;}#sk-container-id-1 div.sk-label label {font-family: monospace;font-weight: bold;display: inline-block;line-height: 1.2em;}#sk-container-id-1 div.sk-label-container {text-align: center;}#sk-container-id-1 div.sk-container {/* jupyter's `normalize.less` sets `[hidden] { display: none; }` but bootstrap.min.css set `[hidden] { display: none !important; }` so we also need the `!important` here to be able to override the default hidden behavior on the sphinx rendered scikit-learn.org. See: https://github.com/scikit-learn/scikit-learn/issues/21755 */display: inline-block !important;position: relative;}#sk-container-id-1 div.sk-text-repr-fallback {display: none;}</style><div id=\"sk-container-id-1\" class=\"sk-top-container\"><div class=\"sk-text-repr-fallback\"><pre>GridSearchCV(cv=2,\n",
       "             estimator=&lt;catboost.core.CatBoostClassifier object at 0x00000298DB7ABA60&gt;,\n",
       "             n_jobs=-1,\n",
       "             param_grid=[{&#x27;iterations&#x27;: [150, 200, 300],\n",
       "                          &#x27;learning_rate&#x27;: [0.01, 0.1, 1],\n",
       "                          &#x27;logging_level&#x27;: [&#x27;Silent&#x27;],\n",
       "                          &#x27;max_depth&#x27;: [1, 2, 3, 4, 5, 6, 7]}],\n",
       "             scoring=&#x27;roc_auc_ovr&#x27;, verbose=1)</pre><b>In a Jupyter environment, please rerun this cell to show the HTML representation or trust the notebook. <br />On GitHub, the HTML representation is unable to render, please try loading this page with nbviewer.org.</b></div><div class=\"sk-container\" hidden><div class=\"sk-item sk-dashed-wrapped\"><div class=\"sk-label-container\"><div class=\"sk-label sk-toggleable\"><input class=\"sk-toggleable__control sk-hidden--visually\" id=\"sk-estimator-id-1\" type=\"checkbox\" ><label for=\"sk-estimator-id-1\" class=\"sk-toggleable__label sk-toggleable__label-arrow\">GridSearchCV</label><div class=\"sk-toggleable__content\"><pre>GridSearchCV(cv=2,\n",
       "             estimator=&lt;catboost.core.CatBoostClassifier object at 0x00000298DB7ABA60&gt;,\n",
       "             n_jobs=-1,\n",
       "             param_grid=[{&#x27;iterations&#x27;: [150, 200, 300],\n",
       "                          &#x27;learning_rate&#x27;: [0.01, 0.1, 1],\n",
       "                          &#x27;logging_level&#x27;: [&#x27;Silent&#x27;],\n",
       "                          &#x27;max_depth&#x27;: [1, 2, 3, 4, 5, 6, 7]}],\n",
       "             scoring=&#x27;roc_auc_ovr&#x27;, verbose=1)</pre></div></div></div><div class=\"sk-parallel\"><div class=\"sk-parallel-item\"><div class=\"sk-item\"><div class=\"sk-label-container\"><div class=\"sk-label sk-toggleable\"><input class=\"sk-toggleable__control sk-hidden--visually\" id=\"sk-estimator-id-2\" type=\"checkbox\" ><label for=\"sk-estimator-id-2\" class=\"sk-toggleable__label sk-toggleable__label-arrow\">estimator: CatBoostClassifier</label><div class=\"sk-toggleable__content\"><pre>&lt;catboost.core.CatBoostClassifier object at 0x00000298DB7ABA60&gt;</pre></div></div></div><div class=\"sk-serial\"><div class=\"sk-item\"><div class=\"sk-estimator sk-toggleable\"><input class=\"sk-toggleable__control sk-hidden--visually\" id=\"sk-estimator-id-3\" type=\"checkbox\" ><label for=\"sk-estimator-id-3\" class=\"sk-toggleable__label sk-toggleable__label-arrow\">CatBoostClassifier</label><div class=\"sk-toggleable__content\"><pre>&lt;catboost.core.CatBoostClassifier object at 0x00000298DB7ABA60&gt;</pre></div></div></div></div></div></div></div></div></div></div>"
      ],
      "text/plain": [
       "GridSearchCV(cv=2,\n",
       "             estimator=<catboost.core.CatBoostClassifier object at 0x00000298DB7ABA60>,\n",
       "             n_jobs=-1,\n",
       "             param_grid=[{'iterations': [150, 200, 300],\n",
       "                          'learning_rate': [0.01, 0.1, 1],\n",
       "                          'logging_level': ['Silent'],\n",
       "                          'max_depth': [1, 2, 3, 4, 5, 6, 7]}],\n",
       "             scoring='roc_auc_ovr', verbose=1)"
      ]
     },
     "execution_count": 119,
     "metadata": {},
     "output_type": "execute_result"
    }
   ],
   "source": [
    "from sklearn.metrics import make_scorer\n",
    "scorer = make_scorer(roc_auc_score, \n",
    "                     greater_is_better=True, needs_proba=True)\n",
    "\n",
    "gs = GridSearchCV(estimator=cat,\n",
    "                 param_grid=[{\n",
    "                     \"iterations\":[150, 200, 300],\n",
    "                     \"max_depth\":[1, 2, 3, 4, 5, 6, 7],\n",
    "                     \"learning_rate\": [0.01, 0.1, 1],\n",
    "                     \"logging_level\": ['Silent'],\n",
    "                 }],\n",
    "                 cv=2, scoring='roc_auc_ovr', n_jobs=-1, verbose=1)\n",
    "\n",
    "gs.fit(X_train, y_train)"
   ]
  },
  {
   "cell_type": "code",
   "execution_count": 120,
   "id": "bda0c9b4",
   "metadata": {},
   "outputs": [
    {
     "name": "stdout",
     "output_type": "stream",
     "text": [
      "Fitting 2 folds for each of 63 candidates, totalling 126 fits\n",
      "Fitting 2 folds for each of 63 candidates, totalling 126 fits\n",
      "Fitting 2 folds for each of 63 candidates, totalling 126 fits\n",
      "Fitting 2 folds for each of 63 candidates, totalling 126 fits\n",
      "Fitting 2 folds for each of 63 candidates, totalling 126 fits\n",
      "AUC Score: 0.849 (+/- 0.008)\n"
     ]
    }
   ],
   "source": [
    "scores = cross_val_score(gs, X_train, y_train,\n",
    "                       cv=5, scoring='roc_auc_ovr')\n",
    "\n",
    "print(\"AUC Score: %.3f (+/- %.3f)\" % (np.mean(scores),\n",
    "                                     np.std(scores)))"
   ]
  },
  {
   "cell_type": "code",
   "execution_count": 121,
   "id": "547fda11",
   "metadata": {},
   "outputs": [
    {
     "data": {
      "text/plain": [
       "{'iterations': 200,\n",
       " 'learning_rate': 0.1,\n",
       " 'logging_level': 'Silent',\n",
       " 'max_depth': 5}"
      ]
     },
     "execution_count": 121,
     "metadata": {},
     "output_type": "execute_result"
    }
   ],
   "source": [
    "gs.best_params_"
   ]
  },
  {
   "cell_type": "code",
   "execution_count": 122,
   "id": "a69a56f1",
   "metadata": {},
   "outputs": [
    {
     "data": {
      "text/plain": [
       "0.8455432219953658"
      ]
     },
     "execution_count": 122,
     "metadata": {},
     "output_type": "execute_result"
    }
   ],
   "source": [
    "gs.best_score_"
   ]
  },
  {
   "cell_type": "code",
   "execution_count": null,
   "id": "ffd2682e",
   "metadata": {},
   "outputs": [],
   "source": [
    "def model_selection(classifier): \n",
    "    gs = GridSearchCV(estimator=classifier,\n",
    "                 param_grid=[{\n",
    "                     \"n_estimators\":[ 200, 300, None],\n",
    "                     \"max_depth\":[1, 2, 3,\n",
    "                                  4, 7, None],\n",
    "                     \"criterion\":['gini', 'entropy', 'log_loss']\n",
    "                 }],\n",
    "                 cv=2, scoring='roc_auc', n_jobs=-1, verbose=1)\n",
    "\n",
    "    gs.fit(X_train, y_train)\n",
    "    \n",
    "    scores = cross_val_score(gs, X_train, y_train,\n",
    "                       cv=5, scoring='roc_auc')\n",
    "\n",
    "    print('AUC Score: %.3f (+/- %.3f' % (np.mean(scores),\n",
    "                                         np.std(scores)))"
   ]
  },
  {
   "cell_type": "code",
   "execution_count": null,
   "id": "03ce09e2",
   "metadata": {
    "scrolled": false
   },
   "outputs": [],
   "source": [
    "model_selection(forest)"
   ]
  },
  {
   "cell_type": "code",
   "execution_count": null,
   "id": "904e331a",
   "metadata": {},
   "outputs": [],
   "source": [
    "model_selection(xgb)"
   ]
  },
  {
   "cell_type": "code",
   "execution_count": null,
   "id": "51e82df7",
   "metadata": {
    "scrolled": false
   },
   "outputs": [],
   "source": [
    "importances = forest.feature_importances_\n",
    "imp = np.argsort(importances)\n",
    "imp"
   ]
  },
  {
   "cell_type": "code",
   "execution_count": null,
   "id": "16050029-ee5a-47e6-81ef-cbd8628bcb92",
   "metadata": {
    "collapsed": true,
    "jupyter": {
     "outputs_hidden": true
    },
    "tags": []
   },
   "outputs": [],
   "source": [
    "from sklearn.feature_extraction.text import HashingVectorizer\n",
    "for x in df.select_dtypes('object'):\n",
    "    if x not in ['Tour_ID']:\n",
    "        if df[x].nunique() >= 30:\n",
    "            vect = HashingVectorizer(n_features = 2**8,\n",
    "                                     encoding='iso-8859-1',\n",
    "                                     decode_error=\"ignore\",\n",
    "                                     lowercase=False,\n",
    "                                     binary=True)\n",
    "\n",
    "            xx = vect.fit_transform(df[x])\n",
    "            xx = pd.DataFrame(xx.toarray()).assign(x = df[x].values)\n",
    "            display(xx)"
   ]
  },
  {
   "cell_type": "code",
   "execution_count": null,
   "id": "9ea5f07d",
   "metadata": {
    "scrolled": true
   },
   "outputs": [],
   "source": [
    "train['total_male'].values != train['total_female'].values"
   ]
  },
  {
   "cell_type": "code",
   "execution_count": null,
   "id": "b35ee017",
   "metadata": {
    "collapsed": true,
    "jupyter": {
     "outputs_hidden": true
    },
    "tags": []
   },
   "outputs": [],
   "source": [
    "g = []\n",
    "for col in train.columns:\n",
    "    if (train['total_male'].values > train['total_female'].values) == True:\n",
    "        g.append('M')\n",
    "    else:\n",
    "        g.append('F')"
   ]
  },
  {
   "cell_type": "code",
   "execution_count": null,
   "id": "ba8d52b7-ceba-4d59-9223-590faf1f40ee",
   "metadata": {},
   "outputs": [],
   "source": [
    "train['total_people']=train['total_male'] + train['total_female']\n",
    "train['total_nights']=train['night_zanzibar']+train['night_mainland']\n",
    "train['average_stay']= (train['total_people'] / train['total_nights']).round(2)\n",
    "train['age_category'] = train['age_group'].replace({'0-18': 'young',\n",
    "                                                   '18-24': 'young',\n",
    "                                                   '25-44': 'middle_aged',\n",
    "                                                   '45-64' : 'old',\n",
    "                                                   '65-100':'grands'})\n",
    "\n",
    "labels = ['three', 'five', 'week', 'ten', 'fortnight', 'month', 'year']\n",
    "bins = [0, 3, 5, 7, 10, 14, 21,  371]\n",
    "train['stay_length'] = pd.cut(train['total_nights'], bins=bins, labels=labels)\n",
    "\n",
    "labels = ['normal', 'minimal', 'nomini', 'big', 'grande']\n",
    "bins = [0, 1, 2, 3, 5, 93]\n",
    "train['travel_group'] = pd.cut(train['total_people'], bins=bins, labels=labels)\n",
    "\n",
    "#train['']"
   ]
  },
  {
   "cell_type": "code",
   "execution_count": 237,
   "id": "16c052aa-f093-4818-b873-b8824fb300a8",
   "metadata": {},
   "outputs": [],
   "source": [
    "def check_outliers(data, factor:int, strategy='median', inplace=True):\n",
    "    for col in data.select_dtypes(include=['int', 'float']).columns:\n",
    "        lower_qtl = data[col].quantile(0.25)\n",
    "        upper_qtl=data[col].quantile(0.75)\n",
    "        iqr=(upper_qtl-lower_qtl)\n",
    "        u_bound= upper_qtl + factor * iqr\n",
    "        l_bound= lower_qtl - factor * iqr\n",
    "        \n",
    "        outliers=[] \n",
    "        for x in data[col]:\n",
    "            if ((x > u_bound) or (x  < l_bound)):\n",
    "                outliers.append(x)\n",
    "                \n",
    "        if strategy == 'mean':\n",
    "            replacement = data[col].mean()\n",
    "        elif strategy == 'median':\n",
    "            replacement = data[col].median()\n",
    "        elif strategy == 'mode':\n",
    "            replacement = data[col].mode()[0]\n",
    "            \n",
    "        for idx in outliers:\n",
    "            data.loc[idx,col]=replacement\n",
    "        \n",
    "        print(f\"\\n\\nColumn: {col}\\nLower_Bound: {l_bound}\\nUpper_Bound: {u_bound}\\nOutliers: {outliers}\")\n",
    "    \n",
    "    print(f\"\\n\\n\\nOutliers Succesfully replaced with {strategy}.\")"
   ]
  },
  {
   "cell_type": "code",
   "execution_count": 239,
   "id": "68ae2f74-f6a7-4038-9e61-394a3f479581",
   "metadata": {
    "jupyter": {
     "outputs_hidden": true
    },
    "tags": []
   },
   "outputs": [
    {
     "name": "stdout",
     "output_type": "stream",
     "text": [
      "\n",
      "\n",
      "Column: total_female\n",
      "Lower_Bound: -3.0\n",
      "Upper_Bound: 4.0\n",
      "Outliers: []\n",
      "\n",
      "\n",
      "Column: total_male\n",
      "Lower_Bound: 1.0\n",
      "Upper_Bound: 1.0\n",
      "Outliers: [2.0, 0.0, 0.0, 0.0, 0.0, 0.0, 0.0, 2.0, 2.0, 0.0, 0.0, 0.0, 0.0, 0.0, 0.0, 2.0, 2.0, 2.0, 2.0, 2.0, 2.0, 0.0, 0.0, 4.0, 2.0, 0.0, 0.0, 3.0, 0.0, 3.0, 0.0, 0.0, 0.0, 2.0, 0.0, 0.0, 0.0, 0.0, 0.0, 2.0, 0.0, 0.0, 2.0, 3.0, 0.0, 0.0, 2.0, 0.0, 0.0, 0.0, 0.0, 0.0, 0.0, 2.0, 0.0, 0.0, 4.0, 0.0, 0.0, 0.0, 0.0, 2.0, 0.0, 0.0, 0.0, 0.0, 0.0, 0.0, 0.0, 0.0, 2.0, 2.0, 2.0, 0.0, 0.0, 2.0, 0.0, 2.0, 0.0, 0.0, 0.0, 3.0, 0.0, 0.0, 3.0, 0.0, 2.0, 2.0, 0.0, 0.0, 0.0, 2.0, 0.0, 2.0, 0.0, 2.0, 2.0, 0.0, 0.0, 0.0, 0.0, 2.0, 0.0, 0.0, 2.0, 0.0, 3.0, 2.0, 0.0, 2.0, 2.0, 0.0, 0.0, 3.0, 0.0, 0.0, 2.0, 0.0, 2.0, 0.0, 2.0, 2.0, 2.0, 2.0, 3.0, 2.0, 0.0, 3.0, 0.0, 3.0, 2.0, 0.0, 0.0, 0.0, 2.0, 0.0, 2.0, 0.0, 0.0, 3.0, 0.0, 0.0, 0.0, 0.0, 0.0, 2.0, 0.0, 0.0, 0.0, 0.0, 0.0, 0.0, 0.0, 0.0, 0.0, 2.0, 2.0, 3.0, 0.0, 0.0, 0.0, 0.0, 0.0, 3.0, 0.0, 4.0, 0.0, 0.0, 2.0, 0.0, 0.0, 4.0, 0.0, 3.0, 2.0, 2.0, 0.0, 0.0, 0.0, 0.0, 0.0, 0.0, 0.0, 0.0, 0.0, 0.0, 3.0, 0.0, 0.0, 0.0, 0.0, 0.0, 2.0, 0.0, 0.0, 0.0, 0.0, 2.0, 0.0, 0.0, 2.0, 0.0, 0.0, 0.0, 0.0, 0.0, 0.0, 3.0, 2.0, 0.0, 3.0, 0.0, 0.0, 0.0, 4.0, 0.0, 0.0, 0.0, 0.0, 0.0, 0.0, 0.0, 0.0, 0.0, 0.0, 2.0, 0.0, 0.0, 0.0, 0.0, 0.0, 0.0, 0.0, 0.0, 3.0, 3.0, 2.0, 2.0, 0.0, 0.0, 3.0, 0.0, 0.0, 2.0, 0.0, 0.0, 2.0, 0.0, 0.0, 4.0, 3.0, 0.0, 0.0, 0.0, 0.0, 0.0, 0.0, 3.0, 3.0, 0.0, 0.0, 0.0, 0.0, 0.0, 0.0, 2.0, 2.0, 2.0, 0.0, 0.0, 0.0, 0.0, 0.0, 0.0, 0.0, 0.0, 0.0, 2.0, 0.0, 0.0, 0.0, 2.0, 0.0, 0.0, 2.0, 3.0, 0.0, 0.0, 0.0, 0.0, 0.0, 0.0, 0.0, 2.0, 2.0, 0.0, 4.0, 2.0, 0.0, 0.0, 0.0, 0.0, 0.0, 0.0, 0.0, 2.0, 0.0, 2.0, 2.0, 0.0, 0.0, 4.0, 0.0, 2.0, 4.0, 0.0, 0.0, 0.0, 0.0, 2.0, 0.0, 0.0, 2.0, 0.0, 0.0, 0.0, 2.0, 4.0, 0.0, 2.0, 0.0, 0.0, 0.0, 3.0, 0.0, 0.0, 0.0, 3.0, 3.0, 2.0, 0.0, 3.0, 0.0, 0.0, 0.0, 2.0, 2.0, 0.0, 2.0, 0.0, 3.0, 0.0, 2.0, 3.0, 0.0, 0.0, 0.0, 3.0, 0.0, 0.0, 0.0, 0.0, 0.0, 0.0, 2.0, 0.0, 0.0, 0.0, 2.0, 0.0, 0.0, 0.0, 0.0, 0.0, 0.0, 2.0, 0.0, 2.0, 0.0, 3.0, 0.0, 0.0, 0.0, 2.0, 0.0, 0.0, 0.0, 0.0, 0.0, 0.0, 0.0, 0.0, 0.0, 0.0, 2.0, 2.0, 0.0, 0.0, 0.0, 0.0, 0.0, 0.0, 0.0, 0.0, 2.0, 0.0, 2.0, 2.0, 0.0, 0.0, 0.0, 2.0, 3.0, 0.0, 0.0, 0.0, 2.0, 0.0, 0.0, 0.0, 2.0, 0.0, 0.0, 0.0, 2.0, 0.0, 0.0, 2.0, 0.0, 0.0, 0.0, 0.0, 0.0, 0.0, 2.0, 2.0, 2.0, 2.0, 2.0, 0.0, 0.0, 2.0, 0.0, 0.0, 4.0, 0.0, 0.0, 0.0, 2.0, 0.0, 0.0, 0.0, 0.0, 3.0, 2.0, 0.0, 0.0, 4.0, 0.0, 0.0, 0.0, 2.0, 4.0, 2.0, 0.0, 0.0, 2.0, 0.0, 0.0, 0.0, 2.0, 0.0, 2.0, 0.0, 2.0, 0.0, 0.0, 0.0, 0.0, 0.0, 0.0, 0.0, 0.0, 0.0, 0.0, 0.0, 0.0, 2.0, 0.0, 0.0, 3.0, 0.0, 0.0, 0.0, 2.0, 0.0, 0.0, 0.0, 0.0, 0.0, 0.0, 0.0, 0.0, 0.0, 2.0, 2.0, 0.0, 2.0, 0.0, 2.0, 2.0, 0.0, 0.0, 0.0, 0.0, 0.0, 0.0, 0.0, 2.0, 2.0, 0.0, 0.0, 0.0, 0.0, 0.0, 0.0, 2.0, 0.0, 0.0, 0.0, 0.0, 2.0, 2.0, 0.0, 0.0, 0.0, 2.0, 0.0, 3.0, 0.0, 2.0, 0.0, 0.0, 0.0, 0.0, 2.0, 0.0, 0.0, 2.0, 0.0, 0.0, 3.0, 0.0, 0.0, 0.0, 0.0, 0.0, 2.0, 2.0, 0.0, 2.0, 2.0, 0.0, 0.0, 4.0, 0.0, 0.0, 2.0, 0.0, 0.0, 0.0, 0.0, 0.0, 0.0, 0.0, 0.0, 0.0, 0.0, 2.0, 2.0, 0.0, 4.0, 0.0, 2.0, 0.0, 3.0, 2.0, 0.0, 0.0, 2.0, 0.0, 0.0, 0.0, 3.0, 0.0, 0.0, 0.0, 0.0, 0.0, 2.0, 0.0, 0.0, 0.0, 2.0, 2.0, 3.0, 0.0, 2.0, 0.0, 0.0, 0.0, 2.0, 2.0, 0.0, 0.0, 2.0, 4.0, 3.0, 0.0, 0.0, 2.0, 0.0, 0.0, 4.0, 0.0, 0.0, 0.0, 2.0, 0.0, 0.0, 0.0, 2.0, 0.0, 3.0, 0.0, 4.0, 0.0, 3.0, 0.0, 0.0, 0.0, 0.0, 2.0, 3.0, 0.0, 0.0, 0.0, 0.0, 2.0, 0.0, 0.0, 0.0, 2.0, 3.0, 3.0, 0.0, 0.0, 2.0, 4.0, 0.0, 0.0, 0.0, 0.0, 2.0, 0.0, 0.0, 2.0, 2.0, 0.0, 0.0, 0.0, 0.0, 2.0, 0.0, 2.0, 0.0, 0.0, 2.0, 0.0, 0.0, 0.0, 0.0, 0.0, 2.0, 0.0, 2.0, 0.0, 0.0, 0.0, 3.0, 3.0, 0.0, 0.0, 0.0, 0.0, 2.0, 0.0, 0.0, 2.0, 0.0, 0.0, 0.0, 0.0, 0.0, 0.0, 0.0, 2.0, 0.0, 0.0, 0.0, 0.0, 0.0, 2.0, 2.0, 2.0, 0.0, 0.0, 0.0, 0.0, 4.0, 0.0, 0.0, 3.0, 0.0, 3.0, 0.0, 2.0, 2.0, 0.0, 0.0, 0.0, 0.0, 0.0, 0.0, 0.0, 0.0, 0.0, 0.0, 0.0, 0.0, 0.0, 0.0, 2.0, 3.0, 0.0, 0.0, 0.0, 0.0, 0.0, 0.0, 2.0, 0.0, 3.0, 0.0, 0.0, 2.0, 3.0, 3.0, 0.0, 0.0, 0.0, 0.0, 0.0, 0.0, 2.0, 0.0, 0.0, 0.0, 2.0, 2.0, 0.0, 0.0, 0.0, 0.0, 2.0, 0.0, 0.0, 0.0, 0.0, 2.0, 2.0, 0.0, 0.0, 2.0, 2.0, 0.0, 2.0, 0.0, 2.0, 2.0, 0.0, 2.0, 0.0, 3.0, 0.0, 2.0, 0.0, 0.0, 2.0, 0.0, 2.0, 4.0, 0.0, 0.0, 0.0, 0.0, 2.0, 0.0, 3.0, 0.0, 2.0, 0.0, 0.0, 0.0, 2.0, 0.0, 0.0, 0.0, 0.0, 0.0, 0.0, 0.0, 0.0, 0.0, 0.0, 3.0, 0.0, 2.0, 0.0, 0.0, 0.0, 0.0, 0.0, 2.0, 2.0, 2.0, 2.0, 2.0, 0.0, 0.0, 0.0, 0.0, 0.0, 0.0, 2.0, 0.0, 2.0, 0.0, 2.0, 2.0, 0.0, 2.0, 0.0, 0.0, 0.0, 2.0, 0.0, 0.0, 3.0, 0.0, 0.0, 0.0, 2.0, 0.0, 2.0, 0.0, 4.0, 2.0, 0.0, 0.0, 2.0, 0.0, 0.0, 0.0, 2.0, 0.0, 0.0, 0.0, 2.0, 0.0, 0.0, 0.0, 0.0, 0.0, 0.0, 0.0, 2.0, 0.0, 0.0, 2.0, 0.0, 2.0, 2.0, 0.0, 0.0, 0.0, 2.0, 0.0, 0.0, 2.0, 0.0, 0.0, 0.0, 0.0, 0.0, 2.0, 2.0, 0.0, 2.0, 0.0, 2.0, 4.0, 0.0, 0.0, 0.0, 2.0, 3.0, 0.0, 0.0, 3.0, 0.0, 3.0, 2.0, 0.0, 2.0, 0.0, 0.0, 0.0, 0.0, 3.0, 3.0, 0.0, 2.0, 2.0, 0.0, 2.0, 0.0, 2.0, 0.0, 0.0, 0.0, 0.0, 0.0, 2.0, 0.0, 0.0, 0.0, 0.0, 0.0, 0.0, 2.0, 0.0, 0.0, 0.0, 0.0, 0.0, 2.0, 2.0, 0.0, 0.0, 0.0, 0.0, 3.0, 3.0, 0.0, 2.0, 3.0, 2.0, 0.0, 0.0, 0.0, 0.0, 0.0, 4.0, 2.0, 0.0, 0.0, 0.0, 0.0, 0.0, 0.0, 0.0, 2.0, 0.0, 0.0, 0.0, 2.0, 0.0, 2.0, 0.0, 0.0, 0.0, 0.0, 0.0, 0.0, 0.0, 2.0, 0.0, 0.0, 2.0, 0.0, 0.0, 2.0, 2.0, 0.0, 0.0, 0.0, 0.0, 0.0, 3.0, 0.0, 0.0, 0.0, 0.0, 2.0, 3.0, 2.0, 0.0, 0.0, 0.0, 2.0, 0.0, 0.0, 0.0, 0.0, 2.0, 0.0, 2.0, 0.0, 2.0, 2.0, 0.0, 2.0, 3.0, 0.0, 0.0, 0.0, 3.0, 0.0, 0.0, 0.0, 0.0, 2.0, 0.0, 0.0, 2.0, 2.0, 0.0, 0.0, 0.0, 2.0, 0.0, 2.0, 0.0, 0.0, 0.0, 0.0, 2.0, 2.0, 3.0, 0.0, 2.0, 0.0, 2.0, 2.0, 0.0, 4.0, 2.0, 0.0, 3.0, 0.0, 0.0, 0.0, 0.0, 2.0, 3.0, 3.0, 0.0, 0.0, 2.0, 0.0, 0.0, 0.0, 0.0, 2.0, 0.0, 0.0, 0.0, 0.0, 0.0, 0.0, 2.0, 2.0, 0.0, 3.0, 0.0, 2.0, 0.0, 0.0, 0.0, 0.0, 0.0, 2.0, 0.0, 0.0, 0.0, 0.0, 2.0, 2.0, 2.0, 0.0, 3.0, 0.0, 2.0, 2.0, 0.0, 2.0, 0.0, 0.0, 0.0, 3.0, 0.0, 0.0, 0.0, 2.0, 0.0, 0.0, 2.0, 0.0, 2.0, 0.0, 2.0, 0.0, 0.0, 3.0, 2.0, 0.0, 0.0, 0.0, 0.0, 2.0, 0.0, 0.0, 2.0, 0.0, 0.0, 0.0, 0.0, 2.0, 0.0, 0.0, 0.0, 3.0, 3.0, 0.0, 0.0, 2.0, 0.0, 2.0, 0.0, 0.0, 0.0, 2.0, 0.0, 0.0, 2.0, 0.0, 0.0, 2.0, 0.0, 0.0, 0.0, 0.0, 0.0, 2.0, 2.0, 0.0, 2.0, 2.0, 0.0, 3.0, 3.0, 0.0, 2.0, 0.0, 4.0, 3.0, 2.0, 0.0, 3.0, 0.0, 2.0, 0.0, 2.0, 0.0, 0.0, 2.0, 0.0, 3.0, 0.0, 2.0, 2.0, 0.0, 0.0, 2.0, 0.0, 0.0, 0.0, 0.0, 2.0, 0.0, 0.0, 2.0, 0.0, 0.0, 4.0, 3.0, 0.0, 4.0, 0.0, 0.0, 0.0, 0.0, 0.0, 2.0, 2.0, 0.0, 0.0, 0.0, 2.0, 0.0, 0.0, 2.0, 3.0, 0.0, 2.0, 0.0, 0.0, 0.0, 0.0, 2.0, 0.0, 3.0, 0.0, 0.0, 0.0, 0.0, 0.0, 0.0, 0.0, 0.0, 2.0, 0.0, 2.0, 2.0, 0.0, 2.0, 0.0, 2.0, 3.0, 3.0, 2.0, 0.0, 0.0, 0.0, 0.0, 0.0, 0.0, 0.0, 0.0, 0.0, 0.0, 2.0, 2.0, 2.0, 0.0, 0.0, 0.0, 0.0, 0.0, 0.0, 0.0, 3.0, 0.0, 4.0, 0.0, 0.0, 0.0, 3.0, 0.0, 2.0, 2.0, 2.0, 0.0, 0.0, 0.0, 2.0, 0.0, 3.0, 0.0, 2.0, 0.0, 2.0, 2.0, 2.0, 2.0, 2.0, 0.0, 0.0, 0.0, 0.0, 0.0, 0.0, 4.0, 0.0, 0.0, 3.0, 0.0, 0.0, 0.0, 0.0, 0.0, 3.0, 0.0, 0.0, 2.0, 2.0, 0.0, 3.0, 0.0, 0.0, 2.0, 0.0, 0.0, 0.0, 2.0, 0.0, 0.0, 2.0, 3.0, 0.0, 2.0, 0.0, 3.0, 0.0, 0.0, 0.0, 0.0, 0.0, 0.0, 0.0, 0.0, 0.0, 0.0, 0.0, 2.0, 2.0, 0.0, 0.0, 0.0, 2.0, 0.0, 3.0, 0.0, 2.0, 0.0, 2.0, 4.0, 0.0, 0.0, 2.0, 0.0, 0.0, 2.0, 3.0, 3.0, 0.0, 0.0, 0.0, 0.0, 4.0, 0.0, 0.0, 0.0, 0.0, 0.0, 0.0, 0.0, 0.0, 2.0, 0.0, 0.0, 0.0, 2.0, 0.0, 0.0, 0.0, 0.0, 0.0, 2.0, 0.0, 3.0, 0.0, 0.0, 0.0, 2.0, 0.0, 0.0, 0.0, 0.0, 0.0, 2.0, 0.0, 0.0, 0.0, 2.0, 0.0, 0.0, 0.0, 2.0, 0.0, 0.0, 4.0, 2.0, 0.0, 2.0, 2.0, 0.0, 0.0, 0.0, 0.0, 0.0, 0.0, 2.0, 0.0, 0.0, 2.0, 4.0, 3.0, 4.0, 0.0, 2.0, 2.0, 3.0, 0.0, 0.0, 0.0, 2.0, 0.0, 0.0, 0.0, 0.0, 0.0, 0.0, 0.0, 3.0, 0.0, 2.0, 0.0, 0.0, 0.0, 0.0, 0.0, 0.0, 0.0, 0.0, 0.0, 0.0, 0.0, 2.0, 2.0, 0.0, 2.0, 0.0, 0.0, 2.0, 3.0, 0.0, 0.0, 0.0, 0.0, 3.0, 2.0, 0.0, 0.0, 2.0, 3.0, 0.0, 2.0, 0.0, 2.0, 0.0, 3.0, 0.0, 0.0, 0.0, 2.0, 0.0, 0.0, 0.0, 0.0, 0.0, 0.0, 2.0, 2.0, 0.0, 2.0, 4.0, 2.0, 0.0, 0.0, 4.0, 0.0, 0.0, 0.0, 0.0, 0.0, 0.0, 0.0, 0.0, 2.0, 0.0, 3.0, 0.0, 0.0, 2.0, 0.0, 0.0, 0.0, 2.0, 2.0, 2.0, 0.0, 0.0, 4.0, 0.0, 0.0, 0.0, 2.0, 0.0, 2.0, 0.0, 0.0, 4.0, 0.0, 0.0, 0.0, 2.0, 2.0, 0.0, 3.0, 3.0, 0.0, 0.0, 2.0, 0.0, 4.0, 0.0, 3.0, 2.0, 0.0, 4.0, 0.0, 0.0, 0.0, 0.0, 0.0, 0.0, 0.0, 0.0, 0.0, 2.0, 0.0, 2.0, 3.0, 0.0, 2.0, 3.0, 0.0, 0.0, 0.0, 0.0, 0.0, 0.0, 0.0, 4.0, 0.0, 0.0, 2.0, 2.0, 0.0, 2.0, 3.0, 0.0, 3.0, 2.0, 0.0, 0.0, 0.0, 0.0, 0.0, 0.0, 0.0, 2.0, 2.0, 0.0, 0.0, 0.0, 2.0, 3.0, 0.0, 0.0, 2.0, 3.0, 0.0, 0.0, 0.0, 0.0, 0.0, 2.0, 0.0, 0.0, 0.0, 0.0, 0.0, 2.0, 0.0, 0.0, 0.0, 0.0, 3.0, 0.0, 0.0, 2.0, 0.0, 2.0, 3.0, 3.0, 0.0, 0.0, 0.0, 0.0, 0.0, 0.0, 0.0, 0.0, 0.0, 0.0, 2.0, 0.0, 0.0, 0.0, 0.0, 0.0, 0.0, 0.0, 0.0, 2.0, 3.0, 0.0, 0.0, 3.0, 0.0, 4.0, 0.0, 3.0, 0.0, 0.0, 0.0, 0.0, 0.0, 2.0, 0.0, 0.0, 0.0, 0.0, 3.0, 3.0, 0.0, 0.0, 0.0, 0.0, 0.0, 0.0, 2.0, 0.0, 2.0, 0.0, 3.0, 2.0, 0.0, 2.0, 3.0, 3.0, 2.0, 2.0, 0.0, 0.0, 0.0, 4.0, 0.0, 0.0, 2.0, 0.0, 0.0, 2.0, 2.0, 3.0, 0.0, 0.0, 0.0, 2.0, 0.0, 2.0, 2.0, 2.0, 0.0, 2.0, 0.0, 2.0, 2.0, 0.0, 4.0, 2.0, 0.0, 3.0, 0.0, 2.0, 0.0, 0.0, 2.0, 0.0, 0.0, 2.0, 3.0, 0.0, 2.0, 0.0, 0.0, 0.0, 0.0, 0.0, 2.0, 2.0, 3.0, 0.0, 2.0, 0.0, 0.0, 0.0, 0.0, 0.0, 0.0, 4.0, 2.0, 0.0, 2.0, 0.0, 0.0, 0.0, 0.0, 2.0, 0.0, 2.0, 0.0, 0.0, 4.0, 0.0, 2.0, 0.0, 0.0, 3.0, 0.0, 2.0, 0.0, 0.0, 0.0, 4.0, 0.0, 2.0, 0.0, 0.0, 0.0, 0.0, 0.0, 0.0, 0.0, 0.0, 0.0, 0.0, 0.0, 0.0, 0.0, 0.0, 2.0, 2.0, 0.0, 0.0, 2.0, 4.0, 0.0, 2.0, 0.0, 0.0, 4.0, 3.0, 0.0, 0.0, 2.0, 0.0, 0.0, 0.0, 0.0, 0.0, 0.0, 2.0, 0.0, 0.0, 0.0, 0.0, 2.0, 0.0, 0.0, 3.0, 0.0, 0.0, 0.0, 0.0, 0.0, 0.0, 0.0, 0.0, 2.0, 0.0, 0.0, 0.0, 3.0, 0.0, 0.0, 2.0, 0.0, 2.0, 2.0, 0.0, 2.0, 2.0, 0.0, 0.0, 0.0, 2.0, 2.0, 4.0, 0.0, 3.0, 2.0, 0.0, 0.0, 3.0, 0.0, 0.0, 2.0, 0.0, 2.0, 0.0, 2.0, 0.0, 0.0, 2.0, 0.0, 0.0, 0.0, 0.0, 2.0, 0.0, 0.0, 0.0, 0.0, 0.0, 0.0, 0.0, 0.0, 0.0, 2.0, 0.0, 0.0, 0.0, 2.0, 0.0, 0.0, 0.0, 0.0, 2.0, 0.0, 0.0, 3.0, 0.0, 0.0, 0.0, 2.0, 0.0, 3.0, 0.0, 0.0, 3.0, 0.0, 3.0, 3.0, 0.0, 0.0, 3.0, 3.0, 2.0, 0.0, 0.0, 0.0, 0.0, 0.0, 2.0, 0.0, 0.0, 0.0, 0.0, 2.0, 0.0, 0.0, 0.0, 0.0, 0.0, 0.0, 0.0, 0.0, 2.0, 0.0, 0.0, 0.0, 0.0, 0.0, 2.0, 0.0, 0.0, 0.0, 0.0, 0.0, 3.0, 0.0, 4.0, 0.0, 0.0, 2.0, 0.0, 0.0, 0.0, 2.0, 0.0, 0.0, 0.0, 0.0, 0.0, 0.0, 2.0, 2.0, 0.0, 0.0, 0.0, 2.0, 0.0, 2.0, 0.0, 4.0, 2.0, 0.0, 0.0, 0.0, 2.0, 0.0, 0.0, 3.0, 0.0, 0.0, 2.0, 0.0, 0.0, 0.0, 0.0, 2.0, 3.0, 0.0, 3.0, 2.0, 0.0, 0.0, 4.0, 0.0, 2.0, 0.0, 0.0, 2.0, 2.0, 0.0, 0.0, 0.0, 0.0, 0.0, 0.0, 2.0, 0.0, 0.0, 2.0, 0.0, 0.0, 2.0, 0.0, 0.0, 0.0, 2.0, 0.0, 2.0, 2.0, 0.0, 2.0, 0.0, 2.0, 0.0, 0.0, 2.0, 0.0, 0.0, 0.0, 0.0, 0.0, 0.0, 0.0, 0.0, 0.0, 2.0, 0.0, 3.0, 0.0, 0.0, 4.0, 0.0, 0.0, 2.0, 0.0, 2.0, 0.0, 0.0, 0.0, 0.0, 2.0, 0.0, 0.0, 0.0, 0.0, 0.0, 2.0, 0.0, 0.0, 0.0, 0.0, 0.0, 0.0, 2.0, 0.0, 0.0, 3.0, 0.0, 0.0, 0.0, 0.0, 3.0, 0.0, 0.0, 3.0, 0.0, 3.0, 2.0, 0.0, 2.0, 0.0, 2.0, 0.0, 0.0, 0.0, 0.0, 3.0, 0.0, 0.0, 3.0, 0.0, 2.0, 0.0, 2.0, 2.0, 0.0, 2.0, 2.0, 3.0, 0.0, 0.0, 0.0, 2.0, 0.0, 0.0, 0.0, 0.0, 0.0, 0.0, 2.0, 0.0, 2.0, 3.0, 0.0, 0.0, 0.0, 3.0, 2.0, 0.0, 0.0, 0.0, 3.0, 0.0, 0.0, 0.0, 0.0, 0.0, 0.0, 0.0, 0.0, 0.0, 0.0, 0.0, 0.0, 0.0, 0.0, 2.0, 2.0, 0.0, 2.0, 0.0, 2.0, 2.0, 0.0, 4.0, 0.0, 2.0, 0.0, 0.0, 0.0, 0.0, 0.0, 0.0, 0.0, 2.0, 3.0, 0.0, 0.0, 2.0, 0.0, 0.0, 0.0, 4.0, 0.0, 0.0, 0.0, 0.0, 4.0, 2.0, 2.0, 0.0, 0.0, 0.0, 0.0, 4.0, 0.0, 0.0, 0.0, 2.0, 3.0, 0.0, 0.0, 2.0, 0.0, 0.0, 0.0, 0.0, 4.0, 0.0, 0.0, 3.0, 0.0, 2.0, 0.0, 0.0, 0.0, 4.0, 0.0, 3.0, 0.0, 0.0, 0.0, 0.0, 2.0, 0.0, 3.0, 0.0, 0.0, 0.0, 0.0, 3.0, 2.0, 0.0, 0.0, 2.0, 0.0, 0.0, 0.0, 0.0, 0.0, 2.0, 0.0, 2.0, 0.0, 2.0, 2.0, 2.0, 0.0, 0.0, 0.0, 0.0, 0.0, 0.0, 0.0, 2.0, 2.0, 0.0, 0.0, 2.0, 2.0, 2.0, 3.0, 3.0, 0.0, 0.0, 0.0, 0.0, 2.0, 0.0, 2.0, 0.0, 2.0, 0.0, 0.0, 0.0, 3.0, 0.0, 2.0, 0.0, 4.0, 0.0, 2.0, 0.0, 0.0, 2.0, 0.0, 2.0, 0.0, 2.0, 2.0, 0.0, 0.0, 0.0, 0.0, 0.0, 2.0, 2.0, 0.0, 3.0, 0.0, 3.0, 2.0, 0.0, 0.0, 2.0, 0.0, 0.0, 2.0, 2.0, 2.0, 0.0, 0.0, 0.0, 0.0, 0.0, 0.0, 2.0, 0.0, 0.0, 2.0, 0.0, 2.0, 0.0, 0.0, 0.0, 0.0, 0.0, 0.0, 0.0, 0.0, 2.0, 0.0, 2.0, 3.0, 4.0, 0.0, 0.0, 0.0, 2.0, 0.0, 3.0, 0.0, 3.0, 0.0, 2.0, 0.0, 0.0, 0.0, 0.0, 0.0, 2.0, 0.0, 0.0, 0.0, 0.0, 2.0, 0.0, 0.0, 2.0, 0.0, 3.0, 0.0, 3.0, 0.0, 0.0, 0.0, 0.0, 0.0, 0.0, 2.0, 0.0, 0.0, 0.0, 0.0, 2.0, 0.0, 0.0, 3.0, 0.0, 0.0, 0.0, 3.0, 0.0, 2.0, 0.0, 0.0, 2.0, 0.0, 2.0, 0.0, 0.0, 0.0, 0.0, 0.0, 0.0, 2.0, 0.0, 2.0, 2.0, 0.0, 0.0, 0.0, 2.0, 0.0, 4.0, 0.0, 0.0, 2.0, 0.0, 0.0, 0.0, 2.0, 0.0, 2.0, 2.0, 0.0, 0.0, 0.0, 3.0, 0.0, 2.0, 0.0, 0.0, 0.0, 0.0, 0.0, 3.0, 3.0, 0.0, 0.0, 0.0, 0.0, 2.0, 0.0, 0.0, 2.0, 3.0, 0.0, 0.0, 0.0, 0.0, 0.0, 3.0, 0.0, 4.0, 0.0, 0.0, 3.0, 0.0, 2.0, 3.0, 0.0, 0.0, 0.0, 0.0, 0.0, 2.0, 0.0, 0.0, 0.0, 0.0, 0.0, 0.0, 3.0, 0.0, 2.0, 3.0, 0.0, 0.0, 0.0, 0.0, 0.0, 0.0, 0.0, 0.0, 0.0, 0.0, 0.0, 0.0, 0.0, 0.0, 3.0, 3.0, 0.0, 0.0, 0.0, 0.0, 0.0, 0.0, 0.0, 2.0, 2.0, 2.0, 0.0, 0.0, 3.0, 0.0, 2.0, 0.0, 2.0, 2.0, 4.0, 0.0, 0.0, 3.0, 2.0, 0.0, 2.0, 0.0, 0.0, 0.0, 3.0, 0.0, 0.0, 0.0, 0.0, 0.0, 3.0, 2.0, 3.0, 2.0, 0.0, 0.0, 0.0, 0.0, 0.0, 0.0, 0.0, 2.0, 0.0, 0.0, 2.0, 0.0, 0.0, 0.0, 2.0, 0.0, 2.0, 0.0, 0.0, 0.0, 0.0, 0.0, 4.0, 2.0, 0.0, 2.0, 0.0, 2.0, 2.0, 0.0, 0.0, 3.0, 0.0, 0.0, 0.0, 2.0, 0.0, 0.0, 0.0, 0.0, 3.0, 0.0, 0.0, 2.0, 0.0, 0.0, 0.0, 0.0, 0.0, 3.0, 2.0, 2.0, 0.0, 0.0, 2.0, 0.0, 0.0, 0.0, 0.0, 3.0, 0.0, 0.0, 0.0, 0.0, 2.0, 0.0, 0.0, 0.0, 3.0, 0.0, 2.0, 2.0, 0.0, 2.0, 0.0, 2.0, 0.0, 2.0, 0.0, 2.0, 0.0, 3.0, 0.0, 0.0, 0.0, 0.0, 0.0, 0.0, 0.0, 0.0, 0.0, 3.0, 0.0, 2.0, 0.0, 0.0, 2.0, 0.0, 2.0, 3.0, 0.0, 0.0, 2.0, 0.0, 2.0, 0.0, 2.0, 0.0, 0.0, 0.0, 0.0, 0.0, 0.0, 3.0, 0.0, 0.0, 2.0, 0.0, 2.0, 0.0, 0.0, 2.0, 2.0, 2.0, 0.0, 0.0, 0.0, 0.0, 0.0, 3.0, 3.0, 0.0, 0.0, 3.0, 0.0, 3.0, 0.0, 0.0, 3.0, 0.0, 3.0, 2.0, 0.0, 0.0, 2.0, 2.0, 0.0, 0.0, 0.0, 0.0, 0.0, 2.0, 0.0, 0.0, 0.0, 0.0, 0.0, 0.0, 3.0, 0.0, 3.0, 0.0, 2.0, 0.0, 0.0, 0.0, 2.0, 0.0, 2.0, 3.0, 0.0, 0.0, 0.0, 4.0, 0.0, 3.0, 0.0, 0.0, 0.0, 3.0, 0.0, 2.0, 0.0, 0.0, 0.0, 0.0, 2.0, 0.0, 0.0, 0.0, 0.0, 2.0, 2.0, 2.0, 0.0, 0.0, 0.0, 4.0, 0.0, 0.0, 0.0, 2.0, 0.0, 0.0, 2.0, 0.0, 0.0, 0.0, 2.0, 2.0, 3.0, 0.0, 0.0, 0.0, 4.0, 0.0, 4.0, 0.0, 2.0, 2.0, 0.0, 0.0, 2.0, 3.0, 3.0, 0.0, 2.0, 2.0, 0.0, 3.0, 0.0, 0.0, 3.0, 0.0, 2.0, 0.0, 3.0, 0.0, 0.0, 0.0, 0.0, 0.0, 2.0, 0.0, 0.0, 0.0, 0.0, 0.0, 0.0, 0.0, 2.0, 3.0, 3.0, 0.0, 2.0, 0.0, 2.0, 0.0, 3.0, 0.0, 0.0, 3.0, 0.0, 3.0, 2.0, 4.0, 0.0, 0.0, 0.0, 0.0, 0.0, 0.0, 0.0, 2.0, 0.0, 0.0, 0.0, 0.0, 0.0, 2.0, 0.0, 2.0, 0.0, 0.0, 3.0, 2.0, 2.0, 0.0, 2.0, 2.0, 0.0, 2.0, 0.0, 0.0, 2.0, 2.0, 0.0, 2.0, 2.0, 0.0, 0.0, 0.0, 0.0, 3.0, 0.0, 0.0, 0.0, 0.0, 0.0, 0.0, 2.0, 0.0, 2.0, 0.0, 0.0, 0.0, 0.0, 0.0, 0.0, 0.0, 3.0, 4.0, 0.0, 0.0, 0.0, 3.0, 0.0, 0.0, 3.0, 0.0, 0.0, 2.0, 0.0, 0.0, 0.0, 0.0, 0.0, 0.0, 2.0, 2.0, 0.0, 3.0, 0.0, 2.0, 0.0, 0.0, 2.0, 2.0, 2.0, 0.0, 2.0, 2.0, 0.0, 0.0, 3.0, 0.0, 3.0, 2.0, 0.0, 2.0, 4.0, 0.0, 0.0, 0.0, 2.0, 0.0, 2.0, 2.0, 0.0, 2.0, 4.0, 0.0, 0.0, 0.0, 2.0, 0.0, 2.0, 0.0, 0.0, 0.0, 0.0, 0.0, 2.0, 0.0, 0.0, 0.0, 2.0, 2.0, 0.0, 2.0, 2.0, 3.0, 2.0, 0.0, 0.0, 0.0, 4.0, 3.0, 0.0, 2.0, 0.0, 2.0, 2.0, 0.0, 0.0, 2.0, 0.0, 0.0, 2.0, 2.0, 0.0, 0.0, 0.0, 0.0, 0.0, 0.0, 4.0, 0.0, 2.0, 2.0, 0.0, 0.0, 0.0, 3.0, 0.0, 0.0, 0.0, 2.0, 3.0, 2.0, 2.0, 0.0, 0.0, 3.0, 3.0, 2.0, 0.0, 2.0, 0.0, 4.0, 0.0, 2.0, 0.0, 0.0, 0.0, 0.0, 0.0, 2.0, 0.0, 0.0, 0.0, 0.0, 2.0, 0.0, 0.0, 2.0, 0.0, 2.0, 3.0, 3.0, 2.0, 0.0, 2.0, 2.0, 0.0, 0.0, 0.0, 2.0, 2.0, 0.0, 0.0, 0.0, 3.0, 0.0, 3.0, 0.0, 4.0, 0.0, 0.0, 0.0, 0.0, 0.0, 0.0, 0.0, 2.0, 3.0, 0.0, 0.0, 0.0, 2.0, 0.0, 3.0, 3.0, 0.0, 0.0, 4.0, 2.0, 2.0, 0.0, 0.0, 0.0, 0.0, 2.0, 0.0, 0.0, 0.0, 0.0, 0.0, 2.0, 0.0, 0.0, 2.0, 2.0, 2.0, 0.0, 0.0, 0.0, 2.0, 2.0, 0.0, 0.0, 0.0, 0.0, 2.0, 0.0, 0.0, 0.0, 0.0, 0.0, 0.0, 2.0, 0.0, 4.0, 0.0, 2.0, 2.0, 0.0, 2.0, 2.0, 0.0, 0.0, 0.0, 0.0, 0.0, 0.0, 0.0, 2.0, 0.0, 0.0, 0.0, 2.0, 0.0, 0.0, 0.0, 0.0, 0.0, 0.0, 0.0, 0.0, 2.0, 0.0, 2.0, 0.0, 0.0, 0.0, 0.0, 0.0, 0.0, 0.0, 4.0, 3.0, 0.0, 0.0, 0.0, 2.0, 0.0, 2.0, 0.0, 0.0, 0.0, 0.0, 2.0, 0.0, 0.0, 0.0, 2.0, 0.0, 0.0, 0.0, 0.0, 2.0, 0.0, 0.0, 2.0, 0.0, 0.0, 0.0, 0.0, 0.0, 0.0, 0.0, 0.0, 0.0, 0.0, 2.0, 2.0, 2.0, 0.0, 0.0, 0.0, 0.0, 0.0, 2.0, 2.0, 4.0, 2.0, 0.0, 0.0, 0.0, 3.0, 0.0, 0.0, 2.0, 0.0, 2.0, 0.0, 0.0, 2.0, 2.0, 0.0, 0.0, 0.0, 0.0, 3.0, 2.0, 0.0, 0.0, 0.0, 0.0, 2.0, 0.0, 0.0, 2.0, 4.0, 0.0, 0.0, 3.0, 0.0, 2.0, 0.0, 0.0, 2.0, 2.0, 0.0, 3.0, 0.0, 2.0, 2.0, 0.0, 0.0, 0.0, 0.0, 3.0, 0.0, 0.0, 4.0, 4.0, 0.0, 0.0, 0.0, 0.0, 2.0, 2.0, 0.0, 0.0, 2.0, 0.0, 0.0, 2.0, 0.0, 0.0, 0.0, 2.0, 2.0, 3.0, 2.0, 0.0, 0.0, 0.0, 2.0, 0.0, 2.0, 0.0, 2.0, 0.0, 4.0, 4.0, 0.0, 0.0, 2.0, 0.0, 0.0, 0.0, 0.0, 2.0, 2.0, 0.0, 0.0, 2.0, 0.0, 0.0, 0.0, 0.0, 0.0, 0.0, 2.0, 0.0, 2.0, 2.0, 4.0, 0.0, 0.0, 0.0, 2.0, 0.0, 0.0, 0.0, 2.0, 4.0, 0.0, 0.0, 0.0, 0.0, 2.0, 0.0, 0.0, 0.0, 0.0, 0.0, 0.0, 2.0, 3.0, 0.0, 0.0, 2.0, 0.0, 0.0, 0.0, 2.0, 2.0, 3.0, 0.0, 3.0, 2.0, 0.0, 0.0, 2.0, 0.0, 0.0, 2.0, 0.0, 0.0, 4.0, 0.0, 0.0, 0.0, 0.0, 0.0, 0.0, 0.0, 0.0, 0.0, 0.0, 0.0, 0.0, 2.0, 0.0, 0.0, 0.0, 2.0, 3.0, 0.0, 0.0, 2.0, 0.0, 0.0, 3.0, 2.0, 3.0, 0.0, 0.0, 0.0, 2.0, 0.0, 3.0, 0.0, 0.0, 0.0, 0.0, 0.0, 0.0, 2.0, 0.0, 0.0, 0.0, 4.0, 2.0, 0.0, 0.0, 0.0, 0.0, 0.0, 0.0, 0.0, 2.0, 0.0, 0.0, 0.0, 0.0, 2.0, 0.0, 0.0, 0.0, 0.0, 0.0, 4.0, 0.0, 0.0, 0.0, 3.0, 0.0, 0.0, 0.0, 0.0, 0.0, 0.0, 2.0, 0.0, 2.0, 3.0, 3.0, 0.0, 0.0, 2.0, 2.0, 2.0, 2.0, 0.0, 2.0, 0.0, 0.0, 0.0, 0.0, 0.0, 0.0, 0.0, 0.0, 2.0, 0.0, 2.0, 0.0, 0.0, 3.0, 2.0, 2.0, 0.0, 0.0, 3.0, 0.0, 0.0, 0.0, 2.0, 0.0, 3.0, 2.0, 0.0, 0.0, 2.0, 2.0, 0.0, 0.0, 2.0, 0.0, 2.0, 0.0, 0.0, 0.0, 0.0, 3.0, 2.0, 0.0, 0.0, 0.0, 0.0, 2.0, 0.0, 2.0, 0.0, 0.0, 0.0, 0.0, 0.0, 2.0, 0.0, 0.0, 0.0, 0.0, 0.0, 3.0, 0.0, 0.0, 0.0, 0.0, 2.0, 0.0, 2.0, 2.0, 0.0, 0.0, 2.0, 0.0, 0.0, 0.0, 2.0, 0.0, 0.0, 3.0, 0.0, 0.0, 0.0, 2.0, 0.0, 0.0, 0.0, 3.0, 2.0, 0.0, 2.0, 0.0, 2.0, 0.0, 0.0, 0.0, 0.0, 0.0, 0.0, 0.0, 0.0, 0.0, 0.0, 0.0, 0.0, 2.0, 2.0, 0.0, 0.0, 2.0, 0.0, 2.0, 0.0, 0.0, 2.0, 0.0, 0.0, 0.0, 0.0, 0.0, 0.0, 0.0, 2.0, 4.0, 0.0, 0.0, 0.0, 2.0, 0.0, 0.0, 2.0, 0.0, 3.0, 0.0, 0.0, 0.0, 0.0, 4.0, 2.0, 0.0, 2.0, 0.0, 2.0, 0.0, 0.0, 0.0, 2.0, 0.0, 0.0, 0.0, 0.0, 0.0, 0.0, 0.0, 0.0, 0.0, 0.0, 0.0, 0.0, 0.0, 2.0, 0.0, 3.0, 0.0, 0.0, 0.0, 2.0, 0.0, 2.0, 0.0, 0.0, 0.0, 4.0, 2.0, 2.0, 2.0, 0.0, 0.0, 2.0, 0.0, 0.0, 3.0, 0.0, 0.0, 0.0, 0.0, 0.0, 2.0, 0.0, 0.0, 2.0, 0.0, 2.0, 0.0, 0.0, 0.0, 0.0, 0.0, 3.0, 0.0, 0.0, 0.0, 2.0, 2.0, 0.0, 0.0, 0.0, 0.0, 0.0, 0.0, 3.0, 0.0, 2.0, 0.0, 0.0, 0.0, 0.0, 2.0, 3.0, 2.0, 0.0, 3.0, 2.0, 0.0, 0.0, 0.0, 0.0, 0.0, 0.0, 0.0, 0.0, 0.0, 0.0, 0.0, 2.0, 0.0, 0.0, 2.0, 2.0, 2.0, 3.0, 0.0, 0.0, 0.0, 0.0, 2.0, 0.0, 0.0, 0.0, 2.0, 0.0, 0.0, 0.0, 3.0, 0.0, 3.0, 2.0, 0.0, 0.0, 2.0, 2.0, 0.0, 0.0, 0.0, 2.0, 2.0, 0.0, 0.0, 0.0, 0.0, 0.0, 0.0, 0.0, 0.0, 0.0, 0.0, 0.0, 0.0, 0.0, 0.0, 0.0, 2.0, 0.0, 0.0, 0.0, 3.0, 0.0, 0.0, 0.0, 0.0, 2.0, 0.0, 0.0, 0.0, 0.0, 2.0, 0.0, 3.0, 0.0, 0.0, 0.0, 2.0, 0.0, 0.0, 0.0, 0.0, 0.0, 0.0, 0.0, 3.0, 3.0, 2.0, 0.0, 2.0, 0.0, 0.0, 0.0, 2.0, 0.0, 0.0, 0.0, 0.0, 2.0, 0.0, 0.0, 0.0, 2.0, 0.0, 0.0, 0.0, 0.0, 2.0, 0.0, 0.0, 0.0, 2.0, 0.0, 0.0, 0.0, 0.0, 0.0, 3.0, 0.0, 0.0, 3.0, 2.0, 0.0, 0.0, 0.0, 0.0, 3.0, 0.0, 0.0, 2.0, 2.0, 2.0, 2.0, 2.0, 0.0, 0.0, 0.0, 0.0, 2.0, 3.0, 0.0, 0.0, 3.0, 2.0, 0.0, 0.0, 0.0, 0.0, 3.0, 0.0, 0.0, 2.0, 0.0, 0.0, 0.0, 0.0, 0.0, 0.0, 2.0, 3.0, 0.0, 2.0, 0.0, 2.0, 0.0, 0.0, 0.0, 0.0, 3.0, 2.0, 2.0, 2.0, 0.0, 0.0, 2.0, 0.0, 0.0, 2.0, 0.0, 0.0, 0.0, 0.0, 0.0, 0.0, 0.0, 0.0, 0.0, 4.0, 0.0, 2.0, 0.0, 2.0, 0.0, 0.0, 2.0, 0.0, 0.0, 0.0, 2.0, 2.0, 2.0, 2.0, 3.0, 0.0, 2.0, 2.0, 2.0, 2.0, 0.0, 0.0, 0.0, 0.0, 3.0, 0.0, 0.0, 0.0, 0.0, 2.0, 0.0, 0.0, 0.0, 3.0, 0.0, 0.0, 0.0, 0.0, 0.0, 3.0, 0.0, 2.0, 2.0, 0.0, 2.0, 0.0, 2.0, 0.0, 0.0, 4.0, 2.0, 3.0, 0.0, 3.0, 2.0, 0.0, 3.0, 0.0, 0.0, 0.0, 0.0, 2.0, 0.0, 0.0, 0.0, 0.0, 3.0, 2.0, 3.0, 0.0, 0.0, 0.0, 2.0, 0.0, 0.0, 0.0, 2.0, 0.0, 0.0, 2.0, 2.0, 0.0, 0.0, 2.0, 3.0, 4.0, 3.0, 2.0, 0.0, 0.0, 0.0, 2.0, 2.0, 0.0, 3.0, 0.0, 0.0, 0.0, 2.0, 2.0, 0.0, 0.0, 3.0, 3.0, 0.0, 2.0, 2.0, 3.0, 0.0, 2.0, 0.0, 0.0, 2.0, 3.0, 2.0, 0.0, 0.0, 0.0, 0.0, 0.0, 0.0, 0.0, 0.0, 0.0, 0.0, 0.0, 0.0, 2.0, 2.0, 4.0, 0.0, 0.0, 0.0, 0.0, 3.0, 0.0, 0.0, 0.0, 0.0, 2.0, 2.0, 0.0, 0.0, 0.0, 0.0, 0.0, 2.0, 0.0, 0.0, 2.0, 0.0, 4.0, 0.0, 0.0, 0.0, 0.0, 2.0, 0.0, 0.0, 2.0, 0.0, 0.0, 0.0, 2.0, 0.0, 4.0, 3.0, 0.0, 0.0, 0.0, 4.0, 0.0, 2.0, 0.0, 0.0, 2.0, 0.0, 2.0, 2.0, 0.0, 0.0, 0.0, 0.0, 3.0, 0.0, 0.0, 0.0, 0.0, 0.0, 0.0, 0.0, 2.0, 0.0, 2.0, 3.0, 0.0, 2.0, 2.0, 2.0, 2.0, 0.0, 2.0, 0.0, 2.0, 0.0, 0.0, 0.0, 0.0, 0.0, 0.0, 0.0, 0.0, 2.0, 0.0, 0.0, 0.0, 3.0, 0.0, 0.0, 0.0, 0.0, 0.0, 0.0, 2.0, 2.0, 2.0, 0.0, 0.0, 0.0, 0.0, 0.0, 0.0, 2.0, 2.0, 0.0, 0.0, 2.0, 0.0, 0.0, 3.0, 0.0, 0.0, 0.0, 2.0, 3.0, 0.0, 0.0, 0.0, 2.0, 0.0, 2.0, 2.0, 0.0, 0.0, 0.0, 0.0, 0.0, 2.0, 3.0, 0.0, 0.0, 0.0, 0.0, 0.0, 0.0, 0.0, 2.0, 0.0, 2.0, 2.0, 0.0, 2.0, 0.0, 2.0, 0.0, 0.0, 0.0, 2.0, 3.0, 0.0, 0.0, 2.0, 3.0, 0.0, 0.0, 2.0, 2.0, 0.0, 2.0, 0.0, 0.0, 0.0, 3.0, 0.0, 2.0, 2.0, 3.0, 0.0, 0.0, 0.0, 0.0, 3.0, 2.0, 0.0, 0.0, 0.0, 0.0, 0.0, 0.0, 0.0, 3.0, 2.0, 3.0, 0.0, 2.0, 2.0, 3.0, 0.0, 0.0, 0.0, 0.0, 2.0, 0.0, 0.0, 3.0, 0.0, 0.0, 0.0, 0.0, 0.0, 0.0, 0.0, 0.0, 2.0, 2.0, 2.0, 0.0, 0.0, 3.0, 0.0, 2.0, 2.0, 0.0, 0.0, 2.0, 0.0, 0.0, 0.0, 4.0, 4.0, 3.0, 0.0, 0.0, 3.0, 0.0, 3.0, 0.0, 0.0, 0.0, 2.0, 3.0, 0.0, 0.0, 0.0, 3.0, 0.0, 2.0, 0.0, 0.0, 2.0, 0.0, 0.0, 0.0, 0.0, 0.0, 0.0, 0.0, 0.0, 0.0, 2.0, 2.0, 0.0, 2.0, 0.0, 3.0, 0.0, 0.0, 2.0, 0.0, 0.0, 4.0, 2.0, 0.0, 2.0, 2.0, 0.0, 2.0, 0.0, 2.0, 0.0, 0.0, 0.0, 2.0, 0.0, 0.0, 3.0, 0.0, 0.0, 0.0, 0.0, 0.0, 0.0, 0.0, 0.0, 0.0, 2.0, 2.0, 0.0, 3.0, 0.0, 2.0, 0.0, 2.0, 0.0, 0.0, 0.0, 2.0, 2.0, 0.0, 0.0, 2.0, 0.0, 0.0, 0.0, 2.0, 0.0, 2.0, 0.0, 0.0, 0.0, 0.0, 2.0, 2.0, 2.0, 0.0, 2.0, 2.0, 0.0, 4.0, 2.0, 0.0, 0.0, 4.0, 0.0, 0.0, 0.0, 2.0, 0.0, 0.0, 0.0, 2.0, 3.0, 0.0, 3.0, 0.0, 0.0, 2.0, 0.0, 2.0, 2.0, 0.0, 0.0, 0.0, 3.0, 0.0, 2.0, 0.0, 0.0, 2.0, 0.0, 0.0, 0.0, 0.0, 0.0, 3.0, 0.0, 0.0, 0.0, 2.0, 0.0, 2.0, 0.0, 0.0, 0.0, 0.0, 0.0, 0.0, 0.0, 2.0, 0.0, 0.0, 0.0, 0.0, 0.0, 3.0, 0.0, 0.0, 2.0, 2.0, 0.0, 0.0, 0.0, 0.0, 0.0, 2.0, 0.0, 0.0, 0.0, 3.0, 0.0, 2.0, 0.0, 0.0, 0.0, 0.0, 0.0, 0.0, 0.0, 0.0, 0.0, 3.0, 0.0, 2.0, 0.0, 4.0, 0.0, 0.0, 2.0, 2.0, 2.0, 0.0, 2.0, 2.0, 2.0, 0.0, 0.0, 0.0, 0.0, 2.0, 0.0, 3.0, 0.0, 2.0, 2.0, 0.0, 2.0, 0.0, 0.0, 0.0, 3.0, 2.0, 0.0, 0.0, 0.0, 0.0, 3.0, 2.0, 0.0, 0.0, 0.0, 0.0, 2.0, 0.0, 3.0, 0.0, 0.0, 0.0, 0.0, 0.0, 0.0, 0.0, 2.0, 2.0, 0.0, 0.0, 0.0, 0.0, 0.0, 0.0, 0.0, 0.0, 2.0, 4.0, 0.0, 2.0, 0.0, 0.0, 2.0, 3.0, 0.0, 2.0, 0.0, 0.0, 2.0, 0.0, 0.0, 0.0, 0.0, 0.0, 2.0, 0.0, 3.0, 2.0, 0.0, 0.0, 0.0, 3.0, 2.0, 3.0, 0.0, 0.0, 2.0, 0.0, 2.0, 2.0, 3.0, 2.0, 0.0, 2.0, 2.0, 0.0, 0.0, 0.0, 0.0, 0.0, 0.0, 0.0, 0.0, 0.0, 2.0, 0.0, 0.0, 0.0, 2.0, 0.0, 0.0, 0.0, 2.0, 0.0, 0.0, 0.0, 0.0, 0.0, 0.0, 0.0, 0.0, 2.0, 0.0, 0.0, 2.0, 0.0, 0.0, 3.0, 0.0, 0.0, 2.0, 2.0, 2.0, 0.0, 3.0, 0.0, 0.0, 0.0, 0.0, 2.0, 0.0, 0.0, 0.0, 0.0, 0.0, 0.0, 0.0, 0.0, 0.0, 0.0, 0.0, 3.0, 0.0, 0.0, 2.0, 0.0, 2.0, 0.0, 2.0, 0.0, 0.0, 0.0, 0.0, 0.0, 2.0, 2.0, 4.0, 0.0, 3.0, 2.0, 0.0, 0.0, 2.0, 2.0, 2.0, 0.0, 2.0, 0.0, 0.0, 2.0, 0.0, 0.0, 3.0, 2.0, 2.0, 0.0, 0.0, 0.0, 2.0, 0.0, 0.0, 2.0, 0.0, 0.0, 0.0, 0.0, 2.0, 0.0, 0.0, 3.0, 0.0, 0.0, 2.0, 0.0, 0.0, 0.0, 2.0, 3.0, 2.0, 0.0, 0.0, 2.0, 3.0, 2.0, 0.0, 0.0, 0.0, 4.0, 0.0, 0.0, 0.0, 0.0, 0.0, 0.0, 0.0, 0.0, 2.0, 3.0, 0.0, 0.0, 0.0, 0.0, 0.0, 3.0, 0.0, 2.0, 0.0, 0.0, 0.0, 0.0, 0.0, 2.0, 0.0, 0.0, 3.0, 0.0, 0.0, 2.0, 0.0, 2.0, 0.0, 0.0, 2.0, 0.0, 0.0, 2.0, 2.0, 3.0, 0.0, 0.0, 2.0, 0.0, 0.0, 0.0, 2.0, 0.0, 0.0, 0.0, 0.0, 0.0, 2.0, 0.0, 0.0, 0.0, 3.0, 0.0, 0.0, 0.0, 0.0, 2.0, 2.0, 0.0, 2.0, 2.0, 0.0, 2.0, 0.0, 0.0, 0.0, 0.0, 2.0, 3.0, 0.0, 0.0, 2.0, 3.0, 0.0, 0.0, 2.0, 0.0, 0.0, 2.0, 0.0, 0.0, 0.0, 0.0, 0.0, 0.0, 0.0, 0.0, 0.0, 0.0, 0.0, 0.0, 0.0, 0.0, 2.0, 0.0, 0.0, 0.0, 2.0, 0.0, 4.0, 0.0, 0.0, 0.0, 2.0, 0.0, 0.0, 0.0, 0.0, 0.0, 2.0, 3.0, 0.0, 0.0, 0.0, 4.0, 2.0, 0.0, 0.0, 4.0, 0.0, 2.0, 2.0, 2.0, 0.0, 0.0, 0.0, 3.0, 0.0, 0.0, 2.0, 0.0, 0.0, 0.0, 4.0, 0.0, 3.0, 4.0, 3.0, 0.0, 0.0, 0.0, 0.0, 3.0, 0.0, 0.0, 0.0, 0.0, 3.0, 0.0, 0.0, 0.0, 0.0, 2.0, 0.0, 0.0, 0.0, 2.0, 0.0, 4.0, 2.0, 2.0, 3.0, 2.0, 0.0, 0.0, 0.0, 4.0, 3.0, 2.0, 0.0, 0.0, 0.0, 0.0, 0.0, 0.0, 0.0, 2.0, 0.0, 2.0, 2.0, 2.0, 2.0, 0.0, 2.0, 2.0, 0.0, 0.0, 2.0, 3.0, 2.0, 0.0, 0.0, 0.0, 0.0, 0.0, 0.0, 0.0, 0.0, 0.0, 0.0, 2.0, 0.0, 0.0, 0.0, 0.0, 2.0, 0.0, 0.0, 0.0, 0.0, 2.0, 0.0, 0.0, 3.0, 3.0, 0.0, 2.0, 2.0, 2.0, 0.0, 3.0, 3.0, 0.0, 0.0, 0.0, 2.0, 0.0, 2.0, 0.0, 0.0, 0.0, 2.0, 0.0, 2.0, 0.0, 0.0, 3.0, 3.0, 0.0, 0.0, 0.0, 3.0, 0.0, 2.0, 0.0, 0.0, 2.0, 0.0, 0.0, 0.0, 0.0, 0.0, 0.0, 0.0, 0.0, 0.0, 2.0, 2.0, 3.0, 0.0, 2.0, 3.0, 0.0, 2.0, 0.0, 2.0, 3.0, 2.0, 0.0, 2.0, 0.0, 0.0, 2.0, 0.0, 2.0, 0.0, 0.0, 0.0, 0.0, 0.0, 0.0, 0.0, 0.0, 0.0, 0.0, 0.0, 0.0, 2.0, 2.0, 2.0, 0.0, 3.0, 0.0, 2.0, 3.0, 0.0, 0.0, 0.0, 0.0, 0.0, 0.0, 0.0, 0.0, 0.0, 0.0, 4.0, 0.0, 0.0, 2.0, 0.0, 0.0, 0.0, 2.0, 2.0, 0.0, 0.0, 2.0, 0.0, 0.0, 0.0, 0.0, 0.0, 2.0, 0.0, 0.0, 0.0, 0.0, 0.0, 3.0, 0.0, 0.0, 2.0, 0.0, 0.0, 0.0, 0.0, 2.0, 0.0, 0.0, 2.0, 2.0, 3.0, 3.0, 3.0, 3.0, 3.0, 2.0, 0.0, 2.0, 0.0, 2.0, 0.0, 0.0, 0.0, 2.0, 3.0, 0.0, 2.0, 0.0, 0.0, 3.0, 0.0, 0.0, 0.0, 0.0, 2.0, 0.0, 0.0, 2.0, 0.0, 2.0, 0.0, 0.0, 0.0, 0.0, 3.0, 2.0, 3.0, 2.0, 2.0, 0.0, 3.0, 0.0, 0.0, 0.0, 2.0, 0.0, 0.0, 0.0, 0.0, 0.0, 0.0, 0.0, 0.0, 0.0, 3.0, 0.0, 0.0, 0.0, 0.0, 2.0, 0.0, 0.0, 0.0, 4.0, 2.0, 0.0, 0.0, 2.0, 2.0, 2.0, 0.0, 0.0, 0.0, 0.0, 0.0, 2.0, 2.0, 0.0, 0.0, 0.0, 0.0, 0.0, 0.0, 0.0, 3.0, 2.0, 0.0, 3.0, 0.0, 0.0, 0.0, 4.0, 0.0, 0.0, 4.0, 0.0, 0.0, 0.0, 2.0, 3.0, 0.0, 2.0, 0.0, 0.0, 2.0, 2.0, 0.0, 0.0, 0.0, 0.0, 0.0, 0.0, 2.0, 0.0, 0.0, 0.0, 0.0, 0.0, 0.0, 0.0, 0.0, 0.0, 0.0, 0.0, 0.0, 0.0, 0.0, 0.0, 0.0, 0.0, 0.0, 0.0, 2.0, 0.0, 0.0, 0.0, 0.0, 0.0, 3.0, 0.0, 0.0, 0.0, 0.0, 0.0, 0.0, 0.0, 2.0, 2.0, 2.0, 0.0, 2.0, 0.0, 0.0, 2.0, 0.0, 4.0, 0.0, 2.0, 0.0, 0.0, 2.0, 2.0, 0.0, 2.0, 0.0, 0.0, 0.0, 0.0, 0.0, 0.0, 0.0, 0.0, 0.0, 0.0, 2.0, 2.0, 3.0, 0.0, 0.0, 0.0, 0.0, 0.0, 2.0, 0.0, 0.0, 4.0, 0.0, 3.0, 0.0, 2.0, 3.0, 3.0, 2.0, 0.0, 2.0, 0.0, 0.0, 0.0, 0.0, 0.0, 0.0, 0.0, 3.0, 0.0, 4.0, 4.0, 0.0, 3.0, 0.0, 0.0, 0.0, 0.0, 2.0, 2.0, 0.0, 0.0, 2.0, 0.0, 0.0, 0.0, 3.0, 3.0, 0.0, 0.0, 0.0, 0.0, 0.0, 2.0, 2.0, 0.0, 0.0, 0.0, 2.0, 0.0, 0.0, 0.0, 0.0, 2.0, 0.0, 0.0, 0.0, 0.0, 0.0, 0.0, 0.0, 0.0, 0.0, 2.0, 0.0, 0.0, 0.0, 0.0, 3.0, 0.0, 0.0, 0.0, 0.0, 0.0, 0.0, 0.0, 0.0, 2.0, 0.0, 0.0, 0.0, 3.0, 4.0, 3.0, 0.0, 2.0, 2.0, 0.0, 0.0, 0.0, 0.0, 0.0, 0.0, 4.0, 0.0, 0.0, 2.0, 2.0, 0.0, 0.0, 2.0, 0.0, 2.0, 0.0, 2.0, 2.0, 3.0, 0.0, 0.0, 2.0, 3.0, 3.0, 0.0, 0.0, 0.0, 0.0, 2.0, 0.0, 0.0, 0.0, 3.0, 0.0, 0.0, 2.0, 0.0, 0.0, 0.0, 0.0, 0.0, 0.0, 3.0, 0.0, 0.0, 0.0, 4.0, 0.0, 0.0, 0.0, 0.0, 2.0, 0.0, 2.0, 0.0, 0.0, 0.0, 2.0, 2.0, 2.0, 2.0, 3.0, 2.0, 0.0, 0.0, 0.0, 0.0, 0.0, 0.0, 2.0, 0.0, 0.0, 2.0, 4.0, 0.0, 2.0, 2.0, 0.0, 0.0, 2.0, 0.0, 2.0, 2.0, 0.0, 3.0, 2.0, 0.0, 0.0, 0.0, 0.0, 0.0, 0.0, 3.0, 0.0, 0.0, 0.0, 2.0, 0.0, 0.0, 0.0, 3.0, 0.0, 0.0, 0.0, 0.0, 0.0, 0.0, 0.0, 0.0, 2.0, 0.0, 0.0, 3.0, 0.0, 0.0, 0.0, 0.0, 0.0, 0.0, 0.0, 0.0, 0.0, 3.0, 4.0, 0.0, 0.0, 4.0, 2.0, 0.0, 0.0, 0.0, 0.0, 2.0, 3.0, 0.0, 3.0, 0.0, 2.0, 0.0, 0.0, 0.0, 2.0, 2.0, 0.0, 0.0, 0.0, 0.0, 2.0, 3.0, 0.0, 0.0, 2.0, 0.0, 0.0, 2.0, 0.0, 4.0, 3.0, 0.0, 0.0, 2.0, 0.0, 0.0, 0.0, 0.0, 0.0, 0.0, 0.0, 0.0, 0.0, 2.0, 0.0, 0.0, 0.0, 0.0, 0.0, 2.0, 0.0, 0.0, 0.0, 0.0, 0.0, 3.0, 0.0, 2.0, 0.0, 0.0, 0.0, 0.0, 0.0, 0.0, 0.0, 0.0, 0.0, 2.0, 0.0, 0.0, 0.0, 0.0, 0.0, 2.0, 0.0, 0.0, 0.0, 0.0, 2.0, 0.0, 2.0, 0.0, 2.0, 0.0, 0.0, 0.0, 0.0, 0.0, 0.0, 0.0, 0.0, 0.0, 0.0, 0.0, 0.0, 0.0, 2.0, 2.0, 0.0, 0.0, 0.0, 0.0, 2.0, 0.0, 0.0, 0.0, 0.0, 0.0, 0.0, 0.0, 0.0, 2.0, 0.0, 0.0, 2.0, 2.0, 0.0, 2.0, 3.0, 2.0, 0.0, 2.0, 0.0, 2.0, 0.0, 0.0, 0.0, 0.0, 0.0, 0.0, 3.0, 2.0, 3.0, 0.0, 0.0, 0.0, 2.0, 0.0, 0.0, 0.0, 0.0, 0.0, 4.0, 3.0, 0.0, 2.0, 0.0, 0.0, 0.0, 0.0, 0.0, 0.0, 0.0, 2.0, 0.0, 0.0, 0.0, 0.0, 0.0, 2.0, 2.0, 0.0, 2.0, 0.0, 0.0, 0.0, 0.0, 0.0, 2.0, 0.0, 2.0, 0.0, 2.0, 0.0, 2.0, 0.0, 0.0, 3.0, 2.0, 0.0, 0.0, 0.0, 2.0, 0.0, 0.0, 0.0, 0.0, 2.0, 0.0, 0.0, 2.0, 0.0, 0.0, 2.0, 2.0, 3.0, 2.0, 0.0, 0.0, 2.0, 2.0, 0.0, 0.0, 0.0, 0.0, 0.0, 0.0, 0.0, 0.0, 0.0, 0.0, 0.0, 3.0, 0.0, 0.0, 0.0, 0.0, 0.0, 3.0, 0.0, 0.0, 0.0, 0.0, 0.0, 2.0, 2.0, 0.0, 0.0, 0.0, 0.0, 0.0, 0.0, 0.0, 2.0, 3.0, 2.0, 0.0, 0.0, 2.0, 0.0, 0.0, 2.0, 0.0, 2.0, 0.0, 0.0, 2.0, 2.0, 0.0, 2.0, 0.0, 0.0, 2.0, 2.0, 0.0, 0.0, 2.0, 0.0, 0.0, 0.0, 2.0, 0.0, 0.0, 0.0, 3.0, 0.0, 2.0, 2.0, 2.0, 0.0, 2.0, 2.0, 0.0, 0.0, 0.0, 3.0, 3.0, 0.0, 0.0, 0.0, 0.0, 2.0, 0.0, 0.0, 3.0, 4.0, 0.0, 0.0, 0.0, 0.0, 0.0, 0.0, 2.0, 0.0, 0.0, 0.0, 0.0, 3.0, 2.0, 0.0, 0.0, 0.0, 0.0, 0.0, 0.0, 0.0, 0.0, 0.0, 0.0, 4.0, 0.0, 0.0, 0.0, 0.0, 0.0, 0.0, 0.0, 0.0, 2.0, 3.0, 0.0, 3.0, 0.0, 0.0, 3.0, 0.0, 0.0, 0.0, 0.0, 3.0, 2.0, 2.0, 0.0, 0.0, 2.0, 0.0, 0.0, 0.0, 2.0, 0.0, 2.0, 0.0, 2.0, 0.0, 2.0, 0.0, 2.0, 0.0, 0.0, 0.0, 2.0, 3.0, 0.0, 0.0, 0.0, 0.0, 0.0, 0.0, 0.0, 0.0, 0.0, 0.0, 0.0, 2.0, 2.0, 0.0, 2.0, 0.0, 0.0, 0.0, 0.0, 3.0, 3.0, 2.0, 0.0, 0.0, 0.0, 0.0, 0.0, 2.0, 2.0, 0.0, 0.0, 2.0, 3.0, 2.0, 0.0, 0.0, 2.0, 0.0, 0.0, 0.0, 2.0, 0.0, 0.0, 0.0, 0.0, 3.0, 2.0, 0.0, 0.0, 0.0, 0.0, 0.0, 0.0, 2.0, 0.0, 0.0, 2.0, 3.0, 0.0, 0.0, 0.0, 3.0, 0.0, 0.0, 0.0, 2.0, 0.0, 2.0, 0.0, 2.0, 0.0, 0.0, 0.0, 2.0, 3.0, 0.0, 0.0, 0.0, 0.0, 0.0, 2.0, 0.0, 0.0, 2.0, 4.0, 0.0, 0.0, 0.0, 2.0, 2.0, 0.0, 3.0, 0.0, 2.0, 0.0, 0.0, 2.0, 2.0, 0.0, 0.0, 0.0, 0.0, 2.0, 0.0, 0.0, 0.0, 0.0, 2.0, 0.0, 0.0, 0.0, 4.0, 4.0, 2.0, 0.0, 3.0, 2.0, 0.0, 3.0, 2.0, 0.0, 3.0, 0.0, 0.0, 0.0, 0.0, 0.0, 0.0, 0.0, 2.0, 0.0, 2.0, 0.0, 0.0, 4.0, 0.0, 0.0, 0.0, 0.0, 2.0, 0.0, 2.0, 0.0, 0.0, 2.0, 3.0, 0.0, 0.0, 0.0, 0.0, 0.0, 0.0, 2.0, 2.0, 2.0, 0.0, 0.0, 2.0, 0.0, 0.0, 2.0, 2.0, 0.0, 2.0, 0.0, 0.0, 2.0, 0.0, 0.0, 0.0, 0.0, 2.0, 0.0, 0.0, 0.0, 3.0, 0.0, 2.0, 2.0, 0.0, 3.0, 0.0, 0.0, 0.0, 0.0, 0.0, 0.0, 0.0, 3.0, 0.0, 0.0, 3.0, 0.0, 0.0, 2.0, 0.0, 0.0, 0.0, 0.0, 0.0, 0.0, 0.0, 2.0, 2.0, 0.0, 2.0, 0.0, 0.0, 2.0, 0.0, 0.0, 0.0, 3.0, 2.0, 0.0, 0.0, 0.0, 2.0, 0.0, 0.0, 0.0, 0.0, 3.0, 2.0, 0.0, 0.0, 0.0, 2.0, 2.0, 0.0, 2.0, 2.0, 2.0, 4.0, 0.0, 0.0, 0.0, 2.0, 3.0, 2.0, 4.0, 2.0, 0.0, 0.0, 0.0, 0.0, 0.0, 0.0, 0.0, 2.0, 0.0, 0.0, 0.0, 0.0, 0.0, 0.0, 2.0, 0.0, 0.0, 2.0, 0.0, 0.0, 2.0, 0.0, 0.0, 0.0, 0.0, 2.0, 0.0, 0.0, 0.0, 2.0, 0.0, 0.0, 0.0, 0.0, 2.0, 0.0, 0.0, 2.0, 0.0, 0.0, 0.0, 0.0, 2.0, 0.0, 0.0, 2.0, 0.0, 0.0, 3.0, 0.0, 2.0, 0.0, 0.0, 2.0, 2.0, 2.0, 0.0, 0.0, 0.0, 0.0, 0.0, 0.0, 2.0, 0.0, 0.0, 0.0, 0.0, 0.0, 0.0, 0.0, 3.0, 2.0, 0.0, 0.0, 3.0, 2.0, 0.0, 3.0, 0.0, 0.0, 0.0, 0.0, 2.0, 0.0, 0.0, 2.0, 2.0, 0.0, 0.0, 2.0, 2.0, 0.0, 2.0, 0.0, 2.0, 0.0, 0.0, 0.0, 0.0, 2.0, 0.0, 0.0, 4.0, 2.0, 0.0, 0.0, 0.0, 0.0, 0.0, 0.0, 0.0, 0.0, 0.0, 0.0, 0.0, 0.0, 2.0, 0.0, 2.0, 0.0, 0.0, 0.0, 0.0, 0.0, 0.0, 0.0, 0.0, 0.0, 0.0, 0.0, 2.0, 0.0, 0.0, 2.0, 2.0, 0.0, 0.0, 2.0, 0.0, 2.0, 2.0, 0.0, 0.0, 0.0, 0.0, 0.0, 0.0, 0.0, 2.0, 2.0, 2.0, 2.0, 0.0, 0.0, 0.0, 0.0, 0.0, 0.0, 3.0, 2.0, 3.0, 2.0, 0.0, 2.0, 0.0, 0.0, 2.0, 0.0, 2.0, 0.0, 2.0, 0.0, 0.0, 0.0, 0.0, 0.0, 2.0, 0.0, 0.0, 0.0, 0.0, 0.0, 2.0, 0.0, 0.0, 2.0, 0.0, 0.0, 2.0, 0.0, 2.0, 2.0, 2.0, 0.0, 0.0, 0.0, 0.0, 0.0, 0.0, 0.0, 0.0, 0.0, 0.0, 0.0, 0.0, 0.0, 0.0, 0.0, 0.0, 2.0, 0.0, 2.0, 0.0, 0.0, 2.0, 0.0, 0.0, 0.0, 0.0, 2.0, 2.0, 2.0, 0.0, 0.0, 0.0, 2.0, 3.0, 2.0, 0.0, 3.0, 0.0, 2.0, 0.0, 4.0, 0.0, 3.0, 3.0, 3.0, 0.0, 2.0, 2.0, 0.0, 2.0, 0.0, 2.0, 0.0, 2.0, 2.0, 3.0, 2.0, 0.0, 3.0, 3.0, 3.0, 3.0, 0.0, 0.0, 0.0, 0.0, 0.0, 2.0, 3.0, 0.0, 0.0, 0.0, 0.0, 0.0, 0.0, 0.0, 0.0, 0.0, 0.0, 3.0, 3.0, 0.0, 0.0, 0.0, 0.0, 2.0, 2.0, 2.0, 0.0, 0.0, 0.0, 0.0, 0.0, 0.0, 0.0, 0.0, 0.0, 0.0, 0.0, 0.0, 0.0, 0.0, 2.0, 0.0, 2.0, 0.0, 0.0, 2.0, 2.0, 0.0, 2.0, 0.0, 0.0, 0.0, 0.0, 0.0, 0.0, 3.0, 0.0, 2.0, 0.0, 2.0, 2.0, 0.0, 0.0, 2.0, 0.0, 0.0, 0.0, 0.0, 0.0, 0.0, 0.0, 2.0, 0.0, 2.0, 0.0, 2.0, 0.0, 2.0, 0.0, 4.0, 2.0, 0.0, 2.0, 0.0, 0.0, 0.0, 0.0, 2.0, 0.0, 0.0, 0.0, 0.0, 0.0, 3.0, 3.0, 3.0, 0.0, 0.0, 0.0, 0.0, 0.0, 0.0, 0.0, 0.0, 0.0, 0.0, 2.0, 0.0, 0.0, 0.0, 2.0, 0.0, 0.0, 0.0, 0.0, 2.0, 2.0, 3.0, 3.0, 0.0, 3.0, 0.0, 0.0, 2.0, 0.0, 2.0, 0.0, 0.0, 2.0, 0.0, 0.0, 2.0, 0.0, 0.0, 0.0, 0.0, 2.0, 2.0, 2.0, 2.0, 2.0, 0.0, 2.0, 0.0, 0.0, 2.0, 0.0, 0.0, 0.0, 0.0, 2.0, 0.0, 0.0, 2.0, 0.0, 0.0, 2.0, 2.0, 0.0, 0.0, 0.0, 0.0, 4.0, 2.0, 2.0, 0.0, 0.0, 0.0, 0.0, 2.0, 3.0, 0.0, 4.0, 0.0, 0.0, 2.0, 0.0, 0.0, 2.0, 0.0, 2.0, 2.0, 2.0, 0.0, 0.0, 2.0, 0.0, 2.0, 2.0, 0.0, 2.0, 2.0, 0.0, 0.0, 0.0, 0.0, 2.0, 2.0, 0.0, 0.0, 2.0, 0.0, 2.0, 0.0, 0.0, 0.0, 3.0, 3.0, 0.0, 0.0, 0.0, 0.0, 0.0, 0.0, 4.0, 0.0, 2.0, 2.0, 0.0, 0.0, 3.0, 0.0, 3.0, 3.0, 3.0, 0.0, 0.0, 2.0, 0.0, 0.0, 0.0, 0.0, 2.0, 2.0, 2.0, 0.0, 2.0, 3.0, 0.0, 0.0, 0.0, 0.0, 0.0, 0.0, 0.0, 0.0, 2.0, 0.0, 0.0, 0.0, 2.0, 2.0, 0.0, 0.0, 0.0, 0.0, 2.0, 0.0, 0.0, 0.0, 2.0, 0.0, 2.0, 0.0, 0.0, 2.0, 2.0, 0.0, 2.0, 2.0, 0.0, 0.0, 0.0, 0.0, 0.0, 0.0, 0.0, 0.0, 2.0, 2.0, 0.0, 3.0, 0.0, 0.0, 0.0, 0.0, 2.0, 4.0, 2.0, 0.0, 0.0, 2.0, 4.0, 0.0, 0.0, 0.0, 0.0, 0.0, 2.0, 2.0, 0.0, 0.0, 0.0, 0.0, 0.0, 3.0, 0.0, 4.0, 3.0, 0.0, 0.0, 0.0, 0.0, 0.0, 2.0, 3.0, 0.0, 0.0, 0.0, 2.0, 2.0, 0.0, 2.0, 2.0, 0.0, 0.0, 0.0, 0.0, 0.0, 2.0, 0.0, 0.0, 0.0, 0.0, 3.0, 2.0, 2.0, 2.0, 0.0, 0.0, 0.0, 0.0, 0.0, 0.0, 0.0, 2.0, 0.0, 0.0, 2.0, 0.0, 0.0, 2.0, 0.0, 0.0, 0.0, 2.0, 0.0, 0.0, 0.0, 0.0, 0.0, 2.0, 2.0, 2.0, 0.0, 2.0, 0.0, 0.0, 0.0, 2.0, 0.0, 0.0, 0.0, 0.0, 0.0, 0.0, 0.0, 0.0, 0.0, 0.0, 0.0, 3.0, 0.0, 0.0, 2.0, 2.0, 0.0, 0.0, 0.0, 0.0, 2.0, 2.0, 0.0, 0.0, 0.0, 2.0, 2.0, 0.0, 2.0, 0.0, 2.0, 2.0, 0.0, 3.0, 0.0, 0.0, 2.0, 2.0, 0.0, 0.0, 0.0, 2.0, 0.0, 2.0, 2.0, 0.0, 0.0, 0.0, 2.0, 2.0, 2.0, 2.0, 0.0, 0.0, 0.0, 0.0, 3.0, 3.0, 2.0, 0.0, 2.0, 0.0, 0.0, 0.0, 0.0, 0.0, 2.0, 4.0, 0.0, 0.0, 0.0, 2.0, 0.0, 0.0, 3.0, 0.0, 3.0, 2.0, 3.0, 0.0, 0.0, 0.0, 0.0, 2.0, 0.0, 0.0, 0.0, 2.0, 2.0, 4.0, 3.0, 2.0, 0.0, 0.0, 0.0, 0.0, 0.0, 3.0, 0.0, 0.0, 0.0, 0.0, 0.0, 0.0, 0.0, 0.0, 0.0, 4.0, 0.0, 2.0, 3.0, 2.0, 0.0, 2.0, 2.0, 0.0, 0.0, 0.0, 0.0, 2.0, 0.0, 2.0, 0.0, 0.0, 0.0, 0.0, 0.0, 3.0, 0.0, 2.0, 0.0, 2.0, 4.0, 0.0, 0.0, 0.0, 0.0, 2.0, 3.0, 0.0, 0.0, 3.0, 0.0, 3.0, 2.0, 0.0, 0.0, 0.0, 0.0, 0.0, 0.0, 2.0, 0.0, 3.0, 0.0, 0.0, 0.0, 0.0, 2.0, 0.0, 0.0, 0.0, 0.0, 2.0, 2.0, 0.0, 0.0, 0.0, 2.0, 0.0, 2.0, 0.0, 3.0, 0.0, 2.0, 0.0, 2.0, 2.0, 0.0, 2.0, 2.0, 2.0, 2.0, 2.0, 2.0, 0.0, 0.0, 0.0, 0.0, 0.0, 0.0, 2.0, 2.0, 0.0, 0.0, 3.0, 0.0, 2.0, 0.0, 0.0, 0.0, 2.0, 0.0, 0.0, 0.0, 4.0, 0.0, 0.0, 0.0, 0.0, 4.0, 2.0, 0.0, 2.0, 0.0, 0.0, 0.0, 2.0, 0.0, 0.0, 2.0, 0.0, 0.0, 0.0, 0.0, 0.0, 2.0, 0.0, 0.0, 0.0, 0.0, 0.0, 0.0, 2.0, 0.0, 0.0, 0.0, 3.0, 0.0, 0.0, 0.0, 0.0, 0.0, 3.0, 0.0, 0.0, 0.0, 0.0, 0.0, 0.0, 0.0, 0.0, 0.0, 0.0, 0.0, 0.0, 2.0, 0.0, 2.0, 0.0, 0.0, 0.0, 4.0, 2.0, 4.0, 0.0, 0.0, 2.0, 0.0, 0.0, 0.0, 0.0, 0.0, 3.0, 0.0, 0.0, 0.0, 0.0, 0.0, 0.0, 2.0, 0.0, 0.0, 2.0, 0.0, 0.0, 3.0, 0.0, 0.0, 2.0, 2.0, 0.0, 2.0, 0.0, 0.0, 2.0, 0.0, 2.0, 0.0, 0.0, 2.0, 0.0, 2.0, 0.0, 0.0, 2.0, 3.0, 0.0, 2.0, 0.0, 0.0, 2.0, 2.0, 2.0, 0.0, 0.0, 4.0, 0.0, 3.0, 0.0, 0.0, 3.0, 0.0, 0.0, 0.0, 0.0, 0.0, 0.0, 2.0, 0.0, 0.0, 2.0, 0.0, 0.0, 0.0, 0.0, 0.0, 0.0, 2.0, 0.0, 0.0, 2.0, 0.0, 2.0, 2.0, 2.0, 0.0, 0.0, 0.0, 0.0, 0.0, 0.0, 3.0, 0.0, 3.0, 0.0, 4.0, 2.0, 2.0, 0.0, 0.0, 0.0, 0.0, 3.0, 0.0, 2.0, 0.0, 2.0, 0.0, 0.0, 0.0, 0.0, 0.0, 0.0, 0.0, 0.0, 0.0, 2.0, 0.0, 0.0, 0.0, 0.0, 2.0, 0.0, 0.0, 0.0, 0.0, 0.0, 0.0, 2.0, 0.0, 0.0, 3.0, 2.0, 0.0, 0.0, 0.0, 0.0, 0.0, 0.0, 0.0, 0.0, 0.0, 2.0, 0.0, 2.0, 0.0, 0.0, 0.0, 0.0, 0.0, 0.0, 0.0, 0.0, 2.0, 0.0, 4.0, 0.0, 2.0, 2.0, 0.0, 2.0, 0.0, 0.0, 0.0, 2.0, 0.0, 0.0, 0.0, 0.0, 0.0, 0.0, 0.0, 3.0, 0.0, 2.0, 0.0, 0.0, 0.0, 0.0, 0.0, 3.0, 2.0, 0.0, 0.0, 0.0, 0.0, 0.0, 0.0, 3.0, 0.0, 2.0, 0.0, 2.0, 0.0, 0.0, 0.0, 0.0, 0.0, 3.0, 0.0, 2.0, 2.0, 0.0, 0.0, 0.0, 0.0, 2.0, 3.0, 2.0, 0.0, 0.0, 2.0, 3.0, 2.0, 0.0, 2.0, 0.0, 0.0, 0.0, 0.0, 2.0, 3.0, 0.0, 0.0, 0.0, 2.0, 0.0, 0.0, 4.0, 0.0, 0.0, 0.0, 0.0, 0.0, 0.0, 0.0, 0.0, 0.0, 2.0, 2.0, 0.0, 0.0, 2.0, 0.0, 0.0, 0.0, 0.0, 0.0, 0.0, 0.0, 0.0, 0.0, 2.0, 0.0, 0.0, 0.0, 0.0, 0.0, 3.0, 3.0, 2.0, 0.0, 2.0, 0.0, 0.0, 0.0, 2.0, 0.0, 0.0, 0.0, 0.0, 0.0, 0.0, 2.0, 0.0, 0.0, 2.0, 2.0, 2.0, 0.0, 0.0, 2.0, 2.0, 0.0, 2.0, 0.0, 0.0, 0.0, 0.0, 0.0, 2.0, 3.0, 2.0, 2.0, 0.0, 2.0, 0.0, 3.0, 0.0, 0.0, 0.0, 2.0, 0.0, 0.0, 0.0, 0.0, 0.0, 2.0, 2.0, 0.0, 0.0, 0.0, 0.0, 2.0, 3.0, 0.0, 0.0, 3.0, 0.0, 0.0, 0.0, 4.0, 0.0, 3.0, 0.0, 0.0, 0.0, 3.0, 2.0, 2.0, 2.0, 3.0, 0.0, 2.0, 0.0, 2.0, 0.0, 0.0, 0.0, 2.0, 2.0, 0.0, 0.0, 2.0, 0.0, 0.0, 0.0, 3.0, 0.0, 0.0, 2.0, 0.0, 2.0, 4.0, 0.0, 0.0, 2.0, 0.0, 0.0, 0.0, 0.0, 2.0, 0.0, 2.0, 0.0, 0.0, 2.0, 0.0, 0.0, 4.0, 0.0, 2.0, 2.0, 0.0, 0.0, 2.0, 3.0, 3.0, 0.0, 0.0, 0.0, 0.0, 0.0, 0.0, 0.0, 3.0, 0.0, 2.0, 0.0, 2.0, 0.0, 0.0, 0.0, 2.0, 2.0, 0.0, 0.0, 2.0, 0.0, 0.0, 2.0, 3.0, 0.0, 0.0, 0.0, 0.0, 0.0, 0.0, 0.0, 0.0, 0.0, 2.0, 0.0, 0.0, 0.0, 0.0, 0.0, 0.0, 0.0, 0.0, 0.0, 0.0, 0.0, 0.0, 2.0, 0.0, 0.0, 3.0, 2.0, 0.0, 3.0, 0.0, 0.0, 2.0, 2.0, 0.0, 2.0, 0.0, 0.0, 0.0, 0.0, 0.0, 0.0, 0.0, 0.0, 2.0, 0.0, 0.0, 2.0, 0.0, 0.0, 0.0, 0.0, 4.0, 0.0, 4.0, 3.0, 0.0, 0.0, 3.0, 3.0, 3.0, 0.0, 0.0, 2.0, 0.0, 0.0, 4.0, 0.0, 0.0, 0.0, 0.0, 0.0, 3.0, 0.0, 2.0, 0.0, 3.0, 0.0, 0.0, 0.0, 0.0, 0.0, 0.0, 0.0, 0.0, 0.0, 0.0, 2.0, 0.0, 0.0, 0.0, 0.0, 0.0, 0.0, 0.0, 0.0, 4.0, 2.0, 0.0, 0.0, 2.0, 2.0, 0.0, 0.0, 0.0, 0.0, 0.0, 2.0, 0.0, 3.0, 3.0, 0.0, 0.0, 0.0, 4.0, 2.0, 0.0, 2.0, 0.0, 0.0, 0.0, 0.0, 0.0, 2.0, 0.0, 0.0, 0.0, 0.0, 0.0, 0.0, 0.0, 2.0, 0.0, 0.0, 0.0, 0.0, 0.0, 0.0, 0.0, 2.0, 0.0, 2.0, 0.0, 3.0, 0.0, 3.0, 0.0, 0.0, 0.0, 0.0, 0.0, 0.0, 0.0, 0.0, 0.0, 2.0, 3.0, 0.0, 0.0, 2.0, 0.0, 0.0, 2.0, 0.0, 0.0, 2.0, 2.0, 0.0, 3.0, 2.0, 0.0, 0.0, 0.0, 0.0, 0.0, 0.0, 2.0, 0.0, 0.0, 0.0, 3.0, 0.0, 0.0, 0.0, 0.0, 0.0, 2.0, 0.0, 2.0, 2.0, 0.0, 2.0, 0.0, 0.0, 2.0, 0.0, 0.0, 2.0, 0.0, 0.0, 0.0, 4.0, 0.0, 2.0, 0.0, 0.0, 0.0, 2.0, 0.0, 0.0, 0.0, 0.0, 0.0, 4.0, 3.0, 0.0, 2.0, 2.0, 2.0, 3.0, 0.0, 2.0, 0.0, 0.0, 0.0, 0.0, 0.0, 0.0, 0.0, 0.0, 0.0, 0.0, 0.0, 0.0, 2.0, 0.0, 2.0, 0.0, 0.0, 2.0, 2.0, 2.0, 3.0, 0.0, 0.0, 0.0, 0.0, 3.0, 0.0, 0.0, 0.0, 0.0, 0.0, 0.0, 0.0, 2.0, 0.0, 0.0, 2.0, 0.0, 0.0, 0.0, 4.0, 0.0, 2.0, 3.0, 2.0, 0.0, 2.0, 0.0, 2.0, 2.0, 2.0, 0.0, 2.0, 2.0, 2.0, 0.0, 0.0, 2.0, 0.0, 4.0, 0.0, 2.0, 0.0, 0.0, 2.0, 0.0, 2.0, 0.0, 0.0, 0.0, 0.0, 0.0, 3.0, 2.0, 0.0, 2.0, 0.0, 2.0, 0.0, 2.0, 0.0, 0.0, 0.0, 2.0, 0.0, 2.0, 2.0, 0.0, 2.0, 0.0, 2.0, 2.0, 0.0, 3.0, 0.0, 0.0, 0.0, 2.0, 0.0, 0.0, 2.0, 0.0, 2.0, 2.0, 2.0, 0.0, 0.0, 0.0, 0.0, 0.0, 2.0, 2.0, 0.0, 0.0, 2.0, 4.0, 0.0, 2.0, 0.0, 0.0, 4.0, 0.0, 2.0, 0.0, 0.0, 0.0, 0.0, 0.0, 0.0, 0.0, 2.0, 2.0, 0.0, 0.0, 0.0, 0.0, 0.0, 0.0, 0.0, 0.0, 2.0, 0.0, 2.0, 2.0, 0.0, 0.0, 0.0, 0.0, 0.0, 0.0, 0.0, 4.0, 2.0, 0.0, 0.0, 0.0, 0.0, 0.0, 0.0, 2.0, 4.0, 2.0, 0.0, 2.0, 0.0, 2.0, 2.0, 0.0, 0.0, 0.0, 0.0, 0.0, 0.0, 0.0, 2.0, 0.0, 0.0, 0.0, 2.0, 2.0, 0.0, 0.0, 0.0, 0.0, 3.0, 3.0, 3.0, 0.0, 0.0, 0.0, 0.0, 0.0, 2.0, 0.0, 0.0, 0.0, 2.0, 0.0, 0.0, 0.0, 3.0, 0.0, 2.0, 0.0, 0.0, 0.0, 0.0, 0.0, 2.0, 2.0, 2.0, 0.0, 0.0, 2.0, 0.0, 2.0, 2.0, 0.0, 2.0, 0.0, 0.0, 0.0, 3.0, 0.0, 0.0, 0.0, 2.0, 0.0, 0.0, 2.0, 3.0, 0.0, 2.0, 0.0, 0.0, 0.0, 0.0, 0.0, 0.0, 0.0, 2.0, 0.0, 0.0, 0.0, 4.0, 0.0, 0.0, 0.0, 0.0, 0.0, 2.0, 2.0, 0.0, 2.0, 0.0, 0.0, 2.0, 0.0, 0.0, 0.0, 0.0, 0.0, 0.0, 2.0, 0.0, 0.0, 2.0, 0.0, 0.0, 2.0, 2.0, 0.0, 0.0, 2.0, 0.0, 0.0, 2.0, 0.0, 0.0, 3.0, 2.0, 0.0, 2.0, 0.0, 2.0, 2.0, 0.0, 0.0, 0.0, 0.0, 0.0, 0.0, 0.0, 0.0, 0.0, 0.0, 0.0, 0.0, 0.0, 0.0, 3.0, 0.0, 0.0, 0.0, 0.0, 0.0, 2.0, 0.0, 3.0, 0.0, 2.0, 0.0, 2.0, 2.0, 2.0, 0.0, 0.0, 0.0, 2.0, 0.0, 0.0, 0.0, 0.0, 0.0, 0.0, 2.0, 0.0, 0.0, 0.0, 2.0, 3.0, 0.0, 0.0, 0.0, 4.0, 3.0, 0.0, 0.0, 0.0, 2.0, 3.0, 0.0, 2.0, 0.0, 2.0, 0.0, 0.0, 0.0, 0.0, 2.0, 0.0, 0.0, 0.0, 2.0, 0.0, 0.0, 0.0, 0.0, 0.0, 2.0, 0.0, 0.0, 0.0, 0.0, 0.0, 0.0, 2.0, 0.0, 0.0, 0.0, 0.0, 0.0, 0.0, 0.0, 0.0, 0.0, 3.0, 0.0, 2.0, 0.0, 2.0, 0.0, 0.0, 2.0, 2.0, 2.0, 2.0, 0.0, 2.0, 0.0, 0.0, 0.0, 2.0, 0.0, 0.0, 0.0, 0.0, 0.0, 2.0, 0.0, 2.0, 0.0, 0.0, 0.0, 2.0, 2.0, 0.0, 0.0, 2.0, 2.0, 0.0, 0.0, 0.0, 0.0, 0.0, 0.0, 0.0, 0.0, 0.0, 2.0, 2.0, 2.0, 0.0, 2.0, 0.0, 0.0, 0.0, 0.0, 0.0, 0.0, 0.0, 3.0, 2.0, 0.0, 0.0, 3.0, 0.0, 2.0, 2.0, 2.0, 2.0, 3.0, 0.0, 4.0, 0.0, 0.0, 0.0, 0.0, 0.0, 2.0, 2.0, 0.0, 0.0, 0.0, 2.0, 2.0, 2.0, 0.0, 0.0, 3.0, 0.0, 0.0, 0.0, 0.0, 2.0, 2.0, 0.0, 2.0, 0.0, 2.0, 2.0, 0.0, 3.0, 0.0, 3.0, 0.0, 2.0, 0.0, 3.0, 0.0, 0.0, 0.0, 0.0, 0.0, 0.0, 0.0, 2.0, 0.0, 0.0, 0.0, 0.0, 0.0, 0.0, 0.0, 0.0, 2.0, 2.0, 0.0, 0.0, 2.0, 0.0, 0.0, 0.0, 2.0, 0.0, 0.0, 0.0, 0.0, 0.0, 0.0, 2.0, 0.0, 0.0, 2.0, 0.0, 0.0, 2.0, 0.0, 3.0, 0.0, 0.0, 2.0, 2.0, 2.0, 0.0, 0.0, 0.0, 2.0, 0.0, 0.0, 0.0, 0.0, 0.0, 0.0, 0.0, 0.0, 2.0, 2.0, 0.0, 0.0, 0.0, 2.0, 0.0, 0.0, 0.0, 0.0, 2.0, 3.0, 0.0, 2.0, 2.0, 0.0, 0.0, 2.0, 2.0, 0.0, 0.0, 0.0, 2.0, 0.0, 2.0, 0.0, 0.0, 0.0, 0.0, 0.0, 2.0, 0.0, 2.0, 0.0, 0.0, 2.0, 0.0, 0.0, 3.0, 0.0, 0.0, 0.0, 0.0, 0.0, 2.0, 0.0, 0.0, 0.0, 0.0, 2.0, 2.0, 0.0, 3.0, 0.0, 3.0, 2.0, 0.0, 2.0, 2.0, 0.0, 0.0, 0.0, 0.0, 2.0, 0.0, 0.0, 0.0, 0.0, 0.0, 0.0, 0.0, 0.0, 0.0, 0.0, 3.0, 0.0, 2.0, 0.0, 4.0, 2.0, 4.0, 0.0, 0.0, 2.0, 2.0, 0.0, 3.0, 2.0, 3.0, 0.0, 0.0, 0.0, 0.0, 3.0, 0.0, 0.0, 0.0, 0.0, 2.0, 0.0, 0.0, 0.0, 0.0, 0.0, 0.0, 0.0, 4.0, 0.0, 2.0, 0.0, 0.0, 0.0, 0.0, 0.0, 0.0, 0.0, 0.0, 2.0, 0.0, 0.0, 2.0, 2.0, 0.0, 0.0, 0.0, 2.0, 3.0, 0.0, 0.0, 3.0, 0.0, 0.0, 0.0, 0.0, 2.0, 0.0, 0.0, 3.0, 2.0, 0.0, 0.0, 2.0, 0.0, 0.0, 0.0, 0.0, 0.0, 2.0, 0.0, 2.0, 2.0, 0.0, 0.0, 0.0, 3.0, 2.0, 0.0, 3.0, 0.0, 0.0, 0.0, 0.0, 2.0, 2.0, 0.0, 0.0, 2.0, 0.0, 0.0, 0.0, 2.0, 0.0, 2.0, 0.0, 3.0, 0.0, 0.0, 3.0, 2.0, 2.0, 0.0, 0.0, 0.0, 2.0, 3.0, 0.0, 0.0, 0.0, 0.0, 0.0, 0.0, 0.0, 2.0, 0.0, 0.0, 2.0, 3.0, 2.0, 3.0, 0.0, 2.0, 0.0, 2.0, 2.0, 3.0, 0.0, 2.0, 0.0, 0.0, 0.0, 0.0, 2.0, 4.0, 0.0, 0.0, 0.0, 2.0, 0.0, 2.0, 2.0, 0.0, 0.0, 0.0, 0.0, 2.0, 2.0, 0.0, 2.0, 3.0, 0.0, 2.0, 0.0, 0.0, 0.0, 2.0, 0.0, 0.0, 2.0, 2.0, 0.0, 0.0, 2.0, 0.0, 0.0, 0.0, 0.0, 0.0, 0.0, 0.0, 0.0, 2.0, 2.0, 0.0, 0.0, 0.0, 2.0, 0.0, 0.0, 0.0, 2.0, 0.0, 2.0, 0.0, 0.0, 0.0, 0.0, 2.0, 2.0, 2.0, 0.0, 3.0, 3.0, 0.0, 3.0, 0.0, 0.0, 0.0, 0.0, 2.0, 0.0, 0.0, 2.0, 0.0, 0.0, 0.0, 0.0, 3.0, 2.0, 2.0, 0.0, 0.0, 0.0, 2.0, 0.0, 2.0, 0.0, 2.0, 0.0, 2.0, 2.0, 0.0, 0.0, 2.0, 0.0, 0.0, 0.0, 0.0, 0.0, 0.0, 0.0, 0.0, 0.0, 2.0, 0.0, 0.0, 0.0, 2.0, 0.0, 2.0, 2.0, 3.0, 0.0, 0.0, 0.0, 2.0, 2.0, 2.0, 0.0, 0.0, 2.0, 2.0, 3.0, 0.0, 0.0, 2.0, 0.0, 0.0, 0.0, 0.0, 0.0, 0.0, 0.0, 2.0, 2.0, 0.0, 0.0, 2.0, 0.0, 3.0, 0.0, 0.0, 3.0, 3.0, 0.0, 0.0, 2.0, 2.0, 0.0, 2.0, 0.0, 2.0, 0.0, 2.0, 0.0, 0.0, 0.0, 2.0, 0.0, 0.0, 0.0, 2.0, 0.0, 0.0, 0.0, 2.0, 0.0, 3.0, 3.0, 3.0, 0.0, 2.0, 0.0, 2.0, 0.0, 0.0, 0.0, 0.0, 2.0, 3.0, 0.0, 3.0, 0.0, 2.0, 0.0, 2.0, 0.0, 0.0, 3.0, 2.0, 0.0, 0.0, 2.0, 0.0, 0.0, 0.0, 0.0, 2.0, 3.0, 0.0, 0.0, 3.0, 2.0, 0.0, 3.0, 0.0, 0.0, 0.0, 3.0, 0.0, 3.0, 2.0, 0.0, 2.0, 0.0, 2.0, 0.0, 0.0, 2.0, 0.0, 2.0, 2.0, 0.0, 0.0, 0.0, 0.0, 0.0, 0.0, 2.0, 0.0, 2.0, 3.0, 3.0, 0.0, 0.0, 2.0, 0.0, 4.0, 3.0, 0.0, 2.0, 2.0, 0.0, 2.0, 0.0, 0.0, 4.0, 3.0, 2.0, 2.0, 0.0, 2.0, 0.0, 0.0, 2.0, 0.0, 2.0, 0.0, 3.0, 0.0, 4.0, 3.0, 0.0, 0.0, 0.0, 3.0, 2.0, 2.0, 2.0, 0.0, 0.0, 0.0, 2.0, 2.0, 0.0, 0.0, 0.0, 2.0, 0.0, 0.0, 3.0, 0.0, 2.0, 2.0, 0.0, 0.0, 0.0, 2.0, 0.0, 2.0, 0.0, 2.0, 0.0, 0.0, 0.0, 0.0, 2.0, 2.0, 2.0, 3.0, 0.0, 0.0, 2.0, 0.0, 0.0, 0.0, 0.0, 0.0, 2.0, 2.0, 0.0, 0.0, 0.0, 0.0, 0.0, 0.0, 2.0, 0.0, 4.0, 2.0, 0.0, 0.0, 0.0, 0.0, 3.0, 0.0, 0.0, 0.0, 0.0, 0.0, 0.0, 2.0, 0.0, 0.0, 2.0, 4.0, 0.0, 4.0, 0.0, 0.0, 0.0, 0.0, 0.0, 0.0, 0.0, 2.0, 2.0, 2.0, 0.0, 2.0, 3.0, 0.0, 0.0, 0.0, 0.0, 2.0, 0.0, 2.0, 0.0, 0.0, 0.0]\n",
      "\n",
      "\n",
      "Column: night_mainland\n",
      "Lower_Bound: -18.0\n",
      "Upper_Bound: 31.0\n",
      "Outliers: []\n",
      "\n",
      "\n",
      "Column: night_zanzibar\n",
      "Lower_Bound: -9.0\n",
      "Upper_Bound: 12.0\n",
      "Outliers: []\n",
      "\n",
      "\n",
      "Column: total_nights\n",
      "Lower_Bound: -13.0\n",
      "Upper_Bound: 29.0\n",
      "Outliers: [31.0, 30.0, 30.0, 30.0, 30.0, 30.0, 31.0, 30.0, 30.0, 30.0, 31.0, 30.0, 30.0, 31.0, 30.0, 30.0, 30.0]\n",
      "\n",
      "\n",
      "Column: tour_duration\n",
      "Lower_Bound: -0.03561643835616439\n",
      "Upper_Bound: 0.07945205479452055\n",
      "Outliers: [0.08493150684931507, 0.0821917808219178, 0.0821917808219178, 0.0821917808219178, 0.0821917808219178, 0.0821917808219178, 0.08493150684931507, 0.0821917808219178, 0.0821917808219178, 0.0821917808219178, 0.08493150684931507, 0.0821917808219178, 0.0821917808219178, 0.08493150684931507, 0.0821917808219178, 0.0821917808219178, 0.0821917808219178]\n",
      "\n",
      "\n",
      "Column: total_people\n",
      "Lower_Bound: -2.0\n",
      "Upper_Bound: 5.0\n",
      "Outliers: [7.0, 6.0, 6.0, 6.0, 7.0, 6.0, 6.0, 7.0, 6.0, 6.0, 6.0, 6.0, 6.0, 6.0, 7.0, 6.0, 6.0, 6.0, 6.0, 6.0, 6.0, 6.0, 6.0, 6.0, 7.0, 7.0, 6.0, 6.0, 6.0, 6.0, 6.0, 6.0, 6.0, 6.0, 6.0, 6.0, 6.0, 7.0, 6.0, 7.0, 6.0, 6.0, 6.0, 6.0, 6.0, 6.0, 6.0, 6.0, 6.0, 6.0, 6.0, 6.0, 6.0, 7.0, 6.0, 6.0, 6.0, 6.0, 6.0, 7.0, 6.0, 6.0, 6.0, 6.0, 6.0, 6.0, 6.0, 6.0, 7.0, 6.0, 6.0, 6.0, 6.0, 6.0, 6.0, 6.0, 6.0, 6.0, 6.0, 7.0, 7.0, 6.0, 6.0, 6.0, 6.0, 6.0, 6.0, 6.0, 6.0, 6.0, 6.0, 6.0, 6.0, 7.0, 6.0, 6.0, 6.0, 6.0, 6.0, 6.0, 7.0, 6.0, 7.0, 6.0, 6.0, 6.0, 6.0, 6.0, 6.0, 6.0, 6.0, 6.0, 6.0, 6.0, 6.0, 6.0, 6.0, 6.0, 7.0, 6.0, 6.0, 6.0, 6.0, 6.0, 6.0, 6.0, 6.0, 7.0, 6.0, 7.0, 6.0, 6.0, 6.0, 6.0, 7.0, 6.0, 6.0, 6.0, 6.0, 6.0, 6.0, 6.0, 6.0, 6.0, 6.0, 6.0, 6.0, 7.0, 6.0]\n",
      "\n",
      "\n",
      "Column: av_tp_per_agroup\n",
      "Lower_Bound: -0.9384330184478933\n",
      "Upper_Bound: 4.469809059966037\n",
      "Outliers: []\n"
     ]
    },
    {
     "name": "stdout",
     "output_type": "stream",
     "text": [
      "\n",
      "\n",
      "Column: average_stay_per_person\n",
      "Lower_Bound: -0.43000000000000005\n",
      "Upper_Bound: 0.9000000000000001\n",
      "Outliers: [1.33, 1.0, 1.0, 1.0, 1.0, 1.0, 2.0, 1.4, 1.0, 1.0, 1.0, 1.0, 1.0, 1.0, 1.33, 1.0, 1.0, 1.5, 2.0, 1.0, 1.0, 2.0, 1.0, 1.0, 1.0, 1.0, 1.0, 1.0, 1.0, 1.25, 2.0, 1.0, 1.0, 1.0, 1.0, 1.0, 1.0, 1.0, 1.0, 1.0, 1.0, 1.0, 2.0, 1.0, 2.0, 1.0, 1.0, 1.0, 1.0, 1.0, 1.0, 2.0, 1.0, 1.0, 2.0, 1.0, 1.0, 1.0, 1.0, 1.0, 2.0, 1.0, 1.0, 1.0, 1.0, 1.5, 1.0, 1.0, 1.0, 2.0, 2.0, 1.0, 1.0, 1.0, 1.0, 1.0, 1.0, 1.0, 1.0, 4.0, 1.0, 1.0, 1.33, 1.0, 1.0, 1.5, 1.0, 2.0, 1.0, 1.0, 1.0, 1.0, 1.5, 2.0, 1.0, 1.0, 1.33, 1.0, 1.0, 1.0, 1.0, 1.0, 1.0, 1.33, 1.0, 1.0, 1.0, 1.0, 1.0, 1.0, 1.0, 1.33, 1.0, 2.0, 1.0, 1.0, 1.0, 1.0, 2.0, 1.0, 1.5, 1.0, 1.0, 1.0, 1.0, 1.0, 1.0, 1.0, 2.0, 2.0, 1.5, 1.0, 2.0, 1.0, 1.0, 1.0, 1.5, 1.0, 1.0, 1.33, 1.0, 1.0, 1.0, 1.0, 1.0, 1.0, 1.0, 1.0, 1.0, 1.0, 1.0, 1.0, 1.0, 1.5, 1.0, 1.0, 1.0, 1.0, 2.0, 1.0, 1.0, 1.0, 1.5, 1.0, 1.2, 1.67, 1.0, 1.5, 1.0, 1.0, 1.0, 1.0, 1.0, 1.0, 1.33, 1.67, 1.0, 1.0, 1.0, 1.0, 1.0, 1.0, 4.0, 1.0, 2.0, 1.0, 1.0, 1.0, 1.5, 1.75, 1.0, 1.0, 1.0, 2.5, 1.0, 3.0, 1.0, 3.0, 1.0, 1.0, 1.0, 1.33, 1.0, 1.67, 1.0, 1.5, 1.0, 1.5, 1.0, 1.0, 1.0, 1.0, 1.0, 1.0, 1.0, 1.0, 1.0, 1.0, 1.0, 1.0, 2.0, 1.0, 2.0, 2.0, 1.0, 1.0, 1.0, 1.0, 1.0, 1.0, 1.2, 1.0, 1.0, 1.0, 1.0, 1.0, 2.5, 1.0, 1.0, 1.0, 1.0, 1.0, 1.0, 1.0, 1.0, 2.0, 1.0, 1.0, 1.0, 1.0, 1.0, 1.0, 1.0, 1.0, 1.0, 1.0, 1.0, 1.0, 1.0, 1.0, 1.0, 1.0, 1.0, 1.0, 1.0, 1.0, 1.0, 1.0, 1.0, 1.0, 1.0, 1.0, 1.0, 1.0, 1.0, 1.0, 1.0, 1.0, 1.0, 1.0, 1.0, 1.0, 1.0, 1.0, 1.0, 1.0, 2.0, 1.33, 2.0, 1.0, 2.0, 1.0, 1.0, 1.0, 1.0, 1.0, 1.0, 1.0, 1.0, 1.5, 2.0, 1.0, 1.0, 1.0, 1.0, 1.0, 1.0, 1.0, 1.0, 2.0, 1.0, 1.0, 1.0, 2.0, 1.0, 1.0, 1.0, 2.0, 1.0, 1.0, 1.0, 1.33, 3.0, 1.0, 1.0, 1.0, 1.0, 2.0, 1.0, 1.0, 1.0, 1.0, 2.0, 1.67, 1.5, 2.0, 1.0, 1.0, 1.0, 2.0, 1.0, 1.0, 1.5, 1.0, 1.0, 1.0, 1.0, 2.0, 1.0, 2.5, 1.0, 1.0, 1.0, 1.5, 2.0, 1.0, 1.0, 1.33, 1.0, 2.0, 1.0, 1.0, 1.0, 1.0, 1.0, 1.0, 1.33, 1.0, 1.0, 1.0, 1.0, 1.0, 1.0, 1.0, 1.5, 1.0, 1.0, 1.0, 1.0, 1.0, 1.0, 1.0, 1.0, 1.0, 1.5, 2.0, 2.0, 1.0, 1.0, 1.0, 2.0, 1.0, 1.0, 1.0, 1.0, 2.0, 1.0, 1.0, 1.33, 1.0, 1.0, 1.0, 1.0, 1.0, 1.0, 1.33, 1.0, 1.33, 1.0, 1.0, 1.0, 1.0, 1.0, 1.0, 1.0, 1.0, 2.0, 1.0, 1.0, 1.0, 1.0, 1.0, 1.0, 1.0, 1.0, 1.0, 2.0, 1.0, 1.33, 1.0, 1.0, 1.0, 2.0, 1.0, 1.0, 1.0, 1.0, 1.0, 2.0, 1.0, 3.0, 1.5, 1.25, 1.0, 1.0, 1.0, 1.0, 1.0, 1.0, 2.0, 1.0, 1.0, 1.0, 1.0, 1.0, 1.5, 3.0, 1.25, 1.0, 1.0, 1.0, 1.0, 1.0, 1.0, 1.5, 1.0, 1.0, 1.2, 1.0, 1.0, 1.5, 1.0, 3.0, 1.33, 1.0, 1.0, 2.0, 2.0, 2.0, 1.0, 1.0, 1.0, 1.0, 1.0, 2.0, 1.0, 1.0, 4.0, 1.0, 2.0, 2.0, 1.0, 1.5, 1.0, 1.0, 1.0, 1.0, 1.0, 1.0, 1.0, 1.0, 1.0, 1.0, 1.0, 1.0, 1.0, 1.0, 1.0, 1.0, 2.0, 1.0, 1.0, 1.0, 1.0, 1.0, 1.0, 1.0, 1.0, 1.0, 2.0, 1.0, 1.0, 1.0, 1.0, 1.0, 1.0, 1.0, 1.0, 1.5, 1.0, 1.0, 1.0, 1.0, 1.0, 1.0, 1.0, 1.0, 1.0, 1.33, 1.33, 1.0, 1.0, 1.5, 1.2, 1.0, 1.0, 2.0, 3.0, 2.0, 1.0, 1.33, 1.0, 1.0, 1.0, 2.0, 1.0, 1.0, 1.0, 1.33, 1.0, 1.0, 1.0, 1.0, 1.0, 1.0, 1.0, 1.0, 1.0, 1.5, 1.25, 1.0, 1.0, 1.0, 4.0, 2.0, 1.0, 1.0, 2.0, 1.5, 1.0, 1.0, 1.0, 1.0, 1.0, 2.0, 2.5, 2.0, 1.0, 1.5, 1.0, 1.0, 1.0, 1.0, 2.0, 1.0, 1.0, 1.0, 1.67, 1.0, 3.0, 1.0, 2.0, 1.0, 1.0, 1.0, 1.0, 1.0, 1.0, 1.0, 2.0, 1.0, 1.0, 1.0, 1.0, 1.0, 1.0, 1.0, 1.0, 2.33, 1.0, 1.0, 1.0, 4.0, 1.25, 2.0, 1.5, 1.5, 1.0, 1.0, 1.0, 1.0, 1.0, 1.0, 1.0, 1.0, 1.0, 1.0, 1.0, 1.67, 1.0, 1.0, 1.0, 1.0, 2.0, 1.0, 2.0, 2.0, 2.0, 1.0, 1.0, 1.0, 1.0, 1.0, 1.0, 1.0, 3.0, 1.0, 4.0, 1.0, 1.0, 1.0, 1.0, 1.0, 1.0, 1.0, 1.0, 1.0, 1.0, 1.0, 1.0, 1.0, 1.0, 1.0, 1.0, 1.5, 1.0, 1.0, 1.0, 1.0, 1.0, 1.33, 1.0, 4.0, 1.0, 1.0, 1.0, 1.0, 1.0, 1.0, 1.0, 1.0, 1.0, 2.0, 1.0, 1.5, 1.5, 1.0, 1.0, 2.0, 1.0, 1.0, 1.0, 1.0, 1.0, 1.0, 1.0, 1.0, 1.0, 1.0, 2.0, 1.0, 1.0, 1.0, 1.0, 1.0, 1.0, 1.5, 1.0, 1.0, 1.0, 1.0, 1.0, 1.0, 2.0, 1.0, 1.0, 1.0, 1.0, 1.0, 1.0, 2.0, 1.0, 1.0, 1.0, 1.0, 2.0, 1.0, 1.0, 1.75, 1.0, 1.0, 1.0, 1.0, 1.0, 2.0, 1.0, 1.0, 4.0, 1.0, 2.0, 1.0, 1.0, 1.0, 1.0, 1.0, 1.0, 1.25, 1.0, 1.0, 1.0, 1.0, 1.0, 1.33, 1.0, 1.0, 1.0, 1.0, 1.0, 1.0, 2.0, 1.0, 1.0, 1.0, 1.0, 1.0, 1.0, 1.0, 1.0, 1.0, 4.0, 1.0, 1.0, 1.0, 2.0, 1.0, 1.0, 1.0, 1.0, 2.0, 1.0, 2.0, 1.0, 1.0, 1.0, 1.0, 1.0, 1.0, 1.0, 2.0, 1.5, 2.0, 1.0, 3.0, 1.0, 1.0, 1.0, 1.0, 1.0, 3.0, 1.0, 2.0, 1.0, 1.0, 1.0, 1.0, 1.0, 1.0, 1.0, 1.0, 1.0, 1.5, 1.0, 1.0, 1.0, 1.2, 1.5, 1.0, 1.0, 1.0, 2.0, 4.0, 1.0, 1.0, 1.0, 1.0, 1.0, 2.0, 1.0, 1.0, 1.0, 1.0, 1.0, 1.0, 1.0, 1.5, 2.5, 1.33, 2.0, 1.0, 1.0, 1.0, 1.0, 1.0, 1.0, 2.0, 1.0, 1.0, 3.0, 1.0, 1.0, 1.0, 1.0, 1.0, 1.0, 1.0, 1.0, 1.0, 2.0, 1.0, 2.0, 1.0, 2.0, 1.0, 1.0, 1.0, 1.0, 1.0, 1.25, 1.0, 4.0, 1.0, 1.0, 1.0, 3.0, 1.0, 1.33, 1.0, 1.0, 1.33, 1.0, 2.0, 1.0, 1.5, 3.0, 1.0, 1.0, 1.0, 1.0, 1.0, 1.33, 1.0, 1.0, 1.0, 1.0, 1.0, 1.0, 1.5, 1.5, 1.0, 1.0, 1.0, 1.0, 1.0, 1.0, 1.0, 1.5, 1.67, 1.0, 1.33, 1.0, 1.0, 1.0, 2.0, 1.0, 1.0, 1.0, 1.0, 1.0, 1.0, 1.0, 1.0, 1.0, 1.0, 1.0, 1.0, 1.0, 1.0, 4.0, 1.0, 1.33, 1.0, 1.0, 1.0, 1.0, 1.0, 1.0, 1.0, 1.33, 1.0, 1.0, 1.0, 1.33, 1.0, 1.0, 1.0, 1.0, 1.0, 1.0, 1.0, 1.0, 1.5, 3.0, 1.0, 1.0, 1.0, 1.0, 1.0, 1.0, 1.0, 2.0, 2.0, 1.0, 1.0, 1.0, 1.0, 1.0, 1.5, 1.0, 1.0, 1.25, 1.0, 1.0, 1.0, 1.0, 2.0, 1.0, 1.0, 2.0, 2.0, 1.0, 1.0, 1.0, 1.0, 1.0, 1.0, 1.0, 1.0, 1.0, 1.0, 1.0, 1.0, 1.0, 1.0, 1.5, 1.0, 1.0, 3.0, 1.0, 1.0, 1.0, 1.0, 1.25, 2.0, 1.0, 1.0, 1.0, 1.0, 1.0, 1.0, 1.0, 1.0, 1.0, 1.0, 1.0, 1.0, 1.0, 1.0, 1.0, 2.0, 1.0, 2.0, 1.0, 1.0, 1.0, 1.5, 1.0, 2.0, 1.0, 1.0, 2.0, 2.0, 1.0, 1.0, 1.0, 1.0, 1.0, 4.0, 1.0, 1.0, 2.0, 1.0, 1.0, 1.5, 1.5, 2.0, 1.0, 2.0, 1.0, 2.0, 1.0, 1.0, 1.0, 1.0, 1.0, 1.0, 2.0, 1.0, 1.0, 1.0, 1.0, 1.2, 1.0, 1.0, 1.0, 1.0, 1.0, 1.0, 2.0, 1.0, 1.0, 1.0, 1.0, 1.0, 1.0, 1.0, 1.0, 1.0, 1.0, 2.0, 1.5, 1.0, 1.0, 2.0, 1.0, 1.0, 1.0, 1.0, 1.0, 2.0, 1.33, 1.0, 1.0, 1.5, 1.0, 2.0, 1.0, 1.0, 1.0, 1.0, 1.0, 1.0, 1.0, 1.0, 1.33, 2.0, 1.0, 1.0, 1.0, 1.0, 1.0, 1.0, 1.0, 1.0, 1.0, 1.0, 2.0, 1.0, 1.0, 1.0, 1.0, 1.0, 1.0, 1.0, 2.0, 2.0, 1.0, 1.0, 1.0, 3.0, 1.0, 1.0, 1.0, 2.0, 1.0, 1.0, 2.0, 2.0]\n",
      "\n",
      "\n",
      "\n",
      "Outliers Succesfully replaced with median.\n",
      "Wall time: 1.46 s\n"
     ]
    }
   ],
   "source": [
    "%%time\n",
    "check_outliers(df,factor=3, strategy='median', inplace=True)"
   ]
  },
  {
   "cell_type": "code",
   "execution_count": null,
   "id": "47fc6f6a",
   "metadata": {},
   "outputs": [],
   "source": [
    "mapping = {'0-17':1,\n",
    "          '18-24':2 ,\n",
    "          '25-44':3 ,\n",
    "          '45-64':4,\n",
    "          '65-100':5}\n",
    "\n",
    "df['age_group'] = df['age_group'].map(mapping).astype(np.float64)\n",
    "df.head()"
   ]
  },
  {
   "cell_type": "code",
   "execution_count": 367,
   "id": "f100661e",
   "metadata": {},
   "outputs": [
    {
     "name": "stdout",
     "output_type": "stream",
     "text": [
      "Observed mean:  [0.91755889 0.97412562 3.68754461 2.82566024 0.69101124 0.87078652\n",
      " 6.9494382  0.8988764  0.82972973 1.08918919 3.37297297 2.81621622\n",
      " 0.67101106 0.89060032 9.58372828 0.92377567 0.77772047 0.80195977\n",
      " 6.21402785 1.37854564 0.675      0.95       8.175      0.65\n",
      " 0.50425056 0.81610738 5.8917226  0.26577181 0.41265475 0.8431912\n",
      " 5.18707015 0.25997249 0.89782805 0.95628959 7.75855204 1.38515837]\n"
     ]
    }
   ],
   "source": [
    "obs_vars = df.groupby('main_activity').mean().var()[0]\n",
    "print(\"Observed mean: \", df.groupby('main_activity').mean().values.ravel())"
   ]
  },
  {
   "cell_type": "code",
   "execution_count": 368,
   "id": "6d0eaef9",
   "metadata": {},
   "outputs": [
    {
     "name": "stdout",
     "output_type": "stream",
     "text": [
      "Observed Variance:  0.02888932750918336\n"
     ]
    }
   ],
   "source": [
    "print(\"Observed Variance: \", obs_vars)"
   ]
  },
  {
   "cell_type": "code",
   "execution_count": 369,
   "id": "b198826e",
   "metadata": {
    "jupyter": {
     "outputs_hidden": true
    },
    "tags": []
   },
   "outputs": [
    {
     "name": "stdout",
     "output_type": "stream",
     "text": [
      "Pr(Prob) 1.0\n"
     ]
    }
   ],
   "source": [
    "def perm_test(df):\n",
    "    df = train.copy()\n",
    "    df['total_people'] = np.random.permutation(df['total_male'].values)\n",
    "    \n",
    "    return df.groupby('main_activity').mean().var()[0]\n",
    "\n",
    "perm_variance = [perm_test(df) for _ in range(3000)]\n",
    "print('Pr(Prob)', np.mean([var > obs_vars for var in perm_variance]))"
   ]
  },
  {
   "cell_type": "code",
   "execution_count": null,
   "id": "05caade5-7ace-41fc-b902-ed5507afee49",
   "metadata": {},
   "outputs": [],
   "source": [
    "df.to_csv('new.csv')"
   ]
  },
  {
   "cell_type": "code",
   "execution_count": null,
   "id": "88728207-54eb-40b3-82c3-a7263363665b",
   "metadata": {},
   "outputs": [],
   "source": []
  }
 ],
 "metadata": {
  "kernelspec": {
   "display_name": "Python 3 (ipykernel)",
   "language": "python",
   "name": "python3"
  },
  "language_info": {
   "codemirror_mode": {
    "name": "ipython",
    "version": 3
   },
   "file_extension": ".py",
   "mimetype": "text/x-python",
   "name": "python",
   "nbconvert_exporter": "python",
   "pygments_lexer": "ipython3",
   "version": "3.9.16"
  }
 },
 "nbformat": 4,
 "nbformat_minor": 5
}
