{
 "cells": [
  {
   "cell_type": "code",
   "execution_count": 1,
   "id": "492d2821",
   "metadata": {},
   "outputs": [],
   "source": [
    "import warnings\n",
    "warnings.filterwarnings(\"ignore\")\n",
    "\n",
    "import xgboost\n",
    "from xgboost import XGBClassifier\n",
    "from catboost import CatBoostClassifier\n",
    "\n",
    "from sklearn.svm import LinearSVC\n",
    "from sklearn.ensemble import RandomForestClassifier, VotingClassifier\n",
    "from sklearn.linear_model import LogisticRegression, SGDClassifier\n",
    "from sklearn.pipeline import Pipeline\n",
    "from sklearn.metrics import confusion_matrix, roc_auc_score, classification_report, f1_score, auc, roc_curve\n",
    "from sklearn.preprocessing import LabelEncoder, StandardScaler\n",
    "from sklearn.model_selection import StratifiedKFold, train_test_split, GridSearchCV, cross_val_score\n",
    "\n",
    "from majority import MajorityVoteClassifier\n",
    "\n",
    "from pipelines import extra_features, pipe, pipe2\n"
   ]
  },
  {
   "cell_type": "code",
   "execution_count": 2,
   "id": "ca3f0c12",
   "metadata": {},
   "outputs": [
    {
     "data": {
      "application/javascript": [
       "\n",
       "        if (window._pyforest_update_imports_cell) { window._pyforest_update_imports_cell('import pandas as pd'); }\n",
       "    "
      ],
      "text/plain": [
       "<IPython.core.display.Javascript object>"
      ]
     },
     "metadata": {},
     "output_type": "display_data"
    }
   ],
   "source": [
    "data = pd.read_csv('train.csv')\n",
    "X = data.drop(['cost_category'], axis=1)\n",
    "y = data['cost_category']"
   ]
  },
  {
   "cell_type": "code",
   "execution_count": 3,
   "id": "277176cc",
   "metadata": {},
   "outputs": [],
   "source": [
    "X = pipe2(X)\n",
    "\n",
    "le = LabelEncoder()\n",
    "y = le.fit_transform(y)"
   ]
  },
  {
   "cell_type": "code",
   "execution_count": 6,
   "id": "01537822",
   "metadata": {},
   "outputs": [],
   "source": [
    "svm = Pipeline([\n",
    "    ('scaler', StandardScaler()),\n",
    "    ('lr', LinearSVC(penalty='l2', loss='squared_hinge', \n",
    "                     C=0.1, class_weight='balanced',\n",
    "                     multi_class='ovr', random_state=123))\n",
    "])\n",
    "\n",
    "\n",
    "fr  = RandomForestClassifier(n_estimators=400,\n",
    "                             criterion='gini', \n",
    "                             random_state=123,\n",
    "                             max_depth=6,\n",
    "                             n_jobs=-1)\n",
    "\n",
    "\n",
    "xgb = XGBClassifier(n_estimators=500,\n",
    "                          max_depth=8, n_jobs=-1)\n",
    "\n",
    "lr = Pipeline([\n",
    "    ('sc', StandardScaler()),\n",
    "    ('lr', LogisticRegression(penalty='l2', C=0.1,\n",
    "                              solver='lbfgs', multi_class='ovr',\n",
    "                              max_iter=10000))\n",
    "])\n",
    "\n",
    "sg = Pipeline([\n",
    "    ('scaler', StandardScaler()),\n",
    "    ('sg', SGDClassifier(loss='log_loss',\n",
    "                         eta0=0.01,\n",
    "                         learning_rate='optimal'))\n",
    "])\n",
    "\n",
    "cat = CatBoostClassifier(iterations=100,\n",
    "                        max_depth=8,\n",
    "                        learning_rate=0.1,\n",
    "                        logging_level='Silent'\n",
    "                        )\n",
    "\n",
    "\n",
    "vt = VotingClassifier(estimators=[('sg', sg), ('fore', fr), ('cat', cat), ('boost', xgb), ('reg' , lr)], \n",
    "                     voting = 'soft')\n",
    "\n",
    "mv = MajorityVoteClassifier(classifiers=[ fr, cat, xgb, lr, sg],\n",
    "                             vote='probability',\n",
    "                             weights=[ 0.5, 0.67, 0.7, 0.43, 0.6])\n"
   ]
  },
  {
   "cell_type": "code",
   "execution_count": 9,
   "id": "ec1ee7b8",
   "metadata": {},
   "outputs": [
    {
     "data": {
      "application/javascript": [
       "\n",
       "        if (window._pyforest_update_imports_cell) { window._pyforest_update_imports_cell('import pandas as pd\\nimport numpy as np'); }\n",
       "    "
      ],
      "text/plain": [
       "<IPython.core.display.Javascript object>"
      ]
     },
     "metadata": {},
     "output_type": "display_data"
    },
    {
     "data": {
      "application/javascript": [
       "\n",
       "        if (window._pyforest_update_imports_cell) { window._pyforest_update_imports_cell('import pandas as pd\\nimport numpy as np'); }\n",
       "    "
      ],
      "text/plain": [
       "<IPython.core.display.Javascript object>"
      ]
     },
     "metadata": {},
     "output_type": "display_data"
    },
    {
     "name": "stdout",
     "output_type": "stream",
     "text": [
      "ROC AUC: nan (+/- nan) [Linear SVC]\n"
     ]
    },
    {
     "data": {
      "application/javascript": [
       "\n",
       "        if (window._pyforest_update_imports_cell) { window._pyforest_update_imports_cell('import pandas as pd\\nimport numpy as np'); }\n",
       "    "
      ],
      "text/plain": [
       "<IPython.core.display.Javascript object>"
      ]
     },
     "metadata": {},
     "output_type": "display_data"
    },
    {
     "data": {
      "application/javascript": [
       "\n",
       "        if (window._pyforest_update_imports_cell) { window._pyforest_update_imports_cell('import pandas as pd\\nimport numpy as np'); }\n",
       "    "
      ],
      "text/plain": [
       "<IPython.core.display.Javascript object>"
      ]
     },
     "metadata": {},
     "output_type": "display_data"
    },
    {
     "name": "stdout",
     "output_type": "stream",
     "text": [
      "F1 Score: 0.487 (+/- 0.002) [Linear SVC]\n"
     ]
    },
    {
     "data": {
      "application/javascript": [
       "\n",
       "        if (window._pyforest_update_imports_cell) { window._pyforest_update_imports_cell('import pandas as pd\\nimport numpy as np'); }\n",
       "    "
      ],
      "text/plain": [
       "<IPython.core.display.Javascript object>"
      ]
     },
     "metadata": {},
     "output_type": "display_data"
    },
    {
     "data": {
      "application/javascript": [
       "\n",
       "        if (window._pyforest_update_imports_cell) { window._pyforest_update_imports_cell('import pandas as pd\\nimport numpy as np'); }\n",
       "    "
      ],
      "text/plain": [
       "<IPython.core.display.Javascript object>"
      ]
     },
     "metadata": {},
     "output_type": "display_data"
    },
    {
     "name": "stdout",
     "output_type": "stream",
     "text": [
      "ROC AUC: 0.808 (+/- 0.005) [Random Forest]\n"
     ]
    },
    {
     "data": {
      "application/javascript": [
       "\n",
       "        if (window._pyforest_update_imports_cell) { window._pyforest_update_imports_cell('import pandas as pd\\nimport numpy as np'); }\n",
       "    "
      ],
      "text/plain": [
       "<IPython.core.display.Javascript object>"
      ]
     },
     "metadata": {},
     "output_type": "display_data"
    },
    {
     "data": {
      "application/javascript": [
       "\n",
       "        if (window._pyforest_update_imports_cell) { window._pyforest_update_imports_cell('import pandas as pd\\nimport numpy as np'); }\n",
       "    "
      ],
      "text/plain": [
       "<IPython.core.display.Javascript object>"
      ]
     },
     "metadata": {},
     "output_type": "display_data"
    },
    {
     "name": "stdout",
     "output_type": "stream",
     "text": [
      "F1 Score: 0.407 (+/- 0.008) [Random Forest]\n"
     ]
    },
    {
     "data": {
      "application/javascript": [
       "\n",
       "        if (window._pyforest_update_imports_cell) { window._pyforest_update_imports_cell('import pandas as pd\\nimport numpy as np'); }\n",
       "    "
      ],
      "text/plain": [
       "<IPython.core.display.Javascript object>"
      ]
     },
     "metadata": {},
     "output_type": "display_data"
    },
    {
     "data": {
      "application/javascript": [
       "\n",
       "        if (window._pyforest_update_imports_cell) { window._pyforest_update_imports_cell('import pandas as pd\\nimport numpy as np'); }\n",
       "    "
      ],
      "text/plain": [
       "<IPython.core.display.Javascript object>"
      ]
     },
     "metadata": {},
     "output_type": "display_data"
    },
    {
     "name": "stdout",
     "output_type": "stream",
     "text": [
      "ROC AUC: 0.807 (+/- 0.002) [CatBoost]\n"
     ]
    },
    {
     "data": {
      "application/javascript": [
       "\n",
       "        if (window._pyforest_update_imports_cell) { window._pyforest_update_imports_cell('import pandas as pd\\nimport numpy as np'); }\n",
       "    "
      ],
      "text/plain": [
       "<IPython.core.display.Javascript object>"
      ]
     },
     "metadata": {},
     "output_type": "display_data"
    },
    {
     "data": {
      "application/javascript": [
       "\n",
       "        if (window._pyforest_update_imports_cell) { window._pyforest_update_imports_cell('import pandas as pd\\nimport numpy as np'); }\n",
       "    "
      ],
      "text/plain": [
       "<IPython.core.display.Javascript object>"
      ]
     },
     "metadata": {},
     "output_type": "display_data"
    },
    {
     "name": "stdout",
     "output_type": "stream",
     "text": [
      "F1 Score: 0.352 (+/- 0.094) [CatBoost]\n"
     ]
    },
    {
     "data": {
      "application/javascript": [
       "\n",
       "        if (window._pyforest_update_imports_cell) { window._pyforest_update_imports_cell('import pandas as pd\\nimport numpy as np'); }\n",
       "    "
      ],
      "text/plain": [
       "<IPython.core.display.Javascript object>"
      ]
     },
     "metadata": {},
     "output_type": "display_data"
    },
    {
     "data": {
      "application/javascript": [
       "\n",
       "        if (window._pyforest_update_imports_cell) { window._pyforest_update_imports_cell('import pandas as pd\\nimport numpy as np'); }\n",
       "    "
      ],
      "text/plain": [
       "<IPython.core.display.Javascript object>"
      ]
     },
     "metadata": {},
     "output_type": "display_data"
    },
    {
     "name": "stdout",
     "output_type": "stream",
     "text": [
      "ROC AUC: 0.717 (+/- 0.001) [XGBoost]\n"
     ]
    },
    {
     "data": {
      "application/javascript": [
       "\n",
       "        if (window._pyforest_update_imports_cell) { window._pyforest_update_imports_cell('import pandas as pd\\nimport numpy as np'); }\n",
       "    "
      ],
      "text/plain": [
       "<IPython.core.display.Javascript object>"
      ]
     },
     "metadata": {},
     "output_type": "display_data"
    },
    {
     "data": {
      "application/javascript": [
       "\n",
       "        if (window._pyforest_update_imports_cell) { window._pyforest_update_imports_cell('import pandas as pd\\nimport numpy as np'); }\n",
       "    "
      ],
      "text/plain": [
       "<IPython.core.display.Javascript object>"
      ]
     },
     "metadata": {},
     "output_type": "display_data"
    },
    {
     "name": "stdout",
     "output_type": "stream",
     "text": [
      "F1 Score: 0.210 (+/- 0.049) [XGBoost]\n"
     ]
    },
    {
     "data": {
      "application/javascript": [
       "\n",
       "        if (window._pyforest_update_imports_cell) { window._pyforest_update_imports_cell('import pandas as pd\\nimport numpy as np'); }\n",
       "    "
      ],
      "text/plain": [
       "<IPython.core.display.Javascript object>"
      ]
     },
     "metadata": {},
     "output_type": "display_data"
    },
    {
     "data": {
      "application/javascript": [
       "\n",
       "        if (window._pyforest_update_imports_cell) { window._pyforest_update_imports_cell('import pandas as pd\\nimport numpy as np'); }\n",
       "    "
      ],
      "text/plain": [
       "<IPython.core.display.Javascript object>"
      ]
     },
     "metadata": {},
     "output_type": "display_data"
    },
    {
     "name": "stdout",
     "output_type": "stream",
     "text": [
      "ROC AUC: 0.807 (+/- 0.004) [Logistic Regression]\n"
     ]
    },
    {
     "data": {
      "application/javascript": [
       "\n",
       "        if (window._pyforest_update_imports_cell) { window._pyforest_update_imports_cell('import pandas as pd\\nimport numpy as np'); }\n",
       "    "
      ],
      "text/plain": [
       "<IPython.core.display.Javascript object>"
      ]
     },
     "metadata": {},
     "output_type": "display_data"
    },
    {
     "data": {
      "application/javascript": [
       "\n",
       "        if (window._pyforest_update_imports_cell) { window._pyforest_update_imports_cell('import pandas as pd\\nimport numpy as np'); }\n",
       "    "
      ],
      "text/plain": [
       "<IPython.core.display.Javascript object>"
      ]
     },
     "metadata": {},
     "output_type": "display_data"
    },
    {
     "name": "stdout",
     "output_type": "stream",
     "text": [
      "F1 Score: 0.486 (+/- 0.003) [Logistic Regression]\n"
     ]
    },
    {
     "data": {
      "application/javascript": [
       "\n",
       "        if (window._pyforest_update_imports_cell) { window._pyforest_update_imports_cell('import pandas as pd\\nimport numpy as np'); }\n",
       "    "
      ],
      "text/plain": [
       "<IPython.core.display.Javascript object>"
      ]
     },
     "metadata": {},
     "output_type": "display_data"
    },
    {
     "data": {
      "application/javascript": [
       "\n",
       "        if (window._pyforest_update_imports_cell) { window._pyforest_update_imports_cell('import pandas as pd\\nimport numpy as np'); }\n",
       "    "
      ],
      "text/plain": [
       "<IPython.core.display.Javascript object>"
      ]
     },
     "metadata": {},
     "output_type": "display_data"
    },
    {
     "name": "stdout",
     "output_type": "stream",
     "text": [
      "ROC AUC: 0.781 (+/- 0.004) [SGD Classifier]\n"
     ]
    },
    {
     "data": {
      "application/javascript": [
       "\n",
       "        if (window._pyforest_update_imports_cell) { window._pyforest_update_imports_cell('import pandas as pd\\nimport numpy as np'); }\n",
       "    "
      ],
      "text/plain": [
       "<IPython.core.display.Javascript object>"
      ]
     },
     "metadata": {},
     "output_type": "display_data"
    },
    {
     "data": {
      "application/javascript": [
       "\n",
       "        if (window._pyforest_update_imports_cell) { window._pyforest_update_imports_cell('import pandas as pd\\nimport numpy as np'); }\n",
       "    "
      ],
      "text/plain": [
       "<IPython.core.display.Javascript object>"
      ]
     },
     "metadata": {},
     "output_type": "display_data"
    },
    {
     "name": "stdout",
     "output_type": "stream",
     "text": [
      "F1 Score: 0.457 (+/- 0.012) [SGD Classifier]\n"
     ]
    },
    {
     "data": {
      "application/javascript": [
       "\n",
       "        if (window._pyforest_update_imports_cell) { window._pyforest_update_imports_cell('import pandas as pd\\nimport numpy as np'); }\n",
       "    "
      ],
      "text/plain": [
       "<IPython.core.display.Javascript object>"
      ]
     },
     "metadata": {},
     "output_type": "display_data"
    },
    {
     "data": {
      "application/javascript": [
       "\n",
       "        if (window._pyforest_update_imports_cell) { window._pyforest_update_imports_cell('import pandas as pd\\nimport numpy as np'); }\n",
       "    "
      ],
      "text/plain": [
       "<IPython.core.display.Javascript object>"
      ]
     },
     "metadata": {},
     "output_type": "display_data"
    },
    {
     "name": "stdout",
     "output_type": "stream",
     "text": [
      "ROC AUC: 0.806 (+/- 0.011) [Majority]\n"
     ]
    },
    {
     "data": {
      "application/javascript": [
       "\n",
       "        if (window._pyforest_update_imports_cell) { window._pyforest_update_imports_cell('import pandas as pd\\nimport numpy as np'); }\n",
       "    "
      ],
      "text/plain": [
       "<IPython.core.display.Javascript object>"
      ]
     },
     "metadata": {},
     "output_type": "display_data"
    },
    {
     "data": {
      "application/javascript": [
       "\n",
       "        if (window._pyforest_update_imports_cell) { window._pyforest_update_imports_cell('import pandas as pd\\nimport numpy as np'); }\n",
       "    "
      ],
      "text/plain": [
       "<IPython.core.display.Javascript object>"
      ]
     },
     "metadata": {},
     "output_type": "display_data"
    },
    {
     "name": "stdout",
     "output_type": "stream",
     "text": [
      "F1 Score: 0.364 (+/- 0.079) [Majority]\n"
     ]
    },
    {
     "data": {
      "application/javascript": [
       "\n",
       "        if (window._pyforest_update_imports_cell) { window._pyforest_update_imports_cell('import pandas as pd\\nimport numpy as np'); }\n",
       "    "
      ],
      "text/plain": [
       "<IPython.core.display.Javascript object>"
      ]
     },
     "metadata": {},
     "output_type": "display_data"
    },
    {
     "data": {
      "application/javascript": [
       "\n",
       "        if (window._pyforest_update_imports_cell) { window._pyforest_update_imports_cell('import pandas as pd\\nimport numpy as np'); }\n",
       "    "
      ],
      "text/plain": [
       "<IPython.core.display.Javascript object>"
      ]
     },
     "metadata": {},
     "output_type": "display_data"
    },
    {
     "name": "stdout",
     "output_type": "stream",
     "text": [
      "ROC AUC: 0.808 (+/- 0.010) [Ensemble]\n"
     ]
    },
    {
     "data": {
      "application/javascript": [
       "\n",
       "        if (window._pyforest_update_imports_cell) { window._pyforest_update_imports_cell('import pandas as pd\\nimport numpy as np'); }\n",
       "    "
      ],
      "text/plain": [
       "<IPython.core.display.Javascript object>"
      ]
     },
     "metadata": {},
     "output_type": "display_data"
    },
    {
     "data": {
      "application/javascript": [
       "\n",
       "        if (window._pyforest_update_imports_cell) { window._pyforest_update_imports_cell('import pandas as pd\\nimport numpy as np'); }\n",
       "    "
      ],
      "text/plain": [
       "<IPython.core.display.Javascript object>"
      ]
     },
     "metadata": {},
     "output_type": "display_data"
    },
    {
     "name": "stdout",
     "output_type": "stream",
     "text": [
      "F1 Score: 0.419 (+/- 0.050) [Ensemble]\n"
     ]
    }
   ],
   "source": [
    "labels = ['Linear SVC', 'Random Forest', \"CatBoost\", 'XGBoost', 'Logistic Regression', 'SGD Classifier', 'Majority','Ensemble']\n",
    "for clf, label in zip ([svm, fr, cat, xgb, lr, sg, mv, vt], labels):\n",
    "    \n",
    "    fold = StratifiedKFold(n_splits=3)\n",
    "    auc_scores = []\n",
    "    f1_scores = []\n",
    "    \n",
    "    for f, (train_idx, valid_idx) in enumerate(fold.split(X, y)):\n",
    "        X_train, X_test = X[train_idx], X[valid_idx]\n",
    "        y_train, y_test = y[train_idx], y[valid_idx]\n",
    "        \n",
    "        clf.fit(X_train, y_train)\n",
    "        \n",
    "        if clf != svm:\n",
    "            preds = clf.predict_proba(X_test)\n",
    "            auc = roc_auc_score(y_test, preds, multi_class='ovr')\n",
    "            auc_scores.append(auc)\n",
    "            \n",
    "       \n",
    "        y_pred =clf.predict(X_test)\n",
    "        f1s = f1_score(y_test, y_pred, average='weighted')\n",
    "        f1_scores.append(f1s)\n",
    "       \n",
    "    \n",
    "    print(\"ROC AUC: %.3f (+/- %.3f) [%s]\" % (np.mean(auc_scores), \n",
    "                                            np.std(auc_scores), label))\n",
    "              \n",
    "    print(\"F1 Score: %.3f (+/- %.3f) [%s]\" % (np.mean(f1_scores), \n",
    "                                            np.std(f1_scores), label))"
   ]
  },
  {
   "cell_type": "code",
   "execution_count": 11,
   "id": "47349c51",
   "metadata": {},
   "outputs": [
    {
     "name": "stdout",
     "output_type": "stream",
     "text": [
      "10-Fold ROC-AUC Cross Validation Scores:\n",
      " \n",
      "ROC AUC: 0.810 (+/- 0.008) [Random Forest]\n",
      "ROC AUC: 0.818 (+/- 0.009) [CatBoost]\n",
      "ROC AUC: 0.781 (+/- 0.009) [XGBoost]\n",
      "ROC AUC: 0.809 (+/- 0.009) [Logistic Regression]\n",
      "ROC AUC: 0.778 (+/- 0.010) [SGD Classifier]\n",
      "ROC AUC: 0.816 (+/- 0.008) [Majority]\n",
      "ROC AUC: 0.816 (+/- 0.008) [Ensemble]\n"
     ]
    }
   ],
   "source": [
    "X_train, X_test, y_train, y_test = train_test_split(X, y,\n",
    "                                                    test_size=0.3, \n",
    "                                                    stratify=y, random_state=42)\n",
    "\n",
    "print(\"10-Fold ROC-AUC Cross Validation Scores:\\n \")\n",
    "for clf, label in zip ([svm, fr, cat, xgb, lr, sg, mv, vt], labels):\n",
    "    if clf != svm:\n",
    "        scores = cross_val_score(clf,\n",
    "                                 X_train, y_train,\n",
    "                                 cv=10,\n",
    "                                 scoring='roc_auc_ovr')\n",
    "        \n",
    "        print(\"ROC AUC: %.3f (+/- %.3f) [%s]\" % (scores.mean(), \n",
    "                                            scores.std(), label))\n"
   ]
  },
  {
   "cell_type": "code",
   "execution_count": 12,
   "id": "e3be89cf",
   "metadata": {},
   "outputs": [
    {
     "name": "stdout",
     "output_type": "stream",
     "text": [
      "10-Fold Accuracy Cross Validation Scores:\n",
      " \n",
      "ROC AUC: 0.511 (+/- 0.012) [ Linear SVC ]\n",
      "ROC AUC: 0.498 (+/- 0.010) [ Random Forest ]\n",
      "ROC AUC: 0.540 (+/- 0.015) [ CatBoost ]\n",
      "ROC AUC: 0.480 (+/- 0.008) [ XGBoost ]\n",
      "ROC AUC: 0.535 (+/- 0.009) [ Logistic Regression ]\n",
      "ROC AUC: 0.506 (+/- 0.015) [ SGD Classifier ]\n",
      "ROC AUC: 0.534 (+/- 0.007) [ Majority ]\n"
     ]
    }
   ],
   "source": [
    "print(\"10-Fold Accuracy Cross Validation Scores:\\n \")\n",
    "for clf, label in zip ([svm, fr, cat, xgb, lr, sg, vt], labels):\n",
    "   \n",
    "    scores = cross_val_score(clf,\n",
    "                             X_train, y_train,\n",
    "                             cv=10,\n",
    "                             scoring='accuracy')\n",
    "\n",
    "    \n",
    "    print(\"ROC AUC: %.3f (+/- %.3f) [ %s ]\" % (scores.mean(), \n",
    "                                        scores.std(), label))"
   ]
  },
  {
   "cell_type": "code",
   "execution_count": 13,
   "id": "325b285a",
   "metadata": {},
   "outputs": [
    {
     "ename": "NameError",
     "evalue": "name 'roc_score' is not defined",
     "output_type": "error",
     "traceback": [
      "\u001b[1;31m---------------------------------------------------------------------------\u001b[0m",
      "\u001b[1;31mNameError\u001b[0m                                 Traceback (most recent call last)",
      "\u001b[1;32m~\\AppData\\Local\\Temp\\ipykernel_9988\\446695870.py\u001b[0m in \u001b[0;36m<module>\u001b[1;34m\u001b[0m\n\u001b[0;32m      9\u001b[0m     \u001b[0mpreds\u001b[0m \u001b[1;33m=\u001b[0m \u001b[0mclf\u001b[0m\u001b[1;33m.\u001b[0m\u001b[0mpredict_proba\u001b[0m\u001b[1;33m(\u001b[0m\u001b[0mX_test\u001b[0m\u001b[1;33m)\u001b[0m\u001b[1;33m\u001b[0m\u001b[1;33m\u001b[0m\u001b[0m\n\u001b[0;32m     10\u001b[0m \u001b[1;33m\u001b[0m\u001b[0m\n\u001b[1;32m---> 11\u001b[1;33m     \u001b[0mfpr\u001b[0m\u001b[1;33m,\u001b[0m \u001b[0mtpr\u001b[0m\u001b[1;33m,\u001b[0m \u001b[0mthresholds\u001b[0m \u001b[1;33m=\u001b[0m \u001b[0mroc_score\u001b[0m\u001b[1;33m(\u001b[0m\u001b[0my_test\u001b[0m\u001b[1;33m,\u001b[0m \u001b[0my_score\u001b[0m\u001b[1;33m=\u001b[0m\u001b[0mpreds\u001b[0m\u001b[1;33m,\u001b[0m \u001b[0mmulti_class\u001b[0m\u001b[1;33m=\u001b[0m\u001b[1;34m'ovr'\u001b[0m\u001b[1;33m)\u001b[0m\u001b[1;33m\u001b[0m\u001b[1;33m\u001b[0m\u001b[0m\n\u001b[0m\u001b[0;32m     12\u001b[0m     \u001b[0mroc_auc\u001b[0m \u001b[1;33m=\u001b[0m \u001b[0mauc\u001b[0m\u001b[1;33m(\u001b[0m\u001b[0mx\u001b[0m\u001b[1;33m=\u001b[0m\u001b[0mfpr\u001b[0m\u001b[1;33m,\u001b[0m \u001b[0my\u001b[0m\u001b[1;33m=\u001b[0m\u001b[0mtpr\u001b[0m\u001b[1;33m)\u001b[0m\u001b[1;33m\u001b[0m\u001b[1;33m\u001b[0m\u001b[0m\n\u001b[0;32m     13\u001b[0m \u001b[1;33m\u001b[0m\u001b[0m\n",
      "\u001b[1;31mNameError\u001b[0m: name 'roc_score' is not defined"
     ]
    }
   ],
   "source": [
    "clfs = [fr, cat, xgb, lr, sg, mv, vt] \n",
    "labels = ['Random Forest', 'XGBoost', 'Logistic Regression', 'SGD Classifier', 'Ensemble']\n",
    "colors = ['black', 'orange', 'blue', 'red', 'brown']\n",
    "lins = [':', '--', '-*', '-', '-.']\n",
    "\n",
    "for clf, l, clc, ls in zip(clfs, labels, colors, lins):\n",
    "    clf.fit(X_train, y_train)\n",
    "    \n",
    "    preds = clf.predict_proba(X_test)\n",
    "    \n",
    "    fpr, tpr, thresholds = roc_score(y_test, y_score=preds, multi_class='ovr')\n",
    "    roc_auc = auc(x=fpr, y=tpr)\n",
    "    \n",
    "    plt.plot(x=fpr, y=tpr, \n",
    "             linestyle=ls, \n",
    "             color=clc,\n",
    "             label=' %s [auc = %.3f]' % (label, roc_auc))\n",
    "\n",
    "plt.plot([0, 1], [0, 1],\n",
    "        color='gray', linestyle='--',\n",
    "        linewidth=3, label='Random Guessing [auc = 0.50]')\n",
    "\n",
    "plt.legend(loc='lower right')\n",
    "plt.xlim([-1, 1.1])\n",
    "plt.ylim([-1, 1.1])\n",
    "plt.grid(alpha=0.35)\n",
    "plt.xlabel('False Positive Rate [FPR]')\n",
    "plt.ylabel('True Positive Rate [TPR]')\n",
    "plt.show();"
   ]
  },
  {
   "cell_type": "code",
   "execution_count": 28,
   "id": "ef1a90d0",
   "metadata": {},
   "outputs": [],
   "source": [
    "roc_curve??"
   ]
  },
  {
   "cell_type": "code",
   "execution_count": null,
   "id": "2c47c7ed",
   "metadata": {},
   "outputs": [],
   "source": []
  }
 ],
 "metadata": {
  "kernelspec": {
   "display_name": "Python 3 (ipykernel)",
   "language": "python",
   "name": "python3"
  },
  "language_info": {
   "codemirror_mode": {
    "name": "ipython",
    "version": 3
   },
   "file_extension": ".py",
   "mimetype": "text/x-python",
   "name": "python",
   "nbconvert_exporter": "python",
   "pygments_lexer": "ipython3",
   "version": "3.9.16"
  }
 },
 "nbformat": 4,
 "nbformat_minor": 5
}
