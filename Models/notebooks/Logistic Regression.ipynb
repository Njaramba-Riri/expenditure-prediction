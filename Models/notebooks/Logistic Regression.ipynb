{
 "cells": [
  {
   "cell_type": "code",
   "execution_count": 2,
   "id": "9a421e68",
   "metadata": {},
   "outputs": [],
   "source": [
    "%matplotlib inline\n",
    "import matplotlib.pyplot as plt\n",
    "import seaborn as sns\n",
    "import pandas as pd\n",
    "import numpy as np\n",
    "\n",
    "import warnings\n",
    "warnings.filterwarnings(\"ignore\")\n",
    "\n",
    "from scipy.stats import chi2_contingency\n",
    "import os \n",
    "import itertools\n",
    "\n",
    "from sklearn.linear_model import LogisticRegression\n",
    "from sklearn.preprocessing import LabelEncoder, OneHotEncoder\n",
    "from sklearn.model_selection import StratifiedKFold, train_test_split, GridSearchCV, cross_val_score\n",
    "from sklearn.pipeline import Pipeline\n",
    "from sklearn.compose import ColumnTransformer\n",
    "from sklearn.discriminant_analysis import LinearDiscriminantAnalysis as LDA\n",
    "from sklearn.metrics import f1_score, precision_score, recall_score\n",
    "from sklearn.metrics import classification_report, make_scorer, confusion_matrix, roc_auc_score"
   ]
  },
  {
   "cell_type": "code",
   "execution_count": 3,
   "id": "672825d9",
   "metadata": {},
   "outputs": [],
   "source": [
    "train = pd.read_csv(r\"datasets/train.csv\")\n",
    "train['main_activity'].replace({\"Widlife Tourism\": \"Wildlife Tourism\"}, inplace=True)"
   ]
  },
  {
   "cell_type": "code",
   "execution_count": 4,
   "id": "56cbd1ba",
   "metadata": {},
   "outputs": [
    {
     "data": {
      "text/html": [
       "<div>\n",
       "<style scoped>\n",
       "    .dataframe tbody tr th:only-of-type {\n",
       "        vertical-align: middle;\n",
       "    }\n",
       "\n",
       "    .dataframe tbody tr th {\n",
       "        vertical-align: top;\n",
       "    }\n",
       "\n",
       "    .dataframe thead th {\n",
       "        text-align: right;\n",
       "    }\n",
       "</style>\n",
       "<table border=\"1\" class=\"dataframe\">\n",
       "  <thead>\n",
       "    <tr style=\"text-align: right;\">\n",
       "      <th></th>\n",
       "      <th>count</th>\n",
       "      <th>mean</th>\n",
       "      <th>std</th>\n",
       "      <th>min</th>\n",
       "      <th>25%</th>\n",
       "      <th>50%</th>\n",
       "      <th>75%</th>\n",
       "      <th>max</th>\n",
       "    </tr>\n",
       "  </thead>\n",
       "  <tbody>\n",
       "    <tr>\n",
       "      <th>total_female</th>\n",
       "      <td>18504.0</td>\n",
       "      <td>0.936230</td>\n",
       "      <td>1.215582</td>\n",
       "      <td>0.0</td>\n",
       "      <td>0.0</td>\n",
       "      <td>1.0</td>\n",
       "      <td>1.0</td>\n",
       "      <td>49.0</td>\n",
       "    </tr>\n",
       "    <tr>\n",
       "      <th>total_male</th>\n",
       "      <td>18500.0</td>\n",
       "      <td>0.998757</td>\n",
       "      <td>1.173177</td>\n",
       "      <td>0.0</td>\n",
       "      <td>1.0</td>\n",
       "      <td>1.0</td>\n",
       "      <td>1.0</td>\n",
       "      <td>58.0</td>\n",
       "    </tr>\n",
       "    <tr>\n",
       "      <th>night_mainland</th>\n",
       "      <td>18506.0</td>\n",
       "      <td>9.141576</td>\n",
       "      <td>14.127449</td>\n",
       "      <td>0.0</td>\n",
       "      <td>3.0</td>\n",
       "      <td>6.0</td>\n",
       "      <td>11.0</td>\n",
       "      <td>365.0</td>\n",
       "    </tr>\n",
       "    <tr>\n",
       "      <th>night_zanzibar</th>\n",
       "      <td>18506.0</td>\n",
       "      <td>2.493516</td>\n",
       "      <td>5.275156</td>\n",
       "      <td>0.0</td>\n",
       "      <td>0.0</td>\n",
       "      <td>0.0</td>\n",
       "      <td>4.0</td>\n",
       "      <td>240.0</td>\n",
       "    </tr>\n",
       "  </tbody>\n",
       "</table>\n",
       "</div>"
      ],
      "text/plain": [
       "                  count      mean        std  min  25%  50%   75%    max\n",
       "total_female    18504.0  0.936230   1.215582  0.0  0.0  1.0   1.0   49.0\n",
       "total_male      18500.0  0.998757   1.173177  0.0  1.0  1.0   1.0   58.0\n",
       "night_mainland  18506.0  9.141576  14.127449  0.0  3.0  6.0  11.0  365.0\n",
       "night_zanzibar  18506.0  2.493516   5.275156  0.0  0.0  0.0   4.0  240.0"
      ]
     },
     "execution_count": 4,
     "metadata": {},
     "output_type": "execute_result"
    }
   ],
   "source": [
    "train.describe().T"
   ]
  },
  {
   "cell_type": "code",
   "execution_count": 5,
   "id": "532931bb",
   "metadata": {
    "collapsed": true,
    "jupyter": {
     "outputs_hidden": true
    },
    "tags": []
   },
   "outputs": [
    {
     "ename": "TypeError",
     "evalue": "'<=' not supported between instances of 'float' and 'function'",
     "output_type": "error",
     "traceback": [
      "\u001b[1;31m---------------------------------------------------------------------------\u001b[0m",
      "\u001b[1;31mTypeError\u001b[0m                                 Traceback (most recent call last)",
      "\u001b[1;32m~\\AppData\\Local\\Temp\\ipykernel_4232\\2489466298.py\u001b[0m in \u001b[0;36m<module>\u001b[1;34m\u001b[0m\n\u001b[0;32m      2\u001b[0m \u001b[1;32mfor\u001b[0m \u001b[0mf\u001b[0m \u001b[1;32min\u001b[0m \u001b[0mnum_features\u001b[0m\u001b[1;33m:\u001b[0m\u001b[1;33m\u001b[0m\u001b[1;33m\u001b[0m\u001b[0m\n\u001b[0;32m      3\u001b[0m     \u001b[0mtrain\u001b[0m\u001b[1;33m.\u001b[0m\u001b[0mloc\u001b[0m\u001b[1;33m[\u001b[0m\u001b[1;33m:\u001b[0m\u001b[1;33m,\u001b[0m \u001b[0mf\u001b[0m\u001b[1;33m]\u001b[0m \u001b[1;33m=\u001b[0m \u001b[0mtrain\u001b[0m\u001b[1;33m[\u001b[0m\u001b[0mf\u001b[0m\u001b[1;33m]\u001b[0m\u001b[1;33m.\u001b[0m\u001b[0mfillna\u001b[0m\u001b[1;33m(\u001b[0m\u001b[1;32mlambda\u001b[0m \u001b[0mx\u001b[0m\u001b[1;33m:\u001b[0m \u001b[0mnp\u001b[0m\u001b[1;33m.\u001b[0m\u001b[0mmedian\u001b[0m\u001b[1;33m(\u001b[0m\u001b[0mx\u001b[0m\u001b[1;33m)\u001b[0m\u001b[1;33m)\u001b[0m\u001b[1;33m\u001b[0m\u001b[1;33m\u001b[0m\u001b[0m\n\u001b[1;32m----> 4\u001b[1;33m     \u001b[0mtrain\u001b[0m\u001b[1;33m[\u001b[0m\u001b[1;34m\"log_{}\"\u001b[0m\u001b[1;33m.\u001b[0m\u001b[0mformat\u001b[0m\u001b[1;33m(\u001b[0m\u001b[0mf\u001b[0m\u001b[1;33m)\u001b[0m\u001b[1;33m]\u001b[0m \u001b[1;33m=\u001b[0m \u001b[1;33m(\u001b[0m\u001b[0mtrain\u001b[0m\u001b[1;33m[\u001b[0m\u001b[0mf\u001b[0m\u001b[1;33m]\u001b[0m \u001b[1;33m-\u001b[0m \u001b[0mtrain\u001b[0m\u001b[1;33m[\u001b[0m\u001b[0mf\u001b[0m\u001b[1;33m]\u001b[0m\u001b[1;33m.\u001b[0m\u001b[0mmin\u001b[0m\u001b[1;33m(\u001b[0m\u001b[1;33m)\u001b[0m \u001b[1;33m+\u001b[0m \u001b[1;36m1\u001b[0m\u001b[1;33m)\u001b[0m\u001b[1;33m.\u001b[0m\u001b[0mtransform\u001b[0m\u001b[1;33m(\u001b[0m\u001b[0mnp\u001b[0m\u001b[1;33m.\u001b[0m\u001b[0mlog\u001b[0m\u001b[1;33m)\u001b[0m\u001b[1;33m\u001b[0m\u001b[1;33m\u001b[0m\u001b[0m\n\u001b[0m\u001b[0;32m      5\u001b[0m \u001b[1;33m\u001b[0m\u001b[0m\n\u001b[0;32m      6\u001b[0m cat_features = [\n",
      "\u001b[1;32m~\\anaconda3\\lib\\site-packages\\pandas\\core\\generic.py\u001b[0m in \u001b[0;36mmin\u001b[1;34m(self, axis, skipna, level, numeric_only, **kwargs)\u001b[0m\n\u001b[0;32m  11242\u001b[0m             \u001b[1;33m**\u001b[0m\u001b[0mkwargs\u001b[0m\u001b[1;33m,\u001b[0m\u001b[1;33m\u001b[0m\u001b[1;33m\u001b[0m\u001b[0m\n\u001b[0;32m  11243\u001b[0m         ):\n\u001b[1;32m> 11244\u001b[1;33m             \u001b[1;32mreturn\u001b[0m \u001b[0mNDFrame\u001b[0m\u001b[1;33m.\u001b[0m\u001b[0mmin\u001b[0m\u001b[1;33m(\u001b[0m\u001b[0mself\u001b[0m\u001b[1;33m,\u001b[0m \u001b[0maxis\u001b[0m\u001b[1;33m,\u001b[0m \u001b[0mskipna\u001b[0m\u001b[1;33m,\u001b[0m \u001b[0mlevel\u001b[0m\u001b[1;33m,\u001b[0m \u001b[0mnumeric_only\u001b[0m\u001b[1;33m,\u001b[0m \u001b[1;33m**\u001b[0m\u001b[0mkwargs\u001b[0m\u001b[1;33m)\u001b[0m\u001b[1;33m\u001b[0m\u001b[1;33m\u001b[0m\u001b[0m\n\u001b[0m\u001b[0;32m  11245\u001b[0m \u001b[1;33m\u001b[0m\u001b[0m\n\u001b[0;32m  11246\u001b[0m         \u001b[0msetattr\u001b[0m\u001b[1;33m(\u001b[0m\u001b[0mcls\u001b[0m\u001b[1;33m,\u001b[0m \u001b[1;34m\"min\"\u001b[0m\u001b[1;33m,\u001b[0m \u001b[0mmin\u001b[0m\u001b[1;33m)\u001b[0m\u001b[1;33m\u001b[0m\u001b[1;33m\u001b[0m\u001b[0m\n",
      "\u001b[1;32m~\\anaconda3\\lib\\site-packages\\pandas\\core\\generic.py\u001b[0m in \u001b[0;36mmin\u001b[1;34m(self, axis, skipna, level, numeric_only, **kwargs)\u001b[0m\n\u001b[0;32m  10656\u001b[0m         \u001b[1;33m**\u001b[0m\u001b[0mkwargs\u001b[0m\u001b[1;33m,\u001b[0m\u001b[1;33m\u001b[0m\u001b[1;33m\u001b[0m\u001b[0m\n\u001b[0;32m  10657\u001b[0m     ):\n\u001b[1;32m> 10658\u001b[1;33m         return self._stat_function(\n\u001b[0m\u001b[0;32m  10659\u001b[0m             \u001b[1;34m\"min\"\u001b[0m\u001b[1;33m,\u001b[0m\u001b[1;33m\u001b[0m\u001b[1;33m\u001b[0m\u001b[0m\n\u001b[0;32m  10660\u001b[0m             \u001b[0mnanops\u001b[0m\u001b[1;33m.\u001b[0m\u001b[0mnanmin\u001b[0m\u001b[1;33m,\u001b[0m\u001b[1;33m\u001b[0m\u001b[1;33m\u001b[0m\u001b[0m\n",
      "\u001b[1;32m~\\anaconda3\\lib\\site-packages\\pandas\\core\\generic.py\u001b[0m in \u001b[0;36m_stat_function\u001b[1;34m(self, name, func, axis, skipna, level, numeric_only, **kwargs)\u001b[0m\n\u001b[0;32m  10644\u001b[0m                 \u001b[0mname\u001b[0m\u001b[1;33m,\u001b[0m \u001b[0maxis\u001b[0m\u001b[1;33m=\u001b[0m\u001b[0maxis\u001b[0m\u001b[1;33m,\u001b[0m \u001b[0mlevel\u001b[0m\u001b[1;33m=\u001b[0m\u001b[0mlevel\u001b[0m\u001b[1;33m,\u001b[0m \u001b[0mskipna\u001b[0m\u001b[1;33m=\u001b[0m\u001b[0mskipna\u001b[0m\u001b[1;33m,\u001b[0m \u001b[0mnumeric_only\u001b[0m\u001b[1;33m=\u001b[0m\u001b[0mnumeric_only\u001b[0m\u001b[1;33m\u001b[0m\u001b[1;33m\u001b[0m\u001b[0m\n\u001b[0;32m  10645\u001b[0m             )\n\u001b[1;32m> 10646\u001b[1;33m         return self._reduce(\n\u001b[0m\u001b[0;32m  10647\u001b[0m             \u001b[0mfunc\u001b[0m\u001b[1;33m,\u001b[0m \u001b[0mname\u001b[0m\u001b[1;33m=\u001b[0m\u001b[0mname\u001b[0m\u001b[1;33m,\u001b[0m \u001b[0maxis\u001b[0m\u001b[1;33m=\u001b[0m\u001b[0maxis\u001b[0m\u001b[1;33m,\u001b[0m \u001b[0mskipna\u001b[0m\u001b[1;33m=\u001b[0m\u001b[0mskipna\u001b[0m\u001b[1;33m,\u001b[0m \u001b[0mnumeric_only\u001b[0m\u001b[1;33m=\u001b[0m\u001b[0mnumeric_only\u001b[0m\u001b[1;33m\u001b[0m\u001b[1;33m\u001b[0m\u001b[0m\n\u001b[0;32m  10648\u001b[0m         )\n",
      "\u001b[1;32m~\\anaconda3\\lib\\site-packages\\pandas\\core\\series.py\u001b[0m in \u001b[0;36m_reduce\u001b[1;34m(self, op, name, axis, skipna, numeric_only, filter_type, **kwds)\u001b[0m\n\u001b[0;32m   4469\u001b[0m                 )\n\u001b[0;32m   4470\u001b[0m             \u001b[1;32mwith\u001b[0m \u001b[0mnp\u001b[0m\u001b[1;33m.\u001b[0m\u001b[0merrstate\u001b[0m\u001b[1;33m(\u001b[0m\u001b[0mall\u001b[0m\u001b[1;33m=\u001b[0m\u001b[1;34m\"ignore\"\u001b[0m\u001b[1;33m)\u001b[0m\u001b[1;33m:\u001b[0m\u001b[1;33m\u001b[0m\u001b[1;33m\u001b[0m\u001b[0m\n\u001b[1;32m-> 4471\u001b[1;33m                 \u001b[1;32mreturn\u001b[0m \u001b[0mop\u001b[0m\u001b[1;33m(\u001b[0m\u001b[0mdelegate\u001b[0m\u001b[1;33m,\u001b[0m \u001b[0mskipna\u001b[0m\u001b[1;33m=\u001b[0m\u001b[0mskipna\u001b[0m\u001b[1;33m,\u001b[0m \u001b[1;33m**\u001b[0m\u001b[0mkwds\u001b[0m\u001b[1;33m)\u001b[0m\u001b[1;33m\u001b[0m\u001b[1;33m\u001b[0m\u001b[0m\n\u001b[0m\u001b[0;32m   4472\u001b[0m \u001b[1;33m\u001b[0m\u001b[0m\n\u001b[0;32m   4473\u001b[0m     def _reindex_indexer(\n",
      "\u001b[1;32m~\\anaconda3\\lib\\site-packages\\pandas\\core\\nanops.py\u001b[0m in \u001b[0;36mf\u001b[1;34m(values, axis, skipna, **kwds)\u001b[0m\n\u001b[0;32m    153\u001b[0m                     \u001b[0mresult\u001b[0m \u001b[1;33m=\u001b[0m \u001b[0malt\u001b[0m\u001b[1;33m(\u001b[0m\u001b[0mvalues\u001b[0m\u001b[1;33m,\u001b[0m \u001b[0maxis\u001b[0m\u001b[1;33m=\u001b[0m\u001b[0maxis\u001b[0m\u001b[1;33m,\u001b[0m \u001b[0mskipna\u001b[0m\u001b[1;33m=\u001b[0m\u001b[0mskipna\u001b[0m\u001b[1;33m,\u001b[0m \u001b[1;33m**\u001b[0m\u001b[0mkwds\u001b[0m\u001b[1;33m)\u001b[0m\u001b[1;33m\u001b[0m\u001b[1;33m\u001b[0m\u001b[0m\n\u001b[0;32m    154\u001b[0m             \u001b[1;32melse\u001b[0m\u001b[1;33m:\u001b[0m\u001b[1;33m\u001b[0m\u001b[1;33m\u001b[0m\u001b[0m\n\u001b[1;32m--> 155\u001b[1;33m                 \u001b[0mresult\u001b[0m \u001b[1;33m=\u001b[0m \u001b[0malt\u001b[0m\u001b[1;33m(\u001b[0m\u001b[0mvalues\u001b[0m\u001b[1;33m,\u001b[0m \u001b[0maxis\u001b[0m\u001b[1;33m=\u001b[0m\u001b[0maxis\u001b[0m\u001b[1;33m,\u001b[0m \u001b[0mskipna\u001b[0m\u001b[1;33m=\u001b[0m\u001b[0mskipna\u001b[0m\u001b[1;33m,\u001b[0m \u001b[1;33m**\u001b[0m\u001b[0mkwds\u001b[0m\u001b[1;33m)\u001b[0m\u001b[1;33m\u001b[0m\u001b[1;33m\u001b[0m\u001b[0m\n\u001b[0m\u001b[0;32m    156\u001b[0m \u001b[1;33m\u001b[0m\u001b[0m\n\u001b[0;32m    157\u001b[0m             \u001b[1;32mreturn\u001b[0m \u001b[0mresult\u001b[0m\u001b[1;33m\u001b[0m\u001b[1;33m\u001b[0m\u001b[0m\n",
      "\u001b[1;32m~\\anaconda3\\lib\\site-packages\\pandas\\core\\nanops.py\u001b[0m in \u001b[0;36mnew_func\u001b[1;34m(values, axis, skipna, mask, **kwargs)\u001b[0m\n\u001b[0;32m    408\u001b[0m             \u001b[0mmask\u001b[0m \u001b[1;33m=\u001b[0m \u001b[0misna\u001b[0m\u001b[1;33m(\u001b[0m\u001b[0mvalues\u001b[0m\u001b[1;33m)\u001b[0m\u001b[1;33m\u001b[0m\u001b[1;33m\u001b[0m\u001b[0m\n\u001b[0;32m    409\u001b[0m \u001b[1;33m\u001b[0m\u001b[0m\n\u001b[1;32m--> 410\u001b[1;33m         \u001b[0mresult\u001b[0m \u001b[1;33m=\u001b[0m \u001b[0mfunc\u001b[0m\u001b[1;33m(\u001b[0m\u001b[0mvalues\u001b[0m\u001b[1;33m,\u001b[0m \u001b[0maxis\u001b[0m\u001b[1;33m=\u001b[0m\u001b[0maxis\u001b[0m\u001b[1;33m,\u001b[0m \u001b[0mskipna\u001b[0m\u001b[1;33m=\u001b[0m\u001b[0mskipna\u001b[0m\u001b[1;33m,\u001b[0m \u001b[0mmask\u001b[0m\u001b[1;33m=\u001b[0m\u001b[0mmask\u001b[0m\u001b[1;33m,\u001b[0m \u001b[1;33m**\u001b[0m\u001b[0mkwargs\u001b[0m\u001b[1;33m)\u001b[0m\u001b[1;33m\u001b[0m\u001b[1;33m\u001b[0m\u001b[0m\n\u001b[0m\u001b[0;32m    411\u001b[0m \u001b[1;33m\u001b[0m\u001b[0m\n\u001b[0;32m    412\u001b[0m         \u001b[1;32mif\u001b[0m \u001b[0mdatetimelike\u001b[0m\u001b[1;33m:\u001b[0m\u001b[1;33m\u001b[0m\u001b[1;33m\u001b[0m\u001b[0m\n",
      "\u001b[1;32m~\\anaconda3\\lib\\site-packages\\pandas\\core\\nanops.py\u001b[0m in \u001b[0;36mreduction\u001b[1;34m(values, axis, skipna, mask)\u001b[0m\n\u001b[0;32m   1041\u001b[0m                 \u001b[0mresult\u001b[0m \u001b[1;33m=\u001b[0m \u001b[0mnp\u001b[0m\u001b[1;33m.\u001b[0m\u001b[0mnan\u001b[0m\u001b[1;33m\u001b[0m\u001b[1;33m\u001b[0m\u001b[0m\n\u001b[0;32m   1042\u001b[0m         \u001b[1;32melse\u001b[0m\u001b[1;33m:\u001b[0m\u001b[1;33m\u001b[0m\u001b[1;33m\u001b[0m\u001b[0m\n\u001b[1;32m-> 1043\u001b[1;33m             \u001b[0mresult\u001b[0m \u001b[1;33m=\u001b[0m \u001b[0mgetattr\u001b[0m\u001b[1;33m(\u001b[0m\u001b[0mvalues\u001b[0m\u001b[1;33m,\u001b[0m \u001b[0mmeth\u001b[0m\u001b[1;33m)\u001b[0m\u001b[1;33m(\u001b[0m\u001b[0maxis\u001b[0m\u001b[1;33m)\u001b[0m\u001b[1;33m\u001b[0m\u001b[1;33m\u001b[0m\u001b[0m\n\u001b[0m\u001b[0;32m   1044\u001b[0m \u001b[1;33m\u001b[0m\u001b[0m\n\u001b[0;32m   1045\u001b[0m         \u001b[0mresult\u001b[0m \u001b[1;33m=\u001b[0m \u001b[0m_maybe_null_out\u001b[0m\u001b[1;33m(\u001b[0m\u001b[0mresult\u001b[0m\u001b[1;33m,\u001b[0m \u001b[0maxis\u001b[0m\u001b[1;33m,\u001b[0m \u001b[0mmask\u001b[0m\u001b[1;33m,\u001b[0m \u001b[0mvalues\u001b[0m\u001b[1;33m.\u001b[0m\u001b[0mshape\u001b[0m\u001b[1;33m)\u001b[0m\u001b[1;33m\u001b[0m\u001b[1;33m\u001b[0m\u001b[0m\n",
      "\u001b[1;32m~\\anaconda3\\lib\\site-packages\\numpy\\core\\_methods.py\u001b[0m in \u001b[0;36m_amin\u001b[1;34m(a, axis, out, keepdims, initial, where)\u001b[0m\n\u001b[0;32m     42\u001b[0m def _amin(a, axis=None, out=None, keepdims=False,\n\u001b[0;32m     43\u001b[0m           initial=_NoValue, where=True):\n\u001b[1;32m---> 44\u001b[1;33m     \u001b[1;32mreturn\u001b[0m \u001b[0mumr_minimum\u001b[0m\u001b[1;33m(\u001b[0m\u001b[0ma\u001b[0m\u001b[1;33m,\u001b[0m \u001b[0maxis\u001b[0m\u001b[1;33m,\u001b[0m \u001b[1;32mNone\u001b[0m\u001b[1;33m,\u001b[0m \u001b[0mout\u001b[0m\u001b[1;33m,\u001b[0m \u001b[0mkeepdims\u001b[0m\u001b[1;33m,\u001b[0m \u001b[0minitial\u001b[0m\u001b[1;33m,\u001b[0m \u001b[0mwhere\u001b[0m\u001b[1;33m)\u001b[0m\u001b[1;33m\u001b[0m\u001b[1;33m\u001b[0m\u001b[0m\n\u001b[0m\u001b[0;32m     45\u001b[0m \u001b[1;33m\u001b[0m\u001b[0m\n\u001b[0;32m     46\u001b[0m def _sum(a, axis=None, dtype=None, out=None, keepdims=False,\n",
      "\u001b[1;31mTypeError\u001b[0m: '<=' not supported between instances of 'float' and 'function'"
     ]
    }
   ],
   "source": [
    "num_features = [col for col in train.select_dtypes(np.number)]\n",
    "for f in num_features:\n",
    "    train.loc[:, f] = train[f].fillna(lambda x: np.median(x))\n",
    "    train[\"log_{}\".format(f)] = (train[f] - train[f].min() + 1).transform(np.log)\n",
    "        \n",
    "cat_features = [\n",
    "    x for x in train.select_dtypes(np.object).columns if x not in (\"Tour_ID\", \"cost_category\")\n",
    "]\n",
    "\n",
    "for feat in cat_features:\n",
    "    train.loc[:, feat] = train[feat].astype(str).fillna(\"None\")\n",
    "\n",
    "combination = itertools.combinations(cat_features, 2)\n",
    "for cat1, cat2 in combination:\n",
    "    train[cat1 + \"_\" + cat2] = train[cat1].astype(str) + train[cat2].astype(str)\n",
    "\n",
    "features = num_features.values + cat_features.values\n",
    "for feat in features:\n",
    "    num_pipeline=Pipeline([\n",
    "        (\"imputer\", KNNImputer(n_neighbors=3)),\n",
    "        (\"scaler\", StandardScaler()),\n",
    "    ])\n",
    "    \n",
    "    cat_pipeline=Pipeline([\n",
    "        (\"imputer\", SimpleImputer(strategy='most_frequent')),\n",
    "        (\"encoder\", OneHotEncoder(sparse_output=False)),\n",
    "    ])\n",
    "\n",
    "    text_pipeline=Pipeline([\n",
    "        (\"vectorizer\",OneHotEncoder(sparse_output=False)),\n",
    "    ])\n",
    "\n",
    "    pipe = ColumnTransformer([\n",
    "        (\"cat\", cat_pipeline, cat),\n",
    "        (\"num\", num_pipeline, num),\n",
    "        (\"text\", text_pipeline, text),\n",
    "    ])\n",
    "    \n",
    "    \n",
    "    pipe.fit(train[feat])\n",
    "    \n",
    "    train.loc[:, feat] = pipe.transform(train[feat])\n",
    "    \n",
    "\n",
    "mapping = {\n",
    "    \"Lower Cost\": 1,\n",
    "    \"Low Cost\" : 2,\n",
    "    \"Normal Cost\": 3,\n",
    "    \"High Cost\": 4,\n",
    "    \"Higher Cost\": 5,\n",
    "    \"Highest Cost\": 6\n",
    "} \n",
    "\n",
    "train.loc[:, \"cost_category\"] = train['cost_category'].map(mapping)"
   ]
  },
  {
   "cell_type": "code",
   "execution_count": null,
   "id": "ae8d9f52",
   "metadata": {
    "scrolled": true
   },
   "outputs": [],
   "source": [
    "train.head()"
   ]
  },
  {
   "cell_type": "code",
   "execution_count": null,
   "id": "475111f8",
   "metadata": {},
   "outputs": [],
   "source": [
    "def chi(data):\n",
    "    col_drop=[]\n",
    "    \n",
    "    for col in data.columns:\n",
    "        \n",
    "        ct=pd.crosstab(y, data[col])\n",
    "        chi2, p, _, _ =chi2_contingency(ct)\n",
    "        \n",
    "        if p >= 0.05:\n",
    "            col_drop.append(col)\n",
    "        elif chi2 <= 8000:\n",
    "            col_drop.append(col)\n",
    "            \n",
    "    return col_drop"
   ]
  },
  {
   "cell_type": "code",
   "execution_count": 17,
   "id": "447f0ee5",
   "metadata": {
    "scrolled": true
   },
   "outputs": [
    {
     "data": {
      "text/plain": [
       "(18506, 158)"
      ]
     },
     "execution_count": 17,
     "metadata": {},
     "output_type": "execute_result"
    }
   ],
   "source": [
    "train.shape"
   ]
  },
  {
   "cell_type": "code",
   "execution_count": 27,
   "id": "950c4f1a",
   "metadata": {},
   "outputs": [
    {
     "data": {
      "text/html": [
       "<div>\n",
       "<style scoped>\n",
       "    .dataframe tbody tr th:only-of-type {\n",
       "        vertical-align: middle;\n",
       "    }\n",
       "\n",
       "    .dataframe tbody tr th {\n",
       "        vertical-align: top;\n",
       "    }\n",
       "\n",
       "    .dataframe thead th {\n",
       "        text-align: right;\n",
       "    }\n",
       "</style>\n",
       "<table border=\"1\" class=\"dataframe\">\n",
       "  <thead>\n",
       "    <tr style=\"text-align: right;\">\n",
       "      <th></th>\n",
       "      <th>country</th>\n",
       "      <th>tour_arrangement</th>\n",
       "      <th>country&amp;age_group</th>\n",
       "      <th>country&amp;travel_with</th>\n",
       "      <th>country&amp;total_female</th>\n",
       "      <th>country&amp;total_male</th>\n",
       "      <th>country&amp;purpose</th>\n",
       "      <th>country&amp;main_activity</th>\n",
       "      <th>country&amp;info_source</th>\n",
       "      <th>country&amp;tour_arrangement</th>\n",
       "      <th>...</th>\n",
       "      <th>package_transport_int&amp;package_guided_tour</th>\n",
       "      <th>package_accomodation&amp;package_food</th>\n",
       "      <th>package_accomodation&amp;package_transport_tz</th>\n",
       "      <th>package_accomodation&amp;package_sightseeing</th>\n",
       "      <th>package_accomodation&amp;package_guided_tour</th>\n",
       "      <th>package_accomodation&amp;package_insurance</th>\n",
       "      <th>package_accomodation&amp;first_trip_tz</th>\n",
       "      <th>package_food&amp;package_transport_tz</th>\n",
       "      <th>package_food&amp;package_sightseeing</th>\n",
       "      <th>package_food&amp;package_guided_tour</th>\n",
       "    </tr>\n",
       "  </thead>\n",
       "  <tbody>\n",
       "    <tr>\n",
       "      <th>0</th>\n",
       "      <td>54</td>\n",
       "      <td>1</td>\n",
       "      <td>ITALY45-64</td>\n",
       "      <td>ITALYWith Children</td>\n",
       "      <td>ITALY0.0</td>\n",
       "      <td>ITALY2.0</td>\n",
       "      <td>ITALYVisiting Friends and Relatives</td>\n",
       "      <td>ITALYBeach Tourism</td>\n",
       "      <td>ITALYFriends, relatives</td>\n",
       "      <td>ITALYPackage Tour</td>\n",
       "      <td>...</td>\n",
       "      <td>YesNo</td>\n",
       "      <td>YesYes</td>\n",
       "      <td>YesYes</td>\n",
       "      <td>YesNo</td>\n",
       "      <td>YesNo</td>\n",
       "      <td>YesNo</td>\n",
       "      <td>YesYes</td>\n",
       "      <td>YesYes</td>\n",
       "      <td>YesNo</td>\n",
       "      <td>YesNo</td>\n",
       "    </tr>\n",
       "    <tr>\n",
       "      <th>1</th>\n",
       "      <td>123</td>\n",
       "      <td>1</td>\n",
       "      <td>UNITED KINGDOM25-44</td>\n",
       "      <td>UNITED KINGDOMWith Spouse</td>\n",
       "      <td>UNITED KINGDOM1.0</td>\n",
       "      <td>UNITED KINGDOM1.0</td>\n",
       "      <td>UNITED KINGDOMLeisure and Holidays</td>\n",
       "      <td>UNITED KINGDOMWildlife Tourism</td>\n",
       "      <td>UNITED KINGDOMTravel agent, tour operator</td>\n",
       "      <td>UNITED KINGDOMPackage Tour</td>\n",
       "      <td>...</td>\n",
       "      <td>YesNo</td>\n",
       "      <td>YesYes</td>\n",
       "      <td>YesYes</td>\n",
       "      <td>YesNo</td>\n",
       "      <td>YesNo</td>\n",
       "      <td>YesNo</td>\n",
       "      <td>YesYes</td>\n",
       "      <td>YesYes</td>\n",
       "      <td>YesNo</td>\n",
       "      <td>YesNo</td>\n",
       "    </tr>\n",
       "    <tr>\n",
       "      <th>2</th>\n",
       "      <td>124</td>\n",
       "      <td>1</td>\n",
       "      <td>UNITED STATES OF AMERICA65+</td>\n",
       "      <td>UNITED STATES OF AMERICAWith Spouse</td>\n",
       "      <td>UNITED STATES OF AMERICA1.0</td>\n",
       "      <td>UNITED STATES OF AMERICA1.0</td>\n",
       "      <td>UNITED STATES OF AMERICALeisure and Holidays</td>\n",
       "      <td>UNITED STATES OF AMERICAWildlife Tourism</td>\n",
       "      <td>UNITED STATES OF AMERICATravel agent, tour ope...</td>\n",
       "      <td>UNITED STATES OF AMERICAPackage Tour</td>\n",
       "      <td>...</td>\n",
       "      <td>YesYes</td>\n",
       "      <td>YesYes</td>\n",
       "      <td>YesYes</td>\n",
       "      <td>YesYes</td>\n",
       "      <td>YesYes</td>\n",
       "      <td>YesNo</td>\n",
       "      <td>YesYes</td>\n",
       "      <td>YesYes</td>\n",
       "      <td>YesYes</td>\n",
       "      <td>YesYes</td>\n",
       "    </tr>\n",
       "    <tr>\n",
       "      <th>3</th>\n",
       "      <td>96</td>\n",
       "      <td>0</td>\n",
       "      <td>RWANDA25-44</td>\n",
       "      <td>RWANDAWith Spouse and Children</td>\n",
       "      <td>RWANDA3.0</td>\n",
       "      <td>RWANDA1.0</td>\n",
       "      <td>RWANDALeisure and Holidays</td>\n",
       "      <td>RWANDABeach Tourism</td>\n",
       "      <td>RWANDARadio, TV, Web</td>\n",
       "      <td>RWANDAIndependent</td>\n",
       "      <td>...</td>\n",
       "      <td>NoNo</td>\n",
       "      <td>NoNo</td>\n",
       "      <td>NoNo</td>\n",
       "      <td>NoNo</td>\n",
       "      <td>NoNo</td>\n",
       "      <td>NoNo</td>\n",
       "      <td>NoNo</td>\n",
       "      <td>NoNo</td>\n",
       "      <td>NoNo</td>\n",
       "      <td>NoNo</td>\n",
       "    </tr>\n",
       "    <tr>\n",
       "      <th>4</th>\n",
       "      <td>124</td>\n",
       "      <td>1</td>\n",
       "      <td>UNITED STATES OF AMERICA45-64</td>\n",
       "      <td>UNITED STATES OF AMERICAAlone</td>\n",
       "      <td>UNITED STATES OF AMERICA0.0</td>\n",
       "      <td>UNITED STATES OF AMERICA1.0</td>\n",
       "      <td>UNITED STATES OF AMERICALeisure and Holidays</td>\n",
       "      <td>UNITED STATES OF AMERICAWildlife Tourism</td>\n",
       "      <td>UNITED STATES OF AMERICATravel agent, tour ope...</td>\n",
       "      <td>UNITED STATES OF AMERICAPackage Tour</td>\n",
       "      <td>...</td>\n",
       "      <td>YesYes</td>\n",
       "      <td>YesYes</td>\n",
       "      <td>YesYes</td>\n",
       "      <td>YesNo</td>\n",
       "      <td>YesYes</td>\n",
       "      <td>YesYes</td>\n",
       "      <td>YesYes</td>\n",
       "      <td>YesYes</td>\n",
       "      <td>YesNo</td>\n",
       "      <td>YesYes</td>\n",
       "    </tr>\n",
       "  </tbody>\n",
       "</table>\n",
       "<p>5 rows × 81 columns</p>\n",
       "</div>"
      ],
      "text/plain": [
       "   country  tour_arrangement              country&age_group  \\\n",
       "0       54                 1                     ITALY45-64   \n",
       "1      123                 1            UNITED KINGDOM25-44   \n",
       "2      124                 1    UNITED STATES OF AMERICA65+   \n",
       "3       96                 0                    RWANDA25-44   \n",
       "4      124                 1  UNITED STATES OF AMERICA45-64   \n",
       "\n",
       "                   country&travel_with         country&total_female  \\\n",
       "0                   ITALYWith Children                     ITALY0.0   \n",
       "1            UNITED KINGDOMWith Spouse            UNITED KINGDOM1.0   \n",
       "2  UNITED STATES OF AMERICAWith Spouse  UNITED STATES OF AMERICA1.0   \n",
       "3       RWANDAWith Spouse and Children                    RWANDA3.0   \n",
       "4        UNITED STATES OF AMERICAAlone  UNITED STATES OF AMERICA0.0   \n",
       "\n",
       "            country&total_male                               country&purpose  \\\n",
       "0                     ITALY2.0           ITALYVisiting Friends and Relatives   \n",
       "1            UNITED KINGDOM1.0            UNITED KINGDOMLeisure and Holidays   \n",
       "2  UNITED STATES OF AMERICA1.0  UNITED STATES OF AMERICALeisure and Holidays   \n",
       "3                    RWANDA1.0                    RWANDALeisure and Holidays   \n",
       "4  UNITED STATES OF AMERICA1.0  UNITED STATES OF AMERICALeisure and Holidays   \n",
       "\n",
       "                      country&main_activity  \\\n",
       "0                        ITALYBeach Tourism   \n",
       "1            UNITED KINGDOMWildlife Tourism   \n",
       "2  UNITED STATES OF AMERICAWildlife Tourism   \n",
       "3                       RWANDABeach Tourism   \n",
       "4  UNITED STATES OF AMERICAWildlife Tourism   \n",
       "\n",
       "                                 country&info_source  \\\n",
       "0                            ITALYFriends, relatives   \n",
       "1          UNITED KINGDOMTravel agent, tour operator   \n",
       "2  UNITED STATES OF AMERICATravel agent, tour ope...   \n",
       "3                               RWANDARadio, TV, Web   \n",
       "4  UNITED STATES OF AMERICATravel agent, tour ope...   \n",
       "\n",
       "               country&tour_arrangement  ...  \\\n",
       "0                     ITALYPackage Tour  ...   \n",
       "1            UNITED KINGDOMPackage Tour  ...   \n",
       "2  UNITED STATES OF AMERICAPackage Tour  ...   \n",
       "3                     RWANDAIndependent  ...   \n",
       "4  UNITED STATES OF AMERICAPackage Tour  ...   \n",
       "\n",
       "  package_transport_int&package_guided_tour package_accomodation&package_food  \\\n",
       "0                                     YesNo                            YesYes   \n",
       "1                                     YesNo                            YesYes   \n",
       "2                                    YesYes                            YesYes   \n",
       "3                                      NoNo                              NoNo   \n",
       "4                                    YesYes                            YesYes   \n",
       "\n",
       "  package_accomodation&package_transport_tz  \\\n",
       "0                                    YesYes   \n",
       "1                                    YesYes   \n",
       "2                                    YesYes   \n",
       "3                                      NoNo   \n",
       "4                                    YesYes   \n",
       "\n",
       "  package_accomodation&package_sightseeing  \\\n",
       "0                                    YesNo   \n",
       "1                                    YesNo   \n",
       "2                                   YesYes   \n",
       "3                                     NoNo   \n",
       "4                                    YesNo   \n",
       "\n",
       "  package_accomodation&package_guided_tour  \\\n",
       "0                                    YesNo   \n",
       "1                                    YesNo   \n",
       "2                                   YesYes   \n",
       "3                                     NoNo   \n",
       "4                                   YesYes   \n",
       "\n",
       "  package_accomodation&package_insurance package_accomodation&first_trip_tz  \\\n",
       "0                                  YesNo                             YesYes   \n",
       "1                                  YesNo                             YesYes   \n",
       "2                                  YesNo                             YesYes   \n",
       "3                                   NoNo                               NoNo   \n",
       "4                                 YesYes                             YesYes   \n",
       "\n",
       "  package_food&package_transport_tz package_food&package_sightseeing  \\\n",
       "0                            YesYes                            YesNo   \n",
       "1                            YesYes                            YesNo   \n",
       "2                            YesYes                           YesYes   \n",
       "3                              NoNo                             NoNo   \n",
       "4                            YesYes                            YesNo   \n",
       "\n",
       "  package_food&package_guided_tour  \n",
       "0                            YesNo  \n",
       "1                            YesNo  \n",
       "2                           YesYes  \n",
       "3                             NoNo  \n",
       "4                           YesYes  \n",
       "\n",
       "[5 rows x 81 columns]"
      ]
     },
     "execution_count": 27,
     "metadata": {},
     "output_type": "execute_result"
    }
   ],
   "source": [
    "X.head()"
   ]
  },
  {
   "cell_type": "code",
   "execution_count": 28,
   "id": "7d2792c3",
   "metadata": {},
   "outputs": [],
   "source": [
    "X = train.drop('cost_category', axis=1)\n",
    "y = train['cost_category']\n",
    "\n",
    "col_drop = chi(train)\n",
    "train.drop(col_drop, axis=1, inplace=True)"
   ]
  },
  {
   "cell_type": "code",
   "execution_count": 19,
   "id": "d7344e06",
   "metadata": {
    "collapsed": true,
    "jupyter": {
     "outputs_hidden": true
    }
   },
   "outputs": [
    {
     "data": {
      "text/plain": [
       "['Tour_ID',\n",
       " 'age_group',\n",
       " 'travel_with',\n",
       " 'total_female',\n",
       " 'total_male',\n",
       " 'purpose',\n",
       " 'main_activity',\n",
       " 'info_source',\n",
       " 'package_transport_int',\n",
       " 'package_accomodation',\n",
       " 'package_food',\n",
       " 'package_transport_tz',\n",
       " 'package_sightseeing',\n",
       " 'package_guided_tour',\n",
       " 'package_insurance',\n",
       " 'night_mainland',\n",
       " 'night_zanzibar',\n",
       " 'first_trip_tz',\n",
       " 'log_night_zanzibar',\n",
       " 'age_group&travel_with',\n",
       " 'age_group&total_female',\n",
       " 'age_group&total_male',\n",
       " 'age_group&main_activity',\n",
       " 'age_group&info_source',\n",
       " 'age_group&package_transport_int',\n",
       " 'age_group&package_transport_tz',\n",
       " 'age_group&package_sightseeing',\n",
       " 'age_group&package_guided_tour',\n",
       " 'age_group&package_insurance',\n",
       " 'age_group&first_trip_tz',\n",
       " 'travel_with&total_female',\n",
       " 'travel_with&total_male',\n",
       " 'travel_with&info_source',\n",
       " 'travel_with&package_insurance',\n",
       " 'travel_with&first_trip_tz',\n",
       " 'total_female&total_male',\n",
       " 'total_female&main_activity',\n",
       " 'total_female&info_source',\n",
       " 'total_female&package_sightseeing',\n",
       " 'total_female&package_guided_tour',\n",
       " 'total_female&package_insurance',\n",
       " 'total_female&first_trip_tz',\n",
       " 'total_male&main_activity',\n",
       " 'total_male&info_source',\n",
       " 'total_male&package_transport_int',\n",
       " 'total_male&package_sightseeing',\n",
       " 'total_male&package_guided_tour',\n",
       " 'total_male&package_insurance',\n",
       " 'total_male&first_trip_tz',\n",
       " 'purpose&package_insurance',\n",
       " 'purpose&first_trip_tz',\n",
       " 'main_activity&info_source',\n",
       " 'main_activity&package_sightseeing',\n",
       " 'main_activity&package_guided_tour',\n",
       " 'main_activity&package_insurance',\n",
       " 'main_activity&first_trip_tz',\n",
       " 'info_source&package_transport_int',\n",
       " 'info_source&package_transport_tz',\n",
       " 'info_source&package_sightseeing',\n",
       " 'info_source&package_guided_tour',\n",
       " 'info_source&package_insurance',\n",
       " 'info_source&first_trip_tz',\n",
       " 'package_transport_int&package_insurance',\n",
       " 'package_transport_int&first_trip_tz',\n",
       " 'package_food&package_insurance',\n",
       " 'package_food&first_trip_tz',\n",
       " 'package_transport_tz&package_sightseeing',\n",
       " 'package_transport_tz&package_guided_tour',\n",
       " 'package_transport_tz&package_insurance',\n",
       " 'package_transport_tz&first_trip_tz',\n",
       " 'package_sightseeing&package_guided_tour',\n",
       " 'package_sightseeing&package_insurance',\n",
       " 'package_sightseeing&first_trip_tz',\n",
       " 'package_guided_tour&package_insurance',\n",
       " 'package_guided_tour&first_trip_tz',\n",
       " 'package_insurance&first_trip_tz']"
      ]
     },
     "execution_count": 19,
     "metadata": {},
     "output_type": "execute_result"
    }
   ],
   "source": [
    "col_drop"
   ]
  },
  {
   "cell_type": "code",
   "execution_count": 31,
   "id": "904f5f7a-73a0-49c3-9f7a-5d0a673e6b04",
   "metadata": {},
   "outputs": [],
   "source": [
    "from sklearn.pipeline import Pipeline, FeatureUnion, make_pipeline\n",
    "from sklearn.impute import SimpleImputer, KNNImputer\n",
    "from sklearn.preprocessing import StandardScaler, OneHotEncoder, MinMaxScaler, OrdinalEncoder, RobustScaler\n",
    "from sklearn.compose import ColumnTransformer\n",
    "cat = []\n",
    "huge_cat = []\n",
    "num = [c for c in X.select_dtypes('int','float').columns]\n",
    "for col in X.select_dtypes(['object', 'category']).columns:\n",
    "    if col not in ['cost_category']:\n",
    "        num_values=len(X[col].unique())\n",
    "        if num_values<=20:\n",
    "            cat.append(col)\n",
    "        else:\n",
    "            huge_cat.append(col)\n",
    "\n",
    "num_pipeline=Pipeline([\n",
    "    (\"imputer\", SimpleImputer(strategy='median')),\n",
    "    (\"scaler\", StandardScaler()),\n",
    "])\n",
    "\n",
    "cat_pipeline=Pipeline([\n",
    "    (\"imputer\", SimpleImputer(strategy='most_frequent')),\n",
    "    (\"encoder\", OneHotEncoder(sparse_output=False)),\n",
    "])\n",
    "\n",
    "lcat_pipeline=Pipeline([\n",
    "    ('imputer', SimpleImputer(strategy='most_frequent')),\n",
    "    (\"vectorizer\", OrdinalEncoder()),\n",
    "])\n",
    "\n",
    "pipe=ColumnTransformer([ \n",
    "    (\"cat\", cat_pipeline, cat),\n",
    "    (\"num\", num_pipeline, num),\n",
    "    (\"text\", lcat_pipeline, huge_cat),\n",
    "])\n",
    "\n",
    "\n",
    "X = pipe.fit_transform(X)"
   ]
  },
  {
   "cell_type": "code",
   "execution_count": 32,
   "id": "829f5ad2-aa10-4eb5-afec-595e13feb799",
   "metadata": {
    "scrolled": true
   },
   "outputs": [
    {
     "data": {
      "text/plain": [
       "[('cat',\n",
       "  Pipeline(steps=[('imputer', SimpleImputer(strategy='most_frequent')),\n",
       "                  ('encoder', OneHotEncoder(sparse_output=False))]),\n",
       "  ['age_group&tour_arrangement',\n",
       "   'age_group&package_accomodation',\n",
       "   'age_group&package_food',\n",
       "   'travel_with&tour_arrangement',\n",
       "   'travel_with&package_transport_int',\n",
       "   'travel_with&package_accomodation',\n",
       "   'travel_with&package_food',\n",
       "   'travel_with&package_transport_tz',\n",
       "   'travel_with&package_sightseeing',\n",
       "   'travel_with&package_guided_tour',\n",
       "   'purpose&tour_arrangement',\n",
       "   'purpose&package_transport_int',\n",
       "   'purpose&package_accomodation',\n",
       "   'purpose&package_food',\n",
       "   'purpose&package_transport_tz',\n",
       "   'purpose&package_sightseeing',\n",
       "   'purpose&package_guided_tour',\n",
       "   'main_activity&tour_arrangement',\n",
       "   'main_activity&package_transport_int',\n",
       "   'main_activity&package_accomodation',\n",
       "   'main_activity&package_food',\n",
       "   'main_activity&package_transport_tz',\n",
       "   'info_source&tour_arrangement',\n",
       "   'info_source&package_accomodation',\n",
       "   'info_source&package_food',\n",
       "   'tour_arrangement&package_transport_int',\n",
       "   'tour_arrangement&package_accomodation',\n",
       "   'tour_arrangement&package_food',\n",
       "   'tour_arrangement&package_transport_tz',\n",
       "   'tour_arrangement&package_sightseeing',\n",
       "   'tour_arrangement&package_guided_tour',\n",
       "   'tour_arrangement&package_insurance',\n",
       "   'tour_arrangement&first_trip_tz',\n",
       "   'package_transport_int&package_accomodation',\n",
       "   'package_transport_int&package_food',\n",
       "   'package_transport_int&package_transport_tz',\n",
       "   'package_transport_int&package_sightseeing',\n",
       "   'package_transport_int&package_guided_tour',\n",
       "   'package_accomodation&package_food',\n",
       "   'package_accomodation&package_transport_tz',\n",
       "   'package_accomodation&package_sightseeing',\n",
       "   'package_accomodation&package_guided_tour',\n",
       "   'package_accomodation&package_insurance',\n",
       "   'package_accomodation&first_trip_tz',\n",
       "   'package_food&package_transport_tz',\n",
       "   'package_food&package_sightseeing',\n",
       "   'package_food&package_guided_tour']),\n",
       " ('num',\n",
       "  Pipeline(steps=[('imputer', SimpleImputer(strategy='median')),\n",
       "                  ('scaler', StandardScaler())]),\n",
       "  ['country', 'tour_arrangement']),\n",
       " ('text',\n",
       "  Pipeline(steps=[('imputer', SimpleImputer(strategy='most_frequent')),\n",
       "                  ('vectorizer', OrdinalEncoder())]),\n",
       "  ['country&age_group',\n",
       "   'country&travel_with',\n",
       "   'country&total_female',\n",
       "   'country&total_male',\n",
       "   'country&purpose',\n",
       "   'country&main_activity',\n",
       "   'country&info_source',\n",
       "   'country&tour_arrangement',\n",
       "   'country&package_transport_int',\n",
       "   'country&package_accomodation',\n",
       "   'country&package_food',\n",
       "   'country&package_transport_tz',\n",
       "   'country&package_sightseeing',\n",
       "   'country&package_guided_tour',\n",
       "   'country&package_insurance',\n",
       "   'country&first_trip_tz',\n",
       "   'age_group&purpose',\n",
       "   'travel_with&purpose',\n",
       "   'travel_with&main_activity',\n",
       "   'total_female&purpose',\n",
       "   'total_female&tour_arrangement',\n",
       "   'total_female&package_transport_int',\n",
       "   'total_female&package_accomodation',\n",
       "   'total_female&package_food',\n",
       "   'total_female&package_transport_tz',\n",
       "   'total_male&purpose',\n",
       "   'total_male&tour_arrangement',\n",
       "   'total_male&package_accomodation',\n",
       "   'total_male&package_food',\n",
       "   'total_male&package_transport_tz',\n",
       "   'purpose&main_activity',\n",
       "   'purpose&info_source'])]"
      ]
     },
     "execution_count": 32,
     "metadata": {},
     "output_type": "execute_result"
    }
   ],
   "source": [
    "pipe.transformers_"
   ]
  },
  {
   "cell_type": "code",
   "execution_count": 18,
   "id": "7ccdee59-d3b7-43f2-aed1-687f6d571e40",
   "metadata": {},
   "outputs": [
    {
     "data": {
      "text/plain": [
       "array(['country', 'age_group', 'travel_with', 'purpose', 'main_activity',\n",
       "       'info_source', 'tour_arrangement', 'package_transport_int',\n",
       "       'package_accomodation', 'package_food', 'package_transport_tz',\n",
       "       'package_sightseeing', 'package_guided_tour', 'package_insurance',\n",
       "       'night_mainland', 'night_zanzibar', 'first_trip_tz'], dtype=object)"
      ]
     },
     "execution_count": 18,
     "metadata": {},
     "output_type": "execute_result"
    }
   ],
   "source": [
    "pipe.transformers_[1][1].get_feature_names_out()"
   ]
  },
  {
   "cell_type": "code",
   "execution_count": 19,
   "id": "b6eb5306-414d-46af-badd-a72abea10b39",
   "metadata": {
    "collapsed": true,
    "jupyter": {
     "outputs_hidden": true
    }
   },
   "outputs": [
    {
     "ename": "NameError",
     "evalue": "name 'lr' is not defined",
     "output_type": "error",
     "traceback": [
      "\u001b[1;31m---------------------------------------------------------------------------\u001b[0m",
      "\u001b[1;31mNameError\u001b[0m                                 Traceback (most recent call last)",
      "\u001b[1;32m~\\AppData\\Local\\Temp\\ipykernel_1808\\1676409839.py\u001b[0m in \u001b[0;36m<module>\u001b[1;34m\u001b[0m\n\u001b[1;32m----> 1\u001b[1;33m \u001b[0mpd\u001b[0m\u001b[1;33m.\u001b[0m\u001b[0mDataFrame\u001b[0m\u001b[1;33m(\u001b[0m\u001b[0mlr\u001b[0m\u001b[1;33m.\u001b[0m\u001b[0mpredict_proba\u001b[0m\u001b[1;33m(\u001b[0m\u001b[0mX_test\u001b[0m\u001b[1;33m)\u001b[0m\u001b[1;33m)\u001b[0m\u001b[1;33m\u001b[0m\u001b[1;33m\u001b[0m\u001b[0m\n\u001b[0m",
      "\u001b[1;31mNameError\u001b[0m: name 'lr' is not defined"
     ]
    }
   ],
   "source": [
    "pd.DataFrame(lr.predict_proba(X_test))"
   ]
  },
  {
   "cell_type": "code",
   "execution_count": 23,
   "id": "b69282cd",
   "metadata": {
    "collapsed": true,
    "jupyter": {
     "outputs_hidden": true
    }
   },
   "outputs": [
    {
     "data": {
      "text/plain": [
       "Tour_ID\n",
       "tour_id1hffseyw    4\n",
       "tour_idnacd7zag    4\n",
       "tour_id62vz7e71    5\n",
       "tour_idrc76tzix    1\n",
       "tour_idn723m0n9    5\n",
       "                  ..\n",
       "tour_idmp5ciw50    1\n",
       "tour_ideq0yncfs    1\n",
       "tour_idv7pz3vs8    5\n",
       "tour_idy6ydo00w    5\n",
       "tour_idceoq9por    2\n",
       "Name: cost_category, Length: 18506, dtype: int64"
      ]
     },
     "execution_count": 23,
     "metadata": {},
     "output_type": "execute_result"
    }
   ],
   "source": [
    "y"
   ]
  },
  {
   "cell_type": "code",
   "execution_count": 33,
   "id": "23c8a847",
   "metadata": {},
   "outputs": [],
   "source": [
    "X_train, X_test, y_train, y_test = train_test_split(X, y, stratify=y, test_size=0.2, random_state=123)"
   ]
  },
  {
   "cell_type": "code",
   "execution_count": 47,
   "id": "08dde2a7",
   "metadata": {},
   "outputs": [],
   "source": [
    "le = LabelEncoder()\n",
    "le = le.fit(y_train)\n",
    "y_test = le.transform(y_test)"
   ]
  },
  {
   "cell_type": "code",
   "execution_count": 25,
   "id": "8488326b-dbce-4d20-a898-6835127ce3b0",
   "metadata": {
    "collapsed": true,
    "jupyter": {
     "outputs_hidden": true
    }
   },
   "outputs": [
    {
     "data": {
      "text/plain": [
       "(Tour_ID\n",
       " tour_id0u4qn158    2\n",
       " tour_idcjg4lln7    5\n",
       " tour_id41pl8tl1    1\n",
       " tour_idptrb9blw    4\n",
       " tour_idx6hnuuxq    3\n",
       "                   ..\n",
       " tour_idz2xpvfzt    4\n",
       " tour_idka4xccyo    6\n",
       " tour_idouxn57sd    4\n",
       " tour_idzjpswsam    5\n",
       " tour_idem7v1830    1\n",
       " Name: cost_category, Length: 14804, dtype: int64,\n",
       " Tour_ID\n",
       " tour_idzis9fxna    3\n",
       " tour_id2q0rudyo    1\n",
       " tour_idso00q4tv    3\n",
       " tour_idmsp951fh    1\n",
       " tour_idimhbkqwc    4\n",
       "                   ..\n",
       " tour_idnvcjoxbb    2\n",
       " tour_id60eldjhm    5\n",
       " tour_id4toweior    4\n",
       " tour_idf32vah57    3\n",
       " tour_id54psn7o0    6\n",
       " Name: cost_category, Length: 3702, dtype: int64)"
      ]
     },
     "execution_count": 25,
     "metadata": {},
     "output_type": "execute_result"
    }
   ],
   "source": [
    "y_train, y_test"
   ]
  },
  {
   "cell_type": "code",
   "execution_count": 11,
   "id": "e11ca23f",
   "metadata": {},
   "outputs": [],
   "source": [
    "folds = StratifiedKFold(n_splits=10, shuffle=True, random_state=123)\n",
    "\n",
    "for idx, (train, test) in enumerate (folds.split(X, y)):\n",
    "    X_train, X_test = X[train], X[test]\n",
    "    y_train, y_test = y[train], y[test]"
   ]
  },
  {
   "cell_type": "code",
   "execution_count": 34,
   "id": "7f5cc9a9",
   "metadata": {},
   "outputs": [
    {
     "data": {
      "text/html": [
       "<style>#sk-container-id-1 {color: black;background-color: white;}#sk-container-id-1 pre{padding: 0;}#sk-container-id-1 div.sk-toggleable {background-color: white;}#sk-container-id-1 label.sk-toggleable__label {cursor: pointer;display: block;width: 100%;margin-bottom: 0;padding: 0.3em;box-sizing: border-box;text-align: center;}#sk-container-id-1 label.sk-toggleable__label-arrow:before {content: \"▸\";float: left;margin-right: 0.25em;color: #696969;}#sk-container-id-1 label.sk-toggleable__label-arrow:hover:before {color: black;}#sk-container-id-1 div.sk-estimator:hover label.sk-toggleable__label-arrow:before {color: black;}#sk-container-id-1 div.sk-toggleable__content {max-height: 0;max-width: 0;overflow: hidden;text-align: left;background-color: #f0f8ff;}#sk-container-id-1 div.sk-toggleable__content pre {margin: 0.2em;color: black;border-radius: 0.25em;background-color: #f0f8ff;}#sk-container-id-1 input.sk-toggleable__control:checked~div.sk-toggleable__content {max-height: 200px;max-width: 100%;overflow: auto;}#sk-container-id-1 input.sk-toggleable__control:checked~label.sk-toggleable__label-arrow:before {content: \"▾\";}#sk-container-id-1 div.sk-estimator input.sk-toggleable__control:checked~label.sk-toggleable__label {background-color: #d4ebff;}#sk-container-id-1 div.sk-label input.sk-toggleable__control:checked~label.sk-toggleable__label {background-color: #d4ebff;}#sk-container-id-1 input.sk-hidden--visually {border: 0;clip: rect(1px 1px 1px 1px);clip: rect(1px, 1px, 1px, 1px);height: 1px;margin: -1px;overflow: hidden;padding: 0;position: absolute;width: 1px;}#sk-container-id-1 div.sk-estimator {font-family: monospace;background-color: #f0f8ff;border: 1px dotted black;border-radius: 0.25em;box-sizing: border-box;margin-bottom: 0.5em;}#sk-container-id-1 div.sk-estimator:hover {background-color: #d4ebff;}#sk-container-id-1 div.sk-parallel-item::after {content: \"\";width: 100%;border-bottom: 1px solid gray;flex-grow: 1;}#sk-container-id-1 div.sk-label:hover label.sk-toggleable__label {background-color: #d4ebff;}#sk-container-id-1 div.sk-serial::before {content: \"\";position: absolute;border-left: 1px solid gray;box-sizing: border-box;top: 0;bottom: 0;left: 50%;z-index: 0;}#sk-container-id-1 div.sk-serial {display: flex;flex-direction: column;align-items: center;background-color: white;padding-right: 0.2em;padding-left: 0.2em;position: relative;}#sk-container-id-1 div.sk-item {position: relative;z-index: 1;}#sk-container-id-1 div.sk-parallel {display: flex;align-items: stretch;justify-content: center;background-color: white;position: relative;}#sk-container-id-1 div.sk-item::before, #sk-container-id-1 div.sk-parallel-item::before {content: \"\";position: absolute;border-left: 1px solid gray;box-sizing: border-box;top: 0;bottom: 0;left: 50%;z-index: -1;}#sk-container-id-1 div.sk-parallel-item {display: flex;flex-direction: column;z-index: 1;position: relative;background-color: white;}#sk-container-id-1 div.sk-parallel-item:first-child::after {align-self: flex-end;width: 50%;}#sk-container-id-1 div.sk-parallel-item:last-child::after {align-self: flex-start;width: 50%;}#sk-container-id-1 div.sk-parallel-item:only-child::after {width: 0;}#sk-container-id-1 div.sk-dashed-wrapped {border: 1px dashed gray;margin: 0 0.4em 0.5em 0.4em;box-sizing: border-box;padding-bottom: 0.4em;background-color: white;}#sk-container-id-1 div.sk-label label {font-family: monospace;font-weight: bold;display: inline-block;line-height: 1.2em;}#sk-container-id-1 div.sk-label-container {text-align: center;}#sk-container-id-1 div.sk-container {/* jupyter's `normalize.less` sets `[hidden] { display: none; }` but bootstrap.min.css set `[hidden] { display: none !important; }` so we also need the `!important` here to be able to override the default hidden behavior on the sphinx rendered scikit-learn.org. See: https://github.com/scikit-learn/scikit-learn/issues/21755 */display: inline-block !important;position: relative;}#sk-container-id-1 div.sk-text-repr-fallback {display: none;}</style><div id=\"sk-container-id-1\" class=\"sk-top-container\"><div class=\"sk-text-repr-fallback\"><pre>LogisticRegression(C=0.01, max_iter=10000, multi_class=&#x27;multinomial&#x27;,\n",
       "                   random_state=123)</pre><b>In a Jupyter environment, please rerun this cell to show the HTML representation or trust the notebook. <br />On GitHub, the HTML representation is unable to render, please try loading this page with nbviewer.org.</b></div><div class=\"sk-container\" hidden><div class=\"sk-item\"><div class=\"sk-estimator sk-toggleable\"><input class=\"sk-toggleable__control sk-hidden--visually\" id=\"sk-estimator-id-1\" type=\"checkbox\" checked><label for=\"sk-estimator-id-1\" class=\"sk-toggleable__label sk-toggleable__label-arrow\">LogisticRegression</label><div class=\"sk-toggleable__content\"><pre>LogisticRegression(C=0.01, max_iter=10000, multi_class=&#x27;multinomial&#x27;,\n",
       "                   random_state=123)</pre></div></div></div></div></div>"
      ],
      "text/plain": [
       "LogisticRegression(C=0.01, max_iter=10000, multi_class='multinomial',\n",
       "                   random_state=123)"
      ]
     },
     "execution_count": 34,
     "metadata": {},
     "output_type": "execute_result"
    }
   ],
   "source": [
    "lr = LogisticRegression(multi_class='multinomial',max_iter=10000,\n",
    "                        penalty='l2', C= 0.01,\n",
    "                        solver='lbfgs',\n",
    "                        random_state=123)\n",
    "\n",
    "lr.fit(X_train, y_train)"
   ]
  },
  {
   "cell_type": "code",
   "execution_count": 35,
   "id": "9df296a3",
   "metadata": {},
   "outputs": [
    {
     "name": "stdout",
     "output_type": "stream",
     "text": [
      "0.4856624686431139\n"
     ]
    }
   ],
   "source": [
    "y_pred = lr.predict(X_test)\n",
    "print(precision_score(y_test, y_pred, zero_division=0, average='weighted'))"
   ]
  },
  {
   "cell_type": "code",
   "execution_count": 36,
   "id": "425e92db",
   "metadata": {},
   "outputs": [
    {
     "data": {
      "image/png": "[encoded data removed]",
      "text/plain": [
       "<Figure size 640x480 with 1 Axes>"
      ]
     },
     "metadata": {},
     "output_type": "display_data"
    }
   ],
   "source": [
    "cm = confusion_matrix(y_test, y_pred)\n",
    "\n",
    "sns.heatmap(cm, square=True, annot=True, fmt='d', cbar=False);"
   ]
  },
  {
   "cell_type": "code",
   "execution_count": 37,
   "id": "84d6663d",
   "metadata": {},
   "outputs": [
    {
     "data": {
      "text/plain": [
       "(18506, 486)"
      ]
     },
     "execution_count": 37,
     "metadata": {},
     "output_type": "execute_result"
    }
   ],
   "source": [
    "X.shape"
   ]
  },
  {
   "cell_type": "code",
   "execution_count": 25,
   "id": "61bac811",
   "metadata": {},
   "outputs": [],
   "source": [
    "LogisticRegression??"
   ]
  },
  {
   "cell_type": "code",
   "execution_count": 50,
   "id": "0289803d",
   "metadata": {
    "collapsed": true,
    "jupyter": {
     "outputs_hidden": true
    }
   },
   "outputs": [
    {
     "name": "stdout",
     "output_type": "stream",
     "text": [
      "Fitting 3 folds for each of 2700 candidates, totalling 8100 fits\n",
      "[CV 1/3; 1/2700] START C=0.001, l1_ratio=0.01, max_iter=100, multi_class=ovr, penalty=l1, solver=lbfgs\n",
      "[CV 1/3; 1/2700] END C=0.001, l1_ratio=0.01, max_iter=100, multi_class=ovr, penalty=l1, solver=lbfgs;, score=nan total time=   0.0s\n",
      "[CV 2/3; 1/2700] START C=0.001, l1_ratio=0.01, max_iter=100, multi_class=ovr, penalty=l1, solver=lbfgs\n",
      "[CV 2/3; 1/2700] END C=0.001, l1_ratio=0.01, max_iter=100, multi_class=ovr, penalty=l1, solver=lbfgs;, score=nan total time=   0.0s\n",
      "[CV 3/3; 1/2700] START C=0.001, l1_ratio=0.01, max_iter=100, multi_class=ovr, penalty=l1, solver=lbfgs\n",
      "[CV 3/3; 1/2700] END C=0.001, l1_ratio=0.01, max_iter=100, multi_class=ovr, penalty=l1, solver=lbfgs;, score=nan total time=   0.0s\n",
      "[CV 1/3; 2/2700] START C=0.001, l1_ratio=0.01, max_iter=100, multi_class=ovr, penalty=l1, solver=liblinear\n"
     ]
    },
    {
     "name": "stderr",
     "output_type": "stream",
     "text": [
      "C:\\Users\\User\\anaconda3\\lib\\site-packages\\sklearn\\linear_model\\_logistic.py:1165: UserWarning: l1_ratio parameter is only used when penalty is 'elasticnet'. Got (penalty=l1)\n",
      "  warnings.warn(\n"
     ]
    },
    {
     "name": "stdout",
     "output_type": "stream",
     "text": [
      "[CV 1/3; 2/2700] END C=0.001, l1_ratio=0.01, max_iter=100, multi_class=ovr, penalty=l1, solver=liblinear;, score=0.458 total time=   0.4s\n",
      "[CV 2/3; 2/2700] START C=0.001, l1_ratio=0.01, max_iter=100, multi_class=ovr, penalty=l1, solver=liblinear\n"
     ]
    },
    {
     "name": "stderr",
     "output_type": "stream",
     "text": [
      "C:\\Users\\User\\anaconda3\\lib\\site-packages\\sklearn\\linear_model\\_logistic.py:1165: UserWarning: l1_ratio parameter is only used when penalty is 'elasticnet'. Got (penalty=l1)\n",
      "  warnings.warn(\n"
     ]
    },
    {
     "name": "stdout",
     "output_type": "stream",
     "text": [
      "[CV 2/3; 2/2700] END C=0.001, l1_ratio=0.01, max_iter=100, multi_class=ovr, penalty=l1, solver=liblinear;, score=0.460 total time=   0.1s\n",
      "[CV 3/3; 2/2700] START C=0.001, l1_ratio=0.01, max_iter=100, multi_class=ovr, penalty=l1, solver=liblinear\n"
     ]
    },
    {
     "name": "stderr",
     "output_type": "stream",
     "text": [
      "C:\\Users\\User\\anaconda3\\lib\\site-packages\\sklearn\\linear_model\\_logistic.py:1165: UserWarning: l1_ratio parameter is only used when penalty is 'elasticnet'. Got (penalty=l1)\n",
      "  warnings.warn(\n"
     ]
    },
    {
     "name": "stdout",
     "output_type": "stream",
     "text": [
      "[CV 3/3; 2/2700] END C=0.001, l1_ratio=0.01, max_iter=100, multi_class=ovr, penalty=l1, solver=liblinear;, score=0.453 total time=   0.2s\n",
      "[CV 1/3; 3/2700] START C=0.001, l1_ratio=0.01, max_iter=100, multi_class=ovr, penalty=l1, solver=saga\n"
     ]
    },
    {
     "name": "stderr",
     "output_type": "stream",
     "text": [
      "C:\\Users\\User\\anaconda3\\lib\\site-packages\\sklearn\\linear_model\\_logistic.py:1165: UserWarning: l1_ratio parameter is only used when penalty is 'elasticnet'. Got (penalty=l1)\n",
      "  warnings.warn(\n"
     ]
    },
    {
     "name": "stdout",
     "output_type": "stream",
     "text": [
      "[CV 1/3; 3/2700] END C=0.001, l1_ratio=0.01, max_iter=100, multi_class=ovr, penalty=l1, solver=saga;, score=0.306 total time=   2.3s\n",
      "[CV 2/3; 3/2700] START C=0.001, l1_ratio=0.01, max_iter=100, multi_class=ovr, penalty=l1, solver=saga\n"
     ]
    },
    {
     "name": "stderr",
     "output_type": "stream",
     "text": [
      "C:\\Users\\User\\anaconda3\\lib\\site-packages\\sklearn\\linear_model\\_logistic.py:1165: UserWarning: l1_ratio parameter is only used when penalty is 'elasticnet'. Got (penalty=l1)\n",
      "  warnings.warn(\n"
     ]
    },
    {
     "name": "stdout",
     "output_type": "stream",
     "text": [
      "[CV 2/3; 3/2700] END C=0.001, l1_ratio=0.01, max_iter=100, multi_class=ovr, penalty=l1, solver=saga;, score=0.306 total time=   2.3s\n",
      "[CV 3/3; 3/2700] START C=0.001, l1_ratio=0.01, max_iter=100, multi_class=ovr, penalty=l1, solver=saga\n"
     ]
    },
    {
     "name": "stderr",
     "output_type": "stream",
     "text": [
      "C:\\Users\\User\\anaconda3\\lib\\site-packages\\sklearn\\linear_model\\_logistic.py:1165: UserWarning: l1_ratio parameter is only used when penalty is 'elasticnet'. Got (penalty=l1)\n",
      "  warnings.warn(\n"
     ]
    },
    {
     "name": "stdout",
     "output_type": "stream",
     "text": [
      "[CV 3/3; 3/2700] END C=0.001, l1_ratio=0.01, max_iter=100, multi_class=ovr, penalty=l1, solver=saga;, score=0.306 total time=   2.6s\n",
      "[CV 1/3; 4/2700] START C=0.001, l1_ratio=0.01, max_iter=100, multi_class=ovr, penalty=l1, solver=sag\n",
      "[CV 1/3; 4/2700] END C=0.001, l1_ratio=0.01, max_iter=100, multi_class=ovr, penalty=l1, solver=sag;, score=nan total time=   0.0s\n",
      "[CV 2/3; 4/2700] START C=0.001, l1_ratio=0.01, max_iter=100, multi_class=ovr, penalty=l1, solver=sag\n",
      "[CV 2/3; 4/2700] END C=0.001, l1_ratio=0.01, max_iter=100, multi_class=ovr, penalty=l1, solver=sag;, score=nan total time=   0.0s\n",
      "[CV 3/3; 4/2700] START C=0.001, l1_ratio=0.01, max_iter=100, multi_class=ovr, penalty=l1, solver=sag\n",
      "[CV 3/3; 4/2700] END C=0.001, l1_ratio=0.01, max_iter=100, multi_class=ovr, penalty=l1, solver=sag;, score=nan total time=   0.0s\n",
      "[CV 1/3; 5/2700] START C=0.001, l1_ratio=0.01, max_iter=100, multi_class=ovr, penalty=l1, solver=newton-cholesky\n",
      "[CV 1/3; 5/2700] END C=0.001, l1_ratio=0.01, max_iter=100, multi_class=ovr, penalty=l1, solver=newton-cholesky;, score=nan total time=   0.0s\n",
      "[CV 2/3; 5/2700] START C=0.001, l1_ratio=0.01, max_iter=100, multi_class=ovr, penalty=l1, solver=newton-cholesky\n",
      "[CV 2/3; 5/2700] END C=0.001, l1_ratio=0.01, max_iter=100, multi_class=ovr, penalty=l1, solver=newton-cholesky;, score=nan total time=   0.0s\n",
      "[CV 3/3; 5/2700] START C=0.001, l1_ratio=0.01, max_iter=100, multi_class=ovr, penalty=l1, solver=newton-cholesky\n",
      "[CV 3/3; 5/2700] END C=0.001, l1_ratio=0.01, max_iter=100, multi_class=ovr, penalty=l1, solver=newton-cholesky;, score=nan total time=   0.0s\n",
      "[CV 1/3; 6/2700] START C=0.001, l1_ratio=0.01, max_iter=100, multi_class=ovr, penalty=l2, solver=lbfgs\n"
     ]
    },
    {
     "name": "stderr",
     "output_type": "stream",
     "text": [
      "C:\\Users\\User\\anaconda3\\lib\\site-packages\\sklearn\\linear_model\\_logistic.py:1165: UserWarning: l1_ratio parameter is only used when penalty is 'elasticnet'. Got (penalty=l2)\n",
      "  warnings.warn(\n"
     ]
    },
    {
     "name": "stdout",
     "output_type": "stream",
     "text": [
      "[CV 1/3; 6/2700] END C=0.001, l1_ratio=0.01, max_iter=100, multi_class=ovr, penalty=l2, solver=lbfgs;, score=0.469 total time=   1.0s\n",
      "[CV 2/3; 6/2700] START C=0.001, l1_ratio=0.01, max_iter=100, multi_class=ovr, penalty=l2, solver=lbfgs\n"
     ]
    },
    {
     "name": "stderr",
     "output_type": "stream",
     "text": [
      "C:\\Users\\User\\anaconda3\\lib\\site-packages\\sklearn\\linear_model\\_logistic.py:1165: UserWarning: l1_ratio parameter is only used when penalty is 'elasticnet'. Got (penalty=l2)\n",
      "  warnings.warn(\n"
     ]
    },
    {
     "name": "stdout",
     "output_type": "stream",
     "text": [
      "[CV 2/3; 6/2700] END C=0.001, l1_ratio=0.01, max_iter=100, multi_class=ovr, penalty=l2, solver=lbfgs;, score=0.468 total time=   0.5s\n",
      "[CV 3/3; 6/2700] START C=0.001, l1_ratio=0.01, max_iter=100, multi_class=ovr, penalty=l2, solver=lbfgs\n"
     ]
    },
    {
     "name": "stderr",
     "output_type": "stream",
     "text": [
      "C:\\Users\\User\\anaconda3\\lib\\site-packages\\sklearn\\linear_model\\_logistic.py:1165: UserWarning: l1_ratio parameter is only used when penalty is 'elasticnet'. Got (penalty=l2)\n",
      "  warnings.warn(\n"
     ]
    },
    {
     "name": "stdout",
     "output_type": "stream",
     "text": [
      "[CV 3/3; 6/2700] END C=0.001, l1_ratio=0.01, max_iter=100, multi_class=ovr, penalty=l2, solver=lbfgs;, score=0.464 total time=   0.5s\n",
      "[CV 1/3; 7/2700] START C=0.001, l1_ratio=0.01, max_iter=100, multi_class=ovr, penalty=l2, solver=liblinear\n"
     ]
    },
    {
     "name": "stderr",
     "output_type": "stream",
     "text": [
      "C:\\Users\\User\\anaconda3\\lib\\site-packages\\sklearn\\linear_model\\_logistic.py:1165: UserWarning: l1_ratio parameter is only used when penalty is 'elasticnet'. Got (penalty=l2)\n",
      "  warnings.warn(\n"
     ]
    },
    {
     "name": "stdout",
     "output_type": "stream",
     "text": [
      "[CV 1/3; 7/2700] END C=0.001, l1_ratio=0.01, max_iter=100, multi_class=ovr, penalty=l2, solver=liblinear;, score=0.469 total time=   0.2s\n",
      "[CV 2/3; 7/2700] START C=0.001, l1_ratio=0.01, max_iter=100, multi_class=ovr, penalty=l2, solver=liblinear\n"
     ]
    },
    {
     "name": "stderr",
     "output_type": "stream",
     "text": [
      "C:\\Users\\User\\anaconda3\\lib\\site-packages\\sklearn\\linear_model\\_logistic.py:1165: UserWarning: l1_ratio parameter is only used when penalty is 'elasticnet'. Got (penalty=l2)\n",
      "  warnings.warn(\n"
     ]
    },
    {
     "name": "stdout",
     "output_type": "stream",
     "text": [
      "[CV 2/3; 7/2700] END C=0.001, l1_ratio=0.01, max_iter=100, multi_class=ovr, penalty=l2, solver=liblinear;, score=0.467 total time=   0.2s\n",
      "[CV 3/3; 7/2700] START C=0.001, l1_ratio=0.01, max_iter=100, multi_class=ovr, penalty=l2, solver=liblinear\n"
     ]
    },
    {
     "name": "stderr",
     "output_type": "stream",
     "text": [
      "C:\\Users\\User\\anaconda3\\lib\\site-packages\\sklearn\\linear_model\\_logistic.py:1165: UserWarning: l1_ratio parameter is only used when penalty is 'elasticnet'. Got (penalty=l2)\n",
      "  warnings.warn(\n"
     ]
    },
    {
     "name": "stdout",
     "output_type": "stream",
     "text": [
      "[CV 3/3; 7/2700] END C=0.001, l1_ratio=0.01, max_iter=100, multi_class=ovr, penalty=l2, solver=liblinear;, score=0.465 total time=   0.2s\n",
      "[CV 1/3; 8/2700] START C=0.001, l1_ratio=0.01, max_iter=100, multi_class=ovr, penalty=l2, solver=saga\n"
     ]
    },
    {
     "name": "stderr",
     "output_type": "stream",
     "text": [
      "C:\\Users\\User\\anaconda3\\lib\\site-packages\\sklearn\\linear_model\\_logistic.py:1165: UserWarning: l1_ratio parameter is only used when penalty is 'elasticnet'. Got (penalty=l2)\n",
      "  warnings.warn(\n"
     ]
    },
    {
     "name": "stdout",
     "output_type": "stream",
     "text": [
      "[CV 1/3; 8/2700] END C=0.001, l1_ratio=0.01, max_iter=100, multi_class=ovr, penalty=l2, solver=saga;, score=0.469 total time=   5.3s\n",
      "[CV 2/3; 8/2700] START C=0.001, l1_ratio=0.01, max_iter=100, multi_class=ovr, penalty=l2, solver=saga\n"
     ]
    },
    {
     "name": "stderr",
     "output_type": "stream",
     "text": [
      "C:\\Users\\User\\anaconda3\\lib\\site-packages\\sklearn\\linear_model\\_logistic.py:1165: UserWarning: l1_ratio parameter is only used when penalty is 'elasticnet'. Got (penalty=l2)\n",
      "  warnings.warn(\n"
     ]
    },
    {
     "name": "stdout",
     "output_type": "stream",
     "text": [
      "[CV 2/3; 8/2700] END C=0.001, l1_ratio=0.01, max_iter=100, multi_class=ovr, penalty=l2, solver=saga;, score=0.468 total time=   6.8s\n",
      "[CV 3/3; 8/2700] START C=0.001, l1_ratio=0.01, max_iter=100, multi_class=ovr, penalty=l2, solver=saga\n"
     ]
    },
    {
     "name": "stderr",
     "output_type": "stream",
     "text": [
      "C:\\Users\\User\\anaconda3\\lib\\site-packages\\sklearn\\linear_model\\_logistic.py:1165: UserWarning: l1_ratio parameter is only used when penalty is 'elasticnet'. Got (penalty=l2)\n",
      "  warnings.warn(\n"
     ]
    },
    {
     "name": "stdout",
     "output_type": "stream",
     "text": [
      "[CV 3/3; 8/2700] END C=0.001, l1_ratio=0.01, max_iter=100, multi_class=ovr, penalty=l2, solver=saga;, score=0.464 total time=   5.4s\n",
      "[CV 1/3; 9/2700] START C=0.001, l1_ratio=0.01, max_iter=100, multi_class=ovr, penalty=l2, solver=sag\n"
     ]
    },
    {
     "name": "stderr",
     "output_type": "stream",
     "text": [
      "C:\\Users\\User\\anaconda3\\lib\\site-packages\\sklearn\\linear_model\\_logistic.py:1165: UserWarning: l1_ratio parameter is only used when penalty is 'elasticnet'. Got (penalty=l2)\n",
      "  warnings.warn(\n"
     ]
    },
    {
     "name": "stdout",
     "output_type": "stream",
     "text": [
      "[CV 1/3; 9/2700] END C=0.001, l1_ratio=0.01, max_iter=100, multi_class=ovr, penalty=l2, solver=sag;, score=0.469 total time=   2.7s\n",
      "[CV 2/3; 9/2700] START C=0.001, l1_ratio=0.01, max_iter=100, multi_class=ovr, penalty=l2, solver=sag\n"
     ]
    },
    {
     "name": "stderr",
     "output_type": "stream",
     "text": [
      "C:\\Users\\User\\anaconda3\\lib\\site-packages\\sklearn\\linear_model\\_logistic.py:1165: UserWarning: l1_ratio parameter is only used when penalty is 'elasticnet'. Got (penalty=l2)\n",
      "  warnings.warn(\n"
     ]
    },
    {
     "name": "stdout",
     "output_type": "stream",
     "text": [
      "[CV 2/3; 9/2700] END C=0.001, l1_ratio=0.01, max_iter=100, multi_class=ovr, penalty=l2, solver=sag;, score=0.468 total time=   2.5s\n",
      "[CV 3/3; 9/2700] START C=0.001, l1_ratio=0.01, max_iter=100, multi_class=ovr, penalty=l2, solver=sag\n"
     ]
    },
    {
     "name": "stderr",
     "output_type": "stream",
     "text": [
      "C:\\Users\\User\\anaconda3\\lib\\site-packages\\sklearn\\linear_model\\_logistic.py:1165: UserWarning: l1_ratio parameter is only used when penalty is 'elasticnet'. Got (penalty=l2)\n",
      "  warnings.warn(\n"
     ]
    },
    {
     "name": "stdout",
     "output_type": "stream",
     "text": [
      "[CV 3/3; 9/2700] END C=0.001, l1_ratio=0.01, max_iter=100, multi_class=ovr, penalty=l2, solver=sag;, score=0.464 total time=   3.0s\n",
      "[CV 1/3; 10/2700] START C=0.001, l1_ratio=0.01, max_iter=100, multi_class=ovr, penalty=l2, solver=newton-cholesky\n"
     ]
    },
    {
     "name": "stderr",
     "output_type": "stream",
     "text": [
      "C:\\Users\\User\\anaconda3\\lib\\site-packages\\sklearn\\linear_model\\_logistic.py:1165: UserWarning: l1_ratio parameter is only used when penalty is 'elasticnet'. Got (penalty=l2)\n",
      "  warnings.warn(\n"
     ]
    },
    {
     "name": "stdout",
     "output_type": "stream",
     "text": [
      "[CV 1/3; 10/2700] END C=0.001, l1_ratio=0.01, max_iter=100, multi_class=ovr, penalty=l2, solver=newton-cholesky;, score=0.469 total time=   1.8s\n",
      "[CV 2/3; 10/2700] START C=0.001, l1_ratio=0.01, max_iter=100, multi_class=ovr, penalty=l2, solver=newton-cholesky\n"
     ]
    },
    {
     "name": "stderr",
     "output_type": "stream",
     "text": [
      "C:\\Users\\User\\anaconda3\\lib\\site-packages\\sklearn\\linear_model\\_logistic.py:1165: UserWarning: l1_ratio parameter is only used when penalty is 'elasticnet'. Got (penalty=l2)\n",
      "  warnings.warn(\n"
     ]
    },
    {
     "name": "stdout",
     "output_type": "stream",
     "text": [
      "[CV 2/3; 10/2700] END C=0.001, l1_ratio=0.01, max_iter=100, multi_class=ovr, penalty=l2, solver=newton-cholesky;, score=0.468 total time=   1.7s\n",
      "[CV 3/3; 10/2700] START C=0.001, l1_ratio=0.01, max_iter=100, multi_class=ovr, penalty=l2, solver=newton-cholesky\n"
     ]
    },
    {
     "name": "stderr",
     "output_type": "stream",
     "text": [
      "C:\\Users\\User\\anaconda3\\lib\\site-packages\\sklearn\\linear_model\\_logistic.py:1165: UserWarning: l1_ratio parameter is only used when penalty is 'elasticnet'. Got (penalty=l2)\n",
      "  warnings.warn(\n"
     ]
    },
    {
     "name": "stdout",
     "output_type": "stream",
     "text": [
      "[CV 3/3; 10/2700] END C=0.001, l1_ratio=0.01, max_iter=100, multi_class=ovr, penalty=l2, solver=newton-cholesky;, score=0.464 total time=   1.4s\n",
      "[CV 1/3; 11/2700] START C=0.001, l1_ratio=0.01, max_iter=100, multi_class=ovr, penalty=elasticnet, solver=lbfgs\n",
      "[CV 1/3; 11/2700] END C=0.001, l1_ratio=0.01, max_iter=100, multi_class=ovr, penalty=elasticnet, solver=lbfgs;, score=nan total time=   0.0s\n",
      "[CV 2/3; 11/2700] START C=0.001, l1_ratio=0.01, max_iter=100, multi_class=ovr, penalty=elasticnet, solver=lbfgs\n",
      "[CV 2/3; 11/2700] END C=0.001, l1_ratio=0.01, max_iter=100, multi_class=ovr, penalty=elasticnet, solver=lbfgs;, score=nan total time=   0.0s\n",
      "[CV 3/3; 11/2700] START C=0.001, l1_ratio=0.01, max_iter=100, multi_class=ovr, penalty=elasticnet, solver=lbfgs\n",
      "[CV 3/3; 11/2700] END C=0.001, l1_ratio=0.01, max_iter=100, multi_class=ovr, penalty=elasticnet, solver=lbfgs;, score=nan total time=   0.0s\n",
      "[CV 1/3; 12/2700] START C=0.001, l1_ratio=0.01, max_iter=100, multi_class=ovr, penalty=elasticnet, solver=liblinear\n",
      "[CV 1/3; 12/2700] END C=0.001, l1_ratio=0.01, max_iter=100, multi_class=ovr, penalty=elasticnet, solver=liblinear;, score=nan total time=   0.0s\n",
      "[CV 2/3; 12/2700] START C=0.001, l1_ratio=0.01, max_iter=100, multi_class=ovr, penalty=elasticnet, solver=liblinear\n",
      "[CV 2/3; 12/2700] END C=0.001, l1_ratio=0.01, max_iter=100, multi_class=ovr, penalty=elasticnet, solver=liblinear;, score=nan total time=   0.0s\n",
      "[CV 3/3; 12/2700] START C=0.001, l1_ratio=0.01, max_iter=100, multi_class=ovr, penalty=elasticnet, solver=liblinear\n",
      "[CV 3/3; 12/2700] END C=0.001, l1_ratio=0.01, max_iter=100, multi_class=ovr, penalty=elasticnet, solver=liblinear;, score=nan total time=   0.0s\n",
      "[CV 1/3; 13/2700] START C=0.001, l1_ratio=0.01, max_iter=100, multi_class=ovr, penalty=elasticnet, solver=saga\n",
      "[CV 1/3; 13/2700] END C=0.001, l1_ratio=0.01, max_iter=100, multi_class=ovr, penalty=elasticnet, solver=saga;, score=0.469 total time=   6.9s\n",
      "[CV 2/3; 13/2700] START C=0.001, l1_ratio=0.01, max_iter=100, multi_class=ovr, penalty=elasticnet, solver=saga\n",
      "[CV 2/3; 13/2700] END C=0.001, l1_ratio=0.01, max_iter=100, multi_class=ovr, penalty=elasticnet, solver=saga;, score=0.465 total time=   8.3s\n",
      "[CV 3/3; 13/2700] START C=0.001, l1_ratio=0.01, max_iter=100, multi_class=ovr, penalty=elasticnet, solver=saga\n",
      "[CV 3/3; 13/2700] END C=0.001, l1_ratio=0.01, max_iter=100, multi_class=ovr, penalty=elasticnet, solver=saga;, score=0.464 total time=   7.4s\n",
      "[CV 1/3; 14/2700] START C=0.001, l1_ratio=0.01, max_iter=100, multi_class=ovr, penalty=elasticnet, solver=sag\n",
      "[CV 1/3; 14/2700] END C=0.001, l1_ratio=0.01, max_iter=100, multi_class=ovr, penalty=elasticnet, solver=sag;, score=nan total time=   0.0s\n",
      "[CV 2/3; 14/2700] START C=0.001, l1_ratio=0.01, max_iter=100, multi_class=ovr, penalty=elasticnet, solver=sag\n",
      "[CV 2/3; 14/2700] END C=0.001, l1_ratio=0.01, max_iter=100, multi_class=ovr, penalty=elasticnet, solver=sag;, score=nan total time=   0.0s\n",
      "[CV 3/3; 14/2700] START C=0.001, l1_ratio=0.01, max_iter=100, multi_class=ovr, penalty=elasticnet, solver=sag\n",
      "[CV 3/3; 14/2700] END C=0.001, l1_ratio=0.01, max_iter=100, multi_class=ovr, penalty=elasticnet, solver=sag;, score=nan total time=   0.0s\n",
      "[CV 1/3; 15/2700] START C=0.001, l1_ratio=0.01, max_iter=100, multi_class=ovr, penalty=elasticnet, solver=newton-cholesky\n",
      "[CV 1/3; 15/2700] END C=0.001, l1_ratio=0.01, max_iter=100, multi_class=ovr, penalty=elasticnet, solver=newton-cholesky;, score=nan total time=   0.0s\n",
      "[CV 2/3; 15/2700] START C=0.001, l1_ratio=0.01, max_iter=100, multi_class=ovr, penalty=elasticnet, solver=newton-cholesky\n",
      "[CV 2/3; 15/2700] END C=0.001, l1_ratio=0.01, max_iter=100, multi_class=ovr, penalty=elasticnet, solver=newton-cholesky;, score=nan total time=   0.0s\n",
      "[CV 3/3; 15/2700] START C=0.001, l1_ratio=0.01, max_iter=100, multi_class=ovr, penalty=elasticnet, solver=newton-cholesky\n",
      "[CV 3/3; 15/2700] END C=0.001, l1_ratio=0.01, max_iter=100, multi_class=ovr, penalty=elasticnet, solver=newton-cholesky;, score=nan total time=   0.0s\n",
      "[CV 1/3; 16/2700] START C=0.001, l1_ratio=0.01, max_iter=100, multi_class=multinomial, penalty=l1, solver=lbfgs\n",
      "[CV 1/3; 16/2700] END C=0.001, l1_ratio=0.01, max_iter=100, multi_class=multinomial, penalty=l1, solver=lbfgs;, score=nan total time=   0.0s\n",
      "[CV 2/3; 16/2700] START C=0.001, l1_ratio=0.01, max_iter=100, multi_class=multinomial, penalty=l1, solver=lbfgs\n",
      "[CV 2/3; 16/2700] END C=0.001, l1_ratio=0.01, max_iter=100, multi_class=multinomial, penalty=l1, solver=lbfgs;, score=nan total time=   0.0s\n",
      "[CV 3/3; 16/2700] START C=0.001, l1_ratio=0.01, max_iter=100, multi_class=multinomial, penalty=l1, solver=lbfgs\n",
      "[CV 3/3; 16/2700] END C=0.001, l1_ratio=0.01, max_iter=100, multi_class=multinomial, penalty=l1, solver=lbfgs;, score=nan total time=   0.0s\n",
      "[CV 1/3; 17/2700] START C=0.001, l1_ratio=0.01, max_iter=100, multi_class=multinomial, penalty=l1, solver=liblinear\n",
      "[CV 1/3; 17/2700] END C=0.001, l1_ratio=0.01, max_iter=100, multi_class=multinomial, penalty=l1, solver=liblinear;, score=nan total time=   0.0s\n",
      "[CV 2/3; 17/2700] START C=0.001, l1_ratio=0.01, max_iter=100, multi_class=multinomial, penalty=l1, solver=liblinear\n",
      "[CV 2/3; 17/2700] END C=0.001, l1_ratio=0.01, max_iter=100, multi_class=multinomial, penalty=l1, solver=liblinear;, score=nan total time=   0.0s\n",
      "[CV 3/3; 17/2700] START C=0.001, l1_ratio=0.01, max_iter=100, multi_class=multinomial, penalty=l1, solver=liblinear\n",
      "[CV 3/3; 17/2700] END C=0.001, l1_ratio=0.01, max_iter=100, multi_class=multinomial, penalty=l1, solver=liblinear;, score=nan total time=   0.0s\n",
      "[CV 1/3; 18/2700] START C=0.001, l1_ratio=0.01, max_iter=100, multi_class=multinomial, penalty=l1, solver=saga\n"
     ]
    },
    {
     "name": "stderr",
     "output_type": "stream",
     "text": [
      "C:\\Users\\User\\anaconda3\\lib\\site-packages\\sklearn\\linear_model\\_logistic.py:1165: UserWarning: l1_ratio parameter is only used when penalty is 'elasticnet'. Got (penalty=l1)\n",
      "  warnings.warn(\n",
      "C:\\Users\\User\\anaconda3\\lib\\site-packages\\sklearn\\linear_model\\_logistic.py:1165: UserWarning: l1_ratio parameter is only used when penalty is 'elasticnet'. Got (penalty=l1)\n",
      "  warnings.warn(\n",
      "C:\\Users\\User\\anaconda3\\lib\\site-packages\\sklearn\\linear_model\\_logistic.py:1165: UserWarning: l1_ratio parameter is only used when penalty is 'elasticnet'. Got (penalty=l1)\n",
      "  warnings.warn(\n",
      "C:\\Users\\User\\anaconda3\\lib\\site-packages\\sklearn\\linear_model\\_logistic.py:1165: UserWarning: l1_ratio parameter is only used when penalty is 'elasticnet'. Got (penalty=l1)\n",
      "  warnings.warn(\n"
     ]
    },
    {
     "name": "stdout",
     "output_type": "stream",
     "text": [
      "[CV 1/3; 18/2700] END C=0.001, l1_ratio=0.01, max_iter=100, multi_class=multinomial, penalty=l1, solver=saga;, score=0.306 total time=   4.2s\n",
      "[CV 2/3; 18/2700] START C=0.001, l1_ratio=0.01, max_iter=100, multi_class=multinomial, penalty=l1, solver=saga\n"
     ]
    },
    {
     "name": "stderr",
     "output_type": "stream",
     "text": [
      "C:\\Users\\User\\anaconda3\\lib\\site-packages\\sklearn\\linear_model\\_logistic.py:1165: UserWarning: l1_ratio parameter is only used when penalty is 'elasticnet'. Got (penalty=l1)\n",
      "  warnings.warn(\n"
     ]
    },
    {
     "name": "stdout",
     "output_type": "stream",
     "text": [
      "[CV 2/3; 18/2700] END C=0.001, l1_ratio=0.01, max_iter=100, multi_class=multinomial, penalty=l1, solver=saga;, score=0.306 total time=   4.8s\n",
      "[CV 3/3; 18/2700] START C=0.001, l1_ratio=0.01, max_iter=100, multi_class=multinomial, penalty=l1, solver=saga\n"
     ]
    },
    {
     "name": "stderr",
     "output_type": "stream",
     "text": [
      "C:\\Users\\User\\anaconda3\\lib\\site-packages\\sklearn\\linear_model\\_logistic.py:1165: UserWarning: l1_ratio parameter is only used when penalty is 'elasticnet'. Got (penalty=l1)\n",
      "  warnings.warn(\n"
     ]
    },
    {
     "name": "stdout",
     "output_type": "stream",
     "text": [
      "[CV 3/3; 18/2700] END C=0.001, l1_ratio=0.01, max_iter=100, multi_class=multinomial, penalty=l1, solver=saga;, score=0.306 total time=   5.0s\n",
      "[CV 1/3; 19/2700] START C=0.001, l1_ratio=0.01, max_iter=100, multi_class=multinomial, penalty=l1, solver=sag\n",
      "[CV 1/3; 19/2700] END C=0.001, l1_ratio=0.01, max_iter=100, multi_class=multinomial, penalty=l1, solver=sag;, score=nan total time=   0.0s\n",
      "[CV 2/3; 19/2700] START C=0.001, l1_ratio=0.01, max_iter=100, multi_class=multinomial, penalty=l1, solver=sag\n",
      "[CV 2/3; 19/2700] END C=0.001, l1_ratio=0.01, max_iter=100, multi_class=multinomial, penalty=l1, solver=sag;, score=nan total time=   0.0s\n",
      "[CV 3/3; 19/2700] START C=0.001, l1_ratio=0.01, max_iter=100, multi_class=multinomial, penalty=l1, solver=sag\n",
      "[CV 3/3; 19/2700] END C=0.001, l1_ratio=0.01, max_iter=100, multi_class=multinomial, penalty=l1, solver=sag;, score=nan total time=   0.0s\n",
      "[CV 1/3; 20/2700] START C=0.001, l1_ratio=0.01, max_iter=100, multi_class=multinomial, penalty=l1, solver=newton-cholesky\n",
      "[CV 1/3; 20/2700] END C=0.001, l1_ratio=0.01, max_iter=100, multi_class=multinomial, penalty=l1, solver=newton-cholesky;, score=nan total time=   0.0s\n",
      "[CV 2/3; 20/2700] START C=0.001, l1_ratio=0.01, max_iter=100, multi_class=multinomial, penalty=l1, solver=newton-cholesky\n",
      "[CV 2/3; 20/2700] END C=0.001, l1_ratio=0.01, max_iter=100, multi_class=multinomial, penalty=l1, solver=newton-cholesky;, score=nan total time=   0.0s\n",
      "[CV 3/3; 20/2700] START C=0.001, l1_ratio=0.01, max_iter=100, multi_class=multinomial, penalty=l1, solver=newton-cholesky\n",
      "[CV 3/3; 20/2700] END C=0.001, l1_ratio=0.01, max_iter=100, multi_class=multinomial, penalty=l1, solver=newton-cholesky;, score=nan total time=   0.0s\n",
      "[CV 1/3; 21/2700] START C=0.001, l1_ratio=0.01, max_iter=100, multi_class=multinomial, penalty=l2, solver=lbfgs\n"
     ]
    },
    {
     "name": "stderr",
     "output_type": "stream",
     "text": [
      "C:\\Users\\User\\anaconda3\\lib\\site-packages\\sklearn\\linear_model\\_logistic.py:1165: UserWarning: l1_ratio parameter is only used when penalty is 'elasticnet'. Got (penalty=l2)\n",
      "  warnings.warn(\n"
     ]
    },
    {
     "name": "stdout",
     "output_type": "stream",
     "text": [
      "[CV 1/3; 21/2700] END C=0.001, l1_ratio=0.01, max_iter=100, multi_class=multinomial, penalty=l2, solver=lbfgs;, score=0.478 total time=   0.7s\n",
      "[CV 2/3; 21/2700] START C=0.001, l1_ratio=0.01, max_iter=100, multi_class=multinomial, penalty=l2, solver=lbfgs\n"
     ]
    },
    {
     "name": "stderr",
     "output_type": "stream",
     "text": [
      "C:\\Users\\User\\anaconda3\\lib\\site-packages\\sklearn\\linear_model\\_logistic.py:1165: UserWarning: l1_ratio parameter is only used when penalty is 'elasticnet'. Got (penalty=l2)\n",
      "  warnings.warn(\n"
     ]
    },
    {
     "name": "stdout",
     "output_type": "stream",
     "text": [
      "[CV 2/3; 21/2700] END C=0.001, l1_ratio=0.01, max_iter=100, multi_class=multinomial, penalty=l2, solver=lbfgs;, score=0.474 total time=   0.5s\n",
      "[CV 3/3; 21/2700] START C=0.001, l1_ratio=0.01, max_iter=100, multi_class=multinomial, penalty=l2, solver=lbfgs\n"
     ]
    },
    {
     "name": "stderr",
     "output_type": "stream",
     "text": [
      "C:\\Users\\User\\anaconda3\\lib\\site-packages\\sklearn\\linear_model\\_logistic.py:1165: UserWarning: l1_ratio parameter is only used when penalty is 'elasticnet'. Got (penalty=l2)\n",
      "  warnings.warn(\n"
     ]
    },
    {
     "name": "stdout",
     "output_type": "stream",
     "text": [
      "[CV 3/3; 21/2700] END C=0.001, l1_ratio=0.01, max_iter=100, multi_class=multinomial, penalty=l2, solver=lbfgs;, score=0.471 total time=   0.5s\n",
      "[CV 1/3; 22/2700] START C=0.001, l1_ratio=0.01, max_iter=100, multi_class=multinomial, penalty=l2, solver=liblinear\n",
      "[CV 1/3; 22/2700] END C=0.001, l1_ratio=0.01, max_iter=100, multi_class=multinomial, penalty=l2, solver=liblinear;, score=nan total time=   0.0s\n",
      "[CV 2/3; 22/2700] START C=0.001, l1_ratio=0.01, max_iter=100, multi_class=multinomial, penalty=l2, solver=liblinear\n",
      "[CV 2/3; 22/2700] END C=0.001, l1_ratio=0.01, max_iter=100, multi_class=multinomial, penalty=l2, solver=liblinear;, score=nan total time=   0.0s\n",
      "[CV 3/3; 22/2700] START C=0.001, l1_ratio=0.01, max_iter=100, multi_class=multinomial, penalty=l2, solver=liblinear\n",
      "[CV 3/3; 22/2700] END C=0.001, l1_ratio=0.01, max_iter=100, multi_class=multinomial, penalty=l2, solver=liblinear;, score=nan total time=   0.0s\n",
      "[CV 1/3; 23/2700] START C=0.001, l1_ratio=0.01, max_iter=100, multi_class=multinomial, penalty=l2, solver=saga\n"
     ]
    },
    {
     "name": "stderr",
     "output_type": "stream",
     "text": [
      "C:\\Users\\User\\anaconda3\\lib\\site-packages\\sklearn\\linear_model\\_logistic.py:1165: UserWarning: l1_ratio parameter is only used when penalty is 'elasticnet'. Got (penalty=l2)\n",
      "  warnings.warn(\n",
      "C:\\Users\\User\\anaconda3\\lib\\site-packages\\sklearn\\linear_model\\_logistic.py:1165: UserWarning: l1_ratio parameter is only used when penalty is 'elasticnet'. Got (penalty=l2)\n",
      "  warnings.warn(\n",
      "C:\\Users\\User\\anaconda3\\lib\\site-packages\\sklearn\\linear_model\\_logistic.py:1165: UserWarning: l1_ratio parameter is only used when penalty is 'elasticnet'. Got (penalty=l2)\n",
      "  warnings.warn(\n",
      "C:\\Users\\User\\anaconda3\\lib\\site-packages\\sklearn\\linear_model\\_logistic.py:1165: UserWarning: l1_ratio parameter is only used when penalty is 'elasticnet'. Got (penalty=l2)\n",
      "  warnings.warn(\n"
     ]
    },
    {
     "name": "stdout",
     "output_type": "stream",
     "text": [
      "[CV 1/3; 23/2700] END C=0.001, l1_ratio=0.01, max_iter=100, multi_class=multinomial, penalty=l2, solver=saga;, score=0.477 total time=   5.1s\n",
      "[CV 2/3; 23/2700] START C=0.001, l1_ratio=0.01, max_iter=100, multi_class=multinomial, penalty=l2, solver=saga\n"
     ]
    },
    {
     "name": "stderr",
     "output_type": "stream",
     "text": [
      "C:\\Users\\User\\anaconda3\\lib\\site-packages\\sklearn\\linear_model\\_logistic.py:1165: UserWarning: l1_ratio parameter is only used when penalty is 'elasticnet'. Got (penalty=l2)\n",
      "  warnings.warn(\n"
     ]
    },
    {
     "name": "stdout",
     "output_type": "stream",
     "text": [
      "[CV 2/3; 23/2700] END C=0.001, l1_ratio=0.01, max_iter=100, multi_class=multinomial, penalty=l2, solver=saga;, score=0.474 total time=   4.3s\n",
      "[CV 3/3; 23/2700] START C=0.001, l1_ratio=0.01, max_iter=100, multi_class=multinomial, penalty=l2, solver=saga\n"
     ]
    },
    {
     "name": "stderr",
     "output_type": "stream",
     "text": [
      "C:\\Users\\User\\anaconda3\\lib\\site-packages\\sklearn\\linear_model\\_logistic.py:1165: UserWarning: l1_ratio parameter is only used when penalty is 'elasticnet'. Got (penalty=l2)\n",
      "  warnings.warn(\n"
     ]
    },
    {
     "name": "stdout",
     "output_type": "stream",
     "text": [
      "[CV 3/3; 23/2700] END C=0.001, l1_ratio=0.01, max_iter=100, multi_class=multinomial, penalty=l2, solver=saga;, score=0.471 total time=   4.5s\n",
      "[CV 1/3; 24/2700] START C=0.001, l1_ratio=0.01, max_iter=100, multi_class=multinomial, penalty=l2, solver=sag\n"
     ]
    },
    {
     "name": "stderr",
     "output_type": "stream",
     "text": [
      "C:\\Users\\User\\anaconda3\\lib\\site-packages\\sklearn\\linear_model\\_logistic.py:1165: UserWarning: l1_ratio parameter is only used when penalty is 'elasticnet'. Got (penalty=l2)\n",
      "  warnings.warn(\n"
     ]
    },
    {
     "name": "stdout",
     "output_type": "stream",
     "text": [
      "[CV 1/3; 24/2700] END C=0.001, l1_ratio=0.01, max_iter=100, multi_class=multinomial, penalty=l2, solver=sag;, score=0.477 total time=   1.1s\n",
      "[CV 2/3; 24/2700] START C=0.001, l1_ratio=0.01, max_iter=100, multi_class=multinomial, penalty=l2, solver=sag\n"
     ]
    },
    {
     "name": "stderr",
     "output_type": "stream",
     "text": [
      "C:\\Users\\User\\anaconda3\\lib\\site-packages\\sklearn\\linear_model\\_logistic.py:1165: UserWarning: l1_ratio parameter is only used when penalty is 'elasticnet'. Got (penalty=l2)\n",
      "  warnings.warn(\n"
     ]
    },
    {
     "name": "stdout",
     "output_type": "stream",
     "text": [
      "[CV 2/3; 24/2700] END C=0.001, l1_ratio=0.01, max_iter=100, multi_class=multinomial, penalty=l2, solver=sag;, score=0.474 total time=   1.2s\n",
      "[CV 3/3; 24/2700] START C=0.001, l1_ratio=0.01, max_iter=100, multi_class=multinomial, penalty=l2, solver=sag\n"
     ]
    },
    {
     "name": "stderr",
     "output_type": "stream",
     "text": [
      "C:\\Users\\User\\anaconda3\\lib\\site-packages\\sklearn\\linear_model\\_logistic.py:1165: UserWarning: l1_ratio parameter is only used when penalty is 'elasticnet'. Got (penalty=l2)\n",
      "  warnings.warn(\n"
     ]
    },
    {
     "name": "stdout",
     "output_type": "stream",
     "text": [
      "[CV 3/3; 24/2700] END C=0.001, l1_ratio=0.01, max_iter=100, multi_class=multinomial, penalty=l2, solver=sag;, score=0.471 total time=   1.2s\n",
      "[CV 1/3; 25/2700] START C=0.001, l1_ratio=0.01, max_iter=100, multi_class=multinomial, penalty=l2, solver=newton-cholesky\n",
      "[CV 1/3; 25/2700] END C=0.001, l1_ratio=0.01, max_iter=100, multi_class=multinomial, penalty=l2, solver=newton-cholesky;, score=nan total time=   0.0s\n",
      "[CV 2/3; 25/2700] START C=0.001, l1_ratio=0.01, max_iter=100, multi_class=multinomial, penalty=l2, solver=newton-cholesky\n",
      "[CV 2/3; 25/2700] END C=0.001, l1_ratio=0.01, max_iter=100, multi_class=multinomial, penalty=l2, solver=newton-cholesky;, score=nan total time=   0.0s\n",
      "[CV 3/3; 25/2700] START C=0.001, l1_ratio=0.01, max_iter=100, multi_class=multinomial, penalty=l2, solver=newton-cholesky\n",
      "[CV 3/3; 25/2700] END C=0.001, l1_ratio=0.01, max_iter=100, multi_class=multinomial, penalty=l2, solver=newton-cholesky;, score=nan total time=   0.0s\n",
      "[CV 1/3; 26/2700] START C=0.001, l1_ratio=0.01, max_iter=100, multi_class=multinomial, penalty=elasticnet, solver=lbfgs\n",
      "[CV 1/3; 26/2700] END C=0.001, l1_ratio=0.01, max_iter=100, multi_class=multinomial, penalty=elasticnet, solver=lbfgs;, score=nan total time=   0.0s\n",
      "[CV 2/3; 26/2700] START C=0.001, l1_ratio=0.01, max_iter=100, multi_class=multinomial, penalty=elasticnet, solver=lbfgs\n",
      "[CV 2/3; 26/2700] END C=0.001, l1_ratio=0.01, max_iter=100, multi_class=multinomial, penalty=elasticnet, solver=lbfgs;, score=nan total time=   0.0s\n",
      "[CV 3/3; 26/2700] START C=0.001, l1_ratio=0.01, max_iter=100, multi_class=multinomial, penalty=elasticnet, solver=lbfgs\n",
      "[CV 3/3; 26/2700] END C=0.001, l1_ratio=0.01, max_iter=100, multi_class=multinomial, penalty=elasticnet, solver=lbfgs;, score=nan total time=   0.0s\n",
      "[CV 1/3; 27/2700] START C=0.001, l1_ratio=0.01, max_iter=100, multi_class=multinomial, penalty=elasticnet, solver=liblinear\n",
      "[CV 1/3; 27/2700] END C=0.001, l1_ratio=0.01, max_iter=100, multi_class=multinomial, penalty=elasticnet, solver=liblinear;, score=nan total time=   0.0s\n",
      "[CV 2/3; 27/2700] START C=0.001, l1_ratio=0.01, max_iter=100, multi_class=multinomial, penalty=elasticnet, solver=liblinear\n",
      "[CV 2/3; 27/2700] END C=0.001, l1_ratio=0.01, max_iter=100, multi_class=multinomial, penalty=elasticnet, solver=liblinear;, score=nan total time=   0.0s\n",
      "[CV 3/3; 27/2700] START C=0.001, l1_ratio=0.01, max_iter=100, multi_class=multinomial, penalty=elasticnet, solver=liblinear\n",
      "[CV 3/3; 27/2700] END C=0.001, l1_ratio=0.01, max_iter=100, multi_class=multinomial, penalty=elasticnet, solver=liblinear;, score=nan total time=   0.0s\n",
      "[CV 1/3; 28/2700] START C=0.001, l1_ratio=0.01, max_iter=100, multi_class=multinomial, penalty=elasticnet, solver=saga\n"
     ]
    },
    {
     "name": "stderr",
     "output_type": "stream",
     "text": [
      "C:\\Users\\User\\anaconda3\\lib\\site-packages\\sklearn\\linear_model\\_logistic.py:1165: UserWarning: l1_ratio parameter is only used when penalty is 'elasticnet'. Got (penalty=l2)\n",
      "  warnings.warn(\n",
      "C:\\Users\\User\\anaconda3\\lib\\site-packages\\sklearn\\linear_model\\_logistic.py:1165: UserWarning: l1_ratio parameter is only used when penalty is 'elasticnet'. Got (penalty=l2)\n",
      "  warnings.warn(\n",
      "C:\\Users\\User\\anaconda3\\lib\\site-packages\\sklearn\\linear_model\\_logistic.py:1165: UserWarning: l1_ratio parameter is only used when penalty is 'elasticnet'. Got (penalty=l2)\n",
      "  warnings.warn(\n"
     ]
    },
    {
     "name": "stdout",
     "output_type": "stream",
     "text": [
      "[CV 1/3; 28/2700] END C=0.001, l1_ratio=0.01, max_iter=100, multi_class=multinomial, penalty=elasticnet, solver=saga;, score=0.475 total time=   6.9s\n",
      "[CV 2/3; 28/2700] START C=0.001, l1_ratio=0.01, max_iter=100, multi_class=multinomial, penalty=elasticnet, solver=saga\n",
      "[CV 2/3; 28/2700] END C=0.001, l1_ratio=0.01, max_iter=100, multi_class=multinomial, penalty=elasticnet, solver=saga;, score=0.473 total time=   6.0s\n",
      "[CV 3/3; 28/2700] START C=0.001, l1_ratio=0.01, max_iter=100, multi_class=multinomial, penalty=elasticnet, solver=saga\n",
      "[CV 3/3; 28/2700] END C=0.001, l1_ratio=0.01, max_iter=100, multi_class=multinomial, penalty=elasticnet, solver=saga;, score=0.468 total time=   7.1s\n",
      "[CV 1/3; 29/2700] START C=0.001, l1_ratio=0.01, max_iter=100, multi_class=multinomial, penalty=elasticnet, solver=sag\n",
      "[CV 1/3; 29/2700] END C=0.001, l1_ratio=0.01, max_iter=100, multi_class=multinomial, penalty=elasticnet, solver=sag;, score=nan total time=   0.0s\n",
      "[CV 2/3; 29/2700] START C=0.001, l1_ratio=0.01, max_iter=100, multi_class=multinomial, penalty=elasticnet, solver=sag\n",
      "[CV 2/3; 29/2700] END C=0.001, l1_ratio=0.01, max_iter=100, multi_class=multinomial, penalty=elasticnet, solver=sag;, score=nan total time=   0.0s\n",
      "[CV 3/3; 29/2700] START C=0.001, l1_ratio=0.01, max_iter=100, multi_class=multinomial, penalty=elasticnet, solver=sag\n",
      "[CV 3/3; 29/2700] END C=0.001, l1_ratio=0.01, max_iter=100, multi_class=multinomial, penalty=elasticnet, solver=sag;, score=nan total time=   0.0s\n",
      "[CV 1/3; 30/2700] START C=0.001, l1_ratio=0.01, max_iter=100, multi_class=multinomial, penalty=elasticnet, solver=newton-cholesky\n",
      "[CV 1/3; 30/2700] END C=0.001, l1_ratio=0.01, max_iter=100, multi_class=multinomial, penalty=elasticnet, solver=newton-cholesky;, score=nan total time=   0.0s\n",
      "[CV 2/3; 30/2700] START C=0.001, l1_ratio=0.01, max_iter=100, multi_class=multinomial, penalty=elasticnet, solver=newton-cholesky\n",
      "[CV 2/3; 30/2700] END C=0.001, l1_ratio=0.01, max_iter=100, multi_class=multinomial, penalty=elasticnet, solver=newton-cholesky;, score=nan total time=   0.0s\n",
      "[CV 3/3; 30/2700] START C=0.001, l1_ratio=0.01, max_iter=100, multi_class=multinomial, penalty=elasticnet, solver=newton-cholesky\n",
      "[CV 3/3; 30/2700] END C=0.001, l1_ratio=0.01, max_iter=100, multi_class=multinomial, penalty=elasticnet, solver=newton-cholesky;, score=nan total time=   0.0s\n",
      "[CV 1/3; 31/2700] START C=0.001, l1_ratio=0.01, max_iter=1000, multi_class=ovr, penalty=l1, solver=lbfgs\n",
      "[CV 1/3; 31/2700] END C=0.001, l1_ratio=0.01, max_iter=1000, multi_class=ovr, penalty=l1, solver=lbfgs;, score=nan total time=   0.0s\n",
      "[CV 2/3; 31/2700] START C=0.001, l1_ratio=0.01, max_iter=1000, multi_class=ovr, penalty=l1, solver=lbfgs\n",
      "[CV 2/3; 31/2700] END C=0.001, l1_ratio=0.01, max_iter=1000, multi_class=ovr, penalty=l1, solver=lbfgs;, score=nan total time=   0.0s\n",
      "[CV 3/3; 31/2700] START C=0.001, l1_ratio=0.01, max_iter=1000, multi_class=ovr, penalty=l1, solver=lbfgs\n",
      "[CV 3/3; 31/2700] END C=0.001, l1_ratio=0.01, max_iter=1000, multi_class=ovr, penalty=l1, solver=lbfgs;, score=nan total time=   0.0s\n",
      "[CV 1/3; 32/2700] START C=0.001, l1_ratio=0.01, max_iter=1000, multi_class=ovr, penalty=l1, solver=liblinear\n"
     ]
    },
    {
     "name": "stderr",
     "output_type": "stream",
     "text": [
      "C:\\Users\\User\\anaconda3\\lib\\site-packages\\sklearn\\linear_model\\_logistic.py:1165: UserWarning: l1_ratio parameter is only used when penalty is 'elasticnet'. Got (penalty=l1)\n",
      "  warnings.warn(\n"
     ]
    },
    {
     "name": "stdout",
     "output_type": "stream",
     "text": [
      "[CV 1/3; 32/2700] END C=0.001, l1_ratio=0.01, max_iter=1000, multi_class=ovr, penalty=l1, solver=liblinear;, score=0.458 total time=   0.1s\n",
      "[CV 2/3; 32/2700] START C=0.001, l1_ratio=0.01, max_iter=1000, multi_class=ovr, penalty=l1, solver=liblinear\n"
     ]
    },
    {
     "name": "stderr",
     "output_type": "stream",
     "text": [
      "C:\\Users\\User\\anaconda3\\lib\\site-packages\\sklearn\\linear_model\\_logistic.py:1165: UserWarning: l1_ratio parameter is only used when penalty is 'elasticnet'. Got (penalty=l1)\n",
      "  warnings.warn(\n"
     ]
    },
    {
     "name": "stdout",
     "output_type": "stream",
     "text": [
      "[CV 2/3; 32/2700] END C=0.001, l1_ratio=0.01, max_iter=1000, multi_class=ovr, penalty=l1, solver=liblinear;, score=0.460 total time=   0.2s\n",
      "[CV 3/3; 32/2700] START C=0.001, l1_ratio=0.01, max_iter=1000, multi_class=ovr, penalty=l1, solver=liblinear\n"
     ]
    },
    {
     "name": "stderr",
     "output_type": "stream",
     "text": [
      "C:\\Users\\User\\anaconda3\\lib\\site-packages\\sklearn\\linear_model\\_logistic.py:1165: UserWarning: l1_ratio parameter is only used when penalty is 'elasticnet'. Got (penalty=l1)\n",
      "  warnings.warn(\n"
     ]
    },
    {
     "name": "stdout",
     "output_type": "stream",
     "text": [
      "[CV 3/3; 32/2700] END C=0.001, l1_ratio=0.01, max_iter=1000, multi_class=ovr, penalty=l1, solver=liblinear;, score=0.453 total time=   0.2s\n",
      "[CV 1/3; 33/2700] START C=0.001, l1_ratio=0.01, max_iter=1000, multi_class=ovr, penalty=l1, solver=saga\n"
     ]
    },
    {
     "name": "stderr",
     "output_type": "stream",
     "text": [
      "C:\\Users\\User\\anaconda3\\lib\\site-packages\\sklearn\\linear_model\\_logistic.py:1165: UserWarning: l1_ratio parameter is only used when penalty is 'elasticnet'. Got (penalty=l1)\n",
      "  warnings.warn(\n"
     ]
    },
    {
     "name": "stdout",
     "output_type": "stream",
     "text": [
      "[CV 1/3; 33/2700] END C=0.001, l1_ratio=0.01, max_iter=1000, multi_class=ovr, penalty=l1, solver=saga;, score=0.306 total time=   2.5s\n",
      "[CV 2/3; 33/2700] START C=0.001, l1_ratio=0.01, max_iter=1000, multi_class=ovr, penalty=l1, solver=saga\n"
     ]
    },
    {
     "name": "stderr",
     "output_type": "stream",
     "text": [
      "C:\\Users\\User\\anaconda3\\lib\\site-packages\\sklearn\\linear_model\\_logistic.py:1165: UserWarning: l1_ratio parameter is only used when penalty is 'elasticnet'. Got (penalty=l1)\n",
      "  warnings.warn(\n"
     ]
    },
    {
     "name": "stdout",
     "output_type": "stream",
     "text": [
      "[CV 2/3; 33/2700] END C=0.001, l1_ratio=0.01, max_iter=1000, multi_class=ovr, penalty=l1, solver=saga;, score=0.306 total time=   2.2s\n",
      "[CV 3/3; 33/2700] START C=0.001, l1_ratio=0.01, max_iter=1000, multi_class=ovr, penalty=l1, solver=saga\n"
     ]
    },
    {
     "name": "stderr",
     "output_type": "stream",
     "text": [
      "C:\\Users\\User\\anaconda3\\lib\\site-packages\\sklearn\\linear_model\\_logistic.py:1165: UserWarning: l1_ratio parameter is only used when penalty is 'elasticnet'. Got (penalty=l1)\n",
      "  warnings.warn(\n"
     ]
    },
    {
     "name": "stdout",
     "output_type": "stream",
     "text": [
      "[CV 3/3; 33/2700] END C=0.001, l1_ratio=0.01, max_iter=1000, multi_class=ovr, penalty=l1, solver=saga;, score=0.306 total time=   2.0s\n",
      "[CV 1/3; 34/2700] START C=0.001, l1_ratio=0.01, max_iter=1000, multi_class=ovr, penalty=l1, solver=sag\n",
      "[CV 1/3; 34/2700] END C=0.001, l1_ratio=0.01, max_iter=1000, multi_class=ovr, penalty=l1, solver=sag;, score=nan total time=   0.0s\n",
      "[CV 2/3; 34/2700] START C=0.001, l1_ratio=0.01, max_iter=1000, multi_class=ovr, penalty=l1, solver=sag\n",
      "[CV 2/3; 34/2700] END C=0.001, l1_ratio=0.01, max_iter=1000, multi_class=ovr, penalty=l1, solver=sag;, score=nan total time=   0.0s\n",
      "[CV 3/3; 34/2700] START C=0.001, l1_ratio=0.01, max_iter=1000, multi_class=ovr, penalty=l1, solver=sag\n",
      "[CV 3/3; 34/2700] END C=0.001, l1_ratio=0.01, max_iter=1000, multi_class=ovr, penalty=l1, solver=sag;, score=nan total time=   0.0s\n",
      "[CV 1/3; 35/2700] START C=0.001, l1_ratio=0.01, max_iter=1000, multi_class=ovr, penalty=l1, solver=newton-cholesky\n",
      "[CV 1/3; 35/2700] END C=0.001, l1_ratio=0.01, max_iter=1000, multi_class=ovr, penalty=l1, solver=newton-cholesky;, score=nan total time=   0.0s\n",
      "[CV 2/3; 35/2700] START C=0.001, l1_ratio=0.01, max_iter=1000, multi_class=ovr, penalty=l1, solver=newton-cholesky\n",
      "[CV 2/3; 35/2700] END C=0.001, l1_ratio=0.01, max_iter=1000, multi_class=ovr, penalty=l1, solver=newton-cholesky;, score=nan total time=   0.0s\n",
      "[CV 3/3; 35/2700] START C=0.001, l1_ratio=0.01, max_iter=1000, multi_class=ovr, penalty=l1, solver=newton-cholesky\n",
      "[CV 3/3; 35/2700] END C=0.001, l1_ratio=0.01, max_iter=1000, multi_class=ovr, penalty=l1, solver=newton-cholesky;, score=nan total time=   0.0s\n",
      "[CV 1/3; 36/2700] START C=0.001, l1_ratio=0.01, max_iter=1000, multi_class=ovr, penalty=l2, solver=lbfgs\n"
     ]
    },
    {
     "name": "stderr",
     "output_type": "stream",
     "text": [
      "C:\\Users\\User\\anaconda3\\lib\\site-packages\\sklearn\\linear_model\\_logistic.py:1165: UserWarning: l1_ratio parameter is only used when penalty is 'elasticnet'. Got (penalty=l2)\n",
      "  warnings.warn(\n"
     ]
    },
    {
     "name": "stdout",
     "output_type": "stream",
     "text": [
      "[CV 1/3; 36/2700] END C=0.001, l1_ratio=0.01, max_iter=1000, multi_class=ovr, penalty=l2, solver=lbfgs;, score=0.469 total time=   0.4s\n",
      "[CV 2/3; 36/2700] START C=0.001, l1_ratio=0.01, max_iter=1000, multi_class=ovr, penalty=l2, solver=lbfgs\n"
     ]
    },
    {
     "name": "stderr",
     "output_type": "stream",
     "text": [
      "C:\\Users\\User\\anaconda3\\lib\\site-packages\\sklearn\\linear_model\\_logistic.py:1165: UserWarning: l1_ratio parameter is only used when penalty is 'elasticnet'. Got (penalty=l2)\n",
      "  warnings.warn(\n"
     ]
    },
    {
     "name": "stdout",
     "output_type": "stream",
     "text": [
      "[CV 2/3; 36/2700] END C=0.001, l1_ratio=0.01, max_iter=1000, multi_class=ovr, penalty=l2, solver=lbfgs;, score=0.468 total time=   0.4s\n",
      "[CV 3/3; 36/2700] START C=0.001, l1_ratio=0.01, max_iter=1000, multi_class=ovr, penalty=l2, solver=lbfgs\n"
     ]
    },
    {
     "name": "stderr",
     "output_type": "stream",
     "text": [
      "C:\\Users\\User\\anaconda3\\lib\\site-packages\\sklearn\\linear_model\\_logistic.py:1165: UserWarning: l1_ratio parameter is only used when penalty is 'elasticnet'. Got (penalty=l2)\n",
      "  warnings.warn(\n"
     ]
    },
    {
     "name": "stdout",
     "output_type": "stream",
     "text": [
      "[CV 3/3; 36/2700] END C=0.001, l1_ratio=0.01, max_iter=1000, multi_class=ovr, penalty=l2, solver=lbfgs;, score=0.464 total time=   0.5s\n",
      "[CV 1/3; 37/2700] START C=0.001, l1_ratio=0.01, max_iter=1000, multi_class=ovr, penalty=l2, solver=liblinear\n"
     ]
    },
    {
     "name": "stderr",
     "output_type": "stream",
     "text": [
      "C:\\Users\\User\\anaconda3\\lib\\site-packages\\sklearn\\linear_model\\_logistic.py:1165: UserWarning: l1_ratio parameter is only used when penalty is 'elasticnet'. Got (penalty=l2)\n",
      "  warnings.warn(\n"
     ]
    },
    {
     "name": "stdout",
     "output_type": "stream",
     "text": [
      "[CV 1/3; 37/2700] END C=0.001, l1_ratio=0.01, max_iter=1000, multi_class=ovr, penalty=l2, solver=liblinear;, score=0.469 total time=   0.2s\n",
      "[CV 2/3; 37/2700] START C=0.001, l1_ratio=0.01, max_iter=1000, multi_class=ovr, penalty=l2, solver=liblinear\n"
     ]
    },
    {
     "name": "stderr",
     "output_type": "stream",
     "text": [
      "C:\\Users\\User\\anaconda3\\lib\\site-packages\\sklearn\\linear_model\\_logistic.py:1165: UserWarning: l1_ratio parameter is only used when penalty is 'elasticnet'. Got (penalty=l2)\n",
      "  warnings.warn(\n"
     ]
    },
    {
     "name": "stdout",
     "output_type": "stream",
     "text": [
      "[CV 2/3; 37/2700] END C=0.001, l1_ratio=0.01, max_iter=1000, multi_class=ovr, penalty=l2, solver=liblinear;, score=0.467 total time=   0.2s\n",
      "[CV 3/3; 37/2700] START C=0.001, l1_ratio=0.01, max_iter=1000, multi_class=ovr, penalty=l2, solver=liblinear\n"
     ]
    },
    {
     "name": "stderr",
     "output_type": "stream",
     "text": [
      "C:\\Users\\User\\anaconda3\\lib\\site-packages\\sklearn\\linear_model\\_logistic.py:1165: UserWarning: l1_ratio parameter is only used when penalty is 'elasticnet'. Got (penalty=l2)\n",
      "  warnings.warn(\n"
     ]
    },
    {
     "name": "stdout",
     "output_type": "stream",
     "text": [
      "[CV 3/3; 37/2700] END C=0.001, l1_ratio=0.01, max_iter=1000, multi_class=ovr, penalty=l2, solver=liblinear;, score=0.465 total time=   0.2s\n",
      "[CV 1/3; 38/2700] START C=0.001, l1_ratio=0.01, max_iter=1000, multi_class=ovr, penalty=l2, solver=saga\n"
     ]
    },
    {
     "name": "stderr",
     "output_type": "stream",
     "text": [
      "C:\\Users\\User\\anaconda3\\lib\\site-packages\\sklearn\\linear_model\\_logistic.py:1165: UserWarning: l1_ratio parameter is only used when penalty is 'elasticnet'. Got (penalty=l2)\n",
      "  warnings.warn(\n"
     ]
    },
    {
     "name": "stdout",
     "output_type": "stream",
     "text": [
      "[CV 1/3; 38/2700] END C=0.001, l1_ratio=0.01, max_iter=1000, multi_class=ovr, penalty=l2, solver=saga;, score=0.469 total time=   6.1s\n",
      "[CV 2/3; 38/2700] START C=0.001, l1_ratio=0.01, max_iter=1000, multi_class=ovr, penalty=l2, solver=saga\n"
     ]
    },
    {
     "name": "stderr",
     "output_type": "stream",
     "text": [
      "C:\\Users\\User\\anaconda3\\lib\\site-packages\\sklearn\\linear_model\\_logistic.py:1165: UserWarning: l1_ratio parameter is only used when penalty is 'elasticnet'. Got (penalty=l2)\n",
      "  warnings.warn(\n"
     ]
    },
    {
     "name": "stdout",
     "output_type": "stream",
     "text": [
      "[CV 2/3; 38/2700] END C=0.001, l1_ratio=0.01, max_iter=1000, multi_class=ovr, penalty=l2, solver=saga;, score=0.468 total time=   6.5s\n",
      "[CV 3/3; 38/2700] START C=0.001, l1_ratio=0.01, max_iter=1000, multi_class=ovr, penalty=l2, solver=saga\n"
     ]
    },
    {
     "name": "stderr",
     "output_type": "stream",
     "text": [
      "C:\\Users\\User\\anaconda3\\lib\\site-packages\\sklearn\\linear_model\\_logistic.py:1165: UserWarning: l1_ratio parameter is only used when penalty is 'elasticnet'. Got (penalty=l2)\n",
      "  warnings.warn(\n"
     ]
    },
    {
     "name": "stdout",
     "output_type": "stream",
     "text": [
      "[CV 3/3; 38/2700] END C=0.001, l1_ratio=0.01, max_iter=1000, multi_class=ovr, penalty=l2, solver=saga;, score=0.464 total time=   6.5s\n",
      "[CV 1/3; 39/2700] START C=0.001, l1_ratio=0.01, max_iter=1000, multi_class=ovr, penalty=l2, solver=sag\n"
     ]
    },
    {
     "name": "stderr",
     "output_type": "stream",
     "text": [
      "C:\\Users\\User\\anaconda3\\lib\\site-packages\\sklearn\\linear_model\\_logistic.py:1165: UserWarning: l1_ratio parameter is only used when penalty is 'elasticnet'. Got (penalty=l2)\n",
      "  warnings.warn(\n"
     ]
    },
    {
     "name": "stdout",
     "output_type": "stream",
     "text": [
      "[CV 1/3; 39/2700] END C=0.001, l1_ratio=0.01, max_iter=1000, multi_class=ovr, penalty=l2, solver=sag;, score=0.469 total time=   3.5s\n",
      "[CV 2/3; 39/2700] START C=0.001, l1_ratio=0.01, max_iter=1000, multi_class=ovr, penalty=l2, solver=sag\n"
     ]
    },
    {
     "name": "stderr",
     "output_type": "stream",
     "text": [
      "C:\\Users\\User\\anaconda3\\lib\\site-packages\\sklearn\\linear_model\\_logistic.py:1165: UserWarning: l1_ratio parameter is only used when penalty is 'elasticnet'. Got (penalty=l2)\n",
      "  warnings.warn(\n"
     ]
    },
    {
     "name": "stdout",
     "output_type": "stream",
     "text": [
      "[CV 2/3; 39/2700] END C=0.001, l1_ratio=0.01, max_iter=1000, multi_class=ovr, penalty=l2, solver=sag;, score=0.468 total time=   2.7s\n",
      "[CV 3/3; 39/2700] START C=0.001, l1_ratio=0.01, max_iter=1000, multi_class=ovr, penalty=l2, solver=sag\n"
     ]
    },
    {
     "name": "stderr",
     "output_type": "stream",
     "text": [
      "C:\\Users\\User\\anaconda3\\lib\\site-packages\\sklearn\\linear_model\\_logistic.py:1165: UserWarning: l1_ratio parameter is only used when penalty is 'elasticnet'. Got (penalty=l2)\n",
      "  warnings.warn(\n"
     ]
    },
    {
     "name": "stdout",
     "output_type": "stream",
     "text": [
      "[CV 3/3; 39/2700] END C=0.001, l1_ratio=0.01, max_iter=1000, multi_class=ovr, penalty=l2, solver=sag;, score=0.464 total time=   2.7s\n",
      "[CV 1/3; 40/2700] START C=0.001, l1_ratio=0.01, max_iter=1000, multi_class=ovr, penalty=l2, solver=newton-cholesky\n"
     ]
    },
    {
     "name": "stderr",
     "output_type": "stream",
     "text": [
      "C:\\Users\\User\\anaconda3\\lib\\site-packages\\sklearn\\linear_model\\_logistic.py:1165: UserWarning: l1_ratio parameter is only used when penalty is 'elasticnet'. Got (penalty=l2)\n",
      "  warnings.warn(\n"
     ]
    },
    {
     "name": "stdout",
     "output_type": "stream",
     "text": [
      "[CV 1/3; 40/2700] END C=0.001, l1_ratio=0.01, max_iter=1000, multi_class=ovr, penalty=l2, solver=newton-cholesky;, score=0.469 total time=   1.4s\n",
      "[CV 2/3; 40/2700] START C=0.001, l1_ratio=0.01, max_iter=1000, multi_class=ovr, penalty=l2, solver=newton-cholesky\n"
     ]
    },
    {
     "name": "stderr",
     "output_type": "stream",
     "text": [
      "C:\\Users\\User\\anaconda3\\lib\\site-packages\\sklearn\\linear_model\\_logistic.py:1165: UserWarning: l1_ratio parameter is only used when penalty is 'elasticnet'. Got (penalty=l2)\n",
      "  warnings.warn(\n"
     ]
    },
    {
     "name": "stdout",
     "output_type": "stream",
     "text": [
      "[CV 2/3; 40/2700] END C=0.001, l1_ratio=0.01, max_iter=1000, multi_class=ovr, penalty=l2, solver=newton-cholesky;, score=0.468 total time=   1.4s\n",
      "[CV 3/3; 40/2700] START C=0.001, l1_ratio=0.01, max_iter=1000, multi_class=ovr, penalty=l2, solver=newton-cholesky\n"
     ]
    },
    {
     "name": "stderr",
     "output_type": "stream",
     "text": [
      "C:\\Users\\User\\anaconda3\\lib\\site-packages\\sklearn\\linear_model\\_logistic.py:1165: UserWarning: l1_ratio parameter is only used when penalty is 'elasticnet'. Got (penalty=l2)\n",
      "  warnings.warn(\n"
     ]
    },
    {
     "name": "stdout",
     "output_type": "stream",
     "text": [
      "[CV 3/3; 40/2700] END C=0.001, l1_ratio=0.01, max_iter=1000, multi_class=ovr, penalty=l2, solver=newton-cholesky;, score=0.464 total time=   1.4s\n",
      "[CV 1/3; 41/2700] START C=0.001, l1_ratio=0.01, max_iter=1000, multi_class=ovr, penalty=elasticnet, solver=lbfgs\n",
      "[CV 1/3; 41/2700] END C=0.001, l1_ratio=0.01, max_iter=1000, multi_class=ovr, penalty=elasticnet, solver=lbfgs;, score=nan total time=   0.0s\n",
      "[CV 2/3; 41/2700] START C=0.001, l1_ratio=0.01, max_iter=1000, multi_class=ovr, penalty=elasticnet, solver=lbfgs\n",
      "[CV 2/3; 41/2700] END C=0.001, l1_ratio=0.01, max_iter=1000, multi_class=ovr, penalty=elasticnet, solver=lbfgs;, score=nan total time=   0.0s\n",
      "[CV 3/3; 41/2700] START C=0.001, l1_ratio=0.01, max_iter=1000, multi_class=ovr, penalty=elasticnet, solver=lbfgs\n",
      "[CV 3/3; 41/2700] END C=0.001, l1_ratio=0.01, max_iter=1000, multi_class=ovr, penalty=elasticnet, solver=lbfgs;, score=nan total time=   0.0s\n",
      "[CV 1/3; 42/2700] START C=0.001, l1_ratio=0.01, max_iter=1000, multi_class=ovr, penalty=elasticnet, solver=liblinear\n",
      "[CV 1/3; 42/2700] END C=0.001, l1_ratio=0.01, max_iter=1000, multi_class=ovr, penalty=elasticnet, solver=liblinear;, score=nan total time=   0.0s\n",
      "[CV 2/3; 42/2700] START C=0.001, l1_ratio=0.01, max_iter=1000, multi_class=ovr, penalty=elasticnet, solver=liblinear\n",
      "[CV 2/3; 42/2700] END C=0.001, l1_ratio=0.01, max_iter=1000, multi_class=ovr, penalty=elasticnet, solver=liblinear;, score=nan total time=   0.0s\n",
      "[CV 3/3; 42/2700] START C=0.001, l1_ratio=0.01, max_iter=1000, multi_class=ovr, penalty=elasticnet, solver=liblinear\n",
      "[CV 3/3; 42/2700] END C=0.001, l1_ratio=0.01, max_iter=1000, multi_class=ovr, penalty=elasticnet, solver=liblinear;, score=nan total time=   0.0s\n",
      "[CV 1/3; 43/2700] START C=0.001, l1_ratio=0.01, max_iter=1000, multi_class=ovr, penalty=elasticnet, solver=saga\n",
      "[CV 1/3; 43/2700] END C=0.001, l1_ratio=0.01, max_iter=1000, multi_class=ovr, penalty=elasticnet, solver=saga;, score=0.469 total time=   7.5s\n",
      "[CV 2/3; 43/2700] START C=0.001, l1_ratio=0.01, max_iter=1000, multi_class=ovr, penalty=elasticnet, solver=saga\n",
      "[CV 2/3; 43/2700] END C=0.001, l1_ratio=0.01, max_iter=1000, multi_class=ovr, penalty=elasticnet, solver=saga;, score=0.465 total time=   7.6s\n",
      "[CV 3/3; 43/2700] START C=0.001, l1_ratio=0.01, max_iter=1000, multi_class=ovr, penalty=elasticnet, solver=saga\n",
      "[CV 3/3; 43/2700] END C=0.001, l1_ratio=0.01, max_iter=1000, multi_class=ovr, penalty=elasticnet, solver=saga;, score=0.464 total time=   8.1s\n",
      "[CV 1/3; 44/2700] START C=0.001, l1_ratio=0.01, max_iter=1000, multi_class=ovr, penalty=elasticnet, solver=sag\n",
      "[CV 1/3; 44/2700] END C=0.001, l1_ratio=0.01, max_iter=1000, multi_class=ovr, penalty=elasticnet, solver=sag;, score=nan total time=   0.0s\n",
      "[CV 2/3; 44/2700] START C=0.001, l1_ratio=0.01, max_iter=1000, multi_class=ovr, penalty=elasticnet, solver=sag\n",
      "[CV 2/3; 44/2700] END C=0.001, l1_ratio=0.01, max_iter=1000, multi_class=ovr, penalty=elasticnet, solver=sag;, score=nan total time=   0.0s\n",
      "[CV 3/3; 44/2700] START C=0.001, l1_ratio=0.01, max_iter=1000, multi_class=ovr, penalty=elasticnet, solver=sag\n",
      "[CV 3/3; 44/2700] END C=0.001, l1_ratio=0.01, max_iter=1000, multi_class=ovr, penalty=elasticnet, solver=sag;, score=nan total time=   0.0s\n",
      "[CV 1/3; 45/2700] START C=0.001, l1_ratio=0.01, max_iter=1000, multi_class=ovr, penalty=elasticnet, solver=newton-cholesky\n",
      "[CV 1/3; 45/2700] END C=0.001, l1_ratio=0.01, max_iter=1000, multi_class=ovr, penalty=elasticnet, solver=newton-cholesky;, score=nan total time=   0.0s\n",
      "[CV 2/3; 45/2700] START C=0.001, l1_ratio=0.01, max_iter=1000, multi_class=ovr, penalty=elasticnet, solver=newton-cholesky\n",
      "[CV 2/3; 45/2700] END C=0.001, l1_ratio=0.01, max_iter=1000, multi_class=ovr, penalty=elasticnet, solver=newton-cholesky;, score=nan total time=   0.0s\n",
      "[CV 3/3; 45/2700] START C=0.001, l1_ratio=0.01, max_iter=1000, multi_class=ovr, penalty=elasticnet, solver=newton-cholesky\n",
      "[CV 3/3; 45/2700] END C=0.001, l1_ratio=0.01, max_iter=1000, multi_class=ovr, penalty=elasticnet, solver=newton-cholesky;, score=nan total time=   0.0s\n",
      "[CV 1/3; 46/2700] START C=0.001, l1_ratio=0.01, max_iter=1000, multi_class=multinomial, penalty=l1, solver=lbfgs\n",
      "[CV 1/3; 46/2700] END C=0.001, l1_ratio=0.01, max_iter=1000, multi_class=multinomial, penalty=l1, solver=lbfgs;, score=nan total time=   0.0s\n",
      "[CV 2/3; 46/2700] START C=0.001, l1_ratio=0.01, max_iter=1000, multi_class=multinomial, penalty=l1, solver=lbfgs\n",
      "[CV 2/3; 46/2700] END C=0.001, l1_ratio=0.01, max_iter=1000, multi_class=multinomial, penalty=l1, solver=lbfgs;, score=nan total time=   0.0s\n",
      "[CV 3/3; 46/2700] START C=0.001, l1_ratio=0.01, max_iter=1000, multi_class=multinomial, penalty=l1, solver=lbfgs\n",
      "[CV 3/3; 46/2700] END C=0.001, l1_ratio=0.01, max_iter=1000, multi_class=multinomial, penalty=l1, solver=lbfgs;, score=nan total time=   0.0s\n",
      "[CV 1/3; 47/2700] START C=0.001, l1_ratio=0.01, max_iter=1000, multi_class=multinomial, penalty=l1, solver=liblinear\n",
      "[CV 1/3; 47/2700] END C=0.001, l1_ratio=0.01, max_iter=1000, multi_class=multinomial, penalty=l1, solver=liblinear;, score=nan total time=   0.0s\n",
      "[CV 2/3; 47/2700] START C=0.001, l1_ratio=0.01, max_iter=1000, multi_class=multinomial, penalty=l1, solver=liblinear\n"
     ]
    },
    {
     "name": "stderr",
     "output_type": "stream",
     "text": [
      "C:\\Users\\User\\anaconda3\\lib\\site-packages\\sklearn\\linear_model\\_logistic.py:1165: UserWarning: l1_ratio parameter is only used when penalty is 'elasticnet'. Got (penalty=l1)\n",
      "  warnings.warn(\n",
      "C:\\Users\\User\\anaconda3\\lib\\site-packages\\sklearn\\linear_model\\_logistic.py:1165: UserWarning: l1_ratio parameter is only used when penalty is 'elasticnet'. Got (penalty=l1)\n",
      "  warnings.warn(\n",
      "C:\\Users\\User\\anaconda3\\lib\\site-packages\\sklearn\\linear_model\\_logistic.py:1165: UserWarning: l1_ratio parameter is only used when penalty is 'elasticnet'. Got (penalty=l1)\n",
      "  warnings.warn(\n",
      "C:\\Users\\User\\anaconda3\\lib\\site-packages\\sklearn\\linear_model\\_logistic.py:1165: UserWarning: l1_ratio parameter is only used when penalty is 'elasticnet'. Got (penalty=l1)\n",
      "  warnings.warn(\n"
     ]
    },
    {
     "name": "stdout",
     "output_type": "stream",
     "text": [
      "[CV 2/3; 47/2700] END C=0.001, l1_ratio=0.01, max_iter=1000, multi_class=multinomial, penalty=l1, solver=liblinear;, score=nan total time=   0.0s\n",
      "[CV 3/3; 47/2700] START C=0.001, l1_ratio=0.01, max_iter=1000, multi_class=multinomial, penalty=l1, solver=liblinear\n",
      "[CV 3/3; 47/2700] END C=0.001, l1_ratio=0.01, max_iter=1000, multi_class=multinomial, penalty=l1, solver=liblinear;, score=nan total time=   0.0s\n",
      "[CV 1/3; 48/2700] START C=0.001, l1_ratio=0.01, max_iter=1000, multi_class=multinomial, penalty=l1, solver=saga\n",
      "[CV 1/3; 48/2700] END C=0.001, l1_ratio=0.01, max_iter=1000, multi_class=multinomial, penalty=l1, solver=saga;, score=0.306 total time=   3.8s\n",
      "[CV 2/3; 48/2700] START C=0.001, l1_ratio=0.01, max_iter=1000, multi_class=multinomial, penalty=l1, solver=saga\n"
     ]
    },
    {
     "name": "stderr",
     "output_type": "stream",
     "text": [
      "C:\\Users\\User\\anaconda3\\lib\\site-packages\\sklearn\\linear_model\\_logistic.py:1165: UserWarning: l1_ratio parameter is only used when penalty is 'elasticnet'. Got (penalty=l1)\n",
      "  warnings.warn(\n"
     ]
    },
    {
     "name": "stdout",
     "output_type": "stream",
     "text": [
      "[CV 2/3; 48/2700] END C=0.001, l1_ratio=0.01, max_iter=1000, multi_class=multinomial, penalty=l1, solver=saga;, score=0.306 total time=   4.6s\n",
      "[CV 3/3; 48/2700] START C=0.001, l1_ratio=0.01, max_iter=1000, multi_class=multinomial, penalty=l1, solver=saga\n"
     ]
    },
    {
     "name": "stderr",
     "output_type": "stream",
     "text": [
      "C:\\Users\\User\\anaconda3\\lib\\site-packages\\sklearn\\linear_model\\_logistic.py:1165: UserWarning: l1_ratio parameter is only used when penalty is 'elasticnet'. Got (penalty=l1)\n",
      "  warnings.warn(\n"
     ]
    },
    {
     "name": "stdout",
     "output_type": "stream",
     "text": [
      "[CV 3/3; 48/2700] END C=0.001, l1_ratio=0.01, max_iter=1000, multi_class=multinomial, penalty=l1, solver=saga;, score=0.306 total time=   5.7s\n",
      "[CV 1/3; 49/2700] START C=0.001, l1_ratio=0.01, max_iter=1000, multi_class=multinomial, penalty=l1, solver=sag\n",
      "[CV 1/3; 49/2700] END C=0.001, l1_ratio=0.01, max_iter=1000, multi_class=multinomial, penalty=l1, solver=sag;, score=nan total time=   0.0s\n",
      "[CV 2/3; 49/2700] START C=0.001, l1_ratio=0.01, max_iter=1000, multi_class=multinomial, penalty=l1, solver=sag\n",
      "[CV 2/3; 49/2700] END C=0.001, l1_ratio=0.01, max_iter=1000, multi_class=multinomial, penalty=l1, solver=sag;, score=nan total time=   0.0s\n",
      "[CV 3/3; 49/2700] START C=0.001, l1_ratio=0.01, max_iter=1000, multi_class=multinomial, penalty=l1, solver=sag\n",
      "[CV 3/3; 49/2700] END C=0.001, l1_ratio=0.01, max_iter=1000, multi_class=multinomial, penalty=l1, solver=sag;, score=nan total time=   0.0s\n",
      "[CV 1/3; 50/2700] START C=0.001, l1_ratio=0.01, max_iter=1000, multi_class=multinomial, penalty=l1, solver=newton-cholesky\n",
      "[CV 1/3; 50/2700] END C=0.001, l1_ratio=0.01, max_iter=1000, multi_class=multinomial, penalty=l1, solver=newton-cholesky;, score=nan total time=   0.0s\n",
      "[CV 2/3; 50/2700] START C=0.001, l1_ratio=0.01, max_iter=1000, multi_class=multinomial, penalty=l1, solver=newton-cholesky\n",
      "[CV 2/3; 50/2700] END C=0.001, l1_ratio=0.01, max_iter=1000, multi_class=multinomial, penalty=l1, solver=newton-cholesky;, score=nan total time=   0.0s\n",
      "[CV 3/3; 50/2700] START C=0.001, l1_ratio=0.01, max_iter=1000, multi_class=multinomial, penalty=l1, solver=newton-cholesky\n",
      "[CV 3/3; 50/2700] END C=0.001, l1_ratio=0.01, max_iter=1000, multi_class=multinomial, penalty=l1, solver=newton-cholesky;, score=nan total time=   0.0s\n",
      "[CV 1/3; 51/2700] START C=0.001, l1_ratio=0.01, max_iter=1000, multi_class=multinomial, penalty=l2, solver=lbfgs\n"
     ]
    },
    {
     "name": "stderr",
     "output_type": "stream",
     "text": [
      "C:\\Users\\User\\anaconda3\\lib\\site-packages\\sklearn\\linear_model\\_logistic.py:1165: UserWarning: l1_ratio parameter is only used when penalty is 'elasticnet'. Got (penalty=l2)\n",
      "  warnings.warn(\n"
     ]
    },
    {
     "name": "stdout",
     "output_type": "stream",
     "text": [
      "[CV 1/3; 51/2700] END C=0.001, l1_ratio=0.01, max_iter=1000, multi_class=multinomial, penalty=l2, solver=lbfgs;, score=0.478 total time=   0.6s\n",
      "[CV 2/3; 51/2700] START C=0.001, l1_ratio=0.01, max_iter=1000, multi_class=multinomial, penalty=l2, solver=lbfgs\n"
     ]
    },
    {
     "name": "stderr",
     "output_type": "stream",
     "text": [
      "C:\\Users\\User\\anaconda3\\lib\\site-packages\\sklearn\\linear_model\\_logistic.py:1165: UserWarning: l1_ratio parameter is only used when penalty is 'elasticnet'. Got (penalty=l2)\n",
      "  warnings.warn(\n"
     ]
    },
    {
     "name": "stdout",
     "output_type": "stream",
     "text": [
      "[CV 2/3; 51/2700] END C=0.001, l1_ratio=0.01, max_iter=1000, multi_class=multinomial, penalty=l2, solver=lbfgs;, score=0.474 total time=   0.6s\n",
      "[CV 3/3; 51/2700] START C=0.001, l1_ratio=0.01, max_iter=1000, multi_class=multinomial, penalty=l2, solver=lbfgs\n"
     ]
    },
    {
     "name": "stderr",
     "output_type": "stream",
     "text": [
      "C:\\Users\\User\\anaconda3\\lib\\site-packages\\sklearn\\linear_model\\_logistic.py:1165: UserWarning: l1_ratio parameter is only used when penalty is 'elasticnet'. Got (penalty=l2)\n",
      "  warnings.warn(\n"
     ]
    },
    {
     "name": "stdout",
     "output_type": "stream",
     "text": [
      "[CV 3/3; 51/2700] END C=0.001, l1_ratio=0.01, max_iter=1000, multi_class=multinomial, penalty=l2, solver=lbfgs;, score=0.471 total time=   0.7s\n",
      "[CV 1/3; 52/2700] START C=0.001, l1_ratio=0.01, max_iter=1000, multi_class=multinomial, penalty=l2, solver=liblinear\n",
      "[CV 1/3; 52/2700] END C=0.001, l1_ratio=0.01, max_iter=1000, multi_class=multinomial, penalty=l2, solver=liblinear;, score=nan total time=   0.0s\n",
      "[CV 2/3; 52/2700] START C=0.001, l1_ratio=0.01, max_iter=1000, multi_class=multinomial, penalty=l2, solver=liblinear\n",
      "[CV 2/3; 52/2700] END C=0.001, l1_ratio=0.01, max_iter=1000, multi_class=multinomial, penalty=l2, solver=liblinear;, score=nan total time=   0.0s\n",
      "[CV 3/3; 52/2700] START C=0.001, l1_ratio=0.01, max_iter=1000, multi_class=multinomial, penalty=l2, solver=liblinear\n",
      "[CV 3/3; 52/2700] END C=0.001, l1_ratio=0.01, max_iter=1000, multi_class=multinomial, penalty=l2, solver=liblinear;, score=nan total time=   0.0s\n",
      "[CV 1/3; 53/2700] START C=0.001, l1_ratio=0.01, max_iter=1000, multi_class=multinomial, penalty=l2, solver=saga\n"
     ]
    },
    {
     "name": "stderr",
     "output_type": "stream",
     "text": [
      "C:\\Users\\User\\anaconda3\\lib\\site-packages\\sklearn\\linear_model\\_logistic.py:1165: UserWarning: l1_ratio parameter is only used when penalty is 'elasticnet'. Got (penalty=l2)\n",
      "  warnings.warn(\n",
      "C:\\Users\\User\\anaconda3\\lib\\site-packages\\sklearn\\linear_model\\_logistic.py:1165: UserWarning: l1_ratio parameter is only used when penalty is 'elasticnet'. Got (penalty=l2)\n",
      "  warnings.warn(\n",
      "C:\\Users\\User\\anaconda3\\lib\\site-packages\\sklearn\\linear_model\\_logistic.py:1165: UserWarning: l1_ratio parameter is only used when penalty is 'elasticnet'. Got (penalty=l2)\n",
      "  warnings.warn(\n",
      "C:\\Users\\User\\anaconda3\\lib\\site-packages\\sklearn\\linear_model\\_logistic.py:1165: UserWarning: l1_ratio parameter is only used when penalty is 'elasticnet'. Got (penalty=l2)\n",
      "  warnings.warn(\n"
     ]
    },
    {
     "name": "stdout",
     "output_type": "stream",
     "text": [
      "[CV 1/3; 53/2700] END C=0.001, l1_ratio=0.01, max_iter=1000, multi_class=multinomial, penalty=l2, solver=saga;, score=0.477 total time=   4.4s\n",
      "[CV 2/3; 53/2700] START C=0.001, l1_ratio=0.01, max_iter=1000, multi_class=multinomial, penalty=l2, solver=saga\n"
     ]
    },
    {
     "name": "stderr",
     "output_type": "stream",
     "text": [
      "C:\\Users\\User\\anaconda3\\lib\\site-packages\\sklearn\\linear_model\\_logistic.py:1165: UserWarning: l1_ratio parameter is only used when penalty is 'elasticnet'. Got (penalty=l2)\n",
      "  warnings.warn(\n"
     ]
    },
    {
     "name": "stdout",
     "output_type": "stream",
     "text": [
      "[CV 2/3; 53/2700] END C=0.001, l1_ratio=0.01, max_iter=1000, multi_class=multinomial, penalty=l2, solver=saga;, score=0.474 total time=   4.7s\n",
      "[CV 3/3; 53/2700] START C=0.001, l1_ratio=0.01, max_iter=1000, multi_class=multinomial, penalty=l2, solver=saga\n"
     ]
    },
    {
     "name": "stderr",
     "output_type": "stream",
     "text": [
      "C:\\Users\\User\\anaconda3\\lib\\site-packages\\sklearn\\linear_model\\_logistic.py:1165: UserWarning: l1_ratio parameter is only used when penalty is 'elasticnet'. Got (penalty=l2)\n",
      "  warnings.warn(\n"
     ]
    },
    {
     "name": "stdout",
     "output_type": "stream",
     "text": [
      "[CV 3/3; 53/2700] END C=0.001, l1_ratio=0.01, max_iter=1000, multi_class=multinomial, penalty=l2, solver=saga;, score=0.471 total time=   4.8s\n",
      "[CV 1/3; 54/2700] START C=0.001, l1_ratio=0.01, max_iter=1000, multi_class=multinomial, penalty=l2, solver=sag\n"
     ]
    },
    {
     "name": "stderr",
     "output_type": "stream",
     "text": [
      "C:\\Users\\User\\anaconda3\\lib\\site-packages\\sklearn\\linear_model\\_logistic.py:1165: UserWarning: l1_ratio parameter is only used when penalty is 'elasticnet'. Got (penalty=l2)\n",
      "  warnings.warn(\n"
     ]
    },
    {
     "name": "stdout",
     "output_type": "stream",
     "text": [
      "[CV 1/3; 54/2700] END C=0.001, l1_ratio=0.01, max_iter=1000, multi_class=multinomial, penalty=l2, solver=sag;, score=0.477 total time=   1.1s\n",
      "[CV 2/3; 54/2700] START C=0.001, l1_ratio=0.01, max_iter=1000, multi_class=multinomial, penalty=l2, solver=sag\n"
     ]
    },
    {
     "name": "stderr",
     "output_type": "stream",
     "text": [
      "C:\\Users\\User\\anaconda3\\lib\\site-packages\\sklearn\\linear_model\\_logistic.py:1165: UserWarning: l1_ratio parameter is only used when penalty is 'elasticnet'. Got (penalty=l2)\n",
      "  warnings.warn(\n"
     ]
    },
    {
     "name": "stdout",
     "output_type": "stream",
     "text": [
      "[CV 2/3; 54/2700] END C=0.001, l1_ratio=0.01, max_iter=1000, multi_class=multinomial, penalty=l2, solver=sag;, score=0.474 total time=   1.1s\n",
      "[CV 3/3; 54/2700] START C=0.001, l1_ratio=0.01, max_iter=1000, multi_class=multinomial, penalty=l2, solver=sag\n"
     ]
    },
    {
     "name": "stderr",
     "output_type": "stream",
     "text": [
      "C:\\Users\\User\\anaconda3\\lib\\site-packages\\sklearn\\linear_model\\_logistic.py:1165: UserWarning: l1_ratio parameter is only used when penalty is 'elasticnet'. Got (penalty=l2)\n",
      "  warnings.warn(\n"
     ]
    },
    {
     "name": "stdout",
     "output_type": "stream",
     "text": [
      "[CV 3/3; 54/2700] END C=0.001, l1_ratio=0.01, max_iter=1000, multi_class=multinomial, penalty=l2, solver=sag;, score=0.471 total time=   1.2s\n",
      "[CV 1/3; 55/2700] START C=0.001, l1_ratio=0.01, max_iter=1000, multi_class=multinomial, penalty=l2, solver=newton-cholesky\n",
      "[CV 1/3; 55/2700] END C=0.001, l1_ratio=0.01, max_iter=1000, multi_class=multinomial, penalty=l2, solver=newton-cholesky;, score=nan total time=   0.0s\n",
      "[CV 2/3; 55/2700] START C=0.001, l1_ratio=0.01, max_iter=1000, multi_class=multinomial, penalty=l2, solver=newton-cholesky\n",
      "[CV 2/3; 55/2700] END C=0.001, l1_ratio=0.01, max_iter=1000, multi_class=multinomial, penalty=l2, solver=newton-cholesky;, score=nan total time=   0.0s\n",
      "[CV 3/3; 55/2700] START C=0.001, l1_ratio=0.01, max_iter=1000, multi_class=multinomial, penalty=l2, solver=newton-cholesky\n",
      "[CV 3/3; 55/2700] END C=0.001, l1_ratio=0.01, max_iter=1000, multi_class=multinomial, penalty=l2, solver=newton-cholesky;, score=nan total time=   0.0s\n",
      "[CV 1/3; 56/2700] START C=0.001, l1_ratio=0.01, max_iter=1000, multi_class=multinomial, penalty=elasticnet, solver=lbfgs\n",
      "[CV 1/3; 56/2700] END C=0.001, l1_ratio=0.01, max_iter=1000, multi_class=multinomial, penalty=elasticnet, solver=lbfgs;, score=nan total time=   0.0s\n",
      "[CV 2/3; 56/2700] START C=0.001, l1_ratio=0.01, max_iter=1000, multi_class=multinomial, penalty=elasticnet, solver=lbfgs\n",
      "[CV 2/3; 56/2700] END C=0.001, l1_ratio=0.01, max_iter=1000, multi_class=multinomial, penalty=elasticnet, solver=lbfgs;, score=nan total time=   0.0s\n",
      "[CV 3/3; 56/2700] START C=0.001, l1_ratio=0.01, max_iter=1000, multi_class=multinomial, penalty=elasticnet, solver=lbfgs\n",
      "[CV 3/3; 56/2700] END C=0.001, l1_ratio=0.01, max_iter=1000, multi_class=multinomial, penalty=elasticnet, solver=lbfgs;, score=nan total time=   0.0s\n",
      "[CV 1/3; 57/2700] START C=0.001, l1_ratio=0.01, max_iter=1000, multi_class=multinomial, penalty=elasticnet, solver=liblinear\n",
      "[CV 1/3; 57/2700] END C=0.001, l1_ratio=0.01, max_iter=1000, multi_class=multinomial, penalty=elasticnet, solver=liblinear;, score=nan total time=   0.0s\n",
      "[CV 2/3; 57/2700] START C=0.001, l1_ratio=0.01, max_iter=1000, multi_class=multinomial, penalty=elasticnet, solver=liblinear\n",
      "[CV 2/3; 57/2700] END C=0.001, l1_ratio=0.01, max_iter=1000, multi_class=multinomial, penalty=elasticnet, solver=liblinear;, score=nan total time=   0.0s\n",
      "[CV 3/3; 57/2700] START C=0.001, l1_ratio=0.01, max_iter=1000, multi_class=multinomial, penalty=elasticnet, solver=liblinear\n",
      "[CV 3/3; 57/2700] END C=0.001, l1_ratio=0.01, max_iter=1000, multi_class=multinomial, penalty=elasticnet, solver=liblinear;, score=nan total time=   0.0s\n",
      "[CV 1/3; 58/2700] START C=0.001, l1_ratio=0.01, max_iter=1000, multi_class=multinomial, penalty=elasticnet, solver=saga\n"
     ]
    },
    {
     "name": "stderr",
     "output_type": "stream",
     "text": [
      "C:\\Users\\User\\anaconda3\\lib\\site-packages\\sklearn\\linear_model\\_logistic.py:1165: UserWarning: l1_ratio parameter is only used when penalty is 'elasticnet'. Got (penalty=l2)\n",
      "  warnings.warn(\n",
      "C:\\Users\\User\\anaconda3\\lib\\site-packages\\sklearn\\linear_model\\_logistic.py:1165: UserWarning: l1_ratio parameter is only used when penalty is 'elasticnet'. Got (penalty=l2)\n",
      "  warnings.warn(\n",
      "C:\\Users\\User\\anaconda3\\lib\\site-packages\\sklearn\\linear_model\\_logistic.py:1165: UserWarning: l1_ratio parameter is only used when penalty is 'elasticnet'. Got (penalty=l2)\n",
      "  warnings.warn(\n"
     ]
    },
    {
     "name": "stdout",
     "output_type": "stream",
     "text": [
      "[CV 1/3; 58/2700] END C=0.001, l1_ratio=0.01, max_iter=1000, multi_class=multinomial, penalty=elasticnet, solver=saga;, score=0.475 total time=   6.7s\n",
      "[CV 2/3; 58/2700] START C=0.001, l1_ratio=0.01, max_iter=1000, multi_class=multinomial, penalty=elasticnet, solver=saga\n",
      "[CV 2/3; 58/2700] END C=0.001, l1_ratio=0.01, max_iter=1000, multi_class=multinomial, penalty=elasticnet, solver=saga;, score=0.473 total time=   6.5s\n",
      "[CV 3/3; 58/2700] START C=0.001, l1_ratio=0.01, max_iter=1000, multi_class=multinomial, penalty=elasticnet, solver=saga\n",
      "[CV 3/3; 58/2700] END C=0.001, l1_ratio=0.01, max_iter=1000, multi_class=multinomial, penalty=elasticnet, solver=saga;, score=0.468 total time=   6.5s\n",
      "[CV 1/3; 59/2700] START C=0.001, l1_ratio=0.01, max_iter=1000, multi_class=multinomial, penalty=elasticnet, solver=sag\n",
      "[CV 1/3; 59/2700] END C=0.001, l1_ratio=0.01, max_iter=1000, multi_class=multinomial, penalty=elasticnet, solver=sag;, score=nan total time=   0.0s\n",
      "[CV 2/3; 59/2700] START C=0.001, l1_ratio=0.01, max_iter=1000, multi_class=multinomial, penalty=elasticnet, solver=sag\n",
      "[CV 2/3; 59/2700] END C=0.001, l1_ratio=0.01, max_iter=1000, multi_class=multinomial, penalty=elasticnet, solver=sag;, score=nan total time=   0.0s\n",
      "[CV 3/3; 59/2700] START C=0.001, l1_ratio=0.01, max_iter=1000, multi_class=multinomial, penalty=elasticnet, solver=sag\n",
      "[CV 3/3; 59/2700] END C=0.001, l1_ratio=0.01, max_iter=1000, multi_class=multinomial, penalty=elasticnet, solver=sag;, score=nan total time=   0.0s\n",
      "[CV 1/3; 60/2700] START C=0.001, l1_ratio=0.01, max_iter=1000, multi_class=multinomial, penalty=elasticnet, solver=newton-cholesky\n",
      "[CV 1/3; 60/2700] END C=0.001, l1_ratio=0.01, max_iter=1000, multi_class=multinomial, penalty=elasticnet, solver=newton-cholesky;, score=nan total time=   0.0s\n",
      "[CV 2/3; 60/2700] START C=0.001, l1_ratio=0.01, max_iter=1000, multi_class=multinomial, penalty=elasticnet, solver=newton-cholesky\n",
      "[CV 2/3; 60/2700] END C=0.001, l1_ratio=0.01, max_iter=1000, multi_class=multinomial, penalty=elasticnet, solver=newton-cholesky;, score=nan total time=   0.0s\n",
      "[CV 3/3; 60/2700] START C=0.001, l1_ratio=0.01, max_iter=1000, multi_class=multinomial, penalty=elasticnet, solver=newton-cholesky\n",
      "[CV 3/3; 60/2700] END C=0.001, l1_ratio=0.01, max_iter=1000, multi_class=multinomial, penalty=elasticnet, solver=newton-cholesky;, score=nan total time=   0.0s\n",
      "[CV 1/3; 61/2700] START C=0.001, l1_ratio=0.01, max_iter=10000, multi_class=ovr, penalty=l1, solver=lbfgs\n",
      "[CV 1/3; 61/2700] END C=0.001, l1_ratio=0.01, max_iter=10000, multi_class=ovr, penalty=l1, solver=lbfgs;, score=nan total time=   0.0s\n",
      "[CV 2/3; 61/2700] START C=0.001, l1_ratio=0.01, max_iter=10000, multi_class=ovr, penalty=l1, solver=lbfgs\n",
      "[CV 2/3; 61/2700] END C=0.001, l1_ratio=0.01, max_iter=10000, multi_class=ovr, penalty=l1, solver=lbfgs;, score=nan total time=   0.0s\n",
      "[CV 3/3; 61/2700] START C=0.001, l1_ratio=0.01, max_iter=10000, multi_class=ovr, penalty=l1, solver=lbfgs\n",
      "[CV 3/3; 61/2700] END C=0.001, l1_ratio=0.01, max_iter=10000, multi_class=ovr, penalty=l1, solver=lbfgs;, score=nan total time=   0.0s\n",
      "[CV 1/3; 62/2700] START C=0.001, l1_ratio=0.01, max_iter=10000, multi_class=ovr, penalty=l1, solver=liblinear\n"
     ]
    },
    {
     "name": "stderr",
     "output_type": "stream",
     "text": [
      "C:\\Users\\User\\anaconda3\\lib\\site-packages\\sklearn\\linear_model\\_logistic.py:1165: UserWarning: l1_ratio parameter is only used when penalty is 'elasticnet'. Got (penalty=l1)\n",
      "  warnings.warn(\n"
     ]
    },
    {
     "name": "stdout",
     "output_type": "stream",
     "text": [
      "[CV 1/3; 62/2700] END C=0.001, l1_ratio=0.01, max_iter=10000, multi_class=ovr, penalty=l1, solver=liblinear;, score=0.458 total time=   0.1s\n",
      "[CV 2/3; 62/2700] START C=0.001, l1_ratio=0.01, max_iter=10000, multi_class=ovr, penalty=l1, solver=liblinear\n"
     ]
    },
    {
     "name": "stderr",
     "output_type": "stream",
     "text": [
      "C:\\Users\\User\\anaconda3\\lib\\site-packages\\sklearn\\linear_model\\_logistic.py:1165: UserWarning: l1_ratio parameter is only used when penalty is 'elasticnet'. Got (penalty=l1)\n",
      "  warnings.warn(\n"
     ]
    },
    {
     "name": "stdout",
     "output_type": "stream",
     "text": [
      "[CV 2/3; 62/2700] END C=0.001, l1_ratio=0.01, max_iter=10000, multi_class=ovr, penalty=l1, solver=liblinear;, score=0.460 total time=   0.1s\n",
      "[CV 3/3; 62/2700] START C=0.001, l1_ratio=0.01, max_iter=10000, multi_class=ovr, penalty=l1, solver=liblinear\n"
     ]
    },
    {
     "name": "stderr",
     "output_type": "stream",
     "text": [
      "C:\\Users\\User\\anaconda3\\lib\\site-packages\\sklearn\\linear_model\\_logistic.py:1165: UserWarning: l1_ratio parameter is only used when penalty is 'elasticnet'. Got (penalty=l1)\n",
      "  warnings.warn(\n"
     ]
    },
    {
     "name": "stdout",
     "output_type": "stream",
     "text": [
      "[CV 3/3; 62/2700] END C=0.001, l1_ratio=0.01, max_iter=10000, multi_class=ovr, penalty=l1, solver=liblinear;, score=0.453 total time=   0.1s\n",
      "[CV 1/3; 63/2700] START C=0.001, l1_ratio=0.01, max_iter=10000, multi_class=ovr, penalty=l1, solver=saga\n"
     ]
    },
    {
     "name": "stderr",
     "output_type": "stream",
     "text": [
      "C:\\Users\\User\\anaconda3\\lib\\site-packages\\sklearn\\linear_model\\_logistic.py:1165: UserWarning: l1_ratio parameter is only used when penalty is 'elasticnet'. Got (penalty=l1)\n",
      "  warnings.warn(\n"
     ]
    },
    {
     "name": "stdout",
     "output_type": "stream",
     "text": [
      "[CV 1/3; 63/2700] END C=0.001, l1_ratio=0.01, max_iter=10000, multi_class=ovr, penalty=l1, solver=saga;, score=0.306 total time=   3.1s\n",
      "[CV 2/3; 63/2700] START C=0.001, l1_ratio=0.01, max_iter=10000, multi_class=ovr, penalty=l1, solver=saga\n"
     ]
    },
    {
     "name": "stderr",
     "output_type": "stream",
     "text": [
      "C:\\Users\\User\\anaconda3\\lib\\site-packages\\sklearn\\linear_model\\_logistic.py:1165: UserWarning: l1_ratio parameter is only used when penalty is 'elasticnet'. Got (penalty=l1)\n",
      "  warnings.warn(\n"
     ]
    },
    {
     "name": "stdout",
     "output_type": "stream",
     "text": [
      "[CV 2/3; 63/2700] END C=0.001, l1_ratio=0.01, max_iter=10000, multi_class=ovr, penalty=l1, solver=saga;, score=0.306 total time=   2.3s\n",
      "[CV 3/3; 63/2700] START C=0.001, l1_ratio=0.01, max_iter=10000, multi_class=ovr, penalty=l1, solver=saga\n"
     ]
    },
    {
     "name": "stderr",
     "output_type": "stream",
     "text": [
      "C:\\Users\\User\\anaconda3\\lib\\site-packages\\sklearn\\linear_model\\_logistic.py:1165: UserWarning: l1_ratio parameter is only used when penalty is 'elasticnet'. Got (penalty=l1)\n",
      "  warnings.warn(\n"
     ]
    },
    {
     "name": "stdout",
     "output_type": "stream",
     "text": [
      "[CV 3/3; 63/2700] END C=0.001, l1_ratio=0.01, max_iter=10000, multi_class=ovr, penalty=l1, solver=saga;, score=0.306 total time=   2.0s\n",
      "[CV 1/3; 64/2700] START C=0.001, l1_ratio=0.01, max_iter=10000, multi_class=ovr, penalty=l1, solver=sag\n",
      "[CV 1/3; 64/2700] END C=0.001, l1_ratio=0.01, max_iter=10000, multi_class=ovr, penalty=l1, solver=sag;, score=nan total time=   0.0s\n",
      "[CV 2/3; 64/2700] START C=0.001, l1_ratio=0.01, max_iter=10000, multi_class=ovr, penalty=l1, solver=sag\n",
      "[CV 2/3; 64/2700] END C=0.001, l1_ratio=0.01, max_iter=10000, multi_class=ovr, penalty=l1, solver=sag;, score=nan total time=   0.0s\n",
      "[CV 3/3; 64/2700] START C=0.001, l1_ratio=0.01, max_iter=10000, multi_class=ovr, penalty=l1, solver=sag\n",
      "[CV 3/3; 64/2700] END C=0.001, l1_ratio=0.01, max_iter=10000, multi_class=ovr, penalty=l1, solver=sag;, score=nan total time=   0.0s\n",
      "[CV 1/3; 65/2700] START C=0.001, l1_ratio=0.01, max_iter=10000, multi_class=ovr, penalty=l1, solver=newton-cholesky\n",
      "[CV 1/3; 65/2700] END C=0.001, l1_ratio=0.01, max_iter=10000, multi_class=ovr, penalty=l1, solver=newton-cholesky;, score=nan total time=   0.0s\n",
      "[CV 2/3; 65/2700] START C=0.001, l1_ratio=0.01, max_iter=10000, multi_class=ovr, penalty=l1, solver=newton-cholesky\n",
      "[CV 2/3; 65/2700] END C=0.001, l1_ratio=0.01, max_iter=10000, multi_class=ovr, penalty=l1, solver=newton-cholesky;, score=nan total time=   0.0s\n",
      "[CV 3/3; 65/2700] START C=0.001, l1_ratio=0.01, max_iter=10000, multi_class=ovr, penalty=l1, solver=newton-cholesky\n",
      "[CV 3/3; 65/2700] END C=0.001, l1_ratio=0.01, max_iter=10000, multi_class=ovr, penalty=l1, solver=newton-cholesky;, score=nan total time=   0.0s\n",
      "[CV 1/3; 66/2700] START C=0.001, l1_ratio=0.01, max_iter=10000, multi_class=ovr, penalty=l2, solver=lbfgs\n"
     ]
    },
    {
     "name": "stderr",
     "output_type": "stream",
     "text": [
      "C:\\Users\\User\\anaconda3\\lib\\site-packages\\sklearn\\linear_model\\_logistic.py:1165: UserWarning: l1_ratio parameter is only used when penalty is 'elasticnet'. Got (penalty=l2)\n",
      "  warnings.warn(\n"
     ]
    },
    {
     "name": "stdout",
     "output_type": "stream",
     "text": [
      "[CV 1/3; 66/2700] END C=0.001, l1_ratio=0.01, max_iter=10000, multi_class=ovr, penalty=l2, solver=lbfgs;, score=0.469 total time=   0.4s\n",
      "[CV 2/3; 66/2700] START C=0.001, l1_ratio=0.01, max_iter=10000, multi_class=ovr, penalty=l2, solver=lbfgs\n"
     ]
    },
    {
     "name": "stderr",
     "output_type": "stream",
     "text": [
      "C:\\Users\\User\\anaconda3\\lib\\site-packages\\sklearn\\linear_model\\_logistic.py:1165: UserWarning: l1_ratio parameter is only used when penalty is 'elasticnet'. Got (penalty=l2)\n",
      "  warnings.warn(\n"
     ]
    },
    {
     "name": "stdout",
     "output_type": "stream",
     "text": [
      "[CV 2/3; 66/2700] END C=0.001, l1_ratio=0.01, max_iter=10000, multi_class=ovr, penalty=l2, solver=lbfgs;, score=0.468 total time=   0.4s\n",
      "[CV 3/3; 66/2700] START C=0.001, l1_ratio=0.01, max_iter=10000, multi_class=ovr, penalty=l2, solver=lbfgs\n"
     ]
    },
    {
     "name": "stderr",
     "output_type": "stream",
     "text": [
      "C:\\Users\\User\\anaconda3\\lib\\site-packages\\sklearn\\linear_model\\_logistic.py:1165: UserWarning: l1_ratio parameter is only used when penalty is 'elasticnet'. Got (penalty=l2)\n",
      "  warnings.warn(\n"
     ]
    },
    {
     "name": "stdout",
     "output_type": "stream",
     "text": [
      "[CV 3/3; 66/2700] END C=0.001, l1_ratio=0.01, max_iter=10000, multi_class=ovr, penalty=l2, solver=lbfgs;, score=0.464 total time=   0.4s\n",
      "[CV 1/3; 67/2700] START C=0.001, l1_ratio=0.01, max_iter=10000, multi_class=ovr, penalty=l2, solver=liblinear\n"
     ]
    },
    {
     "name": "stderr",
     "output_type": "stream",
     "text": [
      "C:\\Users\\User\\anaconda3\\lib\\site-packages\\sklearn\\linear_model\\_logistic.py:1165: UserWarning: l1_ratio parameter is only used when penalty is 'elasticnet'. Got (penalty=l2)\n",
      "  warnings.warn(\n"
     ]
    },
    {
     "name": "stdout",
     "output_type": "stream",
     "text": [
      "[CV 1/3; 67/2700] END C=0.001, l1_ratio=0.01, max_iter=10000, multi_class=ovr, penalty=l2, solver=liblinear;, score=0.469 total time=   0.2s\n",
      "[CV 2/3; 67/2700] START C=0.001, l1_ratio=0.01, max_iter=10000, multi_class=ovr, penalty=l2, solver=liblinear\n"
     ]
    },
    {
     "name": "stderr",
     "output_type": "stream",
     "text": [
      "C:\\Users\\User\\anaconda3\\lib\\site-packages\\sklearn\\linear_model\\_logistic.py:1165: UserWarning: l1_ratio parameter is only used when penalty is 'elasticnet'. Got (penalty=l2)\n",
      "  warnings.warn(\n"
     ]
    },
    {
     "name": "stdout",
     "output_type": "stream",
     "text": [
      "[CV 2/3; 67/2700] END C=0.001, l1_ratio=0.01, max_iter=10000, multi_class=ovr, penalty=l2, solver=liblinear;, score=0.467 total time=   0.2s\n",
      "[CV 3/3; 67/2700] START C=0.001, l1_ratio=0.01, max_iter=10000, multi_class=ovr, penalty=l2, solver=liblinear\n"
     ]
    },
    {
     "name": "stderr",
     "output_type": "stream",
     "text": [
      "C:\\Users\\User\\anaconda3\\lib\\site-packages\\sklearn\\linear_model\\_logistic.py:1165: UserWarning: l1_ratio parameter is only used when penalty is 'elasticnet'. Got (penalty=l2)\n",
      "  warnings.warn(\n"
     ]
    },
    {
     "name": "stdout",
     "output_type": "stream",
     "text": [
      "[CV 3/3; 67/2700] END C=0.001, l1_ratio=0.01, max_iter=10000, multi_class=ovr, penalty=l2, solver=liblinear;, score=0.465 total time=   0.2s\n",
      "[CV 1/3; 68/2700] START C=0.001, l1_ratio=0.01, max_iter=10000, multi_class=ovr, penalty=l2, solver=saga\n"
     ]
    },
    {
     "name": "stderr",
     "output_type": "stream",
     "text": [
      "C:\\Users\\User\\anaconda3\\lib\\site-packages\\sklearn\\linear_model\\_logistic.py:1165: UserWarning: l1_ratio parameter is only used when penalty is 'elasticnet'. Got (penalty=l2)\n",
      "  warnings.warn(\n"
     ]
    },
    {
     "name": "stdout",
     "output_type": "stream",
     "text": [
      "[CV 1/3; 68/2700] END C=0.001, l1_ratio=0.01, max_iter=10000, multi_class=ovr, penalty=l2, solver=saga;, score=0.469 total time=   5.4s\n",
      "[CV 2/3; 68/2700] START C=0.001, l1_ratio=0.01, max_iter=10000, multi_class=ovr, penalty=l2, solver=saga\n"
     ]
    },
    {
     "name": "stderr",
     "output_type": "stream",
     "text": [
      "C:\\Users\\User\\anaconda3\\lib\\site-packages\\sklearn\\linear_model\\_logistic.py:1165: UserWarning: l1_ratio parameter is only used when penalty is 'elasticnet'. Got (penalty=l2)\n",
      "  warnings.warn(\n"
     ]
    },
    {
     "name": "stdout",
     "output_type": "stream",
     "text": [
      "[CV 2/3; 68/2700] END C=0.001, l1_ratio=0.01, max_iter=10000, multi_class=ovr, penalty=l2, solver=saga;, score=0.468 total time=   6.6s\n",
      "[CV 3/3; 68/2700] START C=0.001, l1_ratio=0.01, max_iter=10000, multi_class=ovr, penalty=l2, solver=saga\n"
     ]
    },
    {
     "name": "stderr",
     "output_type": "stream",
     "text": [
      "C:\\Users\\User\\anaconda3\\lib\\site-packages\\sklearn\\linear_model\\_logistic.py:1165: UserWarning: l1_ratio parameter is only used when penalty is 'elasticnet'. Got (penalty=l2)\n",
      "  warnings.warn(\n"
     ]
    },
    {
     "name": "stdout",
     "output_type": "stream",
     "text": [
      "[CV 3/3; 68/2700] END C=0.001, l1_ratio=0.01, max_iter=10000, multi_class=ovr, penalty=l2, solver=saga;, score=0.464 total time=   5.6s\n",
      "[CV 1/3; 69/2700] START C=0.001, l1_ratio=0.01, max_iter=10000, multi_class=ovr, penalty=l2, solver=sag\n"
     ]
    },
    {
     "name": "stderr",
     "output_type": "stream",
     "text": [
      "C:\\Users\\User\\anaconda3\\lib\\site-packages\\sklearn\\linear_model\\_logistic.py:1165: UserWarning: l1_ratio parameter is only used when penalty is 'elasticnet'. Got (penalty=l2)\n",
      "  warnings.warn(\n"
     ]
    },
    {
     "name": "stdout",
     "output_type": "stream",
     "text": [
      "[CV 1/3; 69/2700] END C=0.001, l1_ratio=0.01, max_iter=10000, multi_class=ovr, penalty=l2, solver=sag;, score=0.469 total time=   2.5s\n",
      "[CV 2/3; 69/2700] START C=0.001, l1_ratio=0.01, max_iter=10000, multi_class=ovr, penalty=l2, solver=sag\n"
     ]
    },
    {
     "name": "stderr",
     "output_type": "stream",
     "text": [
      "C:\\Users\\User\\anaconda3\\lib\\site-packages\\sklearn\\linear_model\\_logistic.py:1165: UserWarning: l1_ratio parameter is only used when penalty is 'elasticnet'. Got (penalty=l2)\n",
      "  warnings.warn(\n"
     ]
    },
    {
     "name": "stdout",
     "output_type": "stream",
     "text": [
      "[CV 2/3; 69/2700] END C=0.001, l1_ratio=0.01, max_iter=10000, multi_class=ovr, penalty=l2, solver=sag;, score=0.468 total time=   3.0s\n",
      "[CV 3/3; 69/2700] START C=0.001, l1_ratio=0.01, max_iter=10000, multi_class=ovr, penalty=l2, solver=sag\n"
     ]
    },
    {
     "name": "stderr",
     "output_type": "stream",
     "text": [
      "C:\\Users\\User\\anaconda3\\lib\\site-packages\\sklearn\\linear_model\\_logistic.py:1165: UserWarning: l1_ratio parameter is only used when penalty is 'elasticnet'. Got (penalty=l2)\n",
      "  warnings.warn(\n"
     ]
    },
    {
     "name": "stdout",
     "output_type": "stream",
     "text": [
      "[CV 3/3; 69/2700] END C=0.001, l1_ratio=0.01, max_iter=10000, multi_class=ovr, penalty=l2, solver=sag;, score=0.464 total time=   3.5s\n",
      "[CV 1/3; 70/2700] START C=0.001, l1_ratio=0.01, max_iter=10000, multi_class=ovr, penalty=l2, solver=newton-cholesky\n"
     ]
    },
    {
     "name": "stderr",
     "output_type": "stream",
     "text": [
      "C:\\Users\\User\\anaconda3\\lib\\site-packages\\sklearn\\linear_model\\_logistic.py:1165: UserWarning: l1_ratio parameter is only used when penalty is 'elasticnet'. Got (penalty=l2)\n",
      "  warnings.warn(\n"
     ]
    },
    {
     "name": "stdout",
     "output_type": "stream",
     "text": [
      "[CV 1/3; 70/2700] END C=0.001, l1_ratio=0.01, max_iter=10000, multi_class=ovr, penalty=l2, solver=newton-cholesky;, score=0.469 total time=   1.4s\n",
      "[CV 2/3; 70/2700] START C=0.001, l1_ratio=0.01, max_iter=10000, multi_class=ovr, penalty=l2, solver=newton-cholesky\n"
     ]
    },
    {
     "name": "stderr",
     "output_type": "stream",
     "text": [
      "C:\\Users\\User\\anaconda3\\lib\\site-packages\\sklearn\\linear_model\\_logistic.py:1165: UserWarning: l1_ratio parameter is only used when penalty is 'elasticnet'. Got (penalty=l2)\n",
      "  warnings.warn(\n"
     ]
    },
    {
     "name": "stdout",
     "output_type": "stream",
     "text": [
      "[CV 2/3; 70/2700] END C=0.001, l1_ratio=0.01, max_iter=10000, multi_class=ovr, penalty=l2, solver=newton-cholesky;, score=0.468 total time=   1.3s\n",
      "[CV 3/3; 70/2700] START C=0.001, l1_ratio=0.01, max_iter=10000, multi_class=ovr, penalty=l2, solver=newton-cholesky\n"
     ]
    },
    {
     "name": "stderr",
     "output_type": "stream",
     "text": [
      "C:\\Users\\User\\anaconda3\\lib\\site-packages\\sklearn\\linear_model\\_logistic.py:1165: UserWarning: l1_ratio parameter is only used when penalty is 'elasticnet'. Got (penalty=l2)\n",
      "  warnings.warn(\n"
     ]
    },
    {
     "name": "stdout",
     "output_type": "stream",
     "text": [
      "[CV 3/3; 70/2700] END C=0.001, l1_ratio=0.01, max_iter=10000, multi_class=ovr, penalty=l2, solver=newton-cholesky;, score=0.464 total time=   1.5s\n",
      "[CV 1/3; 71/2700] START C=0.001, l1_ratio=0.01, max_iter=10000, multi_class=ovr, penalty=elasticnet, solver=lbfgs\n",
      "[CV 1/3; 71/2700] END C=0.001, l1_ratio=0.01, max_iter=10000, multi_class=ovr, penalty=elasticnet, solver=lbfgs;, score=nan total time=   0.0s\n",
      "[CV 2/3; 71/2700] START C=0.001, l1_ratio=0.01, max_iter=10000, multi_class=ovr, penalty=elasticnet, solver=lbfgs\n",
      "[CV 2/3; 71/2700] END C=0.001, l1_ratio=0.01, max_iter=10000, multi_class=ovr, penalty=elasticnet, solver=lbfgs;, score=nan total time=   0.0s\n",
      "[CV 3/3; 71/2700] START C=0.001, l1_ratio=0.01, max_iter=10000, multi_class=ovr, penalty=elasticnet, solver=lbfgs\n",
      "[CV 3/3; 71/2700] END C=0.001, l1_ratio=0.01, max_iter=10000, multi_class=ovr, penalty=elasticnet, solver=lbfgs;, score=nan total time=   0.0s\n",
      "[CV 1/3; 72/2700] START C=0.001, l1_ratio=0.01, max_iter=10000, multi_class=ovr, penalty=elasticnet, solver=liblinear\n",
      "[CV 1/3; 72/2700] END C=0.001, l1_ratio=0.01, max_iter=10000, multi_class=ovr, penalty=elasticnet, solver=liblinear;, score=nan total time=   0.0s\n",
      "[CV 2/3; 72/2700] START C=0.001, l1_ratio=0.01, max_iter=10000, multi_class=ovr, penalty=elasticnet, solver=liblinear\n",
      "[CV 2/3; 72/2700] END C=0.001, l1_ratio=0.01, max_iter=10000, multi_class=ovr, penalty=elasticnet, solver=liblinear;, score=nan total time=   0.0s\n",
      "[CV 3/3; 72/2700] START C=0.001, l1_ratio=0.01, max_iter=10000, multi_class=ovr, penalty=elasticnet, solver=liblinear\n",
      "[CV 3/3; 72/2700] END C=0.001, l1_ratio=0.01, max_iter=10000, multi_class=ovr, penalty=elasticnet, solver=liblinear;, score=nan total time=   0.0s\n",
      "[CV 1/3; 73/2700] START C=0.001, l1_ratio=0.01, max_iter=10000, multi_class=ovr, penalty=elasticnet, solver=saga\n",
      "[CV 1/3; 73/2700] END C=0.001, l1_ratio=0.01, max_iter=10000, multi_class=ovr, penalty=elasticnet, solver=saga;, score=0.469 total time=   6.9s\n",
      "[CV 2/3; 73/2700] START C=0.001, l1_ratio=0.01, max_iter=10000, multi_class=ovr, penalty=elasticnet, solver=saga\n",
      "[CV 2/3; 73/2700] END C=0.001, l1_ratio=0.01, max_iter=10000, multi_class=ovr, penalty=elasticnet, solver=saga;, score=0.465 total time=   8.0s\n",
      "[CV 3/3; 73/2700] START C=0.001, l1_ratio=0.01, max_iter=10000, multi_class=ovr, penalty=elasticnet, solver=saga\n",
      "[CV 3/3; 73/2700] END C=0.001, l1_ratio=0.01, max_iter=10000, multi_class=ovr, penalty=elasticnet, solver=saga;, score=0.464 total time=   6.9s\n",
      "[CV 1/3; 74/2700] START C=0.001, l1_ratio=0.01, max_iter=10000, multi_class=ovr, penalty=elasticnet, solver=sag\n",
      "[CV 1/3; 74/2700] END C=0.001, l1_ratio=0.01, max_iter=10000, multi_class=ovr, penalty=elasticnet, solver=sag;, score=nan total time=   0.0s\n",
      "[CV 2/3; 74/2700] START C=0.001, l1_ratio=0.01, max_iter=10000, multi_class=ovr, penalty=elasticnet, solver=sag\n",
      "[CV 2/3; 74/2700] END C=0.001, l1_ratio=0.01, max_iter=10000, multi_class=ovr, penalty=elasticnet, solver=sag;, score=nan total time=   0.0s\n",
      "[CV 3/3; 74/2700] START C=0.001, l1_ratio=0.01, max_iter=10000, multi_class=ovr, penalty=elasticnet, solver=sag\n",
      "[CV 3/3; 74/2700] END C=0.001, l1_ratio=0.01, max_iter=10000, multi_class=ovr, penalty=elasticnet, solver=sag;, score=nan total time=   0.0s\n",
      "[CV 1/3; 75/2700] START C=0.001, l1_ratio=0.01, max_iter=10000, multi_class=ovr, penalty=elasticnet, solver=newton-cholesky\n",
      "[CV 1/3; 75/2700] END C=0.001, l1_ratio=0.01, max_iter=10000, multi_class=ovr, penalty=elasticnet, solver=newton-cholesky;, score=nan total time=   0.0s\n",
      "[CV 2/3; 75/2700] START C=0.001, l1_ratio=0.01, max_iter=10000, multi_class=ovr, penalty=elasticnet, solver=newton-cholesky\n",
      "[CV 2/3; 75/2700] END C=0.001, l1_ratio=0.01, max_iter=10000, multi_class=ovr, penalty=elasticnet, solver=newton-cholesky;, score=nan total time=   0.0s\n",
      "[CV 3/3; 75/2700] START C=0.001, l1_ratio=0.01, max_iter=10000, multi_class=ovr, penalty=elasticnet, solver=newton-cholesky\n",
      "[CV 3/3; 75/2700] END C=0.001, l1_ratio=0.01, max_iter=10000, multi_class=ovr, penalty=elasticnet, solver=newton-cholesky;, score=nan total time=   0.0s\n",
      "[CV 1/3; 76/2700] START C=0.001, l1_ratio=0.01, max_iter=10000, multi_class=multinomial, penalty=l1, solver=lbfgs\n",
      "[CV 1/3; 76/2700] END C=0.001, l1_ratio=0.01, max_iter=10000, multi_class=multinomial, penalty=l1, solver=lbfgs;, score=nan total time=   0.0s\n",
      "[CV 2/3; 76/2700] START C=0.001, l1_ratio=0.01, max_iter=10000, multi_class=multinomial, penalty=l1, solver=lbfgs\n",
      "[CV 2/3; 76/2700] END C=0.001, l1_ratio=0.01, max_iter=10000, multi_class=multinomial, penalty=l1, solver=lbfgs;, score=nan total time=   0.0s\n",
      "[CV 3/3; 76/2700] START C=0.001, l1_ratio=0.01, max_iter=10000, multi_class=multinomial, penalty=l1, solver=lbfgs\n",
      "[CV 3/3; 76/2700] END C=0.001, l1_ratio=0.01, max_iter=10000, multi_class=multinomial, penalty=l1, solver=lbfgs;, score=nan total time=   0.0s\n",
      "[CV 1/3; 77/2700] START C=0.001, l1_ratio=0.01, max_iter=10000, multi_class=multinomial, penalty=l1, solver=liblinear\n",
      "[CV 1/3; 77/2700] END C=0.001, l1_ratio=0.01, max_iter=10000, multi_class=multinomial, penalty=l1, solver=liblinear;, score=nan total time=   0.0s\n",
      "[CV 2/3; 77/2700] START C=0.001, l1_ratio=0.01, max_iter=10000, multi_class=multinomial, penalty=l1, solver=liblinear\n"
     ]
    },
    {
     "name": "stderr",
     "output_type": "stream",
     "text": [
      "C:\\Users\\User\\anaconda3\\lib\\site-packages\\sklearn\\linear_model\\_logistic.py:1165: UserWarning: l1_ratio parameter is only used when penalty is 'elasticnet'. Got (penalty=l1)\n",
      "  warnings.warn(\n",
      "C:\\Users\\User\\anaconda3\\lib\\site-packages\\sklearn\\linear_model\\_logistic.py:1165: UserWarning: l1_ratio parameter is only used when penalty is 'elasticnet'. Got (penalty=l1)\n",
      "  warnings.warn(\n",
      "C:\\Users\\User\\anaconda3\\lib\\site-packages\\sklearn\\linear_model\\_logistic.py:1165: UserWarning: l1_ratio parameter is only used when penalty is 'elasticnet'. Got (penalty=l1)\n",
      "  warnings.warn(\n",
      "C:\\Users\\User\\anaconda3\\lib\\site-packages\\sklearn\\linear_model\\_logistic.py:1165: UserWarning: l1_ratio parameter is only used when penalty is 'elasticnet'. Got (penalty=l1)\n",
      "  warnings.warn(\n"
     ]
    },
    {
     "name": "stdout",
     "output_type": "stream",
     "text": [
      "[CV 2/3; 77/2700] END C=0.001, l1_ratio=0.01, max_iter=10000, multi_class=multinomial, penalty=l1, solver=liblinear;, score=nan total time=   0.0s\n",
      "[CV 3/3; 77/2700] START C=0.001, l1_ratio=0.01, max_iter=10000, multi_class=multinomial, penalty=l1, solver=liblinear\n",
      "[CV 3/3; 77/2700] END C=0.001, l1_ratio=0.01, max_iter=10000, multi_class=multinomial, penalty=l1, solver=liblinear;, score=nan total time=   0.0s\n",
      "[CV 1/3; 78/2700] START C=0.001, l1_ratio=0.01, max_iter=10000, multi_class=multinomial, penalty=l1, solver=saga\n",
      "[CV 1/3; 78/2700] END C=0.001, l1_ratio=0.01, max_iter=10000, multi_class=multinomial, penalty=l1, solver=saga;, score=0.306 total time=   4.4s\n",
      "[CV 2/3; 78/2700] START C=0.001, l1_ratio=0.01, max_iter=10000, multi_class=multinomial, penalty=l1, solver=saga\n"
     ]
    },
    {
     "name": "stderr",
     "output_type": "stream",
     "text": [
      "C:\\Users\\User\\anaconda3\\lib\\site-packages\\sklearn\\linear_model\\_logistic.py:1165: UserWarning: l1_ratio parameter is only used when penalty is 'elasticnet'. Got (penalty=l1)\n",
      "  warnings.warn(\n"
     ]
    },
    {
     "name": "stdout",
     "output_type": "stream",
     "text": [
      "[CV 2/3; 78/2700] END C=0.001, l1_ratio=0.01, max_iter=10000, multi_class=multinomial, penalty=l1, solver=saga;, score=0.306 total time=   4.5s\n",
      "[CV 3/3; 78/2700] START C=0.001, l1_ratio=0.01, max_iter=10000, multi_class=multinomial, penalty=l1, solver=saga\n"
     ]
    },
    {
     "name": "stderr",
     "output_type": "stream",
     "text": [
      "C:\\Users\\User\\anaconda3\\lib\\site-packages\\sklearn\\linear_model\\_logistic.py:1165: UserWarning: l1_ratio parameter is only used when penalty is 'elasticnet'. Got (penalty=l1)\n",
      "  warnings.warn(\n"
     ]
    },
    {
     "name": "stdout",
     "output_type": "stream",
     "text": [
      "[CV 3/3; 78/2700] END C=0.001, l1_ratio=0.01, max_iter=10000, multi_class=multinomial, penalty=l1, solver=saga;, score=0.306 total time=   5.0s\n",
      "[CV 1/3; 79/2700] START C=0.001, l1_ratio=0.01, max_iter=10000, multi_class=multinomial, penalty=l1, solver=sag\n",
      "[CV 1/3; 79/2700] END C=0.001, l1_ratio=0.01, max_iter=10000, multi_class=multinomial, penalty=l1, solver=sag;, score=nan total time=   0.0s\n",
      "[CV 2/3; 79/2700] START C=0.001, l1_ratio=0.01, max_iter=10000, multi_class=multinomial, penalty=l1, solver=sag\n",
      "[CV 2/3; 79/2700] END C=0.001, l1_ratio=0.01, max_iter=10000, multi_class=multinomial, penalty=l1, solver=sag;, score=nan total time=   0.0s\n",
      "[CV 3/3; 79/2700] START C=0.001, l1_ratio=0.01, max_iter=10000, multi_class=multinomial, penalty=l1, solver=sag\n",
      "[CV 3/3; 79/2700] END C=0.001, l1_ratio=0.01, max_iter=10000, multi_class=multinomial, penalty=l1, solver=sag;, score=nan total time=   0.0s\n",
      "[CV 1/3; 80/2700] START C=0.001, l1_ratio=0.01, max_iter=10000, multi_class=multinomial, penalty=l1, solver=newton-cholesky\n",
      "[CV 1/3; 80/2700] END C=0.001, l1_ratio=0.01, max_iter=10000, multi_class=multinomial, penalty=l1, solver=newton-cholesky;, score=nan total time=   0.0s\n",
      "[CV 2/3; 80/2700] START C=0.001, l1_ratio=0.01, max_iter=10000, multi_class=multinomial, penalty=l1, solver=newton-cholesky\n",
      "[CV 2/3; 80/2700] END C=0.001, l1_ratio=0.01, max_iter=10000, multi_class=multinomial, penalty=l1, solver=newton-cholesky;, score=nan total time=   0.0s\n",
      "[CV 3/3; 80/2700] START C=0.001, l1_ratio=0.01, max_iter=10000, multi_class=multinomial, penalty=l1, solver=newton-cholesky\n",
      "[CV 3/3; 80/2700] END C=0.001, l1_ratio=0.01, max_iter=10000, multi_class=multinomial, penalty=l1, solver=newton-cholesky;, score=nan total time=   0.0s\n",
      "[CV 1/3; 81/2700] START C=0.001, l1_ratio=0.01, max_iter=10000, multi_class=multinomial, penalty=l2, solver=lbfgs\n"
     ]
    },
    {
     "name": "stderr",
     "output_type": "stream",
     "text": [
      "C:\\Users\\User\\anaconda3\\lib\\site-packages\\sklearn\\linear_model\\_logistic.py:1165: UserWarning: l1_ratio parameter is only used when penalty is 'elasticnet'. Got (penalty=l2)\n",
      "  warnings.warn(\n"
     ]
    },
    {
     "name": "stdout",
     "output_type": "stream",
     "text": [
      "[CV 1/3; 81/2700] END C=0.001, l1_ratio=0.01, max_iter=10000, multi_class=multinomial, penalty=l2, solver=lbfgs;, score=0.478 total time=   0.6s\n",
      "[CV 2/3; 81/2700] START C=0.001, l1_ratio=0.01, max_iter=10000, multi_class=multinomial, penalty=l2, solver=lbfgs\n"
     ]
    },
    {
     "name": "stderr",
     "output_type": "stream",
     "text": [
      "C:\\Users\\User\\anaconda3\\lib\\site-packages\\sklearn\\linear_model\\_logistic.py:1165: UserWarning: l1_ratio parameter is only used when penalty is 'elasticnet'. Got (penalty=l2)\n",
      "  warnings.warn(\n"
     ]
    },
    {
     "name": "stdout",
     "output_type": "stream",
     "text": [
      "[CV 2/3; 81/2700] END C=0.001, l1_ratio=0.01, max_iter=10000, multi_class=multinomial, penalty=l2, solver=lbfgs;, score=0.474 total time=   0.6s\n",
      "[CV 3/3; 81/2700] START C=0.001, l1_ratio=0.01, max_iter=10000, multi_class=multinomial, penalty=l2, solver=lbfgs\n"
     ]
    },
    {
     "name": "stderr",
     "output_type": "stream",
     "text": [
      "C:\\Users\\User\\anaconda3\\lib\\site-packages\\sklearn\\linear_model\\_logistic.py:1165: UserWarning: l1_ratio parameter is only used when penalty is 'elasticnet'. Got (penalty=l2)\n",
      "  warnings.warn(\n"
     ]
    },
    {
     "name": "stdout",
     "output_type": "stream",
     "text": [
      "[CV 3/3; 81/2700] END C=0.001, l1_ratio=0.01, max_iter=10000, multi_class=multinomial, penalty=l2, solver=lbfgs;, score=0.471 total time=   0.9s\n",
      "[CV 1/3; 82/2700] START C=0.001, l1_ratio=0.01, max_iter=10000, multi_class=multinomial, penalty=l2, solver=liblinear\n",
      "[CV 1/3; 82/2700] END C=0.001, l1_ratio=0.01, max_iter=10000, multi_class=multinomial, penalty=l2, solver=liblinear;, score=nan total time=   0.0s\n",
      "[CV 2/3; 82/2700] START C=0.001, l1_ratio=0.01, max_iter=10000, multi_class=multinomial, penalty=l2, solver=liblinear\n",
      "[CV 2/3; 82/2700] END C=0.001, l1_ratio=0.01, max_iter=10000, multi_class=multinomial, penalty=l2, solver=liblinear;, score=nan total time=   0.0s\n",
      "[CV 3/3; 82/2700] START C=0.001, l1_ratio=0.01, max_iter=10000, multi_class=multinomial, penalty=l2, solver=liblinear\n",
      "[CV 3/3; 82/2700] END C=0.001, l1_ratio=0.01, max_iter=10000, multi_class=multinomial, penalty=l2, solver=liblinear;, score=nan total time=   0.0s\n",
      "[CV 1/3; 83/2700] START C=0.001, l1_ratio=0.01, max_iter=10000, multi_class=multinomial, penalty=l2, solver=saga\n"
     ]
    },
    {
     "name": "stderr",
     "output_type": "stream",
     "text": [
      "C:\\Users\\User\\anaconda3\\lib\\site-packages\\sklearn\\linear_model\\_logistic.py:1165: UserWarning: l1_ratio parameter is only used when penalty is 'elasticnet'. Got (penalty=l2)\n",
      "  warnings.warn(\n",
      "C:\\Users\\User\\anaconda3\\lib\\site-packages\\sklearn\\linear_model\\_logistic.py:1165: UserWarning: l1_ratio parameter is only used when penalty is 'elasticnet'. Got (penalty=l2)\n",
      "  warnings.warn(\n",
      "C:\\Users\\User\\anaconda3\\lib\\site-packages\\sklearn\\linear_model\\_logistic.py:1165: UserWarning: l1_ratio parameter is only used when penalty is 'elasticnet'. Got (penalty=l2)\n",
      "  warnings.warn(\n",
      "C:\\Users\\User\\anaconda3\\lib\\site-packages\\sklearn\\linear_model\\_logistic.py:1165: UserWarning: l1_ratio parameter is only used when penalty is 'elasticnet'. Got (penalty=l2)\n",
      "  warnings.warn(\n"
     ]
    },
    {
     "name": "stdout",
     "output_type": "stream",
     "text": [
      "[CV 1/3; 83/2700] END C=0.001, l1_ratio=0.01, max_iter=10000, multi_class=multinomial, penalty=l2, solver=saga;, score=0.477 total time=   5.2s\n",
      "[CV 2/3; 83/2700] START C=0.001, l1_ratio=0.01, max_iter=10000, multi_class=multinomial, penalty=l2, solver=saga\n"
     ]
    },
    {
     "name": "stderr",
     "output_type": "stream",
     "text": [
      "C:\\Users\\User\\anaconda3\\lib\\site-packages\\sklearn\\linear_model\\_logistic.py:1165: UserWarning: l1_ratio parameter is only used when penalty is 'elasticnet'. Got (penalty=l2)\n",
      "  warnings.warn(\n"
     ]
    },
    {
     "name": "stdout",
     "output_type": "stream",
     "text": [
      "[CV 2/3; 83/2700] END C=0.001, l1_ratio=0.01, max_iter=10000, multi_class=multinomial, penalty=l2, solver=saga;, score=0.474 total time=   4.4s\n",
      "[CV 3/3; 83/2700] START C=0.001, l1_ratio=0.01, max_iter=10000, multi_class=multinomial, penalty=l2, solver=saga\n"
     ]
    },
    {
     "name": "stderr",
     "output_type": "stream",
     "text": [
      "C:\\Users\\User\\anaconda3\\lib\\site-packages\\sklearn\\linear_model\\_logistic.py:1165: UserWarning: l1_ratio parameter is only used when penalty is 'elasticnet'. Got (penalty=l2)\n",
      "  warnings.warn(\n"
     ]
    },
    {
     "name": "stdout",
     "output_type": "stream",
     "text": [
      "[CV 3/3; 83/2700] END C=0.001, l1_ratio=0.01, max_iter=10000, multi_class=multinomial, penalty=l2, solver=saga;, score=0.471 total time=   4.5s\n",
      "[CV 1/3; 84/2700] START C=0.001, l1_ratio=0.01, max_iter=10000, multi_class=multinomial, penalty=l2, solver=sag\n"
     ]
    },
    {
     "name": "stderr",
     "output_type": "stream",
     "text": [
      "C:\\Users\\User\\anaconda3\\lib\\site-packages\\sklearn\\linear_model\\_logistic.py:1165: UserWarning: l1_ratio parameter is only used when penalty is 'elasticnet'. Got (penalty=l2)\n",
      "  warnings.warn(\n"
     ]
    },
    {
     "name": "stdout",
     "output_type": "stream",
     "text": [
      "[CV 1/3; 84/2700] END C=0.001, l1_ratio=0.01, max_iter=10000, multi_class=multinomial, penalty=l2, solver=sag;, score=0.477 total time=   1.3s\n",
      "[CV 2/3; 84/2700] START C=0.001, l1_ratio=0.01, max_iter=10000, multi_class=multinomial, penalty=l2, solver=sag\n"
     ]
    },
    {
     "name": "stderr",
     "output_type": "stream",
     "text": [
      "C:\\Users\\User\\anaconda3\\lib\\site-packages\\sklearn\\linear_model\\_logistic.py:1165: UserWarning: l1_ratio parameter is only used when penalty is 'elasticnet'. Got (penalty=l2)\n",
      "  warnings.warn(\n"
     ]
    },
    {
     "name": "stdout",
     "output_type": "stream",
     "text": [
      "[CV 2/3; 84/2700] END C=0.001, l1_ratio=0.01, max_iter=10000, multi_class=multinomial, penalty=l2, solver=sag;, score=0.474 total time=   1.5s\n",
      "[CV 3/3; 84/2700] START C=0.001, l1_ratio=0.01, max_iter=10000, multi_class=multinomial, penalty=l2, solver=sag\n"
     ]
    },
    {
     "name": "stderr",
     "output_type": "stream",
     "text": [
      "C:\\Users\\User\\anaconda3\\lib\\site-packages\\sklearn\\linear_model\\_logistic.py:1165: UserWarning: l1_ratio parameter is only used when penalty is 'elasticnet'. Got (penalty=l2)\n",
      "  warnings.warn(\n"
     ]
    },
    {
     "name": "stdout",
     "output_type": "stream",
     "text": [
      "[CV 3/3; 84/2700] END C=0.001, l1_ratio=0.01, max_iter=10000, multi_class=multinomial, penalty=l2, solver=sag;, score=0.471 total time=   1.3s\n",
      "[CV 1/3; 85/2700] START C=0.001, l1_ratio=0.01, max_iter=10000, multi_class=multinomial, penalty=l2, solver=newton-cholesky\n",
      "[CV 1/3; 85/2700] END C=0.001, l1_ratio=0.01, max_iter=10000, multi_class=multinomial, penalty=l2, solver=newton-cholesky;, score=nan total time=   0.0s\n",
      "[CV 2/3; 85/2700] START C=0.001, l1_ratio=0.01, max_iter=10000, multi_class=multinomial, penalty=l2, solver=newton-cholesky\n",
      "[CV 2/3; 85/2700] END C=0.001, l1_ratio=0.01, max_iter=10000, multi_class=multinomial, penalty=l2, solver=newton-cholesky;, score=nan total time=   0.0s\n",
      "[CV 3/3; 85/2700] START C=0.001, l1_ratio=0.01, max_iter=10000, multi_class=multinomial, penalty=l2, solver=newton-cholesky\n",
      "[CV 3/3; 85/2700] END C=0.001, l1_ratio=0.01, max_iter=10000, multi_class=multinomial, penalty=l2, solver=newton-cholesky;, score=nan total time=   0.0s\n",
      "[CV 1/3; 86/2700] START C=0.001, l1_ratio=0.01, max_iter=10000, multi_class=multinomial, penalty=elasticnet, solver=lbfgs\n",
      "[CV 1/3; 86/2700] END C=0.001, l1_ratio=0.01, max_iter=10000, multi_class=multinomial, penalty=elasticnet, solver=lbfgs;, score=nan total time=   0.0s\n",
      "[CV 2/3; 86/2700] START C=0.001, l1_ratio=0.01, max_iter=10000, multi_class=multinomial, penalty=elasticnet, solver=lbfgs\n",
      "[CV 2/3; 86/2700] END C=0.001, l1_ratio=0.01, max_iter=10000, multi_class=multinomial, penalty=elasticnet, solver=lbfgs;, score=nan total time=   0.0s\n",
      "[CV 3/3; 86/2700] START C=0.001, l1_ratio=0.01, max_iter=10000, multi_class=multinomial, penalty=elasticnet, solver=lbfgs\n",
      "[CV 3/3; 86/2700] END C=0.001, l1_ratio=0.01, max_iter=10000, multi_class=multinomial, penalty=elasticnet, solver=lbfgs;, score=nan total time=   0.0s\n",
      "[CV 1/3; 87/2700] START C=0.001, l1_ratio=0.01, max_iter=10000, multi_class=multinomial, penalty=elasticnet, solver=liblinear\n",
      "[CV 1/3; 87/2700] END C=0.001, l1_ratio=0.01, max_iter=10000, multi_class=multinomial, penalty=elasticnet, solver=liblinear;, score=nan total time=   0.0s\n",
      "[CV 2/3; 87/2700] START C=0.001, l1_ratio=0.01, max_iter=10000, multi_class=multinomial, penalty=elasticnet, solver=liblinear\n",
      "[CV 2/3; 87/2700] END C=0.001, l1_ratio=0.01, max_iter=10000, multi_class=multinomial, penalty=elasticnet, solver=liblinear;, score=nan total time=   0.0s\n",
      "[CV 3/3; 87/2700] START C=0.001, l1_ratio=0.01, max_iter=10000, multi_class=multinomial, penalty=elasticnet, solver=liblinear\n",
      "[CV 3/3; 87/2700] END C=0.001, l1_ratio=0.01, max_iter=10000, multi_class=multinomial, penalty=elasticnet, solver=liblinear;, score=nan total time=   0.0s\n",
      "[CV 1/3; 88/2700] START C=0.001, l1_ratio=0.01, max_iter=10000, multi_class=multinomial, penalty=elasticnet, solver=saga\n"
     ]
    },
    {
     "name": "stderr",
     "output_type": "stream",
     "text": [
      "C:\\Users\\User\\anaconda3\\lib\\site-packages\\sklearn\\linear_model\\_logistic.py:1165: UserWarning: l1_ratio parameter is only used when penalty is 'elasticnet'. Got (penalty=l2)\n",
      "  warnings.warn(\n",
      "C:\\Users\\User\\anaconda3\\lib\\site-packages\\sklearn\\linear_model\\_logistic.py:1165: UserWarning: l1_ratio parameter is only used when penalty is 'elasticnet'. Got (penalty=l2)\n",
      "  warnings.warn(\n",
      "C:\\Users\\User\\anaconda3\\lib\\site-packages\\sklearn\\linear_model\\_logistic.py:1165: UserWarning: l1_ratio parameter is only used when penalty is 'elasticnet'. Got (penalty=l2)\n",
      "  warnings.warn(\n"
     ]
    },
    {
     "name": "stdout",
     "output_type": "stream",
     "text": [
      "[CV 1/3; 88/2700] END C=0.001, l1_ratio=0.01, max_iter=10000, multi_class=multinomial, penalty=elasticnet, solver=saga;, score=0.475 total time=   6.0s\n",
      "[CV 2/3; 88/2700] START C=0.001, l1_ratio=0.01, max_iter=10000, multi_class=multinomial, penalty=elasticnet, solver=saga\n",
      "[CV 2/3; 88/2700] END C=0.001, l1_ratio=0.01, max_iter=10000, multi_class=multinomial, penalty=elasticnet, solver=saga;, score=0.473 total time=   6.3s\n",
      "[CV 3/3; 88/2700] START C=0.001, l1_ratio=0.01, max_iter=10000, multi_class=multinomial, penalty=elasticnet, solver=saga\n",
      "[CV 3/3; 88/2700] END C=0.001, l1_ratio=0.01, max_iter=10000, multi_class=multinomial, penalty=elasticnet, solver=saga;, score=0.468 total time=   7.3s\n",
      "[CV 1/3; 89/2700] START C=0.001, l1_ratio=0.01, max_iter=10000, multi_class=multinomial, penalty=elasticnet, solver=sag\n",
      "[CV 1/3; 89/2700] END C=0.001, l1_ratio=0.01, max_iter=10000, multi_class=multinomial, penalty=elasticnet, solver=sag;, score=nan total time=   0.0s\n",
      "[CV 2/3; 89/2700] START C=0.001, l1_ratio=0.01, max_iter=10000, multi_class=multinomial, penalty=elasticnet, solver=sag\n",
      "[CV 2/3; 89/2700] END C=0.001, l1_ratio=0.01, max_iter=10000, multi_class=multinomial, penalty=elasticnet, solver=sag;, score=nan total time=   0.0s\n",
      "[CV 3/3; 89/2700] START C=0.001, l1_ratio=0.01, max_iter=10000, multi_class=multinomial, penalty=elasticnet, solver=sag\n",
      "[CV 3/3; 89/2700] END C=0.001, l1_ratio=0.01, max_iter=10000, multi_class=multinomial, penalty=elasticnet, solver=sag;, score=nan total time=   0.0s\n",
      "[CV 1/3; 90/2700] START C=0.001, l1_ratio=0.01, max_iter=10000, multi_class=multinomial, penalty=elasticnet, solver=newton-cholesky\n",
      "[CV 1/3; 90/2700] END C=0.001, l1_ratio=0.01, max_iter=10000, multi_class=multinomial, penalty=elasticnet, solver=newton-cholesky;, score=nan total time=   0.0s\n",
      "[CV 2/3; 90/2700] START C=0.001, l1_ratio=0.01, max_iter=10000, multi_class=multinomial, penalty=elasticnet, solver=newton-cholesky\n",
      "[CV 2/3; 90/2700] END C=0.001, l1_ratio=0.01, max_iter=10000, multi_class=multinomial, penalty=elasticnet, solver=newton-cholesky;, score=nan total time=   0.0s\n",
      "[CV 3/3; 90/2700] START C=0.001, l1_ratio=0.01, max_iter=10000, multi_class=multinomial, penalty=elasticnet, solver=newton-cholesky\n",
      "[CV 3/3; 90/2700] END C=0.001, l1_ratio=0.01, max_iter=10000, multi_class=multinomial, penalty=elasticnet, solver=newton-cholesky;, score=nan total time=   0.0s\n",
      "[CV 1/3; 91/2700] START C=0.001, l1_ratio=0.2575, max_iter=100, multi_class=ovr, penalty=l1, solver=lbfgs\n",
      "[CV 1/3; 91/2700] END C=0.001, l1_ratio=0.2575, max_iter=100, multi_class=ovr, penalty=l1, solver=lbfgs;, score=nan total time=   0.0s\n",
      "[CV 2/3; 91/2700] START C=0.001, l1_ratio=0.2575, max_iter=100, multi_class=ovr, penalty=l1, solver=lbfgs\n",
      "[CV 2/3; 91/2700] END C=0.001, l1_ratio=0.2575, max_iter=100, multi_class=ovr, penalty=l1, solver=lbfgs;, score=nan total time=   0.0s\n",
      "[CV 3/3; 91/2700] START C=0.001, l1_ratio=0.2575, max_iter=100, multi_class=ovr, penalty=l1, solver=lbfgs\n",
      "[CV 3/3; 91/2700] END C=0.001, l1_ratio=0.2575, max_iter=100, multi_class=ovr, penalty=l1, solver=lbfgs;, score=nan total time=   0.0s\n",
      "[CV 1/3; 92/2700] START C=0.001, l1_ratio=0.2575, max_iter=100, multi_class=ovr, penalty=l1, solver=liblinear\n"
     ]
    },
    {
     "name": "stderr",
     "output_type": "stream",
     "text": [
      "C:\\Users\\User\\anaconda3\\lib\\site-packages\\sklearn\\linear_model\\_logistic.py:1165: UserWarning: l1_ratio parameter is only used when penalty is 'elasticnet'. Got (penalty=l1)\n",
      "  warnings.warn(\n"
     ]
    },
    {
     "name": "stdout",
     "output_type": "stream",
     "text": [
      "[CV 1/3; 92/2700] END C=0.001, l1_ratio=0.2575, max_iter=100, multi_class=ovr, penalty=l1, solver=liblinear;, score=0.458 total time=   0.1s\n",
      "[CV 2/3; 92/2700] START C=0.001, l1_ratio=0.2575, max_iter=100, multi_class=ovr, penalty=l1, solver=liblinear\n"
     ]
    },
    {
     "name": "stderr",
     "output_type": "stream",
     "text": [
      "C:\\Users\\User\\anaconda3\\lib\\site-packages\\sklearn\\linear_model\\_logistic.py:1165: UserWarning: l1_ratio parameter is only used when penalty is 'elasticnet'. Got (penalty=l1)\n",
      "  warnings.warn(\n"
     ]
    },
    {
     "name": "stdout",
     "output_type": "stream",
     "text": [
      "[CV 2/3; 92/2700] END C=0.001, l1_ratio=0.2575, max_iter=100, multi_class=ovr, penalty=l1, solver=liblinear;, score=0.460 total time=   0.1s\n",
      "[CV 3/3; 92/2700] START C=0.001, l1_ratio=0.2575, max_iter=100, multi_class=ovr, penalty=l1, solver=liblinear\n"
     ]
    },
    {
     "name": "stderr",
     "output_type": "stream",
     "text": [
      "C:\\Users\\User\\anaconda3\\lib\\site-packages\\sklearn\\linear_model\\_logistic.py:1165: UserWarning: l1_ratio parameter is only used when penalty is 'elasticnet'. Got (penalty=l1)\n",
      "  warnings.warn(\n"
     ]
    },
    {
     "name": "stdout",
     "output_type": "stream",
     "text": [
      "[CV 3/3; 92/2700] END C=0.001, l1_ratio=0.2575, max_iter=100, multi_class=ovr, penalty=l1, solver=liblinear;, score=0.453 total time=   0.1s\n",
      "[CV 1/3; 93/2700] START C=0.001, l1_ratio=0.2575, max_iter=100, multi_class=ovr, penalty=l1, solver=saga\n"
     ]
    },
    {
     "name": "stderr",
     "output_type": "stream",
     "text": [
      "C:\\Users\\User\\anaconda3\\lib\\site-packages\\sklearn\\linear_model\\_logistic.py:1165: UserWarning: l1_ratio parameter is only used when penalty is 'elasticnet'. Got (penalty=l1)\n",
      "  warnings.warn(\n"
     ]
    },
    {
     "name": "stdout",
     "output_type": "stream",
     "text": [
      "[CV 1/3; 93/2700] END C=0.001, l1_ratio=0.2575, max_iter=100, multi_class=ovr, penalty=l1, solver=saga;, score=0.306 total time=   2.3s\n",
      "[CV 2/3; 93/2700] START C=0.001, l1_ratio=0.2575, max_iter=100, multi_class=ovr, penalty=l1, solver=saga\n"
     ]
    },
    {
     "name": "stderr",
     "output_type": "stream",
     "text": [
      "C:\\Users\\User\\anaconda3\\lib\\site-packages\\sklearn\\linear_model\\_logistic.py:1165: UserWarning: l1_ratio parameter is only used when penalty is 'elasticnet'. Got (penalty=l1)\n",
      "  warnings.warn(\n"
     ]
    },
    {
     "name": "stdout",
     "output_type": "stream",
     "text": [
      "[CV 2/3; 93/2700] END C=0.001, l1_ratio=0.2575, max_iter=100, multi_class=ovr, penalty=l1, solver=saga;, score=0.306 total time=   2.1s\n",
      "[CV 3/3; 93/2700] START C=0.001, l1_ratio=0.2575, max_iter=100, multi_class=ovr, penalty=l1, solver=saga\n"
     ]
    },
    {
     "name": "stderr",
     "output_type": "stream",
     "text": [
      "C:\\Users\\User\\anaconda3\\lib\\site-packages\\sklearn\\linear_model\\_logistic.py:1165: UserWarning: l1_ratio parameter is only used when penalty is 'elasticnet'. Got (penalty=l1)\n",
      "  warnings.warn(\n"
     ]
    },
    {
     "name": "stdout",
     "output_type": "stream",
     "text": [
      "[CV 3/3; 93/2700] END C=0.001, l1_ratio=0.2575, max_iter=100, multi_class=ovr, penalty=l1, solver=saga;, score=0.306 total time=   1.9s\n",
      "[CV 1/3; 94/2700] START C=0.001, l1_ratio=0.2575, max_iter=100, multi_class=ovr, penalty=l1, solver=sag\n",
      "[CV 1/3; 94/2700] END C=0.001, l1_ratio=0.2575, max_iter=100, multi_class=ovr, penalty=l1, solver=sag;, score=nan total time=   0.0s\n",
      "[CV 2/3; 94/2700] START C=0.001, l1_ratio=0.2575, max_iter=100, multi_class=ovr, penalty=l1, solver=sag\n",
      "[CV 2/3; 94/2700] END C=0.001, l1_ratio=0.2575, max_iter=100, multi_class=ovr, penalty=l1, solver=sag;, score=nan total time=   0.0s\n",
      "[CV 3/3; 94/2700] START C=0.001, l1_ratio=0.2575, max_iter=100, multi_class=ovr, penalty=l1, solver=sag\n",
      "[CV 3/3; 94/2700] END C=0.001, l1_ratio=0.2575, max_iter=100, multi_class=ovr, penalty=l1, solver=sag;, score=nan total time=   0.0s\n",
      "[CV 1/3; 95/2700] START C=0.001, l1_ratio=0.2575, max_iter=100, multi_class=ovr, penalty=l1, solver=newton-cholesky\n",
      "[CV 1/3; 95/2700] END C=0.001, l1_ratio=0.2575, max_iter=100, multi_class=ovr, penalty=l1, solver=newton-cholesky;, score=nan total time=   0.0s\n",
      "[CV 2/3; 95/2700] START C=0.001, l1_ratio=0.2575, max_iter=100, multi_class=ovr, penalty=l1, solver=newton-cholesky\n",
      "[CV 2/3; 95/2700] END C=0.001, l1_ratio=0.2575, max_iter=100, multi_class=ovr, penalty=l1, solver=newton-cholesky;, score=nan total time=   0.0s\n",
      "[CV 3/3; 95/2700] START C=0.001, l1_ratio=0.2575, max_iter=100, multi_class=ovr, penalty=l1, solver=newton-cholesky\n",
      "[CV 3/3; 95/2700] END C=0.001, l1_ratio=0.2575, max_iter=100, multi_class=ovr, penalty=l1, solver=newton-cholesky;, score=nan total time=   0.0s\n",
      "[CV 1/3; 96/2700] START C=0.001, l1_ratio=0.2575, max_iter=100, multi_class=ovr, penalty=l2, solver=lbfgs\n"
     ]
    },
    {
     "name": "stderr",
     "output_type": "stream",
     "text": [
      "C:\\Users\\User\\anaconda3\\lib\\site-packages\\sklearn\\linear_model\\_logistic.py:1165: UserWarning: l1_ratio parameter is only used when penalty is 'elasticnet'. Got (penalty=l2)\n",
      "  warnings.warn(\n"
     ]
    },
    {
     "name": "stdout",
     "output_type": "stream",
     "text": [
      "[CV 1/3; 96/2700] END C=0.001, l1_ratio=0.2575, max_iter=100, multi_class=ovr, penalty=l2, solver=lbfgs;, score=0.469 total time=   0.5s\n",
      "[CV 2/3; 96/2700] START C=0.001, l1_ratio=0.2575, max_iter=100, multi_class=ovr, penalty=l2, solver=lbfgs\n"
     ]
    },
    {
     "name": "stderr",
     "output_type": "stream",
     "text": [
      "C:\\Users\\User\\anaconda3\\lib\\site-packages\\sklearn\\linear_model\\_logistic.py:1165: UserWarning: l1_ratio parameter is only used when penalty is 'elasticnet'. Got (penalty=l2)\n",
      "  warnings.warn(\n"
     ]
    },
    {
     "name": "stdout",
     "output_type": "stream",
     "text": [
      "[CV 2/3; 96/2700] END C=0.001, l1_ratio=0.2575, max_iter=100, multi_class=ovr, penalty=l2, solver=lbfgs;, score=0.468 total time=   0.5s\n",
      "[CV 3/3; 96/2700] START C=0.001, l1_ratio=0.2575, max_iter=100, multi_class=ovr, penalty=l2, solver=lbfgs\n"
     ]
    },
    {
     "name": "stderr",
     "output_type": "stream",
     "text": [
      "C:\\Users\\User\\anaconda3\\lib\\site-packages\\sklearn\\linear_model\\_logistic.py:1165: UserWarning: l1_ratio parameter is only used when penalty is 'elasticnet'. Got (penalty=l2)\n",
      "  warnings.warn(\n"
     ]
    },
    {
     "name": "stdout",
     "output_type": "stream",
     "text": [
      "[CV 3/3; 96/2700] END C=0.001, l1_ratio=0.2575, max_iter=100, multi_class=ovr, penalty=l2, solver=lbfgs;, score=0.464 total time=   0.7s\n",
      "[CV 1/3; 97/2700] START C=0.001, l1_ratio=0.2575, max_iter=100, multi_class=ovr, penalty=l2, solver=liblinear\n"
     ]
    },
    {
     "name": "stderr",
     "output_type": "stream",
     "text": [
      "C:\\Users\\User\\anaconda3\\lib\\site-packages\\sklearn\\linear_model\\_logistic.py:1165: UserWarning: l1_ratio parameter is only used when penalty is 'elasticnet'. Got (penalty=l2)\n",
      "  warnings.warn(\n"
     ]
    },
    {
     "name": "stdout",
     "output_type": "stream",
     "text": [
      "[CV 1/3; 97/2700] END C=0.001, l1_ratio=0.2575, max_iter=100, multi_class=ovr, penalty=l2, solver=liblinear;, score=0.469 total time=   0.2s\n",
      "[CV 2/3; 97/2700] START C=0.001, l1_ratio=0.2575, max_iter=100, multi_class=ovr, penalty=l2, solver=liblinear\n"
     ]
    },
    {
     "name": "stderr",
     "output_type": "stream",
     "text": [
      "C:\\Users\\User\\anaconda3\\lib\\site-packages\\sklearn\\linear_model\\_logistic.py:1165: UserWarning: l1_ratio parameter is only used when penalty is 'elasticnet'. Got (penalty=l2)\n",
      "  warnings.warn(\n"
     ]
    },
    {
     "name": "stdout",
     "output_type": "stream",
     "text": [
      "[CV 2/3; 97/2700] END C=0.001, l1_ratio=0.2575, max_iter=100, multi_class=ovr, penalty=l2, solver=liblinear;, score=0.467 total time=   0.3s\n",
      "[CV 3/3; 97/2700] START C=0.001, l1_ratio=0.2575, max_iter=100, multi_class=ovr, penalty=l2, solver=liblinear\n"
     ]
    },
    {
     "name": "stderr",
     "output_type": "stream",
     "text": [
      "C:\\Users\\User\\anaconda3\\lib\\site-packages\\sklearn\\linear_model\\_logistic.py:1165: UserWarning: l1_ratio parameter is only used when penalty is 'elasticnet'. Got (penalty=l2)\n",
      "  warnings.warn(\n"
     ]
    },
    {
     "name": "stdout",
     "output_type": "stream",
     "text": [
      "[CV 3/3; 97/2700] END C=0.001, l1_ratio=0.2575, max_iter=100, multi_class=ovr, penalty=l2, solver=liblinear;, score=0.465 total time=   0.2s\n",
      "[CV 1/3; 98/2700] START C=0.001, l1_ratio=0.2575, max_iter=100, multi_class=ovr, penalty=l2, solver=saga\n"
     ]
    },
    {
     "name": "stderr",
     "output_type": "stream",
     "text": [
      "C:\\Users\\User\\anaconda3\\lib\\site-packages\\sklearn\\linear_model\\_logistic.py:1165: UserWarning: l1_ratio parameter is only used when penalty is 'elasticnet'. Got (penalty=l2)\n",
      "  warnings.warn(\n"
     ]
    },
    {
     "name": "stdout",
     "output_type": "stream",
     "text": [
      "[CV 1/3; 98/2700] END C=0.001, l1_ratio=0.2575, max_iter=100, multi_class=ovr, penalty=l2, solver=saga;, score=0.469 total time=   5.7s\n",
      "[CV 2/3; 98/2700] START C=0.001, l1_ratio=0.2575, max_iter=100, multi_class=ovr, penalty=l2, solver=saga\n"
     ]
    },
    {
     "name": "stderr",
     "output_type": "stream",
     "text": [
      "C:\\Users\\User\\anaconda3\\lib\\site-packages\\sklearn\\linear_model\\_logistic.py:1165: UserWarning: l1_ratio parameter is only used when penalty is 'elasticnet'. Got (penalty=l2)\n",
      "  warnings.warn(\n"
     ]
    },
    {
     "name": "stdout",
     "output_type": "stream",
     "text": [
      "[CV 2/3; 98/2700] END C=0.001, l1_ratio=0.2575, max_iter=100, multi_class=ovr, penalty=l2, solver=saga;, score=0.468 total time=   5.8s\n",
      "[CV 3/3; 98/2700] START C=0.001, l1_ratio=0.2575, max_iter=100, multi_class=ovr, penalty=l2, solver=saga\n"
     ]
    },
    {
     "name": "stderr",
     "output_type": "stream",
     "text": [
      "C:\\Users\\User\\anaconda3\\lib\\site-packages\\sklearn\\linear_model\\_logistic.py:1165: UserWarning: l1_ratio parameter is only used when penalty is 'elasticnet'. Got (penalty=l2)\n",
      "  warnings.warn(\n"
     ]
    },
    {
     "name": "stdout",
     "output_type": "stream",
     "text": [
      "[CV 3/3; 98/2700] END C=0.001, l1_ratio=0.2575, max_iter=100, multi_class=ovr, penalty=l2, solver=saga;, score=0.464 total time=   6.3s\n",
      "[CV 1/3; 99/2700] START C=0.001, l1_ratio=0.2575, max_iter=100, multi_class=ovr, penalty=l2, solver=sag\n"
     ]
    },
    {
     "name": "stderr",
     "output_type": "stream",
     "text": [
      "C:\\Users\\User\\anaconda3\\lib\\site-packages\\sklearn\\linear_model\\_logistic.py:1165: UserWarning: l1_ratio parameter is only used when penalty is 'elasticnet'. Got (penalty=l2)\n",
      "  warnings.warn(\n"
     ]
    },
    {
     "name": "stdout",
     "output_type": "stream",
     "text": [
      "[CV 1/3; 99/2700] END C=0.001, l1_ratio=0.2575, max_iter=100, multi_class=ovr, penalty=l2, solver=sag;, score=0.469 total time=   2.5s\n",
      "[CV 2/3; 99/2700] START C=0.001, l1_ratio=0.2575, max_iter=100, multi_class=ovr, penalty=l2, solver=sag\n"
     ]
    },
    {
     "name": "stderr",
     "output_type": "stream",
     "text": [
      "C:\\Users\\User\\anaconda3\\lib\\site-packages\\sklearn\\linear_model\\_logistic.py:1165: UserWarning: l1_ratio parameter is only used when penalty is 'elasticnet'. Got (penalty=l2)\n",
      "  warnings.warn(\n"
     ]
    },
    {
     "name": "stdout",
     "output_type": "stream",
     "text": [
      "[CV 2/3; 99/2700] END C=0.001, l1_ratio=0.2575, max_iter=100, multi_class=ovr, penalty=l2, solver=sag;, score=0.468 total time=   2.4s\n",
      "[CV 3/3; 99/2700] START C=0.001, l1_ratio=0.2575, max_iter=100, multi_class=ovr, penalty=l2, solver=sag\n"
     ]
    },
    {
     "name": "stderr",
     "output_type": "stream",
     "text": [
      "C:\\Users\\User\\anaconda3\\lib\\site-packages\\sklearn\\linear_model\\_logistic.py:1165: UserWarning: l1_ratio parameter is only used when penalty is 'elasticnet'. Got (penalty=l2)\n",
      "  warnings.warn(\n"
     ]
    },
    {
     "name": "stdout",
     "output_type": "stream",
     "text": [
      "[CV 3/3; 99/2700] END C=0.001, l1_ratio=0.2575, max_iter=100, multi_class=ovr, penalty=l2, solver=sag;, score=0.464 total time=   2.5s\n",
      "[CV 1/3; 100/2700] START C=0.001, l1_ratio=0.2575, max_iter=100, multi_class=ovr, penalty=l2, solver=newton-cholesky\n"
     ]
    },
    {
     "name": "stderr",
     "output_type": "stream",
     "text": [
      "C:\\Users\\User\\anaconda3\\lib\\site-packages\\sklearn\\linear_model\\_logistic.py:1165: UserWarning: l1_ratio parameter is only used when penalty is 'elasticnet'. Got (penalty=l2)\n",
      "  warnings.warn(\n"
     ]
    },
    {
     "name": "stdout",
     "output_type": "stream",
     "text": [
      "[CV 1/3; 100/2700] END C=0.001, l1_ratio=0.2575, max_iter=100, multi_class=ovr, penalty=l2, solver=newton-cholesky;, score=0.469 total time=   1.3s\n",
      "[CV 2/3; 100/2700] START C=0.001, l1_ratio=0.2575, max_iter=100, multi_class=ovr, penalty=l2, solver=newton-cholesky\n"
     ]
    },
    {
     "name": "stderr",
     "output_type": "stream",
     "text": [
      "C:\\Users\\User\\anaconda3\\lib\\site-packages\\sklearn\\linear_model\\_logistic.py:1165: UserWarning: l1_ratio parameter is only used when penalty is 'elasticnet'. Got (penalty=l2)\n",
      "  warnings.warn(\n"
     ]
    },
    {
     "name": "stdout",
     "output_type": "stream",
     "text": [
      "[CV 2/3; 100/2700] END C=0.001, l1_ratio=0.2575, max_iter=100, multi_class=ovr, penalty=l2, solver=newton-cholesky;, score=0.468 total time=   1.4s\n",
      "[CV 3/3; 100/2700] START C=0.001, l1_ratio=0.2575, max_iter=100, multi_class=ovr, penalty=l2, solver=newton-cholesky\n"
     ]
    },
    {
     "name": "stderr",
     "output_type": "stream",
     "text": [
      "C:\\Users\\User\\anaconda3\\lib\\site-packages\\sklearn\\linear_model\\_logistic.py:1165: UserWarning: l1_ratio parameter is only used when penalty is 'elasticnet'. Got (penalty=l2)\n",
      "  warnings.warn(\n"
     ]
    },
    {
     "name": "stdout",
     "output_type": "stream",
     "text": [
      "[CV 3/3; 100/2700] END C=0.001, l1_ratio=0.2575, max_iter=100, multi_class=ovr, penalty=l2, solver=newton-cholesky;, score=0.464 total time=   1.6s\n",
      "[CV 1/3; 101/2700] START C=0.001, l1_ratio=0.2575, max_iter=100, multi_class=ovr, penalty=elasticnet, solver=lbfgs\n",
      "[CV 1/3; 101/2700] END C=0.001, l1_ratio=0.2575, max_iter=100, multi_class=ovr, penalty=elasticnet, solver=lbfgs;, score=nan total time=   0.0s\n",
      "[CV 2/3; 101/2700] START C=0.001, l1_ratio=0.2575, max_iter=100, multi_class=ovr, penalty=elasticnet, solver=lbfgs\n",
      "[CV 2/3; 101/2700] END C=0.001, l1_ratio=0.2575, max_iter=100, multi_class=ovr, penalty=elasticnet, solver=lbfgs;, score=nan total time=   0.0s\n",
      "[CV 3/3; 101/2700] START C=0.001, l1_ratio=0.2575, max_iter=100, multi_class=ovr, penalty=elasticnet, solver=lbfgs\n",
      "[CV 3/3; 101/2700] END C=0.001, l1_ratio=0.2575, max_iter=100, multi_class=ovr, penalty=elasticnet, solver=lbfgs;, score=nan total time=   0.0s\n",
      "[CV 1/3; 102/2700] START C=0.001, l1_ratio=0.2575, max_iter=100, multi_class=ovr, penalty=elasticnet, solver=liblinear\n",
      "[CV 1/3; 102/2700] END C=0.001, l1_ratio=0.2575, max_iter=100, multi_class=ovr, penalty=elasticnet, solver=liblinear;, score=nan total time=   0.0s\n",
      "[CV 2/3; 102/2700] START C=0.001, l1_ratio=0.2575, max_iter=100, multi_class=ovr, penalty=elasticnet, solver=liblinear\n",
      "[CV 2/3; 102/2700] END C=0.001, l1_ratio=0.2575, max_iter=100, multi_class=ovr, penalty=elasticnet, solver=liblinear;, score=nan total time=   0.0s\n",
      "[CV 3/3; 102/2700] START C=0.001, l1_ratio=0.2575, max_iter=100, multi_class=ovr, penalty=elasticnet, solver=liblinear\n",
      "[CV 3/3; 102/2700] END C=0.001, l1_ratio=0.2575, max_iter=100, multi_class=ovr, penalty=elasticnet, solver=liblinear;, score=nan total time=   0.0s\n",
      "[CV 1/3; 103/2700] START C=0.001, l1_ratio=0.2575, max_iter=100, multi_class=ovr, penalty=elasticnet, solver=saga\n",
      "[CV 1/3; 103/2700] END C=0.001, l1_ratio=0.2575, max_iter=100, multi_class=ovr, penalty=elasticnet, solver=saga;, score=0.461 total time=   6.2s\n",
      "[CV 2/3; 103/2700] START C=0.001, l1_ratio=0.2575, max_iter=100, multi_class=ovr, penalty=elasticnet, solver=saga\n",
      "[CV 2/3; 103/2700] END C=0.001, l1_ratio=0.2575, max_iter=100, multi_class=ovr, penalty=elasticnet, solver=saga;, score=0.459 total time=   5.4s\n",
      "[CV 3/3; 103/2700] START C=0.001, l1_ratio=0.2575, max_iter=100, multi_class=ovr, penalty=elasticnet, solver=saga\n",
      "[CV 3/3; 103/2700] END C=0.001, l1_ratio=0.2575, max_iter=100, multi_class=ovr, penalty=elasticnet, solver=saga;, score=0.455 total time=   6.0s\n",
      "[CV 1/3; 104/2700] START C=0.001, l1_ratio=0.2575, max_iter=100, multi_class=ovr, penalty=elasticnet, solver=sag\n",
      "[CV 1/3; 104/2700] END C=0.001, l1_ratio=0.2575, max_iter=100, multi_class=ovr, penalty=elasticnet, solver=sag;, score=nan total time=   0.0s\n",
      "[CV 2/3; 104/2700] START C=0.001, l1_ratio=0.2575, max_iter=100, multi_class=ovr, penalty=elasticnet, solver=sag\n",
      "[CV 2/3; 104/2700] END C=0.001, l1_ratio=0.2575, max_iter=100, multi_class=ovr, penalty=elasticnet, solver=sag;, score=nan total time=   0.0s\n",
      "[CV 3/3; 104/2700] START C=0.001, l1_ratio=0.2575, max_iter=100, multi_class=ovr, penalty=elasticnet, solver=sag\n",
      "[CV 3/3; 104/2700] END C=0.001, l1_ratio=0.2575, max_iter=100, multi_class=ovr, penalty=elasticnet, solver=sag;, score=nan total time=   0.0s\n",
      "[CV 1/3; 105/2700] START C=0.001, l1_ratio=0.2575, max_iter=100, multi_class=ovr, penalty=elasticnet, solver=newton-cholesky\n",
      "[CV 1/3; 105/2700] END C=0.001, l1_ratio=0.2575, max_iter=100, multi_class=ovr, penalty=elasticnet, solver=newton-cholesky;, score=nan total time=   0.0s\n",
      "[CV 2/3; 105/2700] START C=0.001, l1_ratio=0.2575, max_iter=100, multi_class=ovr, penalty=elasticnet, solver=newton-cholesky\n",
      "[CV 2/3; 105/2700] END C=0.001, l1_ratio=0.2575, max_iter=100, multi_class=ovr, penalty=elasticnet, solver=newton-cholesky;, score=nan total time=   0.0s\n",
      "[CV 3/3; 105/2700] START C=0.001, l1_ratio=0.2575, max_iter=100, multi_class=ovr, penalty=elasticnet, solver=newton-cholesky\n",
      "[CV 3/3; 105/2700] END C=0.001, l1_ratio=0.2575, max_iter=100, multi_class=ovr, penalty=elasticnet, solver=newton-cholesky;, score=nan total time=   0.0s\n",
      "[CV 1/3; 106/2700] START C=0.001, l1_ratio=0.2575, max_iter=100, multi_class=multinomial, penalty=l1, solver=lbfgs\n",
      "[CV 1/3; 106/2700] END C=0.001, l1_ratio=0.2575, max_iter=100, multi_class=multinomial, penalty=l1, solver=lbfgs;, score=nan total time=   0.0s\n",
      "[CV 2/3; 106/2700] START C=0.001, l1_ratio=0.2575, max_iter=100, multi_class=multinomial, penalty=l1, solver=lbfgs\n",
      "[CV 2/3; 106/2700] END C=0.001, l1_ratio=0.2575, max_iter=100, multi_class=multinomial, penalty=l1, solver=lbfgs;, score=nan total time=   0.0s\n",
      "[CV 3/3; 106/2700] START C=0.001, l1_ratio=0.2575, max_iter=100, multi_class=multinomial, penalty=l1, solver=lbfgs\n",
      "[CV 3/3; 106/2700] END C=0.001, l1_ratio=0.2575, max_iter=100, multi_class=multinomial, penalty=l1, solver=lbfgs;, score=nan total time=   0.0s\n",
      "[CV 1/3; 107/2700] START C=0.001, l1_ratio=0.2575, max_iter=100, multi_class=multinomial, penalty=l1, solver=liblinear\n",
      "[CV 1/3; 107/2700] END C=0.001, l1_ratio=0.2575, max_iter=100, multi_class=multinomial, penalty=l1, solver=liblinear;, score=nan total time=   0.0s\n",
      "[CV 2/3; 107/2700] START C=0.001, l1_ratio=0.2575, max_iter=100, multi_class=multinomial, penalty=l1, solver=liblinear\n",
      "[CV 2/3; 107/2700] END C=0.001, l1_ratio=0.2575, max_iter=100, multi_class=multinomial, penalty=l1, solver=liblinear;, score=nan total time=   0.0s\n",
      "[CV 3/3; 107/2700] START C=0.001, l1_ratio=0.2575, max_iter=100, multi_class=multinomial, penalty=l1, solver=liblinear\n"
     ]
    },
    {
     "name": "stderr",
     "output_type": "stream",
     "text": [
      "C:\\Users\\User\\anaconda3\\lib\\site-packages\\sklearn\\linear_model\\_logistic.py:1165: UserWarning: l1_ratio parameter is only used when penalty is 'elasticnet'. Got (penalty=l1)\n",
      "  warnings.warn(\n",
      "C:\\Users\\User\\anaconda3\\lib\\site-packages\\sklearn\\linear_model\\_logistic.py:1165: UserWarning: l1_ratio parameter is only used when penalty is 'elasticnet'. Got (penalty=l1)\n",
      "  warnings.warn(\n",
      "C:\\Users\\User\\anaconda3\\lib\\site-packages\\sklearn\\linear_model\\_logistic.py:1165: UserWarning: l1_ratio parameter is only used when penalty is 'elasticnet'. Got (penalty=l1)\n",
      "  warnings.warn(\n",
      "C:\\Users\\User\\anaconda3\\lib\\site-packages\\sklearn\\linear_model\\_logistic.py:1165: UserWarning: l1_ratio parameter is only used when penalty is 'elasticnet'. Got (penalty=l1)\n",
      "  warnings.warn(\n"
     ]
    },
    {
     "name": "stdout",
     "output_type": "stream",
     "text": [
      "[CV 3/3; 107/2700] END C=0.001, l1_ratio=0.2575, max_iter=100, multi_class=multinomial, penalty=l1, solver=liblinear;, score=nan total time=   0.0s\n",
      "[CV 1/3; 108/2700] START C=0.001, l1_ratio=0.2575, max_iter=100, multi_class=multinomial, penalty=l1, solver=saga\n",
      "[CV 1/3; 108/2700] END C=0.001, l1_ratio=0.2575, max_iter=100, multi_class=multinomial, penalty=l1, solver=saga;, score=0.306 total time=   3.7s\n",
      "[CV 2/3; 108/2700] START C=0.001, l1_ratio=0.2575, max_iter=100, multi_class=multinomial, penalty=l1, solver=saga\n"
     ]
    },
    {
     "name": "stderr",
     "output_type": "stream",
     "text": [
      "C:\\Users\\User\\anaconda3\\lib\\site-packages\\sklearn\\linear_model\\_logistic.py:1165: UserWarning: l1_ratio parameter is only used when penalty is 'elasticnet'. Got (penalty=l1)\n",
      "  warnings.warn(\n"
     ]
    },
    {
     "name": "stdout",
     "output_type": "stream",
     "text": [
      "[CV 2/3; 108/2700] END C=0.001, l1_ratio=0.2575, max_iter=100, multi_class=multinomial, penalty=l1, solver=saga;, score=0.306 total time=   4.6s\n",
      "[CV 3/3; 108/2700] START C=0.001, l1_ratio=0.2575, max_iter=100, multi_class=multinomial, penalty=l1, solver=saga\n"
     ]
    },
    {
     "name": "stderr",
     "output_type": "stream",
     "text": [
      "C:\\Users\\User\\anaconda3\\lib\\site-packages\\sklearn\\linear_model\\_logistic.py:1165: UserWarning: l1_ratio parameter is only used when penalty is 'elasticnet'. Got (penalty=l1)\n",
      "  warnings.warn(\n"
     ]
    },
    {
     "name": "stdout",
     "output_type": "stream",
     "text": [
      "[CV 3/3; 108/2700] END C=0.001, l1_ratio=0.2575, max_iter=100, multi_class=multinomial, penalty=l1, solver=saga;, score=0.306 total time=   5.4s\n",
      "[CV 1/3; 109/2700] START C=0.001, l1_ratio=0.2575, max_iter=100, multi_class=multinomial, penalty=l1, solver=sag\n",
      "[CV 1/3; 109/2700] END C=0.001, l1_ratio=0.2575, max_iter=100, multi_class=multinomial, penalty=l1, solver=sag;, score=nan total time=   0.0s\n",
      "[CV 2/3; 109/2700] START C=0.001, l1_ratio=0.2575, max_iter=100, multi_class=multinomial, penalty=l1, solver=sag\n",
      "[CV 2/3; 109/2700] END C=0.001, l1_ratio=0.2575, max_iter=100, multi_class=multinomial, penalty=l1, solver=sag;, score=nan total time=   0.0s\n",
      "[CV 3/3; 109/2700] START C=0.001, l1_ratio=0.2575, max_iter=100, multi_class=multinomial, penalty=l1, solver=sag\n",
      "[CV 3/3; 109/2700] END C=0.001, l1_ratio=0.2575, max_iter=100, multi_class=multinomial, penalty=l1, solver=sag;, score=nan total time=   0.0s\n",
      "[CV 1/3; 110/2700] START C=0.001, l1_ratio=0.2575, max_iter=100, multi_class=multinomial, penalty=l1, solver=newton-cholesky\n",
      "[CV 1/3; 110/2700] END C=0.001, l1_ratio=0.2575, max_iter=100, multi_class=multinomial, penalty=l1, solver=newton-cholesky;, score=nan total time=   0.0s\n",
      "[CV 2/3; 110/2700] START C=0.001, l1_ratio=0.2575, max_iter=100, multi_class=multinomial, penalty=l1, solver=newton-cholesky\n",
      "[CV 2/3; 110/2700] END C=0.001, l1_ratio=0.2575, max_iter=100, multi_class=multinomial, penalty=l1, solver=newton-cholesky;, score=nan total time=   0.0s\n",
      "[CV 3/3; 110/2700] START C=0.001, l1_ratio=0.2575, max_iter=100, multi_class=multinomial, penalty=l1, solver=newton-cholesky\n",
      "[CV 3/3; 110/2700] END C=0.001, l1_ratio=0.2575, max_iter=100, multi_class=multinomial, penalty=l1, solver=newton-cholesky;, score=nan total time=   0.0s\n",
      "[CV 1/3; 111/2700] START C=0.001, l1_ratio=0.2575, max_iter=100, multi_class=multinomial, penalty=l2, solver=lbfgs\n"
     ]
    },
    {
     "name": "stderr",
     "output_type": "stream",
     "text": [
      "C:\\Users\\User\\anaconda3\\lib\\site-packages\\sklearn\\linear_model\\_logistic.py:1165: UserWarning: l1_ratio parameter is only used when penalty is 'elasticnet'. Got (penalty=l2)\n",
      "  warnings.warn(\n"
     ]
    },
    {
     "name": "stdout",
     "output_type": "stream",
     "text": [
      "[CV 1/3; 111/2700] END C=0.001, l1_ratio=0.2575, max_iter=100, multi_class=multinomial, penalty=l2, solver=lbfgs;, score=0.478 total time=   0.6s\n",
      "[CV 2/3; 111/2700] START C=0.001, l1_ratio=0.2575, max_iter=100, multi_class=multinomial, penalty=l2, solver=lbfgs\n"
     ]
    },
    {
     "name": "stderr",
     "output_type": "stream",
     "text": [
      "C:\\Users\\User\\anaconda3\\lib\\site-packages\\sklearn\\linear_model\\_logistic.py:1165: UserWarning: l1_ratio parameter is only used when penalty is 'elasticnet'. Got (penalty=l2)\n",
      "  warnings.warn(\n"
     ]
    },
    {
     "name": "stdout",
     "output_type": "stream",
     "text": [
      "[CV 2/3; 111/2700] END C=0.001, l1_ratio=0.2575, max_iter=100, multi_class=multinomial, penalty=l2, solver=lbfgs;, score=0.474 total time=   0.5s\n",
      "[CV 3/3; 111/2700] START C=0.001, l1_ratio=0.2575, max_iter=100, multi_class=multinomial, penalty=l2, solver=lbfgs\n"
     ]
    },
    {
     "name": "stderr",
     "output_type": "stream",
     "text": [
      "C:\\Users\\User\\anaconda3\\lib\\site-packages\\sklearn\\linear_model\\_logistic.py:1165: UserWarning: l1_ratio parameter is only used when penalty is 'elasticnet'. Got (penalty=l2)\n",
      "  warnings.warn(\n"
     ]
    },
    {
     "name": "stdout",
     "output_type": "stream",
     "text": [
      "[CV 3/3; 111/2700] END C=0.001, l1_ratio=0.2575, max_iter=100, multi_class=multinomial, penalty=l2, solver=lbfgs;, score=0.471 total time=   0.6s\n",
      "[CV 1/3; 112/2700] START C=0.001, l1_ratio=0.2575, max_iter=100, multi_class=multinomial, penalty=l2, solver=liblinear\n",
      "[CV 1/3; 112/2700] END C=0.001, l1_ratio=0.2575, max_iter=100, multi_class=multinomial, penalty=l2, solver=liblinear;, score=nan total time=   0.0s\n",
      "[CV 2/3; 112/2700] START C=0.001, l1_ratio=0.2575, max_iter=100, multi_class=multinomial, penalty=l2, solver=liblinear\n",
      "[CV 2/3; 112/2700] END C=0.001, l1_ratio=0.2575, max_iter=100, multi_class=multinomial, penalty=l2, solver=liblinear;, score=nan total time=   0.0s\n",
      "[CV 3/3; 112/2700] START C=0.001, l1_ratio=0.2575, max_iter=100, multi_class=multinomial, penalty=l2, solver=liblinear\n",
      "[CV 3/3; 112/2700] END C=0.001, l1_ratio=0.2575, max_iter=100, multi_class=multinomial, penalty=l2, solver=liblinear;, score=nan total time=   0.0s\n",
      "[CV 1/3; 113/2700] START C=0.001, l1_ratio=0.2575, max_iter=100, multi_class=multinomial, penalty=l2, solver=saga\n"
     ]
    },
    {
     "name": "stderr",
     "output_type": "stream",
     "text": [
      "C:\\Users\\User\\anaconda3\\lib\\site-packages\\sklearn\\linear_model\\_logistic.py:1165: UserWarning: l1_ratio parameter is only used when penalty is 'elasticnet'. Got (penalty=l2)\n",
      "  warnings.warn(\n",
      "C:\\Users\\User\\anaconda3\\lib\\site-packages\\sklearn\\linear_model\\_logistic.py:1165: UserWarning: l1_ratio parameter is only used when penalty is 'elasticnet'. Got (penalty=l2)\n",
      "  warnings.warn(\n",
      "C:\\Users\\User\\anaconda3\\lib\\site-packages\\sklearn\\linear_model\\_logistic.py:1165: UserWarning: l1_ratio parameter is only used when penalty is 'elasticnet'. Got (penalty=l2)\n",
      "  warnings.warn(\n",
      "C:\\Users\\User\\anaconda3\\lib\\site-packages\\sklearn\\linear_model\\_logistic.py:1165: UserWarning: l1_ratio parameter is only used when penalty is 'elasticnet'. Got (penalty=l2)\n",
      "  warnings.warn(\n"
     ]
    },
    {
     "name": "stdout",
     "output_type": "stream",
     "text": [
      "[CV 1/3; 113/2700] END C=0.001, l1_ratio=0.2575, max_iter=100, multi_class=multinomial, penalty=l2, solver=saga;, score=0.477 total time=   4.5s\n",
      "[CV 2/3; 113/2700] START C=0.001, l1_ratio=0.2575, max_iter=100, multi_class=multinomial, penalty=l2, solver=saga\n"
     ]
    },
    {
     "name": "stderr",
     "output_type": "stream",
     "text": [
      "C:\\Users\\User\\anaconda3\\lib\\site-packages\\sklearn\\linear_model\\_logistic.py:1165: UserWarning: l1_ratio parameter is only used when penalty is 'elasticnet'. Got (penalty=l2)\n",
      "  warnings.warn(\n"
     ]
    },
    {
     "name": "stdout",
     "output_type": "stream",
     "text": [
      "[CV 2/3; 113/2700] END C=0.001, l1_ratio=0.2575, max_iter=100, multi_class=multinomial, penalty=l2, solver=saga;, score=0.474 total time=   4.3s\n",
      "[CV 3/3; 113/2700] START C=0.001, l1_ratio=0.2575, max_iter=100, multi_class=multinomial, penalty=l2, solver=saga\n"
     ]
    },
    {
     "name": "stderr",
     "output_type": "stream",
     "text": [
      "C:\\Users\\User\\anaconda3\\lib\\site-packages\\sklearn\\linear_model\\_logistic.py:1165: UserWarning: l1_ratio parameter is only used when penalty is 'elasticnet'. Got (penalty=l2)\n",
      "  warnings.warn(\n"
     ]
    },
    {
     "name": "stdout",
     "output_type": "stream",
     "text": [
      "[CV 3/3; 113/2700] END C=0.001, l1_ratio=0.2575, max_iter=100, multi_class=multinomial, penalty=l2, solver=saga;, score=0.471 total time=   4.8s\n",
      "[CV 1/3; 114/2700] START C=0.001, l1_ratio=0.2575, max_iter=100, multi_class=multinomial, penalty=l2, solver=sag\n"
     ]
    },
    {
     "name": "stderr",
     "output_type": "stream",
     "text": [
      "C:\\Users\\User\\anaconda3\\lib\\site-packages\\sklearn\\linear_model\\_logistic.py:1165: UserWarning: l1_ratio parameter is only used when penalty is 'elasticnet'. Got (penalty=l2)\n",
      "  warnings.warn(\n"
     ]
    },
    {
     "name": "stdout",
     "output_type": "stream",
     "text": [
      "[CV 1/3; 114/2700] END C=0.001, l1_ratio=0.2575, max_iter=100, multi_class=multinomial, penalty=l2, solver=sag;, score=0.477 total time=   1.5s\n",
      "[CV 2/3; 114/2700] START C=0.001, l1_ratio=0.2575, max_iter=100, multi_class=multinomial, penalty=l2, solver=sag\n"
     ]
    },
    {
     "name": "stderr",
     "output_type": "stream",
     "text": [
      "C:\\Users\\User\\anaconda3\\lib\\site-packages\\sklearn\\linear_model\\_logistic.py:1165: UserWarning: l1_ratio parameter is only used when penalty is 'elasticnet'. Got (penalty=l2)\n",
      "  warnings.warn(\n"
     ]
    },
    {
     "name": "stdout",
     "output_type": "stream",
     "text": [
      "[CV 2/3; 114/2700] END C=0.001, l1_ratio=0.2575, max_iter=100, multi_class=multinomial, penalty=l2, solver=sag;, score=0.474 total time=   1.2s\n",
      "[CV 3/3; 114/2700] START C=0.001, l1_ratio=0.2575, max_iter=100, multi_class=multinomial, penalty=l2, solver=sag\n"
     ]
    },
    {
     "name": "stderr",
     "output_type": "stream",
     "text": [
      "C:\\Users\\User\\anaconda3\\lib\\site-packages\\sklearn\\linear_model\\_logistic.py:1165: UserWarning: l1_ratio parameter is only used when penalty is 'elasticnet'. Got (penalty=l2)\n",
      "  warnings.warn(\n"
     ]
    },
    {
     "name": "stdout",
     "output_type": "stream",
     "text": [
      "[CV 3/3; 114/2700] END C=0.001, l1_ratio=0.2575, max_iter=100, multi_class=multinomial, penalty=l2, solver=sag;, score=0.471 total time=   1.2s\n",
      "[CV 1/3; 115/2700] START C=0.001, l1_ratio=0.2575, max_iter=100, multi_class=multinomial, penalty=l2, solver=newton-cholesky\n",
      "[CV 1/3; 115/2700] END C=0.001, l1_ratio=0.2575, max_iter=100, multi_class=multinomial, penalty=l2, solver=newton-cholesky;, score=nan total time=   0.0s\n",
      "[CV 2/3; 115/2700] START C=0.001, l1_ratio=0.2575, max_iter=100, multi_class=multinomial, penalty=l2, solver=newton-cholesky\n",
      "[CV 2/3; 115/2700] END C=0.001, l1_ratio=0.2575, max_iter=100, multi_class=multinomial, penalty=l2, solver=newton-cholesky;, score=nan total time=   0.0s\n",
      "[CV 3/3; 115/2700] START C=0.001, l1_ratio=0.2575, max_iter=100, multi_class=multinomial, penalty=l2, solver=newton-cholesky\n",
      "[CV 3/3; 115/2700] END C=0.001, l1_ratio=0.2575, max_iter=100, multi_class=multinomial, penalty=l2, solver=newton-cholesky;, score=nan total time=   0.0s\n",
      "[CV 1/3; 116/2700] START C=0.001, l1_ratio=0.2575, max_iter=100, multi_class=multinomial, penalty=elasticnet, solver=lbfgs\n",
      "[CV 1/3; 116/2700] END C=0.001, l1_ratio=0.2575, max_iter=100, multi_class=multinomial, penalty=elasticnet, solver=lbfgs;, score=nan total time=   0.0s\n",
      "[CV 2/3; 116/2700] START C=0.001, l1_ratio=0.2575, max_iter=100, multi_class=multinomial, penalty=elasticnet, solver=lbfgs\n",
      "[CV 2/3; 116/2700] END C=0.001, l1_ratio=0.2575, max_iter=100, multi_class=multinomial, penalty=elasticnet, solver=lbfgs;, score=nan total time=   0.0s\n",
      "[CV 3/3; 116/2700] START C=0.001, l1_ratio=0.2575, max_iter=100, multi_class=multinomial, penalty=elasticnet, solver=lbfgs\n",
      "[CV 3/3; 116/2700] END C=0.001, l1_ratio=0.2575, max_iter=100, multi_class=multinomial, penalty=elasticnet, solver=lbfgs;, score=nan total time=   0.0s\n",
      "[CV 1/3; 117/2700] START C=0.001, l1_ratio=0.2575, max_iter=100, multi_class=multinomial, penalty=elasticnet, solver=liblinear\n",
      "[CV 1/3; 117/2700] END C=0.001, l1_ratio=0.2575, max_iter=100, multi_class=multinomial, penalty=elasticnet, solver=liblinear;, score=nan total time=   0.0s\n",
      "[CV 2/3; 117/2700] START C=0.001, l1_ratio=0.2575, max_iter=100, multi_class=multinomial, penalty=elasticnet, solver=liblinear\n",
      "[CV 2/3; 117/2700] END C=0.001, l1_ratio=0.2575, max_iter=100, multi_class=multinomial, penalty=elasticnet, solver=liblinear;, score=nan total time=   0.0s\n",
      "[CV 3/3; 117/2700] START C=0.001, l1_ratio=0.2575, max_iter=100, multi_class=multinomial, penalty=elasticnet, solver=liblinear\n",
      "[CV 3/3; 117/2700] END C=0.001, l1_ratio=0.2575, max_iter=100, multi_class=multinomial, penalty=elasticnet, solver=liblinear;, score=nan total time=   0.0s\n",
      "[CV 1/3; 118/2700] START C=0.001, l1_ratio=0.2575, max_iter=100, multi_class=multinomial, penalty=elasticnet, solver=saga\n"
     ]
    },
    {
     "name": "stderr",
     "output_type": "stream",
     "text": [
      "C:\\Users\\User\\anaconda3\\lib\\site-packages\\sklearn\\linear_model\\_logistic.py:1165: UserWarning: l1_ratio parameter is only used when penalty is 'elasticnet'. Got (penalty=l2)\n",
      "  warnings.warn(\n",
      "C:\\Users\\User\\anaconda3\\lib\\site-packages\\sklearn\\linear_model\\_logistic.py:1165: UserWarning: l1_ratio parameter is only used when penalty is 'elasticnet'. Got (penalty=l2)\n",
      "  warnings.warn(\n",
      "C:\\Users\\User\\anaconda3\\lib\\site-packages\\sklearn\\linear_model\\_logistic.py:1165: UserWarning: l1_ratio parameter is only used when penalty is 'elasticnet'. Got (penalty=l2)\n",
      "  warnings.warn(\n"
     ]
    },
    {
     "name": "stdout",
     "output_type": "stream",
     "text": [
      "[CV 1/3; 118/2700] END C=0.001, l1_ratio=0.2575, max_iter=100, multi_class=multinomial, penalty=elasticnet, solver=saga;, score=0.463 total time=   4.7s\n",
      "[CV 2/3; 118/2700] START C=0.001, l1_ratio=0.2575, max_iter=100, multi_class=multinomial, penalty=elasticnet, solver=saga\n",
      "[CV 2/3; 118/2700] END C=0.001, l1_ratio=0.2575, max_iter=100, multi_class=multinomial, penalty=elasticnet, solver=saga;, score=0.462 total time=   5.2s\n",
      "[CV 3/3; 118/2700] START C=0.001, l1_ratio=0.2575, max_iter=100, multi_class=multinomial, penalty=elasticnet, solver=saga\n",
      "[CV 3/3; 118/2700] END C=0.001, l1_ratio=0.2575, max_iter=100, multi_class=multinomial, penalty=elasticnet, solver=saga;, score=0.457 total time=   6.0s\n",
      "[CV 1/3; 119/2700] START C=0.001, l1_ratio=0.2575, max_iter=100, multi_class=multinomial, penalty=elasticnet, solver=sag\n",
      "[CV 1/3; 119/2700] END C=0.001, l1_ratio=0.2575, max_iter=100, multi_class=multinomial, penalty=elasticnet, solver=sag;, score=nan total time=   0.0s\n",
      "[CV 2/3; 119/2700] START C=0.001, l1_ratio=0.2575, max_iter=100, multi_class=multinomial, penalty=elasticnet, solver=sag\n",
      "[CV 2/3; 119/2700] END C=0.001, l1_ratio=0.2575, max_iter=100, multi_class=multinomial, penalty=elasticnet, solver=sag;, score=nan total time=   0.0s\n",
      "[CV 3/3; 119/2700] START C=0.001, l1_ratio=0.2575, max_iter=100, multi_class=multinomial, penalty=elasticnet, solver=sag\n",
      "[CV 3/3; 119/2700] END C=0.001, l1_ratio=0.2575, max_iter=100, multi_class=multinomial, penalty=elasticnet, solver=sag;, score=nan total time=   0.0s\n",
      "[CV 1/3; 120/2700] START C=0.001, l1_ratio=0.2575, max_iter=100, multi_class=multinomial, penalty=elasticnet, solver=newton-cholesky\n",
      "[CV 1/3; 120/2700] END C=0.001, l1_ratio=0.2575, max_iter=100, multi_class=multinomial, penalty=elasticnet, solver=newton-cholesky;, score=nan total time=   0.0s\n",
      "[CV 2/3; 120/2700] START C=0.001, l1_ratio=0.2575, max_iter=100, multi_class=multinomial, penalty=elasticnet, solver=newton-cholesky\n",
      "[CV 2/3; 120/2700] END C=0.001, l1_ratio=0.2575, max_iter=100, multi_class=multinomial, penalty=elasticnet, solver=newton-cholesky;, score=nan total time=   0.0s\n",
      "[CV 3/3; 120/2700] START C=0.001, l1_ratio=0.2575, max_iter=100, multi_class=multinomial, penalty=elasticnet, solver=newton-cholesky\n",
      "[CV 3/3; 120/2700] END C=0.001, l1_ratio=0.2575, max_iter=100, multi_class=multinomial, penalty=elasticnet, solver=newton-cholesky;, score=nan total time=   0.0s\n",
      "[CV 1/3; 121/2700] START C=0.001, l1_ratio=0.2575, max_iter=1000, multi_class=ovr, penalty=l1, solver=lbfgs\n",
      "[CV 1/3; 121/2700] END C=0.001, l1_ratio=0.2575, max_iter=1000, multi_class=ovr, penalty=l1, solver=lbfgs;, score=nan total time=   0.0s\n",
      "[CV 2/3; 121/2700] START C=0.001, l1_ratio=0.2575, max_iter=1000, multi_class=ovr, penalty=l1, solver=lbfgs\n",
      "[CV 2/3; 121/2700] END C=0.001, l1_ratio=0.2575, max_iter=1000, multi_class=ovr, penalty=l1, solver=lbfgs;, score=nan total time=   0.0s\n",
      "[CV 3/3; 121/2700] START C=0.001, l1_ratio=0.2575, max_iter=1000, multi_class=ovr, penalty=l1, solver=lbfgs\n",
      "[CV 3/3; 121/2700] END C=0.001, l1_ratio=0.2575, max_iter=1000, multi_class=ovr, penalty=l1, solver=lbfgs;, score=nan total time=   0.0s\n",
      "[CV 1/3; 122/2700] START C=0.001, l1_ratio=0.2575, max_iter=1000, multi_class=ovr, penalty=l1, solver=liblinear\n"
     ]
    },
    {
     "name": "stderr",
     "output_type": "stream",
     "text": [
      "C:\\Users\\User\\anaconda3\\lib\\site-packages\\sklearn\\linear_model\\_logistic.py:1165: UserWarning: l1_ratio parameter is only used when penalty is 'elasticnet'. Got (penalty=l1)\n",
      "  warnings.warn(\n"
     ]
    },
    {
     "name": "stdout",
     "output_type": "stream",
     "text": [
      "[CV 1/3; 122/2700] END C=0.001, l1_ratio=0.2575, max_iter=1000, multi_class=ovr, penalty=l1, solver=liblinear;, score=0.458 total time=   0.1s\n",
      "[CV 2/3; 122/2700] START C=0.001, l1_ratio=0.2575, max_iter=1000, multi_class=ovr, penalty=l1, solver=liblinear\n"
     ]
    },
    {
     "name": "stderr",
     "output_type": "stream",
     "text": [
      "C:\\Users\\User\\anaconda3\\lib\\site-packages\\sklearn\\linear_model\\_logistic.py:1165: UserWarning: l1_ratio parameter is only used when penalty is 'elasticnet'. Got (penalty=l1)\n",
      "  warnings.warn(\n"
     ]
    },
    {
     "name": "stdout",
     "output_type": "stream",
     "text": [
      "[CV 2/3; 122/2700] END C=0.001, l1_ratio=0.2575, max_iter=1000, multi_class=ovr, penalty=l1, solver=liblinear;, score=0.460 total time=   0.2s\n",
      "[CV 3/3; 122/2700] START C=0.001, l1_ratio=0.2575, max_iter=1000, multi_class=ovr, penalty=l1, solver=liblinear\n"
     ]
    },
    {
     "name": "stderr",
     "output_type": "stream",
     "text": [
      "C:\\Users\\User\\anaconda3\\lib\\site-packages\\sklearn\\linear_model\\_logistic.py:1165: UserWarning: l1_ratio parameter is only used when penalty is 'elasticnet'. Got (penalty=l1)\n",
      "  warnings.warn(\n"
     ]
    },
    {
     "name": "stdout",
     "output_type": "stream",
     "text": [
      "[CV 3/3; 122/2700] END C=0.001, l1_ratio=0.2575, max_iter=1000, multi_class=ovr, penalty=l1, solver=liblinear;, score=0.453 total time=   0.1s\n",
      "[CV 1/3; 123/2700] START C=0.001, l1_ratio=0.2575, max_iter=1000, multi_class=ovr, penalty=l1, solver=saga\n"
     ]
    },
    {
     "name": "stderr",
     "output_type": "stream",
     "text": [
      "C:\\Users\\User\\anaconda3\\lib\\site-packages\\sklearn\\linear_model\\_logistic.py:1165: UserWarning: l1_ratio parameter is only used when penalty is 'elasticnet'. Got (penalty=l1)\n",
      "  warnings.warn(\n"
     ]
    },
    {
     "name": "stdout",
     "output_type": "stream",
     "text": [
      "[CV 1/3; 123/2700] END C=0.001, l1_ratio=0.2575, max_iter=1000, multi_class=ovr, penalty=l1, solver=saga;, score=0.306 total time=   2.3s\n",
      "[CV 2/3; 123/2700] START C=0.001, l1_ratio=0.2575, max_iter=1000, multi_class=ovr, penalty=l1, solver=saga\n"
     ]
    },
    {
     "name": "stderr",
     "output_type": "stream",
     "text": [
      "C:\\Users\\User\\anaconda3\\lib\\site-packages\\sklearn\\linear_model\\_logistic.py:1165: UserWarning: l1_ratio parameter is only used when penalty is 'elasticnet'. Got (penalty=l1)\n",
      "  warnings.warn(\n"
     ]
    },
    {
     "name": "stdout",
     "output_type": "stream",
     "text": [
      "[CV 2/3; 123/2700] END C=0.001, l1_ratio=0.2575, max_iter=1000, multi_class=ovr, penalty=l1, solver=saga;, score=0.306 total time=   2.3s\n",
      "[CV 3/3; 123/2700] START C=0.001, l1_ratio=0.2575, max_iter=1000, multi_class=ovr, penalty=l1, solver=saga\n"
     ]
    },
    {
     "name": "stderr",
     "output_type": "stream",
     "text": [
      "C:\\Users\\User\\anaconda3\\lib\\site-packages\\sklearn\\linear_model\\_logistic.py:1165: UserWarning: l1_ratio parameter is only used when penalty is 'elasticnet'. Got (penalty=l1)\n",
      "  warnings.warn(\n"
     ]
    },
    {
     "name": "stdout",
     "output_type": "stream",
     "text": [
      "[CV 3/3; 123/2700] END C=0.001, l1_ratio=0.2575, max_iter=1000, multi_class=ovr, penalty=l1, solver=saga;, score=0.306 total time=   2.0s\n",
      "[CV 1/3; 124/2700] START C=0.001, l1_ratio=0.2575, max_iter=1000, multi_class=ovr, penalty=l1, solver=sag\n",
      "[CV 1/3; 124/2700] END C=0.001, l1_ratio=0.2575, max_iter=1000, multi_class=ovr, penalty=l1, solver=sag;, score=nan total time=   0.0s\n",
      "[CV 2/3; 124/2700] START C=0.001, l1_ratio=0.2575, max_iter=1000, multi_class=ovr, penalty=l1, solver=sag\n",
      "[CV 2/3; 124/2700] END C=0.001, l1_ratio=0.2575, max_iter=1000, multi_class=ovr, penalty=l1, solver=sag;, score=nan total time=   0.0s\n",
      "[CV 3/3; 124/2700] START C=0.001, l1_ratio=0.2575, max_iter=1000, multi_class=ovr, penalty=l1, solver=sag\n",
      "[CV 3/3; 124/2700] END C=0.001, l1_ratio=0.2575, max_iter=1000, multi_class=ovr, penalty=l1, solver=sag;, score=nan total time=   0.0s\n",
      "[CV 1/3; 125/2700] START C=0.001, l1_ratio=0.2575, max_iter=1000, multi_class=ovr, penalty=l1, solver=newton-cholesky\n",
      "[CV 1/3; 125/2700] END C=0.001, l1_ratio=0.2575, max_iter=1000, multi_class=ovr, penalty=l1, solver=newton-cholesky;, score=nan total time=   0.0s\n",
      "[CV 2/3; 125/2700] START C=0.001, l1_ratio=0.2575, max_iter=1000, multi_class=ovr, penalty=l1, solver=newton-cholesky\n",
      "[CV 2/3; 125/2700] END C=0.001, l1_ratio=0.2575, max_iter=1000, multi_class=ovr, penalty=l1, solver=newton-cholesky;, score=nan total time=   0.0s\n",
      "[CV 3/3; 125/2700] START C=0.001, l1_ratio=0.2575, max_iter=1000, multi_class=ovr, penalty=l1, solver=newton-cholesky\n",
      "[CV 3/3; 125/2700] END C=0.001, l1_ratio=0.2575, max_iter=1000, multi_class=ovr, penalty=l1, solver=newton-cholesky;, score=nan total time=   0.0s\n",
      "[CV 1/3; 126/2700] START C=0.001, l1_ratio=0.2575, max_iter=1000, multi_class=ovr, penalty=l2, solver=lbfgs\n"
     ]
    },
    {
     "name": "stderr",
     "output_type": "stream",
     "text": [
      "C:\\Users\\User\\anaconda3\\lib\\site-packages\\sklearn\\linear_model\\_logistic.py:1165: UserWarning: l1_ratio parameter is only used when penalty is 'elasticnet'. Got (penalty=l2)\n",
      "  warnings.warn(\n"
     ]
    },
    {
     "name": "stdout",
     "output_type": "stream",
     "text": [
      "[CV 1/3; 126/2700] END C=0.001, l1_ratio=0.2575, max_iter=1000, multi_class=ovr, penalty=l2, solver=lbfgs;, score=0.469 total time=   0.5s\n",
      "[CV 2/3; 126/2700] START C=0.001, l1_ratio=0.2575, max_iter=1000, multi_class=ovr, penalty=l2, solver=lbfgs\n"
     ]
    },
    {
     "name": "stderr",
     "output_type": "stream",
     "text": [
      "C:\\Users\\User\\anaconda3\\lib\\site-packages\\sklearn\\linear_model\\_logistic.py:1165: UserWarning: l1_ratio parameter is only used when penalty is 'elasticnet'. Got (penalty=l2)\n",
      "  warnings.warn(\n"
     ]
    },
    {
     "name": "stdout",
     "output_type": "stream",
     "text": [
      "[CV 2/3; 126/2700] END C=0.001, l1_ratio=0.2575, max_iter=1000, multi_class=ovr, penalty=l2, solver=lbfgs;, score=0.468 total time=   0.4s\n",
      "[CV 3/3; 126/2700] START C=0.001, l1_ratio=0.2575, max_iter=1000, multi_class=ovr, penalty=l2, solver=lbfgs\n"
     ]
    },
    {
     "name": "stderr",
     "output_type": "stream",
     "text": [
      "C:\\Users\\User\\anaconda3\\lib\\site-packages\\sklearn\\linear_model\\_logistic.py:1165: UserWarning: l1_ratio parameter is only used when penalty is 'elasticnet'. Got (penalty=l2)\n",
      "  warnings.warn(\n"
     ]
    },
    {
     "name": "stdout",
     "output_type": "stream",
     "text": [
      "[CV 3/3; 126/2700] END C=0.001, l1_ratio=0.2575, max_iter=1000, multi_class=ovr, penalty=l2, solver=lbfgs;, score=0.464 total time=   0.4s\n",
      "[CV 1/3; 127/2700] START C=0.001, l1_ratio=0.2575, max_iter=1000, multi_class=ovr, penalty=l2, solver=liblinear\n"
     ]
    },
    {
     "name": "stderr",
     "output_type": "stream",
     "text": [
      "C:\\Users\\User\\anaconda3\\lib\\site-packages\\sklearn\\linear_model\\_logistic.py:1165: UserWarning: l1_ratio parameter is only used when penalty is 'elasticnet'. Got (penalty=l2)\n",
      "  warnings.warn(\n"
     ]
    },
    {
     "name": "stdout",
     "output_type": "stream",
     "text": [
      "[CV 1/3; 127/2700] END C=0.001, l1_ratio=0.2575, max_iter=1000, multi_class=ovr, penalty=l2, solver=liblinear;, score=0.469 total time=   0.2s\n",
      "[CV 2/3; 127/2700] START C=0.001, l1_ratio=0.2575, max_iter=1000, multi_class=ovr, penalty=l2, solver=liblinear\n"
     ]
    },
    {
     "name": "stderr",
     "output_type": "stream",
     "text": [
      "C:\\Users\\User\\anaconda3\\lib\\site-packages\\sklearn\\linear_model\\_logistic.py:1165: UserWarning: l1_ratio parameter is only used when penalty is 'elasticnet'. Got (penalty=l2)\n",
      "  warnings.warn(\n"
     ]
    },
    {
     "name": "stdout",
     "output_type": "stream",
     "text": [
      "[CV 2/3; 127/2700] END C=0.001, l1_ratio=0.2575, max_iter=1000, multi_class=ovr, penalty=l2, solver=liblinear;, score=0.467 total time=   0.3s\n",
      "[CV 3/3; 127/2700] START C=0.001, l1_ratio=0.2575, max_iter=1000, multi_class=ovr, penalty=l2, solver=liblinear\n"
     ]
    },
    {
     "name": "stderr",
     "output_type": "stream",
     "text": [
      "C:\\Users\\User\\anaconda3\\lib\\site-packages\\sklearn\\linear_model\\_logistic.py:1165: UserWarning: l1_ratio parameter is only used when penalty is 'elasticnet'. Got (penalty=l2)\n",
      "  warnings.warn(\n"
     ]
    },
    {
     "name": "stdout",
     "output_type": "stream",
     "text": [
      "[CV 3/3; 127/2700] END C=0.001, l1_ratio=0.2575, max_iter=1000, multi_class=ovr, penalty=l2, solver=liblinear;, score=0.465 total time=   0.2s\n",
      "[CV 1/3; 128/2700] START C=0.001, l1_ratio=0.2575, max_iter=1000, multi_class=ovr, penalty=l2, solver=saga\n"
     ]
    },
    {
     "name": "stderr",
     "output_type": "stream",
     "text": [
      "C:\\Users\\User\\anaconda3\\lib\\site-packages\\sklearn\\linear_model\\_logistic.py:1165: UserWarning: l1_ratio parameter is only used when penalty is 'elasticnet'. Got (penalty=l2)\n",
      "  warnings.warn(\n"
     ]
    },
    {
     "name": "stdout",
     "output_type": "stream",
     "text": [
      "[CV 1/3; 128/2700] END C=0.001, l1_ratio=0.2575, max_iter=1000, multi_class=ovr, penalty=l2, solver=saga;, score=0.469 total time=   6.0s\n",
      "[CV 2/3; 128/2700] START C=0.001, l1_ratio=0.2575, max_iter=1000, multi_class=ovr, penalty=l2, solver=saga\n"
     ]
    },
    {
     "name": "stderr",
     "output_type": "stream",
     "text": [
      "C:\\Users\\User\\anaconda3\\lib\\site-packages\\sklearn\\linear_model\\_logistic.py:1165: UserWarning: l1_ratio parameter is only used when penalty is 'elasticnet'. Got (penalty=l2)\n",
      "  warnings.warn(\n"
     ]
    },
    {
     "name": "stdout",
     "output_type": "stream",
     "text": [
      "[CV 2/3; 128/2700] END C=0.001, l1_ratio=0.2575, max_iter=1000, multi_class=ovr, penalty=l2, solver=saga;, score=0.468 total time=   6.2s\n",
      "[CV 3/3; 128/2700] START C=0.001, l1_ratio=0.2575, max_iter=1000, multi_class=ovr, penalty=l2, solver=saga\n"
     ]
    },
    {
     "name": "stderr",
     "output_type": "stream",
     "text": [
      "C:\\Users\\User\\anaconda3\\lib\\site-packages\\sklearn\\linear_model\\_logistic.py:1165: UserWarning: l1_ratio parameter is only used when penalty is 'elasticnet'. Got (penalty=l2)\n",
      "  warnings.warn(\n"
     ]
    },
    {
     "name": "stdout",
     "output_type": "stream",
     "text": [
      "[CV 3/3; 128/2700] END C=0.001, l1_ratio=0.2575, max_iter=1000, multi_class=ovr, penalty=l2, solver=saga;, score=0.464 total time=   6.4s\n",
      "[CV 1/3; 129/2700] START C=0.001, l1_ratio=0.2575, max_iter=1000, multi_class=ovr, penalty=l2, solver=sag\n"
     ]
    },
    {
     "name": "stderr",
     "output_type": "stream",
     "text": [
      "C:\\Users\\User\\anaconda3\\lib\\site-packages\\sklearn\\linear_model\\_logistic.py:1165: UserWarning: l1_ratio parameter is only used when penalty is 'elasticnet'. Got (penalty=l2)\n",
      "  warnings.warn(\n"
     ]
    },
    {
     "name": "stdout",
     "output_type": "stream",
     "text": [
      "[CV 1/3; 129/2700] END C=0.001, l1_ratio=0.2575, max_iter=1000, multi_class=ovr, penalty=l2, solver=sag;, score=0.469 total time=   2.5s\n",
      "[CV 2/3; 129/2700] START C=0.001, l1_ratio=0.2575, max_iter=1000, multi_class=ovr, penalty=l2, solver=sag\n"
     ]
    },
    {
     "name": "stderr",
     "output_type": "stream",
     "text": [
      "C:\\Users\\User\\anaconda3\\lib\\site-packages\\sklearn\\linear_model\\_logistic.py:1165: UserWarning: l1_ratio parameter is only used when penalty is 'elasticnet'. Got (penalty=l2)\n",
      "  warnings.warn(\n"
     ]
    },
    {
     "name": "stdout",
     "output_type": "stream",
     "text": [
      "[CV 2/3; 129/2700] END C=0.001, l1_ratio=0.2575, max_iter=1000, multi_class=ovr, penalty=l2, solver=sag;, score=0.468 total time=   2.9s\n",
      "[CV 3/3; 129/2700] START C=0.001, l1_ratio=0.2575, max_iter=1000, multi_class=ovr, penalty=l2, solver=sag\n"
     ]
    },
    {
     "name": "stderr",
     "output_type": "stream",
     "text": [
      "C:\\Users\\User\\anaconda3\\lib\\site-packages\\sklearn\\linear_model\\_logistic.py:1165: UserWarning: l1_ratio parameter is only used when penalty is 'elasticnet'. Got (penalty=l2)\n",
      "  warnings.warn(\n"
     ]
    },
    {
     "name": "stdout",
     "output_type": "stream",
     "text": [
      "[CV 3/3; 129/2700] END C=0.001, l1_ratio=0.2575, max_iter=1000, multi_class=ovr, penalty=l2, solver=sag;, score=0.464 total time=   2.9s\n",
      "[CV 1/3; 130/2700] START C=0.001, l1_ratio=0.2575, max_iter=1000, multi_class=ovr, penalty=l2, solver=newton-cholesky\n"
     ]
    },
    {
     "name": "stderr",
     "output_type": "stream",
     "text": [
      "C:\\Users\\User\\anaconda3\\lib\\site-packages\\sklearn\\linear_model\\_logistic.py:1165: UserWarning: l1_ratio parameter is only used when penalty is 'elasticnet'. Got (penalty=l2)\n",
      "  warnings.warn(\n"
     ]
    },
    {
     "name": "stdout",
     "output_type": "stream",
     "text": [
      "[CV 1/3; 130/2700] END C=0.001, l1_ratio=0.2575, max_iter=1000, multi_class=ovr, penalty=l2, solver=newton-cholesky;, score=0.469 total time=   1.6s\n",
      "[CV 2/3; 130/2700] START C=0.001, l1_ratio=0.2575, max_iter=1000, multi_class=ovr, penalty=l2, solver=newton-cholesky\n"
     ]
    },
    {
     "name": "stderr",
     "output_type": "stream",
     "text": [
      "C:\\Users\\User\\anaconda3\\lib\\site-packages\\sklearn\\linear_model\\_logistic.py:1165: UserWarning: l1_ratio parameter is only used when penalty is 'elasticnet'. Got (penalty=l2)\n",
      "  warnings.warn(\n"
     ]
    },
    {
     "name": "stdout",
     "output_type": "stream",
     "text": [
      "[CV 2/3; 130/2700] END C=0.001, l1_ratio=0.2575, max_iter=1000, multi_class=ovr, penalty=l2, solver=newton-cholesky;, score=0.468 total time=   1.5s\n",
      "[CV 3/3; 130/2700] START C=0.001, l1_ratio=0.2575, max_iter=1000, multi_class=ovr, penalty=l2, solver=newton-cholesky\n"
     ]
    },
    {
     "name": "stderr",
     "output_type": "stream",
     "text": [
      "C:\\Users\\User\\anaconda3\\lib\\site-packages\\sklearn\\linear_model\\_logistic.py:1165: UserWarning: l1_ratio parameter is only used when penalty is 'elasticnet'. Got (penalty=l2)\n",
      "  warnings.warn(\n"
     ]
    },
    {
     "name": "stdout",
     "output_type": "stream",
     "text": [
      "[CV 3/3; 130/2700] END C=0.001, l1_ratio=0.2575, max_iter=1000, multi_class=ovr, penalty=l2, solver=newton-cholesky;, score=0.464 total time=   1.6s\n",
      "[CV 1/3; 131/2700] START C=0.001, l1_ratio=0.2575, max_iter=1000, multi_class=ovr, penalty=elasticnet, solver=lbfgs\n",
      "[CV 1/3; 131/2700] END C=0.001, l1_ratio=0.2575, max_iter=1000, multi_class=ovr, penalty=elasticnet, solver=lbfgs;, score=nan total time=   0.0s\n",
      "[CV 2/3; 131/2700] START C=0.001, l1_ratio=0.2575, max_iter=1000, multi_class=ovr, penalty=elasticnet, solver=lbfgs\n",
      "[CV 2/3; 131/2700] END C=0.001, l1_ratio=0.2575, max_iter=1000, multi_class=ovr, penalty=elasticnet, solver=lbfgs;, score=nan total time=   0.0s\n",
      "[CV 3/3; 131/2700] START C=0.001, l1_ratio=0.2575, max_iter=1000, multi_class=ovr, penalty=elasticnet, solver=lbfgs\n",
      "[CV 3/3; 131/2700] END C=0.001, l1_ratio=0.2575, max_iter=1000, multi_class=ovr, penalty=elasticnet, solver=lbfgs;, score=nan total time=   0.0s\n",
      "[CV 1/3; 132/2700] START C=0.001, l1_ratio=0.2575, max_iter=1000, multi_class=ovr, penalty=elasticnet, solver=liblinear\n",
      "[CV 1/3; 132/2700] END C=0.001, l1_ratio=0.2575, max_iter=1000, multi_class=ovr, penalty=elasticnet, solver=liblinear;, score=nan total time=   0.0s\n",
      "[CV 2/3; 132/2700] START C=0.001, l1_ratio=0.2575, max_iter=1000, multi_class=ovr, penalty=elasticnet, solver=liblinear\n",
      "[CV 2/3; 132/2700] END C=0.001, l1_ratio=0.2575, max_iter=1000, multi_class=ovr, penalty=elasticnet, solver=liblinear;, score=nan total time=   0.0s\n",
      "[CV 3/3; 132/2700] START C=0.001, l1_ratio=0.2575, max_iter=1000, multi_class=ovr, penalty=elasticnet, solver=liblinear\n",
      "[CV 3/3; 132/2700] END C=0.001, l1_ratio=0.2575, max_iter=1000, multi_class=ovr, penalty=elasticnet, solver=liblinear;, score=nan total time=   0.0s\n",
      "[CV 1/3; 133/2700] START C=0.001, l1_ratio=0.2575, max_iter=1000, multi_class=ovr, penalty=elasticnet, solver=saga\n",
      "[CV 1/3; 133/2700] END C=0.001, l1_ratio=0.2575, max_iter=1000, multi_class=ovr, penalty=elasticnet, solver=saga;, score=0.461 total time=   6.4s\n",
      "[CV 2/3; 133/2700] START C=0.001, l1_ratio=0.2575, max_iter=1000, multi_class=ovr, penalty=elasticnet, solver=saga\n",
      "[CV 2/3; 133/2700] END C=0.001, l1_ratio=0.2575, max_iter=1000, multi_class=ovr, penalty=elasticnet, solver=saga;, score=0.459 total time=   5.7s\n",
      "[CV 3/3; 133/2700] START C=0.001, l1_ratio=0.2575, max_iter=1000, multi_class=ovr, penalty=elasticnet, solver=saga\n",
      "[CV 3/3; 133/2700] END C=0.001, l1_ratio=0.2575, max_iter=1000, multi_class=ovr, penalty=elasticnet, solver=saga;, score=0.455 total time=   6.4s\n",
      "[CV 1/3; 134/2700] START C=0.001, l1_ratio=0.2575, max_iter=1000, multi_class=ovr, penalty=elasticnet, solver=sag\n",
      "[CV 1/3; 134/2700] END C=0.001, l1_ratio=0.2575, max_iter=1000, multi_class=ovr, penalty=elasticnet, solver=sag;, score=nan total time=   0.0s\n",
      "[CV 2/3; 134/2700] START C=0.001, l1_ratio=0.2575, max_iter=1000, multi_class=ovr, penalty=elasticnet, solver=sag\n",
      "[CV 2/3; 134/2700] END C=0.001, l1_ratio=0.2575, max_iter=1000, multi_class=ovr, penalty=elasticnet, solver=sag;, score=nan total time=   0.0s\n",
      "[CV 3/3; 134/2700] START C=0.001, l1_ratio=0.2575, max_iter=1000, multi_class=ovr, penalty=elasticnet, solver=sag\n",
      "[CV 3/3; 134/2700] END C=0.001, l1_ratio=0.2575, max_iter=1000, multi_class=ovr, penalty=elasticnet, solver=sag;, score=nan total time=   0.0s\n",
      "[CV 1/3; 135/2700] START C=0.001, l1_ratio=0.2575, max_iter=1000, multi_class=ovr, penalty=elasticnet, solver=newton-cholesky\n",
      "[CV 1/3; 135/2700] END C=0.001, l1_ratio=0.2575, max_iter=1000, multi_class=ovr, penalty=elasticnet, solver=newton-cholesky;, score=nan total time=   0.0s\n",
      "[CV 2/3; 135/2700] START C=0.001, l1_ratio=0.2575, max_iter=1000, multi_class=ovr, penalty=elasticnet, solver=newton-cholesky\n",
      "[CV 2/3; 135/2700] END C=0.001, l1_ratio=0.2575, max_iter=1000, multi_class=ovr, penalty=elasticnet, solver=newton-cholesky;, score=nan total time=   0.0s\n",
      "[CV 3/3; 135/2700] START C=0.001, l1_ratio=0.2575, max_iter=1000, multi_class=ovr, penalty=elasticnet, solver=newton-cholesky\n",
      "[CV 3/3; 135/2700] END C=0.001, l1_ratio=0.2575, max_iter=1000, multi_class=ovr, penalty=elasticnet, solver=newton-cholesky;, score=nan total time=   0.0s\n",
      "[CV 1/3; 136/2700] START C=0.001, l1_ratio=0.2575, max_iter=1000, multi_class=multinomial, penalty=l1, solver=lbfgs\n",
      "[CV 1/3; 136/2700] END C=0.001, l1_ratio=0.2575, max_iter=1000, multi_class=multinomial, penalty=l1, solver=lbfgs;, score=nan total time=   0.0s\n",
      "[CV 2/3; 136/2700] START C=0.001, l1_ratio=0.2575, max_iter=1000, multi_class=multinomial, penalty=l1, solver=lbfgs\n",
      "[CV 2/3; 136/2700] END C=0.001, l1_ratio=0.2575, max_iter=1000, multi_class=multinomial, penalty=l1, solver=lbfgs;, score=nan total time=   0.0s\n",
      "[CV 3/3; 136/2700] START C=0.001, l1_ratio=0.2575, max_iter=1000, multi_class=multinomial, penalty=l1, solver=lbfgs\n",
      "[CV 3/3; 136/2700] END C=0.001, l1_ratio=0.2575, max_iter=1000, multi_class=multinomial, penalty=l1, solver=lbfgs;, score=nan total time=   0.0s\n",
      "[CV 1/3; 137/2700] START C=0.001, l1_ratio=0.2575, max_iter=1000, multi_class=multinomial, penalty=l1, solver=liblinear\n",
      "[CV 1/3; 137/2700] END C=0.001, l1_ratio=0.2575, max_iter=1000, multi_class=multinomial, penalty=l1, solver=liblinear;, score=nan total time=   0.0s\n",
      "[CV 2/3; 137/2700] START C=0.001, l1_ratio=0.2575, max_iter=1000, multi_class=multinomial, penalty=l1, solver=liblinear\n",
      "[CV 2/3; 137/2700] END C=0.001, l1_ratio=0.2575, max_iter=1000, multi_class=multinomial, penalty=l1, solver=liblinear;, score=nan total time=   0.0s\n",
      "[CV 3/3; 137/2700] START C=0.001, l1_ratio=0.2575, max_iter=1000, multi_class=multinomial, penalty=l1, solver=liblinear\n"
     ]
    },
    {
     "name": "stderr",
     "output_type": "stream",
     "text": [
      "C:\\Users\\User\\anaconda3\\lib\\site-packages\\sklearn\\linear_model\\_logistic.py:1165: UserWarning: l1_ratio parameter is only used when penalty is 'elasticnet'. Got (penalty=l1)\n",
      "  warnings.warn(\n",
      "C:\\Users\\User\\anaconda3\\lib\\site-packages\\sklearn\\linear_model\\_logistic.py:1165: UserWarning: l1_ratio parameter is only used when penalty is 'elasticnet'. Got (penalty=l1)\n",
      "  warnings.warn(\n",
      "C:\\Users\\User\\anaconda3\\lib\\site-packages\\sklearn\\linear_model\\_logistic.py:1165: UserWarning: l1_ratio parameter is only used when penalty is 'elasticnet'. Got (penalty=l1)\n",
      "  warnings.warn(\n",
      "C:\\Users\\User\\anaconda3\\lib\\site-packages\\sklearn\\linear_model\\_logistic.py:1165: UserWarning: l1_ratio parameter is only used when penalty is 'elasticnet'. Got (penalty=l1)\n",
      "  warnings.warn(\n"
     ]
    },
    {
     "name": "stdout",
     "output_type": "stream",
     "text": [
      "[CV 3/3; 137/2700] END C=0.001, l1_ratio=0.2575, max_iter=1000, multi_class=multinomial, penalty=l1, solver=liblinear;, score=nan total time=   0.0s\n",
      "[CV 1/3; 138/2700] START C=0.001, l1_ratio=0.2575, max_iter=1000, multi_class=multinomial, penalty=l1, solver=saga\n",
      "[CV 1/3; 138/2700] END C=0.001, l1_ratio=0.2575, max_iter=1000, multi_class=multinomial, penalty=l1, solver=saga;, score=0.306 total time=   3.8s\n",
      "[CV 2/3; 138/2700] START C=0.001, l1_ratio=0.2575, max_iter=1000, multi_class=multinomial, penalty=l1, solver=saga\n"
     ]
    },
    {
     "name": "stderr",
     "output_type": "stream",
     "text": [
      "C:\\Users\\User\\anaconda3\\lib\\site-packages\\sklearn\\linear_model\\_logistic.py:1165: UserWarning: l1_ratio parameter is only used when penalty is 'elasticnet'. Got (penalty=l1)\n",
      "  warnings.warn(\n"
     ]
    },
    {
     "name": "stdout",
     "output_type": "stream",
     "text": [
      "[CV 2/3; 138/2700] END C=0.001, l1_ratio=0.2575, max_iter=1000, multi_class=multinomial, penalty=l1, solver=saga;, score=0.306 total time=   4.5s\n",
      "[CV 3/3; 138/2700] START C=0.001, l1_ratio=0.2575, max_iter=1000, multi_class=multinomial, penalty=l1, solver=saga\n"
     ]
    },
    {
     "name": "stderr",
     "output_type": "stream",
     "text": [
      "C:\\Users\\User\\anaconda3\\lib\\site-packages\\sklearn\\linear_model\\_logistic.py:1165: UserWarning: l1_ratio parameter is only used when penalty is 'elasticnet'. Got (penalty=l1)\n",
      "  warnings.warn(\n"
     ]
    },
    {
     "name": "stdout",
     "output_type": "stream",
     "text": [
      "[CV 3/3; 138/2700] END C=0.001, l1_ratio=0.2575, max_iter=1000, multi_class=multinomial, penalty=l1, solver=saga;, score=0.306 total time=   5.7s\n",
      "[CV 1/3; 139/2700] START C=0.001, l1_ratio=0.2575, max_iter=1000, multi_class=multinomial, penalty=l1, solver=sag\n",
      "[CV 1/3; 139/2700] END C=0.001, l1_ratio=0.2575, max_iter=1000, multi_class=multinomial, penalty=l1, solver=sag;, score=nan total time=   0.0s\n",
      "[CV 2/3; 139/2700] START C=0.001, l1_ratio=0.2575, max_iter=1000, multi_class=multinomial, penalty=l1, solver=sag\n",
      "[CV 2/3; 139/2700] END C=0.001, l1_ratio=0.2575, max_iter=1000, multi_class=multinomial, penalty=l1, solver=sag;, score=nan total time=   0.0s\n",
      "[CV 3/3; 139/2700] START C=0.001, l1_ratio=0.2575, max_iter=1000, multi_class=multinomial, penalty=l1, solver=sag\n",
      "[CV 3/3; 139/2700] END C=0.001, l1_ratio=0.2575, max_iter=1000, multi_class=multinomial, penalty=l1, solver=sag;, score=nan total time=   0.0s\n",
      "[CV 1/3; 140/2700] START C=0.001, l1_ratio=0.2575, max_iter=1000, multi_class=multinomial, penalty=l1, solver=newton-cholesky\n",
      "[CV 1/3; 140/2700] END C=0.001, l1_ratio=0.2575, max_iter=1000, multi_class=multinomial, penalty=l1, solver=newton-cholesky;, score=nan total time=   0.0s\n",
      "[CV 2/3; 140/2700] START C=0.001, l1_ratio=0.2575, max_iter=1000, multi_class=multinomial, penalty=l1, solver=newton-cholesky\n",
      "[CV 2/3; 140/2700] END C=0.001, l1_ratio=0.2575, max_iter=1000, multi_class=multinomial, penalty=l1, solver=newton-cholesky;, score=nan total time=   0.0s\n",
      "[CV 3/3; 140/2700] START C=0.001, l1_ratio=0.2575, max_iter=1000, multi_class=multinomial, penalty=l1, solver=newton-cholesky\n",
      "[CV 3/3; 140/2700] END C=0.001, l1_ratio=0.2575, max_iter=1000, multi_class=multinomial, penalty=l1, solver=newton-cholesky;, score=nan total time=   0.0s\n",
      "[CV 1/3; 141/2700] START C=0.001, l1_ratio=0.2575, max_iter=1000, multi_class=multinomial, penalty=l2, solver=lbfgs\n"
     ]
    },
    {
     "name": "stderr",
     "output_type": "stream",
     "text": [
      "C:\\Users\\User\\anaconda3\\lib\\site-packages\\sklearn\\linear_model\\_logistic.py:1165: UserWarning: l1_ratio parameter is only used when penalty is 'elasticnet'. Got (penalty=l2)\n",
      "  warnings.warn(\n"
     ]
    },
    {
     "name": "stdout",
     "output_type": "stream",
     "text": [
      "[CV 1/3; 141/2700] END C=0.001, l1_ratio=0.2575, max_iter=1000, multi_class=multinomial, penalty=l2, solver=lbfgs;, score=0.478 total time=   0.6s\n",
      "[CV 2/3; 141/2700] START C=0.001, l1_ratio=0.2575, max_iter=1000, multi_class=multinomial, penalty=l2, solver=lbfgs\n"
     ]
    },
    {
     "name": "stderr",
     "output_type": "stream",
     "text": [
      "C:\\Users\\User\\anaconda3\\lib\\site-packages\\sklearn\\linear_model\\_logistic.py:1165: UserWarning: l1_ratio parameter is only used when penalty is 'elasticnet'. Got (penalty=l2)\n",
      "  warnings.warn(\n"
     ]
    },
    {
     "name": "stdout",
     "output_type": "stream",
     "text": [
      "[CV 2/3; 141/2700] END C=0.001, l1_ratio=0.2575, max_iter=1000, multi_class=multinomial, penalty=l2, solver=lbfgs;, score=0.474 total time=   0.5s\n",
      "[CV 3/3; 141/2700] START C=0.001, l1_ratio=0.2575, max_iter=1000, multi_class=multinomial, penalty=l2, solver=lbfgs\n"
     ]
    },
    {
     "name": "stderr",
     "output_type": "stream",
     "text": [
      "C:\\Users\\User\\anaconda3\\lib\\site-packages\\sklearn\\linear_model\\_logistic.py:1165: UserWarning: l1_ratio parameter is only used when penalty is 'elasticnet'. Got (penalty=l2)\n",
      "  warnings.warn(\n"
     ]
    },
    {
     "name": "stdout",
     "output_type": "stream",
     "text": [
      "[CV 3/3; 141/2700] END C=0.001, l1_ratio=0.2575, max_iter=1000, multi_class=multinomial, penalty=l2, solver=lbfgs;, score=0.471 total time=   0.5s\n",
      "[CV 1/3; 142/2700] START C=0.001, l1_ratio=0.2575, max_iter=1000, multi_class=multinomial, penalty=l2, solver=liblinear\n",
      "[CV 1/3; 142/2700] END C=0.001, l1_ratio=0.2575, max_iter=1000, multi_class=multinomial, penalty=l2, solver=liblinear;, score=nan total time=   0.0s\n",
      "[CV 2/3; 142/2700] START C=0.001, l1_ratio=0.2575, max_iter=1000, multi_class=multinomial, penalty=l2, solver=liblinear\n",
      "[CV 2/3; 142/2700] END C=0.001, l1_ratio=0.2575, max_iter=1000, multi_class=multinomial, penalty=l2, solver=liblinear;, score=nan total time=   0.0s\n",
      "[CV 3/3; 142/2700] START C=0.001, l1_ratio=0.2575, max_iter=1000, multi_class=multinomial, penalty=l2, solver=liblinear\n",
      "[CV 3/3; 142/2700] END C=0.001, l1_ratio=0.2575, max_iter=1000, multi_class=multinomial, penalty=l2, solver=liblinear;, score=nan total time=   0.0s\n",
      "[CV 1/3; 143/2700] START C=0.001, l1_ratio=0.2575, max_iter=1000, multi_class=multinomial, penalty=l2, solver=saga\n"
     ]
    },
    {
     "name": "stderr",
     "output_type": "stream",
     "text": [
      "C:\\Users\\User\\anaconda3\\lib\\site-packages\\sklearn\\linear_model\\_logistic.py:1165: UserWarning: l1_ratio parameter is only used when penalty is 'elasticnet'. Got (penalty=l2)\n",
      "  warnings.warn(\n",
      "C:\\Users\\User\\anaconda3\\lib\\site-packages\\sklearn\\linear_model\\_logistic.py:1165: UserWarning: l1_ratio parameter is only used when penalty is 'elasticnet'. Got (penalty=l2)\n",
      "  warnings.warn(\n",
      "C:\\Users\\User\\anaconda3\\lib\\site-packages\\sklearn\\linear_model\\_logistic.py:1165: UserWarning: l1_ratio parameter is only used when penalty is 'elasticnet'. Got (penalty=l2)\n",
      "  warnings.warn(\n",
      "C:\\Users\\User\\anaconda3\\lib\\site-packages\\sklearn\\linear_model\\_logistic.py:1165: UserWarning: l1_ratio parameter is only used when penalty is 'elasticnet'. Got (penalty=l2)\n",
      "  warnings.warn(\n"
     ]
    },
    {
     "name": "stdout",
     "output_type": "stream",
     "text": [
      "[CV 1/3; 143/2700] END C=0.001, l1_ratio=0.2575, max_iter=1000, multi_class=multinomial, penalty=l2, solver=saga;, score=0.477 total time=   4.4s\n",
      "[CV 2/3; 143/2700] START C=0.001, l1_ratio=0.2575, max_iter=1000, multi_class=multinomial, penalty=l2, solver=saga\n"
     ]
    },
    {
     "name": "stderr",
     "output_type": "stream",
     "text": [
      "C:\\Users\\User\\anaconda3\\lib\\site-packages\\sklearn\\linear_model\\_logistic.py:1165: UserWarning: l1_ratio parameter is only used when penalty is 'elasticnet'. Got (penalty=l2)\n",
      "  warnings.warn(\n"
     ]
    },
    {
     "name": "stdout",
     "output_type": "stream",
     "text": [
      "[CV 2/3; 143/2700] END C=0.001, l1_ratio=0.2575, max_iter=1000, multi_class=multinomial, penalty=l2, solver=saga;, score=0.474 total time=   4.5s\n",
      "[CV 3/3; 143/2700] START C=0.001, l1_ratio=0.2575, max_iter=1000, multi_class=multinomial, penalty=l2, solver=saga\n"
     ]
    },
    {
     "name": "stderr",
     "output_type": "stream",
     "text": [
      "C:\\Users\\User\\anaconda3\\lib\\site-packages\\sklearn\\linear_model\\_logistic.py:1165: UserWarning: l1_ratio parameter is only used when penalty is 'elasticnet'. Got (penalty=l2)\n",
      "  warnings.warn(\n"
     ]
    },
    {
     "name": "stdout",
     "output_type": "stream",
     "text": [
      "[CV 3/3; 143/2700] END C=0.001, l1_ratio=0.2575, max_iter=1000, multi_class=multinomial, penalty=l2, solver=saga;, score=0.471 total time=   5.1s\n",
      "[CV 1/3; 144/2700] START C=0.001, l1_ratio=0.2575, max_iter=1000, multi_class=multinomial, penalty=l2, solver=sag\n"
     ]
    },
    {
     "name": "stderr",
     "output_type": "stream",
     "text": [
      "C:\\Users\\User\\anaconda3\\lib\\site-packages\\sklearn\\linear_model\\_logistic.py:1165: UserWarning: l1_ratio parameter is only used when penalty is 'elasticnet'. Got (penalty=l2)\n",
      "  warnings.warn(\n"
     ]
    },
    {
     "name": "stdout",
     "output_type": "stream",
     "text": [
      "[CV 1/3; 144/2700] END C=0.001, l1_ratio=0.2575, max_iter=1000, multi_class=multinomial, penalty=l2, solver=sag;, score=0.477 total time=   1.5s\n",
      "[CV 2/3; 144/2700] START C=0.001, l1_ratio=0.2575, max_iter=1000, multi_class=multinomial, penalty=l2, solver=sag\n"
     ]
    },
    {
     "name": "stderr",
     "output_type": "stream",
     "text": [
      "C:\\Users\\User\\anaconda3\\lib\\site-packages\\sklearn\\linear_model\\_logistic.py:1165: UserWarning: l1_ratio parameter is only used when penalty is 'elasticnet'. Got (penalty=l2)\n",
      "  warnings.warn(\n"
     ]
    },
    {
     "name": "stdout",
     "output_type": "stream",
     "text": [
      "[CV 2/3; 144/2700] END C=0.001, l1_ratio=0.2575, max_iter=1000, multi_class=multinomial, penalty=l2, solver=sag;, score=0.474 total time=   1.1s\n",
      "[CV 3/3; 144/2700] START C=0.001, l1_ratio=0.2575, max_iter=1000, multi_class=multinomial, penalty=l2, solver=sag\n"
     ]
    },
    {
     "name": "stderr",
     "output_type": "stream",
     "text": [
      "C:\\Users\\User\\anaconda3\\lib\\site-packages\\sklearn\\linear_model\\_logistic.py:1165: UserWarning: l1_ratio parameter is only used when penalty is 'elasticnet'. Got (penalty=l2)\n",
      "  warnings.warn(\n"
     ]
    },
    {
     "name": "stdout",
     "output_type": "stream",
     "text": [
      "[CV 3/3; 144/2700] END C=0.001, l1_ratio=0.2575, max_iter=1000, multi_class=multinomial, penalty=l2, solver=sag;, score=0.471 total time=   1.1s\n",
      "[CV 1/3; 145/2700] START C=0.001, l1_ratio=0.2575, max_iter=1000, multi_class=multinomial, penalty=l2, solver=newton-cholesky\n",
      "[CV 1/3; 145/2700] END C=0.001, l1_ratio=0.2575, max_iter=1000, multi_class=multinomial, penalty=l2, solver=newton-cholesky;, score=nan total time=   0.0s\n",
      "[CV 2/3; 145/2700] START C=0.001, l1_ratio=0.2575, max_iter=1000, multi_class=multinomial, penalty=l2, solver=newton-cholesky\n",
      "[CV 2/3; 145/2700] END C=0.001, l1_ratio=0.2575, max_iter=1000, multi_class=multinomial, penalty=l2, solver=newton-cholesky;, score=nan total time=   0.0s\n",
      "[CV 3/3; 145/2700] START C=0.001, l1_ratio=0.2575, max_iter=1000, multi_class=multinomial, penalty=l2, solver=newton-cholesky\n",
      "[CV 3/3; 145/2700] END C=0.001, l1_ratio=0.2575, max_iter=1000, multi_class=multinomial, penalty=l2, solver=newton-cholesky;, score=nan total time=   0.0s\n",
      "[CV 1/3; 146/2700] START C=0.001, l1_ratio=0.2575, max_iter=1000, multi_class=multinomial, penalty=elasticnet, solver=lbfgs\n",
      "[CV 1/3; 146/2700] END C=0.001, l1_ratio=0.2575, max_iter=1000, multi_class=multinomial, penalty=elasticnet, solver=lbfgs;, score=nan total time=   0.0s\n",
      "[CV 2/3; 146/2700] START C=0.001, l1_ratio=0.2575, max_iter=1000, multi_class=multinomial, penalty=elasticnet, solver=lbfgs\n",
      "[CV 2/3; 146/2700] END C=0.001, l1_ratio=0.2575, max_iter=1000, multi_class=multinomial, penalty=elasticnet, solver=lbfgs;, score=nan total time=   0.0s\n",
      "[CV 3/3; 146/2700] START C=0.001, l1_ratio=0.2575, max_iter=1000, multi_class=multinomial, penalty=elasticnet, solver=lbfgs\n",
      "[CV 3/3; 146/2700] END C=0.001, l1_ratio=0.2575, max_iter=1000, multi_class=multinomial, penalty=elasticnet, solver=lbfgs;, score=nan total time=   0.0s\n",
      "[CV 1/3; 147/2700] START C=0.001, l1_ratio=0.2575, max_iter=1000, multi_class=multinomial, penalty=elasticnet, solver=liblinear\n",
      "[CV 1/3; 147/2700] END C=0.001, l1_ratio=0.2575, max_iter=1000, multi_class=multinomial, penalty=elasticnet, solver=liblinear;, score=nan total time=   0.0s\n",
      "[CV 2/3; 147/2700] START C=0.001, l1_ratio=0.2575, max_iter=1000, multi_class=multinomial, penalty=elasticnet, solver=liblinear\n",
      "[CV 2/3; 147/2700] END C=0.001, l1_ratio=0.2575, max_iter=1000, multi_class=multinomial, penalty=elasticnet, solver=liblinear;, score=nan total time=   0.0s\n",
      "[CV 3/3; 147/2700] START C=0.001, l1_ratio=0.2575, max_iter=1000, multi_class=multinomial, penalty=elasticnet, solver=liblinear\n",
      "[CV 3/3; 147/2700] END C=0.001, l1_ratio=0.2575, max_iter=1000, multi_class=multinomial, penalty=elasticnet, solver=liblinear;, score=nan total time=   0.0s\n",
      "[CV 1/3; 148/2700] START C=0.001, l1_ratio=0.2575, max_iter=1000, multi_class=multinomial, penalty=elasticnet, solver=saga\n"
     ]
    },
    {
     "name": "stderr",
     "output_type": "stream",
     "text": [
      "C:\\Users\\User\\anaconda3\\lib\\site-packages\\sklearn\\linear_model\\_logistic.py:1165: UserWarning: l1_ratio parameter is only used when penalty is 'elasticnet'. Got (penalty=l2)\n",
      "  warnings.warn(\n",
      "C:\\Users\\User\\anaconda3\\lib\\site-packages\\sklearn\\linear_model\\_logistic.py:1165: UserWarning: l1_ratio parameter is only used when penalty is 'elasticnet'. Got (penalty=l2)\n",
      "  warnings.warn(\n",
      "C:\\Users\\User\\anaconda3\\lib\\site-packages\\sklearn\\linear_model\\_logistic.py:1165: UserWarning: l1_ratio parameter is only used when penalty is 'elasticnet'. Got (penalty=l2)\n",
      "  warnings.warn(\n"
     ]
    },
    {
     "name": "stdout",
     "output_type": "stream",
     "text": [
      "[CV 1/3; 148/2700] END C=0.001, l1_ratio=0.2575, max_iter=1000, multi_class=multinomial, penalty=elasticnet, solver=saga;, score=0.463 total time=   5.4s\n",
      "[CV 2/3; 148/2700] START C=0.001, l1_ratio=0.2575, max_iter=1000, multi_class=multinomial, penalty=elasticnet, solver=saga\n",
      "[CV 2/3; 148/2700] END C=0.001, l1_ratio=0.2575, max_iter=1000, multi_class=multinomial, penalty=elasticnet, solver=saga;, score=0.462 total time=   6.2s\n",
      "[CV 3/3; 148/2700] START C=0.001, l1_ratio=0.2575, max_iter=1000, multi_class=multinomial, penalty=elasticnet, solver=saga\n",
      "[CV 3/3; 148/2700] END C=0.001, l1_ratio=0.2575, max_iter=1000, multi_class=multinomial, penalty=elasticnet, solver=saga;, score=0.457 total time=   5.1s\n",
      "[CV 1/3; 149/2700] START C=0.001, l1_ratio=0.2575, max_iter=1000, multi_class=multinomial, penalty=elasticnet, solver=sag\n",
      "[CV 1/3; 149/2700] END C=0.001, l1_ratio=0.2575, max_iter=1000, multi_class=multinomial, penalty=elasticnet, solver=sag;, score=nan total time=   0.0s\n",
      "[CV 2/3; 149/2700] START C=0.001, l1_ratio=0.2575, max_iter=1000, multi_class=multinomial, penalty=elasticnet, solver=sag\n",
      "[CV 2/3; 149/2700] END C=0.001, l1_ratio=0.2575, max_iter=1000, multi_class=multinomial, penalty=elasticnet, solver=sag;, score=nan total time=   0.0s\n",
      "[CV 3/3; 149/2700] START C=0.001, l1_ratio=0.2575, max_iter=1000, multi_class=multinomial, penalty=elasticnet, solver=sag\n",
      "[CV 3/3; 149/2700] END C=0.001, l1_ratio=0.2575, max_iter=1000, multi_class=multinomial, penalty=elasticnet, solver=sag;, score=nan total time=   0.0s\n",
      "[CV 1/3; 150/2700] START C=0.001, l1_ratio=0.2575, max_iter=1000, multi_class=multinomial, penalty=elasticnet, solver=newton-cholesky\n",
      "[CV 1/3; 150/2700] END C=0.001, l1_ratio=0.2575, max_iter=1000, multi_class=multinomial, penalty=elasticnet, solver=newton-cholesky;, score=nan total time=   0.0s\n",
      "[CV 2/3; 150/2700] START C=0.001, l1_ratio=0.2575, max_iter=1000, multi_class=multinomial, penalty=elasticnet, solver=newton-cholesky\n",
      "[CV 2/3; 150/2700] END C=0.001, l1_ratio=0.2575, max_iter=1000, multi_class=multinomial, penalty=elasticnet, solver=newton-cholesky;, score=nan total time=   0.0s\n",
      "[CV 3/3; 150/2700] START C=0.001, l1_ratio=0.2575, max_iter=1000, multi_class=multinomial, penalty=elasticnet, solver=newton-cholesky\n",
      "[CV 3/3; 150/2700] END C=0.001, l1_ratio=0.2575, max_iter=1000, multi_class=multinomial, penalty=elasticnet, solver=newton-cholesky;, score=nan total time=   0.0s\n",
      "[CV 1/3; 151/2700] START C=0.001, l1_ratio=0.2575, max_iter=10000, multi_class=ovr, penalty=l1, solver=lbfgs\n",
      "[CV 1/3; 151/2700] END C=0.001, l1_ratio=0.2575, max_iter=10000, multi_class=ovr, penalty=l1, solver=lbfgs;, score=nan total time=   0.0s\n",
      "[CV 2/3; 151/2700] START C=0.001, l1_ratio=0.2575, max_iter=10000, multi_class=ovr, penalty=l1, solver=lbfgs\n",
      "[CV 2/3; 151/2700] END C=0.001, l1_ratio=0.2575, max_iter=10000, multi_class=ovr, penalty=l1, solver=lbfgs;, score=nan total time=   0.0s\n",
      "[CV 3/3; 151/2700] START C=0.001, l1_ratio=0.2575, max_iter=10000, multi_class=ovr, penalty=l1, solver=lbfgs\n",
      "[CV 3/3; 151/2700] END C=0.001, l1_ratio=0.2575, max_iter=10000, multi_class=ovr, penalty=l1, solver=lbfgs;, score=nan total time=   0.0s\n",
      "[CV 1/3; 152/2700] START C=0.001, l1_ratio=0.2575, max_iter=10000, multi_class=ovr, penalty=l1, solver=liblinear\n"
     ]
    },
    {
     "name": "stderr",
     "output_type": "stream",
     "text": [
      "C:\\Users\\User\\anaconda3\\lib\\site-packages\\sklearn\\linear_model\\_logistic.py:1165: UserWarning: l1_ratio parameter is only used when penalty is 'elasticnet'. Got (penalty=l1)\n",
      "  warnings.warn(\n"
     ]
    },
    {
     "name": "stdout",
     "output_type": "stream",
     "text": [
      "[CV 1/3; 152/2700] END C=0.001, l1_ratio=0.2575, max_iter=10000, multi_class=ovr, penalty=l1, solver=liblinear;, score=0.458 total time=   0.1s\n",
      "[CV 2/3; 152/2700] START C=0.001, l1_ratio=0.2575, max_iter=10000, multi_class=ovr, penalty=l1, solver=liblinear\n"
     ]
    },
    {
     "name": "stderr",
     "output_type": "stream",
     "text": [
      "C:\\Users\\User\\anaconda3\\lib\\site-packages\\sklearn\\linear_model\\_logistic.py:1165: UserWarning: l1_ratio parameter is only used when penalty is 'elasticnet'. Got (penalty=l1)\n",
      "  warnings.warn(\n"
     ]
    },
    {
     "name": "stdout",
     "output_type": "stream",
     "text": [
      "[CV 2/3; 152/2700] END C=0.001, l1_ratio=0.2575, max_iter=10000, multi_class=ovr, penalty=l1, solver=liblinear;, score=0.460 total time=   0.1s\n",
      "[CV 3/3; 152/2700] START C=0.001, l1_ratio=0.2575, max_iter=10000, multi_class=ovr, penalty=l1, solver=liblinear\n"
     ]
    },
    {
     "name": "stderr",
     "output_type": "stream",
     "text": [
      "C:\\Users\\User\\anaconda3\\lib\\site-packages\\sklearn\\linear_model\\_logistic.py:1165: UserWarning: l1_ratio parameter is only used when penalty is 'elasticnet'. Got (penalty=l1)\n",
      "  warnings.warn(\n"
     ]
    },
    {
     "name": "stdout",
     "output_type": "stream",
     "text": [
      "[CV 3/3; 152/2700] END C=0.001, l1_ratio=0.2575, max_iter=10000, multi_class=ovr, penalty=l1, solver=liblinear;, score=0.453 total time=   0.1s\n",
      "[CV 1/3; 153/2700] START C=0.001, l1_ratio=0.2575, max_iter=10000, multi_class=ovr, penalty=l1, solver=saga\n"
     ]
    },
    {
     "name": "stderr",
     "output_type": "stream",
     "text": [
      "C:\\Users\\User\\anaconda3\\lib\\site-packages\\sklearn\\linear_model\\_logistic.py:1165: UserWarning: l1_ratio parameter is only used when penalty is 'elasticnet'. Got (penalty=l1)\n",
      "  warnings.warn(\n"
     ]
    },
    {
     "name": "stdout",
     "output_type": "stream",
     "text": [
      "[CV 1/3; 153/2700] END C=0.001, l1_ratio=0.2575, max_iter=10000, multi_class=ovr, penalty=l1, solver=saga;, score=0.306 total time=   2.2s\n",
      "[CV 2/3; 153/2700] START C=0.001, l1_ratio=0.2575, max_iter=10000, multi_class=ovr, penalty=l1, solver=saga\n"
     ]
    },
    {
     "name": "stderr",
     "output_type": "stream",
     "text": [
      "C:\\Users\\User\\anaconda3\\lib\\site-packages\\sklearn\\linear_model\\_logistic.py:1165: UserWarning: l1_ratio parameter is only used when penalty is 'elasticnet'. Got (penalty=l1)\n",
      "  warnings.warn(\n"
     ]
    },
    {
     "name": "stdout",
     "output_type": "stream",
     "text": [
      "[CV 2/3; 153/2700] END C=0.001, l1_ratio=0.2575, max_iter=10000, multi_class=ovr, penalty=l1, solver=saga;, score=0.306 total time=   2.2s\n",
      "[CV 3/3; 153/2700] START C=0.001, l1_ratio=0.2575, max_iter=10000, multi_class=ovr, penalty=l1, solver=saga\n"
     ]
    },
    {
     "name": "stderr",
     "output_type": "stream",
     "text": [
      "C:\\Users\\User\\anaconda3\\lib\\site-packages\\sklearn\\linear_model\\_logistic.py:1165: UserWarning: l1_ratio parameter is only used when penalty is 'elasticnet'. Got (penalty=l1)\n",
      "  warnings.warn(\n"
     ]
    },
    {
     "name": "stdout",
     "output_type": "stream",
     "text": [
      "[CV 3/3; 153/2700] END C=0.001, l1_ratio=0.2575, max_iter=10000, multi_class=ovr, penalty=l1, solver=saga;, score=0.306 total time=   2.1s\n",
      "[CV 1/3; 154/2700] START C=0.001, l1_ratio=0.2575, max_iter=10000, multi_class=ovr, penalty=l1, solver=sag\n",
      "[CV 1/3; 154/2700] END C=0.001, l1_ratio=0.2575, max_iter=10000, multi_class=ovr, penalty=l1, solver=sag;, score=nan total time=   0.0s\n",
      "[CV 2/3; 154/2700] START C=0.001, l1_ratio=0.2575, max_iter=10000, multi_class=ovr, penalty=l1, solver=sag\n",
      "[CV 2/3; 154/2700] END C=0.001, l1_ratio=0.2575, max_iter=10000, multi_class=ovr, penalty=l1, solver=sag;, score=nan total time=   0.0s\n",
      "[CV 3/3; 154/2700] START C=0.001, l1_ratio=0.2575, max_iter=10000, multi_class=ovr, penalty=l1, solver=sag\n",
      "[CV 3/3; 154/2700] END C=0.001, l1_ratio=0.2575, max_iter=10000, multi_class=ovr, penalty=l1, solver=sag;, score=nan total time=   0.0s\n",
      "[CV 1/3; 155/2700] START C=0.001, l1_ratio=0.2575, max_iter=10000, multi_class=ovr, penalty=l1, solver=newton-cholesky\n",
      "[CV 1/3; 155/2700] END C=0.001, l1_ratio=0.2575, max_iter=10000, multi_class=ovr, penalty=l1, solver=newton-cholesky;, score=nan total time=   0.0s\n",
      "[CV 2/3; 155/2700] START C=0.001, l1_ratio=0.2575, max_iter=10000, multi_class=ovr, penalty=l1, solver=newton-cholesky\n",
      "[CV 2/3; 155/2700] END C=0.001, l1_ratio=0.2575, max_iter=10000, multi_class=ovr, penalty=l1, solver=newton-cholesky;, score=nan total time=   0.0s\n",
      "[CV 3/3; 155/2700] START C=0.001, l1_ratio=0.2575, max_iter=10000, multi_class=ovr, penalty=l1, solver=newton-cholesky\n",
      "[CV 3/3; 155/2700] END C=0.001, l1_ratio=0.2575, max_iter=10000, multi_class=ovr, penalty=l1, solver=newton-cholesky;, score=nan total time=   0.0s\n",
      "[CV 1/3; 156/2700] START C=0.001, l1_ratio=0.2575, max_iter=10000, multi_class=ovr, penalty=l2, solver=lbfgs\n"
     ]
    },
    {
     "name": "stderr",
     "output_type": "stream",
     "text": [
      "C:\\Users\\User\\anaconda3\\lib\\site-packages\\sklearn\\linear_model\\_logistic.py:1165: UserWarning: l1_ratio parameter is only used when penalty is 'elasticnet'. Got (penalty=l2)\n",
      "  warnings.warn(\n"
     ]
    },
    {
     "name": "stdout",
     "output_type": "stream",
     "text": [
      "[CV 1/3; 156/2700] END C=0.001, l1_ratio=0.2575, max_iter=10000, multi_class=ovr, penalty=l2, solver=lbfgs;, score=0.469 total time=   0.5s\n",
      "[CV 2/3; 156/2700] START C=0.001, l1_ratio=0.2575, max_iter=10000, multi_class=ovr, penalty=l2, solver=lbfgs\n"
     ]
    },
    {
     "name": "stderr",
     "output_type": "stream",
     "text": [
      "C:\\Users\\User\\anaconda3\\lib\\site-packages\\sklearn\\linear_model\\_logistic.py:1165: UserWarning: l1_ratio parameter is only used when penalty is 'elasticnet'. Got (penalty=l2)\n",
      "  warnings.warn(\n"
     ]
    },
    {
     "name": "stdout",
     "output_type": "stream",
     "text": [
      "[CV 2/3; 156/2700] END C=0.001, l1_ratio=0.2575, max_iter=10000, multi_class=ovr, penalty=l2, solver=lbfgs;, score=0.468 total time=   0.5s\n",
      "[CV 3/3; 156/2700] START C=0.001, l1_ratio=0.2575, max_iter=10000, multi_class=ovr, penalty=l2, solver=lbfgs\n"
     ]
    },
    {
     "name": "stderr",
     "output_type": "stream",
     "text": [
      "C:\\Users\\User\\anaconda3\\lib\\site-packages\\sklearn\\linear_model\\_logistic.py:1165: UserWarning: l1_ratio parameter is only used when penalty is 'elasticnet'. Got (penalty=l2)\n",
      "  warnings.warn(\n"
     ]
    },
    {
     "name": "stdout",
     "output_type": "stream",
     "text": [
      "[CV 3/3; 156/2700] END C=0.001, l1_ratio=0.2575, max_iter=10000, multi_class=ovr, penalty=l2, solver=lbfgs;, score=0.464 total time=   0.5s\n",
      "[CV 1/3; 157/2700] START C=0.001, l1_ratio=0.2575, max_iter=10000, multi_class=ovr, penalty=l2, solver=liblinear\n"
     ]
    },
    {
     "name": "stderr",
     "output_type": "stream",
     "text": [
      "C:\\Users\\User\\anaconda3\\lib\\site-packages\\sklearn\\linear_model\\_logistic.py:1165: UserWarning: l1_ratio parameter is only used when penalty is 'elasticnet'. Got (penalty=l2)\n",
      "  warnings.warn(\n"
     ]
    },
    {
     "name": "stdout",
     "output_type": "stream",
     "text": [
      "[CV 1/3; 157/2700] END C=0.001, l1_ratio=0.2575, max_iter=10000, multi_class=ovr, penalty=l2, solver=liblinear;, score=0.469 total time=   0.2s\n",
      "[CV 2/3; 157/2700] START C=0.001, l1_ratio=0.2575, max_iter=10000, multi_class=ovr, penalty=l2, solver=liblinear\n"
     ]
    },
    {
     "name": "stderr",
     "output_type": "stream",
     "text": [
      "C:\\Users\\User\\anaconda3\\lib\\site-packages\\sklearn\\linear_model\\_logistic.py:1165: UserWarning: l1_ratio parameter is only used when penalty is 'elasticnet'. Got (penalty=l2)\n",
      "  warnings.warn(\n"
     ]
    },
    {
     "name": "stdout",
     "output_type": "stream",
     "text": [
      "[CV 2/3; 157/2700] END C=0.001, l1_ratio=0.2575, max_iter=10000, multi_class=ovr, penalty=l2, solver=liblinear;, score=0.467 total time=   0.2s\n",
      "[CV 3/3; 157/2700] START C=0.001, l1_ratio=0.2575, max_iter=10000, multi_class=ovr, penalty=l2, solver=liblinear\n"
     ]
    },
    {
     "name": "stderr",
     "output_type": "stream",
     "text": [
      "C:\\Users\\User\\anaconda3\\lib\\site-packages\\sklearn\\linear_model\\_logistic.py:1165: UserWarning: l1_ratio parameter is only used when penalty is 'elasticnet'. Got (penalty=l2)\n",
      "  warnings.warn(\n"
     ]
    },
    {
     "name": "stdout",
     "output_type": "stream",
     "text": [
      "[CV 3/3; 157/2700] END C=0.001, l1_ratio=0.2575, max_iter=10000, multi_class=ovr, penalty=l2, solver=liblinear;, score=0.465 total time=   0.2s\n",
      "[CV 1/3; 158/2700] START C=0.001, l1_ratio=0.2575, max_iter=10000, multi_class=ovr, penalty=l2, solver=saga\n"
     ]
    },
    {
     "name": "stderr",
     "output_type": "stream",
     "text": [
      "C:\\Users\\User\\anaconda3\\lib\\site-packages\\sklearn\\linear_model\\_logistic.py:1165: UserWarning: l1_ratio parameter is only used when penalty is 'elasticnet'. Got (penalty=l2)\n",
      "  warnings.warn(\n"
     ]
    },
    {
     "name": "stdout",
     "output_type": "stream",
     "text": [
      "[CV 1/3; 158/2700] END C=0.001, l1_ratio=0.2575, max_iter=10000, multi_class=ovr, penalty=l2, solver=saga;, score=0.469 total time=   6.1s\n",
      "[CV 2/3; 158/2700] START C=0.001, l1_ratio=0.2575, max_iter=10000, multi_class=ovr, penalty=l2, solver=saga\n"
     ]
    },
    {
     "name": "stderr",
     "output_type": "stream",
     "text": [
      "C:\\Users\\User\\anaconda3\\lib\\site-packages\\sklearn\\linear_model\\_logistic.py:1165: UserWarning: l1_ratio parameter is only used when penalty is 'elasticnet'. Got (penalty=l2)\n",
      "  warnings.warn(\n"
     ]
    },
    {
     "name": "stdout",
     "output_type": "stream",
     "text": [
      "[CV 2/3; 158/2700] END C=0.001, l1_ratio=0.2575, max_iter=10000, multi_class=ovr, penalty=l2, solver=saga;, score=0.468 total time=   5.8s\n",
      "[CV 3/3; 158/2700] START C=0.001, l1_ratio=0.2575, max_iter=10000, multi_class=ovr, penalty=l2, solver=saga\n"
     ]
    },
    {
     "name": "stderr",
     "output_type": "stream",
     "text": [
      "C:\\Users\\User\\anaconda3\\lib\\site-packages\\sklearn\\linear_model\\_logistic.py:1165: UserWarning: l1_ratio parameter is only used when penalty is 'elasticnet'. Got (penalty=l2)\n",
      "  warnings.warn(\n"
     ]
    },
    {
     "name": "stdout",
     "output_type": "stream",
     "text": [
      "[CV 3/3; 158/2700] END C=0.001, l1_ratio=0.2575, max_iter=10000, multi_class=ovr, penalty=l2, solver=saga;, score=0.464 total time=   6.6s\n",
      "[CV 1/3; 159/2700] START C=0.001, l1_ratio=0.2575, max_iter=10000, multi_class=ovr, penalty=l2, solver=sag\n"
     ]
    },
    {
     "name": "stderr",
     "output_type": "stream",
     "text": [
      "C:\\Users\\User\\anaconda3\\lib\\site-packages\\sklearn\\linear_model\\_logistic.py:1165: UserWarning: l1_ratio parameter is only used when penalty is 'elasticnet'. Got (penalty=l2)\n",
      "  warnings.warn(\n"
     ]
    },
    {
     "name": "stdout",
     "output_type": "stream",
     "text": [
      "[CV 1/3; 159/2700] END C=0.001, l1_ratio=0.2575, max_iter=10000, multi_class=ovr, penalty=l2, solver=sag;, score=0.469 total time=   2.6s\n",
      "[CV 2/3; 159/2700] START C=0.001, l1_ratio=0.2575, max_iter=10000, multi_class=ovr, penalty=l2, solver=sag\n"
     ]
    },
    {
     "name": "stderr",
     "output_type": "stream",
     "text": [
      "C:\\Users\\User\\anaconda3\\lib\\site-packages\\sklearn\\linear_model\\_logistic.py:1165: UserWarning: l1_ratio parameter is only used when penalty is 'elasticnet'. Got (penalty=l2)\n",
      "  warnings.warn(\n"
     ]
    },
    {
     "name": "stdout",
     "output_type": "stream",
     "text": [
      "[CV 2/3; 159/2700] END C=0.001, l1_ratio=0.2575, max_iter=10000, multi_class=ovr, penalty=l2, solver=sag;, score=0.468 total time=   2.6s\n",
      "[CV 3/3; 159/2700] START C=0.001, l1_ratio=0.2575, max_iter=10000, multi_class=ovr, penalty=l2, solver=sag\n"
     ]
    },
    {
     "name": "stderr",
     "output_type": "stream",
     "text": [
      "C:\\Users\\User\\anaconda3\\lib\\site-packages\\sklearn\\linear_model\\_logistic.py:1165: UserWarning: l1_ratio parameter is only used when penalty is 'elasticnet'. Got (penalty=l2)\n",
      "  warnings.warn(\n"
     ]
    },
    {
     "name": "stdout",
     "output_type": "stream",
     "text": [
      "[CV 3/3; 159/2700] END C=0.001, l1_ratio=0.2575, max_iter=10000, multi_class=ovr, penalty=l2, solver=sag;, score=0.464 total time=   2.6s\n",
      "[CV 1/3; 160/2700] START C=0.001, l1_ratio=0.2575, max_iter=10000, multi_class=ovr, penalty=l2, solver=newton-cholesky\n"
     ]
    },
    {
     "name": "stderr",
     "output_type": "stream",
     "text": [
      "C:\\Users\\User\\anaconda3\\lib\\site-packages\\sklearn\\linear_model\\_logistic.py:1165: UserWarning: l1_ratio parameter is only used when penalty is 'elasticnet'. Got (penalty=l2)\n",
      "  warnings.warn(\n"
     ]
    },
    {
     "name": "stdout",
     "output_type": "stream",
     "text": [
      "[CV 1/3; 160/2700] END C=0.001, l1_ratio=0.2575, max_iter=10000, multi_class=ovr, penalty=l2, solver=newton-cholesky;, score=0.469 total time=   1.3s\n",
      "[CV 2/3; 160/2700] START C=0.001, l1_ratio=0.2575, max_iter=10000, multi_class=ovr, penalty=l2, solver=newton-cholesky\n"
     ]
    },
    {
     "name": "stderr",
     "output_type": "stream",
     "text": [
      "C:\\Users\\User\\anaconda3\\lib\\site-packages\\sklearn\\linear_model\\_logistic.py:1165: UserWarning: l1_ratio parameter is only used when penalty is 'elasticnet'. Got (penalty=l2)\n",
      "  warnings.warn(\n"
     ]
    },
    {
     "name": "stdout",
     "output_type": "stream",
     "text": [
      "[CV 2/3; 160/2700] END C=0.001, l1_ratio=0.2575, max_iter=10000, multi_class=ovr, penalty=l2, solver=newton-cholesky;, score=0.468 total time=   1.6s\n",
      "[CV 3/3; 160/2700] START C=0.001, l1_ratio=0.2575, max_iter=10000, multi_class=ovr, penalty=l2, solver=newton-cholesky\n"
     ]
    },
    {
     "name": "stderr",
     "output_type": "stream",
     "text": [
      "C:\\Users\\User\\anaconda3\\lib\\site-packages\\sklearn\\linear_model\\_logistic.py:1165: UserWarning: l1_ratio parameter is only used when penalty is 'elasticnet'. Got (penalty=l2)\n",
      "  warnings.warn(\n"
     ]
    },
    {
     "name": "stdout",
     "output_type": "stream",
     "text": [
      "[CV 3/3; 160/2700] END C=0.001, l1_ratio=0.2575, max_iter=10000, multi_class=ovr, penalty=l2, solver=newton-cholesky;, score=0.464 total time=   1.7s\n",
      "[CV 1/3; 161/2700] START C=0.001, l1_ratio=0.2575, max_iter=10000, multi_class=ovr, penalty=elasticnet, solver=lbfgs\n",
      "[CV 1/3; 161/2700] END C=0.001, l1_ratio=0.2575, max_iter=10000, multi_class=ovr, penalty=elasticnet, solver=lbfgs;, score=nan total time=   0.0s\n",
      "[CV 2/3; 161/2700] START C=0.001, l1_ratio=0.2575, max_iter=10000, multi_class=ovr, penalty=elasticnet, solver=lbfgs\n",
      "[CV 2/3; 161/2700] END C=0.001, l1_ratio=0.2575, max_iter=10000, multi_class=ovr, penalty=elasticnet, solver=lbfgs;, score=nan total time=   0.0s\n",
      "[CV 3/3; 161/2700] START C=0.001, l1_ratio=0.2575, max_iter=10000, multi_class=ovr, penalty=elasticnet, solver=lbfgs\n",
      "[CV 3/3; 161/2700] END C=0.001, l1_ratio=0.2575, max_iter=10000, multi_class=ovr, penalty=elasticnet, solver=lbfgs;, score=nan total time=   0.0s\n",
      "[CV 1/3; 162/2700] START C=0.001, l1_ratio=0.2575, max_iter=10000, multi_class=ovr, penalty=elasticnet, solver=liblinear\n",
      "[CV 1/3; 162/2700] END C=0.001, l1_ratio=0.2575, max_iter=10000, multi_class=ovr, penalty=elasticnet, solver=liblinear;, score=nan total time=   0.0s\n",
      "[CV 2/3; 162/2700] START C=0.001, l1_ratio=0.2575, max_iter=10000, multi_class=ovr, penalty=elasticnet, solver=liblinear\n",
      "[CV 2/3; 162/2700] END C=0.001, l1_ratio=0.2575, max_iter=10000, multi_class=ovr, penalty=elasticnet, solver=liblinear;, score=nan total time=   0.0s\n",
      "[CV 3/3; 162/2700] START C=0.001, l1_ratio=0.2575, max_iter=10000, multi_class=ovr, penalty=elasticnet, solver=liblinear\n",
      "[CV 3/3; 162/2700] END C=0.001, l1_ratio=0.2575, max_iter=10000, multi_class=ovr, penalty=elasticnet, solver=liblinear;, score=nan total time=   0.0s\n",
      "[CV 1/3; 163/2700] START C=0.001, l1_ratio=0.2575, max_iter=10000, multi_class=ovr, penalty=elasticnet, solver=saga\n",
      "[CV 1/3; 163/2700] END C=0.001, l1_ratio=0.2575, max_iter=10000, multi_class=ovr, penalty=elasticnet, solver=saga;, score=0.461 total time=   5.8s\n",
      "[CV 2/3; 163/2700] START C=0.001, l1_ratio=0.2575, max_iter=10000, multi_class=ovr, penalty=elasticnet, solver=saga\n",
      "[CV 2/3; 163/2700] END C=0.001, l1_ratio=0.2575, max_iter=10000, multi_class=ovr, penalty=elasticnet, solver=saga;, score=0.459 total time=   5.3s\n",
      "[CV 3/3; 163/2700] START C=0.001, l1_ratio=0.2575, max_iter=10000, multi_class=ovr, penalty=elasticnet, solver=saga\n",
      "[CV 3/3; 163/2700] END C=0.001, l1_ratio=0.2575, max_iter=10000, multi_class=ovr, penalty=elasticnet, solver=saga;, score=0.455 total time=   6.1s\n",
      "[CV 1/3; 164/2700] START C=0.001, l1_ratio=0.2575, max_iter=10000, multi_class=ovr, penalty=elasticnet, solver=sag\n",
      "[CV 1/3; 164/2700] END C=0.001, l1_ratio=0.2575, max_iter=10000, multi_class=ovr, penalty=elasticnet, solver=sag;, score=nan total time=   0.0s\n",
      "[CV 2/3; 164/2700] START C=0.001, l1_ratio=0.2575, max_iter=10000, multi_class=ovr, penalty=elasticnet, solver=sag\n",
      "[CV 2/3; 164/2700] END C=0.001, l1_ratio=0.2575, max_iter=10000, multi_class=ovr, penalty=elasticnet, solver=sag;, score=nan total time=   0.0s\n",
      "[CV 3/3; 164/2700] START C=0.001, l1_ratio=0.2575, max_iter=10000, multi_class=ovr, penalty=elasticnet, solver=sag\n",
      "[CV 3/3; 164/2700] END C=0.001, l1_ratio=0.2575, max_iter=10000, multi_class=ovr, penalty=elasticnet, solver=sag;, score=nan total time=   0.0s\n",
      "[CV 1/3; 165/2700] START C=0.001, l1_ratio=0.2575, max_iter=10000, multi_class=ovr, penalty=elasticnet, solver=newton-cholesky\n",
      "[CV 1/3; 165/2700] END C=0.001, l1_ratio=0.2575, max_iter=10000, multi_class=ovr, penalty=elasticnet, solver=newton-cholesky;, score=nan total time=   0.0s\n",
      "[CV 2/3; 165/2700] START C=0.001, l1_ratio=0.2575, max_iter=10000, multi_class=ovr, penalty=elasticnet, solver=newton-cholesky\n",
      "[CV 2/3; 165/2700] END C=0.001, l1_ratio=0.2575, max_iter=10000, multi_class=ovr, penalty=elasticnet, solver=newton-cholesky;, score=nan total time=   0.0s\n",
      "[CV 3/3; 165/2700] START C=0.001, l1_ratio=0.2575, max_iter=10000, multi_class=ovr, penalty=elasticnet, solver=newton-cholesky\n",
      "[CV 3/3; 165/2700] END C=0.001, l1_ratio=0.2575, max_iter=10000, multi_class=ovr, penalty=elasticnet, solver=newton-cholesky;, score=nan total time=   0.0s\n",
      "[CV 1/3; 166/2700] START C=0.001, l1_ratio=0.2575, max_iter=10000, multi_class=multinomial, penalty=l1, solver=lbfgs\n",
      "[CV 1/3; 166/2700] END C=0.001, l1_ratio=0.2575, max_iter=10000, multi_class=multinomial, penalty=l1, solver=lbfgs;, score=nan total time=   0.0s\n",
      "[CV 2/3; 166/2700] START C=0.001, l1_ratio=0.2575, max_iter=10000, multi_class=multinomial, penalty=l1, solver=lbfgs\n",
      "[CV 2/3; 166/2700] END C=0.001, l1_ratio=0.2575, max_iter=10000, multi_class=multinomial, penalty=l1, solver=lbfgs;, score=nan total time=   0.0s\n",
      "[CV 3/3; 166/2700] START C=0.001, l1_ratio=0.2575, max_iter=10000, multi_class=multinomial, penalty=l1, solver=lbfgs\n",
      "[CV 3/3; 166/2700] END C=0.001, l1_ratio=0.2575, max_iter=10000, multi_class=multinomial, penalty=l1, solver=lbfgs;, score=nan total time=   0.0s\n",
      "[CV 1/3; 167/2700] START C=0.001, l1_ratio=0.2575, max_iter=10000, multi_class=multinomial, penalty=l1, solver=liblinear\n",
      "[CV 1/3; 167/2700] END C=0.001, l1_ratio=0.2575, max_iter=10000, multi_class=multinomial, penalty=l1, solver=liblinear;, score=nan total time=   0.0s\n",
      "[CV 2/3; 167/2700] START C=0.001, l1_ratio=0.2575, max_iter=10000, multi_class=multinomial, penalty=l1, solver=liblinear\n",
      "[CV 2/3; 167/2700] END C=0.001, l1_ratio=0.2575, max_iter=10000, multi_class=multinomial, penalty=l1, solver=liblinear;, score=nan total time=   0.0s\n",
      "[CV 3/3; 167/2700] START C=0.001, l1_ratio=0.2575, max_iter=10000, multi_class=multinomial, penalty=l1, solver=liblinear\n"
     ]
    },
    {
     "name": "stderr",
     "output_type": "stream",
     "text": [
      "C:\\Users\\User\\anaconda3\\lib\\site-packages\\sklearn\\linear_model\\_logistic.py:1165: UserWarning: l1_ratio parameter is only used when penalty is 'elasticnet'. Got (penalty=l1)\n",
      "  warnings.warn(\n",
      "C:\\Users\\User\\anaconda3\\lib\\site-packages\\sklearn\\linear_model\\_logistic.py:1165: UserWarning: l1_ratio parameter is only used when penalty is 'elasticnet'. Got (penalty=l1)\n",
      "  warnings.warn(\n",
      "C:\\Users\\User\\anaconda3\\lib\\site-packages\\sklearn\\linear_model\\_logistic.py:1165: UserWarning: l1_ratio parameter is only used when penalty is 'elasticnet'. Got (penalty=l1)\n",
      "  warnings.warn(\n",
      "C:\\Users\\User\\anaconda3\\lib\\site-packages\\sklearn\\linear_model\\_logistic.py:1165: UserWarning: l1_ratio parameter is only used when penalty is 'elasticnet'. Got (penalty=l1)\n",
      "  warnings.warn(\n"
     ]
    },
    {
     "name": "stdout",
     "output_type": "stream",
     "text": [
      "[CV 3/3; 167/2700] END C=0.001, l1_ratio=0.2575, max_iter=10000, multi_class=multinomial, penalty=l1, solver=liblinear;, score=nan total time=   0.0s\n",
      "[CV 1/3; 168/2700] START C=0.001, l1_ratio=0.2575, max_iter=10000, multi_class=multinomial, penalty=l1, solver=saga\n",
      "[CV 1/3; 168/2700] END C=0.001, l1_ratio=0.2575, max_iter=10000, multi_class=multinomial, penalty=l1, solver=saga;, score=0.306 total time=   3.9s\n",
      "[CV 2/3; 168/2700] START C=0.001, l1_ratio=0.2575, max_iter=10000, multi_class=multinomial, penalty=l1, solver=saga\n"
     ]
    },
    {
     "name": "stderr",
     "output_type": "stream",
     "text": [
      "C:\\Users\\User\\anaconda3\\lib\\site-packages\\sklearn\\linear_model\\_logistic.py:1165: UserWarning: l1_ratio parameter is only used when penalty is 'elasticnet'. Got (penalty=l1)\n",
      "  warnings.warn(\n"
     ]
    },
    {
     "name": "stdout",
     "output_type": "stream",
     "text": [
      "[CV 2/3; 168/2700] END C=0.001, l1_ratio=0.2575, max_iter=10000, multi_class=multinomial, penalty=l1, solver=saga;, score=0.306 total time=   4.4s\n",
      "[CV 3/3; 168/2700] START C=0.001, l1_ratio=0.2575, max_iter=10000, multi_class=multinomial, penalty=l1, solver=saga\n"
     ]
    },
    {
     "name": "stderr",
     "output_type": "stream",
     "text": [
      "C:\\Users\\User\\anaconda3\\lib\\site-packages\\sklearn\\linear_model\\_logistic.py:1165: UserWarning: l1_ratio parameter is only used when penalty is 'elasticnet'. Got (penalty=l1)\n",
      "  warnings.warn(\n"
     ]
    },
    {
     "name": "stdout",
     "output_type": "stream",
     "text": [
      "[CV 3/3; 168/2700] END C=0.001, l1_ratio=0.2575, max_iter=10000, multi_class=multinomial, penalty=l1, solver=saga;, score=0.306 total time=   5.7s\n",
      "[CV 1/3; 169/2700] START C=0.001, l1_ratio=0.2575, max_iter=10000, multi_class=multinomial, penalty=l1, solver=sag\n",
      "[CV 1/3; 169/2700] END C=0.001, l1_ratio=0.2575, max_iter=10000, multi_class=multinomial, penalty=l1, solver=sag;, score=nan total time=   0.0s\n",
      "[CV 2/3; 169/2700] START C=0.001, l1_ratio=0.2575, max_iter=10000, multi_class=multinomial, penalty=l1, solver=sag\n",
      "[CV 2/3; 169/2700] END C=0.001, l1_ratio=0.2575, max_iter=10000, multi_class=multinomial, penalty=l1, solver=sag;, score=nan total time=   0.0s\n",
      "[CV 3/3; 169/2700] START C=0.001, l1_ratio=0.2575, max_iter=10000, multi_class=multinomial, penalty=l1, solver=sag\n",
      "[CV 3/3; 169/2700] END C=0.001, l1_ratio=0.2575, max_iter=10000, multi_class=multinomial, penalty=l1, solver=sag;, score=nan total time=   0.0s\n",
      "[CV 1/3; 170/2700] START C=0.001, l1_ratio=0.2575, max_iter=10000, multi_class=multinomial, penalty=l1, solver=newton-cholesky\n",
      "[CV 1/3; 170/2700] END C=0.001, l1_ratio=0.2575, max_iter=10000, multi_class=multinomial, penalty=l1, solver=newton-cholesky;, score=nan total time=   0.0s\n",
      "[CV 2/3; 170/2700] START C=0.001, l1_ratio=0.2575, max_iter=10000, multi_class=multinomial, penalty=l1, solver=newton-cholesky\n",
      "[CV 2/3; 170/2700] END C=0.001, l1_ratio=0.2575, max_iter=10000, multi_class=multinomial, penalty=l1, solver=newton-cholesky;, score=nan total time=   0.0s\n",
      "[CV 3/3; 170/2700] START C=0.001, l1_ratio=0.2575, max_iter=10000, multi_class=multinomial, penalty=l1, solver=newton-cholesky\n",
      "[CV 3/3; 170/2700] END C=0.001, l1_ratio=0.2575, max_iter=10000, multi_class=multinomial, penalty=l1, solver=newton-cholesky;, score=nan total time=   0.0s\n",
      "[CV 1/3; 171/2700] START C=0.001, l1_ratio=0.2575, max_iter=10000, multi_class=multinomial, penalty=l2, solver=lbfgs\n"
     ]
    },
    {
     "name": "stderr",
     "output_type": "stream",
     "text": [
      "C:\\Users\\User\\anaconda3\\lib\\site-packages\\sklearn\\linear_model\\_logistic.py:1165: UserWarning: l1_ratio parameter is only used when penalty is 'elasticnet'. Got (penalty=l2)\n",
      "  warnings.warn(\n"
     ]
    },
    {
     "name": "stdout",
     "output_type": "stream",
     "text": [
      "[CV 1/3; 171/2700] END C=0.001, l1_ratio=0.2575, max_iter=10000, multi_class=multinomial, penalty=l2, solver=lbfgs;, score=0.478 total time=   0.6s\n",
      "[CV 2/3; 171/2700] START C=0.001, l1_ratio=0.2575, max_iter=10000, multi_class=multinomial, penalty=l2, solver=lbfgs\n"
     ]
    },
    {
     "name": "stderr",
     "output_type": "stream",
     "text": [
      "C:\\Users\\User\\anaconda3\\lib\\site-packages\\sklearn\\linear_model\\_logistic.py:1165: UserWarning: l1_ratio parameter is only used when penalty is 'elasticnet'. Got (penalty=l2)\n",
      "  warnings.warn(\n"
     ]
    },
    {
     "name": "stdout",
     "output_type": "stream",
     "text": [
      "[CV 2/3; 171/2700] END C=0.001, l1_ratio=0.2575, max_iter=10000, multi_class=multinomial, penalty=l2, solver=lbfgs;, score=0.474 total time=   0.5s\n",
      "[CV 3/3; 171/2700] START C=0.001, l1_ratio=0.2575, max_iter=10000, multi_class=multinomial, penalty=l2, solver=lbfgs\n"
     ]
    },
    {
     "name": "stderr",
     "output_type": "stream",
     "text": [
      "C:\\Users\\User\\anaconda3\\lib\\site-packages\\sklearn\\linear_model\\_logistic.py:1165: UserWarning: l1_ratio parameter is only used when penalty is 'elasticnet'. Got (penalty=l2)\n",
      "  warnings.warn(\n"
     ]
    },
    {
     "name": "stdout",
     "output_type": "stream",
     "text": [
      "[CV 3/3; 171/2700] END C=0.001, l1_ratio=0.2575, max_iter=10000, multi_class=multinomial, penalty=l2, solver=lbfgs;, score=0.471 total time=   0.5s\n",
      "[CV 1/3; 172/2700] START C=0.001, l1_ratio=0.2575, max_iter=10000, multi_class=multinomial, penalty=l2, solver=liblinear\n",
      "[CV 1/3; 172/2700] END C=0.001, l1_ratio=0.2575, max_iter=10000, multi_class=multinomial, penalty=l2, solver=liblinear;, score=nan total time=   0.0s\n",
      "[CV 2/3; 172/2700] START C=0.001, l1_ratio=0.2575, max_iter=10000, multi_class=multinomial, penalty=l2, solver=liblinear\n",
      "[CV 2/3; 172/2700] END C=0.001, l1_ratio=0.2575, max_iter=10000, multi_class=multinomial, penalty=l2, solver=liblinear;, score=nan total time=   0.0s\n",
      "[CV 3/3; 172/2700] START C=0.001, l1_ratio=0.2575, max_iter=10000, multi_class=multinomial, penalty=l2, solver=liblinear\n",
      "[CV 3/3; 172/2700] END C=0.001, l1_ratio=0.2575, max_iter=10000, multi_class=multinomial, penalty=l2, solver=liblinear;, score=nan total time=   0.0s\n",
      "[CV 1/3; 173/2700] START C=0.001, l1_ratio=0.2575, max_iter=10000, multi_class=multinomial, penalty=l2, solver=saga\n"
     ]
    },
    {
     "name": "stderr",
     "output_type": "stream",
     "text": [
      "C:\\Users\\User\\anaconda3\\lib\\site-packages\\sklearn\\linear_model\\_logistic.py:1165: UserWarning: l1_ratio parameter is only used when penalty is 'elasticnet'. Got (penalty=l2)\n",
      "  warnings.warn(\n",
      "C:\\Users\\User\\anaconda3\\lib\\site-packages\\sklearn\\linear_model\\_logistic.py:1165: UserWarning: l1_ratio parameter is only used when penalty is 'elasticnet'. Got (penalty=l2)\n",
      "  warnings.warn(\n",
      "C:\\Users\\User\\anaconda3\\lib\\site-packages\\sklearn\\linear_model\\_logistic.py:1165: UserWarning: l1_ratio parameter is only used when penalty is 'elasticnet'. Got (penalty=l2)\n",
      "  warnings.warn(\n",
      "C:\\Users\\User\\anaconda3\\lib\\site-packages\\sklearn\\linear_model\\_logistic.py:1165: UserWarning: l1_ratio parameter is only used when penalty is 'elasticnet'. Got (penalty=l2)\n",
      "  warnings.warn(\n"
     ]
    },
    {
     "name": "stdout",
     "output_type": "stream",
     "text": [
      "[CV 1/3; 173/2700] END C=0.001, l1_ratio=0.2575, max_iter=10000, multi_class=multinomial, penalty=l2, solver=saga;, score=0.477 total time=   4.3s\n",
      "[CV 2/3; 173/2700] START C=0.001, l1_ratio=0.2575, max_iter=10000, multi_class=multinomial, penalty=l2, solver=saga\n"
     ]
    },
    {
     "name": "stderr",
     "output_type": "stream",
     "text": [
      "C:\\Users\\User\\anaconda3\\lib\\site-packages\\sklearn\\linear_model\\_logistic.py:1165: UserWarning: l1_ratio parameter is only used when penalty is 'elasticnet'. Got (penalty=l2)\n",
      "  warnings.warn(\n"
     ]
    },
    {
     "name": "stdout",
     "output_type": "stream",
     "text": [
      "[CV 2/3; 173/2700] END C=0.001, l1_ratio=0.2575, max_iter=10000, multi_class=multinomial, penalty=l2, solver=saga;, score=0.474 total time=   4.4s\n",
      "[CV 3/3; 173/2700] START C=0.001, l1_ratio=0.2575, max_iter=10000, multi_class=multinomial, penalty=l2, solver=saga\n"
     ]
    },
    {
     "name": "stderr",
     "output_type": "stream",
     "text": [
      "C:\\Users\\User\\anaconda3\\lib\\site-packages\\sklearn\\linear_model\\_logistic.py:1165: UserWarning: l1_ratio parameter is only used when penalty is 'elasticnet'. Got (penalty=l2)\n",
      "  warnings.warn(\n"
     ]
    },
    {
     "name": "stdout",
     "output_type": "stream",
     "text": [
      "[CV 3/3; 173/2700] END C=0.001, l1_ratio=0.2575, max_iter=10000, multi_class=multinomial, penalty=l2, solver=saga;, score=0.471 total time=   5.3s\n",
      "[CV 1/3; 174/2700] START C=0.001, l1_ratio=0.2575, max_iter=10000, multi_class=multinomial, penalty=l2, solver=sag\n"
     ]
    },
    {
     "name": "stderr",
     "output_type": "stream",
     "text": [
      "C:\\Users\\User\\anaconda3\\lib\\site-packages\\sklearn\\linear_model\\_logistic.py:1165: UserWarning: l1_ratio parameter is only used when penalty is 'elasticnet'. Got (penalty=l2)\n",
      "  warnings.warn(\n"
     ]
    },
    {
     "name": "stdout",
     "output_type": "stream",
     "text": [
      "[CV 1/3; 174/2700] END C=0.001, l1_ratio=0.2575, max_iter=10000, multi_class=multinomial, penalty=l2, solver=sag;, score=0.477 total time=   1.1s\n",
      "[CV 2/3; 174/2700] START C=0.001, l1_ratio=0.2575, max_iter=10000, multi_class=multinomial, penalty=l2, solver=sag\n"
     ]
    },
    {
     "name": "stderr",
     "output_type": "stream",
     "text": [
      "C:\\Users\\User\\anaconda3\\lib\\site-packages\\sklearn\\linear_model\\_logistic.py:1165: UserWarning: l1_ratio parameter is only used when penalty is 'elasticnet'. Got (penalty=l2)\n",
      "  warnings.warn(\n"
     ]
    },
    {
     "name": "stdout",
     "output_type": "stream",
     "text": [
      "[CV 2/3; 174/2700] END C=0.001, l1_ratio=0.2575, max_iter=10000, multi_class=multinomial, penalty=l2, solver=sag;, score=0.474 total time=   1.1s\n",
      "[CV 3/3; 174/2700] START C=0.001, l1_ratio=0.2575, max_iter=10000, multi_class=multinomial, penalty=l2, solver=sag\n"
     ]
    },
    {
     "name": "stderr",
     "output_type": "stream",
     "text": [
      "C:\\Users\\User\\anaconda3\\lib\\site-packages\\sklearn\\linear_model\\_logistic.py:1165: UserWarning: l1_ratio parameter is only used when penalty is 'elasticnet'. Got (penalty=l2)\n",
      "  warnings.warn(\n"
     ]
    },
    {
     "name": "stdout",
     "output_type": "stream",
     "text": [
      "[CV 3/3; 174/2700] END C=0.001, l1_ratio=0.2575, max_iter=10000, multi_class=multinomial, penalty=l2, solver=sag;, score=0.471 total time=   1.1s\n",
      "[CV 1/3; 175/2700] START C=0.001, l1_ratio=0.2575, max_iter=10000, multi_class=multinomial, penalty=l2, solver=newton-cholesky\n",
      "[CV 1/3; 175/2700] END C=0.001, l1_ratio=0.2575, max_iter=10000, multi_class=multinomial, penalty=l2, solver=newton-cholesky;, score=nan total time=   0.0s\n",
      "[CV 2/3; 175/2700] START C=0.001, l1_ratio=0.2575, max_iter=10000, multi_class=multinomial, penalty=l2, solver=newton-cholesky\n",
      "[CV 2/3; 175/2700] END C=0.001, l1_ratio=0.2575, max_iter=10000, multi_class=multinomial, penalty=l2, solver=newton-cholesky;, score=nan total time=   0.0s\n",
      "[CV 3/3; 175/2700] START C=0.001, l1_ratio=0.2575, max_iter=10000, multi_class=multinomial, penalty=l2, solver=newton-cholesky\n",
      "[CV 3/3; 175/2700] END C=0.001, l1_ratio=0.2575, max_iter=10000, multi_class=multinomial, penalty=l2, solver=newton-cholesky;, score=nan total time=   0.0s\n",
      "[CV 1/3; 176/2700] START C=0.001, l1_ratio=0.2575, max_iter=10000, multi_class=multinomial, penalty=elasticnet, solver=lbfgs\n",
      "[CV 1/3; 176/2700] END C=0.001, l1_ratio=0.2575, max_iter=10000, multi_class=multinomial, penalty=elasticnet, solver=lbfgs;, score=nan total time=   0.0s\n",
      "[CV 2/3; 176/2700] START C=0.001, l1_ratio=0.2575, max_iter=10000, multi_class=multinomial, penalty=elasticnet, solver=lbfgs\n",
      "[CV 2/3; 176/2700] END C=0.001, l1_ratio=0.2575, max_iter=10000, multi_class=multinomial, penalty=elasticnet, solver=lbfgs;, score=nan total time=   0.0s\n",
      "[CV 3/3; 176/2700] START C=0.001, l1_ratio=0.2575, max_iter=10000, multi_class=multinomial, penalty=elasticnet, solver=lbfgs\n",
      "[CV 3/3; 176/2700] END C=0.001, l1_ratio=0.2575, max_iter=10000, multi_class=multinomial, penalty=elasticnet, solver=lbfgs;, score=nan total time=   0.0s\n",
      "[CV 1/3; 177/2700] START C=0.001, l1_ratio=0.2575, max_iter=10000, multi_class=multinomial, penalty=elasticnet, solver=liblinear\n",
      "[CV 1/3; 177/2700] END C=0.001, l1_ratio=0.2575, max_iter=10000, multi_class=multinomial, penalty=elasticnet, solver=liblinear;, score=nan total time=   0.0s\n",
      "[CV 2/3; 177/2700] START C=0.001, l1_ratio=0.2575, max_iter=10000, multi_class=multinomial, penalty=elasticnet, solver=liblinear\n",
      "[CV 2/3; 177/2700] END C=0.001, l1_ratio=0.2575, max_iter=10000, multi_class=multinomial, penalty=elasticnet, solver=liblinear;, score=nan total time=   0.0s\n",
      "[CV 3/3; 177/2700] START C=0.001, l1_ratio=0.2575, max_iter=10000, multi_class=multinomial, penalty=elasticnet, solver=liblinear\n",
      "[CV 3/3; 177/2700] END C=0.001, l1_ratio=0.2575, max_iter=10000, multi_class=multinomial, penalty=elasticnet, solver=liblinear;, score=nan total time=   0.0s\n",
      "[CV 1/3; 178/2700] START C=0.001, l1_ratio=0.2575, max_iter=10000, multi_class=multinomial, penalty=elasticnet, solver=saga\n"
     ]
    },
    {
     "name": "stderr",
     "output_type": "stream",
     "text": [
      "C:\\Users\\User\\anaconda3\\lib\\site-packages\\sklearn\\linear_model\\_logistic.py:1165: UserWarning: l1_ratio parameter is only used when penalty is 'elasticnet'. Got (penalty=l2)\n",
      "  warnings.warn(\n",
      "C:\\Users\\User\\anaconda3\\lib\\site-packages\\sklearn\\linear_model\\_logistic.py:1165: UserWarning: l1_ratio parameter is only used when penalty is 'elasticnet'. Got (penalty=l2)\n",
      "  warnings.warn(\n",
      "C:\\Users\\User\\anaconda3\\lib\\site-packages\\sklearn\\linear_model\\_logistic.py:1165: UserWarning: l1_ratio parameter is only used when penalty is 'elasticnet'. Got (penalty=l2)\n",
      "  warnings.warn(\n"
     ]
    },
    {
     "name": "stdout",
     "output_type": "stream",
     "text": [
      "[CV 1/3; 178/2700] END C=0.001, l1_ratio=0.2575, max_iter=10000, multi_class=multinomial, penalty=elasticnet, solver=saga;, score=0.463 total time=   4.6s\n",
      "[CV 2/3; 178/2700] START C=0.001, l1_ratio=0.2575, max_iter=10000, multi_class=multinomial, penalty=elasticnet, solver=saga\n",
      "[CV 2/3; 178/2700] END C=0.001, l1_ratio=0.2575, max_iter=10000, multi_class=multinomial, penalty=elasticnet, solver=saga;, score=0.462 total time=   5.6s\n",
      "[CV 3/3; 178/2700] START C=0.001, l1_ratio=0.2575, max_iter=10000, multi_class=multinomial, penalty=elasticnet, solver=saga\n",
      "[CV 3/3; 178/2700] END C=0.001, l1_ratio=0.2575, max_iter=10000, multi_class=multinomial, penalty=elasticnet, solver=saga;, score=0.457 total time=   5.1s\n",
      "[CV 1/3; 179/2700] START C=0.001, l1_ratio=0.2575, max_iter=10000, multi_class=multinomial, penalty=elasticnet, solver=sag\n",
      "[CV 1/3; 179/2700] END C=0.001, l1_ratio=0.2575, max_iter=10000, multi_class=multinomial, penalty=elasticnet, solver=sag;, score=nan total time=   0.0s\n",
      "[CV 2/3; 179/2700] START C=0.001, l1_ratio=0.2575, max_iter=10000, multi_class=multinomial, penalty=elasticnet, solver=sag\n",
      "[CV 2/3; 179/2700] END C=0.001, l1_ratio=0.2575, max_iter=10000, multi_class=multinomial, penalty=elasticnet, solver=sag;, score=nan total time=   0.0s\n",
      "[CV 3/3; 179/2700] START C=0.001, l1_ratio=0.2575, max_iter=10000, multi_class=multinomial, penalty=elasticnet, solver=sag\n",
      "[CV 3/3; 179/2700] END C=0.001, l1_ratio=0.2575, max_iter=10000, multi_class=multinomial, penalty=elasticnet, solver=sag;, score=nan total time=   0.0s\n",
      "[CV 1/3; 180/2700] START C=0.001, l1_ratio=0.2575, max_iter=10000, multi_class=multinomial, penalty=elasticnet, solver=newton-cholesky\n",
      "[CV 1/3; 180/2700] END C=0.001, l1_ratio=0.2575, max_iter=10000, multi_class=multinomial, penalty=elasticnet, solver=newton-cholesky;, score=nan total time=   0.0s\n",
      "[CV 2/3; 180/2700] START C=0.001, l1_ratio=0.2575, max_iter=10000, multi_class=multinomial, penalty=elasticnet, solver=newton-cholesky\n",
      "[CV 2/3; 180/2700] END C=0.001, l1_ratio=0.2575, max_iter=10000, multi_class=multinomial, penalty=elasticnet, solver=newton-cholesky;, score=nan total time=   0.0s\n",
      "[CV 3/3; 180/2700] START C=0.001, l1_ratio=0.2575, max_iter=10000, multi_class=multinomial, penalty=elasticnet, solver=newton-cholesky\n",
      "[CV 3/3; 180/2700] END C=0.001, l1_ratio=0.2575, max_iter=10000, multi_class=multinomial, penalty=elasticnet, solver=newton-cholesky;, score=nan total time=   0.0s\n",
      "[CV 1/3; 181/2700] START C=0.001, l1_ratio=0.505, max_iter=100, multi_class=ovr, penalty=l1, solver=lbfgs\n",
      "[CV 1/3; 181/2700] END C=0.001, l1_ratio=0.505, max_iter=100, multi_class=ovr, penalty=l1, solver=lbfgs;, score=nan total time=   0.0s\n",
      "[CV 2/3; 181/2700] START C=0.001, l1_ratio=0.505, max_iter=100, multi_class=ovr, penalty=l1, solver=lbfgs\n",
      "[CV 2/3; 181/2700] END C=0.001, l1_ratio=0.505, max_iter=100, multi_class=ovr, penalty=l1, solver=lbfgs;, score=nan total time=   0.0s\n",
      "[CV 3/3; 181/2700] START C=0.001, l1_ratio=0.505, max_iter=100, multi_class=ovr, penalty=l1, solver=lbfgs\n",
      "[CV 3/3; 181/2700] END C=0.001, l1_ratio=0.505, max_iter=100, multi_class=ovr, penalty=l1, solver=lbfgs;, score=nan total time=   0.0s\n",
      "[CV 1/3; 182/2700] START C=0.001, l1_ratio=0.505, max_iter=100, multi_class=ovr, penalty=l1, solver=liblinear\n"
     ]
    },
    {
     "name": "stderr",
     "output_type": "stream",
     "text": [
      "C:\\Users\\User\\anaconda3\\lib\\site-packages\\sklearn\\linear_model\\_logistic.py:1165: UserWarning: l1_ratio parameter is only used when penalty is 'elasticnet'. Got (penalty=l1)\n",
      "  warnings.warn(\n"
     ]
    },
    {
     "name": "stdout",
     "output_type": "stream",
     "text": [
      "[CV 1/3; 182/2700] END C=0.001, l1_ratio=0.505, max_iter=100, multi_class=ovr, penalty=l1, solver=liblinear;, score=0.458 total time=   0.1s\n",
      "[CV 2/3; 182/2700] START C=0.001, l1_ratio=0.505, max_iter=100, multi_class=ovr, penalty=l1, solver=liblinear\n"
     ]
    },
    {
     "name": "stderr",
     "output_type": "stream",
     "text": [
      "C:\\Users\\User\\anaconda3\\lib\\site-packages\\sklearn\\linear_model\\_logistic.py:1165: UserWarning: l1_ratio parameter is only used when penalty is 'elasticnet'. Got (penalty=l1)\n",
      "  warnings.warn(\n"
     ]
    },
    {
     "name": "stdout",
     "output_type": "stream",
     "text": [
      "[CV 2/3; 182/2700] END C=0.001, l1_ratio=0.505, max_iter=100, multi_class=ovr, penalty=l1, solver=liblinear;, score=0.460 total time=   0.1s\n",
      "[CV 3/3; 182/2700] START C=0.001, l1_ratio=0.505, max_iter=100, multi_class=ovr, penalty=l1, solver=liblinear\n"
     ]
    },
    {
     "name": "stderr",
     "output_type": "stream",
     "text": [
      "C:\\Users\\User\\anaconda3\\lib\\site-packages\\sklearn\\linear_model\\_logistic.py:1165: UserWarning: l1_ratio parameter is only used when penalty is 'elasticnet'. Got (penalty=l1)\n",
      "  warnings.warn(\n"
     ]
    },
    {
     "name": "stdout",
     "output_type": "stream",
     "text": [
      "[CV 3/3; 182/2700] END C=0.001, l1_ratio=0.505, max_iter=100, multi_class=ovr, penalty=l1, solver=liblinear;, score=0.453 total time=   0.1s\n",
      "[CV 1/3; 183/2700] START C=0.001, l1_ratio=0.505, max_iter=100, multi_class=ovr, penalty=l1, solver=saga\n"
     ]
    },
    {
     "name": "stderr",
     "output_type": "stream",
     "text": [
      "C:\\Users\\User\\anaconda3\\lib\\site-packages\\sklearn\\linear_model\\_logistic.py:1165: UserWarning: l1_ratio parameter is only used when penalty is 'elasticnet'. Got (penalty=l1)\n",
      "  warnings.warn(\n"
     ]
    },
    {
     "name": "stdout",
     "output_type": "stream",
     "text": [
      "[CV 1/3; 183/2700] END C=0.001, l1_ratio=0.505, max_iter=100, multi_class=ovr, penalty=l1, solver=saga;, score=0.306 total time=   2.3s\n",
      "[CV 2/3; 183/2700] START C=0.001, l1_ratio=0.505, max_iter=100, multi_class=ovr, penalty=l1, solver=saga\n"
     ]
    },
    {
     "name": "stderr",
     "output_type": "stream",
     "text": [
      "C:\\Users\\User\\anaconda3\\lib\\site-packages\\sklearn\\linear_model\\_logistic.py:1165: UserWarning: l1_ratio parameter is only used when penalty is 'elasticnet'. Got (penalty=l1)\n",
      "  warnings.warn(\n"
     ]
    },
    {
     "name": "stdout",
     "output_type": "stream",
     "text": [
      "[CV 2/3; 183/2700] END C=0.001, l1_ratio=0.505, max_iter=100, multi_class=ovr, penalty=l1, solver=saga;, score=0.306 total time=   2.3s\n",
      "[CV 3/3; 183/2700] START C=0.001, l1_ratio=0.505, max_iter=100, multi_class=ovr, penalty=l1, solver=saga\n"
     ]
    },
    {
     "name": "stderr",
     "output_type": "stream",
     "text": [
      "C:\\Users\\User\\anaconda3\\lib\\site-packages\\sklearn\\linear_model\\_logistic.py:1165: UserWarning: l1_ratio parameter is only used when penalty is 'elasticnet'. Got (penalty=l1)\n",
      "  warnings.warn(\n"
     ]
    },
    {
     "name": "stdout",
     "output_type": "stream",
     "text": [
      "[CV 3/3; 183/2700] END C=0.001, l1_ratio=0.505, max_iter=100, multi_class=ovr, penalty=l1, solver=saga;, score=0.306 total time=   2.1s\n",
      "[CV 1/3; 184/2700] START C=0.001, l1_ratio=0.505, max_iter=100, multi_class=ovr, penalty=l1, solver=sag\n",
      "[CV 1/3; 184/2700] END C=0.001, l1_ratio=0.505, max_iter=100, multi_class=ovr, penalty=l1, solver=sag;, score=nan total time=   0.0s\n",
      "[CV 2/3; 184/2700] START C=0.001, l1_ratio=0.505, max_iter=100, multi_class=ovr, penalty=l1, solver=sag\n",
      "[CV 2/3; 184/2700] END C=0.001, l1_ratio=0.505, max_iter=100, multi_class=ovr, penalty=l1, solver=sag;, score=nan total time=   0.0s\n",
      "[CV 3/3; 184/2700] START C=0.001, l1_ratio=0.505, max_iter=100, multi_class=ovr, penalty=l1, solver=sag\n",
      "[CV 3/3; 184/2700] END C=0.001, l1_ratio=0.505, max_iter=100, multi_class=ovr, penalty=l1, solver=sag;, score=nan total time=   0.0s\n",
      "[CV 1/3; 185/2700] START C=0.001, l1_ratio=0.505, max_iter=100, multi_class=ovr, penalty=l1, solver=newton-cholesky\n",
      "[CV 1/3; 185/2700] END C=0.001, l1_ratio=0.505, max_iter=100, multi_class=ovr, penalty=l1, solver=newton-cholesky;, score=nan total time=   0.0s\n",
      "[CV 2/3; 185/2700] START C=0.001, l1_ratio=0.505, max_iter=100, multi_class=ovr, penalty=l1, solver=newton-cholesky\n",
      "[CV 2/3; 185/2700] END C=0.001, l1_ratio=0.505, max_iter=100, multi_class=ovr, penalty=l1, solver=newton-cholesky;, score=nan total time=   0.0s\n",
      "[CV 3/3; 185/2700] START C=0.001, l1_ratio=0.505, max_iter=100, multi_class=ovr, penalty=l1, solver=newton-cholesky\n",
      "[CV 3/3; 185/2700] END C=0.001, l1_ratio=0.505, max_iter=100, multi_class=ovr, penalty=l1, solver=newton-cholesky;, score=nan total time=   0.0s\n",
      "[CV 1/3; 186/2700] START C=0.001, l1_ratio=0.505, max_iter=100, multi_class=ovr, penalty=l2, solver=lbfgs\n"
     ]
    },
    {
     "name": "stderr",
     "output_type": "stream",
     "text": [
      "C:\\Users\\User\\anaconda3\\lib\\site-packages\\sklearn\\linear_model\\_logistic.py:1165: UserWarning: l1_ratio parameter is only used when penalty is 'elasticnet'. Got (penalty=l2)\n",
      "  warnings.warn(\n"
     ]
    },
    {
     "name": "stdout",
     "output_type": "stream",
     "text": [
      "[CV 1/3; 186/2700] END C=0.001, l1_ratio=0.505, max_iter=100, multi_class=ovr, penalty=l2, solver=lbfgs;, score=0.469 total time=   0.5s\n",
      "[CV 2/3; 186/2700] START C=0.001, l1_ratio=0.505, max_iter=100, multi_class=ovr, penalty=l2, solver=lbfgs\n"
     ]
    },
    {
     "name": "stderr",
     "output_type": "stream",
     "text": [
      "C:\\Users\\User\\anaconda3\\lib\\site-packages\\sklearn\\linear_model\\_logistic.py:1165: UserWarning: l1_ratio parameter is only used when penalty is 'elasticnet'. Got (penalty=l2)\n",
      "  warnings.warn(\n"
     ]
    },
    {
     "name": "stdout",
     "output_type": "stream",
     "text": [
      "[CV 2/3; 186/2700] END C=0.001, l1_ratio=0.505, max_iter=100, multi_class=ovr, penalty=l2, solver=lbfgs;, score=0.468 total time=   0.5s\n",
      "[CV 3/3; 186/2700] START C=0.001, l1_ratio=0.505, max_iter=100, multi_class=ovr, penalty=l2, solver=lbfgs\n"
     ]
    },
    {
     "name": "stderr",
     "output_type": "stream",
     "text": [
      "C:\\Users\\User\\anaconda3\\lib\\site-packages\\sklearn\\linear_model\\_logistic.py:1165: UserWarning: l1_ratio parameter is only used when penalty is 'elasticnet'. Got (penalty=l2)\n",
      "  warnings.warn(\n"
     ]
    },
    {
     "name": "stdout",
     "output_type": "stream",
     "text": [
      "[CV 3/3; 186/2700] END C=0.001, l1_ratio=0.505, max_iter=100, multi_class=ovr, penalty=l2, solver=lbfgs;, score=0.464 total time=   0.5s\n",
      "[CV 1/3; 187/2700] START C=0.001, l1_ratio=0.505, max_iter=100, multi_class=ovr, penalty=l2, solver=liblinear\n"
     ]
    },
    {
     "name": "stderr",
     "output_type": "stream",
     "text": [
      "C:\\Users\\User\\anaconda3\\lib\\site-packages\\sklearn\\linear_model\\_logistic.py:1165: UserWarning: l1_ratio parameter is only used when penalty is 'elasticnet'. Got (penalty=l2)\n",
      "  warnings.warn(\n"
     ]
    },
    {
     "name": "stdout",
     "output_type": "stream",
     "text": [
      "[CV 1/3; 187/2700] END C=0.001, l1_ratio=0.505, max_iter=100, multi_class=ovr, penalty=l2, solver=liblinear;, score=0.469 total time=   0.2s\n",
      "[CV 2/3; 187/2700] START C=0.001, l1_ratio=0.505, max_iter=100, multi_class=ovr, penalty=l2, solver=liblinear\n"
     ]
    },
    {
     "name": "stderr",
     "output_type": "stream",
     "text": [
      "C:\\Users\\User\\anaconda3\\lib\\site-packages\\sklearn\\linear_model\\_logistic.py:1165: UserWarning: l1_ratio parameter is only used when penalty is 'elasticnet'. Got (penalty=l2)\n",
      "  warnings.warn(\n"
     ]
    },
    {
     "name": "stdout",
     "output_type": "stream",
     "text": [
      "[CV 2/3; 187/2700] END C=0.001, l1_ratio=0.505, max_iter=100, multi_class=ovr, penalty=l2, solver=liblinear;, score=0.467 total time=   0.2s\n",
      "[CV 3/3; 187/2700] START C=0.001, l1_ratio=0.505, max_iter=100, multi_class=ovr, penalty=l2, solver=liblinear\n"
     ]
    },
    {
     "name": "stderr",
     "output_type": "stream",
     "text": [
      "C:\\Users\\User\\anaconda3\\lib\\site-packages\\sklearn\\linear_model\\_logistic.py:1165: UserWarning: l1_ratio parameter is only used when penalty is 'elasticnet'. Got (penalty=l2)\n",
      "  warnings.warn(\n"
     ]
    },
    {
     "name": "stdout",
     "output_type": "stream",
     "text": [
      "[CV 3/3; 187/2700] END C=0.001, l1_ratio=0.505, max_iter=100, multi_class=ovr, penalty=l2, solver=liblinear;, score=0.465 total time=   0.2s\n",
      "[CV 1/3; 188/2700] START C=0.001, l1_ratio=0.505, max_iter=100, multi_class=ovr, penalty=l2, solver=saga\n"
     ]
    },
    {
     "name": "stderr",
     "output_type": "stream",
     "text": [
      "C:\\Users\\User\\anaconda3\\lib\\site-packages\\sklearn\\linear_model\\_logistic.py:1165: UserWarning: l1_ratio parameter is only used when penalty is 'elasticnet'. Got (penalty=l2)\n",
      "  warnings.warn(\n"
     ]
    },
    {
     "name": "stdout",
     "output_type": "stream",
     "text": [
      "[CV 1/3; 188/2700] END C=0.001, l1_ratio=0.505, max_iter=100, multi_class=ovr, penalty=l2, solver=saga;, score=0.469 total time=   5.6s\n",
      "[CV 2/3; 188/2700] START C=0.001, l1_ratio=0.505, max_iter=100, multi_class=ovr, penalty=l2, solver=saga\n"
     ]
    },
    {
     "name": "stderr",
     "output_type": "stream",
     "text": [
      "C:\\Users\\User\\anaconda3\\lib\\site-packages\\sklearn\\linear_model\\_logistic.py:1165: UserWarning: l1_ratio parameter is only used when penalty is 'elasticnet'. Got (penalty=l2)\n",
      "  warnings.warn(\n"
     ]
    },
    {
     "name": "stdout",
     "output_type": "stream",
     "text": [
      "[CV 2/3; 188/2700] END C=0.001, l1_ratio=0.505, max_iter=100, multi_class=ovr, penalty=l2, solver=saga;, score=0.468 total time=   5.6s\n",
      "[CV 3/3; 188/2700] START C=0.001, l1_ratio=0.505, max_iter=100, multi_class=ovr, penalty=l2, solver=saga\n"
     ]
    },
    {
     "name": "stderr",
     "output_type": "stream",
     "text": [
      "C:\\Users\\User\\anaconda3\\lib\\site-packages\\sklearn\\linear_model\\_logistic.py:1165: UserWarning: l1_ratio parameter is only used when penalty is 'elasticnet'. Got (penalty=l2)\n",
      "  warnings.warn(\n"
     ]
    },
    {
     "name": "stdout",
     "output_type": "stream",
     "text": [
      "[CV 3/3; 188/2700] END C=0.001, l1_ratio=0.505, max_iter=100, multi_class=ovr, penalty=l2, solver=saga;, score=0.464 total time=   6.3s\n",
      "[CV 1/3; 189/2700] START C=0.001, l1_ratio=0.505, max_iter=100, multi_class=ovr, penalty=l2, solver=sag\n"
     ]
    },
    {
     "name": "stderr",
     "output_type": "stream",
     "text": [
      "C:\\Users\\User\\anaconda3\\lib\\site-packages\\sklearn\\linear_model\\_logistic.py:1165: UserWarning: l1_ratio parameter is only used when penalty is 'elasticnet'. Got (penalty=l2)\n",
      "  warnings.warn(\n"
     ]
    },
    {
     "name": "stdout",
     "output_type": "stream",
     "text": [
      "[CV 1/3; 189/2700] END C=0.001, l1_ratio=0.505, max_iter=100, multi_class=ovr, penalty=l2, solver=sag;, score=0.469 total time=   2.5s\n",
      "[CV 2/3; 189/2700] START C=0.001, l1_ratio=0.505, max_iter=100, multi_class=ovr, penalty=l2, solver=sag\n"
     ]
    },
    {
     "name": "stderr",
     "output_type": "stream",
     "text": [
      "C:\\Users\\User\\anaconda3\\lib\\site-packages\\sklearn\\linear_model\\_logistic.py:1165: UserWarning: l1_ratio parameter is only used when penalty is 'elasticnet'. Got (penalty=l2)\n",
      "  warnings.warn(\n"
     ]
    },
    {
     "name": "stdout",
     "output_type": "stream",
     "text": [
      "[CV 2/3; 189/2700] END C=0.001, l1_ratio=0.505, max_iter=100, multi_class=ovr, penalty=l2, solver=sag;, score=0.468 total time=   2.5s\n",
      "[CV 3/3; 189/2700] START C=0.001, l1_ratio=0.505, max_iter=100, multi_class=ovr, penalty=l2, solver=sag\n"
     ]
    },
    {
     "name": "stderr",
     "output_type": "stream",
     "text": [
      "C:\\Users\\User\\anaconda3\\lib\\site-packages\\sklearn\\linear_model\\_logistic.py:1165: UserWarning: l1_ratio parameter is only used when penalty is 'elasticnet'. Got (penalty=l2)\n",
      "  warnings.warn(\n"
     ]
    },
    {
     "name": "stdout",
     "output_type": "stream",
     "text": [
      "[CV 3/3; 189/2700] END C=0.001, l1_ratio=0.505, max_iter=100, multi_class=ovr, penalty=l2, solver=sag;, score=0.464 total time=   2.8s\n",
      "[CV 1/3; 190/2700] START C=0.001, l1_ratio=0.505, max_iter=100, multi_class=ovr, penalty=l2, solver=newton-cholesky\n"
     ]
    },
    {
     "name": "stderr",
     "output_type": "stream",
     "text": [
      "C:\\Users\\User\\anaconda3\\lib\\site-packages\\sklearn\\linear_model\\_logistic.py:1165: UserWarning: l1_ratio parameter is only used when penalty is 'elasticnet'. Got (penalty=l2)\n",
      "  warnings.warn(\n"
     ]
    },
    {
     "name": "stdout",
     "output_type": "stream",
     "text": [
      "[CV 1/3; 190/2700] END C=0.001, l1_ratio=0.505, max_iter=100, multi_class=ovr, penalty=l2, solver=newton-cholesky;, score=0.469 total time=   1.5s\n",
      "[CV 2/3; 190/2700] START C=0.001, l1_ratio=0.505, max_iter=100, multi_class=ovr, penalty=l2, solver=newton-cholesky\n"
     ]
    },
    {
     "name": "stderr",
     "output_type": "stream",
     "text": [
      "C:\\Users\\User\\anaconda3\\lib\\site-packages\\sklearn\\linear_model\\_logistic.py:1165: UserWarning: l1_ratio parameter is only used when penalty is 'elasticnet'. Got (penalty=l2)\n",
      "  warnings.warn(\n"
     ]
    },
    {
     "name": "stdout",
     "output_type": "stream",
     "text": [
      "[CV 2/3; 190/2700] END C=0.001, l1_ratio=0.505, max_iter=100, multi_class=ovr, penalty=l2, solver=newton-cholesky;, score=0.468 total time=   1.7s\n",
      "[CV 3/3; 190/2700] START C=0.001, l1_ratio=0.505, max_iter=100, multi_class=ovr, penalty=l2, solver=newton-cholesky\n"
     ]
    },
    {
     "name": "stderr",
     "output_type": "stream",
     "text": [
      "C:\\Users\\User\\anaconda3\\lib\\site-packages\\sklearn\\linear_model\\_logistic.py:1165: UserWarning: l1_ratio parameter is only used when penalty is 'elasticnet'. Got (penalty=l2)\n",
      "  warnings.warn(\n"
     ]
    },
    {
     "name": "stdout",
     "output_type": "stream",
     "text": [
      "[CV 3/3; 190/2700] END C=0.001, l1_ratio=0.505, max_iter=100, multi_class=ovr, penalty=l2, solver=newton-cholesky;, score=0.464 total time=   1.5s\n",
      "[CV 1/3; 191/2700] START C=0.001, l1_ratio=0.505, max_iter=100, multi_class=ovr, penalty=elasticnet, solver=lbfgs\n",
      "[CV 1/3; 191/2700] END C=0.001, l1_ratio=0.505, max_iter=100, multi_class=ovr, penalty=elasticnet, solver=lbfgs;, score=nan total time=   0.0s\n",
      "[CV 2/3; 191/2700] START C=0.001, l1_ratio=0.505, max_iter=100, multi_class=ovr, penalty=elasticnet, solver=lbfgs\n",
      "[CV 2/3; 191/2700] END C=0.001, l1_ratio=0.505, max_iter=100, multi_class=ovr, penalty=elasticnet, solver=lbfgs;, score=nan total time=   0.0s\n",
      "[CV 3/3; 191/2700] START C=0.001, l1_ratio=0.505, max_iter=100, multi_class=ovr, penalty=elasticnet, solver=lbfgs\n",
      "[CV 3/3; 191/2700] END C=0.001, l1_ratio=0.505, max_iter=100, multi_class=ovr, penalty=elasticnet, solver=lbfgs;, score=nan total time=   0.0s\n",
      "[CV 1/3; 192/2700] START C=0.001, l1_ratio=0.505, max_iter=100, multi_class=ovr, penalty=elasticnet, solver=liblinear\n",
      "[CV 1/3; 192/2700] END C=0.001, l1_ratio=0.505, max_iter=100, multi_class=ovr, penalty=elasticnet, solver=liblinear;, score=nan total time=   0.0s\n",
      "[CV 2/3; 192/2700] START C=0.001, l1_ratio=0.505, max_iter=100, multi_class=ovr, penalty=elasticnet, solver=liblinear\n",
      "[CV 2/3; 192/2700] END C=0.001, l1_ratio=0.505, max_iter=100, multi_class=ovr, penalty=elasticnet, solver=liblinear;, score=nan total time=   0.0s\n",
      "[CV 3/3; 192/2700] START C=0.001, l1_ratio=0.505, max_iter=100, multi_class=ovr, penalty=elasticnet, solver=liblinear\n",
      "[CV 3/3; 192/2700] END C=0.001, l1_ratio=0.505, max_iter=100, multi_class=ovr, penalty=elasticnet, solver=liblinear;, score=nan total time=   0.0s\n",
      "[CV 1/3; 193/2700] START C=0.001, l1_ratio=0.505, max_iter=100, multi_class=ovr, penalty=elasticnet, solver=saga\n",
      "[CV 1/3; 193/2700] END C=0.001, l1_ratio=0.505, max_iter=100, multi_class=ovr, penalty=elasticnet, solver=saga;, score=0.454 total time=   5.0s\n",
      "[CV 2/3; 193/2700] START C=0.001, l1_ratio=0.505, max_iter=100, multi_class=ovr, penalty=elasticnet, solver=saga\n",
      "[CV 2/3; 193/2700] END C=0.001, l1_ratio=0.505, max_iter=100, multi_class=ovr, penalty=elasticnet, solver=saga;, score=0.458 total time=   4.9s\n",
      "[CV 3/3; 193/2700] START C=0.001, l1_ratio=0.505, max_iter=100, multi_class=ovr, penalty=elasticnet, solver=saga\n",
      "[CV 3/3; 193/2700] END C=0.001, l1_ratio=0.505, max_iter=100, multi_class=ovr, penalty=elasticnet, solver=saga;, score=0.451 total time=   5.6s\n",
      "[CV 1/3; 194/2700] START C=0.001, l1_ratio=0.505, max_iter=100, multi_class=ovr, penalty=elasticnet, solver=sag\n",
      "[CV 1/3; 194/2700] END C=0.001, l1_ratio=0.505, max_iter=100, multi_class=ovr, penalty=elasticnet, solver=sag;, score=nan total time=   0.0s\n",
      "[CV 2/3; 194/2700] START C=0.001, l1_ratio=0.505, max_iter=100, multi_class=ovr, penalty=elasticnet, solver=sag\n",
      "[CV 2/3; 194/2700] END C=0.001, l1_ratio=0.505, max_iter=100, multi_class=ovr, penalty=elasticnet, solver=sag;, score=nan total time=   0.0s\n",
      "[CV 3/3; 194/2700] START C=0.001, l1_ratio=0.505, max_iter=100, multi_class=ovr, penalty=elasticnet, solver=sag\n",
      "[CV 3/3; 194/2700] END C=0.001, l1_ratio=0.505, max_iter=100, multi_class=ovr, penalty=elasticnet, solver=sag;, score=nan total time=   0.0s\n",
      "[CV 1/3; 195/2700] START C=0.001, l1_ratio=0.505, max_iter=100, multi_class=ovr, penalty=elasticnet, solver=newton-cholesky\n",
      "[CV 1/3; 195/2700] END C=0.001, l1_ratio=0.505, max_iter=100, multi_class=ovr, penalty=elasticnet, solver=newton-cholesky;, score=nan total time=   0.0s\n",
      "[CV 2/3; 195/2700] START C=0.001, l1_ratio=0.505, max_iter=100, multi_class=ovr, penalty=elasticnet, solver=newton-cholesky\n",
      "[CV 2/3; 195/2700] END C=0.001, l1_ratio=0.505, max_iter=100, multi_class=ovr, penalty=elasticnet, solver=newton-cholesky;, score=nan total time=   0.0s\n",
      "[CV 3/3; 195/2700] START C=0.001, l1_ratio=0.505, max_iter=100, multi_class=ovr, penalty=elasticnet, solver=newton-cholesky\n",
      "[CV 3/3; 195/2700] END C=0.001, l1_ratio=0.505, max_iter=100, multi_class=ovr, penalty=elasticnet, solver=newton-cholesky;, score=nan total time=   0.0s\n",
      "[CV 1/3; 196/2700] START C=0.001, l1_ratio=0.505, max_iter=100, multi_class=multinomial, penalty=l1, solver=lbfgs\n",
      "[CV 1/3; 196/2700] END C=0.001, l1_ratio=0.505, max_iter=100, multi_class=multinomial, penalty=l1, solver=lbfgs;, score=nan total time=   0.0s\n",
      "[CV 2/3; 196/2700] START C=0.001, l1_ratio=0.505, max_iter=100, multi_class=multinomial, penalty=l1, solver=lbfgs\n",
      "[CV 2/3; 196/2700] END C=0.001, l1_ratio=0.505, max_iter=100, multi_class=multinomial, penalty=l1, solver=lbfgs;, score=nan total time=   0.0s\n",
      "[CV 3/3; 196/2700] START C=0.001, l1_ratio=0.505, max_iter=100, multi_class=multinomial, penalty=l1, solver=lbfgs\n",
      "[CV 3/3; 196/2700] END C=0.001, l1_ratio=0.505, max_iter=100, multi_class=multinomial, penalty=l1, solver=lbfgs;, score=nan total time=   0.0s\n",
      "[CV 1/3; 197/2700] START C=0.001, l1_ratio=0.505, max_iter=100, multi_class=multinomial, penalty=l1, solver=liblinear\n",
      "[CV 1/3; 197/2700] END C=0.001, l1_ratio=0.505, max_iter=100, multi_class=multinomial, penalty=l1, solver=liblinear;, score=nan total time=   0.0s\n",
      "[CV 2/3; 197/2700] START C=0.001, l1_ratio=0.505, max_iter=100, multi_class=multinomial, penalty=l1, solver=liblinear\n",
      "[CV 2/3; 197/2700] END C=0.001, l1_ratio=0.505, max_iter=100, multi_class=multinomial, penalty=l1, solver=liblinear;, score=nan total time=   0.0s\n",
      "[CV 3/3; 197/2700] START C=0.001, l1_ratio=0.505, max_iter=100, multi_class=multinomial, penalty=l1, solver=liblinear\n",
      "[CV 3/3; 197/2700] END C=0.001, l1_ratio=0.505, max_iter=100, multi_class=multinomial, penalty=l1, solver=liblinear;, score=nan total time=   0.0s\n",
      "[CV 1/3; 198/2700] START C=0.001, l1_ratio=0.505, max_iter=100, multi_class=multinomial, penalty=l1, solver=saga\n"
     ]
    },
    {
     "name": "stderr",
     "output_type": "stream",
     "text": [
      "C:\\Users\\User\\anaconda3\\lib\\site-packages\\sklearn\\linear_model\\_logistic.py:1165: UserWarning: l1_ratio parameter is only used when penalty is 'elasticnet'. Got (penalty=l1)\n",
      "  warnings.warn(\n",
      "C:\\Users\\User\\anaconda3\\lib\\site-packages\\sklearn\\linear_model\\_logistic.py:1165: UserWarning: l1_ratio parameter is only used when penalty is 'elasticnet'. Got (penalty=l1)\n",
      "  warnings.warn(\n",
      "C:\\Users\\User\\anaconda3\\lib\\site-packages\\sklearn\\linear_model\\_logistic.py:1165: UserWarning: l1_ratio parameter is only used when penalty is 'elasticnet'. Got (penalty=l1)\n",
      "  warnings.warn(\n",
      "C:\\Users\\User\\anaconda3\\lib\\site-packages\\sklearn\\linear_model\\_logistic.py:1165: UserWarning: l1_ratio parameter is only used when penalty is 'elasticnet'. Got (penalty=l1)\n",
      "  warnings.warn(\n"
     ]
    },
    {
     "name": "stdout",
     "output_type": "stream",
     "text": [
      "[CV 1/3; 198/2700] END C=0.001, l1_ratio=0.505, max_iter=100, multi_class=multinomial, penalty=l1, solver=saga;, score=0.306 total time=   4.7s\n",
      "[CV 2/3; 198/2700] START C=0.001, l1_ratio=0.505, max_iter=100, multi_class=multinomial, penalty=l1, solver=saga\n"
     ]
    },
    {
     "name": "stderr",
     "output_type": "stream",
     "text": [
      "C:\\Users\\User\\anaconda3\\lib\\site-packages\\sklearn\\linear_model\\_logistic.py:1165: UserWarning: l1_ratio parameter is only used when penalty is 'elasticnet'. Got (penalty=l1)\n",
      "  warnings.warn(\n"
     ]
    },
    {
     "name": "stdout",
     "output_type": "stream",
     "text": [
      "[CV 2/3; 198/2700] END C=0.001, l1_ratio=0.505, max_iter=100, multi_class=multinomial, penalty=l1, solver=saga;, score=0.306 total time=   5.0s\n",
      "[CV 3/3; 198/2700] START C=0.001, l1_ratio=0.505, max_iter=100, multi_class=multinomial, penalty=l1, solver=saga\n"
     ]
    },
    {
     "name": "stderr",
     "output_type": "stream",
     "text": [
      "C:\\Users\\User\\anaconda3\\lib\\site-packages\\sklearn\\linear_model\\_logistic.py:1165: UserWarning: l1_ratio parameter is only used when penalty is 'elasticnet'. Got (penalty=l1)\n",
      "  warnings.warn(\n"
     ]
    },
    {
     "name": "stdout",
     "output_type": "stream",
     "text": [
      "[CV 3/3; 198/2700] END C=0.001, l1_ratio=0.505, max_iter=100, multi_class=multinomial, penalty=l1, solver=saga;, score=0.306 total time=   5.2s\n",
      "[CV 1/3; 199/2700] START C=0.001, l1_ratio=0.505, max_iter=100, multi_class=multinomial, penalty=l1, solver=sag\n",
      "[CV 1/3; 199/2700] END C=0.001, l1_ratio=0.505, max_iter=100, multi_class=multinomial, penalty=l1, solver=sag;, score=nan total time=   0.0s\n",
      "[CV 2/3; 199/2700] START C=0.001, l1_ratio=0.505, max_iter=100, multi_class=multinomial, penalty=l1, solver=sag\n",
      "[CV 2/3; 199/2700] END C=0.001, l1_ratio=0.505, max_iter=100, multi_class=multinomial, penalty=l1, solver=sag;, score=nan total time=   0.0s\n",
      "[CV 3/3; 199/2700] START C=0.001, l1_ratio=0.505, max_iter=100, multi_class=multinomial, penalty=l1, solver=sag\n",
      "[CV 3/3; 199/2700] END C=0.001, l1_ratio=0.505, max_iter=100, multi_class=multinomial, penalty=l1, solver=sag;, score=nan total time=   0.0s\n",
      "[CV 1/3; 200/2700] START C=0.001, l1_ratio=0.505, max_iter=100, multi_class=multinomial, penalty=l1, solver=newton-cholesky\n",
      "[CV 1/3; 200/2700] END C=0.001, l1_ratio=0.505, max_iter=100, multi_class=multinomial, penalty=l1, solver=newton-cholesky;, score=nan total time=   0.0s\n",
      "[CV 2/3; 200/2700] START C=0.001, l1_ratio=0.505, max_iter=100, multi_class=multinomial, penalty=l1, solver=newton-cholesky\n",
      "[CV 2/3; 200/2700] END C=0.001, l1_ratio=0.505, max_iter=100, multi_class=multinomial, penalty=l1, solver=newton-cholesky;, score=nan total time=   0.0s\n",
      "[CV 3/3; 200/2700] START C=0.001, l1_ratio=0.505, max_iter=100, multi_class=multinomial, penalty=l1, solver=newton-cholesky\n",
      "[CV 3/3; 200/2700] END C=0.001, l1_ratio=0.505, max_iter=100, multi_class=multinomial, penalty=l1, solver=newton-cholesky;, score=nan total time=   0.0s\n",
      "[CV 1/3; 201/2700] START C=0.001, l1_ratio=0.505, max_iter=100, multi_class=multinomial, penalty=l2, solver=lbfgs\n"
     ]
    },
    {
     "name": "stderr",
     "output_type": "stream",
     "text": [
      "C:\\Users\\User\\anaconda3\\lib\\site-packages\\sklearn\\linear_model\\_logistic.py:1165: UserWarning: l1_ratio parameter is only used when penalty is 'elasticnet'. Got (penalty=l2)\n",
      "  warnings.warn(\n"
     ]
    },
    {
     "name": "stdout",
     "output_type": "stream",
     "text": [
      "[CV 1/3; 201/2700] END C=0.001, l1_ratio=0.505, max_iter=100, multi_class=multinomial, penalty=l2, solver=lbfgs;, score=0.478 total time=   1.2s\n",
      "[CV 2/3; 201/2700] START C=0.001, l1_ratio=0.505, max_iter=100, multi_class=multinomial, penalty=l2, solver=lbfgs\n"
     ]
    },
    {
     "name": "stderr",
     "output_type": "stream",
     "text": [
      "C:\\Users\\User\\anaconda3\\lib\\site-packages\\sklearn\\linear_model\\_logistic.py:1165: UserWarning: l1_ratio parameter is only used when penalty is 'elasticnet'. Got (penalty=l2)\n",
      "  warnings.warn(\n"
     ]
    },
    {
     "name": "stdout",
     "output_type": "stream",
     "text": [
      "[CV 2/3; 201/2700] END C=0.001, l1_ratio=0.505, max_iter=100, multi_class=multinomial, penalty=l2, solver=lbfgs;, score=0.474 total time=   0.7s\n",
      "[CV 3/3; 201/2700] START C=0.001, l1_ratio=0.505, max_iter=100, multi_class=multinomial, penalty=l2, solver=lbfgs\n"
     ]
    },
    {
     "name": "stderr",
     "output_type": "stream",
     "text": [
      "C:\\Users\\User\\anaconda3\\lib\\site-packages\\sklearn\\linear_model\\_logistic.py:1165: UserWarning: l1_ratio parameter is only used when penalty is 'elasticnet'. Got (penalty=l2)\n",
      "  warnings.warn(\n"
     ]
    },
    {
     "name": "stdout",
     "output_type": "stream",
     "text": [
      "[CV 3/3; 201/2700] END C=0.001, l1_ratio=0.505, max_iter=100, multi_class=multinomial, penalty=l2, solver=lbfgs;, score=0.471 total time=   0.7s\n",
      "[CV 1/3; 202/2700] START C=0.001, l1_ratio=0.505, max_iter=100, multi_class=multinomial, penalty=l2, solver=liblinear\n",
      "[CV 1/3; 202/2700] END C=0.001, l1_ratio=0.505, max_iter=100, multi_class=multinomial, penalty=l2, solver=liblinear;, score=nan total time=   0.0s\n",
      "[CV 2/3; 202/2700] START C=0.001, l1_ratio=0.505, max_iter=100, multi_class=multinomial, penalty=l2, solver=liblinear\n",
      "[CV 2/3; 202/2700] END C=0.001, l1_ratio=0.505, max_iter=100, multi_class=multinomial, penalty=l2, solver=liblinear;, score=nan total time=   0.0s\n",
      "[CV 3/3; 202/2700] START C=0.001, l1_ratio=0.505, max_iter=100, multi_class=multinomial, penalty=l2, solver=liblinear\n",
      "[CV 3/3; 202/2700] END C=0.001, l1_ratio=0.505, max_iter=100, multi_class=multinomial, penalty=l2, solver=liblinear;, score=nan total time=   0.0s\n",
      "[CV 1/3; 203/2700] START C=0.001, l1_ratio=0.505, max_iter=100, multi_class=multinomial, penalty=l2, solver=saga\n"
     ]
    },
    {
     "name": "stderr",
     "output_type": "stream",
     "text": [
      "C:\\Users\\User\\anaconda3\\lib\\site-packages\\sklearn\\linear_model\\_logistic.py:1165: UserWarning: l1_ratio parameter is only used when penalty is 'elasticnet'. Got (penalty=l2)\n",
      "  warnings.warn(\n",
      "C:\\Users\\User\\anaconda3\\lib\\site-packages\\sklearn\\linear_model\\_logistic.py:1165: UserWarning: l1_ratio parameter is only used when penalty is 'elasticnet'. Got (penalty=l2)\n",
      "  warnings.warn(\n",
      "C:\\Users\\User\\anaconda3\\lib\\site-packages\\sklearn\\linear_model\\_logistic.py:1165: UserWarning: l1_ratio parameter is only used when penalty is 'elasticnet'. Got (penalty=l2)\n",
      "  warnings.warn(\n",
      "C:\\Users\\User\\anaconda3\\lib\\site-packages\\sklearn\\linear_model\\_logistic.py:1165: UserWarning: l1_ratio parameter is only used when penalty is 'elasticnet'. Got (penalty=l2)\n",
      "  warnings.warn(\n"
     ]
    },
    {
     "name": "stdout",
     "output_type": "stream",
     "text": [
      "[CV 1/3; 203/2700] END C=0.001, l1_ratio=0.505, max_iter=100, multi_class=multinomial, penalty=l2, solver=saga;, score=0.477 total time=   4.8s\n",
      "[CV 2/3; 203/2700] START C=0.001, l1_ratio=0.505, max_iter=100, multi_class=multinomial, penalty=l2, solver=saga\n"
     ]
    },
    {
     "name": "stderr",
     "output_type": "stream",
     "text": [
      "C:\\Users\\User\\anaconda3\\lib\\site-packages\\sklearn\\linear_model\\_logistic.py:1165: UserWarning: l1_ratio parameter is only used when penalty is 'elasticnet'. Got (penalty=l2)\n",
      "  warnings.warn(\n"
     ]
    },
    {
     "name": "stdout",
     "output_type": "stream",
     "text": [
      "[CV 2/3; 203/2700] END C=0.001, l1_ratio=0.505, max_iter=100, multi_class=multinomial, penalty=l2, solver=saga;, score=0.474 total time=   4.3s\n",
      "[CV 3/3; 203/2700] START C=0.001, l1_ratio=0.505, max_iter=100, multi_class=multinomial, penalty=l2, solver=saga\n"
     ]
    },
    {
     "name": "stderr",
     "output_type": "stream",
     "text": [
      "C:\\Users\\User\\anaconda3\\lib\\site-packages\\sklearn\\linear_model\\_logistic.py:1165: UserWarning: l1_ratio parameter is only used when penalty is 'elasticnet'. Got (penalty=l2)\n",
      "  warnings.warn(\n"
     ]
    },
    {
     "name": "stdout",
     "output_type": "stream",
     "text": [
      "[CV 3/3; 203/2700] END C=0.001, l1_ratio=0.505, max_iter=100, multi_class=multinomial, penalty=l2, solver=saga;, score=0.471 total time=   4.9s\n",
      "[CV 1/3; 204/2700] START C=0.001, l1_ratio=0.505, max_iter=100, multi_class=multinomial, penalty=l2, solver=sag\n"
     ]
    },
    {
     "name": "stderr",
     "output_type": "stream",
     "text": [
      "C:\\Users\\User\\anaconda3\\lib\\site-packages\\sklearn\\linear_model\\_logistic.py:1165: UserWarning: l1_ratio parameter is only used when penalty is 'elasticnet'. Got (penalty=l2)\n",
      "  warnings.warn(\n"
     ]
    },
    {
     "name": "stdout",
     "output_type": "stream",
     "text": [
      "[CV 1/3; 204/2700] END C=0.001, l1_ratio=0.505, max_iter=100, multi_class=multinomial, penalty=l2, solver=sag;, score=0.477 total time=   1.4s\n",
      "[CV 2/3; 204/2700] START C=0.001, l1_ratio=0.505, max_iter=100, multi_class=multinomial, penalty=l2, solver=sag\n"
     ]
    },
    {
     "name": "stderr",
     "output_type": "stream",
     "text": [
      "C:\\Users\\User\\anaconda3\\lib\\site-packages\\sklearn\\linear_model\\_logistic.py:1165: UserWarning: l1_ratio parameter is only used when penalty is 'elasticnet'. Got (penalty=l2)\n",
      "  warnings.warn(\n"
     ]
    },
    {
     "name": "stdout",
     "output_type": "stream",
     "text": [
      "[CV 2/3; 204/2700] END C=0.001, l1_ratio=0.505, max_iter=100, multi_class=multinomial, penalty=l2, solver=sag;, score=0.474 total time=   1.3s\n",
      "[CV 3/3; 204/2700] START C=0.001, l1_ratio=0.505, max_iter=100, multi_class=multinomial, penalty=l2, solver=sag\n"
     ]
    },
    {
     "name": "stderr",
     "output_type": "stream",
     "text": [
      "C:\\Users\\User\\anaconda3\\lib\\site-packages\\sklearn\\linear_model\\_logistic.py:1165: UserWarning: l1_ratio parameter is only used when penalty is 'elasticnet'. Got (penalty=l2)\n",
      "  warnings.warn(\n"
     ]
    },
    {
     "name": "stdout",
     "output_type": "stream",
     "text": [
      "[CV 3/3; 204/2700] END C=0.001, l1_ratio=0.505, max_iter=100, multi_class=multinomial, penalty=l2, solver=sag;, score=0.471 total time=   1.1s\n",
      "[CV 1/3; 205/2700] START C=0.001, l1_ratio=0.505, max_iter=100, multi_class=multinomial, penalty=l2, solver=newton-cholesky\n",
      "[CV 1/3; 205/2700] END C=0.001, l1_ratio=0.505, max_iter=100, multi_class=multinomial, penalty=l2, solver=newton-cholesky;, score=nan total time=   0.0s\n",
      "[CV 2/3; 205/2700] START C=0.001, l1_ratio=0.505, max_iter=100, multi_class=multinomial, penalty=l2, solver=newton-cholesky\n",
      "[CV 2/3; 205/2700] END C=0.001, l1_ratio=0.505, max_iter=100, multi_class=multinomial, penalty=l2, solver=newton-cholesky;, score=nan total time=   0.0s\n",
      "[CV 3/3; 205/2700] START C=0.001, l1_ratio=0.505, max_iter=100, multi_class=multinomial, penalty=l2, solver=newton-cholesky\n",
      "[CV 3/3; 205/2700] END C=0.001, l1_ratio=0.505, max_iter=100, multi_class=multinomial, penalty=l2, solver=newton-cholesky;, score=nan total time=   0.0s\n",
      "[CV 1/3; 206/2700] START C=0.001, l1_ratio=0.505, max_iter=100, multi_class=multinomial, penalty=elasticnet, solver=lbfgs\n",
      "[CV 1/3; 206/2700] END C=0.001, l1_ratio=0.505, max_iter=100, multi_class=multinomial, penalty=elasticnet, solver=lbfgs;, score=nan total time=   0.0s\n",
      "[CV 2/3; 206/2700] START C=0.001, l1_ratio=0.505, max_iter=100, multi_class=multinomial, penalty=elasticnet, solver=lbfgs\n",
      "[CV 2/3; 206/2700] END C=0.001, l1_ratio=0.505, max_iter=100, multi_class=multinomial, penalty=elasticnet, solver=lbfgs;, score=nan total time=   0.0s\n",
      "[CV 3/3; 206/2700] START C=0.001, l1_ratio=0.505, max_iter=100, multi_class=multinomial, penalty=elasticnet, solver=lbfgs\n",
      "[CV 3/3; 206/2700] END C=0.001, l1_ratio=0.505, max_iter=100, multi_class=multinomial, penalty=elasticnet, solver=lbfgs;, score=nan total time=   0.0s\n",
      "[CV 1/3; 207/2700] START C=0.001, l1_ratio=0.505, max_iter=100, multi_class=multinomial, penalty=elasticnet, solver=liblinear\n",
      "[CV 1/3; 207/2700] END C=0.001, l1_ratio=0.505, max_iter=100, multi_class=multinomial, penalty=elasticnet, solver=liblinear;, score=nan total time=   0.0s\n",
      "[CV 2/3; 207/2700] START C=0.001, l1_ratio=0.505, max_iter=100, multi_class=multinomial, penalty=elasticnet, solver=liblinear\n",
      "[CV 2/3; 207/2700] END C=0.001, l1_ratio=0.505, max_iter=100, multi_class=multinomial, penalty=elasticnet, solver=liblinear;, score=nan total time=   0.0s\n",
      "[CV 3/3; 207/2700] START C=0.001, l1_ratio=0.505, max_iter=100, multi_class=multinomial, penalty=elasticnet, solver=liblinear\n",
      "[CV 3/3; 207/2700] END C=0.001, l1_ratio=0.505, max_iter=100, multi_class=multinomial, penalty=elasticnet, solver=liblinear;, score=nan total time=   0.0s\n",
      "[CV 1/3; 208/2700] START C=0.001, l1_ratio=0.505, max_iter=100, multi_class=multinomial, penalty=elasticnet, solver=saga\n"
     ]
    },
    {
     "name": "stderr",
     "output_type": "stream",
     "text": [
      "C:\\Users\\User\\anaconda3\\lib\\site-packages\\sklearn\\linear_model\\_logistic.py:1165: UserWarning: l1_ratio parameter is only used when penalty is 'elasticnet'. Got (penalty=l2)\n",
      "  warnings.warn(\n",
      "C:\\Users\\User\\anaconda3\\lib\\site-packages\\sklearn\\linear_model\\_logistic.py:1165: UserWarning: l1_ratio parameter is only used when penalty is 'elasticnet'. Got (penalty=l2)\n",
      "  warnings.warn(\n",
      "C:\\Users\\User\\anaconda3\\lib\\site-packages\\sklearn\\linear_model\\_logistic.py:1165: UserWarning: l1_ratio parameter is only used when penalty is 'elasticnet'. Got (penalty=l2)\n",
      "  warnings.warn(\n"
     ]
    },
    {
     "name": "stdout",
     "output_type": "stream",
     "text": [
      "[CV 1/3; 208/2700] END C=0.001, l1_ratio=0.505, max_iter=100, multi_class=multinomial, penalty=elasticnet, solver=saga;, score=0.458 total time=   5.1s\n",
      "[CV 2/3; 208/2700] START C=0.001, l1_ratio=0.505, max_iter=100, multi_class=multinomial, penalty=elasticnet, solver=saga\n",
      "[CV 2/3; 208/2700] END C=0.001, l1_ratio=0.505, max_iter=100, multi_class=multinomial, penalty=elasticnet, solver=saga;, score=0.460 total time=   4.6s\n",
      "[CV 3/3; 208/2700] START C=0.001, l1_ratio=0.505, max_iter=100, multi_class=multinomial, penalty=elasticnet, solver=saga\n",
      "[CV 3/3; 208/2700] END C=0.001, l1_ratio=0.505, max_iter=100, multi_class=multinomial, penalty=elasticnet, solver=saga;, score=0.452 total time=   5.3s\n",
      "[CV 1/3; 209/2700] START C=0.001, l1_ratio=0.505, max_iter=100, multi_class=multinomial, penalty=elasticnet, solver=sag\n",
      "[CV 1/3; 209/2700] END C=0.001, l1_ratio=0.505, max_iter=100, multi_class=multinomial, penalty=elasticnet, solver=sag;, score=nan total time=   0.0s\n",
      "[CV 2/3; 209/2700] START C=0.001, l1_ratio=0.505, max_iter=100, multi_class=multinomial, penalty=elasticnet, solver=sag\n",
      "[CV 2/3; 209/2700] END C=0.001, l1_ratio=0.505, max_iter=100, multi_class=multinomial, penalty=elasticnet, solver=sag;, score=nan total time=   0.0s\n",
      "[CV 3/3; 209/2700] START C=0.001, l1_ratio=0.505, max_iter=100, multi_class=multinomial, penalty=elasticnet, solver=sag\n",
      "[CV 3/3; 209/2700] END C=0.001, l1_ratio=0.505, max_iter=100, multi_class=multinomial, penalty=elasticnet, solver=sag;, score=nan total time=   0.0s\n",
      "[CV 1/3; 210/2700] START C=0.001, l1_ratio=0.505, max_iter=100, multi_class=multinomial, penalty=elasticnet, solver=newton-cholesky\n",
      "[CV 1/3; 210/2700] END C=0.001, l1_ratio=0.505, max_iter=100, multi_class=multinomial, penalty=elasticnet, solver=newton-cholesky;, score=nan total time=   0.0s\n",
      "[CV 2/3; 210/2700] START C=0.001, l1_ratio=0.505, max_iter=100, multi_class=multinomial, penalty=elasticnet, solver=newton-cholesky\n",
      "[CV 2/3; 210/2700] END C=0.001, l1_ratio=0.505, max_iter=100, multi_class=multinomial, penalty=elasticnet, solver=newton-cholesky;, score=nan total time=   0.0s\n",
      "[CV 3/3; 210/2700] START C=0.001, l1_ratio=0.505, max_iter=100, multi_class=multinomial, penalty=elasticnet, solver=newton-cholesky\n",
      "[CV 3/3; 210/2700] END C=0.001, l1_ratio=0.505, max_iter=100, multi_class=multinomial, penalty=elasticnet, solver=newton-cholesky;, score=nan total time=   0.0s\n",
      "[CV 1/3; 211/2700] START C=0.001, l1_ratio=0.505, max_iter=1000, multi_class=ovr, penalty=l1, solver=lbfgs\n",
      "[CV 1/3; 211/2700] END C=0.001, l1_ratio=0.505, max_iter=1000, multi_class=ovr, penalty=l1, solver=lbfgs;, score=nan total time=   0.0s\n",
      "[CV 2/3; 211/2700] START C=0.001, l1_ratio=0.505, max_iter=1000, multi_class=ovr, penalty=l1, solver=lbfgs\n",
      "[CV 2/3; 211/2700] END C=0.001, l1_ratio=0.505, max_iter=1000, multi_class=ovr, penalty=l1, solver=lbfgs;, score=nan total time=   0.0s\n",
      "[CV 3/3; 211/2700] START C=0.001, l1_ratio=0.505, max_iter=1000, multi_class=ovr, penalty=l1, solver=lbfgs\n",
      "[CV 3/3; 211/2700] END C=0.001, l1_ratio=0.505, max_iter=1000, multi_class=ovr, penalty=l1, solver=lbfgs;, score=nan total time=   0.0s\n",
      "[CV 1/3; 212/2700] START C=0.001, l1_ratio=0.505, max_iter=1000, multi_class=ovr, penalty=l1, solver=liblinear\n"
     ]
    },
    {
     "name": "stderr",
     "output_type": "stream",
     "text": [
      "C:\\Users\\User\\anaconda3\\lib\\site-packages\\sklearn\\linear_model\\_logistic.py:1165: UserWarning: l1_ratio parameter is only used when penalty is 'elasticnet'. Got (penalty=l1)\n",
      "  warnings.warn(\n"
     ]
    },
    {
     "name": "stdout",
     "output_type": "stream",
     "text": [
      "[CV 1/3; 212/2700] END C=0.001, l1_ratio=0.505, max_iter=1000, multi_class=ovr, penalty=l1, solver=liblinear;, score=0.458 total time=   0.1s\n",
      "[CV 2/3; 212/2700] START C=0.001, l1_ratio=0.505, max_iter=1000, multi_class=ovr, penalty=l1, solver=liblinear\n"
     ]
    },
    {
     "name": "stderr",
     "output_type": "stream",
     "text": [
      "C:\\Users\\User\\anaconda3\\lib\\site-packages\\sklearn\\linear_model\\_logistic.py:1165: UserWarning: l1_ratio parameter is only used when penalty is 'elasticnet'. Got (penalty=l1)\n",
      "  warnings.warn(\n"
     ]
    },
    {
     "name": "stdout",
     "output_type": "stream",
     "text": [
      "[CV 2/3; 212/2700] END C=0.001, l1_ratio=0.505, max_iter=1000, multi_class=ovr, penalty=l1, solver=liblinear;, score=0.460 total time=   0.1s\n",
      "[CV 3/3; 212/2700] START C=0.001, l1_ratio=0.505, max_iter=1000, multi_class=ovr, penalty=l1, solver=liblinear\n"
     ]
    },
    {
     "name": "stderr",
     "output_type": "stream",
     "text": [
      "C:\\Users\\User\\anaconda3\\lib\\site-packages\\sklearn\\linear_model\\_logistic.py:1165: UserWarning: l1_ratio parameter is only used when penalty is 'elasticnet'. Got (penalty=l1)\n",
      "  warnings.warn(\n"
     ]
    },
    {
     "name": "stdout",
     "output_type": "stream",
     "text": [
      "[CV 3/3; 212/2700] END C=0.001, l1_ratio=0.505, max_iter=1000, multi_class=ovr, penalty=l1, solver=liblinear;, score=0.453 total time=   0.2s\n",
      "[CV 1/3; 213/2700] START C=0.001, l1_ratio=0.505, max_iter=1000, multi_class=ovr, penalty=l1, solver=saga\n"
     ]
    },
    {
     "name": "stderr",
     "output_type": "stream",
     "text": [
      "C:\\Users\\User\\anaconda3\\lib\\site-packages\\sklearn\\linear_model\\_logistic.py:1165: UserWarning: l1_ratio parameter is only used when penalty is 'elasticnet'. Got (penalty=l1)\n",
      "  warnings.warn(\n"
     ]
    },
    {
     "name": "stdout",
     "output_type": "stream",
     "text": [
      "[CV 1/3; 213/2700] END C=0.001, l1_ratio=0.505, max_iter=1000, multi_class=ovr, penalty=l1, solver=saga;, score=0.306 total time=   2.5s\n",
      "[CV 2/3; 213/2700] START C=0.001, l1_ratio=0.505, max_iter=1000, multi_class=ovr, penalty=l1, solver=saga\n"
     ]
    },
    {
     "name": "stderr",
     "output_type": "stream",
     "text": [
      "C:\\Users\\User\\anaconda3\\lib\\site-packages\\sklearn\\linear_model\\_logistic.py:1165: UserWarning: l1_ratio parameter is only used when penalty is 'elasticnet'. Got (penalty=l1)\n",
      "  warnings.warn(\n"
     ]
    },
    {
     "name": "stdout",
     "output_type": "stream",
     "text": [
      "[CV 2/3; 213/2700] END C=0.001, l1_ratio=0.505, max_iter=1000, multi_class=ovr, penalty=l1, solver=saga;, score=0.306 total time=   2.1s\n",
      "[CV 3/3; 213/2700] START C=0.001, l1_ratio=0.505, max_iter=1000, multi_class=ovr, penalty=l1, solver=saga\n"
     ]
    },
    {
     "name": "stderr",
     "output_type": "stream",
     "text": [
      "C:\\Users\\User\\anaconda3\\lib\\site-packages\\sklearn\\linear_model\\_logistic.py:1165: UserWarning: l1_ratio parameter is only used when penalty is 'elasticnet'. Got (penalty=l1)\n",
      "  warnings.warn(\n"
     ]
    },
    {
     "name": "stdout",
     "output_type": "stream",
     "text": [
      "[CV 3/3; 213/2700] END C=0.001, l1_ratio=0.505, max_iter=1000, multi_class=ovr, penalty=l1, solver=saga;, score=0.306 total time=   2.0s\n",
      "[CV 1/3; 214/2700] START C=0.001, l1_ratio=0.505, max_iter=1000, multi_class=ovr, penalty=l1, solver=sag\n",
      "[CV 1/3; 214/2700] END C=0.001, l1_ratio=0.505, max_iter=1000, multi_class=ovr, penalty=l1, solver=sag;, score=nan total time=   0.0s\n",
      "[CV 2/3; 214/2700] START C=0.001, l1_ratio=0.505, max_iter=1000, multi_class=ovr, penalty=l1, solver=sag\n",
      "[CV 2/3; 214/2700] END C=0.001, l1_ratio=0.505, max_iter=1000, multi_class=ovr, penalty=l1, solver=sag;, score=nan total time=   0.0s\n",
      "[CV 3/3; 214/2700] START C=0.001, l1_ratio=0.505, max_iter=1000, multi_class=ovr, penalty=l1, solver=sag\n",
      "[CV 3/3; 214/2700] END C=0.001, l1_ratio=0.505, max_iter=1000, multi_class=ovr, penalty=l1, solver=sag;, score=nan total time=   0.0s\n",
      "[CV 1/3; 215/2700] START C=0.001, l1_ratio=0.505, max_iter=1000, multi_class=ovr, penalty=l1, solver=newton-cholesky\n",
      "[CV 1/3; 215/2700] END C=0.001, l1_ratio=0.505, max_iter=1000, multi_class=ovr, penalty=l1, solver=newton-cholesky;, score=nan total time=   0.0s\n",
      "[CV 2/3; 215/2700] START C=0.001, l1_ratio=0.505, max_iter=1000, multi_class=ovr, penalty=l1, solver=newton-cholesky\n",
      "[CV 2/3; 215/2700] END C=0.001, l1_ratio=0.505, max_iter=1000, multi_class=ovr, penalty=l1, solver=newton-cholesky;, score=nan total time=   0.0s\n",
      "[CV 3/3; 215/2700] START C=0.001, l1_ratio=0.505, max_iter=1000, multi_class=ovr, penalty=l1, solver=newton-cholesky\n",
      "[CV 3/3; 215/2700] END C=0.001, l1_ratio=0.505, max_iter=1000, multi_class=ovr, penalty=l1, solver=newton-cholesky;, score=nan total time=   0.0s\n",
      "[CV 1/3; 216/2700] START C=0.001, l1_ratio=0.505, max_iter=1000, multi_class=ovr, penalty=l2, solver=lbfgs\n"
     ]
    },
    {
     "name": "stderr",
     "output_type": "stream",
     "text": [
      "C:\\Users\\User\\anaconda3\\lib\\site-packages\\sklearn\\linear_model\\_logistic.py:1165: UserWarning: l1_ratio parameter is only used when penalty is 'elasticnet'. Got (penalty=l2)\n",
      "  warnings.warn(\n"
     ]
    },
    {
     "name": "stdout",
     "output_type": "stream",
     "text": [
      "[CV 1/3; 216/2700] END C=0.001, l1_ratio=0.505, max_iter=1000, multi_class=ovr, penalty=l2, solver=lbfgs;, score=0.469 total time=   0.4s\n",
      "[CV 2/3; 216/2700] START C=0.001, l1_ratio=0.505, max_iter=1000, multi_class=ovr, penalty=l2, solver=lbfgs\n"
     ]
    },
    {
     "name": "stderr",
     "output_type": "stream",
     "text": [
      "C:\\Users\\User\\anaconda3\\lib\\site-packages\\sklearn\\linear_model\\_logistic.py:1165: UserWarning: l1_ratio parameter is only used when penalty is 'elasticnet'. Got (penalty=l2)\n",
      "  warnings.warn(\n"
     ]
    },
    {
     "name": "stdout",
     "output_type": "stream",
     "text": [
      "[CV 2/3; 216/2700] END C=0.001, l1_ratio=0.505, max_iter=1000, multi_class=ovr, penalty=l2, solver=lbfgs;, score=0.468 total time=   0.4s\n",
      "[CV 3/3; 216/2700] START C=0.001, l1_ratio=0.505, max_iter=1000, multi_class=ovr, penalty=l2, solver=lbfgs\n"
     ]
    },
    {
     "name": "stderr",
     "output_type": "stream",
     "text": [
      "C:\\Users\\User\\anaconda3\\lib\\site-packages\\sklearn\\linear_model\\_logistic.py:1165: UserWarning: l1_ratio parameter is only used when penalty is 'elasticnet'. Got (penalty=l2)\n",
      "  warnings.warn(\n"
     ]
    },
    {
     "name": "stdout",
     "output_type": "stream",
     "text": [
      "[CV 3/3; 216/2700] END C=0.001, l1_ratio=0.505, max_iter=1000, multi_class=ovr, penalty=l2, solver=lbfgs;, score=0.464 total time=   0.4s\n",
      "[CV 1/3; 217/2700] START C=0.001, l1_ratio=0.505, max_iter=1000, multi_class=ovr, penalty=l2, solver=liblinear\n"
     ]
    },
    {
     "name": "stderr",
     "output_type": "stream",
     "text": [
      "C:\\Users\\User\\anaconda3\\lib\\site-packages\\sklearn\\linear_model\\_logistic.py:1165: UserWarning: l1_ratio parameter is only used when penalty is 'elasticnet'. Got (penalty=l2)\n",
      "  warnings.warn(\n"
     ]
    },
    {
     "name": "stdout",
     "output_type": "stream",
     "text": [
      "[CV 1/3; 217/2700] END C=0.001, l1_ratio=0.505, max_iter=1000, multi_class=ovr, penalty=l2, solver=liblinear;, score=0.469 total time=   0.2s\n",
      "[CV 2/3; 217/2700] START C=0.001, l1_ratio=0.505, max_iter=1000, multi_class=ovr, penalty=l2, solver=liblinear\n"
     ]
    },
    {
     "name": "stderr",
     "output_type": "stream",
     "text": [
      "C:\\Users\\User\\anaconda3\\lib\\site-packages\\sklearn\\linear_model\\_logistic.py:1165: UserWarning: l1_ratio parameter is only used when penalty is 'elasticnet'. Got (penalty=l2)\n",
      "  warnings.warn(\n"
     ]
    },
    {
     "name": "stdout",
     "output_type": "stream",
     "text": [
      "[CV 2/3; 217/2700] END C=0.001, l1_ratio=0.505, max_iter=1000, multi_class=ovr, penalty=l2, solver=liblinear;, score=0.467 total time=   0.2s\n",
      "[CV 3/3; 217/2700] START C=0.001, l1_ratio=0.505, max_iter=1000, multi_class=ovr, penalty=l2, solver=liblinear\n"
     ]
    },
    {
     "name": "stderr",
     "output_type": "stream",
     "text": [
      "C:\\Users\\User\\anaconda3\\lib\\site-packages\\sklearn\\linear_model\\_logistic.py:1165: UserWarning: l1_ratio parameter is only used when penalty is 'elasticnet'. Got (penalty=l2)\n",
      "  warnings.warn(\n"
     ]
    },
    {
     "name": "stdout",
     "output_type": "stream",
     "text": [
      "[CV 3/3; 217/2700] END C=0.001, l1_ratio=0.505, max_iter=1000, multi_class=ovr, penalty=l2, solver=liblinear;, score=0.465 total time=   0.2s\n",
      "[CV 1/3; 218/2700] START C=0.001, l1_ratio=0.505, max_iter=1000, multi_class=ovr, penalty=l2, solver=saga\n"
     ]
    },
    {
     "name": "stderr",
     "output_type": "stream",
     "text": [
      "C:\\Users\\User\\anaconda3\\lib\\site-packages\\sklearn\\linear_model\\_logistic.py:1165: UserWarning: l1_ratio parameter is only used when penalty is 'elasticnet'. Got (penalty=l2)\n",
      "  warnings.warn(\n"
     ]
    },
    {
     "name": "stdout",
     "output_type": "stream",
     "text": [
      "[CV 1/3; 218/2700] END C=0.001, l1_ratio=0.505, max_iter=1000, multi_class=ovr, penalty=l2, solver=saga;, score=0.469 total time=   6.2s\n",
      "[CV 2/3; 218/2700] START C=0.001, l1_ratio=0.505, max_iter=1000, multi_class=ovr, penalty=l2, solver=saga\n"
     ]
    },
    {
     "name": "stderr",
     "output_type": "stream",
     "text": [
      "C:\\Users\\User\\anaconda3\\lib\\site-packages\\sklearn\\linear_model\\_logistic.py:1165: UserWarning: l1_ratio parameter is only used when penalty is 'elasticnet'. Got (penalty=l2)\n",
      "  warnings.warn(\n"
     ]
    },
    {
     "name": "stdout",
     "output_type": "stream",
     "text": [
      "[CV 2/3; 218/2700] END C=0.001, l1_ratio=0.505, max_iter=1000, multi_class=ovr, penalty=l2, solver=saga;, score=0.468 total time=   5.9s\n",
      "[CV 3/3; 218/2700] START C=0.001, l1_ratio=0.505, max_iter=1000, multi_class=ovr, penalty=l2, solver=saga\n"
     ]
    },
    {
     "name": "stderr",
     "output_type": "stream",
     "text": [
      "C:\\Users\\User\\anaconda3\\lib\\site-packages\\sklearn\\linear_model\\_logistic.py:1165: UserWarning: l1_ratio parameter is only used when penalty is 'elasticnet'. Got (penalty=l2)\n",
      "  warnings.warn(\n"
     ]
    },
    {
     "name": "stdout",
     "output_type": "stream",
     "text": [
      "[CV 3/3; 218/2700] END C=0.001, l1_ratio=0.505, max_iter=1000, multi_class=ovr, penalty=l2, solver=saga;, score=0.464 total time=   6.2s\n",
      "[CV 1/3; 219/2700] START C=0.001, l1_ratio=0.505, max_iter=1000, multi_class=ovr, penalty=l2, solver=sag\n"
     ]
    },
    {
     "name": "stderr",
     "output_type": "stream",
     "text": [
      "C:\\Users\\User\\anaconda3\\lib\\site-packages\\sklearn\\linear_model\\_logistic.py:1165: UserWarning: l1_ratio parameter is only used when penalty is 'elasticnet'. Got (penalty=l2)\n",
      "  warnings.warn(\n"
     ]
    },
    {
     "name": "stdout",
     "output_type": "stream",
     "text": [
      "[CV 1/3; 219/2700] END C=0.001, l1_ratio=0.505, max_iter=1000, multi_class=ovr, penalty=l2, solver=sag;, score=0.469 total time=   2.8s\n",
      "[CV 2/3; 219/2700] START C=0.001, l1_ratio=0.505, max_iter=1000, multi_class=ovr, penalty=l2, solver=sag\n"
     ]
    },
    {
     "name": "stderr",
     "output_type": "stream",
     "text": [
      "C:\\Users\\User\\anaconda3\\lib\\site-packages\\sklearn\\linear_model\\_logistic.py:1165: UserWarning: l1_ratio parameter is only used when penalty is 'elasticnet'. Got (penalty=l2)\n",
      "  warnings.warn(\n"
     ]
    },
    {
     "name": "stdout",
     "output_type": "stream",
     "text": [
      "[CV 2/3; 219/2700] END C=0.001, l1_ratio=0.505, max_iter=1000, multi_class=ovr, penalty=l2, solver=sag;, score=0.468 total time=   2.5s\n",
      "[CV 3/3; 219/2700] START C=0.001, l1_ratio=0.505, max_iter=1000, multi_class=ovr, penalty=l2, solver=sag\n"
     ]
    },
    {
     "name": "stderr",
     "output_type": "stream",
     "text": [
      "C:\\Users\\User\\anaconda3\\lib\\site-packages\\sklearn\\linear_model\\_logistic.py:1165: UserWarning: l1_ratio parameter is only used when penalty is 'elasticnet'. Got (penalty=l2)\n",
      "  warnings.warn(\n"
     ]
    },
    {
     "name": "stdout",
     "output_type": "stream",
     "text": [
      "[CV 3/3; 219/2700] END C=0.001, l1_ratio=0.505, max_iter=1000, multi_class=ovr, penalty=l2, solver=sag;, score=0.464 total time=   2.7s\n",
      "[CV 1/3; 220/2700] START C=0.001, l1_ratio=0.505, max_iter=1000, multi_class=ovr, penalty=l2, solver=newton-cholesky\n"
     ]
    },
    {
     "name": "stderr",
     "output_type": "stream",
     "text": [
      "C:\\Users\\User\\anaconda3\\lib\\site-packages\\sklearn\\linear_model\\_logistic.py:1165: UserWarning: l1_ratio parameter is only used when penalty is 'elasticnet'. Got (penalty=l2)\n",
      "  warnings.warn(\n"
     ]
    },
    {
     "name": "stdout",
     "output_type": "stream",
     "text": [
      "[CV 1/3; 220/2700] END C=0.001, l1_ratio=0.505, max_iter=1000, multi_class=ovr, penalty=l2, solver=newton-cholesky;, score=0.469 total time=   1.4s\n",
      "[CV 2/3; 220/2700] START C=0.001, l1_ratio=0.505, max_iter=1000, multi_class=ovr, penalty=l2, solver=newton-cholesky\n"
     ]
    },
    {
     "name": "stderr",
     "output_type": "stream",
     "text": [
      "C:\\Users\\User\\anaconda3\\lib\\site-packages\\sklearn\\linear_model\\_logistic.py:1165: UserWarning: l1_ratio parameter is only used when penalty is 'elasticnet'. Got (penalty=l2)\n",
      "  warnings.warn(\n"
     ]
    },
    {
     "name": "stdout",
     "output_type": "stream",
     "text": [
      "[CV 2/3; 220/2700] END C=0.001, l1_ratio=0.505, max_iter=1000, multi_class=ovr, penalty=l2, solver=newton-cholesky;, score=0.468 total time=   1.4s\n",
      "[CV 3/3; 220/2700] START C=0.001, l1_ratio=0.505, max_iter=1000, multi_class=ovr, penalty=l2, solver=newton-cholesky\n"
     ]
    },
    {
     "name": "stderr",
     "output_type": "stream",
     "text": [
      "C:\\Users\\User\\anaconda3\\lib\\site-packages\\sklearn\\linear_model\\_logistic.py:1165: UserWarning: l1_ratio parameter is only used when penalty is 'elasticnet'. Got (penalty=l2)\n",
      "  warnings.warn(\n"
     ]
    },
    {
     "name": "stdout",
     "output_type": "stream",
     "text": [
      "[CV 3/3; 220/2700] END C=0.001, l1_ratio=0.505, max_iter=1000, multi_class=ovr, penalty=l2, solver=newton-cholesky;, score=0.464 total time=   1.4s\n",
      "[CV 1/3; 221/2700] START C=0.001, l1_ratio=0.505, max_iter=1000, multi_class=ovr, penalty=elasticnet, solver=lbfgs\n",
      "[CV 1/3; 221/2700] END C=0.001, l1_ratio=0.505, max_iter=1000, multi_class=ovr, penalty=elasticnet, solver=lbfgs;, score=nan total time=   0.0s\n",
      "[CV 2/3; 221/2700] START C=0.001, l1_ratio=0.505, max_iter=1000, multi_class=ovr, penalty=elasticnet, solver=lbfgs\n",
      "[CV 2/3; 221/2700] END C=0.001, l1_ratio=0.505, max_iter=1000, multi_class=ovr, penalty=elasticnet, solver=lbfgs;, score=nan total time=   0.0s\n",
      "[CV 3/3; 221/2700] START C=0.001, l1_ratio=0.505, max_iter=1000, multi_class=ovr, penalty=elasticnet, solver=lbfgs\n",
      "[CV 3/3; 221/2700] END C=0.001, l1_ratio=0.505, max_iter=1000, multi_class=ovr, penalty=elasticnet, solver=lbfgs;, score=nan total time=   0.0s\n",
      "[CV 1/3; 222/2700] START C=0.001, l1_ratio=0.505, max_iter=1000, multi_class=ovr, penalty=elasticnet, solver=liblinear\n",
      "[CV 1/3; 222/2700] END C=0.001, l1_ratio=0.505, max_iter=1000, multi_class=ovr, penalty=elasticnet, solver=liblinear;, score=nan total time=   0.0s\n",
      "[CV 2/3; 222/2700] START C=0.001, l1_ratio=0.505, max_iter=1000, multi_class=ovr, penalty=elasticnet, solver=liblinear\n",
      "[CV 2/3; 222/2700] END C=0.001, l1_ratio=0.505, max_iter=1000, multi_class=ovr, penalty=elasticnet, solver=liblinear;, score=nan total time=   0.0s\n",
      "[CV 3/3; 222/2700] START C=0.001, l1_ratio=0.505, max_iter=1000, multi_class=ovr, penalty=elasticnet, solver=liblinear\n",
      "[CV 3/3; 222/2700] END C=0.001, l1_ratio=0.505, max_iter=1000, multi_class=ovr, penalty=elasticnet, solver=liblinear;, score=nan total time=   0.0s\n",
      "[CV 1/3; 223/2700] START C=0.001, l1_ratio=0.505, max_iter=1000, multi_class=ovr, penalty=elasticnet, solver=saga\n",
      "[CV 1/3; 223/2700] END C=0.001, l1_ratio=0.505, max_iter=1000, multi_class=ovr, penalty=elasticnet, solver=saga;, score=0.454 total time=   5.1s\n",
      "[CV 2/3; 223/2700] START C=0.001, l1_ratio=0.505, max_iter=1000, multi_class=ovr, penalty=elasticnet, solver=saga\n",
      "[CV 2/3; 223/2700] END C=0.001, l1_ratio=0.505, max_iter=1000, multi_class=ovr, penalty=elasticnet, solver=saga;, score=0.458 total time=   4.4s\n",
      "[CV 3/3; 223/2700] START C=0.001, l1_ratio=0.505, max_iter=1000, multi_class=ovr, penalty=elasticnet, solver=saga\n",
      "[CV 3/3; 223/2700] END C=0.001, l1_ratio=0.505, max_iter=1000, multi_class=ovr, penalty=elasticnet, solver=saga;, score=0.451 total time=   4.3s\n",
      "[CV 1/3; 224/2700] START C=0.001, l1_ratio=0.505, max_iter=1000, multi_class=ovr, penalty=elasticnet, solver=sag\n",
      "[CV 1/3; 224/2700] END C=0.001, l1_ratio=0.505, max_iter=1000, multi_class=ovr, penalty=elasticnet, solver=sag;, score=nan total time=   0.0s\n",
      "[CV 2/3; 224/2700] START C=0.001, l1_ratio=0.505, max_iter=1000, multi_class=ovr, penalty=elasticnet, solver=sag\n",
      "[CV 2/3; 224/2700] END C=0.001, l1_ratio=0.505, max_iter=1000, multi_class=ovr, penalty=elasticnet, solver=sag;, score=nan total time=   0.0s\n",
      "[CV 3/3; 224/2700] START C=0.001, l1_ratio=0.505, max_iter=1000, multi_class=ovr, penalty=elasticnet, solver=sag\n",
      "[CV 3/3; 224/2700] END C=0.001, l1_ratio=0.505, max_iter=1000, multi_class=ovr, penalty=elasticnet, solver=sag;, score=nan total time=   0.0s\n",
      "[CV 1/3; 225/2700] START C=0.001, l1_ratio=0.505, max_iter=1000, multi_class=ovr, penalty=elasticnet, solver=newton-cholesky\n",
      "[CV 1/3; 225/2700] END C=0.001, l1_ratio=0.505, max_iter=1000, multi_class=ovr, penalty=elasticnet, solver=newton-cholesky;, score=nan total time=   0.0s\n",
      "[CV 2/3; 225/2700] START C=0.001, l1_ratio=0.505, max_iter=1000, multi_class=ovr, penalty=elasticnet, solver=newton-cholesky\n",
      "[CV 2/3; 225/2700] END C=0.001, l1_ratio=0.505, max_iter=1000, multi_class=ovr, penalty=elasticnet, solver=newton-cholesky;, score=nan total time=   0.0s\n",
      "[CV 3/3; 225/2700] START C=0.001, l1_ratio=0.505, max_iter=1000, multi_class=ovr, penalty=elasticnet, solver=newton-cholesky\n",
      "[CV 3/3; 225/2700] END C=0.001, l1_ratio=0.505, max_iter=1000, multi_class=ovr, penalty=elasticnet, solver=newton-cholesky;, score=nan total time=   0.0s\n",
      "[CV 1/3; 226/2700] START C=0.001, l1_ratio=0.505, max_iter=1000, multi_class=multinomial, penalty=l1, solver=lbfgs\n",
      "[CV 1/3; 226/2700] END C=0.001, l1_ratio=0.505, max_iter=1000, multi_class=multinomial, penalty=l1, solver=lbfgs;, score=nan total time=   0.0s\n",
      "[CV 2/3; 226/2700] START C=0.001, l1_ratio=0.505, max_iter=1000, multi_class=multinomial, penalty=l1, solver=lbfgs\n",
      "[CV 2/3; 226/2700] END C=0.001, l1_ratio=0.505, max_iter=1000, multi_class=multinomial, penalty=l1, solver=lbfgs;, score=nan total time=   0.0s\n",
      "[CV 3/3; 226/2700] START C=0.001, l1_ratio=0.505, max_iter=1000, multi_class=multinomial, penalty=l1, solver=lbfgs\n",
      "[CV 3/3; 226/2700] END C=0.001, l1_ratio=0.505, max_iter=1000, multi_class=multinomial, penalty=l1, solver=lbfgs;, score=nan total time=   0.0s\n",
      "[CV 1/3; 227/2700] START C=0.001, l1_ratio=0.505, max_iter=1000, multi_class=multinomial, penalty=l1, solver=liblinear\n",
      "[CV 1/3; 227/2700] END C=0.001, l1_ratio=0.505, max_iter=1000, multi_class=multinomial, penalty=l1, solver=liblinear;, score=nan total time=   0.0s\n",
      "[CV 2/3; 227/2700] START C=0.001, l1_ratio=0.505, max_iter=1000, multi_class=multinomial, penalty=l1, solver=liblinear\n",
      "[CV 2/3; 227/2700] END C=0.001, l1_ratio=0.505, max_iter=1000, multi_class=multinomial, penalty=l1, solver=liblinear;, score=nan total time=   0.0s\n",
      "[CV 3/3; 227/2700] START C=0.001, l1_ratio=0.505, max_iter=1000, multi_class=multinomial, penalty=l1, solver=liblinear\n",
      "[CV 3/3; 227/2700] END C=0.001, l1_ratio=0.505, max_iter=1000, multi_class=multinomial, penalty=l1, solver=liblinear;, score=nan total time=   0.0s\n",
      "[CV 1/3; 228/2700] START C=0.001, l1_ratio=0.505, max_iter=1000, multi_class=multinomial, penalty=l1, solver=saga\n"
     ]
    },
    {
     "name": "stderr",
     "output_type": "stream",
     "text": [
      "C:\\Users\\User\\anaconda3\\lib\\site-packages\\sklearn\\linear_model\\_logistic.py:1165: UserWarning: l1_ratio parameter is only used when penalty is 'elasticnet'. Got (penalty=l1)\n",
      "  warnings.warn(\n",
      "C:\\Users\\User\\anaconda3\\lib\\site-packages\\sklearn\\linear_model\\_logistic.py:1165: UserWarning: l1_ratio parameter is only used when penalty is 'elasticnet'. Got (penalty=l1)\n",
      "  warnings.warn(\n",
      "C:\\Users\\User\\anaconda3\\lib\\site-packages\\sklearn\\linear_model\\_logistic.py:1165: UserWarning: l1_ratio parameter is only used when penalty is 'elasticnet'. Got (penalty=l1)\n",
      "  warnings.warn(\n",
      "C:\\Users\\User\\anaconda3\\lib\\site-packages\\sklearn\\linear_model\\_logistic.py:1165: UserWarning: l1_ratio parameter is only used when penalty is 'elasticnet'. Got (penalty=l1)\n",
      "  warnings.warn(\n"
     ]
    },
    {
     "name": "stdout",
     "output_type": "stream",
     "text": [
      "[CV 1/3; 228/2700] END C=0.001, l1_ratio=0.505, max_iter=1000, multi_class=multinomial, penalty=l1, solver=saga;, score=0.306 total time=   4.2s\n",
      "[CV 2/3; 228/2700] START C=0.001, l1_ratio=0.505, max_iter=1000, multi_class=multinomial, penalty=l1, solver=saga\n"
     ]
    },
    {
     "name": "stderr",
     "output_type": "stream",
     "text": [
      "C:\\Users\\User\\anaconda3\\lib\\site-packages\\sklearn\\linear_model\\_logistic.py:1165: UserWarning: l1_ratio parameter is only used when penalty is 'elasticnet'. Got (penalty=l1)\n",
      "  warnings.warn(\n"
     ]
    },
    {
     "name": "stdout",
     "output_type": "stream",
     "text": [
      "[CV 2/3; 228/2700] END C=0.001, l1_ratio=0.505, max_iter=1000, multi_class=multinomial, penalty=l1, solver=saga;, score=0.306 total time=   4.9s\n",
      "[CV 3/3; 228/2700] START C=0.001, l1_ratio=0.505, max_iter=1000, multi_class=multinomial, penalty=l1, solver=saga\n"
     ]
    },
    {
     "name": "stderr",
     "output_type": "stream",
     "text": [
      "C:\\Users\\User\\anaconda3\\lib\\site-packages\\sklearn\\linear_model\\_logistic.py:1165: UserWarning: l1_ratio parameter is only used when penalty is 'elasticnet'. Got (penalty=l1)\n",
      "  warnings.warn(\n"
     ]
    },
    {
     "name": "stdout",
     "output_type": "stream",
     "text": [
      "[CV 3/3; 228/2700] END C=0.001, l1_ratio=0.505, max_iter=1000, multi_class=multinomial, penalty=l1, solver=saga;, score=0.306 total time=   5.1s\n",
      "[CV 1/3; 229/2700] START C=0.001, l1_ratio=0.505, max_iter=1000, multi_class=multinomial, penalty=l1, solver=sag\n",
      "[CV 1/3; 229/2700] END C=0.001, l1_ratio=0.505, max_iter=1000, multi_class=multinomial, penalty=l1, solver=sag;, score=nan total time=   0.0s\n",
      "[CV 2/3; 229/2700] START C=0.001, l1_ratio=0.505, max_iter=1000, multi_class=multinomial, penalty=l1, solver=sag\n",
      "[CV 2/3; 229/2700] END C=0.001, l1_ratio=0.505, max_iter=1000, multi_class=multinomial, penalty=l1, solver=sag;, score=nan total time=   0.0s\n",
      "[CV 3/3; 229/2700] START C=0.001, l1_ratio=0.505, max_iter=1000, multi_class=multinomial, penalty=l1, solver=sag\n",
      "[CV 3/3; 229/2700] END C=0.001, l1_ratio=0.505, max_iter=1000, multi_class=multinomial, penalty=l1, solver=sag;, score=nan total time=   0.0s\n",
      "[CV 1/3; 230/2700] START C=0.001, l1_ratio=0.505, max_iter=1000, multi_class=multinomial, penalty=l1, solver=newton-cholesky\n",
      "[CV 1/3; 230/2700] END C=0.001, l1_ratio=0.505, max_iter=1000, multi_class=multinomial, penalty=l1, solver=newton-cholesky;, score=nan total time=   0.0s\n",
      "[CV 2/3; 230/2700] START C=0.001, l1_ratio=0.505, max_iter=1000, multi_class=multinomial, penalty=l1, solver=newton-cholesky\n",
      "[CV 2/3; 230/2700] END C=0.001, l1_ratio=0.505, max_iter=1000, multi_class=multinomial, penalty=l1, solver=newton-cholesky;, score=nan total time=   0.0s\n",
      "[CV 3/3; 230/2700] START C=0.001, l1_ratio=0.505, max_iter=1000, multi_class=multinomial, penalty=l1, solver=newton-cholesky\n",
      "[CV 3/3; 230/2700] END C=0.001, l1_ratio=0.505, max_iter=1000, multi_class=multinomial, penalty=l1, solver=newton-cholesky;, score=nan total time=   0.0s\n",
      "[CV 1/3; 231/2700] START C=0.001, l1_ratio=0.505, max_iter=1000, multi_class=multinomial, penalty=l2, solver=lbfgs\n"
     ]
    },
    {
     "name": "stderr",
     "output_type": "stream",
     "text": [
      "C:\\Users\\User\\anaconda3\\lib\\site-packages\\sklearn\\linear_model\\_logistic.py:1165: UserWarning: l1_ratio parameter is only used when penalty is 'elasticnet'. Got (penalty=l2)\n",
      "  warnings.warn(\n"
     ]
    },
    {
     "name": "stdout",
     "output_type": "stream",
     "text": [
      "[CV 1/3; 231/2700] END C=0.001, l1_ratio=0.505, max_iter=1000, multi_class=multinomial, penalty=l2, solver=lbfgs;, score=0.478 total time=   0.6s\n",
      "[CV 2/3; 231/2700] START C=0.001, l1_ratio=0.505, max_iter=1000, multi_class=multinomial, penalty=l2, solver=lbfgs\n"
     ]
    },
    {
     "name": "stderr",
     "output_type": "stream",
     "text": [
      "C:\\Users\\User\\anaconda3\\lib\\site-packages\\sklearn\\linear_model\\_logistic.py:1165: UserWarning: l1_ratio parameter is only used when penalty is 'elasticnet'. Got (penalty=l2)\n",
      "  warnings.warn(\n"
     ]
    },
    {
     "name": "stdout",
     "output_type": "stream",
     "text": [
      "[CV 2/3; 231/2700] END C=0.001, l1_ratio=0.505, max_iter=1000, multi_class=multinomial, penalty=l2, solver=lbfgs;, score=0.474 total time=   0.6s\n",
      "[CV 3/3; 231/2700] START C=0.001, l1_ratio=0.505, max_iter=1000, multi_class=multinomial, penalty=l2, solver=lbfgs\n"
     ]
    },
    {
     "name": "stderr",
     "output_type": "stream",
     "text": [
      "C:\\Users\\User\\anaconda3\\lib\\site-packages\\sklearn\\linear_model\\_logistic.py:1165: UserWarning: l1_ratio parameter is only used when penalty is 'elasticnet'. Got (penalty=l2)\n",
      "  warnings.warn(\n"
     ]
    },
    {
     "name": "stdout",
     "output_type": "stream",
     "text": [
      "[CV 3/3; 231/2700] END C=0.001, l1_ratio=0.505, max_iter=1000, multi_class=multinomial, penalty=l2, solver=lbfgs;, score=0.471 total time=   0.6s\n",
      "[CV 1/3; 232/2700] START C=0.001, l1_ratio=0.505, max_iter=1000, multi_class=multinomial, penalty=l2, solver=liblinear\n",
      "[CV 1/3; 232/2700] END C=0.001, l1_ratio=0.505, max_iter=1000, multi_class=multinomial, penalty=l2, solver=liblinear;, score=nan total time=   0.0s\n",
      "[CV 2/3; 232/2700] START C=0.001, l1_ratio=0.505, max_iter=1000, multi_class=multinomial, penalty=l2, solver=liblinear\n",
      "[CV 2/3; 232/2700] END C=0.001, l1_ratio=0.505, max_iter=1000, multi_class=multinomial, penalty=l2, solver=liblinear;, score=nan total time=   0.0s\n",
      "[CV 3/3; 232/2700] START C=0.001, l1_ratio=0.505, max_iter=1000, multi_class=multinomial, penalty=l2, solver=liblinear\n",
      "[CV 3/3; 232/2700] END C=0.001, l1_ratio=0.505, max_iter=1000, multi_class=multinomial, penalty=l2, solver=liblinear;, score=nan total time=   0.0s\n",
      "[CV 1/3; 233/2700] START C=0.001, l1_ratio=0.505, max_iter=1000, multi_class=multinomial, penalty=l2, solver=saga\n"
     ]
    },
    {
     "name": "stderr",
     "output_type": "stream",
     "text": [
      "C:\\Users\\User\\anaconda3\\lib\\site-packages\\sklearn\\linear_model\\_logistic.py:1165: UserWarning: l1_ratio parameter is only used when penalty is 'elasticnet'. Got (penalty=l2)\n",
      "  warnings.warn(\n",
      "C:\\Users\\User\\anaconda3\\lib\\site-packages\\sklearn\\linear_model\\_logistic.py:1165: UserWarning: l1_ratio parameter is only used when penalty is 'elasticnet'. Got (penalty=l2)\n",
      "  warnings.warn(\n",
      "C:\\Users\\User\\anaconda3\\lib\\site-packages\\sklearn\\linear_model\\_logistic.py:1165: UserWarning: l1_ratio parameter is only used when penalty is 'elasticnet'. Got (penalty=l2)\n",
      "  warnings.warn(\n",
      "C:\\Users\\User\\anaconda3\\lib\\site-packages\\sklearn\\linear_model\\_logistic.py:1165: UserWarning: l1_ratio parameter is only used when penalty is 'elasticnet'. Got (penalty=l2)\n",
      "  warnings.warn(\n"
     ]
    },
    {
     "name": "stdout",
     "output_type": "stream",
     "text": [
      "[CV 1/3; 233/2700] END C=0.001, l1_ratio=0.505, max_iter=1000, multi_class=multinomial, penalty=l2, solver=saga;, score=0.477 total time=   5.0s\n",
      "[CV 2/3; 233/2700] START C=0.001, l1_ratio=0.505, max_iter=1000, multi_class=multinomial, penalty=l2, solver=saga\n"
     ]
    },
    {
     "name": "stderr",
     "output_type": "stream",
     "text": [
      "C:\\Users\\User\\anaconda3\\lib\\site-packages\\sklearn\\linear_model\\_logistic.py:1165: UserWarning: l1_ratio parameter is only used when penalty is 'elasticnet'. Got (penalty=l2)\n",
      "  warnings.warn(\n"
     ]
    },
    {
     "name": "stdout",
     "output_type": "stream",
     "text": [
      "[CV 2/3; 233/2700] END C=0.001, l1_ratio=0.505, max_iter=1000, multi_class=multinomial, penalty=l2, solver=saga;, score=0.474 total time=   4.6s\n",
      "[CV 3/3; 233/2700] START C=0.001, l1_ratio=0.505, max_iter=1000, multi_class=multinomial, penalty=l2, solver=saga\n"
     ]
    },
    {
     "name": "stderr",
     "output_type": "stream",
     "text": [
      "C:\\Users\\User\\anaconda3\\lib\\site-packages\\sklearn\\linear_model\\_logistic.py:1165: UserWarning: l1_ratio parameter is only used when penalty is 'elasticnet'. Got (penalty=l2)\n",
      "  warnings.warn(\n"
     ]
    },
    {
     "name": "stdout",
     "output_type": "stream",
     "text": [
      "[CV 3/3; 233/2700] END C=0.001, l1_ratio=0.505, max_iter=1000, multi_class=multinomial, penalty=l2, solver=saga;, score=0.471 total time=   4.7s\n",
      "[CV 1/3; 234/2700] START C=0.001, l1_ratio=0.505, max_iter=1000, multi_class=multinomial, penalty=l2, solver=sag\n"
     ]
    },
    {
     "name": "stderr",
     "output_type": "stream",
     "text": [
      "C:\\Users\\User\\anaconda3\\lib\\site-packages\\sklearn\\linear_model\\_logistic.py:1165: UserWarning: l1_ratio parameter is only used when penalty is 'elasticnet'. Got (penalty=l2)\n",
      "  warnings.warn(\n"
     ]
    },
    {
     "name": "stdout",
     "output_type": "stream",
     "text": [
      "[CV 1/3; 234/2700] END C=0.001, l1_ratio=0.505, max_iter=1000, multi_class=multinomial, penalty=l2, solver=sag;, score=0.477 total time=   1.1s\n",
      "[CV 2/3; 234/2700] START C=0.001, l1_ratio=0.505, max_iter=1000, multi_class=multinomial, penalty=l2, solver=sag\n"
     ]
    },
    {
     "name": "stderr",
     "output_type": "stream",
     "text": [
      "C:\\Users\\User\\anaconda3\\lib\\site-packages\\sklearn\\linear_model\\_logistic.py:1165: UserWarning: l1_ratio parameter is only used when penalty is 'elasticnet'. Got (penalty=l2)\n",
      "  warnings.warn(\n"
     ]
    },
    {
     "name": "stdout",
     "output_type": "stream",
     "text": [
      "[CV 2/3; 234/2700] END C=0.001, l1_ratio=0.505, max_iter=1000, multi_class=multinomial, penalty=l2, solver=sag;, score=0.474 total time=   1.3s\n",
      "[CV 3/3; 234/2700] START C=0.001, l1_ratio=0.505, max_iter=1000, multi_class=multinomial, penalty=l2, solver=sag\n"
     ]
    },
    {
     "name": "stderr",
     "output_type": "stream",
     "text": [
      "C:\\Users\\User\\anaconda3\\lib\\site-packages\\sklearn\\linear_model\\_logistic.py:1165: UserWarning: l1_ratio parameter is only used when penalty is 'elasticnet'. Got (penalty=l2)\n",
      "  warnings.warn(\n"
     ]
    },
    {
     "name": "stdout",
     "output_type": "stream",
     "text": [
      "[CV 3/3; 234/2700] END C=0.001, l1_ratio=0.505, max_iter=1000, multi_class=multinomial, penalty=l2, solver=sag;, score=0.471 total time=   1.3s\n",
      "[CV 1/3; 235/2700] START C=0.001, l1_ratio=0.505, max_iter=1000, multi_class=multinomial, penalty=l2, solver=newton-cholesky\n",
      "[CV 1/3; 235/2700] END C=0.001, l1_ratio=0.505, max_iter=1000, multi_class=multinomial, penalty=l2, solver=newton-cholesky;, score=nan total time=   0.0s\n",
      "[CV 2/3; 235/2700] START C=0.001, l1_ratio=0.505, max_iter=1000, multi_class=multinomial, penalty=l2, solver=newton-cholesky\n",
      "[CV 2/3; 235/2700] END C=0.001, l1_ratio=0.505, max_iter=1000, multi_class=multinomial, penalty=l2, solver=newton-cholesky;, score=nan total time=   0.0s\n",
      "[CV 3/3; 235/2700] START C=0.001, l1_ratio=0.505, max_iter=1000, multi_class=multinomial, penalty=l2, solver=newton-cholesky\n",
      "[CV 3/3; 235/2700] END C=0.001, l1_ratio=0.505, max_iter=1000, multi_class=multinomial, penalty=l2, solver=newton-cholesky;, score=nan total time=   0.0s\n",
      "[CV 1/3; 236/2700] START C=0.001, l1_ratio=0.505, max_iter=1000, multi_class=multinomial, penalty=elasticnet, solver=lbfgs\n",
      "[CV 1/3; 236/2700] END C=0.001, l1_ratio=0.505, max_iter=1000, multi_class=multinomial, penalty=elasticnet, solver=lbfgs;, score=nan total time=   0.0s\n",
      "[CV 2/3; 236/2700] START C=0.001, l1_ratio=0.505, max_iter=1000, multi_class=multinomial, penalty=elasticnet, solver=lbfgs\n",
      "[CV 2/3; 236/2700] END C=0.001, l1_ratio=0.505, max_iter=1000, multi_class=multinomial, penalty=elasticnet, solver=lbfgs;, score=nan total time=   0.0s\n",
      "[CV 3/3; 236/2700] START C=0.001, l1_ratio=0.505, max_iter=1000, multi_class=multinomial, penalty=elasticnet, solver=lbfgs\n",
      "[CV 3/3; 236/2700] END C=0.001, l1_ratio=0.505, max_iter=1000, multi_class=multinomial, penalty=elasticnet, solver=lbfgs;, score=nan total time=   0.0s\n",
      "[CV 1/3; 237/2700] START C=0.001, l1_ratio=0.505, max_iter=1000, multi_class=multinomial, penalty=elasticnet, solver=liblinear\n",
      "[CV 1/3; 237/2700] END C=0.001, l1_ratio=0.505, max_iter=1000, multi_class=multinomial, penalty=elasticnet, solver=liblinear;, score=nan total time=   0.0s\n",
      "[CV 2/3; 237/2700] START C=0.001, l1_ratio=0.505, max_iter=1000, multi_class=multinomial, penalty=elasticnet, solver=liblinear\n",
      "[CV 2/3; 237/2700] END C=0.001, l1_ratio=0.505, max_iter=1000, multi_class=multinomial, penalty=elasticnet, solver=liblinear;, score=nan total time=   0.0s\n",
      "[CV 3/3; 237/2700] START C=0.001, l1_ratio=0.505, max_iter=1000, multi_class=multinomial, penalty=elasticnet, solver=liblinear\n",
      "[CV 3/3; 237/2700] END C=0.001, l1_ratio=0.505, max_iter=1000, multi_class=multinomial, penalty=elasticnet, solver=liblinear;, score=nan total time=   0.0s\n",
      "[CV 1/3; 238/2700] START C=0.001, l1_ratio=0.505, max_iter=1000, multi_class=multinomial, penalty=elasticnet, solver=saga\n"
     ]
    },
    {
     "name": "stderr",
     "output_type": "stream",
     "text": [
      "C:\\Users\\User\\anaconda3\\lib\\site-packages\\sklearn\\linear_model\\_logistic.py:1165: UserWarning: l1_ratio parameter is only used when penalty is 'elasticnet'. Got (penalty=l2)\n",
      "  warnings.warn(\n",
      "C:\\Users\\User\\anaconda3\\lib\\site-packages\\sklearn\\linear_model\\_logistic.py:1165: UserWarning: l1_ratio parameter is only used when penalty is 'elasticnet'. Got (penalty=l2)\n",
      "  warnings.warn(\n",
      "C:\\Users\\User\\anaconda3\\lib\\site-packages\\sklearn\\linear_model\\_logistic.py:1165: UserWarning: l1_ratio parameter is only used when penalty is 'elasticnet'. Got (penalty=l2)\n",
      "  warnings.warn(\n"
     ]
    },
    {
     "name": "stdout",
     "output_type": "stream",
     "text": [
      "[CV 1/3; 238/2700] END C=0.001, l1_ratio=0.505, max_iter=1000, multi_class=multinomial, penalty=elasticnet, solver=saga;, score=0.458 total time=   5.6s\n",
      "[CV 2/3; 238/2700] START C=0.001, l1_ratio=0.505, max_iter=1000, multi_class=multinomial, penalty=elasticnet, solver=saga\n",
      "[CV 2/3; 238/2700] END C=0.001, l1_ratio=0.505, max_iter=1000, multi_class=multinomial, penalty=elasticnet, solver=saga;, score=0.460 total time=   4.6s\n",
      "[CV 3/3; 238/2700] START C=0.001, l1_ratio=0.505, max_iter=1000, multi_class=multinomial, penalty=elasticnet, solver=saga\n",
      "[CV 3/3; 238/2700] END C=0.001, l1_ratio=0.505, max_iter=1000, multi_class=multinomial, penalty=elasticnet, solver=saga;, score=0.452 total time=   4.7s\n",
      "[CV 1/3; 239/2700] START C=0.001, l1_ratio=0.505, max_iter=1000, multi_class=multinomial, penalty=elasticnet, solver=sag\n",
      "[CV 1/3; 239/2700] END C=0.001, l1_ratio=0.505, max_iter=1000, multi_class=multinomial, penalty=elasticnet, solver=sag;, score=nan total time=   0.0s\n",
      "[CV 2/3; 239/2700] START C=0.001, l1_ratio=0.505, max_iter=1000, multi_class=multinomial, penalty=elasticnet, solver=sag\n",
      "[CV 2/3; 239/2700] END C=0.001, l1_ratio=0.505, max_iter=1000, multi_class=multinomial, penalty=elasticnet, solver=sag;, score=nan total time=   0.0s\n",
      "[CV 3/3; 239/2700] START C=0.001, l1_ratio=0.505, max_iter=1000, multi_class=multinomial, penalty=elasticnet, solver=sag\n",
      "[CV 3/3; 239/2700] END C=0.001, l1_ratio=0.505, max_iter=1000, multi_class=multinomial, penalty=elasticnet, solver=sag;, score=nan total time=   0.0s\n",
      "[CV 1/3; 240/2700] START C=0.001, l1_ratio=0.505, max_iter=1000, multi_class=multinomial, penalty=elasticnet, solver=newton-cholesky\n",
      "[CV 1/3; 240/2700] END C=0.001, l1_ratio=0.505, max_iter=1000, multi_class=multinomial, penalty=elasticnet, solver=newton-cholesky;, score=nan total time=   0.0s\n",
      "[CV 2/3; 240/2700] START C=0.001, l1_ratio=0.505, max_iter=1000, multi_class=multinomial, penalty=elasticnet, solver=newton-cholesky\n",
      "[CV 2/3; 240/2700] END C=0.001, l1_ratio=0.505, max_iter=1000, multi_class=multinomial, penalty=elasticnet, solver=newton-cholesky;, score=nan total time=   0.0s\n",
      "[CV 3/3; 240/2700] START C=0.001, l1_ratio=0.505, max_iter=1000, multi_class=multinomial, penalty=elasticnet, solver=newton-cholesky\n",
      "[CV 3/3; 240/2700] END C=0.001, l1_ratio=0.505, max_iter=1000, multi_class=multinomial, penalty=elasticnet, solver=newton-cholesky;, score=nan total time=   0.0s\n",
      "[CV 1/3; 241/2700] START C=0.001, l1_ratio=0.505, max_iter=10000, multi_class=ovr, penalty=l1, solver=lbfgs\n",
      "[CV 1/3; 241/2700] END C=0.001, l1_ratio=0.505, max_iter=10000, multi_class=ovr, penalty=l1, solver=lbfgs;, score=nan total time=   0.0s\n",
      "[CV 2/3; 241/2700] START C=0.001, l1_ratio=0.505, max_iter=10000, multi_class=ovr, penalty=l1, solver=lbfgs\n",
      "[CV 2/3; 241/2700] END C=0.001, l1_ratio=0.505, max_iter=10000, multi_class=ovr, penalty=l1, solver=lbfgs;, score=nan total time=   0.0s\n",
      "[CV 3/3; 241/2700] START C=0.001, l1_ratio=0.505, max_iter=10000, multi_class=ovr, penalty=l1, solver=lbfgs\n",
      "[CV 3/3; 241/2700] END C=0.001, l1_ratio=0.505, max_iter=10000, multi_class=ovr, penalty=l1, solver=lbfgs;, score=nan total time=   0.0s\n",
      "[CV 1/3; 242/2700] START C=0.001, l1_ratio=0.505, max_iter=10000, multi_class=ovr, penalty=l1, solver=liblinear\n"
     ]
    },
    {
     "name": "stderr",
     "output_type": "stream",
     "text": [
      "C:\\Users\\User\\anaconda3\\lib\\site-packages\\sklearn\\linear_model\\_logistic.py:1165: UserWarning: l1_ratio parameter is only used when penalty is 'elasticnet'. Got (penalty=l1)\n",
      "  warnings.warn(\n"
     ]
    },
    {
     "name": "stdout",
     "output_type": "stream",
     "text": [
      "[CV 1/3; 242/2700] END C=0.001, l1_ratio=0.505, max_iter=10000, multi_class=ovr, penalty=l1, solver=liblinear;, score=0.458 total time=   0.2s\n",
      "[CV 2/3; 242/2700] START C=0.001, l1_ratio=0.505, max_iter=10000, multi_class=ovr, penalty=l1, solver=liblinear\n"
     ]
    },
    {
     "name": "stderr",
     "output_type": "stream",
     "text": [
      "C:\\Users\\User\\anaconda3\\lib\\site-packages\\sklearn\\linear_model\\_logistic.py:1165: UserWarning: l1_ratio parameter is only used when penalty is 'elasticnet'. Got (penalty=l1)\n",
      "  warnings.warn(\n"
     ]
    },
    {
     "name": "stdout",
     "output_type": "stream",
     "text": [
      "[CV 2/3; 242/2700] END C=0.001, l1_ratio=0.505, max_iter=10000, multi_class=ovr, penalty=l1, solver=liblinear;, score=0.460 total time=   0.2s\n",
      "[CV 3/3; 242/2700] START C=0.001, l1_ratio=0.505, max_iter=10000, multi_class=ovr, penalty=l1, solver=liblinear\n"
     ]
    },
    {
     "name": "stderr",
     "output_type": "stream",
     "text": [
      "C:\\Users\\User\\anaconda3\\lib\\site-packages\\sklearn\\linear_model\\_logistic.py:1165: UserWarning: l1_ratio parameter is only used when penalty is 'elasticnet'. Got (penalty=l1)\n",
      "  warnings.warn(\n"
     ]
    },
    {
     "name": "stdout",
     "output_type": "stream",
     "text": [
      "[CV 3/3; 242/2700] END C=0.001, l1_ratio=0.505, max_iter=10000, multi_class=ovr, penalty=l1, solver=liblinear;, score=0.453 total time=   0.2s\n",
      "[CV 1/3; 243/2700] START C=0.001, l1_ratio=0.505, max_iter=10000, multi_class=ovr, penalty=l1, solver=saga\n"
     ]
    },
    {
     "name": "stderr",
     "output_type": "stream",
     "text": [
      "C:\\Users\\User\\anaconda3\\lib\\site-packages\\sklearn\\linear_model\\_logistic.py:1165: UserWarning: l1_ratio parameter is only used when penalty is 'elasticnet'. Got (penalty=l1)\n",
      "  warnings.warn(\n"
     ]
    },
    {
     "name": "stdout",
     "output_type": "stream",
     "text": [
      "[CV 1/3; 243/2700] END C=0.001, l1_ratio=0.505, max_iter=10000, multi_class=ovr, penalty=l1, solver=saga;, score=0.306 total time=   2.9s\n",
      "[CV 2/3; 243/2700] START C=0.001, l1_ratio=0.505, max_iter=10000, multi_class=ovr, penalty=l1, solver=saga\n"
     ]
    },
    {
     "name": "stderr",
     "output_type": "stream",
     "text": [
      "C:\\Users\\User\\anaconda3\\lib\\site-packages\\sklearn\\linear_model\\_logistic.py:1165: UserWarning: l1_ratio parameter is only used when penalty is 'elasticnet'. Got (penalty=l1)\n",
      "  warnings.warn(\n"
     ]
    },
    {
     "name": "stdout",
     "output_type": "stream",
     "text": [
      "[CV 2/3; 243/2700] END C=0.001, l1_ratio=0.505, max_iter=10000, multi_class=ovr, penalty=l1, solver=saga;, score=0.306 total time=   2.2s\n",
      "[CV 3/3; 243/2700] START C=0.001, l1_ratio=0.505, max_iter=10000, multi_class=ovr, penalty=l1, solver=saga\n"
     ]
    },
    {
     "name": "stderr",
     "output_type": "stream",
     "text": [
      "C:\\Users\\User\\anaconda3\\lib\\site-packages\\sklearn\\linear_model\\_logistic.py:1165: UserWarning: l1_ratio parameter is only used when penalty is 'elasticnet'. Got (penalty=l1)\n",
      "  warnings.warn(\n"
     ]
    },
    {
     "name": "stdout",
     "output_type": "stream",
     "text": [
      "[CV 3/3; 243/2700] END C=0.001, l1_ratio=0.505, max_iter=10000, multi_class=ovr, penalty=l1, solver=saga;, score=0.306 total time=   2.2s\n",
      "[CV 1/3; 244/2700] START C=0.001, l1_ratio=0.505, max_iter=10000, multi_class=ovr, penalty=l1, solver=sag\n",
      "[CV 1/3; 244/2700] END C=0.001, l1_ratio=0.505, max_iter=10000, multi_class=ovr, penalty=l1, solver=sag;, score=nan total time=   0.0s\n",
      "[CV 2/3; 244/2700] START C=0.001, l1_ratio=0.505, max_iter=10000, multi_class=ovr, penalty=l1, solver=sag\n",
      "[CV 2/3; 244/2700] END C=0.001, l1_ratio=0.505, max_iter=10000, multi_class=ovr, penalty=l1, solver=sag;, score=nan total time=   0.0s\n",
      "[CV 3/3; 244/2700] START C=0.001, l1_ratio=0.505, max_iter=10000, multi_class=ovr, penalty=l1, solver=sag\n",
      "[CV 3/3; 244/2700] END C=0.001, l1_ratio=0.505, max_iter=10000, multi_class=ovr, penalty=l1, solver=sag;, score=nan total time=   0.0s\n",
      "[CV 1/3; 245/2700] START C=0.001, l1_ratio=0.505, max_iter=10000, multi_class=ovr, penalty=l1, solver=newton-cholesky\n",
      "[CV 1/3; 245/2700] END C=0.001, l1_ratio=0.505, max_iter=10000, multi_class=ovr, penalty=l1, solver=newton-cholesky;, score=nan total time=   0.0s\n",
      "[CV 2/3; 245/2700] START C=0.001, l1_ratio=0.505, max_iter=10000, multi_class=ovr, penalty=l1, solver=newton-cholesky\n",
      "[CV 2/3; 245/2700] END C=0.001, l1_ratio=0.505, max_iter=10000, multi_class=ovr, penalty=l1, solver=newton-cholesky;, score=nan total time=   0.0s\n",
      "[CV 3/3; 245/2700] START C=0.001, l1_ratio=0.505, max_iter=10000, multi_class=ovr, penalty=l1, solver=newton-cholesky\n",
      "[CV 3/3; 245/2700] END C=0.001, l1_ratio=0.505, max_iter=10000, multi_class=ovr, penalty=l1, solver=newton-cholesky;, score=nan total time=   0.0s\n",
      "[CV 1/3; 246/2700] START C=0.001, l1_ratio=0.505, max_iter=10000, multi_class=ovr, penalty=l2, solver=lbfgs\n"
     ]
    },
    {
     "name": "stderr",
     "output_type": "stream",
     "text": [
      "C:\\Users\\User\\anaconda3\\lib\\site-packages\\sklearn\\linear_model\\_logistic.py:1165: UserWarning: l1_ratio parameter is only used when penalty is 'elasticnet'. Got (penalty=l2)\n",
      "  warnings.warn(\n"
     ]
    },
    {
     "name": "stdout",
     "output_type": "stream",
     "text": [
      "[CV 1/3; 246/2700] END C=0.001, l1_ratio=0.505, max_iter=10000, multi_class=ovr, penalty=l2, solver=lbfgs;, score=0.469 total time=   0.4s\n",
      "[CV 2/3; 246/2700] START C=0.001, l1_ratio=0.505, max_iter=10000, multi_class=ovr, penalty=l2, solver=lbfgs\n"
     ]
    },
    {
     "name": "stderr",
     "output_type": "stream",
     "text": [
      "C:\\Users\\User\\anaconda3\\lib\\site-packages\\sklearn\\linear_model\\_logistic.py:1165: UserWarning: l1_ratio parameter is only used when penalty is 'elasticnet'. Got (penalty=l2)\n",
      "  warnings.warn(\n"
     ]
    },
    {
     "name": "stdout",
     "output_type": "stream",
     "text": [
      "[CV 2/3; 246/2700] END C=0.001, l1_ratio=0.505, max_iter=10000, multi_class=ovr, penalty=l2, solver=lbfgs;, score=0.468 total time=   0.4s\n",
      "[CV 3/3; 246/2700] START C=0.001, l1_ratio=0.505, max_iter=10000, multi_class=ovr, penalty=l2, solver=lbfgs\n"
     ]
    },
    {
     "name": "stderr",
     "output_type": "stream",
     "text": [
      "C:\\Users\\User\\anaconda3\\lib\\site-packages\\sklearn\\linear_model\\_logistic.py:1165: UserWarning: l1_ratio parameter is only used when penalty is 'elasticnet'. Got (penalty=l2)\n",
      "  warnings.warn(\n"
     ]
    },
    {
     "name": "stdout",
     "output_type": "stream",
     "text": [
      "[CV 3/3; 246/2700] END C=0.001, l1_ratio=0.505, max_iter=10000, multi_class=ovr, penalty=l2, solver=lbfgs;, score=0.464 total time=   0.5s\n",
      "[CV 1/3; 247/2700] START C=0.001, l1_ratio=0.505, max_iter=10000, multi_class=ovr, penalty=l2, solver=liblinear\n"
     ]
    },
    {
     "name": "stderr",
     "output_type": "stream",
     "text": [
      "C:\\Users\\User\\anaconda3\\lib\\site-packages\\sklearn\\linear_model\\_logistic.py:1165: UserWarning: l1_ratio parameter is only used when penalty is 'elasticnet'. Got (penalty=l2)\n",
      "  warnings.warn(\n"
     ]
    },
    {
     "name": "stdout",
     "output_type": "stream",
     "text": [
      "[CV 1/3; 247/2700] END C=0.001, l1_ratio=0.505, max_iter=10000, multi_class=ovr, penalty=l2, solver=liblinear;, score=0.469 total time=   0.2s\n",
      "[CV 2/3; 247/2700] START C=0.001, l1_ratio=0.505, max_iter=10000, multi_class=ovr, penalty=l2, solver=liblinear\n"
     ]
    },
    {
     "name": "stderr",
     "output_type": "stream",
     "text": [
      "C:\\Users\\User\\anaconda3\\lib\\site-packages\\sklearn\\linear_model\\_logistic.py:1165: UserWarning: l1_ratio parameter is only used when penalty is 'elasticnet'. Got (penalty=l2)\n",
      "  warnings.warn(\n"
     ]
    },
    {
     "name": "stdout",
     "output_type": "stream",
     "text": [
      "[CV 2/3; 247/2700] END C=0.001, l1_ratio=0.505, max_iter=10000, multi_class=ovr, penalty=l2, solver=liblinear;, score=0.467 total time=   0.2s\n",
      "[CV 3/3; 247/2700] START C=0.001, l1_ratio=0.505, max_iter=10000, multi_class=ovr, penalty=l2, solver=liblinear\n"
     ]
    },
    {
     "name": "stderr",
     "output_type": "stream",
     "text": [
      "C:\\Users\\User\\anaconda3\\lib\\site-packages\\sklearn\\linear_model\\_logistic.py:1165: UserWarning: l1_ratio parameter is only used when penalty is 'elasticnet'. Got (penalty=l2)\n",
      "  warnings.warn(\n"
     ]
    },
    {
     "name": "stdout",
     "output_type": "stream",
     "text": [
      "[CV 3/3; 247/2700] END C=0.001, l1_ratio=0.505, max_iter=10000, multi_class=ovr, penalty=l2, solver=liblinear;, score=0.465 total time=   0.2s\n",
      "[CV 1/3; 248/2700] START C=0.001, l1_ratio=0.505, max_iter=10000, multi_class=ovr, penalty=l2, solver=saga\n"
     ]
    },
    {
     "name": "stderr",
     "output_type": "stream",
     "text": [
      "C:\\Users\\User\\anaconda3\\lib\\site-packages\\sklearn\\linear_model\\_logistic.py:1165: UserWarning: l1_ratio parameter is only used when penalty is 'elasticnet'. Got (penalty=l2)\n",
      "  warnings.warn(\n"
     ]
    },
    {
     "name": "stdout",
     "output_type": "stream",
     "text": [
      "[CV 1/3; 248/2700] END C=0.001, l1_ratio=0.505, max_iter=10000, multi_class=ovr, penalty=l2, solver=saga;, score=0.469 total time=   5.8s\n",
      "[CV 2/3; 248/2700] START C=0.001, l1_ratio=0.505, max_iter=10000, multi_class=ovr, penalty=l2, solver=saga\n"
     ]
    },
    {
     "name": "stderr",
     "output_type": "stream",
     "text": [
      "C:\\Users\\User\\anaconda3\\lib\\site-packages\\sklearn\\linear_model\\_logistic.py:1165: UserWarning: l1_ratio parameter is only used when penalty is 'elasticnet'. Got (penalty=l2)\n",
      "  warnings.warn(\n"
     ]
    },
    {
     "name": "stdout",
     "output_type": "stream",
     "text": [
      "[CV 2/3; 248/2700] END C=0.001, l1_ratio=0.505, max_iter=10000, multi_class=ovr, penalty=l2, solver=saga;, score=0.468 total time=   6.4s\n",
      "[CV 3/3; 248/2700] START C=0.001, l1_ratio=0.505, max_iter=10000, multi_class=ovr, penalty=l2, solver=saga\n"
     ]
    },
    {
     "name": "stderr",
     "output_type": "stream",
     "text": [
      "C:\\Users\\User\\anaconda3\\lib\\site-packages\\sklearn\\linear_model\\_logistic.py:1165: UserWarning: l1_ratio parameter is only used when penalty is 'elasticnet'. Got (penalty=l2)\n",
      "  warnings.warn(\n"
     ]
    },
    {
     "name": "stdout",
     "output_type": "stream",
     "text": [
      "[CV 3/3; 248/2700] END C=0.001, l1_ratio=0.505, max_iter=10000, multi_class=ovr, penalty=l2, solver=saga;, score=0.464 total time=   5.6s\n",
      "[CV 1/3; 249/2700] START C=0.001, l1_ratio=0.505, max_iter=10000, multi_class=ovr, penalty=l2, solver=sag\n"
     ]
    },
    {
     "name": "stderr",
     "output_type": "stream",
     "text": [
      "C:\\Users\\User\\anaconda3\\lib\\site-packages\\sklearn\\linear_model\\_logistic.py:1165: UserWarning: l1_ratio parameter is only used when penalty is 'elasticnet'. Got (penalty=l2)\n",
      "  warnings.warn(\n"
     ]
    },
    {
     "name": "stdout",
     "output_type": "stream",
     "text": [
      "[CV 1/3; 249/2700] END C=0.001, l1_ratio=0.505, max_iter=10000, multi_class=ovr, penalty=l2, solver=sag;, score=0.469 total time=   2.7s\n",
      "[CV 2/3; 249/2700] START C=0.001, l1_ratio=0.505, max_iter=10000, multi_class=ovr, penalty=l2, solver=sag\n"
     ]
    },
    {
     "name": "stderr",
     "output_type": "stream",
     "text": [
      "C:\\Users\\User\\anaconda3\\lib\\site-packages\\sklearn\\linear_model\\_logistic.py:1165: UserWarning: l1_ratio parameter is only used when penalty is 'elasticnet'. Got (penalty=l2)\n",
      "  warnings.warn(\n"
     ]
    },
    {
     "name": "stdout",
     "output_type": "stream",
     "text": [
      "[CV 2/3; 249/2700] END C=0.001, l1_ratio=0.505, max_iter=10000, multi_class=ovr, penalty=l2, solver=sag;, score=0.468 total time=   3.5s\n",
      "[CV 3/3; 249/2700] START C=0.001, l1_ratio=0.505, max_iter=10000, multi_class=ovr, penalty=l2, solver=sag\n"
     ]
    },
    {
     "name": "stderr",
     "output_type": "stream",
     "text": [
      "C:\\Users\\User\\anaconda3\\lib\\site-packages\\sklearn\\linear_model\\_logistic.py:1165: UserWarning: l1_ratio parameter is only used when penalty is 'elasticnet'. Got (penalty=l2)\n",
      "  warnings.warn(\n"
     ]
    },
    {
     "name": "stdout",
     "output_type": "stream",
     "text": [
      "[CV 3/3; 249/2700] END C=0.001, l1_ratio=0.505, max_iter=10000, multi_class=ovr, penalty=l2, solver=sag;, score=0.464 total time=   2.8s\n",
      "[CV 1/3; 250/2700] START C=0.001, l1_ratio=0.505, max_iter=10000, multi_class=ovr, penalty=l2, solver=newton-cholesky\n"
     ]
    },
    {
     "name": "stderr",
     "output_type": "stream",
     "text": [
      "C:\\Users\\User\\anaconda3\\lib\\site-packages\\sklearn\\linear_model\\_logistic.py:1165: UserWarning: l1_ratio parameter is only used when penalty is 'elasticnet'. Got (penalty=l2)\n",
      "  warnings.warn(\n"
     ]
    },
    {
     "name": "stdout",
     "output_type": "stream",
     "text": [
      "[CV 1/3; 250/2700] END C=0.001, l1_ratio=0.505, max_iter=10000, multi_class=ovr, penalty=l2, solver=newton-cholesky;, score=0.469 total time=   1.4s\n",
      "[CV 2/3; 250/2700] START C=0.001, l1_ratio=0.505, max_iter=10000, multi_class=ovr, penalty=l2, solver=newton-cholesky\n"
     ]
    },
    {
     "name": "stderr",
     "output_type": "stream",
     "text": [
      "C:\\Users\\User\\anaconda3\\lib\\site-packages\\sklearn\\linear_model\\_logistic.py:1165: UserWarning: l1_ratio parameter is only used when penalty is 'elasticnet'. Got (penalty=l2)\n",
      "  warnings.warn(\n"
     ]
    },
    {
     "name": "stdout",
     "output_type": "stream",
     "text": [
      "[CV 2/3; 250/2700] END C=0.001, l1_ratio=0.505, max_iter=10000, multi_class=ovr, penalty=l2, solver=newton-cholesky;, score=0.468 total time=   1.3s\n",
      "[CV 3/3; 250/2700] START C=0.001, l1_ratio=0.505, max_iter=10000, multi_class=ovr, penalty=l2, solver=newton-cholesky\n"
     ]
    },
    {
     "name": "stderr",
     "output_type": "stream",
     "text": [
      "C:\\Users\\User\\anaconda3\\lib\\site-packages\\sklearn\\linear_model\\_logistic.py:1165: UserWarning: l1_ratio parameter is only used when penalty is 'elasticnet'. Got (penalty=l2)\n",
      "  warnings.warn(\n"
     ]
    },
    {
     "name": "stdout",
     "output_type": "stream",
     "text": [
      "[CV 3/3; 250/2700] END C=0.001, l1_ratio=0.505, max_iter=10000, multi_class=ovr, penalty=l2, solver=newton-cholesky;, score=0.464 total time=   1.4s\n",
      "[CV 1/3; 251/2700] START C=0.001, l1_ratio=0.505, max_iter=10000, multi_class=ovr, penalty=elasticnet, solver=lbfgs\n",
      "[CV 1/3; 251/2700] END C=0.001, l1_ratio=0.505, max_iter=10000, multi_class=ovr, penalty=elasticnet, solver=lbfgs;, score=nan total time=   0.0s\n",
      "[CV 2/3; 251/2700] START C=0.001, l1_ratio=0.505, max_iter=10000, multi_class=ovr, penalty=elasticnet, solver=lbfgs\n",
      "[CV 2/3; 251/2700] END C=0.001, l1_ratio=0.505, max_iter=10000, multi_class=ovr, penalty=elasticnet, solver=lbfgs;, score=nan total time=   0.0s\n",
      "[CV 3/3; 251/2700] START C=0.001, l1_ratio=0.505, max_iter=10000, multi_class=ovr, penalty=elasticnet, solver=lbfgs\n",
      "[CV 3/3; 251/2700] END C=0.001, l1_ratio=0.505, max_iter=10000, multi_class=ovr, penalty=elasticnet, solver=lbfgs;, score=nan total time=   0.0s\n",
      "[CV 1/3; 252/2700] START C=0.001, l1_ratio=0.505, max_iter=10000, multi_class=ovr, penalty=elasticnet, solver=liblinear\n",
      "[CV 1/3; 252/2700] END C=0.001, l1_ratio=0.505, max_iter=10000, multi_class=ovr, penalty=elasticnet, solver=liblinear;, score=nan total time=   0.0s\n",
      "[CV 2/3; 252/2700] START C=0.001, l1_ratio=0.505, max_iter=10000, multi_class=ovr, penalty=elasticnet, solver=liblinear\n",
      "[CV 2/3; 252/2700] END C=0.001, l1_ratio=0.505, max_iter=10000, multi_class=ovr, penalty=elasticnet, solver=liblinear;, score=nan total time=   0.0s\n",
      "[CV 3/3; 252/2700] START C=0.001, l1_ratio=0.505, max_iter=10000, multi_class=ovr, penalty=elasticnet, solver=liblinear\n",
      "[CV 3/3; 252/2700] END C=0.001, l1_ratio=0.505, max_iter=10000, multi_class=ovr, penalty=elasticnet, solver=liblinear;, score=nan total time=   0.0s\n",
      "[CV 1/3; 253/2700] START C=0.001, l1_ratio=0.505, max_iter=10000, multi_class=ovr, penalty=elasticnet, solver=saga\n",
      "[CV 1/3; 253/2700] END C=0.001, l1_ratio=0.505, max_iter=10000, multi_class=ovr, penalty=elasticnet, solver=saga;, score=0.454 total time=   4.1s\n",
      "[CV 2/3; 253/2700] START C=0.001, l1_ratio=0.505, max_iter=10000, multi_class=ovr, penalty=elasticnet, solver=saga\n",
      "[CV 2/3; 253/2700] END C=0.001, l1_ratio=0.505, max_iter=10000, multi_class=ovr, penalty=elasticnet, solver=saga;, score=0.458 total time=   5.4s\n",
      "[CV 3/3; 253/2700] START C=0.001, l1_ratio=0.505, max_iter=10000, multi_class=ovr, penalty=elasticnet, solver=saga\n",
      "[CV 3/3; 253/2700] END C=0.001, l1_ratio=0.505, max_iter=10000, multi_class=ovr, penalty=elasticnet, solver=saga;, score=0.451 total time=   4.4s\n",
      "[CV 1/3; 254/2700] START C=0.001, l1_ratio=0.505, max_iter=10000, multi_class=ovr, penalty=elasticnet, solver=sag\n",
      "[CV 1/3; 254/2700] END C=0.001, l1_ratio=0.505, max_iter=10000, multi_class=ovr, penalty=elasticnet, solver=sag;, score=nan total time=   0.0s\n",
      "[CV 2/3; 254/2700] START C=0.001, l1_ratio=0.505, max_iter=10000, multi_class=ovr, penalty=elasticnet, solver=sag\n",
      "[CV 2/3; 254/2700] END C=0.001, l1_ratio=0.505, max_iter=10000, multi_class=ovr, penalty=elasticnet, solver=sag;, score=nan total time=   0.0s\n",
      "[CV 3/3; 254/2700] START C=0.001, l1_ratio=0.505, max_iter=10000, multi_class=ovr, penalty=elasticnet, solver=sag\n",
      "[CV 3/3; 254/2700] END C=0.001, l1_ratio=0.505, max_iter=10000, multi_class=ovr, penalty=elasticnet, solver=sag;, score=nan total time=   0.0s\n",
      "[CV 1/3; 255/2700] START C=0.001, l1_ratio=0.505, max_iter=10000, multi_class=ovr, penalty=elasticnet, solver=newton-cholesky\n",
      "[CV 1/3; 255/2700] END C=0.001, l1_ratio=0.505, max_iter=10000, multi_class=ovr, penalty=elasticnet, solver=newton-cholesky;, score=nan total time=   0.0s\n",
      "[CV 2/3; 255/2700] START C=0.001, l1_ratio=0.505, max_iter=10000, multi_class=ovr, penalty=elasticnet, solver=newton-cholesky\n",
      "[CV 2/3; 255/2700] END C=0.001, l1_ratio=0.505, max_iter=10000, multi_class=ovr, penalty=elasticnet, solver=newton-cholesky;, score=nan total time=   0.0s\n",
      "[CV 3/3; 255/2700] START C=0.001, l1_ratio=0.505, max_iter=10000, multi_class=ovr, penalty=elasticnet, solver=newton-cholesky\n",
      "[CV 3/3; 255/2700] END C=0.001, l1_ratio=0.505, max_iter=10000, multi_class=ovr, penalty=elasticnet, solver=newton-cholesky;, score=nan total time=   0.0s\n",
      "[CV 1/3; 256/2700] START C=0.001, l1_ratio=0.505, max_iter=10000, multi_class=multinomial, penalty=l1, solver=lbfgs\n",
      "[CV 1/3; 256/2700] END C=0.001, l1_ratio=0.505, max_iter=10000, multi_class=multinomial, penalty=l1, solver=lbfgs;, score=nan total time=   0.0s\n",
      "[CV 2/3; 256/2700] START C=0.001, l1_ratio=0.505, max_iter=10000, multi_class=multinomial, penalty=l1, solver=lbfgs\n",
      "[CV 2/3; 256/2700] END C=0.001, l1_ratio=0.505, max_iter=10000, multi_class=multinomial, penalty=l1, solver=lbfgs;, score=nan total time=   0.0s\n",
      "[CV 3/3; 256/2700] START C=0.001, l1_ratio=0.505, max_iter=10000, multi_class=multinomial, penalty=l1, solver=lbfgs\n",
      "[CV 3/3; 256/2700] END C=0.001, l1_ratio=0.505, max_iter=10000, multi_class=multinomial, penalty=l1, solver=lbfgs;, score=nan total time=   0.0s\n",
      "[CV 1/3; 257/2700] START C=0.001, l1_ratio=0.505, max_iter=10000, multi_class=multinomial, penalty=l1, solver=liblinear\n",
      "[CV 1/3; 257/2700] END C=0.001, l1_ratio=0.505, max_iter=10000, multi_class=multinomial, penalty=l1, solver=liblinear;, score=nan total time=   0.0s\n",
      "[CV 2/3; 257/2700] START C=0.001, l1_ratio=0.505, max_iter=10000, multi_class=multinomial, penalty=l1, solver=liblinear\n",
      "[CV 2/3; 257/2700] END C=0.001, l1_ratio=0.505, max_iter=10000, multi_class=multinomial, penalty=l1, solver=liblinear;, score=nan total time=   0.0s\n",
      "[CV 3/3; 257/2700] START C=0.001, l1_ratio=0.505, max_iter=10000, multi_class=multinomial, penalty=l1, solver=liblinear\n"
     ]
    },
    {
     "name": "stderr",
     "output_type": "stream",
     "text": [
      "C:\\Users\\User\\anaconda3\\lib\\site-packages\\sklearn\\linear_model\\_logistic.py:1165: UserWarning: l1_ratio parameter is only used when penalty is 'elasticnet'. Got (penalty=l1)\n",
      "  warnings.warn(\n",
      "C:\\Users\\User\\anaconda3\\lib\\site-packages\\sklearn\\linear_model\\_logistic.py:1165: UserWarning: l1_ratio parameter is only used when penalty is 'elasticnet'. Got (penalty=l1)\n",
      "  warnings.warn(\n",
      "C:\\Users\\User\\anaconda3\\lib\\site-packages\\sklearn\\linear_model\\_logistic.py:1165: UserWarning: l1_ratio parameter is only used when penalty is 'elasticnet'. Got (penalty=l1)\n",
      "  warnings.warn(\n",
      "C:\\Users\\User\\anaconda3\\lib\\site-packages\\sklearn\\linear_model\\_logistic.py:1165: UserWarning: l1_ratio parameter is only used when penalty is 'elasticnet'. Got (penalty=l1)\n",
      "  warnings.warn(\n"
     ]
    },
    {
     "name": "stdout",
     "output_type": "stream",
     "text": [
      "[CV 3/3; 257/2700] END C=0.001, l1_ratio=0.505, max_iter=10000, multi_class=multinomial, penalty=l1, solver=liblinear;, score=nan total time=   0.0s\n",
      "[CV 1/3; 258/2700] START C=0.001, l1_ratio=0.505, max_iter=10000, multi_class=multinomial, penalty=l1, solver=saga\n",
      "[CV 1/3; 258/2700] END C=0.001, l1_ratio=0.505, max_iter=10000, multi_class=multinomial, penalty=l1, solver=saga;, score=0.306 total time=   3.9s\n",
      "[CV 2/3; 258/2700] START C=0.001, l1_ratio=0.505, max_iter=10000, multi_class=multinomial, penalty=l1, solver=saga\n"
     ]
    },
    {
     "name": "stderr",
     "output_type": "stream",
     "text": [
      "C:\\Users\\User\\anaconda3\\lib\\site-packages\\sklearn\\linear_model\\_logistic.py:1165: UserWarning: l1_ratio parameter is only used when penalty is 'elasticnet'. Got (penalty=l1)\n",
      "  warnings.warn(\n"
     ]
    },
    {
     "name": "stdout",
     "output_type": "stream",
     "text": [
      "[CV 2/3; 258/2700] END C=0.001, l1_ratio=0.505, max_iter=10000, multi_class=multinomial, penalty=l1, solver=saga;, score=0.306 total time=   5.0s\n",
      "[CV 3/3; 258/2700] START C=0.001, l1_ratio=0.505, max_iter=10000, multi_class=multinomial, penalty=l1, solver=saga\n"
     ]
    },
    {
     "name": "stderr",
     "output_type": "stream",
     "text": [
      "C:\\Users\\User\\anaconda3\\lib\\site-packages\\sklearn\\linear_model\\_logistic.py:1165: UserWarning: l1_ratio parameter is only used when penalty is 'elasticnet'. Got (penalty=l1)\n",
      "  warnings.warn(\n"
     ]
    },
    {
     "name": "stdout",
     "output_type": "stream",
     "text": [
      "[CV 3/3; 258/2700] END C=0.001, l1_ratio=0.505, max_iter=10000, multi_class=multinomial, penalty=l1, solver=saga;, score=0.306 total time=   5.1s\n",
      "[CV 1/3; 259/2700] START C=0.001, l1_ratio=0.505, max_iter=10000, multi_class=multinomial, penalty=l1, solver=sag\n",
      "[CV 1/3; 259/2700] END C=0.001, l1_ratio=0.505, max_iter=10000, multi_class=multinomial, penalty=l1, solver=sag;, score=nan total time=   0.0s\n",
      "[CV 2/3; 259/2700] START C=0.001, l1_ratio=0.505, max_iter=10000, multi_class=multinomial, penalty=l1, solver=sag\n",
      "[CV 2/3; 259/2700] END C=0.001, l1_ratio=0.505, max_iter=10000, multi_class=multinomial, penalty=l1, solver=sag;, score=nan total time=   0.0s\n",
      "[CV 3/3; 259/2700] START C=0.001, l1_ratio=0.505, max_iter=10000, multi_class=multinomial, penalty=l1, solver=sag\n",
      "[CV 3/3; 259/2700] END C=0.001, l1_ratio=0.505, max_iter=10000, multi_class=multinomial, penalty=l1, solver=sag;, score=nan total time=   0.0s\n",
      "[CV 1/3; 260/2700] START C=0.001, l1_ratio=0.505, max_iter=10000, multi_class=multinomial, penalty=l1, solver=newton-cholesky\n",
      "[CV 1/3; 260/2700] END C=0.001, l1_ratio=0.505, max_iter=10000, multi_class=multinomial, penalty=l1, solver=newton-cholesky;, score=nan total time=   0.0s\n",
      "[CV 2/3; 260/2700] START C=0.001, l1_ratio=0.505, max_iter=10000, multi_class=multinomial, penalty=l1, solver=newton-cholesky\n",
      "[CV 2/3; 260/2700] END C=0.001, l1_ratio=0.505, max_iter=10000, multi_class=multinomial, penalty=l1, solver=newton-cholesky;, score=nan total time=   0.0s\n",
      "[CV 3/3; 260/2700] START C=0.001, l1_ratio=0.505, max_iter=10000, multi_class=multinomial, penalty=l1, solver=newton-cholesky\n",
      "[CV 3/3; 260/2700] END C=0.001, l1_ratio=0.505, max_iter=10000, multi_class=multinomial, penalty=l1, solver=newton-cholesky;, score=nan total time=   0.0s\n",
      "[CV 1/3; 261/2700] START C=0.001, l1_ratio=0.505, max_iter=10000, multi_class=multinomial, penalty=l2, solver=lbfgs\n"
     ]
    },
    {
     "name": "stderr",
     "output_type": "stream",
     "text": [
      "C:\\Users\\User\\anaconda3\\lib\\site-packages\\sklearn\\linear_model\\_logistic.py:1165: UserWarning: l1_ratio parameter is only used when penalty is 'elasticnet'. Got (penalty=l2)\n",
      "  warnings.warn(\n"
     ]
    },
    {
     "name": "stdout",
     "output_type": "stream",
     "text": [
      "[CV 1/3; 261/2700] END C=0.001, l1_ratio=0.505, max_iter=10000, multi_class=multinomial, penalty=l2, solver=lbfgs;, score=0.478 total time=   0.6s\n",
      "[CV 2/3; 261/2700] START C=0.001, l1_ratio=0.505, max_iter=10000, multi_class=multinomial, penalty=l2, solver=lbfgs\n"
     ]
    },
    {
     "name": "stderr",
     "output_type": "stream",
     "text": [
      "C:\\Users\\User\\anaconda3\\lib\\site-packages\\sklearn\\linear_model\\_logistic.py:1165: UserWarning: l1_ratio parameter is only used when penalty is 'elasticnet'. Got (penalty=l2)\n",
      "  warnings.warn(\n"
     ]
    },
    {
     "name": "stdout",
     "output_type": "stream",
     "text": [
      "[CV 2/3; 261/2700] END C=0.001, l1_ratio=0.505, max_iter=10000, multi_class=multinomial, penalty=l2, solver=lbfgs;, score=0.474 total time=   0.5s\n",
      "[CV 3/3; 261/2700] START C=0.001, l1_ratio=0.505, max_iter=10000, multi_class=multinomial, penalty=l2, solver=lbfgs\n"
     ]
    },
    {
     "name": "stderr",
     "output_type": "stream",
     "text": [
      "C:\\Users\\User\\anaconda3\\lib\\site-packages\\sklearn\\linear_model\\_logistic.py:1165: UserWarning: l1_ratio parameter is only used when penalty is 'elasticnet'. Got (penalty=l2)\n",
      "  warnings.warn(\n"
     ]
    },
    {
     "name": "stdout",
     "output_type": "stream",
     "text": [
      "[CV 3/3; 261/2700] END C=0.001, l1_ratio=0.505, max_iter=10000, multi_class=multinomial, penalty=l2, solver=lbfgs;, score=0.471 total time=   0.5s\n",
      "[CV 1/3; 262/2700] START C=0.001, l1_ratio=0.505, max_iter=10000, multi_class=multinomial, penalty=l2, solver=liblinear\n",
      "[CV 1/3; 262/2700] END C=0.001, l1_ratio=0.505, max_iter=10000, multi_class=multinomial, penalty=l2, solver=liblinear;, score=nan total time=   0.0s\n",
      "[CV 2/3; 262/2700] START C=0.001, l1_ratio=0.505, max_iter=10000, multi_class=multinomial, penalty=l2, solver=liblinear\n",
      "[CV 2/3; 262/2700] END C=0.001, l1_ratio=0.505, max_iter=10000, multi_class=multinomial, penalty=l2, solver=liblinear;, score=nan total time=   0.0s\n",
      "[CV 3/3; 262/2700] START C=0.001, l1_ratio=0.505, max_iter=10000, multi_class=multinomial, penalty=l2, solver=liblinear\n",
      "[CV 3/3; 262/2700] END C=0.001, l1_ratio=0.505, max_iter=10000, multi_class=multinomial, penalty=l2, solver=liblinear;, score=nan total time=   0.0s\n",
      "[CV 1/3; 263/2700] START C=0.001, l1_ratio=0.505, max_iter=10000, multi_class=multinomial, penalty=l2, solver=saga\n"
     ]
    },
    {
     "name": "stderr",
     "output_type": "stream",
     "text": [
      "C:\\Users\\User\\anaconda3\\lib\\site-packages\\sklearn\\linear_model\\_logistic.py:1165: UserWarning: l1_ratio parameter is only used when penalty is 'elasticnet'. Got (penalty=l2)\n",
      "  warnings.warn(\n",
      "C:\\Users\\User\\anaconda3\\lib\\site-packages\\sklearn\\linear_model\\_logistic.py:1165: UserWarning: l1_ratio parameter is only used when penalty is 'elasticnet'. Got (penalty=l2)\n",
      "  warnings.warn(\n",
      "C:\\Users\\User\\anaconda3\\lib\\site-packages\\sklearn\\linear_model\\_logistic.py:1165: UserWarning: l1_ratio parameter is only used when penalty is 'elasticnet'. Got (penalty=l2)\n",
      "  warnings.warn(\n",
      "C:\\Users\\User\\anaconda3\\lib\\site-packages\\sklearn\\linear_model\\_logistic.py:1165: UserWarning: l1_ratio parameter is only used when penalty is 'elasticnet'. Got (penalty=l2)\n",
      "  warnings.warn(\n"
     ]
    },
    {
     "name": "stdout",
     "output_type": "stream",
     "text": [
      "[CV 1/3; 263/2700] END C=0.001, l1_ratio=0.505, max_iter=10000, multi_class=multinomial, penalty=l2, solver=saga;, score=0.477 total time=   4.5s\n",
      "[CV 2/3; 263/2700] START C=0.001, l1_ratio=0.505, max_iter=10000, multi_class=multinomial, penalty=l2, solver=saga\n"
     ]
    },
    {
     "name": "stderr",
     "output_type": "stream",
     "text": [
      "C:\\Users\\User\\anaconda3\\lib\\site-packages\\sklearn\\linear_model\\_logistic.py:1165: UserWarning: l1_ratio parameter is only used when penalty is 'elasticnet'. Got (penalty=l2)\n",
      "  warnings.warn(\n"
     ]
    },
    {
     "name": "stdout",
     "output_type": "stream",
     "text": [
      "[CV 2/3; 263/2700] END C=0.001, l1_ratio=0.505, max_iter=10000, multi_class=multinomial, penalty=l2, solver=saga;, score=0.474 total time=   5.1s\n",
      "[CV 3/3; 263/2700] START C=0.001, l1_ratio=0.505, max_iter=10000, multi_class=multinomial, penalty=l2, solver=saga\n"
     ]
    },
    {
     "name": "stderr",
     "output_type": "stream",
     "text": [
      "C:\\Users\\User\\anaconda3\\lib\\site-packages\\sklearn\\linear_model\\_logistic.py:1165: UserWarning: l1_ratio parameter is only used when penalty is 'elasticnet'. Got (penalty=l2)\n",
      "  warnings.warn(\n"
     ]
    },
    {
     "name": "stdout",
     "output_type": "stream",
     "text": [
      "[CV 3/3; 263/2700] END C=0.001, l1_ratio=0.505, max_iter=10000, multi_class=multinomial, penalty=l2, solver=saga;, score=0.471 total time=   4.7s\n",
      "[CV 1/3; 264/2700] START C=0.001, l1_ratio=0.505, max_iter=10000, multi_class=multinomial, penalty=l2, solver=sag\n"
     ]
    },
    {
     "name": "stderr",
     "output_type": "stream",
     "text": [
      "C:\\Users\\User\\anaconda3\\lib\\site-packages\\sklearn\\linear_model\\_logistic.py:1165: UserWarning: l1_ratio parameter is only used when penalty is 'elasticnet'. Got (penalty=l2)\n",
      "  warnings.warn(\n"
     ]
    },
    {
     "name": "stdout",
     "output_type": "stream",
     "text": [
      "[CV 1/3; 264/2700] END C=0.001, l1_ratio=0.505, max_iter=10000, multi_class=multinomial, penalty=l2, solver=sag;, score=0.477 total time=   1.2s\n",
      "[CV 2/3; 264/2700] START C=0.001, l1_ratio=0.505, max_iter=10000, multi_class=multinomial, penalty=l2, solver=sag\n"
     ]
    },
    {
     "name": "stderr",
     "output_type": "stream",
     "text": [
      "C:\\Users\\User\\anaconda3\\lib\\site-packages\\sklearn\\linear_model\\_logistic.py:1165: UserWarning: l1_ratio parameter is only used when penalty is 'elasticnet'. Got (penalty=l2)\n",
      "  warnings.warn(\n"
     ]
    },
    {
     "name": "stdout",
     "output_type": "stream",
     "text": [
      "[CV 2/3; 264/2700] END C=0.001, l1_ratio=0.505, max_iter=10000, multi_class=multinomial, penalty=l2, solver=sag;, score=0.474 total time=   1.2s\n",
      "[CV 3/3; 264/2700] START C=0.001, l1_ratio=0.505, max_iter=10000, multi_class=multinomial, penalty=l2, solver=sag\n"
     ]
    },
    {
     "name": "stderr",
     "output_type": "stream",
     "text": [
      "C:\\Users\\User\\anaconda3\\lib\\site-packages\\sklearn\\linear_model\\_logistic.py:1165: UserWarning: l1_ratio parameter is only used when penalty is 'elasticnet'. Got (penalty=l2)\n",
      "  warnings.warn(\n"
     ]
    },
    {
     "name": "stdout",
     "output_type": "stream",
     "text": [
      "[CV 3/3; 264/2700] END C=0.001, l1_ratio=0.505, max_iter=10000, multi_class=multinomial, penalty=l2, solver=sag;, score=0.471 total time=   1.2s\n",
      "[CV 1/3; 265/2700] START C=0.001, l1_ratio=0.505, max_iter=10000, multi_class=multinomial, penalty=l2, solver=newton-cholesky\n",
      "[CV 1/3; 265/2700] END C=0.001, l1_ratio=0.505, max_iter=10000, multi_class=multinomial, penalty=l2, solver=newton-cholesky;, score=nan total time=   0.0s\n",
      "[CV 2/3; 265/2700] START C=0.001, l1_ratio=0.505, max_iter=10000, multi_class=multinomial, penalty=l2, solver=newton-cholesky\n",
      "[CV 2/3; 265/2700] END C=0.001, l1_ratio=0.505, max_iter=10000, multi_class=multinomial, penalty=l2, solver=newton-cholesky;, score=nan total time=   0.0s\n",
      "[CV 3/3; 265/2700] START C=0.001, l1_ratio=0.505, max_iter=10000, multi_class=multinomial, penalty=l2, solver=newton-cholesky\n",
      "[CV 3/3; 265/2700] END C=0.001, l1_ratio=0.505, max_iter=10000, multi_class=multinomial, penalty=l2, solver=newton-cholesky;, score=nan total time=   0.0s\n",
      "[CV 1/3; 266/2700] START C=0.001, l1_ratio=0.505, max_iter=10000, multi_class=multinomial, penalty=elasticnet, solver=lbfgs\n",
      "[CV 1/3; 266/2700] END C=0.001, l1_ratio=0.505, max_iter=10000, multi_class=multinomial, penalty=elasticnet, solver=lbfgs;, score=nan total time=   0.0s\n",
      "[CV 2/3; 266/2700] START C=0.001, l1_ratio=0.505, max_iter=10000, multi_class=multinomial, penalty=elasticnet, solver=lbfgs\n",
      "[CV 2/3; 266/2700] END C=0.001, l1_ratio=0.505, max_iter=10000, multi_class=multinomial, penalty=elasticnet, solver=lbfgs;, score=nan total time=   0.0s\n",
      "[CV 3/3; 266/2700] START C=0.001, l1_ratio=0.505, max_iter=10000, multi_class=multinomial, penalty=elasticnet, solver=lbfgs\n",
      "[CV 3/3; 266/2700] END C=0.001, l1_ratio=0.505, max_iter=10000, multi_class=multinomial, penalty=elasticnet, solver=lbfgs;, score=nan total time=   0.0s\n",
      "[CV 1/3; 267/2700] START C=0.001, l1_ratio=0.505, max_iter=10000, multi_class=multinomial, penalty=elasticnet, solver=liblinear\n",
      "[CV 1/3; 267/2700] END C=0.001, l1_ratio=0.505, max_iter=10000, multi_class=multinomial, penalty=elasticnet, solver=liblinear;, score=nan total time=   0.0s\n",
      "[CV 2/3; 267/2700] START C=0.001, l1_ratio=0.505, max_iter=10000, multi_class=multinomial, penalty=elasticnet, solver=liblinear\n",
      "[CV 2/3; 267/2700] END C=0.001, l1_ratio=0.505, max_iter=10000, multi_class=multinomial, penalty=elasticnet, solver=liblinear;, score=nan total time=   0.0s\n",
      "[CV 3/3; 267/2700] START C=0.001, l1_ratio=0.505, max_iter=10000, multi_class=multinomial, penalty=elasticnet, solver=liblinear\n",
      "[CV 3/3; 267/2700] END C=0.001, l1_ratio=0.505, max_iter=10000, multi_class=multinomial, penalty=elasticnet, solver=liblinear;, score=nan total time=   0.0s\n",
      "[CV 1/3; 268/2700] START C=0.001, l1_ratio=0.505, max_iter=10000, multi_class=multinomial, penalty=elasticnet, solver=saga\n"
     ]
    },
    {
     "name": "stderr",
     "output_type": "stream",
     "text": [
      "C:\\Users\\User\\anaconda3\\lib\\site-packages\\sklearn\\linear_model\\_logistic.py:1165: UserWarning: l1_ratio parameter is only used when penalty is 'elasticnet'. Got (penalty=l2)\n",
      "  warnings.warn(\n",
      "C:\\Users\\User\\anaconda3\\lib\\site-packages\\sklearn\\linear_model\\_logistic.py:1165: UserWarning: l1_ratio parameter is only used when penalty is 'elasticnet'. Got (penalty=l2)\n",
      "  warnings.warn(\n",
      "C:\\Users\\User\\anaconda3\\lib\\site-packages\\sklearn\\linear_model\\_logistic.py:1165: UserWarning: l1_ratio parameter is only used when penalty is 'elasticnet'. Got (penalty=l2)\n",
      "  warnings.warn(\n"
     ]
    },
    {
     "name": "stdout",
     "output_type": "stream",
     "text": [
      "[CV 1/3; 268/2700] END C=0.001, l1_ratio=0.505, max_iter=10000, multi_class=multinomial, penalty=elasticnet, solver=saga;, score=0.458 total time=   5.7s\n",
      "[CV 2/3; 268/2700] START C=0.001, l1_ratio=0.505, max_iter=10000, multi_class=multinomial, penalty=elasticnet, solver=saga\n",
      "[CV 2/3; 268/2700] END C=0.001, l1_ratio=0.505, max_iter=10000, multi_class=multinomial, penalty=elasticnet, solver=saga;, score=0.460 total time=   4.9s\n",
      "[CV 3/3; 268/2700] START C=0.001, l1_ratio=0.505, max_iter=10000, multi_class=multinomial, penalty=elasticnet, solver=saga\n",
      "[CV 3/3; 268/2700] END C=0.001, l1_ratio=0.505, max_iter=10000, multi_class=multinomial, penalty=elasticnet, solver=saga;, score=0.452 total time=   4.6s\n",
      "[CV 1/3; 269/2700] START C=0.001, l1_ratio=0.505, max_iter=10000, multi_class=multinomial, penalty=elasticnet, solver=sag\n",
      "[CV 1/3; 269/2700] END C=0.001, l1_ratio=0.505, max_iter=10000, multi_class=multinomial, penalty=elasticnet, solver=sag;, score=nan total time=   0.0s\n",
      "[CV 2/3; 269/2700] START C=0.001, l1_ratio=0.505, max_iter=10000, multi_class=multinomial, penalty=elasticnet, solver=sag\n",
      "[CV 2/3; 269/2700] END C=0.001, l1_ratio=0.505, max_iter=10000, multi_class=multinomial, penalty=elasticnet, solver=sag;, score=nan total time=   0.0s\n",
      "[CV 3/3; 269/2700] START C=0.001, l1_ratio=0.505, max_iter=10000, multi_class=multinomial, penalty=elasticnet, solver=sag\n",
      "[CV 3/3; 269/2700] END C=0.001, l1_ratio=0.505, max_iter=10000, multi_class=multinomial, penalty=elasticnet, solver=sag;, score=nan total time=   0.0s\n",
      "[CV 1/3; 270/2700] START C=0.001, l1_ratio=0.505, max_iter=10000, multi_class=multinomial, penalty=elasticnet, solver=newton-cholesky\n",
      "[CV 1/3; 270/2700] END C=0.001, l1_ratio=0.505, max_iter=10000, multi_class=multinomial, penalty=elasticnet, solver=newton-cholesky;, score=nan total time=   0.0s\n",
      "[CV 2/3; 270/2700] START C=0.001, l1_ratio=0.505, max_iter=10000, multi_class=multinomial, penalty=elasticnet, solver=newton-cholesky\n",
      "[CV 2/3; 270/2700] END C=0.001, l1_ratio=0.505, max_iter=10000, multi_class=multinomial, penalty=elasticnet, solver=newton-cholesky;, score=nan total time=   0.0s\n",
      "[CV 3/3; 270/2700] START C=0.001, l1_ratio=0.505, max_iter=10000, multi_class=multinomial, penalty=elasticnet, solver=newton-cholesky\n",
      "[CV 3/3; 270/2700] END C=0.001, l1_ratio=0.505, max_iter=10000, multi_class=multinomial, penalty=elasticnet, solver=newton-cholesky;, score=nan total time=   0.0s\n",
      "[CV 1/3; 271/2700] START C=0.001, l1_ratio=0.7525, max_iter=100, multi_class=ovr, penalty=l1, solver=lbfgs\n",
      "[CV 1/3; 271/2700] END C=0.001, l1_ratio=0.7525, max_iter=100, multi_class=ovr, penalty=l1, solver=lbfgs;, score=nan total time=   0.0s\n",
      "[CV 2/3; 271/2700] START C=0.001, l1_ratio=0.7525, max_iter=100, multi_class=ovr, penalty=l1, solver=lbfgs\n",
      "[CV 2/3; 271/2700] END C=0.001, l1_ratio=0.7525, max_iter=100, multi_class=ovr, penalty=l1, solver=lbfgs;, score=nan total time=   0.0s\n",
      "[CV 3/3; 271/2700] START C=0.001, l1_ratio=0.7525, max_iter=100, multi_class=ovr, penalty=l1, solver=lbfgs\n",
      "[CV 3/3; 271/2700] END C=0.001, l1_ratio=0.7525, max_iter=100, multi_class=ovr, penalty=l1, solver=lbfgs;, score=nan total time=   0.0s\n",
      "[CV 1/3; 272/2700] START C=0.001, l1_ratio=0.7525, max_iter=100, multi_class=ovr, penalty=l1, solver=liblinear\n"
     ]
    },
    {
     "name": "stderr",
     "output_type": "stream",
     "text": [
      "C:\\Users\\User\\anaconda3\\lib\\site-packages\\sklearn\\linear_model\\_logistic.py:1165: UserWarning: l1_ratio parameter is only used when penalty is 'elasticnet'. Got (penalty=l1)\n",
      "  warnings.warn(\n"
     ]
    },
    {
     "name": "stdout",
     "output_type": "stream",
     "text": [
      "[CV 1/3; 272/2700] END C=0.001, l1_ratio=0.7525, max_iter=100, multi_class=ovr, penalty=l1, solver=liblinear;, score=0.458 total time=   0.1s\n",
      "[CV 2/3; 272/2700] START C=0.001, l1_ratio=0.7525, max_iter=100, multi_class=ovr, penalty=l1, solver=liblinear\n"
     ]
    },
    {
     "name": "stderr",
     "output_type": "stream",
     "text": [
      "C:\\Users\\User\\anaconda3\\lib\\site-packages\\sklearn\\linear_model\\_logistic.py:1165: UserWarning: l1_ratio parameter is only used when penalty is 'elasticnet'. Got (penalty=l1)\n",
      "  warnings.warn(\n"
     ]
    },
    {
     "name": "stdout",
     "output_type": "stream",
     "text": [
      "[CV 2/3; 272/2700] END C=0.001, l1_ratio=0.7525, max_iter=100, multi_class=ovr, penalty=l1, solver=liblinear;, score=0.460 total time=   0.1s\n",
      "[CV 3/3; 272/2700] START C=0.001, l1_ratio=0.7525, max_iter=100, multi_class=ovr, penalty=l1, solver=liblinear\n"
     ]
    },
    {
     "name": "stderr",
     "output_type": "stream",
     "text": [
      "C:\\Users\\User\\anaconda3\\lib\\site-packages\\sklearn\\linear_model\\_logistic.py:1165: UserWarning: l1_ratio parameter is only used when penalty is 'elasticnet'. Got (penalty=l1)\n",
      "  warnings.warn(\n"
     ]
    },
    {
     "name": "stdout",
     "output_type": "stream",
     "text": [
      "[CV 3/3; 272/2700] END C=0.001, l1_ratio=0.7525, max_iter=100, multi_class=ovr, penalty=l1, solver=liblinear;, score=0.453 total time=   0.2s\n",
      "[CV 1/3; 273/2700] START C=0.001, l1_ratio=0.7525, max_iter=100, multi_class=ovr, penalty=l1, solver=saga\n"
     ]
    },
    {
     "name": "stderr",
     "output_type": "stream",
     "text": [
      "C:\\Users\\User\\anaconda3\\lib\\site-packages\\sklearn\\linear_model\\_logistic.py:1165: UserWarning: l1_ratio parameter is only used when penalty is 'elasticnet'. Got (penalty=l1)\n",
      "  warnings.warn(\n"
     ]
    },
    {
     "name": "stdout",
     "output_type": "stream",
     "text": [
      "[CV 1/3; 273/2700] END C=0.001, l1_ratio=0.7525, max_iter=100, multi_class=ovr, penalty=l1, solver=saga;, score=0.306 total time=   2.3s\n",
      "[CV 2/3; 273/2700] START C=0.001, l1_ratio=0.7525, max_iter=100, multi_class=ovr, penalty=l1, solver=saga\n"
     ]
    },
    {
     "name": "stderr",
     "output_type": "stream",
     "text": [
      "C:\\Users\\User\\anaconda3\\lib\\site-packages\\sklearn\\linear_model\\_logistic.py:1165: UserWarning: l1_ratio parameter is only used when penalty is 'elasticnet'. Got (penalty=l1)\n",
      "  warnings.warn(\n"
     ]
    },
    {
     "name": "stdout",
     "output_type": "stream",
     "text": [
      "[CV 2/3; 273/2700] END C=0.001, l1_ratio=0.7525, max_iter=100, multi_class=ovr, penalty=l1, solver=saga;, score=0.306 total time=   2.9s\n",
      "[CV 3/3; 273/2700] START C=0.001, l1_ratio=0.7525, max_iter=100, multi_class=ovr, penalty=l1, solver=saga\n"
     ]
    },
    {
     "name": "stderr",
     "output_type": "stream",
     "text": [
      "C:\\Users\\User\\anaconda3\\lib\\site-packages\\sklearn\\linear_model\\_logistic.py:1165: UserWarning: l1_ratio parameter is only used when penalty is 'elasticnet'. Got (penalty=l1)\n",
      "  warnings.warn(\n"
     ]
    },
    {
     "name": "stdout",
     "output_type": "stream",
     "text": [
      "[CV 3/3; 273/2700] END C=0.001, l1_ratio=0.7525, max_iter=100, multi_class=ovr, penalty=l1, solver=saga;, score=0.306 total time=   2.3s\n",
      "[CV 1/3; 274/2700] START C=0.001, l1_ratio=0.7525, max_iter=100, multi_class=ovr, penalty=l1, solver=sag\n",
      "[CV 1/3; 274/2700] END C=0.001, l1_ratio=0.7525, max_iter=100, multi_class=ovr, penalty=l1, solver=sag;, score=nan total time=   0.0s\n",
      "[CV 2/3; 274/2700] START C=0.001, l1_ratio=0.7525, max_iter=100, multi_class=ovr, penalty=l1, solver=sag\n",
      "[CV 2/3; 274/2700] END C=0.001, l1_ratio=0.7525, max_iter=100, multi_class=ovr, penalty=l1, solver=sag;, score=nan total time=   0.0s\n",
      "[CV 3/3; 274/2700] START C=0.001, l1_ratio=0.7525, max_iter=100, multi_class=ovr, penalty=l1, solver=sag\n",
      "[CV 3/3; 274/2700] END C=0.001, l1_ratio=0.7525, max_iter=100, multi_class=ovr, penalty=l1, solver=sag;, score=nan total time=   0.0s\n",
      "[CV 1/3; 275/2700] START C=0.001, l1_ratio=0.7525, max_iter=100, multi_class=ovr, penalty=l1, solver=newton-cholesky\n",
      "[CV 1/3; 275/2700] END C=0.001, l1_ratio=0.7525, max_iter=100, multi_class=ovr, penalty=l1, solver=newton-cholesky;, score=nan total time=   0.0s\n",
      "[CV 2/3; 275/2700] START C=0.001, l1_ratio=0.7525, max_iter=100, multi_class=ovr, penalty=l1, solver=newton-cholesky\n",
      "[CV 2/3; 275/2700] END C=0.001, l1_ratio=0.7525, max_iter=100, multi_class=ovr, penalty=l1, solver=newton-cholesky;, score=nan total time=   0.0s\n",
      "[CV 3/3; 275/2700] START C=0.001, l1_ratio=0.7525, max_iter=100, multi_class=ovr, penalty=l1, solver=newton-cholesky\n",
      "[CV 3/3; 275/2700] END C=0.001, l1_ratio=0.7525, max_iter=100, multi_class=ovr, penalty=l1, solver=newton-cholesky;, score=nan total time=   0.0s\n",
      "[CV 1/3; 276/2700] START C=0.001, l1_ratio=0.7525, max_iter=100, multi_class=ovr, penalty=l2, solver=lbfgs\n"
     ]
    },
    {
     "name": "stderr",
     "output_type": "stream",
     "text": [
      "C:\\Users\\User\\anaconda3\\lib\\site-packages\\sklearn\\linear_model\\_logistic.py:1165: UserWarning: l1_ratio parameter is only used when penalty is 'elasticnet'. Got (penalty=l2)\n",
      "  warnings.warn(\n"
     ]
    },
    {
     "name": "stdout",
     "output_type": "stream",
     "text": [
      "[CV 1/3; 276/2700] END C=0.001, l1_ratio=0.7525, max_iter=100, multi_class=ovr, penalty=l2, solver=lbfgs;, score=0.469 total time=   0.5s\n",
      "[CV 2/3; 276/2700] START C=0.001, l1_ratio=0.7525, max_iter=100, multi_class=ovr, penalty=l2, solver=lbfgs\n"
     ]
    },
    {
     "name": "stderr",
     "output_type": "stream",
     "text": [
      "C:\\Users\\User\\anaconda3\\lib\\site-packages\\sklearn\\linear_model\\_logistic.py:1165: UserWarning: l1_ratio parameter is only used when penalty is 'elasticnet'. Got (penalty=l2)\n",
      "  warnings.warn(\n"
     ]
    },
    {
     "name": "stdout",
     "output_type": "stream",
     "text": [
      "[CV 2/3; 276/2700] END C=0.001, l1_ratio=0.7525, max_iter=100, multi_class=ovr, penalty=l2, solver=lbfgs;, score=0.468 total time=   0.4s\n",
      "[CV 3/3; 276/2700] START C=0.001, l1_ratio=0.7525, max_iter=100, multi_class=ovr, penalty=l2, solver=lbfgs\n"
     ]
    },
    {
     "name": "stderr",
     "output_type": "stream",
     "text": [
      "C:\\Users\\User\\anaconda3\\lib\\site-packages\\sklearn\\linear_model\\_logistic.py:1165: UserWarning: l1_ratio parameter is only used when penalty is 'elasticnet'. Got (penalty=l2)\n",
      "  warnings.warn(\n"
     ]
    },
    {
     "name": "stdout",
     "output_type": "stream",
     "text": [
      "[CV 3/3; 276/2700] END C=0.001, l1_ratio=0.7525, max_iter=100, multi_class=ovr, penalty=l2, solver=lbfgs;, score=0.464 total time=   0.4s\n",
      "[CV 1/3; 277/2700] START C=0.001, l1_ratio=0.7525, max_iter=100, multi_class=ovr, penalty=l2, solver=liblinear\n"
     ]
    },
    {
     "name": "stderr",
     "output_type": "stream",
     "text": [
      "C:\\Users\\User\\anaconda3\\lib\\site-packages\\sklearn\\linear_model\\_logistic.py:1165: UserWarning: l1_ratio parameter is only used when penalty is 'elasticnet'. Got (penalty=l2)\n",
      "  warnings.warn(\n"
     ]
    },
    {
     "name": "stdout",
     "output_type": "stream",
     "text": [
      "[CV 1/3; 277/2700] END C=0.001, l1_ratio=0.7525, max_iter=100, multi_class=ovr, penalty=l2, solver=liblinear;, score=0.469 total time=   0.2s\n",
      "[CV 2/3; 277/2700] START C=0.001, l1_ratio=0.7525, max_iter=100, multi_class=ovr, penalty=l2, solver=liblinear\n"
     ]
    },
    {
     "name": "stderr",
     "output_type": "stream",
     "text": [
      "C:\\Users\\User\\anaconda3\\lib\\site-packages\\sklearn\\linear_model\\_logistic.py:1165: UserWarning: l1_ratio parameter is only used when penalty is 'elasticnet'. Got (penalty=l2)\n",
      "  warnings.warn(\n"
     ]
    },
    {
     "name": "stdout",
     "output_type": "stream",
     "text": [
      "[CV 2/3; 277/2700] END C=0.001, l1_ratio=0.7525, max_iter=100, multi_class=ovr, penalty=l2, solver=liblinear;, score=0.467 total time=   0.2s\n",
      "[CV 3/3; 277/2700] START C=0.001, l1_ratio=0.7525, max_iter=100, multi_class=ovr, penalty=l2, solver=liblinear\n"
     ]
    },
    {
     "name": "stderr",
     "output_type": "stream",
     "text": [
      "C:\\Users\\User\\anaconda3\\lib\\site-packages\\sklearn\\linear_model\\_logistic.py:1165: UserWarning: l1_ratio parameter is only used when penalty is 'elasticnet'. Got (penalty=l2)\n",
      "  warnings.warn(\n"
     ]
    },
    {
     "name": "stdout",
     "output_type": "stream",
     "text": [
      "[CV 3/3; 277/2700] END C=0.001, l1_ratio=0.7525, max_iter=100, multi_class=ovr, penalty=l2, solver=liblinear;, score=0.465 total time=   0.2s\n",
      "[CV 1/3; 278/2700] START C=0.001, l1_ratio=0.7525, max_iter=100, multi_class=ovr, penalty=l2, solver=saga\n"
     ]
    },
    {
     "name": "stderr",
     "output_type": "stream",
     "text": [
      "C:\\Users\\User\\anaconda3\\lib\\site-packages\\sklearn\\linear_model\\_logistic.py:1165: UserWarning: l1_ratio parameter is only used when penalty is 'elasticnet'. Got (penalty=l2)\n",
      "  warnings.warn(\n"
     ]
    },
    {
     "name": "stdout",
     "output_type": "stream",
     "text": [
      "[CV 1/3; 278/2700] END C=0.001, l1_ratio=0.7525, max_iter=100, multi_class=ovr, penalty=l2, solver=saga;, score=0.469 total time=   5.0s\n",
      "[CV 2/3; 278/2700] START C=0.001, l1_ratio=0.7525, max_iter=100, multi_class=ovr, penalty=l2, solver=saga\n"
     ]
    },
    {
     "name": "stderr",
     "output_type": "stream",
     "text": [
      "C:\\Users\\User\\anaconda3\\lib\\site-packages\\sklearn\\linear_model\\_logistic.py:1165: UserWarning: l1_ratio parameter is only used when penalty is 'elasticnet'. Got (penalty=l2)\n",
      "  warnings.warn(\n"
     ]
    },
    {
     "name": "stdout",
     "output_type": "stream",
     "text": [
      "[CV 2/3; 278/2700] END C=0.001, l1_ratio=0.7525, max_iter=100, multi_class=ovr, penalty=l2, solver=saga;, score=0.468 total time=   6.6s\n",
      "[CV 3/3; 278/2700] START C=0.001, l1_ratio=0.7525, max_iter=100, multi_class=ovr, penalty=l2, solver=saga\n"
     ]
    },
    {
     "name": "stderr",
     "output_type": "stream",
     "text": [
      "C:\\Users\\User\\anaconda3\\lib\\site-packages\\sklearn\\linear_model\\_logistic.py:1165: UserWarning: l1_ratio parameter is only used when penalty is 'elasticnet'. Got (penalty=l2)\n",
      "  warnings.warn(\n"
     ]
    },
    {
     "name": "stdout",
     "output_type": "stream",
     "text": [
      "[CV 3/3; 278/2700] END C=0.001, l1_ratio=0.7525, max_iter=100, multi_class=ovr, penalty=l2, solver=saga;, score=0.464 total time=   5.5s\n",
      "[CV 1/3; 279/2700] START C=0.001, l1_ratio=0.7525, max_iter=100, multi_class=ovr, penalty=l2, solver=sag\n"
     ]
    },
    {
     "name": "stderr",
     "output_type": "stream",
     "text": [
      "C:\\Users\\User\\anaconda3\\lib\\site-packages\\sklearn\\linear_model\\_logistic.py:1165: UserWarning: l1_ratio parameter is only used when penalty is 'elasticnet'. Got (penalty=l2)\n",
      "  warnings.warn(\n"
     ]
    },
    {
     "name": "stdout",
     "output_type": "stream",
     "text": [
      "[CV 1/3; 279/2700] END C=0.001, l1_ratio=0.7525, max_iter=100, multi_class=ovr, penalty=l2, solver=sag;, score=0.469 total time=   2.6s\n",
      "[CV 2/3; 279/2700] START C=0.001, l1_ratio=0.7525, max_iter=100, multi_class=ovr, penalty=l2, solver=sag\n"
     ]
    },
    {
     "name": "stderr",
     "output_type": "stream",
     "text": [
      "C:\\Users\\User\\anaconda3\\lib\\site-packages\\sklearn\\linear_model\\_logistic.py:1165: UserWarning: l1_ratio parameter is only used when penalty is 'elasticnet'. Got (penalty=l2)\n",
      "  warnings.warn(\n"
     ]
    },
    {
     "name": "stdout",
     "output_type": "stream",
     "text": [
      "[CV 2/3; 279/2700] END C=0.001, l1_ratio=0.7525, max_iter=100, multi_class=ovr, penalty=l2, solver=sag;, score=0.468 total time=   2.5s\n",
      "[CV 3/3; 279/2700] START C=0.001, l1_ratio=0.7525, max_iter=100, multi_class=ovr, penalty=l2, solver=sag\n"
     ]
    },
    {
     "name": "stderr",
     "output_type": "stream",
     "text": [
      "C:\\Users\\User\\anaconda3\\lib\\site-packages\\sklearn\\linear_model\\_logistic.py:1165: UserWarning: l1_ratio parameter is only used when penalty is 'elasticnet'. Got (penalty=l2)\n",
      "  warnings.warn(\n"
     ]
    },
    {
     "name": "stdout",
     "output_type": "stream",
     "text": [
      "[CV 3/3; 279/2700] END C=0.001, l1_ratio=0.7525, max_iter=100, multi_class=ovr, penalty=l2, solver=sag;, score=0.464 total time=   3.2s\n",
      "[CV 1/3; 280/2700] START C=0.001, l1_ratio=0.7525, max_iter=100, multi_class=ovr, penalty=l2, solver=newton-cholesky\n"
     ]
    },
    {
     "name": "stderr",
     "output_type": "stream",
     "text": [
      "C:\\Users\\User\\anaconda3\\lib\\site-packages\\sklearn\\linear_model\\_logistic.py:1165: UserWarning: l1_ratio parameter is only used when penalty is 'elasticnet'. Got (penalty=l2)\n",
      "  warnings.warn(\n"
     ]
    },
    {
     "name": "stdout",
     "output_type": "stream",
     "text": [
      "[CV 1/3; 280/2700] END C=0.001, l1_ratio=0.7525, max_iter=100, multi_class=ovr, penalty=l2, solver=newton-cholesky;, score=0.469 total time=   1.6s\n",
      "[CV 2/3; 280/2700] START C=0.001, l1_ratio=0.7525, max_iter=100, multi_class=ovr, penalty=l2, solver=newton-cholesky\n"
     ]
    },
    {
     "name": "stderr",
     "output_type": "stream",
     "text": [
      "C:\\Users\\User\\anaconda3\\lib\\site-packages\\sklearn\\linear_model\\_logistic.py:1165: UserWarning: l1_ratio parameter is only used when penalty is 'elasticnet'. Got (penalty=l2)\n",
      "  warnings.warn(\n"
     ]
    },
    {
     "name": "stdout",
     "output_type": "stream",
     "text": [
      "[CV 2/3; 280/2700] END C=0.001, l1_ratio=0.7525, max_iter=100, multi_class=ovr, penalty=l2, solver=newton-cholesky;, score=0.468 total time=   1.6s\n",
      "[CV 3/3; 280/2700] START C=0.001, l1_ratio=0.7525, max_iter=100, multi_class=ovr, penalty=l2, solver=newton-cholesky\n"
     ]
    },
    {
     "name": "stderr",
     "output_type": "stream",
     "text": [
      "C:\\Users\\User\\anaconda3\\lib\\site-packages\\sklearn\\linear_model\\_logistic.py:1165: UserWarning: l1_ratio parameter is only used when penalty is 'elasticnet'. Got (penalty=l2)\n",
      "  warnings.warn(\n"
     ]
    },
    {
     "name": "stdout",
     "output_type": "stream",
     "text": [
      "[CV 3/3; 280/2700] END C=0.001, l1_ratio=0.7525, max_iter=100, multi_class=ovr, penalty=l2, solver=newton-cholesky;, score=0.464 total time=   1.4s\n",
      "[CV 1/3; 281/2700] START C=0.001, l1_ratio=0.7525, max_iter=100, multi_class=ovr, penalty=elasticnet, solver=lbfgs\n",
      "[CV 1/3; 281/2700] END C=0.001, l1_ratio=0.7525, max_iter=100, multi_class=ovr, penalty=elasticnet, solver=lbfgs;, score=nan total time=   0.0s\n",
      "[CV 2/3; 281/2700] START C=0.001, l1_ratio=0.7525, max_iter=100, multi_class=ovr, penalty=elasticnet, solver=lbfgs\n",
      "[CV 2/3; 281/2700] END C=0.001, l1_ratio=0.7525, max_iter=100, multi_class=ovr, penalty=elasticnet, solver=lbfgs;, score=nan total time=   0.0s\n",
      "[CV 3/3; 281/2700] START C=0.001, l1_ratio=0.7525, max_iter=100, multi_class=ovr, penalty=elasticnet, solver=lbfgs\n",
      "[CV 3/3; 281/2700] END C=0.001, l1_ratio=0.7525, max_iter=100, multi_class=ovr, penalty=elasticnet, solver=lbfgs;, score=nan total time=   0.0s\n",
      "[CV 1/3; 282/2700] START C=0.001, l1_ratio=0.7525, max_iter=100, multi_class=ovr, penalty=elasticnet, solver=liblinear\n",
      "[CV 1/3; 282/2700] END C=0.001, l1_ratio=0.7525, max_iter=100, multi_class=ovr, penalty=elasticnet, solver=liblinear;, score=nan total time=   0.0s\n",
      "[CV 2/3; 282/2700] START C=0.001, l1_ratio=0.7525, max_iter=100, multi_class=ovr, penalty=elasticnet, solver=liblinear\n",
      "[CV 2/3; 282/2700] END C=0.001, l1_ratio=0.7525, max_iter=100, multi_class=ovr, penalty=elasticnet, solver=liblinear;, score=nan total time=   0.0s\n",
      "[CV 3/3; 282/2700] START C=0.001, l1_ratio=0.7525, max_iter=100, multi_class=ovr, penalty=elasticnet, solver=liblinear\n",
      "[CV 3/3; 282/2700] END C=0.001, l1_ratio=0.7525, max_iter=100, multi_class=ovr, penalty=elasticnet, solver=liblinear;, score=nan total time=   0.0s\n",
      "[CV 1/3; 283/2700] START C=0.001, l1_ratio=0.7525, max_iter=100, multi_class=ovr, penalty=elasticnet, solver=saga\n",
      "[CV 1/3; 283/2700] END C=0.001, l1_ratio=0.7525, max_iter=100, multi_class=ovr, penalty=elasticnet, solver=saga;, score=0.450 total time=   2.2s\n",
      "[CV 2/3; 283/2700] START C=0.001, l1_ratio=0.7525, max_iter=100, multi_class=ovr, penalty=elasticnet, solver=saga\n",
      "[CV 2/3; 283/2700] END C=0.001, l1_ratio=0.7525, max_iter=100, multi_class=ovr, penalty=elasticnet, solver=saga;, score=0.445 total time=   2.6s\n",
      "[CV 3/3; 283/2700] START C=0.001, l1_ratio=0.7525, max_iter=100, multi_class=ovr, penalty=elasticnet, solver=saga\n",
      "[CV 3/3; 283/2700] END C=0.001, l1_ratio=0.7525, max_iter=100, multi_class=ovr, penalty=elasticnet, solver=saga;, score=0.445 total time=   2.7s\n",
      "[CV 1/3; 284/2700] START C=0.001, l1_ratio=0.7525, max_iter=100, multi_class=ovr, penalty=elasticnet, solver=sag\n",
      "[CV 1/3; 284/2700] END C=0.001, l1_ratio=0.7525, max_iter=100, multi_class=ovr, penalty=elasticnet, solver=sag;, score=nan total time=   0.0s\n",
      "[CV 2/3; 284/2700] START C=0.001, l1_ratio=0.7525, max_iter=100, multi_class=ovr, penalty=elasticnet, solver=sag\n",
      "[CV 2/3; 284/2700] END C=0.001, l1_ratio=0.7525, max_iter=100, multi_class=ovr, penalty=elasticnet, solver=sag;, score=nan total time=   0.0s\n",
      "[CV 3/3; 284/2700] START C=0.001, l1_ratio=0.7525, max_iter=100, multi_class=ovr, penalty=elasticnet, solver=sag\n",
      "[CV 3/3; 284/2700] END C=0.001, l1_ratio=0.7525, max_iter=100, multi_class=ovr, penalty=elasticnet, solver=sag;, score=nan total time=   0.0s\n",
      "[CV 1/3; 285/2700] START C=0.001, l1_ratio=0.7525, max_iter=100, multi_class=ovr, penalty=elasticnet, solver=newton-cholesky\n",
      "[CV 1/3; 285/2700] END C=0.001, l1_ratio=0.7525, max_iter=100, multi_class=ovr, penalty=elasticnet, solver=newton-cholesky;, score=nan total time=   0.0s\n",
      "[CV 2/3; 285/2700] START C=0.001, l1_ratio=0.7525, max_iter=100, multi_class=ovr, penalty=elasticnet, solver=newton-cholesky\n",
      "[CV 2/3; 285/2700] END C=0.001, l1_ratio=0.7525, max_iter=100, multi_class=ovr, penalty=elasticnet, solver=newton-cholesky;, score=nan total time=   0.0s\n",
      "[CV 3/3; 285/2700] START C=0.001, l1_ratio=0.7525, max_iter=100, multi_class=ovr, penalty=elasticnet, solver=newton-cholesky\n",
      "[CV 3/3; 285/2700] END C=0.001, l1_ratio=0.7525, max_iter=100, multi_class=ovr, penalty=elasticnet, solver=newton-cholesky;, score=nan total time=   0.0s\n",
      "[CV 1/3; 286/2700] START C=0.001, l1_ratio=0.7525, max_iter=100, multi_class=multinomial, penalty=l1, solver=lbfgs\n",
      "[CV 1/3; 286/2700] END C=0.001, l1_ratio=0.7525, max_iter=100, multi_class=multinomial, penalty=l1, solver=lbfgs;, score=nan total time=   0.0s\n",
      "[CV 2/3; 286/2700] START C=0.001, l1_ratio=0.7525, max_iter=100, multi_class=multinomial, penalty=l1, solver=lbfgs\n",
      "[CV 2/3; 286/2700] END C=0.001, l1_ratio=0.7525, max_iter=100, multi_class=multinomial, penalty=l1, solver=lbfgs;, score=nan total time=   0.0s\n",
      "[CV 3/3; 286/2700] START C=0.001, l1_ratio=0.7525, max_iter=100, multi_class=multinomial, penalty=l1, solver=lbfgs\n",
      "[CV 3/3; 286/2700] END C=0.001, l1_ratio=0.7525, max_iter=100, multi_class=multinomial, penalty=l1, solver=lbfgs;, score=nan total time=   0.0s\n",
      "[CV 1/3; 287/2700] START C=0.001, l1_ratio=0.7525, max_iter=100, multi_class=multinomial, penalty=l1, solver=liblinear\n",
      "[CV 1/3; 287/2700] END C=0.001, l1_ratio=0.7525, max_iter=100, multi_class=multinomial, penalty=l1, solver=liblinear;, score=nan total time=   0.0s\n",
      "[CV 2/3; 287/2700] START C=0.001, l1_ratio=0.7525, max_iter=100, multi_class=multinomial, penalty=l1, solver=liblinear\n",
      "[CV 2/3; 287/2700] END C=0.001, l1_ratio=0.7525, max_iter=100, multi_class=multinomial, penalty=l1, solver=liblinear;, score=nan total time=   0.0s\n",
      "[CV 3/3; 287/2700] START C=0.001, l1_ratio=0.7525, max_iter=100, multi_class=multinomial, penalty=l1, solver=liblinear\n"
     ]
    },
    {
     "name": "stderr",
     "output_type": "stream",
     "text": [
      "C:\\Users\\User\\anaconda3\\lib\\site-packages\\sklearn\\linear_model\\_logistic.py:1165: UserWarning: l1_ratio parameter is only used when penalty is 'elasticnet'. Got (penalty=l1)\n",
      "  warnings.warn(\n",
      "C:\\Users\\User\\anaconda3\\lib\\site-packages\\sklearn\\linear_model\\_logistic.py:1165: UserWarning: l1_ratio parameter is only used when penalty is 'elasticnet'. Got (penalty=l1)\n",
      "  warnings.warn(\n",
      "C:\\Users\\User\\anaconda3\\lib\\site-packages\\sklearn\\linear_model\\_logistic.py:1165: UserWarning: l1_ratio parameter is only used when penalty is 'elasticnet'. Got (penalty=l1)\n",
      "  warnings.warn(\n",
      "C:\\Users\\User\\anaconda3\\lib\\site-packages\\sklearn\\linear_model\\_logistic.py:1165: UserWarning: l1_ratio parameter is only used when penalty is 'elasticnet'. Got (penalty=l1)\n",
      "  warnings.warn(\n"
     ]
    },
    {
     "name": "stdout",
     "output_type": "stream",
     "text": [
      "[CV 3/3; 287/2700] END C=0.001, l1_ratio=0.7525, max_iter=100, multi_class=multinomial, penalty=l1, solver=liblinear;, score=nan total time=   0.0s\n",
      "[CV 1/3; 288/2700] START C=0.001, l1_ratio=0.7525, max_iter=100, multi_class=multinomial, penalty=l1, solver=saga\n",
      "[CV 1/3; 288/2700] END C=0.001, l1_ratio=0.7525, max_iter=100, multi_class=multinomial, penalty=l1, solver=saga;, score=0.306 total time=   4.3s\n",
      "[CV 2/3; 288/2700] START C=0.001, l1_ratio=0.7525, max_iter=100, multi_class=multinomial, penalty=l1, solver=saga\n"
     ]
    },
    {
     "name": "stderr",
     "output_type": "stream",
     "text": [
      "C:\\Users\\User\\anaconda3\\lib\\site-packages\\sklearn\\linear_model\\_logistic.py:1165: UserWarning: l1_ratio parameter is only used when penalty is 'elasticnet'. Got (penalty=l1)\n",
      "  warnings.warn(\n"
     ]
    },
    {
     "name": "stdout",
     "output_type": "stream",
     "text": [
      "[CV 2/3; 288/2700] END C=0.001, l1_ratio=0.7525, max_iter=100, multi_class=multinomial, penalty=l1, solver=saga;, score=0.306 total time=   4.6s\n",
      "[CV 3/3; 288/2700] START C=0.001, l1_ratio=0.7525, max_iter=100, multi_class=multinomial, penalty=l1, solver=saga\n"
     ]
    },
    {
     "name": "stderr",
     "output_type": "stream",
     "text": [
      "C:\\Users\\User\\anaconda3\\lib\\site-packages\\sklearn\\linear_model\\_logistic.py:1165: UserWarning: l1_ratio parameter is only used when penalty is 'elasticnet'. Got (penalty=l1)\n",
      "  warnings.warn(\n"
     ]
    },
    {
     "name": "stdout",
     "output_type": "stream",
     "text": [
      "[CV 3/3; 288/2700] END C=0.001, l1_ratio=0.7525, max_iter=100, multi_class=multinomial, penalty=l1, solver=saga;, score=0.306 total time=   5.1s\n",
      "[CV 1/3; 289/2700] START C=0.001, l1_ratio=0.7525, max_iter=100, multi_class=multinomial, penalty=l1, solver=sag\n",
      "[CV 1/3; 289/2700] END C=0.001, l1_ratio=0.7525, max_iter=100, multi_class=multinomial, penalty=l1, solver=sag;, score=nan total time=   0.0s\n",
      "[CV 2/3; 289/2700] START C=0.001, l1_ratio=0.7525, max_iter=100, multi_class=multinomial, penalty=l1, solver=sag\n",
      "[CV 2/3; 289/2700] END C=0.001, l1_ratio=0.7525, max_iter=100, multi_class=multinomial, penalty=l1, solver=sag;, score=nan total time=   0.0s\n",
      "[CV 3/3; 289/2700] START C=0.001, l1_ratio=0.7525, max_iter=100, multi_class=multinomial, penalty=l1, solver=sag\n",
      "[CV 3/3; 289/2700] END C=0.001, l1_ratio=0.7525, max_iter=100, multi_class=multinomial, penalty=l1, solver=sag;, score=nan total time=   0.0s\n",
      "[CV 1/3; 290/2700] START C=0.001, l1_ratio=0.7525, max_iter=100, multi_class=multinomial, penalty=l1, solver=newton-cholesky\n",
      "[CV 1/3; 290/2700] END C=0.001, l1_ratio=0.7525, max_iter=100, multi_class=multinomial, penalty=l1, solver=newton-cholesky;, score=nan total time=   0.0s\n",
      "[CV 2/3; 290/2700] START C=0.001, l1_ratio=0.7525, max_iter=100, multi_class=multinomial, penalty=l1, solver=newton-cholesky\n",
      "[CV 2/3; 290/2700] END C=0.001, l1_ratio=0.7525, max_iter=100, multi_class=multinomial, penalty=l1, solver=newton-cholesky;, score=nan total time=   0.0s\n",
      "[CV 3/3; 290/2700] START C=0.001, l1_ratio=0.7525, max_iter=100, multi_class=multinomial, penalty=l1, solver=newton-cholesky\n",
      "[CV 3/3; 290/2700] END C=0.001, l1_ratio=0.7525, max_iter=100, multi_class=multinomial, penalty=l1, solver=newton-cholesky;, score=nan total time=   0.0s\n",
      "[CV 1/3; 291/2700] START C=0.001, l1_ratio=0.7525, max_iter=100, multi_class=multinomial, penalty=l2, solver=lbfgs\n"
     ]
    },
    {
     "name": "stderr",
     "output_type": "stream",
     "text": [
      "C:\\Users\\User\\anaconda3\\lib\\site-packages\\sklearn\\linear_model\\_logistic.py:1165: UserWarning: l1_ratio parameter is only used when penalty is 'elasticnet'. Got (penalty=l2)\n",
      "  warnings.warn(\n"
     ]
    },
    {
     "name": "stdout",
     "output_type": "stream",
     "text": [
      "[CV 1/3; 291/2700] END C=0.001, l1_ratio=0.7525, max_iter=100, multi_class=multinomial, penalty=l2, solver=lbfgs;, score=0.478 total time=   0.5s\n",
      "[CV 2/3; 291/2700] START C=0.001, l1_ratio=0.7525, max_iter=100, multi_class=multinomial, penalty=l2, solver=lbfgs\n"
     ]
    },
    {
     "name": "stderr",
     "output_type": "stream",
     "text": [
      "C:\\Users\\User\\anaconda3\\lib\\site-packages\\sklearn\\linear_model\\_logistic.py:1165: UserWarning: l1_ratio parameter is only used when penalty is 'elasticnet'. Got (penalty=l2)\n",
      "  warnings.warn(\n"
     ]
    },
    {
     "name": "stdout",
     "output_type": "stream",
     "text": [
      "[CV 2/3; 291/2700] END C=0.001, l1_ratio=0.7525, max_iter=100, multi_class=multinomial, penalty=l2, solver=lbfgs;, score=0.474 total time=   0.5s\n",
      "[CV 3/3; 291/2700] START C=0.001, l1_ratio=0.7525, max_iter=100, multi_class=multinomial, penalty=l2, solver=lbfgs\n"
     ]
    },
    {
     "name": "stderr",
     "output_type": "stream",
     "text": [
      "C:\\Users\\User\\anaconda3\\lib\\site-packages\\sklearn\\linear_model\\_logistic.py:1165: UserWarning: l1_ratio parameter is only used when penalty is 'elasticnet'. Got (penalty=l2)\n",
      "  warnings.warn(\n"
     ]
    },
    {
     "name": "stdout",
     "output_type": "stream",
     "text": [
      "[CV 3/3; 291/2700] END C=0.001, l1_ratio=0.7525, max_iter=100, multi_class=multinomial, penalty=l2, solver=lbfgs;, score=0.471 total time=   0.5s\n",
      "[CV 1/3; 292/2700] START C=0.001, l1_ratio=0.7525, max_iter=100, multi_class=multinomial, penalty=l2, solver=liblinear\n",
      "[CV 1/3; 292/2700] END C=0.001, l1_ratio=0.7525, max_iter=100, multi_class=multinomial, penalty=l2, solver=liblinear;, score=nan total time=   0.0s\n",
      "[CV 2/3; 292/2700] START C=0.001, l1_ratio=0.7525, max_iter=100, multi_class=multinomial, penalty=l2, solver=liblinear\n",
      "[CV 2/3; 292/2700] END C=0.001, l1_ratio=0.7525, max_iter=100, multi_class=multinomial, penalty=l2, solver=liblinear;, score=nan total time=   0.0s\n",
      "[CV 3/3; 292/2700] START C=0.001, l1_ratio=0.7525, max_iter=100, multi_class=multinomial, penalty=l2, solver=liblinear\n",
      "[CV 3/3; 292/2700] END C=0.001, l1_ratio=0.7525, max_iter=100, multi_class=multinomial, penalty=l2, solver=liblinear;, score=nan total time=   0.0s\n",
      "[CV 1/3; 293/2700] START C=0.001, l1_ratio=0.7525, max_iter=100, multi_class=multinomial, penalty=l2, solver=saga\n"
     ]
    },
    {
     "name": "stderr",
     "output_type": "stream",
     "text": [
      "C:\\Users\\User\\anaconda3\\lib\\site-packages\\sklearn\\linear_model\\_logistic.py:1165: UserWarning: l1_ratio parameter is only used when penalty is 'elasticnet'. Got (penalty=l2)\n",
      "  warnings.warn(\n",
      "C:\\Users\\User\\anaconda3\\lib\\site-packages\\sklearn\\linear_model\\_logistic.py:1165: UserWarning: l1_ratio parameter is only used when penalty is 'elasticnet'. Got (penalty=l2)\n",
      "  warnings.warn(\n",
      "C:\\Users\\User\\anaconda3\\lib\\site-packages\\sklearn\\linear_model\\_logistic.py:1165: UserWarning: l1_ratio parameter is only used when penalty is 'elasticnet'. Got (penalty=l2)\n",
      "  warnings.warn(\n",
      "C:\\Users\\User\\anaconda3\\lib\\site-packages\\sklearn\\linear_model\\_logistic.py:1165: UserWarning: l1_ratio parameter is only used when penalty is 'elasticnet'. Got (penalty=l2)\n",
      "  warnings.warn(\n"
     ]
    },
    {
     "name": "stdout",
     "output_type": "stream",
     "text": [
      "[CV 1/3; 293/2700] END C=0.001, l1_ratio=0.7525, max_iter=100, multi_class=multinomial, penalty=l2, solver=saga;, score=0.477 total time=   5.0s\n",
      "[CV 2/3; 293/2700] START C=0.001, l1_ratio=0.7525, max_iter=100, multi_class=multinomial, penalty=l2, solver=saga\n"
     ]
    },
    {
     "name": "stderr",
     "output_type": "stream",
     "text": [
      "C:\\Users\\User\\anaconda3\\lib\\site-packages\\sklearn\\linear_model\\_logistic.py:1165: UserWarning: l1_ratio parameter is only used when penalty is 'elasticnet'. Got (penalty=l2)\n",
      "  warnings.warn(\n"
     ]
    },
    {
     "name": "stdout",
     "output_type": "stream",
     "text": [
      "[CV 2/3; 293/2700] END C=0.001, l1_ratio=0.7525, max_iter=100, multi_class=multinomial, penalty=l2, solver=saga;, score=0.474 total time=   4.4s\n",
      "[CV 3/3; 293/2700] START C=0.001, l1_ratio=0.7525, max_iter=100, multi_class=multinomial, penalty=l2, solver=saga\n"
     ]
    },
    {
     "name": "stderr",
     "output_type": "stream",
     "text": [
      "C:\\Users\\User\\anaconda3\\lib\\site-packages\\sklearn\\linear_model\\_logistic.py:1165: UserWarning: l1_ratio parameter is only used when penalty is 'elasticnet'. Got (penalty=l2)\n",
      "  warnings.warn(\n"
     ]
    },
    {
     "name": "stdout",
     "output_type": "stream",
     "text": [
      "[CV 3/3; 293/2700] END C=0.001, l1_ratio=0.7525, max_iter=100, multi_class=multinomial, penalty=l2, solver=saga;, score=0.471 total time=   4.6s\n",
      "[CV 1/3; 294/2700] START C=0.001, l1_ratio=0.7525, max_iter=100, multi_class=multinomial, penalty=l2, solver=sag\n"
     ]
    },
    {
     "name": "stderr",
     "output_type": "stream",
     "text": [
      "C:\\Users\\User\\anaconda3\\lib\\site-packages\\sklearn\\linear_model\\_logistic.py:1165: UserWarning: l1_ratio parameter is only used when penalty is 'elasticnet'. Got (penalty=l2)\n",
      "  warnings.warn(\n"
     ]
    },
    {
     "name": "stdout",
     "output_type": "stream",
     "text": [
      "[CV 1/3; 294/2700] END C=0.001, l1_ratio=0.7525, max_iter=100, multi_class=multinomial, penalty=l2, solver=sag;, score=0.477 total time=   1.1s\n",
      "[CV 2/3; 294/2700] START C=0.001, l1_ratio=0.7525, max_iter=100, multi_class=multinomial, penalty=l2, solver=sag\n"
     ]
    },
    {
     "name": "stderr",
     "output_type": "stream",
     "text": [
      "C:\\Users\\User\\anaconda3\\lib\\site-packages\\sklearn\\linear_model\\_logistic.py:1165: UserWarning: l1_ratio parameter is only used when penalty is 'elasticnet'. Got (penalty=l2)\n",
      "  warnings.warn(\n"
     ]
    },
    {
     "name": "stdout",
     "output_type": "stream",
     "text": [
      "[CV 2/3; 294/2700] END C=0.001, l1_ratio=0.7525, max_iter=100, multi_class=multinomial, penalty=l2, solver=sag;, score=0.474 total time=   1.1s\n",
      "[CV 3/3; 294/2700] START C=0.001, l1_ratio=0.7525, max_iter=100, multi_class=multinomial, penalty=l2, solver=sag\n"
     ]
    },
    {
     "name": "stderr",
     "output_type": "stream",
     "text": [
      "C:\\Users\\User\\anaconda3\\lib\\site-packages\\sklearn\\linear_model\\_logistic.py:1165: UserWarning: l1_ratio parameter is only used when penalty is 'elasticnet'. Got (penalty=l2)\n",
      "  warnings.warn(\n"
     ]
    },
    {
     "name": "stdout",
     "output_type": "stream",
     "text": [
      "[CV 3/3; 294/2700] END C=0.001, l1_ratio=0.7525, max_iter=100, multi_class=multinomial, penalty=l2, solver=sag;, score=0.471 total time=   1.4s\n",
      "[CV 1/3; 295/2700] START C=0.001, l1_ratio=0.7525, max_iter=100, multi_class=multinomial, penalty=l2, solver=newton-cholesky\n",
      "[CV 1/3; 295/2700] END C=0.001, l1_ratio=0.7525, max_iter=100, multi_class=multinomial, penalty=l2, solver=newton-cholesky;, score=nan total time=   0.0s\n",
      "[CV 2/3; 295/2700] START C=0.001, l1_ratio=0.7525, max_iter=100, multi_class=multinomial, penalty=l2, solver=newton-cholesky\n",
      "[CV 2/3; 295/2700] END C=0.001, l1_ratio=0.7525, max_iter=100, multi_class=multinomial, penalty=l2, solver=newton-cholesky;, score=nan total time=   0.0s\n",
      "[CV 3/3; 295/2700] START C=0.001, l1_ratio=0.7525, max_iter=100, multi_class=multinomial, penalty=l2, solver=newton-cholesky\n",
      "[CV 3/3; 295/2700] END C=0.001, l1_ratio=0.7525, max_iter=100, multi_class=multinomial, penalty=l2, solver=newton-cholesky;, score=nan total time=   0.0s\n",
      "[CV 1/3; 296/2700] START C=0.001, l1_ratio=0.7525, max_iter=100, multi_class=multinomial, penalty=elasticnet, solver=lbfgs\n",
      "[CV 1/3; 296/2700] END C=0.001, l1_ratio=0.7525, max_iter=100, multi_class=multinomial, penalty=elasticnet, solver=lbfgs;, score=nan total time=   0.0s\n",
      "[CV 2/3; 296/2700] START C=0.001, l1_ratio=0.7525, max_iter=100, multi_class=multinomial, penalty=elasticnet, solver=lbfgs\n",
      "[CV 2/3; 296/2700] END C=0.001, l1_ratio=0.7525, max_iter=100, multi_class=multinomial, penalty=elasticnet, solver=lbfgs;, score=nan total time=   0.0s\n",
      "[CV 3/3; 296/2700] START C=0.001, l1_ratio=0.7525, max_iter=100, multi_class=multinomial, penalty=elasticnet, solver=lbfgs\n",
      "[CV 3/3; 296/2700] END C=0.001, l1_ratio=0.7525, max_iter=100, multi_class=multinomial, penalty=elasticnet, solver=lbfgs;, score=nan total time=   0.0s\n",
      "[CV 1/3; 297/2700] START C=0.001, l1_ratio=0.7525, max_iter=100, multi_class=multinomial, penalty=elasticnet, solver=liblinear\n",
      "[CV 1/3; 297/2700] END C=0.001, l1_ratio=0.7525, max_iter=100, multi_class=multinomial, penalty=elasticnet, solver=liblinear;, score=nan total time=   0.0s\n",
      "[CV 2/3; 297/2700] START C=0.001, l1_ratio=0.7525, max_iter=100, multi_class=multinomial, penalty=elasticnet, solver=liblinear\n",
      "[CV 2/3; 297/2700] END C=0.001, l1_ratio=0.7525, max_iter=100, multi_class=multinomial, penalty=elasticnet, solver=liblinear;, score=nan total time=   0.0s\n",
      "[CV 3/3; 297/2700] START C=0.001, l1_ratio=0.7525, max_iter=100, multi_class=multinomial, penalty=elasticnet, solver=liblinear\n"
     ]
    },
    {
     "name": "stderr",
     "output_type": "stream",
     "text": [
      "C:\\Users\\User\\anaconda3\\lib\\site-packages\\sklearn\\linear_model\\_logistic.py:1165: UserWarning: l1_ratio parameter is only used when penalty is 'elasticnet'. Got (penalty=l2)\n",
      "  warnings.warn(\n",
      "C:\\Users\\User\\anaconda3\\lib\\site-packages\\sklearn\\linear_model\\_logistic.py:1165: UserWarning: l1_ratio parameter is only used when penalty is 'elasticnet'. Got (penalty=l2)\n",
      "  warnings.warn(\n",
      "C:\\Users\\User\\anaconda3\\lib\\site-packages\\sklearn\\linear_model\\_logistic.py:1165: UserWarning: l1_ratio parameter is only used when penalty is 'elasticnet'. Got (penalty=l2)\n",
      "  warnings.warn(\n"
     ]
    },
    {
     "name": "stdout",
     "output_type": "stream",
     "text": [
      "[CV 3/3; 297/2700] END C=0.001, l1_ratio=0.7525, max_iter=100, multi_class=multinomial, penalty=elasticnet, solver=liblinear;, score=nan total time=   0.0s\n",
      "[CV 1/3; 298/2700] START C=0.001, l1_ratio=0.7525, max_iter=100, multi_class=multinomial, penalty=elasticnet, solver=saga\n",
      "[CV 1/3; 298/2700] END C=0.001, l1_ratio=0.7525, max_iter=100, multi_class=multinomial, penalty=elasticnet, solver=saga;, score=0.450 total time=   5.1s\n",
      "[CV 2/3; 298/2700] START C=0.001, l1_ratio=0.7525, max_iter=100, multi_class=multinomial, penalty=elasticnet, solver=saga\n",
      "[CV 2/3; 298/2700] END C=0.001, l1_ratio=0.7525, max_iter=100, multi_class=multinomial, penalty=elasticnet, solver=saga;, score=0.458 total time=   4.5s\n",
      "[CV 3/3; 298/2700] START C=0.001, l1_ratio=0.7525, max_iter=100, multi_class=multinomial, penalty=elasticnet, solver=saga\n",
      "[CV 3/3; 298/2700] END C=0.001, l1_ratio=0.7525, max_iter=100, multi_class=multinomial, penalty=elasticnet, solver=saga;, score=0.445 total time=   5.3s\n",
      "[CV 1/3; 299/2700] START C=0.001, l1_ratio=0.7525, max_iter=100, multi_class=multinomial, penalty=elasticnet, solver=sag\n",
      "[CV 1/3; 299/2700] END C=0.001, l1_ratio=0.7525, max_iter=100, multi_class=multinomial, penalty=elasticnet, solver=sag;, score=nan total time=   0.0s\n",
      "[CV 2/3; 299/2700] START C=0.001, l1_ratio=0.7525, max_iter=100, multi_class=multinomial, penalty=elasticnet, solver=sag\n",
      "[CV 2/3; 299/2700] END C=0.001, l1_ratio=0.7525, max_iter=100, multi_class=multinomial, penalty=elasticnet, solver=sag;, score=nan total time=   0.0s\n",
      "[CV 3/3; 299/2700] START C=0.001, l1_ratio=0.7525, max_iter=100, multi_class=multinomial, penalty=elasticnet, solver=sag\n",
      "[CV 3/3; 299/2700] END C=0.001, l1_ratio=0.7525, max_iter=100, multi_class=multinomial, penalty=elasticnet, solver=sag;, score=nan total time=   0.0s\n",
      "[CV 1/3; 300/2700] START C=0.001, l1_ratio=0.7525, max_iter=100, multi_class=multinomial, penalty=elasticnet, solver=newton-cholesky\n",
      "[CV 1/3; 300/2700] END C=0.001, l1_ratio=0.7525, max_iter=100, multi_class=multinomial, penalty=elasticnet, solver=newton-cholesky;, score=nan total time=   0.0s\n",
      "[CV 2/3; 300/2700] START C=0.001, l1_ratio=0.7525, max_iter=100, multi_class=multinomial, penalty=elasticnet, solver=newton-cholesky\n",
      "[CV 2/3; 300/2700] END C=0.001, l1_ratio=0.7525, max_iter=100, multi_class=multinomial, penalty=elasticnet, solver=newton-cholesky;, score=nan total time=   0.0s\n",
      "[CV 3/3; 300/2700] START C=0.001, l1_ratio=0.7525, max_iter=100, multi_class=multinomial, penalty=elasticnet, solver=newton-cholesky\n",
      "[CV 3/3; 300/2700] END C=0.001, l1_ratio=0.7525, max_iter=100, multi_class=multinomial, penalty=elasticnet, solver=newton-cholesky;, score=nan total time=   0.0s\n",
      "[CV 1/3; 301/2700] START C=0.001, l1_ratio=0.7525, max_iter=1000, multi_class=ovr, penalty=l1, solver=lbfgs\n",
      "[CV 1/3; 301/2700] END C=0.001, l1_ratio=0.7525, max_iter=1000, multi_class=ovr, penalty=l1, solver=lbfgs;, score=nan total time=   0.0s\n",
      "[CV 2/3; 301/2700] START C=0.001, l1_ratio=0.7525, max_iter=1000, multi_class=ovr, penalty=l1, solver=lbfgs\n",
      "[CV 2/3; 301/2700] END C=0.001, l1_ratio=0.7525, max_iter=1000, multi_class=ovr, penalty=l1, solver=lbfgs;, score=nan total time=   0.0s\n",
      "[CV 3/3; 301/2700] START C=0.001, l1_ratio=0.7525, max_iter=1000, multi_class=ovr, penalty=l1, solver=lbfgs\n",
      "[CV 3/3; 301/2700] END C=0.001, l1_ratio=0.7525, max_iter=1000, multi_class=ovr, penalty=l1, solver=lbfgs;, score=nan total time=   0.0s\n",
      "[CV 1/3; 302/2700] START C=0.001, l1_ratio=0.7525, max_iter=1000, multi_class=ovr, penalty=l1, solver=liblinear\n"
     ]
    },
    {
     "name": "stderr",
     "output_type": "stream",
     "text": [
      "C:\\Users\\User\\anaconda3\\lib\\site-packages\\sklearn\\linear_model\\_logistic.py:1165: UserWarning: l1_ratio parameter is only used when penalty is 'elasticnet'. Got (penalty=l1)\n",
      "  warnings.warn(\n"
     ]
    },
    {
     "name": "stdout",
     "output_type": "stream",
     "text": [
      "[CV 1/3; 302/2700] END C=0.001, l1_ratio=0.7525, max_iter=1000, multi_class=ovr, penalty=l1, solver=liblinear;, score=0.458 total time=   0.2s\n",
      "[CV 2/3; 302/2700] START C=0.001, l1_ratio=0.7525, max_iter=1000, multi_class=ovr, penalty=l1, solver=liblinear\n"
     ]
    },
    {
     "name": "stderr",
     "output_type": "stream",
     "text": [
      "C:\\Users\\User\\anaconda3\\lib\\site-packages\\sklearn\\linear_model\\_logistic.py:1165: UserWarning: l1_ratio parameter is only used when penalty is 'elasticnet'. Got (penalty=l1)\n",
      "  warnings.warn(\n",
      "C:\\Users\\User\\anaconda3\\lib\\site-packages\\sklearn\\linear_model\\_logistic.py:1165: UserWarning: l1_ratio parameter is only used when penalty is 'elasticnet'. Got (penalty=l1)\n",
      "  warnings.warn(\n"
     ]
    },
    {
     "name": "stdout",
     "output_type": "stream",
     "text": [
      "[CV 2/3; 302/2700] END C=0.001, l1_ratio=0.7525, max_iter=1000, multi_class=ovr, penalty=l1, solver=liblinear;, score=0.460 total time=   0.2s\n",
      "[CV 3/3; 302/2700] START C=0.001, l1_ratio=0.7525, max_iter=1000, multi_class=ovr, penalty=l1, solver=liblinear\n",
      "[CV 3/3; 302/2700] END C=0.001, l1_ratio=0.7525, max_iter=1000, multi_class=ovr, penalty=l1, solver=liblinear;, score=0.453 total time=   0.2s\n",
      "[CV 1/3; 303/2700] START C=0.001, l1_ratio=0.7525, max_iter=1000, multi_class=ovr, penalty=l1, solver=saga\n"
     ]
    },
    {
     "name": "stderr",
     "output_type": "stream",
     "text": [
      "C:\\Users\\User\\anaconda3\\lib\\site-packages\\sklearn\\linear_model\\_logistic.py:1165: UserWarning: l1_ratio parameter is only used when penalty is 'elasticnet'. Got (penalty=l1)\n",
      "  warnings.warn(\n"
     ]
    },
    {
     "name": "stdout",
     "output_type": "stream",
     "text": [
      "[CV 1/3; 303/2700] END C=0.001, l1_ratio=0.7525, max_iter=1000, multi_class=ovr, penalty=l1, solver=saga;, score=0.306 total time=   3.4s\n",
      "[CV 2/3; 303/2700] START C=0.001, l1_ratio=0.7525, max_iter=1000, multi_class=ovr, penalty=l1, solver=saga\n"
     ]
    },
    {
     "name": "stderr",
     "output_type": "stream",
     "text": [
      "C:\\Users\\User\\anaconda3\\lib\\site-packages\\sklearn\\linear_model\\_logistic.py:1165: UserWarning: l1_ratio parameter is only used when penalty is 'elasticnet'. Got (penalty=l1)\n",
      "  warnings.warn(\n"
     ]
    },
    {
     "name": "stdout",
     "output_type": "stream",
     "text": [
      "[CV 2/3; 303/2700] END C=0.001, l1_ratio=0.7525, max_iter=1000, multi_class=ovr, penalty=l1, solver=saga;, score=0.306 total time=   3.8s\n",
      "[CV 3/3; 303/2700] START C=0.001, l1_ratio=0.7525, max_iter=1000, multi_class=ovr, penalty=l1, solver=saga\n"
     ]
    },
    {
     "name": "stderr",
     "output_type": "stream",
     "text": [
      "C:\\Users\\User\\anaconda3\\lib\\site-packages\\sklearn\\linear_model\\_logistic.py:1165: UserWarning: l1_ratio parameter is only used when penalty is 'elasticnet'. Got (penalty=l1)\n",
      "  warnings.warn(\n"
     ]
    },
    {
     "name": "stdout",
     "output_type": "stream",
     "text": [
      "[CV 3/3; 303/2700] END C=0.001, l1_ratio=0.7525, max_iter=1000, multi_class=ovr, penalty=l1, solver=saga;, score=0.306 total time=   3.7s\n",
      "[CV 1/3; 304/2700] START C=0.001, l1_ratio=0.7525, max_iter=1000, multi_class=ovr, penalty=l1, solver=sag\n",
      "[CV 1/3; 304/2700] END C=0.001, l1_ratio=0.7525, max_iter=1000, multi_class=ovr, penalty=l1, solver=sag;, score=nan total time=   0.0s\n",
      "[CV 2/3; 304/2700] START C=0.001, l1_ratio=0.7525, max_iter=1000, multi_class=ovr, penalty=l1, solver=sag\n",
      "[CV 2/3; 304/2700] END C=0.001, l1_ratio=0.7525, max_iter=1000, multi_class=ovr, penalty=l1, solver=sag;, score=nan total time=   0.0s\n",
      "[CV 3/3; 304/2700] START C=0.001, l1_ratio=0.7525, max_iter=1000, multi_class=ovr, penalty=l1, solver=sag\n",
      "[CV 3/3; 304/2700] END C=0.001, l1_ratio=0.7525, max_iter=1000, multi_class=ovr, penalty=l1, solver=sag;, score=nan total time=   0.0s\n",
      "[CV 1/3; 305/2700] START C=0.001, l1_ratio=0.7525, max_iter=1000, multi_class=ovr, penalty=l1, solver=newton-cholesky\n",
      "[CV 1/3; 305/2700] END C=0.001, l1_ratio=0.7525, max_iter=1000, multi_class=ovr, penalty=l1, solver=newton-cholesky;, score=nan total time=   0.0s\n",
      "[CV 2/3; 305/2700] START C=0.001, l1_ratio=0.7525, max_iter=1000, multi_class=ovr, penalty=l1, solver=newton-cholesky\n",
      "[CV 2/3; 305/2700] END C=0.001, l1_ratio=0.7525, max_iter=1000, multi_class=ovr, penalty=l1, solver=newton-cholesky;, score=nan total time=   0.0s\n",
      "[CV 3/3; 305/2700] START C=0.001, l1_ratio=0.7525, max_iter=1000, multi_class=ovr, penalty=l1, solver=newton-cholesky\n",
      "[CV 3/3; 305/2700] END C=0.001, l1_ratio=0.7525, max_iter=1000, multi_class=ovr, penalty=l1, solver=newton-cholesky;, score=nan total time=   0.0s\n",
      "[CV 1/3; 306/2700] START C=0.001, l1_ratio=0.7525, max_iter=1000, multi_class=ovr, penalty=l2, solver=lbfgs\n"
     ]
    },
    {
     "name": "stderr",
     "output_type": "stream",
     "text": [
      "C:\\Users\\User\\anaconda3\\lib\\site-packages\\sklearn\\linear_model\\_logistic.py:1165: UserWarning: l1_ratio parameter is only used when penalty is 'elasticnet'. Got (penalty=l2)\n",
      "  warnings.warn(\n"
     ]
    },
    {
     "name": "stdout",
     "output_type": "stream",
     "text": [
      "[CV 1/3; 306/2700] END C=0.001, l1_ratio=0.7525, max_iter=1000, multi_class=ovr, penalty=l2, solver=lbfgs;, score=0.469 total time=   0.6s\n",
      "[CV 2/3; 306/2700] START C=0.001, l1_ratio=0.7525, max_iter=1000, multi_class=ovr, penalty=l2, solver=lbfgs\n"
     ]
    },
    {
     "name": "stderr",
     "output_type": "stream",
     "text": [
      "C:\\Users\\User\\anaconda3\\lib\\site-packages\\sklearn\\linear_model\\_logistic.py:1165: UserWarning: l1_ratio parameter is only used when penalty is 'elasticnet'. Got (penalty=l2)\n",
      "  warnings.warn(\n"
     ]
    },
    {
     "name": "stdout",
     "output_type": "stream",
     "text": [
      "[CV 2/3; 306/2700] END C=0.001, l1_ratio=0.7525, max_iter=1000, multi_class=ovr, penalty=l2, solver=lbfgs;, score=0.468 total time=   1.3s\n",
      "[CV 3/3; 306/2700] START C=0.001, l1_ratio=0.7525, max_iter=1000, multi_class=ovr, penalty=l2, solver=lbfgs\n"
     ]
    },
    {
     "name": "stderr",
     "output_type": "stream",
     "text": [
      "C:\\Users\\User\\anaconda3\\lib\\site-packages\\sklearn\\linear_model\\_logistic.py:1165: UserWarning: l1_ratio parameter is only used when penalty is 'elasticnet'. Got (penalty=l2)\n",
      "  warnings.warn(\n"
     ]
    },
    {
     "name": "stdout",
     "output_type": "stream",
     "text": [
      "[CV 3/3; 306/2700] END C=0.001, l1_ratio=0.7525, max_iter=1000, multi_class=ovr, penalty=l2, solver=lbfgs;, score=0.464 total time=   1.0s\n",
      "[CV 1/3; 307/2700] START C=0.001, l1_ratio=0.7525, max_iter=1000, multi_class=ovr, penalty=l2, solver=liblinear\n"
     ]
    },
    {
     "name": "stderr",
     "output_type": "stream",
     "text": [
      "C:\\Users\\User\\anaconda3\\lib\\site-packages\\sklearn\\linear_model\\_logistic.py:1165: UserWarning: l1_ratio parameter is only used when penalty is 'elasticnet'. Got (penalty=l2)\n",
      "  warnings.warn(\n"
     ]
    },
    {
     "name": "stdout",
     "output_type": "stream",
     "text": [
      "[CV 1/3; 307/2700] END C=0.001, l1_ratio=0.7525, max_iter=1000, multi_class=ovr, penalty=l2, solver=liblinear;, score=0.469 total time=   0.4s\n",
      "[CV 2/3; 307/2700] START C=0.001, l1_ratio=0.7525, max_iter=1000, multi_class=ovr, penalty=l2, solver=liblinear\n"
     ]
    },
    {
     "name": "stderr",
     "output_type": "stream",
     "text": [
      "C:\\Users\\User\\anaconda3\\lib\\site-packages\\sklearn\\linear_model\\_logistic.py:1165: UserWarning: l1_ratio parameter is only used when penalty is 'elasticnet'. Got (penalty=l2)\n",
      "  warnings.warn(\n"
     ]
    },
    {
     "name": "stdout",
     "output_type": "stream",
     "text": [
      "[CV 2/3; 307/2700] END C=0.001, l1_ratio=0.7525, max_iter=1000, multi_class=ovr, penalty=l2, solver=liblinear;, score=0.467 total time=   0.4s\n",
      "[CV 3/3; 307/2700] START C=0.001, l1_ratio=0.7525, max_iter=1000, multi_class=ovr, penalty=l2, solver=liblinear\n"
     ]
    },
    {
     "name": "stderr",
     "output_type": "stream",
     "text": [
      "C:\\Users\\User\\anaconda3\\lib\\site-packages\\sklearn\\linear_model\\_logistic.py:1165: UserWarning: l1_ratio parameter is only used when penalty is 'elasticnet'. Got (penalty=l2)\n",
      "  warnings.warn(\n"
     ]
    },
    {
     "name": "stdout",
     "output_type": "stream",
     "text": [
      "[CV 3/3; 307/2700] END C=0.001, l1_ratio=0.7525, max_iter=1000, multi_class=ovr, penalty=l2, solver=liblinear;, score=0.465 total time=   0.5s\n",
      "[CV 1/3; 308/2700] START C=0.001, l1_ratio=0.7525, max_iter=1000, multi_class=ovr, penalty=l2, solver=saga\n"
     ]
    },
    {
     "name": "stderr",
     "output_type": "stream",
     "text": [
      "C:\\Users\\User\\anaconda3\\lib\\site-packages\\sklearn\\linear_model\\_logistic.py:1165: UserWarning: l1_ratio parameter is only used when penalty is 'elasticnet'. Got (penalty=l2)\n",
      "  warnings.warn(\n"
     ]
    },
    {
     "ename": "KeyboardInterrupt",
     "evalue": "",
     "output_type": "error",
     "traceback": [
      "\u001b[1;31m---------------------------------------------------------------------------\u001b[0m",
      "\u001b[1;31mKeyboardInterrupt\u001b[0m                         Traceback (most recent call last)",
      "\u001b[1;32m<timed exec>\u001b[0m in \u001b[0;36m<module>\u001b[1;34m\u001b[0m\n",
      "\u001b[1;32m~\\anaconda3\\lib\\site-packages\\sklearn\\model_selection\\_search.py\u001b[0m in \u001b[0;36mfit\u001b[1;34m(self, X, y, groups, **fit_params)\u001b[0m\n\u001b[0;32m    872\u001b[0m                 \u001b[1;32mreturn\u001b[0m \u001b[0mresults\u001b[0m\u001b[1;33m\u001b[0m\u001b[1;33m\u001b[0m\u001b[0m\n\u001b[0;32m    873\u001b[0m \u001b[1;33m\u001b[0m\u001b[0m\n\u001b[1;32m--> 874\u001b[1;33m             \u001b[0mself\u001b[0m\u001b[1;33m.\u001b[0m\u001b[0m_run_search\u001b[0m\u001b[1;33m(\u001b[0m\u001b[0mevaluate_candidates\u001b[0m\u001b[1;33m)\u001b[0m\u001b[1;33m\u001b[0m\u001b[1;33m\u001b[0m\u001b[0m\n\u001b[0m\u001b[0;32m    875\u001b[0m \u001b[1;33m\u001b[0m\u001b[0m\n\u001b[0;32m    876\u001b[0m             \u001b[1;31m# multimetric is determined here because in the case of a callable\u001b[0m\u001b[1;33m\u001b[0m\u001b[1;33m\u001b[0m\u001b[0m\n",
      "\u001b[1;32m~\\anaconda3\\lib\\site-packages\\sklearn\\model_selection\\_search.py\u001b[0m in \u001b[0;36m_run_search\u001b[1;34m(self, evaluate_candidates)\u001b[0m\n\u001b[0;32m   1386\u001b[0m     \u001b[1;32mdef\u001b[0m \u001b[0m_run_search\u001b[0m\u001b[1;33m(\u001b[0m\u001b[0mself\u001b[0m\u001b[1;33m,\u001b[0m \u001b[0mevaluate_candidates\u001b[0m\u001b[1;33m)\u001b[0m\u001b[1;33m:\u001b[0m\u001b[1;33m\u001b[0m\u001b[1;33m\u001b[0m\u001b[0m\n\u001b[0;32m   1387\u001b[0m         \u001b[1;34m\"\"\"Search all candidates in param_grid\"\"\"\u001b[0m\u001b[1;33m\u001b[0m\u001b[1;33m\u001b[0m\u001b[0m\n\u001b[1;32m-> 1388\u001b[1;33m         \u001b[0mevaluate_candidates\u001b[0m\u001b[1;33m(\u001b[0m\u001b[0mParameterGrid\u001b[0m\u001b[1;33m(\u001b[0m\u001b[0mself\u001b[0m\u001b[1;33m.\u001b[0m\u001b[0mparam_grid\u001b[0m\u001b[1;33m)\u001b[0m\u001b[1;33m)\u001b[0m\u001b[1;33m\u001b[0m\u001b[1;33m\u001b[0m\u001b[0m\n\u001b[0m\u001b[0;32m   1389\u001b[0m \u001b[1;33m\u001b[0m\u001b[0m\n\u001b[0;32m   1390\u001b[0m \u001b[1;33m\u001b[0m\u001b[0m\n",
      "\u001b[1;32m~\\anaconda3\\lib\\site-packages\\sklearn\\model_selection\\_search.py\u001b[0m in \u001b[0;36mevaluate_candidates\u001b[1;34m(candidate_params, cv, more_results)\u001b[0m\n\u001b[0;32m    819\u001b[0m                     )\n\u001b[0;32m    820\u001b[0m \u001b[1;33m\u001b[0m\u001b[0m\n\u001b[1;32m--> 821\u001b[1;33m                 out = parallel(\n\u001b[0m\u001b[0;32m    822\u001b[0m                     delayed(_fit_and_score)(\n\u001b[0;32m    823\u001b[0m                         \u001b[0mclone\u001b[0m\u001b[1;33m(\u001b[0m\u001b[0mbase_estimator\u001b[0m\u001b[1;33m)\u001b[0m\u001b[1;33m,\u001b[0m\u001b[1;33m\u001b[0m\u001b[1;33m\u001b[0m\u001b[0m\n",
      "\u001b[1;32m~\\anaconda3\\lib\\site-packages\\sklearn\\utils\\parallel.py\u001b[0m in \u001b[0;36m__call__\u001b[1;34m(self, iterable)\u001b[0m\n\u001b[0;32m     61\u001b[0m             \u001b[1;32mfor\u001b[0m \u001b[0mdelayed_func\u001b[0m\u001b[1;33m,\u001b[0m \u001b[0margs\u001b[0m\u001b[1;33m,\u001b[0m \u001b[0mkwargs\u001b[0m \u001b[1;32min\u001b[0m \u001b[0miterable\u001b[0m\u001b[1;33m\u001b[0m\u001b[1;33m\u001b[0m\u001b[0m\n\u001b[0;32m     62\u001b[0m         )\n\u001b[1;32m---> 63\u001b[1;33m         \u001b[1;32mreturn\u001b[0m \u001b[0msuper\u001b[0m\u001b[1;33m(\u001b[0m\u001b[1;33m)\u001b[0m\u001b[1;33m.\u001b[0m\u001b[0m__call__\u001b[0m\u001b[1;33m(\u001b[0m\u001b[0miterable_with_config\u001b[0m\u001b[1;33m)\u001b[0m\u001b[1;33m\u001b[0m\u001b[1;33m\u001b[0m\u001b[0m\n\u001b[0m\u001b[0;32m     64\u001b[0m \u001b[1;33m\u001b[0m\u001b[0m\n\u001b[0;32m     65\u001b[0m \u001b[1;33m\u001b[0m\u001b[0m\n",
      "\u001b[1;32m~\\anaconda3\\lib\\site-packages\\joblib\\parallel.py\u001b[0m in \u001b[0;36m__call__\u001b[1;34m(self, iterable)\u001b[0m\n\u001b[0;32m   1086\u001b[0m                 \u001b[0mself\u001b[0m\u001b[1;33m.\u001b[0m\u001b[0m_iterating\u001b[0m \u001b[1;33m=\u001b[0m \u001b[0mself\u001b[0m\u001b[1;33m.\u001b[0m\u001b[0m_original_iterator\u001b[0m \u001b[1;32mis\u001b[0m \u001b[1;32mnot\u001b[0m \u001b[1;32mNone\u001b[0m\u001b[1;33m\u001b[0m\u001b[1;33m\u001b[0m\u001b[0m\n\u001b[0;32m   1087\u001b[0m \u001b[1;33m\u001b[0m\u001b[0m\n\u001b[1;32m-> 1088\u001b[1;33m             \u001b[1;32mwhile\u001b[0m \u001b[0mself\u001b[0m\u001b[1;33m.\u001b[0m\u001b[0mdispatch_one_batch\u001b[0m\u001b[1;33m(\u001b[0m\u001b[0miterator\u001b[0m\u001b[1;33m)\u001b[0m\u001b[1;33m:\u001b[0m\u001b[1;33m\u001b[0m\u001b[1;33m\u001b[0m\u001b[0m\n\u001b[0m\u001b[0;32m   1089\u001b[0m                 \u001b[1;32mpass\u001b[0m\u001b[1;33m\u001b[0m\u001b[1;33m\u001b[0m\u001b[0m\n\u001b[0;32m   1090\u001b[0m \u001b[1;33m\u001b[0m\u001b[0m\n",
      "\u001b[1;32m~\\anaconda3\\lib\\site-packages\\joblib\\parallel.py\u001b[0m in \u001b[0;36mdispatch_one_batch\u001b[1;34m(self, iterator)\u001b[0m\n\u001b[0;32m    899\u001b[0m                 \u001b[1;32mreturn\u001b[0m \u001b[1;32mFalse\u001b[0m\u001b[1;33m\u001b[0m\u001b[1;33m\u001b[0m\u001b[0m\n\u001b[0;32m    900\u001b[0m             \u001b[1;32melse\u001b[0m\u001b[1;33m:\u001b[0m\u001b[1;33m\u001b[0m\u001b[1;33m\u001b[0m\u001b[0m\n\u001b[1;32m--> 901\u001b[1;33m                 \u001b[0mself\u001b[0m\u001b[1;33m.\u001b[0m\u001b[0m_dispatch\u001b[0m\u001b[1;33m(\u001b[0m\u001b[0mtasks\u001b[0m\u001b[1;33m)\u001b[0m\u001b[1;33m\u001b[0m\u001b[1;33m\u001b[0m\u001b[0m\n\u001b[0m\u001b[0;32m    902\u001b[0m                 \u001b[1;32mreturn\u001b[0m \u001b[1;32mTrue\u001b[0m\u001b[1;33m\u001b[0m\u001b[1;33m\u001b[0m\u001b[0m\n\u001b[0;32m    903\u001b[0m \u001b[1;33m\u001b[0m\u001b[0m\n",
      "\u001b[1;32m~\\anaconda3\\lib\\site-packages\\joblib\\parallel.py\u001b[0m in \u001b[0;36m_dispatch\u001b[1;34m(self, batch)\u001b[0m\n\u001b[0;32m    817\u001b[0m         \u001b[1;32mwith\u001b[0m \u001b[0mself\u001b[0m\u001b[1;33m.\u001b[0m\u001b[0m_lock\u001b[0m\u001b[1;33m:\u001b[0m\u001b[1;33m\u001b[0m\u001b[1;33m\u001b[0m\u001b[0m\n\u001b[0;32m    818\u001b[0m             \u001b[0mjob_idx\u001b[0m \u001b[1;33m=\u001b[0m \u001b[0mlen\u001b[0m\u001b[1;33m(\u001b[0m\u001b[0mself\u001b[0m\u001b[1;33m.\u001b[0m\u001b[0m_jobs\u001b[0m\u001b[1;33m)\u001b[0m\u001b[1;33m\u001b[0m\u001b[1;33m\u001b[0m\u001b[0m\n\u001b[1;32m--> 819\u001b[1;33m             \u001b[0mjob\u001b[0m \u001b[1;33m=\u001b[0m \u001b[0mself\u001b[0m\u001b[1;33m.\u001b[0m\u001b[0m_backend\u001b[0m\u001b[1;33m.\u001b[0m\u001b[0mapply_async\u001b[0m\u001b[1;33m(\u001b[0m\u001b[0mbatch\u001b[0m\u001b[1;33m,\u001b[0m \u001b[0mcallback\u001b[0m\u001b[1;33m=\u001b[0m\u001b[0mcb\u001b[0m\u001b[1;33m)\u001b[0m\u001b[1;33m\u001b[0m\u001b[1;33m\u001b[0m\u001b[0m\n\u001b[0m\u001b[0;32m    820\u001b[0m             \u001b[1;31m# A job can complete so quickly than its callback is\u001b[0m\u001b[1;33m\u001b[0m\u001b[1;33m\u001b[0m\u001b[0m\n\u001b[0;32m    821\u001b[0m             \u001b[1;31m# called before we get here, causing self._jobs to\u001b[0m\u001b[1;33m\u001b[0m\u001b[1;33m\u001b[0m\u001b[0m\n",
      "\u001b[1;32m~\\anaconda3\\lib\\site-packages\\joblib\\_parallel_backends.py\u001b[0m in \u001b[0;36mapply_async\u001b[1;34m(self, func, callback)\u001b[0m\n\u001b[0;32m    206\u001b[0m     \u001b[1;32mdef\u001b[0m \u001b[0mapply_async\u001b[0m\u001b[1;33m(\u001b[0m\u001b[0mself\u001b[0m\u001b[1;33m,\u001b[0m \u001b[0mfunc\u001b[0m\u001b[1;33m,\u001b[0m \u001b[0mcallback\u001b[0m\u001b[1;33m=\u001b[0m\u001b[1;32mNone\u001b[0m\u001b[1;33m)\u001b[0m\u001b[1;33m:\u001b[0m\u001b[1;33m\u001b[0m\u001b[1;33m\u001b[0m\u001b[0m\n\u001b[0;32m    207\u001b[0m         \u001b[1;34m\"\"\"Schedule a func to be run\"\"\"\u001b[0m\u001b[1;33m\u001b[0m\u001b[1;33m\u001b[0m\u001b[0m\n\u001b[1;32m--> 208\u001b[1;33m         \u001b[0mresult\u001b[0m \u001b[1;33m=\u001b[0m \u001b[0mImmediateResult\u001b[0m\u001b[1;33m(\u001b[0m\u001b[0mfunc\u001b[0m\u001b[1;33m)\u001b[0m\u001b[1;33m\u001b[0m\u001b[1;33m\u001b[0m\u001b[0m\n\u001b[0m\u001b[0;32m    209\u001b[0m         \u001b[1;32mif\u001b[0m \u001b[0mcallback\u001b[0m\u001b[1;33m:\u001b[0m\u001b[1;33m\u001b[0m\u001b[1;33m\u001b[0m\u001b[0m\n\u001b[0;32m    210\u001b[0m             \u001b[0mcallback\u001b[0m\u001b[1;33m(\u001b[0m\u001b[0mresult\u001b[0m\u001b[1;33m)\u001b[0m\u001b[1;33m\u001b[0m\u001b[1;33m\u001b[0m\u001b[0m\n",
      "\u001b[1;32m~\\anaconda3\\lib\\site-packages\\joblib\\_parallel_backends.py\u001b[0m in \u001b[0;36m__init__\u001b[1;34m(self, batch)\u001b[0m\n\u001b[0;32m    595\u001b[0m         \u001b[1;31m# Don't delay the application, to avoid keeping the input\u001b[0m\u001b[1;33m\u001b[0m\u001b[1;33m\u001b[0m\u001b[0m\n\u001b[0;32m    596\u001b[0m         \u001b[1;31m# arguments in memory\u001b[0m\u001b[1;33m\u001b[0m\u001b[1;33m\u001b[0m\u001b[0m\n\u001b[1;32m--> 597\u001b[1;33m         \u001b[0mself\u001b[0m\u001b[1;33m.\u001b[0m\u001b[0mresults\u001b[0m \u001b[1;33m=\u001b[0m \u001b[0mbatch\u001b[0m\u001b[1;33m(\u001b[0m\u001b[1;33m)\u001b[0m\u001b[1;33m\u001b[0m\u001b[1;33m\u001b[0m\u001b[0m\n\u001b[0m\u001b[0;32m    598\u001b[0m \u001b[1;33m\u001b[0m\u001b[0m\n\u001b[0;32m    599\u001b[0m     \u001b[1;32mdef\u001b[0m \u001b[0mget\u001b[0m\u001b[1;33m(\u001b[0m\u001b[0mself\u001b[0m\u001b[1;33m)\u001b[0m\u001b[1;33m:\u001b[0m\u001b[1;33m\u001b[0m\u001b[1;33m\u001b[0m\u001b[0m\n",
      "\u001b[1;32m~\\anaconda3\\lib\\site-packages\\joblib\\parallel.py\u001b[0m in \u001b[0;36m__call__\u001b[1;34m(self)\u001b[0m\n\u001b[0;32m    286\u001b[0m         \u001b[1;31m# change the default number of processes to -1\u001b[0m\u001b[1;33m\u001b[0m\u001b[1;33m\u001b[0m\u001b[0m\n\u001b[0;32m    287\u001b[0m         \u001b[1;32mwith\u001b[0m \u001b[0mparallel_backend\u001b[0m\u001b[1;33m(\u001b[0m\u001b[0mself\u001b[0m\u001b[1;33m.\u001b[0m\u001b[0m_backend\u001b[0m\u001b[1;33m,\u001b[0m \u001b[0mn_jobs\u001b[0m\u001b[1;33m=\u001b[0m\u001b[0mself\u001b[0m\u001b[1;33m.\u001b[0m\u001b[0m_n_jobs\u001b[0m\u001b[1;33m)\u001b[0m\u001b[1;33m:\u001b[0m\u001b[1;33m\u001b[0m\u001b[1;33m\u001b[0m\u001b[0m\n\u001b[1;32m--> 288\u001b[1;33m             return [func(*args, **kwargs)\n\u001b[0m\u001b[0;32m    289\u001b[0m                     for func, args, kwargs in self.items]\n\u001b[0;32m    290\u001b[0m \u001b[1;33m\u001b[0m\u001b[0m\n",
      "\u001b[1;32m~\\anaconda3\\lib\\site-packages\\joblib\\parallel.py\u001b[0m in \u001b[0;36m<listcomp>\u001b[1;34m(.0)\u001b[0m\n\u001b[0;32m    286\u001b[0m         \u001b[1;31m# change the default number of processes to -1\u001b[0m\u001b[1;33m\u001b[0m\u001b[1;33m\u001b[0m\u001b[0m\n\u001b[0;32m    287\u001b[0m         \u001b[1;32mwith\u001b[0m \u001b[0mparallel_backend\u001b[0m\u001b[1;33m(\u001b[0m\u001b[0mself\u001b[0m\u001b[1;33m.\u001b[0m\u001b[0m_backend\u001b[0m\u001b[1;33m,\u001b[0m \u001b[0mn_jobs\u001b[0m\u001b[1;33m=\u001b[0m\u001b[0mself\u001b[0m\u001b[1;33m.\u001b[0m\u001b[0m_n_jobs\u001b[0m\u001b[1;33m)\u001b[0m\u001b[1;33m:\u001b[0m\u001b[1;33m\u001b[0m\u001b[1;33m\u001b[0m\u001b[0m\n\u001b[1;32m--> 288\u001b[1;33m             return [func(*args, **kwargs)\n\u001b[0m\u001b[0;32m    289\u001b[0m                     for func, args, kwargs in self.items]\n\u001b[0;32m    290\u001b[0m \u001b[1;33m\u001b[0m\u001b[0m\n",
      "\u001b[1;32m~\\anaconda3\\lib\\site-packages\\sklearn\\utils\\parallel.py\u001b[0m in \u001b[0;36m__call__\u001b[1;34m(self, *args, **kwargs)\u001b[0m\n\u001b[0;32m    121\u001b[0m             \u001b[0mconfig\u001b[0m \u001b[1;33m=\u001b[0m \u001b[1;33m{\u001b[0m\u001b[1;33m}\u001b[0m\u001b[1;33m\u001b[0m\u001b[1;33m\u001b[0m\u001b[0m\n\u001b[0;32m    122\u001b[0m         \u001b[1;32mwith\u001b[0m \u001b[0mconfig_context\u001b[0m\u001b[1;33m(\u001b[0m\u001b[1;33m**\u001b[0m\u001b[0mconfig\u001b[0m\u001b[1;33m)\u001b[0m\u001b[1;33m:\u001b[0m\u001b[1;33m\u001b[0m\u001b[1;33m\u001b[0m\u001b[0m\n\u001b[1;32m--> 123\u001b[1;33m             \u001b[1;32mreturn\u001b[0m \u001b[0mself\u001b[0m\u001b[1;33m.\u001b[0m\u001b[0mfunction\u001b[0m\u001b[1;33m(\u001b[0m\u001b[1;33m*\u001b[0m\u001b[0margs\u001b[0m\u001b[1;33m,\u001b[0m \u001b[1;33m**\u001b[0m\u001b[0mkwargs\u001b[0m\u001b[1;33m)\u001b[0m\u001b[1;33m\u001b[0m\u001b[1;33m\u001b[0m\u001b[0m\n\u001b[0m",
      "\u001b[1;32m~\\anaconda3\\lib\\site-packages\\sklearn\\model_selection\\_validation.py\u001b[0m in \u001b[0;36m_fit_and_score\u001b[1;34m(estimator, X, y, scorer, train, test, verbose, parameters, fit_params, return_train_score, return_parameters, return_n_test_samples, return_times, return_estimator, split_progress, candidate_progress, error_score)\u001b[0m\n\u001b[0;32m    684\u001b[0m             \u001b[0mestimator\u001b[0m\u001b[1;33m.\u001b[0m\u001b[0mfit\u001b[0m\u001b[1;33m(\u001b[0m\u001b[0mX_train\u001b[0m\u001b[1;33m,\u001b[0m \u001b[1;33m**\u001b[0m\u001b[0mfit_params\u001b[0m\u001b[1;33m)\u001b[0m\u001b[1;33m\u001b[0m\u001b[1;33m\u001b[0m\u001b[0m\n\u001b[0;32m    685\u001b[0m         \u001b[1;32melse\u001b[0m\u001b[1;33m:\u001b[0m\u001b[1;33m\u001b[0m\u001b[1;33m\u001b[0m\u001b[0m\n\u001b[1;32m--> 686\u001b[1;33m             \u001b[0mestimator\u001b[0m\u001b[1;33m.\u001b[0m\u001b[0mfit\u001b[0m\u001b[1;33m(\u001b[0m\u001b[0mX_train\u001b[0m\u001b[1;33m,\u001b[0m \u001b[0my_train\u001b[0m\u001b[1;33m,\u001b[0m \u001b[1;33m**\u001b[0m\u001b[0mfit_params\u001b[0m\u001b[1;33m)\u001b[0m\u001b[1;33m\u001b[0m\u001b[1;33m\u001b[0m\u001b[0m\n\u001b[0m\u001b[0;32m    687\u001b[0m \u001b[1;33m\u001b[0m\u001b[0m\n\u001b[0;32m    688\u001b[0m     \u001b[1;32mexcept\u001b[0m \u001b[0mException\u001b[0m\u001b[1;33m:\u001b[0m\u001b[1;33m\u001b[0m\u001b[1;33m\u001b[0m\u001b[0m\n",
      "\u001b[1;32m~\\anaconda3\\lib\\site-packages\\sklearn\\linear_model\\_logistic.py\u001b[0m in \u001b[0;36mfit\u001b[1;34m(self, X, y, sample_weight)\u001b[0m\n\u001b[0;32m   1289\u001b[0m             \u001b[0mn_threads\u001b[0m \u001b[1;33m=\u001b[0m \u001b[1;36m1\u001b[0m\u001b[1;33m\u001b[0m\u001b[1;33m\u001b[0m\u001b[0m\n\u001b[0;32m   1290\u001b[0m \u001b[1;33m\u001b[0m\u001b[0m\n\u001b[1;32m-> 1291\u001b[1;33m         fold_coefs_ = Parallel(n_jobs=self.n_jobs, verbose=self.verbose, prefer=prefer)(\n\u001b[0m\u001b[0;32m   1292\u001b[0m             path_func(\n\u001b[0;32m   1293\u001b[0m                 \u001b[0mX\u001b[0m\u001b[1;33m,\u001b[0m\u001b[1;33m\u001b[0m\u001b[1;33m\u001b[0m\u001b[0m\n",
      "\u001b[1;32m~\\anaconda3\\lib\\site-packages\\sklearn\\utils\\parallel.py\u001b[0m in \u001b[0;36m__call__\u001b[1;34m(self, iterable)\u001b[0m\n\u001b[0;32m     61\u001b[0m             \u001b[1;32mfor\u001b[0m \u001b[0mdelayed_func\u001b[0m\u001b[1;33m,\u001b[0m \u001b[0margs\u001b[0m\u001b[1;33m,\u001b[0m \u001b[0mkwargs\u001b[0m \u001b[1;32min\u001b[0m \u001b[0miterable\u001b[0m\u001b[1;33m\u001b[0m\u001b[1;33m\u001b[0m\u001b[0m\n\u001b[0;32m     62\u001b[0m         )\n\u001b[1;32m---> 63\u001b[1;33m         \u001b[1;32mreturn\u001b[0m \u001b[0msuper\u001b[0m\u001b[1;33m(\u001b[0m\u001b[1;33m)\u001b[0m\u001b[1;33m.\u001b[0m\u001b[0m__call__\u001b[0m\u001b[1;33m(\u001b[0m\u001b[0miterable_with_config\u001b[0m\u001b[1;33m)\u001b[0m\u001b[1;33m\u001b[0m\u001b[1;33m\u001b[0m\u001b[0m\n\u001b[0m\u001b[0;32m     64\u001b[0m \u001b[1;33m\u001b[0m\u001b[0m\n\u001b[0;32m     65\u001b[0m \u001b[1;33m\u001b[0m\u001b[0m\n",
      "\u001b[1;32m~\\anaconda3\\lib\\site-packages\\joblib\\parallel.py\u001b[0m in \u001b[0;36m__call__\u001b[1;34m(self, iterable)\u001b[0m\n\u001b[0;32m   1083\u001b[0m             \u001b[1;31m# remaining jobs.\u001b[0m\u001b[1;33m\u001b[0m\u001b[1;33m\u001b[0m\u001b[0m\n\u001b[0;32m   1084\u001b[0m             \u001b[0mself\u001b[0m\u001b[1;33m.\u001b[0m\u001b[0m_iterating\u001b[0m \u001b[1;33m=\u001b[0m \u001b[1;32mFalse\u001b[0m\u001b[1;33m\u001b[0m\u001b[1;33m\u001b[0m\u001b[0m\n\u001b[1;32m-> 1085\u001b[1;33m             \u001b[1;32mif\u001b[0m \u001b[0mself\u001b[0m\u001b[1;33m.\u001b[0m\u001b[0mdispatch_one_batch\u001b[0m\u001b[1;33m(\u001b[0m\u001b[0miterator\u001b[0m\u001b[1;33m)\u001b[0m\u001b[1;33m:\u001b[0m\u001b[1;33m\u001b[0m\u001b[1;33m\u001b[0m\u001b[0m\n\u001b[0m\u001b[0;32m   1086\u001b[0m                 \u001b[0mself\u001b[0m\u001b[1;33m.\u001b[0m\u001b[0m_iterating\u001b[0m \u001b[1;33m=\u001b[0m \u001b[0mself\u001b[0m\u001b[1;33m.\u001b[0m\u001b[0m_original_iterator\u001b[0m \u001b[1;32mis\u001b[0m \u001b[1;32mnot\u001b[0m \u001b[1;32mNone\u001b[0m\u001b[1;33m\u001b[0m\u001b[1;33m\u001b[0m\u001b[0m\n\u001b[0;32m   1087\u001b[0m \u001b[1;33m\u001b[0m\u001b[0m\n",
      "\u001b[1;32m~\\anaconda3\\lib\\site-packages\\joblib\\parallel.py\u001b[0m in \u001b[0;36mdispatch_one_batch\u001b[1;34m(self, iterator)\u001b[0m\n\u001b[0;32m    899\u001b[0m                 \u001b[1;32mreturn\u001b[0m \u001b[1;32mFalse\u001b[0m\u001b[1;33m\u001b[0m\u001b[1;33m\u001b[0m\u001b[0m\n\u001b[0;32m    900\u001b[0m             \u001b[1;32melse\u001b[0m\u001b[1;33m:\u001b[0m\u001b[1;33m\u001b[0m\u001b[1;33m\u001b[0m\u001b[0m\n\u001b[1;32m--> 901\u001b[1;33m                 \u001b[0mself\u001b[0m\u001b[1;33m.\u001b[0m\u001b[0m_dispatch\u001b[0m\u001b[1;33m(\u001b[0m\u001b[0mtasks\u001b[0m\u001b[1;33m)\u001b[0m\u001b[1;33m\u001b[0m\u001b[1;33m\u001b[0m\u001b[0m\n\u001b[0m\u001b[0;32m    902\u001b[0m                 \u001b[1;32mreturn\u001b[0m \u001b[1;32mTrue\u001b[0m\u001b[1;33m\u001b[0m\u001b[1;33m\u001b[0m\u001b[0m\n\u001b[0;32m    903\u001b[0m \u001b[1;33m\u001b[0m\u001b[0m\n",
      "\u001b[1;32m~\\anaconda3\\lib\\site-packages\\joblib\\parallel.py\u001b[0m in \u001b[0;36m_dispatch\u001b[1;34m(self, batch)\u001b[0m\n\u001b[0;32m    817\u001b[0m         \u001b[1;32mwith\u001b[0m \u001b[0mself\u001b[0m\u001b[1;33m.\u001b[0m\u001b[0m_lock\u001b[0m\u001b[1;33m:\u001b[0m\u001b[1;33m\u001b[0m\u001b[1;33m\u001b[0m\u001b[0m\n\u001b[0;32m    818\u001b[0m             \u001b[0mjob_idx\u001b[0m \u001b[1;33m=\u001b[0m \u001b[0mlen\u001b[0m\u001b[1;33m(\u001b[0m\u001b[0mself\u001b[0m\u001b[1;33m.\u001b[0m\u001b[0m_jobs\u001b[0m\u001b[1;33m)\u001b[0m\u001b[1;33m\u001b[0m\u001b[1;33m\u001b[0m\u001b[0m\n\u001b[1;32m--> 819\u001b[1;33m             \u001b[0mjob\u001b[0m \u001b[1;33m=\u001b[0m \u001b[0mself\u001b[0m\u001b[1;33m.\u001b[0m\u001b[0m_backend\u001b[0m\u001b[1;33m.\u001b[0m\u001b[0mapply_async\u001b[0m\u001b[1;33m(\u001b[0m\u001b[0mbatch\u001b[0m\u001b[1;33m,\u001b[0m \u001b[0mcallback\u001b[0m\u001b[1;33m=\u001b[0m\u001b[0mcb\u001b[0m\u001b[1;33m)\u001b[0m\u001b[1;33m\u001b[0m\u001b[1;33m\u001b[0m\u001b[0m\n\u001b[0m\u001b[0;32m    820\u001b[0m             \u001b[1;31m# A job can complete so quickly than its callback is\u001b[0m\u001b[1;33m\u001b[0m\u001b[1;33m\u001b[0m\u001b[0m\n\u001b[0;32m    821\u001b[0m             \u001b[1;31m# called before we get here, causing self._jobs to\u001b[0m\u001b[1;33m\u001b[0m\u001b[1;33m\u001b[0m\u001b[0m\n",
      "\u001b[1;32m~\\anaconda3\\lib\\site-packages\\joblib\\_parallel_backends.py\u001b[0m in \u001b[0;36mapply_async\u001b[1;34m(self, func, callback)\u001b[0m\n\u001b[0;32m    206\u001b[0m     \u001b[1;32mdef\u001b[0m \u001b[0mapply_async\u001b[0m\u001b[1;33m(\u001b[0m\u001b[0mself\u001b[0m\u001b[1;33m,\u001b[0m \u001b[0mfunc\u001b[0m\u001b[1;33m,\u001b[0m \u001b[0mcallback\u001b[0m\u001b[1;33m=\u001b[0m\u001b[1;32mNone\u001b[0m\u001b[1;33m)\u001b[0m\u001b[1;33m:\u001b[0m\u001b[1;33m\u001b[0m\u001b[1;33m\u001b[0m\u001b[0m\n\u001b[0;32m    207\u001b[0m         \u001b[1;34m\"\"\"Schedule a func to be run\"\"\"\u001b[0m\u001b[1;33m\u001b[0m\u001b[1;33m\u001b[0m\u001b[0m\n\u001b[1;32m--> 208\u001b[1;33m         \u001b[0mresult\u001b[0m \u001b[1;33m=\u001b[0m \u001b[0mImmediateResult\u001b[0m\u001b[1;33m(\u001b[0m\u001b[0mfunc\u001b[0m\u001b[1;33m)\u001b[0m\u001b[1;33m\u001b[0m\u001b[1;33m\u001b[0m\u001b[0m\n\u001b[0m\u001b[0;32m    209\u001b[0m         \u001b[1;32mif\u001b[0m \u001b[0mcallback\u001b[0m\u001b[1;33m:\u001b[0m\u001b[1;33m\u001b[0m\u001b[1;33m\u001b[0m\u001b[0m\n\u001b[0;32m    210\u001b[0m             \u001b[0mcallback\u001b[0m\u001b[1;33m(\u001b[0m\u001b[0mresult\u001b[0m\u001b[1;33m)\u001b[0m\u001b[1;33m\u001b[0m\u001b[1;33m\u001b[0m\u001b[0m\n",
      "\u001b[1;32m~\\anaconda3\\lib\\site-packages\\joblib\\_parallel_backends.py\u001b[0m in \u001b[0;36m__init__\u001b[1;34m(self, batch)\u001b[0m\n\u001b[0;32m    595\u001b[0m         \u001b[1;31m# Don't delay the application, to avoid keeping the input\u001b[0m\u001b[1;33m\u001b[0m\u001b[1;33m\u001b[0m\u001b[0m\n\u001b[0;32m    596\u001b[0m         \u001b[1;31m# arguments in memory\u001b[0m\u001b[1;33m\u001b[0m\u001b[1;33m\u001b[0m\u001b[0m\n\u001b[1;32m--> 597\u001b[1;33m         \u001b[0mself\u001b[0m\u001b[1;33m.\u001b[0m\u001b[0mresults\u001b[0m \u001b[1;33m=\u001b[0m \u001b[0mbatch\u001b[0m\u001b[1;33m(\u001b[0m\u001b[1;33m)\u001b[0m\u001b[1;33m\u001b[0m\u001b[1;33m\u001b[0m\u001b[0m\n\u001b[0m\u001b[0;32m    598\u001b[0m \u001b[1;33m\u001b[0m\u001b[0m\n\u001b[0;32m    599\u001b[0m     \u001b[1;32mdef\u001b[0m \u001b[0mget\u001b[0m\u001b[1;33m(\u001b[0m\u001b[0mself\u001b[0m\u001b[1;33m)\u001b[0m\u001b[1;33m:\u001b[0m\u001b[1;33m\u001b[0m\u001b[1;33m\u001b[0m\u001b[0m\n",
      "\u001b[1;32m~\\anaconda3\\lib\\site-packages\\joblib\\parallel.py\u001b[0m in \u001b[0;36m__call__\u001b[1;34m(self)\u001b[0m\n\u001b[0;32m    286\u001b[0m         \u001b[1;31m# change the default number of processes to -1\u001b[0m\u001b[1;33m\u001b[0m\u001b[1;33m\u001b[0m\u001b[0m\n\u001b[0;32m    287\u001b[0m         \u001b[1;32mwith\u001b[0m \u001b[0mparallel_backend\u001b[0m\u001b[1;33m(\u001b[0m\u001b[0mself\u001b[0m\u001b[1;33m.\u001b[0m\u001b[0m_backend\u001b[0m\u001b[1;33m,\u001b[0m \u001b[0mn_jobs\u001b[0m\u001b[1;33m=\u001b[0m\u001b[0mself\u001b[0m\u001b[1;33m.\u001b[0m\u001b[0m_n_jobs\u001b[0m\u001b[1;33m)\u001b[0m\u001b[1;33m:\u001b[0m\u001b[1;33m\u001b[0m\u001b[1;33m\u001b[0m\u001b[0m\n\u001b[1;32m--> 288\u001b[1;33m             return [func(*args, **kwargs)\n\u001b[0m\u001b[0;32m    289\u001b[0m                     for func, args, kwargs in self.items]\n\u001b[0;32m    290\u001b[0m \u001b[1;33m\u001b[0m\u001b[0m\n",
      "\u001b[1;32m~\\anaconda3\\lib\\site-packages\\joblib\\parallel.py\u001b[0m in \u001b[0;36m<listcomp>\u001b[1;34m(.0)\u001b[0m\n\u001b[0;32m    286\u001b[0m         \u001b[1;31m# change the default number of processes to -1\u001b[0m\u001b[1;33m\u001b[0m\u001b[1;33m\u001b[0m\u001b[0m\n\u001b[0;32m    287\u001b[0m         \u001b[1;32mwith\u001b[0m \u001b[0mparallel_backend\u001b[0m\u001b[1;33m(\u001b[0m\u001b[0mself\u001b[0m\u001b[1;33m.\u001b[0m\u001b[0m_backend\u001b[0m\u001b[1;33m,\u001b[0m \u001b[0mn_jobs\u001b[0m\u001b[1;33m=\u001b[0m\u001b[0mself\u001b[0m\u001b[1;33m.\u001b[0m\u001b[0m_n_jobs\u001b[0m\u001b[1;33m)\u001b[0m\u001b[1;33m:\u001b[0m\u001b[1;33m\u001b[0m\u001b[1;33m\u001b[0m\u001b[0m\n\u001b[1;32m--> 288\u001b[1;33m             return [func(*args, **kwargs)\n\u001b[0m\u001b[0;32m    289\u001b[0m                     for func, args, kwargs in self.items]\n\u001b[0;32m    290\u001b[0m \u001b[1;33m\u001b[0m\u001b[0m\n",
      "\u001b[1;32m~\\anaconda3\\lib\\site-packages\\sklearn\\utils\\parallel.py\u001b[0m in \u001b[0;36m__call__\u001b[1;34m(self, *args, **kwargs)\u001b[0m\n\u001b[0;32m    121\u001b[0m             \u001b[0mconfig\u001b[0m \u001b[1;33m=\u001b[0m \u001b[1;33m{\u001b[0m\u001b[1;33m}\u001b[0m\u001b[1;33m\u001b[0m\u001b[1;33m\u001b[0m\u001b[0m\n\u001b[0;32m    122\u001b[0m         \u001b[1;32mwith\u001b[0m \u001b[0mconfig_context\u001b[0m\u001b[1;33m(\u001b[0m\u001b[1;33m**\u001b[0m\u001b[0mconfig\u001b[0m\u001b[1;33m)\u001b[0m\u001b[1;33m:\u001b[0m\u001b[1;33m\u001b[0m\u001b[1;33m\u001b[0m\u001b[0m\n\u001b[1;32m--> 123\u001b[1;33m             \u001b[1;32mreturn\u001b[0m \u001b[0mself\u001b[0m\u001b[1;33m.\u001b[0m\u001b[0mfunction\u001b[0m\u001b[1;33m(\u001b[0m\u001b[1;33m*\u001b[0m\u001b[0margs\u001b[0m\u001b[1;33m,\u001b[0m \u001b[1;33m**\u001b[0m\u001b[0mkwargs\u001b[0m\u001b[1;33m)\u001b[0m\u001b[1;33m\u001b[0m\u001b[1;33m\u001b[0m\u001b[0m\n\u001b[0m",
      "\u001b[1;32m~\\anaconda3\\lib\\site-packages\\sklearn\\linear_model\\_logistic.py\u001b[0m in \u001b[0;36m_logistic_regression_path\u001b[1;34m(X, y, pos_class, Cs, fit_intercept, max_iter, tol, verbose, solver, coef, class_weight, dual, penalty, intercept_scaling, multi_class, random_state, check_input, max_squared_sum, sample_weight, l1_ratio, n_threads)\u001b[0m\n\u001b[0;32m    522\u001b[0m                 \u001b[0mbeta\u001b[0m \u001b[1;33m=\u001b[0m \u001b[1;33m(\u001b[0m\u001b[1;36m1.0\u001b[0m \u001b[1;33m/\u001b[0m \u001b[0mC\u001b[0m\u001b[1;33m)\u001b[0m \u001b[1;33m*\u001b[0m \u001b[0ml1_ratio\u001b[0m\u001b[1;33m\u001b[0m\u001b[1;33m\u001b[0m\u001b[0m\n\u001b[0;32m    523\u001b[0m \u001b[1;33m\u001b[0m\u001b[0m\n\u001b[1;32m--> 524\u001b[1;33m             w0, n_iter_i, warm_start_sag = sag_solver(\n\u001b[0m\u001b[0;32m    525\u001b[0m                 \u001b[0mX\u001b[0m\u001b[1;33m,\u001b[0m\u001b[1;33m\u001b[0m\u001b[1;33m\u001b[0m\u001b[0m\n\u001b[0;32m    526\u001b[0m                 \u001b[0mtarget\u001b[0m\u001b[1;33m,\u001b[0m\u001b[1;33m\u001b[0m\u001b[1;33m\u001b[0m\u001b[0m\n",
      "\u001b[1;32m~\\anaconda3\\lib\\site-packages\\sklearn\\linear_model\\_sag.py\u001b[0m in \u001b[0;36msag_solver\u001b[1;34m(X, y, sample_weight, loss, alpha, beta, max_iter, tol, verbose, random_state, check_input, max_squared_sum, warm_start_mem, is_saga)\u001b[0m\n\u001b[0;32m    323\u001b[0m \u001b[1;33m\u001b[0m\u001b[0m\n\u001b[0;32m    324\u001b[0m     \u001b[0msag\u001b[0m \u001b[1;33m=\u001b[0m \u001b[0msag64\u001b[0m \u001b[1;32mif\u001b[0m \u001b[0mX\u001b[0m\u001b[1;33m.\u001b[0m\u001b[0mdtype\u001b[0m \u001b[1;33m==\u001b[0m \u001b[0mnp\u001b[0m\u001b[1;33m.\u001b[0m\u001b[0mfloat64\u001b[0m \u001b[1;32melse\u001b[0m \u001b[0msag32\u001b[0m\u001b[1;33m\u001b[0m\u001b[1;33m\u001b[0m\u001b[0m\n\u001b[1;32m--> 325\u001b[1;33m     num_seen, n_iter_ = sag(\n\u001b[0m\u001b[0;32m    326\u001b[0m         \u001b[0mdataset\u001b[0m\u001b[1;33m,\u001b[0m\u001b[1;33m\u001b[0m\u001b[1;33m\u001b[0m\u001b[0m\n\u001b[0;32m    327\u001b[0m         \u001b[0mcoef_init\u001b[0m\u001b[1;33m,\u001b[0m\u001b[1;33m\u001b[0m\u001b[1;33m\u001b[0m\u001b[0m\n",
      "\u001b[1;31mKeyboardInterrupt\u001b[0m: "
     ]
    }
   ],
   "source": [
    "%%time\n",
    "lrc = LogisticRegression(random_state=123)\n",
    "\n",
    "crange = [0.001, 0.01, 0.1, 1.0, 10.0, 100.0]\n",
    "params = [{'multi_class': ['ovr', 'multinomial'],\n",
    "          'max_iter': [100, 1000, 10000],\n",
    "           'C': crange,\n",
    "          'penalty':['l1', 'l2', 'elasticnet'],\n",
    "          'solver': ['lbfgs', 'liblinear', 'saga', 'sag', 'newton-cholesky'],\n",
    "          'l1_ratio': [0.01, 0.2575, 0.505 , 0.7525, 1.0 ]}]\n",
    "\n",
    "gs = GridSearchCV(estimator=lrc,\n",
    "                  param_grid=params,\n",
    "                  scoring='accuracy',\n",
    "                  cv=3, verbose=2000)\n",
    "\n",
    "gs.fit(X_train, y_train)"
   ]
  },
  {
   "cell_type": "code",
   "execution_count": 51,
   "id": "a7b0e883",
   "metadata": {},
   "outputs": [
    {
     "data": {
      "text/html": [
       "<style>#sk-container-id-3 {color: black;background-color: white;}#sk-container-id-3 pre{padding: 0;}#sk-container-id-3 div.sk-toggleable {background-color: white;}#sk-container-id-3 label.sk-toggleable__label {cursor: pointer;display: block;width: 100%;margin-bottom: 0;padding: 0.3em;box-sizing: border-box;text-align: center;}#sk-container-id-3 label.sk-toggleable__label-arrow:before {content: \"▸\";float: left;margin-right: 0.25em;color: #696969;}#sk-container-id-3 label.sk-toggleable__label-arrow:hover:before {color: black;}#sk-container-id-3 div.sk-estimator:hover label.sk-toggleable__label-arrow:before {color: black;}#sk-container-id-3 div.sk-toggleable__content {max-height: 0;max-width: 0;overflow: hidden;text-align: left;background-color: #f0f8ff;}#sk-container-id-3 div.sk-toggleable__content pre {margin: 0.2em;color: black;border-radius: 0.25em;background-color: #f0f8ff;}#sk-container-id-3 input.sk-toggleable__control:checked~div.sk-toggleable__content {max-height: 200px;max-width: 100%;overflow: auto;}#sk-container-id-3 input.sk-toggleable__control:checked~label.sk-toggleable__label-arrow:before {content: \"▾\";}#sk-container-id-3 div.sk-estimator input.sk-toggleable__control:checked~label.sk-toggleable__label {background-color: #d4ebff;}#sk-container-id-3 div.sk-label input.sk-toggleable__control:checked~label.sk-toggleable__label {background-color: #d4ebff;}#sk-container-id-3 input.sk-hidden--visually {border: 0;clip: rect(1px 1px 1px 1px);clip: rect(1px, 1px, 1px, 1px);height: 1px;margin: -1px;overflow: hidden;padding: 0;position: absolute;width: 1px;}#sk-container-id-3 div.sk-estimator {font-family: monospace;background-color: #f0f8ff;border: 1px dotted black;border-radius: 0.25em;box-sizing: border-box;margin-bottom: 0.5em;}#sk-container-id-3 div.sk-estimator:hover {background-color: #d4ebff;}#sk-container-id-3 div.sk-parallel-item::after {content: \"\";width: 100%;border-bottom: 1px solid gray;flex-grow: 1;}#sk-container-id-3 div.sk-label:hover label.sk-toggleable__label {background-color: #d4ebff;}#sk-container-id-3 div.sk-serial::before {content: \"\";position: absolute;border-left: 1px solid gray;box-sizing: border-box;top: 0;bottom: 0;left: 50%;z-index: 0;}#sk-container-id-3 div.sk-serial {display: flex;flex-direction: column;align-items: center;background-color: white;padding-right: 0.2em;padding-left: 0.2em;position: relative;}#sk-container-id-3 div.sk-item {position: relative;z-index: 1;}#sk-container-id-3 div.sk-parallel {display: flex;align-items: stretch;justify-content: center;background-color: white;position: relative;}#sk-container-id-3 div.sk-item::before, #sk-container-id-3 div.sk-parallel-item::before {content: \"\";position: absolute;border-left: 1px solid gray;box-sizing: border-box;top: 0;bottom: 0;left: 50%;z-index: -1;}#sk-container-id-3 div.sk-parallel-item {display: flex;flex-direction: column;z-index: 1;position: relative;background-color: white;}#sk-container-id-3 div.sk-parallel-item:first-child::after {align-self: flex-end;width: 50%;}#sk-container-id-3 div.sk-parallel-item:last-child::after {align-self: flex-start;width: 50%;}#sk-container-id-3 div.sk-parallel-item:only-child::after {width: 0;}#sk-container-id-3 div.sk-dashed-wrapped {border: 1px dashed gray;margin: 0 0.4em 0.5em 0.4em;box-sizing: border-box;padding-bottom: 0.4em;background-color: white;}#sk-container-id-3 div.sk-label label {font-family: monospace;font-weight: bold;display: inline-block;line-height: 1.2em;}#sk-container-id-3 div.sk-label-container {text-align: center;}#sk-container-id-3 div.sk-container {/* jupyter's `normalize.less` sets `[hidden] { display: none; }` but bootstrap.min.css set `[hidden] { display: none !important; }` so we also need the `!important` here to be able to override the default hidden behavior on the sphinx rendered scikit-learn.org. See: https://github.com/scikit-learn/scikit-learn/issues/21755 */display: inline-block !important;position: relative;}#sk-container-id-3 div.sk-text-repr-fallback {display: none;}</style><div id=\"sk-container-id-3\" class=\"sk-top-container\"><div class=\"sk-text-repr-fallback\"><pre>GridSearchCV(cv=3, estimator=LogisticRegression(random_state=123),\n",
       "             param_grid=[{&#x27;C&#x27;: [0.001, 0.01, 0.1, 1.0, 10.0, 100.0],\n",
       "                          &#x27;l1_ratio&#x27;: [0.01, 0.2575, 0.505, 0.7525, 1.0],\n",
       "                          &#x27;max_iter&#x27;: [100, 1000, 10000],\n",
       "                          &#x27;multi_class&#x27;: [&#x27;ovr&#x27;, &#x27;multinomial&#x27;],\n",
       "                          &#x27;penalty&#x27;: [&#x27;l1&#x27;, &#x27;l2&#x27;, &#x27;elasticnet&#x27;],\n",
       "                          &#x27;solver&#x27;: [&#x27;lbfgs&#x27;, &#x27;liblinear&#x27;, &#x27;saga&#x27;, &#x27;sag&#x27;,\n",
       "                                     &#x27;newton-cholesky&#x27;]}],\n",
       "             scoring=&#x27;accuracy&#x27;, verbose=2000)</pre><b>In a Jupyter environment, please rerun this cell to show the HTML representation or trust the notebook. <br />On GitHub, the HTML representation is unable to render, please try loading this page with nbviewer.org.</b></div><div class=\"sk-container\" hidden><div class=\"sk-item sk-dashed-wrapped\"><div class=\"sk-label-container\"><div class=\"sk-label sk-toggleable\"><input class=\"sk-toggleable__control sk-hidden--visually\" id=\"sk-estimator-id-5\" type=\"checkbox\" ><label for=\"sk-estimator-id-5\" class=\"sk-toggleable__label sk-toggleable__label-arrow\">GridSearchCV</label><div class=\"sk-toggleable__content\"><pre>GridSearchCV(cv=3, estimator=LogisticRegression(random_state=123),\n",
       "             param_grid=[{&#x27;C&#x27;: [0.001, 0.01, 0.1, 1.0, 10.0, 100.0],\n",
       "                          &#x27;l1_ratio&#x27;: [0.01, 0.2575, 0.505, 0.7525, 1.0],\n",
       "                          &#x27;max_iter&#x27;: [100, 1000, 10000],\n",
       "                          &#x27;multi_class&#x27;: [&#x27;ovr&#x27;, &#x27;multinomial&#x27;],\n",
       "                          &#x27;penalty&#x27;: [&#x27;l1&#x27;, &#x27;l2&#x27;, &#x27;elasticnet&#x27;],\n",
       "                          &#x27;solver&#x27;: [&#x27;lbfgs&#x27;, &#x27;liblinear&#x27;, &#x27;saga&#x27;, &#x27;sag&#x27;,\n",
       "                                     &#x27;newton-cholesky&#x27;]}],\n",
       "             scoring=&#x27;accuracy&#x27;, verbose=2000)</pre></div></div></div><div class=\"sk-parallel\"><div class=\"sk-parallel-item\"><div class=\"sk-item\"><div class=\"sk-label-container\"><div class=\"sk-label sk-toggleable\"><input class=\"sk-toggleable__control sk-hidden--visually\" id=\"sk-estimator-id-6\" type=\"checkbox\" ><label for=\"sk-estimator-id-6\" class=\"sk-toggleable__label sk-toggleable__label-arrow\">estimator: LogisticRegression</label><div class=\"sk-toggleable__content\"><pre>LogisticRegression(random_state=123)</pre></div></div></div><div class=\"sk-serial\"><div class=\"sk-item\"><div class=\"sk-estimator sk-toggleable\"><input class=\"sk-toggleable__control sk-hidden--visually\" id=\"sk-estimator-id-7\" type=\"checkbox\" ><label for=\"sk-estimator-id-7\" class=\"sk-toggleable__label sk-toggleable__label-arrow\">LogisticRegression</label><div class=\"sk-toggleable__content\"><pre>LogisticRegression(random_state=123)</pre></div></div></div></div></div></div></div></div></div></div>"
      ],
      "text/plain": [
       "GridSearchCV(cv=3, estimator=LogisticRegression(random_state=123),\n",
       "             param_grid=[{'C': [0.001, 0.01, 0.1, 1.0, 10.0, 100.0],\n",
       "                          'l1_ratio': [0.01, 0.2575, 0.505, 0.7525, 1.0],\n",
       "                          'max_iter': [100, 1000, 10000],\n",
       "                          'multi_class': ['ovr', 'multinomial'],\n",
       "                          'penalty': ['l1', 'l2', 'elasticnet'],\n",
       "                          'solver': ['lbfgs', 'liblinear', 'saga', 'sag',\n",
       "                                     'newton-cholesky']}],\n",
       "             scoring='accuracy', verbose=2000)"
      ]
     },
     "execution_count": 51,
     "metadata": {},
     "output_type": "execute_result"
    }
   ],
   "source": [
    "gs"
   ]
  },
  {
   "cell_type": "code",
   "execution_count": 38,
   "id": "7494ee5b",
   "metadata": {
    "scrolled": true
   },
   "outputs": [
    {
     "data": {
      "text/plain": [
       "array([0.01  , 0.2575, 0.505 , 0.7525, 1.    ])"
      ]
     },
     "execution_count": 38,
     "metadata": {},
     "output_type": "execute_result"
    }
   ],
   "source": [
    "np.linspace(0.01, 1.0, 5)"
   ]
  },
  {
   "cell_type": "code",
   "execution_count": null,
   "id": "56362b32",
   "metadata": {},
   "outputs": [],
   "source": []
  }
 ],
 "metadata": {
  "kernelspec": {
   "display_name": "Python 3 (ipykernel)",
   "language": "python",
   "name": "python3"
  },
  "language_info": {
   "codemirror_mode": {
    "name": "ipython",
    "version": 3
   },
   "file_extension": ".py",
   "mimetype": "text/x-python",
   "name": "python",
   "nbconvert_exporter": "python",
   "pygments_lexer": "ipython3",
   "version": "3.9.16"
  }
 },
 "nbformat": 4,
 "nbformat_minor": 5
}
