{
 "cells": [
  {
   "cell_type": "code",
   "execution_count": 1,
   "id": "17057796-513e-4e1c-8cfa-3b7d30e7ed91",
   "metadata": {},
   "outputs": [],
   "source": [
    "import xgboost as xgb\n",
    "from sklearn.utils.class_weight import compute_class_weight\n",
    "from sklearn.model_selection import train_test_split, StratifiedKFold\n",
    "from sklearn.preprocessing import LabelEncoder\n",
    "from sklearn.metrics import classification_report, f1_score, recall_score, precision_score, confusion_matrix\n",
    "\n",
    "from scipy.stats import chi2_contingency\n",
    "\n",
    "from preprocess import extra_features, separate\n",
    "from pipelines import preprocessor, preprocessor2"
   ]
  },
  {
   "cell_type": "code",
   "execution_count": 2,
   "id": "f827fed1-771b-4e5e-ac8e-66545008a39f",
   "metadata": {},
   "outputs": [
    {
     "data": {
      "application/javascript": [
       "\n",
       "        if (window._pyforest_update_imports_cell) { window._pyforest_update_imports_cell('import pandas as pd'); }\n",
       "    "
      ],
      "text/plain": [
       "<IPython.core.display.Javascript object>"
      ]
     },
     "metadata": {},
     "output_type": "display_data"
    },
    {
     "name": "stdout",
     "output_type": "stream",
     "text": [
      "Target Column: ['cost_category']\n",
      "\n",
      "Numerical Columns: ['night_mainland', 'night_zanzibar', 'total_nights']\n",
      "\n",
      "Categorical Columns: ['age_group', 'travel_with', 'tour_arrangement', 'package_transport_int', 'package_accomodation', 'package_food', 'package_transport_tz', 'package_sightseeing', 'package_guided_tour', 'package_insurance', 'first_trip_tz', 'trip_length', 'group_size']\n",
      "\n",
      "Text Columns: ['country', 'purpose', 'main_activity', 'info_source']\n"
     ]
    }
   ],
   "source": [
    "train=pd.read_csv('Datasets/train.csv')\n",
    "train=extra_features(train)\n",
    "separate(train)"
   ]
  },
  {
   "cell_type": "code",
   "execution_count": 3,
   "id": "64b2e949-3c9f-4ba6-a428-6925f0426ef0",
   "metadata": {},
   "outputs": [
    {
     "data": {
      "text/html": [
       "<div>\n",
       "<style scoped>\n",
       "    .dataframe tbody tr th:only-of-type {\n",
       "        vertical-align: middle;\n",
       "    }\n",
       "\n",
       "    .dataframe tbody tr th {\n",
       "        vertical-align: top;\n",
       "    }\n",
       "\n",
       "    .dataframe thead th {\n",
       "        text-align: right;\n",
       "    }\n",
       "</style>\n",
       "<table border=\"1\" class=\"dataframe\">\n",
       "  <thead>\n",
       "    <tr style=\"text-align: right;\">\n",
       "      <th></th>\n",
       "      <th>country</th>\n",
       "      <th>age_group</th>\n",
       "      <th>travel_with</th>\n",
       "      <th>purpose</th>\n",
       "      <th>main_activity</th>\n",
       "      <th>info_source</th>\n",
       "      <th>tour_arrangement</th>\n",
       "      <th>package_transport_int</th>\n",
       "      <th>package_accomodation</th>\n",
       "      <th>package_food</th>\n",
       "      <th>package_transport_tz</th>\n",
       "      <th>package_sightseeing</th>\n",
       "      <th>package_guided_tour</th>\n",
       "      <th>package_insurance</th>\n",
       "      <th>night_mainland</th>\n",
       "      <th>night_zanzibar</th>\n",
       "      <th>first_trip_tz</th>\n",
       "      <th>total_nights</th>\n",
       "      <th>total_people</th>\n",
       "    </tr>\n",
       "    <tr>\n",
       "      <th>Tour_ID</th>\n",
       "      <th></th>\n",
       "      <th></th>\n",
       "      <th></th>\n",
       "      <th></th>\n",
       "      <th></th>\n",
       "      <th></th>\n",
       "      <th></th>\n",
       "      <th></th>\n",
       "      <th></th>\n",
       "      <th></th>\n",
       "      <th></th>\n",
       "      <th></th>\n",
       "      <th></th>\n",
       "      <th></th>\n",
       "      <th></th>\n",
       "      <th></th>\n",
       "      <th></th>\n",
       "      <th></th>\n",
       "      <th></th>\n",
       "    </tr>\n",
       "  </thead>\n",
       "  <tbody>\n",
       "    <tr>\n",
       "      <th>tour_id1hffseyw</th>\n",
       "      <td>ITALY</td>\n",
       "      <td>45-64</td>\n",
       "      <td>With Children</td>\n",
       "      <td>Visiting Friends and Relatives</td>\n",
       "      <td>Beach Tourism</td>\n",
       "      <td>Friends, relatives</td>\n",
       "      <td>Package Tour</td>\n",
       "      <td>Yes</td>\n",
       "      <td>Yes</td>\n",
       "      <td>Yes</td>\n",
       "      <td>Yes</td>\n",
       "      <td>No</td>\n",
       "      <td>No</td>\n",
       "      <td>No</td>\n",
       "      <td>0</td>\n",
       "      <td>7</td>\n",
       "      <td>Yes</td>\n",
       "      <td>7</td>\n",
       "      <td>2.0</td>\n",
       "    </tr>\n",
       "    <tr>\n",
       "      <th>tour_idnacd7zag</th>\n",
       "      <td>UNITED KINGDOM</td>\n",
       "      <td>25-44</td>\n",
       "      <td>With Spouse</td>\n",
       "      <td>Leisure and Holidays</td>\n",
       "      <td>Wildlife Tourism</td>\n",
       "      <td>Travel agent, tour operator</td>\n",
       "      <td>Package Tour</td>\n",
       "      <td>Yes</td>\n",
       "      <td>Yes</td>\n",
       "      <td>Yes</td>\n",
       "      <td>Yes</td>\n",
       "      <td>No</td>\n",
       "      <td>No</td>\n",
       "      <td>No</td>\n",
       "      <td>0</td>\n",
       "      <td>7</td>\n",
       "      <td>Yes</td>\n",
       "      <td>7</td>\n",
       "      <td>2.0</td>\n",
       "    </tr>\n",
       "  </tbody>\n",
       "</table>\n",
       "</div>"
      ],
      "text/plain": [
       "                        country age_group    travel_with  \\\n",
       "Tour_ID                                                    \n",
       "tour_id1hffseyw           ITALY     45-64  With Children   \n",
       "tour_idnacd7zag  UNITED KINGDOM     25-44    With Spouse   \n",
       "\n",
       "                                        purpose     main_activity  \\\n",
       "Tour_ID                                                             \n",
       "tour_id1hffseyw  Visiting Friends and Relatives     Beach Tourism   \n",
       "tour_idnacd7zag            Leisure and Holidays  Wildlife Tourism   \n",
       "\n",
       "                                 info_source tour_arrangement  \\\n",
       "Tour_ID                                                         \n",
       "tour_id1hffseyw           Friends, relatives     Package Tour   \n",
       "tour_idnacd7zag  Travel agent, tour operator     Package Tour   \n",
       "\n",
       "                package_transport_int package_accomodation package_food  \\\n",
       "Tour_ID                                                                   \n",
       "tour_id1hffseyw                   Yes                  Yes          Yes   \n",
       "tour_idnacd7zag                   Yes                  Yes          Yes   \n",
       "\n",
       "                package_transport_tz package_sightseeing package_guided_tour  \\\n",
       "Tour_ID                                                                        \n",
       "tour_id1hffseyw                  Yes                  No                  No   \n",
       "tour_idnacd7zag                  Yes                  No                  No   \n",
       "\n",
       "                package_insurance  night_mainland  night_zanzibar  \\\n",
       "Tour_ID                                                             \n",
       "tour_id1hffseyw                No               0               7   \n",
       "tour_idnacd7zag                No               0               7   \n",
       "\n",
       "                first_trip_tz  total_nights  total_people  \n",
       "Tour_ID                                                    \n",
       "tour_id1hffseyw           Yes             7           2.0  \n",
       "tour_idnacd7zag           Yes             7           2.0  "
      ]
     },
     "execution_count": 3,
     "metadata": {},
     "output_type": "execute_result"
    }
   ],
   "source": [
    "train.drop(columns= ['trip_length', 'group_size','total_male', 'total_female'], inplace=True)\n",
    "X=train.drop('cost_category', axis=1)\n",
    "X.head(2)"
   ]
  },
  {
   "cell_type": "code",
   "execution_count": 4,
   "id": "57fef921-d454-46ba-9bac-f65a3ac3b269",
   "metadata": {},
   "outputs": [
    {
     "data": {
      "text/plain": [
       "(18506, 19)"
      ]
     },
     "execution_count": 4,
     "metadata": {},
     "output_type": "execute_result"
    }
   ],
   "source": [
    "X.shape"
   ]
  },
  {
   "cell_type": "code",
   "execution_count": 5,
   "id": "3369f5aa-73c7-4e75-bdfd-da96518dda7b",
   "metadata": {},
   "outputs": [
    {
     "data": {
      "text/plain": [
       "(18506, 148)"
      ]
     },
     "execution_count": 5,
     "metadata": {},
     "output_type": "execute_result"
    }
   ],
   "source": [
    "X=preprocessor2(X)\n",
    "X.shape"
   ]
  },
  {
   "cell_type": "code",
   "execution_count": 6,
   "id": "9fb563ca-4188-474c-8669-1f4a18bbef70",
   "metadata": {},
   "outputs": [
    {
     "data": {
      "text/plain": [
       "(18506,)"
      ]
     },
     "execution_count": 6,
     "metadata": {},
     "output_type": "execute_result"
    }
   ],
   "source": [
    "y= train['cost_category']\n",
    "y.shape"
   ]
  },
  {
   "cell_type": "code",
   "execution_count": 7,
   "id": "0230dbb4-bdea-45f1-ae35-91cb76f230b1",
   "metadata": {},
   "outputs": [
    {
     "data": {
      "text/plain": [
       "array([0, 0, 1, ..., 1, 1, 3])"
      ]
     },
     "execution_count": 7,
     "metadata": {},
     "output_type": "execute_result"
    }
   ],
   "source": [
    "le=LabelEncoder()\n",
    "y=le.fit_transform(y).astype('int')\n",
    "y"
   ]
  },
  {
   "cell_type": "code",
   "execution_count": 8,
   "id": "4a986254-07bb-4ca9-a9d0-94bcdae56bfb",
   "metadata": {},
   "outputs": [
    {
     "data": {
      "text/plain": [
       "['High Cost',\n",
       " 'Higher Cost',\n",
       " 'Highest Cost',\n",
       " 'Low Cost',\n",
       " 'Lower Cost',\n",
       " 'Normal Cost']"
      ]
     },
     "execution_count": 8,
     "metadata": {},
     "output_type": "execute_result"
    }
   ],
   "source": [
    "list(le.classes_)"
   ]
  },
  {
   "cell_type": "code",
   "execution_count": 9,
   "id": "cf09c92b-f453-42d1-b342-20751940379e",
   "metadata": {},
   "outputs": [
    {
     "data": {
      "text/plain": [
       "array(['High Cost', 'High Cost', 'Higher Cost', ..., 'Higher Cost',\n",
       "       'Higher Cost', 'Low Cost'], dtype=object)"
      ]
     },
     "execution_count": 9,
     "metadata": {},
     "output_type": "execute_result"
    }
   ],
   "source": [
    "z=le.inverse_transform(y)\n",
    "z"
   ]
  },
  {
   "cell_type": "code",
   "execution_count": 10,
   "id": "80326cd0-fc6d-4832-baf7-15d99e8398b3",
   "metadata": {},
   "outputs": [],
   "source": [
    "X_train, X_test, y_train, y_test=train_test_split(X, y, test_size=0.2, random_state=42)"
   ]
  },
  {
   "cell_type": "code",
   "execution_count": 18,
   "id": "072ab336-e605-40a8-9950-b7b30e60807a",
   "metadata": {},
   "outputs": [
    {
     "name": "stderr",
     "output_type": "stream",
     "text": [
      "C:\\Users\\User\\AppData\\Roaming\\Python\\Python39\\site-packages\\xgboost\\sklearn.py:835: UserWarning: `early_stopping_rounds` in `fit` method is deprecated for better compatibility with scikit-learn, use `early_stopping_rounds` in constructor or`set_params` instead.\n",
      "  warnings.warn(\n"
     ]
    },
    {
     "name": "stdout",
     "output_type": "stream",
     "text": [
      "[0]\tvalidation_0-mlogloss:1.70564\n",
      "[1]\tvalidation_0-mlogloss:1.63501\n",
      "[2]\tvalidation_0-mlogloss:1.57589\n",
      "[3]\tvalidation_0-mlogloss:1.52498\n",
      "[4]\tvalidation_0-mlogloss:1.48143\n",
      "[5]\tvalidation_0-mlogloss:1.44338\n",
      "[6]\tvalidation_0-mlogloss:1.41091\n",
      "[7]\tvalidation_0-mlogloss:1.38177\n",
      "[8]\tvalidation_0-mlogloss:1.35639\n",
      "[9]\tvalidation_0-mlogloss:1.33339\n",
      "[10]\tvalidation_0-mlogloss:1.31277\n",
      "[11]\tvalidation_0-mlogloss:1.29463\n",
      "[12]\tvalidation_0-mlogloss:1.27833\n",
      "[13]\tvalidation_0-mlogloss:1.26392\n",
      "[14]\tvalidation_0-mlogloss:1.25074\n",
      "[15]\tvalidation_0-mlogloss:1.23874\n",
      "[16]\tvalidation_0-mlogloss:1.22760\n",
      "[17]\tvalidation_0-mlogloss:1.21745\n",
      "[18]\tvalidation_0-mlogloss:1.20832\n",
      "[19]\tvalidation_0-mlogloss:1.20017\n",
      "[20]\tvalidation_0-mlogloss:1.19291\n",
      "[21]\tvalidation_0-mlogloss:1.18593\n",
      "[22]\tvalidation_0-mlogloss:1.17966\n",
      "[23]\tvalidation_0-mlogloss:1.17404\n",
      "[24]\tvalidation_0-mlogloss:1.16878\n",
      "[25]\tvalidation_0-mlogloss:1.16424\n",
      "[26]\tvalidation_0-mlogloss:1.15966\n",
      "[27]\tvalidation_0-mlogloss:1.15605\n",
      "[28]\tvalidation_0-mlogloss:1.15231\n",
      "[29]\tvalidation_0-mlogloss:1.14892\n",
      "[30]\tvalidation_0-mlogloss:1.14592\n",
      "[31]\tvalidation_0-mlogloss:1.14295\n",
      "[32]\tvalidation_0-mlogloss:1.14016\n",
      "[33]\tvalidation_0-mlogloss:1.13762\n",
      "[34]\tvalidation_0-mlogloss:1.13502\n",
      "[35]\tvalidation_0-mlogloss:1.13282\n",
      "[36]\tvalidation_0-mlogloss:1.13120\n",
      "[37]\tvalidation_0-mlogloss:1.12937\n",
      "[38]\tvalidation_0-mlogloss:1.12780\n",
      "[39]\tvalidation_0-mlogloss:1.12641\n",
      "[40]\tvalidation_0-mlogloss:1.12511\n",
      "[41]\tvalidation_0-mlogloss:1.12409\n",
      "[42]\tvalidation_0-mlogloss:1.12297\n",
      "[43]\tvalidation_0-mlogloss:1.12185\n",
      "[44]\tvalidation_0-mlogloss:1.12105\n",
      "[45]\tvalidation_0-mlogloss:1.12030\n",
      "[46]\tvalidation_0-mlogloss:1.11967\n",
      "[47]\tvalidation_0-mlogloss:1.11902\n",
      "[48]\tvalidation_0-mlogloss:1.11820\n",
      "[49]\tvalidation_0-mlogloss:1.11761\n",
      "[50]\tvalidation_0-mlogloss:1.11731\n",
      "[51]\tvalidation_0-mlogloss:1.11676\n",
      "[52]\tvalidation_0-mlogloss:1.11630\n",
      "[53]\tvalidation_0-mlogloss:1.11581\n",
      "[54]\tvalidation_0-mlogloss:1.11540\n",
      "[55]\tvalidation_0-mlogloss:1.11488\n",
      "[56]\tvalidation_0-mlogloss:1.11454\n",
      "[57]\tvalidation_0-mlogloss:1.11403\n",
      "[58]\tvalidation_0-mlogloss:1.11391\n",
      "[59]\tvalidation_0-mlogloss:1.11371\n",
      "[60]\tvalidation_0-mlogloss:1.11353\n",
      "[61]\tvalidation_0-mlogloss:1.11324\n",
      "[62]\tvalidation_0-mlogloss:1.11296\n",
      "[63]\tvalidation_0-mlogloss:1.11277\n",
      "[64]\tvalidation_0-mlogloss:1.11267\n",
      "[65]\tvalidation_0-mlogloss:1.11242\n",
      "[66]\tvalidation_0-mlogloss:1.11257\n",
      "[67]\tvalidation_0-mlogloss:1.11255\n",
      "[68]\tvalidation_0-mlogloss:1.11246\n",
      "[69]\tvalidation_0-mlogloss:1.11242\n",
      "[70]\tvalidation_0-mlogloss:1.11232\n",
      "[71]\tvalidation_0-mlogloss:1.11240\n",
      "[72]\tvalidation_0-mlogloss:1.11233\n",
      "[73]\tvalidation_0-mlogloss:1.11227\n",
      "[74]\tvalidation_0-mlogloss:1.11223\n",
      "[75]\tvalidation_0-mlogloss:1.11213\n",
      "[76]\tvalidation_0-mlogloss:1.11204\n",
      "[77]\tvalidation_0-mlogloss:1.11207\n",
      "[78]\tvalidation_0-mlogloss:1.11222\n",
      "[79]\tvalidation_0-mlogloss:1.11216\n",
      "[80]\tvalidation_0-mlogloss:1.11227\n",
      "[81]\tvalidation_0-mlogloss:1.11271\n",
      "[82]\tvalidation_0-mlogloss:1.11257\n",
      "[83]\tvalidation_0-mlogloss:1.11257\n",
      "[84]\tvalidation_0-mlogloss:1.11284\n",
      "[85]\tvalidation_0-mlogloss:1.11297\n",
      "[86]\tvalidation_0-mlogloss:1.11311\n",
      "[87]\tvalidation_0-mlogloss:1.11333\n",
      "[88]\tvalidation_0-mlogloss:1.11351\n",
      "[89]\tvalidation_0-mlogloss:1.11356\n",
      "[90]\tvalidation_0-mlogloss:1.11351\n",
      "[91]\tvalidation_0-mlogloss:1.11366\n",
      "[92]\tvalidation_0-mlogloss:1.11349\n",
      "[93]\tvalidation_0-mlogloss:1.11344\n",
      "[94]\tvalidation_0-mlogloss:1.11348\n",
      "[95]\tvalidation_0-mlogloss:1.11358\n",
      "[96]\tvalidation_0-mlogloss:1.11370\n",
      "[97]\tvalidation_0-mlogloss:1.11377\n",
      "[98]\tvalidation_0-mlogloss:1.11382\n",
      "[99]\tvalidation_0-mlogloss:1.11388\n",
      "[100]\tvalidation_0-mlogloss:1.11401\n",
      "[101]\tvalidation_0-mlogloss:1.11434\n",
      "[102]\tvalidation_0-mlogloss:1.11428\n",
      "[103]\tvalidation_0-mlogloss:1.11439\n",
      "[104]\tvalidation_0-mlogloss:1.11442\n",
      "[105]\tvalidation_0-mlogloss:1.11425\n",
      "[106]\tvalidation_0-mlogloss:1.11449\n",
      "[107]\tvalidation_0-mlogloss:1.11459\n",
      "[108]\tvalidation_0-mlogloss:1.11453\n",
      "[109]\tvalidation_0-mlogloss:1.11450\n",
      "[110]\tvalidation_0-mlogloss:1.11449\n",
      "[111]\tvalidation_0-mlogloss:1.11463\n",
      "[112]\tvalidation_0-mlogloss:1.11461\n",
      "[113]\tvalidation_0-mlogloss:1.11488\n",
      "[114]\tvalidation_0-mlogloss:1.11499\n",
      "[115]\tvalidation_0-mlogloss:1.11507\n",
      "[116]\tvalidation_0-mlogloss:1.11534\n",
      "[117]\tvalidation_0-mlogloss:1.11552\n",
      "[118]\tvalidation_0-mlogloss:1.11559\n",
      "[119]\tvalidation_0-mlogloss:1.11584\n",
      "[120]\tvalidation_0-mlogloss:1.11586\n",
      "[121]\tvalidation_0-mlogloss:1.11605\n",
      "[122]\tvalidation_0-mlogloss:1.11617\n",
      "[123]\tvalidation_0-mlogloss:1.11626\n",
      "[124]\tvalidation_0-mlogloss:1.11622\n",
      "[125]\tvalidation_0-mlogloss:1.11632\n",
      "[126]\tvalidation_0-mlogloss:1.11647\n"
     ]
    },
    {
     "data": {
      "text/html": [
       "<style>#sk-container-id-1 {color: black;background-color: white;}#sk-container-id-1 pre{padding: 0;}#sk-container-id-1 div.sk-toggleable {background-color: white;}#sk-container-id-1 label.sk-toggleable__label {cursor: pointer;display: block;width: 100%;margin-bottom: 0;padding: 0.3em;box-sizing: border-box;text-align: center;}#sk-container-id-1 label.sk-toggleable__label-arrow:before {content: \"▸\";float: left;margin-right: 0.25em;color: #696969;}#sk-container-id-1 label.sk-toggleable__label-arrow:hover:before {color: black;}#sk-container-id-1 div.sk-estimator:hover label.sk-toggleable__label-arrow:before {color: black;}#sk-container-id-1 div.sk-toggleable__content {max-height: 0;max-width: 0;overflow: hidden;text-align: left;background-color: #f0f8ff;}#sk-container-id-1 div.sk-toggleable__content pre {margin: 0.2em;color: black;border-radius: 0.25em;background-color: #f0f8ff;}#sk-container-id-1 input.sk-toggleable__control:checked~div.sk-toggleable__content {max-height: 200px;max-width: 100%;overflow: auto;}#sk-container-id-1 input.sk-toggleable__control:checked~label.sk-toggleable__label-arrow:before {content: \"▾\";}#sk-container-id-1 div.sk-estimator input.sk-toggleable__control:checked~label.sk-toggleable__label {background-color: #d4ebff;}#sk-container-id-1 div.sk-label input.sk-toggleable__control:checked~label.sk-toggleable__label {background-color: #d4ebff;}#sk-container-id-1 input.sk-hidden--visually {border: 0;clip: rect(1px 1px 1px 1px);clip: rect(1px, 1px, 1px, 1px);height: 1px;margin: -1px;overflow: hidden;padding: 0;position: absolute;width: 1px;}#sk-container-id-1 div.sk-estimator {font-family: monospace;background-color: #f0f8ff;border: 1px dotted black;border-radius: 0.25em;box-sizing: border-box;margin-bottom: 0.5em;}#sk-container-id-1 div.sk-estimator:hover {background-color: #d4ebff;}#sk-container-id-1 div.sk-parallel-item::after {content: \"\";width: 100%;border-bottom: 1px solid gray;flex-grow: 1;}#sk-container-id-1 div.sk-label:hover label.sk-toggleable__label {background-color: #d4ebff;}#sk-container-id-1 div.sk-serial::before {content: \"\";position: absolute;border-left: 1px solid gray;box-sizing: border-box;top: 0;bottom: 0;left: 50%;z-index: 0;}#sk-container-id-1 div.sk-serial {display: flex;flex-direction: column;align-items: center;background-color: white;padding-right: 0.2em;padding-left: 0.2em;position: relative;}#sk-container-id-1 div.sk-item {position: relative;z-index: 1;}#sk-container-id-1 div.sk-parallel {display: flex;align-items: stretch;justify-content: center;background-color: white;position: relative;}#sk-container-id-1 div.sk-item::before, #sk-container-id-1 div.sk-parallel-item::before {content: \"\";position: absolute;border-left: 1px solid gray;box-sizing: border-box;top: 0;bottom: 0;left: 50%;z-index: -1;}#sk-container-id-1 div.sk-parallel-item {display: flex;flex-direction: column;z-index: 1;position: relative;background-color: white;}#sk-container-id-1 div.sk-parallel-item:first-child::after {align-self: flex-end;width: 50%;}#sk-container-id-1 div.sk-parallel-item:last-child::after {align-self: flex-start;width: 50%;}#sk-container-id-1 div.sk-parallel-item:only-child::after {width: 0;}#sk-container-id-1 div.sk-dashed-wrapped {border: 1px dashed gray;margin: 0 0.4em 0.5em 0.4em;box-sizing: border-box;padding-bottom: 0.4em;background-color: white;}#sk-container-id-1 div.sk-label label {font-family: monospace;font-weight: bold;display: inline-block;line-height: 1.2em;}#sk-container-id-1 div.sk-label-container {text-align: center;}#sk-container-id-1 div.sk-container {/* jupyter's `normalize.less` sets `[hidden] { display: none; }` but bootstrap.min.css set `[hidden] { display: none !important; }` so we also need the `!important` here to be able to override the default hidden behavior on the sphinx rendered scikit-learn.org. See: https://github.com/scikit-learn/scikit-learn/issues/21755 */display: inline-block !important;position: relative;}#sk-container-id-1 div.sk-text-repr-fallback {display: none;}</style><div id=\"sk-container-id-1\" class=\"sk-top-container\"><div class=\"sk-text-repr-fallback\"><pre>XGBClassifier(base_score=None, booster=None, callbacks=None,\n",
       "              colsample_bylevel=None, colsample_bynode=None,\n",
       "              colsample_bytree=None, early_stopping_rounds=None,\n",
       "              enable_categorical=False, eval_metric=None, feature_types=None,\n",
       "              gamma=None, gpu_id=None, grow_policy=None, importance_type=None,\n",
       "              interaction_constraints=None, learning_rate=0.1, max_bin=None,\n",
       "              max_cat_threshold=None, max_cat_to_onehot=None,\n",
       "              max_delta_step=None, max_depth=8, max_leaves=None,\n",
       "              min_child_weight=None, missing=nan, monotone_constraints=None,\n",
       "              n_estimators=600, n_jobs=None, num_parallel_tree=None,\n",
       "              objective=&#x27;multi:softprob&#x27;, predictor=None, ...)</pre><b>In a Jupyter environment, please rerun this cell to show the HTML representation or trust the notebook. <br />On GitHub, the HTML representation is unable to render, please try loading this page with nbviewer.org.</b></div><div class=\"sk-container\" hidden><div class=\"sk-item\"><div class=\"sk-estimator sk-toggleable\"><input class=\"sk-toggleable__control sk-hidden--visually\" id=\"sk-estimator-id-1\" type=\"checkbox\" checked><label for=\"sk-estimator-id-1\" class=\"sk-toggleable__label sk-toggleable__label-arrow\">XGBClassifier</label><div class=\"sk-toggleable__content\"><pre>XGBClassifier(base_score=None, booster=None, callbacks=None,\n",
       "              colsample_bylevel=None, colsample_bynode=None,\n",
       "              colsample_bytree=None, early_stopping_rounds=None,\n",
       "              enable_categorical=False, eval_metric=None, feature_types=None,\n",
       "              gamma=None, gpu_id=None, grow_policy=None, importance_type=None,\n",
       "              interaction_constraints=None, learning_rate=0.1, max_bin=None,\n",
       "              max_cat_threshold=None, max_cat_to_onehot=None,\n",
       "              max_delta_step=None, max_depth=8, max_leaves=None,\n",
       "              min_child_weight=None, missing=nan, monotone_constraints=None,\n",
       "              n_estimators=600, n_jobs=None, num_parallel_tree=None,\n",
       "              objective=&#x27;multi:softprob&#x27;, predictor=None, ...)</pre></div></div></div></div></div>"
      ],
      "text/plain": [
       "XGBClassifier(base_score=None, booster=None, callbacks=None,\n",
       "              colsample_bylevel=None, colsample_bynode=None,\n",
       "              colsample_bytree=None, early_stopping_rounds=None,\n",
       "              enable_categorical=False, eval_metric=None, feature_types=None,\n",
       "              gamma=None, gpu_id=None, grow_policy=None, importance_type=None,\n",
       "              interaction_constraints=None, learning_rate=0.1, max_bin=None,\n",
       "              max_cat_threshold=None, max_cat_to_onehot=None,\n",
       "              max_delta_step=None, max_depth=8, max_leaves=None,\n",
       "              min_child_weight=None, missing=nan, monotone_constraints=None,\n",
       "              n_estimators=600, n_jobs=None, num_parallel_tree=None,\n",
       "              objective='multi:softprob', predictor=None, ...)"
      ]
     },
     "execution_count": 18,
     "metadata": {},
     "output_type": "execute_result"
    }
   ],
   "source": [
    "from xgboost import XGBClassifier\n",
    "\n",
    "model= XGBClassifier(n_estimators=600,\n",
    "                 max_depth=8,\n",
    "                 learning_rate=0.1)\n",
    "\n",
    "model.fit(X_train, y_train, eval_set=[(X_test, y_test)], early_stopping_rounds=50)"
   ]
  },
  {
   "cell_type": "code",
   "execution_count": 19,
   "id": "b9b67fb4-78c4-413e-9973-cf158f374465",
   "metadata": {},
   "outputs": [],
   "source": [
    "y_pred=model.predict(X_test)"
   ]
  },
  {
   "cell_type": "code",
   "execution_count": 20,
   "id": "46d0f1a8-fe2b-4908-af71-8a27e40cf416",
   "metadata": {},
   "outputs": [
    {
     "name": "stdout",
     "output_type": "stream",
     "text": [
      "              precision    recall  f1-score   support\n",
      "\n",
      "           0       0.51      0.35      0.41       763\n",
      "           1       0.60      0.74      0.66       955\n",
      "           2       0.31      0.04      0.08        89\n",
      "           3       0.25      0.04      0.08       294\n",
      "           4       0.59      0.63      0.61       489\n",
      "           5       0.55      0.71      0.62      1112\n",
      "\n",
      "    accuracy                           0.56      3702\n",
      "   macro avg       0.47      0.42      0.41      3702\n",
      "weighted avg       0.53      0.56      0.53      3702\n",
      "\n"
     ]
    }
   ],
   "source": [
    "print(classification_report(y_test, y_pred))"
   ]
  },
  {
   "cell_type": "code",
   "execution_count": 21,
   "id": "7079b243-9e0e-49fb-a2da-6260beb4006b",
   "metadata": {},
   "outputs": [
    {
     "data": {
      "text/plain": [
       "array([[266, 259,   2,   1,   9, 226],\n",
       "       [130, 707,   4,   1,   2, 111],\n",
       "       [ 13,  70,   4,   0,   0,   2],\n",
       "       [ 12,   9,   0,  13, 102, 158],\n",
       "       [ 10,  21,   1,  11, 308, 138],\n",
       "       [ 92, 106,   2,  25, 101, 786]], dtype=int64)"
      ]
     },
     "execution_count": 21,
     "metadata": {},
     "output_type": "execute_result"
    }
   ],
   "source": [
    "cm=confusion_matrix(y_test, y_pred)\n",
    "cm"
   ]
  },
  {
   "cell_type": "code",
   "execution_count": 22,
   "id": "a0c4f707-0dc0-4e52-ac02-3fcdac0b527f",
   "metadata": {},
   "outputs": [
    {
     "data": {
      "application/javascript": [
       "\n",
       "        if (window._pyforest_update_imports_cell) { window._pyforest_update_imports_cell('import seaborn as sns\\nimport pandas as pd'); }\n",
       "    "
      ],
      "text/plain": [
       "<IPython.core.display.Javascript object>"
      ]
     },
     "metadata": {},
     "output_type": "display_data"
    },
    {
     "data": {
      "application/javascript": [
       "\n",
       "        if (window._pyforest_update_imports_cell) { window._pyforest_update_imports_cell('import seaborn as sns\\nimport pandas as pd\\nimport matplotlib.pyplot as plt'); }\n",
       "    "
      ],
      "text/plain": [
       "<IPython.core.display.Javascript object>"
      ]
     },
     "metadata": {},
     "output_type": "display_data"
    },
    {
     "data": {
      "image/png": "[encoded data removed]",
      "text/plain": [
       "<Figure size 640x480 with 1 Axes>"
      ]
     },
     "metadata": {},
     "output_type": "display_data"
    }
   ],
   "source": [
    "sns.heatmap(cm.T, annot=True, fmt='d', cbar=False)\n",
    "plt.show();"
   ]
  },
  {
   "cell_type": "code",
   "execution_count": 23,
   "id": "ab3fa14c-c491-4c4c-a9ad-dab940a52213",
   "metadata": {},
   "outputs": [],
   "source": [
    "kfold=StratifiedKFold(n_splits=10, shuffle=True)"
   ]
  },
  {
   "cell_type": "code",
   "execution_count": 24,
   "id": "8f1de69f-1bb2-4411-83d2-dead6b9229e2",
   "metadata": {},
   "outputs": [],
   "source": [
    "for fold, (train_idx, val_idx) in enumerate(kfold.split(X,y)):\n",
    "    X_train, X_test= X[train_idx], X[val_idx]\n",
    "    y_train, y_test = y[train_idx], y[val_idx]"
   ]
  },
  {
   "cell_type": "code",
   "execution_count": 27,
   "id": "3e1797dc-bd3c-4864-b296-43677ac05057",
   "metadata": {},
   "outputs": [
    {
     "name": "stdout",
     "output_type": "stream",
     "text": [
      "[0]\tvalidation_0-mlogloss:1.70433\n"
     ]
    },
    {
     "name": "stderr",
     "output_type": "stream",
     "text": [
      "C:\\Users\\User\\AppData\\Roaming\\Python\\Python39\\site-packages\\xgboost\\sklearn.py:835: UserWarning: `early_stopping_rounds` in `fit` method is deprecated for better compatibility with scikit-learn, use `early_stopping_rounds` in constructor or`set_params` instead.\n",
      "  warnings.warn(\n"
     ]
    },
    {
     "name": "stdout",
     "output_type": "stream",
     "text": [
      "[1]\tvalidation_0-mlogloss:1.63368\n",
      "[2]\tvalidation_0-mlogloss:1.57547\n",
      "[3]\tvalidation_0-mlogloss:1.52480\n",
      "[4]\tvalidation_0-mlogloss:1.48119\n",
      "[5]\tvalidation_0-mlogloss:1.44356\n",
      "[6]\tvalidation_0-mlogloss:1.41100\n",
      "[7]\tvalidation_0-mlogloss:1.38159\n",
      "[8]\tvalidation_0-mlogloss:1.35584\n",
      "[9]\tvalidation_0-mlogloss:1.33367\n",
      "[10]\tvalidation_0-mlogloss:1.31403\n",
      "[11]\tvalidation_0-mlogloss:1.29618\n",
      "[12]\tvalidation_0-mlogloss:1.28000\n",
      "[13]\tvalidation_0-mlogloss:1.26549\n",
      "[14]\tvalidation_0-mlogloss:1.25232\n",
      "[15]\tvalidation_0-mlogloss:1.24102\n",
      "[16]\tvalidation_0-mlogloss:1.23112\n",
      "[17]\tvalidation_0-mlogloss:1.22163\n",
      "[18]\tvalidation_0-mlogloss:1.21310\n",
      "[19]\tvalidation_0-mlogloss:1.20546\n",
      "[20]\tvalidation_0-mlogloss:1.19755\n",
      "[21]\tvalidation_0-mlogloss:1.19123\n",
      "[22]\tvalidation_0-mlogloss:1.18523\n",
      "[23]\tvalidation_0-mlogloss:1.17948\n",
      "[24]\tvalidation_0-mlogloss:1.17458\n",
      "[25]\tvalidation_0-mlogloss:1.17005\n",
      "[26]\tvalidation_0-mlogloss:1.16559\n",
      "[27]\tvalidation_0-mlogloss:1.16200\n",
      "[28]\tvalidation_0-mlogloss:1.15794\n",
      "[29]\tvalidation_0-mlogloss:1.15485\n",
      "[30]\tvalidation_0-mlogloss:1.15235\n",
      "[31]\tvalidation_0-mlogloss:1.14992\n",
      "[32]\tvalidation_0-mlogloss:1.14812\n",
      "[33]\tvalidation_0-mlogloss:1.14595\n",
      "[34]\tvalidation_0-mlogloss:1.14378\n",
      "[35]\tvalidation_0-mlogloss:1.14224\n",
      "[36]\tvalidation_0-mlogloss:1.14048\n",
      "[37]\tvalidation_0-mlogloss:1.13886\n",
      "[38]\tvalidation_0-mlogloss:1.13712\n",
      "[39]\tvalidation_0-mlogloss:1.13584\n",
      "[40]\tvalidation_0-mlogloss:1.13513\n",
      "[41]\tvalidation_0-mlogloss:1.13424\n",
      "[42]\tvalidation_0-mlogloss:1.13365\n",
      "[43]\tvalidation_0-mlogloss:1.13290\n",
      "[44]\tvalidation_0-mlogloss:1.13258\n",
      "[45]\tvalidation_0-mlogloss:1.13229\n",
      "[46]\tvalidation_0-mlogloss:1.13186\n",
      "[47]\tvalidation_0-mlogloss:1.13132\n",
      "[48]\tvalidation_0-mlogloss:1.13135\n",
      "[49]\tvalidation_0-mlogloss:1.13091\n",
      "[50]\tvalidation_0-mlogloss:1.13071\n",
      "[51]\tvalidation_0-mlogloss:1.13071\n",
      "[52]\tvalidation_0-mlogloss:1.13043\n",
      "[53]\tvalidation_0-mlogloss:1.13023\n",
      "[54]\tvalidation_0-mlogloss:1.13020\n",
      "[55]\tvalidation_0-mlogloss:1.12981\n",
      "[56]\tvalidation_0-mlogloss:1.12974\n",
      "[57]\tvalidation_0-mlogloss:1.12969\n",
      "[58]\tvalidation_0-mlogloss:1.12955\n",
      "[59]\tvalidation_0-mlogloss:1.12981\n",
      "[60]\tvalidation_0-mlogloss:1.12980\n",
      "[61]\tvalidation_0-mlogloss:1.12962\n",
      "[62]\tvalidation_0-mlogloss:1.12953\n",
      "[63]\tvalidation_0-mlogloss:1.12970\n",
      "[64]\tvalidation_0-mlogloss:1.12969\n",
      "[65]\tvalidation_0-mlogloss:1.12960\n",
      "[66]\tvalidation_0-mlogloss:1.12952\n",
      "[67]\tvalidation_0-mlogloss:1.12951\n",
      "[68]\tvalidation_0-mlogloss:1.12989\n",
      "[69]\tvalidation_0-mlogloss:1.12972\n",
      "[70]\tvalidation_0-mlogloss:1.13014\n",
      "[71]\tvalidation_0-mlogloss:1.13054\n",
      "[72]\tvalidation_0-mlogloss:1.13058\n",
      "[73]\tvalidation_0-mlogloss:1.13056\n",
      "[74]\tvalidation_0-mlogloss:1.13069\n",
      "[75]\tvalidation_0-mlogloss:1.13102\n",
      "[76]\tvalidation_0-mlogloss:1.13097\n",
      "[77]\tvalidation_0-mlogloss:1.13108\n",
      "[78]\tvalidation_0-mlogloss:1.13102\n",
      "[79]\tvalidation_0-mlogloss:1.13153\n",
      "[80]\tvalidation_0-mlogloss:1.13180\n",
      "[81]\tvalidation_0-mlogloss:1.13196\n",
      "[82]\tvalidation_0-mlogloss:1.13202\n",
      "[83]\tvalidation_0-mlogloss:1.13221\n",
      "[84]\tvalidation_0-mlogloss:1.13255\n",
      "[85]\tvalidation_0-mlogloss:1.13272\n",
      "[86]\tvalidation_0-mlogloss:1.13269\n",
      "[87]\tvalidation_0-mlogloss:1.13320\n",
      "[88]\tvalidation_0-mlogloss:1.13361\n",
      "[89]\tvalidation_0-mlogloss:1.13373\n",
      "[90]\tvalidation_0-mlogloss:1.13382\n",
      "[91]\tvalidation_0-mlogloss:1.13402\n",
      "[92]\tvalidation_0-mlogloss:1.13402\n",
      "[93]\tvalidation_0-mlogloss:1.13416\n",
      "[94]\tvalidation_0-mlogloss:1.13417\n",
      "[95]\tvalidation_0-mlogloss:1.13419\n",
      "[96]\tvalidation_0-mlogloss:1.13446\n",
      "[97]\tvalidation_0-mlogloss:1.13493\n",
      "[98]\tvalidation_0-mlogloss:1.13521\n",
      "[99]\tvalidation_0-mlogloss:1.13535\n",
      "[100]\tvalidation_0-mlogloss:1.13536\n",
      "[101]\tvalidation_0-mlogloss:1.13544\n",
      "[102]\tvalidation_0-mlogloss:1.13555\n",
      "[103]\tvalidation_0-mlogloss:1.13537\n",
      "[104]\tvalidation_0-mlogloss:1.13546\n",
      "[105]\tvalidation_0-mlogloss:1.13591\n",
      "[106]\tvalidation_0-mlogloss:1.13613\n",
      "[107]\tvalidation_0-mlogloss:1.13627\n",
      "[108]\tvalidation_0-mlogloss:1.13620\n",
      "[109]\tvalidation_0-mlogloss:1.13637\n",
      "[110]\tvalidation_0-mlogloss:1.13669\n",
      "[111]\tvalidation_0-mlogloss:1.13683\n",
      "[112]\tvalidation_0-mlogloss:1.13704\n",
      "[113]\tvalidation_0-mlogloss:1.13709\n",
      "[114]\tvalidation_0-mlogloss:1.13734\n",
      "[115]\tvalidation_0-mlogloss:1.13770\n",
      "[116]\tvalidation_0-mlogloss:1.13774\n",
      "[117]\tvalidation_0-mlogloss:1.13779\n"
     ]
    },
    {
     "data": {
      "text/html": [
       "<style>#sk-container-id-2 {color: black;background-color: white;}#sk-container-id-2 pre{padding: 0;}#sk-container-id-2 div.sk-toggleable {background-color: white;}#sk-container-id-2 label.sk-toggleable__label {cursor: pointer;display: block;width: 100%;margin-bottom: 0;padding: 0.3em;box-sizing: border-box;text-align: center;}#sk-container-id-2 label.sk-toggleable__label-arrow:before {content: \"▸\";float: left;margin-right: 0.25em;color: #696969;}#sk-container-id-2 label.sk-toggleable__label-arrow:hover:before {color: black;}#sk-container-id-2 div.sk-estimator:hover label.sk-toggleable__label-arrow:before {color: black;}#sk-container-id-2 div.sk-toggleable__content {max-height: 0;max-width: 0;overflow: hidden;text-align: left;background-color: #f0f8ff;}#sk-container-id-2 div.sk-toggleable__content pre {margin: 0.2em;color: black;border-radius: 0.25em;background-color: #f0f8ff;}#sk-container-id-2 input.sk-toggleable__control:checked~div.sk-toggleable__content {max-height: 200px;max-width: 100%;overflow: auto;}#sk-container-id-2 input.sk-toggleable__control:checked~label.sk-toggleable__label-arrow:before {content: \"▾\";}#sk-container-id-2 div.sk-estimator input.sk-toggleable__control:checked~label.sk-toggleable__label {background-color: #d4ebff;}#sk-container-id-2 div.sk-label input.sk-toggleable__control:checked~label.sk-toggleable__label {background-color: #d4ebff;}#sk-container-id-2 input.sk-hidden--visually {border: 0;clip: rect(1px 1px 1px 1px);clip: rect(1px, 1px, 1px, 1px);height: 1px;margin: -1px;overflow: hidden;padding: 0;position: absolute;width: 1px;}#sk-container-id-2 div.sk-estimator {font-family: monospace;background-color: #f0f8ff;border: 1px dotted black;border-radius: 0.25em;box-sizing: border-box;margin-bottom: 0.5em;}#sk-container-id-2 div.sk-estimator:hover {background-color: #d4ebff;}#sk-container-id-2 div.sk-parallel-item::after {content: \"\";width: 100%;border-bottom: 1px solid gray;flex-grow: 1;}#sk-container-id-2 div.sk-label:hover label.sk-toggleable__label {background-color: #d4ebff;}#sk-container-id-2 div.sk-serial::before {content: \"\";position: absolute;border-left: 1px solid gray;box-sizing: border-box;top: 0;bottom: 0;left: 50%;z-index: 0;}#sk-container-id-2 div.sk-serial {display: flex;flex-direction: column;align-items: center;background-color: white;padding-right: 0.2em;padding-left: 0.2em;position: relative;}#sk-container-id-2 div.sk-item {position: relative;z-index: 1;}#sk-container-id-2 div.sk-parallel {display: flex;align-items: stretch;justify-content: center;background-color: white;position: relative;}#sk-container-id-2 div.sk-item::before, #sk-container-id-2 div.sk-parallel-item::before {content: \"\";position: absolute;border-left: 1px solid gray;box-sizing: border-box;top: 0;bottom: 0;left: 50%;z-index: -1;}#sk-container-id-2 div.sk-parallel-item {display: flex;flex-direction: column;z-index: 1;position: relative;background-color: white;}#sk-container-id-2 div.sk-parallel-item:first-child::after {align-self: flex-end;width: 50%;}#sk-container-id-2 div.sk-parallel-item:last-child::after {align-self: flex-start;width: 50%;}#sk-container-id-2 div.sk-parallel-item:only-child::after {width: 0;}#sk-container-id-2 div.sk-dashed-wrapped {border: 1px dashed gray;margin: 0 0.4em 0.5em 0.4em;box-sizing: border-box;padding-bottom: 0.4em;background-color: white;}#sk-container-id-2 div.sk-label label {font-family: monospace;font-weight: bold;display: inline-block;line-height: 1.2em;}#sk-container-id-2 div.sk-label-container {text-align: center;}#sk-container-id-2 div.sk-container {/* jupyter's `normalize.less` sets `[hidden] { display: none; }` but bootstrap.min.css set `[hidden] { display: none !important; }` so we also need the `!important` here to be able to override the default hidden behavior on the sphinx rendered scikit-learn.org. See: https://github.com/scikit-learn/scikit-learn/issues/21755 */display: inline-block !important;position: relative;}#sk-container-id-2 div.sk-text-repr-fallback {display: none;}</style><div id=\"sk-container-id-2\" class=\"sk-top-container\"><div class=\"sk-text-repr-fallback\"><pre>XGBClassifier(base_score=None, booster=None, callbacks=None,\n",
       "              colsample_bylevel=None, colsample_bynode=None,\n",
       "              colsample_bytree=None, early_stopping_rounds=None,\n",
       "              enable_categorical=False, eval_metric=None, feature_types=None,\n",
       "              gamma=None, gpu_id=None, grow_policy=None, importance_type=None,\n",
       "              interaction_constraints=None, learning_rate=0.1, max_bin=None,\n",
       "              max_cat_threshold=None, max_cat_to_onehot=None,\n",
       "              max_delta_step=None, max_depth=8, max_leaves=None,\n",
       "              min_child_weight=None, missing=nan, monotone_constraints=None,\n",
       "              n_estimators=600, n_jobs=None, num_parallel_tree=None,\n",
       "              objective=&#x27;multi:softprob&#x27;, predictor=None, ...)</pre><b>In a Jupyter environment, please rerun this cell to show the HTML representation or trust the notebook. <br />On GitHub, the HTML representation is unable to render, please try loading this page with nbviewer.org.</b></div><div class=\"sk-container\" hidden><div class=\"sk-item\"><div class=\"sk-estimator sk-toggleable\"><input class=\"sk-toggleable__control sk-hidden--visually\" id=\"sk-estimator-id-2\" type=\"checkbox\" checked><label for=\"sk-estimator-id-2\" class=\"sk-toggleable__label sk-toggleable__label-arrow\">XGBClassifier</label><div class=\"sk-toggleable__content\"><pre>XGBClassifier(base_score=None, booster=None, callbacks=None,\n",
       "              colsample_bylevel=None, colsample_bynode=None,\n",
       "              colsample_bytree=None, early_stopping_rounds=None,\n",
       "              enable_categorical=False, eval_metric=None, feature_types=None,\n",
       "              gamma=None, gpu_id=None, grow_policy=None, importance_type=None,\n",
       "              interaction_constraints=None, learning_rate=0.1, max_bin=None,\n",
       "              max_cat_threshold=None, max_cat_to_onehot=None,\n",
       "              max_delta_step=None, max_depth=8, max_leaves=None,\n",
       "              min_child_weight=None, missing=nan, monotone_constraints=None,\n",
       "              n_estimators=600, n_jobs=None, num_parallel_tree=None,\n",
       "              objective=&#x27;multi:softprob&#x27;, predictor=None, ...)</pre></div></div></div></div></div>"
      ],
      "text/plain": [
       "XGBClassifier(base_score=None, booster=None, callbacks=None,\n",
       "              colsample_bylevel=None, colsample_bynode=None,\n",
       "              colsample_bytree=None, early_stopping_rounds=None,\n",
       "              enable_categorical=False, eval_metric=None, feature_types=None,\n",
       "              gamma=None, gpu_id=None, grow_policy=None, importance_type=None,\n",
       "              interaction_constraints=None, learning_rate=0.1, max_bin=None,\n",
       "              max_cat_threshold=None, max_cat_to_onehot=None,\n",
       "              max_delta_step=None, max_depth=8, max_leaves=None,\n",
       "              min_child_weight=None, missing=nan, monotone_constraints=None,\n",
       "              n_estimators=600, n_jobs=None, num_parallel_tree=None,\n",
       "              objective='multi:softprob', predictor=None, ...)"
      ]
     },
     "execution_count": 27,
     "metadata": {},
     "output_type": "execute_result"
    }
   ],
   "source": [
    "model.fit(X_train, y_train, eval_set=[(X_test, y_test)], early_stopping_rounds=50, verbose=1)"
   ]
  },
  {
   "cell_type": "code",
   "execution_count": 28,
   "id": "cf497cca-d41e-433f-8d50-4dd5a7ecff86",
   "metadata": {},
   "outputs": [
    {
     "name": "stdout",
     "output_type": "stream",
     "text": [
      "              precision    recall  f1-score   support\n",
      "\n",
      "   High Cost       0.47      0.35      0.40       367\n",
      " Higher Cost       0.62      0.76      0.68       487\n",
      "Highest Cost       0.11      0.03      0.04        36\n",
      "    Low Cost       0.31      0.05      0.09       156\n",
      "  Lower Cost       0.58      0.60      0.59       257\n",
      " Normal Cost       0.54      0.68      0.60       547\n",
      "\n",
      "    accuracy                           0.56      1850\n",
      "   macro avg       0.44      0.41      0.40      1850\n",
      "weighted avg       0.53      0.56      0.53      1850\n",
      "\n"
     ]
    }
   ],
   "source": [
    "y_pred=model.predict(X_test)\n",
    "\n",
    "print(classification_report(y_test, y_pred, target_names=le.classes_))"
   ]
  },
  {
   "cell_type": "code",
   "execution_count": 29,
   "id": "bd82d57f-9dc3-468b-8144-a6ebf653f4f0",
   "metadata": {},
   "outputs": [
    {
     "data": {
      "application/javascript": [
       "\n",
       "        if (window._pyforest_update_imports_cell) { window._pyforest_update_imports_cell('import seaborn as sns\\nimport pandas as pd\\nimport matplotlib.pyplot as plt'); }\n",
       "    "
      ],
      "text/plain": [
       "<IPython.core.display.Javascript object>"
      ]
     },
     "metadata": {},
     "output_type": "display_data"
    },
    {
     "data": {
      "application/javascript": [
       "\n",
       "        if (window._pyforest_update_imports_cell) { window._pyforest_update_imports_cell('import seaborn as sns\\nimport pandas as pd\\nimport matplotlib.pyplot as plt'); }\n",
       "    "
      ],
      "text/plain": [
       "<IPython.core.display.Javascript object>"
      ]
     },
     "metadata": {},
     "output_type": "display_data"
    },
    {
     "data": {
      "image/png": "[encoded data removed]",
      "text/plain": [
       "<Figure size 640x480 with 1 Axes>"
      ]
     },
     "metadata": {},
     "output_type": "display_data"
    }
   ],
   "source": [
    "cm=confusion_matrix(y_test, y_pred)\n",
    "sns.heatmap(cm.T, annot=True, fmt='d', cbar=False)\n",
    "plt.show();"
   ]
  },
  {
   "cell_type": "code",
   "execution_count": 30,
   "id": "3e66ad0a-0fb4-49f7-94ce-a87460725db4",
   "metadata": {},
   "outputs": [
    {
     "name": "stdout",
     "output_type": "stream",
     "text": [
      "[0]\tvalidation_0-mlogloss:1.70433\n"
     ]
    },
    {
     "name": "stderr",
     "output_type": "stream",
     "text": [
      "C:\\Users\\User\\AppData\\Roaming\\Python\\Python39\\site-packages\\xgboost\\sklearn.py:835: UserWarning: `eval_metric` in `fit` method is deprecated for better compatibility with scikit-learn, use `eval_metric` in constructor or`set_params` instead.\n",
      "  warnings.warn(\n",
      "C:\\Users\\User\\AppData\\Roaming\\Python\\Python39\\site-packages\\xgboost\\sklearn.py:835: UserWarning: `early_stopping_rounds` in `fit` method is deprecated for better compatibility with scikit-learn, use `early_stopping_rounds` in constructor or`set_params` instead.\n",
      "  warnings.warn(\n"
     ]
    },
    {
     "name": "stdout",
     "output_type": "stream",
     "text": [
      "[100]\tvalidation_0-mlogloss:1.13536\n",
      "[117]\tvalidation_0-mlogloss:1.13779\n"
     ]
    },
    {
     "data": {
      "text/html": [
       "<style>#sk-container-id-3 {color: black;background-color: white;}#sk-container-id-3 pre{padding: 0;}#sk-container-id-3 div.sk-toggleable {background-color: white;}#sk-container-id-3 label.sk-toggleable__label {cursor: pointer;display: block;width: 100%;margin-bottom: 0;padding: 0.3em;box-sizing: border-box;text-align: center;}#sk-container-id-3 label.sk-toggleable__label-arrow:before {content: \"▸\";float: left;margin-right: 0.25em;color: #696969;}#sk-container-id-3 label.sk-toggleable__label-arrow:hover:before {color: black;}#sk-container-id-3 div.sk-estimator:hover label.sk-toggleable__label-arrow:before {color: black;}#sk-container-id-3 div.sk-toggleable__content {max-height: 0;max-width: 0;overflow: hidden;text-align: left;background-color: #f0f8ff;}#sk-container-id-3 div.sk-toggleable__content pre {margin: 0.2em;color: black;border-radius: 0.25em;background-color: #f0f8ff;}#sk-container-id-3 input.sk-toggleable__control:checked~div.sk-toggleable__content {max-height: 200px;max-width: 100%;overflow: auto;}#sk-container-id-3 input.sk-toggleable__control:checked~label.sk-toggleable__label-arrow:before {content: \"▾\";}#sk-container-id-3 div.sk-estimator input.sk-toggleable__control:checked~label.sk-toggleable__label {background-color: #d4ebff;}#sk-container-id-3 div.sk-label input.sk-toggleable__control:checked~label.sk-toggleable__label {background-color: #d4ebff;}#sk-container-id-3 input.sk-hidden--visually {border: 0;clip: rect(1px 1px 1px 1px);clip: rect(1px, 1px, 1px, 1px);height: 1px;margin: -1px;overflow: hidden;padding: 0;position: absolute;width: 1px;}#sk-container-id-3 div.sk-estimator {font-family: monospace;background-color: #f0f8ff;border: 1px dotted black;border-radius: 0.25em;box-sizing: border-box;margin-bottom: 0.5em;}#sk-container-id-3 div.sk-estimator:hover {background-color: #d4ebff;}#sk-container-id-3 div.sk-parallel-item::after {content: \"\";width: 100%;border-bottom: 1px solid gray;flex-grow: 1;}#sk-container-id-3 div.sk-label:hover label.sk-toggleable__label {background-color: #d4ebff;}#sk-container-id-3 div.sk-serial::before {content: \"\";position: absolute;border-left: 1px solid gray;box-sizing: border-box;top: 0;bottom: 0;left: 50%;z-index: 0;}#sk-container-id-3 div.sk-serial {display: flex;flex-direction: column;align-items: center;background-color: white;padding-right: 0.2em;padding-left: 0.2em;position: relative;}#sk-container-id-3 div.sk-item {position: relative;z-index: 1;}#sk-container-id-3 div.sk-parallel {display: flex;align-items: stretch;justify-content: center;background-color: white;position: relative;}#sk-container-id-3 div.sk-item::before, #sk-container-id-3 div.sk-parallel-item::before {content: \"\";position: absolute;border-left: 1px solid gray;box-sizing: border-box;top: 0;bottom: 0;left: 50%;z-index: -1;}#sk-container-id-3 div.sk-parallel-item {display: flex;flex-direction: column;z-index: 1;position: relative;background-color: white;}#sk-container-id-3 div.sk-parallel-item:first-child::after {align-self: flex-end;width: 50%;}#sk-container-id-3 div.sk-parallel-item:last-child::after {align-self: flex-start;width: 50%;}#sk-container-id-3 div.sk-parallel-item:only-child::after {width: 0;}#sk-container-id-3 div.sk-dashed-wrapped {border: 1px dashed gray;margin: 0 0.4em 0.5em 0.4em;box-sizing: border-box;padding-bottom: 0.4em;background-color: white;}#sk-container-id-3 div.sk-label label {font-family: monospace;font-weight: bold;display: inline-block;line-height: 1.2em;}#sk-container-id-3 div.sk-label-container {text-align: center;}#sk-container-id-3 div.sk-container {/* jupyter's `normalize.less` sets `[hidden] { display: none; }` but bootstrap.min.css set `[hidden] { display: none !important; }` so we also need the `!important` here to be able to override the default hidden behavior on the sphinx rendered scikit-learn.org. See: https://github.com/scikit-learn/scikit-learn/issues/21755 */display: inline-block !important;position: relative;}#sk-container-id-3 div.sk-text-repr-fallback {display: none;}</style><div id=\"sk-container-id-3\" class=\"sk-top-container\"><div class=\"sk-text-repr-fallback\"><pre>XGBClassifier(base_score=None, booster=None, callbacks=None,\n",
       "              colsample_bylevel=None, colsample_bynode=None,\n",
       "              colsample_bytree=None, early_stopping_rounds=None,\n",
       "              enable_categorical=False, eval_metric=None, feature_types=None,\n",
       "              gamma=None, gpu_id=None, grow_policy=None, importance_type=None,\n",
       "              interaction_constraints=None, learning_rate=0.1, max_bin=None,\n",
       "              max_cat_threshold=None, max_cat_to_onehot=None,\n",
       "              max_delta_step=None, max_depth=8, max_leaves=None,\n",
       "              min_child_weight=None, missing=nan, monotone_constraints=None,\n",
       "              n_estimators=600, n_jobs=None, num_parallel_tree=None,\n",
       "              objective=&#x27;multi:softprob&#x27;, predictor=None, ...)</pre><b>In a Jupyter environment, please rerun this cell to show the HTML representation or trust the notebook. <br />On GitHub, the HTML representation is unable to render, please try loading this page with nbviewer.org.</b></div><div class=\"sk-container\" hidden><div class=\"sk-item\"><div class=\"sk-estimator sk-toggleable\"><input class=\"sk-toggleable__control sk-hidden--visually\" id=\"sk-estimator-id-3\" type=\"checkbox\" checked><label for=\"sk-estimator-id-3\" class=\"sk-toggleable__label sk-toggleable__label-arrow\">XGBClassifier</label><div class=\"sk-toggleable__content\"><pre>XGBClassifier(base_score=None, booster=None, callbacks=None,\n",
       "              colsample_bylevel=None, colsample_bynode=None,\n",
       "              colsample_bytree=None, early_stopping_rounds=None,\n",
       "              enable_categorical=False, eval_metric=None, feature_types=None,\n",
       "              gamma=None, gpu_id=None, grow_policy=None, importance_type=None,\n",
       "              interaction_constraints=None, learning_rate=0.1, max_bin=None,\n",
       "              max_cat_threshold=None, max_cat_to_onehot=None,\n",
       "              max_delta_step=None, max_depth=8, max_leaves=None,\n",
       "              min_child_weight=None, missing=nan, monotone_constraints=None,\n",
       "              n_estimators=600, n_jobs=None, num_parallel_tree=None,\n",
       "              objective=&#x27;multi:softprob&#x27;, predictor=None, ...)</pre></div></div></div></div></div>"
      ],
      "text/plain": [
       "XGBClassifier(base_score=None, booster=None, callbacks=None,\n",
       "              colsample_bylevel=None, colsample_bynode=None,\n",
       "              colsample_bytree=None, early_stopping_rounds=None,\n",
       "              enable_categorical=False, eval_metric=None, feature_types=None,\n",
       "              gamma=None, gpu_id=None, grow_policy=None, importance_type=None,\n",
       "              interaction_constraints=None, learning_rate=0.1, max_bin=None,\n",
       "              max_cat_threshold=None, max_cat_to_onehot=None,\n",
       "              max_delta_step=None, max_depth=8, max_leaves=None,\n",
       "              min_child_weight=None, missing=nan, monotone_constraints=None,\n",
       "              n_estimators=600, n_jobs=None, num_parallel_tree=None,\n",
       "              objective='multi:softprob', predictor=None, ...)"
      ]
     },
     "execution_count": 30,
     "metadata": {},
     "output_type": "execute_result"
    }
   ],
   "source": [
    "#model.set_params()\n",
    "\n",
    "\n",
    "\n",
    "model.fit(X_train, y_train,\n",
    "          eval_set=[(X_test, y_test)],\n",
    "          early_stopping_rounds=50,\n",
    "          eval_metric=['mlogloss'], \n",
    "          verbose =100)"
   ]
  },
  {
   "cell_type": "code",
   "execution_count": 31,
   "id": "00807136-8abb-44b9-84a8-935fd37c4974",
   "metadata": {},
   "outputs": [],
   "source": [
    "ypred=model.predict(X_test)"
   ]
  },
  {
   "cell_type": "code",
   "execution_count": 32,
   "id": "528e9210-364b-4f65-9376-544bbfaf4b0d",
   "metadata": {},
   "outputs": [
    {
     "name": "stdout",
     "output_type": "stream",
     "text": [
      "              precision    recall  f1-score   support\n",
      "\n",
      "   High Cost       0.35      0.47      0.40       272\n",
      " Higher Cost       0.76      0.62      0.68       591\n",
      "Highest Cost       0.03      0.11      0.04         9\n",
      "    Low Cost       0.05      0.31      0.09        26\n",
      "  Lower Cost       0.60      0.58      0.59       267\n",
      " Normal Cost       0.68      0.54      0.60       685\n",
      "\n",
      "    accuracy                           0.56      1850\n",
      "   macro avg       0.41      0.44      0.40      1850\n",
      "weighted avg       0.63      0.56      0.59      1850\n",
      "\n"
     ]
    }
   ],
   "source": [
    "print(classification_report(ypred, y_test,target_names=le.classes_))"
   ]
  },
  {
   "cell_type": "code",
   "execution_count": 33,
   "id": "6a3e3bed-a004-4142-95f9-2f03d6d7c580",
   "metadata": {},
   "outputs": [
    {
     "name": "stdout",
     "output_type": "stream",
     "text": [
      "[0.00810828 0.01643263 0.02272567 0.00612611 0.0049265  0.32032925\n",
      " 0.01334543 0.01860586 0.00547349 0.00618792 0.0057942  0.00705305\n",
      " 0.00474601 0.00455688 0.00621476 0.00670215 0.01443812 0.\n",
      " 0.0027682  0.00212617 0.00613679 0.         0.00710611 0.00812942\n",
      " 0.00213987 0.         0.         0.00548    0.00118302 0.\n",
      " 0.00362489 0.00418298 0.         0.         0.02556071 0.\n",
      " 0.         0.00924956 0.         0.00524079 0.00568643 0.00350207\n",
      " 0.00477335 0.00867128 0.00464751 0.00283727 0.         0.00461275\n",
      " 0.00593164 0.         0.         0.00917021 0.         0.0020291\n",
      " 0.         0.         0.0033462  0.00357065 0.00668165 0.\n",
      " 0.         0.00609669 0.00148752 0.00509884 0.00280216 0.\n",
      " 0.00622342 0.0027157  0.         0.0091223  0.00563257 0.02036884\n",
      " 0.         0.00153569 0.00739453 0.         0.00846606 0.00433015\n",
      " 0.00295308 0.         0.00323306 0.00168754 0.         0.\n",
      " 0.         0.         0.00133882 0.00233712 0.0056028  0.00283482\n",
      " 0.00338295 0.00359166 0.         0.         0.00196916 0.00309888\n",
      " 0.0029087  0.00219438 0.00601381 0.00343492 0.         0.00833053\n",
      " 0.00550119 0.00696999 0.00591761 0.         0.00213006 0.00454969\n",
      " 0.00675578 0.00576584 0.00253209 0.00695597 0.00497988 0.01665646\n",
      " 0.00330314 0.00371722 0.00181028 0.00120047 0.         0.0032167\n",
      " 0.00413421 0.0017524  0.00135822 0.00770565 0.00569526 0.00397831\n",
      " 0.0047243  0.00341947 0.00594994 0.00544571 0.00566611 0.00119061\n",
      " 0.00446133 0.00135484 0.         0.00208447 0.00631655 0.0428321\n",
      " 0.00183431 0.00324419 0.00659597 0.00880802 0.00841518 0.\n",
      " 0.0012694  0.         0.01221037 0.01124918]\n"
     ]
    },
    {
     "data": {
      "application/javascript": [
       "\n",
       "        if (window._pyforest_update_imports_cell) { window._pyforest_update_imports_cell('import seaborn as sns\\nimport pandas as pd\\nimport matplotlib.pyplot as plt'); }\n",
       "    "
      ],
      "text/plain": [
       "<IPython.core.display.Javascript object>"
      ]
     },
     "metadata": {},
     "output_type": "display_data"
    },
    {
     "data": {
      "application/javascript": [
       "\n",
       "        if (window._pyforest_update_imports_cell) { window._pyforest_update_imports_cell('import seaborn as sns\\nimport pandas as pd\\nimport matplotlib.pyplot as plt'); }\n",
       "    "
      ],
      "text/plain": [
       "<IPython.core.display.Javascript object>"
      ]
     },
     "metadata": {},
     "output_type": "display_data"
    },
    {
     "data": {
      "image/png": "[encoded data removed]",
      "text/plain": [
       "<Figure size 640x480 with 1 Axes>"
      ]
     },
     "metadata": {},
     "output_type": "display_data"
    }
   ],
   "source": [
    "print(model.feature_importances_)\n",
    "plt.bar(range(len(model.feature_importances_)), model.feature_importances_)\n",
    "plt.show()"
   ]
  },
  {
   "cell_type": "code",
   "execution_count": 36,
   "id": "68ea591d-b761-48f8-bb07-d5897e40ca30",
   "metadata": {},
   "outputs": [
    {
     "data": {
      "text/plain": [
       "{'f0': 1.9368815422058105,\n",
       " 'f1': 4.253979206085205,\n",
       " 'f2': 6.286380767822266,\n",
       " 'f3': 1.6305172443389893,\n",
       " 'f4': 1.110242486000061,\n",
       " 'f5': 85.30956268310547,\n",
       " 'f6': 4.119102954864502,\n",
       " 'f7': 4.357606887817383,\n",
       " 'f8': 1.6157276630401611,\n",
       " 'f9': 1.3034449815750122,\n",
       " 'f10': 1.4659373760223389,\n",
       " 'f11': 1.7550177574157715,\n",
       " 'f12': 0.9740857481956482,\n",
       " 'f13': 1.0438814163208008,\n",
       " 'f14': 1.3937687873840332,\n",
       " 'f15': 1.5915601253509521,\n",
       " 'f16': 3.772968292236328,\n",
       " 'f20': 1.770056128501892,\n",
       " 'f22': 2.121854543685913,\n",
       " 'f23': 1.7906928062438965,\n",
       " 'f27': 1.6320961713790894,\n",
       " 'f30': 1.7437622547149658,\n",
       " 'f31': 1.1044671535491943,\n",
       " 'f32': 1.0975483655929565,\n",
       " 'f34': 7.520989418029785,\n",
       " 'f36': 1.3514692783355713,\n",
       " 'f37': 2.4223575592041016,\n",
       " 'f39': 1.4094606637954712,\n",
       " 'f40': 1.2692327499389648,\n",
       " 'f41': 0.991423487663269,\n",
       " 'f42': 0.9855402112007141,\n",
       " 'f43': 2.4902231693267822,\n",
       " 'f44': 2.080101728439331,\n",
       " 'f47': 1.864283561706543,\n",
       " 'f48': 1.451673150062561,\n",
       " 'f51': 3.3055381774902344,\n",
       " 'f56': 1.32713782787323,\n",
       " 'f57': 0.7044318914413452,\n",
       " 'f58': 1.4291311502456665,\n",
       " 'f61': 1.3080883026123047,\n",
       " 'f63': 0.9915693998336792,\n",
       " 'f66': 1.3565914630889893,\n",
       " 'f69': 2.61706280708313,\n",
       " 'f70': 0.8860269784927368,\n",
       " 'f71': 5.278811931610107,\n",
       " 'f74': 1.5492019653320312,\n",
       " 'f76': 2.0618462562561035,\n",
       " 'f77': 1.2009834051132202,\n",
       " 'f78': 1.3776791095733643,\n",
       " 'f80': 1.1808503866195679,\n",
       " 'f87': 0.6581578254699707,\n",
       " 'f88': 1.128852367401123,\n",
       " 'f89': 1.0495998859405518,\n",
       " 'f90': 1.2878888845443726,\n",
       " 'f91': 1.2783021926879883,\n",
       " 'f94': 0.775154709815979,\n",
       " 'f95': 0.4886147975921631,\n",
       " 'f98': 1.3189679384231567,\n",
       " 'f99': 0.8664969205856323,\n",
       " 'f101': 2.183076858520508,\n",
       " 'f102': 1.1230262517929077,\n",
       " 'f103': 1.7080621719360352,\n",
       " 'f104': 0.7371750473976135,\n",
       " 'f106': 0.697297990322113,\n",
       " 'f107': 1.2653911113739014,\n",
       " 'f108': 1.6617690324783325,\n",
       " 'f109': 1.6176754236221313,\n",
       " 'f110': 0.5790236592292786,\n",
       " 'f111': 1.5561124086380005,\n",
       " 'f112': 1.016853928565979,\n",
       " 'f113': 4.081381320953369,\n",
       " 'f115': 1.060336709022522,\n",
       " 'f117': 1.3025343418121338,\n",
       " 'f119': 1.2828270196914673,\n",
       " 'f120': 1.1979568004608154,\n",
       " 'f121': 0.6828789114952087,\n",
       " 'f122': 0.9144127368927002,\n",
       " 'f123': 2.146198034286499,\n",
       " 'f124': 1.084277629852295,\n",
       " 'f126': 1.4728705883026123,\n",
       " 'f127': 0.6835378408432007,\n",
       " 'f128': 1.2390295267105103,\n",
       " 'f129': 1.0588189363479614,\n",
       " 'f132': 1.326413869857788,\n",
       " 'f135': 0.8194121718406677,\n",
       " 'f136': 1.0761669874191284,\n",
       " 'f137': 9.071590423583984,\n",
       " 'f138': 1.6095726490020752,\n",
       " 'f139': 1.068448543548584,\n",
       " 'f140': 1.4457510709762573,\n",
       " 'f141': 2.302051544189453,\n",
       " 'f142': 2.3645055294036865,\n",
       " 'f146': 3.232417345046997,\n",
       " 'f147': 3.2603366374969482}"
      ]
     },
     "execution_count": 36,
     "metadata": {},
     "output_type": "execute_result"
    }
   ],
   "source": [
    "model.get_booster().get_score(importance_type='gain')"
   ]
  },
  {
   "cell_type": "code",
   "execution_count": 37,
   "id": "db77ee3b-09f7-43d5-ae94-5bab22685cdc",
   "metadata": {},
   "outputs": [
    {
     "data": {
      "text/plain": [
       "(18506, 148)"
      ]
     },
     "execution_count": 37,
     "metadata": {},
     "output_type": "execute_result"
    }
   ],
   "source": [
    "X.shape"
   ]
  },
  {
   "cell_type": "code",
   "execution_count": 38,
   "id": "5cea0800-bd5a-4e23-ad82-dd984fa655ac",
   "metadata": {},
   "outputs": [
    {
     "data": {
      "application/javascript": [
       "\n",
       "        if (window._pyforest_update_imports_cell) { window._pyforest_update_imports_cell('import pandas as pd\\nimport matplotlib.pyplot as plt\\nimport seaborn as sns'); }\n",
       "    "
      ],
      "text/plain": [
       "<IPython.core.display.Javascript object>"
      ]
     },
     "metadata": {},
     "output_type": "display_data"
    },
    {
     "data": {
      "image/png": "[encoded data removed]",
      "text/plain": [
       "<Figure size 2000x1000 with 1 Axes>"
      ]
     },
     "metadata": {},
     "output_type": "display_data"
    }
   ],
   "source": [
    "feature_important = model.get_booster().get_score(importance_type='weight')\n",
    "keys = list(feature_important.keys())\n",
    "values = list(feature_important.values())\n",
    "\n",
    "data = pd.DataFrame(data=values, index=keys, columns=[\"score\"]).sort_values(by = \"score\", ascending=True)\n",
    "data.nlargest(20, columns=\"score\").plot(kind='barh', figsize = (20,10)); ## plot top 40 features"
   ]
  },
  {
   "cell_type": "code",
   "execution_count": 39,
   "id": "8fb131cf-c40d-4cab-aa80-d274fb156a04",
   "metadata": {},
   "outputs": [
    {
     "data": {
      "application/javascript": [
       "\n",
       "        if (window._pyforest_update_imports_cell) { window._pyforest_update_imports_cell('import pandas as pd\\nimport matplotlib.pyplot as plt\\nimport seaborn as sns'); }\n",
       "    "
      ],
      "text/plain": [
       "<IPython.core.display.Javascript object>"
      ]
     },
     "metadata": {},
     "output_type": "display_data"
    },
    {
     "name": "stdout",
     "output_type": "stream",
     "text": [
      "    feature  importance\n",
      "14     f14     53262.0\n",
      "16     f16     38832.0\n",
      "3       f3     35349.0\n",
      "4       f4     34165.0\n",
      "15     f15     31049.0\n",
      "..     ...         ...\n",
      "23     f32        14.0\n",
      "32     f44        12.0\n",
      "29     f41         9.0\n",
      "76    f122         3.0\n",
      "48     f78         2.0\n",
      "\n",
      "[94 rows x 2 columns]\n"
     ]
    },
    {
     "data": {
      "image/png": "[encoded data removed]",
      "text/plain": [
       "<Figure size 640x480 with 1 Axes>"
      ]
     },
     "metadata": {},
     "output_type": "display_data"
    }
   ],
   "source": [
    "xgb_fea_imp=pd.DataFrame(list(model.get_booster().get_fscore().items()),\n",
    "columns=['feature','importance']).sort_values('importance', ascending=False)\n",
    "print('',xgb_fea_imp)\n",
    "xgb_fea_imp.to_csv('xgb_fea_imp.csv')\n",
    "\n",
    "from xgboost import plot_importance\n",
    "plot_importance(model);"
   ]
  },
  {
   "cell_type": "code",
   "execution_count": 36,
   "id": "b0b78cd3-0ee2-4156-8ac1-b53e4133d7a6",
   "metadata": {},
   "outputs": [
    {
     "data": {
      "text/plain": [
       "Index(['country', 'age_group', 'travel_with', 'purpose', 'main_activity',\n",
       "       'info_source', 'tour_arrangement', 'package_transport_int',\n",
       "       'package_accomodation', 'package_food', 'package_transport_tz',\n",
       "       'package_sightseeing', 'package_guided_tour', 'package_insurance',\n",
       "       'night_mainland', 'night_zanzibar', 'first_trip_tz', 'cost_category',\n",
       "       'total_nights', 'total_people'],\n",
       "      dtype='object')"
      ]
     },
     "execution_count": 36,
     "metadata": {},
     "output_type": "execute_result"
    }
   ],
   "source": [
    "train.columns"
   ]
  },
  {
   "cell_type": "code",
   "execution_count": 56,
   "id": "e14274b0-d957-4e15-8dc9-bc1408da7298",
   "metadata": {},
   "outputs": [
    {
     "data": {
      "text/plain": [
       "Alone                           7590\n",
       "With Spouse                     4842\n",
       "With Other Friends/Relatives    3268\n",
       "With Spouse and Children        1193\n",
       "With Children                    538\n",
       "Name: travel_with, dtype: int64"
      ]
     },
     "execution_count": 56,
     "metadata": {},
     "output_type": "execute_result"
    }
   ],
   "source": [
    "train.travel_with.value_counts()"
   ]
  },
  {
   "cell_type": "code",
   "execution_count": 53,
   "id": "43661a89-e7fe-400b-8663-2d10ad22c8b0",
   "metadata": {},
   "outputs": [
    {
     "data": {
      "text/plain": [
       "25-44           9047\n",
       "45-64           5648\n",
       "18-24           2222\n",
       "65 and Above    1467\n",
       "Below 18         122\n",
       "Name: age_group, dtype: int64"
      ]
     },
     "execution_count": 53,
     "metadata": {},
     "output_type": "execute_result"
    }
   ],
   "source": [
    "train.age_group.value_counts()"
   ]
  },
  {
   "cell_type": "code",
   "execution_count": 52,
   "id": "4ec2790a-8e25-4a5e-91b0-fd9bd8aa9244",
   "metadata": {},
   "outputs": [],
   "source": [
    "train['age_group']=train['age_group'].replace({'<18':'Below 18', '65+' : '65 and Above'})"
   ]
  },
  {
   "cell_type": "code",
   "execution_count": 54,
   "id": "8db969c3-843d-4df7-8489-e3cf8ba0c050",
   "metadata": {},
   "outputs": [
    {
     "data": {
      "text/plain": [
       "(18506, 24)"
      ]
     },
     "execution_count": 54,
     "metadata": {},
     "output_type": "execute_result"
    }
   ],
   "source": [
    "train.shape"
   ]
  },
  {
   "cell_type": "code",
   "execution_count": 61,
   "id": "cd81b7ea-b353-4d5a-ac64-bed29dbda5d1",
   "metadata": {},
   "outputs": [
    {
     "name": "stdout",
     "output_type": "stream",
     "text": [
      "country : 131\n",
      "age_group : 5\n",
      "travel_with : 6\n",
      "purpose : 8\n",
      "main_activity : 9\n",
      "info_source : 8\n",
      "tour_arrangement : 2\n",
      "package_transport_int : 2\n",
      "package_accomodation : 2\n",
      "package_food : 2\n",
      "package_transport_tz : 2\n",
      "package_sightseeing : 2\n",
      "package_guided_tour : 2\n",
      "package_insurance : 2\n",
      "first_trip_tz : 2\n",
      "cost_category : 6\n",
      "trip_length : 5\n",
      "group_size : 5\n"
     ]
    }
   ],
   "source": [
    "for col in train.select_dtypes('object').columns:\n",
    "    print(col, ':', len(train[col].unique()))"
   ]
  },
  {
   "cell_type": "code",
   "execution_count": 63,
   "id": "eb7d83a9-4735-468e-858f-3cbe5706e1df",
   "metadata": {},
   "outputs": [
    {
     "name": "stdout",
     "output_type": "stream",
     "text": [
      "<class 'pandas.core.frame.DataFrame'>\n",
      "Index: 18506 entries, tour_id1hffseyw to tour_idceoq9por\n",
      "Data columns (total 24 columns):\n",
      " #   Column                 Non-Null Count  Dtype  \n",
      "---  ------                 --------------  -----  \n",
      " 0   country                18506 non-null  object \n",
      " 1   age_group              18506 non-null  object \n",
      " 2   travel_with            17431 non-null  object \n",
      " 3   total_female           18504 non-null  float64\n",
      " 4   total_male             18500 non-null  float64\n",
      " 5   purpose                18506 non-null  object \n",
      " 6   main_activity          18506 non-null  object \n",
      " 7   info_source            18506 non-null  object \n",
      " 8   tour_arrangement       18506 non-null  object \n",
      " 9   package_transport_int  18506 non-null  object \n",
      " 10  package_accomodation   18506 non-null  object \n",
      " 11  package_food           18506 non-null  object \n",
      " 12  package_transport_tz   18506 non-null  object \n",
      " 13  package_sightseeing    18506 non-null  object \n",
      " 14  package_guided_tour    18506 non-null  object \n",
      " 15  package_insurance      18506 non-null  object \n",
      " 16  night_mainland         18506 non-null  int64  \n",
      " 17  night_zanzibar         18506 non-null  int64  \n",
      " 18  first_trip_tz          18506 non-null  object \n",
      " 19  cost_category          18506 non-null  object \n",
      " 20  total_nights           18506 non-null  int64  \n",
      " 21  trip_length            18505 non-null  object \n",
      " 22  total_people           18498 non-null  float64\n",
      " 23  group_size             18404 non-null  object \n",
      "dtypes: float64(3), int64(3), object(18)\n",
      "memory usage: 3.5+ MB\n"
     ]
    }
   ],
   "source": [
    "train.info()"
   ]
  },
  {
   "cell_type": "code",
   "execution_count": null,
   "id": "8380434c-afe7-4a6e-9ca8-7a633093d394",
   "metadata": {},
   "outputs": [],
   "source": []
  }
 ],
 "metadata": {
  "kernelspec": {
   "display_name": "Python 3 (ipykernel)",
   "language": "python",
   "name": "python3"
  },
  "language_info": {
   "codemirror_mode": {
    "name": "ipython",
    "version": 3
   },
   "file_extension": ".py",
   "mimetype": "text/x-python",
   "name": "python",
   "nbconvert_exporter": "python",
   "pygments_lexer": "ipython3",
   "version": "3.9.16"
  }
 },
 "nbformat": 4,
 "nbformat_minor": 5
}
