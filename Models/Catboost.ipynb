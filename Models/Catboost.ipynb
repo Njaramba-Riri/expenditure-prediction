{
 "cells": [
  {
   "cell_type": "code",
   "execution_count": 1,
   "id": "09437b87-7220-416c-9f11-86e01a63f945",
   "metadata": {},
   "outputs": [],
   "source": [
    "from catboost import CatBoostClassifier\n",
    "from sklearn.metrics import confusion_matrix, classification_report, f1_score\n",
    "\n",
    "from scipy.stats import chi2_contingency\n",
    "\n",
    "from pipelines import preprocessor, preprocessor2\n",
    "from preprocess import extra_features"
   ]
  },
  {
   "cell_type": "code",
   "execution_count": 2,
   "id": "76ccb1bd-128e-42bd-b30f-ee27e4ecc26e",
   "metadata": {},
   "outputs": [
    {
     "data": {
      "application/javascript": [
       "\n",
       "        if (window._pyforest_update_imports_cell) { window._pyforest_update_imports_cell('import pandas as pd'); }\n",
       "    "
      ],
      "text/plain": [
       "<IPython.core.display.Javascript object>"
      ]
     },
     "metadata": {},
     "output_type": "display_data"
    }
   ],
   "source": [
    "train=pd.read_csv('Datasets/Train.csv')\n",
    "train=extra_features(train)\n",
    "X=train.drop('cost_category', axis=1)\n",
    "y= train['cost_category']"
   ]
  },
  {
   "cell_type": "code",
   "execution_count": 3,
   "id": "83721957-c352-4121-b972-dbfc27569d55",
   "metadata": {},
   "outputs": [
    {
     "data": {
      "application/javascript": [
       "\n",
       "        if (window._pyforest_update_imports_cell) { window._pyforest_update_imports_cell('import pandas as pd'); }\n",
       "    "
      ],
      "text/plain": [
       "<IPython.core.display.Javascript object>"
      ]
     },
     "metadata": {},
     "output_type": "display_data"
    },
    {
     "data": {
      "application/javascript": [
       "\n",
       "        if (window._pyforest_update_imports_cell) { window._pyforest_update_imports_cell('import pandas as pd'); }\n",
       "    "
      ],
      "text/plain": [
       "<IPython.core.display.Javascript object>"
      ]
     },
     "metadata": {},
     "output_type": "display_data"
    },
    {
     "data": {
      "application/javascript": [
       "\n",
       "        if (window._pyforest_update_imports_cell) { window._pyforest_update_imports_cell('import pandas as pd'); }\n",
       "    "
      ],
      "text/plain": [
       "<IPython.core.display.Javascript object>"
      ]
     },
     "metadata": {},
     "output_type": "display_data"
    },
    {
     "data": {
      "application/javascript": [
       "\n",
       "        if (window._pyforest_update_imports_cell) { window._pyforest_update_imports_cell('import pandas as pd'); }\n",
       "    "
      ],
      "text/plain": [
       "<IPython.core.display.Javascript object>"
      ]
     },
     "metadata": {},
     "output_type": "display_data"
    },
    {
     "data": {
      "application/javascript": [
       "\n",
       "        if (window._pyforest_update_imports_cell) { window._pyforest_update_imports_cell('import pandas as pd'); }\n",
       "    "
      ],
      "text/plain": [
       "<IPython.core.display.Javascript object>"
      ]
     },
     "metadata": {},
     "output_type": "display_data"
    },
    {
     "data": {
      "application/javascript": [
       "\n",
       "        if (window._pyforest_update_imports_cell) { window._pyforest_update_imports_cell('import pandas as pd'); }\n",
       "    "
      ],
      "text/plain": [
       "<IPython.core.display.Javascript object>"
      ]
     },
     "metadata": {},
     "output_type": "display_data"
    },
    {
     "data": {
      "application/javascript": [
       "\n",
       "        if (window._pyforest_update_imports_cell) { window._pyforest_update_imports_cell('import pandas as pd'); }\n",
       "    "
      ],
      "text/plain": [
       "<IPython.core.display.Javascript object>"
      ]
     },
     "metadata": {},
     "output_type": "display_data"
    },
    {
     "data": {
      "application/javascript": [
       "\n",
       "        if (window._pyforest_update_imports_cell) { window._pyforest_update_imports_cell('import pandas as pd'); }\n",
       "    "
      ],
      "text/plain": [
       "<IPython.core.display.Javascript object>"
      ]
     },
     "metadata": {},
     "output_type": "display_data"
    },
    {
     "data": {
      "application/javascript": [
       "\n",
       "        if (window._pyforest_update_imports_cell) { window._pyforest_update_imports_cell('import pandas as pd'); }\n",
       "    "
      ],
      "text/plain": [
       "<IPython.core.display.Javascript object>"
      ]
     },
     "metadata": {},
     "output_type": "display_data"
    },
    {
     "data": {
      "application/javascript": [
       "\n",
       "        if (window._pyforest_update_imports_cell) { window._pyforest_update_imports_cell('import pandas as pd'); }\n",
       "    "
      ],
      "text/plain": [
       "<IPython.core.display.Javascript object>"
      ]
     },
     "metadata": {},
     "output_type": "display_data"
    },
    {
     "data": {
      "application/javascript": [
       "\n",
       "        if (window._pyforest_update_imports_cell) { window._pyforest_update_imports_cell('import pandas as pd'); }\n",
       "    "
      ],
      "text/plain": [
       "<IPython.core.display.Javascript object>"
      ]
     },
     "metadata": {},
     "output_type": "display_data"
    },
    {
     "data": {
      "application/javascript": [
       "\n",
       "        if (window._pyforest_update_imports_cell) { window._pyforest_update_imports_cell('import pandas as pd'); }\n",
       "    "
      ],
      "text/plain": [
       "<IPython.core.display.Javascript object>"
      ]
     },
     "metadata": {},
     "output_type": "display_data"
    },
    {
     "data": {
      "application/javascript": [
       "\n",
       "        if (window._pyforest_update_imports_cell) { window._pyforest_update_imports_cell('import pandas as pd'); }\n",
       "    "
      ],
      "text/plain": [
       "<IPython.core.display.Javascript object>"
      ]
     },
     "metadata": {},
     "output_type": "display_data"
    },
    {
     "data": {
      "application/javascript": [
       "\n",
       "        if (window._pyforest_update_imports_cell) { window._pyforest_update_imports_cell('import pandas as pd'); }\n",
       "    "
      ],
      "text/plain": [
       "<IPython.core.display.Javascript object>"
      ]
     },
     "metadata": {},
     "output_type": "display_data"
    },
    {
     "data": {
      "application/javascript": [
       "\n",
       "        if (window._pyforest_update_imports_cell) { window._pyforest_update_imports_cell('import pandas as pd'); }\n",
       "    "
      ],
      "text/plain": [
       "<IPython.core.display.Javascript object>"
      ]
     },
     "metadata": {},
     "output_type": "display_data"
    },
    {
     "data": {
      "application/javascript": [
       "\n",
       "        if (window._pyforest_update_imports_cell) { window._pyforest_update_imports_cell('import pandas as pd'); }\n",
       "    "
      ],
      "text/plain": [
       "<IPython.core.display.Javascript object>"
      ]
     },
     "metadata": {},
     "output_type": "display_data"
    },
    {
     "data": {
      "application/javascript": [
       "\n",
       "        if (window._pyforest_update_imports_cell) { window._pyforest_update_imports_cell('import pandas as pd'); }\n",
       "    "
      ],
      "text/plain": [
       "<IPython.core.display.Javascript object>"
      ]
     },
     "metadata": {},
     "output_type": "display_data"
    },
    {
     "data": {
      "application/javascript": [
       "\n",
       "        if (window._pyforest_update_imports_cell) { window._pyforest_update_imports_cell('import pandas as pd'); }\n",
       "    "
      ],
      "text/plain": [
       "<IPython.core.display.Javascript object>"
      ]
     },
     "metadata": {},
     "output_type": "display_data"
    },
    {
     "data": {
      "application/javascript": [
       "\n",
       "        if (window._pyforest_update_imports_cell) { window._pyforest_update_imports_cell('import pandas as pd'); }\n",
       "    "
      ],
      "text/plain": [
       "<IPython.core.display.Javascript object>"
      ]
     },
     "metadata": {},
     "output_type": "display_data"
    },
    {
     "data": {
      "application/javascript": [
       "\n",
       "        if (window._pyforest_update_imports_cell) { window._pyforest_update_imports_cell('import pandas as pd'); }\n",
       "    "
      ],
      "text/plain": [
       "<IPython.core.display.Javascript object>"
      ]
     },
     "metadata": {},
     "output_type": "display_data"
    },
    {
     "data": {
      "application/javascript": [
       "\n",
       "        if (window._pyforest_update_imports_cell) { window._pyforest_update_imports_cell('import pandas as pd'); }\n",
       "    "
      ],
      "text/plain": [
       "<IPython.core.display.Javascript object>"
      ]
     },
     "metadata": {},
     "output_type": "display_data"
    },
    {
     "data": {
      "application/javascript": [
       "\n",
       "        if (window._pyforest_update_imports_cell) { window._pyforest_update_imports_cell('import pandas as pd'); }\n",
       "    "
      ],
      "text/plain": [
       "<IPython.core.display.Javascript object>"
      ]
     },
     "metadata": {},
     "output_type": "display_data"
    },
    {
     "data": {
      "application/javascript": [
       "\n",
       "        if (window._pyforest_update_imports_cell) { window._pyforest_update_imports_cell('import pandas as pd'); }\n",
       "    "
      ],
      "text/plain": [
       "<IPython.core.display.Javascript object>"
      ]
     },
     "metadata": {},
     "output_type": "display_data"
    },
    {
     "data": {
      "application/javascript": [
       "\n",
       "        if (window._pyforest_update_imports_cell) { window._pyforest_update_imports_cell('import pandas as pd'); }\n",
       "    "
      ],
      "text/plain": [
       "<IPython.core.display.Javascript object>"
      ]
     },
     "metadata": {},
     "output_type": "display_data"
    }
   ],
   "source": [
    "col_drop=[]\n",
    "\n",
    "for col in X.columns:\n",
    "    ct=pd.crosstab(y, X[col])\n",
    "    chi2, p, _, _ =chi2_contingency(ct)\n",
    "    \n",
    "    if p >= 0.05 and chi2 <= 3000:\n",
    "        col_drop.append(col)"
   ]
  },
  {
   "cell_type": "code",
   "execution_count": 4,
   "id": "3868d4cd-3dc2-4981-b169-de89826312da",
   "metadata": {},
   "outputs": [],
   "source": [
    "X.drop(columns=col_drop, inplace=True)"
   ]
  },
  {
   "cell_type": "code",
   "execution_count": 5,
   "id": "6e33a36f",
   "metadata": {},
   "outputs": [
    {
     "data": {
      "text/plain": [
       "6"
      ]
     },
     "execution_count": 5,
     "metadata": {},
     "output_type": "execute_result"
    }
   ],
   "source": [
    "X=preprocessor2(X)\n",
    "\n",
    "from sklearn.preprocessing import LabelEncoder\n",
    "le=LabelEncoder()\n",
    "y=le.fit_transform(y)\n",
    "len(le.classes_)"
   ]
  },
  {
   "cell_type": "code",
   "execution_count": 8,
   "id": "4146fd84-fc01-40ed-891c-7894e049d78e",
   "metadata": {},
   "outputs": [
    {
     "data": {
      "application/javascript": [
       "\n",
       "        if (window._pyforest_update_imports_cell) { window._pyforest_update_imports_cell('import numpy as np\\nimport pandas as pd'); }\n",
       "    "
      ],
      "text/plain": [
       "<IPython.core.display.Javascript object>"
      ]
     },
     "metadata": {},
     "output_type": "display_data"
    },
    {
     "data": {
      "text/plain": [
       "(array([0], dtype=int64),)"
      ]
     },
     "execution_count": 8,
     "metadata": {},
     "output_type": "execute_result"
    }
   ],
   "source": [
    "cat_features=np.where(X.dtype != ('int', 'float'))\n",
    "cat_features"
   ]
  },
  {
   "cell_type": "code",
   "execution_count": null,
   "id": "269cabb4-00c8-4ef5-a64c-d92f7bd38951",
   "metadata": {},
   "outputs": [],
   "source": [
    "X.info()"
   ]
  },
  {
   "cell_type": "code",
   "execution_count": 11,
   "id": "2b4f0ee4-eb4f-414a-ba28-b081f5cbb95e",
   "metadata": {},
   "outputs": [
    {
     "data": {
      "text/plain": [
       "(array([0], dtype=int64),)"
      ]
     },
     "execution_count": 11,
     "metadata": {},
     "output_type": "execute_result"
    }
   ],
   "source": [
    "cat_features"
   ]
  },
  {
   "cell_type": "code",
   "execution_count": 12,
   "id": "95ecf256-6f3d-4e92-93f5-e50aa03e770e",
   "metadata": {},
   "outputs": [],
   "source": [
    "from sklearn.model_selection import train_test_split\n",
    "\n",
    "X_train,X_test, y_train, y_test =train_test_split(X, y, test_size=0.2, random_state=42) "
   ]
  },
  {
   "cell_type": "code",
   "execution_count": 13,
   "id": "226d2000-f422-4777-9699-72cbff1b18a1",
   "metadata": {},
   "outputs": [
    {
     "name": "stdout",
     "output_type": "stream",
     "text": [
      "0:\tlearn: 0.5250608\ttest: 0.5083739\tbest: 0.5083739 (0)\ttotal: 1.03s\tremaining: 10m 19s\n",
      "1:\tlearn: 0.5313429\ttest: 0.5124257\tbest: 0.5124257 (1)\ttotal: 1.78s\tremaining: 8m 52s\n",
      "2:\tlearn: 0.5312753\ttest: 0.5140465\tbest: 0.5140465 (2)\ttotal: 2.54s\tremaining: 8m 26s\n",
      "3:\tlearn: 0.5463388\ttest: 0.5267423\tbest: 0.5267423 (3)\ttotal: 3.28s\tremaining: 8m 8s\n",
      "4:\tlearn: 0.5498514\ttest: 0.5283630\tbest: 0.5283630 (4)\ttotal: 4.05s\tremaining: 8m 1s\n",
      "5:\tlearn: 0.5512699\ttest: 0.5307942\tbest: 0.5307942 (5)\ttotal: 4.91s\tremaining: 8m 5s\n",
      "6:\tlearn: 0.5541070\ttest: 0.5321448\tbest: 0.5321448 (6)\ttotal: 5.73s\tremaining: 8m 5s\n",
      "7:\tlearn: 0.5576196\ttest: 0.5375473\tbest: 0.5375473 (7)\ttotal: 6.54s\tremaining: 8m 3s\n",
      "8:\tlearn: 0.5589705\ttest: 0.5388979\tbest: 0.5388979 (8)\ttotal: 7.35s\tremaining: 8m 2s\n",
      "9:\tlearn: 0.5582275\ttest: 0.5388979\tbest: 0.5388979 (8)\ttotal: 8.18s\tremaining: 8m 2s\n",
      "10:\tlearn: 0.5598487\ttest: 0.5407888\tbest: 0.5407888 (10)\ttotal: 8.95s\tremaining: 7m 59s\n",
      "11:\tlearn: 0.5614699\ttest: 0.5424095\tbest: 0.5424095 (11)\ttotal: 9.95s\tremaining: 8m 7s\n",
      "12:\tlearn: 0.5622805\ttest: 0.5432199\tbest: 0.5432199 (12)\ttotal: 10.7s\tremaining: 8m 3s\n",
      "13:\tlearn: 0.5628884\ttest: 0.5424095\tbest: 0.5432199 (12)\ttotal: 11.5s\tremaining: 8m\n",
      "14:\tlearn: 0.5646447\ttest: 0.5426796\tbest: 0.5432199 (12)\ttotal: 12.3s\tremaining: 7m 58s\n",
      "15:\tlearn: 0.5658606\ttest: 0.5464614\tbest: 0.5464614 (15)\ttotal: 13s\tremaining: 7m 55s\n",
      "16:\tlearn: 0.5666036\ttest: 0.5459211\tbest: 0.5464614 (15)\ttotal: 13.8s\tremaining: 7m 54s\n",
      "17:\tlearn: 0.5664010\ttest: 0.5472717\tbest: 0.5472717 (17)\ttotal: 14.7s\tremaining: 7m 54s\n",
      "18:\tlearn: 0.5674142\ttest: 0.5497029\tbest: 0.5497029 (18)\ttotal: 15.5s\tremaining: 7m 52s\n",
      "19:\tlearn: 0.5690354\ttest: 0.5510535\tbest: 0.5510535 (19)\ttotal: 16.3s\tremaining: 7m 52s\n",
      "20:\tlearn: 0.5707241\ttest: 0.5505132\tbest: 0.5510535 (19)\ttotal: 17.1s\tremaining: 7m 50s\n",
      "21:\tlearn: 0.5701837\ttest: 0.5502431\tbest: 0.5510535 (19)\ttotal: 17.9s\tremaining: 7m 50s\n",
      "22:\tlearn: 0.5715347\ttest: 0.5510535\tbest: 0.5510535 (19)\ttotal: 18.7s\tremaining: 7m 48s\n",
      "23:\tlearn: 0.5731559\ttest: 0.5518639\tbest: 0.5518639 (23)\ttotal: 19.5s\tremaining: 7m 47s\n",
      "24:\tlearn: 0.5749122\ttest: 0.5518639\tbest: 0.5518639 (23)\ttotal: 20.3s\tremaining: 7m 46s\n",
      "25:\tlearn: 0.5744393\ttest: 0.5542950\tbest: 0.5542950 (25)\ttotal: 21s\tremaining: 7m 44s\n",
      "26:\tlearn: 0.5759254\ttest: 0.5540249\tbest: 0.5542950 (25)\ttotal: 21.8s\tremaining: 7m 42s\n",
      "27:\tlearn: 0.5763983\ttest: 0.5534846\tbest: 0.5542950 (25)\ttotal: 22.6s\tremaining: 7m 42s\n",
      "28:\tlearn: 0.5768711\ttest: 0.5540249\tbest: 0.5542950 (25)\ttotal: 23.4s\tremaining: 7m 39s\n",
      "29:\tlearn: 0.5776817\ttest: 0.5551053\tbest: 0.5551053 (29)\ttotal: 24.2s\tremaining: 7m 38s\n",
      "30:\tlearn: 0.5778844\ttest: 0.5548352\tbest: 0.5551053 (29)\ttotal: 24.9s\tremaining: 7m 37s\n",
      "31:\tlearn: 0.5775466\ttest: 0.5545651\tbest: 0.5551053 (29)\ttotal: 25.7s\tremaining: 7m 36s\n",
      "32:\tlearn: 0.5780870\ttest: 0.5553755\tbest: 0.5553755 (32)\ttotal: 26.5s\tremaining: 7m 35s\n",
      "33:\tlearn: 0.5781546\ttest: 0.5551053\tbest: 0.5553755 (32)\ttotal: 27.3s\tremaining: 7m 34s\n",
      "34:\tlearn: 0.5778168\ttest: 0.5542950\tbest: 0.5553755 (32)\ttotal: 28.1s\tremaining: 7m 34s\n",
      "35:\tlearn: 0.5780870\ttest: 0.5545651\tbest: 0.5553755 (32)\ttotal: 28.9s\tremaining: 7m 33s\n",
      "36:\tlearn: 0.5788300\ttest: 0.5556456\tbest: 0.5556456 (36)\ttotal: 29.7s\tremaining: 7m 31s\n",
      "37:\tlearn: 0.5795055\ttest: 0.5564560\tbest: 0.5564560 (37)\ttotal: 30.5s\tremaining: 7m 31s\n",
      "38:\tlearn: 0.5799784\ttest: 0.5551053\tbest: 0.5564560 (37)\ttotal: 31.4s\tremaining: 7m 32s\n",
      "39:\tlearn: 0.5798433\ttest: 0.5551053\tbest: 0.5564560 (37)\ttotal: 32.2s\tremaining: 7m 30s\n",
      "40:\tlearn: 0.5801135\ttest: 0.5551053\tbest: 0.5564560 (37)\ttotal: 32.9s\tremaining: 7m 28s\n",
      "41:\tlearn: 0.5795731\ttest: 0.5556456\tbest: 0.5564560 (37)\ttotal: 33.6s\tremaining: 7m 26s\n",
      "42:\tlearn: 0.5797757\ttest: 0.5564560\tbest: 0.5564560 (37)\ttotal: 34.4s\tremaining: 7m 25s\n",
      "43:\tlearn: 0.5795055\ttest: 0.5556456\tbest: 0.5564560 (37)\ttotal: 35.1s\tremaining: 7m 23s\n",
      "44:\tlearn: 0.5799108\ttest: 0.5559157\tbest: 0.5564560 (37)\ttotal: 36s\tremaining: 7m 23s\n",
      "45:\tlearn: 0.5801810\ttest: 0.5567261\tbest: 0.5567261 (45)\ttotal: 36.7s\tremaining: 7m 22s\n",
      "46:\tlearn: 0.5800459\ttest: 0.5569962\tbest: 0.5569962 (46)\ttotal: 37.5s\tremaining: 7m 21s\n",
      "47:\tlearn: 0.5813294\ttest: 0.5564560\tbest: 0.5569962 (46)\ttotal: 38.3s\tremaining: 7m 20s\n",
      "48:\tlearn: 0.5813294\ttest: 0.5564560\tbest: 0.5569962 (46)\ttotal: 39.1s\tremaining: 7m 19s\n",
      "49:\tlearn: 0.5815996\ttest: 0.5572663\tbest: 0.5572663 (49)\ttotal: 39.9s\tremaining: 7m 18s\n",
      "50:\tlearn: 0.5811943\ttest: 0.5569962\tbest: 0.5572663 (49)\ttotal: 40.8s\tremaining: 7m 19s\n",
      "51:\tlearn: 0.5811943\ttest: 0.5569962\tbest: 0.5572663 (49)\ttotal: 41.6s\tremaining: 7m 18s\n",
      "52:\tlearn: 0.5813969\ttest: 0.5569962\tbest: 0.5572663 (49)\ttotal: 42.3s\tremaining: 7m 17s\n",
      "53:\tlearn: 0.5820724\ttest: 0.5580767\tbest: 0.5580767 (53)\ttotal: 43.1s\tremaining: 7m 16s\n",
      "54:\tlearn: 0.5818698\ttest: 0.5583468\tbest: 0.5583468 (54)\ttotal: 43.9s\tremaining: 7m 15s\n",
      "55:\tlearn: 0.5817347\ttest: 0.5580767\tbest: 0.5583468 (54)\ttotal: 44.7s\tremaining: 7m 13s\n",
      "56:\tlearn: 0.5818022\ttest: 0.5578066\tbest: 0.5583468 (54)\ttotal: 45.5s\tremaining: 7m 13s\n",
      "57:\tlearn: 0.5818022\ttest: 0.5580767\tbest: 0.5583468 (54)\ttotal: 46.3s\tremaining: 7m 12s\n",
      "58:\tlearn: 0.5813294\ttest: 0.5583468\tbest: 0.5583468 (54)\ttotal: 47.1s\tremaining: 7m 12s\n",
      "59:\tlearn: 0.5812618\ttest: 0.5583468\tbest: 0.5583468 (54)\ttotal: 47.9s\tremaining: 7m 10s\n",
      "60:\tlearn: 0.5813294\ttest: 0.5583468\tbest: 0.5583468 (54)\ttotal: 48.7s\tremaining: 7m 9s\n",
      "61:\tlearn: 0.5816671\ttest: 0.5580767\tbest: 0.5583468 (54)\ttotal: 49.5s\tremaining: 7m 9s\n",
      "62:\tlearn: 0.5815996\ttest: 0.5580767\tbest: 0.5583468 (54)\ttotal: 50.2s\tremaining: 7m 8s\n",
      "63:\tlearn: 0.5815996\ttest: 0.5580767\tbest: 0.5583468 (54)\ttotal: 51s\tremaining: 7m 7s\n",
      "64:\tlearn: 0.5815996\ttest: 0.5580767\tbest: 0.5583468 (54)\ttotal: 51.8s\tremaining: 7m 6s\n",
      "65:\tlearn: 0.5819373\ttest: 0.5586170\tbest: 0.5586170 (65)\ttotal: 52.6s\tremaining: 7m 5s\n",
      "66:\tlearn: 0.5819373\ttest: 0.5586170\tbest: 0.5586170 (65)\ttotal: 53.5s\tremaining: 7m 5s\n",
      "67:\tlearn: 0.5830857\ttest: 0.5599676\tbest: 0.5599676 (67)\ttotal: 54.3s\tremaining: 7m 4s\n",
      "68:\tlearn: 0.5829506\ttest: 0.5588871\tbest: 0.5599676 (67)\ttotal: 55.1s\tremaining: 7m 3s\n",
      "69:\tlearn: 0.5830857\ttest: 0.5588871\tbest: 0.5599676 (67)\ttotal: 55.8s\tremaining: 7m 2s\n",
      "70:\tlearn: 0.5829506\ttest: 0.5594273\tbest: 0.5599676 (67)\ttotal: 56.6s\tremaining: 7m 1s\n",
      "71:\tlearn: 0.5834234\ttest: 0.5588871\tbest: 0.5599676 (67)\ttotal: 57.3s\tremaining: 7m\n",
      "72:\tlearn: 0.5834909\ttest: 0.5588871\tbest: 0.5599676 (67)\ttotal: 58.1s\tremaining: 6m 59s\n",
      "73:\tlearn: 0.5833558\ttest: 0.5591572\tbest: 0.5599676 (67)\ttotal: 58.8s\tremaining: 6m 58s\n",
      "74:\tlearn: 0.5833558\ttest: 0.5591572\tbest: 0.5599676 (67)\ttotal: 59.6s\tremaining: 6m 57s\n",
      "75:\tlearn: 0.5833558\ttest: 0.5588871\tbest: 0.5599676 (67)\ttotal: 1m\tremaining: 6m 56s\n",
      "76:\tlearn: 0.5833558\ttest: 0.5588871\tbest: 0.5599676 (67)\ttotal: 1m 1s\tremaining: 6m 55s\n",
      "77:\tlearn: 0.5833558\ttest: 0.5588871\tbest: 0.5599676 (67)\ttotal: 1m 1s\tremaining: 6m 54s\n",
      "78:\tlearn: 0.5836260\ttest: 0.5586170\tbest: 0.5599676 (67)\ttotal: 1m 2s\tremaining: 6m 53s\n",
      "79:\tlearn: 0.5836260\ttest: 0.5586170\tbest: 0.5599676 (67)\ttotal: 1m 3s\tremaining: 6m 52s\n",
      "80:\tlearn: 0.5836936\ttest: 0.5586170\tbest: 0.5599676 (67)\ttotal: 1m 4s\tremaining: 6m 52s\n",
      "81:\tlearn: 0.5836936\ttest: 0.5586170\tbest: 0.5599676 (67)\ttotal: 1m 5s\tremaining: 6m 51s\n",
      "82:\tlearn: 0.5849095\ttest: 0.5591572\tbest: 0.5599676 (67)\ttotal: 1m 5s\tremaining: 6m 50s\n",
      "83:\tlearn: 0.5849095\ttest: 0.5591572\tbest: 0.5599676 (67)\ttotal: 1m 6s\tremaining: 6m 49s\n",
      "84:\tlearn: 0.5849095\ttest: 0.5596975\tbest: 0.5599676 (67)\ttotal: 1m 7s\tremaining: 6m 48s\n",
      "85:\tlearn: 0.5845042\ttest: 0.5594273\tbest: 0.5599676 (67)\ttotal: 1m 8s\tremaining: 6m 47s\n",
      "86:\tlearn: 0.5846393\ttest: 0.5594273\tbest: 0.5599676 (67)\ttotal: 1m 9s\tremaining: 6m 47s\n",
      "87:\tlearn: 0.5846393\ttest: 0.5594273\tbest: 0.5599676 (67)\ttotal: 1m 9s\tremaining: 6m 46s\n",
      "88:\tlearn: 0.5845042\ttest: 0.5596975\tbest: 0.5599676 (67)\ttotal: 1m 10s\tremaining: 6m 45s\n",
      "89:\tlearn: 0.5845042\ttest: 0.5596975\tbest: 0.5599676 (67)\ttotal: 1m 11s\tremaining: 6m 44s\n",
      "90:\tlearn: 0.5843691\ttest: 0.5596975\tbest: 0.5599676 (67)\ttotal: 1m 12s\tremaining: 6m 42s\n",
      "91:\tlearn: 0.5844366\ttest: 0.5594273\tbest: 0.5599676 (67)\ttotal: 1m 12s\tremaining: 6m 42s\n",
      "92:\tlearn: 0.5844366\ttest: 0.5594273\tbest: 0.5599676 (67)\ttotal: 1m 13s\tremaining: 6m 41s\n",
      "93:\tlearn: 0.5845042\ttest: 0.5594273\tbest: 0.5599676 (67)\ttotal: 1m 14s\tremaining: 6m 40s\n",
      "94:\tlearn: 0.5844366\ttest: 0.5594273\tbest: 0.5599676 (67)\ttotal: 1m 15s\tremaining: 6m 40s\n",
      "95:\tlearn: 0.5851797\ttest: 0.5594273\tbest: 0.5599676 (67)\ttotal: 1m 16s\tremaining: 6m 39s\n",
      "96:\tlearn: 0.5851121\ttest: 0.5591572\tbest: 0.5599676 (67)\ttotal: 1m 16s\tremaining: 6m 39s\n",
      "97:\tlearn: 0.5851797\ttest: 0.5596975\tbest: 0.5599676 (67)\ttotal: 1m 17s\tremaining: 6m 38s\n",
      "98:\tlearn: 0.5850446\ttest: 0.5602377\tbest: 0.5602377 (98)\ttotal: 1m 18s\tremaining: 6m 37s\n",
      "99:\tlearn: 0.5855850\ttest: 0.5607780\tbest: 0.5607780 (99)\ttotal: 1m 19s\tremaining: 6m 37s\n",
      "100:\tlearn: 0.5855850\ttest: 0.5610481\tbest: 0.5610481 (100)\ttotal: 1m 20s\tremaining: 6m 36s\n",
      "101:\tlearn: 0.5855850\ttest: 0.5607780\tbest: 0.5610481 (100)\ttotal: 1m 21s\tremaining: 6m 35s\n",
      "102:\tlearn: 0.5855850\ttest: 0.5610481\tbest: 0.5610481 (100)\ttotal: 1m 21s\tremaining: 6m 35s\n",
      "103:\tlearn: 0.5855850\ttest: 0.5607780\tbest: 0.5610481 (100)\ttotal: 1m 22s\tremaining: 6m 34s\n",
      "104:\tlearn: 0.5853823\ttest: 0.5605078\tbest: 0.5610481 (100)\ttotal: 1m 23s\tremaining: 6m 33s\n",
      "105:\tlearn: 0.5853823\ttest: 0.5605078\tbest: 0.5610481 (100)\ttotal: 1m 24s\tremaining: 6m 33s\n",
      "106:\tlearn: 0.5853148\ttest: 0.5605078\tbest: 0.5610481 (100)\ttotal: 1m 25s\tremaining: 6m 32s\n",
      "107:\tlearn: 0.5853148\ttest: 0.5605078\tbest: 0.5610481 (100)\ttotal: 1m 25s\tremaining: 6m 31s\n",
      "108:\tlearn: 0.5853148\ttest: 0.5605078\tbest: 0.5610481 (100)\ttotal: 1m 26s\tremaining: 6m 30s\n",
      "109:\tlearn: 0.5853148\ttest: 0.5605078\tbest: 0.5610481 (100)\ttotal: 1m 27s\tremaining: 6m 29s\n",
      "110:\tlearn: 0.5853148\ttest: 0.5605078\tbest: 0.5610481 (100)\ttotal: 1m 28s\tremaining: 6m 29s\n",
      "111:\tlearn: 0.5854499\ttest: 0.5615883\tbest: 0.5615883 (111)\ttotal: 1m 29s\tremaining: 6m 28s\n",
      "112:\tlearn: 0.5863280\ttest: 0.5626688\tbest: 0.5626688 (112)\ttotal: 1m 30s\tremaining: 6m 27s\n",
      "113:\tlearn: 0.5863956\ttest: 0.5626688\tbest: 0.5626688 (112)\ttotal: 1m 30s\tremaining: 6m 27s\n",
      "114:\tlearn: 0.5863280\ttest: 0.5626688\tbest: 0.5626688 (112)\ttotal: 1m 31s\tremaining: 6m 26s\n",
      "115:\tlearn: 0.5863280\ttest: 0.5626688\tbest: 0.5626688 (112)\ttotal: 1m 32s\tremaining: 6m 25s\n",
      "116:\tlearn: 0.5863280\ttest: 0.5626688\tbest: 0.5626688 (112)\ttotal: 1m 33s\tremaining: 6m 25s\n",
      "117:\tlearn: 0.5863956\ttest: 0.5629390\tbest: 0.5629390 (117)\ttotal: 1m 34s\tremaining: 6m 24s\n",
      "118:\tlearn: 0.5864631\ttest: 0.5632091\tbest: 0.5632091 (118)\ttotal: 1m 34s\tremaining: 6m 23s\n",
      "119:\tlearn: 0.5865307\ttest: 0.5634792\tbest: 0.5634792 (119)\ttotal: 1m 35s\tremaining: 6m 22s\n",
      "120:\tlearn: 0.5865982\ttest: 0.5634792\tbest: 0.5634792 (119)\ttotal: 1m 36s\tremaining: 6m 21s\n",
      "121:\tlearn: 0.5866658\ttest: 0.5629390\tbest: 0.5634792 (119)\ttotal: 1m 37s\tremaining: 6m 20s\n",
      "122:\tlearn: 0.5865982\ttest: 0.5629390\tbest: 0.5634792 (119)\ttotal: 1m 37s\tremaining: 6m 19s\n",
      "123:\tlearn: 0.5865982\ttest: 0.5629390\tbest: 0.5634792 (119)\ttotal: 1m 38s\tremaining: 6m 18s\n",
      "124:\tlearn: 0.5865982\ttest: 0.5632091\tbest: 0.5634792 (119)\ttotal: 1m 39s\tremaining: 6m 17s\n",
      "125:\tlearn: 0.5866658\ttest: 0.5634792\tbest: 0.5634792 (119)\ttotal: 1m 40s\tremaining: 6m 17s\n",
      "126:\tlearn: 0.5866658\ttest: 0.5634792\tbest: 0.5634792 (119)\ttotal: 1m 41s\tremaining: 6m 16s\n",
      "127:\tlearn: 0.5866658\ttest: 0.5634792\tbest: 0.5634792 (119)\ttotal: 1m 41s\tremaining: 6m 15s\n",
      "128:\tlearn: 0.5866658\ttest: 0.5634792\tbest: 0.5634792 (119)\ttotal: 1m 42s\tremaining: 6m 14s\n",
      "129:\tlearn: 0.5872737\ttest: 0.5634792\tbest: 0.5634792 (119)\ttotal: 1m 43s\tremaining: 6m 14s\n",
      "130:\tlearn: 0.5872737\ttest: 0.5634792\tbest: 0.5634792 (119)\ttotal: 1m 44s\tremaining: 6m 13s\n",
      "131:\tlearn: 0.5872737\ttest: 0.5634792\tbest: 0.5634792 (119)\ttotal: 1m 45s\tremaining: 6m 12s\n",
      "132:\tlearn: 0.5872737\ttest: 0.5634792\tbest: 0.5634792 (119)\ttotal: 1m 45s\tremaining: 6m 11s\n",
      "133:\tlearn: 0.5880168\ttest: 0.5645597\tbest: 0.5645597 (133)\ttotal: 1m 46s\tremaining: 6m 10s\n",
      "134:\tlearn: 0.5880843\ttest: 0.5648298\tbest: 0.5648298 (134)\ttotal: 1m 47s\tremaining: 6m 10s\n",
      "135:\tlearn: 0.5880843\ttest: 0.5648298\tbest: 0.5648298 (134)\ttotal: 1m 48s\tremaining: 6m 9s\n",
      "136:\tlearn: 0.5880843\ttest: 0.5648298\tbest: 0.5648298 (134)\ttotal: 1m 49s\tremaining: 6m 8s\n",
      "137:\tlearn: 0.5880843\ttest: 0.5648298\tbest: 0.5648298 (134)\ttotal: 1m 49s\tremaining: 6m 7s\n",
      "138:\tlearn: 0.5880843\ttest: 0.5648298\tbest: 0.5648298 (134)\ttotal: 1m 50s\tremaining: 6m 6s\n",
      "139:\tlearn: 0.5880843\ttest: 0.5648298\tbest: 0.5648298 (134)\ttotal: 1m 51s\tremaining: 6m 5s\n",
      "140:\tlearn: 0.5880843\ttest: 0.5656402\tbest: 0.5656402 (140)\ttotal: 1m 52s\tremaining: 6m 5s\n",
      "141:\tlearn: 0.5881519\ttest: 0.5656402\tbest: 0.5656402 (140)\ttotal: 1m 52s\tremaining: 6m 4s\n",
      "142:\tlearn: 0.5881519\ttest: 0.5656402\tbest: 0.5656402 (140)\ttotal: 1m 53s\tremaining: 6m 3s\n",
      "143:\tlearn: 0.5881519\ttest: 0.5656402\tbest: 0.5656402 (140)\ttotal: 1m 54s\tremaining: 6m 2s\n",
      "144:\tlearn: 0.5881519\ttest: 0.5656402\tbest: 0.5656402 (140)\ttotal: 1m 55s\tremaining: 6m 1s\n",
      "145:\tlearn: 0.5881519\ttest: 0.5656402\tbest: 0.5656402 (140)\ttotal: 1m 55s\tremaining: 6m\n",
      "146:\tlearn: 0.5881519\ttest: 0.5656402\tbest: 0.5656402 (140)\ttotal: 1m 56s\tremaining: 5m 59s\n",
      "147:\tlearn: 0.5881519\ttest: 0.5656402\tbest: 0.5656402 (140)\ttotal: 1m 57s\tremaining: 5m 58s\n",
      "148:\tlearn: 0.5881519\ttest: 0.5656402\tbest: 0.5656402 (140)\ttotal: 1m 58s\tremaining: 5m 57s\n",
      "149:\tlearn: 0.5880843\ttest: 0.5656402\tbest: 0.5656402 (140)\ttotal: 1m 59s\tremaining: 5m 57s\n",
      "150:\tlearn: 0.5881519\ttest: 0.5656402\tbest: 0.5656402 (140)\ttotal: 1m 59s\tremaining: 5m 56s\n",
      "151:\tlearn: 0.5881519\ttest: 0.5656402\tbest: 0.5656402 (140)\ttotal: 2m\tremaining: 5m 55s\n",
      "152:\tlearn: 0.5881519\ttest: 0.5656402\tbest: 0.5656402 (140)\ttotal: 2m 1s\tremaining: 5m 54s\n",
      "153:\tlearn: 0.5880843\ttest: 0.5653701\tbest: 0.5656402 (140)\ttotal: 2m 2s\tremaining: 5m 53s\n",
      "154:\tlearn: 0.5880843\ttest: 0.5653701\tbest: 0.5656402 (140)\ttotal: 2m 2s\tremaining: 5m 52s\n",
      "155:\tlearn: 0.5880843\ttest: 0.5653701\tbest: 0.5656402 (140)\ttotal: 2m 3s\tremaining: 5m 52s\n",
      "156:\tlearn: 0.5880843\ttest: 0.5653701\tbest: 0.5656402 (140)\ttotal: 2m 4s\tremaining: 5m 51s\n",
      "157:\tlearn: 0.5880843\ttest: 0.5653701\tbest: 0.5656402 (140)\ttotal: 2m 5s\tremaining: 5m 50s\n",
      "158:\tlearn: 0.5880843\ttest: 0.5653701\tbest: 0.5656402 (140)\ttotal: 2m 6s\tremaining: 5m 50s\n",
      "159:\tlearn: 0.5881519\ttest: 0.5653701\tbest: 0.5656402 (140)\ttotal: 2m 7s\tremaining: 5m 49s\n",
      "160:\tlearn: 0.5881519\ttest: 0.5653701\tbest: 0.5656402 (140)\ttotal: 2m 7s\tremaining: 5m 48s\n",
      "161:\tlearn: 0.5881519\ttest: 0.5653701\tbest: 0.5656402 (140)\ttotal: 2m 8s\tremaining: 5m 47s\n",
      "162:\tlearn: 0.5882869\ttest: 0.5656402\tbest: 0.5656402 (140)\ttotal: 2m 9s\tremaining: 5m 46s\n",
      "163:\tlearn: 0.5882194\ttest: 0.5656402\tbest: 0.5656402 (140)\ttotal: 2m 9s\tremaining: 5m 45s\n",
      "164:\tlearn: 0.5882869\ttest: 0.5656402\tbest: 0.5656402 (140)\ttotal: 2m 10s\tremaining: 5m 44s\n",
      "165:\tlearn: 0.5882869\ttest: 0.5656402\tbest: 0.5656402 (140)\ttotal: 2m 11s\tremaining: 5m 43s\n",
      "166:\tlearn: 0.5883545\ttest: 0.5653701\tbest: 0.5656402 (140)\ttotal: 2m 12s\tremaining: 5m 42s\n",
      "167:\tlearn: 0.5883545\ttest: 0.5653701\tbest: 0.5656402 (140)\ttotal: 2m 12s\tremaining: 5m 41s\n",
      "168:\tlearn: 0.5886247\ttest: 0.5656402\tbest: 0.5656402 (140)\ttotal: 2m 13s\tremaining: 5m 41s\n",
      "169:\tlearn: 0.5886247\ttest: 0.5656402\tbest: 0.5656402 (140)\ttotal: 2m 14s\tremaining: 5m 40s\n",
      "170:\tlearn: 0.5890300\ttest: 0.5653701\tbest: 0.5656402 (140)\ttotal: 2m 15s\tremaining: 5m 39s\n",
      "171:\tlearn: 0.5890300\ttest: 0.5653701\tbest: 0.5656402 (140)\ttotal: 2m 16s\tremaining: 5m 38s\n",
      "172:\tlearn: 0.5889624\ttest: 0.5653701\tbest: 0.5656402 (140)\ttotal: 2m 16s\tremaining: 5m 38s\n",
      "173:\tlearn: 0.5889624\ttest: 0.5653701\tbest: 0.5656402 (140)\ttotal: 2m 17s\tremaining: 5m 37s\n",
      "174:\tlearn: 0.5889624\ttest: 0.5653701\tbest: 0.5656402 (140)\ttotal: 2m 18s\tremaining: 5m 36s\n",
      "175:\tlearn: 0.5889624\ttest: 0.5653701\tbest: 0.5656402 (140)\ttotal: 2m 19s\tremaining: 5m 35s\n",
      "176:\tlearn: 0.5889624\ttest: 0.5653701\tbest: 0.5656402 (140)\ttotal: 2m 20s\tremaining: 5m 34s\n",
      "177:\tlearn: 0.5888949\ttest: 0.5653701\tbest: 0.5656402 (140)\ttotal: 2m 20s\tremaining: 5m 34s\n",
      "178:\tlearn: 0.5888949\ttest: 0.5653701\tbest: 0.5656402 (140)\ttotal: 2m 21s\tremaining: 5m 33s\n",
      "179:\tlearn: 0.5888949\ttest: 0.5653701\tbest: 0.5656402 (140)\ttotal: 2m 22s\tremaining: 5m 32s\n",
      "180:\tlearn: 0.5889624\ttest: 0.5653701\tbest: 0.5656402 (140)\ttotal: 2m 23s\tremaining: 5m 31s\n",
      "181:\tlearn: 0.5889624\ttest: 0.5653701\tbest: 0.5656402 (140)\ttotal: 2m 24s\tremaining: 5m 30s\n",
      "182:\tlearn: 0.5889624\ttest: 0.5653701\tbest: 0.5656402 (140)\ttotal: 2m 24s\tremaining: 5m 30s\n",
      "183:\tlearn: 0.5889624\ttest: 0.5653701\tbest: 0.5656402 (140)\ttotal: 2m 25s\tremaining: 5m 29s\n",
      "184:\tlearn: 0.5889624\ttest: 0.5653701\tbest: 0.5656402 (140)\ttotal: 2m 26s\tremaining: 5m 28s\n",
      "185:\tlearn: 0.5889624\ttest: 0.5653701\tbest: 0.5656402 (140)\ttotal: 2m 27s\tremaining: 5m 27s\n",
      "186:\tlearn: 0.5889624\ttest: 0.5653701\tbest: 0.5656402 (140)\ttotal: 2m 27s\tremaining: 5m 26s\n",
      "187:\tlearn: 0.5889624\ttest: 0.5653701\tbest: 0.5656402 (140)\ttotal: 2m 28s\tremaining: 5m 25s\n",
      "188:\tlearn: 0.5889624\ttest: 0.5653701\tbest: 0.5656402 (140)\ttotal: 2m 29s\tremaining: 5m 24s\n",
      "189:\tlearn: 0.5889624\ttest: 0.5653701\tbest: 0.5656402 (140)\ttotal: 2m 29s\tremaining: 5m 23s\n",
      "190:\tlearn: 0.5889624\ttest: 0.5653701\tbest: 0.5656402 (140)\ttotal: 2m 30s\tremaining: 5m 22s\n",
      "191:\tlearn: 0.5889624\ttest: 0.5653701\tbest: 0.5656402 (140)\ttotal: 2m 31s\tremaining: 5m 21s\n",
      "192:\tlearn: 0.5889624\ttest: 0.5653701\tbest: 0.5656402 (140)\ttotal: 2m 32s\tremaining: 5m 21s\n",
      "193:\tlearn: 0.5889624\ttest: 0.5653701\tbest: 0.5656402 (140)\ttotal: 2m 33s\tremaining: 5m 20s\n",
      "194:\tlearn: 0.5890300\ttest: 0.5653701\tbest: 0.5656402 (140)\ttotal: 2m 33s\tremaining: 5m 19s\n",
      "195:\tlearn: 0.5890300\ttest: 0.5653701\tbest: 0.5656402 (140)\ttotal: 2m 34s\tremaining: 5m 18s\n",
      "196:\tlearn: 0.5889624\ttest: 0.5653701\tbest: 0.5656402 (140)\ttotal: 2m 35s\tremaining: 5m 18s\n",
      "197:\tlearn: 0.5889624\ttest: 0.5653701\tbest: 0.5656402 (140)\ttotal: 2m 36s\tremaining: 5m 17s\n",
      "198:\tlearn: 0.5889624\ttest: 0.5653701\tbest: 0.5656402 (140)\ttotal: 2m 37s\tremaining: 5m 16s\n",
      "199:\tlearn: 0.5890975\ttest: 0.5648298\tbest: 0.5656402 (140)\ttotal: 2m 37s\tremaining: 5m 15s\n",
      "200:\tlearn: 0.5890975\ttest: 0.5648298\tbest: 0.5656402 (140)\ttotal: 2m 38s\tremaining: 5m 14s\n",
      "201:\tlearn: 0.5890975\ttest: 0.5648298\tbest: 0.5656402 (140)\ttotal: 2m 39s\tremaining: 5m 14s\n",
      "202:\tlearn: 0.5895028\ttest: 0.5650999\tbest: 0.5656402 (140)\ttotal: 2m 40s\tremaining: 5m 13s\n",
      "203:\tlearn: 0.5895028\ttest: 0.5650999\tbest: 0.5656402 (140)\ttotal: 2m 41s\tremaining: 5m 12s\n",
      "204:\tlearn: 0.5895028\ttest: 0.5650999\tbest: 0.5656402 (140)\ttotal: 2m 41s\tremaining: 5m 11s\n",
      "205:\tlearn: 0.5895028\ttest: 0.5650999\tbest: 0.5656402 (140)\ttotal: 2m 42s\tremaining: 5m 11s\n",
      "206:\tlearn: 0.5895028\ttest: 0.5650999\tbest: 0.5656402 (140)\ttotal: 2m 43s\tremaining: 5m 10s\n",
      "207:\tlearn: 0.5895028\ttest: 0.5650999\tbest: 0.5656402 (140)\ttotal: 2m 44s\tremaining: 5m 9s\n",
      "208:\tlearn: 0.5895028\ttest: 0.5650999\tbest: 0.5656402 (140)\ttotal: 2m 45s\tremaining: 5m 8s\n",
      "209:\tlearn: 0.5895028\ttest: 0.5650999\tbest: 0.5656402 (140)\ttotal: 2m 45s\tremaining: 5m 8s\n",
      "210:\tlearn: 0.5895028\ttest: 0.5650999\tbest: 0.5656402 (140)\ttotal: 2m 46s\tremaining: 5m 7s\n",
      "211:\tlearn: 0.5895704\ttest: 0.5650999\tbest: 0.5656402 (140)\ttotal: 2m 47s\tremaining: 5m 6s\n",
      "212:\tlearn: 0.5897055\ttest: 0.5648298\tbest: 0.5656402 (140)\ttotal: 2m 48s\tremaining: 5m 5s\n",
      "213:\tlearn: 0.5897055\ttest: 0.5648298\tbest: 0.5656402 (140)\ttotal: 2m 49s\tremaining: 5m 5s\n",
      "214:\tlearn: 0.5897055\ttest: 0.5648298\tbest: 0.5656402 (140)\ttotal: 2m 49s\tremaining: 5m 4s\n",
      "215:\tlearn: 0.5897055\ttest: 0.5645597\tbest: 0.5656402 (140)\ttotal: 2m 50s\tremaining: 5m 3s\n",
      "216:\tlearn: 0.5897055\ttest: 0.5648298\tbest: 0.5656402 (140)\ttotal: 2m 51s\tremaining: 5m 2s\n",
      "217:\tlearn: 0.5897055\ttest: 0.5648298\tbest: 0.5656402 (140)\ttotal: 2m 52s\tremaining: 5m 1s\n",
      "218:\tlearn: 0.5897055\ttest: 0.5648298\tbest: 0.5656402 (140)\ttotal: 2m 53s\tremaining: 5m 1s\n",
      "219:\tlearn: 0.5897055\ttest: 0.5648298\tbest: 0.5656402 (140)\ttotal: 2m 53s\tremaining: 5m\n",
      "220:\tlearn: 0.5899081\ttest: 0.5642896\tbest: 0.5656402 (140)\ttotal: 2m 54s\tremaining: 4m 59s\n",
      "221:\tlearn: 0.5899081\ttest: 0.5642896\tbest: 0.5656402 (140)\ttotal: 2m 55s\tremaining: 4m 58s\n",
      "222:\tlearn: 0.5898406\ttest: 0.5642896\tbest: 0.5656402 (140)\ttotal: 2m 56s\tremaining: 4m 58s\n",
      "223:\tlearn: 0.5899081\ttest: 0.5642896\tbest: 0.5656402 (140)\ttotal: 2m 57s\tremaining: 4m 57s\n",
      "224:\tlearn: 0.5899081\ttest: 0.5642896\tbest: 0.5656402 (140)\ttotal: 2m 57s\tremaining: 4m 56s\n",
      "225:\tlearn: 0.5898406\ttest: 0.5642896\tbest: 0.5656402 (140)\ttotal: 2m 58s\tremaining: 4m 55s\n",
      "226:\tlearn: 0.5898406\ttest: 0.5640194\tbest: 0.5656402 (140)\ttotal: 2m 59s\tremaining: 4m 55s\n",
      "227:\tlearn: 0.5897730\ttest: 0.5640194\tbest: 0.5656402 (140)\ttotal: 3m\tremaining: 4m 54s\n",
      "228:\tlearn: 0.5897730\ttest: 0.5640194\tbest: 0.5656402 (140)\ttotal: 3m 1s\tremaining: 4m 53s\n",
      "229:\tlearn: 0.5897730\ttest: 0.5640194\tbest: 0.5656402 (140)\ttotal: 3m 1s\tremaining: 4m 52s\n",
      "230:\tlearn: 0.5898406\ttest: 0.5640194\tbest: 0.5656402 (140)\ttotal: 3m 2s\tremaining: 4m 51s\n",
      "231:\tlearn: 0.5898406\ttest: 0.5640194\tbest: 0.5656402 (140)\ttotal: 3m 3s\tremaining: 4m 51s\n",
      "232:\tlearn: 0.5898406\ttest: 0.5640194\tbest: 0.5656402 (140)\ttotal: 3m 4s\tremaining: 4m 50s\n",
      "233:\tlearn: 0.5899081\ttest: 0.5640194\tbest: 0.5656402 (140)\ttotal: 3m 5s\tremaining: 4m 49s\n",
      "234:\tlearn: 0.5897055\ttest: 0.5637493\tbest: 0.5656402 (140)\ttotal: 3m 5s\tremaining: 4m 48s\n",
      "235:\tlearn: 0.5898406\ttest: 0.5640194\tbest: 0.5656402 (140)\ttotal: 3m 6s\tremaining: 4m 48s\n",
      "236:\tlearn: 0.5899081\ttest: 0.5640194\tbest: 0.5656402 (140)\ttotal: 3m 7s\tremaining: 4m 47s\n",
      "237:\tlearn: 0.5899081\ttest: 0.5640194\tbest: 0.5656402 (140)\ttotal: 3m 8s\tremaining: 4m 46s\n",
      "238:\tlearn: 0.5898406\ttest: 0.5640194\tbest: 0.5656402 (140)\ttotal: 3m 9s\tremaining: 4m 45s\n",
      "239:\tlearn: 0.5898406\ttest: 0.5640194\tbest: 0.5656402 (140)\ttotal: 3m 9s\tremaining: 4m 44s\n",
      "240:\tlearn: 0.5898406\ttest: 0.5640194\tbest: 0.5656402 (140)\ttotal: 3m 10s\tremaining: 4m 43s\n",
      "241:\tlearn: 0.5899081\ttest: 0.5640194\tbest: 0.5656402 (140)\ttotal: 3m 11s\tremaining: 4m 43s\n",
      "242:\tlearn: 0.5898406\ttest: 0.5640194\tbest: 0.5656402 (140)\ttotal: 3m 12s\tremaining: 4m 42s\n",
      "243:\tlearn: 0.5898406\ttest: 0.5640194\tbest: 0.5656402 (140)\ttotal: 3m 13s\tremaining: 4m 41s\n",
      "244:\tlearn: 0.5898406\ttest: 0.5640194\tbest: 0.5656402 (140)\ttotal: 3m 13s\tremaining: 4m 40s\n",
      "245:\tlearn: 0.5898406\ttest: 0.5640194\tbest: 0.5656402 (140)\ttotal: 3m 14s\tremaining: 4m 40s\n",
      "246:\tlearn: 0.5898406\ttest: 0.5640194\tbest: 0.5656402 (140)\ttotal: 3m 15s\tremaining: 4m 39s\n",
      "247:\tlearn: 0.5898406\ttest: 0.5640194\tbest: 0.5656402 (140)\ttotal: 3m 16s\tremaining: 4m 38s\n",
      "248:\tlearn: 0.5899081\ttest: 0.5640194\tbest: 0.5656402 (140)\ttotal: 3m 16s\tremaining: 4m 37s\n",
      "249:\tlearn: 0.5899081\ttest: 0.5640194\tbest: 0.5656402 (140)\ttotal: 3m 17s\tremaining: 4m 36s\n",
      "250:\tlearn: 0.5899081\ttest: 0.5640194\tbest: 0.5656402 (140)\ttotal: 3m 18s\tremaining: 4m 36s\n",
      "251:\tlearn: 0.5899081\ttest: 0.5640194\tbest: 0.5656402 (140)\ttotal: 3m 19s\tremaining: 4m 35s\n",
      "252:\tlearn: 0.5898406\ttest: 0.5640194\tbest: 0.5656402 (140)\ttotal: 3m 20s\tremaining: 4m 34s\n",
      "253:\tlearn: 0.5898406\ttest: 0.5640194\tbest: 0.5656402 (140)\ttotal: 3m 20s\tremaining: 4m 33s\n",
      "254:\tlearn: 0.5898406\ttest: 0.5640194\tbest: 0.5656402 (140)\ttotal: 3m 21s\tremaining: 4m 32s\n",
      "255:\tlearn: 0.5899081\ttest: 0.5640194\tbest: 0.5656402 (140)\ttotal: 3m 22s\tremaining: 4m 32s\n",
      "256:\tlearn: 0.5899081\ttest: 0.5640194\tbest: 0.5656402 (140)\ttotal: 3m 23s\tremaining: 4m 31s\n",
      "257:\tlearn: 0.5899081\ttest: 0.5640194\tbest: 0.5656402 (140)\ttotal: 3m 24s\tremaining: 4m 30s\n",
      "258:\tlearn: 0.5899081\ttest: 0.5640194\tbest: 0.5656402 (140)\ttotal: 3m 24s\tremaining: 4m 29s\n",
      "259:\tlearn: 0.5899081\ttest: 0.5640194\tbest: 0.5656402 (140)\ttotal: 3m 25s\tremaining: 4m 28s\n",
      "260:\tlearn: 0.5899081\ttest: 0.5640194\tbest: 0.5656402 (140)\ttotal: 3m 26s\tremaining: 4m 28s\n",
      "261:\tlearn: 0.5899081\ttest: 0.5640194\tbest: 0.5656402 (140)\ttotal: 3m 27s\tremaining: 4m 27s\n",
      "262:\tlearn: 0.5899081\ttest: 0.5640194\tbest: 0.5656402 (140)\ttotal: 3m 28s\tremaining: 4m 26s\n",
      "263:\tlearn: 0.5899081\ttest: 0.5640194\tbest: 0.5656402 (140)\ttotal: 3m 28s\tremaining: 4m 25s\n",
      "264:\tlearn: 0.5899081\ttest: 0.5640194\tbest: 0.5656402 (140)\ttotal: 3m 29s\tremaining: 4m 24s\n",
      "265:\tlearn: 0.5899081\ttest: 0.5640194\tbest: 0.5656402 (140)\ttotal: 3m 30s\tremaining: 4m 24s\n",
      "266:\tlearn: 0.5899081\ttest: 0.5640194\tbest: 0.5656402 (140)\ttotal: 3m 31s\tremaining: 4m 23s\n",
      "267:\tlearn: 0.5899081\ttest: 0.5640194\tbest: 0.5656402 (140)\ttotal: 3m 31s\tremaining: 4m 22s\n",
      "268:\tlearn: 0.5899081\ttest: 0.5640194\tbest: 0.5656402 (140)\ttotal: 3m 32s\tremaining: 4m 21s\n",
      "269:\tlearn: 0.5899081\ttest: 0.5640194\tbest: 0.5656402 (140)\ttotal: 3m 33s\tremaining: 4m 20s\n",
      "270:\tlearn: 0.5899081\ttest: 0.5640194\tbest: 0.5656402 (140)\ttotal: 3m 34s\tremaining: 4m 20s\n",
      "271:\tlearn: 0.5899081\ttest: 0.5640194\tbest: 0.5656402 (140)\ttotal: 3m 34s\tremaining: 4m 19s\n",
      "272:\tlearn: 0.5899081\ttest: 0.5640194\tbest: 0.5656402 (140)\ttotal: 3m 35s\tremaining: 4m 18s\n",
      "273:\tlearn: 0.5899081\ttest: 0.5640194\tbest: 0.5656402 (140)\ttotal: 3m 36s\tremaining: 4m 17s\n",
      "274:\tlearn: 0.5899081\ttest: 0.5640194\tbest: 0.5656402 (140)\ttotal: 3m 37s\tremaining: 4m 16s\n",
      "275:\tlearn: 0.5900432\ttest: 0.5640194\tbest: 0.5656402 (140)\ttotal: 3m 38s\tremaining: 4m 16s\n",
      "276:\tlearn: 0.5900432\ttest: 0.5640194\tbest: 0.5656402 (140)\ttotal: 3m 38s\tremaining: 4m 15s\n",
      "277:\tlearn: 0.5900432\ttest: 0.5640194\tbest: 0.5656402 (140)\ttotal: 3m 39s\tremaining: 4m 14s\n",
      "278:\tlearn: 0.5900432\ttest: 0.5640194\tbest: 0.5656402 (140)\ttotal: 3m 40s\tremaining: 4m 13s\n",
      "279:\tlearn: 0.5900432\ttest: 0.5640194\tbest: 0.5656402 (140)\ttotal: 3m 41s\tremaining: 4m 12s\n",
      "280:\tlearn: 0.5900432\ttest: 0.5640194\tbest: 0.5656402 (140)\ttotal: 3m 42s\tremaining: 4m 12s\n",
      "281:\tlearn: 0.5900432\ttest: 0.5640194\tbest: 0.5656402 (140)\ttotal: 3m 42s\tremaining: 4m 11s\n",
      "282:\tlearn: 0.5900432\ttest: 0.5640194\tbest: 0.5656402 (140)\ttotal: 3m 43s\tremaining: 4m 10s\n",
      "283:\tlearn: 0.5900432\ttest: 0.5637493\tbest: 0.5656402 (140)\ttotal: 3m 44s\tremaining: 4m 9s\n",
      "284:\tlearn: 0.5900432\ttest: 0.5637493\tbest: 0.5656402 (140)\ttotal: 3m 45s\tremaining: 4m 8s\n",
      "285:\tlearn: 0.5901108\ttest: 0.5634792\tbest: 0.5656402 (140)\ttotal: 3m 46s\tremaining: 4m 8s\n",
      "286:\tlearn: 0.5901108\ttest: 0.5634792\tbest: 0.5656402 (140)\ttotal: 3m 46s\tremaining: 4m 7s\n",
      "287:\tlearn: 0.5901108\ttest: 0.5634792\tbest: 0.5656402 (140)\ttotal: 3m 47s\tremaining: 4m 6s\n",
      "288:\tlearn: 0.5901108\ttest: 0.5634792\tbest: 0.5656402 (140)\ttotal: 3m 48s\tremaining: 4m 5s\n",
      "289:\tlearn: 0.5901108\ttest: 0.5634792\tbest: 0.5656402 (140)\ttotal: 3m 49s\tremaining: 4m 5s\n",
      "290:\tlearn: 0.5903134\ttest: 0.5640194\tbest: 0.5656402 (140)\ttotal: 3m 50s\tremaining: 4m 4s\n",
      "291:\tlearn: 0.5903134\ttest: 0.5640194\tbest: 0.5656402 (140)\ttotal: 3m 50s\tremaining: 4m 3s\n",
      "292:\tlearn: 0.5903134\ttest: 0.5640194\tbest: 0.5656402 (140)\ttotal: 3m 51s\tremaining: 4m 2s\n",
      "293:\tlearn: 0.5903134\ttest: 0.5640194\tbest: 0.5656402 (140)\ttotal: 3m 52s\tremaining: 4m 1s\n",
      "294:\tlearn: 0.5903134\ttest: 0.5640194\tbest: 0.5656402 (140)\ttotal: 3m 53s\tremaining: 4m 1s\n",
      "295:\tlearn: 0.5903134\ttest: 0.5640194\tbest: 0.5656402 (140)\ttotal: 3m 53s\tremaining: 4m\n",
      "296:\tlearn: 0.5903134\ttest: 0.5640194\tbest: 0.5656402 (140)\ttotal: 3m 54s\tremaining: 3m 59s\n",
      "297:\tlearn: 0.5903134\ttest: 0.5640194\tbest: 0.5656402 (140)\ttotal: 3m 55s\tremaining: 3m 58s\n",
      "298:\tlearn: 0.5903134\ttest: 0.5640194\tbest: 0.5656402 (140)\ttotal: 3m 56s\tremaining: 3m 57s\n",
      "299:\tlearn: 0.5902459\ttest: 0.5640194\tbest: 0.5656402 (140)\ttotal: 3m 57s\tremaining: 3m 57s\n",
      "300:\tlearn: 0.5902459\ttest: 0.5640194\tbest: 0.5656402 (140)\ttotal: 3m 57s\tremaining: 3m 56s\n",
      "301:\tlearn: 0.5902459\ttest: 0.5640194\tbest: 0.5656402 (140)\ttotal: 3m 58s\tremaining: 3m 55s\n",
      "302:\tlearn: 0.5903134\ttest: 0.5640194\tbest: 0.5656402 (140)\ttotal: 3m 59s\tremaining: 3m 54s\n",
      "303:\tlearn: 0.5902459\ttest: 0.5640194\tbest: 0.5656402 (140)\ttotal: 4m\tremaining: 3m 53s\n",
      "304:\tlearn: 0.5903134\ttest: 0.5640194\tbest: 0.5656402 (140)\ttotal: 4m 1s\tremaining: 3m 53s\n",
      "305:\tlearn: 0.5902459\ttest: 0.5640194\tbest: 0.5656402 (140)\ttotal: 4m 1s\tremaining: 3m 52s\n",
      "306:\tlearn: 0.5902459\ttest: 0.5640194\tbest: 0.5656402 (140)\ttotal: 4m 2s\tremaining: 3m 51s\n",
      "307:\tlearn: 0.5902459\ttest: 0.5640194\tbest: 0.5656402 (140)\ttotal: 4m 3s\tremaining: 3m 50s\n",
      "308:\tlearn: 0.5902459\ttest: 0.5640194\tbest: 0.5656402 (140)\ttotal: 4m 4s\tremaining: 3m 49s\n",
      "309:\tlearn: 0.5902459\ttest: 0.5640194\tbest: 0.5656402 (140)\ttotal: 4m 4s\tremaining: 3m 49s\n",
      "310:\tlearn: 0.5902459\ttest: 0.5640194\tbest: 0.5656402 (140)\ttotal: 4m 5s\tremaining: 3m 48s\n",
      "311:\tlearn: 0.5902459\ttest: 0.5642896\tbest: 0.5656402 (140)\ttotal: 4m 6s\tremaining: 3m 47s\n",
      "312:\tlearn: 0.5902459\ttest: 0.5640194\tbest: 0.5656402 (140)\ttotal: 4m 7s\tremaining: 3m 46s\n",
      "313:\tlearn: 0.5902459\ttest: 0.5640194\tbest: 0.5656402 (140)\ttotal: 4m 8s\tremaining: 3m 46s\n",
      "314:\tlearn: 0.5902459\ttest: 0.5640194\tbest: 0.5656402 (140)\ttotal: 4m 9s\tremaining: 3m 45s\n",
      "315:\tlearn: 0.5903134\ttest: 0.5640194\tbest: 0.5656402 (140)\ttotal: 4m 10s\tremaining: 3m 44s\n",
      "316:\tlearn: 0.5903134\ttest: 0.5640194\tbest: 0.5656402 (140)\ttotal: 4m 10s\tremaining: 3m 43s\n",
      "317:\tlearn: 0.5903134\ttest: 0.5640194\tbest: 0.5656402 (140)\ttotal: 4m 11s\tremaining: 3m 43s\n",
      "318:\tlearn: 0.5903134\ttest: 0.5640194\tbest: 0.5656402 (140)\ttotal: 4m 12s\tremaining: 3m 42s\n",
      "319:\tlearn: 0.5903134\ttest: 0.5640194\tbest: 0.5656402 (140)\ttotal: 4m 13s\tremaining: 3m 41s\n",
      "320:\tlearn: 0.5903134\ttest: 0.5640194\tbest: 0.5656402 (140)\ttotal: 4m 13s\tremaining: 3m 40s\n",
      "321:\tlearn: 0.5903134\ttest: 0.5640194\tbest: 0.5656402 (140)\ttotal: 4m 14s\tremaining: 3m 39s\n",
      "322:\tlearn: 0.5903134\ttest: 0.5642896\tbest: 0.5656402 (140)\ttotal: 4m 15s\tremaining: 3m 39s\n",
      "323:\tlearn: 0.5903134\ttest: 0.5642896\tbest: 0.5656402 (140)\ttotal: 4m 16s\tremaining: 3m 38s\n",
      "324:\tlearn: 0.5903134\ttest: 0.5642896\tbest: 0.5656402 (140)\ttotal: 4m 17s\tremaining: 3m 37s\n",
      "325:\tlearn: 0.5903134\ttest: 0.5642896\tbest: 0.5656402 (140)\ttotal: 4m 18s\tremaining: 3m 36s\n",
      "326:\tlearn: 0.5903134\ttest: 0.5642896\tbest: 0.5656402 (140)\ttotal: 4m 18s\tremaining: 3m 36s\n",
      "327:\tlearn: 0.5903134\ttest: 0.5642896\tbest: 0.5656402 (140)\ttotal: 4m 19s\tremaining: 3m 35s\n",
      "328:\tlearn: 0.5903134\ttest: 0.5640194\tbest: 0.5656402 (140)\ttotal: 4m 20s\tremaining: 3m 34s\n",
      "329:\tlearn: 0.5903134\ttest: 0.5642896\tbest: 0.5656402 (140)\ttotal: 4m 21s\tremaining: 3m 33s\n",
      "330:\tlearn: 0.5903134\ttest: 0.5640194\tbest: 0.5656402 (140)\ttotal: 4m 22s\tremaining: 3m 32s\n",
      "331:\tlearn: 0.5903134\ttest: 0.5642896\tbest: 0.5656402 (140)\ttotal: 4m 22s\tremaining: 3m 32s\n",
      "332:\tlearn: 0.5903134\ttest: 0.5642896\tbest: 0.5656402 (140)\ttotal: 4m 23s\tremaining: 3m 31s\n",
      "333:\tlearn: 0.5902459\ttest: 0.5645597\tbest: 0.5656402 (140)\ttotal: 4m 24s\tremaining: 3m 30s\n",
      "334:\tlearn: 0.5902459\ttest: 0.5645597\tbest: 0.5656402 (140)\ttotal: 4m 25s\tremaining: 3m 29s\n",
      "335:\tlearn: 0.5902459\ttest: 0.5645597\tbest: 0.5656402 (140)\ttotal: 4m 26s\tremaining: 3m 29s\n",
      "336:\tlearn: 0.5902459\ttest: 0.5645597\tbest: 0.5656402 (140)\ttotal: 4m 26s\tremaining: 3m 28s\n",
      "337:\tlearn: 0.5902459\ttest: 0.5645597\tbest: 0.5656402 (140)\ttotal: 4m 27s\tremaining: 3m 27s\n",
      "338:\tlearn: 0.5902459\ttest: 0.5645597\tbest: 0.5656402 (140)\ttotal: 4m 28s\tremaining: 3m 26s\n",
      "339:\tlearn: 0.5902459\ttest: 0.5645597\tbest: 0.5656402 (140)\ttotal: 4m 29s\tremaining: 3m 25s\n",
      "340:\tlearn: 0.5902459\ttest: 0.5645597\tbest: 0.5656402 (140)\ttotal: 4m 29s\tremaining: 3m 24s\n",
      "341:\tlearn: 0.5902459\ttest: 0.5645597\tbest: 0.5656402 (140)\ttotal: 4m 30s\tremaining: 3m 24s\n",
      "342:\tlearn: 0.5902459\ttest: 0.5645597\tbest: 0.5656402 (140)\ttotal: 4m 31s\tremaining: 3m 23s\n",
      "343:\tlearn: 0.5902459\ttest: 0.5645597\tbest: 0.5656402 (140)\ttotal: 4m 32s\tremaining: 3m 22s\n",
      "344:\tlearn: 0.5903134\ttest: 0.5645597\tbest: 0.5656402 (140)\ttotal: 4m 33s\tremaining: 3m 21s\n",
      "345:\tlearn: 0.5902459\ttest: 0.5645597\tbest: 0.5656402 (140)\ttotal: 4m 33s\tremaining: 3m 21s\n",
      "346:\tlearn: 0.5902459\ttest: 0.5645597\tbest: 0.5656402 (140)\ttotal: 4m 34s\tremaining: 3m 20s\n",
      "347:\tlearn: 0.5902459\ttest: 0.5645597\tbest: 0.5656402 (140)\ttotal: 4m 35s\tremaining: 3m 19s\n",
      "348:\tlearn: 0.5902459\ttest: 0.5645597\tbest: 0.5656402 (140)\ttotal: 4m 36s\tremaining: 3m 18s\n",
      "349:\tlearn: 0.5901108\ttest: 0.5645597\tbest: 0.5656402 (140)\ttotal: 4m 37s\tremaining: 3m 17s\n",
      "350:\tlearn: 0.5901108\ttest: 0.5645597\tbest: 0.5656402 (140)\ttotal: 4m 37s\tremaining: 3m 17s\n",
      "351:\tlearn: 0.5901108\ttest: 0.5645597\tbest: 0.5656402 (140)\ttotal: 4m 38s\tremaining: 3m 16s\n",
      "352:\tlearn: 0.5901108\ttest: 0.5645597\tbest: 0.5656402 (140)\ttotal: 4m 39s\tremaining: 3m 15s\n",
      "353:\tlearn: 0.5901783\ttest: 0.5645597\tbest: 0.5656402 (140)\ttotal: 4m 40s\tremaining: 3m 14s\n",
      "354:\tlearn: 0.5901108\ttest: 0.5645597\tbest: 0.5656402 (140)\ttotal: 4m 41s\tremaining: 3m 13s\n",
      "355:\tlearn: 0.5901783\ttest: 0.5645597\tbest: 0.5656402 (140)\ttotal: 4m 41s\tremaining: 3m 13s\n",
      "356:\tlearn: 0.5901783\ttest: 0.5645597\tbest: 0.5656402 (140)\ttotal: 4m 42s\tremaining: 3m 12s\n",
      "357:\tlearn: 0.5901783\ttest: 0.5645597\tbest: 0.5656402 (140)\ttotal: 4m 43s\tremaining: 3m 11s\n",
      "358:\tlearn: 0.5901783\ttest: 0.5645597\tbest: 0.5656402 (140)\ttotal: 4m 44s\tremaining: 3m 10s\n",
      "359:\tlearn: 0.5901783\ttest: 0.5645597\tbest: 0.5656402 (140)\ttotal: 4m 44s\tremaining: 3m 9s\n",
      "360:\tlearn: 0.5901783\ttest: 0.5645597\tbest: 0.5656402 (140)\ttotal: 4m 45s\tremaining: 3m 9s\n",
      "361:\tlearn: 0.5901783\ttest: 0.5645597\tbest: 0.5656402 (140)\ttotal: 4m 46s\tremaining: 3m 8s\n",
      "362:\tlearn: 0.5901783\ttest: 0.5645597\tbest: 0.5656402 (140)\ttotal: 4m 47s\tremaining: 3m 7s\n",
      "363:\tlearn: 0.5901783\ttest: 0.5645597\tbest: 0.5656402 (140)\ttotal: 4m 48s\tremaining: 3m 6s\n",
      "364:\tlearn: 0.5901783\ttest: 0.5645597\tbest: 0.5656402 (140)\ttotal: 4m 48s\tremaining: 3m 6s\n",
      "365:\tlearn: 0.5901783\ttest: 0.5645597\tbest: 0.5656402 (140)\ttotal: 4m 49s\tremaining: 3m 5s\n",
      "366:\tlearn: 0.5901783\ttest: 0.5645597\tbest: 0.5656402 (140)\ttotal: 4m 50s\tremaining: 3m 4s\n",
      "367:\tlearn: 0.5901783\ttest: 0.5645597\tbest: 0.5656402 (140)\ttotal: 4m 51s\tremaining: 3m 3s\n",
      "368:\tlearn: 0.5901783\ttest: 0.5645597\tbest: 0.5656402 (140)\ttotal: 4m 52s\tremaining: 3m 2s\n",
      "369:\tlearn: 0.5901783\ttest: 0.5645597\tbest: 0.5656402 (140)\ttotal: 4m 52s\tremaining: 3m 2s\n",
      "370:\tlearn: 0.5901783\ttest: 0.5645597\tbest: 0.5656402 (140)\ttotal: 4m 53s\tremaining: 3m 1s\n",
      "371:\tlearn: 0.5901783\ttest: 0.5645597\tbest: 0.5656402 (140)\ttotal: 4m 54s\tremaining: 3m\n",
      "372:\tlearn: 0.5901783\ttest: 0.5645597\tbest: 0.5656402 (140)\ttotal: 4m 55s\tremaining: 2m 59s\n",
      "373:\tlearn: 0.5901783\ttest: 0.5645597\tbest: 0.5656402 (140)\ttotal: 4m 56s\tremaining: 2m 58s\n",
      "374:\tlearn: 0.5901783\ttest: 0.5645597\tbest: 0.5656402 (140)\ttotal: 4m 57s\tremaining: 2m 58s\n",
      "375:\tlearn: 0.5901783\ttest: 0.5645597\tbest: 0.5656402 (140)\ttotal: 4m 57s\tremaining: 2m 57s\n",
      "376:\tlearn: 0.5901783\ttest: 0.5645597\tbest: 0.5656402 (140)\ttotal: 4m 58s\tremaining: 2m 56s\n",
      "377:\tlearn: 0.5901783\ttest: 0.5645597\tbest: 0.5656402 (140)\ttotal: 4m 59s\tremaining: 2m 55s\n",
      "378:\tlearn: 0.5901783\ttest: 0.5645597\tbest: 0.5656402 (140)\ttotal: 5m\tremaining: 2m 55s\n",
      "379:\tlearn: 0.5901783\ttest: 0.5645597\tbest: 0.5656402 (140)\ttotal: 5m\tremaining: 2m 54s\n",
      "380:\tlearn: 0.5901783\ttest: 0.5645597\tbest: 0.5656402 (140)\ttotal: 5m 1s\tremaining: 2m 53s\n",
      "381:\tlearn: 0.5901783\ttest: 0.5645597\tbest: 0.5656402 (140)\ttotal: 5m 2s\tremaining: 2m 52s\n",
      "382:\tlearn: 0.5901783\ttest: 0.5645597\tbest: 0.5656402 (140)\ttotal: 5m 3s\tremaining: 2m 51s\n",
      "383:\tlearn: 0.5901783\ttest: 0.5645597\tbest: 0.5656402 (140)\ttotal: 5m 4s\tremaining: 2m 51s\n",
      "384:\tlearn: 0.5901108\ttest: 0.5645597\tbest: 0.5656402 (140)\ttotal: 5m 5s\tremaining: 2m 50s\n",
      "385:\tlearn: 0.5901108\ttest: 0.5645597\tbest: 0.5656402 (140)\ttotal: 5m 5s\tremaining: 2m 49s\n",
      "386:\tlearn: 0.5901783\ttest: 0.5645597\tbest: 0.5656402 (140)\ttotal: 5m 6s\tremaining: 2m 48s\n",
      "387:\tlearn: 0.5901783\ttest: 0.5645597\tbest: 0.5656402 (140)\ttotal: 5m 7s\tremaining: 2m 47s\n",
      "388:\tlearn: 0.5901783\ttest: 0.5645597\tbest: 0.5656402 (140)\ttotal: 5m 8s\tremaining: 2m 47s\n",
      "389:\tlearn: 0.5901108\ttest: 0.5645597\tbest: 0.5656402 (140)\ttotal: 5m 8s\tremaining: 2m 46s\n",
      "390:\tlearn: 0.5901108\ttest: 0.5645597\tbest: 0.5656402 (140)\ttotal: 5m 9s\tremaining: 2m 45s\n",
      "391:\tlearn: 0.5901783\ttest: 0.5645597\tbest: 0.5656402 (140)\ttotal: 5m 10s\tremaining: 2m 44s\n",
      "392:\tlearn: 0.5901783\ttest: 0.5645597\tbest: 0.5656402 (140)\ttotal: 5m 11s\tremaining: 2m 43s\n",
      "393:\tlearn: 0.5901783\ttest: 0.5645597\tbest: 0.5656402 (140)\ttotal: 5m 11s\tremaining: 2m 43s\n",
      "394:\tlearn: 0.5901783\ttest: 0.5645597\tbest: 0.5656402 (140)\ttotal: 5m 12s\tremaining: 2m 42s\n",
      "395:\tlearn: 0.5901783\ttest: 0.5645597\tbest: 0.5656402 (140)\ttotal: 5m 13s\tremaining: 2m 41s\n",
      "396:\tlearn: 0.5901783\ttest: 0.5645597\tbest: 0.5656402 (140)\ttotal: 5m 14s\tremaining: 2m 40s\n",
      "397:\tlearn: 0.5901108\ttest: 0.5645597\tbest: 0.5656402 (140)\ttotal: 5m 15s\tremaining: 2m 39s\n",
      "398:\tlearn: 0.5901783\ttest: 0.5645597\tbest: 0.5656402 (140)\ttotal: 5m 15s\tremaining: 2m 39s\n",
      "399:\tlearn: 0.5901783\ttest: 0.5645597\tbest: 0.5656402 (140)\ttotal: 5m 16s\tremaining: 2m 38s\n",
      "400:\tlearn: 0.5901108\ttest: 0.5645597\tbest: 0.5656402 (140)\ttotal: 5m 17s\tremaining: 2m 37s\n",
      "401:\tlearn: 0.5901783\ttest: 0.5645597\tbest: 0.5656402 (140)\ttotal: 5m 18s\tremaining: 2m 36s\n",
      "402:\tlearn: 0.5901108\ttest: 0.5645597\tbest: 0.5656402 (140)\ttotal: 5m 19s\tremaining: 2m 36s\n",
      "403:\tlearn: 0.5901783\ttest: 0.5645597\tbest: 0.5656402 (140)\ttotal: 5m 20s\tremaining: 2m 35s\n",
      "404:\tlearn: 0.5901108\ttest: 0.5645597\tbest: 0.5656402 (140)\ttotal: 5m 20s\tremaining: 2m 34s\n",
      "405:\tlearn: 0.5901108\ttest: 0.5645597\tbest: 0.5656402 (140)\ttotal: 5m 21s\tremaining: 2m 33s\n",
      "406:\tlearn: 0.5901783\ttest: 0.5645597\tbest: 0.5656402 (140)\ttotal: 5m 22s\tremaining: 2m 32s\n",
      "407:\tlearn: 0.5901108\ttest: 0.5645597\tbest: 0.5656402 (140)\ttotal: 5m 23s\tremaining: 2m 32s\n",
      "408:\tlearn: 0.5901108\ttest: 0.5640194\tbest: 0.5656402 (140)\ttotal: 5m 23s\tremaining: 2m 31s\n",
      "409:\tlearn: 0.5901108\ttest: 0.5640194\tbest: 0.5656402 (140)\ttotal: 5m 24s\tremaining: 2m 30s\n",
      "410:\tlearn: 0.5899757\ttest: 0.5645597\tbest: 0.5656402 (140)\ttotal: 5m 25s\tremaining: 2m 29s\n",
      "411:\tlearn: 0.5899757\ttest: 0.5645597\tbest: 0.5656402 (140)\ttotal: 5m 26s\tremaining: 2m 28s\n",
      "412:\tlearn: 0.5899081\ttest: 0.5645597\tbest: 0.5656402 (140)\ttotal: 5m 26s\tremaining: 2m 28s\n",
      "413:\tlearn: 0.5899757\ttest: 0.5645597\tbest: 0.5656402 (140)\ttotal: 5m 27s\tremaining: 2m 27s\n",
      "414:\tlearn: 0.5899757\ttest: 0.5645597\tbest: 0.5656402 (140)\ttotal: 5m 28s\tremaining: 2m 26s\n",
      "415:\tlearn: 0.5899757\ttest: 0.5645597\tbest: 0.5656402 (140)\ttotal: 5m 29s\tremaining: 2m 25s\n",
      "416:\tlearn: 0.5899757\ttest: 0.5645597\tbest: 0.5656402 (140)\ttotal: 5m 30s\tremaining: 2m 24s\n",
      "417:\tlearn: 0.5899757\ttest: 0.5645597\tbest: 0.5656402 (140)\ttotal: 5m 31s\tremaining: 2m 24s\n",
      "418:\tlearn: 0.5899757\ttest: 0.5645597\tbest: 0.5656402 (140)\ttotal: 5m 31s\tremaining: 2m 23s\n",
      "419:\tlearn: 0.5899757\ttest: 0.5645597\tbest: 0.5656402 (140)\ttotal: 5m 32s\tremaining: 2m 22s\n",
      "420:\tlearn: 0.5899757\ttest: 0.5645597\tbest: 0.5656402 (140)\ttotal: 5m 33s\tremaining: 2m 21s\n",
      "421:\tlearn: 0.5899757\ttest: 0.5645597\tbest: 0.5656402 (140)\ttotal: 5m 34s\tremaining: 2m 20s\n",
      "422:\tlearn: 0.5899757\ttest: 0.5645597\tbest: 0.5656402 (140)\ttotal: 5m 35s\tremaining: 2m 20s\n",
      "423:\tlearn: 0.5899757\ttest: 0.5645597\tbest: 0.5656402 (140)\ttotal: 5m 35s\tremaining: 2m 19s\n",
      "424:\tlearn: 0.5899757\ttest: 0.5645597\tbest: 0.5656402 (140)\ttotal: 5m 36s\tremaining: 2m 18s\n",
      "425:\tlearn: 0.5899757\ttest: 0.5645597\tbest: 0.5656402 (140)\ttotal: 5m 37s\tremaining: 2m 17s\n",
      "426:\tlearn: 0.5899757\ttest: 0.5645597\tbest: 0.5656402 (140)\ttotal: 5m 38s\tremaining: 2m 16s\n",
      "427:\tlearn: 0.5899757\ttest: 0.5645597\tbest: 0.5656402 (140)\ttotal: 5m 38s\tremaining: 2m 16s\n",
      "428:\tlearn: 0.5899757\ttest: 0.5645597\tbest: 0.5656402 (140)\ttotal: 5m 39s\tremaining: 2m 15s\n",
      "429:\tlearn: 0.5899757\ttest: 0.5645597\tbest: 0.5656402 (140)\ttotal: 5m 40s\tremaining: 2m 14s\n",
      "430:\tlearn: 0.5899757\ttest: 0.5645597\tbest: 0.5656402 (140)\ttotal: 5m 41s\tremaining: 2m 13s\n",
      "431:\tlearn: 0.5899757\ttest: 0.5645597\tbest: 0.5656402 (140)\ttotal: 5m 41s\tremaining: 2m 12s\n",
      "432:\tlearn: 0.5899757\ttest: 0.5645597\tbest: 0.5656402 (140)\ttotal: 5m 42s\tremaining: 2m 12s\n",
      "433:\tlearn: 0.5899757\ttest: 0.5642896\tbest: 0.5656402 (140)\ttotal: 5m 43s\tremaining: 2m 11s\n",
      "434:\tlearn: 0.5899757\ttest: 0.5642896\tbest: 0.5656402 (140)\ttotal: 5m 44s\tremaining: 2m 10s\n",
      "435:\tlearn: 0.5899757\ttest: 0.5642896\tbest: 0.5656402 (140)\ttotal: 5m 45s\tremaining: 2m 9s\n",
      "436:\tlearn: 0.5899757\ttest: 0.5642896\tbest: 0.5656402 (140)\ttotal: 5m 45s\tremaining: 2m 9s\n",
      "437:\tlearn: 0.5899757\ttest: 0.5642896\tbest: 0.5656402 (140)\ttotal: 5m 46s\tremaining: 2m 8s\n",
      "438:\tlearn: 0.5899757\ttest: 0.5642896\tbest: 0.5656402 (140)\ttotal: 5m 47s\tremaining: 2m 7s\n",
      "439:\tlearn: 0.5900432\ttest: 0.5642896\tbest: 0.5656402 (140)\ttotal: 5m 48s\tremaining: 2m 6s\n",
      "440:\tlearn: 0.5900432\ttest: 0.5642896\tbest: 0.5656402 (140)\ttotal: 5m 49s\tremaining: 2m 5s\n",
      "441:\tlearn: 0.5899757\ttest: 0.5642896\tbest: 0.5656402 (140)\ttotal: 5m 49s\tremaining: 2m 5s\n",
      "442:\tlearn: 0.5901783\ttest: 0.5650999\tbest: 0.5656402 (140)\ttotal: 5m 50s\tremaining: 2m 4s\n",
      "443:\tlearn: 0.5901783\ttest: 0.5650999\tbest: 0.5656402 (140)\ttotal: 5m 51s\tremaining: 2m 3s\n",
      "444:\tlearn: 0.5901783\ttest: 0.5650999\tbest: 0.5656402 (140)\ttotal: 5m 52s\tremaining: 2m 2s\n",
      "445:\tlearn: 0.5901783\ttest: 0.5650999\tbest: 0.5656402 (140)\ttotal: 5m 53s\tremaining: 2m 1s\n",
      "446:\tlearn: 0.5901108\ttest: 0.5650999\tbest: 0.5656402 (140)\ttotal: 5m 53s\tremaining: 2m 1s\n",
      "447:\tlearn: 0.5901783\ttest: 0.5650999\tbest: 0.5656402 (140)\ttotal: 5m 54s\tremaining: 2m\n",
      "448:\tlearn: 0.5901783\ttest: 0.5650999\tbest: 0.5656402 (140)\ttotal: 5m 55s\tremaining: 1m 59s\n",
      "449:\tlearn: 0.5901783\ttest: 0.5650999\tbest: 0.5656402 (140)\ttotal: 5m 56s\tremaining: 1m 58s\n",
      "450:\tlearn: 0.5901783\ttest: 0.5650999\tbest: 0.5656402 (140)\ttotal: 5m 57s\tremaining: 1m 57s\n",
      "451:\tlearn: 0.5901783\ttest: 0.5650999\tbest: 0.5656402 (140)\ttotal: 5m 57s\tremaining: 1m 57s\n",
      "452:\tlearn: 0.5901783\ttest: 0.5650999\tbest: 0.5656402 (140)\ttotal: 5m 58s\tremaining: 1m 56s\n",
      "453:\tlearn: 0.5901783\ttest: 0.5650999\tbest: 0.5656402 (140)\ttotal: 5m 59s\tremaining: 1m 55s\n",
      "454:\tlearn: 0.5901783\ttest: 0.5650999\tbest: 0.5656402 (140)\ttotal: 6m\tremaining: 1m 54s\n",
      "455:\tlearn: 0.5901108\ttest: 0.5650999\tbest: 0.5656402 (140)\ttotal: 6m 1s\tremaining: 1m 54s\n",
      "456:\tlearn: 0.5901108\ttest: 0.5650999\tbest: 0.5656402 (140)\ttotal: 6m 1s\tremaining: 1m 53s\n",
      "457:\tlearn: 0.5901108\ttest: 0.5650999\tbest: 0.5656402 (140)\ttotal: 6m 2s\tremaining: 1m 52s\n",
      "458:\tlearn: 0.5901108\ttest: 0.5650999\tbest: 0.5656402 (140)\ttotal: 6m 3s\tremaining: 1m 51s\n",
      "459:\tlearn: 0.5901783\ttest: 0.5650999\tbest: 0.5656402 (140)\ttotal: 6m 4s\tremaining: 1m 50s\n",
      "460:\tlearn: 0.5901108\ttest: 0.5650999\tbest: 0.5656402 (140)\ttotal: 6m 5s\tremaining: 1m 50s\n",
      "461:\tlearn: 0.5901108\ttest: 0.5650999\tbest: 0.5656402 (140)\ttotal: 6m 5s\tremaining: 1m 49s\n",
      "462:\tlearn: 0.5901108\ttest: 0.5650999\tbest: 0.5656402 (140)\ttotal: 6m 6s\tremaining: 1m 48s\n",
      "463:\tlearn: 0.5901783\ttest: 0.5650999\tbest: 0.5656402 (140)\ttotal: 6m 7s\tremaining: 1m 47s\n",
      "464:\tlearn: 0.5901108\ttest: 0.5650999\tbest: 0.5656402 (140)\ttotal: 6m 8s\tremaining: 1m 46s\n",
      "465:\tlearn: 0.5901108\ttest: 0.5650999\tbest: 0.5656402 (140)\ttotal: 6m 9s\tremaining: 1m 46s\n",
      "466:\tlearn: 0.5901108\ttest: 0.5650999\tbest: 0.5656402 (140)\ttotal: 6m 9s\tremaining: 1m 45s\n",
      "467:\tlearn: 0.5901108\ttest: 0.5650999\tbest: 0.5656402 (140)\ttotal: 6m 10s\tremaining: 1m 44s\n",
      "468:\tlearn: 0.5901108\ttest: 0.5650999\tbest: 0.5656402 (140)\ttotal: 6m 11s\tremaining: 1m 43s\n",
      "469:\tlearn: 0.5901108\ttest: 0.5650999\tbest: 0.5656402 (140)\ttotal: 6m 12s\tremaining: 1m 42s\n",
      "470:\tlearn: 0.5901108\ttest: 0.5659103\tbest: 0.5659103 (470)\ttotal: 6m 13s\tremaining: 1m 42s\n",
      "471:\tlearn: 0.5901108\ttest: 0.5659103\tbest: 0.5659103 (470)\ttotal: 6m 13s\tremaining: 1m 41s\n",
      "472:\tlearn: 0.5901108\ttest: 0.5659103\tbest: 0.5659103 (470)\ttotal: 6m 14s\tremaining: 1m 40s\n",
      "473:\tlearn: 0.5906512\ttest: 0.5672609\tbest: 0.5672609 (473)\ttotal: 6m 15s\tremaining: 1m 39s\n",
      "474:\tlearn: 0.5906512\ttest: 0.5672609\tbest: 0.5672609 (473)\ttotal: 6m 16s\tremaining: 1m 39s\n",
      "475:\tlearn: 0.5906512\ttest: 0.5672609\tbest: 0.5672609 (473)\ttotal: 6m 17s\tremaining: 1m 38s\n",
      "476:\tlearn: 0.5906512\ttest: 0.5672609\tbest: 0.5672609 (473)\ttotal: 6m 17s\tremaining: 1m 37s\n",
      "477:\tlearn: 0.5906512\ttest: 0.5672609\tbest: 0.5672609 (473)\ttotal: 6m 18s\tremaining: 1m 36s\n",
      "478:\tlearn: 0.5906512\ttest: 0.5672609\tbest: 0.5672609 (473)\ttotal: 6m 19s\tremaining: 1m 35s\n",
      "479:\tlearn: 0.5906512\ttest: 0.5672609\tbest: 0.5672609 (473)\ttotal: 6m 20s\tremaining: 1m 35s\n",
      "480:\tlearn: 0.5906512\ttest: 0.5672609\tbest: 0.5672609 (473)\ttotal: 6m 21s\tremaining: 1m 34s\n",
      "481:\tlearn: 0.5906512\ttest: 0.5672609\tbest: 0.5672609 (473)\ttotal: 6m 21s\tremaining: 1m 33s\n",
      "482:\tlearn: 0.5906512\ttest: 0.5672609\tbest: 0.5672609 (473)\ttotal: 6m 22s\tremaining: 1m 32s\n",
      "483:\tlearn: 0.5906512\ttest: 0.5672609\tbest: 0.5672609 (473)\ttotal: 6m 23s\tremaining: 1m 31s\n",
      "484:\tlearn: 0.5906512\ttest: 0.5672609\tbest: 0.5672609 (473)\ttotal: 6m 24s\tremaining: 1m 31s\n",
      "485:\tlearn: 0.5906512\ttest: 0.5672609\tbest: 0.5672609 (473)\ttotal: 6m 25s\tremaining: 1m 30s\n",
      "486:\tlearn: 0.5906512\ttest: 0.5672609\tbest: 0.5672609 (473)\ttotal: 6m 25s\tremaining: 1m 29s\n",
      "487:\tlearn: 0.5906512\ttest: 0.5672609\tbest: 0.5672609 (473)\ttotal: 6m 26s\tremaining: 1m 28s\n",
      "488:\tlearn: 0.5906512\ttest: 0.5672609\tbest: 0.5672609 (473)\ttotal: 6m 27s\tremaining: 1m 27s\n",
      "489:\tlearn: 0.5906512\ttest: 0.5672609\tbest: 0.5672609 (473)\ttotal: 6m 28s\tremaining: 1m 27s\n",
      "490:\tlearn: 0.5906512\ttest: 0.5672609\tbest: 0.5672609 (473)\ttotal: 6m 28s\tremaining: 1m 26s\n",
      "491:\tlearn: 0.5906512\ttest: 0.5672609\tbest: 0.5672609 (473)\ttotal: 6m 29s\tremaining: 1m 25s\n",
      "492:\tlearn: 0.5906512\ttest: 0.5672609\tbest: 0.5672609 (473)\ttotal: 6m 30s\tremaining: 1m 24s\n",
      "493:\tlearn: 0.5906512\ttest: 0.5672609\tbest: 0.5672609 (473)\ttotal: 6m 31s\tremaining: 1m 23s\n",
      "494:\tlearn: 0.5906512\ttest: 0.5672609\tbest: 0.5672609 (473)\ttotal: 6m 32s\tremaining: 1m 23s\n",
      "495:\tlearn: 0.5906512\ttest: 0.5672609\tbest: 0.5672609 (473)\ttotal: 6m 33s\tremaining: 1m 22s\n",
      "496:\tlearn: 0.5906512\ttest: 0.5672609\tbest: 0.5672609 (473)\ttotal: 6m 33s\tremaining: 1m 21s\n",
      "497:\tlearn: 0.5906512\ttest: 0.5672609\tbest: 0.5672609 (473)\ttotal: 6m 34s\tremaining: 1m 20s\n",
      "498:\tlearn: 0.5906512\ttest: 0.5672609\tbest: 0.5672609 (473)\ttotal: 6m 35s\tremaining: 1m 20s\n",
      "499:\tlearn: 0.5906512\ttest: 0.5672609\tbest: 0.5672609 (473)\ttotal: 6m 36s\tremaining: 1m 19s\n",
      "500:\tlearn: 0.5906512\ttest: 0.5672609\tbest: 0.5672609 (473)\ttotal: 6m 37s\tremaining: 1m 18s\n",
      "501:\tlearn: 0.5906512\ttest: 0.5672609\tbest: 0.5672609 (473)\ttotal: 6m 37s\tremaining: 1m 17s\n",
      "502:\tlearn: 0.5906512\ttest: 0.5672609\tbest: 0.5672609 (473)\ttotal: 6m 38s\tremaining: 1m 16s\n",
      "503:\tlearn: 0.5906512\ttest: 0.5672609\tbest: 0.5672609 (473)\ttotal: 6m 39s\tremaining: 1m 16s\n",
      "504:\tlearn: 0.5906512\ttest: 0.5672609\tbest: 0.5672609 (473)\ttotal: 6m 40s\tremaining: 1m 15s\n",
      "505:\tlearn: 0.5906512\ttest: 0.5672609\tbest: 0.5672609 (473)\ttotal: 6m 41s\tremaining: 1m 14s\n",
      "506:\tlearn: 0.5906512\ttest: 0.5672609\tbest: 0.5672609 (473)\ttotal: 6m 41s\tremaining: 1m 13s\n",
      "507:\tlearn: 0.5906512\ttest: 0.5672609\tbest: 0.5672609 (473)\ttotal: 6m 42s\tremaining: 1m 12s\n",
      "508:\tlearn: 0.5906512\ttest: 0.5672609\tbest: 0.5672609 (473)\ttotal: 6m 43s\tremaining: 1m 12s\n",
      "509:\tlearn: 0.5906512\ttest: 0.5672609\tbest: 0.5672609 (473)\ttotal: 6m 44s\tremaining: 1m 11s\n",
      "510:\tlearn: 0.5906512\ttest: 0.5672609\tbest: 0.5672609 (473)\ttotal: 6m 45s\tremaining: 1m 10s\n",
      "511:\tlearn: 0.5906512\ttest: 0.5672609\tbest: 0.5672609 (473)\ttotal: 6m 46s\tremaining: 1m 9s\n",
      "512:\tlearn: 0.5906512\ttest: 0.5672609\tbest: 0.5672609 (473)\ttotal: 6m 46s\tremaining: 1m 8s\n",
      "513:\tlearn: 0.5906512\ttest: 0.5672609\tbest: 0.5672609 (473)\ttotal: 6m 47s\tremaining: 1m 8s\n",
      "514:\tlearn: 0.5906512\ttest: 0.5672609\tbest: 0.5672609 (473)\ttotal: 6m 48s\tremaining: 1m 7s\n",
      "515:\tlearn: 0.5906512\ttest: 0.5672609\tbest: 0.5672609 (473)\ttotal: 6m 49s\tremaining: 1m 6s\n",
      "516:\tlearn: 0.5906512\ttest: 0.5672609\tbest: 0.5672609 (473)\ttotal: 6m 50s\tremaining: 1m 5s\n",
      "517:\tlearn: 0.5907187\ttest: 0.5672609\tbest: 0.5672609 (473)\ttotal: 6m 50s\tremaining: 1m 5s\n",
      "518:\tlearn: 0.5906512\ttest: 0.5672609\tbest: 0.5672609 (473)\ttotal: 6m 51s\tremaining: 1m 4s\n",
      "519:\tlearn: 0.5906512\ttest: 0.5672609\tbest: 0.5672609 (473)\ttotal: 6m 52s\tremaining: 1m 3s\n",
      "520:\tlearn: 0.5906512\ttest: 0.5672609\tbest: 0.5672609 (473)\ttotal: 6m 53s\tremaining: 1m 2s\n",
      "521:\tlearn: 0.5906512\ttest: 0.5672609\tbest: 0.5672609 (473)\ttotal: 6m 54s\tremaining: 1m 1s\n",
      "522:\tlearn: 0.5906512\ttest: 0.5672609\tbest: 0.5672609 (473)\ttotal: 6m 55s\tremaining: 1m 1s\n",
      "523:\tlearn: 0.5906512\ttest: 0.5672609\tbest: 0.5672609 (473)\ttotal: 6m 56s\tremaining: 1m\n",
      "524:\tlearn: 0.5906512\ttest: 0.5672609\tbest: 0.5672609 (473)\ttotal: 6m 56s\tremaining: 59.6s\n",
      "525:\tlearn: 0.5906512\ttest: 0.5672609\tbest: 0.5672609 (473)\ttotal: 6m 57s\tremaining: 58.8s\n",
      "526:\tlearn: 0.5906512\ttest: 0.5672609\tbest: 0.5672609 (473)\ttotal: 6m 58s\tremaining: 58s\n",
      "527:\tlearn: 0.5906512\ttest: 0.5672609\tbest: 0.5672609 (473)\ttotal: 6m 59s\tremaining: 57.2s\n",
      "528:\tlearn: 0.5906512\ttest: 0.5672609\tbest: 0.5672609 (473)\ttotal: 6m 59s\tremaining: 56.4s\n",
      "529:\tlearn: 0.5906512\ttest: 0.5672609\tbest: 0.5672609 (473)\ttotal: 7m\tremaining: 55.6s\n",
      "530:\tlearn: 0.5906512\ttest: 0.5672609\tbest: 0.5672609 (473)\ttotal: 7m 1s\tremaining: 54.8s\n",
      "531:\tlearn: 0.5906512\ttest: 0.5672609\tbest: 0.5672609 (473)\ttotal: 7m 2s\tremaining: 54s\n",
      "532:\tlearn: 0.5906512\ttest: 0.5672609\tbest: 0.5672609 (473)\ttotal: 7m 3s\tremaining: 53.2s\n",
      "533:\tlearn: 0.5906512\ttest: 0.5672609\tbest: 0.5672609 (473)\ttotal: 7m 3s\tremaining: 52.4s\n",
      "534:\tlearn: 0.5906512\ttest: 0.5672609\tbest: 0.5672609 (473)\ttotal: 7m 4s\tremaining: 51.6s\n",
      "535:\tlearn: 0.5906512\ttest: 0.5672609\tbest: 0.5672609 (473)\ttotal: 7m 5s\tremaining: 50.8s\n",
      "536:\tlearn: 0.5906512\ttest: 0.5672609\tbest: 0.5672609 (473)\ttotal: 7m 6s\tremaining: 50s\n",
      "537:\tlearn: 0.5906512\ttest: 0.5672609\tbest: 0.5672609 (473)\ttotal: 7m 7s\tremaining: 49.2s\n",
      "538:\tlearn: 0.5907187\ttest: 0.5672609\tbest: 0.5672609 (473)\ttotal: 7m 7s\tremaining: 48.4s\n",
      "539:\tlearn: 0.5906512\ttest: 0.5672609\tbest: 0.5672609 (473)\ttotal: 7m 8s\tremaining: 47.6s\n",
      "540:\tlearn: 0.5906512\ttest: 0.5672609\tbest: 0.5672609 (473)\ttotal: 7m 9s\tremaining: 46.8s\n",
      "541:\tlearn: 0.5906512\ttest: 0.5672609\tbest: 0.5672609 (473)\ttotal: 7m 10s\tremaining: 46.1s\n",
      "542:\tlearn: 0.5906512\ttest: 0.5672609\tbest: 0.5672609 (473)\ttotal: 7m 11s\tremaining: 45.3s\n",
      "543:\tlearn: 0.5906512\ttest: 0.5672609\tbest: 0.5672609 (473)\ttotal: 7m 11s\tremaining: 44.5s\n",
      "544:\tlearn: 0.5906512\ttest: 0.5672609\tbest: 0.5672609 (473)\ttotal: 7m 12s\tremaining: 43.7s\n",
      "545:\tlearn: 0.5906512\ttest: 0.5672609\tbest: 0.5672609 (473)\ttotal: 7m 13s\tremaining: 42.9s\n",
      "546:\tlearn: 0.5906512\ttest: 0.5672609\tbest: 0.5672609 (473)\ttotal: 7m 14s\tremaining: 42.1s\n",
      "547:\tlearn: 0.5906512\ttest: 0.5672609\tbest: 0.5672609 (473)\ttotal: 7m 15s\tremaining: 41.3s\n",
      "548:\tlearn: 0.5906512\ttest: 0.5672609\tbest: 0.5672609 (473)\ttotal: 7m 15s\tremaining: 40.5s\n",
      "549:\tlearn: 0.5907187\ttest: 0.5672609\tbest: 0.5672609 (473)\ttotal: 7m 16s\tremaining: 39.7s\n",
      "550:\tlearn: 0.5907187\ttest: 0.5672609\tbest: 0.5672609 (473)\ttotal: 7m 17s\tremaining: 38.9s\n",
      "551:\tlearn: 0.5906512\ttest: 0.5672609\tbest: 0.5672609 (473)\ttotal: 7m 18s\tremaining: 38.1s\n",
      "552:\tlearn: 0.5907187\ttest: 0.5672609\tbest: 0.5672609 (473)\ttotal: 7m 19s\tremaining: 37.3s\n",
      "553:\tlearn: 0.5907187\ttest: 0.5672609\tbest: 0.5672609 (473)\ttotal: 7m 19s\tremaining: 36.5s\n",
      "554:\tlearn: 0.5907187\ttest: 0.5672609\tbest: 0.5672609 (473)\ttotal: 7m 20s\tremaining: 35.7s\n",
      "555:\tlearn: 0.5907187\ttest: 0.5672609\tbest: 0.5672609 (473)\ttotal: 7m 21s\tremaining: 34.9s\n",
      "556:\tlearn: 0.5907187\ttest: 0.5672609\tbest: 0.5672609 (473)\ttotal: 7m 22s\tremaining: 34.1s\n",
      "557:\tlearn: 0.5907187\ttest: 0.5672609\tbest: 0.5672609 (473)\ttotal: 7m 22s\tremaining: 33.3s\n",
      "558:\tlearn: 0.5907187\ttest: 0.5672609\tbest: 0.5672609 (473)\ttotal: 7m 23s\tremaining: 32.5s\n",
      "559:\tlearn: 0.5907187\ttest: 0.5672609\tbest: 0.5672609 (473)\ttotal: 7m 24s\tremaining: 31.8s\n",
      "560:\tlearn: 0.5907187\ttest: 0.5672609\tbest: 0.5672609 (473)\ttotal: 7m 25s\tremaining: 31s\n",
      "561:\tlearn: 0.5907187\ttest: 0.5672609\tbest: 0.5672609 (473)\ttotal: 7m 26s\tremaining: 30.2s\n",
      "562:\tlearn: 0.5907187\ttest: 0.5672609\tbest: 0.5672609 (473)\ttotal: 7m 26s\tremaining: 29.4s\n",
      "563:\tlearn: 0.5907187\ttest: 0.5672609\tbest: 0.5672609 (473)\ttotal: 7m 27s\tremaining: 28.6s\n",
      "564:\tlearn: 0.5907187\ttest: 0.5672609\tbest: 0.5672609 (473)\ttotal: 7m 28s\tremaining: 27.8s\n",
      "565:\tlearn: 0.5907187\ttest: 0.5672609\tbest: 0.5672609 (473)\ttotal: 7m 29s\tremaining: 27s\n",
      "566:\tlearn: 0.5907187\ttest: 0.5672609\tbest: 0.5672609 (473)\ttotal: 7m 30s\tremaining: 26.2s\n",
      "567:\tlearn: 0.5907187\ttest: 0.5672609\tbest: 0.5672609 (473)\ttotal: 7m 31s\tremaining: 25.4s\n",
      "568:\tlearn: 0.5907187\ttest: 0.5672609\tbest: 0.5672609 (473)\ttotal: 7m 31s\tremaining: 24.6s\n",
      "569:\tlearn: 0.5907187\ttest: 0.5672609\tbest: 0.5672609 (473)\ttotal: 7m 32s\tremaining: 23.8s\n",
      "570:\tlearn: 0.5907187\ttest: 0.5672609\tbest: 0.5672609 (473)\ttotal: 7m 33s\tremaining: 23s\n",
      "571:\tlearn: 0.5907187\ttest: 0.5672609\tbest: 0.5672609 (473)\ttotal: 7m 34s\tremaining: 22.2s\n",
      "572:\tlearn: 0.5907187\ttest: 0.5672609\tbest: 0.5672609 (473)\ttotal: 7m 35s\tremaining: 21.4s\n",
      "573:\tlearn: 0.5907187\ttest: 0.5672609\tbest: 0.5672609 (473)\ttotal: 7m 36s\tremaining: 20.7s\n",
      "574:\tlearn: 0.5907187\ttest: 0.5672609\tbest: 0.5672609 (473)\ttotal: 7m 36s\tremaining: 19.9s\n",
      "575:\tlearn: 0.5907187\ttest: 0.5672609\tbest: 0.5672609 (473)\ttotal: 7m 37s\tremaining: 19.1s\n",
      "576:\tlearn: 0.5907187\ttest: 0.5672609\tbest: 0.5672609 (473)\ttotal: 7m 38s\tremaining: 18.3s\n",
      "577:\tlearn: 0.5907187\ttest: 0.5672609\tbest: 0.5672609 (473)\ttotal: 7m 39s\tremaining: 17.5s\n",
      "578:\tlearn: 0.5907187\ttest: 0.5672609\tbest: 0.5672609 (473)\ttotal: 7m 40s\tremaining: 16.7s\n",
      "579:\tlearn: 0.5907187\ttest: 0.5672609\tbest: 0.5672609 (473)\ttotal: 7m 40s\tremaining: 15.9s\n",
      "580:\tlearn: 0.5907187\ttest: 0.5672609\tbest: 0.5672609 (473)\ttotal: 7m 41s\tremaining: 15.1s\n",
      "581:\tlearn: 0.5907187\ttest: 0.5672609\tbest: 0.5672609 (473)\ttotal: 7m 42s\tremaining: 14.3s\n",
      "582:\tlearn: 0.5907187\ttest: 0.5672609\tbest: 0.5672609 (473)\ttotal: 7m 43s\tremaining: 13.5s\n",
      "583:\tlearn: 0.5907187\ttest: 0.5672609\tbest: 0.5672609 (473)\ttotal: 7m 44s\tremaining: 12.7s\n",
      "584:\tlearn: 0.5905161\ttest: 0.5669908\tbest: 0.5672609 (473)\ttotal: 7m 44s\tremaining: 11.9s\n",
      "585:\tlearn: 0.5905161\ttest: 0.5669908\tbest: 0.5672609 (473)\ttotal: 7m 45s\tremaining: 11.1s\n",
      "586:\tlearn: 0.5905161\ttest: 0.5669908\tbest: 0.5672609 (473)\ttotal: 7m 46s\tremaining: 10.3s\n",
      "587:\tlearn: 0.5905161\ttest: 0.5669908\tbest: 0.5672609 (473)\ttotal: 7m 47s\tremaining: 9.54s\n",
      "588:\tlearn: 0.5905161\ttest: 0.5669908\tbest: 0.5672609 (473)\ttotal: 7m 48s\tremaining: 8.74s\n",
      "589:\tlearn: 0.5905161\ttest: 0.5669908\tbest: 0.5672609 (473)\ttotal: 7m 48s\tremaining: 7.95s\n",
      "590:\tlearn: 0.5905161\ttest: 0.5669908\tbest: 0.5672609 (473)\ttotal: 7m 49s\tremaining: 7.15s\n",
      "591:\tlearn: 0.5905161\ttest: 0.5669908\tbest: 0.5672609 (473)\ttotal: 7m 50s\tremaining: 6.36s\n",
      "592:\tlearn: 0.5905161\ttest: 0.5669908\tbest: 0.5672609 (473)\ttotal: 7m 51s\tremaining: 5.56s\n",
      "593:\tlearn: 0.5905161\ttest: 0.5669908\tbest: 0.5672609 (473)\ttotal: 7m 52s\tremaining: 4.77s\n",
      "594:\tlearn: 0.5905161\ttest: 0.5669908\tbest: 0.5672609 (473)\ttotal: 7m 53s\tremaining: 3.98s\n",
      "595:\tlearn: 0.5905161\ttest: 0.5669908\tbest: 0.5672609 (473)\ttotal: 7m 53s\tremaining: 3.18s\n",
      "596:\tlearn: 0.5905161\ttest: 0.5669908\tbest: 0.5672609 (473)\ttotal: 7m 54s\tremaining: 2.38s\n",
      "597:\tlearn: 0.5905161\ttest: 0.5669908\tbest: 0.5672609 (473)\ttotal: 7m 55s\tremaining: 1.59s\n",
      "598:\tlearn: 0.5905161\ttest: 0.5669908\tbest: 0.5672609 (473)\ttotal: 7m 56s\tremaining: 795ms\n",
      "599:\tlearn: 0.5905161\ttest: 0.5669908\tbest: 0.5672609 (473)\ttotal: 7m 57s\tremaining: 0us\n",
      "\n",
      "bestTest = 0.56726094\n",
      "bestIteration = 473\n",
      "\n",
      "Shrink model to first 474 iterations.\n"
     ]
    },
    {
     "data": {
      "text/plain": [
       "<catboost.core.CatBoostClassifier at 0x26410f4e8e0>"
      ]
     },
     "execution_count": 13,
     "metadata": {},
     "output_type": "execute_result"
    }
   ],
   "source": [
    "model=CatBoostClassifier(n_estimators=600,\n",
    "                        max_depth=8,\n",
    "                        learning_rate=0.1,\n",
    "                        use_best_model=True,\n",
    "                        eval_metric='Accuracy',\n",
    "                        )\n",
    "\n",
    "model.fit(X_train, y_train, eval_set=(X_test,y_test))"
   ]
  },
  {
   "cell_type": "code",
   "execution_count": 14,
   "id": "f22f3a88-aacd-4b81-b409-740bc3adb06d",
   "metadata": {},
   "outputs": [],
   "source": [
    "y_pred=model.predict(X_test)"
   ]
  },
  {
   "cell_type": "code",
   "execution_count": 15,
   "id": "fe41b75e",
   "metadata": {},
   "outputs": [
    {
     "name": "stdout",
     "output_type": "stream",
     "text": [
      "              precision    recall  f1-score   support\n",
      "\n",
      "           0       0.34      0.51      0.41       501\n",
      "           1       0.74      0.60      0.66      1184\n",
      "           2       0.01      1.00      0.02         1\n",
      "           3       0.00      0.00      0.00         0\n",
      "           4       0.64      0.59      0.62       533\n",
      "           5       0.73      0.55      0.63      1483\n",
      "\n",
      "    accuracy                           0.57      3702\n",
      "   macro avg       0.41      0.54      0.39      3702\n",
      "weighted avg       0.67      0.57      0.61      3702\n",
      "\n"
     ]
    },
    {
     "name": "stderr",
     "output_type": "stream",
     "text": [
      "C:\\Users\\User\\anaconda3\\lib\\site-packages\\sklearn\\metrics\\_classification.py:1344: UndefinedMetricWarning: Recall and F-score are ill-defined and being set to 0.0 in labels with no true samples. Use `zero_division` parameter to control this behavior.\n",
      "  _warn_prf(average, modifier, msg_start, len(result))\n",
      "C:\\Users\\User\\anaconda3\\lib\\site-packages\\sklearn\\metrics\\_classification.py:1344: UndefinedMetricWarning: Recall and F-score are ill-defined and being set to 0.0 in labels with no true samples. Use `zero_division` parameter to control this behavior.\n",
      "  _warn_prf(average, modifier, msg_start, len(result))\n",
      "C:\\Users\\User\\anaconda3\\lib\\site-packages\\sklearn\\metrics\\_classification.py:1344: UndefinedMetricWarning: Recall and F-score are ill-defined and being set to 0.0 in labels with no true samples. Use `zero_division` parameter to control this behavior.\n",
      "  _warn_prf(average, modifier, msg_start, len(result))\n"
     ]
    }
   ],
   "source": [
    "print(classification_report(y_pred, y_test))"
   ]
  },
  {
   "cell_type": "code",
   "execution_count": null,
   "id": "74782408",
   "metadata": {},
   "outputs": [],
   "source": []
  },
  {
   "cell_type": "code",
   "execution_count": null,
   "id": "87203ee4-a5ea-48ba-b05b-09ae823e2de1",
   "metadata": {},
   "outputs": [],
   "source": []
  }
 ],
 "metadata": {
  "kernelspec": {
   "display_name": "Python 3 (ipykernel)",
   "language": "python",
   "name": "python3"
  },
  "language_info": {
   "codemirror_mode": {
    "name": "ipython",
    "version": 3
   },
   "file_extension": ".py",
   "mimetype": "text/x-python",
   "name": "python",
   "nbconvert_exporter": "python",
   "pygments_lexer": "ipython3",
   "version": "3.9.16"
  }
 },
 "nbformat": 4,
 "nbformat_minor": 5
}
